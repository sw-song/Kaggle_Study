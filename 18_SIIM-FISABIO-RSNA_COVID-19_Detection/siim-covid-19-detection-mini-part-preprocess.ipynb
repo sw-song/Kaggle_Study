{
 "cells": [
  {
   "cell_type": "markdown",
   "id": "genetic-candle",
   "metadata": {
    "_cell_guid": "b1076dfc-b9ad-4769-8c92-a6c4dae69d19",
    "_uuid": "8f2839f25d086af736a60e9eeb907d3b93b6e0e5",
    "execution": {
     "iopub.execute_input": "2021-05-27T08:57:14.31471Z",
     "iopub.status.busy": "2021-05-27T08:57:14.314239Z",
     "iopub.status.idle": "2021-05-27T08:57:14.32385Z",
     "shell.execute_reply": "2021-05-27T08:57:14.322456Z",
     "shell.execute_reply.started": "2021-05-27T08:57:14.314558Z"
    },
    "papermill": {
     "duration": 0.026159,
     "end_time": "2021-05-27T19:47:23.327845",
     "exception": false,
     "start_time": "2021-05-27T19:47:23.301686",
     "status": "completed"
    },
    "tags": []
   },
   "source": [
    "# SIIM: Step-by-Step Image Detection for Beginners \n",
    "## Mini Part. Preprocessing for Multi-Output Regression that Detect Opacities\n",
    "\n",
    "👉 Part 1. [EDA to Preprocessing](https://www.kaggle.com/songseungwon/siim-covid-19-detection-10-step-tutorial-1)\n",
    "\n",
    "👉 Part 2. [Basic Modeling - Simplest Image Classification Models using Keras](https://www.kaggle.com/songseungwon/siim-covid-19-detection-10-step-tutorial-2)"
   ]
  },
  {
   "cell_type": "markdown",
   "id": "hearing-discovery",
   "metadata": {
    "execution": {
     "iopub.execute_input": "2021-05-27T08:55:25.020013Z",
     "iopub.status.busy": "2021-05-27T08:55:25.019293Z",
     "iopub.status.idle": "2021-05-27T08:55:25.028087Z",
     "shell.execute_reply": "2021-05-27T08:55:25.026106Z",
     "shell.execute_reply.started": "2021-05-27T08:55:25.019879Z"
    },
    "papermill": {
     "duration": 0.023821,
     "end_time": "2021-05-27T19:47:23.375615",
     "exception": false,
     "start_time": "2021-05-27T19:47:23.351794",
     "status": "completed"
    },
    "tags": []
   },
   "source": [
    "> Index\n",
    "```\n",
    "Step 1. Import Dataset\n",
    "Step 2. Test Sample data(1 row) before make the preprocessing function\n",
    "     2-a. The image with the most opacity detected is taken as a sample\n",
    "     2-b. visualize resized image without boxes\n",
    "     2-c. extract position information\n",
    "     2-d. Extract all box's information for sample image.\n",
    "     2-e. Extract corrected positions that resizing ratio is calculated\n",
    "     2-f. visualize resized image with boxes\n",
    "Step 3. Build Function for reuse\n",
    "     3-a. Test the functions that go into the function\n",
    "     3-b. Build Function and Create New DataFrame with loop\n",
    "     3-c. concat dataframe and save\n",
    "```"
   ]
  },
  {
   "cell_type": "markdown",
   "id": "running-jewelry",
   "metadata": {
    "papermill": {
     "duration": 0.0239,
     "end_time": "2021-05-27T19:47:23.423529",
     "exception": false,
     "start_time": "2021-05-27T19:47:23.399629",
     "status": "completed"
    },
    "tags": []
   },
   "source": [
    "Now we are going to create a neural network (drawing boxes) that detects opacity. The model is planned to be constructed in the form of simply returning four continuous dependent variables y.\n",
    "\n",
    "To do this, we need a training dataset consisting of X matrices in the form of images and 4-y vectors.\n",
    "\n",
    "Let's create a short training dataset in this mini part."
   ]
  },
  {
   "cell_type": "markdown",
   "id": "southwest-escape",
   "metadata": {
    "papermill": {
     "duration": 0.023719,
     "end_time": "2021-05-27T19:47:23.471165",
     "exception": false,
     "start_time": "2021-05-27T19:47:23.447446",
     "status": "completed"
    },
    "tags": []
   },
   "source": [
    "## Step 1. Import Dataset"
   ]
  },
  {
   "cell_type": "code",
   "execution_count": 1,
   "id": "distributed-revolution",
   "metadata": {
    "execution": {
     "iopub.execute_input": "2021-05-27T19:47:23.529441Z",
     "iopub.status.busy": "2021-05-27T19:47:23.528706Z",
     "iopub.status.idle": "2021-05-27T19:47:23.531835Z",
     "shell.execute_reply": "2021-05-27T19:47:23.531298Z",
     "shell.execute_reply.started": "2021-05-27T17:26:25.038989Z"
    },
    "papermill": {
     "duration": 0.03695,
     "end_time": "2021-05-27T19:47:23.531980",
     "exception": false,
     "start_time": "2021-05-27T19:47:23.495030",
     "status": "completed"
    },
    "tags": []
   },
   "outputs": [],
   "source": [
    "import pandas as pd"
   ]
  },
  {
   "cell_type": "code",
   "execution_count": 2,
   "id": "preliminary-revision",
   "metadata": {
    "execution": {
     "iopub.execute_input": "2021-05-27T19:47:23.583841Z",
     "iopub.status.busy": "2021-05-27T19:47:23.583260Z",
     "iopub.status.idle": "2021-05-27T19:47:23.652535Z",
     "shell.execute_reply": "2021-05-27T19:47:23.653029Z",
     "shell.execute_reply.started": "2021-05-27T17:26:25.227823Z"
    },
    "papermill": {
     "duration": 0.097522,
     "end_time": "2021-05-27T19:47:23.653255",
     "exception": false,
     "start_time": "2021-05-27T19:47:23.555733",
     "status": "completed"
    },
    "tags": []
   },
   "outputs": [],
   "source": [
    "train_df = pd.read_csv('/kaggle/input/siim-covid19-preprocessed-datasettrain/custom_train.csv')"
   ]
  },
  {
   "cell_type": "code",
   "execution_count": 3,
   "id": "eligible-mechanism",
   "metadata": {
    "execution": {
     "iopub.execute_input": "2021-05-27T19:47:23.710616Z",
     "iopub.status.busy": "2021-05-27T19:47:23.709750Z",
     "iopub.status.idle": "2021-05-27T19:47:23.737864Z",
     "shell.execute_reply": "2021-05-27T19:47:23.738323Z",
     "shell.execute_reply.started": "2021-05-27T17:26:25.518915Z"
    },
    "papermill": {
     "duration": 0.061074,
     "end_time": "2021-05-27T19:47:23.738502",
     "exception": false,
     "start_time": "2021-05-27T19:47:23.677428",
     "status": "completed"
    },
    "tags": []
   },
   "outputs": [
    {
     "data": {
      "text/html": [
       "<div>\n",
       "<style scoped>\n",
       "    .dataframe tbody tr th:only-of-type {\n",
       "        vertical-align: middle;\n",
       "    }\n",
       "\n",
       "    .dataframe tbody tr th {\n",
       "        vertical-align: top;\n",
       "    }\n",
       "\n",
       "    .dataframe thead th {\n",
       "        text-align: right;\n",
       "    }\n",
       "</style>\n",
       "<table border=\"1\" class=\"dataframe\">\n",
       "  <thead>\n",
       "    <tr style=\"text-align: right;\">\n",
       "      <th></th>\n",
       "      <th>id</th>\n",
       "      <th>boxes</th>\n",
       "      <th>label</th>\n",
       "      <th>StudyInstanceUID</th>\n",
       "      <th>OpacityCount</th>\n",
       "      <th>Negative for Pneumonia</th>\n",
       "      <th>Typical Appearance</th>\n",
       "      <th>Indeterminate Appearance</th>\n",
       "      <th>Atypical Appearance</th>\n",
       "      <th>Opacity</th>\n",
       "      <th>origin_img_height</th>\n",
       "      <th>origin_img_width</th>\n",
       "      <th>height_ratio</th>\n",
       "      <th>width_ratio</th>\n",
       "      <th>path</th>\n",
       "    </tr>\n",
       "  </thead>\n",
       "  <tbody>\n",
       "    <tr>\n",
       "      <th>0</th>\n",
       "      <td>000a312787f2</td>\n",
       "      <td>[{'x': 789.28836, 'y': 582.43035, 'width': 102...</td>\n",
       "      <td>opacity 1 789.28836 582.43035 1815.94498 2499....</td>\n",
       "      <td>5776db0cec75</td>\n",
       "      <td>2</td>\n",
       "      <td>0</td>\n",
       "      <td>1</td>\n",
       "      <td>0</td>\n",
       "      <td>0</td>\n",
       "      <td>1</td>\n",
       "      <td>3488</td>\n",
       "      <td>4256</td>\n",
       "      <td>0.073108</td>\n",
       "      <td>0.059915</td>\n",
       "      <td>/kaggle/input/siim-covid19-resized-to-256px-jp...</td>\n",
       "    </tr>\n",
       "    <tr>\n",
       "      <th>1</th>\n",
       "      <td>000c3a3f293f</td>\n",
       "      <td>NaN</td>\n",
       "      <td>none 1 0 0 1 1</td>\n",
       "      <td>ff0879eb20ed</td>\n",
       "      <td>0</td>\n",
       "      <td>1</td>\n",
       "      <td>0</td>\n",
       "      <td>0</td>\n",
       "      <td>0</td>\n",
       "      <td>0</td>\n",
       "      <td>2320</td>\n",
       "      <td>2832</td>\n",
       "      <td>0.109914</td>\n",
       "      <td>0.090042</td>\n",
       "      <td>/kaggle/input/siim-covid19-resized-to-256px-jp...</td>\n",
       "    </tr>\n",
       "    <tr>\n",
       "      <th>2</th>\n",
       "      <td>0012ff7358bc</td>\n",
       "      <td>[{'x': 677.42216, 'y': 197.97662, 'width': 867...</td>\n",
       "      <td>opacity 1 677.42216 197.97662 1545.21983 1197....</td>\n",
       "      <td>9d514ce429a7</td>\n",
       "      <td>2</td>\n",
       "      <td>0</td>\n",
       "      <td>1</td>\n",
       "      <td>0</td>\n",
       "      <td>0</td>\n",
       "      <td>1</td>\n",
       "      <td>2544</td>\n",
       "      <td>3056</td>\n",
       "      <td>0.100236</td>\n",
       "      <td>0.083442</td>\n",
       "      <td>/kaggle/input/siim-covid19-resized-to-256px-jp...</td>\n",
       "    </tr>\n",
       "    <tr>\n",
       "      <th>3</th>\n",
       "      <td>001398f4ff4f</td>\n",
       "      <td>[{'x': 2729, 'y': 2181.33331, 'width': 948.000...</td>\n",
       "      <td>opacity 1 2729 2181.33331 3677.00012 2785.33331</td>\n",
       "      <td>28dddc8559b2</td>\n",
       "      <td>1</td>\n",
       "      <td>0</td>\n",
       "      <td>0</td>\n",
       "      <td>0</td>\n",
       "      <td>1</td>\n",
       "      <td>1</td>\n",
       "      <td>3520</td>\n",
       "      <td>4280</td>\n",
       "      <td>0.072443</td>\n",
       "      <td>0.059579</td>\n",
       "      <td>/kaggle/input/siim-covid19-resized-to-256px-jp...</td>\n",
       "    </tr>\n",
       "    <tr>\n",
       "      <th>4</th>\n",
       "      <td>001bd15d1891</td>\n",
       "      <td>[{'x': 623.23328, 'y': 1050, 'width': 714, 'he...</td>\n",
       "      <td>opacity 1 623.23328 1050 1337.23328 2156 opaci...</td>\n",
       "      <td>dfd9fdd85a3e</td>\n",
       "      <td>2</td>\n",
       "      <td>0</td>\n",
       "      <td>1</td>\n",
       "      <td>0</td>\n",
       "      <td>0</td>\n",
       "      <td>1</td>\n",
       "      <td>2800</td>\n",
       "      <td>3408</td>\n",
       "      <td>0.091071</td>\n",
       "      <td>0.074824</td>\n",
       "      <td>/kaggle/input/siim-covid19-resized-to-256px-jp...</td>\n",
       "    </tr>\n",
       "  </tbody>\n",
       "</table>\n",
       "</div>"
      ],
      "text/plain": [
       "             id                                              boxes  \\\n",
       "0  000a312787f2  [{'x': 789.28836, 'y': 582.43035, 'width': 102...   \n",
       "1  000c3a3f293f                                                NaN   \n",
       "2  0012ff7358bc  [{'x': 677.42216, 'y': 197.97662, 'width': 867...   \n",
       "3  001398f4ff4f  [{'x': 2729, 'y': 2181.33331, 'width': 948.000...   \n",
       "4  001bd15d1891  [{'x': 623.23328, 'y': 1050, 'width': 714, 'he...   \n",
       "\n",
       "                                               label StudyInstanceUID  \\\n",
       "0  opacity 1 789.28836 582.43035 1815.94498 2499....     5776db0cec75   \n",
       "1                                     none 1 0 0 1 1     ff0879eb20ed   \n",
       "2  opacity 1 677.42216 197.97662 1545.21983 1197....     9d514ce429a7   \n",
       "3    opacity 1 2729 2181.33331 3677.00012 2785.33331     28dddc8559b2   \n",
       "4  opacity 1 623.23328 1050 1337.23328 2156 opaci...     dfd9fdd85a3e   \n",
       "\n",
       "   OpacityCount  Negative for Pneumonia  Typical Appearance  \\\n",
       "0             2                       0                   1   \n",
       "1             0                       1                   0   \n",
       "2             2                       0                   1   \n",
       "3             1                       0                   0   \n",
       "4             2                       0                   1   \n",
       "\n",
       "   Indeterminate Appearance  Atypical Appearance  Opacity  origin_img_height  \\\n",
       "0                         0                    0        1               3488   \n",
       "1                         0                    0        0               2320   \n",
       "2                         0                    0        1               2544   \n",
       "3                         0                    1        1               3520   \n",
       "4                         0                    0        1               2800   \n",
       "\n",
       "   origin_img_width  height_ratio  width_ratio  \\\n",
       "0              4256      0.073108     0.059915   \n",
       "1              2832      0.109914     0.090042   \n",
       "2              3056      0.100236     0.083442   \n",
       "3              4280      0.072443     0.059579   \n",
       "4              3408      0.091071     0.074824   \n",
       "\n",
       "                                                path  \n",
       "0  /kaggle/input/siim-covid19-resized-to-256px-jp...  \n",
       "1  /kaggle/input/siim-covid19-resized-to-256px-jp...  \n",
       "2  /kaggle/input/siim-covid19-resized-to-256px-jp...  \n",
       "3  /kaggle/input/siim-covid19-resized-to-256px-jp...  \n",
       "4  /kaggle/input/siim-covid19-resized-to-256px-jp...  "
      ]
     },
     "execution_count": 3,
     "metadata": {},
     "output_type": "execute_result"
    }
   ],
   "source": [
    "train_df.head()"
   ]
  },
  {
   "cell_type": "markdown",
   "id": "italic-decrease",
   "metadata": {
    "papermill": {
     "duration": 0.023817,
     "end_time": "2021-05-27T19:47:23.787093",
     "exception": false,
     "start_time": "2021-05-27T19:47:23.763276",
     "status": "completed"
    },
    "tags": []
   },
   "source": [
    "## Step 2. Test Sample data(1 row) before make the preprocessing function"
   ]
  },
  {
   "cell_type": "markdown",
   "id": "shaped-activity",
   "metadata": {
    "papermill": {
     "duration": 0.023629,
     "end_time": "2021-05-27T19:47:23.834943",
     "exception": false,
     "start_time": "2021-05-27T19:47:23.811314",
     "status": "completed"
    },
    "tags": []
   },
   "source": [
    "### 2-a. The image with the most opacity detected is taken as a sample."
   ]
  },
  {
   "cell_type": "code",
   "execution_count": 4,
   "id": "liberal-library",
   "metadata": {
    "execution": {
     "iopub.execute_input": "2021-05-27T19:47:23.890208Z",
     "iopub.status.busy": "2021-05-27T19:47:23.889330Z",
     "iopub.status.idle": "2021-05-27T19:47:23.893969Z",
     "shell.execute_reply": "2021-05-27T19:47:23.893532Z",
     "shell.execute_reply.started": "2021-05-27T17:26:25.618441Z"
    },
    "papermill": {
     "duration": 0.035228,
     "end_time": "2021-05-27T19:47:23.894095",
     "exception": false,
     "start_time": "2021-05-27T19:47:23.858867",
     "status": "completed"
    },
    "tags": []
   },
   "outputs": [
    {
     "data": {
      "text/plain": [
       "[0, 1, 2, 3, 4, 5, 8]"
      ]
     },
     "execution_count": 4,
     "metadata": {},
     "output_type": "execute_result"
    }
   ],
   "source": [
    "sorted(train_df.OpacityCount.unique())"
   ]
  },
  {
   "cell_type": "code",
   "execution_count": 5,
   "id": "pediatric-stewart",
   "metadata": {
    "execution": {
     "iopub.execute_input": "2021-05-27T19:47:23.946841Z",
     "iopub.status.busy": "2021-05-27T19:47:23.946300Z",
     "iopub.status.idle": "2021-05-27T19:47:23.973374Z",
     "shell.execute_reply": "2021-05-27T19:47:23.973769Z",
     "shell.execute_reply.started": "2021-05-27T17:26:26.250327Z"
    },
    "papermill": {
     "duration": 0.055578,
     "end_time": "2021-05-27T19:47:23.973928",
     "exception": false,
     "start_time": "2021-05-27T19:47:23.918350",
     "status": "completed"
    },
    "tags": []
   },
   "outputs": [
    {
     "data": {
      "text/html": [
       "<div>\n",
       "<style scoped>\n",
       "    .dataframe tbody tr th:only-of-type {\n",
       "        vertical-align: middle;\n",
       "    }\n",
       "\n",
       "    .dataframe tbody tr th {\n",
       "        vertical-align: top;\n",
       "    }\n",
       "\n",
       "    .dataframe thead th {\n",
       "        text-align: right;\n",
       "    }\n",
       "</style>\n",
       "<table border=\"1\" class=\"dataframe\">\n",
       "  <thead>\n",
       "    <tr style=\"text-align: right;\">\n",
       "      <th></th>\n",
       "      <th>id</th>\n",
       "      <th>boxes</th>\n",
       "      <th>label</th>\n",
       "      <th>StudyInstanceUID</th>\n",
       "      <th>OpacityCount</th>\n",
       "      <th>Negative for Pneumonia</th>\n",
       "      <th>Typical Appearance</th>\n",
       "      <th>Indeterminate Appearance</th>\n",
       "      <th>Atypical Appearance</th>\n",
       "      <th>Opacity</th>\n",
       "      <th>origin_img_height</th>\n",
       "      <th>origin_img_width</th>\n",
       "      <th>height_ratio</th>\n",
       "      <th>width_ratio</th>\n",
       "      <th>path</th>\n",
       "    </tr>\n",
       "  </thead>\n",
       "  <tbody>\n",
       "    <tr>\n",
       "      <th>4560</th>\n",
       "      <td>b570de3efeed</td>\n",
       "      <td>[{'x': 587.42021, 'y': 1377.02752, 'width': 43...</td>\n",
       "      <td>opacity 1 587.42021 1377.02752 1021.5339799999...</td>\n",
       "      <td>4b93ca3c31ad</td>\n",
       "      <td>8</td>\n",
       "      <td>0</td>\n",
       "      <td>1</td>\n",
       "      <td>0</td>\n",
       "      <td>0</td>\n",
       "      <td>1</td>\n",
       "      <td>2544</td>\n",
       "      <td>3056</td>\n",
       "      <td>0.100236</td>\n",
       "      <td>0.083442</td>\n",
       "      <td>/kaggle/input/siim-covid19-resized-to-256px-jp...</td>\n",
       "    </tr>\n",
       "  </tbody>\n",
       "</table>\n",
       "</div>"
      ],
      "text/plain": [
       "                id                                              boxes  \\\n",
       "4560  b570de3efeed  [{'x': 587.42021, 'y': 1377.02752, 'width': 43...   \n",
       "\n",
       "                                                  label StudyInstanceUID  \\\n",
       "4560  opacity 1 587.42021 1377.02752 1021.5339799999...     4b93ca3c31ad   \n",
       "\n",
       "      OpacityCount  Negative for Pneumonia  Typical Appearance  \\\n",
       "4560             8                       0                   1   \n",
       "\n",
       "      Indeterminate Appearance  Atypical Appearance  Opacity  \\\n",
       "4560                         0                    0        1   \n",
       "\n",
       "      origin_img_height  origin_img_width  height_ratio  width_ratio  \\\n",
       "4560               2544              3056      0.100236     0.083442   \n",
       "\n",
       "                                                   path  \n",
       "4560  /kaggle/input/siim-covid19-resized-to-256px-jp...  "
      ]
     },
     "execution_count": 5,
     "metadata": {},
     "output_type": "execute_result"
    }
   ],
   "source": [
    "train_df[train_df.OpacityCount == 8]"
   ]
  },
  {
   "cell_type": "code",
   "execution_count": 6,
   "id": "answering-beauty",
   "metadata": {
    "execution": {
     "iopub.execute_input": "2021-05-27T19:47:24.026657Z",
     "iopub.status.busy": "2021-05-27T19:47:24.025839Z",
     "iopub.status.idle": "2021-05-27T19:47:24.039598Z",
     "shell.execute_reply": "2021-05-27T19:47:24.040001Z",
     "shell.execute_reply.started": "2021-05-27T17:26:26.474941Z"
    },
    "papermill": {
     "duration": 0.041391,
     "end_time": "2021-05-27T19:47:24.040169",
     "exception": false,
     "start_time": "2021-05-27T19:47:23.998778",
     "status": "completed"
    },
    "tags": []
   },
   "outputs": [
    {
     "data": {
      "text/html": [
       "<div>\n",
       "<style scoped>\n",
       "    .dataframe tbody tr th:only-of-type {\n",
       "        vertical-align: middle;\n",
       "    }\n",
       "\n",
       "    .dataframe tbody tr th {\n",
       "        vertical-align: top;\n",
       "    }\n",
       "\n",
       "    .dataframe thead th {\n",
       "        text-align: right;\n",
       "    }\n",
       "</style>\n",
       "<table border=\"1\" class=\"dataframe\">\n",
       "  <thead>\n",
       "    <tr style=\"text-align: right;\">\n",
       "      <th></th>\n",
       "      <th>id</th>\n",
       "      <th>boxes</th>\n",
       "      <th>label</th>\n",
       "      <th>StudyInstanceUID</th>\n",
       "      <th>OpacityCount</th>\n",
       "      <th>Negative for Pneumonia</th>\n",
       "      <th>Typical Appearance</th>\n",
       "      <th>Indeterminate Appearance</th>\n",
       "      <th>Atypical Appearance</th>\n",
       "      <th>Opacity</th>\n",
       "      <th>origin_img_height</th>\n",
       "      <th>origin_img_width</th>\n",
       "      <th>height_ratio</th>\n",
       "      <th>width_ratio</th>\n",
       "      <th>path</th>\n",
       "    </tr>\n",
       "  </thead>\n",
       "  <tbody>\n",
       "    <tr>\n",
       "      <th>4560</th>\n",
       "      <td>b570de3efeed</td>\n",
       "      <td>[{'x': 587.42021, 'y': 1377.02752, 'width': 43...</td>\n",
       "      <td>opacity 1 587.42021 1377.02752 1021.5339799999...</td>\n",
       "      <td>4b93ca3c31ad</td>\n",
       "      <td>8</td>\n",
       "      <td>0</td>\n",
       "      <td>1</td>\n",
       "      <td>0</td>\n",
       "      <td>0</td>\n",
       "      <td>1</td>\n",
       "      <td>2544</td>\n",
       "      <td>3056</td>\n",
       "      <td>0.100236</td>\n",
       "      <td>0.083442</td>\n",
       "      <td>/kaggle/input/siim-covid19-resized-to-256px-jp...</td>\n",
       "    </tr>\n",
       "  </tbody>\n",
       "</table>\n",
       "</div>"
      ],
      "text/plain": [
       "                id                                              boxes  \\\n",
       "4560  b570de3efeed  [{'x': 587.42021, 'y': 1377.02752, 'width': 43...   \n",
       "\n",
       "                                                  label StudyInstanceUID  \\\n",
       "4560  opacity 1 587.42021 1377.02752 1021.5339799999...     4b93ca3c31ad   \n",
       "\n",
       "      OpacityCount  Negative for Pneumonia  Typical Appearance  \\\n",
       "4560             8                       0                   1   \n",
       "\n",
       "      Indeterminate Appearance  Atypical Appearance  Opacity  \\\n",
       "4560                         0                    0        1   \n",
       "\n",
       "      origin_img_height  origin_img_width  height_ratio  width_ratio  \\\n",
       "4560               2544              3056      0.100236     0.083442   \n",
       "\n",
       "                                                   path  \n",
       "4560  /kaggle/input/siim-covid19-resized-to-256px-jp...  "
      ]
     },
     "execution_count": 6,
     "metadata": {},
     "output_type": "execute_result"
    }
   ],
   "source": [
    "sample_outlier = train_df[train_df.OpacityCount == 8]\n",
    "sample_outlier"
   ]
  },
  {
   "cell_type": "markdown",
   "id": "fancy-magic",
   "metadata": {
    "papermill": {
     "duration": 0.024805,
     "end_time": "2021-05-27T19:47:24.090202",
     "exception": false,
     "start_time": "2021-05-27T19:47:24.065397",
     "status": "completed"
    },
    "tags": []
   },
   "source": [
    "### 2-b. visualize resized image without boxes"
   ]
  },
  {
   "cell_type": "code",
   "execution_count": 7,
   "id": "diagnostic-childhood",
   "metadata": {
    "execution": {
     "iopub.execute_input": "2021-05-27T19:47:24.143907Z",
     "iopub.status.busy": "2021-05-27T19:47:24.143020Z",
     "iopub.status.idle": "2021-05-27T19:47:24.146794Z",
     "shell.execute_reply": "2021-05-27T19:47:24.147177Z",
     "shell.execute_reply.started": "2021-05-27T17:26:28.319351Z"
    },
    "papermill": {
     "duration": 0.031811,
     "end_time": "2021-05-27T19:47:24.147349",
     "exception": false,
     "start_time": "2021-05-27T19:47:24.115538",
     "status": "completed"
    },
    "tags": []
   },
   "outputs": [],
   "source": [
    "import matplotlib.pyplot as plt"
   ]
  },
  {
   "cell_type": "code",
   "execution_count": 8,
   "id": "viral-leadership",
   "metadata": {
    "execution": {
     "iopub.execute_input": "2021-05-27T19:47:24.201853Z",
     "iopub.status.busy": "2021-05-27T19:47:24.201019Z",
     "iopub.status.idle": "2021-05-27T19:47:24.230487Z",
     "shell.execute_reply": "2021-05-27T19:47:24.229591Z",
     "shell.execute_reply.started": "2021-05-27T17:26:28.994231Z"
    },
    "papermill": {
     "duration": 0.05765,
     "end_time": "2021-05-27T19:47:24.230628",
     "exception": false,
     "start_time": "2021-05-27T19:47:24.172978",
     "status": "completed"
    },
    "tags": []
   },
   "outputs": [
    {
     "data": {
      "text/plain": [
       "array([[0, 1, 1, ..., 8, 7, 6],\n",
       "       [0, 1, 1, ..., 8, 7, 6],\n",
       "       [0, 1, 2, ..., 8, 7, 6],\n",
       "       ...,\n",
       "       [0, 0, 1, ..., 7, 7, 6],\n",
       "       [0, 0, 1, ..., 4, 3, 3],\n",
       "       [0, 0, 1, ..., 1, 0, 0]], dtype=uint8)"
      ]
     },
     "execution_count": 8,
     "metadata": {},
     "output_type": "execute_result"
    }
   ],
   "source": [
    "img = plt.imread(sample_outlier.path.values[0])\n",
    "img"
   ]
  },
  {
   "cell_type": "code",
   "execution_count": 9,
   "id": "preceding-consent",
   "metadata": {
    "execution": {
     "iopub.execute_input": "2021-05-27T19:47:24.299076Z",
     "iopub.status.busy": "2021-05-27T19:47:24.298537Z",
     "iopub.status.idle": "2021-05-27T19:47:24.431268Z",
     "shell.execute_reply": "2021-05-27T19:47:24.431690Z",
     "shell.execute_reply.started": "2021-05-27T17:26:31.276092Z"
    },
    "papermill": {
     "duration": 0.175313,
     "end_time": "2021-05-27T19:47:24.431856",
     "exception": false,
     "start_time": "2021-05-27T19:47:24.256543",
     "status": "completed"
    },
    "tags": []
   },
   "outputs": [
    {
     "data": {
      "image/png": "[encoded data removed]",
      "text/plain": [
       "<Figure size 432x288 with 1 Axes>"
      ]
     },
     "metadata": {
      "needs_background": "light"
     },
     "output_type": "display_data"
    }
   ],
   "source": [
    "plt.imshow(img, cmap='gray');"
   ]
  },
  {
   "cell_type": "markdown",
   "id": "maritime-humor",
   "metadata": {
    "papermill": {
     "duration": 0.026681,
     "end_time": "2021-05-27T19:47:24.486437",
     "exception": false,
     "start_time": "2021-05-27T19:47:24.459756",
     "status": "completed"
    },
    "tags": []
   },
   "source": [
    "### 2-c. extract position information"
   ]
  },
  {
   "cell_type": "code",
   "execution_count": 10,
   "id": "narrative-namibia",
   "metadata": {
    "execution": {
     "iopub.execute_input": "2021-05-27T19:47:24.543465Z",
     "iopub.status.busy": "2021-05-27T19:47:24.542603Z",
     "iopub.status.idle": "2021-05-27T19:47:24.547575Z",
     "shell.execute_reply": "2021-05-27T19:47:24.547978Z",
     "shell.execute_reply.started": "2021-05-27T17:26:31.547994Z"
    },
    "papermill": {
     "duration": 0.034744,
     "end_time": "2021-05-27T19:47:24.548129",
     "exception": false,
     "start_time": "2021-05-27T19:47:24.513385",
     "status": "completed"
    },
    "tags": []
   },
   "outputs": [
    {
     "data": {
      "text/plain": [
       "\"[{'x': 587.42021, 'y': 1377.02752, 'width': 434.11377, 'height': 196.05139}, {'x': 503.39817, 'y': 1092.28628, 'width': 191.38351, 'height': 70.01831}, {'x': 540.74129, 'y': 802.87709, 'width': 149.3725, 'height': 121.36511}, {'x': 620.09541, 'y': 471.45691, 'width': 200.7193, 'height': 144.70456}, {'x': 2048.46975, 'y': 494.79633, 'width': 98.02563, 'height': 140.03668}, {'x': 2235.18535, 'y': 1040.93945, 'width': 172.71191, 'height': 116.69727}, {'x': 2263.19269, 'y': 1395.69908, 'width': 158.70825, 'height': 266.0697}, {'x': 2193.17433, 'y': 452.7853, 'width': 130.70093, 'height': 93.35782}]\""
      ]
     },
     "execution_count": 10,
     "metadata": {},
     "output_type": "execute_result"
    }
   ],
   "source": [
    "sample_box_position = sample_outlier.boxes.values[0]\n",
    "sample_box_position"
   ]
  },
  {
   "cell_type": "code",
   "execution_count": 11,
   "id": "incomplete-muslim",
   "metadata": {
    "execution": {
     "iopub.execute_input": "2021-05-27T19:47:24.607962Z",
     "iopub.status.busy": "2021-05-27T19:47:24.607068Z",
     "iopub.status.idle": "2021-05-27T19:47:24.611648Z",
     "shell.execute_reply": "2021-05-27T19:47:24.611148Z",
     "shell.execute_reply.started": "2021-05-27T17:26:33.443783Z"
    },
    "papermill": {
     "duration": 0.036218,
     "end_time": "2021-05-27T19:47:24.611772",
     "exception": false,
     "start_time": "2021-05-27T19:47:24.575554",
     "status": "completed"
    },
    "tags": []
   },
   "outputs": [
    {
     "name": "stdout",
     "output_type": "stream",
     "text": [
      "count of x :  8\n",
      "count of y :  8\n",
      "count of height :  8\n",
      "count of width :  8\n"
     ]
    }
   ],
   "source": [
    "print('count of x : ',sample_box_position.count('x'))\n",
    "print('count of y : ',sample_box_position.count('y'))\n",
    "print('count of height : ',sample_box_position.count('height'))\n",
    "print('count of width : ',sample_box_position.count('width'))"
   ]
  },
  {
   "cell_type": "code",
   "execution_count": 12,
   "id": "outside-polyester",
   "metadata": {
    "execution": {
     "iopub.execute_input": "2021-05-27T19:47:24.672660Z",
     "iopub.status.busy": "2021-05-27T19:47:24.672007Z",
     "iopub.status.idle": "2021-05-27T19:47:24.675460Z",
     "shell.execute_reply": "2021-05-27T19:47:24.674913Z",
     "shell.execute_reply.started": "2021-05-27T17:26:34.998699Z"
    },
    "papermill": {
     "duration": 0.035953,
     "end_time": "2021-05-27T19:47:24.675590",
     "exception": false,
     "start_time": "2021-05-27T19:47:24.639637",
     "status": "completed"
    },
    "tags": []
   },
   "outputs": [
    {
     "name": "stdout",
     "output_type": "stream",
     "text": [
      "['587.42021', '1377.02752', '434.11377', '196.05139', '503.39817', '1092.28628', '191.38351', '70.01831', '540.74129', '802.87709', '149.3725', '121.36511', '620.09541', '471.45691', '200.7193', '144.70456', '2048.46975', '494.79633', '98.02563', '140.03668', '2235.18535', '1040.93945', '172.71191', '116.69727', '2263.19269', '1395.69908', '158.70825', '266.0697', '2193.17433', '452.7853', '130.70093', '93.35782']\n"
     ]
    }
   ],
   "source": [
    "import re\n",
    "p = re.compile(\"[-+]?\\d*\\.\\d+|\\d+\") # extract floats from a string\n",
    "p_list = p.findall(sample_box_position) # return in word bundle form\n",
    "print(p_list)\n",
    "\n",
    "# ^ : start char string\n",
    "# [0-9] : range (all of numbers)\n",
    "# + : no limit of count of each number\n",
    "# $ : end char string"
   ]
  },
  {
   "cell_type": "code",
   "execution_count": 13,
   "id": "incredible-harmony",
   "metadata": {
    "execution": {
     "iopub.execute_input": "2021-05-27T19:47:24.736363Z",
     "iopub.status.busy": "2021-05-27T19:47:24.735515Z",
     "iopub.status.idle": "2021-05-27T19:47:24.739562Z",
     "shell.execute_reply": "2021-05-27T19:47:24.739126Z",
     "shell.execute_reply.started": "2021-05-27T17:26:36.571473Z"
    },
    "papermill": {
     "duration": 0.035934,
     "end_time": "2021-05-27T19:47:24.739692",
     "exception": false,
     "start_time": "2021-05-27T19:47:24.703758",
     "status": "completed"
    },
    "tags": []
   },
   "outputs": [
    {
     "data": {
      "text/plain": [
       "8"
      ]
     },
     "execution_count": 13,
     "metadata": {},
     "output_type": "execute_result"
    }
   ],
   "source": [
    "count_box = len(p_list) // 4\n",
    "count_box"
   ]
  },
  {
   "cell_type": "markdown",
   "id": "geographic-mechanics",
   "metadata": {
    "execution": {
     "iopub.execute_input": "2021-05-27T19:05:16.690031Z",
     "iopub.status.busy": "2021-05-27T19:05:16.689531Z",
     "iopub.status.idle": "2021-05-27T19:05:16.695305Z",
     "shell.execute_reply": "2021-05-27T19:05:16.694218Z",
     "shell.execute_reply.started": "2021-05-27T19:05:16.689993Z"
    },
    "papermill": {
     "duration": 0.027382,
     "end_time": "2021-05-27T19:47:24.794711",
     "exception": false,
     "start_time": "2021-05-27T19:47:24.767329",
     "status": "completed"
    },
    "tags": []
   },
   "source": [
    "### 2-d. Extract all box's information for sample image."
   ]
  },
  {
   "cell_type": "code",
   "execution_count": 14,
   "id": "balanced-flooring",
   "metadata": {
    "execution": {
     "iopub.execute_input": "2021-05-27T19:47:24.858201Z",
     "iopub.status.busy": "2021-05-27T19:47:24.857629Z",
     "iopub.status.idle": "2021-05-27T19:47:24.860842Z",
     "shell.execute_reply": "2021-05-27T19:47:24.860330Z",
     "shell.execute_reply.started": "2021-05-27T17:26:38.248836Z"
    },
    "papermill": {
     "duration": 0.037098,
     "end_time": "2021-05-27T19:47:24.860960",
     "exception": false,
     "start_time": "2021-05-27T19:47:24.823862",
     "status": "completed"
    },
    "tags": []
   },
   "outputs": [
    {
     "name": "stdout",
     "output_type": "stream",
     "text": [
      "x_idx :  [0, 4, 8, 12, 16, 20, 24, 28]\n",
      "y_idx :  [1, 5, 9, 13, 17, 21, 25, 29]\n",
      "height_idx :  [2, 6, 10, 14, 18, 22, 26, 30]\n",
      "width_idx :  [3, 7, 11, 15, 19, 23, 27, 31]\n"
     ]
    }
   ],
   "source": [
    "x_idx = []\n",
    "y_idx = []\n",
    "height_idx = []\n",
    "width_idx = []\n",
    "for i in range(count_box):\n",
    "    i *= 4\n",
    "    x_idx.append(i)\n",
    "    y_idx.append(i+1)\n",
    "    height_idx.append(i+2)\n",
    "    width_idx.append(i+3)\n",
    "print('x_idx : ',x_idx)\n",
    "print('y_idx : ',y_idx)\n",
    "print('height_idx : ',height_idx)\n",
    "print('width_idx : ',width_idx)"
   ]
  },
  {
   "cell_type": "code",
   "execution_count": 15,
   "id": "classical-joint",
   "metadata": {
    "execution": {
     "iopub.execute_input": "2021-05-27T19:47:24.921326Z",
     "iopub.status.busy": "2021-05-27T19:47:24.920748Z",
     "iopub.status.idle": "2021-05-27T19:47:24.923250Z",
     "shell.execute_reply": "2021-05-27T19:47:24.923668Z",
     "shell.execute_reply.started": "2021-05-27T17:26:39.415572Z"
    },
    "papermill": {
     "duration": 0.034839,
     "end_time": "2021-05-27T19:47:24.923829",
     "exception": false,
     "start_time": "2021-05-27T19:47:24.888990",
     "status": "completed"
    },
    "tags": []
   },
   "outputs": [
    {
     "data": {
      "text/plain": [
       "['587.42021',\n",
       " '503.39817',\n",
       " '540.74129',\n",
       " '620.09541',\n",
       " '2048.46975',\n",
       " '2235.18535',\n",
       " '2263.19269',\n",
       " '2193.17433']"
      ]
     },
     "execution_count": 15,
     "metadata": {},
     "output_type": "execute_result"
    }
   ],
   "source": [
    "[p_list[x] for x in x_idx]"
   ]
  },
  {
   "cell_type": "code",
   "execution_count": 16,
   "id": "historical-communications",
   "metadata": {
    "execution": {
     "iopub.execute_input": "2021-05-27T19:47:24.982944Z",
     "iopub.status.busy": "2021-05-27T19:47:24.982375Z",
     "iopub.status.idle": "2021-05-27T19:47:24.990242Z",
     "shell.execute_reply": "2021-05-27T19:47:24.989571Z",
     "shell.execute_reply.started": "2021-05-27T17:26:42.751804Z"
    },
    "papermill": {
     "duration": 0.038303,
     "end_time": "2021-05-27T19:47:24.990417",
     "exception": false,
     "start_time": "2021-05-27T19:47:24.952114",
     "status": "completed"
    },
    "tags": []
   },
   "outputs": [
    {
     "name": "stdout",
     "output_type": "stream",
     "text": [
      "x_list :  [587.42021, 503.39817, 540.74129, 620.09541, 2048.46975, 2235.18535, 2263.19269, 2193.17433]\n",
      "y_list :  [1377.02752, 1092.28628, 802.87709, 471.45691, 494.79633, 1040.93945, 1395.69908, 452.7853]\n",
      "height_list :  [434.11377, 191.38351, 149.3725, 200.7193, 98.02563, 172.71191, 158.70825, 130.70093]\n",
      "width_list :  [196.05139, 70.01831, 121.36511, 144.70456, 140.03668, 116.69727, 266.0697, 93.35782]\n"
     ]
    }
   ],
   "source": [
    "x_list = [float(p_list[idx]) for idx in x_idx]\n",
    "y_list = [float(p_list[idx]) for idx in y_idx]\n",
    "height_list = [float(p_list[idx]) for idx in height_idx]\n",
    "width_list = [float(p_list[idx]) for idx in width_idx]\n",
    "print('x_list : ',x_list)\n",
    "print('y_list : ',y_list)\n",
    "print('height_list : ',height_list)\n",
    "print('width_list : ',width_list)"
   ]
  },
  {
   "cell_type": "markdown",
   "id": "internal-planning",
   "metadata": {
    "papermill": {
     "duration": 0.028647,
     "end_time": "2021-05-27T19:47:25.048959",
     "exception": false,
     "start_time": "2021-05-27T19:47:25.020312",
     "status": "completed"
    },
    "tags": []
   },
   "source": [
    "### 2-e. Extract corrected positions that resizing ratio is calculated"
   ]
  },
  {
   "cell_type": "code",
   "execution_count": 17,
   "id": "stainless-passage",
   "metadata": {
    "execution": {
     "iopub.execute_input": "2021-05-27T19:47:25.112627Z",
     "iopub.status.busy": "2021-05-27T19:47:25.111712Z",
     "iopub.status.idle": "2021-05-27T19:47:25.123891Z",
     "shell.execute_reply": "2021-05-27T19:47:25.123312Z",
     "shell.execute_reply.started": "2021-05-27T17:26:45.665314Z"
    },
    "papermill": {
     "duration": 0.046138,
     "end_time": "2021-05-27T19:47:25.124025",
     "exception": false,
     "start_time": "2021-05-27T19:47:25.077887",
     "status": "completed"
    },
    "tags": []
   },
   "outputs": [
    {
     "data": {
      "text/html": [
       "<div>\n",
       "<style scoped>\n",
       "    .dataframe tbody tr th:only-of-type {\n",
       "        vertical-align: middle;\n",
       "    }\n",
       "\n",
       "    .dataframe tbody tr th {\n",
       "        vertical-align: top;\n",
       "    }\n",
       "\n",
       "    .dataframe thead th {\n",
       "        text-align: right;\n",
       "    }\n",
       "</style>\n",
       "<table border=\"1\" class=\"dataframe\">\n",
       "  <thead>\n",
       "    <tr style=\"text-align: right;\">\n",
       "      <th></th>\n",
       "      <th>id</th>\n",
       "      <th>boxes</th>\n",
       "      <th>label</th>\n",
       "      <th>StudyInstanceUID</th>\n",
       "      <th>OpacityCount</th>\n",
       "      <th>Negative for Pneumonia</th>\n",
       "      <th>Typical Appearance</th>\n",
       "      <th>Indeterminate Appearance</th>\n",
       "      <th>Atypical Appearance</th>\n",
       "      <th>Opacity</th>\n",
       "      <th>origin_img_height</th>\n",
       "      <th>origin_img_width</th>\n",
       "      <th>height_ratio</th>\n",
       "      <th>width_ratio</th>\n",
       "      <th>path</th>\n",
       "    </tr>\n",
       "  </thead>\n",
       "  <tbody>\n",
       "    <tr>\n",
       "      <th>4560</th>\n",
       "      <td>b570de3efeed</td>\n",
       "      <td>[{'x': 587.42021, 'y': 1377.02752, 'width': 43...</td>\n",
       "      <td>opacity 1 587.42021 1377.02752 1021.5339799999...</td>\n",
       "      <td>4b93ca3c31ad</td>\n",
       "      <td>8</td>\n",
       "      <td>0</td>\n",
       "      <td>1</td>\n",
       "      <td>0</td>\n",
       "      <td>0</td>\n",
       "      <td>1</td>\n",
       "      <td>2544</td>\n",
       "      <td>3056</td>\n",
       "      <td>0.100236</td>\n",
       "      <td>0.083442</td>\n",
       "      <td>/kaggle/input/siim-covid19-resized-to-256px-jp...</td>\n",
       "    </tr>\n",
       "  </tbody>\n",
       "</table>\n",
       "</div>"
      ],
      "text/plain": [
       "                id                                              boxes  \\\n",
       "4560  b570de3efeed  [{'x': 587.42021, 'y': 1377.02752, 'width': 43...   \n",
       "\n",
       "                                                  label StudyInstanceUID  \\\n",
       "4560  opacity 1 587.42021 1377.02752 1021.5339799999...     4b93ca3c31ad   \n",
       "\n",
       "      OpacityCount  Negative for Pneumonia  Typical Appearance  \\\n",
       "4560             8                       0                   1   \n",
       "\n",
       "      Indeterminate Appearance  Atypical Appearance  Opacity  \\\n",
       "4560                         0                    0        1   \n",
       "\n",
       "      origin_img_height  origin_img_width  height_ratio  width_ratio  \\\n",
       "4560               2544              3056      0.100236     0.083442   \n",
       "\n",
       "                                                   path  \n",
       "4560  /kaggle/input/siim-covid19-resized-to-256px-jp...  "
      ]
     },
     "execution_count": 17,
     "metadata": {},
     "output_type": "execute_result"
    }
   ],
   "source": [
    "train_df[train_df.OpacityCount == 8]"
   ]
  },
  {
   "cell_type": "code",
   "execution_count": 18,
   "id": "native-sarah",
   "metadata": {
    "execution": {
     "iopub.execute_input": "2021-05-27T19:47:25.189579Z",
     "iopub.status.busy": "2021-05-27T19:47:25.188995Z",
     "iopub.status.idle": "2021-05-27T19:47:25.191616Z",
     "shell.execute_reply": "2021-05-27T19:47:25.191160Z",
     "shell.execute_reply.started": "2021-05-27T17:26:49.567326Z"
    },
    "papermill": {
     "duration": 0.038395,
     "end_time": "2021-05-27T19:47:25.191742",
     "exception": false,
     "start_time": "2021-05-27T19:47:25.153347",
     "status": "completed"
    },
    "tags": []
   },
   "outputs": [],
   "source": [
    "sample_height_ratio = train_df[train_df.OpacityCount == 8].height_ratio.values\n",
    "sample_width_ratio = train_df[train_df.OpacityCount == 8].width_ratio.values"
   ]
  },
  {
   "cell_type": "code",
   "execution_count": 19,
   "id": "compressed-microphone",
   "metadata": {
    "execution": {
     "iopub.execute_input": "2021-05-27T19:47:25.254014Z",
     "iopub.status.busy": "2021-05-27T19:47:25.253276Z",
     "iopub.status.idle": "2021-05-27T19:47:25.256332Z",
     "shell.execute_reply": "2021-05-27T19:47:25.256778Z",
     "shell.execute_reply.started": "2021-05-27T17:27:02.352437Z"
    },
    "papermill": {
     "duration": 0.036169,
     "end_time": "2021-05-27T19:47:25.256924",
     "exception": false,
     "start_time": "2021-05-27T19:47:25.220755",
     "status": "completed"
    },
    "tags": []
   },
   "outputs": [
    {
     "data": {
      "text/plain": [
       "[587.42021,\n",
       " 503.39817,\n",
       " 540.74129,\n",
       " 620.09541,\n",
       " 2048.46975,\n",
       " 2235.18535,\n",
       " 2263.19269,\n",
       " 2193.17433]"
      ]
     },
     "execution_count": 19,
     "metadata": {},
     "output_type": "execute_result"
    }
   ],
   "source": [
    "x_list"
   ]
  },
  {
   "cell_type": "code",
   "execution_count": 20,
   "id": "surrounded-stretch",
   "metadata": {
    "execution": {
     "iopub.execute_input": "2021-05-27T19:47:25.318558Z",
     "iopub.status.busy": "2021-05-27T19:47:25.317980Z",
     "iopub.status.idle": "2021-05-27T19:47:25.322053Z",
     "shell.execute_reply": "2021-05-27T19:47:25.322466Z",
     "shell.execute_reply.started": "2021-05-27T17:27:20.562507Z"
    },
    "papermill": {
     "duration": 0.035954,
     "end_time": "2021-05-27T19:47:25.322616",
     "exception": false,
     "start_time": "2021-05-27T19:47:25.286662",
     "status": "completed"
    },
    "tags": []
   },
   "outputs": [
    {
     "data": {
      "text/plain": [
       "array([0.10023585])"
      ]
     },
     "execution_count": 20,
     "metadata": {},
     "output_type": "execute_result"
    }
   ],
   "source": [
    "sample_height_ratio"
   ]
  },
  {
   "cell_type": "code",
   "execution_count": 21,
   "id": "liked-debate",
   "metadata": {
    "execution": {
     "iopub.execute_input": "2021-05-27T19:47:25.383493Z",
     "iopub.status.busy": "2021-05-27T19:47:25.382926Z",
     "iopub.status.idle": "2021-05-27T19:47:25.386683Z",
     "shell.execute_reply": "2021-05-27T19:47:25.387034Z",
     "shell.execute_reply.started": "2021-05-27T17:27:20.721312Z"
    },
    "papermill": {
     "duration": 0.035344,
     "end_time": "2021-05-27T19:47:25.387205",
     "exception": false,
     "start_time": "2021-05-27T19:47:25.351861",
     "status": "completed"
    },
    "tags": []
   },
   "outputs": [],
   "source": [
    "resized_x_list = x_list*sample_width_ratio\n",
    "resized_y_list = y_list*sample_height_ratio\n",
    "resized_width_list = width_list*sample_width_ratio\n",
    "resized_height_list = height_list*sample_height_ratio"
   ]
  },
  {
   "cell_type": "code",
   "execution_count": 22,
   "id": "legitimate-philippines",
   "metadata": {
    "execution": {
     "iopub.execute_input": "2021-05-27T19:47:25.450783Z",
     "iopub.status.busy": "2021-05-27T19:47:25.450110Z",
     "iopub.status.idle": "2021-05-27T19:47:25.453874Z",
     "shell.execute_reply": "2021-05-27T19:47:25.453133Z",
     "shell.execute_reply.started": "2021-05-27T17:27:20.888115Z"
    },
    "papermill": {
     "duration": 0.037682,
     "end_time": "2021-05-27T19:47:25.454043",
     "exception": false,
     "start_time": "2021-05-27T19:47:25.416361",
     "status": "completed"
    },
    "tags": []
   },
   "outputs": [
    {
     "name": "stdout",
     "output_type": "stream",
     "text": [
      "resized_x_list : \n",
      " [ 49.01575705  42.00475568  45.12075555  51.74225443 170.92924943\n",
      " 186.50924877 188.84624867 183.00374809]\n",
      "resized_y_list : \n",
      " [138.02752264 109.48624269  80.4770668   47.25688367  49.59633025\n",
      " 104.33944959 139.89908231  45.38531899]\n",
      "resized_width_list : \n",
      " [16.35900015  5.84249642 10.12699707 12.07449699 11.68499784  9.73750126\n",
      " 22.20149656  7.79000134]\n",
      "resized_height_list : \n",
      " [43.51376232 19.18348862 14.97247936 20.11926946  9.82568225 17.31192494\n",
      " 15.90825619 13.10091869]\n"
     ]
    }
   ],
   "source": [
    "print('resized_x_list : \\n',resized_x_list)\n",
    "print('resized_y_list : \\n',resized_y_list)\n",
    "print('resized_width_list : \\n',resized_width_list)\n",
    "print('resized_height_list : \\n',resized_height_list)"
   ]
  },
  {
   "cell_type": "markdown",
   "id": "standing-authorization",
   "metadata": {
    "papermill": {
     "duration": 0.029674,
     "end_time": "2021-05-27T19:47:25.514430",
     "exception": false,
     "start_time": "2021-05-27T19:47:25.484756",
     "status": "completed"
    },
    "tags": []
   },
   "source": [
    "### 2-f. visualize resized image with boxes"
   ]
  },
  {
   "cell_type": "code",
   "execution_count": 23,
   "id": "smooth-allah",
   "metadata": {
    "execution": {
     "iopub.execute_input": "2021-05-27T19:47:25.577445Z",
     "iopub.status.busy": "2021-05-27T19:47:25.576875Z",
     "iopub.status.idle": "2021-05-27T19:47:25.579324Z",
     "shell.execute_reply": "2021-05-27T19:47:25.578858Z",
     "shell.execute_reply.started": "2021-05-27T17:27:21.228643Z"
    },
    "papermill": {
     "duration": 0.035412,
     "end_time": "2021-05-27T19:47:25.579442",
     "exception": false,
     "start_time": "2021-05-27T19:47:25.544030",
     "status": "completed"
    },
    "tags": []
   },
   "outputs": [],
   "source": [
    "import matplotlib\n",
    "import matplotlib.pyplot as plt"
   ]
  },
  {
   "cell_type": "code",
   "execution_count": 24,
   "id": "coordinate-tribe",
   "metadata": {
    "execution": {
     "iopub.execute_input": "2021-05-27T19:47:25.640875Z",
     "iopub.status.busy": "2021-05-27T19:47:25.640373Z",
     "iopub.status.idle": "2021-05-27T19:47:25.644562Z",
     "shell.execute_reply": "2021-05-27T19:47:25.645039Z",
     "shell.execute_reply.started": "2021-05-27T17:27:21.398218Z"
    },
    "papermill": {
     "duration": 0.036149,
     "end_time": "2021-05-27T19:47:25.645202",
     "exception": false,
     "start_time": "2021-05-27T19:47:25.609053",
     "status": "completed"
    },
    "tags": []
   },
   "outputs": [
    {
     "data": {
      "text/plain": [
       "array([ 49.01575705,  42.00475568,  45.12075555,  51.74225443,\n",
       "       170.92924943, 186.50924877, 188.84624867, 183.00374809])"
      ]
     },
     "execution_count": 24,
     "metadata": {},
     "output_type": "execute_result"
    }
   ],
   "source": [
    "resized_x_list"
   ]
  },
  {
   "cell_type": "code",
   "execution_count": 25,
   "id": "sexual-jewel",
   "metadata": {
    "execution": {
     "iopub.execute_input": "2021-05-27T19:47:25.706891Z",
     "iopub.status.busy": "2021-05-27T19:47:25.706388Z",
     "iopub.status.idle": "2021-05-27T19:47:25.710420Z",
     "shell.execute_reply": "2021-05-27T19:47:25.710881Z",
     "shell.execute_reply.started": "2021-05-27T17:27:21.628288Z"
    },
    "papermill": {
     "duration": 0.036078,
     "end_time": "2021-05-27T19:47:25.711033",
     "exception": false,
     "start_time": "2021-05-27T19:47:25.674955",
     "status": "completed"
    },
    "tags": []
   },
   "outputs": [
    {
     "data": {
      "text/plain": [
       "8"
      ]
     },
     "execution_count": 25,
     "metadata": {},
     "output_type": "execute_result"
    }
   ],
   "source": [
    "count_box"
   ]
  },
  {
   "cell_type": "code",
   "execution_count": 26,
   "id": "other-hacker",
   "metadata": {
    "execution": {
     "iopub.execute_input": "2021-05-27T19:47:25.773566Z",
     "iopub.status.busy": "2021-05-27T19:47:25.772970Z",
     "iopub.status.idle": "2021-05-27T19:47:25.918575Z",
     "shell.execute_reply": "2021-05-27T19:47:25.918998Z",
     "shell.execute_reply.started": "2021-05-27T17:27:23.516312Z"
    },
    "papermill": {
     "duration": 0.177948,
     "end_time": "2021-05-27T19:47:25.919167",
     "exception": false,
     "start_time": "2021-05-27T19:47:25.741219",
     "status": "completed"
    },
    "tags": []
   },
   "outputs": [
    {
     "data": {
      "image/png": "[encoded data removed]",
      "text/plain": [
       "<Figure size 288x288 with 1 Axes>"
      ]
     },
     "metadata": {
      "needs_background": "light"
     },
     "output_type": "display_data"
    }
   ],
   "source": [
    "fig, ax = plt.subplots(1,1, figsize=(4,4))\n",
    "for i in range(count_box):\n",
    "    p = matplotlib.patches.Rectangle((resized_x_list[i], resized_y_list[i]),\n",
    "                                      resized_width_list[i], resized_height_list[i],\n",
    "                                      ec='r', fc='none', lw=2.)\n",
    "    ax.add_patch(p)\n",
    "    \n",
    "ax.imshow(img, cmap='gray')\n",
    "plt.show()"
   ]
  },
  {
   "cell_type": "markdown",
   "id": "figured-briefing",
   "metadata": {
    "papermill": {
     "duration": 0.031262,
     "end_time": "2021-05-27T19:47:25.982196",
     "exception": false,
     "start_time": "2021-05-27T19:47:25.950934",
     "status": "completed"
    },
    "tags": []
   },
   "source": [
    "## Step 3. Build Function for reuse"
   ]
  },
  {
   "cell_type": "code",
   "execution_count": 27,
   "id": "norman-calgary",
   "metadata": {
    "execution": {
     "iopub.execute_input": "2021-05-27T19:47:26.048956Z",
     "iopub.status.busy": "2021-05-27T19:47:26.048408Z",
     "iopub.status.idle": "2021-05-27T19:47:26.062951Z",
     "shell.execute_reply": "2021-05-27T19:47:26.063444Z",
     "shell.execute_reply.started": "2021-05-27T17:27:23.76877Z"
    },
    "papermill": {
     "duration": 0.049277,
     "end_time": "2021-05-27T19:47:26.063611",
     "exception": false,
     "start_time": "2021-05-27T19:47:26.014334",
     "status": "completed"
    },
    "tags": []
   },
   "outputs": [
    {
     "data": {
      "text/html": [
       "<div>\n",
       "<style scoped>\n",
       "    .dataframe tbody tr th:only-of-type {\n",
       "        vertical-align: middle;\n",
       "    }\n",
       "\n",
       "    .dataframe tbody tr th {\n",
       "        vertical-align: top;\n",
       "    }\n",
       "\n",
       "    .dataframe thead th {\n",
       "        text-align: right;\n",
       "    }\n",
       "</style>\n",
       "<table border=\"1\" class=\"dataframe\">\n",
       "  <thead>\n",
       "    <tr style=\"text-align: right;\">\n",
       "      <th></th>\n",
       "      <th>id</th>\n",
       "      <th>boxes</th>\n",
       "      <th>label</th>\n",
       "      <th>StudyInstanceUID</th>\n",
       "      <th>OpacityCount</th>\n",
       "      <th>Negative for Pneumonia</th>\n",
       "      <th>Typical Appearance</th>\n",
       "      <th>Indeterminate Appearance</th>\n",
       "      <th>Atypical Appearance</th>\n",
       "      <th>Opacity</th>\n",
       "      <th>origin_img_height</th>\n",
       "      <th>origin_img_width</th>\n",
       "      <th>height_ratio</th>\n",
       "      <th>width_ratio</th>\n",
       "      <th>path</th>\n",
       "    </tr>\n",
       "  </thead>\n",
       "  <tbody>\n",
       "    <tr>\n",
       "      <th>0</th>\n",
       "      <td>000a312787f2</td>\n",
       "      <td>[{'x': 789.28836, 'y': 582.43035, 'width': 102...</td>\n",
       "      <td>opacity 1 789.28836 582.43035 1815.94498 2499....</td>\n",
       "      <td>5776db0cec75</td>\n",
       "      <td>2</td>\n",
       "      <td>0</td>\n",
       "      <td>1</td>\n",
       "      <td>0</td>\n",
       "      <td>0</td>\n",
       "      <td>1</td>\n",
       "      <td>3488</td>\n",
       "      <td>4256</td>\n",
       "      <td>0.073108</td>\n",
       "      <td>0.059915</td>\n",
       "      <td>/kaggle/input/siim-covid19-resized-to-256px-jp...</td>\n",
       "    </tr>\n",
       "    <tr>\n",
       "      <th>1</th>\n",
       "      <td>000c3a3f293f</td>\n",
       "      <td>NaN</td>\n",
       "      <td>none 1 0 0 1 1</td>\n",
       "      <td>ff0879eb20ed</td>\n",
       "      <td>0</td>\n",
       "      <td>1</td>\n",
       "      <td>0</td>\n",
       "      <td>0</td>\n",
       "      <td>0</td>\n",
       "      <td>0</td>\n",
       "      <td>2320</td>\n",
       "      <td>2832</td>\n",
       "      <td>0.109914</td>\n",
       "      <td>0.090042</td>\n",
       "      <td>/kaggle/input/siim-covid19-resized-to-256px-jp...</td>\n",
       "    </tr>\n",
       "    <tr>\n",
       "      <th>2</th>\n",
       "      <td>0012ff7358bc</td>\n",
       "      <td>[{'x': 677.42216, 'y': 197.97662, 'width': 867...</td>\n",
       "      <td>opacity 1 677.42216 197.97662 1545.21983 1197....</td>\n",
       "      <td>9d514ce429a7</td>\n",
       "      <td>2</td>\n",
       "      <td>0</td>\n",
       "      <td>1</td>\n",
       "      <td>0</td>\n",
       "      <td>0</td>\n",
       "      <td>1</td>\n",
       "      <td>2544</td>\n",
       "      <td>3056</td>\n",
       "      <td>0.100236</td>\n",
       "      <td>0.083442</td>\n",
       "      <td>/kaggle/input/siim-covid19-resized-to-256px-jp...</td>\n",
       "    </tr>\n",
       "    <tr>\n",
       "      <th>3</th>\n",
       "      <td>001398f4ff4f</td>\n",
       "      <td>[{'x': 2729, 'y': 2181.33331, 'width': 948.000...</td>\n",
       "      <td>opacity 1 2729 2181.33331 3677.00012 2785.33331</td>\n",
       "      <td>28dddc8559b2</td>\n",
       "      <td>1</td>\n",
       "      <td>0</td>\n",
       "      <td>0</td>\n",
       "      <td>0</td>\n",
       "      <td>1</td>\n",
       "      <td>1</td>\n",
       "      <td>3520</td>\n",
       "      <td>4280</td>\n",
       "      <td>0.072443</td>\n",
       "      <td>0.059579</td>\n",
       "      <td>/kaggle/input/siim-covid19-resized-to-256px-jp...</td>\n",
       "    </tr>\n",
       "    <tr>\n",
       "      <th>4</th>\n",
       "      <td>001bd15d1891</td>\n",
       "      <td>[{'x': 623.23328, 'y': 1050, 'width': 714, 'he...</td>\n",
       "      <td>opacity 1 623.23328 1050 1337.23328 2156 opaci...</td>\n",
       "      <td>dfd9fdd85a3e</td>\n",
       "      <td>2</td>\n",
       "      <td>0</td>\n",
       "      <td>1</td>\n",
       "      <td>0</td>\n",
       "      <td>0</td>\n",
       "      <td>1</td>\n",
       "      <td>2800</td>\n",
       "      <td>3408</td>\n",
       "      <td>0.091071</td>\n",
       "      <td>0.074824</td>\n",
       "      <td>/kaggle/input/siim-covid19-resized-to-256px-jp...</td>\n",
       "    </tr>\n",
       "  </tbody>\n",
       "</table>\n",
       "</div>"
      ],
      "text/plain": [
       "             id                                              boxes  \\\n",
       "0  000a312787f2  [{'x': 789.28836, 'y': 582.43035, 'width': 102...   \n",
       "1  000c3a3f293f                                                NaN   \n",
       "2  0012ff7358bc  [{'x': 677.42216, 'y': 197.97662, 'width': 867...   \n",
       "3  001398f4ff4f  [{'x': 2729, 'y': 2181.33331, 'width': 948.000...   \n",
       "4  001bd15d1891  [{'x': 623.23328, 'y': 1050, 'width': 714, 'he...   \n",
       "\n",
       "                                               label StudyInstanceUID  \\\n",
       "0  opacity 1 789.28836 582.43035 1815.94498 2499....     5776db0cec75   \n",
       "1                                     none 1 0 0 1 1     ff0879eb20ed   \n",
       "2  opacity 1 677.42216 197.97662 1545.21983 1197....     9d514ce429a7   \n",
       "3    opacity 1 2729 2181.33331 3677.00012 2785.33331     28dddc8559b2   \n",
       "4  opacity 1 623.23328 1050 1337.23328 2156 opaci...     dfd9fdd85a3e   \n",
       "\n",
       "   OpacityCount  Negative for Pneumonia  Typical Appearance  \\\n",
       "0             2                       0                   1   \n",
       "1             0                       1                   0   \n",
       "2             2                       0                   1   \n",
       "3             1                       0                   0   \n",
       "4             2                       0                   1   \n",
       "\n",
       "   Indeterminate Appearance  Atypical Appearance  Opacity  origin_img_height  \\\n",
       "0                         0                    0        1               3488   \n",
       "1                         0                    0        0               2320   \n",
       "2                         0                    0        1               2544   \n",
       "3                         0                    1        1               3520   \n",
       "4                         0                    0        1               2800   \n",
       "\n",
       "   origin_img_width  height_ratio  width_ratio  \\\n",
       "0              4256      0.073108     0.059915   \n",
       "1              2832      0.109914     0.090042   \n",
       "2              3056      0.100236     0.083442   \n",
       "3              4280      0.072443     0.059579   \n",
       "4              3408      0.091071     0.074824   \n",
       "\n",
       "                                                path  \n",
       "0  /kaggle/input/siim-covid19-resized-to-256px-jp...  \n",
       "1  /kaggle/input/siim-covid19-resized-to-256px-jp...  \n",
       "2  /kaggle/input/siim-covid19-resized-to-256px-jp...  \n",
       "3  /kaggle/input/siim-covid19-resized-to-256px-jp...  \n",
       "4  /kaggle/input/siim-covid19-resized-to-256px-jp...  "
      ]
     },
     "execution_count": 27,
     "metadata": {},
     "output_type": "execute_result"
    }
   ],
   "source": [
    "train_df.head()"
   ]
  },
  {
   "cell_type": "markdown",
   "id": "serious-choice",
   "metadata": {
    "papermill": {
     "duration": 0.031493,
     "end_time": "2021-05-27T19:47:26.127195",
     "exception": false,
     "start_time": "2021-05-27T19:47:26.095702",
     "status": "completed"
    },
    "tags": []
   },
   "source": [
    "### 3-a. Test the functions that go into the function"
   ]
  },
  {
   "cell_type": "code",
   "execution_count": 28,
   "id": "corporate-evanescence",
   "metadata": {
    "execution": {
     "iopub.execute_input": "2021-05-27T19:47:26.193369Z",
     "iopub.status.busy": "2021-05-27T19:47:26.192821Z",
     "iopub.status.idle": "2021-05-27T19:47:26.238750Z",
     "shell.execute_reply": "2021-05-27T19:47:26.239192Z",
     "shell.execute_reply.started": "2021-05-27T17:27:23.883581Z"
    },
    "papermill": {
     "duration": 0.08021,
     "end_time": "2021-05-27T19:47:26.239346",
     "exception": false,
     "start_time": "2021-05-27T19:47:26.159136",
     "status": "completed"
    },
    "tags": []
   },
   "outputs": [
    {
     "data": {
      "text/plain": [
       "0       [789.28836, 582.43035, 1026.65662, 1917.30292,...\n",
       "1                                                      []\n",
       "2       [677.42216, 197.97662, 867.79767, 999.78214, 1...\n",
       "3                      [2729, 2181.33331, 948.00012, 604]\n",
       "4       [623.23328, 1050, 714, 1106, 2578.56661, 998.6...\n",
       "                              ...                        \n",
       "6329                                                   []\n",
       "6330                                                   []\n",
       "6331    [2197.38566, 841.07361, 316.41699, 451.63758, ...\n",
       "6332    [2729.27083, 332.26044, 1496.25016, 2604.58334...\n",
       "6333    [208.86463, 91.53448, 450.96747, 628.05473, 75...\n",
       "Name: boxes, Length: 6334, dtype: object"
      ]
     },
     "execution_count": 28,
     "metadata": {},
     "output_type": "execute_result"
    }
   ],
   "source": [
    "p = re.compile(\"[-+]?\\d*\\.\\d+|\\d+\")\n",
    "box_positions = train_df.boxes.apply(lambda x : p.findall(str(x)))\n",
    "box_positions"
   ]
  },
  {
   "cell_type": "code",
   "execution_count": 29,
   "id": "immune-budget",
   "metadata": {
    "execution": {
     "iopub.execute_input": "2021-05-27T19:47:26.307515Z",
     "iopub.status.busy": "2021-05-27T19:47:26.306977Z",
     "iopub.status.idle": "2021-05-27T19:47:26.313022Z",
     "shell.execute_reply": "2021-05-27T19:47:26.312630Z",
     "shell.execute_reply.started": "2021-05-27T17:27:25.404479Z"
    },
    "papermill": {
     "duration": 0.04164,
     "end_time": "2021-05-27T19:47:26.313184",
     "exception": false,
     "start_time": "2021-05-27T19:47:26.271544",
     "status": "completed"
    },
    "tags": []
   },
   "outputs": [
    {
     "data": {
      "text/plain": [
       "0       2\n",
       "1       0\n",
       "2       2\n",
       "3       1\n",
       "4       2\n",
       "       ..\n",
       "6329    0\n",
       "6330    0\n",
       "6331    3\n",
       "6332    2\n",
       "6333    2\n",
       "Name: OpacityCount, Length: 6334, dtype: int64"
      ]
     },
     "execution_count": 29,
     "metadata": {},
     "output_type": "execute_result"
    }
   ],
   "source": [
    "train_df.OpacityCount"
   ]
  },
  {
   "cell_type": "markdown",
   "id": "manual-functionality",
   "metadata": {
    "papermill": {
     "duration": 0.032167,
     "end_time": "2021-05-27T19:47:26.377991",
     "exception": false,
     "start_time": "2021-05-27T19:47:26.345824",
     "status": "completed"
    },
    "tags": []
   },
   "source": [
    "### 3-b. Build Function and Create New DataFrame with loop"
   ]
  },
  {
   "cell_type": "code",
   "execution_count": 30,
   "id": "corrected-ownership",
   "metadata": {
    "execution": {
     "iopub.execute_input": "2021-05-27T19:47:26.453207Z",
     "iopub.status.busy": "2021-05-27T19:47:26.452615Z",
     "iopub.status.idle": "2021-05-27T19:47:26.454445Z",
     "shell.execute_reply": "2021-05-27T19:47:26.454916Z",
     "shell.execute_reply.started": "2021-05-27T18:32:06.131069Z"
    },
    "papermill": {
     "duration": 0.044359,
     "end_time": "2021-05-27T19:47:26.455060",
     "exception": false,
     "start_time": "2021-05-27T19:47:26.410701",
     "status": "completed"
    },
    "tags": []
   },
   "outputs": [],
   "source": [
    "import numpy as np\n",
    "\n",
    "def resize_box_position(df, c):\n",
    "    count_box = train_df.OpacityCount[c]\n",
    "    x_idx = []\n",
    "    y_idx = []\n",
    "    height_idx = []\n",
    "    width_idx = []\n",
    "\n",
    "    for i in range(count_box):\n",
    "        i *= 4\n",
    "        x_idx.append(i)\n",
    "        y_idx.append(i+1)\n",
    "        height_idx.append(i+2)\n",
    "        width_idx.append(i+3)\n",
    "\n",
    "    if train_df.boxes[c] != train_df.boxes[c]:\n",
    "        return pd.Series([0,0,0,0], index=df.columns)\n",
    "    \n",
    "    else:\n",
    "        p_list = p.findall(train_df.boxes[c]) \n",
    "        x_list = [float(p_list[idx]) for idx in x_idx]\n",
    "        y_list = [float(p_list[idx]) for idx in y_idx]\n",
    "        height_list = [float(p_list[idx]) for idx in height_idx]\n",
    "        width_list = [float(p_list[idx]) for idx in width_idx]\n",
    "\n",
    "        x_ratio = np.array(train_df.width_ratio[c])\n",
    "        y_ratio = np.array(train_df.height_ratio[c])\n",
    "\n",
    "        resized_x_list = x_list*x_ratio\n",
    "        resized_y_list = y_list*y_ratio\n",
    "        resized_width_list = width_list*x_ratio\n",
    "        resized_height_list = height_list*y_ratio\n",
    "        return pd.Series([resized_x_list, resized_y_list, resized_width_list, resized_height_list], index=df.columns)"
   ]
  },
  {
   "cell_type": "code",
   "execution_count": 31,
   "id": "automotive-aircraft",
   "metadata": {
    "execution": {
     "iopub.execute_input": "2021-05-27T19:47:26.523034Z",
     "iopub.status.busy": "2021-05-27T19:47:26.522515Z",
     "iopub.status.idle": "2021-05-27T19:47:39.301418Z",
     "shell.execute_reply": "2021-05-27T19:47:39.301779Z",
     "shell.execute_reply.started": "2021-05-27T18:33:01.62186Z"
    },
    "papermill": {
     "duration": 12.814202,
     "end_time": "2021-05-27T19:47:39.301940",
     "exception": false,
     "start_time": "2021-05-27T19:47:26.487738",
     "status": "completed"
    },
    "tags": []
   },
   "outputs": [
    {
     "name": "stdout",
     "output_type": "stream",
     "text": [
      "saved - 0/6333\n",
      "saved - 500/6333\n",
      "saved - 1000/6333\n",
      "saved - 1500/6333\n",
      "saved - 2000/6333\n",
      "saved - 2500/6333\n",
      "saved - 3000/6333\n",
      "saved - 3500/6333\n",
      "saved - 4000/6333\n",
      "saved - 4500/6333\n",
      "saved - 5000/6333\n",
      "saved - 5500/6333\n",
      "saved - 6000/6333\n",
      "complete - 6333/6333\n"
     ]
    }
   ],
   "source": [
    "resized_box_x = []\n",
    "resized_box_y = []\n",
    "resized_box_width = []\n",
    "resized_box_height = []\n",
    "\n",
    "df = pd.DataFrame(columns=['resized_box_x', 'resized_box_y', 'resized_box_width', 'resized_box_height'])\n",
    "\n",
    "for idx in train_df.index:\n",
    "    df = df.append(resize_box_position(df, idx), ignore_index=True)\n",
    "    if idx % 500 == 0:\n",
    "        print('saved - {}/{}'.format(idx, max(train_df.index)))\n",
    "    elif idx == 6333:\n",
    "        print('complete - {}/{}'.format(idx, max(train_df.index)))"
   ]
  },
  {
   "cell_type": "code",
   "execution_count": 32,
   "id": "charged-template",
   "metadata": {
    "execution": {
     "iopub.execute_input": "2021-05-27T19:47:39.391114Z",
     "iopub.status.busy": "2021-05-27T19:47:39.390311Z",
     "iopub.status.idle": "2021-05-27T19:47:39.394475Z",
     "shell.execute_reply": "2021-05-27T19:47:39.394063Z",
     "shell.execute_reply.started": "2021-05-27T18:33:19.804608Z"
    },
    "papermill": {
     "duration": 0.05735,
     "end_time": "2021-05-27T19:47:39.394599",
     "exception": false,
     "start_time": "2021-05-27T19:47:39.337249",
     "status": "completed"
    },
    "tags": []
   },
   "outputs": [
    {
     "data": {
      "text/html": [
       "<div>\n",
       "<style scoped>\n",
       "    .dataframe tbody tr th:only-of-type {\n",
       "        vertical-align: middle;\n",
       "    }\n",
       "\n",
       "    .dataframe tbody tr th {\n",
       "        vertical-align: top;\n",
       "    }\n",
       "\n",
       "    .dataframe thead th {\n",
       "        text-align: right;\n",
       "    }\n",
       "</style>\n",
       "<table border=\"1\" class=\"dataframe\">\n",
       "  <thead>\n",
       "    <tr style=\"text-align: right;\">\n",
       "      <th></th>\n",
       "      <th>resized_box_x</th>\n",
       "      <th>resized_box_y</th>\n",
       "      <th>resized_box_width</th>\n",
       "      <th>resized_box_height</th>\n",
       "    </tr>\n",
       "  </thead>\n",
       "  <tbody>\n",
       "    <tr>\n",
       "      <th>0</th>\n",
       "      <td>[47.29053848684204, 134.5647510338344]</td>\n",
       "      <td>[42.580200473050446, 43.22171628440366]</td>\n",
       "      <td>[114.8759973214284, 105.54396315789458]</td>\n",
       "      <td>[75.05660495986237, 80.02830077408255]</td>\n",
       "    </tr>\n",
       "    <tr>\n",
       "      <th>1</th>\n",
       "      <td>0</td>\n",
       "      <td>0</td>\n",
       "      <td>0</td>\n",
       "      <td>0</td>\n",
       "    </tr>\n",
       "    <tr>\n",
       "      <th>2</th>\n",
       "      <td>[56.52573651832457, 149.5864244764397]</td>\n",
       "      <td>[19.844354599056587, 40.35019162735846]</td>\n",
       "      <td>[83.4242296138743, 100.49453206806277]</td>\n",
       "      <td>[86.9844362617924, 61.848259316037684]</td>\n",
       "    </tr>\n",
       "    <tr>\n",
       "      <th>3</th>\n",
       "      <td>[162.59228971962602]</td>\n",
       "      <td>[158.0227255823863]</td>\n",
       "      <td>[35.98598130841118]</td>\n",
       "      <td>[68.67614505681816]</td>\n",
       "    </tr>\n",
       "    <tr>\n",
       "      <th>4</th>\n",
       "      <td>[46.6327718309859, 192.9385227552816]</td>\n",
       "      <td>[95.62499999999993, 90.95000030357136]</td>\n",
       "      <td>[82.7552816901408, 83.80281690140842]</td>\n",
       "      <td>[65.02499999999995, 60.35000030357138]</td>\n",
       "    </tr>\n",
       "    <tr>\n",
       "      <th>...</th>\n",
       "      <td>...</td>\n",
       "      <td>...</td>\n",
       "      <td>...</td>\n",
       "      <td>...</td>\n",
       "    </tr>\n",
       "    <tr>\n",
       "      <th>6329</th>\n",
       "      <td>0</td>\n",
       "      <td>0</td>\n",
       "      <td>0</td>\n",
       "      <td>0</td>\n",
       "    </tr>\n",
       "    <tr>\n",
       "      <th>6330</th>\n",
       "      <td>0</td>\n",
       "      <td>0</td>\n",
       "      <td>0</td>\n",
       "      <td>0</td>\n",
       "    </tr>\n",
       "    <tr>\n",
       "      <th>6331</th>\n",
       "      <td>[183.7158502622949, 198.63891093442606, 59.130...</td>\n",
       "      <td>[89.81313674623111, 195.50962657035166, 77.106...</td>\n",
       "      <td>[37.759863245901606, 25.550090360655716, 70.99...</td>\n",
       "      <td>[33.788246419597975, 28.590038316582902, 41.87...</td>\n",
       "    </tr>\n",
       "    <tr>\n",
       "      <th>6332</th>\n",
       "      <td>[163.5253904252817, 60.26367187499991]</td>\n",
       "      <td>[24.290829185779813, 115.85225431479356]</td>\n",
       "      <td>[156.05468789943586, 46.48437719689842]</td>\n",
       "      <td>[109.38755470183484, 48.414113575114676]</td>\n",
       "    </tr>\n",
       "    <tr>\n",
       "      <th>6333</th>\n",
       "      <td>[38.399769754866604, 138.90333893294877]</td>\n",
       "      <td>[20.474817894736844, 32.284496447368426]</td>\n",
       "      <td>[115.46788475126166, 100.70578767123284]</td>\n",
       "      <td>[100.8743025, 95.7075842105263]</td>\n",
       "    </tr>\n",
       "  </tbody>\n",
       "</table>\n",
       "<p>6334 rows × 4 columns</p>\n",
       "</div>"
      ],
      "text/plain": [
       "                                          resized_box_x  \\\n",
       "0                [47.29053848684204, 134.5647510338344]   \n",
       "1                                                     0   \n",
       "2                [56.52573651832457, 149.5864244764397]   \n",
       "3                                  [162.59228971962602]   \n",
       "4                 [46.6327718309859, 192.9385227552816]   \n",
       "...                                                 ...   \n",
       "6329                                                  0   \n",
       "6330                                                  0   \n",
       "6331  [183.7158502622949, 198.63891093442606, 59.130...   \n",
       "6332             [163.5253904252817, 60.26367187499991]   \n",
       "6333           [38.399769754866604, 138.90333893294877]   \n",
       "\n",
       "                                          resized_box_y  \\\n",
       "0               [42.580200473050446, 43.22171628440366]   \n",
       "1                                                     0   \n",
       "2               [19.844354599056587, 40.35019162735846]   \n",
       "3                                   [158.0227255823863]   \n",
       "4                [95.62499999999993, 90.95000030357136]   \n",
       "...                                                 ...   \n",
       "6329                                                  0   \n",
       "6330                                                  0   \n",
       "6331  [89.81313674623111, 195.50962657035166, 77.106...   \n",
       "6332           [24.290829185779813, 115.85225431479356]   \n",
       "6333           [20.474817894736844, 32.284496447368426]   \n",
       "\n",
       "                                      resized_box_width  \\\n",
       "0               [114.8759973214284, 105.54396315789458]   \n",
       "1                                                     0   \n",
       "2                [83.4242296138743, 100.49453206806277]   \n",
       "3                                   [35.98598130841118]   \n",
       "4                 [82.7552816901408, 83.80281690140842]   \n",
       "...                                                 ...   \n",
       "6329                                                  0   \n",
       "6330                                                  0   \n",
       "6331  [37.759863245901606, 25.550090360655716, 70.99...   \n",
       "6332            [156.05468789943586, 46.48437719689842]   \n",
       "6333           [115.46788475126166, 100.70578767123284]   \n",
       "\n",
       "                                     resized_box_height  \n",
       "0                [75.05660495986237, 80.02830077408255]  \n",
       "1                                                     0  \n",
       "2                [86.9844362617924, 61.848259316037684]  \n",
       "3                                   [68.67614505681816]  \n",
       "4                [65.02499999999995, 60.35000030357138]  \n",
       "...                                                 ...  \n",
       "6329                                                  0  \n",
       "6330                                                  0  \n",
       "6331  [33.788246419597975, 28.590038316582902, 41.87...  \n",
       "6332           [109.38755470183484, 48.414113575114676]  \n",
       "6333                    [100.8743025, 95.7075842105263]  \n",
       "\n",
       "[6334 rows x 4 columns]"
      ]
     },
     "execution_count": 32,
     "metadata": {},
     "output_type": "execute_result"
    }
   ],
   "source": [
    "df"
   ]
  },
  {
   "cell_type": "markdown",
   "id": "upper-milan",
   "metadata": {
    "papermill": {
     "duration": 0.035748,
     "end_time": "2021-05-27T19:47:39.466286",
     "exception": false,
     "start_time": "2021-05-27T19:47:39.430538",
     "status": "completed"
    },
    "tags": []
   },
   "source": [
    "### 3-c. Concat DataFrame and Save"
   ]
  },
  {
   "cell_type": "code",
   "execution_count": 33,
   "id": "athletic-anxiety",
   "metadata": {
    "execution": {
     "iopub.execute_input": "2021-05-27T19:47:39.543638Z",
     "iopub.status.busy": "2021-05-27T19:47:39.542793Z",
     "iopub.status.idle": "2021-05-27T19:47:39.572269Z",
     "shell.execute_reply": "2021-05-27T19:47:39.572674Z",
     "shell.execute_reply.started": "2021-05-27T18:37:13.68077Z"
    },
    "papermill": {
     "duration": 0.070761,
     "end_time": "2021-05-27T19:47:39.572836",
     "exception": false,
     "start_time": "2021-05-27T19:47:39.502075",
     "status": "completed"
    },
    "tags": []
   },
   "outputs": [
    {
     "data": {
      "text/html": [
       "<div>\n",
       "<style scoped>\n",
       "    .dataframe tbody tr th:only-of-type {\n",
       "        vertical-align: middle;\n",
       "    }\n",
       "\n",
       "    .dataframe tbody tr th {\n",
       "        vertical-align: top;\n",
       "    }\n",
       "\n",
       "    .dataframe thead th {\n",
       "        text-align: right;\n",
       "    }\n",
       "</style>\n",
       "<table border=\"1\" class=\"dataframe\">\n",
       "  <thead>\n",
       "    <tr style=\"text-align: right;\">\n",
       "      <th></th>\n",
       "      <th>id</th>\n",
       "      <th>boxes</th>\n",
       "      <th>label</th>\n",
       "      <th>StudyInstanceUID</th>\n",
       "      <th>OpacityCount</th>\n",
       "      <th>Negative for Pneumonia</th>\n",
       "      <th>Typical Appearance</th>\n",
       "      <th>Indeterminate Appearance</th>\n",
       "      <th>Atypical Appearance</th>\n",
       "      <th>Opacity</th>\n",
       "      <th>origin_img_height</th>\n",
       "      <th>origin_img_width</th>\n",
       "      <th>height_ratio</th>\n",
       "      <th>width_ratio</th>\n",
       "      <th>path</th>\n",
       "      <th>resized_box_x</th>\n",
       "      <th>resized_box_y</th>\n",
       "      <th>resized_box_width</th>\n",
       "      <th>resized_box_height</th>\n",
       "    </tr>\n",
       "  </thead>\n",
       "  <tbody>\n",
       "    <tr>\n",
       "      <th>0</th>\n",
       "      <td>000a312787f2</td>\n",
       "      <td>[{'x': 789.28836, 'y': 582.43035, 'width': 102...</td>\n",
       "      <td>opacity 1 789.28836 582.43035 1815.94498 2499....</td>\n",
       "      <td>5776db0cec75</td>\n",
       "      <td>2</td>\n",
       "      <td>0</td>\n",
       "      <td>1</td>\n",
       "      <td>0</td>\n",
       "      <td>0</td>\n",
       "      <td>1</td>\n",
       "      <td>3488</td>\n",
       "      <td>4256</td>\n",
       "      <td>0.073108</td>\n",
       "      <td>0.059915</td>\n",
       "      <td>/kaggle/input/siim-covid19-resized-to-256px-jp...</td>\n",
       "      <td>[47.29053848684204, 134.5647510338344]</td>\n",
       "      <td>[42.580200473050446, 43.22171628440366]</td>\n",
       "      <td>[114.8759973214284, 105.54396315789458]</td>\n",
       "      <td>[75.05660495986237, 80.02830077408255]</td>\n",
       "    </tr>\n",
       "    <tr>\n",
       "      <th>1</th>\n",
       "      <td>000c3a3f293f</td>\n",
       "      <td>NaN</td>\n",
       "      <td>none 1 0 0 1 1</td>\n",
       "      <td>ff0879eb20ed</td>\n",
       "      <td>0</td>\n",
       "      <td>1</td>\n",
       "      <td>0</td>\n",
       "      <td>0</td>\n",
       "      <td>0</td>\n",
       "      <td>0</td>\n",
       "      <td>2320</td>\n",
       "      <td>2832</td>\n",
       "      <td>0.109914</td>\n",
       "      <td>0.090042</td>\n",
       "      <td>/kaggle/input/siim-covid19-resized-to-256px-jp...</td>\n",
       "      <td>0</td>\n",
       "      <td>0</td>\n",
       "      <td>0</td>\n",
       "      <td>0</td>\n",
       "    </tr>\n",
       "    <tr>\n",
       "      <th>2</th>\n",
       "      <td>0012ff7358bc</td>\n",
       "      <td>[{'x': 677.42216, 'y': 197.97662, 'width': 867...</td>\n",
       "      <td>opacity 1 677.42216 197.97662 1545.21983 1197....</td>\n",
       "      <td>9d514ce429a7</td>\n",
       "      <td>2</td>\n",
       "      <td>0</td>\n",
       "      <td>1</td>\n",
       "      <td>0</td>\n",
       "      <td>0</td>\n",
       "      <td>1</td>\n",
       "      <td>2544</td>\n",
       "      <td>3056</td>\n",
       "      <td>0.100236</td>\n",
       "      <td>0.083442</td>\n",
       "      <td>/kaggle/input/siim-covid19-resized-to-256px-jp...</td>\n",
       "      <td>[56.52573651832457, 149.5864244764397]</td>\n",
       "      <td>[19.844354599056587, 40.35019162735846]</td>\n",
       "      <td>[83.4242296138743, 100.49453206806277]</td>\n",
       "      <td>[86.9844362617924, 61.848259316037684]</td>\n",
       "    </tr>\n",
       "    <tr>\n",
       "      <th>3</th>\n",
       "      <td>001398f4ff4f</td>\n",
       "      <td>[{'x': 2729, 'y': 2181.33331, 'width': 948.000...</td>\n",
       "      <td>opacity 1 2729 2181.33331 3677.00012 2785.33331</td>\n",
       "      <td>28dddc8559b2</td>\n",
       "      <td>1</td>\n",
       "      <td>0</td>\n",
       "      <td>0</td>\n",
       "      <td>0</td>\n",
       "      <td>1</td>\n",
       "      <td>1</td>\n",
       "      <td>3520</td>\n",
       "      <td>4280</td>\n",
       "      <td>0.072443</td>\n",
       "      <td>0.059579</td>\n",
       "      <td>/kaggle/input/siim-covid19-resized-to-256px-jp...</td>\n",
       "      <td>[162.59228971962602]</td>\n",
       "      <td>[158.0227255823863]</td>\n",
       "      <td>[35.98598130841118]</td>\n",
       "      <td>[68.67614505681816]</td>\n",
       "    </tr>\n",
       "    <tr>\n",
       "      <th>4</th>\n",
       "      <td>001bd15d1891</td>\n",
       "      <td>[{'x': 623.23328, 'y': 1050, 'width': 714, 'he...</td>\n",
       "      <td>opacity 1 623.23328 1050 1337.23328 2156 opaci...</td>\n",
       "      <td>dfd9fdd85a3e</td>\n",
       "      <td>2</td>\n",
       "      <td>0</td>\n",
       "      <td>1</td>\n",
       "      <td>0</td>\n",
       "      <td>0</td>\n",
       "      <td>1</td>\n",
       "      <td>2800</td>\n",
       "      <td>3408</td>\n",
       "      <td>0.091071</td>\n",
       "      <td>0.074824</td>\n",
       "      <td>/kaggle/input/siim-covid19-resized-to-256px-jp...</td>\n",
       "      <td>[46.6327718309859, 192.9385227552816]</td>\n",
       "      <td>[95.62499999999993, 90.95000030357136]</td>\n",
       "      <td>[82.7552816901408, 83.80281690140842]</td>\n",
       "      <td>[65.02499999999995, 60.35000030357138]</td>\n",
       "    </tr>\n",
       "    <tr>\n",
       "      <th>...</th>\n",
       "      <td>...</td>\n",
       "      <td>...</td>\n",
       "      <td>...</td>\n",
       "      <td>...</td>\n",
       "      <td>...</td>\n",
       "      <td>...</td>\n",
       "      <td>...</td>\n",
       "      <td>...</td>\n",
       "      <td>...</td>\n",
       "      <td>...</td>\n",
       "      <td>...</td>\n",
       "      <td>...</td>\n",
       "      <td>...</td>\n",
       "      <td>...</td>\n",
       "      <td>...</td>\n",
       "      <td>...</td>\n",
       "      <td>...</td>\n",
       "      <td>...</td>\n",
       "      <td>...</td>\n",
       "    </tr>\n",
       "    <tr>\n",
       "      <th>6329</th>\n",
       "      <td>ffcc6edd9445</td>\n",
       "      <td>NaN</td>\n",
       "      <td>none 1 0 0 1 1</td>\n",
       "      <td>7e6c68462e06</td>\n",
       "      <td>0</td>\n",
       "      <td>1</td>\n",
       "      <td>0</td>\n",
       "      <td>0</td>\n",
       "      <td>0</td>\n",
       "      <td>0</td>\n",
       "      <td>4240</td>\n",
       "      <td>3480</td>\n",
       "      <td>0.060142</td>\n",
       "      <td>0.073276</td>\n",
       "      <td>/kaggle/input/siim-covid19-resized-to-256px-jp...</td>\n",
       "      <td>0</td>\n",
       "      <td>0</td>\n",
       "      <td>0</td>\n",
       "      <td>0</td>\n",
       "    </tr>\n",
       "    <tr>\n",
       "      <th>6330</th>\n",
       "      <td>ffd91a2c4ca0</td>\n",
       "      <td>NaN</td>\n",
       "      <td>none 1 0 0 1 1</td>\n",
       "      <td>8332bdaddb6e</td>\n",
       "      <td>0</td>\n",
       "      <td>1</td>\n",
       "      <td>0</td>\n",
       "      <td>0</td>\n",
       "      <td>0</td>\n",
       "      <td>0</td>\n",
       "      <td>2800</td>\n",
       "      <td>3408</td>\n",
       "      <td>0.091071</td>\n",
       "      <td>0.074824</td>\n",
       "      <td>/kaggle/input/siim-covid19-resized-to-256px-jp...</td>\n",
       "      <td>0</td>\n",
       "      <td>0</td>\n",
       "      <td>0</td>\n",
       "      <td>0</td>\n",
       "    </tr>\n",
       "    <tr>\n",
       "      <th>6331</th>\n",
       "      <td>ffd9b6cf2961</td>\n",
       "      <td>[{'x': 2197.38566, 'y': 841.07361, 'width': 31...</td>\n",
       "      <td>opacity 1 2197.38566 841.07361 2513.80265 1292...</td>\n",
       "      <td>7eed9af03814</td>\n",
       "      <td>3</td>\n",
       "      <td>0</td>\n",
       "      <td>1</td>\n",
       "      <td>0</td>\n",
       "      <td>0</td>\n",
       "      <td>1</td>\n",
       "      <td>2388</td>\n",
       "      <td>3050</td>\n",
       "      <td>0.106784</td>\n",
       "      <td>0.083607</td>\n",
       "      <td>/kaggle/input/siim-covid19-resized-to-256px-jp...</td>\n",
       "      <td>[183.7158502622949, 198.63891093442606, 59.130...</td>\n",
       "      <td>[89.81313674623111, 195.50962657035166, 77.106...</td>\n",
       "      <td>[37.759863245901606, 25.550090360655716, 70.99...</td>\n",
       "      <td>[33.788246419597975, 28.590038316582902, 41.87...</td>\n",
       "    </tr>\n",
       "    <tr>\n",
       "      <th>6332</th>\n",
       "      <td>ffdc682f7680</td>\n",
       "      <td>[{'x': 2729.27083, 'y': 332.26044, 'width': 14...</td>\n",
       "      <td>opacity 1 2729.27083 332.26044 4225.52099 2936...</td>\n",
       "      <td>a0cb0b96fb3d</td>\n",
       "      <td>2</td>\n",
       "      <td>0</td>\n",
       "      <td>1</td>\n",
       "      <td>0</td>\n",
       "      <td>0</td>\n",
       "      <td>1</td>\n",
       "      <td>3488</td>\n",
       "      <td>4256</td>\n",
       "      <td>0.073108</td>\n",
       "      <td>0.059915</td>\n",
       "      <td>/kaggle/input/siim-covid19-resized-to-256px-jp...</td>\n",
       "      <td>[163.5253904252817, 60.26367187499991]</td>\n",
       "      <td>[24.290829185779813, 115.85225431479356]</td>\n",
       "      <td>[156.05468789943586, 46.48437719689842]</td>\n",
       "      <td>[109.38755470183484, 48.414113575114676]</td>\n",
       "    </tr>\n",
       "    <tr>\n",
       "      <th>6333</th>\n",
       "      <td>ffe942c8655f</td>\n",
       "      <td>[{'x': 208.86463, 'y': 91.53448, 'width': 450....</td>\n",
       "      <td>opacity 1 208.86463 91.53448 659.8321 719.5892...</td>\n",
       "      <td>7d82d53204b8</td>\n",
       "      <td>2</td>\n",
       "      <td>0</td>\n",
       "      <td>1</td>\n",
       "      <td>0</td>\n",
       "      <td>0</td>\n",
       "      <td>1</td>\n",
       "      <td>1140</td>\n",
       "      <td>1387</td>\n",
       "      <td>0.223684</td>\n",
       "      <td>0.183850</td>\n",
       "      <td>/kaggle/input/siim-covid19-resized-to-256px-jp...</td>\n",
       "      <td>[38.399769754866604, 138.90333893294877]</td>\n",
       "      <td>[20.474817894736844, 32.284496447368426]</td>\n",
       "      <td>[115.46788475126166, 100.70578767123284]</td>\n",
       "      <td>[100.8743025, 95.7075842105263]</td>\n",
       "    </tr>\n",
       "  </tbody>\n",
       "</table>\n",
       "<p>6334 rows × 19 columns</p>\n",
       "</div>"
      ],
      "text/plain": [
       "                id                                              boxes  \\\n",
       "0     000a312787f2  [{'x': 789.28836, 'y': 582.43035, 'width': 102...   \n",
       "1     000c3a3f293f                                                NaN   \n",
       "2     0012ff7358bc  [{'x': 677.42216, 'y': 197.97662, 'width': 867...   \n",
       "3     001398f4ff4f  [{'x': 2729, 'y': 2181.33331, 'width': 948.000...   \n",
       "4     001bd15d1891  [{'x': 623.23328, 'y': 1050, 'width': 714, 'he...   \n",
       "...            ...                                                ...   \n",
       "6329  ffcc6edd9445                                                NaN   \n",
       "6330  ffd91a2c4ca0                                                NaN   \n",
       "6331  ffd9b6cf2961  [{'x': 2197.38566, 'y': 841.07361, 'width': 31...   \n",
       "6332  ffdc682f7680  [{'x': 2729.27083, 'y': 332.26044, 'width': 14...   \n",
       "6333  ffe942c8655f  [{'x': 208.86463, 'y': 91.53448, 'width': 450....   \n",
       "\n",
       "                                                  label StudyInstanceUID  \\\n",
       "0     opacity 1 789.28836 582.43035 1815.94498 2499....     5776db0cec75   \n",
       "1                                        none 1 0 0 1 1     ff0879eb20ed   \n",
       "2     opacity 1 677.42216 197.97662 1545.21983 1197....     9d514ce429a7   \n",
       "3       opacity 1 2729 2181.33331 3677.00012 2785.33331     28dddc8559b2   \n",
       "4     opacity 1 623.23328 1050 1337.23328 2156 opaci...     dfd9fdd85a3e   \n",
       "...                                                 ...              ...   \n",
       "6329                                     none 1 0 0 1 1     7e6c68462e06   \n",
       "6330                                     none 1 0 0 1 1     8332bdaddb6e   \n",
       "6331  opacity 1 2197.38566 841.07361 2513.80265 1292...     7eed9af03814   \n",
       "6332  opacity 1 2729.27083 332.26044 4225.52099 2936...     a0cb0b96fb3d   \n",
       "6333  opacity 1 208.86463 91.53448 659.8321 719.5892...     7d82d53204b8   \n",
       "\n",
       "      OpacityCount  Negative for Pneumonia  Typical Appearance  \\\n",
       "0                2                       0                   1   \n",
       "1                0                       1                   0   \n",
       "2                2                       0                   1   \n",
       "3                1                       0                   0   \n",
       "4                2                       0                   1   \n",
       "...            ...                     ...                 ...   \n",
       "6329             0                       1                   0   \n",
       "6330             0                       1                   0   \n",
       "6331             3                       0                   1   \n",
       "6332             2                       0                   1   \n",
       "6333             2                       0                   1   \n",
       "\n",
       "      Indeterminate Appearance  Atypical Appearance  Opacity  \\\n",
       "0                            0                    0        1   \n",
       "1                            0                    0        0   \n",
       "2                            0                    0        1   \n",
       "3                            0                    1        1   \n",
       "4                            0                    0        1   \n",
       "...                        ...                  ...      ...   \n",
       "6329                         0                    0        0   \n",
       "6330                         0                    0        0   \n",
       "6331                         0                    0        1   \n",
       "6332                         0                    0        1   \n",
       "6333                         0                    0        1   \n",
       "\n",
       "      origin_img_height  origin_img_width  height_ratio  width_ratio  \\\n",
       "0                  3488              4256      0.073108     0.059915   \n",
       "1                  2320              2832      0.109914     0.090042   \n",
       "2                  2544              3056      0.100236     0.083442   \n",
       "3                  3520              4280      0.072443     0.059579   \n",
       "4                  2800              3408      0.091071     0.074824   \n",
       "...                 ...               ...           ...          ...   \n",
       "6329               4240              3480      0.060142     0.073276   \n",
       "6330               2800              3408      0.091071     0.074824   \n",
       "6331               2388              3050      0.106784     0.083607   \n",
       "6332               3488              4256      0.073108     0.059915   \n",
       "6333               1140              1387      0.223684     0.183850   \n",
       "\n",
       "                                                   path  \\\n",
       "0     /kaggle/input/siim-covid19-resized-to-256px-jp...   \n",
       "1     /kaggle/input/siim-covid19-resized-to-256px-jp...   \n",
       "2     /kaggle/input/siim-covid19-resized-to-256px-jp...   \n",
       "3     /kaggle/input/siim-covid19-resized-to-256px-jp...   \n",
       "4     /kaggle/input/siim-covid19-resized-to-256px-jp...   \n",
       "...                                                 ...   \n",
       "6329  /kaggle/input/siim-covid19-resized-to-256px-jp...   \n",
       "6330  /kaggle/input/siim-covid19-resized-to-256px-jp...   \n",
       "6331  /kaggle/input/siim-covid19-resized-to-256px-jp...   \n",
       "6332  /kaggle/input/siim-covid19-resized-to-256px-jp...   \n",
       "6333  /kaggle/input/siim-covid19-resized-to-256px-jp...   \n",
       "\n",
       "                                          resized_box_x  \\\n",
       "0                [47.29053848684204, 134.5647510338344]   \n",
       "1                                                     0   \n",
       "2                [56.52573651832457, 149.5864244764397]   \n",
       "3                                  [162.59228971962602]   \n",
       "4                 [46.6327718309859, 192.9385227552816]   \n",
       "...                                                 ...   \n",
       "6329                                                  0   \n",
       "6330                                                  0   \n",
       "6331  [183.7158502622949, 198.63891093442606, 59.130...   \n",
       "6332             [163.5253904252817, 60.26367187499991]   \n",
       "6333           [38.399769754866604, 138.90333893294877]   \n",
       "\n",
       "                                          resized_box_y  \\\n",
       "0               [42.580200473050446, 43.22171628440366]   \n",
       "1                                                     0   \n",
       "2               [19.844354599056587, 40.35019162735846]   \n",
       "3                                   [158.0227255823863]   \n",
       "4                [95.62499999999993, 90.95000030357136]   \n",
       "...                                                 ...   \n",
       "6329                                                  0   \n",
       "6330                                                  0   \n",
       "6331  [89.81313674623111, 195.50962657035166, 77.106...   \n",
       "6332           [24.290829185779813, 115.85225431479356]   \n",
       "6333           [20.474817894736844, 32.284496447368426]   \n",
       "\n",
       "                                      resized_box_width  \\\n",
       "0               [114.8759973214284, 105.54396315789458]   \n",
       "1                                                     0   \n",
       "2                [83.4242296138743, 100.49453206806277]   \n",
       "3                                   [35.98598130841118]   \n",
       "4                 [82.7552816901408, 83.80281690140842]   \n",
       "...                                                 ...   \n",
       "6329                                                  0   \n",
       "6330                                                  0   \n",
       "6331  [37.759863245901606, 25.550090360655716, 70.99...   \n",
       "6332            [156.05468789943586, 46.48437719689842]   \n",
       "6333           [115.46788475126166, 100.70578767123284]   \n",
       "\n",
       "                                     resized_box_height  \n",
       "0                [75.05660495986237, 80.02830077408255]  \n",
       "1                                                     0  \n",
       "2                [86.9844362617924, 61.848259316037684]  \n",
       "3                                   [68.67614505681816]  \n",
       "4                [65.02499999999995, 60.35000030357138]  \n",
       "...                                                 ...  \n",
       "6329                                                  0  \n",
       "6330                                                  0  \n",
       "6331  [33.788246419597975, 28.590038316582902, 41.87...  \n",
       "6332           [109.38755470183484, 48.414113575114676]  \n",
       "6333                    [100.8743025, 95.7075842105263]  \n",
       "\n",
       "[6334 rows x 19 columns]"
      ]
     },
     "execution_count": 33,
     "metadata": {},
     "output_type": "execute_result"
    }
   ],
   "source": [
    "train_df = pd.concat([train_df,df], axis=1)\n",
    "train_df"
   ]
  },
  {
   "cell_type": "code",
   "execution_count": 34,
   "id": "certified-ceramic",
   "metadata": {
    "execution": {
     "iopub.execute_input": "2021-05-27T19:47:39.651021Z",
     "iopub.status.busy": "2021-05-27T19:47:39.650467Z",
     "iopub.status.idle": "2021-05-27T19:47:40.968130Z",
     "shell.execute_reply": "2021-05-27T19:47:40.966948Z",
     "shell.execute_reply.started": "2021-05-27T18:38:29.362371Z"
    },
    "papermill": {
     "duration": 1.358557,
     "end_time": "2021-05-27T19:47:40.968347",
     "exception": false,
     "start_time": "2021-05-27T19:47:39.609790",
     "status": "completed"
    },
    "tags": []
   },
   "outputs": [],
   "source": [
    "train_df.to_csv('train_full_info.csv')"
   ]
  }
 ],
 "metadata": {
  "kernelspec": {
   "display_name": "Python 3",
   "language": "python",
   "name": "python3"
  },
  "language_info": {
   "codemirror_mode": {
    "name": "ipython",
    "version": 3
   },
   "file_extension": ".py",
   "mimetype": "text/x-python",
   "name": "python",
   "nbconvert_exporter": "python",
   "pygments_lexer": "ipython3",
   "version": "3.7.10"
  },
  "papermill": {
   "default_parameters": {},
   "duration": 25.818139,
   "end_time": "2021-05-27T19:47:42.293197",
   "environment_variables": {},
   "exception": null,
   "input_path": "__notebook__.ipynb",
   "output_path": "__notebook__.ipynb",
   "parameters": {},
   "start_time": "2021-05-27T19:47:16.475058",
   "version": "2.3.3"
  }
 },
 "nbformat": 4,
 "nbformat_minor": 5
}
