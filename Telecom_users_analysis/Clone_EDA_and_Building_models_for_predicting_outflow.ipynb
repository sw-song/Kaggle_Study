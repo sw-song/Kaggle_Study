{
 "cells": [
  {
   "cell_type": "markdown",
   "id": "e8eaa1e6",
   "metadata": {},
   "source": [
    "# [Clone Project for practice] EDA and Building models for predicting outflow"
   ]
  },
  {
   "cell_type": "markdown",
   "id": "4388f4b0",
   "metadata": {},
   "source": [
    "Work description: \n",
    "\n",
    "Any business wants to maximize the number of customers. To achieve this goal, it is important not only to try to attract new ones, but also to retain existing ones. Retaining a client will cost the company less than attracting a new one. In addition, a new client may be weakly interested in business services and it will be difficult to work with him, while old clients already have the necessary data on interaction with the service. \n",
    "\n",
    "Accordingly, predicting the churn, we can react in time and try to keep the client who wants to leave. Based on the data about the services that the client uses, we can make him a special offer, trying to change his decision to leave the operator. Thanks to this, the task of retention will be easier to implement than the task of attracting new users, about which we do not know anything yet. \n",
    "\n",
    "You are provided with a dataset from a telecommunications company. The data contains information about almost six thousand users, their demographic characteristics, the services they use, the duration of using the operator's services, the method of payment, and the amount of payment. \n",
    "\n",
    "The task is to analyze the data and predict the churn of users (to identify people who will and will not renew their contract). The work should include the following mandatory items:\n",
    "\n",
    "- Description of data (with calculation of basic statistics) ,\n",
    "- Research of dependencies and formulation of hypotheses,\n",
    "- Building models for predicting outflow (with justification for the choice of a particular model) based on tested hypotheses and identified relationships,\n",
    "- Comparison of the quality of the obtained models.\n",
    "\n",
    "\n",
    "In the second section, there must be a justification of hypotheses, a detailed description of the identified relationships, as well as their visualization. \n",
    "In the fourth, general conclusions of the work should be formulated additionally.\n",
    "\n"
   ]
  },
  {
   "cell_type": "markdown",
   "id": "fc74944f",
   "metadata": {},
   "source": [
    "**telecom_users.csv contains the following values:**\n",
    "\n",
    "\n",
    "- customerID - customer id \n",
    "- gender - client gender (male / female) \n",
    "- SeniorCitizen - whether the client is a pensioner (1, 0) \n",
    "- Partner - whether the client is married (Yes, No) \n",
    "- Dependents - does the client have dependents (Yes, No) \n",
    "- tenure - how many months a person has been a client of the company \n",
    "- PhoneService - is the telephone service activated (Yes, No) \n",
    "- MultipleLines - whether multiple telephone lines are connected (Yes, No, No phone service) \n",
    "- InternetService - client's Internet provider (DSL, Fiber optic, No) \n",
    "- OnlineSecurity - is the online security service enabled (Yes, No, No internet service) \n",
    "- OnlineBackup - is the online backup service activated (Yes, No, No internet service) \n",
    "- DeviceProtection - does the client have equipment insurance (Yes, No, No internet service) \n",
    "- TechSupport - is the technical support service activated (Yes, No, No internet service) \n",
    "- StreamingTV - is the streaming TV service activated (Yes, No, No internet service) \n",
    "- StreamingMovies - is the streaming cinema service activated (Yes, No, No internet service) \n",
    "- Contract - type of customer contract (Month-to-month, One year, Two year) \n",
    "- PaperlessBilling - whether the client uses paperless billing (Yes, No) \n",
    "- PaymentMethod - payment method (Electronic check, Mailed check, Bank transfer (automatic), Credit card (automatic)) \n",
    "- MonthlyCharges - current monthly payment \n",
    "- TotalCharges - the total amount that the client has paid for the services for the entire time \n",
    "- Churn - whether there was a churn (Yes or No) "
   ]
  },
  {
   "cell_type": "markdown",
   "id": "474efb27",
   "metadata": {},
   "source": [
    "## 1. Data Description"
   ]
  },
  {
   "cell_type": "code",
   "execution_count": 2,
   "id": "2d212afa",
   "metadata": {},
   "outputs": [],
   "source": [
    "import numpy as np\n",
    "import pandas as pd\n",
    "import math\n",
    "import missingno as msno\n",
    "\n",
    "import matplotlib.pyplot as plt\n",
    "%matplotlib inline\n",
    "import seaborn as sns\n",
    "plt.style.use('seaborn-darkgrid')\n",
    "palette = plt.get_cmap('Set2')"
   ]
  },
  {
   "cell_type": "code",
   "execution_count": 4,
   "id": "fe47e9b3",
   "metadata": {},
   "outputs": [],
   "source": [
    "data = pd.read_csv('./data/telecom_users.csv')"
   ]
  },
  {
   "cell_type": "code",
   "execution_count": 5,
   "id": "3588a506",
   "metadata": {},
   "outputs": [
    {
     "data": {
      "text/html": [
       "<div>\n",
       "<style scoped>\n",
       "    .dataframe tbody tr th:only-of-type {\n",
       "        vertical-align: middle;\n",
       "    }\n",
       "\n",
       "    .dataframe tbody tr th {\n",
       "        vertical-align: top;\n",
       "    }\n",
       "\n",
       "    .dataframe thead th {\n",
       "        text-align: right;\n",
       "    }\n",
       "</style>\n",
       "<table border=\"1\" class=\"dataframe\">\n",
       "  <thead>\n",
       "    <tr style=\"text-align: right;\">\n",
       "      <th></th>\n",
       "      <th>Unnamed: 0</th>\n",
       "      <th>customerID</th>\n",
       "      <th>gender</th>\n",
       "      <th>SeniorCitizen</th>\n",
       "      <th>Partner</th>\n",
       "      <th>Dependents</th>\n",
       "      <th>tenure</th>\n",
       "      <th>PhoneService</th>\n",
       "      <th>MultipleLines</th>\n",
       "      <th>InternetService</th>\n",
       "      <th>...</th>\n",
       "      <th>DeviceProtection</th>\n",
       "      <th>TechSupport</th>\n",
       "      <th>StreamingTV</th>\n",
       "      <th>StreamingMovies</th>\n",
       "      <th>Contract</th>\n",
       "      <th>PaperlessBilling</th>\n",
       "      <th>PaymentMethod</th>\n",
       "      <th>MonthlyCharges</th>\n",
       "      <th>TotalCharges</th>\n",
       "      <th>Churn</th>\n",
       "    </tr>\n",
       "  </thead>\n",
       "  <tbody>\n",
       "    <tr>\n",
       "      <th>0</th>\n",
       "      <td>1869</td>\n",
       "      <td>7010-BRBUU</td>\n",
       "      <td>Male</td>\n",
       "      <td>0</td>\n",
       "      <td>Yes</td>\n",
       "      <td>Yes</td>\n",
       "      <td>72</td>\n",
       "      <td>Yes</td>\n",
       "      <td>Yes</td>\n",
       "      <td>No</td>\n",
       "      <td>...</td>\n",
       "      <td>No internet service</td>\n",
       "      <td>No internet service</td>\n",
       "      <td>No internet service</td>\n",
       "      <td>No internet service</td>\n",
       "      <td>Two year</td>\n",
       "      <td>No</td>\n",
       "      <td>Credit card (automatic)</td>\n",
       "      <td>24.10</td>\n",
       "      <td>1734.65</td>\n",
       "      <td>No</td>\n",
       "    </tr>\n",
       "    <tr>\n",
       "      <th>1</th>\n",
       "      <td>4528</td>\n",
       "      <td>9688-YGXVR</td>\n",
       "      <td>Female</td>\n",
       "      <td>0</td>\n",
       "      <td>No</td>\n",
       "      <td>No</td>\n",
       "      <td>44</td>\n",
       "      <td>Yes</td>\n",
       "      <td>No</td>\n",
       "      <td>Fiber optic</td>\n",
       "      <td>...</td>\n",
       "      <td>Yes</td>\n",
       "      <td>No</td>\n",
       "      <td>Yes</td>\n",
       "      <td>No</td>\n",
       "      <td>Month-to-month</td>\n",
       "      <td>Yes</td>\n",
       "      <td>Credit card (automatic)</td>\n",
       "      <td>88.15</td>\n",
       "      <td>3973.2</td>\n",
       "      <td>No</td>\n",
       "    </tr>\n",
       "    <tr>\n",
       "      <th>2</th>\n",
       "      <td>6344</td>\n",
       "      <td>9286-DOJGF</td>\n",
       "      <td>Female</td>\n",
       "      <td>1</td>\n",
       "      <td>Yes</td>\n",
       "      <td>No</td>\n",
       "      <td>38</td>\n",
       "      <td>Yes</td>\n",
       "      <td>Yes</td>\n",
       "      <td>Fiber optic</td>\n",
       "      <td>...</td>\n",
       "      <td>No</td>\n",
       "      <td>No</td>\n",
       "      <td>No</td>\n",
       "      <td>No</td>\n",
       "      <td>Month-to-month</td>\n",
       "      <td>Yes</td>\n",
       "      <td>Bank transfer (automatic)</td>\n",
       "      <td>74.95</td>\n",
       "      <td>2869.85</td>\n",
       "      <td>Yes</td>\n",
       "    </tr>\n",
       "    <tr>\n",
       "      <th>3</th>\n",
       "      <td>6739</td>\n",
       "      <td>6994-KERXL</td>\n",
       "      <td>Male</td>\n",
       "      <td>0</td>\n",
       "      <td>No</td>\n",
       "      <td>No</td>\n",
       "      <td>4</td>\n",
       "      <td>Yes</td>\n",
       "      <td>No</td>\n",
       "      <td>DSL</td>\n",
       "      <td>...</td>\n",
       "      <td>No</td>\n",
       "      <td>No</td>\n",
       "      <td>No</td>\n",
       "      <td>Yes</td>\n",
       "      <td>Month-to-month</td>\n",
       "      <td>Yes</td>\n",
       "      <td>Electronic check</td>\n",
       "      <td>55.90</td>\n",
       "      <td>238.5</td>\n",
       "      <td>No</td>\n",
       "    </tr>\n",
       "    <tr>\n",
       "      <th>4</th>\n",
       "      <td>432</td>\n",
       "      <td>2181-UAESM</td>\n",
       "      <td>Male</td>\n",
       "      <td>0</td>\n",
       "      <td>No</td>\n",
       "      <td>No</td>\n",
       "      <td>2</td>\n",
       "      <td>Yes</td>\n",
       "      <td>No</td>\n",
       "      <td>DSL</td>\n",
       "      <td>...</td>\n",
       "      <td>Yes</td>\n",
       "      <td>No</td>\n",
       "      <td>No</td>\n",
       "      <td>No</td>\n",
       "      <td>Month-to-month</td>\n",
       "      <td>No</td>\n",
       "      <td>Electronic check</td>\n",
       "      <td>53.45</td>\n",
       "      <td>119.5</td>\n",
       "      <td>No</td>\n",
       "    </tr>\n",
       "  </tbody>\n",
       "</table>\n",
       "<p>5 rows × 22 columns</p>\n",
       "</div>"
      ],
      "text/plain": [
       "   Unnamed: 0  customerID  gender  SeniorCitizen Partner Dependents  tenure  \\\n",
       "0        1869  7010-BRBUU    Male              0     Yes        Yes      72   \n",
       "1        4528  9688-YGXVR  Female              0      No         No      44   \n",
       "2        6344  9286-DOJGF  Female              1     Yes         No      38   \n",
       "3        6739  6994-KERXL    Male              0      No         No       4   \n",
       "4         432  2181-UAESM    Male              0      No         No       2   \n",
       "\n",
       "  PhoneService MultipleLines InternetService  ...     DeviceProtection  \\\n",
       "0          Yes           Yes              No  ...  No internet service   \n",
       "1          Yes            No     Fiber optic  ...                  Yes   \n",
       "2          Yes           Yes     Fiber optic  ...                   No   \n",
       "3          Yes            No             DSL  ...                   No   \n",
       "4          Yes            No             DSL  ...                  Yes   \n",
       "\n",
       "           TechSupport          StreamingTV      StreamingMovies  \\\n",
       "0  No internet service  No internet service  No internet service   \n",
       "1                   No                  Yes                   No   \n",
       "2                   No                   No                   No   \n",
       "3                   No                   No                  Yes   \n",
       "4                   No                   No                   No   \n",
       "\n",
       "         Contract PaperlessBilling              PaymentMethod MonthlyCharges  \\\n",
       "0        Two year               No    Credit card (automatic)          24.10   \n",
       "1  Month-to-month              Yes    Credit card (automatic)          88.15   \n",
       "2  Month-to-month              Yes  Bank transfer (automatic)          74.95   \n",
       "3  Month-to-month              Yes           Electronic check          55.90   \n",
       "4  Month-to-month               No           Electronic check          53.45   \n",
       "\n",
       "  TotalCharges  Churn  \n",
       "0      1734.65     No  \n",
       "1       3973.2     No  \n",
       "2      2869.85    Yes  \n",
       "3        238.5     No  \n",
       "4        119.5     No  \n",
       "\n",
       "[5 rows x 22 columns]"
      ]
     },
     "execution_count": 5,
     "metadata": {},
     "output_type": "execute_result"
    }
   ],
   "source": [
    "data.head()"
   ]
  },
  {
   "cell_type": "markdown",
   "id": "f62606a9",
   "metadata": {},
   "source": [
    "Let's take a look at the presence of missing values, so as not to face unpleasant surprises in the futures"
   ]
  },
  {
   "cell_type": "code",
   "execution_count": 6,
   "id": "28cf4f5e",
   "metadata": {},
   "outputs": [
    {
     "data": {
      "text/plain": [
       "<AxesSubplot:>"
      ]
     },
     "execution_count": 6,
     "metadata": {},
     "output_type": "execute_result"
    },
    {
     "data": {
      "image/png": "[encoded data removed]",
      "text/plain": [
       "<Figure size 1728x720 with 3 Axes>"
      ]
     },
     "metadata": {},
     "output_type": "display_data"
    }
   ],
   "source": [
    "msno.bar(data)"
   ]
  },
  {
   "cell_type": "markdown",
   "id": "c4bb37ed",
   "metadata": {},
   "source": [
    "Find out how many unique values are contained in the data"
   ]
  },
  {
   "cell_type": "code",
   "execution_count": 7,
   "id": "29fb5685",
   "metadata": {},
   "outputs": [
    {
     "data": {
      "text/plain": [
       "Unnamed: 0          5986\n",
       "customerID          5986\n",
       "gender                 2\n",
       "SeniorCitizen          2\n",
       "Partner                2\n",
       "Dependents             2\n",
       "tenure                73\n",
       "PhoneService           2\n",
       "MultipleLines          3\n",
       "InternetService        3\n",
       "OnlineSecurity         3\n",
       "OnlineBackup           3\n",
       "DeviceProtection       3\n",
       "TechSupport            3\n",
       "StreamingTV            3\n",
       "StreamingMovies        3\n",
       "Contract               3\n",
       "PaperlessBilling       2\n",
       "PaymentMethod          4\n",
       "MonthlyCharges      1526\n",
       "TotalCharges        5611\n",
       "Churn                  2\n",
       "dtype: int64"
      ]
     },
     "execution_count": 7,
     "metadata": {},
     "output_type": "execute_result"
    }
   ],
   "source": [
    "data.nunique()"
   ]
  },
  {
   "cell_type": "markdown",
   "id": "8ebae1ee",
   "metadata": {},
   "source": [
    "We can conclude that there are no duplicate customers in the data"
   ]
  },
  {
   "cell_type": "markdown",
   "id": "ac8f2a75",
   "metadata": {},
   "source": [
    "Next, let's start examining each attribute of the dataset seperately and display a number of statistics for each of them"
   ]
  },
  {
   "cell_type": "code",
   "execution_count": 8,
   "id": "dff2a075",
   "metadata": {},
   "outputs": [
    {
     "data": {
      "text/plain": [
       "Unnamed: 0            int64\n",
       "customerID           object\n",
       "gender               object\n",
       "SeniorCitizen         int64\n",
       "Partner              object\n",
       "Dependents           object\n",
       "tenure                int64\n",
       "PhoneService         object\n",
       "MultipleLines        object\n",
       "InternetService      object\n",
       "OnlineSecurity       object\n",
       "OnlineBackup         object\n",
       "DeviceProtection     object\n",
       "TechSupport          object\n",
       "StreamingTV          object\n",
       "StreamingMovies      object\n",
       "Contract             object\n",
       "PaperlessBilling     object\n",
       "PaymentMethod        object\n",
       "MonthlyCharges      float64\n",
       "TotalCharges         object\n",
       "Churn                object\n",
       "dtype: object"
      ]
     },
     "execution_count": 8,
     "metadata": {},
     "output_type": "execute_result"
    }
   ],
   "source": [
    "data.dtypes"
   ]
  },
  {
   "cell_type": "code",
   "execution_count": 9,
   "id": "e835ca7c",
   "metadata": {},
   "outputs": [
    {
     "data": {
      "text/html": [
       "<div>\n",
       "<style scoped>\n",
       "    .dataframe tbody tr th:only-of-type {\n",
       "        vertical-align: middle;\n",
       "    }\n",
       "\n",
       "    .dataframe tbody tr th {\n",
       "        vertical-align: top;\n",
       "    }\n",
       "\n",
       "    .dataframe thead th {\n",
       "        text-align: right;\n",
       "    }\n",
       "</style>\n",
       "<table border=\"1\" class=\"dataframe\">\n",
       "  <thead>\n",
       "    <tr style=\"text-align: right;\">\n",
       "      <th></th>\n",
       "      <th>Unnamed: 0</th>\n",
       "      <th>SeniorCitizen</th>\n",
       "      <th>tenure</th>\n",
       "      <th>MonthlyCharges</th>\n",
       "    </tr>\n",
       "  </thead>\n",
       "  <tbody>\n",
       "    <tr>\n",
       "      <th>count</th>\n",
       "      <td>5986.000000</td>\n",
       "      <td>5986.000000</td>\n",
       "      <td>5986.000000</td>\n",
       "      <td>5986.000000</td>\n",
       "    </tr>\n",
       "    <tr>\n",
       "      <th>mean</th>\n",
       "      <td>3533.561310</td>\n",
       "      <td>0.161377</td>\n",
       "      <td>32.468760</td>\n",
       "      <td>64.802213</td>\n",
       "    </tr>\n",
       "    <tr>\n",
       "      <th>std</th>\n",
       "      <td>2035.705666</td>\n",
       "      <td>0.367909</td>\n",
       "      <td>24.516391</td>\n",
       "      <td>30.114702</td>\n",
       "    </tr>\n",
       "    <tr>\n",
       "      <th>min</th>\n",
       "      <td>0.000000</td>\n",
       "      <td>0.000000</td>\n",
       "      <td>0.000000</td>\n",
       "      <td>18.250000</td>\n",
       "    </tr>\n",
       "    <tr>\n",
       "      <th>25%</th>\n",
       "      <td>1777.250000</td>\n",
       "      <td>0.000000</td>\n",
       "      <td>9.000000</td>\n",
       "      <td>35.650000</td>\n",
       "    </tr>\n",
       "    <tr>\n",
       "      <th>50%</th>\n",
       "      <td>3546.500000</td>\n",
       "      <td>0.000000</td>\n",
       "      <td>29.000000</td>\n",
       "      <td>70.400000</td>\n",
       "    </tr>\n",
       "    <tr>\n",
       "      <th>75%</th>\n",
       "      <td>5291.750000</td>\n",
       "      <td>0.000000</td>\n",
       "      <td>56.000000</td>\n",
       "      <td>89.900000</td>\n",
       "    </tr>\n",
       "    <tr>\n",
       "      <th>max</th>\n",
       "      <td>7042.000000</td>\n",
       "      <td>1.000000</td>\n",
       "      <td>72.000000</td>\n",
       "      <td>118.750000</td>\n",
       "    </tr>\n",
       "  </tbody>\n",
       "</table>\n",
       "</div>"
      ],
      "text/plain": [
       "        Unnamed: 0  SeniorCitizen       tenure  MonthlyCharges\n",
       "count  5986.000000    5986.000000  5986.000000     5986.000000\n",
       "mean   3533.561310       0.161377    32.468760       64.802213\n",
       "std    2035.705666       0.367909    24.516391       30.114702\n",
       "min       0.000000       0.000000     0.000000       18.250000\n",
       "25%    1777.250000       0.000000     9.000000       35.650000\n",
       "50%    3546.500000       0.000000    29.000000       70.400000\n",
       "75%    5291.750000       0.000000    56.000000       89.900000\n",
       "max    7042.000000       1.000000    72.000000      118.750000"
      ]
     },
     "execution_count": 9,
     "metadata": {},
     "output_type": "execute_result"
    }
   ],
   "source": [
    "data.describe()"
   ]
  },
  {
   "cell_type": "code",
   "execution_count": 10,
   "id": "81fec594",
   "metadata": {},
   "outputs": [
    {
     "data": {
      "text/html": [
       "<div>\n",
       "<style scoped>\n",
       "    .dataframe tbody tr th:only-of-type {\n",
       "        vertical-align: middle;\n",
       "    }\n",
       "\n",
       "    .dataframe tbody tr th {\n",
       "        vertical-align: top;\n",
       "    }\n",
       "\n",
       "    .dataframe thead th {\n",
       "        text-align: right;\n",
       "    }\n",
       "</style>\n",
       "<table border=\"1\" class=\"dataframe\">\n",
       "  <thead>\n",
       "    <tr style=\"text-align: right;\">\n",
       "      <th></th>\n",
       "      <th>Unnamed: 0</th>\n",
       "      <th>SeniorCitizen</th>\n",
       "      <th>tenure</th>\n",
       "      <th>MonthlyCharges</th>\n",
       "    </tr>\n",
       "  </thead>\n",
       "  <tbody>\n",
       "    <tr>\n",
       "      <th>count</th>\n",
       "      <td>5986.000000</td>\n",
       "      <td>5986.000000</td>\n",
       "      <td>5986.000000</td>\n",
       "      <td>5986.000000</td>\n",
       "    </tr>\n",
       "    <tr>\n",
       "      <th>mean</th>\n",
       "      <td>3533.561310</td>\n",
       "      <td>0.161377</td>\n",
       "      <td>32.468760</td>\n",
       "      <td>64.802213</td>\n",
       "    </tr>\n",
       "    <tr>\n",
       "      <th>std</th>\n",
       "      <td>2035.705666</td>\n",
       "      <td>0.367909</td>\n",
       "      <td>24.516391</td>\n",
       "      <td>30.114702</td>\n",
       "    </tr>\n",
       "    <tr>\n",
       "      <th>min</th>\n",
       "      <td>0.000000</td>\n",
       "      <td>0.000000</td>\n",
       "      <td>0.000000</td>\n",
       "      <td>18.250000</td>\n",
       "    </tr>\n",
       "    <tr>\n",
       "      <th>25%</th>\n",
       "      <td>1777.250000</td>\n",
       "      <td>0.000000</td>\n",
       "      <td>9.000000</td>\n",
       "      <td>35.650000</td>\n",
       "    </tr>\n",
       "    <tr>\n",
       "      <th>50%</th>\n",
       "      <td>3546.500000</td>\n",
       "      <td>0.000000</td>\n",
       "      <td>29.000000</td>\n",
       "      <td>70.400000</td>\n",
       "    </tr>\n",
       "    <tr>\n",
       "      <th>75%</th>\n",
       "      <td>5291.750000</td>\n",
       "      <td>0.000000</td>\n",
       "      <td>56.000000</td>\n",
       "      <td>89.900000</td>\n",
       "    </tr>\n",
       "    <tr>\n",
       "      <th>max</th>\n",
       "      <td>7042.000000</td>\n",
       "      <td>1.000000</td>\n",
       "      <td>72.000000</td>\n",
       "      <td>118.750000</td>\n",
       "    </tr>\n",
       "  </tbody>\n",
       "</table>\n",
       "</div>"
      ],
      "text/plain": [
       "        Unnamed: 0  SeniorCitizen       tenure  MonthlyCharges\n",
       "count  5986.000000    5986.000000  5986.000000     5986.000000\n",
       "mean   3533.561310       0.161377    32.468760       64.802213\n",
       "std    2035.705666       0.367909    24.516391       30.114702\n",
       "min       0.000000       0.000000     0.000000       18.250000\n",
       "25%    1777.250000       0.000000     9.000000       35.650000\n",
       "50%    3546.500000       0.000000    29.000000       70.400000\n",
       "75%    5291.750000       0.000000    56.000000       89.900000\n",
       "max    7042.000000       1.000000    72.000000      118.750000"
      ]
     },
     "execution_count": 10,
     "metadata": {},
     "output_type": "execute_result"
    }
   ],
   "source": [
    "data.describe(include=[np.number])"
   ]
  },
  {
   "cell_type": "code",
   "execution_count": 11,
   "id": "fe9ffa8e",
   "metadata": {},
   "outputs": [
    {
     "data": {
      "text/html": [
       "<div>\n",
       "<style scoped>\n",
       "    .dataframe tbody tr th:only-of-type {\n",
       "        vertical-align: middle;\n",
       "    }\n",
       "\n",
       "    .dataframe tbody tr th {\n",
       "        vertical-align: top;\n",
       "    }\n",
       "\n",
       "    .dataframe thead th {\n",
       "        text-align: right;\n",
       "    }\n",
       "</style>\n",
       "<table border=\"1\" class=\"dataframe\">\n",
       "  <thead>\n",
       "    <tr style=\"text-align: right;\">\n",
       "      <th></th>\n",
       "      <th>customerID</th>\n",
       "      <th>gender</th>\n",
       "      <th>Partner</th>\n",
       "      <th>Dependents</th>\n",
       "      <th>PhoneService</th>\n",
       "      <th>MultipleLines</th>\n",
       "      <th>InternetService</th>\n",
       "      <th>OnlineSecurity</th>\n",
       "      <th>OnlineBackup</th>\n",
       "      <th>DeviceProtection</th>\n",
       "      <th>TechSupport</th>\n",
       "      <th>StreamingTV</th>\n",
       "      <th>StreamingMovies</th>\n",
       "      <th>Contract</th>\n",
       "      <th>PaperlessBilling</th>\n",
       "      <th>PaymentMethod</th>\n",
       "      <th>TotalCharges</th>\n",
       "      <th>Churn</th>\n",
       "    </tr>\n",
       "  </thead>\n",
       "  <tbody>\n",
       "    <tr>\n",
       "      <th>count</th>\n",
       "      <td>5986</td>\n",
       "      <td>5986</td>\n",
       "      <td>5986</td>\n",
       "      <td>5986</td>\n",
       "      <td>5986</td>\n",
       "      <td>5986</td>\n",
       "      <td>5986</td>\n",
       "      <td>5986</td>\n",
       "      <td>5986</td>\n",
       "      <td>5986</td>\n",
       "      <td>5986</td>\n",
       "      <td>5986</td>\n",
       "      <td>5986</td>\n",
       "      <td>5986</td>\n",
       "      <td>5986</td>\n",
       "      <td>5986</td>\n",
       "      <td>5986</td>\n",
       "      <td>5986</td>\n",
       "    </tr>\n",
       "    <tr>\n",
       "      <th>unique</th>\n",
       "      <td>5986</td>\n",
       "      <td>2</td>\n",
       "      <td>2</td>\n",
       "      <td>2</td>\n",
       "      <td>2</td>\n",
       "      <td>3</td>\n",
       "      <td>3</td>\n",
       "      <td>3</td>\n",
       "      <td>3</td>\n",
       "      <td>3</td>\n",
       "      <td>3</td>\n",
       "      <td>3</td>\n",
       "      <td>3</td>\n",
       "      <td>3</td>\n",
       "      <td>2</td>\n",
       "      <td>4</td>\n",
       "      <td>5611</td>\n",
       "      <td>2</td>\n",
       "    </tr>\n",
       "    <tr>\n",
       "      <th>top</th>\n",
       "      <td>9700-ZCLOT</td>\n",
       "      <td>Male</td>\n",
       "      <td>No</td>\n",
       "      <td>No</td>\n",
       "      <td>Yes</td>\n",
       "      <td>No</td>\n",
       "      <td>Fiber optic</td>\n",
       "      <td>No</td>\n",
       "      <td>No</td>\n",
       "      <td>No</td>\n",
       "      <td>No</td>\n",
       "      <td>No</td>\n",
       "      <td>No</td>\n",
       "      <td>Month-to-month</td>\n",
       "      <td>Yes</td>\n",
       "      <td>Electronic check</td>\n",
       "      <td>20.2</td>\n",
       "      <td>No</td>\n",
       "    </tr>\n",
       "    <tr>\n",
       "      <th>freq</th>\n",
       "      <td>1</td>\n",
       "      <td>3050</td>\n",
       "      <td>3082</td>\n",
       "      <td>4195</td>\n",
       "      <td>5396</td>\n",
       "      <td>2848</td>\n",
       "      <td>2627</td>\n",
       "      <td>2982</td>\n",
       "      <td>2605</td>\n",
       "      <td>2640</td>\n",
       "      <td>2960</td>\n",
       "      <td>2389</td>\n",
       "      <td>2356</td>\n",
       "      <td>3269</td>\n",
       "      <td>3528</td>\n",
       "      <td>2006</td>\n",
       "      <td>10</td>\n",
       "      <td>4399</td>\n",
       "    </tr>\n",
       "  </tbody>\n",
       "</table>\n",
       "</div>"
      ],
      "text/plain": [
       "        customerID gender Partner Dependents PhoneService MultipleLines  \\\n",
       "count         5986   5986    5986       5986         5986          5986   \n",
       "unique        5986      2       2          2            2             3   \n",
       "top     9700-ZCLOT   Male      No         No          Yes            No   \n",
       "freq             1   3050    3082       4195         5396          2848   \n",
       "\n",
       "       InternetService OnlineSecurity OnlineBackup DeviceProtection  \\\n",
       "count             5986           5986         5986             5986   \n",
       "unique               3              3            3                3   \n",
       "top        Fiber optic             No           No               No   \n",
       "freq              2627           2982         2605             2640   \n",
       "\n",
       "       TechSupport StreamingTV StreamingMovies        Contract  \\\n",
       "count         5986        5986            5986            5986   \n",
       "unique           3           3               3               3   \n",
       "top             No          No              No  Month-to-month   \n",
       "freq          2960        2389            2356            3269   \n",
       "\n",
       "       PaperlessBilling     PaymentMethod TotalCharges Churn  \n",
       "count              5986              5986         5986  5986  \n",
       "unique                2                 4         5611     2  \n",
       "top                 Yes  Electronic check         20.2    No  \n",
       "freq               3528              2006           10  4399  "
      ]
     },
     "execution_count": 11,
     "metadata": {},
     "output_type": "execute_result"
    }
   ],
   "source": [
    "data.describe(include=[np.object])"
   ]
  },
  {
   "cell_type": "markdown",
   "id": "0a9c42d7",
   "metadata": {},
   "source": [
    "**Conclusions that can be drawn at the moment:**\n",
    "\n",
    "- The difference between the sexes of clients is very small - about 50 people (male gender prevails).\n",
    "- Most clients have no dependents.\n",
    "- 90% of clients have a telephone service connected.\n",
    "- On average, half of the clients do not use additional services.\n",
    "- Half of the clients have a contract type - 'From month to month'\n",
    "- More than half of customers use paperless billing.\n",
    "- One third of clients have a payment method - 'Electronic check'"
   ]
  },
  {
   "cell_type": "code",
   "execution_count": 12,
   "id": "244a0784",
   "metadata": {},
   "outputs": [],
   "source": [
    "temp = data.describe(include=[np.object])"
   ]
  },
  {
   "cell_type": "code",
   "execution_count": 13,
   "id": "293113a7",
   "metadata": {},
   "outputs": [],
   "source": [
    "temp2 = temp.iloc[3]"
   ]
  },
  {
   "cell_type": "code",
   "execution_count": 14,
   "id": "97e901f4",
   "metadata": {},
   "outputs": [
    {
     "data": {
      "image/png": "[encoded data removed]",
      "text/plain": [
       "<Figure size 432x288 with 1 Axes>"
      ]
     },
     "metadata": {},
     "output_type": "display_data"
    }
   ],
   "source": [
    "plt.bar(x=temp2.index, height=temp2.values, data=temp2)\n",
    "plt.xticks(rotation=90);"
   ]
  },
  {
   "cell_type": "markdown",
   "id": "eadb8b42",
   "metadata": {},
   "source": [
    "## 2. Dependency research and formulation of hypotheses\n",
    "\n",
    "As we can see the conclusion that there are slightly more male clients than female clients is proved on the graph"
   ]
  },
  {
   "cell_type": "code",
   "execution_count": 15,
   "id": "8ce8a1e7",
   "metadata": {},
   "outputs": [
    {
     "data": {
      "text/plain": [
       "0         Male\n",
       "1       Female\n",
       "2       Female\n",
       "3         Male\n",
       "4         Male\n",
       "         ...  \n",
       "5981      Male\n",
       "5982    Female\n",
       "5983      Male\n",
       "5984      Male\n",
       "5985      Male\n",
       "Name: gender, Length: 5986, dtype: object"
      ]
     },
     "execution_count": 15,
     "metadata": {},
     "output_type": "execute_result"
    }
   ],
   "source": [
    "data['gender']"
   ]
  },
  {
   "cell_type": "code",
   "execution_count": 16,
   "id": "aa871b38",
   "metadata": {},
   "outputs": [
    {
     "data": {
      "text/plain": [
       "Male      3050\n",
       "Female    2936\n",
       "Name: gender, dtype: int64"
      ]
     },
     "execution_count": 16,
     "metadata": {},
     "output_type": "execute_result"
    }
   ],
   "source": [
    "data['gender'].value_counts()"
   ]
  },
  {
   "cell_type": "code",
   "execution_count": 17,
   "id": "918f3a95",
   "metadata": {},
   "outputs": [],
   "source": [
    "gender = data['gender'].value_counts()"
   ]
  },
  {
   "cell_type": "code",
   "execution_count": 18,
   "id": "5b8db039",
   "metadata": {},
   "outputs": [
    {
     "data": {
      "image/png": "[encoded data removed]",
      "text/plain": [
       "<Figure size 504x360 with 1 Axes>"
      ]
     },
     "metadata": {},
     "output_type": "display_data"
    }
   ],
   "source": [
    "plt.figure(figsize=(7,5))\n",
    "plot = gender.plot.pie(fontsize=16, autopct='%1.0f%%', labeldistance=1.2, radius=2)\n",
    "plt.show()"
   ]
  },
  {
   "cell_type": "markdown",
   "id": "c7363e21",
   "metadata": {},
   "source": [
    "Here there is about the same situation of married and unmarried a little more than married of unmarried"
   ]
  },
  {
   "cell_type": "code",
   "execution_count": 19,
   "id": "b4f08bd5",
   "metadata": {},
   "outputs": [
    {
     "data": {
      "text/plain": [
       "0       Yes\n",
       "1        No\n",
       "2       Yes\n",
       "3        No\n",
       "4        No\n",
       "       ... \n",
       "5981    Yes\n",
       "5982    Yes\n",
       "5983    Yes\n",
       "5984     No\n",
       "5985     No\n",
       "Name: Partner, Length: 5986, dtype: object"
      ]
     },
     "execution_count": 19,
     "metadata": {},
     "output_type": "execute_result"
    }
   ],
   "source": [
    "data['Partner']"
   ]
  },
  {
   "cell_type": "code",
   "execution_count": 20,
   "id": "4b9deaac",
   "metadata": {},
   "outputs": [
    {
     "data": {
      "text/plain": [
       "No     3082\n",
       "Yes    2904\n",
       "Name: Partner, dtype: int64"
      ]
     },
     "execution_count": 20,
     "metadata": {},
     "output_type": "execute_result"
    }
   ],
   "source": [
    "data['Partner'].value_counts()"
   ]
  },
  {
   "cell_type": "code",
   "execution_count": 21,
   "id": "68463b43",
   "metadata": {},
   "outputs": [],
   "source": [
    "ismarried = data['Partner'].value_counts()"
   ]
  },
  {
   "cell_type": "code",
   "execution_count": 22,
   "id": "20ad161e",
   "metadata": {},
   "outputs": [
    {
     "data": {
      "image/png": "[encoded data removed]",
      "text/plain": [
       "<Figure size 720x504 with 1 Axes>"
      ]
     },
     "metadata": {},
     "output_type": "display_data"
    }
   ],
   "source": [
    "plt.figure(figsize=(10,7))\n",
    "sns.barplot(x=ismarried.index, y=ismarried.values, alpha=0.8)\n",
    "plt.title('Number of Clients who are married or not', fontsize=18, pad=10)\n",
    "plt.ylabel('Number of clients', fontsize=14)\n",
    "plt.xticks(fontsize=14)\n",
    "plt.yticks(fontsize=10)\n",
    "plt.show()"
   ]
  },
  {
   "cell_type": "markdown",
   "id": "c86613bb",
   "metadata": {},
   "source": [
    "In 1-2 months ~ 510 people use the services, but then it drops sharply. It can be assumed that at this time most of the clients leave"
   ]
  },
  {
   "cell_type": "code",
   "execution_count": 23,
   "id": "a46fcda4",
   "metadata": {},
   "outputs": [
    {
     "data": {
      "text/plain": [
       "0       72\n",
       "1       44\n",
       "2       38\n",
       "3        4\n",
       "4        2\n",
       "        ..\n",
       "5981     1\n",
       "5982    23\n",
       "5983    12\n",
       "5984    12\n",
       "5985    26\n",
       "Name: tenure, Length: 5986, dtype: int64"
      ]
     },
     "execution_count": 23,
     "metadata": {},
     "output_type": "execute_result"
    }
   ],
   "source": [
    "data['tenure']"
   ]
  },
  {
   "cell_type": "code",
   "execution_count": 24,
   "id": "66967d9f",
   "metadata": {},
   "outputs": [],
   "source": [
    "tenure = data['tenure']"
   ]
  },
  {
   "cell_type": "code",
   "execution_count": 26,
   "id": "805d28d9",
   "metadata": {},
   "outputs": [
    {
     "name": "stdout",
     "output_type": "stream",
     "text": [
      "72 0\n"
     ]
    }
   ],
   "source": [
    "print(tenure.max(), tenure.min())"
   ]
  },
  {
   "cell_type": "code",
   "execution_count": 27,
   "id": "ab8ee270",
   "metadata": {},
   "outputs": [
    {
     "data": {
      "image/png": "[encoded data removed]",
      "text/plain": [
       "<Figure size 720x504 with 1 Axes>"
      ]
     },
     "metadata": {},
     "output_type": "display_data"
    }
   ],
   "source": [
    "plt.figure(figsize=(10,7))\n",
    "sns.histplot(tenure, bins=50, alpha=0.8)\n",
    "plt.title('How many months a person has been a client of the company', fontsize=18, pad=10)\n",
    "plt.xticks(list(range(0, tenure.max(), 5)), fontsize=12)\n",
    "plt.yticks(list(range(0, 550, 30)), fontsize=12)\n",
    "plt.ylabel('Number of months', fontsize=16)\n",
    "plt.xlabel('Number of clients', fontsize=16)\n",
    "plt.show()"
   ]
  },
  {
   "cell_type": "markdown",
   "id": "e6690d1e",
   "metadata": {},
   "source": [
    "The conclusion that almost all customers use a telephone connection was confirmed"
   ]
  },
  {
   "cell_type": "code",
   "execution_count": 28,
   "id": "50354ee7",
   "metadata": {},
   "outputs": [
    {
     "data": {
      "text/plain": [
       "0       Yes\n",
       "1       Yes\n",
       "2       Yes\n",
       "3       Yes\n",
       "4       Yes\n",
       "       ... \n",
       "5981    Yes\n",
       "5982    Yes\n",
       "5983    Yes\n",
       "5984    Yes\n",
       "5985    Yes\n",
       "Name: PhoneService, Length: 5986, dtype: object"
      ]
     },
     "execution_count": 28,
     "metadata": {},
     "output_type": "execute_result"
    }
   ],
   "source": [
    "data['PhoneService']"
   ]
  },
  {
   "cell_type": "code",
   "execution_count": 29,
   "id": "89df5469",
   "metadata": {},
   "outputs": [
    {
     "data": {
      "text/plain": [
       "Yes    5396\n",
       "No      590\n",
       "Name: PhoneService, dtype: int64"
      ]
     },
     "execution_count": 29,
     "metadata": {},
     "output_type": "execute_result"
    }
   ],
   "source": [
    "data['PhoneService'].value_counts()"
   ]
  },
  {
   "cell_type": "code",
   "execution_count": null,
   "id": "3661eb16",
   "metadata": {},
   "outputs": [],
   "source": [
    "phone_service = data['PhoneService'].value_counts()"
   ]
  },
  {
   "cell_type": "code",
   "execution_count": 31,
   "id": "cd004fc2",
   "metadata": {},
   "outputs": [
    {
     "data": {
      "image/png": "[encoded data removed]",
      "text/plain": [
       "<Figure size 720x504 with 1 Axes>"
      ]
     },
     "metadata": {},
     "output_type": "display_data"
    }
   ],
   "source": [
    "plt.figure(figsize=(10, 7))\n",
    "sns.barplot(x=phone_service.index, y=phone_service.values, alpha=0.8)\n",
    "plt.title('Number of clients using telephone communication', fontsize=18, pad=10)\n",
    "plt.ylabel('Number of clients', fontsize=14)\n",
    "plt.xticks(fontsize=14)\n",
    "plt.yticks(fontsize=10)\n",
    "plt.show()"
   ]
  },
  {
   "cell_type": "markdown",
   "id": "aa203b7e",
   "metadata": {},
   "source": [
    "On average, half of the clients do not use additional services. About 2/3 of clients use additional services"
   ]
  },
  {
   "cell_type": "code",
   "execution_count": 35,
   "id": "39885e01",
   "metadata": {},
   "outputs": [],
   "source": [
    "other_services = ['MultipleLines', 'InternetService', 'OnlineSecurity',\n",
    "                  'OnlineBackup', 'DeviceProtection', 'TechSupport',\n",
    "                  'StreamingTV', 'StreamingMovies']\n"
   ]
  },
  {
   "cell_type": "code",
   "execution_count": 52,
   "id": "e2a63163",
   "metadata": {},
   "outputs": [],
   "source": [
    "temp = [data[obj].value_counts() for obj in other_services]"
   ]
  },
  {
   "cell_type": "code",
   "execution_count": 57,
   "id": "501f7c96",
   "metadata": {},
   "outputs": [
    {
     "data": {
      "image/png": "[encoded data removed]",
      "text/plain": [
       "<Figure size 1440x1080 with 8 Axes>"
      ]
     },
     "metadata": {},
     "output_type": "display_data"
    }
   ],
   "source": [
    "fig, ax = plt.subplots(nrows=4, ncols=2, figsize=(20,15), sharey=True)\n",
    "t= 0\n",
    "\n",
    "for i in range(4):\n",
    "    for j in range(2):\n",
    "        data_prep = [data[obj].value_counts() for obj in other_services]\n",
    "        axes = ax[i][j]\n",
    "        sns.barplot(x=data_prep[t].index, y=data_prep[t].values, ax=axes, alpha=0.8)\n",
    "        axes.set_title(other_services[t], fontsize=16)\n",
    "        axes.set_yticks(list(range(0,3001,500)))\n",
    "        if j == 0:\n",
    "            axes.set_ylabel('Number of clients', fontsize=12)\n",
    "        t += 1\n",
    "fig.suptitle('Customers who use additional services', y=0.93, fontsize=20)\n",
    "plt.show()"
   ]
  },
  {
   "cell_type": "markdown",
   "id": "e9013b77",
   "metadata": {},
   "source": [
    "As we can see, about half of the clients have a \"From month to month\" contract type, and about 1/4 each have \"Two years\" contract types"
   ]
  },
  {
   "cell_type": "code",
   "execution_count": 58,
   "id": "68ecb781",
   "metadata": {},
   "outputs": [
    {
     "data": {
      "text/plain": [
       "0             Two year\n",
       "1       Month-to-month\n",
       "2       Month-to-month\n",
       "3       Month-to-month\n",
       "4       Month-to-month\n",
       "             ...      \n",
       "5981    Month-to-month\n",
       "5982          Two year\n",
       "5983    Month-to-month\n",
       "5984    Month-to-month\n",
       "5985          One year\n",
       "Name: Contract, Length: 5986, dtype: object"
      ]
     },
     "execution_count": 58,
     "metadata": {},
     "output_type": "execute_result"
    }
   ],
   "source": [
    "data['Contract']"
   ]
  },
  {
   "cell_type": "code",
   "execution_count": 60,
   "id": "19ae2d55",
   "metadata": {},
   "outputs": [
    {
     "data": {
      "text/plain": [
       "Month-to-month    3269\n",
       "Two year          1441\n",
       "One year          1276\n",
       "Name: Contract, dtype: int64"
      ]
     },
     "execution_count": 60,
     "metadata": {},
     "output_type": "execute_result"
    }
   ],
   "source": [
    "data['Contract'].value_counts()"
   ]
  },
  {
   "cell_type": "code",
   "execution_count": 61,
   "id": "59e5b359",
   "metadata": {},
   "outputs": [],
   "source": [
    "contract = data['Contract'].value_counts()"
   ]
  },
  {
   "cell_type": "code",
   "execution_count": 62,
   "id": "0117f5ed",
   "metadata": {},
   "outputs": [
    {
     "data": {
      "image/png": "[encoded data removed]",
      "text/plain": [
       "<Figure size 720x504 with 1 Axes>"
      ]
     },
     "metadata": {},
     "output_type": "display_data"
    }
   ],
   "source": [
    "plt.figure(figsize=(10,7))\n",
    "sns.barplot(x=contract.index, y=contract.values, alpha=0.8)\n",
    "plt.title('Number of clients and their type of contact', fontsize=18, pad=10)\n",
    "plt.ylabel('Number of clients', fontsize=14)\n",
    "plt.yticks(fontsize=14)\n",
    "plt.xticks(fontsize=10)\n",
    "plt.show()"
   ]
  },
  {
   "cell_type": "code",
   "execution_count": 72,
   "id": "23292eb3",
   "metadata": {},
   "outputs": [
    {
     "data": {
      "text/plain": [
       "0       24.10\n",
       "1       88.15\n",
       "2       74.95\n",
       "3       55.90\n",
       "4       53.45\n",
       "        ...  \n",
       "5981    95.00\n",
       "5982    91.10\n",
       "5983    21.15\n",
       "5984    99.45\n",
       "5985    19.80\n",
       "Name: MonthlyCharges, Length: 5986, dtype: float64"
      ]
     },
     "execution_count": 72,
     "metadata": {},
     "output_type": "execute_result"
    }
   ],
   "source": [
    "data['MonthlyCharges']"
   ]
  },
  {
   "cell_type": "code",
   "execution_count": 78,
   "id": "5dfc0f78",
   "metadata": {},
   "outputs": [
    {
     "data": {
      "image/png": "[encoded data removed]",
      "text/plain": [
       "<Figure size 720x504 with 1 Axes>"
      ]
     },
     "metadata": {},
     "output_type": "display_data"
    }
   ],
   "source": [
    "monthly_charges = data['MonthlyCharges']\n",
    "plt.figure(figsize=(10,7))\n",
    "\n",
    "sns.histplot(monthly_charges, bins=20).set(ylabel=None, xlabel=None)\n",
    "plt.title('Monthly payment to date',fontsize=18)\n",
    "plt.xlabel('Payment amount',fontsize=14)\n",
    "plt.show()\n"
   ]
  },
  {
   "cell_type": "markdown",
   "id": "88af0bd5",
   "metadata": {},
   "source": [
    "Most of the clients pay for services by electronic check"
   ]
  },
  {
   "cell_type": "code",
   "execution_count": 81,
   "id": "5479d9cf",
   "metadata": {},
   "outputs": [
    {
     "data": {
      "text/plain": [
       "Electronic check             2006\n",
       "Mailed check                 1369\n",
       "Bank transfer (automatic)    1308\n",
       "Credit card (automatic)      1303\n",
       "Name: PaymentMethod, dtype: int64"
      ]
     },
     "execution_count": 81,
     "metadata": {},
     "output_type": "execute_result"
    }
   ],
   "source": [
    "data['PaymentMethod'].value_counts()"
   ]
  },
  {
   "cell_type": "code",
   "execution_count": 79,
   "id": "92a872c2",
   "metadata": {},
   "outputs": [],
   "source": [
    "paymentMethod = data['PaymentMethod'].value_counts()"
   ]
  },
  {
   "cell_type": "code",
   "execution_count": 83,
   "id": "6c455d11",
   "metadata": {},
   "outputs": [
    {
     "data": {
      "image/png": "[encoded data removed]",
      "text/plain": [
       "<Figure size 720x504 with 1 Axes>"
      ]
     },
     "metadata": {},
     "output_type": "display_data"
    }
   ],
   "source": [
    "plt.figure(figsize=(10, 7))\n",
    "sns.barplot(x=paymentMethod.index, y=paymentMethod.values, alpha=0.8)\n",
    "plt.title('Number of clients and their type of payment', fontsize=18, pad=10)\n",
    "plt.ylabel('Number of clients', fontsize=14)\n",
    "plt.xlabel('Payment type', fontsize=14)\n",
    "plt.xticks(fontsize=14, rotation=30)\n",
    "plt.yticks(fontsize=10)\n",
    "plt.show()"
   ]
  },
  {
   "cell_type": "code",
   "execution_count": 84,
   "id": "5f7923f3",
   "metadata": {},
   "outputs": [
    {
     "data": {
      "text/html": [
       "<div>\n",
       "<style scoped>\n",
       "    .dataframe tbody tr th:only-of-type {\n",
       "        vertical-align: middle;\n",
       "    }\n",
       "\n",
       "    .dataframe tbody tr th {\n",
       "        vertical-align: top;\n",
       "    }\n",
       "\n",
       "    .dataframe thead th {\n",
       "        text-align: right;\n",
       "    }\n",
       "</style>\n",
       "<table border=\"1\" class=\"dataframe\">\n",
       "  <thead>\n",
       "    <tr style=\"text-align: right;\">\n",
       "      <th></th>\n",
       "      <th>Unnamed: 0</th>\n",
       "      <th>customerID</th>\n",
       "      <th>gender</th>\n",
       "      <th>SeniorCitizen</th>\n",
       "      <th>Partner</th>\n",
       "      <th>Dependents</th>\n",
       "      <th>tenure</th>\n",
       "      <th>PhoneService</th>\n",
       "      <th>MultipleLines</th>\n",
       "      <th>InternetService</th>\n",
       "      <th>...</th>\n",
       "      <th>DeviceProtection</th>\n",
       "      <th>TechSupport</th>\n",
       "      <th>StreamingTV</th>\n",
       "      <th>StreamingMovies</th>\n",
       "      <th>Contract</th>\n",
       "      <th>PaperlessBilling</th>\n",
       "      <th>PaymentMethod</th>\n",
       "      <th>MonthlyCharges</th>\n",
       "      <th>TotalCharges</th>\n",
       "      <th>Churn</th>\n",
       "    </tr>\n",
       "  </thead>\n",
       "  <tbody>\n",
       "    <tr>\n",
       "      <th>0</th>\n",
       "      <td>1869</td>\n",
       "      <td>7010-BRBUU</td>\n",
       "      <td>Male</td>\n",
       "      <td>0</td>\n",
       "      <td>Yes</td>\n",
       "      <td>Yes</td>\n",
       "      <td>72</td>\n",
       "      <td>Yes</td>\n",
       "      <td>Yes</td>\n",
       "      <td>No</td>\n",
       "      <td>...</td>\n",
       "      <td>No internet service</td>\n",
       "      <td>No internet service</td>\n",
       "      <td>No internet service</td>\n",
       "      <td>No internet service</td>\n",
       "      <td>Two year</td>\n",
       "      <td>No</td>\n",
       "      <td>Credit card (automatic)</td>\n",
       "      <td>24.10</td>\n",
       "      <td>1734.65</td>\n",
       "      <td>No</td>\n",
       "    </tr>\n",
       "    <tr>\n",
       "      <th>1</th>\n",
       "      <td>4528</td>\n",
       "      <td>9688-YGXVR</td>\n",
       "      <td>Female</td>\n",
       "      <td>0</td>\n",
       "      <td>No</td>\n",
       "      <td>No</td>\n",
       "      <td>44</td>\n",
       "      <td>Yes</td>\n",
       "      <td>No</td>\n",
       "      <td>Fiber optic</td>\n",
       "      <td>...</td>\n",
       "      <td>Yes</td>\n",
       "      <td>No</td>\n",
       "      <td>Yes</td>\n",
       "      <td>No</td>\n",
       "      <td>Month-to-month</td>\n",
       "      <td>Yes</td>\n",
       "      <td>Credit card (automatic)</td>\n",
       "      <td>88.15</td>\n",
       "      <td>3973.2</td>\n",
       "      <td>No</td>\n",
       "    </tr>\n",
       "    <tr>\n",
       "      <th>2</th>\n",
       "      <td>6344</td>\n",
       "      <td>9286-DOJGF</td>\n",
       "      <td>Female</td>\n",
       "      <td>1</td>\n",
       "      <td>Yes</td>\n",
       "      <td>No</td>\n",
       "      <td>38</td>\n",
       "      <td>Yes</td>\n",
       "      <td>Yes</td>\n",
       "      <td>Fiber optic</td>\n",
       "      <td>...</td>\n",
       "      <td>No</td>\n",
       "      <td>No</td>\n",
       "      <td>No</td>\n",
       "      <td>No</td>\n",
       "      <td>Month-to-month</td>\n",
       "      <td>Yes</td>\n",
       "      <td>Bank transfer (automatic)</td>\n",
       "      <td>74.95</td>\n",
       "      <td>2869.85</td>\n",
       "      <td>Yes</td>\n",
       "    </tr>\n",
       "    <tr>\n",
       "      <th>3</th>\n",
       "      <td>6739</td>\n",
       "      <td>6994-KERXL</td>\n",
       "      <td>Male</td>\n",
       "      <td>0</td>\n",
       "      <td>No</td>\n",
       "      <td>No</td>\n",
       "      <td>4</td>\n",
       "      <td>Yes</td>\n",
       "      <td>No</td>\n",
       "      <td>DSL</td>\n",
       "      <td>...</td>\n",
       "      <td>No</td>\n",
       "      <td>No</td>\n",
       "      <td>No</td>\n",
       "      <td>Yes</td>\n",
       "      <td>Month-to-month</td>\n",
       "      <td>Yes</td>\n",
       "      <td>Electronic check</td>\n",
       "      <td>55.90</td>\n",
       "      <td>238.5</td>\n",
       "      <td>No</td>\n",
       "    </tr>\n",
       "    <tr>\n",
       "      <th>4</th>\n",
       "      <td>432</td>\n",
       "      <td>2181-UAESM</td>\n",
       "      <td>Male</td>\n",
       "      <td>0</td>\n",
       "      <td>No</td>\n",
       "      <td>No</td>\n",
       "      <td>2</td>\n",
       "      <td>Yes</td>\n",
       "      <td>No</td>\n",
       "      <td>DSL</td>\n",
       "      <td>...</td>\n",
       "      <td>Yes</td>\n",
       "      <td>No</td>\n",
       "      <td>No</td>\n",
       "      <td>No</td>\n",
       "      <td>Month-to-month</td>\n",
       "      <td>No</td>\n",
       "      <td>Electronic check</td>\n",
       "      <td>53.45</td>\n",
       "      <td>119.5</td>\n",
       "      <td>No</td>\n",
       "    </tr>\n",
       "  </tbody>\n",
       "</table>\n",
       "<p>5 rows × 22 columns</p>\n",
       "</div>"
      ],
      "text/plain": [
       "   Unnamed: 0  customerID  gender  SeniorCitizen Partner Dependents  tenure  \\\n",
       "0        1869  7010-BRBUU    Male              0     Yes        Yes      72   \n",
       "1        4528  9688-YGXVR  Female              0      No         No      44   \n",
       "2        6344  9286-DOJGF  Female              1     Yes         No      38   \n",
       "3        6739  6994-KERXL    Male              0      No         No       4   \n",
       "4         432  2181-UAESM    Male              0      No         No       2   \n",
       "\n",
       "  PhoneService MultipleLines InternetService  ...     DeviceProtection  \\\n",
       "0          Yes           Yes              No  ...  No internet service   \n",
       "1          Yes            No     Fiber optic  ...                  Yes   \n",
       "2          Yes           Yes     Fiber optic  ...                   No   \n",
       "3          Yes            No             DSL  ...                   No   \n",
       "4          Yes            No             DSL  ...                  Yes   \n",
       "\n",
       "           TechSupport          StreamingTV      StreamingMovies  \\\n",
       "0  No internet service  No internet service  No internet service   \n",
       "1                   No                  Yes                   No   \n",
       "2                   No                   No                   No   \n",
       "3                   No                   No                  Yes   \n",
       "4                   No                   No                   No   \n",
       "\n",
       "         Contract PaperlessBilling              PaymentMethod MonthlyCharges  \\\n",
       "0        Two year               No    Credit card (automatic)          24.10   \n",
       "1  Month-to-month              Yes    Credit card (automatic)          88.15   \n",
       "2  Month-to-month              Yes  Bank transfer (automatic)          74.95   \n",
       "3  Month-to-month              Yes           Electronic check          55.90   \n",
       "4  Month-to-month               No           Electronic check          53.45   \n",
       "\n",
       "  TotalCharges  Churn  \n",
       "0      1734.65     No  \n",
       "1       3973.2     No  \n",
       "2      2869.85    Yes  \n",
       "3        238.5     No  \n",
       "4        119.5     No  \n",
       "\n",
       "[5 rows x 22 columns]"
      ]
     },
     "execution_count": 84,
     "metadata": {},
     "output_type": "execute_result"
    }
   ],
   "source": [
    "data.head()"
   ]
  },
  {
   "cell_type": "code",
   "execution_count": 92,
   "id": "4bd00f1d",
   "metadata": {},
   "outputs": [
    {
     "data": {
      "text/plain": [
       "customerID          object\n",
       "gender              object\n",
       "Partner             object\n",
       "Dependents          object\n",
       "PhoneService        object\n",
       "MultipleLines       object\n",
       "InternetService     object\n",
       "OnlineSecurity      object\n",
       "OnlineBackup        object\n",
       "DeviceProtection    object\n",
       "TechSupport         object\n",
       "StreamingTV         object\n",
       "StreamingMovies     object\n",
       "Contract            object\n",
       "PaperlessBilling    object\n",
       "PaymentMethod       object\n",
       "TotalCharges        object\n",
       "Churn               object\n",
       "dtype: object"
      ]
     },
     "execution_count": 92,
     "metadata": {},
     "output_type": "execute_result"
    }
   ],
   "source": [
    "data.dtypes[data.dtypes == object]"
   ]
  },
  {
   "cell_type": "code",
   "execution_count": 91,
   "id": "c9be7fcc",
   "metadata": {},
   "outputs": [
    {
     "data": {
      "text/plain": [
       "Index(['customerID', 'gender', 'Partner', 'Dependents', 'PhoneService',\n",
       "       'MultipleLines', 'InternetService', 'OnlineSecurity', 'OnlineBackup',\n",
       "       'DeviceProtection', 'TechSupport', 'StreamingTV', 'StreamingMovies',\n",
       "       'Contract', 'PaperlessBilling', 'PaymentMethod', 'TotalCharges',\n",
       "       'Churn'],\n",
       "      dtype='object')"
      ]
     },
     "execution_count": 91,
     "metadata": {},
     "output_type": "execute_result"
    }
   ],
   "source": [
    "data.dtypes[data.dtypes == object].index"
   ]
  },
  {
   "cell_type": "code",
   "execution_count": 93,
   "id": "3f7ba9c0",
   "metadata": {},
   "outputs": [],
   "source": [
    "object_cols = list(data.dtypes[data.dtypes==object].index)"
   ]
  },
  {
   "cell_type": "code",
   "execution_count": 102,
   "id": "17962194",
   "metadata": {},
   "outputs": [
    {
     "data": {
      "text/plain": [
       "0       7010-BRBUU\n",
       "1       9688-YGXVR\n",
       "2       9286-DOJGF\n",
       "3       6994-KERXL\n",
       "4       2181-UAESM\n",
       "           ...    \n",
       "5981    0684-AOSIH\n",
       "5982    5982-PSMKW\n",
       "5983    8044-BGWPI\n",
       "5984    7450-NWRTR\n",
       "5985    4795-UXVCJ\n",
       "Name: customerID, Length: 5986, dtype: object"
      ]
     },
     "execution_count": 102,
     "metadata": {},
     "output_type": "execute_result"
    }
   ],
   "source": [
    "data['customerID']"
   ]
  },
  {
   "cell_type": "code",
   "execution_count": 101,
   "id": "d5d87713",
   "metadata": {},
   "outputs": [
    {
     "data": {
      "text/plain": [
       "0       7010-BRBUU\n",
       "1       9688-YGXVR\n",
       "2       9286-DOJGF\n",
       "3       6994-KERXL\n",
       "4       2181-UAESM\n",
       "           ...    \n",
       "5981    0684-AOSIH\n",
       "5982    5982-PSMKW\n",
       "5983    8044-BGWPI\n",
       "5984    7450-NWRTR\n",
       "5985    4795-UXVCJ\n",
       "Name: customerID, Length: 5986, dtype: category\n",
       "Categories (5986, object): [0002-ORFBO, 0003-MKNFE, 0004-TLHLJ, 0011-IGKFF, ..., 9987-LUTYD, 9992-RRAMN, 9992-UJOEL, 9993-LHIEB]"
      ]
     },
     "execution_count": 101,
     "metadata": {},
     "output_type": "execute_result"
    }
   ],
   "source": [
    "data['customerID'].astype('category')"
   ]
  },
  {
   "cell_type": "code",
   "execution_count": 103,
   "id": "3396b0e6",
   "metadata": {},
   "outputs": [],
   "source": [
    "for col in object_cols:\n",
    "    data[col] = data[col].astype('category')"
   ]
  },
  {
   "cell_type": "code",
   "execution_count": 105,
   "id": "1e83d7d0",
   "metadata": {},
   "outputs": [],
   "source": [
    "cat_columns = data.select_dtypes(['category']).columns"
   ]
  },
  {
   "cell_type": "code",
   "execution_count": 109,
   "id": "6350a2e0",
   "metadata": {},
   "outputs": [
    {
     "data": {
      "text/html": [
       "<div>\n",
       "<style scoped>\n",
       "    .dataframe tbody tr th:only-of-type {\n",
       "        vertical-align: middle;\n",
       "    }\n",
       "\n",
       "    .dataframe tbody tr th {\n",
       "        vertical-align: top;\n",
       "    }\n",
       "\n",
       "    .dataframe thead th {\n",
       "        text-align: right;\n",
       "    }\n",
       "</style>\n",
       "<table border=\"1\" class=\"dataframe\">\n",
       "  <thead>\n",
       "    <tr style=\"text-align: right;\">\n",
       "      <th></th>\n",
       "      <th>customerID</th>\n",
       "      <th>gender</th>\n",
       "      <th>Partner</th>\n",
       "      <th>Dependents</th>\n",
       "      <th>PhoneService</th>\n",
       "      <th>MultipleLines</th>\n",
       "      <th>InternetService</th>\n",
       "      <th>OnlineSecurity</th>\n",
       "      <th>OnlineBackup</th>\n",
       "      <th>DeviceProtection</th>\n",
       "      <th>TechSupport</th>\n",
       "      <th>StreamingTV</th>\n",
       "      <th>StreamingMovies</th>\n",
       "      <th>Contract</th>\n",
       "      <th>PaperlessBilling</th>\n",
       "      <th>PaymentMethod</th>\n",
       "      <th>TotalCharges</th>\n",
       "      <th>Churn</th>\n",
       "    </tr>\n",
       "  </thead>\n",
       "  <tbody>\n",
       "    <tr>\n",
       "      <th>0</th>\n",
       "      <td>4252</td>\n",
       "      <td>1</td>\n",
       "      <td>1</td>\n",
       "      <td>1</td>\n",
       "      <td>1</td>\n",
       "      <td>2</td>\n",
       "      <td>2</td>\n",
       "      <td>1</td>\n",
       "      <td>1</td>\n",
       "      <td>1</td>\n",
       "      <td>1</td>\n",
       "      <td>1</td>\n",
       "      <td>1</td>\n",
       "      <td>2</td>\n",
       "      <td>0</td>\n",
       "      <td>1</td>\n",
       "      <td>1066</td>\n",
       "      <td>0</td>\n",
       "    </tr>\n",
       "    <tr>\n",
       "      <th>1</th>\n",
       "      <td>5806</td>\n",
       "      <td>0</td>\n",
       "      <td>0</td>\n",
       "      <td>0</td>\n",
       "      <td>1</td>\n",
       "      <td>0</td>\n",
       "      <td>1</td>\n",
       "      <td>0</td>\n",
       "      <td>2</td>\n",
       "      <td>2</td>\n",
       "      <td>0</td>\n",
       "      <td>2</td>\n",
       "      <td>0</td>\n",
       "      <td>0</td>\n",
       "      <td>1</td>\n",
       "      <td>1</td>\n",
       "      <td>2901</td>\n",
       "      <td>0</td>\n",
       "    </tr>\n",
       "    <tr>\n",
       "      <th>2</th>\n",
       "      <td>5577</td>\n",
       "      <td>0</td>\n",
       "      <td>1</td>\n",
       "      <td>0</td>\n",
       "      <td>1</td>\n",
       "      <td>2</td>\n",
       "      <td>1</td>\n",
       "      <td>0</td>\n",
       "      <td>0</td>\n",
       "      <td>0</td>\n",
       "      <td>0</td>\n",
       "      <td>0</td>\n",
       "      <td>0</td>\n",
       "      <td>0</td>\n",
       "      <td>1</td>\n",
       "      <td>0</td>\n",
       "      <td>2126</td>\n",
       "      <td>1</td>\n",
       "    </tr>\n",
       "    <tr>\n",
       "      <th>3</th>\n",
       "      <td>4243</td>\n",
       "      <td>1</td>\n",
       "      <td>0</td>\n",
       "      <td>0</td>\n",
       "      <td>1</td>\n",
       "      <td>0</td>\n",
       "      <td>0</td>\n",
       "      <td>0</td>\n",
       "      <td>0</td>\n",
       "      <td>0</td>\n",
       "      <td>0</td>\n",
       "      <td>0</td>\n",
       "      <td>2</td>\n",
       "      <td>0</td>\n",
       "      <td>1</td>\n",
       "      <td>2</td>\n",
       "      <td>1733</td>\n",
       "      <td>0</td>\n",
       "    </tr>\n",
       "    <tr>\n",
       "      <th>4</th>\n",
       "      <td>1270</td>\n",
       "      <td>1</td>\n",
       "      <td>0</td>\n",
       "      <td>0</td>\n",
       "      <td>1</td>\n",
       "      <td>0</td>\n",
       "      <td>0</td>\n",
       "      <td>2</td>\n",
       "      <td>0</td>\n",
       "      <td>2</td>\n",
       "      <td>0</td>\n",
       "      <td>0</td>\n",
       "      <td>0</td>\n",
       "      <td>0</td>\n",
       "      <td>0</td>\n",
       "      <td>2</td>\n",
       "      <td>308</td>\n",
       "      <td>0</td>\n",
       "    </tr>\n",
       "    <tr>\n",
       "      <th>...</th>\n",
       "      <td>...</td>\n",
       "      <td>...</td>\n",
       "      <td>...</td>\n",
       "      <td>...</td>\n",
       "      <td>...</td>\n",
       "      <td>...</td>\n",
       "      <td>...</td>\n",
       "      <td>...</td>\n",
       "      <td>...</td>\n",
       "      <td>...</td>\n",
       "      <td>...</td>\n",
       "      <td>...</td>\n",
       "      <td>...</td>\n",
       "      <td>...</td>\n",
       "      <td>...</td>\n",
       "      <td>...</td>\n",
       "      <td>...</td>\n",
       "      <td>...</td>\n",
       "    </tr>\n",
       "    <tr>\n",
       "      <th>5981</th>\n",
       "      <td>402</td>\n",
       "      <td>1</td>\n",
       "      <td>1</td>\n",
       "      <td>0</td>\n",
       "      <td>1</td>\n",
       "      <td>0</td>\n",
       "      <td>1</td>\n",
       "      <td>2</td>\n",
       "      <td>0</td>\n",
       "      <td>0</td>\n",
       "      <td>0</td>\n",
       "      <td>2</td>\n",
       "      <td>2</td>\n",
       "      <td>0</td>\n",
       "      <td>1</td>\n",
       "      <td>2</td>\n",
       "      <td>5540</td>\n",
       "      <td>1</td>\n",
       "    </tr>\n",
       "    <tr>\n",
       "      <th>5982</th>\n",
       "      <td>3616</td>\n",
       "      <td>0</td>\n",
       "      <td>1</td>\n",
       "      <td>1</td>\n",
       "      <td>1</td>\n",
       "      <td>2</td>\n",
       "      <td>0</td>\n",
       "      <td>2</td>\n",
       "      <td>2</td>\n",
       "      <td>2</td>\n",
       "      <td>2</td>\n",
       "      <td>2</td>\n",
       "      <td>2</td>\n",
       "      <td>2</td>\n",
       "      <td>1</td>\n",
       "      <td>1</td>\n",
       "      <td>1561</td>\n",
       "      <td>0</td>\n",
       "    </tr>\n",
       "    <tr>\n",
       "      <th>5983</th>\n",
       "      <td>4858</td>\n",
       "      <td>1</td>\n",
       "      <td>1</td>\n",
       "      <td>1</td>\n",
       "      <td>1</td>\n",
       "      <td>0</td>\n",
       "      <td>2</td>\n",
       "      <td>1</td>\n",
       "      <td>1</td>\n",
       "      <td>1</td>\n",
       "      <td>1</td>\n",
       "      <td>1</td>\n",
       "      <td>1</td>\n",
       "      <td>0</td>\n",
       "      <td>1</td>\n",
       "      <td>2</td>\n",
       "      <td>2290</td>\n",
       "      <td>0</td>\n",
       "    </tr>\n",
       "    <tr>\n",
       "      <th>5984</th>\n",
       "      <td>4499</td>\n",
       "      <td>1</td>\n",
       "      <td>0</td>\n",
       "      <td>0</td>\n",
       "      <td>1</td>\n",
       "      <td>2</td>\n",
       "      <td>1</td>\n",
       "      <td>0</td>\n",
       "      <td>0</td>\n",
       "      <td>2</td>\n",
       "      <td>0</td>\n",
       "      <td>2</td>\n",
       "      <td>2</td>\n",
       "      <td>0</td>\n",
       "      <td>1</td>\n",
       "      <td>2</td>\n",
       "      <td>322</td>\n",
       "      <td>1</td>\n",
       "    </tr>\n",
       "    <tr>\n",
       "      <th>5985</th>\n",
       "      <td>2866</td>\n",
       "      <td>1</td>\n",
       "      <td>0</td>\n",
       "      <td>0</td>\n",
       "      <td>1</td>\n",
       "      <td>0</td>\n",
       "      <td>2</td>\n",
       "      <td>1</td>\n",
       "      <td>1</td>\n",
       "      <td>1</td>\n",
       "      <td>1</td>\n",
       "      <td>1</td>\n",
       "      <td>1</td>\n",
       "      <td>1</td>\n",
       "      <td>0</td>\n",
       "      <td>1</td>\n",
       "      <td>3335</td>\n",
       "      <td>0</td>\n",
       "    </tr>\n",
       "  </tbody>\n",
       "</table>\n",
       "<p>5986 rows × 18 columns</p>\n",
       "</div>"
      ],
      "text/plain": [
       "      customerID  gender  Partner  Dependents  PhoneService  MultipleLines  \\\n",
       "0           4252       1        1           1             1              2   \n",
       "1           5806       0        0           0             1              0   \n",
       "2           5577       0        1           0             1              2   \n",
       "3           4243       1        0           0             1              0   \n",
       "4           1270       1        0           0             1              0   \n",
       "...          ...     ...      ...         ...           ...            ...   \n",
       "5981         402       1        1           0             1              0   \n",
       "5982        3616       0        1           1             1              2   \n",
       "5983        4858       1        1           1             1              0   \n",
       "5984        4499       1        0           0             1              2   \n",
       "5985        2866       1        0           0             1              0   \n",
       "\n",
       "      InternetService  OnlineSecurity  OnlineBackup  DeviceProtection  \\\n",
       "0                   2               1             1                 1   \n",
       "1                   1               0             2                 2   \n",
       "2                   1               0             0                 0   \n",
       "3                   0               0             0                 0   \n",
       "4                   0               2             0                 2   \n",
       "...               ...             ...           ...               ...   \n",
       "5981                1               2             0                 0   \n",
       "5982                0               2             2                 2   \n",
       "5983                2               1             1                 1   \n",
       "5984                1               0             0                 2   \n",
       "5985                2               1             1                 1   \n",
       "\n",
       "      TechSupport  StreamingTV  StreamingMovies  Contract  PaperlessBilling  \\\n",
       "0               1            1                1         2                 0   \n",
       "1               0            2                0         0                 1   \n",
       "2               0            0                0         0                 1   \n",
       "3               0            0                2         0                 1   \n",
       "4               0            0                0         0                 0   \n",
       "...           ...          ...              ...       ...               ...   \n",
       "5981            0            2                2         0                 1   \n",
       "5982            2            2                2         2                 1   \n",
       "5983            1            1                1         0                 1   \n",
       "5984            0            2                2         0                 1   \n",
       "5985            1            1                1         1                 0   \n",
       "\n",
       "      PaymentMethod  TotalCharges  Churn  \n",
       "0                 1          1066      0  \n",
       "1                 1          2901      0  \n",
       "2                 0          2126      1  \n",
       "3                 2          1733      0  \n",
       "4                 2           308      0  \n",
       "...             ...           ...    ...  \n",
       "5981              2          5540      1  \n",
       "5982              1          1561      0  \n",
       "5983              2          2290      0  \n",
       "5984              2           322      1  \n",
       "5985              1          3335      0  \n",
       "\n",
       "[5986 rows x 18 columns]"
      ]
     },
     "execution_count": 109,
     "metadata": {},
     "output_type": "execute_result"
    }
   ],
   "source": [
    "data[cat_columns].apply(lambda x : x.cat.codes)"
   ]
  },
  {
   "cell_type": "code",
   "execution_count": 110,
   "id": "25fae628",
   "metadata": {},
   "outputs": [],
   "source": [
    "data[cat_columns] = data[cat_columns].apply(lambda x : x.cat.codes)"
   ]
  },
  {
   "cell_type": "code",
   "execution_count": 111,
   "id": "c5ad5565",
   "metadata": {},
   "outputs": [
    {
     "data": {
      "text/html": [
       "<div>\n",
       "<style scoped>\n",
       "    .dataframe tbody tr th:only-of-type {\n",
       "        vertical-align: middle;\n",
       "    }\n",
       "\n",
       "    .dataframe tbody tr th {\n",
       "        vertical-align: top;\n",
       "    }\n",
       "\n",
       "    .dataframe thead th {\n",
       "        text-align: right;\n",
       "    }\n",
       "</style>\n",
       "<table border=\"1\" class=\"dataframe\">\n",
       "  <thead>\n",
       "    <tr style=\"text-align: right;\">\n",
       "      <th></th>\n",
       "      <th>Unnamed: 0</th>\n",
       "      <th>customerID</th>\n",
       "      <th>gender</th>\n",
       "      <th>SeniorCitizen</th>\n",
       "      <th>Partner</th>\n",
       "      <th>Dependents</th>\n",
       "      <th>tenure</th>\n",
       "      <th>PhoneService</th>\n",
       "      <th>MultipleLines</th>\n",
       "      <th>InternetService</th>\n",
       "      <th>...</th>\n",
       "      <th>DeviceProtection</th>\n",
       "      <th>TechSupport</th>\n",
       "      <th>StreamingTV</th>\n",
       "      <th>StreamingMovies</th>\n",
       "      <th>Contract</th>\n",
       "      <th>PaperlessBilling</th>\n",
       "      <th>PaymentMethod</th>\n",
       "      <th>MonthlyCharges</th>\n",
       "      <th>TotalCharges</th>\n",
       "      <th>Churn</th>\n",
       "    </tr>\n",
       "  </thead>\n",
       "  <tbody>\n",
       "    <tr>\n",
       "      <th>0</th>\n",
       "      <td>1869</td>\n",
       "      <td>4252</td>\n",
       "      <td>1</td>\n",
       "      <td>0</td>\n",
       "      <td>1</td>\n",
       "      <td>1</td>\n",
       "      <td>72</td>\n",
       "      <td>1</td>\n",
       "      <td>2</td>\n",
       "      <td>2</td>\n",
       "      <td>...</td>\n",
       "      <td>1</td>\n",
       "      <td>1</td>\n",
       "      <td>1</td>\n",
       "      <td>1</td>\n",
       "      <td>2</td>\n",
       "      <td>0</td>\n",
       "      <td>1</td>\n",
       "      <td>24.10</td>\n",
       "      <td>1066</td>\n",
       "      <td>0</td>\n",
       "    </tr>\n",
       "    <tr>\n",
       "      <th>1</th>\n",
       "      <td>4528</td>\n",
       "      <td>5806</td>\n",
       "      <td>0</td>\n",
       "      <td>0</td>\n",
       "      <td>0</td>\n",
       "      <td>0</td>\n",
       "      <td>44</td>\n",
       "      <td>1</td>\n",
       "      <td>0</td>\n",
       "      <td>1</td>\n",
       "      <td>...</td>\n",
       "      <td>2</td>\n",
       "      <td>0</td>\n",
       "      <td>2</td>\n",
       "      <td>0</td>\n",
       "      <td>0</td>\n",
       "      <td>1</td>\n",
       "      <td>1</td>\n",
       "      <td>88.15</td>\n",
       "      <td>2901</td>\n",
       "      <td>0</td>\n",
       "    </tr>\n",
       "    <tr>\n",
       "      <th>2</th>\n",
       "      <td>6344</td>\n",
       "      <td>5577</td>\n",
       "      <td>0</td>\n",
       "      <td>1</td>\n",
       "      <td>1</td>\n",
       "      <td>0</td>\n",
       "      <td>38</td>\n",
       "      <td>1</td>\n",
       "      <td>2</td>\n",
       "      <td>1</td>\n",
       "      <td>...</td>\n",
       "      <td>0</td>\n",
       "      <td>0</td>\n",
       "      <td>0</td>\n",
       "      <td>0</td>\n",
       "      <td>0</td>\n",
       "      <td>1</td>\n",
       "      <td>0</td>\n",
       "      <td>74.95</td>\n",
       "      <td>2126</td>\n",
       "      <td>1</td>\n",
       "    </tr>\n",
       "    <tr>\n",
       "      <th>3</th>\n",
       "      <td>6739</td>\n",
       "      <td>4243</td>\n",
       "      <td>1</td>\n",
       "      <td>0</td>\n",
       "      <td>0</td>\n",
       "      <td>0</td>\n",
       "      <td>4</td>\n",
       "      <td>1</td>\n",
       "      <td>0</td>\n",
       "      <td>0</td>\n",
       "      <td>...</td>\n",
       "      <td>0</td>\n",
       "      <td>0</td>\n",
       "      <td>0</td>\n",
       "      <td>2</td>\n",
       "      <td>0</td>\n",
       "      <td>1</td>\n",
       "      <td>2</td>\n",
       "      <td>55.90</td>\n",
       "      <td>1733</td>\n",
       "      <td>0</td>\n",
       "    </tr>\n",
       "    <tr>\n",
       "      <th>4</th>\n",
       "      <td>432</td>\n",
       "      <td>1270</td>\n",
       "      <td>1</td>\n",
       "      <td>0</td>\n",
       "      <td>0</td>\n",
       "      <td>0</td>\n",
       "      <td>2</td>\n",
       "      <td>1</td>\n",
       "      <td>0</td>\n",
       "      <td>0</td>\n",
       "      <td>...</td>\n",
       "      <td>2</td>\n",
       "      <td>0</td>\n",
       "      <td>0</td>\n",
       "      <td>0</td>\n",
       "      <td>0</td>\n",
       "      <td>0</td>\n",
       "      <td>2</td>\n",
       "      <td>53.45</td>\n",
       "      <td>308</td>\n",
       "      <td>0</td>\n",
       "    </tr>\n",
       "    <tr>\n",
       "      <th>...</th>\n",
       "      <td>...</td>\n",
       "      <td>...</td>\n",
       "      <td>...</td>\n",
       "      <td>...</td>\n",
       "      <td>...</td>\n",
       "      <td>...</td>\n",
       "      <td>...</td>\n",
       "      <td>...</td>\n",
       "      <td>...</td>\n",
       "      <td>...</td>\n",
       "      <td>...</td>\n",
       "      <td>...</td>\n",
       "      <td>...</td>\n",
       "      <td>...</td>\n",
       "      <td>...</td>\n",
       "      <td>...</td>\n",
       "      <td>...</td>\n",
       "      <td>...</td>\n",
       "      <td>...</td>\n",
       "      <td>...</td>\n",
       "      <td>...</td>\n",
       "    </tr>\n",
       "    <tr>\n",
       "      <th>5981</th>\n",
       "      <td>3772</td>\n",
       "      <td>402</td>\n",
       "      <td>1</td>\n",
       "      <td>0</td>\n",
       "      <td>1</td>\n",
       "      <td>0</td>\n",
       "      <td>1</td>\n",
       "      <td>1</td>\n",
       "      <td>0</td>\n",
       "      <td>1</td>\n",
       "      <td>...</td>\n",
       "      <td>0</td>\n",
       "      <td>0</td>\n",
       "      <td>2</td>\n",
       "      <td>2</td>\n",
       "      <td>0</td>\n",
       "      <td>1</td>\n",
       "      <td>2</td>\n",
       "      <td>95.00</td>\n",
       "      <td>5540</td>\n",
       "      <td>1</td>\n",
       "    </tr>\n",
       "    <tr>\n",
       "      <th>5982</th>\n",
       "      <td>5191</td>\n",
       "      <td>3616</td>\n",
       "      <td>0</td>\n",
       "      <td>0</td>\n",
       "      <td>1</td>\n",
       "      <td>1</td>\n",
       "      <td>23</td>\n",
       "      <td>1</td>\n",
       "      <td>2</td>\n",
       "      <td>0</td>\n",
       "      <td>...</td>\n",
       "      <td>2</td>\n",
       "      <td>2</td>\n",
       "      <td>2</td>\n",
       "      <td>2</td>\n",
       "      <td>2</td>\n",
       "      <td>1</td>\n",
       "      <td>1</td>\n",
       "      <td>91.10</td>\n",
       "      <td>1561</td>\n",
       "      <td>0</td>\n",
       "    </tr>\n",
       "    <tr>\n",
       "      <th>5983</th>\n",
       "      <td>5226</td>\n",
       "      <td>4858</td>\n",
       "      <td>1</td>\n",
       "      <td>0</td>\n",
       "      <td>1</td>\n",
       "      <td>1</td>\n",
       "      <td>12</td>\n",
       "      <td>1</td>\n",
       "      <td>0</td>\n",
       "      <td>2</td>\n",
       "      <td>...</td>\n",
       "      <td>1</td>\n",
       "      <td>1</td>\n",
       "      <td>1</td>\n",
       "      <td>1</td>\n",
       "      <td>0</td>\n",
       "      <td>1</td>\n",
       "      <td>2</td>\n",
       "      <td>21.15</td>\n",
       "      <td>2290</td>\n",
       "      <td>0</td>\n",
       "    </tr>\n",
       "    <tr>\n",
       "      <th>5984</th>\n",
       "      <td>5390</td>\n",
       "      <td>4499</td>\n",
       "      <td>1</td>\n",
       "      <td>1</td>\n",
       "      <td>0</td>\n",
       "      <td>0</td>\n",
       "      <td>12</td>\n",
       "      <td>1</td>\n",
       "      <td>2</td>\n",
       "      <td>1</td>\n",
       "      <td>...</td>\n",
       "      <td>2</td>\n",
       "      <td>0</td>\n",
       "      <td>2</td>\n",
       "      <td>2</td>\n",
       "      <td>0</td>\n",
       "      <td>1</td>\n",
       "      <td>2</td>\n",
       "      <td>99.45</td>\n",
       "      <td>322</td>\n",
       "      <td>1</td>\n",
       "    </tr>\n",
       "    <tr>\n",
       "      <th>5985</th>\n",
       "      <td>860</td>\n",
       "      <td>2866</td>\n",
       "      <td>1</td>\n",
       "      <td>0</td>\n",
       "      <td>0</td>\n",
       "      <td>0</td>\n",
       "      <td>26</td>\n",
       "      <td>1</td>\n",
       "      <td>0</td>\n",
       "      <td>2</td>\n",
       "      <td>...</td>\n",
       "      <td>1</td>\n",
       "      <td>1</td>\n",
       "      <td>1</td>\n",
       "      <td>1</td>\n",
       "      <td>1</td>\n",
       "      <td>0</td>\n",
       "      <td>1</td>\n",
       "      <td>19.80</td>\n",
       "      <td>3335</td>\n",
       "      <td>0</td>\n",
       "    </tr>\n",
       "  </tbody>\n",
       "</table>\n",
       "<p>5986 rows × 22 columns</p>\n",
       "</div>"
      ],
      "text/plain": [
       "      Unnamed: 0  customerID  gender  SeniorCitizen  Partner  Dependents  \\\n",
       "0           1869        4252       1              0        1           1   \n",
       "1           4528        5806       0              0        0           0   \n",
       "2           6344        5577       0              1        1           0   \n",
       "3           6739        4243       1              0        0           0   \n",
       "4            432        1270       1              0        0           0   \n",
       "...          ...         ...     ...            ...      ...         ...   \n",
       "5981        3772         402       1              0        1           0   \n",
       "5982        5191        3616       0              0        1           1   \n",
       "5983        5226        4858       1              0        1           1   \n",
       "5984        5390        4499       1              1        0           0   \n",
       "5985         860        2866       1              0        0           0   \n",
       "\n",
       "      tenure  PhoneService  MultipleLines  InternetService  ...  \\\n",
       "0         72             1              2                2  ...   \n",
       "1         44             1              0                1  ...   \n",
       "2         38             1              2                1  ...   \n",
       "3          4             1              0                0  ...   \n",
       "4          2             1              0                0  ...   \n",
       "...      ...           ...            ...              ...  ...   \n",
       "5981       1             1              0                1  ...   \n",
       "5982      23             1              2                0  ...   \n",
       "5983      12             1              0                2  ...   \n",
       "5984      12             1              2                1  ...   \n",
       "5985      26             1              0                2  ...   \n",
       "\n",
       "      DeviceProtection  TechSupport  StreamingTV  StreamingMovies  Contract  \\\n",
       "0                    1            1            1                1         2   \n",
       "1                    2            0            2                0         0   \n",
       "2                    0            0            0                0         0   \n",
       "3                    0            0            0                2         0   \n",
       "4                    2            0            0                0         0   \n",
       "...                ...          ...          ...              ...       ...   \n",
       "5981                 0            0            2                2         0   \n",
       "5982                 2            2            2                2         2   \n",
       "5983                 1            1            1                1         0   \n",
       "5984                 2            0            2                2         0   \n",
       "5985                 1            1            1                1         1   \n",
       "\n",
       "      PaperlessBilling  PaymentMethod  MonthlyCharges  TotalCharges  Churn  \n",
       "0                    0              1           24.10          1066      0  \n",
       "1                    1              1           88.15          2901      0  \n",
       "2                    1              0           74.95          2126      1  \n",
       "3                    1              2           55.90          1733      0  \n",
       "4                    0              2           53.45           308      0  \n",
       "...                ...            ...             ...           ...    ...  \n",
       "5981                 1              2           95.00          5540      1  \n",
       "5982                 1              1           91.10          1561      0  \n",
       "5983                 1              2           21.15          2290      0  \n",
       "5984                 1              2           99.45           322      1  \n",
       "5985                 0              1           19.80          3335      0  \n",
       "\n",
       "[5986 rows x 22 columns]"
      ]
     },
     "execution_count": 111,
     "metadata": {},
     "output_type": "execute_result"
    }
   ],
   "source": [
    "data"
   ]
  },
  {
   "cell_type": "code",
   "execution_count": 116,
   "id": "dc93cbd5",
   "metadata": {},
   "outputs": [
    {
     "name": "stdout",
     "output_type": "stream",
     "text": [
      "<class 'pandas.core.frame.DataFrame'>\n",
      "RangeIndex: 5986 entries, 0 to 5985\n",
      "Data columns (total 22 columns):\n",
      " #   Column            Non-Null Count  Dtype  \n",
      "---  ------            --------------  -----  \n",
      " 0   Unnamed: 0        5986 non-null   int64  \n",
      " 1   customerID        5986 non-null   int16  \n",
      " 2   gender            5986 non-null   int8   \n",
      " 3   SeniorCitizen     5986 non-null   int64  \n",
      " 4   Partner           5986 non-null   int8   \n",
      " 5   Dependents        5986 non-null   int8   \n",
      " 6   tenure            5986 non-null   int64  \n",
      " 7   PhoneService      5986 non-null   int8   \n",
      " 8   MultipleLines     5986 non-null   int8   \n",
      " 9   InternetService   5986 non-null   int8   \n",
      " 10  OnlineSecurity    5986 non-null   int8   \n",
      " 11  OnlineBackup      5986 non-null   int8   \n",
      " 12  DeviceProtection  5986 non-null   int8   \n",
      " 13  TechSupport       5986 non-null   int8   \n",
      " 14  StreamingTV       5986 non-null   int8   \n",
      " 15  StreamingMovies   5986 non-null   int8   \n",
      " 16  Contract          5986 non-null   int8   \n",
      " 17  PaperlessBilling  5986 non-null   int8   \n",
      " 18  PaymentMethod     5986 non-null   int8   \n",
      " 19  MonthlyCharges    5986 non-null   float64\n",
      " 20  TotalCharges      5986 non-null   int16  \n",
      " 21  Churn             5986 non-null   int8   \n",
      "dtypes: float64(1), int16(2), int64(3), int8(16)\n",
      "memory usage: 304.1 KB\n"
     ]
    }
   ],
   "source": [
    "data.info()"
   ]
  },
  {
   "cell_type": "code",
   "execution_count": 112,
   "id": "1e141d5c",
   "metadata": {},
   "outputs": [],
   "source": [
    "# Define train and test datasets for training\n",
    "drop_elements = ['Unnamed: 0', 'customerID', 'Churn']\n",
    "train = data.drop(drop_elements, axis=1)\n",
    "test = data['Churn']"
   ]
  },
  {
   "cell_type": "code",
   "execution_count": 113,
   "id": "9d6ccd9a",
   "metadata": {},
   "outputs": [
    {
     "data": {
      "image/png": "[encoded data removed]",
      "text/plain": [
       "<Figure size 1008x864 with 2 Axes>"
      ]
     },
     "metadata": {},
     "output_type": "display_data"
    }
   ],
   "source": [
    "colormap = plt.cm.RdBu\n",
    "plt.figure(figsize=(14,12))\n",
    "plt.title('Feature correlation Matrix', y=1, size=15)\n",
    "sns.heatmap(data.corr(), linewidths=0.1, vmax=1.0, square=True, cmap=colormap, linecolor='white', annot=True)\n",
    "plt.show()"
   ]
  },
  {
   "cell_type": "code",
   "execution_count": 117,
   "id": "b31bb87e",
   "metadata": {},
   "outputs": [],
   "source": [
    "corr_train = data.corr()"
   ]
  },
  {
   "cell_type": "code",
   "execution_count": 118,
   "id": "b212feb4",
   "metadata": {},
   "outputs": [
    {
     "data": {
      "text/html": [
       "<div>\n",
       "<style scoped>\n",
       "    .dataframe tbody tr th:only-of-type {\n",
       "        vertical-align: middle;\n",
       "    }\n",
       "\n",
       "    .dataframe tbody tr th {\n",
       "        vertical-align: top;\n",
       "    }\n",
       "\n",
       "    .dataframe thead th {\n",
       "        text-align: right;\n",
       "    }\n",
       "</style>\n",
       "<table border=\"1\" class=\"dataframe\">\n",
       "  <thead>\n",
       "    <tr style=\"text-align: right;\">\n",
       "      <th></th>\n",
       "      <th>Unnamed: 0</th>\n",
       "      <th>customerID</th>\n",
       "      <th>gender</th>\n",
       "      <th>SeniorCitizen</th>\n",
       "      <th>Partner</th>\n",
       "      <th>Dependents</th>\n",
       "      <th>tenure</th>\n",
       "      <th>PhoneService</th>\n",
       "      <th>MultipleLines</th>\n",
       "      <th>InternetService</th>\n",
       "      <th>...</th>\n",
       "      <th>DeviceProtection</th>\n",
       "      <th>TechSupport</th>\n",
       "      <th>StreamingTV</th>\n",
       "      <th>StreamingMovies</th>\n",
       "      <th>Contract</th>\n",
       "      <th>PaperlessBilling</th>\n",
       "      <th>PaymentMethod</th>\n",
       "      <th>MonthlyCharges</th>\n",
       "      <th>TotalCharges</th>\n",
       "      <th>Churn</th>\n",
       "    </tr>\n",
       "  </thead>\n",
       "  <tbody>\n",
       "    <tr>\n",
       "      <th>Unnamed: 0</th>\n",
       "      <td>1.000000</td>\n",
       "      <td>-0.001745</td>\n",
       "      <td>-0.006931</td>\n",
       "      <td>-0.000331</td>\n",
       "      <td>-0.001498</td>\n",
       "      <td>-0.008081</td>\n",
       "      <td>0.009620</td>\n",
       "      <td>-0.024496</td>\n",
       "      <td>-0.011430</td>\n",
       "      <td>-0.013718</td>\n",
       "      <td>...</td>\n",
       "      <td>-0.010189</td>\n",
       "      <td>0.009791</td>\n",
       "      <td>-0.001738</td>\n",
       "      <td>-0.019630</td>\n",
       "      <td>0.005654</td>\n",
       "      <td>0.009736</td>\n",
       "      <td>0.023577</td>\n",
       "      <td>-0.009830</td>\n",
       "      <td>0.017044</td>\n",
       "      <td>0.006630</td>\n",
       "    </tr>\n",
       "    <tr>\n",
       "      <th>customerID</th>\n",
       "      <td>-0.001745</td>\n",
       "      <td>1.000000</td>\n",
       "      <td>0.006424</td>\n",
       "      <td>-0.001659</td>\n",
       "      <td>-0.033431</td>\n",
       "      <td>-0.020291</td>\n",
       "      <td>0.006155</td>\n",
       "      <td>-0.020107</td>\n",
       "      <td>0.003231</td>\n",
       "      <td>-0.018282</td>\n",
       "      <td>...</td>\n",
       "      <td>-0.005727</td>\n",
       "      <td>0.009835</td>\n",
       "      <td>-0.008514</td>\n",
       "      <td>-0.019300</td>\n",
       "      <td>0.013109</td>\n",
       "      <td>0.000792</td>\n",
       "      <td>0.006979</td>\n",
       "      <td>-0.005440</td>\n",
       "      <td>0.006225</td>\n",
       "      <td>-0.014888</td>\n",
       "    </tr>\n",
       "    <tr>\n",
       "      <th>gender</th>\n",
       "      <td>-0.006931</td>\n",
       "      <td>0.006424</td>\n",
       "      <td>1.000000</td>\n",
       "      <td>-0.007447</td>\n",
       "      <td>-0.007791</td>\n",
       "      <td>0.009083</td>\n",
       "      <td>0.003207</td>\n",
       "      <td>-0.004913</td>\n",
       "      <td>0.000654</td>\n",
       "      <td>-0.001858</td>\n",
       "      <td>...</td>\n",
       "      <td>-0.003010</td>\n",
       "      <td>-0.008468</td>\n",
       "      <td>-0.008193</td>\n",
       "      <td>-0.007297</td>\n",
       "      <td>-0.001843</td>\n",
       "      <td>-0.013990</td>\n",
       "      <td>0.015745</td>\n",
       "      <td>-0.014286</td>\n",
       "      <td>-0.011860</td>\n",
       "      <td>-0.009548</td>\n",
       "    </tr>\n",
       "    <tr>\n",
       "      <th>SeniorCitizen</th>\n",
       "      <td>-0.000331</td>\n",
       "      <td>-0.001659</td>\n",
       "      <td>-0.007447</td>\n",
       "      <td>1.000000</td>\n",
       "      <td>0.014867</td>\n",
       "      <td>-0.214233</td>\n",
       "      <td>0.005468</td>\n",
       "      <td>0.009464</td>\n",
       "      <td>0.135743</td>\n",
       "      <td>-0.033614</td>\n",
       "      <td>...</td>\n",
       "      <td>-0.019911</td>\n",
       "      <td>-0.152474</td>\n",
       "      <td>0.026869</td>\n",
       "      <td>0.042940</td>\n",
       "      <td>-0.149406</td>\n",
       "      <td>0.155691</td>\n",
       "      <td>-0.037653</td>\n",
       "      <td>0.219387</td>\n",
       "      <td>0.041596</td>\n",
       "      <td>0.150097</td>\n",
       "    </tr>\n",
       "    <tr>\n",
       "      <th>Partner</th>\n",
       "      <td>-0.001498</td>\n",
       "      <td>-0.033431</td>\n",
       "      <td>-0.007791</td>\n",
       "      <td>0.014867</td>\n",
       "      <td>1.000000</td>\n",
       "      <td>0.449029</td>\n",
       "      <td>0.381976</td>\n",
       "      <td>0.024926</td>\n",
       "      <td>0.147910</td>\n",
       "      <td>0.006319</td>\n",
       "      <td>...</td>\n",
       "      <td>0.165875</td>\n",
       "      <td>0.133171</td>\n",
       "      <td>0.143919</td>\n",
       "      <td>0.134082</td>\n",
       "      <td>0.300549</td>\n",
       "      <td>-0.018037</td>\n",
       "      <td>-0.151566</td>\n",
       "      <td>0.104006</td>\n",
       "      <td>0.072476</td>\n",
       "      <td>-0.146840</td>\n",
       "    </tr>\n",
       "    <tr>\n",
       "      <th>Dependents</th>\n",
       "      <td>-0.008081</td>\n",
       "      <td>-0.020291</td>\n",
       "      <td>0.009083</td>\n",
       "      <td>-0.214233</td>\n",
       "      <td>0.449029</td>\n",
       "      <td>1.000000</td>\n",
       "      <td>0.163710</td>\n",
       "      <td>-0.000579</td>\n",
       "      <td>-0.023180</td>\n",
       "      <td>0.046719</td>\n",
       "      <td>...</td>\n",
       "      <td>0.077105</td>\n",
       "      <td>0.139518</td>\n",
       "      <td>0.046075</td>\n",
       "      <td>0.023928</td>\n",
       "      <td>0.246163</td>\n",
       "      <td>-0.112405</td>\n",
       "      <td>-0.038302</td>\n",
       "      <td>-0.115803</td>\n",
       "      <td>-0.010098</td>\n",
       "      <td>-0.160204</td>\n",
       "    </tr>\n",
       "    <tr>\n",
       "      <th>tenure</th>\n",
       "      <td>0.009620</td>\n",
       "      <td>0.006155</td>\n",
       "      <td>0.003207</td>\n",
       "      <td>0.005468</td>\n",
       "      <td>0.381976</td>\n",
       "      <td>0.163710</td>\n",
       "      <td>1.000000</td>\n",
       "      <td>0.010392</td>\n",
       "      <td>0.350499</td>\n",
       "      <td>-0.030184</td>\n",
       "      <td>...</td>\n",
       "      <td>0.372424</td>\n",
       "      <td>0.326081</td>\n",
       "      <td>0.292981</td>\n",
       "      <td>0.307437</td>\n",
       "      <td>0.671551</td>\n",
       "      <td>0.006569</td>\n",
       "      <td>-0.359652</td>\n",
       "      <td>0.256983</td>\n",
       "      <td>0.160293</td>\n",
       "      <td>-0.348469</td>\n",
       "    </tr>\n",
       "    <tr>\n",
       "      <th>PhoneService</th>\n",
       "      <td>-0.024496</td>\n",
       "      <td>-0.020107</td>\n",
       "      <td>-0.004913</td>\n",
       "      <td>0.009464</td>\n",
       "      <td>0.024926</td>\n",
       "      <td>-0.000579</td>\n",
       "      <td>0.010392</td>\n",
       "      <td>1.000000</td>\n",
       "      <td>-0.017479</td>\n",
       "      <td>0.390024</td>\n",
       "      <td>...</td>\n",
       "      <td>0.002764</td>\n",
       "      <td>-0.012189</td>\n",
       "      <td>0.055582</td>\n",
       "      <td>0.047035</td>\n",
       "      <td>0.005267</td>\n",
       "      <td>0.021340</td>\n",
       "      <td>-0.003853</td>\n",
       "      <td>0.251029</td>\n",
       "      <td>0.081162</td>\n",
       "      <td>0.009421</td>\n",
       "    </tr>\n",
       "    <tr>\n",
       "      <th>MultipleLines</th>\n",
       "      <td>-0.011430</td>\n",
       "      <td>0.003231</td>\n",
       "      <td>0.000654</td>\n",
       "      <td>0.135743</td>\n",
       "      <td>0.147910</td>\n",
       "      <td>-0.023180</td>\n",
       "      <td>0.350499</td>\n",
       "      <td>-0.017479</td>\n",
       "      <td>1.000000</td>\n",
       "      <td>-0.106981</td>\n",
       "      <td>...</td>\n",
       "      <td>0.126047</td>\n",
       "      <td>0.015052</td>\n",
       "      <td>0.170890</td>\n",
       "      <td>0.184659</td>\n",
       "      <td>0.113906</td>\n",
       "      <td>0.169703</td>\n",
       "      <td>-0.176295</td>\n",
       "      <td>0.436869</td>\n",
       "      <td>0.118301</td>\n",
       "      <td>0.034943</td>\n",
       "    </tr>\n",
       "    <tr>\n",
       "      <th>InternetService</th>\n",
       "      <td>-0.013718</td>\n",
       "      <td>-0.018282</td>\n",
       "      <td>-0.001858</td>\n",
       "      <td>-0.033614</td>\n",
       "      <td>0.006319</td>\n",
       "      <td>0.046719</td>\n",
       "      <td>-0.030184</td>\n",
       "      <td>0.390024</td>\n",
       "      <td>-0.106981</td>\n",
       "      <td>1.000000</td>\n",
       "      <td>...</td>\n",
       "      <td>0.044264</td>\n",
       "      <td>-0.021814</td>\n",
       "      <td>0.105667</td>\n",
       "      <td>0.091993</td>\n",
       "      <td>0.100796</td>\n",
       "      <td>-0.137651</td>\n",
       "      <td>0.089963</td>\n",
       "      <td>-0.320206</td>\n",
       "      <td>-0.059210</td>\n",
       "      <td>-0.047198</td>\n",
       "    </tr>\n",
       "    <tr>\n",
       "      <th>OnlineSecurity</th>\n",
       "      <td>0.001855</td>\n",
       "      <td>0.016347</td>\n",
       "      <td>-0.020759</td>\n",
       "      <td>-0.127915</td>\n",
       "      <td>0.161958</td>\n",
       "      <td>0.158121</td>\n",
       "      <td>0.328139</td>\n",
       "      <td>-0.011130</td>\n",
       "      <td>0.012582</td>\n",
       "      <td>-0.023363</td>\n",
       "      <td>...</td>\n",
       "      <td>0.186062</td>\n",
       "      <td>0.283037</td>\n",
       "      <td>0.058668</td>\n",
       "      <td>0.069189</td>\n",
       "      <td>0.374060</td>\n",
       "      <td>-0.150102</td>\n",
       "      <td>-0.089126</td>\n",
       "      <td>-0.044947</td>\n",
       "      <td>0.040176</td>\n",
       "      <td>-0.290306</td>\n",
       "    </tr>\n",
       "    <tr>\n",
       "      <th>OnlineBackup</th>\n",
       "      <td>-0.004541</td>\n",
       "      <td>-0.003769</td>\n",
       "      <td>-0.018045</td>\n",
       "      <td>-0.017460</td>\n",
       "      <td>0.162627</td>\n",
       "      <td>0.090680</td>\n",
       "      <td>0.367155</td>\n",
       "      <td>0.027494</td>\n",
       "      <td>0.125375</td>\n",
       "      <td>0.032665</td>\n",
       "      <td>...</td>\n",
       "      <td>0.191779</td>\n",
       "      <td>0.189077</td>\n",
       "      <td>0.148079</td>\n",
       "      <td>0.146281</td>\n",
       "      <td>0.279856</td>\n",
       "      <td>-0.016363</td>\n",
       "      <td>-0.118700</td>\n",
       "      <td>0.126970</td>\n",
       "      <td>0.089347</td>\n",
       "      <td>-0.193851</td>\n",
       "    </tr>\n",
       "    <tr>\n",
       "      <th>DeviceProtection</th>\n",
       "      <td>-0.010189</td>\n",
       "      <td>-0.005727</td>\n",
       "      <td>-0.003010</td>\n",
       "      <td>-0.019911</td>\n",
       "      <td>0.165875</td>\n",
       "      <td>0.077105</td>\n",
       "      <td>0.372424</td>\n",
       "      <td>0.002764</td>\n",
       "      <td>0.126047</td>\n",
       "      <td>0.044264</td>\n",
       "      <td>...</td>\n",
       "      <td>1.000000</td>\n",
       "      <td>0.242131</td>\n",
       "      <td>0.273672</td>\n",
       "      <td>0.298596</td>\n",
       "      <td>0.356045</td>\n",
       "      <td>-0.037505</td>\n",
       "      <td>-0.139106</td>\n",
       "      <td>0.164062</td>\n",
       "      <td>0.106688</td>\n",
       "      <td>-0.180120</td>\n",
       "    </tr>\n",
       "    <tr>\n",
       "      <th>TechSupport</th>\n",
       "      <td>0.009791</td>\n",
       "      <td>0.009835</td>\n",
       "      <td>-0.008468</td>\n",
       "      <td>-0.152474</td>\n",
       "      <td>0.133171</td>\n",
       "      <td>0.139518</td>\n",
       "      <td>0.326081</td>\n",
       "      <td>-0.012189</td>\n",
       "      <td>0.015052</td>\n",
       "      <td>-0.021814</td>\n",
       "      <td>...</td>\n",
       "      <td>0.242131</td>\n",
       "      <td>1.000000</td>\n",
       "      <td>0.167276</td>\n",
       "      <td>0.167149</td>\n",
       "      <td>0.429494</td>\n",
       "      <td>-0.115084</td>\n",
       "      <td>-0.099707</td>\n",
       "      <td>-0.003632</td>\n",
       "      <td>0.056548</td>\n",
       "      <td>-0.277261</td>\n",
       "    </tr>\n",
       "    <tr>\n",
       "      <th>StreamingTV</th>\n",
       "      <td>-0.001738</td>\n",
       "      <td>-0.008514</td>\n",
       "      <td>-0.008193</td>\n",
       "      <td>0.026869</td>\n",
       "      <td>0.143919</td>\n",
       "      <td>0.046075</td>\n",
       "      <td>0.292981</td>\n",
       "      <td>0.055582</td>\n",
       "      <td>0.170890</td>\n",
       "      <td>0.105667</td>\n",
       "      <td>...</td>\n",
       "      <td>0.273672</td>\n",
       "      <td>0.167276</td>\n",
       "      <td>1.000000</td>\n",
       "      <td>0.435575</td>\n",
       "      <td>0.231885</td>\n",
       "      <td>0.097757</td>\n",
       "      <td>-0.101177</td>\n",
       "      <td>0.337402</td>\n",
       "      <td>0.142133</td>\n",
       "      <td>-0.037609</td>\n",
       "    </tr>\n",
       "    <tr>\n",
       "      <th>StreamingMovies</th>\n",
       "      <td>-0.019630</td>\n",
       "      <td>-0.019300</td>\n",
       "      <td>-0.007297</td>\n",
       "      <td>0.042940</td>\n",
       "      <td>0.134082</td>\n",
       "      <td>0.023928</td>\n",
       "      <td>0.307437</td>\n",
       "      <td>0.047035</td>\n",
       "      <td>0.184659</td>\n",
       "      <td>0.091993</td>\n",
       "      <td>...</td>\n",
       "      <td>0.298596</td>\n",
       "      <td>0.167149</td>\n",
       "      <td>0.435575</td>\n",
       "      <td>1.000000</td>\n",
       "      <td>0.238688</td>\n",
       "      <td>0.082064</td>\n",
       "      <td>-0.115639</td>\n",
       "      <td>0.338890</td>\n",
       "      <td>0.150332</td>\n",
       "      <td>-0.039100</td>\n",
       "    </tr>\n",
       "    <tr>\n",
       "      <th>Contract</th>\n",
       "      <td>0.005654</td>\n",
       "      <td>0.013109</td>\n",
       "      <td>-0.001843</td>\n",
       "      <td>-0.149406</td>\n",
       "      <td>0.300549</td>\n",
       "      <td>0.246163</td>\n",
       "      <td>0.671551</td>\n",
       "      <td>0.005267</td>\n",
       "      <td>0.113906</td>\n",
       "      <td>0.100796</td>\n",
       "      <td>...</td>\n",
       "      <td>0.356045</td>\n",
       "      <td>0.429494</td>\n",
       "      <td>0.231885</td>\n",
       "      <td>0.238688</td>\n",
       "      <td>1.000000</td>\n",
       "      <td>-0.183335</td>\n",
       "      <td>-0.218920</td>\n",
       "      <td>-0.068429</td>\n",
       "      <td>0.107731</td>\n",
       "      <td>-0.396446</td>\n",
       "    </tr>\n",
       "    <tr>\n",
       "      <th>PaperlessBilling</th>\n",
       "      <td>0.009736</td>\n",
       "      <td>0.000792</td>\n",
       "      <td>-0.013990</td>\n",
       "      <td>0.155691</td>\n",
       "      <td>-0.018037</td>\n",
       "      <td>-0.112405</td>\n",
       "      <td>0.006569</td>\n",
       "      <td>0.021340</td>\n",
       "      <td>0.169703</td>\n",
       "      <td>-0.137651</td>\n",
       "      <td>...</td>\n",
       "      <td>-0.037505</td>\n",
       "      <td>-0.115084</td>\n",
       "      <td>0.097757</td>\n",
       "      <td>0.082064</td>\n",
       "      <td>-0.183335</td>\n",
       "      <td>1.000000</td>\n",
       "      <td>-0.057941</td>\n",
       "      <td>0.355816</td>\n",
       "      <td>0.109309</td>\n",
       "      <td>0.188996</td>\n",
       "    </tr>\n",
       "    <tr>\n",
       "      <th>PaymentMethod</th>\n",
       "      <td>0.023577</td>\n",
       "      <td>0.006979</td>\n",
       "      <td>0.015745</td>\n",
       "      <td>-0.037653</td>\n",
       "      <td>-0.151566</td>\n",
       "      <td>-0.038302</td>\n",
       "      <td>-0.359652</td>\n",
       "      <td>-0.003853</td>\n",
       "      <td>-0.176295</td>\n",
       "      <td>0.089963</td>\n",
       "      <td>...</td>\n",
       "      <td>-0.139106</td>\n",
       "      <td>-0.099707</td>\n",
       "      <td>-0.101177</td>\n",
       "      <td>-0.115639</td>\n",
       "      <td>-0.218920</td>\n",
       "      <td>-0.057941</td>\n",
       "      <td>1.000000</td>\n",
       "      <td>-0.199109</td>\n",
       "      <td>-0.063314</td>\n",
       "      <td>0.103927</td>\n",
       "    </tr>\n",
       "    <tr>\n",
       "      <th>MonthlyCharges</th>\n",
       "      <td>-0.009830</td>\n",
       "      <td>-0.005440</td>\n",
       "      <td>-0.014286</td>\n",
       "      <td>0.219387</td>\n",
       "      <td>0.104006</td>\n",
       "      <td>-0.115803</td>\n",
       "      <td>0.256983</td>\n",
       "      <td>0.251029</td>\n",
       "      <td>0.436869</td>\n",
       "      <td>-0.320206</td>\n",
       "      <td>...</td>\n",
       "      <td>0.164062</td>\n",
       "      <td>-0.003632</td>\n",
       "      <td>0.337402</td>\n",
       "      <td>0.338890</td>\n",
       "      <td>-0.068429</td>\n",
       "      <td>0.355816</td>\n",
       "      <td>-0.199109</td>\n",
       "      <td>1.000000</td>\n",
       "      <td>0.286599</td>\n",
       "      <td>0.186753</td>\n",
       "    </tr>\n",
       "    <tr>\n",
       "      <th>TotalCharges</th>\n",
       "      <td>0.017044</td>\n",
       "      <td>0.006225</td>\n",
       "      <td>-0.011860</td>\n",
       "      <td>0.041596</td>\n",
       "      <td>0.072476</td>\n",
       "      <td>-0.010098</td>\n",
       "      <td>0.160293</td>\n",
       "      <td>0.081162</td>\n",
       "      <td>0.118301</td>\n",
       "      <td>-0.059210</td>\n",
       "      <td>...</td>\n",
       "      <td>0.106688</td>\n",
       "      <td>0.056548</td>\n",
       "      <td>0.142133</td>\n",
       "      <td>0.150332</td>\n",
       "      <td>0.107731</td>\n",
       "      <td>0.109309</td>\n",
       "      <td>-0.063314</td>\n",
       "      <td>0.286599</td>\n",
       "      <td>1.000000</td>\n",
       "      <td>0.016573</td>\n",
       "    </tr>\n",
       "    <tr>\n",
       "      <th>Churn</th>\n",
       "      <td>0.006630</td>\n",
       "      <td>-0.014888</td>\n",
       "      <td>-0.009548</td>\n",
       "      <td>0.150097</td>\n",
       "      <td>-0.146840</td>\n",
       "      <td>-0.160204</td>\n",
       "      <td>-0.348469</td>\n",
       "      <td>0.009421</td>\n",
       "      <td>0.034943</td>\n",
       "      <td>-0.047198</td>\n",
       "      <td>...</td>\n",
       "      <td>-0.180120</td>\n",
       "      <td>-0.277261</td>\n",
       "      <td>-0.037609</td>\n",
       "      <td>-0.039100</td>\n",
       "      <td>-0.396446</td>\n",
       "      <td>0.188996</td>\n",
       "      <td>0.103927</td>\n",
       "      <td>0.186753</td>\n",
       "      <td>0.016573</td>\n",
       "      <td>1.000000</td>\n",
       "    </tr>\n",
       "  </tbody>\n",
       "</table>\n",
       "<p>22 rows × 22 columns</p>\n",
       "</div>"
      ],
      "text/plain": [
       "                  Unnamed: 0  customerID    gender  SeniorCitizen   Partner  \\\n",
       "Unnamed: 0          1.000000   -0.001745 -0.006931      -0.000331 -0.001498   \n",
       "customerID         -0.001745    1.000000  0.006424      -0.001659 -0.033431   \n",
       "gender             -0.006931    0.006424  1.000000      -0.007447 -0.007791   \n",
       "SeniorCitizen      -0.000331   -0.001659 -0.007447       1.000000  0.014867   \n",
       "Partner            -0.001498   -0.033431 -0.007791       0.014867  1.000000   \n",
       "Dependents         -0.008081   -0.020291  0.009083      -0.214233  0.449029   \n",
       "tenure              0.009620    0.006155  0.003207       0.005468  0.381976   \n",
       "PhoneService       -0.024496   -0.020107 -0.004913       0.009464  0.024926   \n",
       "MultipleLines      -0.011430    0.003231  0.000654       0.135743  0.147910   \n",
       "InternetService    -0.013718   -0.018282 -0.001858      -0.033614  0.006319   \n",
       "OnlineSecurity      0.001855    0.016347 -0.020759      -0.127915  0.161958   \n",
       "OnlineBackup       -0.004541   -0.003769 -0.018045      -0.017460  0.162627   \n",
       "DeviceProtection   -0.010189   -0.005727 -0.003010      -0.019911  0.165875   \n",
       "TechSupport         0.009791    0.009835 -0.008468      -0.152474  0.133171   \n",
       "StreamingTV        -0.001738   -0.008514 -0.008193       0.026869  0.143919   \n",
       "StreamingMovies    -0.019630   -0.019300 -0.007297       0.042940  0.134082   \n",
       "Contract            0.005654    0.013109 -0.001843      -0.149406  0.300549   \n",
       "PaperlessBilling    0.009736    0.000792 -0.013990       0.155691 -0.018037   \n",
       "PaymentMethod       0.023577    0.006979  0.015745      -0.037653 -0.151566   \n",
       "MonthlyCharges     -0.009830   -0.005440 -0.014286       0.219387  0.104006   \n",
       "TotalCharges        0.017044    0.006225 -0.011860       0.041596  0.072476   \n",
       "Churn               0.006630   -0.014888 -0.009548       0.150097 -0.146840   \n",
       "\n",
       "                  Dependents    tenure  PhoneService  MultipleLines  \\\n",
       "Unnamed: 0         -0.008081  0.009620     -0.024496      -0.011430   \n",
       "customerID         -0.020291  0.006155     -0.020107       0.003231   \n",
       "gender              0.009083  0.003207     -0.004913       0.000654   \n",
       "SeniorCitizen      -0.214233  0.005468      0.009464       0.135743   \n",
       "Partner             0.449029  0.381976      0.024926       0.147910   \n",
       "Dependents          1.000000  0.163710     -0.000579      -0.023180   \n",
       "tenure              0.163710  1.000000      0.010392       0.350499   \n",
       "PhoneService       -0.000579  0.010392      1.000000      -0.017479   \n",
       "MultipleLines      -0.023180  0.350499     -0.017479       1.000000   \n",
       "InternetService     0.046719 -0.030184      0.390024      -0.106981   \n",
       "OnlineSecurity      0.158121  0.328139     -0.011130       0.012582   \n",
       "OnlineBackup        0.090680  0.367155      0.027494       0.125375   \n",
       "DeviceProtection    0.077105  0.372424      0.002764       0.126047   \n",
       "TechSupport         0.139518  0.326081     -0.012189       0.015052   \n",
       "StreamingTV         0.046075  0.292981      0.055582       0.170890   \n",
       "StreamingMovies     0.023928  0.307437      0.047035       0.184659   \n",
       "Contract            0.246163  0.671551      0.005267       0.113906   \n",
       "PaperlessBilling   -0.112405  0.006569      0.021340       0.169703   \n",
       "PaymentMethod      -0.038302 -0.359652     -0.003853      -0.176295   \n",
       "MonthlyCharges     -0.115803  0.256983      0.251029       0.436869   \n",
       "TotalCharges       -0.010098  0.160293      0.081162       0.118301   \n",
       "Churn              -0.160204 -0.348469      0.009421       0.034943   \n",
       "\n",
       "                  InternetService  ...  DeviceProtection  TechSupport  \\\n",
       "Unnamed: 0              -0.013718  ...         -0.010189     0.009791   \n",
       "customerID              -0.018282  ...         -0.005727     0.009835   \n",
       "gender                  -0.001858  ...         -0.003010    -0.008468   \n",
       "SeniorCitizen           -0.033614  ...         -0.019911    -0.152474   \n",
       "Partner                  0.006319  ...          0.165875     0.133171   \n",
       "Dependents               0.046719  ...          0.077105     0.139518   \n",
       "tenure                  -0.030184  ...          0.372424     0.326081   \n",
       "PhoneService             0.390024  ...          0.002764    -0.012189   \n",
       "MultipleLines           -0.106981  ...          0.126047     0.015052   \n",
       "InternetService          1.000000  ...          0.044264    -0.021814   \n",
       "OnlineSecurity          -0.023363  ...          0.186062     0.283037   \n",
       "OnlineBackup             0.032665  ...          0.191779     0.189077   \n",
       "DeviceProtection         0.044264  ...          1.000000     0.242131   \n",
       "TechSupport             -0.021814  ...          0.242131     1.000000   \n",
       "StreamingTV              0.105667  ...          0.273672     0.167276   \n",
       "StreamingMovies          0.091993  ...          0.298596     0.167149   \n",
       "Contract                 0.100796  ...          0.356045     0.429494   \n",
       "PaperlessBilling        -0.137651  ...         -0.037505    -0.115084   \n",
       "PaymentMethod            0.089963  ...         -0.139106    -0.099707   \n",
       "MonthlyCharges          -0.320206  ...          0.164062    -0.003632   \n",
       "TotalCharges            -0.059210  ...          0.106688     0.056548   \n",
       "Churn                   -0.047198  ...         -0.180120    -0.277261   \n",
       "\n",
       "                  StreamingTV  StreamingMovies  Contract  PaperlessBilling  \\\n",
       "Unnamed: 0          -0.001738        -0.019630  0.005654          0.009736   \n",
       "customerID          -0.008514        -0.019300  0.013109          0.000792   \n",
       "gender              -0.008193        -0.007297 -0.001843         -0.013990   \n",
       "SeniorCitizen        0.026869         0.042940 -0.149406          0.155691   \n",
       "Partner              0.143919         0.134082  0.300549         -0.018037   \n",
       "Dependents           0.046075         0.023928  0.246163         -0.112405   \n",
       "tenure               0.292981         0.307437  0.671551          0.006569   \n",
       "PhoneService         0.055582         0.047035  0.005267          0.021340   \n",
       "MultipleLines        0.170890         0.184659  0.113906          0.169703   \n",
       "InternetService      0.105667         0.091993  0.100796         -0.137651   \n",
       "OnlineSecurity       0.058668         0.069189  0.374060         -0.150102   \n",
       "OnlineBackup         0.148079         0.146281  0.279856         -0.016363   \n",
       "DeviceProtection     0.273672         0.298596  0.356045         -0.037505   \n",
       "TechSupport          0.167276         0.167149  0.429494         -0.115084   \n",
       "StreamingTV          1.000000         0.435575  0.231885          0.097757   \n",
       "StreamingMovies      0.435575         1.000000  0.238688          0.082064   \n",
       "Contract             0.231885         0.238688  1.000000         -0.183335   \n",
       "PaperlessBilling     0.097757         0.082064 -0.183335          1.000000   \n",
       "PaymentMethod       -0.101177        -0.115639 -0.218920         -0.057941   \n",
       "MonthlyCharges       0.337402         0.338890 -0.068429          0.355816   \n",
       "TotalCharges         0.142133         0.150332  0.107731          0.109309   \n",
       "Churn               -0.037609        -0.039100 -0.396446          0.188996   \n",
       "\n",
       "                  PaymentMethod  MonthlyCharges  TotalCharges     Churn  \n",
       "Unnamed: 0             0.023577       -0.009830      0.017044  0.006630  \n",
       "customerID             0.006979       -0.005440      0.006225 -0.014888  \n",
       "gender                 0.015745       -0.014286     -0.011860 -0.009548  \n",
       "SeniorCitizen         -0.037653        0.219387      0.041596  0.150097  \n",
       "Partner               -0.151566        0.104006      0.072476 -0.146840  \n",
       "Dependents            -0.038302       -0.115803     -0.010098 -0.160204  \n",
       "tenure                -0.359652        0.256983      0.160293 -0.348469  \n",
       "PhoneService          -0.003853        0.251029      0.081162  0.009421  \n",
       "MultipleLines         -0.176295        0.436869      0.118301  0.034943  \n",
       "InternetService        0.089963       -0.320206     -0.059210 -0.047198  \n",
       "OnlineSecurity        -0.089126       -0.044947      0.040176 -0.290306  \n",
       "OnlineBackup          -0.118700        0.126970      0.089347 -0.193851  \n",
       "DeviceProtection      -0.139106        0.164062      0.106688 -0.180120  \n",
       "TechSupport           -0.099707       -0.003632      0.056548 -0.277261  \n",
       "StreamingTV           -0.101177        0.337402      0.142133 -0.037609  \n",
       "StreamingMovies       -0.115639        0.338890      0.150332 -0.039100  \n",
       "Contract              -0.218920       -0.068429      0.107731 -0.396446  \n",
       "PaperlessBilling      -0.057941        0.355816      0.109309  0.188996  \n",
       "PaymentMethod          1.000000       -0.199109     -0.063314  0.103927  \n",
       "MonthlyCharges        -0.199109        1.000000      0.286599  0.186753  \n",
       "TotalCharges          -0.063314        0.286599      1.000000  0.016573  \n",
       "Churn                  0.103927        0.186753      0.016573  1.000000  \n",
       "\n",
       "[22 rows x 22 columns]"
      ]
     },
     "execution_count": 118,
     "metadata": {},
     "output_type": "execute_result"
    }
   ],
   "source": [
    "corr_train"
   ]
  },
  {
   "cell_type": "code",
   "execution_count": 119,
   "id": "34fb00cd",
   "metadata": {},
   "outputs": [
    {
     "data": {
      "text/plain": [
       "Unnamed: 0          0.006630\n",
       "customerID         -0.014888\n",
       "gender             -0.009548\n",
       "SeniorCitizen       0.150097\n",
       "Partner            -0.146840\n",
       "Dependents         -0.160204\n",
       "tenure             -0.348469\n",
       "PhoneService        0.009421\n",
       "MultipleLines       0.034943\n",
       "InternetService    -0.047198\n",
       "OnlineSecurity     -0.290306\n",
       "OnlineBackup       -0.193851\n",
       "DeviceProtection   -0.180120\n",
       "TechSupport        -0.277261\n",
       "StreamingTV        -0.037609\n",
       "StreamingMovies    -0.039100\n",
       "Contract           -0.396446\n",
       "PaperlessBilling    0.188996\n",
       "PaymentMethod       0.103927\n",
       "MonthlyCharges      0.186753\n",
       "TotalCharges        0.016573\n",
       "Churn               1.000000\n",
       "Name: Churn, dtype: float64"
      ]
     },
     "execution_count": 119,
     "metadata": {},
     "output_type": "execute_result"
    }
   ],
   "source": [
    "corr_train['Churn']"
   ]
  },
  {
   "cell_type": "code",
   "execution_count": 120,
   "id": "75298935",
   "metadata": {},
   "outputs": [
    {
     "data": {
      "text/plain": [
       "Churn               1.000000\n",
       "PaperlessBilling    0.188996\n",
       "MonthlyCharges      0.186753\n",
       "SeniorCitizen       0.150097\n",
       "PaymentMethod       0.103927\n",
       "MultipleLines       0.034943\n",
       "TotalCharges        0.016573\n",
       "PhoneService        0.009421\n",
       "Unnamed: 0          0.006630\n",
       "gender             -0.009548\n",
       "customerID         -0.014888\n",
       "StreamingTV        -0.037609\n",
       "StreamingMovies    -0.039100\n",
       "InternetService    -0.047198\n",
       "Partner            -0.146840\n",
       "Dependents         -0.160204\n",
       "DeviceProtection   -0.180120\n",
       "OnlineBackup       -0.193851\n",
       "TechSupport        -0.277261\n",
       "OnlineSecurity     -0.290306\n",
       "tenure             -0.348469\n",
       "Contract           -0.396446\n",
       "Name: Churn, dtype: float64"
      ]
     },
     "execution_count": 120,
     "metadata": {},
     "output_type": "execute_result"
    }
   ],
   "source": [
    "corr_train['Churn'].sort_values(ascending=False)"
   ]
  },
  {
   "cell_type": "code",
   "execution_count": 121,
   "id": "1936c50a",
   "metadata": {},
   "outputs": [],
   "source": [
    "Churn = pd.DataFrame(corr_train['Churn'].sort_values(ascending=False))"
   ]
  },
  {
   "cell_type": "code",
   "execution_count": 122,
   "id": "c9d7716e",
   "metadata": {},
   "outputs": [
    {
     "data": {
      "text/html": [
       "<div>\n",
       "<style scoped>\n",
       "    .dataframe tbody tr th:only-of-type {\n",
       "        vertical-align: middle;\n",
       "    }\n",
       "\n",
       "    .dataframe tbody tr th {\n",
       "        vertical-align: top;\n",
       "    }\n",
       "\n",
       "    .dataframe thead th {\n",
       "        text-align: right;\n",
       "    }\n",
       "</style>\n",
       "<table border=\"1\" class=\"dataframe\">\n",
       "  <thead>\n",
       "    <tr style=\"text-align: right;\">\n",
       "      <th></th>\n",
       "      <th>Churn</th>\n",
       "    </tr>\n",
       "  </thead>\n",
       "  <tbody>\n",
       "    <tr>\n",
       "      <th>Churn</th>\n",
       "      <td>1.000000</td>\n",
       "    </tr>\n",
       "    <tr>\n",
       "      <th>PaperlessBilling</th>\n",
       "      <td>0.188996</td>\n",
       "    </tr>\n",
       "    <tr>\n",
       "      <th>MonthlyCharges</th>\n",
       "      <td>0.186753</td>\n",
       "    </tr>\n",
       "    <tr>\n",
       "      <th>SeniorCitizen</th>\n",
       "      <td>0.150097</td>\n",
       "    </tr>\n",
       "    <tr>\n",
       "      <th>PaymentMethod</th>\n",
       "      <td>0.103927</td>\n",
       "    </tr>\n",
       "    <tr>\n",
       "      <th>MultipleLines</th>\n",
       "      <td>0.034943</td>\n",
       "    </tr>\n",
       "    <tr>\n",
       "      <th>TotalCharges</th>\n",
       "      <td>0.016573</td>\n",
       "    </tr>\n",
       "    <tr>\n",
       "      <th>PhoneService</th>\n",
       "      <td>0.009421</td>\n",
       "    </tr>\n",
       "    <tr>\n",
       "      <th>Unnamed: 0</th>\n",
       "      <td>0.006630</td>\n",
       "    </tr>\n",
       "    <tr>\n",
       "      <th>gender</th>\n",
       "      <td>-0.009548</td>\n",
       "    </tr>\n",
       "    <tr>\n",
       "      <th>customerID</th>\n",
       "      <td>-0.014888</td>\n",
       "    </tr>\n",
       "    <tr>\n",
       "      <th>StreamingTV</th>\n",
       "      <td>-0.037609</td>\n",
       "    </tr>\n",
       "    <tr>\n",
       "      <th>StreamingMovies</th>\n",
       "      <td>-0.039100</td>\n",
       "    </tr>\n",
       "    <tr>\n",
       "      <th>InternetService</th>\n",
       "      <td>-0.047198</td>\n",
       "    </tr>\n",
       "    <tr>\n",
       "      <th>Partner</th>\n",
       "      <td>-0.146840</td>\n",
       "    </tr>\n",
       "    <tr>\n",
       "      <th>Dependents</th>\n",
       "      <td>-0.160204</td>\n",
       "    </tr>\n",
       "    <tr>\n",
       "      <th>DeviceProtection</th>\n",
       "      <td>-0.180120</td>\n",
       "    </tr>\n",
       "    <tr>\n",
       "      <th>OnlineBackup</th>\n",
       "      <td>-0.193851</td>\n",
       "    </tr>\n",
       "    <tr>\n",
       "      <th>TechSupport</th>\n",
       "      <td>-0.277261</td>\n",
       "    </tr>\n",
       "    <tr>\n",
       "      <th>OnlineSecurity</th>\n",
       "      <td>-0.290306</td>\n",
       "    </tr>\n",
       "    <tr>\n",
       "      <th>tenure</th>\n",
       "      <td>-0.348469</td>\n",
       "    </tr>\n",
       "    <tr>\n",
       "      <th>Contract</th>\n",
       "      <td>-0.396446</td>\n",
       "    </tr>\n",
       "  </tbody>\n",
       "</table>\n",
       "</div>"
      ],
      "text/plain": [
       "                     Churn\n",
       "Churn             1.000000\n",
       "PaperlessBilling  0.188996\n",
       "MonthlyCharges    0.186753\n",
       "SeniorCitizen     0.150097\n",
       "PaymentMethod     0.103927\n",
       "MultipleLines     0.034943\n",
       "TotalCharges      0.016573\n",
       "PhoneService      0.009421\n",
       "Unnamed: 0        0.006630\n",
       "gender           -0.009548\n",
       "customerID       -0.014888\n",
       "StreamingTV      -0.037609\n",
       "StreamingMovies  -0.039100\n",
       "InternetService  -0.047198\n",
       "Partner          -0.146840\n",
       "Dependents       -0.160204\n",
       "DeviceProtection -0.180120\n",
       "OnlineBackup     -0.193851\n",
       "TechSupport      -0.277261\n",
       "OnlineSecurity   -0.290306\n",
       "tenure           -0.348469\n",
       "Contract         -0.396446"
      ]
     },
     "execution_count": 122,
     "metadata": {},
     "output_type": "execute_result"
    }
   ],
   "source": [
    "Churn"
   ]
  },
  {
   "cell_type": "code",
   "execution_count": 123,
   "id": "074d0ca7",
   "metadata": {},
   "outputs": [
    {
     "data": {
      "text/plain": [
       "<AxesSubplot:>"
      ]
     },
     "execution_count": 123,
     "metadata": {},
     "output_type": "execute_result"
    },
    {
     "data": {
      "image/png": "[encoded data removed]",
      "text/plain": [
       "<Figure size 432x288 with 2 Axes>"
      ]
     },
     "metadata": {},
     "output_type": "display_data"
    }
   ],
   "source": [
    "sns.heatmap(Churn)"
   ]
  },
  {
   "cell_type": "markdown",
   "id": "b2e7b28c",
   "metadata": {},
   "source": [
    "## 3. Building models to predict outflow"
   ]
  },
  {
   "cell_type": "code",
   "execution_count": 124,
   "id": "ad3e20ca",
   "metadata": {},
   "outputs": [],
   "source": [
    "from sklearn.ensemble import StackingClassifier\n",
    "\n",
    "from sklearn.model_selection import (GridSearchCV,\n",
    "                                     train_test_split,\n",
    "                                     StratifiedKFold,\n",
    "                                     cross_val_predict\n",
    "                                    )\n",
    "from sklearn.ensemble import GradientBoostingClassifier, RandomForestClassifier, AdaBoostClassifier\n",
    "from sklearn.svm import SVC\n",
    "from xgboost import XGBClassifier\n",
    "from sklearn.metrics import accuracy_score, roc_auc_score, r2_score"
   ]
  },
  {
   "cell_type": "code",
   "execution_count": 125,
   "id": "477286a5",
   "metadata": {},
   "outputs": [],
   "source": [
    "from sklearn.metrics import confusion_matrix, precision_score, recall_score, classification_report"
   ]
  },
  {
   "cell_type": "code",
   "execution_count": 126,
   "id": "b1810fe4",
   "metadata": {},
   "outputs": [],
   "source": [
    "skf = StratifiedKFold(n_splits=5)\n",
    "\n",
    "gbc = GradientBoostingClassifier(random_state=42)\n",
    "rfc = RandomForestClassifier(random_state=42)\n",
    "svc = SVC(random_state=42)\n",
    "ada = AdaBoostClassifier(random_state=42)\n",
    "\n",
    "X_train, X_test, y_train, y_test = train_test_split(train, test, test_size=0.2, random_state=17)"
   ]
  },
  {
   "cell_type": "markdown",
   "id": "2cbe0cf7",
   "metadata": {},
   "source": [
    "XGBClassifier"
   ]
  },
  {
   "cell_type": "code",
   "execution_count": 127,
   "id": "0171a997",
   "metadata": {},
   "outputs": [
    {
     "data": {
      "text/plain": [
       "XGBClassifier(base_score=0.5, booster='gbtree', colsample_bylevel=1,\n",
       "              colsample_bynode=1, colsample_bytree=0.4603, gamma=0.0468,\n",
       "              gpu_id=-1, importance_type='gain', interaction_constraints='',\n",
       "              learning_rate=0.05, max_delta_step=0, max_depth=3,\n",
       "              min_child_weight=1.7817, missing=nan, monotone_constraints='()',\n",
       "              n_estimators=2200, n_jobs=-1, nthread=-1, num_parallel_tree=1,\n",
       "              random_state=7, reg_alpha=0.464, reg_lambda=0.8571,\n",
       "              scale_pos_weight=1, subsample=0.5213, tree_method='exact',\n",
       "              validate_parameters=1, verbosity=None)"
      ]
     },
     "execution_count": 127,
     "metadata": {},
     "output_type": "execute_result"
    }
   ],
   "source": [
    "xgb_model = XGBClassifier(colsample_bytree=0.4603, gamma=0.0468, learning_rate=0.05, max_depth=3,\n",
    "                          min_child_weight=1.7817, n_estimators=2200, reg_alpha=0.4640, reg_lambda=0.8571,\n",
    "                          subsample=0.5213, random_state=7, nthread =-1\n",
    "                         )\n",
    "xgb_model.fit(X_train, y_train)"
   ]
  },
  {
   "cell_type": "code",
   "execution_count": 128,
   "id": "e2406cb8",
   "metadata": {},
   "outputs": [],
   "source": [
    "y_pred = xgb_model.predict(X_test)"
   ]
  },
  {
   "cell_type": "code",
   "execution_count": 129,
   "id": "ebeecbdf",
   "metadata": {},
   "outputs": [
    {
     "data": {
      "text/plain": [
       "array([[778, 105],\n",
       "       [149, 166]])"
      ]
     },
     "execution_count": 129,
     "metadata": {},
     "output_type": "execute_result"
    }
   ],
   "source": [
    "confusion_matrix(y_test, y_pred)"
   ]
  },
  {
   "cell_type": "code",
   "execution_count": 130,
   "id": "7aa8eb0d",
   "metadata": {},
   "outputs": [
    {
     "data": {
      "text/plain": [
       "0.7879799666110183"
      ]
     },
     "execution_count": 130,
     "metadata": {},
     "output_type": "execute_result"
    }
   ],
   "source": [
    "accuracy_score(y_test, y_pred)"
   ]
  },
  {
   "cell_type": "code",
   "execution_count": 131,
   "id": "ede6c67c",
   "metadata": {},
   "outputs": [
    {
     "name": "stdout",
     "output_type": "stream",
     "text": [
      "              precision    recall  f1-score   support\n",
      "\n",
      "           0       0.84      0.88      0.86       883\n",
      "           1       0.61      0.53      0.57       315\n",
      "\n",
      "    accuracy                           0.79      1198\n",
      "   macro avg       0.73      0.70      0.71      1198\n",
      "weighted avg       0.78      0.79      0.78      1198\n",
      "\n"
     ]
    }
   ],
   "source": [
    "print(classification_report(y_test, y_pred))"
   ]
  },
  {
   "cell_type": "code",
   "execution_count": 132,
   "id": "d0afb247",
   "metadata": {},
   "outputs": [
    {
     "data": {
      "text/plain": [
       "XGBClassifier(base_score=0.5, booster='gbtree', colsample_bylevel=1,\n",
       "              colsample_bynode=1, colsample_bytree=1, gamma=0, gpu_id=-1,\n",
       "              importance_type='gain', interaction_constraints='',\n",
       "              learning_rate=0.300000012, max_delta_step=0, max_depth=6,\n",
       "              min_child_weight=1, missing=nan, monotone_constraints='()',\n",
       "              n_estimators=100, n_jobs=0, num_parallel_tree=1, random_state=0,\n",
       "              reg_alpha=0, reg_lambda=1, scale_pos_weight=1, subsample=1,\n",
       "              tree_method='exact', validate_parameters=1, verbosity=None)"
      ]
     },
     "execution_count": 132,
     "metadata": {},
     "output_type": "execute_result"
    }
   ],
   "source": [
    "xgb_model_basic = XGBClassifier()\n",
    "xgb_model_basic.fit(X_train, y_train)"
   ]
  },
  {
   "cell_type": "code",
   "execution_count": 133,
   "id": "36e37827",
   "metadata": {},
   "outputs": [],
   "source": [
    "y_pred = xgb_model_basic.predict(X_test)"
   ]
  },
  {
   "cell_type": "code",
   "execution_count": 134,
   "id": "ca709894",
   "metadata": {},
   "outputs": [
    {
     "data": {
      "text/plain": [
       "array([[778, 105],\n",
       "       [160, 155]])"
      ]
     },
     "execution_count": 134,
     "metadata": {},
     "output_type": "execute_result"
    }
   ],
   "source": [
    "confusion_matrix(y_test, y_pred)"
   ]
  },
  {
   "cell_type": "code",
   "execution_count": 135,
   "id": "760ce36f",
   "metadata": {},
   "outputs": [
    {
     "data": {
      "text/plain": [
       "0.7787979966611018"
      ]
     },
     "execution_count": 135,
     "metadata": {},
     "output_type": "execute_result"
    }
   ],
   "source": [
    "accuracy_score(y_test, y_pred)"
   ]
  },
  {
   "cell_type": "code",
   "execution_count": 136,
   "id": "9455ab5e",
   "metadata": {},
   "outputs": [
    {
     "name": "stdout",
     "output_type": "stream",
     "text": [
      "              precision    recall  f1-score   support\n",
      "\n",
      "           0       0.83      0.88      0.85       883\n",
      "           1       0.60      0.49      0.54       315\n",
      "\n",
      "    accuracy                           0.78      1198\n",
      "   macro avg       0.71      0.69      0.70      1198\n",
      "weighted avg       0.77      0.78      0.77      1198\n",
      "\n"
     ]
    }
   ],
   "source": [
    "print(classification_report(y_test,y_pred))"
   ]
  },
  {
   "cell_type": "markdown",
   "id": "f4bd3c68",
   "metadata": {},
   "source": [
    "Stacking"
   ]
  },
  {
   "cell_type": "code",
   "execution_count": 137,
   "id": "13780cfe",
   "metadata": {},
   "outputs": [],
   "source": [
    "rfc_params = {\n",
    "    'n_estimators':[200,500],\n",
    "    'max_features':['auto','sqrt','log2'],\n",
    "    'max_depth':[4,5,6,7,8],\n",
    "    'criterion':['gini','entropy']\n",
    "}"
   ]
  },
  {
   "cell_type": "code",
   "execution_count": 141,
   "id": "8a29af4d",
   "metadata": {},
   "outputs": [],
   "source": [
    "# CV_rfc = GridSearchCV(rfc, rfc_params, scoring='roc_auc', cv=skf)\n",
    "\n",
    "# CV_rfc.fit(X_train, y_train)\n",
    "\n",
    "# rfc_best_params = CV_rfc.best_params_"
   ]
  },
  {
   "cell_type": "code",
   "execution_count": 142,
   "id": "dc34c728",
   "metadata": {},
   "outputs": [],
   "source": [
    "rfc_best_params = {'criterion': 'gini',\n",
    "    'max_depth': 7,\n",
    "    'max_features': 'auto',\n",
    "    'n_estimators': 500}"
   ]
  },
  {
   "cell_type": "code",
   "execution_count": 143,
   "id": "145d440c",
   "metadata": {},
   "outputs": [],
   "source": [
    "gbc_params = {\n",
    "    'learning_rate': [0.01, 0.025, 0.05, 0.075, 0.1, 0.15, 0.2],\n",
    "    'max_depth': [3,5,8],\n",
    "    'subsample': [0.5, 0.618, 0.8, 0.85, 0.9, 0.95, 1.0],\n",
    "    }"
   ]
  },
  {
   "cell_type": "code",
   "execution_count": 144,
   "id": "5379eb91",
   "metadata": {},
   "outputs": [],
   "source": [
    "# CV_gbc = GridSearchCV(gbc, gbc_params, scoring='roc_auc', cv=skf)\n",
    "# CV_gbc.fit(X_train, y_train)\n",
    "# gbc_best_params = CV_gbc.best_params_"
   ]
  },
  {
   "cell_type": "code",
   "execution_count": 145,
   "id": "345dcfed",
   "metadata": {},
   "outputs": [],
   "source": [
    "gbc_best_params = {'learning_rate': 0.05, 'max_depth': 3, 'subsample': 0.618}"
   ]
  },
  {
   "cell_type": "code",
   "execution_count": 146,
   "id": "7b7875f5",
   "metadata": {},
   "outputs": [],
   "source": [
    "svc_params = {'C': [0.1, 1, 10, 100, 1000],  \n",
    "              'gamma': [1, 0.1, 0.01, 0.001, 0.0001], \n",
    "              'kernel': ['rbf']}"
   ]
  },
  {
   "cell_type": "code",
   "execution_count": 147,
   "id": "e1e8454b",
   "metadata": {},
   "outputs": [],
   "source": [
    "# CV_svc = GridSearchCV(svc, svc_params, scoring='roc_auc', cv=skf)\n",
    "# CV_svc.fit(X_train, y_train)\n",
    "# svc_best_params = CV_svc.best_params_"
   ]
  },
  {
   "cell_type": "code",
   "execution_count": 148,
   "id": "f966f2a8",
   "metadata": {},
   "outputs": [],
   "source": [
    "svc_best_params = {'C': 100, 'gamma': 0.0001, 'kernel': 'rbf'}"
   ]
  },
  {
   "cell_type": "code",
   "execution_count": 149,
   "id": "5c6c96b5",
   "metadata": {},
   "outputs": [],
   "source": [
    "ada_params = {\n",
    "    'n_estimators': [100, 200],\n",
    "    'learning_rate': [0.001, 0.01, 0.1, 0.2, 0.5]\n",
    "}"
   ]
  },
  {
   "cell_type": "code",
   "execution_count": 150,
   "id": "62d4c9c8",
   "metadata": {},
   "outputs": [],
   "source": [
    "# CV_ada = GridSearchCV(ada, ada_params, scoring='roc_auc', cv=skf)\n",
    "# CV_ada.fit(X_train, y_train)\n",
    "# ada_best_params = CV_ada.best_params_"
   ]
  },
  {
   "cell_type": "code",
   "execution_count": 151,
   "id": "7e807baf",
   "metadata": {},
   "outputs": [],
   "source": [
    "ada_best_params = {'learning_rate': 0.1, 'n_estimators': 200}"
   ]
  },
  {
   "cell_type": "code",
   "execution_count": 152,
   "id": "415d7228",
   "metadata": {},
   "outputs": [],
   "source": [
    "gbc_model = GradientBoostingClassifier(**gbc_best_params, random_state=42)\n",
    "rfc_model = RandomForestClassifier(**rfc_best_params, random_state=42)\n",
    "svc_model = SVC(**svc_best_params, random_state=42)\n",
    "ada_model = AdaBoostClassifier(**ada_best_params, random_state=42)"
   ]
  },
  {
   "cell_type": "code",
   "execution_count": 153,
   "id": "f28d9247",
   "metadata": {},
   "outputs": [],
   "source": [
    "meta = XGBClassifier(colsample_bytree=0.4603, gamma=0.0468, \n",
    "                             learning_rate=0.05, max_depth=3, \n",
    "                             min_child_weight=1.7817, n_estimators=2200,\n",
    "                             reg_alpha=0.4640, reg_lambda=0.8571,\n",
    "                             subsample=0.5213, random_state =42, nthread = -1)"
   ]
  },
  {
   "cell_type": "code",
   "execution_count": 154,
   "id": "618fd942",
   "metadata": {},
   "outputs": [],
   "source": [
    "models = [('gbc', gbc_model), ('rf', rfc_model), ('svc', svc_model), ('ada', ada_model)]"
   ]
  },
  {
   "cell_type": "code",
   "execution_count": 155,
   "id": "f7204e42",
   "metadata": {},
   "outputs": [],
   "source": [
    "stacking_clf = StackingClassifier(models, meta, cv=skf)"
   ]
  },
  {
   "cell_type": "code",
   "execution_count": 156,
   "id": "51ca8157",
   "metadata": {},
   "outputs": [
    {
     "data": {
      "text/plain": [
       "StackingClassifier(cv=StratifiedKFold(n_splits=5,\n",
       "        random_state=RandomState(MT19937) at 0x7FEF3699D9E0, shuffle=False),\n",
       "                   estimators=[('gbc',\n",
       "                                GradientBoostingClassifier(learning_rate=0.05,\n",
       "                                                           random_state=42,\n",
       "                                                           subsample=0.618)),\n",
       "                               ('rf',\n",
       "                                RandomForestClassifier(max_depth=7,\n",
       "                                                       n_estimators=500,\n",
       "                                                       random_state=42)),\n",
       "                               ('svc',\n",
       "                                SVC(C=100, gamma=0.0001, random_state=42)),\n",
       "                               ('ada',\n",
       "                                AdaBoo...\n",
       "                                                 interaction_constraints=None,\n",
       "                                                 learning_rate=0.05,\n",
       "                                                 max_delta_step=None,\n",
       "                                                 max_depth=3,\n",
       "                                                 min_child_weight=1.7817,\n",
       "                                                 missing=nan,\n",
       "                                                 monotone_constraints=None,\n",
       "                                                 n_estimators=2200, n_jobs=None,\n",
       "                                                 nthread=-1,\n",
       "                                                 num_parallel_tree=None,\n",
       "                                                 random_state=42,\n",
       "                                                 reg_alpha=0.464,\n",
       "                                                 reg_lambda=0.8571,\n",
       "                                                 scale_pos_weight=None,\n",
       "                                                 subsample=0.5213,\n",
       "                                                 tree_method=None,\n",
       "                                                 validate_parameters=None,\n",
       "                                                 verbosity=None))"
      ]
     },
     "execution_count": 156,
     "metadata": {},
     "output_type": "execute_result"
    }
   ],
   "source": [
    "stacking_clf.fit(X_train, y_train)"
   ]
  },
  {
   "cell_type": "code",
   "execution_count": 157,
   "id": "ba8e1e83",
   "metadata": {},
   "outputs": [],
   "source": [
    "y_pred2 = stacking_clf.predict(X_test)"
   ]
  },
  {
   "cell_type": "code",
   "execution_count": 158,
   "id": "bc7c0f31",
   "metadata": {},
   "outputs": [
    {
     "data": {
      "text/plain": [
       "0.7813021702838063"
      ]
     },
     "execution_count": 158,
     "metadata": {},
     "output_type": "execute_result"
    }
   ],
   "source": [
    "stacking_clf.score(X_test, y_test)"
   ]
  },
  {
   "cell_type": "code",
   "execution_count": 159,
   "id": "eaf4a786",
   "metadata": {},
   "outputs": [
    {
     "data": {
      "text/plain": [
       "0.7813021702838063"
      ]
     },
     "execution_count": 159,
     "metadata": {},
     "output_type": "execute_result"
    }
   ],
   "source": [
    "accuracy_score(y_test,y_pred2)"
   ]
  },
  {
   "cell_type": "code",
   "execution_count": 160,
   "id": "c22134b6",
   "metadata": {},
   "outputs": [
    {
     "data": {
      "text/plain": [
       "array([[781, 102],\n",
       "       [160, 155]])"
      ]
     },
     "execution_count": 160,
     "metadata": {},
     "output_type": "execute_result"
    }
   ],
   "source": [
    "confusion_matrix(y_test, y_pred2)"
   ]
  },
  {
   "cell_type": "code",
   "execution_count": 161,
   "id": "9798c056",
   "metadata": {},
   "outputs": [
    {
     "name": "stdout",
     "output_type": "stream",
     "text": [
      "              precision    recall  f1-score   support\n",
      "\n",
      "           0       0.83      0.88      0.86       883\n",
      "           1       0.60      0.49      0.54       315\n",
      "\n",
      "    accuracy                           0.78      1198\n",
      "   macro avg       0.72      0.69      0.70      1198\n",
      "weighted avg       0.77      0.78      0.77      1198\n",
      "\n"
     ]
    }
   ],
   "source": [
    "print(classification_report(y_test, y_pred2))"
   ]
  },
  {
   "cell_type": "code",
   "execution_count": null,
   "id": "e92b3e0c",
   "metadata": {},
   "outputs": [],
   "source": []
  }
 ],
 "metadata": {
  "kernelspec": {
   "display_name": "Python 3",
   "language": "python",
   "name": "python3"
  },
  "language_info": {
   "codemirror_mode": {
    "name": "ipython",
    "version": 3
   },
   "file_extension": ".py",
   "mimetype": "text/x-python",
   "name": "python",
   "nbconvert_exporter": "python",
   "pygments_lexer": "ipython3",
   "version": "3.7.7"
  }
 },
 "nbformat": 4,
 "nbformat_minor": 5
}
