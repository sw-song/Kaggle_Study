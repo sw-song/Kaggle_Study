{
  "nbformat": 4,
  "nbformat_minor": 0,
  "metadata": {
    "orig_nbformat": 2,
    "kernelspec": {
      "name": "python3",
      "display_name": "Python 3"
    },
    "colab": {
      "name": "horses_or_humans_classification_sigmoid.ipynb",
      "provenance": [],
      "collapsed_sections": [],
      "toc_visible": true
    },
    "language_info": {
      "name": "python"
    },
    "accelerator": "GPU"
  },
  "cells": [
    {
      "cell_type": "markdown",
      "metadata": {
        "id": "2pJrd5W7ByCU"
      },
      "source": [
        "# Horses or Humans Classification"
      ]
    },
    {
      "cell_type": "markdown",
      "metadata": {
        "id": "FyuqQ7T7ByCZ"
      },
      "source": [
        "---\n",
        "```\n",
        "Step 0. Library Import\n",
        "Step 1. Dataset Load\n",
        "Step 2. Data Preprocessing\n",
        "Step 3. Modeling\n",
        "Step 4. Model Compile\n",
        "Step 5. Model Checkpoint\n",
        "Step 6. Model Fit\n",
        "Step 7. Model Evaluate & Svae\n",
        "Step 8. Reload Model\n",
        "```"
      ]
    },
    {
      "cell_type": "markdown",
      "metadata": {
        "id": "Qi4bKTECByCa"
      },
      "source": [
        "## Step 0. Library Import"
      ]
    },
    {
      "cell_type": "code",
      "metadata": {
        "id": "9fec8vHGByCa"
      },
      "source": [
        "import urllib.request\n",
        "import zipfile\n",
        "import numpy as np\n",
        "from IPython.display import Image\n",
        "\n",
        "import tensorflow as tf \n",
        "from tensorflow.keras.layers import Conv2D, MaxPooling2D, Flatten, Dropout, Dense\n",
        "from tensorflow.keras.models import Sequential\n",
        "from tensorflow.keras.preprocessing.image import ImageDataGenerator\n",
        "from tensorflow.keras.callbacks import ModelCheckpoint"
      ],
      "execution_count": 1,
      "outputs": []
    },
    {
      "cell_type": "markdown",
      "metadata": {
        "id": "xIy_ztL7ByCa"
      },
      "source": [
        "## Step 1. Dataset Load"
      ]
    },
    {
      "cell_type": "code",
      "metadata": {
        "id": "xpb3WHYTByCb"
      },
      "source": [
        "train_url = \"https://storage.googleapis.com/download.tensorflow.org/data/horse-or-human.zip\"\n",
        "valid_url = \"https://storage.googleapis.com/download.tensorflow.org/data/validation-horse-or-human.zip\""
      ],
      "execution_count": 2,
      "outputs": []
    },
    {
      "cell_type": "code",
      "metadata": {
        "id": "f8WliW6UByCb"
      },
      "source": [
        "train_zipfile_path = './data/train_horses_or_humans.zip'\n",
        "valid_zipfile_path = './data/valid_horses_or_hamans.zip'"
      ],
      "execution_count": 3,
      "outputs": []
    },
    {
      "cell_type": "code",
      "metadata": {
        "id": "mF9rDPQcByCb"
      },
      "source": [
        "# train set unzip\n",
        "urllib.request.urlretrieve(train_url, train_zipfile_path)\n",
        "zip_ref = zipfile.ZipFile(train_zipfile_path,'r')\n",
        "zip_ref.extractall('./data/train_horses_or_humans/')\n",
        "zip_ref.close()\n",
        "\n",
        "# test set unzip\n",
        "urllib.request.urlretrieve(valid_url, valid_zipfile_path)\n",
        "zip_ref2 = zipfile.ZipFile(valid_zipfile_path,'r')\n",
        "zip_ref2.extractall('./data/valid_horses_or_humans/')\n",
        "zip_ref2.close()"
      ],
      "execution_count": 13,
      "outputs": []
    },
    {
      "cell_type": "markdown",
      "metadata": {
        "id": "u2wVniw9ByCb"
      },
      "source": [
        "## Step 2. Data Preprocessing"
      ]
    },
    {
      "cell_type": "code",
      "metadata": {
        "id": "5DCmJ-i7ByCb"
      },
      "source": [
        "train_data_path = './data/train_horses_or_humans/'\n",
        "valid_data_path = './data/valid_horses_or_humans/'"
      ],
      "execution_count": 14,
      "outputs": []
    },
    {
      "cell_type": "code",
      "metadata": {
        "id": "FD3VSWs8ByCc"
      },
      "source": [
        "train_idg = ImageDataGenerator(\n",
        "    rescale = 1 / 255.0,\n",
        "    rotation_range = 5,\n",
        "    width_shift_range = 0.05,\n",
        "    height_shift_range = 0.05,\n",
        "    zoom_range = 0.3,\n",
        "    horizontal_flip = True,\n",
        "    fill_mode = 'nearest',\n",
        ")"
      ],
      "execution_count": 34,
      "outputs": []
    },
    {
      "cell_type": "code",
      "metadata": {
        "id": "nnL7gmZYByCc"
      },
      "source": [
        "valid_idg = ImageDataGenerator(\n",
        "    rescale = 1 / 255.0,\n",
        ")"
      ],
      "execution_count": 35,
      "outputs": []
    },
    {
      "cell_type": "code",
      "metadata": {
        "colab": {
          "base_uri": "https://localhost:8080/"
        },
        "id": "IwTbETKWByCc",
        "outputId": "2c979a4e-8ab9-4db1-9a5e-01b33e557a2b"
      },
      "source": [
        "train_gen = train_idg.flow_from_directory(\n",
        "    train_data_path,\n",
        "    target_size=(300,300),\n",
        "    batch_size=64,\n",
        "    class_mode='binary'\n",
        ")"
      ],
      "execution_count": 36,
      "outputs": [
        {
          "output_type": "stream",
          "text": [
            "Found 1027 images belonging to 2 classes.\n"
          ],
          "name": "stdout"
        }
      ]
    },
    {
      "cell_type": "code",
      "metadata": {
        "colab": {
          "base_uri": "https://localhost:8080/"
        },
        "id": "UL0zP-NRByCd",
        "outputId": "fa9a331d-e232-4fe1-b85d-3441c4c9c071"
      },
      "source": [
        "valid_gen = valid_idg.flow_from_directory(\n",
        "    valid_data_path,\n",
        "    target_size=(300,300),\n",
        "    batch_size=64,\n",
        "    class_mode='binary'\n",
        ")"
      ],
      "execution_count": 37,
      "outputs": [
        {
          "output_type": "stream",
          "text": [
            "Found 256 images belonging to 2 classes.\n"
          ],
          "name": "stdout"
        }
      ]
    },
    {
      "cell_type": "markdown",
      "metadata": {
        "id": "WJjnbqiwByCd"
      },
      "source": [
        "## Step 3. Modeling"
      ]
    },
    {
      "cell_type": "code",
      "metadata": {
        "id": "zfUP2gZ3ByCd"
      },
      "source": [
        "model = Sequential([\n",
        "    Conv2D(16, (3, 3), activation='relu', input_shape=(300, 300, 3)),\n",
        "    MaxPooling2D(2, 2),\n",
        "    Conv2D(32, (3, 3), activation='relu'),\n",
        "    MaxPooling2D(2, 2),\n",
        "    Conv2D(64, (3, 3), activation='relu'),\n",
        "    MaxPooling2D(2, 2),\n",
        "    Conv2D(64, (3, 3), activation='relu'),\n",
        "    MaxPooling2D(2, 2),\n",
        "    Conv2D(128, (3, 3), activation='relu'),\n",
        "    MaxPooling2D(2, 2),\n",
        "    Flatten(),\n",
        "    Dropout(0.5),\n",
        "    Dense(128, activation='relu'),\n",
        "    Dense(32, activation='relu'),\n",
        "    Dense(1, activation='sigmoid')\n",
        "])"
      ],
      "execution_count": 38,
      "outputs": []
    },
    {
      "cell_type": "code",
      "metadata": {
        "colab": {
          "base_uri": "https://localhost:8080/"
        },
        "id": "s_5T3XBlByCe",
        "outputId": "29744550-043a-4548-8f84-6a519a0ee177"
      },
      "source": [
        "model.summary()"
      ],
      "execution_count": 39,
      "outputs": [
        {
          "output_type": "stream",
          "text": [
            "Model: \"sequential_3\"\n",
            "_________________________________________________________________\n",
            "Layer (type)                 Output Shape              Param #   \n",
            "=================================================================\n",
            "conv2d_15 (Conv2D)           (None, 298, 298, 16)      448       \n",
            "_________________________________________________________________\n",
            "max_pooling2d_15 (MaxPooling (None, 149, 149, 16)      0         \n",
            "_________________________________________________________________\n",
            "conv2d_16 (Conv2D)           (None, 147, 147, 32)      4640      \n",
            "_________________________________________________________________\n",
            "max_pooling2d_16 (MaxPooling (None, 73, 73, 32)        0         \n",
            "_________________________________________________________________\n",
            "conv2d_17 (Conv2D)           (None, 71, 71, 64)        18496     \n",
            "_________________________________________________________________\n",
            "max_pooling2d_17 (MaxPooling (None, 35, 35, 64)        0         \n",
            "_________________________________________________________________\n",
            "conv2d_18 (Conv2D)           (None, 33, 33, 64)        36928     \n",
            "_________________________________________________________________\n",
            "max_pooling2d_18 (MaxPooling (None, 16, 16, 64)        0         \n",
            "_________________________________________________________________\n",
            "conv2d_19 (Conv2D)           (None, 14, 14, 128)       73856     \n",
            "_________________________________________________________________\n",
            "max_pooling2d_19 (MaxPooling (None, 7, 7, 128)         0         \n",
            "_________________________________________________________________\n",
            "flatten_3 (Flatten)          (None, 6272)              0         \n",
            "_________________________________________________________________\n",
            "dropout_3 (Dropout)          (None, 6272)              0         \n",
            "_________________________________________________________________\n",
            "dense_9 (Dense)              (None, 128)               802944    \n",
            "_________________________________________________________________\n",
            "dense_10 (Dense)             (None, 32)                4128      \n",
            "_________________________________________________________________\n",
            "dense_11 (Dense)             (None, 1)                 33        \n",
            "=================================================================\n",
            "Total params: 941,473\n",
            "Trainable params: 941,473\n",
            "Non-trainable params: 0\n",
            "_________________________________________________________________\n"
          ],
          "name": "stdout"
        }
      ]
    },
    {
      "cell_type": "markdown",
      "metadata": {
        "id": "8lKxmU_2ByCe"
      },
      "source": [
        "## Step 4. Model Compile"
      ]
    },
    {
      "cell_type": "code",
      "metadata": {
        "id": "cK1WVR38ByCe"
      },
      "source": [
        "model.compile(optimizer='adam', loss='binary_crossentropy', metrics=['acc'])"
      ],
      "execution_count": 40,
      "outputs": []
    },
    {
      "cell_type": "markdown",
      "metadata": {
        "id": "TRM3UytrByCe"
      },
      "source": [
        "## Step 5. Model Checkpoint"
      ]
    },
    {
      "cell_type": "code",
      "metadata": {
        "id": "44BQ3G2DByCe"
      },
      "source": [
        "filepath = 'my_checkpoint.ckpt'\n",
        "cp = ModelCheckpoint(\n",
        "    filepath=filepath,\n",
        "    save_weights_only=True,\n",
        "    save_best_only=True,\n",
        "    monitor='val_loss',\n",
        "    verbose=1\n",
        ")"
      ],
      "execution_count": 41,
      "outputs": []
    },
    {
      "cell_type": "markdown",
      "metadata": {
        "id": "Suu1xPiTByCf"
      },
      "source": [
        "## Step 6. Model Fit"
      ]
    },
    {
      "cell_type": "code",
      "metadata": {
        "colab": {
          "base_uri": "https://localhost:8080/"
        },
        "id": "Z9BqyOCZByCf",
        "outputId": "49ee3b92-1bef-410d-944a-542daf1b09dc"
      },
      "source": [
        "model.fit(\n",
        "    train_gen,\n",
        "    validation_data=(valid_gen),\n",
        "    epochs=12,\n",
        "    callbacks=[cp]\n",
        ")"
      ],
      "execution_count": 42,
      "outputs": [
        {
          "output_type": "stream",
          "text": [
            "Epoch 1/12\n",
            "17/17 [==============================] - 27s 2s/step - loss: 0.6814 - acc: 0.5107 - val_loss: 1.3889 - val_acc: 0.5352\n",
            "\n",
            "Epoch 00001: val_loss improved from inf to 1.38892, saving model to my_checkpoint.ckpt\n",
            "Epoch 2/12\n",
            "17/17 [==============================] - 26s 2s/step - loss: 0.3820 - acc: 0.8077 - val_loss: 1.0701 - val_acc: 0.8242\n",
            "\n",
            "Epoch 00002: val_loss improved from 1.38892 to 1.07015, saving model to my_checkpoint.ckpt\n",
            "Epoch 3/12\n",
            "17/17 [==============================] - 26s 2s/step - loss: 0.2193 - acc: 0.9116 - val_loss: 1.5757 - val_acc: 0.7344\n",
            "\n",
            "Epoch 00003: val_loss did not improve from 1.07015\n",
            "Epoch 4/12\n",
            "17/17 [==============================] - 26s 2s/step - loss: 0.1396 - acc: 0.9524 - val_loss: 1.1500 - val_acc: 0.7656\n",
            "\n",
            "Epoch 00004: val_loss did not improve from 1.07015\n",
            "Epoch 5/12\n",
            "17/17 [==============================] - 26s 2s/step - loss: 0.2034 - acc: 0.9286 - val_loss: 2.0972 - val_acc: 0.7812\n",
            "\n",
            "Epoch 00005: val_loss did not improve from 1.07015\n",
            "Epoch 6/12\n",
            "17/17 [==============================] - 26s 2s/step - loss: 0.1144 - acc: 0.9539 - val_loss: 1.3365 - val_acc: 0.8242\n",
            "\n",
            "Epoch 00006: val_loss did not improve from 1.07015\n",
            "Epoch 7/12\n",
            "17/17 [==============================] - 26s 2s/step - loss: 0.1603 - acc: 0.9376 - val_loss: 0.7197 - val_acc: 0.8125\n",
            "\n",
            "Epoch 00007: val_loss improved from 1.07015 to 0.71970, saving model to my_checkpoint.ckpt\n",
            "Epoch 8/12\n",
            "17/17 [==============================] - 26s 2s/step - loss: 0.2283 - acc: 0.9317 - val_loss: 2.1886 - val_acc: 0.7305\n",
            "\n",
            "Epoch 00008: val_loss did not improve from 0.71970\n",
            "Epoch 9/12\n",
            "17/17 [==============================] - 26s 1s/step - loss: 0.1027 - acc: 0.9642 - val_loss: 3.1223 - val_acc: 0.6992\n",
            "\n",
            "Epoch 00009: val_loss did not improve from 0.71970\n",
            "Epoch 10/12\n",
            "17/17 [==============================] - 26s 2s/step - loss: 0.0959 - acc: 0.9698 - val_loss: 2.8919 - val_acc: 0.7383\n",
            "\n",
            "Epoch 00010: val_loss did not improve from 0.71970\n",
            "Epoch 11/12\n",
            "17/17 [==============================] - 26s 1s/step - loss: 0.0964 - acc: 0.9753 - val_loss: 2.4343 - val_acc: 0.7695\n",
            "\n",
            "Epoch 00011: val_loss did not improve from 0.71970\n",
            "Epoch 12/12\n",
            "17/17 [==============================] - 26s 1s/step - loss: 0.0417 - acc: 0.9819 - val_loss: 3.5040 - val_acc: 0.7266\n",
            "\n",
            "Epoch 00012: val_loss did not improve from 0.71970\n"
          ],
          "name": "stdout"
        },
        {
          "output_type": "execute_result",
          "data": {
            "text/plain": [
              "<tensorflow.python.keras.callbacks.History at 0x7f2d0034d310>"
            ]
          },
          "metadata": {
            "tags": []
          },
          "execution_count": 42
        }
      ]
    },
    {
      "cell_type": "markdown",
      "metadata": {
        "id": "1pqRWyIzByCg"
      },
      "source": [
        "## Step 7. Model Evaluate & Save"
      ]
    },
    {
      "cell_type": "code",
      "metadata": {
        "colab": {
          "base_uri": "https://localhost:8080/"
        },
        "id": "7P9MzeX3ByCg",
        "outputId": "a12db5eb-ea83-4892-af10-50b047628bff"
      },
      "source": [
        "model.load_weights(filepath)"
      ],
      "execution_count": 43,
      "outputs": [
        {
          "output_type": "execute_result",
          "data": {
            "text/plain": [
              "<tensorflow.python.training.tracking.util.CheckpointLoadStatus at 0x7f2c5b791290>"
            ]
          },
          "metadata": {
            "tags": []
          },
          "execution_count": 43
        }
      ]
    },
    {
      "cell_type": "code",
      "metadata": {
        "colab": {
          "base_uri": "https://localhost:8080/"
        },
        "id": "paxn5Q_OByCg",
        "outputId": "a6bfbf7b-f26d-4305-9544-109e384ec075"
      },
      "source": [
        "model.evaluate(valid_gen)"
      ],
      "execution_count": 44,
      "outputs": [
        {
          "output_type": "stream",
          "text": [
            "4/4 [==============================] - 1s 256ms/step - loss: 0.7197 - acc: 0.8125\n"
          ],
          "name": "stdout"
        },
        {
          "output_type": "execute_result",
          "data": {
            "text/plain": [
              "[0.7196962237358093, 0.8125]"
            ]
          },
          "metadata": {
            "tags": []
          },
          "execution_count": 44
        }
      ]
    },
    {
      "cell_type": "code",
      "metadata": {
        "id": "PwCecbIjByCg"
      },
      "source": [
        "model.save('./model/hoh_cnn_7197.h5')"
      ],
      "execution_count": 45,
      "outputs": []
    },
    {
      "cell_type": "markdown",
      "metadata": {
        "id": "CR6qwVy6ByCh"
      },
      "source": [
        "## Step 8. Reload Model"
      ]
    },
    {
      "cell_type": "code",
      "metadata": {
        "id": "mOQhAKNNByCh"
      },
      "source": [
        "mymodel = tf.keras.models.load_model('./model/hoh_cnn_7197.h5')"
      ],
      "execution_count": 48,
      "outputs": []
    },
    {
      "cell_type": "code",
      "metadata": {
        "colab": {
          "base_uri": "https://localhost:8080/"
        },
        "id": "oangAlt1ByCh",
        "outputId": "75194527-a209-4576-a139-b2b9d1f36d78"
      },
      "source": [
        "mymodel.summary()"
      ],
      "execution_count": 49,
      "outputs": [
        {
          "output_type": "stream",
          "text": [
            "Model: \"sequential_3\"\n",
            "_________________________________________________________________\n",
            "Layer (type)                 Output Shape              Param #   \n",
            "=================================================================\n",
            "conv2d_15 (Conv2D)           (None, 298, 298, 16)      448       \n",
            "_________________________________________________________________\n",
            "max_pooling2d_15 (MaxPooling (None, 149, 149, 16)      0         \n",
            "_________________________________________________________________\n",
            "conv2d_16 (Conv2D)           (None, 147, 147, 32)      4640      \n",
            "_________________________________________________________________\n",
            "max_pooling2d_16 (MaxPooling (None, 73, 73, 32)        0         \n",
            "_________________________________________________________________\n",
            "conv2d_17 (Conv2D)           (None, 71, 71, 64)        18496     \n",
            "_________________________________________________________________\n",
            "max_pooling2d_17 (MaxPooling (None, 35, 35, 64)        0         \n",
            "_________________________________________________________________\n",
            "conv2d_18 (Conv2D)           (None, 33, 33, 64)        36928     \n",
            "_________________________________________________________________\n",
            "max_pooling2d_18 (MaxPooling (None, 16, 16, 64)        0         \n",
            "_________________________________________________________________\n",
            "conv2d_19 (Conv2D)           (None, 14, 14, 128)       73856     \n",
            "_________________________________________________________________\n",
            "max_pooling2d_19 (MaxPooling (None, 7, 7, 128)         0         \n",
            "_________________________________________________________________\n",
            "flatten_3 (Flatten)          (None, 6272)              0         \n",
            "_________________________________________________________________\n",
            "dropout_3 (Dropout)          (None, 6272)              0         \n",
            "_________________________________________________________________\n",
            "dense_9 (Dense)              (None, 128)               802944    \n",
            "_________________________________________________________________\n",
            "dense_10 (Dense)             (None, 32)                4128      \n",
            "_________________________________________________________________\n",
            "dense_11 (Dense)             (None, 1)                 33        \n",
            "=================================================================\n",
            "Total params: 941,473\n",
            "Trainable params: 941,473\n",
            "Non-trainable params: 0\n",
            "_________________________________________________________________\n"
          ],
          "name": "stdout"
        }
      ]
    },
    {
      "cell_type": "code",
      "metadata": {
        "id": "uxfOH7HbByCh"
      },
      "source": [
        ""
      ],
      "execution_count": null,
      "outputs": []
    }
  ]
}