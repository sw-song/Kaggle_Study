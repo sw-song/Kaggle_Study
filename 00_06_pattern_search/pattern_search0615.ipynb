{
 "cells": [
  {
   "cell_type": "markdown",
   "metadata": {},
   "source": [
    "# 과거 주가 데이터로 미래 주가를 예측할 수 있을까? | 파이썬 패턴 검색기 구현"
   ]
  },
  {
   "cell_type": "markdown",
   "metadata": {},
   "source": [
    "주가 예측은 오래 전부터 많은 사람들의 관심을 받아왔다. 주가의 오르내림은 정규분포에 매우 근사하기 때문에 예측이 불가능하다는 주장(패턴의 규칙이 없다는 뜻)도 있고 강화학습, 딥러닝이 단기간 예측을 가능하게 한다는 주장도 있다. 결국 어느 쪽이 맞을지는 모르겠지만 하락장에서도 AI 로보어드바이저가 돈을 벌었다는 기사들을 보면 숨은 보석같은 공식을 찾아내고 싶은 욕구가 생긴다.\n",
    "\n",
    "AI까지 가지 않더라도 단타 세계에서는 이미 차트 매매법이라고 해서 과거 차트 패턴에 따라 앞으로의 주가를 예측할 수 있다는 전문가들이 많다. 그들의 유튜브 구독자 수만 봐도 얼마나 많은 사람들이 단타와 차트매매기술에 관심이 많은지 알 수 있다. 이들 세계에서는 그들만 아는 비밀의 법칙과 매매 기술들이 존재하겠지만 널리 알려진 것들도 많다. 이번에는 아쉬운대로 알려진 것들 중 **현재 차트와 유사한 차트를 찾아서 매매에 활용하는 패턴 검색**을 파이썬으로 구현해보려고 한다. \n",
    "\n",
    "**패턴 검색**을 하는 이유를 1차원 적으로 생각하면 유사한 차트에서 다음 날짜에 주가가 올랐다면 매수하고, 내렸다면 매도하기 위해서다. 물론 이에 따른 손익은 전적으로 본인의 책임이다.\n"
   ]
  },
  {
   "cell_type": "markdown",
   "metadata": {},
   "source": [
    "```\n",
    "목차\n",
    "___\n",
    "Step 1. 라이브러리 호출 및 코스피 지수 추출\n",
    "Step 2. 기준 구간 지정 및 시각화\n",
    "Step 3. 패턴 검색기 구현\n",
    "Step 4. 검색 구간 이후의 추세 확인\n",
    "```"
   ]
  },
  {
   "cell_type": "markdown",
   "metadata": {},
   "source": [
    "## 1. 라이브러리 호출 및 코스피 지수 추출"
   ]
  },
  {
   "cell_type": "markdown",
   "metadata": {},
   "source": [
    "주가 데이터를 가져오기 위해 FinanceDataReader라는 파이썬 오픈소스를 사용하고 matplotlib을 통해 주가 차트를 시각화할 것이다. 따라서 해당 라이브러리를 import해준다.\n",
    "\n",
    "또한 패턴 검색을 구현하기 위해 과거 데이터와 현재 데이터를 서로 '코사인 유사도'로 비교할텐데 이를 위해 scipy 패키지의 cosine함수를 사용하겠다."
   ]
  },
  {
   "cell_type": "code",
   "execution_count": 1,
   "metadata": {},
   "outputs": [],
   "source": [
    "import FinanceDataReader as fdr\n",
    "import matplotlib.pyplot as plt\n",
    "\n",
    "import yfinance as yf\n",
    "# 1차월 배열간 코사인 유사도 계산\n",
    "from scipy.spatial.distance import cosine"
   ]
  },
  {
   "cell_type": "markdown",
   "metadata": {},
   "source": [
    "다음으로 코스피지수를 추출해서 어떤 칼럼들이 있는지 데이터로 살펴보자."
   ]
  },
  {
   "cell_type": "code",
   "execution_count": 2,
   "metadata": {},
   "outputs": [
    {
     "data": {
      "text/html": [
       "<div>\n",
       "<style scoped>\n",
       "    .dataframe tbody tr th:only-of-type {\n",
       "        vertical-align: middle;\n",
       "    }\n",
       "\n",
       "    .dataframe tbody tr th {\n",
       "        vertical-align: top;\n",
       "    }\n",
       "\n",
       "    .dataframe thead th {\n",
       "        text-align: right;\n",
       "    }\n",
       "</style>\n",
       "<table border=\"1\" class=\"dataframe\">\n",
       "  <thead>\n",
       "    <tr style=\"text-align: right;\">\n",
       "      <th></th>\n",
       "      <th>Open</th>\n",
       "      <th>High</th>\n",
       "      <th>Low</th>\n",
       "      <th>Close</th>\n",
       "      <th>Volume</th>\n",
       "      <th>Dividends</th>\n",
       "      <th>Stock Splits</th>\n",
       "    </tr>\n",
       "    <tr>\n",
       "      <th>Date</th>\n",
       "      <th></th>\n",
       "      <th></th>\n",
       "      <th></th>\n",
       "      <th></th>\n",
       "      <th></th>\n",
       "      <th></th>\n",
       "      <th></th>\n",
       "    </tr>\n",
       "  </thead>\n",
       "  <tbody>\n",
       "    <tr>\n",
       "      <th>2010-01-04</th>\n",
       "      <td>1681.709961</td>\n",
       "      <td>1696.140015</td>\n",
       "      <td>1681.709961</td>\n",
       "      <td>1696.140015</td>\n",
       "      <td>296500</td>\n",
       "      <td>0</td>\n",
       "      <td>0</td>\n",
       "    </tr>\n",
       "    <tr>\n",
       "      <th>2010-01-05</th>\n",
       "      <td>1701.619995</td>\n",
       "      <td>1702.390015</td>\n",
       "      <td>1686.449951</td>\n",
       "      <td>1690.619995</td>\n",
       "      <td>408900</td>\n",
       "      <td>0</td>\n",
       "      <td>0</td>\n",
       "    </tr>\n",
       "    <tr>\n",
       "      <th>2010-01-06</th>\n",
       "      <td>1697.880005</td>\n",
       "      <td>1706.890015</td>\n",
       "      <td>1696.099976</td>\n",
       "      <td>1705.319946</td>\n",
       "      <td>426000</td>\n",
       "      <td>0</td>\n",
       "      <td>0</td>\n",
       "    </tr>\n",
       "    <tr>\n",
       "      <th>2010-01-07</th>\n",
       "      <td>1702.920044</td>\n",
       "      <td>1707.900024</td>\n",
       "      <td>1683.449951</td>\n",
       "      <td>1683.449951</td>\n",
       "      <td>462400</td>\n",
       "      <td>0</td>\n",
       "      <td>0</td>\n",
       "    </tr>\n",
       "    <tr>\n",
       "      <th>2010-01-08</th>\n",
       "      <td>1694.060059</td>\n",
       "      <td>1695.260010</td>\n",
       "      <td>1668.839966</td>\n",
       "      <td>1695.260010</td>\n",
       "      <td>380000</td>\n",
       "      <td>0</td>\n",
       "      <td>0</td>\n",
       "    </tr>\n",
       "    <tr>\n",
       "      <th>...</th>\n",
       "      <td>...</td>\n",
       "      <td>...</td>\n",
       "      <td>...</td>\n",
       "      <td>...</td>\n",
       "      <td>...</td>\n",
       "      <td>...</td>\n",
       "      <td>...</td>\n",
       "    </tr>\n",
       "    <tr>\n",
       "      <th>2022-06-08</th>\n",
       "      <td>2633.530029</td>\n",
       "      <td>2639.520020</td>\n",
       "      <td>2621.959961</td>\n",
       "      <td>2626.149902</td>\n",
       "      <td>576000</td>\n",
       "      <td>0</td>\n",
       "      <td>0</td>\n",
       "    </tr>\n",
       "    <tr>\n",
       "      <th>2022-06-09</th>\n",
       "      <td>2618.919922</td>\n",
       "      <td>2627.879883</td>\n",
       "      <td>2606.610107</td>\n",
       "      <td>2625.439941</td>\n",
       "      <td>814500</td>\n",
       "      <td>0</td>\n",
       "      <td>0</td>\n",
       "    </tr>\n",
       "    <tr>\n",
       "      <th>2022-06-10</th>\n",
       "      <td>2596.370117</td>\n",
       "      <td>2602.800049</td>\n",
       "      <td>2583.739990</td>\n",
       "      <td>2595.870117</td>\n",
       "      <td>723800</td>\n",
       "      <td>0</td>\n",
       "      <td>0</td>\n",
       "    </tr>\n",
       "    <tr>\n",
       "      <th>2022-06-13</th>\n",
       "      <td>2550.209961</td>\n",
       "      <td>2550.320068</td>\n",
       "      <td>2504.510010</td>\n",
       "      <td>2504.510010</td>\n",
       "      <td>659800</td>\n",
       "      <td>0</td>\n",
       "      <td>0</td>\n",
       "    </tr>\n",
       "    <tr>\n",
       "      <th>2022-06-14</th>\n",
       "      <td>2472.959961</td>\n",
       "      <td>2503.169922</td>\n",
       "      <td>2457.389893</td>\n",
       "      <td>2492.969971</td>\n",
       "      <td>671200</td>\n",
       "      <td>0</td>\n",
       "      <td>0</td>\n",
       "    </tr>\n",
       "  </tbody>\n",
       "</table>\n",
       "<p>3066 rows × 7 columns</p>\n",
       "</div>"
      ],
      "text/plain": [
       "                   Open         High          Low        Close  Volume  \\\n",
       "Date                                                                     \n",
       "2010-01-04  1681.709961  1696.140015  1681.709961  1696.140015  296500   \n",
       "2010-01-05  1701.619995  1702.390015  1686.449951  1690.619995  408900   \n",
       "2010-01-06  1697.880005  1706.890015  1696.099976  1705.319946  426000   \n",
       "2010-01-07  1702.920044  1707.900024  1683.449951  1683.449951  462400   \n",
       "2010-01-08  1694.060059  1695.260010  1668.839966  1695.260010  380000   \n",
       "...                 ...          ...          ...          ...     ...   \n",
       "2022-06-08  2633.530029  2639.520020  2621.959961  2626.149902  576000   \n",
       "2022-06-09  2618.919922  2627.879883  2606.610107  2625.439941  814500   \n",
       "2022-06-10  2596.370117  2602.800049  2583.739990  2595.870117  723800   \n",
       "2022-06-13  2550.209961  2550.320068  2504.510010  2504.510010  659800   \n",
       "2022-06-14  2472.959961  2503.169922  2457.389893  2492.969971  671200   \n",
       "\n",
       "            Dividends  Stock Splits  \n",
       "Date                                 \n",
       "2010-01-04          0             0  \n",
       "2010-01-05          0             0  \n",
       "2010-01-06          0             0  \n",
       "2010-01-07          0             0  \n",
       "2010-01-08          0             0  \n",
       "...               ...           ...  \n",
       "2022-06-08          0             0  \n",
       "2022-06-09          0             0  \n",
       "2022-06-10          0             0  \n",
       "2022-06-13          0             0  \n",
       "2022-06-14          0             0  \n",
       "\n",
       "[3066 rows x 7 columns]"
      ]
     },
     "execution_count": 2,
     "metadata": {},
     "output_type": "execute_result"
    }
   ],
   "source": [
    "# 코스피 지수 추출\n",
    "kospi = yf.Ticker('^KS11').history(start='2010-01-01', end='2022-06-15')\n",
    "kospi"
   ]
  },
  {
   "cell_type": "markdown",
   "metadata": {},
   "source": [
    "## 2. 기준 구간 지정 및 시각화"
   ]
  },
  {
   "cell_type": "markdown",
   "metadata": {},
   "source": [
    "패턴 검색을 위해서는 종가만 있으면 된다. 더 복잡한 `무언가`를 구현하고자 한다면 나머지 칼럼도 활용해보길 바란다.\n",
    "\n",
    "종가 데이터는 'Close' 칼럼에 있다. 이와 함께 현재 어느 시점의 차트를 기준으로 검색할 것인지 날짜 구간을 변수에 저장해준다."
   ]
  },
  {
   "cell_type": "code",
   "execution_count": 3,
   "metadata": {},
   "outputs": [],
   "source": [
    "# 종가만 추출\n",
    "kospi_close = kospi['Close']\n",
    "\n",
    "# 비교 기준 구간\n",
    "d_start = '2022-01-01'\n",
    "d_end = '2022-06-02'"
   ]
  },
  {
   "cell_type": "markdown",
   "metadata": {},
   "source": [
    "기준 구간을 시각화해보자."
   ]
  },
  {
   "cell_type": "code",
   "execution_count": 4,
   "metadata": {},
   "outputs": [
    {
     "data": {
      "image/png": "[encoded data removed]",
      "text/plain": [
       "<Figure size 864x288 with 1 Axes>"
      ]
     },
     "metadata": {},
     "output_type": "display_data"
    }
   ],
   "source": [
    "# 기준 구간 시계열 차트\n",
    "plt.figure(figsize=(12,4))\n",
    "plt.style.use('seaborn')\n",
    "kospi_close[d_start:d_end].plot();"
   ]
  },
  {
   "cell_type": "markdown",
   "metadata": {},
   "source": [
    "위 차트와 유사한 과거의 차트를 찾아내는 것이 이번 분석의 목적이다."
   ]
  },
  {
   "cell_type": "markdown",
   "metadata": {},
   "source": [
    "## 3. 패턴 검색기 구현"
   ]
  },
  {
   "cell_type": "markdown",
   "metadata": {},
   "source": [
    "패턴 검색의 원리는 이렇다. 먼저 앞에서 지정한 기준 구간의 데이터가 있을 것이다. 해당 데이터 길이만큼 최초 상장일부터 하루씩 비교하면서 코사인 유사도를 계산한다. 단, 과거의 주가와 현재 주가의 액수 차이가 크기 때문에 `패턴`만 추출하기 위해서 표준화를 먼저 수행한 다음 데이터를 비교해야 한다. \n",
    "\n",
    "이렇게 모든 데이터를 비교해서 코사인 유사도가 가장 작은 값 즉, 현재 주가 패턴과 가장 유사한 과거 시점의 주가를 찾는 방식이다. 코드로 구현해보자."
   ]
  },
  {
   "cell_type": "code",
   "execution_count": 5,
   "metadata": {},
   "outputs": [],
   "source": [
    "count = 0\n",
    "compare_base_r = kospi_close[d_start:d_end]\n",
    "# series에서 값만 추출\n",
    "compare_base = compare_base_r.values\n",
    "# 표준화\n",
    "compare_base_norm = (compare_base - compare_base.mean()) / compare_base.std()\n",
    "# array -> 1차원 리스트로 변환\n",
    "compare_base_norm = list(compare_base_norm)\n",
    "\n",
    "# 검색 기간\n",
    "window_size = len(compare_base_norm)\n",
    "# 검색 기간에 더해서 추가로 보여줄 기간\n",
    "next_date = 7\n",
    "# 검색 횟수\n",
    "moving_cnt = len(kospi_close) - 2*(window_size-1) - next_date\n",
    "\n",
    "# 유사도 저장 딕셔너리\n",
    "sim_dict = {}\n",
    "\n",
    "for i in range(moving_cnt):\n",
    "    compare_target_r = kospi_close[i:i+window_size]\n",
    "    # series에서 값만 추출\n",
    "    compare_target = compare_target_r.values\n",
    "    # 표준화\n",
    "    compare_target_norm = (compare_target - compare_target.mean()) / compare_target.std() \n",
    "    # array -> 1차원 리스트로 변환\n",
    "    compare_target_norm = list(compare_target_norm)\n",
    "\n",
    "    # 코사인 유사도 저장\n",
    "    sim = cosine(compare_base_norm, compare_target_norm)\n",
    "    # 코사인 유사도 <- i(인덱스), 시계열데이터 함께 저장\n",
    "    sim_dict[sim] = [i,compare_target_r]"
   ]
  },
  {
   "cell_type": "markdown",
   "metadata": {},
   "source": [
    "이렇게 반복문을 통해 모든 코사인 유사도를 단일 리스트에 저장했다면, 이 값이 가장 작았던 구간을 추출해야 한다. 다행히 우리는 반복문에서 인덱스를 함께 저장했기 때문에 간단하게 불러낼 수 있다."
   ]
  },
  {
   "cell_type": "code",
   "execution_count": 6,
   "metadata": {},
   "outputs": [
    {
     "data": {
      "text/plain": [
       "[1154,\n",
       " Date\n",
       " 2014-08-27    2074.929932\n",
       " 2014-08-28    2075.760010\n",
       " 2014-08-29    2068.540039\n",
       " 2014-09-01    2067.860107\n",
       " 2014-09-02    2051.580078\n",
       "                  ...     \n",
       " 2015-01-19    1902.619995\n",
       " 2015-01-20    1918.310059\n",
       " 2015-01-21    1921.229980\n",
       " 2015-01-22    1920.819946\n",
       " 2015-01-23    1936.089966\n",
       " Name: Close, Length: 100, dtype: float64]"
      ]
     },
     "execution_count": 6,
     "metadata": {},
     "output_type": "execute_result"
    }
   ],
   "source": [
    "# 최소 코사인 유사도\n",
    "min_sim = min(list(sim_dict.keys()))\n",
    "# 최소 코사인 유사도가 나온 인덱스, 기간 추출\n",
    "sim_dict[min_sim]"
   ]
  },
  {
   "cell_type": "markdown",
   "metadata": {},
   "source": [
    "그래서 이때의 주가 패턴이 얼마나 현재 패턴과 유사한지 궁금할 것이다. 두 그래프를 동시에 그려보자. 단, 주 시점의 주가 차이를 상쇄하기 위해 앞에서 유사도를 계산할 때 표준화를 했던 것처럼 이번에도 역시 표준화를 진행하고 그래프를 그릴 것이다."
   ]
  },
  {
   "cell_type": "code",
   "execution_count": 7,
   "metadata": {},
   "outputs": [
    {
     "data": {
      "text/plain": [
       "[2.8741732345009217,\n",
       " 2.4971152595282913,\n",
       " 2.139621933541546,\n",
       " 2.506949784258656,\n",
       " 2.205796174521818,\n",
       " 2.2128510366094445,\n",
       " 2.694998529560686,\n",
       " 2.583924254361606,\n",
       " 2.1544807311238086,\n",
       " 1.8143074439137883,\n",
       " 1.5378471564895781,\n",
       " 1.3030818087064449,\n",
       " 1.5211691806331475,\n",
       " 1.2176639502004345,\n",
       " 0.7655576938857375,\n",
       " 2.0619093758480324e-06,\n",
       " -0.11919718024448753,\n",
       " -1.1321323473770857,\n",
       " -0.6098950720855043,\n",
       " -0.13437700928689764,\n",
       " 0.3193317943166646,\n",
       " 0.2637411514737669,\n",
       " 0.2788139700294613,\n",
       " 0.5180711482427852,\n",
       " 0.5509964479969123,\n",
       " 0.29207022032285895,\n",
       " -0.17008458169563434,\n",
       " -0.4687795602498807,\n",
       " 0.09931823362907827,\n",
       " 0.25337157430982343,\n",
       " 0.25796780521485857,\n",
       " 0.2502708802069377,\n",
       " -0.14538864937113563,\n",
       " -0.00919039990069437,\n",
       " -0.7653369390816832,\n",
       " -0.4664279395540053,\n",
       " -0.2267453294056895,\n",
       " -0.18034714837286206,\n",
       " 0.28533638969537994,\n",
       " -0.07440415651239637,\n",
       " -0.7385034070347406,\n",
       " -1.0475705727648015,\n",
       " -0.42836874644939316,\n",
       " -0.6319183522539804,\n",
       " -0.7990139222546917,\n",
       " -1.0568700450615875,\n",
       " -0.6538346219357406,\n",
       " -0.27666963647639453,\n",
       " -0.14293001818854445,\n",
       " -0.3671117678343029,\n",
       " -0.11107221328970372,\n",
       " 0.1567280547461437,\n",
       " 0.09910421265564676,\n",
       " 0.10252593821867971,\n",
       " 0.09803671780036036,\n",
       " 0.2210857274641197,\n",
       " 0.28170064315891546,\n",
       " 0.3983342436434719,\n",
       " 0.20804349814415352,\n",
       " 0.4010068957994946,\n",
       " 0.4149052090131868,\n",
       " 0.1565140337727122,\n",
       " -0.2622362708291236,\n",
       " -0.2138101105724391,\n",
       " -0.2917424550320889,\n",
       " -0.5733340257949128,\n",
       " -0.041690267719829616,\n",
       " -0.03933864702395419,\n",
       " -0.26009867110667967,\n",
       " -0.29056794969008676,\n",
       " -0.016033851026760273,\n",
       " -0.018171450749204197,\n",
       " 0.0836033521530894,\n",
       " -0.16762595051304316,\n",
       " -0.6762859440510797,\n",
       " -0.5567630604251979,\n",
       " -0.8694633626798522,\n",
       " -0.5655300903002762,\n",
       " -0.2708962902174862,\n",
       " -0.35214595976532426,\n",
       " -0.42687320964724373,\n",
       " -0.4577679201656427,\n",
       " -0.8112000676809319,\n",
       " -1.323814229203709,\n",
       " -1.3696773578029577,\n",
       " -1.8207135092504971,\n",
       " -1.241711085774016,\n",
       " -1.3236002082302774,\n",
       " -1.06852374806612,\n",
       " -1.009297358686758,\n",
       " -1.3689282843959474,\n",
       " -0.8670047314972611,\n",
       " -0.7805193781359644,\n",
       " -1.224284036510575,\n",
       " -1.1029471946342677,\n",
       " -1.1539416065721302,\n",
       " -0.8802609817906587,\n",
       " -0.542332304789798,\n",
       " -0.3687169251350392,\n",
       " -0.6564002636050476]"
      ]
     },
     "execution_count": 7,
     "metadata": {},
     "output_type": "execute_result"
    }
   ],
   "source": [
    "# 표준화된 기준 구간 데이터 \n",
    "compare_base_norm"
   ]
  },
  {
   "cell_type": "code",
   "execution_count": 8,
   "metadata": {},
   "outputs": [
    {
     "data": {
      "text/plain": [
       "[2.4477763309457883,\n",
       " 2.340917173477358,\n",
       " 2.155691134445625,\n",
       " 1.913060613229205,\n",
       " 1.7814754304013225,\n",
       " 1.3827515398793042,\n",
       " 1.0795959288832093,\n",
       " 1.2498776957148874,\n",
       " 0.593040975984155,\n",
       " 0.19184212081783542,\n",
       " 0.511123058192072,\n",
       " 1.028101966718636,\n",
       " 1.1195864233532198,\n",
       " 0.9230721309438193,\n",
       " 0.9807994346038496,\n",
       " 1.0914195934882758,\n",
       " 1.683542417954386,\n",
       " 1.7668566042414513,\n",
       " 1.4317731619644165,\n",
       " 1.702785727362676,\n",
       " 1.7271889312467843,\n",
       " 1.556151289741131,\n",
       " 1.2935242090072858,\n",
       " 0.7743957818766045,\n",
       " 0.8932938182669973,\n",
       " 0.9158703250223316,\n",
       " 1.141302072840971,\n",
       " 1.190428677519691,\n",
       " 0.9398431002726483,\n",
       " 1.0518595276520568,\n",
       " 0.9128599491506311,\n",
       " 0.8877034951573876,\n",
       " 0.9780042730490447,\n",
       " 0.5940068158453458,\n",
       " 0.18926217357992636,\n",
       " 0.2811770588483018,\n",
       " -0.25246521184864307,\n",
       " -0.8653352213764737,\n",
       " -1.4443404707713028,\n",
       " -0.8944678911026085,\n",
       " -0.9284376338292177,\n",
       " -1.3575881045435856,\n",
       " -1.0562591906762644,\n",
       " -0.5807772768379815,\n",
       " -0.2967547435268886,\n",
       " -0.38684293166649014,\n",
       " -0.14646691164779557,\n",
       " -0.31750455315344905,\n",
       " -0.379853715497058,\n",
       " -0.3924332547760998,\n",
       " -0.2378437611239316,\n",
       " 0.06896786869455131,\n",
       " -0.1846307089890322,\n",
       " -0.35598854740518915,\n",
       " -0.7738507647418897,\n",
       " -0.6850538625036627,\n",
       " -0.3136333200141654,\n",
       " -0.7197768553394073,\n",
       " -0.6390426162902512,\n",
       " -0.7890076266940005,\n",
       " -0.8865128350719855,\n",
       " -0.8622172383463251,\n",
       " -1.2093421841101621,\n",
       " -1.265780826433658,\n",
       " -0.7940599140113707,\n",
       " -0.46381354473481046,\n",
       " -0.4886471772527103,\n",
       " -0.8626476669801167,\n",
       " -1.0243313593953247,\n",
       " -0.7701947459195019,\n",
       " -0.31621326725207444,\n",
       " -0.48735589135133567,\n",
       " -0.5200369727414105,\n",
       " -0.670755233254295,\n",
       " -1.1419381098843429,\n",
       " -1.433482646027427,\n",
       " -2.189331074354415,\n",
       " -1.5366857846734696,\n",
       " -1.047012848744267,\n",
       " -0.799112201328741,\n",
       " -0.7462219706691852,\n",
       " -0.547665766814115,\n",
       " -0.43930273369225437,\n",
       " -0.14076898137973803,\n",
       " -0.34867913432525355,\n",
       " -0.44080923391052473,\n",
       " -0.588194297076365,\n",
       " -0.5727146136489106,\n",
       " -0.3897457003797429,\n",
       " -0.26805250243454526,\n",
       " -0.8564117009198198,\n",
       " -0.7270862684193429,\n",
       " -0.6254972371500185,\n",
       " -0.478327388301074,\n",
       " -0.32502918055028046,\n",
       " -0.46349072325946683,\n",
       " -0.24106935131252796,\n",
       " -0.5307871903268383,\n",
       " -0.698922063119239,\n",
       " -0.5743260964607888]"
      ]
     },
     "execution_count": 8,
     "metadata": {},
     "output_type": "execute_result"
    }
   ],
   "source": [
    "# 검색 구간 데이터 -> 값만 추출\n",
    "compare_target = compare_target_r.values\n",
    "# 검색 구간 데이터 표준화\n",
    "compare_target_norm = (compare_target - compare_target.mean())/compare_target.std()\n",
    "compare_target_norm = list(compare_target_norm)\n",
    "\n",
    "# 표준화된 검색 구간 데이터\n",
    "compare_target_norm"
   ]
  },
  {
   "cell_type": "code",
   "execution_count": 9,
   "metadata": {},
   "outputs": [
    {
     "data": {
      "image/png": "[encoded data removed]",
      "text/plain": [
       "<Figure size 864x288 with 1 Axes>"
      ]
     },
     "metadata": {},
     "output_type": "display_data"
    }
   ],
   "source": [
    "import numpy as np\n",
    "\n",
    "xrange = np.arange(0, len(compare_base_norm),1)\n",
    "plt.figure(figsize=(12,4))\n",
    "plt.fill_between(x=xrange, y1=np.min(compare_base_norm), y2=compare_base_norm, label='base', alpha=0.3, color='blue')\n",
    "plt.fill_between(x=xrange, y1=np.min(compare_base_norm), y2=compare_target_norm, label='target', alpha=0.5, color='pink')\n",
    "plt.legend(bbox_to_anchor=(1.1, 1))\n",
    "plt.xticks(xrange[::5])\n",
    "plt.xlabel('period(count)')\n",
    "plt.ylabel('revenue(normalized)')\n",
    "plt.show()"
   ]
  },
  {
   "cell_type": "markdown",
   "metadata": {},
   "source": [
    "두 그래프의 추세가 매우 유사하다. 복잡한 코드 없이 몇 줄 안되는 간단한 코드로 구현한 패턴 검색기임에도 나름대로 제 역할을 잘 하는 것 같다."
   ]
  },
  {
   "cell_type": "markdown",
   "metadata": {},
   "source": [
    "## 4. 검색 구간 이후의 추세 확인"
   ]
  },
  {
   "cell_type": "markdown",
   "metadata": {},
   "source": [
    "이번에는 해당 구간 이후 주가가 어떻게 움직였는지 볼 것이다. 우리가 궁금한 것은 '앞으로의 주가가 어떻게 될 것인가?'이기 때문이다."
   ]
  },
  {
   "cell_type": "code",
   "execution_count": 13,
   "metadata": {},
   "outputs": [
    {
     "data": {
      "text/plain": [
       "Date\n",
       "2014-08-27    2074.929932\n",
       "2014-08-28    2075.760010\n",
       "2014-08-29    2068.540039\n",
       "2014-09-01    2067.860107\n",
       "2014-09-02    2051.580078\n",
       "                 ...     \n",
       "2015-01-28    1961.579956\n",
       "2015-01-29    1951.020020\n",
       "2015-01-30    1949.260010\n",
       "2015-02-02    1952.680054\n",
       "2015-02-03    1951.959961\n",
       "Name: Close, Length: 107, dtype: float64"
      ]
     },
     "execution_count": 13,
     "metadata": {},
     "output_type": "execute_result"
    }
   ],
   "source": [
    "expanded_target_r"
   ]
  },
  {
   "cell_type": "code",
   "execution_count": 14,
   "metadata": {},
   "outputs": [
    {
     "data": {
      "text/plain": [
       "Date\n",
       "2022-01-04    2989.239990\n",
       "2022-01-05    2953.969971\n",
       "2022-01-06    2920.530029\n",
       "2022-01-07    2954.889893\n",
       "2022-01-10    2926.719971\n",
       "                 ...     \n",
       "2022-06-08    2626.149902\n",
       "2022-06-09    2625.439941\n",
       "2022-06-10    2595.870117\n",
       "2022-06-13    2504.510010\n",
       "2022-06-14    2492.969971\n",
       "Name: Close, Length: 107, dtype: float64"
      ]
     },
     "execution_count": 14,
     "metadata": {},
     "output_type": "execute_result"
    }
   ],
   "source": [
    "expanded_real_r"
   ]
  },
  {
   "cell_type": "code",
   "execution_count": 15,
   "metadata": {},
   "outputs": [
    {
     "data": {
      "image/png": "[encoded data removed]",
      "text/plain": [
       "<Figure size 864x288 with 2 Axes>"
      ]
     },
     "metadata": {},
     "output_type": "display_data"
    }
   ],
   "source": [
    "# 반복문 인덱스 복원\n",
    "idx = sim_dict[min_sim][0]\n",
    "# 반복문 타겟 구간 시계열 데이터 복원\n",
    "compare_target_r = sim_dict[min_sim][1]\n",
    "\n",
    "plt.figure(figsize=(12,4))\n",
    "expanded_target_r = kospi_close[idx:idx+window_size+next_date]\n",
    "plt.subplot(211)\n",
    "expanded_target_r.plot()\n",
    "plt.axvspan(compare_target_r.index[-1], expanded_target_r.index[-1], facecolor='gray', alpha=0.5)\n",
    "plt.axvline(x=compare_target_r.index[-1], c='r', linestyle='--')\n",
    "plt.title('backtest(2014-05 ~ 2015-02)')\n",
    "\n",
    "plt.subplot(212)\n",
    "loc = kospi_close.index.get_loc(kospi_close.loc[d_start:].index[0])\n",
    "expanded_real_r = kospi_close[loc:loc+window_size+next_date]\n",
    "expanded_real_r.plot()\n",
    "plt.axvspan(expanded_real_r.index[-next_date], expanded_real_r.index[-1], facecolor='pink', alpha=0.5)\n",
    "plt.axvline(x=expanded_real_r.index[-next_date], c='r', linestyle='--')\n",
    "plt.title('real(2022-01 ~ 2022-06)')\n",
    "\n",
    "plt.tight_layout()\n",
    "plt.show()"
   ]
  }
 ],
 "metadata": {
  "kernelspec": {
   "display_name": "Python 3.7.7 ('dataScience')",
   "language": "python",
   "name": "python3"
  },
  "language_info": {
   "codemirror_mode": {
    "name": "ipython",
    "version": 3
   },
   "file_extension": ".py",
   "mimetype": "text/x-python",
   "name": "python",
   "nbconvert_exporter": "python",
   "pygments_lexer": "ipython3",
   "version": "3.7.7"
  },
  "orig_nbformat": 4,
  "vscode": {
   "interpreter": {
    "hash": "946e70462398da2b7d5146f365841ff0dae0fe6e2f7c4e5ed0a8dd78c4677798"
   }
  }
 },
 "nbformat": 4,
 "nbformat_minor": 2
}
