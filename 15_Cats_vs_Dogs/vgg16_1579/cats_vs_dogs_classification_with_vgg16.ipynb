{
  "cells": [
    {
      "cell_type": "markdown",
      "metadata": {
        "id": "Tuj3hUdyAd9d"
      },
      "source": [
        "# Classification with VGG16 : Cats vs Dogs"
      ]
    },
    {
      "cell_type": "markdown",
      "metadata": {},
      "source": [
        "---\n",
        "```\n",
        "Step 0. Library Import\n",
        "Step 1. Load Dataset\n",
        "Step 2. Data Preprocessing\n",
        "Step 3. Modeling\n",
        "Step 4. Model Compile\n",
        "Step 5. Model Checkpoint\n",
        "Step 6. Model Fit\n",
        "Step 7. Model Evaluate & Save\n",
        "Step 8. Model Reload\n",
        "```"
      ]
    },
    {
      "cell_type": "markdown",
      "metadata": {
        "id": "jHxxc2n0BCCa"
      },
      "source": [
        "## Step 0. Library Import"
      ]
    },
    {
      "cell_type": "code",
      "execution_count": 1,
      "metadata": {
        "id": "djvjJKuYBIDw"
      },
      "outputs": [],
      "source": [
        "import tensorflow as tf\n",
        "\n",
        "import tensorflow_datasets as tfds\n",
        "\n",
        "from tensorflow.keras.layers import Conv2D, MaxPooling2D, Flatten, Dropout, Dense\n",
        "from tensorflow.keras.models import Sequential\n",
        "from tensorflow.keras.callbacks import ModelCheckpoint\n",
        "from tensorflow.keras.applications import VGG16"
      ]
    },
    {
      "cell_type": "markdown",
      "metadata": {
        "id": "_HYPsT_cBX_W"
      },
      "source": [
        "## Step 1. Load Dataset\n"
      ]
    },
    {
      "cell_type": "code",
      "execution_count": 2,
      "metadata": {
        "id": "4FId4GaiBkFt"
      },
      "outputs": [],
      "source": [
        "name = 'cats_vs_dogs'\n",
        "\n",
        "train_set = tfds.load(name=name, split='train[:80%]')\n",
        "valid_set = tfds.load(name=name, split='train[80%:]')"
      ]
    },
    {
      "cell_type": "markdown",
      "metadata": {
        "id": "J8O2fVixCK5y"
      },
      "source": [
        "## Step 2. Data Preprocessing"
      ]
    },
    {
      "cell_type": "code",
      "execution_count": 6,
      "metadata": {
        "id": "jjCmej8uBzUQ"
      },
      "outputs": [],
      "source": [
        "def preprocess(data):\n",
        "    x = data['image'] / 255\n",
        "    x = tf.image.resize(x, size=(224,224))\n",
        "\n",
        "    y = data['label']\n",
        "\n",
        "    return x, y"
      ]
    },
    {
      "cell_type": "code",
      "execution_count": 7,
      "metadata": {
        "id": "ORZG0qM5B9yy"
      },
      "outputs": [],
      "source": [
        "batch_size=128\n",
        "train_data = train_set.map(preprocess).batch(batch_size)\n",
        "valid_data = valid_set.map(preprocess).batch(batch_size)"
      ]
    },
    {
      "cell_type": "markdown",
      "metadata": {
        "id": "YaTKatwqCHtB"
      },
      "source": [
        "## Step 3. Modeling"
      ]
    },
    {
      "cell_type": "code",
      "execution_count": 7,
      "metadata": {
        "id": "Bi1xs_L_CJ2H"
      },
      "outputs": [],
      "source": [
        "vgg = VGG16(weights='imagenet', include_top=False, input_shape=(224,224,3))\n",
        "vgg.trainable=False"
      ]
    },
    {
      "cell_type": "code",
      "execution_count": 8,
      "metadata": {
        "id": "S8iSwQ1GCa3f"
      },
      "outputs": [],
      "source": [
        "model = Sequential([\n",
        "    vgg,\n",
        "    Flatten(),\n",
        "    Dropout(0.5),\n",
        "    Dense(512, activation='relu'),\n",
        "    Dense(2, activation='softmax')\n",
        "])"
      ]
    },
    {
      "cell_type": "code",
      "execution_count": 9,
      "metadata": {
        "colab": {
          "base_uri": "https://localhost:8080/"
        },
        "id": "sONHsxahClBu",
        "outputId": "5365d2f6-b689-41d8-aaf7-ff553be22f1a"
      },
      "outputs": [
        {
          "name": "stdout",
          "output_type": "stream",
          "text": [
            "Model: \"sequential\"\n",
            "_________________________________________________________________\n",
            "Layer (type)                 Output Shape              Param #   \n",
            "=================================================================\n",
            "vgg16 (Functional)           (None, 7, 7, 512)         14714688  \n",
            "_________________________________________________________________\n",
            "flatten (Flatten)            (None, 25088)             0         \n",
            "_________________________________________________________________\n",
            "dropout (Dropout)            (None, 25088)             0         \n",
            "_________________________________________________________________\n",
            "dense (Dense)                (None, 512)               12845568  \n",
            "_________________________________________________________________\n",
            "dense_1 (Dense)              (None, 2)                 1026      \n",
            "=================================================================\n",
            "Total params: 27,561,282\n",
            "Trainable params: 12,846,594\n",
            "Non-trainable params: 14,714,688\n",
            "_________________________________________________________________\n"
          ]
        }
      ],
      "source": [
        "model.summary()"
      ]
    },
    {
      "cell_type": "markdown",
      "metadata": {
        "id": "kR7qwGnlCnkI"
      },
      "source": [
        "## Step 4. Model Compile"
      ]
    },
    {
      "cell_type": "code",
      "execution_count": 10,
      "metadata": {
        "id": "xZZxApiDCrYq"
      },
      "outputs": [],
      "source": [
        "model.compile(optimizer='adam', loss='sparse_categorical_crossentropy', metrics=['acc'])"
      ]
    },
    {
      "cell_type": "markdown",
      "metadata": {
        "id": "-jMqcSVfDEJN"
      },
      "source": [
        "## Step 5. Model Checkpoint"
      ]
    },
    {
      "cell_type": "code",
      "execution_count": 11,
      "metadata": {
        "id": "X1oR3WI0DGfI"
      },
      "outputs": [],
      "source": [
        "filepath = 'my_checkpoint.ckpt'\n",
        "cp = ModelCheckpoint(\n",
        "    filepath=filepath,\n",
        "    save_weights_only=True,\n",
        "    save_best_only=True,\n",
        "    monitor='val_loss',\n",
        "    verbose=1\n",
        ")"
      ]
    },
    {
      "cell_type": "markdown",
      "metadata": {
        "id": "T06NMvPqDQmb"
      },
      "source": [
        "## Step 6. Model Fit"
      ]
    },
    {
      "cell_type": "code",
      "execution_count": 12,
      "metadata": {
        "colab": {
          "base_uri": "https://localhost:8080/"
        },
        "id": "S_SoZ90fDSXx",
        "outputId": "2399eccb-44d6-4157-91eb-7a0a42c886dd"
      },
      "outputs": [
        {
          "name": "stdout",
          "output_type": "stream",
          "text": [
            "Epoch 1/12\n",
            "146/146 [==============================] - 60s 329ms/step - loss: 1.4721 - acc: 0.7675 - val_loss: 0.1830 - val_acc: 0.9243\n",
            "\n",
            "Epoch 00001: val_loss improved from inf to 0.18304, saving model to my_checkpoint.ckpt\n",
            "Epoch 2/12\n",
            "146/146 [==============================] - 44s 301ms/step - loss: 0.1900 - acc: 0.9193 - val_loss: 0.1738 - val_acc: 0.9265\n",
            "\n",
            "Epoch 00002: val_loss improved from 0.18304 to 0.17381, saving model to my_checkpoint.ckpt\n",
            "Epoch 3/12\n",
            "146/146 [==============================] - 42s 283ms/step - loss: 0.1601 - acc: 0.9352 - val_loss: 0.1579 - val_acc: 0.9357\n",
            "\n",
            "Epoch 00003: val_loss improved from 0.17381 to 0.15794, saving model to my_checkpoint.ckpt\n",
            "Epoch 4/12\n",
            "146/146 [==============================] - 45s 306ms/step - loss: 0.1468 - acc: 0.9378 - val_loss: 0.1692 - val_acc: 0.9295\n",
            "\n",
            "Epoch 00004: val_loss did not improve from 0.15794\n",
            "Epoch 5/12\n",
            "146/146 [==============================] - 45s 306ms/step - loss: 0.1452 - acc: 0.9401 - val_loss: 0.1867 - val_acc: 0.9235\n",
            "\n",
            "Epoch 00005: val_loss did not improve from 0.15794\n",
            "Epoch 6/12\n",
            "146/146 [==============================] - 42s 288ms/step - loss: 0.1369 - acc: 0.9410 - val_loss: 0.2177 - val_acc: 0.9123\n",
            "\n",
            "Epoch 00006: val_loss did not improve from 0.15794\n",
            "Epoch 7/12\n",
            "146/146 [==============================] - 43s 297ms/step - loss: 0.1414 - acc: 0.9406 - val_loss: 0.2135 - val_acc: 0.9144\n",
            "\n",
            "Epoch 00007: val_loss did not improve from 0.15794\n",
            "Epoch 8/12\n",
            "146/146 [==============================] - 46s 311ms/step - loss: 0.1244 - acc: 0.9476 - val_loss: 0.1958 - val_acc: 0.9192\n",
            "\n",
            "Epoch 00008: val_loss did not improve from 0.15794\n",
            "Epoch 9/12\n",
            "146/146 [==============================] - 42s 284ms/step - loss: 0.1133 - acc: 0.9540 - val_loss: 0.1644 - val_acc: 0.9349\n",
            "\n",
            "Epoch 00009: val_loss did not improve from 0.15794\n",
            "Epoch 10/12\n",
            "146/146 [==============================] - 43s 295ms/step - loss: 0.1052 - acc: 0.9574 - val_loss: 0.1669 - val_acc: 0.9351\n",
            "\n",
            "Epoch 00010: val_loss did not improve from 0.15794\n",
            "Epoch 11/12\n",
            "146/146 [==============================] - 43s 295ms/step - loss: 0.0974 - acc: 0.9614 - val_loss: 0.1974 - val_acc: 0.9261\n",
            "\n",
            "Epoch 00011: val_loss did not improve from 0.15794\n",
            "Epoch 12/12\n",
            "146/146 [==============================] - 46s 312ms/step - loss: 0.1104 - acc: 0.9544 - val_loss: 0.1788 - val_acc: 0.9299\n",
            "\n",
            "Epoch 00012: val_loss did not improve from 0.15794\n"
          ]
        },
        {
          "data": {
            "text/plain": [
              "<tensorflow.python.keras.callbacks.History at 0x7fc480125550>"
            ]
          },
          "execution_count": 12,
          "metadata": {
            "tags": []
          },
          "output_type": "execute_result"
        }
      ],
      "source": [
        "epochs=12\n",
        "model.fit(\n",
        "    train_data,\n",
        "    validation_data=valid_data,\n",
        "    epochs=epochs,\n",
        "    callbacks=[cp]\n",
        ")"
      ]
    },
    {
      "cell_type": "markdown",
      "metadata": {
        "id": "AmiUIj7wDbJo"
      },
      "source": [
        "## Step 7. Model Evaluate & Save"
      ]
    },
    {
      "cell_type": "code",
      "execution_count": 13,
      "metadata": {
        "colab": {
          "base_uri": "https://localhost:8080/"
        },
        "id": "Lt_xRWx0Dvs_",
        "outputId": "a22481d1-2a8f-44c3-99ac-15480409842c"
      },
      "outputs": [
        {
          "name": "stdout",
          "output_type": "stream",
          "text": [
            "37/37 [==============================] - 8s 216ms/step - loss: 0.1579 - acc: 0.9357\n"
          ]
        },
        {
          "data": {
            "text/plain": [
              "[0.15793825685977936, 0.9357265830039978]"
            ]
          },
          "execution_count": 13,
          "metadata": {
            "tags": []
          },
          "output_type": "execute_result"
        }
      ],
      "source": [
        "model.load_weights(filepath)\n",
        "model.evaluate(valid_data)"
      ]
    },
    {
      "cell_type": "code",
      "execution_count": 14,
      "metadata": {
        "id": "OUbMU26OD4v7"
      },
      "outputs": [],
      "source": [
        "model.save('CvD_vgg16_1579.h5')"
      ]
    },
    {
      "cell_type": "markdown",
      "metadata": {
        "id": "Q8MMnzIXENIm"
      },
      "source": [
        "## Step 8. Model Reload\n"
      ]
    },
    {
      "cell_type": "code",
      "execution_count": 15,
      "metadata": {
        "colab": {
          "base_uri": "https://localhost:8080/"
        },
        "id": "WHktm8UXEPET",
        "outputId": "02171c12-08b1-4a37-8761-96c47071339b"
      },
      "outputs": [
        {
          "name": "stdout",
          "output_type": "stream",
          "text": [
            "Model: \"sequential\"\n",
            "_________________________________________________________________\n",
            "Layer (type)                 Output Shape              Param #   \n",
            "=================================================================\n",
            "vgg16 (Functional)           (None, 7, 7, 512)         14714688  \n",
            "_________________________________________________________________\n",
            "flatten (Flatten)            (None, 25088)             0         \n",
            "_________________________________________________________________\n",
            "dropout (Dropout)            (None, 25088)             0         \n",
            "_________________________________________________________________\n",
            "dense (Dense)                (None, 512)               12845568  \n",
            "_________________________________________________________________\n",
            "dense_1 (Dense)              (None, 2)                 1026      \n",
            "=================================================================\n",
            "Total params: 27,561,282\n",
            "Trainable params: 12,846,594\n",
            "Non-trainable params: 14,714,688\n",
            "_________________________________________________________________\n"
          ]
        }
      ],
      "source": [
        "mymodel = tf.keras.models.load_model('CvD_vgg16_1579.h5')\n",
        "mymodel.summary()"
      ]
    },
    {
      "cell_type": "code",
      "execution_count": null,
      "metadata": {
        "id": "7mjyWuRfHWjP"
      },
      "outputs": [],
      "source": []
    }
  ],
  "metadata": {
    "accelerator": "GPU",
    "colab": {
      "name": "cats_vs_dogs_classification_with_vgg16.ipynb",
      "provenance": []
    },
    "kernelspec": {
      "display_name": "Python 3.7.7 64-bit ('dataScience': conda)",
      "name": "python377jvsc74a57bd088212c6b79be9b544bafe6735d74fe8c206b1cc2a4f62e98b323686df1ed5be2"
    },
    "language_info": {
      "codemirror_mode": {
        "name": "ipython",
        "version": 3
      },
      "file_extension": ".py",
      "mimetype": "text/x-python",
      "name": "python",
      "nbconvert_exporter": "python",
      "pygments_lexer": "ipython3",
      "version": "3.7.7"
    }
  },
  "nbformat": 4,
  "nbformat_minor": 0
}