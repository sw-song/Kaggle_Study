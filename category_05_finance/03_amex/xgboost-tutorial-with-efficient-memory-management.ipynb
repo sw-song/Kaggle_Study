{
 "cells": [
  {
   "cell_type": "markdown",
   "id": "400813c2",
   "metadata": {
    "papermill": {
     "duration": 0.034452,
     "end_time": "2022-07-18T03:11:17.796341",
     "exception": false,
     "start_time": "2022-07-18T03:11:17.761889",
     "status": "completed"
    },
    "tags": []
   },
   "source": [
    "> This kernel is a XGB Tutorial with managing the memory that added code-comments and detailed descriptions based on [XGBoost Starter - LB 0.793](https://www.kaggle.com/code/cdeotte/xgboost-starter-0-793)."
   ]
  },
  {
   "cell_type": "markdown",
   "id": "f7f262b9",
   "metadata": {
    "execution": {
     "iopub.execute_input": "2022-07-17T15:42:35.079157Z",
     "iopub.status.busy": "2022-07-17T15:42:35.078701Z",
     "iopub.status.idle": "2022-07-17T15:42:35.087982Z",
     "shell.execute_reply": "2022-07-17T15:42:35.086913Z",
     "shell.execute_reply.started": "2022-07-17T15:42:35.079116Z"
    },
    "papermill": {
     "duration": 0.032101,
     "end_time": "2022-07-18T03:11:17.862995",
     "exception": false,
     "start_time": "2022-07-18T03:11:17.830894",
     "status": "completed"
    },
    "tags": []
   },
   "source": [
    "> TOC\n",
    "```\n",
    "1. Load Libraries\n",
    "2. Load Dataset and Manage the GPU Memory\n",
    "3. Feature Engineering\n",
    "4. Train XGB\n",
    "5. Save OOF Preds\n",
    "6. Feature Importance\n",
    "7. Data Processing and Feature Engineering for Test Data\n",
    "8. Infer Test\n",
    "9. Create Submission CSV\n",
    "```"
   ]
  },
  {
   "cell_type": "markdown",
   "id": "bd33a30e",
   "metadata": {
    "papermill": {
     "duration": 0.032335,
     "end_time": "2022-07-18T03:11:17.927641",
     "exception": false,
     "start_time": "2022-07-18T03:11:17.895306",
     "status": "completed"
    },
    "tags": []
   },
   "source": [
    "# 1. Load Libraries"
   ]
  },
  {
   "cell_type": "markdown",
   "id": "fff46ec3",
   "metadata": {
    "papermill": {
     "duration": 0.031883,
     "end_time": "2022-07-18T03:11:17.991875",
     "exception": false,
     "start_time": "2022-07-18T03:11:17.959992",
     "status": "completed"
    },
    "tags": []
   },
   "source": [
    "When we train machine learning and deep learning, it is common to use the CPU to perform data preprocessing,etc. and to train the model with the GPU. And in this case, the process of copying(moving) the data loaded to the CPU to the GPU is required. For example, Working with dataframes with pandas, processing data on GPU memory with torch, and so on.\n",
    "\n",
    "Instead of doing that now, RAPIDS came out with the concept of 'Yo, Let's do the whole process on the GPU!'. RAPIDS is a CUDA process-based data science platform built and operated by NVIDIA.\n",
    "\n",
    "All packages are named cuxx to emphasize that they are based on CUDA. By replacing pandas with cudf, numpy with cupy, and sklearn with cuml, it has been developed to use almost the same functions as before.\n"
   ]
  },
  {
   "cell_type": "code",
   "execution_count": 1,
   "id": "aa9fceb3",
   "metadata": {
    "execution": {
     "iopub.execute_input": "2022-07-18T03:11:18.058398Z",
     "iopub.status.busy": "2022-07-18T03:11:18.057887Z",
     "iopub.status.idle": "2022-07-18T03:11:22.496226Z",
     "shell.execute_reply": "2022-07-18T03:11:22.493856Z"
    },
    "papermill": {
     "duration": 4.473904,
     "end_time": "2022-07-18T03:11:22.498103",
     "exception": false,
     "start_time": "2022-07-18T03:11:18.024199",
     "status": "completed"
    },
    "tags": []
   },
   "outputs": [
    {
     "name": "stdout",
     "output_type": "stream",
     "text": [
      "cudf version 21.10.01\n"
     ]
    }
   ],
   "source": [
    "import pandas as pd\n",
    "import numpy as np\n",
    "\n",
    "import cupy\n",
    "import cudf\n",
    "\n",
    "import matplotlib.pyplot as plt, gc, os\n",
    "\n",
    "print('cudf version',cudf.__version__)"
   ]
  },
  {
   "cell_type": "markdown",
   "id": "2499c871",
   "metadata": {
    "papermill": {
     "duration": 0.019642,
     "end_time": "2022-07-18T03:11:22.538269",
     "exception": false,
     "start_time": "2022-07-18T03:11:22.518627",
     "status": "completed"
    },
    "tags": []
   },
   "source": [
    "# 2. Load Dataset and Manage the GPU Memory\n",
    "\n",
    "When using a GPU, we need to manage our GPU resources well with monitoring currently available GPU resources through the nvidia-smi shell command, etc."
   ]
  },
  {
   "cell_type": "code",
   "execution_count": 2,
   "id": "567b82c7",
   "metadata": {
    "execution": {
     "iopub.execute_input": "2022-07-18T03:11:22.578877Z",
     "iopub.status.busy": "2022-07-18T03:11:22.578597Z",
     "iopub.status.idle": "2022-07-18T03:11:23.306128Z",
     "shell.execute_reply": "2022-07-18T03:11:23.305041Z"
    },
    "papermill": {
     "duration": 0.750598,
     "end_time": "2022-07-18T03:11:23.308220",
     "exception": false,
     "start_time": "2022-07-18T03:11:22.557622",
     "status": "completed"
    },
    "tags": []
   },
   "outputs": [
    {
     "name": "stdout",
     "output_type": "stream",
     "text": [
      "Mon Jul 18 03:11:23 2022       \r\n",
      "+-----------------------------------------------------------------------------+\r\n",
      "| NVIDIA-SMI 470.82.01    Driver Version: 470.82.01    CUDA Version: 11.4     |\r\n",
      "|-------------------------------+----------------------+----------------------+\r\n",
      "| GPU  Name        Persistence-M| Bus-Id        Disp.A | Volatile Uncorr. ECC |\r\n",
      "| Fan  Temp  Perf  Pwr:Usage/Cap|         Memory-Usage | GPU-Util  Compute M. |\r\n",
      "|                               |                      |               MIG M. |\r\n",
      "|===============================+======================+======================|\r\n",
      "|   0  Tesla P100-PCIE...  Off  | 00000000:00:04.0 Off |                    0 |\r\n",
      "| N/A   39C    P0    27W / 250W |      2MiB / 16280MiB |      0%      Default |\r\n",
      "|                               |                      |                  N/A |\r\n",
      "+-------------------------------+----------------------+----------------------+\r\n",
      "                                                                               \r\n",
      "+-----------------------------------------------------------------------------+\r\n",
      "| Processes:                                                                  |\r\n",
      "|  GPU   GI   CI        PID   Type   Process name                  GPU Memory |\r\n",
      "|        ID   ID                                                   Usage      |\r\n",
      "|=============================================================================|\r\n",
      "|  No running processes found                                                 |\r\n",
      "+-----------------------------------------------------------------------------+\r\n"
     ]
    }
   ],
   "source": [
    "!nvidia-smi"
   ]
  },
  {
   "cell_type": "markdown",
   "id": "ec985dd2",
   "metadata": {
    "papermill": {
     "duration": 0.019452,
     "end_time": "2022-07-18T03:11:23.348247",
     "exception": false,
     "start_time": "2022-07-18T03:11:23.328795",
     "status": "completed"
    },
    "tags": []
   },
   "source": [
    "One Tesla P100 is available and there are currently no processes running with that GPU.\n",
    "\n",
    "Now we will load the data onto GPU memory with cudf. The basic functions and usage are the same as in pandas."
   ]
  },
  {
   "cell_type": "code",
   "execution_count": 3,
   "id": "930b7524",
   "metadata": {
    "execution": {
     "iopub.execute_input": "2022-07-18T03:11:23.389723Z",
     "iopub.status.busy": "2022-07-18T03:11:23.389415Z",
     "iopub.status.idle": "2022-07-18T03:11:44.662086Z",
     "shell.execute_reply": "2022-07-18T03:11:44.661254Z"
    },
    "papermill": {
     "duration": 21.296083,
     "end_time": "2022-07-18T03:11:44.664332",
     "exception": false,
     "start_time": "2022-07-18T03:11:23.368249",
     "status": "completed"
    },
    "tags": []
   },
   "outputs": [],
   "source": [
    "# read_parquet() function reads a file in parquet format.\n",
    "df = cudf.read_parquet('../input/amex-data-integer-dtypes-parquet-format/train.parquet')"
   ]
  },
  {
   "cell_type": "code",
   "execution_count": 4,
   "id": "6f0d68d4",
   "metadata": {
    "execution": {
     "iopub.execute_input": "2022-07-18T03:11:44.706133Z",
     "iopub.status.busy": "2022-07-18T03:11:44.705805Z",
     "iopub.status.idle": "2022-07-18T03:11:45.022900Z",
     "shell.execute_reply": "2022-07-18T03:11:45.022152Z"
    },
    "papermill": {
     "duration": 0.340191,
     "end_time": "2022-07-18T03:11:45.025343",
     "exception": false,
     "start_time": "2022-07-18T03:11:44.685152",
     "status": "completed"
    },
    "tags": []
   },
   "outputs": [
    {
     "data": {
      "text/html": [
       "<div>\n",
       "<style scoped>\n",
       "    .dataframe tbody tr th:only-of-type {\n",
       "        vertical-align: middle;\n",
       "    }\n",
       "\n",
       "    .dataframe tbody tr th {\n",
       "        vertical-align: top;\n",
       "    }\n",
       "\n",
       "    .dataframe thead th {\n",
       "        text-align: right;\n",
       "    }\n",
       "</style>\n",
       "<table border=\"1\" class=\"dataframe\">\n",
       "  <thead>\n",
       "    <tr style=\"text-align: right;\">\n",
       "      <th></th>\n",
       "      <th>customer_ID</th>\n",
       "      <th>S_2</th>\n",
       "      <th>P_2</th>\n",
       "      <th>D_39</th>\n",
       "      <th>B_1</th>\n",
       "      <th>B_2</th>\n",
       "      <th>R_1</th>\n",
       "      <th>S_3</th>\n",
       "      <th>D_41</th>\n",
       "      <th>B_3</th>\n",
       "      <th>...</th>\n",
       "      <th>D_136</th>\n",
       "      <th>D_137</th>\n",
       "      <th>D_138</th>\n",
       "      <th>D_139</th>\n",
       "      <th>D_140</th>\n",
       "      <th>D_141</th>\n",
       "      <th>D_142</th>\n",
       "      <th>D_143</th>\n",
       "      <th>D_144</th>\n",
       "      <th>D_145</th>\n",
       "    </tr>\n",
       "  </thead>\n",
       "  <tbody>\n",
       "    <tr>\n",
       "      <th>0</th>\n",
       "      <td>0000099d6bd597052cdcda90ffabf56573fe9d7c79be5f...</td>\n",
       "      <td>2017-03-09</td>\n",
       "      <td>0.938469</td>\n",
       "      <td>0</td>\n",
       "      <td>0.008724</td>\n",
       "      <td>1.006838</td>\n",
       "      <td>0.009228</td>\n",
       "      <td>0.124035157</td>\n",
       "      <td>0.0</td>\n",
       "      <td>0.004709</td>\n",
       "      <td>...</td>\n",
       "      <td>-1</td>\n",
       "      <td>-1</td>\n",
       "      <td>-1</td>\n",
       "      <td>0</td>\n",
       "      <td>0</td>\n",
       "      <td>0.0</td>\n",
       "      <td>&lt;NA&gt;</td>\n",
       "      <td>0</td>\n",
       "      <td>0.000610</td>\n",
       "      <td>0</td>\n",
       "    </tr>\n",
       "    <tr>\n",
       "      <th>1</th>\n",
       "      <td>0000099d6bd597052cdcda90ffabf56573fe9d7c79be5f...</td>\n",
       "      <td>2017-04-07</td>\n",
       "      <td>0.936665</td>\n",
       "      <td>0</td>\n",
       "      <td>0.004923</td>\n",
       "      <td>1.000653</td>\n",
       "      <td>0.006151</td>\n",
       "      <td>0.126749977</td>\n",
       "      <td>0.0</td>\n",
       "      <td>0.002714</td>\n",
       "      <td>...</td>\n",
       "      <td>-1</td>\n",
       "      <td>-1</td>\n",
       "      <td>-1</td>\n",
       "      <td>0</td>\n",
       "      <td>0</td>\n",
       "      <td>0.0</td>\n",
       "      <td>&lt;NA&gt;</td>\n",
       "      <td>0</td>\n",
       "      <td>0.005492</td>\n",
       "      <td>0</td>\n",
       "    </tr>\n",
       "    <tr>\n",
       "      <th>2</th>\n",
       "      <td>0000099d6bd597052cdcda90ffabf56573fe9d7c79be5f...</td>\n",
       "      <td>2017-05-28</td>\n",
       "      <td>0.954180</td>\n",
       "      <td>3</td>\n",
       "      <td>0.021655</td>\n",
       "      <td>1.009672</td>\n",
       "      <td>0.006815</td>\n",
       "      <td>0.123976685</td>\n",
       "      <td>0.0</td>\n",
       "      <td>0.009423</td>\n",
       "      <td>...</td>\n",
       "      <td>-1</td>\n",
       "      <td>-1</td>\n",
       "      <td>-1</td>\n",
       "      <td>0</td>\n",
       "      <td>0</td>\n",
       "      <td>0.0</td>\n",
       "      <td>&lt;NA&gt;</td>\n",
       "      <td>0</td>\n",
       "      <td>0.006986</td>\n",
       "      <td>0</td>\n",
       "    </tr>\n",
       "    <tr>\n",
       "      <th>3</th>\n",
       "      <td>0000099d6bd597052cdcda90ffabf56573fe9d7c79be5f...</td>\n",
       "      <td>2017-06-13</td>\n",
       "      <td>0.960384</td>\n",
       "      <td>0</td>\n",
       "      <td>0.013683</td>\n",
       "      <td>1.002700</td>\n",
       "      <td>0.001373</td>\n",
       "      <td>0.117169224</td>\n",
       "      <td>0.0</td>\n",
       "      <td>0.005531</td>\n",
       "      <td>...</td>\n",
       "      <td>-1</td>\n",
       "      <td>-1</td>\n",
       "      <td>-1</td>\n",
       "      <td>0</td>\n",
       "      <td>0</td>\n",
       "      <td>0.0</td>\n",
       "      <td>&lt;NA&gt;</td>\n",
       "      <td>0</td>\n",
       "      <td>0.006527</td>\n",
       "      <td>0</td>\n",
       "    </tr>\n",
       "    <tr>\n",
       "      <th>4</th>\n",
       "      <td>0000099d6bd597052cdcda90ffabf56573fe9d7c79be5f...</td>\n",
       "      <td>2017-07-16</td>\n",
       "      <td>0.947248</td>\n",
       "      <td>0</td>\n",
       "      <td>0.015193</td>\n",
       "      <td>1.000727</td>\n",
       "      <td>0.007605</td>\n",
       "      <td>0.117324777</td>\n",
       "      <td>0.0</td>\n",
       "      <td>0.009312</td>\n",
       "      <td>...</td>\n",
       "      <td>-1</td>\n",
       "      <td>-1</td>\n",
       "      <td>-1</td>\n",
       "      <td>0</td>\n",
       "      <td>0</td>\n",
       "      <td>0.0</td>\n",
       "      <td>&lt;NA&gt;</td>\n",
       "      <td>0</td>\n",
       "      <td>0.008126</td>\n",
       "      <td>0</td>\n",
       "    </tr>\n",
       "    <tr>\n",
       "      <th>...</th>\n",
       "      <td>...</td>\n",
       "      <td>...</td>\n",
       "      <td>...</td>\n",
       "      <td>...</td>\n",
       "      <td>...</td>\n",
       "      <td>...</td>\n",
       "      <td>...</td>\n",
       "      <td>...</td>\n",
       "      <td>...</td>\n",
       "      <td>...</td>\n",
       "      <td>...</td>\n",
       "      <td>...</td>\n",
       "      <td>...</td>\n",
       "      <td>...</td>\n",
       "      <td>...</td>\n",
       "      <td>...</td>\n",
       "      <td>...</td>\n",
       "      <td>...</td>\n",
       "      <td>...</td>\n",
       "      <td>...</td>\n",
       "      <td>...</td>\n",
       "    </tr>\n",
       "    <tr>\n",
       "      <th>5531446</th>\n",
       "      <td>fffff1d38b785cef84adeace64f8f83db3a0c31e8d92ea...</td>\n",
       "      <td>2017-11-05</td>\n",
       "      <td>0.979333</td>\n",
       "      <td>14</td>\n",
       "      <td>0.020818</td>\n",
       "      <td>0.828199</td>\n",
       "      <td>0.003487</td>\n",
       "      <td>0.090742894</td>\n",
       "      <td>0.0</td>\n",
       "      <td>0.025139</td>\n",
       "      <td>...</td>\n",
       "      <td>-1</td>\n",
       "      <td>-1</td>\n",
       "      <td>-1</td>\n",
       "      <td>0</td>\n",
       "      <td>0</td>\n",
       "      <td>0.0</td>\n",
       "      <td>&lt;NA&gt;</td>\n",
       "      <td>0</td>\n",
       "      <td>0.001498</td>\n",
       "      <td>0</td>\n",
       "    </tr>\n",
       "    <tr>\n",
       "      <th>5531447</th>\n",
       "      <td>fffff1d38b785cef84adeace64f8f83db3a0c31e8d92ea...</td>\n",
       "      <td>2017-12-23</td>\n",
       "      <td>0.984907</td>\n",
       "      <td>10</td>\n",
       "      <td>0.007209</td>\n",
       "      <td>0.812610</td>\n",
       "      <td>0.005904</td>\n",
       "      <td>0.079886191</td>\n",
       "      <td>0.0</td>\n",
       "      <td>0.023691</td>\n",
       "      <td>...</td>\n",
       "      <td>-1</td>\n",
       "      <td>-1</td>\n",
       "      <td>-1</td>\n",
       "      <td>0</td>\n",
       "      <td>0</td>\n",
       "      <td>0.0</td>\n",
       "      <td>&lt;NA&gt;</td>\n",
       "      <td>0</td>\n",
       "      <td>0.008225</td>\n",
       "      <td>0</td>\n",
       "    </tr>\n",
       "    <tr>\n",
       "      <th>5531448</th>\n",
       "      <td>fffff1d38b785cef84adeace64f8f83db3a0c31e8d92ea...</td>\n",
       "      <td>2018-01-06</td>\n",
       "      <td>0.983019</td>\n",
       "      <td>15</td>\n",
       "      <td>0.013151</td>\n",
       "      <td>0.815422</td>\n",
       "      <td>0.003457</td>\n",
       "      <td>0.100502573</td>\n",
       "      <td>0.0</td>\n",
       "      <td>0.012343</td>\n",
       "      <td>...</td>\n",
       "      <td>-1</td>\n",
       "      <td>-1</td>\n",
       "      <td>-1</td>\n",
       "      <td>0</td>\n",
       "      <td>0</td>\n",
       "      <td>0.0</td>\n",
       "      <td>&lt;NA&gt;</td>\n",
       "      <td>0</td>\n",
       "      <td>0.006773</td>\n",
       "      <td>0</td>\n",
       "    </tr>\n",
       "    <tr>\n",
       "      <th>5531449</th>\n",
       "      <td>fffff1d38b785cef84adeace64f8f83db3a0c31e8d92ea...</td>\n",
       "      <td>2018-02-06</td>\n",
       "      <td>0.969861</td>\n",
       "      <td>15</td>\n",
       "      <td>0.009855</td>\n",
       "      <td>1.003541</td>\n",
       "      <td>0.005117</td>\n",
       "      <td>0.101802148</td>\n",
       "      <td>0.0</td>\n",
       "      <td>0.008578</td>\n",
       "      <td>...</td>\n",
       "      <td>-1</td>\n",
       "      <td>-1</td>\n",
       "      <td>-1</td>\n",
       "      <td>0</td>\n",
       "      <td>0</td>\n",
       "      <td>0.0</td>\n",
       "      <td>&lt;NA&gt;</td>\n",
       "      <td>0</td>\n",
       "      <td>0.001168</td>\n",
       "      <td>0</td>\n",
       "    </tr>\n",
       "    <tr>\n",
       "      <th>5531450</th>\n",
       "      <td>fffff1d38b785cef84adeace64f8f83db3a0c31e8d92ea...</td>\n",
       "      <td>2018-03-14</td>\n",
       "      <td>0.982175</td>\n",
       "      <td>0</td>\n",
       "      <td>0.000077</td>\n",
       "      <td>0.992880</td>\n",
       "      <td>0.000809</td>\n",
       "      <td>0.119164906</td>\n",
       "      <td>0.0</td>\n",
       "      <td>0.014092</td>\n",
       "      <td>...</td>\n",
       "      <td>-1</td>\n",
       "      <td>-1</td>\n",
       "      <td>-1</td>\n",
       "      <td>0</td>\n",
       "      <td>0</td>\n",
       "      <td>0.0</td>\n",
       "      <td>&lt;NA&gt;</td>\n",
       "      <td>0</td>\n",
       "      <td>0.003184</td>\n",
       "      <td>0</td>\n",
       "    </tr>\n",
       "  </tbody>\n",
       "</table>\n",
       "<p>5531451 rows × 190 columns</p>\n",
       "</div>"
      ],
      "text/plain": [
       "                                               customer_ID         S_2  \\\n",
       "0        0000099d6bd597052cdcda90ffabf56573fe9d7c79be5f...  2017-03-09   \n",
       "1        0000099d6bd597052cdcda90ffabf56573fe9d7c79be5f...  2017-04-07   \n",
       "2        0000099d6bd597052cdcda90ffabf56573fe9d7c79be5f...  2017-05-28   \n",
       "3        0000099d6bd597052cdcda90ffabf56573fe9d7c79be5f...  2017-06-13   \n",
       "4        0000099d6bd597052cdcda90ffabf56573fe9d7c79be5f...  2017-07-16   \n",
       "...                                                    ...         ...   \n",
       "5531446  fffff1d38b785cef84adeace64f8f83db3a0c31e8d92ea...  2017-11-05   \n",
       "5531447  fffff1d38b785cef84adeace64f8f83db3a0c31e8d92ea...  2017-12-23   \n",
       "5531448  fffff1d38b785cef84adeace64f8f83db3a0c31e8d92ea...  2018-01-06   \n",
       "5531449  fffff1d38b785cef84adeace64f8f83db3a0c31e8d92ea...  2018-02-06   \n",
       "5531450  fffff1d38b785cef84adeace64f8f83db3a0c31e8d92ea...  2018-03-14   \n",
       "\n",
       "              P_2  D_39       B_1       B_2       R_1          S_3  D_41  \\\n",
       "0        0.938469     0  0.008724  1.006838  0.009228  0.124035157   0.0   \n",
       "1        0.936665     0  0.004923  1.000653  0.006151  0.126749977   0.0   \n",
       "2        0.954180     3  0.021655  1.009672  0.006815  0.123976685   0.0   \n",
       "3        0.960384     0  0.013683  1.002700  0.001373  0.117169224   0.0   \n",
       "4        0.947248     0  0.015193  1.000727  0.007605  0.117324777   0.0   \n",
       "...           ...   ...       ...       ...       ...          ...   ...   \n",
       "5531446  0.979333    14  0.020818  0.828199  0.003487  0.090742894   0.0   \n",
       "5531447  0.984907    10  0.007209  0.812610  0.005904  0.079886191   0.0   \n",
       "5531448  0.983019    15  0.013151  0.815422  0.003457  0.100502573   0.0   \n",
       "5531449  0.969861    15  0.009855  1.003541  0.005117  0.101802148   0.0   \n",
       "5531450  0.982175     0  0.000077  0.992880  0.000809  0.119164906   0.0   \n",
       "\n",
       "              B_3  ... D_136  D_137  D_138  D_139  D_140  D_141 D_142 D_143  \\\n",
       "0        0.004709  ...    -1     -1     -1      0      0    0.0  <NA>     0   \n",
       "1        0.002714  ...    -1     -1     -1      0      0    0.0  <NA>     0   \n",
       "2        0.009423  ...    -1     -1     -1      0      0    0.0  <NA>     0   \n",
       "3        0.005531  ...    -1     -1     -1      0      0    0.0  <NA>     0   \n",
       "4        0.009312  ...    -1     -1     -1      0      0    0.0  <NA>     0   \n",
       "...           ...  ...   ...    ...    ...    ...    ...    ...   ...   ...   \n",
       "5531446  0.025139  ...    -1     -1     -1      0      0    0.0  <NA>     0   \n",
       "5531447  0.023691  ...    -1     -1     -1      0      0    0.0  <NA>     0   \n",
       "5531448  0.012343  ...    -1     -1     -1      0      0    0.0  <NA>     0   \n",
       "5531449  0.008578  ...    -1     -1     -1      0      0    0.0  <NA>     0   \n",
       "5531450  0.014092  ...    -1     -1     -1      0      0    0.0  <NA>     0   \n",
       "\n",
       "            D_144  D_145  \n",
       "0        0.000610      0  \n",
       "1        0.005492      0  \n",
       "2        0.006986      0  \n",
       "3        0.006527      0  \n",
       "4        0.008126      0  \n",
       "...           ...    ...  \n",
       "5531446  0.001498      0  \n",
       "5531447  0.008225      0  \n",
       "5531448  0.006773      0  \n",
       "5531449  0.001168      0  \n",
       "5531450  0.003184      0  \n",
       "\n",
       "[5531451 rows x 190 columns]"
      ]
     },
     "execution_count": 4,
     "metadata": {},
     "output_type": "execute_result"
    }
   ],
   "source": [
    "df"
   ]
  },
  {
   "cell_type": "code",
   "execution_count": 5,
   "id": "179e3080",
   "metadata": {
    "execution": {
     "iopub.execute_input": "2022-07-18T03:11:45.068781Z",
     "iopub.status.busy": "2022-07-18T03:11:45.068080Z",
     "iopub.status.idle": "2022-07-18T03:11:45.817177Z",
     "shell.execute_reply": "2022-07-18T03:11:45.816216Z"
    },
    "papermill": {
     "duration": 0.772645,
     "end_time": "2022-07-18T03:11:45.819275",
     "exception": false,
     "start_time": "2022-07-18T03:11:45.046630",
     "status": "completed"
    },
    "tags": []
   },
   "outputs": [
    {
     "name": "stdout",
     "output_type": "stream",
     "text": [
      "Mon Jul 18 03:11:45 2022       \r\n",
      "+-----------------------------------------------------------------------------+\r\n",
      "| NVIDIA-SMI 470.82.01    Driver Version: 470.82.01    CUDA Version: 11.4     |\r\n",
      "|-------------------------------+----------------------+----------------------+\r\n",
      "| GPU  Name        Persistence-M| Bus-Id        Disp.A | Volatile Uncorr. ECC |\r\n",
      "| Fan  Temp  Perf  Pwr:Usage/Cap|         Memory-Usage | GPU-Util  Compute M. |\r\n",
      "|                               |                      |               MIG M. |\r\n",
      "|===============================+======================+======================|\r\n",
      "|   0  Tesla P100-PCIE...  Off  | 00000000:00:04.0 Off |                    0 |\r\n",
      "| N/A   40C    P0    38W / 250W |   3669MiB / 16280MiB |      0%      Default |\r\n",
      "|                               |                      |                  N/A |\r\n",
      "+-------------------------------+----------------------+----------------------+\r\n",
      "                                                                               \r\n",
      "+-----------------------------------------------------------------------------+\r\n",
      "| Processes:                                                                  |\r\n",
      "|  GPU   GI   CI        PID   Type   Process name                  GPU Memory |\r\n",
      "|        ID   ID                                                   Usage      |\r\n",
      "|=============================================================================|\r\n",
      "+-----------------------------------------------------------------------------+\r\n"
     ]
    }
   ],
   "source": [
    "!nvidia-smi"
   ]
  },
  {
   "cell_type": "markdown",
   "id": "167e42ad",
   "metadata": {
    "execution": {
     "iopub.execute_input": "2022-07-16T01:00:25.05959Z",
     "iopub.status.busy": "2022-07-16T01:00:25.059036Z",
     "iopub.status.idle": "2022-07-16T01:00:25.066313Z",
     "shell.execute_reply": "2022-07-16T01:00:25.06519Z",
     "shell.execute_reply.started": "2022-07-16T01:00:25.059548Z"
    },
    "papermill": {
     "duration": 0.020448,
     "end_time": "2022-07-18T03:11:45.860344",
     "exception": false,
     "start_time": "2022-07-18T03:11:45.839896",
     "status": "completed"
    },
    "tags": []
   },
   "source": [
    "Putting data on the GPU like this will take up 3669 MiB of memory in Memory-Usage. Given that the total available memory is 16280 MiB, it should be borne in mind that memory may be overwitten if the variable is copied several times or another dataset(eg, evaluation data) is loaded."
   ]
  },
  {
   "cell_type": "markdown",
   "id": "89a64a8e",
   "metadata": {
    "papermill": {
     "duration": 0.019941,
     "end_time": "2022-07-18T03:11:45.900770",
     "exception": false,
     "start_time": "2022-07-18T03:11:45.880829",
     "status": "completed"
    },
    "tags": []
   },
   "source": [
    "So, if you want to cleanly convert `customer_ID` to a number, you can use the hex_to_int() and astype() functions.\n",
    "\n",
    "Let's apply that only for the last 16 characters. That's the unique characters."
   ]
  },
  {
   "cell_type": "code",
   "execution_count": 6,
   "id": "4fae48f5",
   "metadata": {
    "execution": {
     "iopub.execute_input": "2022-07-18T03:11:45.943336Z",
     "iopub.status.busy": "2022-07-18T03:11:45.942505Z",
     "iopub.status.idle": "2022-07-18T03:11:46.285949Z",
     "shell.execute_reply": "2022-07-18T03:11:46.285215Z"
    },
    "papermill": {
     "duration": 0.36659,
     "end_time": "2022-07-18T03:11:46.287861",
     "exception": false,
     "start_time": "2022-07-18T03:11:45.921271",
     "status": "completed"
    },
    "tags": []
   },
   "outputs": [
    {
     "data": {
      "text/html": [
       "<div>\n",
       "<style scoped>\n",
       "    .dataframe tbody tr th:only-of-type {\n",
       "        vertical-align: middle;\n",
       "    }\n",
       "\n",
       "    .dataframe tbody tr th {\n",
       "        vertical-align: top;\n",
       "    }\n",
       "\n",
       "    .dataframe thead th {\n",
       "        text-align: right;\n",
       "    }\n",
       "</style>\n",
       "<table border=\"1\" class=\"dataframe\">\n",
       "  <thead>\n",
       "    <tr style=\"text-align: right;\">\n",
       "      <th></th>\n",
       "      <th>customer_ID</th>\n",
       "      <th>S_2</th>\n",
       "      <th>P_2</th>\n",
       "      <th>D_39</th>\n",
       "      <th>B_1</th>\n",
       "      <th>B_2</th>\n",
       "      <th>R_1</th>\n",
       "      <th>S_3</th>\n",
       "      <th>D_41</th>\n",
       "      <th>B_3</th>\n",
       "      <th>...</th>\n",
       "      <th>D_136</th>\n",
       "      <th>D_137</th>\n",
       "      <th>D_138</th>\n",
       "      <th>D_139</th>\n",
       "      <th>D_140</th>\n",
       "      <th>D_141</th>\n",
       "      <th>D_142</th>\n",
       "      <th>D_143</th>\n",
       "      <th>D_144</th>\n",
       "      <th>D_145</th>\n",
       "    </tr>\n",
       "  </thead>\n",
       "  <tbody>\n",
       "    <tr>\n",
       "      <th>0</th>\n",
       "      <td>-4532153018459703766</td>\n",
       "      <td>2017-03-09</td>\n",
       "      <td>0.938469</td>\n",
       "      <td>0</td>\n",
       "      <td>0.008724</td>\n",
       "      <td>1.006838</td>\n",
       "      <td>0.009228</td>\n",
       "      <td>0.124035157</td>\n",
       "      <td>0.0</td>\n",
       "      <td>0.004709</td>\n",
       "      <td>...</td>\n",
       "      <td>-1</td>\n",
       "      <td>-1</td>\n",
       "      <td>-1</td>\n",
       "      <td>0</td>\n",
       "      <td>0</td>\n",
       "      <td>0.0</td>\n",
       "      <td>&lt;NA&gt;</td>\n",
       "      <td>0</td>\n",
       "      <td>0.000610</td>\n",
       "      <td>0</td>\n",
       "    </tr>\n",
       "    <tr>\n",
       "      <th>1</th>\n",
       "      <td>-4532153018459703766</td>\n",
       "      <td>2017-04-07</td>\n",
       "      <td>0.936665</td>\n",
       "      <td>0</td>\n",
       "      <td>0.004923</td>\n",
       "      <td>1.000653</td>\n",
       "      <td>0.006151</td>\n",
       "      <td>0.126749977</td>\n",
       "      <td>0.0</td>\n",
       "      <td>0.002714</td>\n",
       "      <td>...</td>\n",
       "      <td>-1</td>\n",
       "      <td>-1</td>\n",
       "      <td>-1</td>\n",
       "      <td>0</td>\n",
       "      <td>0</td>\n",
       "      <td>0.0</td>\n",
       "      <td>&lt;NA&gt;</td>\n",
       "      <td>0</td>\n",
       "      <td>0.005492</td>\n",
       "      <td>0</td>\n",
       "    </tr>\n",
       "    <tr>\n",
       "      <th>2</th>\n",
       "      <td>-4532153018459703766</td>\n",
       "      <td>2017-05-28</td>\n",
       "      <td>0.954180</td>\n",
       "      <td>3</td>\n",
       "      <td>0.021655</td>\n",
       "      <td>1.009672</td>\n",
       "      <td>0.006815</td>\n",
       "      <td>0.123976685</td>\n",
       "      <td>0.0</td>\n",
       "      <td>0.009423</td>\n",
       "      <td>...</td>\n",
       "      <td>-1</td>\n",
       "      <td>-1</td>\n",
       "      <td>-1</td>\n",
       "      <td>0</td>\n",
       "      <td>0</td>\n",
       "      <td>0.0</td>\n",
       "      <td>&lt;NA&gt;</td>\n",
       "      <td>0</td>\n",
       "      <td>0.006986</td>\n",
       "      <td>0</td>\n",
       "    </tr>\n",
       "    <tr>\n",
       "      <th>3</th>\n",
       "      <td>-4532153018459703766</td>\n",
       "      <td>2017-06-13</td>\n",
       "      <td>0.960384</td>\n",
       "      <td>0</td>\n",
       "      <td>0.013683</td>\n",
       "      <td>1.002700</td>\n",
       "      <td>0.001373</td>\n",
       "      <td>0.117169224</td>\n",
       "      <td>0.0</td>\n",
       "      <td>0.005531</td>\n",
       "      <td>...</td>\n",
       "      <td>-1</td>\n",
       "      <td>-1</td>\n",
       "      <td>-1</td>\n",
       "      <td>0</td>\n",
       "      <td>0</td>\n",
       "      <td>0.0</td>\n",
       "      <td>&lt;NA&gt;</td>\n",
       "      <td>0</td>\n",
       "      <td>0.006527</td>\n",
       "      <td>0</td>\n",
       "    </tr>\n",
       "    <tr>\n",
       "      <th>4</th>\n",
       "      <td>-4532153018459703766</td>\n",
       "      <td>2017-07-16</td>\n",
       "      <td>0.947248</td>\n",
       "      <td>0</td>\n",
       "      <td>0.015193</td>\n",
       "      <td>1.000727</td>\n",
       "      <td>0.007605</td>\n",
       "      <td>0.117324777</td>\n",
       "      <td>0.0</td>\n",
       "      <td>0.009312</td>\n",
       "      <td>...</td>\n",
       "      <td>-1</td>\n",
       "      <td>-1</td>\n",
       "      <td>-1</td>\n",
       "      <td>0</td>\n",
       "      <td>0</td>\n",
       "      <td>0.0</td>\n",
       "      <td>&lt;NA&gt;</td>\n",
       "      <td>0</td>\n",
       "      <td>0.008126</td>\n",
       "      <td>0</td>\n",
       "    </tr>\n",
       "    <tr>\n",
       "      <th>...</th>\n",
       "      <td>...</td>\n",
       "      <td>...</td>\n",
       "      <td>...</td>\n",
       "      <td>...</td>\n",
       "      <td>...</td>\n",
       "      <td>...</td>\n",
       "      <td>...</td>\n",
       "      <td>...</td>\n",
       "      <td>...</td>\n",
       "      <td>...</td>\n",
       "      <td>...</td>\n",
       "      <td>...</td>\n",
       "      <td>...</td>\n",
       "      <td>...</td>\n",
       "      <td>...</td>\n",
       "      <td>...</td>\n",
       "      <td>...</td>\n",
       "      <td>...</td>\n",
       "      <td>...</td>\n",
       "      <td>...</td>\n",
       "      <td>...</td>\n",
       "    </tr>\n",
       "    <tr>\n",
       "      <th>5531446</th>\n",
       "      <td>-8425848485496994175</td>\n",
       "      <td>2017-11-05</td>\n",
       "      <td>0.979333</td>\n",
       "      <td>14</td>\n",
       "      <td>0.020818</td>\n",
       "      <td>0.828199</td>\n",
       "      <td>0.003487</td>\n",
       "      <td>0.090742894</td>\n",
       "      <td>0.0</td>\n",
       "      <td>0.025139</td>\n",
       "      <td>...</td>\n",
       "      <td>-1</td>\n",
       "      <td>-1</td>\n",
       "      <td>-1</td>\n",
       "      <td>0</td>\n",
       "      <td>0</td>\n",
       "      <td>0.0</td>\n",
       "      <td>&lt;NA&gt;</td>\n",
       "      <td>0</td>\n",
       "      <td>0.001498</td>\n",
       "      <td>0</td>\n",
       "    </tr>\n",
       "    <tr>\n",
       "      <th>5531447</th>\n",
       "      <td>-8425848485496994175</td>\n",
       "      <td>2017-12-23</td>\n",
       "      <td>0.984907</td>\n",
       "      <td>10</td>\n",
       "      <td>0.007209</td>\n",
       "      <td>0.812610</td>\n",
       "      <td>0.005904</td>\n",
       "      <td>0.079886191</td>\n",
       "      <td>0.0</td>\n",
       "      <td>0.023691</td>\n",
       "      <td>...</td>\n",
       "      <td>-1</td>\n",
       "      <td>-1</td>\n",
       "      <td>-1</td>\n",
       "      <td>0</td>\n",
       "      <td>0</td>\n",
       "      <td>0.0</td>\n",
       "      <td>&lt;NA&gt;</td>\n",
       "      <td>0</td>\n",
       "      <td>0.008225</td>\n",
       "      <td>0</td>\n",
       "    </tr>\n",
       "    <tr>\n",
       "      <th>5531448</th>\n",
       "      <td>-8425848485496994175</td>\n",
       "      <td>2018-01-06</td>\n",
       "      <td>0.983019</td>\n",
       "      <td>15</td>\n",
       "      <td>0.013151</td>\n",
       "      <td>0.815422</td>\n",
       "      <td>0.003457</td>\n",
       "      <td>0.100502573</td>\n",
       "      <td>0.0</td>\n",
       "      <td>0.012343</td>\n",
       "      <td>...</td>\n",
       "      <td>-1</td>\n",
       "      <td>-1</td>\n",
       "      <td>-1</td>\n",
       "      <td>0</td>\n",
       "      <td>0</td>\n",
       "      <td>0.0</td>\n",
       "      <td>&lt;NA&gt;</td>\n",
       "      <td>0</td>\n",
       "      <td>0.006773</td>\n",
       "      <td>0</td>\n",
       "    </tr>\n",
       "    <tr>\n",
       "      <th>5531449</th>\n",
       "      <td>-8425848485496994175</td>\n",
       "      <td>2018-02-06</td>\n",
       "      <td>0.969861</td>\n",
       "      <td>15</td>\n",
       "      <td>0.009855</td>\n",
       "      <td>1.003541</td>\n",
       "      <td>0.005117</td>\n",
       "      <td>0.101802148</td>\n",
       "      <td>0.0</td>\n",
       "      <td>0.008578</td>\n",
       "      <td>...</td>\n",
       "      <td>-1</td>\n",
       "      <td>-1</td>\n",
       "      <td>-1</td>\n",
       "      <td>0</td>\n",
       "      <td>0</td>\n",
       "      <td>0.0</td>\n",
       "      <td>&lt;NA&gt;</td>\n",
       "      <td>0</td>\n",
       "      <td>0.001168</td>\n",
       "      <td>0</td>\n",
       "    </tr>\n",
       "    <tr>\n",
       "      <th>5531450</th>\n",
       "      <td>-8425848485496994175</td>\n",
       "      <td>2018-03-14</td>\n",
       "      <td>0.982175</td>\n",
       "      <td>0</td>\n",
       "      <td>0.000077</td>\n",
       "      <td>0.992880</td>\n",
       "      <td>0.000809</td>\n",
       "      <td>0.119164906</td>\n",
       "      <td>0.0</td>\n",
       "      <td>0.014092</td>\n",
       "      <td>...</td>\n",
       "      <td>-1</td>\n",
       "      <td>-1</td>\n",
       "      <td>-1</td>\n",
       "      <td>0</td>\n",
       "      <td>0</td>\n",
       "      <td>0.0</td>\n",
       "      <td>&lt;NA&gt;</td>\n",
       "      <td>0</td>\n",
       "      <td>0.003184</td>\n",
       "      <td>0</td>\n",
       "    </tr>\n",
       "  </tbody>\n",
       "</table>\n",
       "<p>5531451 rows × 190 columns</p>\n",
       "</div>"
      ],
      "text/plain": [
       "                 customer_ID         S_2       P_2  D_39       B_1       B_2  \\\n",
       "0       -4532153018459703766  2017-03-09  0.938469     0  0.008724  1.006838   \n",
       "1       -4532153018459703766  2017-04-07  0.936665     0  0.004923  1.000653   \n",
       "2       -4532153018459703766  2017-05-28  0.954180     3  0.021655  1.009672   \n",
       "3       -4532153018459703766  2017-06-13  0.960384     0  0.013683  1.002700   \n",
       "4       -4532153018459703766  2017-07-16  0.947248     0  0.015193  1.000727   \n",
       "...                      ...         ...       ...   ...       ...       ...   \n",
       "5531446 -8425848485496994175  2017-11-05  0.979333    14  0.020818  0.828199   \n",
       "5531447 -8425848485496994175  2017-12-23  0.984907    10  0.007209  0.812610   \n",
       "5531448 -8425848485496994175  2018-01-06  0.983019    15  0.013151  0.815422   \n",
       "5531449 -8425848485496994175  2018-02-06  0.969861    15  0.009855  1.003541   \n",
       "5531450 -8425848485496994175  2018-03-14  0.982175     0  0.000077  0.992880   \n",
       "\n",
       "              R_1          S_3  D_41       B_3  ... D_136  D_137  D_138  \\\n",
       "0        0.009228  0.124035157   0.0  0.004709  ...    -1     -1     -1   \n",
       "1        0.006151  0.126749977   0.0  0.002714  ...    -1     -1     -1   \n",
       "2        0.006815  0.123976685   0.0  0.009423  ...    -1     -1     -1   \n",
       "3        0.001373  0.117169224   0.0  0.005531  ...    -1     -1     -1   \n",
       "4        0.007605  0.117324777   0.0  0.009312  ...    -1     -1     -1   \n",
       "...           ...          ...   ...       ...  ...   ...    ...    ...   \n",
       "5531446  0.003487  0.090742894   0.0  0.025139  ...    -1     -1     -1   \n",
       "5531447  0.005904  0.079886191   0.0  0.023691  ...    -1     -1     -1   \n",
       "5531448  0.003457  0.100502573   0.0  0.012343  ...    -1     -1     -1   \n",
       "5531449  0.005117  0.101802148   0.0  0.008578  ...    -1     -1     -1   \n",
       "5531450  0.000809  0.119164906   0.0  0.014092  ...    -1     -1     -1   \n",
       "\n",
       "         D_139  D_140  D_141 D_142 D_143     D_144  D_145  \n",
       "0            0      0    0.0  <NA>     0  0.000610      0  \n",
       "1            0      0    0.0  <NA>     0  0.005492      0  \n",
       "2            0      0    0.0  <NA>     0  0.006986      0  \n",
       "3            0      0    0.0  <NA>     0  0.006527      0  \n",
       "4            0      0    0.0  <NA>     0  0.008126      0  \n",
       "...        ...    ...    ...   ...   ...       ...    ...  \n",
       "5531446      0      0    0.0  <NA>     0  0.001498      0  \n",
       "5531447      0      0    0.0  <NA>     0  0.008225      0  \n",
       "5531448      0      0    0.0  <NA>     0  0.006773      0  \n",
       "5531449      0      0    0.0  <NA>     0  0.001168      0  \n",
       "5531450      0      0    0.0  <NA>     0  0.003184      0  \n",
       "\n",
       "[5531451 rows x 190 columns]"
      ]
     },
     "execution_count": 6,
     "metadata": {},
     "output_type": "execute_result"
    }
   ],
   "source": [
    "df['customer_ID'] = df['customer_ID'].str[-16:].str.hex_to_int().astype('int64')\n",
    "df"
   ]
  },
  {
   "cell_type": "code",
   "execution_count": 7,
   "id": "389779fe",
   "metadata": {
    "execution": {
     "iopub.execute_input": "2022-07-18T03:11:46.330193Z",
     "iopub.status.busy": "2022-07-18T03:11:46.329921Z",
     "iopub.status.idle": "2022-07-18T03:11:47.062071Z",
     "shell.execute_reply": "2022-07-18T03:11:47.061147Z"
    },
    "papermill": {
     "duration": 0.75541,
     "end_time": "2022-07-18T03:11:47.064074",
     "exception": false,
     "start_time": "2022-07-18T03:11:46.308664",
     "status": "completed"
    },
    "tags": []
   },
   "outputs": [
    {
     "name": "stdout",
     "output_type": "stream",
     "text": [
      "Mon Jul 18 03:11:46 2022       \r\n",
      "+-----------------------------------------------------------------------------+\r\n",
      "| NVIDIA-SMI 470.82.01    Driver Version: 470.82.01    CUDA Version: 11.4     |\r\n",
      "|-------------------------------+----------------------+----------------------+\r\n",
      "| GPU  Name        Persistence-M| Bus-Id        Disp.A | Volatile Uncorr. ECC |\r\n",
      "| Fan  Temp  Perf  Pwr:Usage/Cap|         Memory-Usage | GPU-Util  Compute M. |\r\n",
      "|                               |                      |               MIG M. |\r\n",
      "|===============================+======================+======================|\r\n",
      "|   0  Tesla P100-PCIE...  Off  | 00000000:00:04.0 Off |                    0 |\r\n",
      "| N/A   40C    P0    38W / 250W |   3353MiB / 16280MiB |      0%      Default |\r\n",
      "|                               |                      |                  N/A |\r\n",
      "+-------------------------------+----------------------+----------------------+\r\n",
      "                                                                               \r\n",
      "+-----------------------------------------------------------------------------+\r\n",
      "| Processes:                                                                  |\r\n",
      "|  GPU   GI   CI        PID   Type   Process name                  GPU Memory |\r\n",
      "|        ID   ID                                                   Usage      |\r\n",
      "|=============================================================================|\r\n",
      "+-----------------------------------------------------------------------------+\r\n"
     ]
    }
   ],
   "source": [
    "!nvidia-smi"
   ]
  },
  {
   "cell_type": "markdown",
   "id": "1f8ae45d",
   "metadata": {
    "papermill": {
     "duration": 0.021314,
     "end_time": "2022-07-18T03:11:47.106416",
     "exception": false,
     "start_time": "2022-07-18T03:11:47.085102",
     "status": "completed"
    },
    "tags": []
   },
   "source": [
    "In order to get used to it, we will continue to track the memory as much as possible. Just truncating some of the data like this can reduce the memory being used.\n",
    "\n",
    "About 300 MiB has been reduced."
   ]
  },
  {
   "cell_type": "markdown",
   "id": "2e2b6454",
   "metadata": {
    "papermill": {
     "duration": 0.020223,
     "end_time": "2022-07-18T03:11:47.147093",
     "exception": false,
     "start_time": "2022-07-18T03:11:47.126870",
     "status": "completed"
    },
    "tags": []
   },
   "source": [
    "Column `S_2`contained time information. Like pandas, the data type is changed with the to_datetime() function."
   ]
  },
  {
   "cell_type": "code",
   "execution_count": 8,
   "id": "5add649a",
   "metadata": {
    "execution": {
     "iopub.execute_input": "2022-07-18T03:11:47.191369Z",
     "iopub.status.busy": "2022-07-18T03:11:47.190658Z",
     "iopub.status.idle": "2022-07-18T03:11:47.475974Z",
     "shell.execute_reply": "2022-07-18T03:11:47.475179Z"
    },
    "papermill": {
     "duration": 0.30895,
     "end_time": "2022-07-18T03:11:47.477765",
     "exception": false,
     "start_time": "2022-07-18T03:11:47.168815",
     "status": "completed"
    },
    "tags": []
   },
   "outputs": [
    {
     "data": {
      "text/html": [
       "<div>\n",
       "<style scoped>\n",
       "    .dataframe tbody tr th:only-of-type {\n",
       "        vertical-align: middle;\n",
       "    }\n",
       "\n",
       "    .dataframe tbody tr th {\n",
       "        vertical-align: top;\n",
       "    }\n",
       "\n",
       "    .dataframe thead th {\n",
       "        text-align: right;\n",
       "    }\n",
       "</style>\n",
       "<table border=\"1\" class=\"dataframe\">\n",
       "  <thead>\n",
       "    <tr style=\"text-align: right;\">\n",
       "      <th></th>\n",
       "      <th>customer_ID</th>\n",
       "      <th>S_2</th>\n",
       "      <th>P_2</th>\n",
       "      <th>D_39</th>\n",
       "      <th>B_1</th>\n",
       "      <th>B_2</th>\n",
       "      <th>R_1</th>\n",
       "      <th>S_3</th>\n",
       "      <th>D_41</th>\n",
       "      <th>B_3</th>\n",
       "      <th>...</th>\n",
       "      <th>D_136</th>\n",
       "      <th>D_137</th>\n",
       "      <th>D_138</th>\n",
       "      <th>D_139</th>\n",
       "      <th>D_140</th>\n",
       "      <th>D_141</th>\n",
       "      <th>D_142</th>\n",
       "      <th>D_143</th>\n",
       "      <th>D_144</th>\n",
       "      <th>D_145</th>\n",
       "    </tr>\n",
       "  </thead>\n",
       "  <tbody>\n",
       "    <tr>\n",
       "      <th>0</th>\n",
       "      <td>-4532153018459703766</td>\n",
       "      <td>2017-03-09</td>\n",
       "      <td>0.938469</td>\n",
       "      <td>0</td>\n",
       "      <td>0.008724</td>\n",
       "      <td>1.006838</td>\n",
       "      <td>0.009228</td>\n",
       "      <td>0.124035157</td>\n",
       "      <td>0.0</td>\n",
       "      <td>0.004709</td>\n",
       "      <td>...</td>\n",
       "      <td>-1</td>\n",
       "      <td>-1</td>\n",
       "      <td>-1</td>\n",
       "      <td>0</td>\n",
       "      <td>0</td>\n",
       "      <td>0.0</td>\n",
       "      <td>&lt;NA&gt;</td>\n",
       "      <td>0</td>\n",
       "      <td>0.000610</td>\n",
       "      <td>0</td>\n",
       "    </tr>\n",
       "    <tr>\n",
       "      <th>1</th>\n",
       "      <td>-4532153018459703766</td>\n",
       "      <td>2017-04-07</td>\n",
       "      <td>0.936665</td>\n",
       "      <td>0</td>\n",
       "      <td>0.004923</td>\n",
       "      <td>1.000653</td>\n",
       "      <td>0.006151</td>\n",
       "      <td>0.126749977</td>\n",
       "      <td>0.0</td>\n",
       "      <td>0.002714</td>\n",
       "      <td>...</td>\n",
       "      <td>-1</td>\n",
       "      <td>-1</td>\n",
       "      <td>-1</td>\n",
       "      <td>0</td>\n",
       "      <td>0</td>\n",
       "      <td>0.0</td>\n",
       "      <td>&lt;NA&gt;</td>\n",
       "      <td>0</td>\n",
       "      <td>0.005492</td>\n",
       "      <td>0</td>\n",
       "    </tr>\n",
       "    <tr>\n",
       "      <th>2</th>\n",
       "      <td>-4532153018459703766</td>\n",
       "      <td>2017-05-28</td>\n",
       "      <td>0.954180</td>\n",
       "      <td>3</td>\n",
       "      <td>0.021655</td>\n",
       "      <td>1.009672</td>\n",
       "      <td>0.006815</td>\n",
       "      <td>0.123976685</td>\n",
       "      <td>0.0</td>\n",
       "      <td>0.009423</td>\n",
       "      <td>...</td>\n",
       "      <td>-1</td>\n",
       "      <td>-1</td>\n",
       "      <td>-1</td>\n",
       "      <td>0</td>\n",
       "      <td>0</td>\n",
       "      <td>0.0</td>\n",
       "      <td>&lt;NA&gt;</td>\n",
       "      <td>0</td>\n",
       "      <td>0.006986</td>\n",
       "      <td>0</td>\n",
       "    </tr>\n",
       "    <tr>\n",
       "      <th>3</th>\n",
       "      <td>-4532153018459703766</td>\n",
       "      <td>2017-06-13</td>\n",
       "      <td>0.960384</td>\n",
       "      <td>0</td>\n",
       "      <td>0.013683</td>\n",
       "      <td>1.002700</td>\n",
       "      <td>0.001373</td>\n",
       "      <td>0.117169224</td>\n",
       "      <td>0.0</td>\n",
       "      <td>0.005531</td>\n",
       "      <td>...</td>\n",
       "      <td>-1</td>\n",
       "      <td>-1</td>\n",
       "      <td>-1</td>\n",
       "      <td>0</td>\n",
       "      <td>0</td>\n",
       "      <td>0.0</td>\n",
       "      <td>&lt;NA&gt;</td>\n",
       "      <td>0</td>\n",
       "      <td>0.006527</td>\n",
       "      <td>0</td>\n",
       "    </tr>\n",
       "    <tr>\n",
       "      <th>4</th>\n",
       "      <td>-4532153018459703766</td>\n",
       "      <td>2017-07-16</td>\n",
       "      <td>0.947248</td>\n",
       "      <td>0</td>\n",
       "      <td>0.015193</td>\n",
       "      <td>1.000727</td>\n",
       "      <td>0.007605</td>\n",
       "      <td>0.117324777</td>\n",
       "      <td>0.0</td>\n",
       "      <td>0.009312</td>\n",
       "      <td>...</td>\n",
       "      <td>-1</td>\n",
       "      <td>-1</td>\n",
       "      <td>-1</td>\n",
       "      <td>0</td>\n",
       "      <td>0</td>\n",
       "      <td>0.0</td>\n",
       "      <td>&lt;NA&gt;</td>\n",
       "      <td>0</td>\n",
       "      <td>0.008126</td>\n",
       "      <td>0</td>\n",
       "    </tr>\n",
       "    <tr>\n",
       "      <th>...</th>\n",
       "      <td>...</td>\n",
       "      <td>...</td>\n",
       "      <td>...</td>\n",
       "      <td>...</td>\n",
       "      <td>...</td>\n",
       "      <td>...</td>\n",
       "      <td>...</td>\n",
       "      <td>...</td>\n",
       "      <td>...</td>\n",
       "      <td>...</td>\n",
       "      <td>...</td>\n",
       "      <td>...</td>\n",
       "      <td>...</td>\n",
       "      <td>...</td>\n",
       "      <td>...</td>\n",
       "      <td>...</td>\n",
       "      <td>...</td>\n",
       "      <td>...</td>\n",
       "      <td>...</td>\n",
       "      <td>...</td>\n",
       "      <td>...</td>\n",
       "    </tr>\n",
       "    <tr>\n",
       "      <th>5531446</th>\n",
       "      <td>-8425848485496994175</td>\n",
       "      <td>2017-11-05</td>\n",
       "      <td>0.979333</td>\n",
       "      <td>14</td>\n",
       "      <td>0.020818</td>\n",
       "      <td>0.828199</td>\n",
       "      <td>0.003487</td>\n",
       "      <td>0.090742894</td>\n",
       "      <td>0.0</td>\n",
       "      <td>0.025139</td>\n",
       "      <td>...</td>\n",
       "      <td>-1</td>\n",
       "      <td>-1</td>\n",
       "      <td>-1</td>\n",
       "      <td>0</td>\n",
       "      <td>0</td>\n",
       "      <td>0.0</td>\n",
       "      <td>&lt;NA&gt;</td>\n",
       "      <td>0</td>\n",
       "      <td>0.001498</td>\n",
       "      <td>0</td>\n",
       "    </tr>\n",
       "    <tr>\n",
       "      <th>5531447</th>\n",
       "      <td>-8425848485496994175</td>\n",
       "      <td>2017-12-23</td>\n",
       "      <td>0.984907</td>\n",
       "      <td>10</td>\n",
       "      <td>0.007209</td>\n",
       "      <td>0.812610</td>\n",
       "      <td>0.005904</td>\n",
       "      <td>0.079886191</td>\n",
       "      <td>0.0</td>\n",
       "      <td>0.023691</td>\n",
       "      <td>...</td>\n",
       "      <td>-1</td>\n",
       "      <td>-1</td>\n",
       "      <td>-1</td>\n",
       "      <td>0</td>\n",
       "      <td>0</td>\n",
       "      <td>0.0</td>\n",
       "      <td>&lt;NA&gt;</td>\n",
       "      <td>0</td>\n",
       "      <td>0.008225</td>\n",
       "      <td>0</td>\n",
       "    </tr>\n",
       "    <tr>\n",
       "      <th>5531448</th>\n",
       "      <td>-8425848485496994175</td>\n",
       "      <td>2018-01-06</td>\n",
       "      <td>0.983019</td>\n",
       "      <td>15</td>\n",
       "      <td>0.013151</td>\n",
       "      <td>0.815422</td>\n",
       "      <td>0.003457</td>\n",
       "      <td>0.100502573</td>\n",
       "      <td>0.0</td>\n",
       "      <td>0.012343</td>\n",
       "      <td>...</td>\n",
       "      <td>-1</td>\n",
       "      <td>-1</td>\n",
       "      <td>-1</td>\n",
       "      <td>0</td>\n",
       "      <td>0</td>\n",
       "      <td>0.0</td>\n",
       "      <td>&lt;NA&gt;</td>\n",
       "      <td>0</td>\n",
       "      <td>0.006773</td>\n",
       "      <td>0</td>\n",
       "    </tr>\n",
       "    <tr>\n",
       "      <th>5531449</th>\n",
       "      <td>-8425848485496994175</td>\n",
       "      <td>2018-02-06</td>\n",
       "      <td>0.969861</td>\n",
       "      <td>15</td>\n",
       "      <td>0.009855</td>\n",
       "      <td>1.003541</td>\n",
       "      <td>0.005117</td>\n",
       "      <td>0.101802148</td>\n",
       "      <td>0.0</td>\n",
       "      <td>0.008578</td>\n",
       "      <td>...</td>\n",
       "      <td>-1</td>\n",
       "      <td>-1</td>\n",
       "      <td>-1</td>\n",
       "      <td>0</td>\n",
       "      <td>0</td>\n",
       "      <td>0.0</td>\n",
       "      <td>&lt;NA&gt;</td>\n",
       "      <td>0</td>\n",
       "      <td>0.001168</td>\n",
       "      <td>0</td>\n",
       "    </tr>\n",
       "    <tr>\n",
       "      <th>5531450</th>\n",
       "      <td>-8425848485496994175</td>\n",
       "      <td>2018-03-14</td>\n",
       "      <td>0.982175</td>\n",
       "      <td>0</td>\n",
       "      <td>0.000077</td>\n",
       "      <td>0.992880</td>\n",
       "      <td>0.000809</td>\n",
       "      <td>0.119164906</td>\n",
       "      <td>0.0</td>\n",
       "      <td>0.014092</td>\n",
       "      <td>...</td>\n",
       "      <td>-1</td>\n",
       "      <td>-1</td>\n",
       "      <td>-1</td>\n",
       "      <td>0</td>\n",
       "      <td>0</td>\n",
       "      <td>0.0</td>\n",
       "      <td>&lt;NA&gt;</td>\n",
       "      <td>0</td>\n",
       "      <td>0.003184</td>\n",
       "      <td>0</td>\n",
       "    </tr>\n",
       "  </tbody>\n",
       "</table>\n",
       "<p>5531451 rows × 190 columns</p>\n",
       "</div>"
      ],
      "text/plain": [
       "                 customer_ID        S_2       P_2  D_39       B_1       B_2  \\\n",
       "0       -4532153018459703766 2017-03-09  0.938469     0  0.008724  1.006838   \n",
       "1       -4532153018459703766 2017-04-07  0.936665     0  0.004923  1.000653   \n",
       "2       -4532153018459703766 2017-05-28  0.954180     3  0.021655  1.009672   \n",
       "3       -4532153018459703766 2017-06-13  0.960384     0  0.013683  1.002700   \n",
       "4       -4532153018459703766 2017-07-16  0.947248     0  0.015193  1.000727   \n",
       "...                      ...        ...       ...   ...       ...       ...   \n",
       "5531446 -8425848485496994175 2017-11-05  0.979333    14  0.020818  0.828199   \n",
       "5531447 -8425848485496994175 2017-12-23  0.984907    10  0.007209  0.812610   \n",
       "5531448 -8425848485496994175 2018-01-06  0.983019    15  0.013151  0.815422   \n",
       "5531449 -8425848485496994175 2018-02-06  0.969861    15  0.009855  1.003541   \n",
       "5531450 -8425848485496994175 2018-03-14  0.982175     0  0.000077  0.992880   \n",
       "\n",
       "              R_1          S_3  D_41       B_3  ... D_136  D_137  D_138  \\\n",
       "0        0.009228  0.124035157   0.0  0.004709  ...    -1     -1     -1   \n",
       "1        0.006151  0.126749977   0.0  0.002714  ...    -1     -1     -1   \n",
       "2        0.006815  0.123976685   0.0  0.009423  ...    -1     -1     -1   \n",
       "3        0.001373  0.117169224   0.0  0.005531  ...    -1     -1     -1   \n",
       "4        0.007605  0.117324777   0.0  0.009312  ...    -1     -1     -1   \n",
       "...           ...          ...   ...       ...  ...   ...    ...    ...   \n",
       "5531446  0.003487  0.090742894   0.0  0.025139  ...    -1     -1     -1   \n",
       "5531447  0.005904  0.079886191   0.0  0.023691  ...    -1     -1     -1   \n",
       "5531448  0.003457  0.100502573   0.0  0.012343  ...    -1     -1     -1   \n",
       "5531449  0.005117  0.101802148   0.0  0.008578  ...    -1     -1     -1   \n",
       "5531450  0.000809  0.119164906   0.0  0.014092  ...    -1     -1     -1   \n",
       "\n",
       "         D_139  D_140  D_141 D_142 D_143     D_144  D_145  \n",
       "0            0      0    0.0  <NA>     0  0.000610      0  \n",
       "1            0      0    0.0  <NA>     0  0.005492      0  \n",
       "2            0      0    0.0  <NA>     0  0.006986      0  \n",
       "3            0      0    0.0  <NA>     0  0.006527      0  \n",
       "4            0      0    0.0  <NA>     0  0.008126      0  \n",
       "...        ...    ...    ...   ...   ...       ...    ...  \n",
       "5531446      0      0    0.0  <NA>     0  0.001498      0  \n",
       "5531447      0      0    0.0  <NA>     0  0.008225      0  \n",
       "5531448      0      0    0.0  <NA>     0  0.006773      0  \n",
       "5531449      0      0    0.0  <NA>     0  0.001168      0  \n",
       "5531450      0      0    0.0  <NA>     0  0.003184      0  \n",
       "\n",
       "[5531451 rows x 190 columns]"
      ]
     },
     "execution_count": 8,
     "metadata": {},
     "output_type": "execute_result"
    }
   ],
   "source": [
    "df['S_2'] = cudf.to_datetime(df['S_2'])\n",
    "df"
   ]
  },
  {
   "cell_type": "code",
   "execution_count": 9,
   "id": "ac8a2b2a",
   "metadata": {
    "execution": {
     "iopub.execute_input": "2022-07-18T03:11:47.522258Z",
     "iopub.status.busy": "2022-07-18T03:11:47.521747Z",
     "iopub.status.idle": "2022-07-18T03:11:48.250344Z",
     "shell.execute_reply": "2022-07-18T03:11:48.249416Z"
    },
    "papermill": {
     "duration": 0.752867,
     "end_time": "2022-07-18T03:11:48.252281",
     "exception": false,
     "start_time": "2022-07-18T03:11:47.499414",
     "status": "completed"
    },
    "tags": []
   },
   "outputs": [
    {
     "name": "stdout",
     "output_type": "stream",
     "text": [
      "Mon Jul 18 03:11:48 2022       \r\n",
      "+-----------------------------------------------------------------------------+\r\n",
      "| NVIDIA-SMI 470.82.01    Driver Version: 470.82.01    CUDA Version: 11.4     |\r\n",
      "|-------------------------------+----------------------+----------------------+\r\n",
      "| GPU  Name        Persistence-M| Bus-Id        Disp.A | Volatile Uncorr. ECC |\r\n",
      "| Fan  Temp  Perf  Pwr:Usage/Cap|         Memory-Usage | GPU-Util  Compute M. |\r\n",
      "|                               |                      |               MIG M. |\r\n",
      "|===============================+======================+======================|\r\n",
      "|   0  Tesla P100-PCIE...  Off  | 00000000:00:04.0 Off |                    0 |\r\n",
      "| N/A   40C    P0    38W / 250W |   3321MiB / 16280MiB |      0%      Default |\r\n",
      "|                               |                      |                  N/A |\r\n",
      "+-------------------------------+----------------------+----------------------+\r\n",
      "                                                                               \r\n",
      "+-----------------------------------------------------------------------------+\r\n",
      "| Processes:                                                                  |\r\n",
      "|  GPU   GI   CI        PID   Type   Process name                  GPU Memory |\r\n",
      "|        ID   ID                                                   Usage      |\r\n",
      "|=============================================================================|\r\n",
      "+-----------------------------------------------------------------------------+\r\n"
     ]
    }
   ],
   "source": [
    "!nvidia-smi"
   ]
  },
  {
   "cell_type": "markdown",
   "id": "30369694",
   "metadata": {
    "papermill": {
     "duration": 0.021929,
     "end_time": "2022-07-18T03:11:48.295808",
     "exception": false,
     "start_time": "2022-07-18T03:11:48.273879",
     "status": "completed"
    },
    "tags": []
   },
   "source": [
    "It is also important to change it to an appropriate data type. In Python's memory operation process, string types use a lot of memory by default. So, if you can encode a categorical variable or change it to an integer type, it is advantageous for memory management."
   ]
  },
  {
   "cell_type": "code",
   "execution_count": 10,
   "id": "4da5081e",
   "metadata": {
    "execution": {
     "iopub.execute_input": "2022-07-18T03:11:48.339798Z",
     "iopub.status.busy": "2022-07-18T03:11:48.339140Z",
     "iopub.status.idle": "2022-07-18T03:11:48.587915Z",
     "shell.execute_reply": "2022-07-18T03:11:48.586949Z"
    },
    "papermill": {
     "duration": 0.272897,
     "end_time": "2022-07-18T03:11:48.589745",
     "exception": false,
     "start_time": "2022-07-18T03:11:48.316848",
     "status": "completed"
    },
    "tags": []
   },
   "outputs": [
    {
     "data": {
      "text/plain": [
       "customer_ID          0\n",
       "S_2                  0\n",
       "P_2              45985\n",
       "D_39                 0\n",
       "B_1                  0\n",
       "                ...   \n",
       "D_141           101548\n",
       "D_142          4587043\n",
       "D_143                0\n",
       "D_144            40727\n",
       "D_145                0\n",
       "Length: 190, dtype: uint64"
      ]
     },
     "execution_count": 10,
     "metadata": {},
     "output_type": "execute_result"
    }
   ],
   "source": [
    "df.isna().sum()"
   ]
  },
  {
   "cell_type": "markdown",
   "id": "3de638ed",
   "metadata": {
    "papermill": {
     "duration": 0.021133,
     "end_time": "2022-07-18T03:11:48.632147",
     "exception": false,
     "start_time": "2022-07-18T03:11:48.611014",
     "status": "completed"
    },
    "tags": []
   },
   "source": [
    "There are a lot of empty cells. We will use the fillna() function to fill empty cells with -127. The lowest number that can be expressed in 1 byte(8-bits) is -129. A signed integer can be represented from -128 to 127, and it seems that the original author wanted to replace null values with minimal memory usage.\n",
    "\n",
    "However, since it is a processing that does not consider the distribution of each variable, there may be some disadvantages in model training.\n",
    "\n",
    "And in the original text, when executing the fillna() function with cudf, it was written as `df = df.fillna(NAN_VALUE)`, but we will write it as `df.fillna(NAN_VALUE, inplace=True)`. When written as in the original code, the GPU memory usage nearly doubles (3321MiB -> 6079MiB) as the null-padded df is copied and allocated to a new memory address. Since we are not working on a sufficient memory environment, we must set the `inplace=Tru` option to overwrite the currently allocated memory address."
   ]
  },
  {
   "cell_type": "code",
   "execution_count": 11,
   "id": "797dac56",
   "metadata": {
    "execution": {
     "iopub.execute_input": "2022-07-18T03:11:48.677039Z",
     "iopub.status.busy": "2022-07-18T03:11:48.676727Z",
     "iopub.status.idle": "2022-07-18T03:11:48.686171Z",
     "shell.execute_reply": "2022-07-18T03:11:48.685268Z"
    },
    "papermill": {
     "duration": 0.033878,
     "end_time": "2022-07-18T03:11:48.688112",
     "exception": false,
     "start_time": "2022-07-18T03:11:48.654234",
     "status": "completed"
    },
    "tags": []
   },
   "outputs": [
    {
     "name": "stdout",
     "output_type": "stream",
     "text": [
      "<class 'cudf.core.dataframe.DataFrame'>\n",
      "RangeIndex: 5531451 entries, 0 to 5531450\n",
      "Columns: 190 entries, customer_ID to D_145\n",
      "dtypes: datetime64[ns](1), float32(93), int16(9), int64(1), int8(86)\n",
      "memory usage: 2.6 GB\n"
     ]
    }
   ],
   "source": [
    "df.info()"
   ]
  },
  {
   "cell_type": "code",
   "execution_count": 12,
   "id": "03475d21",
   "metadata": {
    "execution": {
     "iopub.execute_input": "2022-07-18T03:11:48.737709Z",
     "iopub.status.busy": "2022-07-18T03:11:48.737029Z",
     "iopub.status.idle": "2022-07-18T03:11:49.243017Z",
     "shell.execute_reply": "2022-07-18T03:11:49.242279Z"
    },
    "papermill": {
     "duration": 0.532342,
     "end_time": "2022-07-18T03:11:49.244821",
     "exception": false,
     "start_time": "2022-07-18T03:11:48.712479",
     "status": "completed"
    },
    "tags": []
   },
   "outputs": [
    {
     "data": {
      "text/plain": [
       "customer_ID    0\n",
       "S_2            0\n",
       "P_2            0\n",
       "D_39           0\n",
       "B_1            0\n",
       "              ..\n",
       "D_141          0\n",
       "D_142          0\n",
       "D_143          0\n",
       "D_144          0\n",
       "D_145          0\n",
       "Length: 190, dtype: uint64"
      ]
     },
     "execution_count": 12,
     "metadata": {},
     "output_type": "execute_result"
    }
   ],
   "source": [
    "NAN_VALUE = -127 \n",
    "df.fillna(NAN_VALUE, inplace=True)\n",
    "df.isna().sum()"
   ]
  },
  {
   "cell_type": "code",
   "execution_count": 13,
   "id": "b043a6e2",
   "metadata": {
    "execution": {
     "iopub.execute_input": "2022-07-18T03:11:49.290451Z",
     "iopub.status.busy": "2022-07-18T03:11:49.290148Z",
     "iopub.status.idle": "2022-07-18T03:11:50.030844Z",
     "shell.execute_reply": "2022-07-18T03:11:50.029915Z"
    },
    "papermill": {
     "duration": 0.765318,
     "end_time": "2022-07-18T03:11:50.032690",
     "exception": false,
     "start_time": "2022-07-18T03:11:49.267372",
     "status": "completed"
    },
    "tags": []
   },
   "outputs": [
    {
     "name": "stdout",
     "output_type": "stream",
     "text": [
      "Mon Jul 18 03:11:49 2022       \r\n",
      "+-----------------------------------------------------------------------------+\r\n",
      "| NVIDIA-SMI 470.82.01    Driver Version: 470.82.01    CUDA Version: 11.4     |\r\n",
      "|-------------------------------+----------------------+----------------------+\r\n",
      "| GPU  Name        Persistence-M| Bus-Id        Disp.A | Volatile Uncorr. ECC |\r\n",
      "| Fan  Temp  Perf  Pwr:Usage/Cap|         Memory-Usage | GPU-Util  Compute M. |\r\n",
      "|                               |                      |               MIG M. |\r\n",
      "|===============================+======================+======================|\r\n",
      "|   0  Tesla P100-PCIE...  Off  | 00000000:00:04.0 Off |                    0 |\r\n",
      "| N/A   40C    P0    38W / 250W |   3233MiB / 16280MiB |      0%      Default |\r\n",
      "|                               |                      |                  N/A |\r\n",
      "+-------------------------------+----------------------+----------------------+\r\n",
      "                                                                               \r\n",
      "+-----------------------------------------------------------------------------+\r\n",
      "| Processes:                                                                  |\r\n",
      "|  GPU   GI   CI        PID   Type   Process name                  GPU Memory |\r\n",
      "|        ID   ID                                                   Usage      |\r\n",
      "|=============================================================================|\r\n",
      "+-----------------------------------------------------------------------------+\r\n"
     ]
    }
   ],
   "source": [
    "!nvidia-smi"
   ]
  },
  {
   "cell_type": "markdown",
   "id": "8c9c6ab2",
   "metadata": {
    "papermill": {
     "duration": 0.024098,
     "end_time": "2022-07-18T03:11:50.080175",
     "exception": false,
     "start_time": "2022-07-18T03:11:50.056077",
     "status": "completed"
    },
    "tags": []
   },
   "source": [
    "The read_file_GPU() function below performs this process at once.\n",
    "\n",
    "In the original code, it was written only in such a way that GPU is used, but it is difficult to proceed with Kaggle servel. Therefore, we use the CPU in the process of loading the entire data, and in the process of learning or evaluating the data, So we will make another read_file_CPU() function.\n",
    "\n",
    "And we do not have enough CPU on Kaggle server. So if data is uploaded at once in the process of loading the test dataset later, the CPU memory will be exceeded and the Kaggle kernel is reset. Our CPU based function can load the data to CPU in batches and then, load the data to GPU in iteration form. \n",
    "\n",
    "If you want to load data to the CPU, you can use pandas, and if you load data to the GPU,  you can use cudf."
   ]
  },
  {
   "cell_type": "code",
   "execution_count": 14,
   "id": "d41e68ae",
   "metadata": {
    "execution": {
     "iopub.execute_input": "2022-07-18T03:11:50.125063Z",
     "iopub.status.busy": "2022-07-18T03:11:50.124748Z",
     "iopub.status.idle": "2022-07-18T03:11:50.129277Z",
     "shell.execute_reply": "2022-07-18T03:11:50.128390Z"
    },
    "papermill": {
     "duration": 0.029127,
     "end_time": "2022-07-18T03:11:50.131055",
     "exception": false,
     "start_time": "2022-07-18T03:11:50.101928",
     "status": "completed"
    },
    "tags": []
   },
   "outputs": [],
   "source": [
    "from pyarrow.parquet import ParquetFile"
   ]
  },
  {
   "cell_type": "code",
   "execution_count": 15,
   "id": "f76c7f54",
   "metadata": {
    "execution": {
     "iopub.execute_input": "2022-07-18T03:11:50.175737Z",
     "iopub.status.busy": "2022-07-18T03:11:50.175479Z",
     "iopub.status.idle": "2022-07-18T03:11:50.184880Z",
     "shell.execute_reply": "2022-07-18T03:11:50.184185Z"
    },
    "papermill": {
     "duration": 0.03388,
     "end_time": "2022-07-18T03:11:50.186501",
     "exception": false,
     "start_time": "2022-07-18T03:11:50.152621",
     "status": "completed"
    },
    "tags": []
   },
   "outputs": [],
   "source": [
    "# original code\n",
    "def read_file_GPU(path = '', usecols = None):\n",
    "    # read_parquet() function can read the parquet-type file.\n",
    "    # if you want to specify columns:\n",
    "    if usecols is not None: \n",
    "        df = cudf.read_parquet(path, columns=usecols)\n",
    "    # if you want to read all columns:\n",
    "    else: df = cudf.read_parquet(path)\n",
    "    \n",
    "    df['customer_ID'] = df['customer_ID'].str[-16:].str.hex_to_int().astype('int64')\n",
    "    df.S_2 = cudf.to_datetime( df.S_2 )\n",
    "    df = df.fillna(NAN_VALUE) \n",
    "    print('shape of data:', df.shape)\n",
    "    \n",
    "    return df\n",
    "\n",
    "# modified code(CPU, batch load)\n",
    "def read_file_CPU(path = '', iter_batch = None, usecols = None):\n",
    "    if usecols is not None:\n",
    "        # when retrieving only some columns(1~3), there is no problem even if all rows are retrieved.\n",
    "        df = pd.read_parquet(path, columns=usecols)\n",
    "    else:\n",
    "        # When importing all columns, data is imported in batch format.\n",
    "        df = iter_batch\n",
    "    \n",
    "    # it performs the same processing as it did with cudf.\n",
    "    df['customer_ID'] = df['customer_ID'].apply(lambda x : int(x[-16:],16)).astype('int64') \n",
    "    df.S_2 = pd.to_datetime( df.S_2 )\n",
    "    df.fillna(NAN_VALUE, inplace=True)\n",
    "    print('shape of data:', df.shape)\n",
    "    \n",
    "    return df\n",
    "\n",
    "# print('Reading train data...')\n",
    "# TRAIN_PATH = '../input/amex-data-integer-dtypes-parquet-format/train.parquet'\n",
    "# train = read_file(path = TRAIN_PATH)"
   ]
  },
  {
   "cell_type": "markdown",
   "id": "ba83fdef",
   "metadata": {
    "papermill": {
     "duration": 0.021906,
     "end_time": "2022-07-18T03:11:50.229867",
     "exception": false,
     "start_time": "2022-07-18T03:11:50.207961",
     "status": "completed"
    },
    "tags": []
   },
   "source": [
    "The original kernel used variable name as train, not df. So we'll make it the same.\n",
    "\n",
    "However, the copy() function is not used here fore memory management. If you use the copy() function, it will be copied to another memory address."
   ]
  },
  {
   "cell_type": "code",
   "execution_count": 16,
   "id": "20651c48",
   "metadata": {
    "execution": {
     "iopub.execute_input": "2022-07-18T03:11:50.274722Z",
     "iopub.status.busy": "2022-07-18T03:11:50.274173Z",
     "iopub.status.idle": "2022-07-18T03:11:50.481510Z",
     "shell.execute_reply": "2022-07-18T03:11:50.480706Z"
    },
    "papermill": {
     "duration": 0.231793,
     "end_time": "2022-07-18T03:11:50.483368",
     "exception": false,
     "start_time": "2022-07-18T03:11:50.251575",
     "status": "completed"
    },
    "tags": []
   },
   "outputs": [
    {
     "data": {
      "text/html": [
       "<div>\n",
       "<style scoped>\n",
       "    .dataframe tbody tr th:only-of-type {\n",
       "        vertical-align: middle;\n",
       "    }\n",
       "\n",
       "    .dataframe tbody tr th {\n",
       "        vertical-align: top;\n",
       "    }\n",
       "\n",
       "    .dataframe thead th {\n",
       "        text-align: right;\n",
       "    }\n",
       "</style>\n",
       "<table border=\"1\" class=\"dataframe\">\n",
       "  <thead>\n",
       "    <tr style=\"text-align: right;\">\n",
       "      <th></th>\n",
       "      <th>customer_ID</th>\n",
       "      <th>S_2</th>\n",
       "      <th>P_2</th>\n",
       "      <th>D_39</th>\n",
       "      <th>B_1</th>\n",
       "      <th>B_2</th>\n",
       "      <th>R_1</th>\n",
       "      <th>S_3</th>\n",
       "      <th>D_41</th>\n",
       "      <th>B_3</th>\n",
       "      <th>...</th>\n",
       "      <th>D_136</th>\n",
       "      <th>D_137</th>\n",
       "      <th>D_138</th>\n",
       "      <th>D_139</th>\n",
       "      <th>D_140</th>\n",
       "      <th>D_141</th>\n",
       "      <th>D_142</th>\n",
       "      <th>D_143</th>\n",
       "      <th>D_144</th>\n",
       "      <th>D_145</th>\n",
       "    </tr>\n",
       "  </thead>\n",
       "  <tbody>\n",
       "    <tr>\n",
       "      <th>0</th>\n",
       "      <td>-4532153018459703766</td>\n",
       "      <td>2017-03-09</td>\n",
       "      <td>0.938469</td>\n",
       "      <td>0</td>\n",
       "      <td>0.008724</td>\n",
       "      <td>1.006838</td>\n",
       "      <td>0.009228</td>\n",
       "      <td>0.124035</td>\n",
       "      <td>0.0</td>\n",
       "      <td>0.004709</td>\n",
       "      <td>...</td>\n",
       "      <td>-1</td>\n",
       "      <td>-1</td>\n",
       "      <td>-1</td>\n",
       "      <td>0</td>\n",
       "      <td>0</td>\n",
       "      <td>0.0</td>\n",
       "      <td>-127.0</td>\n",
       "      <td>0</td>\n",
       "      <td>0.000610</td>\n",
       "      <td>0</td>\n",
       "    </tr>\n",
       "    <tr>\n",
       "      <th>1</th>\n",
       "      <td>-4532153018459703766</td>\n",
       "      <td>2017-04-07</td>\n",
       "      <td>0.936665</td>\n",
       "      <td>0</td>\n",
       "      <td>0.004923</td>\n",
       "      <td>1.000653</td>\n",
       "      <td>0.006151</td>\n",
       "      <td>0.126750</td>\n",
       "      <td>0.0</td>\n",
       "      <td>0.002714</td>\n",
       "      <td>...</td>\n",
       "      <td>-1</td>\n",
       "      <td>-1</td>\n",
       "      <td>-1</td>\n",
       "      <td>0</td>\n",
       "      <td>0</td>\n",
       "      <td>0.0</td>\n",
       "      <td>-127.0</td>\n",
       "      <td>0</td>\n",
       "      <td>0.005492</td>\n",
       "      <td>0</td>\n",
       "    </tr>\n",
       "    <tr>\n",
       "      <th>2</th>\n",
       "      <td>-4532153018459703766</td>\n",
       "      <td>2017-05-28</td>\n",
       "      <td>0.954180</td>\n",
       "      <td>3</td>\n",
       "      <td>0.021655</td>\n",
       "      <td>1.009672</td>\n",
       "      <td>0.006815</td>\n",
       "      <td>0.123977</td>\n",
       "      <td>0.0</td>\n",
       "      <td>0.009423</td>\n",
       "      <td>...</td>\n",
       "      <td>-1</td>\n",
       "      <td>-1</td>\n",
       "      <td>-1</td>\n",
       "      <td>0</td>\n",
       "      <td>0</td>\n",
       "      <td>0.0</td>\n",
       "      <td>-127.0</td>\n",
       "      <td>0</td>\n",
       "      <td>0.006986</td>\n",
       "      <td>0</td>\n",
       "    </tr>\n",
       "    <tr>\n",
       "      <th>3</th>\n",
       "      <td>-4532153018459703766</td>\n",
       "      <td>2017-06-13</td>\n",
       "      <td>0.960384</td>\n",
       "      <td>0</td>\n",
       "      <td>0.013683</td>\n",
       "      <td>1.002700</td>\n",
       "      <td>0.001373</td>\n",
       "      <td>0.117169</td>\n",
       "      <td>0.0</td>\n",
       "      <td>0.005531</td>\n",
       "      <td>...</td>\n",
       "      <td>-1</td>\n",
       "      <td>-1</td>\n",
       "      <td>-1</td>\n",
       "      <td>0</td>\n",
       "      <td>0</td>\n",
       "      <td>0.0</td>\n",
       "      <td>-127.0</td>\n",
       "      <td>0</td>\n",
       "      <td>0.006527</td>\n",
       "      <td>0</td>\n",
       "    </tr>\n",
       "    <tr>\n",
       "      <th>4</th>\n",
       "      <td>-4532153018459703766</td>\n",
       "      <td>2017-07-16</td>\n",
       "      <td>0.947248</td>\n",
       "      <td>0</td>\n",
       "      <td>0.015193</td>\n",
       "      <td>1.000727</td>\n",
       "      <td>0.007605</td>\n",
       "      <td>0.117325</td>\n",
       "      <td>0.0</td>\n",
       "      <td>0.009312</td>\n",
       "      <td>...</td>\n",
       "      <td>-1</td>\n",
       "      <td>-1</td>\n",
       "      <td>-1</td>\n",
       "      <td>0</td>\n",
       "      <td>0</td>\n",
       "      <td>0.0</td>\n",
       "      <td>-127.0</td>\n",
       "      <td>0</td>\n",
       "      <td>0.008126</td>\n",
       "      <td>0</td>\n",
       "    </tr>\n",
       "  </tbody>\n",
       "</table>\n",
       "<p>5 rows × 190 columns</p>\n",
       "</div>"
      ],
      "text/plain": [
       "           customer_ID        S_2       P_2  D_39       B_1       B_2  \\\n",
       "0 -4532153018459703766 2017-03-09  0.938469     0  0.008724  1.006838   \n",
       "1 -4532153018459703766 2017-04-07  0.936665     0  0.004923  1.000653   \n",
       "2 -4532153018459703766 2017-05-28  0.954180     3  0.021655  1.009672   \n",
       "3 -4532153018459703766 2017-06-13  0.960384     0  0.013683  1.002700   \n",
       "4 -4532153018459703766 2017-07-16  0.947248     0  0.015193  1.000727   \n",
       "\n",
       "        R_1       S_3  D_41       B_3  ...  D_136  D_137  D_138  D_139  D_140  \\\n",
       "0  0.009228  0.124035   0.0  0.004709  ...     -1     -1     -1      0      0   \n",
       "1  0.006151  0.126750   0.0  0.002714  ...     -1     -1     -1      0      0   \n",
       "2  0.006815  0.123977   0.0  0.009423  ...     -1     -1     -1      0      0   \n",
       "3  0.001373  0.117169   0.0  0.005531  ...     -1     -1     -1      0      0   \n",
       "4  0.007605  0.117325   0.0  0.009312  ...     -1     -1     -1      0      0   \n",
       "\n",
       "   D_141  D_142  D_143     D_144  D_145  \n",
       "0    0.0 -127.0      0  0.000610      0  \n",
       "1    0.0 -127.0      0  0.005492      0  \n",
       "2    0.0 -127.0      0  0.006986      0  \n",
       "3    0.0 -127.0      0  0.006527      0  \n",
       "4    0.0 -127.0      0  0.008126      0  \n",
       "\n",
       "[5 rows x 190 columns]"
      ]
     },
     "execution_count": 16,
     "metadata": {},
     "output_type": "execute_result"
    }
   ],
   "source": [
    "train = df\n",
    "train.head()"
   ]
  },
  {
   "cell_type": "code",
   "execution_count": 17,
   "id": "2633feb4",
   "metadata": {
    "execution": {
     "iopub.execute_input": "2022-07-18T03:11:50.529212Z",
     "iopub.status.busy": "2022-07-18T03:11:50.528945Z",
     "iopub.status.idle": "2022-07-18T03:11:51.407510Z",
     "shell.execute_reply": "2022-07-18T03:11:51.406515Z"
    },
    "papermill": {
     "duration": 0.903917,
     "end_time": "2022-07-18T03:11:51.410028",
     "exception": false,
     "start_time": "2022-07-18T03:11:50.506111",
     "status": "completed"
    },
    "tags": []
   },
   "outputs": [
    {
     "name": "stdout",
     "output_type": "stream",
     "text": [
      "Mon Jul 18 03:11:51 2022       \r\n",
      "+-----------------------------------------------------------------------------+\r\n",
      "| NVIDIA-SMI 470.82.01    Driver Version: 470.82.01    CUDA Version: 11.4     |\r\n",
      "|-------------------------------+----------------------+----------------------+\r\n",
      "| GPU  Name        Persistence-M| Bus-Id        Disp.A | Volatile Uncorr. ECC |\r\n",
      "| Fan  Temp  Perf  Pwr:Usage/Cap|         Memory-Usage | GPU-Util  Compute M. |\r\n",
      "|                               |                      |               MIG M. |\r\n",
      "|===============================+======================+======================|\r\n",
      "|   0  Tesla P100-PCIE...  Off  | 00000000:00:04.0 Off |                    0 |\r\n",
      "| N/A   40C    P0    38W / 250W |   3233MiB / 16280MiB |      0%      Default |\r\n",
      "|                               |                      |                  N/A |\r\n",
      "+-------------------------------+----------------------+----------------------+\r\n",
      "                                                                               \r\n",
      "+-----------------------------------------------------------------------------+\r\n",
      "| Processes:                                                                  |\r\n",
      "|  GPU   GI   CI        PID   Type   Process name                  GPU Memory |\r\n",
      "|        ID   ID                                                   Usage      |\r\n",
      "|=============================================================================|\r\n",
      "+-----------------------------------------------------------------------------+\r\n"
     ]
    }
   ],
   "source": [
    "!nvidia-smi"
   ]
  },
  {
   "cell_type": "markdown",
   "id": "ef38188b",
   "metadata": {
    "papermill": {
     "duration": 0.0223,
     "end_time": "2022-07-18T03:11:51.454603",
     "exception": false,
     "start_time": "2022-07-18T03:11:51.432303",
     "status": "completed"
    },
    "tags": []
   },
   "source": [
    "You can see that additional memory is not used because only the variable name is changed(refer to memory) without copying."
   ]
  },
  {
   "cell_type": "markdown",
   "id": "d9e297b5",
   "metadata": {
    "papermill": {
     "duration": 0.021599,
     "end_time": "2022-07-18T03:11:51.498031",
     "exception": false,
     "start_time": "2022-07-18T03:11:51.476432",
     "status": "completed"
    },
    "tags": []
   },
   "source": [
    "# 3. Feature Engineering"
   ]
  },
  {
   "cell_type": "markdown",
   "id": "eccfbcc5",
   "metadata": {
    "execution": {
     "iopub.execute_input": "2022-07-15T10:45:36.492999Z",
     "iopub.status.busy": "2022-07-15T10:45:36.492633Z",
     "iopub.status.idle": "2022-07-15T10:45:36.498767Z",
     "shell.execute_reply": "2022-07-15T10:45:36.497787Z",
     "shell.execute_reply.started": "2022-07-15T10:45:36.492968Z"
    },
    "papermill": {
     "duration": 0.021475,
     "end_time": "2022-07-18T03:11:51.541775",
     "exception": false,
     "start_time": "2022-07-18T03:11:51.520300",
     "status": "completed"
    },
    "tags": []
   },
   "source": [
    "We do not put data as it is to the model, but transform it into statistical values before training and then train it.\n",
    "\n",
    "In the process of data aggregation, the column takes on a multiindex format, but in order to include it in the model, a one-dimensional column must be maintained. So, Let's take a look at this task first and then run the whole process through a function."
   ]
  },
  {
   "cell_type": "code",
   "execution_count": 18,
   "id": "719c4b27",
   "metadata": {
    "execution": {
     "iopub.execute_input": "2022-07-18T03:11:51.586468Z",
     "iopub.status.busy": "2022-07-18T03:11:51.586130Z",
     "iopub.status.idle": "2022-07-18T03:11:51.714704Z",
     "shell.execute_reply": "2022-07-18T03:11:51.713905Z"
    },
    "papermill": {
     "duration": 0.15293,
     "end_time": "2022-07-18T03:11:51.716326",
     "exception": false,
     "start_time": "2022-07-18T03:11:51.563396",
     "status": "completed"
    },
    "tags": []
   },
   "outputs": [
    {
     "data": {
      "text/plain": [
       "MultiIndex([( 'B_30',   'count'),\n",
       "            ( 'B_30',    'last'),\n",
       "            ( 'B_30', 'nunique'),\n",
       "            ( 'B_38',   'count'),\n",
       "            ( 'B_38',    'last'),\n",
       "            ( 'B_38', 'nunique'),\n",
       "            ('D_114',   'count'),\n",
       "            ('D_114',    'last'),\n",
       "            ('D_114', 'nunique')],\n",
       "           )"
      ]
     },
     "execution_count": 18,
     "metadata": {},
     "output_type": "execute_result"
    }
   ],
   "source": [
    "multi_index_col_sample = train.groupby('customer_ID')[['B_30','B_38','D_114']].agg(['count','last','nunique']).columns\n",
    "multi_index_col_sample"
   ]
  },
  {
   "cell_type": "code",
   "execution_count": 19,
   "id": "d08b0a86",
   "metadata": {
    "execution": {
     "iopub.execute_input": "2022-07-18T03:11:51.762163Z",
     "iopub.status.busy": "2022-07-18T03:11:51.761901Z",
     "iopub.status.idle": "2022-07-18T03:11:51.767052Z",
     "shell.execute_reply": "2022-07-18T03:11:51.766401Z"
    },
    "papermill": {
     "duration": 0.02998,
     "end_time": "2022-07-18T03:11:51.768825",
     "exception": false,
     "start_time": "2022-07-18T03:11:51.738845",
     "status": "completed"
    },
    "tags": []
   },
   "outputs": [
    {
     "data": {
      "text/plain": [
       "['B_30_count',\n",
       " 'B_30_last',\n",
       " 'B_30_nunique',\n",
       " 'B_38_count',\n",
       " 'B_38_last',\n",
       " 'B_38_nunique',\n",
       " 'D_114_count',\n",
       " 'D_114_last',\n",
       " 'D_114_nunique']"
      ]
     },
     "execution_count": 19,
     "metadata": {},
     "output_type": "execute_result"
    }
   ],
   "source": [
    "['_'.join(x) for x in multi_index_col_sample]"
   ]
  },
  {
   "cell_type": "markdown",
   "id": "fd5df6ae",
   "metadata": {
    "papermill": {
     "duration": 0.022228,
     "end_time": "2022-07-18T03:11:51.813515",
     "exception": false,
     "start_time": "2022-07-18T03:11:51.791287",
     "status": "completed"
    },
    "tags": []
   },
   "source": [
    "We can make it easier to see by attaching the double index as a one-dimensional index. Then, Let's check the entire function."
   ]
  },
  {
   "cell_type": "code",
   "execution_count": 20,
   "id": "b4e91171",
   "metadata": {
    "execution": {
     "iopub.execute_input": "2022-07-18T03:11:51.861537Z",
     "iopub.status.busy": "2022-07-18T03:11:51.861069Z",
     "iopub.status.idle": "2022-07-18T03:11:53.029166Z",
     "shell.execute_reply": "2022-07-18T03:11:53.028270Z"
    },
    "papermill": {
     "duration": 1.193814,
     "end_time": "2022-07-18T03:11:53.031542",
     "exception": false,
     "start_time": "2022-07-18T03:11:51.837728",
     "status": "completed"
    },
    "tags": []
   },
   "outputs": [
    {
     "name": "stdout",
     "output_type": "stream",
     "text": [
      "shape after engineering (458913, 918)\n"
     ]
    }
   ],
   "source": [
    "def process_and_feature_engineer(df):\n",
    "    # Put the remaining column names int the all_cols variable except for the customer_ID column and S_2 column in a list comprehension method.\n",
    "    # Columns in all_cols are the variables for training.\n",
    "    all_cols = [c for c in list(df.columns) if c not in ['customer_ID','S_2']]\n",
    "    \n",
    "    # Let's split the all_cols categorical variables and numerical variables.\n",
    "    # In the original code, categorical variables are splited like below but i find the others remained.\n",
    "    # But to maintain the countinuity and avoid confusion, we will use it as is.\n",
    "    cat_features = [\"B_30\",\"B_38\",\"D_114\",\"D_116\",\"D_117\",\"D_120\",\"D_126\",\"D_63\",\"D_64\",\"D_66\",\"D_68\"]\n",
    "    num_features = [col for col in all_cols if col not in cat_features]\n",
    "\n",
    "    # And aggregate numerical variables into statistics for each customer_ID.\n",
    "    test_num_agg = df.groupby(\"customer_ID\")[num_features].agg(['mean', 'std', 'min', 'max', 'last'])\n",
    "    # Aggregated columns are the type of MultiIndex. So connect them with '_' charactor like that we checked above.\n",
    "    test_num_agg.columns = ['_'.join(x) for x in test_num_agg.columns]\n",
    "\n",
    "    # Similary, Aggregate categorical variables for each customer_ID.\n",
    "    # 'count' is count the duplicate customer_ID's.\n",
    "    # 'last' is get the last value of each categorical variables.\n",
    "    # nunique() count the unique values of each categorical variables.\n",
    "    test_cat_agg = df.groupby(\"customer_ID\")[cat_features].agg(['count', 'last', 'nunique'])\n",
    "    test_cat_agg.columns = ['_'.join(x) for x in test_cat_agg.columns]\n",
    "\n",
    "    # Merge the numerical variables and categorical variables.\n",
    "    df = cudf.concat([test_num_agg, test_cat_agg], axis=1)\n",
    "    del test_num_agg, test_cat_agg\n",
    "    print('shape after engineering', df.shape)\n",
    "    \n",
    "    return df\n",
    "\n",
    "\n",
    "train = process_and_feature_engineer(train)"
   ]
  },
  {
   "cell_type": "code",
   "execution_count": 21,
   "id": "57f4001e",
   "metadata": {
    "execution": {
     "iopub.execute_input": "2022-07-18T03:11:53.079466Z",
     "iopub.status.busy": "2022-07-18T03:11:53.079168Z",
     "iopub.status.idle": "2022-07-18T03:11:53.901974Z",
     "shell.execute_reply": "2022-07-18T03:11:53.901064Z"
    },
    "papermill": {
     "duration": 0.848124,
     "end_time": "2022-07-18T03:11:53.903938",
     "exception": false,
     "start_time": "2022-07-18T03:11:53.055814",
     "status": "completed"
    },
    "tags": []
   },
   "outputs": [
    {
     "data": {
      "text/html": [
       "<div>\n",
       "<style scoped>\n",
       "    .dataframe tbody tr th:only-of-type {\n",
       "        vertical-align: middle;\n",
       "    }\n",
       "\n",
       "    .dataframe tbody tr th {\n",
       "        vertical-align: top;\n",
       "    }\n",
       "\n",
       "    .dataframe thead th {\n",
       "        text-align: right;\n",
       "    }\n",
       "</style>\n",
       "<table border=\"1\" class=\"dataframe\">\n",
       "  <thead>\n",
       "    <tr style=\"text-align: right;\">\n",
       "      <th></th>\n",
       "      <th>P_2_mean</th>\n",
       "      <th>P_2_std</th>\n",
       "      <th>P_2_min</th>\n",
       "      <th>P_2_max</th>\n",
       "      <th>P_2_last</th>\n",
       "      <th>D_39_mean</th>\n",
       "      <th>D_39_std</th>\n",
       "      <th>D_39_min</th>\n",
       "      <th>D_39_max</th>\n",
       "      <th>D_39_last</th>\n",
       "      <th>...</th>\n",
       "      <th>D_63_nunique</th>\n",
       "      <th>D_64_count</th>\n",
       "      <th>D_64_last</th>\n",
       "      <th>D_64_nunique</th>\n",
       "      <th>D_66_count</th>\n",
       "      <th>D_66_last</th>\n",
       "      <th>D_66_nunique</th>\n",
       "      <th>D_68_count</th>\n",
       "      <th>D_68_last</th>\n",
       "      <th>D_68_nunique</th>\n",
       "    </tr>\n",
       "    <tr>\n",
       "      <th>customer_ID</th>\n",
       "      <th></th>\n",
       "      <th></th>\n",
       "      <th></th>\n",
       "      <th></th>\n",
       "      <th></th>\n",
       "      <th></th>\n",
       "      <th></th>\n",
       "      <th></th>\n",
       "      <th></th>\n",
       "      <th></th>\n",
       "      <th></th>\n",
       "      <th></th>\n",
       "      <th></th>\n",
       "      <th></th>\n",
       "      <th></th>\n",
       "      <th></th>\n",
       "      <th></th>\n",
       "      <th></th>\n",
       "      <th></th>\n",
       "      <th></th>\n",
       "      <th></th>\n",
       "    </tr>\n",
       "  </thead>\n",
       "  <tbody>\n",
       "    <tr>\n",
       "      <th>-9223358381327749917</th>\n",
       "      <td>0.415868</td>\n",
       "      <td>0.057145359</td>\n",
       "      <td>0.340178</td>\n",
       "      <td>0.498727</td>\n",
       "      <td>0.387708</td>\n",
       "      <td>2.615385</td>\n",
       "      <td>4.628506986</td>\n",
       "      <td>0</td>\n",
       "      <td>16</td>\n",
       "      <td>0</td>\n",
       "      <td>...</td>\n",
       "      <td>1</td>\n",
       "      <td>13</td>\n",
       "      <td>2</td>\n",
       "      <td>1</td>\n",
       "      <td>13</td>\n",
       "      <td>-1</td>\n",
       "      <td>1</td>\n",
       "      <td>13</td>\n",
       "      <td>3</td>\n",
       "      <td>2</td>\n",
       "    </tr>\n",
       "    <tr>\n",
       "      <th>-9223193039457028513</th>\n",
       "      <td>0.974068</td>\n",
       "      <td>0.013093883</td>\n",
       "      <td>0.964483</td>\n",
       "      <td>1.002478</td>\n",
       "      <td>1.001372</td>\n",
       "      <td>0.000000</td>\n",
       "      <td>0.0</td>\n",
       "      <td>0</td>\n",
       "      <td>0</td>\n",
       "      <td>0</td>\n",
       "      <td>...</td>\n",
       "      <td>2</td>\n",
       "      <td>13</td>\n",
       "      <td>0</td>\n",
       "      <td>1</td>\n",
       "      <td>13</td>\n",
       "      <td>-1</td>\n",
       "      <td>1</td>\n",
       "      <td>13</td>\n",
       "      <td>6</td>\n",
       "      <td>1</td>\n",
       "    </tr>\n",
       "    <tr>\n",
       "      <th>-9223189665817919541</th>\n",
       "      <td>0.802447</td>\n",
       "      <td>0.038025034</td>\n",
       "      <td>0.694073</td>\n",
       "      <td>0.828761</td>\n",
       "      <td>0.694073</td>\n",
       "      <td>0.000000</td>\n",
       "      <td>0.0</td>\n",
       "      <td>0</td>\n",
       "      <td>0</td>\n",
       "      <td>0</td>\n",
       "      <td>...</td>\n",
       "      <td>1</td>\n",
       "      <td>13</td>\n",
       "      <td>0</td>\n",
       "      <td>1</td>\n",
       "      <td>13</td>\n",
       "      <td>-1</td>\n",
       "      <td>1</td>\n",
       "      <td>13</td>\n",
       "      <td>6</td>\n",
       "      <td>1</td>\n",
       "    </tr>\n",
       "    <tr>\n",
       "      <th>-9223188534444851899</th>\n",
       "      <td>0.791203</td>\n",
       "      <td>0.002687729</td>\n",
       "      <td>0.786647</td>\n",
       "      <td>0.794826</td>\n",
       "      <td>0.787945</td>\n",
       "      <td>0.000000</td>\n",
       "      <td>0.0</td>\n",
       "      <td>0</td>\n",
       "      <td>0</td>\n",
       "      <td>0</td>\n",
       "      <td>...</td>\n",
       "      <td>1</td>\n",
       "      <td>13</td>\n",
       "      <td>3</td>\n",
       "      <td>2</td>\n",
       "      <td>13</td>\n",
       "      <td>-1</td>\n",
       "      <td>1</td>\n",
       "      <td>13</td>\n",
       "      <td>5</td>\n",
       "      <td>1</td>\n",
       "    </tr>\n",
       "    <tr>\n",
       "      <th>-9223173911659837606</th>\n",
       "      <td>0.115666</td>\n",
       "      <td>0.078554217</td>\n",
       "      <td>0.038207</td>\n",
       "      <td>0.252421</td>\n",
       "      <td>0.040486</td>\n",
       "      <td>4.384615</td>\n",
       "      <td>6.144624501</td>\n",
       "      <td>0</td>\n",
       "      <td>17</td>\n",
       "      <td>13</td>\n",
       "      <td>...</td>\n",
       "      <td>1</td>\n",
       "      <td>13</td>\n",
       "      <td>0</td>\n",
       "      <td>2</td>\n",
       "      <td>13</td>\n",
       "      <td>-1</td>\n",
       "      <td>1</td>\n",
       "      <td>13</td>\n",
       "      <td>6</td>\n",
       "      <td>2</td>\n",
       "    </tr>\n",
       "    <tr>\n",
       "      <th>...</th>\n",
       "      <td>...</td>\n",
       "      <td>...</td>\n",
       "      <td>...</td>\n",
       "      <td>...</td>\n",
       "      <td>...</td>\n",
       "      <td>...</td>\n",
       "      <td>...</td>\n",
       "      <td>...</td>\n",
       "      <td>...</td>\n",
       "      <td>...</td>\n",
       "      <td>...</td>\n",
       "      <td>...</td>\n",
       "      <td>...</td>\n",
       "      <td>...</td>\n",
       "      <td>...</td>\n",
       "      <td>...</td>\n",
       "      <td>...</td>\n",
       "      <td>...</td>\n",
       "      <td>...</td>\n",
       "      <td>...</td>\n",
       "      <td>...</td>\n",
       "    </tr>\n",
       "    <tr>\n",
       "      <th>9223275399009481284</th>\n",
       "      <td>0.508722</td>\n",
       "      <td>0.034856297</td>\n",
       "      <td>0.446763</td>\n",
       "      <td>0.580708</td>\n",
       "      <td>0.502093</td>\n",
       "      <td>3.769231</td>\n",
       "      <td>8.427671151</td>\n",
       "      <td>0</td>\n",
       "      <td>31</td>\n",
       "      <td>8</td>\n",
       "      <td>...</td>\n",
       "      <td>1</td>\n",
       "      <td>13</td>\n",
       "      <td>3</td>\n",
       "      <td>1</td>\n",
       "      <td>13</td>\n",
       "      <td>-1</td>\n",
       "      <td>1</td>\n",
       "      <td>13</td>\n",
       "      <td>6</td>\n",
       "      <td>1</td>\n",
       "    </tr>\n",
       "    <tr>\n",
       "      <th>9223300670094807586</th>\n",
       "      <td>0.128279</td>\n",
       "      <td>0.138330718</td>\n",
       "      <td>-0.035435</td>\n",
       "      <td>0.395510</td>\n",
       "      <td>0.118304</td>\n",
       "      <td>5.461538</td>\n",
       "      <td>6.213096177</td>\n",
       "      <td>1</td>\n",
       "      <td>22</td>\n",
       "      <td>6</td>\n",
       "      <td>...</td>\n",
       "      <td>1</td>\n",
       "      <td>13</td>\n",
       "      <td>3</td>\n",
       "      <td>2</td>\n",
       "      <td>13</td>\n",
       "      <td>-1</td>\n",
       "      <td>1</td>\n",
       "      <td>13</td>\n",
       "      <td>5</td>\n",
       "      <td>2</td>\n",
       "    </tr>\n",
       "    <tr>\n",
       "      <th>9223303087902649707</th>\n",
       "      <td>0.364807</td>\n",
       "      <td>0.074824325</td>\n",
       "      <td>0.271125</td>\n",
       "      <td>0.517709</td>\n",
       "      <td>0.368901</td>\n",
       "      <td>3.692308</td>\n",
       "      <td>8.576951822</td>\n",
       "      <td>0</td>\n",
       "      <td>23</td>\n",
       "      <td>0</td>\n",
       "      <td>...</td>\n",
       "      <td>1</td>\n",
       "      <td>13</td>\n",
       "      <td>2</td>\n",
       "      <td>1</td>\n",
       "      <td>13</td>\n",
       "      <td>-1</td>\n",
       "      <td>1</td>\n",
       "      <td>13</td>\n",
       "      <td>3</td>\n",
       "      <td>2</td>\n",
       "    </tr>\n",
       "    <tr>\n",
       "      <th>9223345210145379887</th>\n",
       "      <td>0.848886</td>\n",
       "      <td>0.059538209</td>\n",
       "      <td>0.776463</td>\n",
       "      <td>0.940112</td>\n",
       "      <td>0.902587</td>\n",
       "      <td>4.000000</td>\n",
       "      <td>7.118052168</td>\n",
       "      <td>0</td>\n",
       "      <td>23</td>\n",
       "      <td>0</td>\n",
       "      <td>...</td>\n",
       "      <td>1</td>\n",
       "      <td>13</td>\n",
       "      <td>2</td>\n",
       "      <td>1</td>\n",
       "      <td>13</td>\n",
       "      <td>-1</td>\n",
       "      <td>1</td>\n",
       "      <td>13</td>\n",
       "      <td>6</td>\n",
       "      <td>1</td>\n",
       "    </tr>\n",
       "    <tr>\n",
       "      <th>9223350112805974911</th>\n",
       "      <td>0.232830</td>\n",
       "      <td>0.064644629</td>\n",
       "      <td>0.102516</td>\n",
       "      <td>0.305949</td>\n",
       "      <td>0.305828</td>\n",
       "      <td>8.538462</td>\n",
       "      <td>11.73041193</td>\n",
       "      <td>0</td>\n",
       "      <td>33</td>\n",
       "      <td>31</td>\n",
       "      <td>...</td>\n",
       "      <td>1</td>\n",
       "      <td>13</td>\n",
       "      <td>0</td>\n",
       "      <td>2</td>\n",
       "      <td>13</td>\n",
       "      <td>-1</td>\n",
       "      <td>1</td>\n",
       "      <td>13</td>\n",
       "      <td>6</td>\n",
       "      <td>1</td>\n",
       "    </tr>\n",
       "  </tbody>\n",
       "</table>\n",
       "<p>458913 rows × 918 columns</p>\n",
       "</div>"
      ],
      "text/plain": [
       "                      P_2_mean      P_2_std   P_2_min   P_2_max  P_2_last  \\\n",
       "customer_ID                                                                 \n",
       "-9223358381327749917  0.415868  0.057145359  0.340178  0.498727  0.387708   \n",
       "-9223193039457028513  0.974068  0.013093883  0.964483  1.002478  1.001372   \n",
       "-9223189665817919541  0.802447  0.038025034  0.694073  0.828761  0.694073   \n",
       "-9223188534444851899  0.791203  0.002687729  0.786647  0.794826  0.787945   \n",
       "-9223173911659837606  0.115666  0.078554217  0.038207  0.252421  0.040486   \n",
       "...                        ...          ...       ...       ...       ...   \n",
       " 9223275399009481284  0.508722  0.034856297  0.446763  0.580708  0.502093   \n",
       " 9223300670094807586  0.128279  0.138330718 -0.035435  0.395510  0.118304   \n",
       " 9223303087902649707  0.364807  0.074824325  0.271125  0.517709  0.368901   \n",
       " 9223345210145379887  0.848886  0.059538209  0.776463  0.940112  0.902587   \n",
       " 9223350112805974911  0.232830  0.064644629  0.102516  0.305949  0.305828   \n",
       "\n",
       "                      D_39_mean     D_39_std  D_39_min  D_39_max  D_39_last  \\\n",
       "customer_ID                                                                   \n",
       "-9223358381327749917   2.615385  4.628506986         0        16          0   \n",
       "-9223193039457028513   0.000000          0.0         0         0          0   \n",
       "-9223189665817919541   0.000000          0.0         0         0          0   \n",
       "-9223188534444851899   0.000000          0.0         0         0          0   \n",
       "-9223173911659837606   4.384615  6.144624501         0        17         13   \n",
       "...                         ...          ...       ...       ...        ...   \n",
       " 9223275399009481284   3.769231  8.427671151         0        31          8   \n",
       " 9223300670094807586   5.461538  6.213096177         1        22          6   \n",
       " 9223303087902649707   3.692308  8.576951822         0        23          0   \n",
       " 9223345210145379887   4.000000  7.118052168         0        23          0   \n",
       " 9223350112805974911   8.538462  11.73041193         0        33         31   \n",
       "\n",
       "                      ...  D_63_nunique  D_64_count  D_64_last  D_64_nunique  \\\n",
       "customer_ID           ...                                                      \n",
       "-9223358381327749917  ...             1          13          2             1   \n",
       "-9223193039457028513  ...             2          13          0             1   \n",
       "-9223189665817919541  ...             1          13          0             1   \n",
       "-9223188534444851899  ...             1          13          3             2   \n",
       "-9223173911659837606  ...             1          13          0             2   \n",
       "...                   ...           ...         ...        ...           ...   \n",
       " 9223275399009481284  ...             1          13          3             1   \n",
       " 9223300670094807586  ...             1          13          3             2   \n",
       " 9223303087902649707  ...             1          13          2             1   \n",
       " 9223345210145379887  ...             1          13          2             1   \n",
       " 9223350112805974911  ...             1          13          0             2   \n",
       "\n",
       "                      D_66_count  D_66_last  D_66_nunique  D_68_count  \\\n",
       "customer_ID                                                             \n",
       "-9223358381327749917          13         -1             1          13   \n",
       "-9223193039457028513          13         -1             1          13   \n",
       "-9223189665817919541          13         -1             1          13   \n",
       "-9223188534444851899          13         -1             1          13   \n",
       "-9223173911659837606          13         -1             1          13   \n",
       "...                          ...        ...           ...         ...   \n",
       " 9223275399009481284          13         -1             1          13   \n",
       " 9223300670094807586          13         -1             1          13   \n",
       " 9223303087902649707          13         -1             1          13   \n",
       " 9223345210145379887          13         -1             1          13   \n",
       " 9223350112805974911          13         -1             1          13   \n",
       "\n",
       "                      D_68_last  D_68_nunique  \n",
       "customer_ID                                    \n",
       "-9223358381327749917          3             2  \n",
       "-9223193039457028513          6             1  \n",
       "-9223189665817919541          6             1  \n",
       "-9223188534444851899          5             1  \n",
       "-9223173911659837606          6             2  \n",
       "...                         ...           ...  \n",
       " 9223275399009481284          6             1  \n",
       " 9223300670094807586          5             2  \n",
       " 9223303087902649707          3             2  \n",
       " 9223345210145379887          6             1  \n",
       " 9223350112805974911          6             1  \n",
       "\n",
       "[458913 rows x 918 columns]"
      ]
     },
     "execution_count": 21,
     "metadata": {},
     "output_type": "execute_result"
    }
   ],
   "source": [
    "train"
   ]
  },
  {
   "cell_type": "code",
   "execution_count": 22,
   "id": "5544b8ca",
   "metadata": {
    "execution": {
     "iopub.execute_input": "2022-07-18T03:11:53.951441Z",
     "iopub.status.busy": "2022-07-18T03:11:53.950811Z",
     "iopub.status.idle": "2022-07-18T03:11:54.680208Z",
     "shell.execute_reply": "2022-07-18T03:11:54.679291Z"
    },
    "papermill": {
     "duration": 0.755018,
     "end_time": "2022-07-18T03:11:54.682145",
     "exception": false,
     "start_time": "2022-07-18T03:11:53.927127",
     "status": "completed"
    },
    "tags": []
   },
   "outputs": [
    {
     "name": "stdout",
     "output_type": "stream",
     "text": [
      "Mon Jul 18 03:11:54 2022       \r\n",
      "+-----------------------------------------------------------------------------+\r\n",
      "| NVIDIA-SMI 470.82.01    Driver Version: 470.82.01    CUDA Version: 11.4     |\r\n",
      "|-------------------------------+----------------------+----------------------+\r\n",
      "| GPU  Name        Persistence-M| Bus-Id        Disp.A | Volatile Uncorr. ECC |\r\n",
      "| Fan  Temp  Perf  Pwr:Usage/Cap|         Memory-Usage | GPU-Util  Compute M. |\r\n",
      "|                               |                      |               MIG M. |\r\n",
      "|===============================+======================+======================|\r\n",
      "|   0  Tesla P100-PCIE...  Off  | 00000000:00:04.0 Off |                    0 |\r\n",
      "| N/A   40C    P0    38W / 250W |   5399MiB / 16280MiB |      0%      Default |\r\n",
      "|                               |                      |                  N/A |\r\n",
      "+-------------------------------+----------------------+----------------------+\r\n",
      "                                                                               \r\n",
      "+-----------------------------------------------------------------------------+\r\n",
      "| Processes:                                                                  |\r\n",
      "|  GPU   GI   CI        PID   Type   Process name                  GPU Memory |\r\n",
      "|        ID   ID                                                   Usage      |\r\n",
      "|=============================================================================|\r\n",
      "+-----------------------------------------------------------------------------+\r\n"
     ]
    }
   ],
   "source": [
    "!nvidia-smi"
   ]
  },
  {
   "cell_type": "markdown",
   "id": "5f12dd1d",
   "metadata": {
    "papermill": {
     "duration": 0.022832,
     "end_time": "2022-07-18T03:11:54.728572",
     "exception": false,
     "start_time": "2022-07-18T03:11:54.705740",
     "status": "completed"
    },
    "tags": []
   },
   "source": [
    "As the number of columns increased, the data capacity also increased."
   ]
  },
  {
   "cell_type": "markdown",
   "id": "9cca5243",
   "metadata": {
    "papermill": {
     "duration": 0.022763,
     "end_time": "2022-07-18T03:11:54.774683",
     "exception": false,
     "start_time": "2022-07-18T03:11:54.751920",
     "status": "completed"
    },
    "tags": []
   },
   "source": [
    "We can load the target(label) data also. We will merge it into the train dataset created above.\n",
    "\n",
    "At this time, customer_ID must be processed as an integer in the same way as before. \n",
    "\n",
    "This task is to predict whether the customer will or will not pay the card expenses. Each customer's real repayment status is contained in train_labels.csv."
   ]
  },
  {
   "cell_type": "code",
   "execution_count": 23,
   "id": "d6d6ffab",
   "metadata": {
    "execution": {
     "iopub.execute_input": "2022-07-18T03:11:54.822638Z",
     "iopub.status.busy": "2022-07-18T03:11:54.821853Z",
     "iopub.status.idle": "2022-07-18T03:11:55.498894Z",
     "shell.execute_reply": "2022-07-18T03:11:55.497943Z"
    },
    "papermill": {
     "duration": 0.70366,
     "end_time": "2022-07-18T03:11:55.501241",
     "exception": false,
     "start_time": "2022-07-18T03:11:54.797581",
     "status": "completed"
    },
    "tags": []
   },
   "outputs": [],
   "source": [
    "targets = cudf.read_csv('../input/amex-default-prediction/train_labels.csv')\n",
    "targets['customer_ID'] = targets['customer_ID'].str[-16:].str.hex_to_int().astype('int64')\n",
    "targets = targets.set_index('customer_ID')\n",
    "\n",
    "# The index is the same as customer_ID, Merge based on the corresponding index.\n",
    "train = train.merge(targets, left_index=True, right_index=True, how='left')\n",
    "# Store the target data as an 8-bit integer.\n",
    "train.target = train.target.astype('int8')"
   ]
  },
  {
   "cell_type": "code",
   "execution_count": 24,
   "id": "f4bfc386",
   "metadata": {
    "execution": {
     "iopub.execute_input": "2022-07-18T03:11:55.553555Z",
     "iopub.status.busy": "2022-07-18T03:11:55.553215Z",
     "iopub.status.idle": "2022-07-18T03:11:56.711036Z",
     "shell.execute_reply": "2022-07-18T03:11:56.710220Z"
    },
    "papermill": {
     "duration": 1.185379,
     "end_time": "2022-07-18T03:11:56.712839",
     "exception": false,
     "start_time": "2022-07-18T03:11:55.527460",
     "status": "completed"
    },
    "tags": []
   },
   "outputs": [
    {
     "data": {
      "text/html": [
       "<div>\n",
       "<style scoped>\n",
       "    .dataframe tbody tr th:only-of-type {\n",
       "        vertical-align: middle;\n",
       "    }\n",
       "\n",
       "    .dataframe tbody tr th {\n",
       "        vertical-align: top;\n",
       "    }\n",
       "\n",
       "    .dataframe thead th {\n",
       "        text-align: right;\n",
       "    }\n",
       "</style>\n",
       "<table border=\"1\" class=\"dataframe\">\n",
       "  <thead>\n",
       "    <tr style=\"text-align: right;\">\n",
       "      <th></th>\n",
       "      <th>customer_ID</th>\n",
       "      <th>P_2_mean</th>\n",
       "      <th>P_2_std</th>\n",
       "      <th>P_2_min</th>\n",
       "      <th>P_2_max</th>\n",
       "      <th>P_2_last</th>\n",
       "      <th>D_39_mean</th>\n",
       "      <th>D_39_std</th>\n",
       "      <th>D_39_min</th>\n",
       "      <th>D_39_max</th>\n",
       "      <th>...</th>\n",
       "      <th>D_64_count</th>\n",
       "      <th>D_64_last</th>\n",
       "      <th>D_64_nunique</th>\n",
       "      <th>D_66_count</th>\n",
       "      <th>D_66_last</th>\n",
       "      <th>D_66_nunique</th>\n",
       "      <th>D_68_count</th>\n",
       "      <th>D_68_last</th>\n",
       "      <th>D_68_nunique</th>\n",
       "      <th>target</th>\n",
       "    </tr>\n",
       "  </thead>\n",
       "  <tbody>\n",
       "    <tr>\n",
       "      <th>0</th>\n",
       "      <td>-8156314619613718096</td>\n",
       "      <td>0.321566</td>\n",
       "      <td>0.066840</td>\n",
       "      <td>0.222667</td>\n",
       "      <td>0.434527</td>\n",
       "      <td>0.400919</td>\n",
       "      <td>27.000000</td>\n",
       "      <td>8.990736</td>\n",
       "      <td>1</td>\n",
       "      <td>34</td>\n",
       "      <td>...</td>\n",
       "      <td>13</td>\n",
       "      <td>0</td>\n",
       "      <td>1</td>\n",
       "      <td>13</td>\n",
       "      <td>-1</td>\n",
       "      <td>1</td>\n",
       "      <td>13</td>\n",
       "      <td>6</td>\n",
       "      <td>1</td>\n",
       "      <td>1</td>\n",
       "    </tr>\n",
       "    <tr>\n",
       "      <th>1</th>\n",
       "      <td>-8155545852312209511</td>\n",
       "      <td>0.572579</td>\n",
       "      <td>0.111607</td>\n",
       "      <td>0.441690</td>\n",
       "      <td>0.722336</td>\n",
       "      <td>0.531762</td>\n",
       "      <td>14.923077</td>\n",
       "      <td>7.239493</td>\n",
       "      <td>0</td>\n",
       "      <td>23</td>\n",
       "      <td>...</td>\n",
       "      <td>13</td>\n",
       "      <td>3</td>\n",
       "      <td>1</td>\n",
       "      <td>13</td>\n",
       "      <td>-1</td>\n",
       "      <td>1</td>\n",
       "      <td>13</td>\n",
       "      <td>5</td>\n",
       "      <td>2</td>\n",
       "      <td>1</td>\n",
       "    </tr>\n",
       "    <tr>\n",
       "      <th>2</th>\n",
       "      <td>-8155819641925061224</td>\n",
       "      <td>0.542401</td>\n",
       "      <td>0.049866</td>\n",
       "      <td>0.492097</td>\n",
       "      <td>0.635385</td>\n",
       "      <td>0.492097</td>\n",
       "      <td>8.307692</td>\n",
       "      <td>8.148462</td>\n",
       "      <td>0</td>\n",
       "      <td>24</td>\n",
       "      <td>...</td>\n",
       "      <td>13</td>\n",
       "      <td>0</td>\n",
       "      <td>1</td>\n",
       "      <td>13</td>\n",
       "      <td>-1</td>\n",
       "      <td>1</td>\n",
       "      <td>13</td>\n",
       "      <td>6</td>\n",
       "      <td>1</td>\n",
       "      <td>1</td>\n",
       "    </tr>\n",
       "    <tr>\n",
       "      <th>3</th>\n",
       "      <td>-8155202144177835732</td>\n",
       "      <td>0.525616</td>\n",
       "      <td>0.069431</td>\n",
       "      <td>0.300241</td>\n",
       "      <td>0.572156</td>\n",
       "      <td>0.300241</td>\n",
       "      <td>2.538462</td>\n",
       "      <td>4.993586</td>\n",
       "      <td>0</td>\n",
       "      <td>18</td>\n",
       "      <td>...</td>\n",
       "      <td>13</td>\n",
       "      <td>0</td>\n",
       "      <td>1</td>\n",
       "      <td>13</td>\n",
       "      <td>-1</td>\n",
       "      <td>1</td>\n",
       "      <td>13</td>\n",
       "      <td>5</td>\n",
       "      <td>1</td>\n",
       "      <td>1</td>\n",
       "    </tr>\n",
       "    <tr>\n",
       "      <th>4</th>\n",
       "      <td>-8156085982564465946</td>\n",
       "      <td>0.966729</td>\n",
       "      <td>0.022636</td>\n",
       "      <td>0.936331</td>\n",
       "      <td>1.005958</td>\n",
       "      <td>1.005958</td>\n",
       "      <td>2.923077</td>\n",
       "      <td>4.716311</td>\n",
       "      <td>0</td>\n",
       "      <td>13</td>\n",
       "      <td>...</td>\n",
       "      <td>13</td>\n",
       "      <td>2</td>\n",
       "      <td>1</td>\n",
       "      <td>13</td>\n",
       "      <td>-1</td>\n",
       "      <td>1</td>\n",
       "      <td>13</td>\n",
       "      <td>6</td>\n",
       "      <td>1</td>\n",
       "      <td>0</td>\n",
       "    </tr>\n",
       "    <tr>\n",
       "      <th>...</th>\n",
       "      <td>...</td>\n",
       "      <td>...</td>\n",
       "      <td>...</td>\n",
       "      <td>...</td>\n",
       "      <td>...</td>\n",
       "      <td>...</td>\n",
       "      <td>...</td>\n",
       "      <td>...</td>\n",
       "      <td>...</td>\n",
       "      <td>...</td>\n",
       "      <td>...</td>\n",
       "      <td>...</td>\n",
       "      <td>...</td>\n",
       "      <td>...</td>\n",
       "      <td>...</td>\n",
       "      <td>...</td>\n",
       "      <td>...</td>\n",
       "      <td>...</td>\n",
       "      <td>...</td>\n",
       "      <td>...</td>\n",
       "      <td>...</td>\n",
       "    </tr>\n",
       "    <tr>\n",
       "      <th>458908</th>\n",
       "      <td>9185902206605172295</td>\n",
       "      <td>0.899148</td>\n",
       "      <td>0.002162</td>\n",
       "      <td>0.895734</td>\n",
       "      <td>0.903749</td>\n",
       "      <td>0.898409</td>\n",
       "      <td>10.692308</td>\n",
       "      <td>8.547754</td>\n",
       "      <td>0</td>\n",
       "      <td>21</td>\n",
       "      <td>...</td>\n",
       "      <td>13</td>\n",
       "      <td>0</td>\n",
       "      <td>1</td>\n",
       "      <td>13</td>\n",
       "      <td>-1</td>\n",
       "      <td>1</td>\n",
       "      <td>13</td>\n",
       "      <td>6</td>\n",
       "      <td>1</td>\n",
       "      <td>0</td>\n",
       "    </tr>\n",
       "    <tr>\n",
       "      <th>458909</th>\n",
       "      <td>9185131784716738470</td>\n",
       "      <td>0.094862</td>\n",
       "      <td>0.102545</td>\n",
       "      <td>-0.036141</td>\n",
       "      <td>0.361963</td>\n",
       "      <td>0.216669</td>\n",
       "      <td>6.769231</td>\n",
       "      <td>10.026248</td>\n",
       "      <td>0</td>\n",
       "      <td>35</td>\n",
       "      <td>...</td>\n",
       "      <td>13</td>\n",
       "      <td>0</td>\n",
       "      <td>1</td>\n",
       "      <td>13</td>\n",
       "      <td>-1</td>\n",
       "      <td>1</td>\n",
       "      <td>13</td>\n",
       "      <td>6</td>\n",
       "      <td>1</td>\n",
       "      <td>1</td>\n",
       "    </tr>\n",
       "    <tr>\n",
       "      <th>458910</th>\n",
       "      <td>9185623865183437977</td>\n",
       "      <td>0.388658</td>\n",
       "      <td>0.049609</td>\n",
       "      <td>0.327292</td>\n",
       "      <td>0.446901</td>\n",
       "      <td>0.327292</td>\n",
       "      <td>1.384615</td>\n",
       "      <td>2.631174</td>\n",
       "      <td>0</td>\n",
       "      <td>10</td>\n",
       "      <td>...</td>\n",
       "      <td>13</td>\n",
       "      <td>0</td>\n",
       "      <td>2</td>\n",
       "      <td>13</td>\n",
       "      <td>-1</td>\n",
       "      <td>1</td>\n",
       "      <td>13</td>\n",
       "      <td>5</td>\n",
       "      <td>1</td>\n",
       "      <td>0</td>\n",
       "    </tr>\n",
       "    <tr>\n",
       "      <th>458911</th>\n",
       "      <td>9185387076984189087</td>\n",
       "      <td>0.159254</td>\n",
       "      <td>0.061890</td>\n",
       "      <td>-0.007504</td>\n",
       "      <td>0.221426</td>\n",
       "      <td>-0.007504</td>\n",
       "      <td>0.615385</td>\n",
       "      <td>2.218801</td>\n",
       "      <td>0</td>\n",
       "      <td>8</td>\n",
       "      <td>...</td>\n",
       "      <td>13</td>\n",
       "      <td>3</td>\n",
       "      <td>2</td>\n",
       "      <td>13</td>\n",
       "      <td>-1</td>\n",
       "      <td>1</td>\n",
       "      <td>13</td>\n",
       "      <td>4</td>\n",
       "      <td>1</td>\n",
       "      <td>1</td>\n",
       "    </tr>\n",
       "    <tr>\n",
       "      <th>458912</th>\n",
       "      <td>9185906640122301555</td>\n",
       "      <td>0.820064</td>\n",
       "      <td>0.028681</td>\n",
       "      <td>0.775051</td>\n",
       "      <td>0.863201</td>\n",
       "      <td>0.808415</td>\n",
       "      <td>7.692308</td>\n",
       "      <td>8.844816</td>\n",
       "      <td>0</td>\n",
       "      <td>24</td>\n",
       "      <td>...</td>\n",
       "      <td>13</td>\n",
       "      <td>0</td>\n",
       "      <td>1</td>\n",
       "      <td>13</td>\n",
       "      <td>-1</td>\n",
       "      <td>1</td>\n",
       "      <td>13</td>\n",
       "      <td>5</td>\n",
       "      <td>1</td>\n",
       "      <td>0</td>\n",
       "    </tr>\n",
       "  </tbody>\n",
       "</table>\n",
       "<p>458913 rows × 920 columns</p>\n",
       "</div>"
      ],
      "text/plain": [
       "                customer_ID  P_2_mean   P_2_std   P_2_min   P_2_max  P_2_last  \\\n",
       "0      -8156314619613718096  0.321566  0.066840  0.222667  0.434527  0.400919   \n",
       "1      -8155545852312209511  0.572579  0.111607  0.441690  0.722336  0.531762   \n",
       "2      -8155819641925061224  0.542401  0.049866  0.492097  0.635385  0.492097   \n",
       "3      -8155202144177835732  0.525616  0.069431  0.300241  0.572156  0.300241   \n",
       "4      -8156085982564465946  0.966729  0.022636  0.936331  1.005958  1.005958   \n",
       "...                     ...       ...       ...       ...       ...       ...   \n",
       "458908  9185902206605172295  0.899148  0.002162  0.895734  0.903749  0.898409   \n",
       "458909  9185131784716738470  0.094862  0.102545 -0.036141  0.361963  0.216669   \n",
       "458910  9185623865183437977  0.388658  0.049609  0.327292  0.446901  0.327292   \n",
       "458911  9185387076984189087  0.159254  0.061890 -0.007504  0.221426 -0.007504   \n",
       "458912  9185906640122301555  0.820064  0.028681  0.775051  0.863201  0.808415   \n",
       "\n",
       "        D_39_mean   D_39_std  D_39_min  D_39_max  ...  D_64_count  D_64_last  \\\n",
       "0       27.000000   8.990736         1        34  ...          13          0   \n",
       "1       14.923077   7.239493         0        23  ...          13          3   \n",
       "2        8.307692   8.148462         0        24  ...          13          0   \n",
       "3        2.538462   4.993586         0        18  ...          13          0   \n",
       "4        2.923077   4.716311         0        13  ...          13          2   \n",
       "...           ...        ...       ...       ...  ...         ...        ...   \n",
       "458908  10.692308   8.547754         0        21  ...          13          0   \n",
       "458909   6.769231  10.026248         0        35  ...          13          0   \n",
       "458910   1.384615   2.631174         0        10  ...          13          0   \n",
       "458911   0.615385   2.218801         0         8  ...          13          3   \n",
       "458912   7.692308   8.844816         0        24  ...          13          0   \n",
       "\n",
       "        D_64_nunique  D_66_count  D_66_last  D_66_nunique  D_68_count  \\\n",
       "0                  1          13         -1             1          13   \n",
       "1                  1          13         -1             1          13   \n",
       "2                  1          13         -1             1          13   \n",
       "3                  1          13         -1             1          13   \n",
       "4                  1          13         -1             1          13   \n",
       "...              ...         ...        ...           ...         ...   \n",
       "458908             1          13         -1             1          13   \n",
       "458909             1          13         -1             1          13   \n",
       "458910             2          13         -1             1          13   \n",
       "458911             2          13         -1             1          13   \n",
       "458912             1          13         -1             1          13   \n",
       "\n",
       "        D_68_last  D_68_nunique  target  \n",
       "0               6             1       1  \n",
       "1               5             2       1  \n",
       "2               6             1       1  \n",
       "3               5             1       1  \n",
       "4               6             1       0  \n",
       "...           ...           ...     ...  \n",
       "458908          6             1       0  \n",
       "458909          6             1       1  \n",
       "458910          5             1       0  \n",
       "458911          4             1       1  \n",
       "458912          5             1       0  \n",
       "\n",
       "[458913 rows x 920 columns]"
      ]
     },
     "execution_count": 24,
     "metadata": {},
     "output_type": "execute_result"
    }
   ],
   "source": [
    "train = train.reset_index()\n",
    "train"
   ]
  },
  {
   "cell_type": "code",
   "execution_count": 25,
   "id": "99f7af18",
   "metadata": {
    "execution": {
     "iopub.execute_input": "2022-07-18T03:11:56.760594Z",
     "iopub.status.busy": "2022-07-18T03:11:56.760297Z",
     "iopub.status.idle": "2022-07-18T03:11:57.498487Z",
     "shell.execute_reply": "2022-07-18T03:11:57.497435Z"
    },
    "papermill": {
     "duration": 0.764306,
     "end_time": "2022-07-18T03:11:57.500617",
     "exception": false,
     "start_time": "2022-07-18T03:11:56.736311",
     "status": "completed"
    },
    "tags": []
   },
   "outputs": [
    {
     "name": "stdout",
     "output_type": "stream",
     "text": [
      "Mon Jul 18 03:11:57 2022       \r\n",
      "+-----------------------------------------------------------------------------+\r\n",
      "| NVIDIA-SMI 470.82.01    Driver Version: 470.82.01    CUDA Version: 11.4     |\r\n",
      "|-------------------------------+----------------------+----------------------+\r\n",
      "| GPU  Name        Persistence-M| Bus-Id        Disp.A | Volatile Uncorr. ECC |\r\n",
      "| Fan  Temp  Perf  Pwr:Usage/Cap|         Memory-Usage | GPU-Util  Compute M. |\r\n",
      "|                               |                      |               MIG M. |\r\n",
      "|===============================+======================+======================|\r\n",
      "|   0  Tesla P100-PCIE...  Off  | 00000000:00:04.0 Off |                    0 |\r\n",
      "| N/A   40C    P0    38W / 250W |   7599MiB / 16280MiB |      0%      Default |\r\n",
      "|                               |                      |                  N/A |\r\n",
      "+-------------------------------+----------------------+----------------------+\r\n",
      "                                                                               \r\n",
      "+-----------------------------------------------------------------------------+\r\n",
      "| Processes:                                                                  |\r\n",
      "|  GPU   GI   CI        PID   Type   Process name                  GPU Memory |\r\n",
      "|        ID   ID                                                   Usage      |\r\n",
      "|=============================================================================|\r\n",
      "+-----------------------------------------------------------------------------+\r\n"
     ]
    }
   ],
   "source": [
    "!nvidia-smi"
   ]
  },
  {
   "cell_type": "markdown",
   "id": "77dd034b",
   "metadata": {
    "papermill": {
     "duration": 0.023042,
     "end_time": "2022-07-18T03:11:57.548134",
     "exception": false,
     "start_time": "2022-07-18T03:11:57.525092",
     "status": "completed"
    },
    "tags": []
   },
   "source": [
    "The targets are now merged into the train dataset, so deallocate them in memory.\n",
    "\n",
    "Although the capacity is small, it is better to always manage the memory after using the variable."
   ]
  },
  {
   "cell_type": "code",
   "execution_count": 26,
   "id": "d8eca029",
   "metadata": {
    "execution": {
     "iopub.execute_input": "2022-07-18T03:11:57.597274Z",
     "iopub.status.busy": "2022-07-18T03:11:57.596569Z",
     "iopub.status.idle": "2022-07-18T03:11:57.601652Z",
     "shell.execute_reply": "2022-07-18T03:11:57.600789Z"
    },
    "papermill": {
     "duration": 0.031464,
     "end_time": "2022-07-18T03:11:57.603626",
     "exception": false,
     "start_time": "2022-07-18T03:11:57.572162",
     "status": "completed"
    },
    "tags": []
   },
   "outputs": [],
   "source": [
    "del targets"
   ]
  },
  {
   "cell_type": "code",
   "execution_count": 27,
   "id": "89c6f50a",
   "metadata": {
    "execution": {
     "iopub.execute_input": "2022-07-18T03:11:57.651726Z",
     "iopub.status.busy": "2022-07-18T03:11:57.651107Z",
     "iopub.status.idle": "2022-07-18T03:11:58.387677Z",
     "shell.execute_reply": "2022-07-18T03:11:58.386707Z"
    },
    "papermill": {
     "duration": 0.76316,
     "end_time": "2022-07-18T03:11:58.390039",
     "exception": false,
     "start_time": "2022-07-18T03:11:57.626879",
     "status": "completed"
    },
    "tags": []
   },
   "outputs": [
    {
     "name": "stdout",
     "output_type": "stream",
     "text": [
      "Mon Jul 18 03:11:58 2022       \r\n",
      "+-----------------------------------------------------------------------------+\r\n",
      "| NVIDIA-SMI 470.82.01    Driver Version: 470.82.01    CUDA Version: 11.4     |\r\n",
      "|-------------------------------+----------------------+----------------------+\r\n",
      "| GPU  Name        Persistence-M| Bus-Id        Disp.A | Volatile Uncorr. ECC |\r\n",
      "| Fan  Temp  Perf  Pwr:Usage/Cap|         Memory-Usage | GPU-Util  Compute M. |\r\n",
      "|                               |                      |               MIG M. |\r\n",
      "|===============================+======================+======================|\r\n",
      "|   0  Tesla P100-PCIE...  Off  | 00000000:00:04.0 Off |                    0 |\r\n",
      "| N/A   40C    P0    38W / 250W |   7591MiB / 16280MiB |      0%      Default |\r\n",
      "|                               |                      |                  N/A |\r\n",
      "+-------------------------------+----------------------+----------------------+\r\n",
      "                                                                               \r\n",
      "+-----------------------------------------------------------------------------+\r\n",
      "| Processes:                                                                  |\r\n",
      "|  GPU   GI   CI        PID   Type   Process name                  GPU Memory |\r\n",
      "|        ID   ID                                                   Usage      |\r\n",
      "|=============================================================================|\r\n",
      "+-----------------------------------------------------------------------------+\r\n"
     ]
    }
   ],
   "source": [
    "!nvidia-smi"
   ]
  },
  {
   "cell_type": "markdown",
   "id": "62c6e7a2",
   "metadata": {
    "execution": {
     "iopub.execute_input": "2022-07-15T11:15:43.092723Z",
     "iopub.status.busy": "2022-07-15T11:15:43.092352Z",
     "iopub.status.idle": "2022-07-15T11:15:43.098262Z",
     "shell.execute_reply": "2022-07-15T11:15:43.097264Z",
     "shell.execute_reply.started": "2022-07-15T11:15:43.092695Z"
    },
    "papermill": {
     "duration": 0.023094,
     "end_time": "2022-07-18T03:11:58.436918",
     "exception": false,
     "start_time": "2022-07-18T03:11:58.413824",
     "status": "completed"
    },
    "tags": []
   },
   "source": [
    "Count the number of features to train the model, The first column is the id value and the last column is the label. Excluding 2 columns, the remaining number of columns is 198."
   ]
  },
  {
   "cell_type": "code",
   "execution_count": 28,
   "id": "1e7641dc",
   "metadata": {
    "execution": {
     "iopub.execute_input": "2022-07-18T03:11:58.485624Z",
     "iopub.status.busy": "2022-07-18T03:11:58.485287Z",
     "iopub.status.idle": "2022-07-18T03:11:58.490716Z",
     "shell.execute_reply": "2022-07-18T03:11:58.489935Z"
    },
    "papermill": {
     "duration": 0.032762,
     "end_time": "2022-07-18T03:11:58.493252",
     "exception": false,
     "start_time": "2022-07-18T03:11:58.460490",
     "status": "completed"
    },
    "tags": []
   },
   "outputs": [
    {
     "name": "stdout",
     "output_type": "stream",
     "text": [
      "There are 918 features!\n"
     ]
    }
   ],
   "source": [
    "FEATURES = train.columns[1:-1]\n",
    "print(f'There are {len(FEATURES)} features!')"
   ]
  },
  {
   "cell_type": "markdown",
   "id": "65525be9",
   "metadata": {
    "papermill": {
     "duration": 0.023779,
     "end_time": "2022-07-18T03:11:58.541547",
     "exception": false,
     "start_time": "2022-07-18T03:11:58.517768",
     "status": "completed"
    },
    "tags": []
   },
   "source": [
    "# 4. Train XGB\n",
    "\n",
    "When training the model, we will utilize KFold cross-validation to avoid overfitting by using all data at lease once for traininig.\n",
    "\n",
    "There is a problem in that the parts corresponding to 30 and 20 cannot be used for learning when the data is divided into learning/verification, such as 0:30 or 80:20 which are generally used for convenience. KFold splits training data and validation data(expressed as creating K-Folds) so that all datasets can be used for trainig."
   ]
  },
  {
   "cell_type": "code",
   "execution_count": 29,
   "id": "2df8343b",
   "metadata": {
    "execution": {
     "iopub.execute_input": "2022-07-18T03:11:58.589437Z",
     "iopub.status.busy": "2022-07-18T03:11:58.588679Z",
     "iopub.status.idle": "2022-07-18T03:11:58.694914Z",
     "shell.execute_reply": "2022-07-18T03:11:58.693671Z"
    },
    "papermill": {
     "duration": 0.132555,
     "end_time": "2022-07-18T03:11:58.697193",
     "exception": false,
     "start_time": "2022-07-18T03:11:58.564638",
     "status": "completed"
    },
    "tags": []
   },
   "outputs": [
    {
     "name": "stdout",
     "output_type": "stream",
     "text": [
      "XGB Version 1.6.1\n"
     ]
    }
   ],
   "source": [
    "# LOAD XGB LIBRARY\n",
    "from sklearn.model_selection import KFold\n",
    "import xgboost as xgb\n",
    "print('XGB Version',xgb.__version__)\n",
    "\n",
    "# XGB MODEL PARAMETERS\n",
    "xgb_parms = { \n",
    "    'max_depth':4, \n",
    "    'learning_rate':0.05, \n",
    "    'subsample':0.8,\n",
    "    'colsample_bytree':0.6, \n",
    "    'eval_metric':'logloss',\n",
    "    'objective':'binary:logistic',\n",
    "    'tree_method':'gpu_hist',\n",
    "    'predictor':'gpu_predictor',\n",
    "    'random_state':42\n",
    "}"
   ]
  },
  {
   "cell_type": "markdown",
   "id": "4f606ff0",
   "metadata": {
    "papermill": {
     "duration": 0.023134,
     "end_time": "2022-07-18T03:11:58.745081",
     "exception": false,
     "start_time": "2022-07-18T03:11:58.721947",
     "status": "completed"
    },
    "tags": []
   },
   "source": [
    "When traininig, we use DeviceQuantileDMatrix. All of usable-GPU memory is used at once for each calculation. And this DeviceQuantileDMatrix allows you to use GPU memory by dividing it into smaller units.\n",
    "\n",
    "In order to use DeviceQuantileDMatrix, it is necessary to define a class that can pass data in batch form by repeatedly calling the iteration method, that is, the next() function."
   ]
  },
  {
   "cell_type": "code",
   "execution_count": 30,
   "id": "24f67e05",
   "metadata": {
    "execution": {
     "iopub.execute_input": "2022-07-18T03:11:58.793914Z",
     "iopub.status.busy": "2022-07-18T03:11:58.793281Z",
     "iopub.status.idle": "2022-07-18T03:11:58.803030Z",
     "shell.execute_reply": "2022-07-18T03:11:58.802219Z"
    },
    "papermill": {
     "duration": 0.036307,
     "end_time": "2022-07-18T03:11:58.804752",
     "exception": false,
     "start_time": "2022-07-18T03:11:58.768445",
     "status": "completed"
    },
    "tags": []
   },
   "outputs": [],
   "source": [
    "class IterLoadForDMatrix(xgb.core.DataIter):\n",
    "    def __init__(self, df=None, features=None, target=None, batch_size=256*1024):\n",
    "        self.features = features\n",
    "        self.target = target\n",
    "        self.df = df\n",
    "        # It will start from 0 and increase by 1 until all of data is passed.\n",
    "        self.it = 0 \n",
    "        self.batch_size = batch_size\n",
    "        # np.ceil()은 a function that rounds up the float.\n",
    "        # Calculate the number of batches by dividing the data by the batch size\n",
    "        self.batches = int( np.ceil( len(df) / self.batch_size ) )\n",
    "        super().__init__()\n",
    "\n",
    "    def reset(self):\n",
    "        '''Reset the iterator'''\n",
    "        # If you need to perform iteration again from the beginning, \n",
    "        # you can initialize it with the reset() function.\n",
    "        self.it = 0\n",
    "\n",
    "    def next(self, input_data):\n",
    "        '''Yield next batch of data.'''\n",
    "        # self.batches defined at class instance creation. It contains the total number of batches that can be passed.\n",
    "        # End the iteration when self.it has reached the number of deliverable batches.\n",
    "        if self.it == self.batches:\n",
    "            # \n",
    "            return 0 \n",
    "        \n",
    "        # Get the start-end point for indexing.\n",
    "        a = self.it * self.batch_size\n",
    "        b = min( (self.it + 1) * self.batch_size, len(self.df) )\n",
    "        # Contain the data that will be passed by batch to the variable dt.\n",
    "        dt = cudf.DataFrame(self.df.iloc[a:b])\n",
    "        # Pass the feature and target from dt to input.\n",
    "        input_data(data=dt[self.features], label=dt[self.target]) \n",
    "        self.it += 1\n",
    "        return 1"
   ]
  },
  {
   "cell_type": "markdown",
   "id": "e3709a03",
   "metadata": {
    "papermill": {
     "duration": 0.023759,
     "end_time": "2022-07-18T03:11:58.851936",
     "exception": false,
     "start_time": "2022-07-18T03:11:58.828177",
     "status": "completed"
    },
    "tags": []
   },
   "source": [
    "The function below is the logic to evaluate the model in the American Express - Default Prediction contest. It will be used as a criterion for optimization during model training.\n",
    "\n",
    "In this tutorial, I expanded the original kernel that uses only CPUs for this calculation to select CPU and GPU. If you want to train the model using the train data on the GPU as it is, you must use the amex_metric_mod_GPU() function, which calculate optimization on the GPU. Here, we use amex_metric_mod_CPU()."
   ]
  },
  {
   "cell_type": "code",
   "execution_count": 31,
   "id": "284fef26",
   "metadata": {
    "execution": {
     "iopub.execute_input": "2022-07-18T03:11:58.900406Z",
     "iopub.status.busy": "2022-07-18T03:11:58.900128Z",
     "iopub.status.idle": "2022-07-18T03:11:58.915512Z",
     "shell.execute_reply": "2022-07-18T03:11:58.914692Z"
    },
    "papermill": {
     "duration": 0.041875,
     "end_time": "2022-07-18T03:11:58.917437",
     "exception": false,
     "start_time": "2022-07-18T03:11:58.875562",
     "status": "completed"
    },
    "tags": []
   },
   "outputs": [],
   "source": [
    "def amex_metric_mod_CPU(y_true, y_pred):\n",
    "\n",
    "    labels     = np.transpose(np.array([y_true, y_pred]))\n",
    "    labels     = labels[labels[:, 1].argsort()[::-1]]\n",
    "    weights    = np.where(labels[:,0]==0, 20, 1)\n",
    "    cut_vals   = labels[np.cumsum(weights) <= int(0.04 * np.sum(weights))]\n",
    "    top_four   = np.sum(cut_vals[:,0]) / np.sum(labels[:,0])\n",
    "\n",
    "    gini = [0,0]\n",
    "    for i in [1,0]:\n",
    "        labels         = np.transpose(np.array([y_true, y_pred]))\n",
    "        labels         = labels[labels[:, i].argsort()[::-1]]\n",
    "        weight         = np.where(labels[:,0]==0, 20, 1)\n",
    "        weight_random  = np.cumsum(weight / np.sum(weight))\n",
    "        total_pos      = np.sum(labels[:, 0] *  weight)\n",
    "        cum_pos_found  = np.cumsum(labels[:, 0] * weight)\n",
    "        lorentz        = cum_pos_found / total_pos\n",
    "        gini[i]        = np.sum((lorentz - weight_random) * weight)\n",
    "\n",
    "    return 0.5 * (gini[1]/gini[0] + top_four)\n",
    "\n",
    "def amex_metric_mod_GPU(y_true, y_pred):\n",
    "\n",
    "    labels     = cupy.transpose(cupy.array([y_true, y_pred]))\n",
    "    labels     = labels[labels[:, 1].argsort()[::-1]]\n",
    "    weights    = cupy.where(labels[:,0]==0, 20, 1)\n",
    "    cut_vals   = labels[cupy.cumsum(weights) <= int(0.04 * cupy.sum(weights))]\n",
    "    top_four   = cupy.sum(cut_vals[:,0]) / cupy.sum(labels[:,0])\n",
    "\n",
    "    gini = [0,0]\n",
    "    for i in [1,0]:\n",
    "        labels         = cupy.transpose(cupy.array([y_true, y_pred]))\n",
    "        labels         = labels[labels[:, i].argsort()[::-1]]\n",
    "        weight         = cupy.where(labels[:,0]==0, 20, 1)\n",
    "        weight_random  = cupy.cumsum(weight / cupy.sum(weight))\n",
    "        total_pos      = cupy.sum(labels[:, 0] *  weight)\n",
    "        cum_pos_found  = cupy.cumsum(labels[:, 0] * weight)\n",
    "        lorentz        = cum_pos_found / total_pos\n",
    "        gini[i]        = cupy.sum((lorentz - weight_random) * weight)\n",
    "\n",
    "    return 0.5 * (gini[1]/gini[0] + top_four)"
   ]
  },
  {
   "cell_type": "markdown",
   "id": "4e432ac5",
   "metadata": {
    "papermill": {
     "duration": 0.023087,
     "end_time": "2022-07-18T03:11:58.964304",
     "exception": false,
     "start_time": "2022-07-18T03:11:58.941217",
     "status": "completed"
    },
    "tags": []
   },
   "source": [
    "Finally, we train the model, To make efficient use of the limited GPU, we will load the dataset down to the CPU first. Then, in the IterLoadForDMatrix() function, indexing in small units through cudf and loading memory to the GPU goes through.\n",
    "\n",
    "Since we have already loaded the training data into cudf and allocated it to the GPU memory, we will load it down to the CPU through the to_pandas() function. The to_pandas() function allows you to safely copy to CPU resources while transform cudf object into a pandas dataframe object.\n",
    "\n",
    "In fact, if you use the RAPIDS platform, it is effective to perform all processes with a GPU, but there are many practical difficulties in applying it completely with a small amount of memory. Since we use Kaggle servers, it is important to make the best use of CPU and GPU memory like this."
   ]
  },
  {
   "cell_type": "markdown",
   "id": "c3da0dae",
   "metadata": {
    "papermill": {
     "duration": 0.025496,
     "end_time": "2022-07-18T03:11:59.013162",
     "exception": false,
     "start_time": "2022-07-18T03:11:58.987666",
     "status": "completed"
    },
    "tags": []
   },
   "source": [
    "To 'copy' means to remain in GPU memory. Let's check the resource status before and after copying together."
   ]
  },
  {
   "cell_type": "code",
   "execution_count": 32,
   "id": "53379074",
   "metadata": {
    "execution": {
     "iopub.execute_input": "2022-07-18T03:11:59.061591Z",
     "iopub.status.busy": "2022-07-18T03:11:59.061312Z",
     "iopub.status.idle": "2022-07-18T03:11:59.796508Z",
     "shell.execute_reply": "2022-07-18T03:11:59.795574Z"
    },
    "papermill": {
     "duration": 0.761316,
     "end_time": "2022-07-18T03:11:59.798530",
     "exception": false,
     "start_time": "2022-07-18T03:11:59.037214",
     "status": "completed"
    },
    "tags": []
   },
   "outputs": [
    {
     "name": "stdout",
     "output_type": "stream",
     "text": [
      "Mon Jul 18 03:11:59 2022       \r\n",
      "+-----------------------------------------------------------------------------+\r\n",
      "| NVIDIA-SMI 470.82.01    Driver Version: 470.82.01    CUDA Version: 11.4     |\r\n",
      "|-------------------------------+----------------------+----------------------+\r\n",
      "| GPU  Name        Persistence-M| Bus-Id        Disp.A | Volatile Uncorr. ECC |\r\n",
      "| Fan  Temp  Perf  Pwr:Usage/Cap|         Memory-Usage | GPU-Util  Compute M. |\r\n",
      "|                               |                      |               MIG M. |\r\n",
      "|===============================+======================+======================|\r\n",
      "|   0  Tesla P100-PCIE...  Off  | 00000000:00:04.0 Off |                    0 |\r\n",
      "| N/A   40C    P0    38W / 250W |   7591MiB / 16280MiB |      0%      Default |\r\n",
      "|                               |                      |                  N/A |\r\n",
      "+-------------------------------+----------------------+----------------------+\r\n",
      "                                                                               \r\n",
      "+-----------------------------------------------------------------------------+\r\n",
      "| Processes:                                                                  |\r\n",
      "|  GPU   GI   CI        PID   Type   Process name                  GPU Memory |\r\n",
      "|        ID   ID                                                   Usage      |\r\n",
      "|=============================================================================|\r\n",
      "+-----------------------------------------------------------------------------+\r\n"
     ]
    }
   ],
   "source": [
    "!nvidia-smi"
   ]
  },
  {
   "cell_type": "code",
   "execution_count": 33,
   "id": "bfd3299d",
   "metadata": {
    "execution": {
     "iopub.execute_input": "2022-07-18T03:11:59.850185Z",
     "iopub.status.busy": "2022-07-18T03:11:59.849186Z",
     "iopub.status.idle": "2022-07-18T03:12:04.267040Z",
     "shell.execute_reply": "2022-07-18T03:12:04.266195Z"
    },
    "papermill": {
     "duration": 4.446014,
     "end_time": "2022-07-18T03:12:04.269547",
     "exception": false,
     "start_time": "2022-07-18T03:11:59.823533",
     "status": "completed"
    },
    "tags": []
   },
   "outputs": [],
   "source": [
    "train_cpu = train.to_pandas()"
   ]
  },
  {
   "cell_type": "code",
   "execution_count": 34,
   "id": "d929136c",
   "metadata": {
    "execution": {
     "iopub.execute_input": "2022-07-18T03:12:04.320499Z",
     "iopub.status.busy": "2022-07-18T03:12:04.319766Z",
     "iopub.status.idle": "2022-07-18T03:12:05.090619Z",
     "shell.execute_reply": "2022-07-18T03:12:05.089615Z"
    },
    "papermill": {
     "duration": 0.797786,
     "end_time": "2022-07-18T03:12:05.092624",
     "exception": false,
     "start_time": "2022-07-18T03:12:04.294838",
     "status": "completed"
    },
    "tags": []
   },
   "outputs": [
    {
     "name": "stdout",
     "output_type": "stream",
     "text": [
      "Mon Jul 18 03:12:04 2022       \r\n",
      "+-----------------------------------------------------------------------------+\r\n",
      "| NVIDIA-SMI 470.82.01    Driver Version: 470.82.01    CUDA Version: 11.4     |\r\n",
      "|-------------------------------+----------------------+----------------------+\r\n",
      "| GPU  Name        Persistence-M| Bus-Id        Disp.A | Volatile Uncorr. ECC |\r\n",
      "| Fan  Temp  Perf  Pwr:Usage/Cap|         Memory-Usage | GPU-Util  Compute M. |\r\n",
      "|                               |                      |               MIG M. |\r\n",
      "|===============================+======================+======================|\r\n",
      "|   0  Tesla P100-PCIE...  Off  | 00000000:00:04.0 Off |                    0 |\r\n",
      "| N/A   40C    P0    38W / 250W |   7591MiB / 16280MiB |      0%      Default |\r\n",
      "|                               |                      |                  N/A |\r\n",
      "+-------------------------------+----------------------+----------------------+\r\n",
      "                                                                               \r\n",
      "+-----------------------------------------------------------------------------+\r\n",
      "| Processes:                                                                  |\r\n",
      "|  GPU   GI   CI        PID   Type   Process name                  GPU Memory |\r\n",
      "|        ID   ID                                                   Usage      |\r\n",
      "|=============================================================================|\r\n",
      "+-----------------------------------------------------------------------------+\r\n"
     ]
    }
   ],
   "source": [
    "!nvidia-smi"
   ]
  },
  {
   "cell_type": "markdown",
   "id": "d831167a",
   "metadata": {
    "papermill": {
     "duration": 0.024364,
     "end_time": "2022-07-18T03:12:05.141724",
     "exception": false,
     "start_time": "2022-07-18T03:12:05.117360",
     "status": "completed"
    },
    "tags": []
   },
   "source": [
    "From now on, as multiple functions refer to multiple variables, and the allocated memory is called around, instantaneous memory usage will fluctuate. In Python, it is not necessary to manually manage memory because the garbage collector(which increases the available memory by deallocating the memory when the value allocated to a specific memory is not being referenced more than once) works internally.\n",
    "\n",
    "However, since optimization is not performed in real time for every execution, it is very helpful for optimization by manually operating the garbage collector through the gc.collect() function for every batch during model training and evaluation. So, let's run the function and move on."
   ]
  },
  {
   "cell_type": "code",
   "execution_count": 35,
   "id": "f45beacb",
   "metadata": {
    "execution": {
     "iopub.execute_input": "2022-07-18T03:12:05.191885Z",
     "iopub.status.busy": "2022-07-18T03:12:05.191139Z",
     "iopub.status.idle": "2022-07-18T03:12:05.195440Z",
     "shell.execute_reply": "2022-07-18T03:12:05.194516Z"
    },
    "papermill": {
     "duration": 0.03141,
     "end_time": "2022-07-18T03:12:05.197057",
     "exception": false,
     "start_time": "2022-07-18T03:12:05.165647",
     "status": "completed"
    },
    "tags": []
   },
   "outputs": [],
   "source": [
    "import gc"
   ]
  },
  {
   "cell_type": "code",
   "execution_count": 36,
   "id": "80c4a4ab",
   "metadata": {
    "execution": {
     "iopub.execute_input": "2022-07-18T03:12:05.247120Z",
     "iopub.status.busy": "2022-07-18T03:12:05.246861Z",
     "iopub.status.idle": "2022-07-18T03:12:05.410166Z",
     "shell.execute_reply": "2022-07-18T03:12:05.409264Z"
    },
    "papermill": {
     "duration": 0.190492,
     "end_time": "2022-07-18T03:12:05.412119",
     "exception": false,
     "start_time": "2022-07-18T03:12:05.221627",
     "status": "completed"
    },
    "tags": []
   },
   "outputs": [
    {
     "data": {
      "text/plain": [
       "63"
      ]
     },
     "execution_count": 36,
     "metadata": {},
     "output_type": "execute_result"
    }
   ],
   "source": [
    "gc.collect()"
   ]
  },
  {
   "cell_type": "markdown",
   "id": "494dc55a",
   "metadata": {
    "papermill": {
     "duration": 0.023959,
     "end_time": "2022-07-18T03:12:05.461045",
     "exception": false,
     "start_time": "2022-07-18T03:12:05.437086",
     "status": "completed"
    },
    "tags": []
   },
   "source": [
    "We will set The K of KFold to 5. Then, for each of the 5 folds, we will have 4 learning folds and 1 validatio fold, and repeat learning a total of 5 times by moving the position of the valiation folds. As a result, the optimization is carried out through the average value of the 5 verification results.\n",
    "\n",
    "SEED can be specified with any number."
   ]
  },
  {
   "cell_type": "code",
   "execution_count": 37,
   "id": "adb73750",
   "metadata": {
    "execution": {
     "iopub.execute_input": "2022-07-18T03:12:05.511726Z",
     "iopub.status.busy": "2022-07-18T03:12:05.511451Z",
     "iopub.status.idle": "2022-07-18T03:12:05.515858Z",
     "shell.execute_reply": "2022-07-18T03:12:05.514823Z"
    },
    "papermill": {
     "duration": 0.031567,
     "end_time": "2022-07-18T03:12:05.517497",
     "exception": false,
     "start_time": "2022-07-18T03:12:05.485930",
     "status": "completed"
    },
    "tags": []
   },
   "outputs": [],
   "source": [
    "FOLDS = 5\n",
    "SEED = 42\n",
    "skf = KFold(n_splits=FOLDS, shuffle=True, random_state=SEED)"
   ]
  },
  {
   "cell_type": "code",
   "execution_count": 38,
   "id": "5e1b6993",
   "metadata": {
    "execution": {
     "iopub.execute_input": "2022-07-18T03:12:05.567070Z",
     "iopub.status.busy": "2022-07-18T03:12:05.566502Z",
     "iopub.status.idle": "2022-07-18T03:21:11.065572Z",
     "shell.execute_reply": "2022-07-18T03:21:11.064720Z"
    },
    "papermill": {
     "duration": 545.525787,
     "end_time": "2022-07-18T03:21:11.067704",
     "exception": false,
     "start_time": "2022-07-18T03:12:05.541917",
     "status": "completed"
    },
    "scrolled": true,
    "tags": []
   },
   "outputs": [
    {
     "name": "stdout",
     "output_type": "stream",
     "text": [
      "#########################\n",
      "### Fold 1\n",
      "### Train size 367130 Valid size 91783\n",
      "### Training with 100% fold data...\n",
      "#########################\n",
      "[0]\ttrain-logloss:0.66284\tvalid-logloss:0.66284\n",
      "[100]\ttrain-logloss:0.23713\tvalid-logloss:0.23815\n",
      "[200]\ttrain-logloss:0.22281\tvalid-logloss:0.22603\n",
      "[300]\ttrain-logloss:0.21671\tvalid-logloss:0.22208\n",
      "[400]\ttrain-logloss:0.21262\tvalid-logloss:0.22020\n",
      "[500]\ttrain-logloss:0.20944\tvalid-logloss:0.21912\n",
      "[600]\ttrain-logloss:0.20667\tvalid-logloss:0.21838\n",
      "[700]\ttrain-logloss:0.20411\tvalid-logloss:0.21785\n",
      "[800]\ttrain-logloss:0.20184\tvalid-logloss:0.21751\n",
      "[900]\ttrain-logloss:0.19960\tvalid-logloss:0.21728\n",
      "[1000]\ttrain-logloss:0.19749\tvalid-logloss:0.21707\n",
      "[1100]\ttrain-logloss:0.19555\tvalid-logloss:0.21693\n",
      "[1200]\ttrain-logloss:0.19363\tvalid-logloss:0.21686\n",
      "[1300]\ttrain-logloss:0.19174\tvalid-logloss:0.21667\n",
      "[1400]\ttrain-logloss:0.18987\tvalid-logloss:0.21662\n",
      "[1498]\ttrain-logloss:0.18814\tvalid-logloss:0.21666\n",
      "Kaggle Metric = 0.7901056107799863 \n",
      "\n",
      "#########################\n",
      "### Fold 2\n",
      "### Train size 367130 Valid size 91783\n",
      "### Training with 100% fold data...\n",
      "#########################\n",
      "[0]\ttrain-logloss:0.66285\tvalid-logloss:0.66306\n",
      "[100]\ttrain-logloss:0.23631\tvalid-logloss:0.24130\n",
      "[200]\ttrain-logloss:0.22208\tvalid-logloss:0.22936\n",
      "[300]\ttrain-logloss:0.21601\tvalid-logloss:0.22540\n",
      "[400]\ttrain-logloss:0.21189\tvalid-logloss:0.22332\n",
      "[500]\ttrain-logloss:0.20871\tvalid-logloss:0.22218\n",
      "[600]\ttrain-logloss:0.20605\tvalid-logloss:0.22140\n",
      "[700]\ttrain-logloss:0.20359\tvalid-logloss:0.22094\n",
      "[800]\ttrain-logloss:0.20128\tvalid-logloss:0.22064\n",
      "[900]\ttrain-logloss:0.19911\tvalid-logloss:0.22035\n",
      "[1000]\ttrain-logloss:0.19701\tvalid-logloss:0.22011\n",
      "[1100]\ttrain-logloss:0.19500\tvalid-logloss:0.21990\n",
      "[1200]\ttrain-logloss:0.19307\tvalid-logloss:0.21975\n",
      "[1300]\ttrain-logloss:0.19117\tvalid-logloss:0.21961\n",
      "[1400]\ttrain-logloss:0.18936\tvalid-logloss:0.21949\n",
      "[1500]\ttrain-logloss:0.18761\tvalid-logloss:0.21943\n",
      "[1600]\ttrain-logloss:0.18581\tvalid-logloss:0.21936\n",
      "[1700]\ttrain-logloss:0.18415\tvalid-logloss:0.21940\n",
      "[1738]\ttrain-logloss:0.18352\tvalid-logloss:0.21939\n",
      "Kaggle Metric = 0.7906487113732723 \n",
      "\n",
      "#########################\n",
      "### Fold 3\n",
      "### Train size 367130 Valid size 91783\n",
      "### Training with 100% fold data...\n",
      "#########################\n",
      "[0]\ttrain-logloss:0.66290\tvalid-logloss:0.66283\n",
      "[100]\ttrain-logloss:0.23729\tvalid-logloss:0.23748\n",
      "[200]\ttrain-logloss:0.22281\tvalid-logloss:0.22552\n",
      "[300]\ttrain-logloss:0.21669\tvalid-logloss:0.22179\n",
      "[400]\ttrain-logloss:0.21261\tvalid-logloss:0.21994\n",
      "[500]\ttrain-logloss:0.20943\tvalid-logloss:0.21886\n",
      "[600]\ttrain-logloss:0.20671\tvalid-logloss:0.21813\n",
      "[700]\ttrain-logloss:0.20426\tvalid-logloss:0.21763\n",
      "[800]\ttrain-logloss:0.20190\tvalid-logloss:0.21727\n",
      "[900]\ttrain-logloss:0.19976\tvalid-logloss:0.21701\n",
      "[1000]\ttrain-logloss:0.19770\tvalid-logloss:0.21678\n",
      "[1100]\ttrain-logloss:0.19576\tvalid-logloss:0.21666\n",
      "[1200]\ttrain-logloss:0.19380\tvalid-logloss:0.21651\n",
      "[1300]\ttrain-logloss:0.19183\tvalid-logloss:0.21640\n",
      "[1400]\ttrain-logloss:0.18998\tvalid-logloss:0.21634\n",
      "[1482]\ttrain-logloss:0.18849\tvalid-logloss:0.21637\n",
      "Kaggle Metric = 0.7949308315495044 \n",
      "\n",
      "#########################\n",
      "### Fold 4\n",
      "### Train size 367131 Valid size 91782\n",
      "### Training with 100% fold data...\n",
      "#########################\n",
      "[0]\ttrain-logloss:0.66284\tvalid-logloss:0.66275\n",
      "[100]\ttrain-logloss:0.23731\tvalid-logloss:0.23795\n",
      "[200]\ttrain-logloss:0.22297\tvalid-logloss:0.22590\n",
      "[300]\ttrain-logloss:0.21688\tvalid-logloss:0.22172\n",
      "[400]\ttrain-logloss:0.21291\tvalid-logloss:0.21970\n",
      "[500]\ttrain-logloss:0.20972\tvalid-logloss:0.21846\n",
      "[600]\ttrain-logloss:0.20702\tvalid-logloss:0.21770\n",
      "[700]\ttrain-logloss:0.20454\tvalid-logloss:0.21712\n",
      "[800]\ttrain-logloss:0.20225\tvalid-logloss:0.21676\n",
      "[900]\ttrain-logloss:0.20007\tvalid-logloss:0.21646\n",
      "[1000]\ttrain-logloss:0.19794\tvalid-logloss:0.21626\n",
      "[1100]\ttrain-logloss:0.19595\tvalid-logloss:0.21608\n",
      "[1200]\ttrain-logloss:0.19398\tvalid-logloss:0.21587\n",
      "[1300]\ttrain-logloss:0.19209\tvalid-logloss:0.21570\n",
      "[1400]\ttrain-logloss:0.19017\tvalid-logloss:0.21563\n",
      "[1450]\ttrain-logloss:0.18929\tvalid-logloss:0.21565\n",
      "Kaggle Metric = 0.793462056939108 \n",
      "\n",
      "#########################\n",
      "### Fold 5\n",
      "### Train size 367131 Valid size 91782\n",
      "### Training with 100% fold data...\n",
      "#########################\n",
      "[0]\ttrain-logloss:0.66281\tvalid-logloss:0.66298\n",
      "[100]\ttrain-logloss:0.23619\tvalid-logloss:0.24187\n",
      "[200]\ttrain-logloss:0.22180\tvalid-logloss:0.22990\n",
      "[300]\ttrain-logloss:0.21582\tvalid-logloss:0.22604\n",
      "[400]\ttrain-logloss:0.21179\tvalid-logloss:0.22402\n",
      "[500]\ttrain-logloss:0.20866\tvalid-logloss:0.22279\n",
      "[600]\ttrain-logloss:0.20593\tvalid-logloss:0.22201\n",
      "[700]\ttrain-logloss:0.20339\tvalid-logloss:0.22146\n",
      "[800]\ttrain-logloss:0.20112\tvalid-logloss:0.22097\n",
      "[900]\ttrain-logloss:0.19896\tvalid-logloss:0.22066\n",
      "[1000]\ttrain-logloss:0.19687\tvalid-logloss:0.22042\n",
      "[1100]\ttrain-logloss:0.19484\tvalid-logloss:0.22013\n",
      "[1200]\ttrain-logloss:0.19285\tvalid-logloss:0.21991\n",
      "[1300]\ttrain-logloss:0.19100\tvalid-logloss:0.21979\n",
      "[1400]\ttrain-logloss:0.18912\tvalid-logloss:0.21972\n",
      "[1500]\ttrain-logloss:0.18733\tvalid-logloss:0.21966\n",
      "[1600]\ttrain-logloss:0.18555\tvalid-logloss:0.21959\n",
      "[1700]\ttrain-logloss:0.18385\tvalid-logloss:0.21955\n",
      "[1800]\ttrain-logloss:0.18214\tvalid-logloss:0.21950\n",
      "[1900]\ttrain-logloss:0.18046\tvalid-logloss:0.21947\n",
      "[2000]\ttrain-logloss:0.17884\tvalid-logloss:0.21942\n",
      "[2100]\ttrain-logloss:0.17726\tvalid-logloss:0.21940\n",
      "[2164]\ttrain-logloss:0.17620\tvalid-logloss:0.21940\n",
      "Kaggle Metric = 0.7901365907479885 \n",
      "\n",
      "#########################\n",
      "OVERALL CV Kaggle Metric = 0.7917363115703622\n"
     ]
    }
   ],
   "source": [
    "importances = []\n",
    "oof = []\n",
    "TRAIN_SUBSAMPLE = 1.0\n",
    "VER = 1 # Version information to record when saving the model.\n",
    "\n",
    "# To perform cross-validation on the KFold object skf, iterative validation is performed after separating into training and validation folds.\n",
    "for fold,(train_idx, valid_idx) in enumerate(skf.split(train_cpu, train_cpu.target)):\n",
    "    \n",
    "    # If you want to train model by only using some sample of the train data, set TRAIN_SUBSAMLE to less than 1.\n",
    "    # Then, you can configure the train set again by randomly extracting the ratio through the if statement below.\n",
    "    if TRAIN_SUBSAMPLE<1.0:\n",
    "        np.random.seed(SEED)\n",
    "        train_idx = np.random.choice(train_idx, int(len(train_idx)*TRAIN_SUBSAMPLE), replace=False)\n",
    "        np.random.seed(None)\n",
    "    \n",
    "    print('#'*25)\n",
    "    print('### Fold',fold+1)\n",
    "    print('### Train size',len(train_idx),'Valid size',len(valid_idx))\n",
    "    print(f'### Training with {int(TRAIN_SUBSAMPLE*100)}% fold data...')\n",
    "    print('#'*25)\n",
    "    \n",
    "    # Create the IterLoadForDMatrix instance. It will throw data in batches for training model. \n",
    "    Xy_train = IterLoadForDMatrix(train_cpu.loc[train_idx], FEATURES, 'target')\n",
    "    \n",
    "    # Define validation data to verify performance while training.\n",
    "    X_valid = train_cpu.loc[valid_idx, FEATURES]\n",
    "    y_valid = train_cpu.loc[valid_idx, 'target']\n",
    "    \n",
    "    dtrain = xgb.DeviceQuantileDMatrix(Xy_train, max_bin=256)\n",
    "    dvalid = xgb.DMatrix(data=X_valid, label=y_valid)\n",
    "    \n",
    "    # train the model\n",
    "    model = xgb.train(xgb_parms, \n",
    "                dtrain=dtrain,\n",
    "                evals=[(dtrain,'train'),(dvalid,'valid')],\n",
    "                num_boost_round=9999,\n",
    "                early_stopping_rounds=100,\n",
    "                verbose_eval=100) \n",
    "    # During cross-validation, the model is saved at each verification.\n",
    "    model.save_model(f'XGB_v{VER}_fold{fold}.xgb')\n",
    "    \n",
    "    # After training the model, we will check the feature importance. \n",
    "    # For this, importance is calculated for each training and stored in a variable dd.\n",
    "    dd = model.get_score(importance_type='weight')\n",
    "    df = pd.DataFrame({'feature':dd.keys(),f'importance_{fold}':dd.values()})\n",
    "    importances.append(df)\n",
    "    \n",
    "    # Validate the model. \n",
    "    oof_preds = model.predict(dvalid)\n",
    "    \n",
    "    # For calculating Accuracy, we uses the competition evaluation metric.\n",
    "    # In the original code, y_valied.values is put as it is,\n",
    "    # If not train_cpu but train that loaded in GPU memory was used as an argument,\n",
    "    # y_valid.values would be cupy._core.core.ndarray rather than np.ndarray.\n",
    "    # In this case, use cupy to let it compute directly on the GPU.\n",
    "    # -> acc = amex_metric_mod_GPU(y_valid.values, oof_preds)\n",
    "\n",
    "    # Since we use train_cpu loaded to the cpu as in the original code,\n",
    "    # The variable is np.ndarray(). So, we can just put it in amex_metric_mod_CPU().\n",
    "    acc = amex_metric_mod_CPU(y_valid.values, oof_preds)\n",
    "    print('Kaggle Metric =',acc,'\\n')\n",
    "    \n",
    "    # Also save the verification score(oof_pred) separately.\n",
    "    df = train_cpu.loc[valid_idx, ['customer_ID','target']].copy()\n",
    "    df['oof_pred'] = oof_preds\n",
    "    oof.append( df )\n",
    "    \n",
    "    # Let's free All variables used for training from memory.\n",
    "    del dtrain, Xy_train, dd, df\n",
    "    del X_valid, y_valid, dvalid, model\n",
    "    # And excecute garbage collection to completely remove the remaining non-referenced memory values even after the variable has been removed.\n",
    "    _ = gc.collect()\n",
    "    \n",
    "print('#'*25)\n",
    "# When training is finished, the entire verification result is saved as a DataFrame.\n",
    "# Then, calculate the actual value and the verification value as an evaluation metric.\n",
    "# Here, if you use the train variable loaded in GPU memory as an argument like y_valid,\n",
    "# It would be not a pandas.core.frame.DataFrame, but a cudf.core.dataframe.DataFrame.\n",
    "# So, In this case, either merge them with cudf or replace all elements in oof with pandas's DataFrame objects.\n",
    "# Since we used train_cpu, we use pandas as is.\n",
    "oof = pd.concat(oof,axis=0,ignore_index=True).set_index('customer_ID')\n",
    "acc = amex_metric_mod_GPU(oof.target.values, oof.oof_pred.values)\n",
    "print('OVERALL CV Kaggle Metric =',acc)"
   ]
  },
  {
   "cell_type": "code",
   "execution_count": 39,
   "id": "398e0c72",
   "metadata": {
    "execution": {
     "iopub.execute_input": "2022-07-18T03:21:11.130021Z",
     "iopub.status.busy": "2022-07-18T03:21:11.129253Z",
     "iopub.status.idle": "2022-07-18T03:21:11.265113Z",
     "shell.execute_reply": "2022-07-18T03:21:11.264213Z"
    },
    "papermill": {
     "duration": 0.168687,
     "end_time": "2022-07-18T03:21:11.266840",
     "exception": false,
     "start_time": "2022-07-18T03:21:11.098153",
     "status": "completed"
    },
    "tags": []
   },
   "outputs": [],
   "source": [
    "# Now that training is over, the train_cpu dataset is no longer needed.\n",
    "# We will also clean up the memory referring to the train_cpu data. \n",
    "del train, train_cpu\n",
    "_ = gc.collect()"
   ]
  },
  {
   "cell_type": "code",
   "execution_count": 40,
   "id": "100ff17b",
   "metadata": {
    "execution": {
     "iopub.execute_input": "2022-07-18T03:21:11.327838Z",
     "iopub.status.busy": "2022-07-18T03:21:11.327558Z",
     "iopub.status.idle": "2022-07-18T03:21:12.237848Z",
     "shell.execute_reply": "2022-07-18T03:21:12.236184Z"
    },
    "papermill": {
     "duration": 0.944942,
     "end_time": "2022-07-18T03:21:12.242047",
     "exception": false,
     "start_time": "2022-07-18T03:21:11.297105",
     "status": "completed"
    },
    "tags": []
   },
   "outputs": [
    {
     "name": "stdout",
     "output_type": "stream",
     "text": [
      "Mon Jul 18 03:21:12 2022       \r\n",
      "+-----------------------------------------------------------------------------+\r\n",
      "| NVIDIA-SMI 470.82.01    Driver Version: 470.82.01    CUDA Version: 11.4     |\r\n",
      "|-------------------------------+----------------------+----------------------+\r\n",
      "| GPU  Name        Persistence-M| Bus-Id        Disp.A | Volatile Uncorr. ECC |\r\n",
      "| Fan  Temp  Perf  Pwr:Usage/Cap|         Memory-Usage | GPU-Util  Compute M. |\r\n",
      "|                               |                      |               MIG M. |\r\n",
      "|===============================+======================+======================|\r\n",
      "|   0  Tesla P100-PCIE...  Off  | 00000000:00:04.0 Off |                    0 |\r\n",
      "| N/A   63C    P0    40W / 250W |   7823MiB / 16280MiB |      0%      Default |\r\n",
      "|                               |                      |                  N/A |\r\n",
      "+-------------------------------+----------------------+----------------------+\r\n",
      "                                                                               \r\n",
      "+-----------------------------------------------------------------------------+\r\n",
      "| Processes:                                                                  |\r\n",
      "|  GPU   GI   CI        PID   Type   Process name                  GPU Memory |\r\n",
      "|        ID   ID                                                   Usage      |\r\n",
      "|=============================================================================|\r\n",
      "+-----------------------------------------------------------------------------+\r\n"
     ]
    }
   ],
   "source": [
    "!nvidia-smi"
   ]
  },
  {
   "cell_type": "markdown",
   "id": "726ce61a",
   "metadata": {
    "papermill": {
     "duration": 0.030029,
     "end_time": "2022-07-18T03:21:12.303080",
     "exception": false,
     "start_time": "2022-07-18T03:21:12.273051",
     "status": "completed"
    },
    "tags": []
   },
   "source": [
    "# 5. Save OOF Preds"
   ]
  },
  {
   "cell_type": "markdown",
   "id": "ef5e4716",
   "metadata": {
    "papermill": {
     "duration": 0.029846,
     "end_time": "2022-07-18T03:21:12.364361",
     "exception": false,
     "start_time": "2022-07-18T03:21:12.334515",
     "status": "completed"
    },
    "tags": []
   },
   "source": [
    "We have to save the prediction result with customer_ID. Just get the unique id information from the data file, change the hexadecimal number to an integer type as we did before, and merge the predicted values obtained during the training process."
   ]
  },
  {
   "cell_type": "code",
   "execution_count": 41,
   "id": "77366784",
   "metadata": {
    "execution": {
     "iopub.execute_input": "2022-07-18T03:21:12.426167Z",
     "iopub.status.busy": "2022-07-18T03:21:12.425764Z",
     "iopub.status.idle": "2022-07-18T03:21:17.303955Z",
     "shell.execute_reply": "2022-07-18T03:21:17.303220Z"
    },
    "papermill": {
     "duration": 4.911652,
     "end_time": "2022-07-18T03:21:17.305754",
     "exception": false,
     "start_time": "2022-07-18T03:21:12.394102",
     "status": "completed"
    },
    "tags": []
   },
   "outputs": [
    {
     "data": {
      "text/html": [
       "<div>\n",
       "<style scoped>\n",
       "    .dataframe tbody tr th:only-of-type {\n",
       "        vertical-align: middle;\n",
       "    }\n",
       "\n",
       "    .dataframe tbody tr th {\n",
       "        vertical-align: top;\n",
       "    }\n",
       "\n",
       "    .dataframe thead th {\n",
       "        text-align: right;\n",
       "    }\n",
       "</style>\n",
       "<table border=\"1\" class=\"dataframe\">\n",
       "  <thead>\n",
       "    <tr style=\"text-align: right;\">\n",
       "      <th></th>\n",
       "      <th>customer_ID</th>\n",
       "      <th>target</th>\n",
       "      <th>oof_pred</th>\n",
       "    </tr>\n",
       "  </thead>\n",
       "  <tbody>\n",
       "    <tr>\n",
       "      <th>0</th>\n",
       "      <td>20eac26171c3d251c55fc78204e59fab1c15fc2bc96d0c...</td>\n",
       "      <td>1</td>\n",
       "      <td>0.671838</td>\n",
       "    </tr>\n",
       "    <tr>\n",
       "      <th>1</th>\n",
       "      <td>aea50fdf9b974ccec95fa177c3225a0f913483b457de6e...</td>\n",
       "      <td>0</td>\n",
       "      <td>0.000246</td>\n",
       "    </tr>\n",
       "    <tr>\n",
       "      <th>2</th>\n",
       "      <td>32cd2d41aef737b69089882754395925c96eaee1f4a859...</td>\n",
       "      <td>0</td>\n",
       "      <td>0.002053</td>\n",
       "    </tr>\n",
       "    <tr>\n",
       "      <th>3</th>\n",
       "      <td>8daa6d5dc2655a8a437531e6b8b96829113cdfe9bf6cae...</td>\n",
       "      <td>0</td>\n",
       "      <td>0.012740</td>\n",
       "    </tr>\n",
       "    <tr>\n",
       "      <th>4</th>\n",
       "      <td>0ceba351a3851202542feb49d7385bcef32f6037fc57c7...</td>\n",
       "      <td>1</td>\n",
       "      <td>0.852884</td>\n",
       "    </tr>\n",
       "  </tbody>\n",
       "</table>\n",
       "</div>"
      ],
      "text/plain": [
       "                                         customer_ID  target  oof_pred\n",
       "0  20eac26171c3d251c55fc78204e59fab1c15fc2bc96d0c...       1  0.671838\n",
       "1  aea50fdf9b974ccec95fa177c3225a0f913483b457de6e...       0  0.000246\n",
       "2  32cd2d41aef737b69089882754395925c96eaee1f4a859...       0  0.002053\n",
       "3  8daa6d5dc2655a8a437531e6b8b96829113cdfe9bf6cae...       0  0.012740\n",
       "4  0ceba351a3851202542feb49d7385bcef32f6037fc57c7...       1  0.852884"
      ]
     },
     "execution_count": 41,
     "metadata": {},
     "output_type": "execute_result"
    }
   ],
   "source": [
    "TRAIN_PATH = '../input/amex-data-integer-dtypes-parquet-format/train.parquet'\n",
    "oof_xgb = pd.read_parquet(TRAIN_PATH, columns=['customer_ID']).drop_duplicates()\n",
    "oof_xgb['customer_ID_hash'] = oof_xgb['customer_ID'].apply(lambda x: int(x[-16:],16) ).astype('int64')\n",
    "oof_xgb = oof_xgb.set_index('customer_ID_hash')\n",
    "oof_xgb = oof_xgb.merge(oof, left_index=True, right_index=True)\n",
    "oof_xgb = oof_xgb.sort_index().reset_index(drop=True)\n",
    "oof_xgb.to_csv(f'oof_xgb_v{VER}.csv',index=False)\n",
    "oof_xgb.head()"
   ]
  },
  {
   "cell_type": "markdown",
   "id": "0123f491",
   "metadata": {
    "papermill": {
     "duration": 0.029514,
     "end_time": "2022-07-18T03:21:17.366299",
     "exception": false,
     "start_time": "2022-07-18T03:21:17.336785",
     "status": "completed"
    },
    "tags": []
   },
   "source": [
    "Visualize the prediction results. The prediction result is a probability between 0 and 1. Since only 5% default(1) and the rest should be predicted as 0, the visualization is biased towards 0 and 1 in both directions, but there should be more values distributed at 0."
   ]
  },
  {
   "cell_type": "code",
   "execution_count": 42,
   "id": "3654639f",
   "metadata": {
    "execution": {
     "iopub.execute_input": "2022-07-18T03:21:17.427508Z",
     "iopub.status.busy": "2022-07-18T03:21:17.427199Z",
     "iopub.status.idle": "2022-07-18T03:21:17.812143Z",
     "shell.execute_reply": "2022-07-18T03:21:17.811275Z"
    },
    "papermill": {
     "duration": 0.417653,
     "end_time": "2022-07-18T03:21:17.814338",
     "exception": false,
     "start_time": "2022-07-18T03:21:17.396685",
     "status": "completed"
    },
    "tags": []
   },
   "outputs": [
    {
     "data": {
      "image/png": "[encoded data removed]",
      "text/plain": [
       "<Figure size 432x288 with 1 Axes>"
      ]
     },
     "metadata": {
      "needs_background": "light"
     },
     "output_type": "display_data"
    }
   ],
   "source": [
    "plt.hist(oof_xgb.oof_pred.values, bins=100)\n",
    "plt.title('OOF Predictions')\n",
    "plt.show()"
   ]
  },
  {
   "cell_type": "markdown",
   "id": "bdb48d29",
   "metadata": {
    "papermill": {
     "duration": 0.031226,
     "end_time": "2022-07-18T03:21:17.879567",
     "exception": false,
     "start_time": "2022-07-18T03:21:17.848341",
     "status": "completed"
    },
    "tags": []
   },
   "source": [
    "Now that we have the forecasts saved as a csv file, we remove the variables. The reason for repeating this process of saving to a file and freeing memory is that the RAM supported by Kaggle is not that large. In general, even in the local environment, RAM is not enough, so it may shut down while referencing or copying the memory. \n",
    "\n",
    "So, to prevent this, it is recommended to save files to the hard-disk and keep the RAM lightly."
   ]
  },
  {
   "cell_type": "code",
   "execution_count": 43,
   "id": "ded7d1d0",
   "metadata": {
    "execution": {
     "iopub.execute_input": "2022-07-18T03:21:17.945510Z",
     "iopub.status.busy": "2022-07-18T03:21:17.945156Z",
     "iopub.status.idle": "2022-07-18T03:21:18.117554Z",
     "shell.execute_reply": "2022-07-18T03:21:18.116429Z"
    },
    "papermill": {
     "duration": 0.207531,
     "end_time": "2022-07-18T03:21:18.120188",
     "exception": false,
     "start_time": "2022-07-18T03:21:17.912657",
     "status": "completed"
    },
    "tags": []
   },
   "outputs": [],
   "source": [
    "del oof_xgb, oof\n",
    "_ = gc.collect()"
   ]
  },
  {
   "cell_type": "code",
   "execution_count": 44,
   "id": "a21dd2c3",
   "metadata": {
    "execution": {
     "iopub.execute_input": "2022-07-18T03:21:18.185926Z",
     "iopub.status.busy": "2022-07-18T03:21:18.185617Z",
     "iopub.status.idle": "2022-07-18T03:21:18.951747Z",
     "shell.execute_reply": "2022-07-18T03:21:18.950731Z"
    },
    "papermill": {
     "duration": 0.799468,
     "end_time": "2022-07-18T03:21:18.953873",
     "exception": false,
     "start_time": "2022-07-18T03:21:18.154405",
     "status": "completed"
    },
    "tags": []
   },
   "outputs": [
    {
     "name": "stdout",
     "output_type": "stream",
     "text": [
      "Mon Jul 18 03:21:18 2022       \r\n",
      "+-----------------------------------------------------------------------------+\r\n",
      "| NVIDIA-SMI 470.82.01    Driver Version: 470.82.01    CUDA Version: 11.4     |\r\n",
      "|-------------------------------+----------------------+----------------------+\r\n",
      "| GPU  Name        Persistence-M| Bus-Id        Disp.A | Volatile Uncorr. ECC |\r\n",
      "| Fan  Temp  Perf  Pwr:Usage/Cap|         Memory-Usage | GPU-Util  Compute M. |\r\n",
      "|                               |                      |               MIG M. |\r\n",
      "|===============================+======================+======================|\r\n",
      "|   0  Tesla P100-PCIE...  Off  | 00000000:00:04.0 Off |                    0 |\r\n",
      "| N/A   62C    P0    40W / 250W |   7823MiB / 16280MiB |      0%      Default |\r\n",
      "|                               |                      |                  N/A |\r\n",
      "+-------------------------------+----------------------+----------------------+\r\n",
      "                                                                               \r\n",
      "+-----------------------------------------------------------------------------+\r\n",
      "| Processes:                                                                  |\r\n",
      "|  GPU   GI   CI        PID   Type   Process name                  GPU Memory |\r\n",
      "|        ID   ID                                                   Usage      |\r\n",
      "|=============================================================================|\r\n",
      "+-----------------------------------------------------------------------------+\r\n"
     ]
    }
   ],
   "source": [
    "!nvidia-smi"
   ]
  },
  {
   "cell_type": "markdown",
   "id": "4671bbff",
   "metadata": {
    "papermill": {
     "duration": 0.030474,
     "end_time": "2022-07-18T03:21:19.016252",
     "exception": false,
     "start_time": "2022-07-18T03:21:18.985778",
     "status": "completed"
    },
    "tags": []
   },
   "source": [
    "# 6. Feature Importance"
   ]
  },
  {
   "cell_type": "markdown",
   "id": "75c74020",
   "metadata": {
    "papermill": {
     "duration": 0.02986,
     "end_time": "2022-07-18T03:21:19.076613",
     "exception": false,
     "start_time": "2022-07-18T03:21:19.046753",
     "status": "completed"
    },
    "tags": []
   },
   "source": [
    "Feature Importance is information about which variable is highly utilized in the model's task(prediction. here). \n",
    "\n",
    "After traininig the model, looking at this, if there are variables that are not important to the prediction, they will be removed, and the variables with excessive importance will go through a feedback process such as checking causality or correlation with the prediction target."
   ]
  },
  {
   "cell_type": "code",
   "execution_count": 45,
   "id": "0ccbe7f8",
   "metadata": {
    "execution": {
     "iopub.execute_input": "2022-07-18T03:21:19.138061Z",
     "iopub.status.busy": "2022-07-18T03:21:19.137698Z",
     "iopub.status.idle": "2022-07-18T03:21:19.169236Z",
     "shell.execute_reply": "2022-07-18T03:21:19.168508Z"
    },
    "papermill": {
     "duration": 0.064554,
     "end_time": "2022-07-18T03:21:19.171283",
     "exception": false,
     "start_time": "2022-07-18T03:21:19.106729",
     "status": "completed"
    },
    "tags": []
   },
   "outputs": [],
   "source": [
    "import matplotlib.pyplot as plt\n",
    "\n",
    "# While performing cross-validation, importances must have been accumulated as mush as the number of FOLDs(5).\n",
    "# So, Calculate the average importance per feature by merging into the df variable.\n",
    "df = importances[0].copy()\n",
    "for k in range(1,FOLDS):\n",
    "    df = df.merge(importances[k], on='feature', how='left')\n",
    "df['importance'] = df.iloc[:,1:].mean(axis=1)\n",
    "df = df.sort_values('importance',ascending=False)\n",
    "df.to_csv(f'xgb_feature_importance_v{VER}.csv',index=False)"
   ]
  },
  {
   "cell_type": "code",
   "execution_count": 46,
   "id": "fec81b16",
   "metadata": {
    "execution": {
     "iopub.execute_input": "2022-07-18T03:21:19.234226Z",
     "iopub.status.busy": "2022-07-18T03:21:19.233355Z",
     "iopub.status.idle": "2022-07-18T03:21:19.254405Z",
     "shell.execute_reply": "2022-07-18T03:21:19.253584Z"
    },
    "papermill": {
     "duration": 0.054537,
     "end_time": "2022-07-18T03:21:19.256278",
     "exception": false,
     "start_time": "2022-07-18T03:21:19.201741",
     "status": "completed"
    },
    "tags": []
   },
   "outputs": [
    {
     "data": {
      "text/html": [
       "<div>\n",
       "<style scoped>\n",
       "    .dataframe tbody tr th:only-of-type {\n",
       "        vertical-align: middle;\n",
       "    }\n",
       "\n",
       "    .dataframe tbody tr th {\n",
       "        vertical-align: top;\n",
       "    }\n",
       "\n",
       "    .dataframe thead th {\n",
       "        text-align: right;\n",
       "    }\n",
       "</style>\n",
       "<table border=\"1\" class=\"dataframe\">\n",
       "  <thead>\n",
       "    <tr style=\"text-align: right;\">\n",
       "      <th></th>\n",
       "      <th>feature</th>\n",
       "      <th>importance_0</th>\n",
       "      <th>importance_1</th>\n",
       "      <th>importance_2</th>\n",
       "      <th>importance_3</th>\n",
       "      <th>importance_4</th>\n",
       "      <th>importance</th>\n",
       "    </tr>\n",
       "  </thead>\n",
       "  <tbody>\n",
       "    <tr>\n",
       "      <th>4</th>\n",
       "      <td>P_2_last</td>\n",
       "      <td>291.0</td>\n",
       "      <td>331.0</td>\n",
       "      <td>287.0</td>\n",
       "      <td>299.0</td>\n",
       "      <td>329.0</td>\n",
       "      <td>307.4</td>\n",
       "    </tr>\n",
       "    <tr>\n",
       "      <th>9</th>\n",
       "      <td>D_39_last</td>\n",
       "      <td>197.0</td>\n",
       "      <td>203.0</td>\n",
       "      <td>204.0</td>\n",
       "      <td>215.0</td>\n",
       "      <td>213.0</td>\n",
       "      <td>206.4</td>\n",
       "    </tr>\n",
       "    <tr>\n",
       "      <th>39</th>\n",
       "      <td>B_3_last</td>\n",
       "      <td>160.0</td>\n",
       "      <td>157.0</td>\n",
       "      <td>174.0</td>\n",
       "      <td>161.0</td>\n",
       "      <td>201.0</td>\n",
       "      <td>170.6</td>\n",
       "    </tr>\n",
       "    <tr>\n",
       "      <th>59</th>\n",
       "      <td>B_4_last</td>\n",
       "      <td>163.0</td>\n",
       "      <td>179.0</td>\n",
       "      <td>146.0</td>\n",
       "      <td>166.0</td>\n",
       "      <td>170.0</td>\n",
       "      <td>164.8</td>\n",
       "    </tr>\n",
       "    <tr>\n",
       "      <th>0</th>\n",
       "      <td>P_2_mean</td>\n",
       "      <td>160.0</td>\n",
       "      <td>169.0</td>\n",
       "      <td>153.0</td>\n",
       "      <td>138.0</td>\n",
       "      <td>189.0</td>\n",
       "      <td>161.8</td>\n",
       "    </tr>\n",
       "    <tr>\n",
       "      <th>...</th>\n",
       "      <td>...</td>\n",
       "      <td>...</td>\n",
       "      <td>...</td>\n",
       "      <td>...</td>\n",
       "      <td>...</td>\n",
       "      <td>...</td>\n",
       "      <td>...</td>\n",
       "    </tr>\n",
       "    <tr>\n",
       "      <th>542</th>\n",
       "      <td>D_93_max</td>\n",
       "      <td>1.0</td>\n",
       "      <td>NaN</td>\n",
       "      <td>NaN</td>\n",
       "      <td>NaN</td>\n",
       "      <td>NaN</td>\n",
       "      <td>1.0</td>\n",
       "    </tr>\n",
       "    <tr>\n",
       "      <th>72</th>\n",
       "      <td>R_2_max</td>\n",
       "      <td>1.0</td>\n",
       "      <td>1.0</td>\n",
       "      <td>NaN</td>\n",
       "      <td>NaN</td>\n",
       "      <td>NaN</td>\n",
       "      <td>1.0</td>\n",
       "    </tr>\n",
       "    <tr>\n",
       "      <th>644</th>\n",
       "      <td>B_39_min</td>\n",
       "      <td>1.0</td>\n",
       "      <td>1.0</td>\n",
       "      <td>NaN</td>\n",
       "      <td>1.0</td>\n",
       "      <td>1.0</td>\n",
       "      <td>1.0</td>\n",
       "    </tr>\n",
       "    <tr>\n",
       "      <th>431</th>\n",
       "      <td>D_82_min</td>\n",
       "      <td>1.0</td>\n",
       "      <td>1.0</td>\n",
       "      <td>NaN</td>\n",
       "      <td>1.0</td>\n",
       "      <td>1.0</td>\n",
       "      <td>1.0</td>\n",
       "    </tr>\n",
       "    <tr>\n",
       "      <th>545</th>\n",
       "      <td>D_94_min</td>\n",
       "      <td>1.0</td>\n",
       "      <td>NaN</td>\n",
       "      <td>NaN</td>\n",
       "      <td>NaN</td>\n",
       "      <td>NaN</td>\n",
       "      <td>1.0</td>\n",
       "    </tr>\n",
       "  </tbody>\n",
       "</table>\n",
       "<p>811 rows × 7 columns</p>\n",
       "</div>"
      ],
      "text/plain": [
       "       feature  importance_0  importance_1  importance_2  importance_3  \\\n",
       "4     P_2_last         291.0         331.0         287.0         299.0   \n",
       "9    D_39_last         197.0         203.0         204.0         215.0   \n",
       "39    B_3_last         160.0         157.0         174.0         161.0   \n",
       "59    B_4_last         163.0         179.0         146.0         166.0   \n",
       "0     P_2_mean         160.0         169.0         153.0         138.0   \n",
       "..         ...           ...           ...           ...           ...   \n",
       "542   D_93_max           1.0           NaN           NaN           NaN   \n",
       "72     R_2_max           1.0           1.0           NaN           NaN   \n",
       "644   B_39_min           1.0           1.0           NaN           1.0   \n",
       "431   D_82_min           1.0           1.0           NaN           1.0   \n",
       "545   D_94_min           1.0           NaN           NaN           NaN   \n",
       "\n",
       "     importance_4  importance  \n",
       "4           329.0       307.4  \n",
       "9           213.0       206.4  \n",
       "39          201.0       170.6  \n",
       "59          170.0       164.8  \n",
       "0           189.0       161.8  \n",
       "..            ...         ...  \n",
       "542           NaN         1.0  \n",
       "72            NaN         1.0  \n",
       "644           1.0         1.0  \n",
       "431           1.0         1.0  \n",
       "545           NaN         1.0  \n",
       "\n",
       "[811 rows x 7 columns]"
      ]
     },
     "execution_count": 46,
     "metadata": {},
     "output_type": "execute_result"
    }
   ],
   "source": [
    "df"
   ]
  },
  {
   "cell_type": "markdown",
   "id": "582d69cb",
   "metadata": {
    "papermill": {
     "duration": 0.030278,
     "end_time": "2022-07-18T03:21:19.318164",
     "exception": false,
     "start_time": "2022-07-18T03:21:19.287886",
     "status": "completed"
    },
    "tags": []
   },
   "source": [
    "Visualize only the top 20 features by importance with a bar chart."
   ]
  },
  {
   "cell_type": "code",
   "execution_count": 47,
   "id": "c3cfae07",
   "metadata": {
    "execution": {
     "iopub.execute_input": "2022-07-18T03:21:19.381407Z",
     "iopub.status.busy": "2022-07-18T03:21:19.380856Z",
     "iopub.status.idle": "2022-07-18T03:21:19.639813Z",
     "shell.execute_reply": "2022-07-18T03:21:19.639000Z"
    },
    "papermill": {
     "duration": 0.293135,
     "end_time": "2022-07-18T03:21:19.641869",
     "exception": false,
     "start_time": "2022-07-18T03:21:19.348734",
     "status": "completed"
    },
    "tags": []
   },
   "outputs": [
    {
     "data": {
      "image/png": "[encoded data removed]",
      "text/plain": [
       "<Figure size 720x720 with 1 Axes>"
      ]
     },
     "metadata": {
      "needs_background": "light"
     },
     "output_type": "display_data"
    }
   ],
   "source": [
    "NUM_FEATURES = 20\n",
    "plt.figure(figsize=(10,5*NUM_FEATURES//10))\n",
    "plt.barh(np.arange(NUM_FEATURES,0,-1), df.importance.values[:NUM_FEATURES])\n",
    "plt.yticks(np.arange(NUM_FEATURES,0,-1), df.feature.values[:NUM_FEATURES])\n",
    "plt.title(f'XGB Feature Importance - Top {NUM_FEATURES}')\n",
    "plt.show()"
   ]
  },
  {
   "cell_type": "markdown",
   "id": "d052d368",
   "metadata": {
    "papermill": {
     "duration": 0.031006,
     "end_time": "2022-07-18T03:21:19.704699",
     "exception": false,
     "start_time": "2022-07-18T03:21:19.673693",
     "status": "completed"
    },
    "tags": []
   },
   "source": [
    "# 7. Data Processing and Feature Engineering for Test Data"
   ]
  },
  {
   "cell_type": "markdown",
   "id": "1f7eb1b8",
   "metadata": {
    "papermill": {
     "duration": 0.030552,
     "end_time": "2022-07-18T03:21:19.766504",
     "exception": false,
     "start_time": "2022-07-18T03:21:19.735952",
     "status": "completed"
    },
    "tags": []
   },
   "source": [
    "We wonder if a particular customer will repay the expense. So, let's get the unique customer_ID first."
   ]
  },
  {
   "cell_type": "code",
   "execution_count": 48,
   "id": "a98bd295",
   "metadata": {
    "execution": {
     "iopub.execute_input": "2022-07-18T03:21:19.832501Z",
     "iopub.status.busy": "2022-07-18T03:21:19.831608Z",
     "iopub.status.idle": "2022-07-18T03:22:52.142486Z",
     "shell.execute_reply": "2022-07-18T03:22:52.141697Z"
    },
    "papermill": {
     "duration": 92.377751,
     "end_time": "2022-07-18T03:22:52.176311",
     "exception": false,
     "start_time": "2022-07-18T03:21:19.798560",
     "status": "completed"
    },
    "tags": []
   },
   "outputs": [
    {
     "name": "stdout",
     "output_type": "stream",
     "text": [
      "shape of data: (11363762, 2)\n"
     ]
    },
    {
     "data": {
      "text/html": [
       "<div>\n",
       "<style scoped>\n",
       "    .dataframe tbody tr th:only-of-type {\n",
       "        vertical-align: middle;\n",
       "    }\n",
       "\n",
       "    .dataframe tbody tr th {\n",
       "        vertical-align: top;\n",
       "    }\n",
       "\n",
       "    .dataframe thead th {\n",
       "        text-align: right;\n",
       "    }\n",
       "</style>\n",
       "<table border=\"1\" class=\"dataframe\">\n",
       "  <thead>\n",
       "    <tr style=\"text-align: right;\">\n",
       "      <th></th>\n",
       "      <th>customer_ID</th>\n",
       "      <th>S_2</th>\n",
       "    </tr>\n",
       "  </thead>\n",
       "  <tbody>\n",
       "    <tr>\n",
       "      <th>0</th>\n",
       "      <td>8717704911770597815</td>\n",
       "      <td>2019-02-19</td>\n",
       "    </tr>\n",
       "    <tr>\n",
       "      <th>1</th>\n",
       "      <td>8717704911770597815</td>\n",
       "      <td>2019-03-25</td>\n",
       "    </tr>\n",
       "    <tr>\n",
       "      <th>2</th>\n",
       "      <td>8717704911770597815</td>\n",
       "      <td>2019-04-25</td>\n",
       "    </tr>\n",
       "    <tr>\n",
       "      <th>3</th>\n",
       "      <td>8717704911770597815</td>\n",
       "      <td>2019-05-20</td>\n",
       "    </tr>\n",
       "    <tr>\n",
       "      <th>4</th>\n",
       "      <td>8717704911770597815</td>\n",
       "      <td>2019-06-15</td>\n",
       "    </tr>\n",
       "    <tr>\n",
       "      <th>...</th>\n",
       "      <td>...</td>\n",
       "      <td>...</td>\n",
       "    </tr>\n",
       "    <tr>\n",
       "      <th>11363757</th>\n",
       "      <td>-1477111782539041971</td>\n",
       "      <td>2018-12-19</td>\n",
       "    </tr>\n",
       "    <tr>\n",
       "      <th>11363758</th>\n",
       "      <td>-1477111782539041971</td>\n",
       "      <td>2019-01-19</td>\n",
       "    </tr>\n",
       "    <tr>\n",
       "      <th>11363759</th>\n",
       "      <td>-1477111782539041971</td>\n",
       "      <td>2019-02-17</td>\n",
       "    </tr>\n",
       "    <tr>\n",
       "      <th>11363760</th>\n",
       "      <td>-1477111782539041971</td>\n",
       "      <td>2019-03-19</td>\n",
       "    </tr>\n",
       "    <tr>\n",
       "      <th>11363761</th>\n",
       "      <td>-1477111782539041971</td>\n",
       "      <td>2019-04-18</td>\n",
       "    </tr>\n",
       "  </tbody>\n",
       "</table>\n",
       "<p>11363762 rows × 2 columns</p>\n",
       "</div>"
      ],
      "text/plain": [
       "                  customer_ID        S_2\n",
       "0         8717704911770597815 2019-02-19\n",
       "1         8717704911770597815 2019-03-25\n",
       "2         8717704911770597815 2019-04-25\n",
       "3         8717704911770597815 2019-05-20\n",
       "4         8717704911770597815 2019-06-15\n",
       "...                       ...        ...\n",
       "11363757 -1477111782539041971 2018-12-19\n",
       "11363758 -1477111782539041971 2019-01-19\n",
       "11363759 -1477111782539041971 2019-02-17\n",
       "11363760 -1477111782539041971 2019-03-19\n",
       "11363761 -1477111782539041971 2019-04-18\n",
       "\n",
       "[11363762 rows x 2 columns]"
      ]
     },
     "execution_count": 48,
     "metadata": {},
     "output_type": "execute_result"
    }
   ],
   "source": [
    "TEST_PATH = '../input/amex-data-integer-dtypes-parquet-format/test.parquet'\n",
    "test = read_file_CPU(path = TEST_PATH, usecols = ['customer_ID','S_2'])\n",
    "test"
   ]
  },
  {
   "cell_type": "code",
   "execution_count": 49,
   "id": "a200e07a",
   "metadata": {
    "execution": {
     "iopub.execute_input": "2022-07-18T03:22:52.241707Z",
     "iopub.status.busy": "2022-07-18T03:22:52.241392Z",
     "iopub.status.idle": "2022-07-18T03:22:52.621601Z",
     "shell.execute_reply": "2022-07-18T03:22:52.620853Z"
    },
    "papermill": {
     "duration": 0.41452,
     "end_time": "2022-07-18T03:22:52.623402",
     "exception": false,
     "start_time": "2022-07-18T03:22:52.208882",
     "status": "completed"
    },
    "tags": []
   },
   "outputs": [
    {
     "data": {
      "text/plain": [
       "array([ 8717704911770597815,  4783907996972277493,  4616129756878093544,\n",
       "       ...,   674735392150270193,  3353833074890263815,\n",
       "       -1477111782539041971])"
      ]
     },
     "execution_count": 49,
     "metadata": {},
     "output_type": "execute_result"
    }
   ],
   "source": [
    "customers = test[['customer_ID']].drop_duplicates().sort_index().values.flatten()\n",
    "customers"
   ]
  },
  {
   "cell_type": "markdown",
   "id": "dab6a769",
   "metadata": {
    "papermill": {
     "duration": 0.032248,
     "end_time": "2022-07-18T03:22:52.688918",
     "exception": false,
     "start_time": "2022-07-18T03:22:52.656670",
     "status": "completed"
    },
    "tags": []
   },
   "source": [
    "In this way, ID information is secured, and the default is predicted for each ID. Now we will load the test dataset. For now we needs only 2 columns, but like the train data, full dataset is very large. Therefore, we will load the dataset to the CPU in batch form as many as PART's, then pass each PART to the GPU so that the model can make predictions.\n",
    "\n",
    "To do this, a criterion for dividing the PART is required. And the criterion requires two things: the row size in the test dataset before the duplicate customer_ID is removed, and the constant chunk size that after removing the duplicate.\n",
    "\n",
    "Do you remember the process_and_feature_engineer() function we created earlier? If the function passes, the duplicate of customer_ID is removed through group_by aggregation and it is replaced with statistical values. This is a method of performing prediction by passing the transformed dataset in chunk size.\n",
    "\n",
    "So, let's create a function for this process and execute that."
   ]
  },
  {
   "cell_type": "code",
   "execution_count": 50,
   "id": "41348242",
   "metadata": {
    "execution": {
     "iopub.execute_input": "2022-07-18T03:22:52.754678Z",
     "iopub.status.busy": "2022-07-18T03:22:52.753797Z",
     "iopub.status.idle": "2022-07-18T03:22:52.761717Z",
     "shell.execute_reply": "2022-07-18T03:22:52.760965Z"
    },
    "papermill": {
     "duration": 0.042393,
     "end_time": "2022-07-18T03:22:52.763369",
     "exception": false,
     "start_time": "2022-07-18T03:22:52.720976",
     "status": "completed"
    },
    "tags": []
   },
   "outputs": [],
   "source": [
    "def get_rows(customers, test, NUM_PARTS = 10, verbose = ''):\n",
    "    # One chunk(size of PART) can be obtained by dividing the size of the entire test-dataset by the number of PARTs.\n",
    "    # It is similar to finding the batch size when training the model.\n",
    "    chunk = len(customers)//NUM_PARTS\n",
    "    if verbose != '':\n",
    "        print(f'We will process {verbose} data as {NUM_PARTS} separate parts.')\n",
    "        print(f'There will be {chunk} customers in each part (except the last part).')\n",
    "        print('Below are number of rows in each part:')\n",
    "    rows = []\n",
    "\n",
    "    for k in range(NUM_PARTS):\n",
    "        # Keep the remain to cc if this PART is the last one.\n",
    "        if k==NUM_PARTS-1: \n",
    "            cc = customers[k*chunk:]\n",
    "        # If not the last PART, cut it in chunks from the front and put it in cc.\n",
    "        else: \n",
    "            cc = customers[k*chunk:(k+1)*chunk]\n",
    "        # Calculate the PART size by finding the number of customer_IDs included in the current PART.\n",
    "        s = test.loc[test.customer_ID.isin(cc)].shape[0]\n",
    "        # rows contain the size of 10 PARTs.\n",
    "        rows.append(s)\n",
    "    if verbose != '': print( rows )\n",
    "    return rows, chunk\n",
    "\n"
   ]
  },
  {
   "cell_type": "markdown",
   "id": "7986398f",
   "metadata": {
    "execution": {
     "iopub.execute_input": "2022-07-15T13:29:13.319608Z",
     "iopub.status.busy": "2022-07-15T13:29:13.319054Z",
     "iopub.status.idle": "2022-07-15T13:29:13.327749Z",
     "shell.execute_reply": "2022-07-15T13:29:13.326253Z",
     "shell.execute_reply.started": "2022-07-15T13:29:13.319567Z"
    },
    "papermill": {
     "duration": 0.031092,
     "end_time": "2022-07-18T03:22:52.826454",
     "exception": false,
     "start_time": "2022-07-18T03:22:52.795362",
     "status": "completed"
    },
    "tags": []
   },
   "source": [
    "Now, with the function created above, we will divide customer_ID into a total of 10 groups(PARTs)"
   ]
  },
  {
   "cell_type": "code",
   "execution_count": 51,
   "id": "6651c480",
   "metadata": {
    "execution": {
     "iopub.execute_input": "2022-07-18T03:22:52.891968Z",
     "iopub.status.busy": "2022-07-18T03:22:52.891630Z",
     "iopub.status.idle": "2022-07-18T03:22:54.151223Z",
     "shell.execute_reply": "2022-07-18T03:22:54.149449Z"
    },
    "papermill": {
     "duration": 1.295648,
     "end_time": "2022-07-18T03:22:54.154043",
     "exception": false,
     "start_time": "2022-07-18T03:22:52.858395",
     "status": "completed"
    },
    "tags": []
   },
   "outputs": [
    {
     "name": "stdout",
     "output_type": "stream",
     "text": [
      "We will process test data as 10 separate parts.\n",
      "There will be 92462 customers in each part (except the last part).\n",
      "Below are number of rows in each part:\n",
      "[1136415, 1137255, 1135580, 1135734, 1136082, 1137166, 1136612, 1137228, 1136301, 1135389]\n"
     ]
    }
   ],
   "source": [
    "# In the original code, the test dataset was divided into four.\n",
    "# But in case of using a kaggle server, you will get a GPU memory overflow error when you specify 4r, so we will divide it into 10.\n",
    "NUM_PARTS = 10\n",
    "rows,num_cust = get_rows(customers, test[['customer_ID']], NUM_PARTS = NUM_PARTS, verbose = 'test')"
   ]
  },
  {
   "cell_type": "markdown",
   "id": "fa7d94a9",
   "metadata": {
    "execution": {
     "iopub.execute_input": "2022-07-15T13:34:33.019863Z",
     "iopub.status.busy": "2022-07-15T13:34:33.019463Z",
     "iopub.status.idle": "2022-07-15T13:34:33.026719Z",
     "shell.execute_reply": "2022-07-15T13:34:33.025412Z",
     "shell.execute_reply.started": "2022-07-15T13:34:33.019831Z"
    },
    "papermill": {
     "duration": 0.030775,
     "end_time": "2022-07-18T03:22:54.217298",
     "exception": false,
     "start_time": "2022-07-18T03:22:54.186523",
     "status": "completed"
    },
    "tags": []
   },
   "source": [
    "On the last line, the size of each PART is printed. The size referred to here is the size including duplicates from the raw test dataset, not the chunk size.\n",
    "\n",
    "Therefore, it should be equal to the size of the test dataset when added together."
   ]
  },
  {
   "cell_type": "code",
   "execution_count": 52,
   "id": "a821a411",
   "metadata": {
    "execution": {
     "iopub.execute_input": "2022-07-18T03:22:54.282013Z",
     "iopub.status.busy": "2022-07-18T03:22:54.281400Z",
     "iopub.status.idle": "2022-07-18T03:22:54.287430Z",
     "shell.execute_reply": "2022-07-18T03:22:54.286592Z"
    },
    "papermill": {
     "duration": 0.040721,
     "end_time": "2022-07-18T03:22:54.289322",
     "exception": false,
     "start_time": "2022-07-18T03:22:54.248601",
     "status": "completed"
    },
    "tags": []
   },
   "outputs": [
    {
     "data": {
      "text/plain": [
       "True"
      ]
     },
     "execution_count": 52,
     "metadata": {},
     "output_type": "execute_result"
    }
   ],
   "source": [
    "sum(rows) == len(test)"
   ]
  },
  {
   "cell_type": "markdown",
   "id": "9ef6d24a",
   "metadata": {
    "papermill": {
     "duration": 0.031898,
     "end_time": "2022-07-18T03:22:54.352132",
     "exception": false,
     "start_time": "2022-07-18T03:22:54.320234",
     "status": "completed"
    },
    "tags": []
   },
   "source": [
    "and chunk size is,"
   ]
  },
  {
   "cell_type": "code",
   "execution_count": 53,
   "id": "b49aabe1",
   "metadata": {
    "execution": {
     "iopub.execute_input": "2022-07-18T03:22:54.417719Z",
     "iopub.status.busy": "2022-07-18T03:22:54.416913Z",
     "iopub.status.idle": "2022-07-18T03:22:54.422260Z",
     "shell.execute_reply": "2022-07-18T03:22:54.421528Z"
    },
    "papermill": {
     "duration": 0.040255,
     "end_time": "2022-07-18T03:22:54.424028",
     "exception": false,
     "start_time": "2022-07-18T03:22:54.383773",
     "status": "completed"
    },
    "tags": []
   },
   "outputs": [
    {
     "data": {
      "text/plain": [
       "92462"
      ]
     },
     "execution_count": 53,
     "metadata": {},
     "output_type": "execute_result"
    }
   ],
   "source": [
    "num_cust"
   ]
  },
  {
   "cell_type": "markdown",
   "id": "469d4ad9",
   "metadata": {
    "papermill": {
     "duration": 0.032077,
     "end_time": "2022-07-18T03:22:54.487116",
     "exception": false,
     "start_time": "2022-07-18T03:22:54.455039",
     "status": "completed"
    },
    "tags": []
   },
   "source": [
    "Remove the loaded test data and deallocate memory."
   ]
  },
  {
   "cell_type": "code",
   "execution_count": 54,
   "id": "4e496782",
   "metadata": {
    "execution": {
     "iopub.execute_input": "2022-07-18T03:22:54.551092Z",
     "iopub.status.busy": "2022-07-18T03:22:54.550780Z",
     "iopub.status.idle": "2022-07-18T03:22:54.683838Z",
     "shell.execute_reply": "2022-07-18T03:22:54.682884Z"
    },
    "papermill": {
     "duration": 0.167653,
     "end_time": "2022-07-18T03:22:54.686009",
     "exception": false,
     "start_time": "2022-07-18T03:22:54.518356",
     "status": "completed"
    },
    "tags": []
   },
   "outputs": [],
   "source": [
    "del test\n",
    "_ = gc.collect()"
   ]
  },
  {
   "cell_type": "code",
   "execution_count": 55,
   "id": "96054868",
   "metadata": {
    "execution": {
     "iopub.execute_input": "2022-07-18T03:22:54.751690Z",
     "iopub.status.busy": "2022-07-18T03:22:54.750860Z",
     "iopub.status.idle": "2022-07-18T03:22:55.513403Z",
     "shell.execute_reply": "2022-07-18T03:22:55.512434Z"
    },
    "papermill": {
     "duration": 0.796497,
     "end_time": "2022-07-18T03:22:55.515323",
     "exception": false,
     "start_time": "2022-07-18T03:22:54.718826",
     "status": "completed"
    },
    "tags": []
   },
   "outputs": [
    {
     "name": "stdout",
     "output_type": "stream",
     "text": [
      "Mon Jul 18 03:22:55 2022       \r\n",
      "+-----------------------------------------------------------------------------+\r\n",
      "| NVIDIA-SMI 470.82.01    Driver Version: 470.82.01    CUDA Version: 11.4     |\r\n",
      "|-------------------------------+----------------------+----------------------+\r\n",
      "| GPU  Name        Persistence-M| Bus-Id        Disp.A | Volatile Uncorr. ECC |\r\n",
      "| Fan  Temp  Perf  Pwr:Usage/Cap|         Memory-Usage | GPU-Util  Compute M. |\r\n",
      "|                               |                      |               MIG M. |\r\n",
      "|===============================+======================+======================|\r\n",
      "|   0  Tesla P100-PCIE...  Off  | 00000000:00:04.0 Off |                    0 |\r\n",
      "| N/A   49C    P0    35W / 250W |   7823MiB / 16280MiB |      0%      Default |\r\n",
      "|                               |                      |                  N/A |\r\n",
      "+-------------------------------+----------------------+----------------------+\r\n",
      "                                                                               \r\n",
      "+-----------------------------------------------------------------------------+\r\n",
      "| Processes:                                                                  |\r\n",
      "|  GPU   GI   CI        PID   Type   Process name                  GPU Memory |\r\n",
      "|        ID   ID                                                   Usage      |\r\n",
      "|=============================================================================|\r\n",
      "+-----------------------------------------------------------------------------+\r\n"
     ]
    }
   ],
   "source": [
    "!nvidia-smi"
   ]
  },
  {
   "cell_type": "markdown",
   "id": "809f5d06",
   "metadata": {
    "papermill": {
     "duration": 0.030915,
     "end_time": "2022-07-18T03:22:55.578153",
     "exception": false,
     "start_time": "2022-07-18T03:22:55.547238",
     "status": "completed"
    },
    "tags": []
   },
   "source": [
    "# 8. Infer Test"
   ]
  },
  {
   "cell_type": "markdown",
   "id": "2a154a13",
   "metadata": {
    "papermill": {
     "duration": 0.042127,
     "end_time": "2022-07-18T03:22:55.651809",
     "exception": false,
     "start_time": "2022-07-18T03:22:55.609682",
     "status": "completed"
    },
    "tags": []
   },
   "source": [
    "Through the code below, we divide the data into 10 PARTs through iteration, and then process the data for modeling and predict default using our model. The specific process is as follows.\n",
    "\n",
    "1. Devide the original test dataset into batches so that each PART can be included and load it to the CPU memory.\n",
    "2. The PART is loaded to the GPU for calculation again,\n",
    "3. Using the process_and_feature_engineering() function, convert raw data to statistical dataset for prediction.\n",
    "4. Then, the shape of dataset will be different. At this time, indexing can be performed with the chunk size obtained above.\n",
    "5. Index by chunk size and then predict default with the model.\n",
    "6. When prediction for all chunks is finished, merge and return the prediction result for the entire customer_ID."
   ]
  },
  {
   "cell_type": "code",
   "execution_count": 56,
   "id": "408f3a9d",
   "metadata": {
    "execution": {
     "iopub.execute_input": "2022-07-18T03:22:55.720864Z",
     "iopub.status.busy": "2022-07-18T03:22:55.720516Z",
     "iopub.status.idle": "2022-07-18T03:28:49.900594Z",
     "shell.execute_reply": "2022-07-18T03:28:49.899750Z"
    },
    "papermill": {
     "duration": 354.217171,
     "end_time": "2022-07-18T03:28:49.903885",
     "exception": false,
     "start_time": "2022-07-18T03:22:55.686714",
     "status": "completed"
    },
    "tags": []
   },
   "outputs": [
    {
     "name": "stdout",
     "output_type": "stream",
     "text": [
      "\n",
      "Reading test data...\n",
      "shape of data: (1137255, 190)\n",
      "=> Test part 1 has shape (1137255, 190)\n",
      "shape after engineering (92532, 918)\n",
      "shape after indexing(by chunk size) (92462, 918)\n",
      "\n",
      "Reading test data...\n",
      "shape of data: (2274510, 190)\n",
      "=> Test part 2 has shape (2274510, 190)\n",
      "shape after engineering (184991, 918)\n",
      "shape after indexing(by chunk size) (92462, 918)\n",
      "\n",
      "Reading test data...\n",
      "shape of data: (2274510, 190)\n",
      "=> Test part 3 has shape (2274510, 190)\n",
      "shape after engineering (185063, 918)\n",
      "shape after indexing(by chunk size) (92462, 918)\n",
      "\n",
      "Reading test data...\n",
      "shape of data: (2274510, 190)\n",
      "=> Test part 4 has shape (2274510, 190)\n",
      "shape after engineering (185194, 918)\n",
      "shape after indexing(by chunk size) (92462, 918)\n",
      "\n",
      "Reading test data...\n",
      "shape of data: (2274510, 190)\n",
      "=> Test part 5 has shape (2274510, 190)\n",
      "shape after engineering (185142, 918)\n",
      "shape after indexing(by chunk size) (92462, 918)\n",
      "\n",
      "Reading test data...\n",
      "shape of data: (2274510, 190)\n",
      "=> Test part 6 has shape (2274510, 190)\n",
      "shape after engineering (185019, 918)\n",
      "shape after indexing(by chunk size) (92462, 918)\n",
      "\n",
      "Reading test data...\n",
      "shape of data: (2274510, 190)\n",
      "=> Test part 7 has shape (2274510, 190)\n",
      "shape after engineering (184980, 918)\n",
      "shape after indexing(by chunk size) (92462, 918)\n",
      "\n",
      "Reading test data...\n",
      "shape of data: (2274510, 190)\n",
      "=> Test part 8 has shape (2274510, 190)\n",
      "shape after engineering (184982, 918)\n",
      "shape after indexing(by chunk size) (92462, 918)\n",
      "\n",
      "Reading test data...\n",
      "shape of data: (2274510, 190)\n",
      "=> Test part 9 has shape (2274510, 190)\n",
      "shape after engineering (185007, 918)\n",
      "shape after indexing(by chunk size) (92462, 918)\n",
      "\n",
      "Reading test data...\n",
      "shape of data: (2265722, 190)\n",
      "=> Test part 10 has shape (2265722, 190)\n",
      "shape after engineering (184439, 918)\n",
      "shape after indexing(by chunk size) (92463, 918)\n"
     ]
    }
   ],
   "source": [
    "skip_rows = 0\n",
    "skip_cust = 0\n",
    "test_preds = []\n",
    "\n",
    "# Create an iteration object. By calling the object, you can raise as many rows as PART units to the CPU memory.\n",
    "TEST_PATH = '../input/amex-data-integer-dtypes-parquet-format/test.parquet'\n",
    "batch = ParquetFile(TEST_PATH)\n",
    "# Since batch_size is fixed at one time call, it is not possible to get a different PARt size each time.\n",
    "# Because of this, the customer_ID that should be predicted in the current batch is possible to already be loaded in the previous batch.\n",
    "# So, set the batch size to the largest PART size, and merge it with the previous PART so that all customer_IDs can be indexed.\n",
    "prev_batch = pd.DataFrame()\n",
    "for pres_batch, k in zip(batch.iter_batches(batch_size=max(rows)), range(NUM_PARTS)): \n",
    "    print(f'\\nReading test data...')\n",
    "    # Merge the dataset loaded from the previous batch and the current batch.\n",
    "    iter_batch = pd.concat([prev_batch, pres_batch.to_pandas()])\n",
    "    test_cpu = read_file_CPU(iter_batch = iter_batch, path = TEST_PATH)\n",
    "    # Then, Overwitten the previous batch with the current(present) batch.\n",
    "    # And clear the memory.\n",
    "    prev_batch = pres_batch.to_pandas()\n",
    "    del pres_batch, iter_batch\n",
    "    _ = gc.collect()\n",
    "    \n",
    "    # Load the PART into the GPU memory for pre-processing.\n",
    "    test_gpu = cudf.DataFrame(test_cpu)\n",
    "    skip_rows += rows[k]\n",
    "    print(f'=> Test part {k+1} has shape', test_gpu.shape)\n",
    "    \n",
    "    # With preprocessing, statistics are obtained for each customer_ID, and duplicate customer_IDs are removed.\n",
    "    # process_and_feature_engineer() uses cudf internally, not pandas.\n",
    "    # So, when preprocessing, the data must be placed on the GPU.\n",
    "    test_gpu = process_and_feature_engineer(test_gpu)\n",
    "    \n",
    "    # num_cust is the chunk size for de-duplicated customer_ID.\n",
    "    # We will do the credit default prediction for all customer_IDs by increasing the chunk size.\n",
    "    if k==NUM_PARTS-1: \n",
    "        test_gpu = test_gpu.loc[customers[skip_cust:]]\n",
    "    else: \n",
    "        test_gpu = test_gpu.loc[customers[skip_cust:skip_cust+num_cust]]\n",
    "    skip_cust += num_cust\n",
    "    print('shape after indexing(by chunk size)', test_gpu.shape)\n",
    "    \n",
    "    # Pass the features excluding the label from the test data to X_test.\n",
    "    X_test = test_gpu[FEATURES]\n",
    "    dtest = xgb.DMatrix(data=X_test)\n",
    "    del X_test\n",
    "    gc.collect()\n",
    "\n",
    "    # With our trained model, we can predict default.\n",
    "    # Our model was trained by cross-validation.\n",
    "    # Prediction is perfromed in the same way, and the prediction result can be obtained as the average value of all FOLD results.\n",
    "    model = xgb.Booster()\n",
    "    model.load_model(f'XGB_v{VER}_fold0.xgb')\n",
    "    preds = model.predict(dtest)\n",
    "    for f in range(1,FOLDS):\n",
    "        model.load_model(f'XGB_v{VER}_fold{f}.xgb')\n",
    "        preds += model.predict(dtest)\n",
    "    preds /= FOLDS\n",
    "    test_preds.append(preds)\n",
    "\n",
    "    # free the memory\n",
    "    del dtest, model\n",
    "    _ = gc.collect()"
   ]
  },
  {
   "cell_type": "markdown",
   "id": "3776e12f",
   "metadata": {
    "papermill": {
     "duration": 0.034712,
     "end_time": "2022-07-18T03:28:49.975778",
     "exception": false,
     "start_time": "2022-07-18T03:28:49.941066",
     "status": "completed"
    },
    "tags": []
   },
   "source": [
    "# 9. Create Submission CSV\n",
    "\n",
    "Finally, create a file for submission and visualize the test results."
   ]
  },
  {
   "cell_type": "code",
   "execution_count": 57,
   "id": "0bcf9e7d",
   "metadata": {
    "execution": {
     "iopub.execute_input": "2022-07-18T03:28:50.045949Z",
     "iopub.status.busy": "2022-07-18T03:28:50.045641Z",
     "iopub.status.idle": "2022-07-18T03:28:50.051157Z",
     "shell.execute_reply": "2022-07-18T03:28:50.050387Z"
    },
    "papermill": {
     "duration": 0.042778,
     "end_time": "2022-07-18T03:28:50.052896",
     "exception": false,
     "start_time": "2022-07-18T03:28:50.010118",
     "status": "completed"
    },
    "tags": []
   },
   "outputs": [
    {
     "data": {
      "text/plain": [
       "10"
      ]
     },
     "execution_count": 57,
     "metadata": {},
     "output_type": "execute_result"
    }
   ],
   "source": [
    "len(test_preds)"
   ]
  },
  {
   "cell_type": "code",
   "execution_count": 58,
   "id": "1039c185",
   "metadata": {
    "execution": {
     "iopub.execute_input": "2022-07-18T03:28:50.129311Z",
     "iopub.status.busy": "2022-07-18T03:28:50.129042Z",
     "iopub.status.idle": "2022-07-18T03:28:51.216703Z",
     "shell.execute_reply": "2022-07-18T03:28:51.215801Z"
    },
    "papermill": {
     "duration": 1.13215,
     "end_time": "2022-07-18T03:28:51.219292",
     "exception": false,
     "start_time": "2022-07-18T03:28:50.087142",
     "status": "completed"
    },
    "tags": []
   },
   "outputs": [
    {
     "name": "stdout",
     "output_type": "stream",
     "text": [
      "Submission file shape is (924621, 2)\n"
     ]
    },
    {
     "data": {
      "text/html": [
       "<div>\n",
       "<style scoped>\n",
       "    .dataframe tbody tr th:only-of-type {\n",
       "        vertical-align: middle;\n",
       "    }\n",
       "\n",
       "    .dataframe tbody tr th {\n",
       "        vertical-align: top;\n",
       "    }\n",
       "\n",
       "    .dataframe thead th {\n",
       "        text-align: right;\n",
       "    }\n",
       "</style>\n",
       "<table border=\"1\" class=\"dataframe\">\n",
       "  <thead>\n",
       "    <tr style=\"text-align: right;\">\n",
       "      <th></th>\n",
       "      <th>customer_ID</th>\n",
       "      <th>prediction</th>\n",
       "    </tr>\n",
       "  </thead>\n",
       "  <tbody>\n",
       "    <tr>\n",
       "      <th>0</th>\n",
       "      <td>03999d5e3bd61a69504cc6e7025c260c1ed2e5b449dba5...</td>\n",
       "      <td>0.099025</td>\n",
       "    </tr>\n",
       "    <tr>\n",
       "      <th>1</th>\n",
       "      <td>039b4f21aa584fb0c3c7055beabc098af55013f9f25515...</td>\n",
       "      <td>0.007076</td>\n",
       "    </tr>\n",
       "    <tr>\n",
       "      <th>2</th>\n",
       "      <td>039a6aea85575ebd33eec75e5c45bc7973481b81a99b62...</td>\n",
       "      <td>0.086548</td>\n",
       "    </tr>\n",
       "    <tr>\n",
       "      <th>3</th>\n",
       "      <td>039bd96164c6567580b24ba13c2b85b60f4554eb43d55b...</td>\n",
       "      <td>0.584402</td>\n",
       "    </tr>\n",
       "    <tr>\n",
       "      <th>4</th>\n",
       "      <td>0399a5a95461ced4134cd9693712fb012351cca1bde04d...</td>\n",
       "      <td>0.000323</td>\n",
       "    </tr>\n",
       "  </tbody>\n",
       "</table>\n",
       "</div>"
      ],
      "text/plain": [
       "                                         customer_ID  prediction\n",
       "0  03999d5e3bd61a69504cc6e7025c260c1ed2e5b449dba5...    0.099025\n",
       "1  039b4f21aa584fb0c3c7055beabc098af55013f9f25515...    0.007076\n",
       "2  039a6aea85575ebd33eec75e5c45bc7973481b81a99b62...    0.086548\n",
       "3  039bd96164c6567580b24ba13c2b85b60f4554eb43d55b...    0.584402\n",
       "4  0399a5a95461ced4134cd9693712fb012351cca1bde04d...    0.000323"
      ]
     },
     "execution_count": 58,
     "metadata": {},
     "output_type": "execute_result"
    }
   ],
   "source": [
    "# File for submission can be saved according to the format of the competition guide.\n",
    "test_preds = np.concatenate(test_preds)\n",
    "test = cudf.DataFrame(index=customers,data={'prediction':test_preds})\n",
    "sub = cudf.read_csv('../input/amex-default-prediction/sample_submission.csv')[['customer_ID']]\n",
    "sub['customer_ID_hash'] = sub['customer_ID'].str[-16:].str.hex_to_int().astype('int64')\n",
    "sub = sub.set_index('customer_ID_hash')\n",
    "sub = sub.merge(test[['prediction']], left_index=True, right_index=True, how='left')\n",
    "sub = sub.reset_index(drop=True)\n",
    "\n",
    "sub.to_csv(f'submission_xgb_v{VER}.csv',index=False)\n",
    "print('Submission file shape is', sub.shape )\n",
    "sub.head()"
   ]
  },
  {
   "cell_type": "code",
   "execution_count": 59,
   "id": "00f6c926",
   "metadata": {
    "execution": {
     "iopub.execute_input": "2022-07-18T03:28:51.301446Z",
     "iopub.status.busy": "2022-07-18T03:28:51.301086Z",
     "iopub.status.idle": "2022-07-18T03:28:52.077532Z",
     "shell.execute_reply": "2022-07-18T03:28:52.076729Z"
    },
    "papermill": {
     "duration": 0.814188,
     "end_time": "2022-07-18T03:28:52.079270",
     "exception": false,
     "start_time": "2022-07-18T03:28:51.265082",
     "status": "completed"
    },
    "tags": []
   },
   "outputs": [
    {
     "data": {
      "image/png": "[encoded data removed]",
      "text/plain": [
       "<Figure size 432x288 with 1 Axes>"
      ]
     },
     "metadata": {
      "needs_background": "light"
     },
     "output_type": "display_data"
    }
   ],
   "source": [
    "# visualize with hist plot.\n",
    "plt.hist(sub.to_pandas().prediction, bins=100)\n",
    "plt.title('Test Predictions')\n",
    "plt.show()"
   ]
  }
 ],
 "metadata": {
  "kernelspec": {
   "display_name": "Python 3",
   "language": "python",
   "name": "python3"
  },
  "language_info": {
   "codemirror_mode": {
    "name": "ipython",
    "version": 3
   },
   "file_extension": ".py",
   "mimetype": "text/x-python",
   "name": "python",
   "nbconvert_exporter": "python",
   "pygments_lexer": "ipython3",
   "version": "3.7.12"
  },
  "papermill": {
   "default_parameters": {},
   "duration": 1065.616979,
   "end_time": "2022-07-18T03:28:54.299342",
   "environment_variables": {},
   "exception": null,
   "input_path": "__notebook__.ipynb",
   "output_path": "__notebook__.ipynb",
   "parameters": {},
   "start_time": "2022-07-18T03:11:08.682363",
   "version": "2.3.4"
  }
 },
 "nbformat": 4,
 "nbformat_minor": 5
}
