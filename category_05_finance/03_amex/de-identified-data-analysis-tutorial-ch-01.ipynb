{
 "cells": [
  {
   "cell_type": "markdown",
   "id": "8fc935c1",
   "metadata": {
    "papermill": {
     "duration": 0.008953,
     "end_time": "2022-06-03T11:56:16.492764",
     "exception": false,
     "start_time": "2022-06-03T11:56:16.483811",
     "status": "completed"
    },
    "tags": []
   },
   "source": [
    "# Ch 01. View Each Separately\n",
    "\n",
    "When we don't really understand what our data looks like, it's best to look at in smaller chunks. In this first chapter, we separate the five column types(D,S,P,B,R) and take a look at the two-dimensional distribution."
   ]
  },
  {
   "cell_type": "markdown",
   "id": "9cedb5ed",
   "metadata": {
    "papermill": {
     "duration": 0.007165,
     "end_time": "2022-06-03T11:56:16.507187",
     "exception": false,
     "start_time": "2022-06-03T11:56:16.500022",
     "status": "completed"
    },
    "tags": []
   },
   "source": [
    "> Table of Contents\n",
    "```\n",
    "Step 1. Load Samle Data\n",
    "Step 2. Separate Data\n",
    "Step 3. Check Outliers\n",
    "Step 4. PCA (Focus on 'D' type)\n",
    "```\n"
   ]
  },
  {
   "cell_type": "code",
   "execution_count": 1,
   "id": "8863c77f",
   "metadata": {
    "_cell_guid": "b1076dfc-b9ad-4769-8c92-a6c4dae69d19",
    "_kg_hide-input": false,
    "_uuid": "8f2839f25d086af736a60e9eeb907d3b93b6e0e5",
    "execution": {
     "iopub.execute_input": "2022-06-03T11:56:16.524060Z",
     "iopub.status.busy": "2022-06-03T11:56:16.523203Z",
     "iopub.status.idle": "2022-06-03T11:56:16.536743Z",
     "shell.execute_reply": "2022-06-03T11:56:16.535774Z"
    },
    "papermill": {
     "duration": 0.025308,
     "end_time": "2022-06-03T11:56:16.539577",
     "exception": false,
     "start_time": "2022-06-03T11:56:16.514269",
     "status": "completed"
    },
    "tags": []
   },
   "outputs": [
    {
     "name": "stdout",
     "output_type": "stream",
     "text": [
      "/kaggle/input/amex-default-prediction/sample_submission.csv\n",
      "/kaggle/input/amex-default-prediction/train_data.csv\n",
      "/kaggle/input/amex-default-prediction/test_data.csv\n",
      "/kaggle/input/amex-default-prediction/train_labels.csv\n"
     ]
    }
   ],
   "source": [
    "# This Python 3 environment comes with many helpful analytics libraries installed\n",
    "# It is defined by the kaggle/python Docker image: https://github.com/kaggle/docker-python\n",
    "# For example, here's several helpful packages to load\n",
    "\n",
    "import numpy as np # linear algebra\n",
    "import pandas as pd # data processing, CSV file I/O (e.g. pd.read_csv)\n",
    "\n",
    "# Input data files are available in the read-only \"../input/\" directory\n",
    "# For example, running this (by clicking run or pressing Shift+Enter) will list all files under the input directory\n",
    "\n",
    "import os\n",
    "for dirname, _, filenames in os.walk('/kaggle/input'):\n",
    "    for filename in filenames:\n",
    "        print(os.path.join(dirname, filename))\n",
    "\n",
    "# You can write up to 20GB to the current directory (/kaggle/working/) that gets preserved as output when you create a version using \"Save & Run All\" \n",
    "# You can also write temporary files to /kaggle/temp/, but they won't be saved outside of the current session"
   ]
  },
  {
   "cell_type": "markdown",
   "id": "eb7383f6",
   "metadata": {
    "papermill": {
     "duration": 0.006874,
     "end_time": "2022-06-03T11:56:16.553938",
     "exception": false,
     "start_time": "2022-06-03T11:56:16.547064",
     "status": "completed"
    },
    "tags": []
   },
   "source": [
    "## Step 1. Load Sample Data"
   ]
  },
  {
   "cell_type": "markdown",
   "id": "2da985f2",
   "metadata": {
    "papermill": {
     "duration": 0.006991,
     "end_time": "2022-06-03T11:56:16.568212",
     "exception": false,
     "start_time": "2022-06-03T11:56:16.561221",
     "status": "completed"
    },
    "tags": []
   },
   "source": [
    "\n",
    "Because the data volume is too large, we will only use 10000 rows in the tutorial."
   ]
  },
  {
   "cell_type": "code",
   "execution_count": 2,
   "id": "8ecf85ed",
   "metadata": {
    "execution": {
     "iopub.execute_input": "2022-06-03T11:56:16.584727Z",
     "iopub.status.busy": "2022-06-03T11:56:16.584297Z",
     "iopub.status.idle": "2022-06-03T11:56:16.589128Z",
     "shell.execute_reply": "2022-06-03T11:56:16.588186Z"
    },
    "papermill": {
     "duration": 0.015665,
     "end_time": "2022-06-03T11:56:16.590993",
     "exception": false,
     "start_time": "2022-06-03T11:56:16.575328",
     "status": "completed"
    },
    "tags": []
   },
   "outputs": [],
   "source": [
    "train_data_path = '/kaggle/input/amex-default-prediction/train_data.csv'\n",
    "train_label_path = '/kaggle/input/amex-default-prediction/train_labels.csv'"
   ]
  },
  {
   "cell_type": "code",
   "execution_count": 3,
   "id": "7e273821",
   "metadata": {
    "execution": {
     "iopub.execute_input": "2022-06-03T11:56:16.607065Z",
     "iopub.status.busy": "2022-06-03T11:56:16.606675Z",
     "iopub.status.idle": "2022-06-03T11:56:16.625302Z",
     "shell.execute_reply": "2022-06-03T11:56:16.624518Z"
    },
    "papermill": {
     "duration": 0.028955,
     "end_time": "2022-06-03T11:56:16.627095",
     "exception": false,
     "start_time": "2022-06-03T11:56:16.598140",
     "status": "completed"
    },
    "tags": []
   },
   "outputs": [
    {
     "data": {
      "text/plain": [
       "<pandas.io.parsers.readers.TextFileReader at 0x7f3834206050>"
      ]
     },
     "execution_count": 3,
     "metadata": {},
     "output_type": "execute_result"
    }
   ],
   "source": [
    "train_iter = pd.read_csv(train_data_path, chunksize=10000)\n",
    "train_iter"
   ]
  },
  {
   "cell_type": "code",
   "execution_count": 4,
   "id": "660c4649",
   "metadata": {
    "execution": {
     "iopub.execute_input": "2022-06-03T11:56:16.643663Z",
     "iopub.status.busy": "2022-06-03T11:56:16.643128Z",
     "iopub.status.idle": "2022-06-03T11:56:17.383570Z",
     "shell.execute_reply": "2022-06-03T11:56:17.382542Z"
    },
    "papermill": {
     "duration": 0.751278,
     "end_time": "2022-06-03T11:56:17.385956",
     "exception": false,
     "start_time": "2022-06-03T11:56:16.634678",
     "status": "completed"
    },
    "tags": []
   },
   "outputs": [
    {
     "data": {
      "text/html": [
       "<div>\n",
       "<style scoped>\n",
       "    .dataframe tbody tr th:only-of-type {\n",
       "        vertical-align: middle;\n",
       "    }\n",
       "\n",
       "    .dataframe tbody tr th {\n",
       "        vertical-align: top;\n",
       "    }\n",
       "\n",
       "    .dataframe thead th {\n",
       "        text-align: right;\n",
       "    }\n",
       "</style>\n",
       "<table border=\"1\" class=\"dataframe\">\n",
       "  <thead>\n",
       "    <tr style=\"text-align: right;\">\n",
       "      <th></th>\n",
       "      <th>customer_ID</th>\n",
       "      <th>S_2</th>\n",
       "      <th>P_2</th>\n",
       "      <th>D_39</th>\n",
       "      <th>B_1</th>\n",
       "      <th>B_2</th>\n",
       "      <th>R_1</th>\n",
       "      <th>S_3</th>\n",
       "      <th>D_41</th>\n",
       "      <th>B_3</th>\n",
       "      <th>...</th>\n",
       "      <th>D_136</th>\n",
       "      <th>D_137</th>\n",
       "      <th>D_138</th>\n",
       "      <th>D_139</th>\n",
       "      <th>D_140</th>\n",
       "      <th>D_141</th>\n",
       "      <th>D_142</th>\n",
       "      <th>D_143</th>\n",
       "      <th>D_144</th>\n",
       "      <th>D_145</th>\n",
       "    </tr>\n",
       "  </thead>\n",
       "  <tbody>\n",
       "    <tr>\n",
       "      <th>0</th>\n",
       "      <td>0000099d6bd597052cdcda90ffabf56573fe9d7c79be5f...</td>\n",
       "      <td>2017-03-09</td>\n",
       "      <td>0.938469</td>\n",
       "      <td>0.001733</td>\n",
       "      <td>0.008724</td>\n",
       "      <td>1.006838</td>\n",
       "      <td>0.009228</td>\n",
       "      <td>0.124035</td>\n",
       "      <td>0.008771</td>\n",
       "      <td>0.004709</td>\n",
       "      <td>...</td>\n",
       "      <td>NaN</td>\n",
       "      <td>NaN</td>\n",
       "      <td>NaN</td>\n",
       "      <td>0.002427</td>\n",
       "      <td>0.003706</td>\n",
       "      <td>0.003818</td>\n",
       "      <td>NaN</td>\n",
       "      <td>0.000569</td>\n",
       "      <td>0.000610</td>\n",
       "      <td>0.002674</td>\n",
       "    </tr>\n",
       "    <tr>\n",
       "      <th>1</th>\n",
       "      <td>0000099d6bd597052cdcda90ffabf56573fe9d7c79be5f...</td>\n",
       "      <td>2017-04-07</td>\n",
       "      <td>0.936665</td>\n",
       "      <td>0.005775</td>\n",
       "      <td>0.004923</td>\n",
       "      <td>1.000653</td>\n",
       "      <td>0.006151</td>\n",
       "      <td>0.126750</td>\n",
       "      <td>0.000798</td>\n",
       "      <td>0.002714</td>\n",
       "      <td>...</td>\n",
       "      <td>NaN</td>\n",
       "      <td>NaN</td>\n",
       "      <td>NaN</td>\n",
       "      <td>0.003954</td>\n",
       "      <td>0.003167</td>\n",
       "      <td>0.005032</td>\n",
       "      <td>NaN</td>\n",
       "      <td>0.009576</td>\n",
       "      <td>0.005492</td>\n",
       "      <td>0.009217</td>\n",
       "    </tr>\n",
       "    <tr>\n",
       "      <th>2</th>\n",
       "      <td>0000099d6bd597052cdcda90ffabf56573fe9d7c79be5f...</td>\n",
       "      <td>2017-05-28</td>\n",
       "      <td>0.954180</td>\n",
       "      <td>0.091505</td>\n",
       "      <td>0.021655</td>\n",
       "      <td>1.009672</td>\n",
       "      <td>0.006815</td>\n",
       "      <td>0.123977</td>\n",
       "      <td>0.007598</td>\n",
       "      <td>0.009423</td>\n",
       "      <td>...</td>\n",
       "      <td>NaN</td>\n",
       "      <td>NaN</td>\n",
       "      <td>NaN</td>\n",
       "      <td>0.003269</td>\n",
       "      <td>0.007329</td>\n",
       "      <td>0.000427</td>\n",
       "      <td>NaN</td>\n",
       "      <td>0.003429</td>\n",
       "      <td>0.006986</td>\n",
       "      <td>0.002603</td>\n",
       "    </tr>\n",
       "    <tr>\n",
       "      <th>3</th>\n",
       "      <td>0000099d6bd597052cdcda90ffabf56573fe9d7c79be5f...</td>\n",
       "      <td>2017-06-13</td>\n",
       "      <td>0.960384</td>\n",
       "      <td>0.002455</td>\n",
       "      <td>0.013683</td>\n",
       "      <td>1.002700</td>\n",
       "      <td>0.001373</td>\n",
       "      <td>0.117169</td>\n",
       "      <td>0.000685</td>\n",
       "      <td>0.005531</td>\n",
       "      <td>...</td>\n",
       "      <td>NaN</td>\n",
       "      <td>NaN</td>\n",
       "      <td>NaN</td>\n",
       "      <td>0.006117</td>\n",
       "      <td>0.004516</td>\n",
       "      <td>0.003200</td>\n",
       "      <td>NaN</td>\n",
       "      <td>0.008419</td>\n",
       "      <td>0.006527</td>\n",
       "      <td>0.009600</td>\n",
       "    </tr>\n",
       "    <tr>\n",
       "      <th>4</th>\n",
       "      <td>0000099d6bd597052cdcda90ffabf56573fe9d7c79be5f...</td>\n",
       "      <td>2017-07-16</td>\n",
       "      <td>0.947248</td>\n",
       "      <td>0.002483</td>\n",
       "      <td>0.015193</td>\n",
       "      <td>1.000727</td>\n",
       "      <td>0.007605</td>\n",
       "      <td>0.117325</td>\n",
       "      <td>0.004653</td>\n",
       "      <td>0.009312</td>\n",
       "      <td>...</td>\n",
       "      <td>NaN</td>\n",
       "      <td>NaN</td>\n",
       "      <td>NaN</td>\n",
       "      <td>0.003671</td>\n",
       "      <td>0.004946</td>\n",
       "      <td>0.008889</td>\n",
       "      <td>NaN</td>\n",
       "      <td>0.001670</td>\n",
       "      <td>0.008126</td>\n",
       "      <td>0.009827</td>\n",
       "    </tr>\n",
       "    <tr>\n",
       "      <th>...</th>\n",
       "      <td>...</td>\n",
       "      <td>...</td>\n",
       "      <td>...</td>\n",
       "      <td>...</td>\n",
       "      <td>...</td>\n",
       "      <td>...</td>\n",
       "      <td>...</td>\n",
       "      <td>...</td>\n",
       "      <td>...</td>\n",
       "      <td>...</td>\n",
       "      <td>...</td>\n",
       "      <td>...</td>\n",
       "      <td>...</td>\n",
       "      <td>...</td>\n",
       "      <td>...</td>\n",
       "      <td>...</td>\n",
       "      <td>...</td>\n",
       "      <td>...</td>\n",
       "      <td>...</td>\n",
       "      <td>...</td>\n",
       "      <td>...</td>\n",
       "    </tr>\n",
       "    <tr>\n",
       "      <th>9995</th>\n",
       "      <td>007793144e0eeef1e29a7aa93244815328beb0d46ccbe3...</td>\n",
       "      <td>2018-02-26</td>\n",
       "      <td>0.331150</td>\n",
       "      <td>1.472028</td>\n",
       "      <td>0.049780</td>\n",
       "      <td>0.187973</td>\n",
       "      <td>0.000417</td>\n",
       "      <td>0.143625</td>\n",
       "      <td>0.955153</td>\n",
       "      <td>0.099672</td>\n",
       "      <td>...</td>\n",
       "      <td>NaN</td>\n",
       "      <td>NaN</td>\n",
       "      <td>NaN</td>\n",
       "      <td>0.008082</td>\n",
       "      <td>0.002661</td>\n",
       "      <td>0.003676</td>\n",
       "      <td>NaN</td>\n",
       "      <td>0.001279</td>\n",
       "      <td>0.001011</td>\n",
       "      <td>0.008815</td>\n",
       "    </tr>\n",
       "    <tr>\n",
       "      <th>9996</th>\n",
       "      <td>007793144e0eeef1e29a7aa93244815328beb0d46ccbe3...</td>\n",
       "      <td>2018-03-19</td>\n",
       "      <td>0.361060</td>\n",
       "      <td>2.065567</td>\n",
       "      <td>0.048313</td>\n",
       "      <td>0.194930</td>\n",
       "      <td>0.006775</td>\n",
       "      <td>0.144908</td>\n",
       "      <td>1.252287</td>\n",
       "      <td>0.118775</td>\n",
       "      <td>...</td>\n",
       "      <td>NaN</td>\n",
       "      <td>NaN</td>\n",
       "      <td>NaN</td>\n",
       "      <td>0.007419</td>\n",
       "      <td>0.007829</td>\n",
       "      <td>0.000511</td>\n",
       "      <td>NaN</td>\n",
       "      <td>0.008342</td>\n",
       "      <td>0.004060</td>\n",
       "      <td>0.005083</td>\n",
       "    </tr>\n",
       "    <tr>\n",
       "      <th>9997</th>\n",
       "      <td>0077b7efafef4cfa81e42538b87e39799e9928e47c6826...</td>\n",
       "      <td>2017-03-28</td>\n",
       "      <td>0.708199</td>\n",
       "      <td>0.357349</td>\n",
       "      <td>0.013953</td>\n",
       "      <td>1.002573</td>\n",
       "      <td>0.003448</td>\n",
       "      <td>0.110258</td>\n",
       "      <td>0.170252</td>\n",
       "      <td>0.040633</td>\n",
       "      <td>...</td>\n",
       "      <td>NaN</td>\n",
       "      <td>NaN</td>\n",
       "      <td>NaN</td>\n",
       "      <td>0.009987</td>\n",
       "      <td>0.007548</td>\n",
       "      <td>0.003425</td>\n",
       "      <td>NaN</td>\n",
       "      <td>0.005115</td>\n",
       "      <td>0.007862</td>\n",
       "      <td>0.008078</td>\n",
       "    </tr>\n",
       "    <tr>\n",
       "      <th>9998</th>\n",
       "      <td>0077b7efafef4cfa81e42538b87e39799e9928e47c6826...</td>\n",
       "      <td>2017-04-15</td>\n",
       "      <td>0.692401</td>\n",
       "      <td>0.009380</td>\n",
       "      <td>0.018337</td>\n",
       "      <td>0.588057</td>\n",
       "      <td>0.001596</td>\n",
       "      <td>0.108820</td>\n",
       "      <td>0.177197</td>\n",
       "      <td>0.031383</td>\n",
       "      <td>...</td>\n",
       "      <td>NaN</td>\n",
       "      <td>NaN</td>\n",
       "      <td>NaN</td>\n",
       "      <td>0.002379</td>\n",
       "      <td>0.006379</td>\n",
       "      <td>0.009408</td>\n",
       "      <td>NaN</td>\n",
       "      <td>0.005702</td>\n",
       "      <td>0.006532</td>\n",
       "      <td>0.003437</td>\n",
       "    </tr>\n",
       "    <tr>\n",
       "      <th>9999</th>\n",
       "      <td>0077b7efafef4cfa81e42538b87e39799e9928e47c6826...</td>\n",
       "      <td>2017-05-31</td>\n",
       "      <td>0.779090</td>\n",
       "      <td>0.445052</td>\n",
       "      <td>0.032713</td>\n",
       "      <td>0.171864</td>\n",
       "      <td>0.001149</td>\n",
       "      <td>0.099150</td>\n",
       "      <td>0.009573</td>\n",
       "      <td>0.083275</td>\n",
       "      <td>...</td>\n",
       "      <td>NaN</td>\n",
       "      <td>NaN</td>\n",
       "      <td>NaN</td>\n",
       "      <td>0.001991</td>\n",
       "      <td>0.000735</td>\n",
       "      <td>0.009753</td>\n",
       "      <td>NaN</td>\n",
       "      <td>0.003173</td>\n",
       "      <td>0.007842</td>\n",
       "      <td>0.005381</td>\n",
       "    </tr>\n",
       "  </tbody>\n",
       "</table>\n",
       "<p>10000 rows × 190 columns</p>\n",
       "</div>"
      ],
      "text/plain": [
       "                                            customer_ID         S_2       P_2  \\\n",
       "0     0000099d6bd597052cdcda90ffabf56573fe9d7c79be5f...  2017-03-09  0.938469   \n",
       "1     0000099d6bd597052cdcda90ffabf56573fe9d7c79be5f...  2017-04-07  0.936665   \n",
       "2     0000099d6bd597052cdcda90ffabf56573fe9d7c79be5f...  2017-05-28  0.954180   \n",
       "3     0000099d6bd597052cdcda90ffabf56573fe9d7c79be5f...  2017-06-13  0.960384   \n",
       "4     0000099d6bd597052cdcda90ffabf56573fe9d7c79be5f...  2017-07-16  0.947248   \n",
       "...                                                 ...         ...       ...   \n",
       "9995  007793144e0eeef1e29a7aa93244815328beb0d46ccbe3...  2018-02-26  0.331150   \n",
       "9996  007793144e0eeef1e29a7aa93244815328beb0d46ccbe3...  2018-03-19  0.361060   \n",
       "9997  0077b7efafef4cfa81e42538b87e39799e9928e47c6826...  2017-03-28  0.708199   \n",
       "9998  0077b7efafef4cfa81e42538b87e39799e9928e47c6826...  2017-04-15  0.692401   \n",
       "9999  0077b7efafef4cfa81e42538b87e39799e9928e47c6826...  2017-05-31  0.779090   \n",
       "\n",
       "          D_39       B_1       B_2       R_1       S_3      D_41       B_3  \\\n",
       "0     0.001733  0.008724  1.006838  0.009228  0.124035  0.008771  0.004709   \n",
       "1     0.005775  0.004923  1.000653  0.006151  0.126750  0.000798  0.002714   \n",
       "2     0.091505  0.021655  1.009672  0.006815  0.123977  0.007598  0.009423   \n",
       "3     0.002455  0.013683  1.002700  0.001373  0.117169  0.000685  0.005531   \n",
       "4     0.002483  0.015193  1.000727  0.007605  0.117325  0.004653  0.009312   \n",
       "...        ...       ...       ...       ...       ...       ...       ...   \n",
       "9995  1.472028  0.049780  0.187973  0.000417  0.143625  0.955153  0.099672   \n",
       "9996  2.065567  0.048313  0.194930  0.006775  0.144908  1.252287  0.118775   \n",
       "9997  0.357349  0.013953  1.002573  0.003448  0.110258  0.170252  0.040633   \n",
       "9998  0.009380  0.018337  0.588057  0.001596  0.108820  0.177197  0.031383   \n",
       "9999  0.445052  0.032713  0.171864  0.001149  0.099150  0.009573  0.083275   \n",
       "\n",
       "      ...  D_136  D_137  D_138     D_139     D_140     D_141  D_142     D_143  \\\n",
       "0     ...    NaN    NaN    NaN  0.002427  0.003706  0.003818    NaN  0.000569   \n",
       "1     ...    NaN    NaN    NaN  0.003954  0.003167  0.005032    NaN  0.009576   \n",
       "2     ...    NaN    NaN    NaN  0.003269  0.007329  0.000427    NaN  0.003429   \n",
       "3     ...    NaN    NaN    NaN  0.006117  0.004516  0.003200    NaN  0.008419   \n",
       "4     ...    NaN    NaN    NaN  0.003671  0.004946  0.008889    NaN  0.001670   \n",
       "...   ...    ...    ...    ...       ...       ...       ...    ...       ...   \n",
       "9995  ...    NaN    NaN    NaN  0.008082  0.002661  0.003676    NaN  0.001279   \n",
       "9996  ...    NaN    NaN    NaN  0.007419  0.007829  0.000511    NaN  0.008342   \n",
       "9997  ...    NaN    NaN    NaN  0.009987  0.007548  0.003425    NaN  0.005115   \n",
       "9998  ...    NaN    NaN    NaN  0.002379  0.006379  0.009408    NaN  0.005702   \n",
       "9999  ...    NaN    NaN    NaN  0.001991  0.000735  0.009753    NaN  0.003173   \n",
       "\n",
       "         D_144     D_145  \n",
       "0     0.000610  0.002674  \n",
       "1     0.005492  0.009217  \n",
       "2     0.006986  0.002603  \n",
       "3     0.006527  0.009600  \n",
       "4     0.008126  0.009827  \n",
       "...        ...       ...  \n",
       "9995  0.001011  0.008815  \n",
       "9996  0.004060  0.005083  \n",
       "9997  0.007862  0.008078  \n",
       "9998  0.006532  0.003437  \n",
       "9999  0.007842  0.005381  \n",
       "\n",
       "[10000 rows x 190 columns]"
      ]
     },
     "execution_count": 4,
     "metadata": {},
     "output_type": "execute_result"
    }
   ],
   "source": [
    "train_sample = train_iter.__next__() # first 10000 rows\n",
    "train_sample"
   ]
  },
  {
   "cell_type": "markdown",
   "id": "d8702a61",
   "metadata": {
    "papermill": {
     "duration": 0.007351,
     "end_time": "2022-06-03T11:56:17.401093",
     "exception": false,
     "start_time": "2022-06-03T11:56:17.393742",
     "status": "completed"
    },
    "tags": []
   },
   "source": [
    "Check how many cases are counted for each customer ID"
   ]
  },
  {
   "cell_type": "code",
   "execution_count": 5,
   "id": "9b06714d",
   "metadata": {
    "execution": {
     "iopub.execute_input": "2022-06-03T11:56:17.417911Z",
     "iopub.status.busy": "2022-06-03T11:56:17.417510Z",
     "iopub.status.idle": "2022-06-03T11:56:17.434219Z",
     "shell.execute_reply": "2022-06-03T11:56:17.433490Z"
    },
    "papermill": {
     "duration": 0.027258,
     "end_time": "2022-06-03T11:56:17.436088",
     "exception": false,
     "start_time": "2022-06-03T11:56:17.408830",
     "status": "completed"
    },
    "tags": []
   },
   "outputs": [
    {
     "data": {
      "text/plain": [
       "0000099d6bd597052cdcda90ffabf56573fe9d7c79be5fbac11a8ed792feb62a    13\n",
       "004f7be7f28bebb73f37f089f3d0e235e15d4feba024a4c7ef0577f5dc9b4ff0    13\n",
       "004ea3a8ddc1b7c5fec84e3216a61022ad5cd48014ef38bee5bf383e3cfd596b    13\n",
       "004ef04cc6c065db9ae1c91bc98afd248c0f0eb1f8af9de8b525fb1d2cdd405a    13\n",
       "004f210fc267fadee74094279a45426518c3b0e0e37328d5a82ea0873e1c7e78    13\n",
       "                                                                    ..\n",
       "0015d621bacbfd59cc1479aea405645ecb480f6ee779e06d66ce55da3bd397fd     1\n",
       "007640e6d0fb8423be50a40c337108db80471dae973fc840ee98cdbbbed10038     1\n",
       "0009bd8871169b8d76a445e1f52079a6edc0b6f0bf021d5ec50ef6aa6487cc14     1\n",
       "0066a59c8b96adec9e847a64d83d481f8b67eb6b96eac02d52cc021181b9c147     1\n",
       "004bf15cf65c01b2173e53c5284933d41650e69d977ebd737e0c8cda9af483d8     1\n",
       "Name: customer_ID, Length: 826, dtype: int64"
      ]
     },
     "execution_count": 5,
     "metadata": {},
     "output_type": "execute_result"
    }
   ],
   "source": [
    "train_sample['customer_ID'].value_counts()"
   ]
  },
  {
   "cell_type": "markdown",
   "id": "cdeeaaf3",
   "metadata": {
    "papermill": {
     "duration": 0.008113,
     "end_time": "2022-06-03T11:56:17.452368",
     "exception": false,
     "start_time": "2022-06-03T11:56:17.444255",
     "status": "completed"
    },
    "tags": []
   },
   "source": [
    "When unfolding as a two-dimensional distribution, the target will be expressed in color. So, Let's take the target information as well and combine it with our sample data."
   ]
  },
  {
   "cell_type": "code",
   "execution_count": 6,
   "id": "3338a956",
   "metadata": {
    "execution": {
     "iopub.execute_input": "2022-06-03T11:56:17.471129Z",
     "iopub.status.busy": "2022-06-03T11:56:17.470462Z",
     "iopub.status.idle": "2022-06-03T11:56:18.404133Z",
     "shell.execute_reply": "2022-06-03T11:56:18.402976Z"
    },
    "papermill": {
     "duration": 0.945792,
     "end_time": "2022-06-03T11:56:18.406505",
     "exception": false,
     "start_time": "2022-06-03T11:56:17.460713",
     "status": "completed"
    },
    "tags": []
   },
   "outputs": [
    {
     "data": {
      "text/html": [
       "<div>\n",
       "<style scoped>\n",
       "    .dataframe tbody tr th:only-of-type {\n",
       "        vertical-align: middle;\n",
       "    }\n",
       "\n",
       "    .dataframe tbody tr th {\n",
       "        vertical-align: top;\n",
       "    }\n",
       "\n",
       "    .dataframe thead th {\n",
       "        text-align: right;\n",
       "    }\n",
       "</style>\n",
       "<table border=\"1\" class=\"dataframe\">\n",
       "  <thead>\n",
       "    <tr style=\"text-align: right;\">\n",
       "      <th></th>\n",
       "      <th>customer_ID</th>\n",
       "      <th>target</th>\n",
       "    </tr>\n",
       "  </thead>\n",
       "  <tbody>\n",
       "    <tr>\n",
       "      <th>0</th>\n",
       "      <td>0000099d6bd597052cdcda90ffabf56573fe9d7c79be5f...</td>\n",
       "      <td>0</td>\n",
       "    </tr>\n",
       "    <tr>\n",
       "      <th>1</th>\n",
       "      <td>00000fd6641609c6ece5454664794f0340ad84dddce9a2...</td>\n",
       "      <td>0</td>\n",
       "    </tr>\n",
       "    <tr>\n",
       "      <th>2</th>\n",
       "      <td>00001b22f846c82c51f6e3958ccd81970162bae8b007e8...</td>\n",
       "      <td>0</td>\n",
       "    </tr>\n",
       "    <tr>\n",
       "      <th>3</th>\n",
       "      <td>000041bdba6ecadd89a52d11886e8eaaec9325906c9723...</td>\n",
       "      <td>0</td>\n",
       "    </tr>\n",
       "    <tr>\n",
       "      <th>4</th>\n",
       "      <td>00007889e4fcd2614b6cbe7f8f3d2e5c728eca32d9eb8a...</td>\n",
       "      <td>0</td>\n",
       "    </tr>\n",
       "    <tr>\n",
       "      <th>...</th>\n",
       "      <td>...</td>\n",
       "      <td>...</td>\n",
       "    </tr>\n",
       "    <tr>\n",
       "      <th>458908</th>\n",
       "      <td>ffff41c8a52833b56430603969b9ca48d208e7c192c6a4...</td>\n",
       "      <td>0</td>\n",
       "    </tr>\n",
       "    <tr>\n",
       "      <th>458909</th>\n",
       "      <td>ffff518bb2075e4816ee3fe9f3b152c57fc0e6f01bf7fd...</td>\n",
       "      <td>0</td>\n",
       "    </tr>\n",
       "    <tr>\n",
       "      <th>458910</th>\n",
       "      <td>ffff9984b999fccb2b6127635ed0736dda94e544e67e02...</td>\n",
       "      <td>0</td>\n",
       "    </tr>\n",
       "    <tr>\n",
       "      <th>458911</th>\n",
       "      <td>ffffa5c46bc8de74f5a4554e74e239c8dee6b9baf38814...</td>\n",
       "      <td>1</td>\n",
       "    </tr>\n",
       "    <tr>\n",
       "      <th>458912</th>\n",
       "      <td>fffff1d38b785cef84adeace64f8f83db3a0c31e8d92ea...</td>\n",
       "      <td>0</td>\n",
       "    </tr>\n",
       "  </tbody>\n",
       "</table>\n",
       "<p>458913 rows × 2 columns</p>\n",
       "</div>"
      ],
      "text/plain": [
       "                                              customer_ID  target\n",
       "0       0000099d6bd597052cdcda90ffabf56573fe9d7c79be5f...       0\n",
       "1       00000fd6641609c6ece5454664794f0340ad84dddce9a2...       0\n",
       "2       00001b22f846c82c51f6e3958ccd81970162bae8b007e8...       0\n",
       "3       000041bdba6ecadd89a52d11886e8eaaec9325906c9723...       0\n",
       "4       00007889e4fcd2614b6cbe7f8f3d2e5c728eca32d9eb8a...       0\n",
       "...                                                   ...     ...\n",
       "458908  ffff41c8a52833b56430603969b9ca48d208e7c192c6a4...       0\n",
       "458909  ffff518bb2075e4816ee3fe9f3b152c57fc0e6f01bf7fd...       0\n",
       "458910  ffff9984b999fccb2b6127635ed0736dda94e544e67e02...       0\n",
       "458911  ffffa5c46bc8de74f5a4554e74e239c8dee6b9baf38814...       1\n",
       "458912  fffff1d38b785cef84adeace64f8f83db3a0c31e8d92ea...       0\n",
       "\n",
       "[458913 rows x 2 columns]"
      ]
     },
     "execution_count": 6,
     "metadata": {},
     "output_type": "execute_result"
    }
   ],
   "source": [
    "train_labels = pd.read_csv(train_label_path)\n",
    "train_labels"
   ]
  },
  {
   "cell_type": "code",
   "execution_count": 7,
   "id": "7539462e",
   "metadata": {
    "execution": {
     "iopub.execute_input": "2022-06-03T11:56:18.424242Z",
     "iopub.status.busy": "2022-06-03T11:56:18.423872Z",
     "iopub.status.idle": "2022-06-03T11:56:18.670893Z",
     "shell.execute_reply": "2022-06-03T11:56:18.669747Z"
    },
    "papermill": {
     "duration": 0.258458,
     "end_time": "2022-06-03T11:56:18.673047",
     "exception": false,
     "start_time": "2022-06-03T11:56:18.414589",
     "status": "completed"
    },
    "tags": []
   },
   "outputs": [
    {
     "data": {
      "text/html": [
       "<div>\n",
       "<style scoped>\n",
       "    .dataframe tbody tr th:only-of-type {\n",
       "        vertical-align: middle;\n",
       "    }\n",
       "\n",
       "    .dataframe tbody tr th {\n",
       "        vertical-align: top;\n",
       "    }\n",
       "\n",
       "    .dataframe thead th {\n",
       "        text-align: right;\n",
       "    }\n",
       "</style>\n",
       "<table border=\"1\" class=\"dataframe\">\n",
       "  <thead>\n",
       "    <tr style=\"text-align: right;\">\n",
       "      <th></th>\n",
       "      <th>customer_ID</th>\n",
       "      <th>S_2</th>\n",
       "      <th>P_2</th>\n",
       "      <th>D_39</th>\n",
       "      <th>B_1</th>\n",
       "      <th>B_2</th>\n",
       "      <th>R_1</th>\n",
       "      <th>S_3</th>\n",
       "      <th>D_41</th>\n",
       "      <th>B_3</th>\n",
       "      <th>...</th>\n",
       "      <th>D_137</th>\n",
       "      <th>D_138</th>\n",
       "      <th>D_139</th>\n",
       "      <th>D_140</th>\n",
       "      <th>D_141</th>\n",
       "      <th>D_142</th>\n",
       "      <th>D_143</th>\n",
       "      <th>D_144</th>\n",
       "      <th>D_145</th>\n",
       "      <th>target</th>\n",
       "    </tr>\n",
       "  </thead>\n",
       "  <tbody>\n",
       "    <tr>\n",
       "      <th>0</th>\n",
       "      <td>0000099d6bd597052cdcda90ffabf56573fe9d7c79be5f...</td>\n",
       "      <td>2017-03-09</td>\n",
       "      <td>0.938469</td>\n",
       "      <td>0.001733</td>\n",
       "      <td>0.008724</td>\n",
       "      <td>1.006838</td>\n",
       "      <td>0.009228</td>\n",
       "      <td>0.124035</td>\n",
       "      <td>0.008771</td>\n",
       "      <td>0.004709</td>\n",
       "      <td>...</td>\n",
       "      <td>NaN</td>\n",
       "      <td>NaN</td>\n",
       "      <td>0.002427</td>\n",
       "      <td>0.003706</td>\n",
       "      <td>0.003818</td>\n",
       "      <td>NaN</td>\n",
       "      <td>0.000569</td>\n",
       "      <td>0.000610</td>\n",
       "      <td>0.002674</td>\n",
       "      <td>0</td>\n",
       "    </tr>\n",
       "    <tr>\n",
       "      <th>1</th>\n",
       "      <td>0000099d6bd597052cdcda90ffabf56573fe9d7c79be5f...</td>\n",
       "      <td>2017-04-07</td>\n",
       "      <td>0.936665</td>\n",
       "      <td>0.005775</td>\n",
       "      <td>0.004923</td>\n",
       "      <td>1.000653</td>\n",
       "      <td>0.006151</td>\n",
       "      <td>0.126750</td>\n",
       "      <td>0.000798</td>\n",
       "      <td>0.002714</td>\n",
       "      <td>...</td>\n",
       "      <td>NaN</td>\n",
       "      <td>NaN</td>\n",
       "      <td>0.003954</td>\n",
       "      <td>0.003167</td>\n",
       "      <td>0.005032</td>\n",
       "      <td>NaN</td>\n",
       "      <td>0.009576</td>\n",
       "      <td>0.005492</td>\n",
       "      <td>0.009217</td>\n",
       "      <td>0</td>\n",
       "    </tr>\n",
       "    <tr>\n",
       "      <th>2</th>\n",
       "      <td>0000099d6bd597052cdcda90ffabf56573fe9d7c79be5f...</td>\n",
       "      <td>2017-05-28</td>\n",
       "      <td>0.954180</td>\n",
       "      <td>0.091505</td>\n",
       "      <td>0.021655</td>\n",
       "      <td>1.009672</td>\n",
       "      <td>0.006815</td>\n",
       "      <td>0.123977</td>\n",
       "      <td>0.007598</td>\n",
       "      <td>0.009423</td>\n",
       "      <td>...</td>\n",
       "      <td>NaN</td>\n",
       "      <td>NaN</td>\n",
       "      <td>0.003269</td>\n",
       "      <td>0.007329</td>\n",
       "      <td>0.000427</td>\n",
       "      <td>NaN</td>\n",
       "      <td>0.003429</td>\n",
       "      <td>0.006986</td>\n",
       "      <td>0.002603</td>\n",
       "      <td>0</td>\n",
       "    </tr>\n",
       "    <tr>\n",
       "      <th>3</th>\n",
       "      <td>0000099d6bd597052cdcda90ffabf56573fe9d7c79be5f...</td>\n",
       "      <td>2017-06-13</td>\n",
       "      <td>0.960384</td>\n",
       "      <td>0.002455</td>\n",
       "      <td>0.013683</td>\n",
       "      <td>1.002700</td>\n",
       "      <td>0.001373</td>\n",
       "      <td>0.117169</td>\n",
       "      <td>0.000685</td>\n",
       "      <td>0.005531</td>\n",
       "      <td>...</td>\n",
       "      <td>NaN</td>\n",
       "      <td>NaN</td>\n",
       "      <td>0.006117</td>\n",
       "      <td>0.004516</td>\n",
       "      <td>0.003200</td>\n",
       "      <td>NaN</td>\n",
       "      <td>0.008419</td>\n",
       "      <td>0.006527</td>\n",
       "      <td>0.009600</td>\n",
       "      <td>0</td>\n",
       "    </tr>\n",
       "    <tr>\n",
       "      <th>4</th>\n",
       "      <td>0000099d6bd597052cdcda90ffabf56573fe9d7c79be5f...</td>\n",
       "      <td>2017-07-16</td>\n",
       "      <td>0.947248</td>\n",
       "      <td>0.002483</td>\n",
       "      <td>0.015193</td>\n",
       "      <td>1.000727</td>\n",
       "      <td>0.007605</td>\n",
       "      <td>0.117325</td>\n",
       "      <td>0.004653</td>\n",
       "      <td>0.009312</td>\n",
       "      <td>...</td>\n",
       "      <td>NaN</td>\n",
       "      <td>NaN</td>\n",
       "      <td>0.003671</td>\n",
       "      <td>0.004946</td>\n",
       "      <td>0.008889</td>\n",
       "      <td>NaN</td>\n",
       "      <td>0.001670</td>\n",
       "      <td>0.008126</td>\n",
       "      <td>0.009827</td>\n",
       "      <td>0</td>\n",
       "    </tr>\n",
       "    <tr>\n",
       "      <th>...</th>\n",
       "      <td>...</td>\n",
       "      <td>...</td>\n",
       "      <td>...</td>\n",
       "      <td>...</td>\n",
       "      <td>...</td>\n",
       "      <td>...</td>\n",
       "      <td>...</td>\n",
       "      <td>...</td>\n",
       "      <td>...</td>\n",
       "      <td>...</td>\n",
       "      <td>...</td>\n",
       "      <td>...</td>\n",
       "      <td>...</td>\n",
       "      <td>...</td>\n",
       "      <td>...</td>\n",
       "      <td>...</td>\n",
       "      <td>...</td>\n",
       "      <td>...</td>\n",
       "      <td>...</td>\n",
       "      <td>...</td>\n",
       "      <td>...</td>\n",
       "    </tr>\n",
       "    <tr>\n",
       "      <th>9995</th>\n",
       "      <td>007793144e0eeef1e29a7aa93244815328beb0d46ccbe3...</td>\n",
       "      <td>2018-02-26</td>\n",
       "      <td>0.331150</td>\n",
       "      <td>1.472028</td>\n",
       "      <td>0.049780</td>\n",
       "      <td>0.187973</td>\n",
       "      <td>0.000417</td>\n",
       "      <td>0.143625</td>\n",
       "      <td>0.955153</td>\n",
       "      <td>0.099672</td>\n",
       "      <td>...</td>\n",
       "      <td>NaN</td>\n",
       "      <td>NaN</td>\n",
       "      <td>0.008082</td>\n",
       "      <td>0.002661</td>\n",
       "      <td>0.003676</td>\n",
       "      <td>NaN</td>\n",
       "      <td>0.001279</td>\n",
       "      <td>0.001011</td>\n",
       "      <td>0.008815</td>\n",
       "      <td>1</td>\n",
       "    </tr>\n",
       "    <tr>\n",
       "      <th>9996</th>\n",
       "      <td>007793144e0eeef1e29a7aa93244815328beb0d46ccbe3...</td>\n",
       "      <td>2018-03-19</td>\n",
       "      <td>0.361060</td>\n",
       "      <td>2.065567</td>\n",
       "      <td>0.048313</td>\n",
       "      <td>0.194930</td>\n",
       "      <td>0.006775</td>\n",
       "      <td>0.144908</td>\n",
       "      <td>1.252287</td>\n",
       "      <td>0.118775</td>\n",
       "      <td>...</td>\n",
       "      <td>NaN</td>\n",
       "      <td>NaN</td>\n",
       "      <td>0.007419</td>\n",
       "      <td>0.007829</td>\n",
       "      <td>0.000511</td>\n",
       "      <td>NaN</td>\n",
       "      <td>0.008342</td>\n",
       "      <td>0.004060</td>\n",
       "      <td>0.005083</td>\n",
       "      <td>1</td>\n",
       "    </tr>\n",
       "    <tr>\n",
       "      <th>9997</th>\n",
       "      <td>0077b7efafef4cfa81e42538b87e39799e9928e47c6826...</td>\n",
       "      <td>2017-03-28</td>\n",
       "      <td>0.708199</td>\n",
       "      <td>0.357349</td>\n",
       "      <td>0.013953</td>\n",
       "      <td>1.002573</td>\n",
       "      <td>0.003448</td>\n",
       "      <td>0.110258</td>\n",
       "      <td>0.170252</td>\n",
       "      <td>0.040633</td>\n",
       "      <td>...</td>\n",
       "      <td>NaN</td>\n",
       "      <td>NaN</td>\n",
       "      <td>0.009987</td>\n",
       "      <td>0.007548</td>\n",
       "      <td>0.003425</td>\n",
       "      <td>NaN</td>\n",
       "      <td>0.005115</td>\n",
       "      <td>0.007862</td>\n",
       "      <td>0.008078</td>\n",
       "      <td>0</td>\n",
       "    </tr>\n",
       "    <tr>\n",
       "      <th>9998</th>\n",
       "      <td>0077b7efafef4cfa81e42538b87e39799e9928e47c6826...</td>\n",
       "      <td>2017-04-15</td>\n",
       "      <td>0.692401</td>\n",
       "      <td>0.009380</td>\n",
       "      <td>0.018337</td>\n",
       "      <td>0.588057</td>\n",
       "      <td>0.001596</td>\n",
       "      <td>0.108820</td>\n",
       "      <td>0.177197</td>\n",
       "      <td>0.031383</td>\n",
       "      <td>...</td>\n",
       "      <td>NaN</td>\n",
       "      <td>NaN</td>\n",
       "      <td>0.002379</td>\n",
       "      <td>0.006379</td>\n",
       "      <td>0.009408</td>\n",
       "      <td>NaN</td>\n",
       "      <td>0.005702</td>\n",
       "      <td>0.006532</td>\n",
       "      <td>0.003437</td>\n",
       "      <td>0</td>\n",
       "    </tr>\n",
       "    <tr>\n",
       "      <th>9999</th>\n",
       "      <td>0077b7efafef4cfa81e42538b87e39799e9928e47c6826...</td>\n",
       "      <td>2017-05-31</td>\n",
       "      <td>0.779090</td>\n",
       "      <td>0.445052</td>\n",
       "      <td>0.032713</td>\n",
       "      <td>0.171864</td>\n",
       "      <td>0.001149</td>\n",
       "      <td>0.099150</td>\n",
       "      <td>0.009573</td>\n",
       "      <td>0.083275</td>\n",
       "      <td>...</td>\n",
       "      <td>NaN</td>\n",
       "      <td>NaN</td>\n",
       "      <td>0.001991</td>\n",
       "      <td>0.000735</td>\n",
       "      <td>0.009753</td>\n",
       "      <td>NaN</td>\n",
       "      <td>0.003173</td>\n",
       "      <td>0.007842</td>\n",
       "      <td>0.005381</td>\n",
       "      <td>0</td>\n",
       "    </tr>\n",
       "  </tbody>\n",
       "</table>\n",
       "<p>10000 rows × 191 columns</p>\n",
       "</div>"
      ],
      "text/plain": [
       "                                            customer_ID         S_2       P_2  \\\n",
       "0     0000099d6bd597052cdcda90ffabf56573fe9d7c79be5f...  2017-03-09  0.938469   \n",
       "1     0000099d6bd597052cdcda90ffabf56573fe9d7c79be5f...  2017-04-07  0.936665   \n",
       "2     0000099d6bd597052cdcda90ffabf56573fe9d7c79be5f...  2017-05-28  0.954180   \n",
       "3     0000099d6bd597052cdcda90ffabf56573fe9d7c79be5f...  2017-06-13  0.960384   \n",
       "4     0000099d6bd597052cdcda90ffabf56573fe9d7c79be5f...  2017-07-16  0.947248   \n",
       "...                                                 ...         ...       ...   \n",
       "9995  007793144e0eeef1e29a7aa93244815328beb0d46ccbe3...  2018-02-26  0.331150   \n",
       "9996  007793144e0eeef1e29a7aa93244815328beb0d46ccbe3...  2018-03-19  0.361060   \n",
       "9997  0077b7efafef4cfa81e42538b87e39799e9928e47c6826...  2017-03-28  0.708199   \n",
       "9998  0077b7efafef4cfa81e42538b87e39799e9928e47c6826...  2017-04-15  0.692401   \n",
       "9999  0077b7efafef4cfa81e42538b87e39799e9928e47c6826...  2017-05-31  0.779090   \n",
       "\n",
       "          D_39       B_1       B_2       R_1       S_3      D_41       B_3  \\\n",
       "0     0.001733  0.008724  1.006838  0.009228  0.124035  0.008771  0.004709   \n",
       "1     0.005775  0.004923  1.000653  0.006151  0.126750  0.000798  0.002714   \n",
       "2     0.091505  0.021655  1.009672  0.006815  0.123977  0.007598  0.009423   \n",
       "3     0.002455  0.013683  1.002700  0.001373  0.117169  0.000685  0.005531   \n",
       "4     0.002483  0.015193  1.000727  0.007605  0.117325  0.004653  0.009312   \n",
       "...        ...       ...       ...       ...       ...       ...       ...   \n",
       "9995  1.472028  0.049780  0.187973  0.000417  0.143625  0.955153  0.099672   \n",
       "9996  2.065567  0.048313  0.194930  0.006775  0.144908  1.252287  0.118775   \n",
       "9997  0.357349  0.013953  1.002573  0.003448  0.110258  0.170252  0.040633   \n",
       "9998  0.009380  0.018337  0.588057  0.001596  0.108820  0.177197  0.031383   \n",
       "9999  0.445052  0.032713  0.171864  0.001149  0.099150  0.009573  0.083275   \n",
       "\n",
       "      ...  D_137  D_138     D_139     D_140     D_141  D_142     D_143  \\\n",
       "0     ...    NaN    NaN  0.002427  0.003706  0.003818    NaN  0.000569   \n",
       "1     ...    NaN    NaN  0.003954  0.003167  0.005032    NaN  0.009576   \n",
       "2     ...    NaN    NaN  0.003269  0.007329  0.000427    NaN  0.003429   \n",
       "3     ...    NaN    NaN  0.006117  0.004516  0.003200    NaN  0.008419   \n",
       "4     ...    NaN    NaN  0.003671  0.004946  0.008889    NaN  0.001670   \n",
       "...   ...    ...    ...       ...       ...       ...    ...       ...   \n",
       "9995  ...    NaN    NaN  0.008082  0.002661  0.003676    NaN  0.001279   \n",
       "9996  ...    NaN    NaN  0.007419  0.007829  0.000511    NaN  0.008342   \n",
       "9997  ...    NaN    NaN  0.009987  0.007548  0.003425    NaN  0.005115   \n",
       "9998  ...    NaN    NaN  0.002379  0.006379  0.009408    NaN  0.005702   \n",
       "9999  ...    NaN    NaN  0.001991  0.000735  0.009753    NaN  0.003173   \n",
       "\n",
       "         D_144     D_145  target  \n",
       "0     0.000610  0.002674       0  \n",
       "1     0.005492  0.009217       0  \n",
       "2     0.006986  0.002603       0  \n",
       "3     0.006527  0.009600       0  \n",
       "4     0.008126  0.009827       0  \n",
       "...        ...       ...     ...  \n",
       "9995  0.001011  0.008815       1  \n",
       "9996  0.004060  0.005083       1  \n",
       "9997  0.007862  0.008078       0  \n",
       "9998  0.006532  0.003437       0  \n",
       "9999  0.007842  0.005381       0  \n",
       "\n",
       "[10000 rows x 191 columns]"
      ]
     },
     "execution_count": 7,
     "metadata": {},
     "output_type": "execute_result"
    }
   ],
   "source": [
    "sample_df = pd.merge(left=train_sample, right=train_labels, on=['customer_ID'], how='left')\n",
    "sample_df"
   ]
  },
  {
   "cell_type": "markdown",
   "id": "9c9987be",
   "metadata": {
    "papermill": {
     "duration": 0.00836,
     "end_time": "2022-06-03T11:56:18.691657",
     "exception": false,
     "start_time": "2022-06-03T11:56:18.683297",
     "status": "completed"
    },
    "tags": []
   },
   "source": [
    "## Step 2. Separate data"
   ]
  },
  {
   "cell_type": "markdown",
   "id": "6c08c24f",
   "metadata": {
    "papermill": {
     "duration": 0.008194,
     "end_time": "2022-06-03T11:56:18.708473",
     "exception": false,
     "start_time": "2022-06-03T11:56:18.700279",
     "status": "completed"
    },
    "tags": []
   },
   "source": [
    "We will check the data separately for each column type. So, Let's separate the columns."
   ]
  },
  {
   "cell_type": "code",
   "execution_count": 8,
   "id": "775fc843",
   "metadata": {
    "execution": {
     "iopub.execute_input": "2022-06-03T11:56:18.728172Z",
     "iopub.status.busy": "2022-06-03T11:56:18.727734Z",
     "iopub.status.idle": "2022-06-03T11:56:18.735449Z",
     "shell.execute_reply": "2022-06-03T11:56:18.734405Z"
    },
    "papermill": {
     "duration": 0.020764,
     "end_time": "2022-06-03T11:56:18.738228",
     "exception": false,
     "start_time": "2022-06-03T11:56:18.717464",
     "status": "completed"
    },
    "tags": []
   },
   "outputs": [
    {
     "name": "stdout",
     "output_type": "stream",
     "text": [
      "number of 'd's : 96\n",
      " number of 's's : 22\n",
      " number of 'p's : 3\n",
      " number of 'b's : 40\n",
      " number of 'r's : 28\n",
      "\n"
     ]
    }
   ],
   "source": [
    "d_cols = list(filter(lambda x : x.startswith(\"D\"), train_sample.columns.tolist()))\n",
    "s_cols = list(filter(lambda x : x.startswith(\"S\"), train_sample.columns.tolist()))\n",
    "p_cols = list(filter(lambda x : x.startswith(\"P\"), train_sample.columns.tolist()))\n",
    "b_cols = list(filter(lambda x : x.startswith(\"B\"), train_sample.columns.tolist()))\n",
    "r_cols = list(filter(lambda x : x.startswith(\"R\"), train_sample.columns.tolist()))\n",
    "\n",
    "print(f\"number of 'd's : {len(d_cols)}\\n\",\n",
    "      f\"number of 's's : {len(s_cols)}\\n\", \n",
    "      f\"number of 'p's : {len(p_cols)}\\n\", \n",
    "      f\"number of 'b's : {len(b_cols)}\\n\", \n",
    "      f\"number of 'r's : {len(r_cols)}\\n\")"
   ]
  },
  {
   "cell_type": "code",
   "execution_count": 9,
   "id": "45fd8d19",
   "metadata": {
    "execution": {
     "iopub.execute_input": "2022-06-03T11:56:18.759243Z",
     "iopub.status.busy": "2022-06-03T11:56:18.758837Z",
     "iopub.status.idle": "2022-06-03T11:56:18.821702Z",
     "shell.execute_reply": "2022-06-03T11:56:18.820349Z"
    },
    "papermill": {
     "duration": 0.077593,
     "end_time": "2022-06-03T11:56:18.826083",
     "exception": false,
     "start_time": "2022-06-03T11:56:18.748490",
     "status": "completed"
    },
    "tags": []
   },
   "outputs": [
    {
     "name": "stdout",
     "output_type": "stream",
     "text": [
      "[sample_df_d] number of rows : 10000\n",
      " [sample_df_d] number of cols : 98\n",
      " [sample_df_s] number of rows : 10000\n",
      " [sample_df_s] number of cols : 23\n",
      " [sample_df_p] number of rows : 10000\n",
      " [sample_df_p] number of cols : 5\n",
      " [sample_df_b] number of rows : 10000\n",
      " [sample_df_b] number of cols : 42\n",
      " [sample_df_r] number of rows : 10000\n",
      " [sample_df_r] number of cols : 30\n",
      "\n"
     ]
    }
   ],
   "source": [
    "import warnings\n",
    "warnings.filterwarnings('ignore')\n",
    "\n",
    "user_info = sample_df[['customer_ID', 'target']]\n",
    "ts_info = sample_df[['S_2']]\n",
    "ts_info['S_2'] = ts_info['S_2'].astype('datetime64')\n",
    "\n",
    "sample_df_d = sample_df.loc[:,d_cols]\n",
    "sample_df_d = pd.concat([ts_info, user_info, sample_df_d], axis=1)\n",
    "sample_df_d.set_index('S_2', inplace=True)\n",
    "sample_df_d.sort_index(inplace=True)\n",
    "\n",
    "sample_df_s = sample_df.loc[:,s_cols[1:]]\n",
    "sample_df_s = pd.concat([ts_info, user_info, sample_df_s], axis=1)\n",
    "sample_df_s.set_index('S_2', inplace=True)\n",
    "sample_df_s.sort_index(inplace=True)\n",
    "\n",
    "sample_df_p = sample_df.loc[:,p_cols]\n",
    "sample_df_p = pd.concat([ts_info, user_info, sample_df_p], axis=1)\n",
    "sample_df_p.set_index('S_2', inplace=True)\n",
    "sample_df_p.sort_index(inplace=True)\n",
    "\n",
    "sample_df_b = sample_df.loc[:,b_cols]\n",
    "sample_df_b = pd.concat([ts_info, user_info, sample_df_b], axis=1)\n",
    "sample_df_b.set_index('S_2', inplace=True)\n",
    "sample_df_b.sort_index(inplace=True)\n",
    "\n",
    "sample_df_r = sample_df.loc[:,r_cols]\n",
    "sample_df_r = pd.concat([ts_info, user_info, sample_df_r], axis=1)\n",
    "sample_df_r.set_index('S_2', inplace=True)\n",
    "sample_df_r.sort_index(inplace=True)\n",
    "\n",
    "print(f\"[sample_df_d] number of rows : {len(sample_df_d)}\\n\",\n",
    "      f\"[sample_df_d] number of cols : {len(sample_df_d.columns)}\\n\",\n",
    "      \n",
    "      f\"[sample_df_s] number of rows : {len(sample_df_s)}\\n\",             \n",
    "      f\"[sample_df_s] number of cols : {len(sample_df_s.columns)}\\n\", \n",
    "      \n",
    "      f\"[sample_df_p] number of rows : {len(sample_df_p)}\\n\", \n",
    "      f\"[sample_df_p] number of cols : {len(sample_df_p.columns)}\\n\", \n",
    "      \n",
    "      f\"[sample_df_b] number of rows : {len(sample_df_b)}\\n\", \n",
    "      f\"[sample_df_b] number of cols : {len(sample_df_b.columns)}\\n\", \n",
    "      \n",
    "      f\"[sample_df_r] number of rows : {len(sample_df_r)}\\n\",\n",
    "      f\"[sample_df_r] number of cols : {len(sample_df_r.columns)}\\n\")"
   ]
  },
  {
   "cell_type": "markdown",
   "id": "ca8ce08b",
   "metadata": {
    "papermill": {
     "duration": 0.009594,
     "end_time": "2022-06-03T11:56:18.844761",
     "exception": false,
     "start_time": "2022-06-03T11:56:18.835167",
     "status": "completed"
    },
    "tags": []
   },
   "source": [
    "If the data types are the same, the independence between columns is likely to be weak. And if the independence is weak, it is necessary to eliminate some of the highly correlated variables. To check these points, let's check the correlation distribution. The darker the blue color, the lower the independence and the stronger the correlation."
   ]
  },
  {
   "cell_type": "code",
   "execution_count": 10,
   "id": "c2363bc1",
   "metadata": {
    "execution": {
     "iopub.execute_input": "2022-06-03T11:56:18.865860Z",
     "iopub.status.busy": "2022-06-03T11:56:18.864757Z",
     "iopub.status.idle": "2022-06-03T11:56:22.774277Z",
     "shell.execute_reply": "2022-06-03T11:56:22.773511Z"
    },
    "papermill": {
     "duration": 3.923187,
     "end_time": "2022-06-03T11:56:22.777419",
     "exception": false,
     "start_time": "2022-06-03T11:56:18.854232",
     "status": "completed"
    },
    "tags": []
   },
   "outputs": [
    {
     "data": {
      "image/png": "[encoded data removed]",
      "text/plain": [
       "<Figure size 864x864 with 10 Axes>"
      ]
     },
     "metadata": {
      "needs_background": "light"
     },
     "output_type": "display_data"
    }
   ],
   "source": [
    "import seaborn as sns\n",
    "import matplotlib.pyplot as plt\n",
    "\n",
    "plt.figure(figsize=(12,12))\n",
    "\n",
    "plt.subplot(321)\n",
    "sns.heatmap(sample_df_d.loc[:,d_cols].corr(), cmap='Blues')\n",
    "plt.title('col_type : D')\n",
    "\n",
    "plt.subplot(322)\n",
    "sns.heatmap(sample_df_s.loc[:,s_cols[1:]].corr(), cmap='Blues')\n",
    "plt.title('col_type : S')\n",
    "\n",
    "plt.subplot(323)\n",
    "sns.heatmap(sample_df_p.loc[:,p_cols].corr(), cmap='Blues')\n",
    "plt.title('col_type : P')\n",
    "\n",
    "plt.subplot(324)\n",
    "sns.heatmap(sample_df_b.loc[:,b_cols].corr(), cmap='Blues')\n",
    "plt.title('col_type : B')\n",
    "\n",
    "plt.subplot(325)\n",
    "sns.heatmap(sample_df_r.loc[:,r_cols].corr(), cmap='Blues')\n",
    "plt.title('col_type : R')\n",
    "\n",
    "plt.tight_layout()\n",
    "plt.show()"
   ]
  },
  {
   "cell_type": "markdown",
   "id": "e9eb3dec",
   "metadata": {
    "papermill": {
     "duration": 0.010273,
     "end_time": "2022-06-03T11:56:22.799149",
     "exception": false,
     "start_time": "2022-06-03T11:56:22.788876",
     "status": "completed"
    },
    "tags": []
   },
   "source": [
    "Considering the amount of variables, it is fortunate that there are not many variables that are related to each other. However, there are several strongly correlated variables. So,Keep in mind that these variables will need to be removed when training the machine learning model later(not this chapter)."
   ]
  },
  {
   "cell_type": "markdown",
   "id": "f838872f",
   "metadata": {
    "papermill": {
     "duration": 0.01096,
     "end_time": "2022-06-03T11:56:22.821638",
     "exception": false,
     "start_time": "2022-06-03T11:56:22.810678",
     "status": "completed"
    },
    "tags": []
   },
   "source": [
    "## Step 3. Check Outliers"
   ]
  },
  {
   "cell_type": "markdown",
   "id": "5bbe5ee1",
   "metadata": {
    "papermill": {
     "duration": 0.010386,
     "end_time": "2022-06-03T11:56:22.843462",
     "exception": false,
     "start_time": "2022-06-03T11:56:22.833076",
     "status": "completed"
    },
    "tags": []
   },
   "source": [
    "Since it is a matter of matching whether the target is 0 or 1, it is necessary to check the proportion of appearance of 1 for each date. In case of excessive or very rare occurrence, the date can be treated as an outlier, and this outlier may be helpful for our analysis."
   ]
  },
  {
   "cell_type": "code",
   "execution_count": 11,
   "id": "eb480d1f",
   "metadata": {
    "execution": {
     "iopub.execute_input": "2022-06-03T11:56:22.866772Z",
     "iopub.status.busy": "2022-06-03T11:56:22.866176Z",
     "iopub.status.idle": "2022-06-03T11:56:23.499574Z",
     "shell.execute_reply": "2022-06-03T11:56:23.498515Z"
    },
    "papermill": {
     "duration": 0.648725,
     "end_time": "2022-06-03T11:56:23.502575",
     "exception": false,
     "start_time": "2022-06-03T11:56:22.853850",
     "status": "completed"
    },
    "tags": []
   },
   "outputs": [
    {
     "data": {
      "image/png": "[encoded data removed]",
      "text/plain": [
       "<Figure size 864x288 with 2 Axes>"
      ]
     },
     "metadata": {
      "needs_background": "light"
     },
     "output_type": "display_data"
    }
   ],
   "source": [
    "import matplotlib.pyplot as plt\n",
    "import seaborn as sns\n",
    "\n",
    "plt.figure(figsize=(12,4))\n",
    "daily_cnt_df = pd.DataFrame(sample_df_d.resample('D')['target'].value_counts())\n",
    "daily_cnt_df.columns = ['count']\n",
    "daily_cnt_df.reset_index(inplace=True)\n",
    "\n",
    "plt.subplot(211)\n",
    "data_0 = daily_cnt_df[daily_cnt_df['target']==0]\n",
    "sns.lineplot(data=data_0, x='S_2', y='count', linewidth=0.8, alpha=0.8, label='target:0')\n",
    "data_1 = daily_cnt_df[daily_cnt_df['target']==1]\n",
    "sns.lineplot(data=data_1, x='S_2', y='count', linewidth=0.8, alpha=0.8, label='target:1')\n",
    "plt.title('count of targets')\n",
    "\n",
    "plt.subplot(212)\n",
    "data_ratio_1 = data_1.set_index('S_2')['count'] / (data_1.set_index('S_2')['count'] + data_0.set_index('S_2')['count'])\n",
    "sns.lineplot(data=data_ratio_1, linewidth=0.8, alpha=0.8, color='g')\n",
    "plt.axhspan(ymin=data_ratio_1.mean()-3*data_ratio_1.std(), ymax=data_ratio_1.mean()+3*data_ratio_1.std(), alpha=0.25, color='pink')\n",
    "v_idx = data_ratio_1[(data_ratio_1 > data_ratio_1.mean()+3*data_ratio_1.std()) | (data_ratio_1 < data_ratio_1.mean()-3*data_ratio_1.std())]\n",
    "for i in v_idx.index:\n",
    "    plt.axvline(x=i, color='r', linestyle='--', alpha=0.7, linewidth=0.95)\n",
    "plt.ylabel('ratio')\n",
    "plt.title('ratio of target(1)')\n",
    "\n",
    "plt.tight_layout()\n",
    "plt.show()"
   ]
  },
  {
   "cell_type": "markdown",
   "id": "9ae776b4",
   "metadata": {
    "papermill": {
     "duration": 0.011654,
     "end_time": "2022-06-03T11:56:23.526557",
     "exception": false,
     "start_time": "2022-06-03T11:56:23.514903",
     "status": "completed"
    },
    "tags": []
   },
   "source": [
    "The red area on the `ratio of target(1)` graph indicates values that fall within 3 standard deviations. + and - standard deviations are 99% or more of the section that contains most of the data, and values protruding outside the corresponding range can be judged as outliers."
   ]
  },
  {
   "cell_type": "code",
   "execution_count": 12,
   "id": "b0a478cc",
   "metadata": {
    "execution": {
     "iopub.execute_input": "2022-06-03T11:56:23.552797Z",
     "iopub.status.busy": "2022-06-03T11:56:23.552191Z",
     "iopub.status.idle": "2022-06-03T11:56:23.558368Z",
     "shell.execute_reply": "2022-06-03T11:56:23.557711Z"
    },
    "papermill": {
     "duration": 0.021514,
     "end_time": "2022-06-03T11:56:23.560067",
     "exception": false,
     "start_time": "2022-06-03T11:56:23.538553",
     "status": "completed"
    },
    "tags": []
   },
   "outputs": [
    {
     "data": {
      "text/plain": [
       "S_2\n",
       "2017-04-06    0.571429\n",
       "2018-03-31    0.600000\n",
       "Name: count, dtype: float64"
      ]
     },
     "execution_count": 12,
     "metadata": {},
     "output_type": "execute_result"
    }
   ],
   "source": [
    "v_idx # outliers"
   ]
  },
  {
   "cell_type": "markdown",
   "id": "c34b3192",
   "metadata": {
    "papermill": {
     "duration": 0.011558,
     "end_time": "2022-06-03T11:56:23.583904",
     "exception": false,
     "start_time": "2022-06-03T11:56:23.572346",
     "status": "completed"
    },
    "tags": []
   },
   "source": [
    "## Step 4. PCA (Focus on 'D' type)"
   ]
  },
  {
   "cell_type": "markdown",
   "id": "f1c44599",
   "metadata": {
    "papermill": {
     "duration": 0.011497,
     "end_time": "2022-06-03T11:56:23.607223",
     "exception": false,
     "start_time": "2022-06-03T11:56:23.595726",
     "status": "completed"
    },
    "tags": []
   },
   "source": [
    "In this tutorial, we will analyze 'D' type columns as an example among the five data types divided above.\n",
    "\n",
    "And Among the categorical variables specified in the guide, the variables corresponding to type D are as follows."
   ]
  },
  {
   "cell_type": "code",
   "execution_count": 13,
   "id": "99070565",
   "metadata": {
    "execution": {
     "iopub.execute_input": "2022-06-03T11:56:23.633212Z",
     "iopub.status.busy": "2022-06-03T11:56:23.632588Z",
     "iopub.status.idle": "2022-06-03T11:56:23.636990Z",
     "shell.execute_reply": "2022-06-03T11:56:23.636073Z"
    },
    "papermill": {
     "duration": 0.019716,
     "end_time": "2022-06-03T11:56:23.638732",
     "exception": false,
     "start_time": "2022-06-03T11:56:23.619016",
     "status": "completed"
    },
    "tags": []
   },
   "outputs": [],
   "source": [
    "cat_cols = ['D_114', 'D_116', 'D_117', 'D_120', 'D_126', 'D_63', 'D_64', 'D_66', 'D_68']"
   ]
  },
  {
   "cell_type": "markdown",
   "id": "1da4fe3f",
   "metadata": {
    "papermill": {
     "duration": 0.011818,
     "end_time": "2022-06-03T11:56:23.662483",
     "exception": false,
     "start_time": "2022-06-03T11:56:23.650665",
     "status": "completed"
    },
    "tags": []
   },
   "source": [
    "There should be no missing values for PCA. However, since the loss of information is enormous when all missing values are removed, we will fill in the missing values with the median of the average values of each D-type data."
   ]
  },
  {
   "cell_type": "code",
   "execution_count": 14,
   "id": "cb81d60c",
   "metadata": {
    "execution": {
     "iopub.execute_input": "2022-06-03T11:56:23.688426Z",
     "iopub.status.busy": "2022-06-03T11:56:23.687814Z",
     "iopub.status.idle": "2022-06-03T11:56:24.232087Z",
     "shell.execute_reply": "2022-06-03T11:56:24.230858Z"
    },
    "papermill": {
     "duration": 0.560668,
     "end_time": "2022-06-03T11:56:24.235112",
     "exception": false,
     "start_time": "2022-06-03T11:56:23.674444",
     "status": "completed"
    },
    "tags": []
   },
   "outputs": [
    {
     "data": {
      "text/html": [
       "<div>\n",
       "<style scoped>\n",
       "    .dataframe tbody tr th:only-of-type {\n",
       "        vertical-align: middle;\n",
       "    }\n",
       "\n",
       "    .dataframe tbody tr th {\n",
       "        vertical-align: top;\n",
       "    }\n",
       "\n",
       "    .dataframe thead th {\n",
       "        text-align: right;\n",
       "    }\n",
       "</style>\n",
       "<table border=\"1\" class=\"dataframe\">\n",
       "  <thead>\n",
       "    <tr style=\"text-align: right;\">\n",
       "      <th></th>\n",
       "      <th>x1</th>\n",
       "      <th>y1</th>\n",
       "    </tr>\n",
       "  </thead>\n",
       "  <tbody>\n",
       "    <tr>\n",
       "      <th>0</th>\n",
       "      <td>-0.072508</td>\n",
       "      <td>0.414014</td>\n",
       "    </tr>\n",
       "    <tr>\n",
       "      <th>1</th>\n",
       "      <td>1.321788</td>\n",
       "      <td>-0.668247</td>\n",
       "    </tr>\n",
       "    <tr>\n",
       "      <th>2</th>\n",
       "      <td>-0.093976</td>\n",
       "      <td>-0.762743</td>\n",
       "    </tr>\n",
       "    <tr>\n",
       "      <th>3</th>\n",
       "      <td>-0.097180</td>\n",
       "      <td>-0.029490</td>\n",
       "    </tr>\n",
       "    <tr>\n",
       "      <th>4</th>\n",
       "      <td>-0.094569</td>\n",
       "      <td>-0.121710</td>\n",
       "    </tr>\n",
       "    <tr>\n",
       "      <th>...</th>\n",
       "      <td>...</td>\n",
       "      <td>...</td>\n",
       "    </tr>\n",
       "    <tr>\n",
       "      <th>9995</th>\n",
       "      <td>-0.104005</td>\n",
       "      <td>-0.613885</td>\n",
       "    </tr>\n",
       "    <tr>\n",
       "      <th>9996</th>\n",
       "      <td>0.168294</td>\n",
       "      <td>1.674835</td>\n",
       "    </tr>\n",
       "    <tr>\n",
       "      <th>9997</th>\n",
       "      <td>0.019254</td>\n",
       "      <td>0.545340</td>\n",
       "    </tr>\n",
       "    <tr>\n",
       "      <th>9998</th>\n",
       "      <td>-0.104482</td>\n",
       "      <td>1.720740</td>\n",
       "    </tr>\n",
       "    <tr>\n",
       "      <th>9999</th>\n",
       "      <td>-0.075808</td>\n",
       "      <td>0.817908</td>\n",
       "    </tr>\n",
       "  </tbody>\n",
       "</table>\n",
       "<p>10000 rows × 2 columns</p>\n",
       "</div>"
      ],
      "text/plain": [
       "            x1        y1\n",
       "0    -0.072508  0.414014\n",
       "1     1.321788 -0.668247\n",
       "2    -0.093976 -0.762743\n",
       "3    -0.097180 -0.029490\n",
       "4    -0.094569 -0.121710\n",
       "...        ...       ...\n",
       "9995 -0.104005 -0.613885\n",
       "9996  0.168294  1.674835\n",
       "9997  0.019254  0.545340\n",
       "9998 -0.104482  1.720740\n",
       "9999 -0.075808  0.817908\n",
       "\n",
       "[10000 rows x 2 columns]"
      ]
     },
     "execution_count": 14,
     "metadata": {},
     "output_type": "execute_result"
    }
   ],
   "source": [
    "from sklearn.decomposition import PCA\n",
    "\n",
    "pca = PCA(n_components=2)\n",
    "decomposed_data = pca.fit_transform(sample_df_d.drop(cat_cols,axis=1).iloc[:,2:].fillna(sample_df_d[d_cols].mean().median()))\n",
    "decomposed_df = pd.DataFrame(data=decomposed_data, columns=['x1','y1'])\n",
    "decomposed_df"
   ]
  },
  {
   "cell_type": "markdown",
   "id": "8811cf3d",
   "metadata": {
    "papermill": {
     "duration": 0.037632,
     "end_time": "2022-06-03T11:56:24.315292",
     "exception": false,
     "start_time": "2022-06-03T11:56:24.277660",
     "status": "completed"
    },
    "tags": []
   },
   "source": [
    "Now all D-type data has been reduced to two-dimensional data. Let's add target information here."
   ]
  },
  {
   "cell_type": "code",
   "execution_count": 15,
   "id": "f94e325c",
   "metadata": {
    "execution": {
     "iopub.execute_input": "2022-06-03T11:56:24.341567Z",
     "iopub.status.busy": "2022-06-03T11:56:24.341198Z",
     "iopub.status.idle": "2022-06-03T11:56:24.355370Z",
     "shell.execute_reply": "2022-06-03T11:56:24.354393Z"
    },
    "papermill": {
     "duration": 0.029462,
     "end_time": "2022-06-03T11:56:24.357440",
     "exception": false,
     "start_time": "2022-06-03T11:56:24.327978",
     "status": "completed"
    },
    "tags": []
   },
   "outputs": [
    {
     "data": {
      "text/html": [
       "<div>\n",
       "<style scoped>\n",
       "    .dataframe tbody tr th:only-of-type {\n",
       "        vertical-align: middle;\n",
       "    }\n",
       "\n",
       "    .dataframe tbody tr th {\n",
       "        vertical-align: top;\n",
       "    }\n",
       "\n",
       "    .dataframe thead th {\n",
       "        text-align: right;\n",
       "    }\n",
       "</style>\n",
       "<table border=\"1\" class=\"dataframe\">\n",
       "  <thead>\n",
       "    <tr style=\"text-align: right;\">\n",
       "      <th></th>\n",
       "      <th>x1</th>\n",
       "      <th>y1</th>\n",
       "      <th>target</th>\n",
       "    </tr>\n",
       "  </thead>\n",
       "  <tbody>\n",
       "    <tr>\n",
       "      <th>0</th>\n",
       "      <td>-0.072508</td>\n",
       "      <td>0.414014</td>\n",
       "      <td>1</td>\n",
       "    </tr>\n",
       "    <tr>\n",
       "      <th>1</th>\n",
       "      <td>1.321788</td>\n",
       "      <td>-0.668247</td>\n",
       "      <td>0</td>\n",
       "    </tr>\n",
       "    <tr>\n",
       "      <th>2</th>\n",
       "      <td>-0.093976</td>\n",
       "      <td>-0.762743</td>\n",
       "      <td>0</td>\n",
       "    </tr>\n",
       "    <tr>\n",
       "      <th>3</th>\n",
       "      <td>-0.097180</td>\n",
       "      <td>-0.029490</td>\n",
       "      <td>0</td>\n",
       "    </tr>\n",
       "    <tr>\n",
       "      <th>4</th>\n",
       "      <td>-0.094569</td>\n",
       "      <td>-0.121710</td>\n",
       "      <td>0</td>\n",
       "    </tr>\n",
       "    <tr>\n",
       "      <th>...</th>\n",
       "      <td>...</td>\n",
       "      <td>...</td>\n",
       "      <td>...</td>\n",
       "    </tr>\n",
       "    <tr>\n",
       "      <th>9995</th>\n",
       "      <td>-0.104005</td>\n",
       "      <td>-0.613885</td>\n",
       "      <td>0</td>\n",
       "    </tr>\n",
       "    <tr>\n",
       "      <th>9996</th>\n",
       "      <td>0.168294</td>\n",
       "      <td>1.674835</td>\n",
       "      <td>1</td>\n",
       "    </tr>\n",
       "    <tr>\n",
       "      <th>9997</th>\n",
       "      <td>0.019254</td>\n",
       "      <td>0.545340</td>\n",
       "      <td>1</td>\n",
       "    </tr>\n",
       "    <tr>\n",
       "      <th>9998</th>\n",
       "      <td>-0.104482</td>\n",
       "      <td>1.720740</td>\n",
       "      <td>1</td>\n",
       "    </tr>\n",
       "    <tr>\n",
       "      <th>9999</th>\n",
       "      <td>-0.075808</td>\n",
       "      <td>0.817908</td>\n",
       "      <td>1</td>\n",
       "    </tr>\n",
       "  </tbody>\n",
       "</table>\n",
       "<p>10000 rows × 3 columns</p>\n",
       "</div>"
      ],
      "text/plain": [
       "            x1        y1  target\n",
       "0    -0.072508  0.414014       1\n",
       "1     1.321788 -0.668247       0\n",
       "2    -0.093976 -0.762743       0\n",
       "3    -0.097180 -0.029490       0\n",
       "4    -0.094569 -0.121710       0\n",
       "...        ...       ...     ...\n",
       "9995 -0.104005 -0.613885       0\n",
       "9996  0.168294  1.674835       1\n",
       "9997  0.019254  0.545340       1\n",
       "9998 -0.104482  1.720740       1\n",
       "9999 -0.075808  0.817908       1\n",
       "\n",
       "[10000 rows x 3 columns]"
      ]
     },
     "execution_count": 15,
     "metadata": {},
     "output_type": "execute_result"
    }
   ],
   "source": [
    "pd.concat([decomposed_df, sample_df_d['target'].reset_index(drop=True)], axis=1)"
   ]
  },
  {
   "cell_type": "markdown",
   "id": "2225df0a",
   "metadata": {
    "papermill": {
     "duration": 0.012034,
     "end_time": "2022-06-03T11:56:24.381774",
     "exception": false,
     "start_time": "2022-06-03T11:56:24.369740",
     "status": "completed"
    },
    "tags": []
   },
   "source": [
    "When this data is spread out on a two-dimensional plane, it looks like the following."
   ]
  },
  {
   "cell_type": "code",
   "execution_count": 16,
   "id": "7f5d5300",
   "metadata": {
    "execution": {
     "iopub.execute_input": "2022-06-03T11:56:24.408170Z",
     "iopub.status.busy": "2022-06-03T11:56:24.407747Z",
     "iopub.status.idle": "2022-06-03T11:56:24.878961Z",
     "shell.execute_reply": "2022-06-03T11:56:24.877842Z"
    },
    "papermill": {
     "duration": 0.48693,
     "end_time": "2022-06-03T11:56:24.881143",
     "exception": false,
     "start_time": "2022-06-03T11:56:24.394213",
     "status": "completed"
    },
    "tags": []
   },
   "outputs": [
    {
     "data": {
      "image/png": "[encoded data removed]",
      "text/plain": [
       "<Figure size 432x288 with 1 Axes>"
      ]
     },
     "metadata": {
      "needs_background": "light"
     },
     "output_type": "display_data"
    }
   ],
   "source": [
    "decomposed_2d = pd.concat([decomposed_df, sample_df_d['target'].reset_index(drop=True)], axis=1)\n",
    "sns.scatterplot(data=decomposed_2d, x='x1', y='y1', hue='target') \n",
    "plt.title('decomposed 2d')\n",
    "plt.show()"
   ]
  },
  {
   "cell_type": "markdown",
   "id": "9d0681f0",
   "metadata": {
    "papermill": {
     "duration": 0.013636,
     "end_time": "2022-06-03T11:56:24.907365",
     "exception": false,
     "start_time": "2022-06-03T11:56:24.893729",
     "status": "completed"
    },
    "tags": []
   },
   "source": [
    "It seems that the x-axis values are reduced to discrete. It may be a problem because the existing data values have different scales for each column. Therefore, let's standardize the data and then proceed with dimensionality reduction again."
   ]
  },
  {
   "cell_type": "code",
   "execution_count": 17,
   "id": "f25b1f50",
   "metadata": {
    "execution": {
     "iopub.execute_input": "2022-06-03T11:56:24.936410Z",
     "iopub.status.busy": "2022-06-03T11:56:24.935204Z",
     "iopub.status.idle": "2022-06-03T11:56:25.376319Z",
     "shell.execute_reply": "2022-06-03T11:56:25.374869Z"
    },
    "papermill": {
     "duration": 0.458143,
     "end_time": "2022-06-03T11:56:25.378622",
     "exception": false,
     "start_time": "2022-06-03T11:56:24.920479",
     "status": "completed"
    },
    "tags": []
   },
   "outputs": [
    {
     "data": {
      "text/html": [
       "<div>\n",
       "<style scoped>\n",
       "    .dataframe tbody tr th:only-of-type {\n",
       "        vertical-align: middle;\n",
       "    }\n",
       "\n",
       "    .dataframe tbody tr th {\n",
       "        vertical-align: top;\n",
       "    }\n",
       "\n",
       "    .dataframe thead th {\n",
       "        text-align: right;\n",
       "    }\n",
       "</style>\n",
       "<table border=\"1\" class=\"dataframe\">\n",
       "  <thead>\n",
       "    <tr style=\"text-align: right;\">\n",
       "      <th></th>\n",
       "      <th>D_39</th>\n",
       "      <th>D_41</th>\n",
       "      <th>D_42</th>\n",
       "      <th>D_43</th>\n",
       "      <th>D_44</th>\n",
       "      <th>D_45</th>\n",
       "      <th>D_46</th>\n",
       "      <th>D_47</th>\n",
       "      <th>D_48</th>\n",
       "      <th>D_49</th>\n",
       "      <th>...</th>\n",
       "      <th>D_136</th>\n",
       "      <th>D_137</th>\n",
       "      <th>D_138</th>\n",
       "      <th>D_139</th>\n",
       "      <th>D_140</th>\n",
       "      <th>D_141</th>\n",
       "      <th>D_142</th>\n",
       "      <th>D_143</th>\n",
       "      <th>D_144</th>\n",
       "      <th>D_145</th>\n",
       "    </tr>\n",
       "  </thead>\n",
       "  <tbody>\n",
       "    <tr>\n",
       "      <th>count</th>\n",
       "      <td>10000.000000</td>\n",
       "      <td>1.000000e+04</td>\n",
       "      <td>1.355000e+03</td>\n",
       "      <td>6.913000e+03</td>\n",
       "      <td>9.505000e+03</td>\n",
       "      <td>1.000000e+04</td>\n",
       "      <td>7.709000e+03</td>\n",
       "      <td>1.000000e+04</td>\n",
       "      <td>8.697000e+03</td>\n",
       "      <td>1.104000e+03</td>\n",
       "      <td>...</td>\n",
       "      <td>3.720000e+02</td>\n",
       "      <td>3.720000e+02</td>\n",
       "      <td>3.720000e+02</td>\n",
       "      <td>9.847000e+03</td>\n",
       "      <td>9.937000e+03</td>\n",
       "      <td>9.847000e+03</td>\n",
       "      <td>1.572000e+03</td>\n",
       "      <td>9.847000e+03</td>\n",
       "      <td>9.937000e+03</td>\n",
       "      <td>9.847000e+03</td>\n",
       "    </tr>\n",
       "    <tr>\n",
       "      <th>mean</th>\n",
       "      <td>0.000000</td>\n",
       "      <td>3.410605e-17</td>\n",
       "      <td>-1.310964e-18</td>\n",
       "      <td>-1.315630e-16</td>\n",
       "      <td>5.382333e-17</td>\n",
       "      <td>-2.287948e-16</td>\n",
       "      <td>1.493163e-16</td>\n",
       "      <td>-5.826450e-17</td>\n",
       "      <td>-1.960794e-17</td>\n",
       "      <td>-2.783603e-16</td>\n",
       "      <td>...</td>\n",
       "      <td>3.820122e-17</td>\n",
       "      <td>1.910061e-17</td>\n",
       "      <td>9.550306e-18</td>\n",
       "      <td>3.535756e-17</td>\n",
       "      <td>8.580570e-18</td>\n",
       "      <td>1.659641e-17</td>\n",
       "      <td>-1.887097e-16</td>\n",
       "      <td>2.597699e-17</td>\n",
       "      <td>-5.309228e-17</td>\n",
       "      <td>2.092591e-17</td>\n",
       "    </tr>\n",
       "    <tr>\n",
       "      <th>std</th>\n",
       "      <td>1.000000</td>\n",
       "      <td>1.000000e+00</td>\n",
       "      <td>1.000000e+00</td>\n",
       "      <td>1.000000e+00</td>\n",
       "      <td>1.000000e+00</td>\n",
       "      <td>1.000000e+00</td>\n",
       "      <td>1.000000e+00</td>\n",
       "      <td>1.000000e+00</td>\n",
       "      <td>1.000000e+00</td>\n",
       "      <td>1.000000e+00</td>\n",
       "      <td>...</td>\n",
       "      <td>1.000000e+00</td>\n",
       "      <td>1.000000e+00</td>\n",
       "      <td>1.000000e+00</td>\n",
       "      <td>1.000000e+00</td>\n",
       "      <td>1.000000e+00</td>\n",
       "      <td>1.000000e+00</td>\n",
       "      <td>1.000000e+00</td>\n",
       "      <td>1.000000e+00</td>\n",
       "      <td>1.000000e+00</td>\n",
       "      <td>1.000000e+00</td>\n",
       "    </tr>\n",
       "    <tr>\n",
       "      <th>min</th>\n",
       "      <td>-0.569306</td>\n",
       "      <td>-3.287806e-01</td>\n",
       "      <td>-9.150381e-01</td>\n",
       "      <td>-7.544872e-01</td>\n",
       "      <td>-5.510914e-01</td>\n",
       "      <td>-1.058107e+00</td>\n",
       "      <td>-7.442018e+00</td>\n",
       "      <td>-1.850656e+00</td>\n",
       "      <td>-1.207232e+00</td>\n",
       "      <td>-1.002292e+00</td>\n",
       "      <td>...</td>\n",
       "      <td>-1.114350e+00</td>\n",
       "      <td>-1.513691e-01</td>\n",
       "      <td>-7.097231e-01</td>\n",
       "      <td>-4.494780e-01</td>\n",
       "      <td>-1.728309e-01</td>\n",
       "      <td>-4.497942e-01</td>\n",
       "      <td>-1.517661e+00</td>\n",
       "      <td>-4.467063e-01</td>\n",
       "      <td>-2.661521e-01</td>\n",
       "      <td>-2.548880e-01</td>\n",
       "    </tr>\n",
       "    <tr>\n",
       "      <th>25%</th>\n",
       "      <td>-0.552727</td>\n",
       "      <td>-3.135574e-01</td>\n",
       "      <td>-6.727018e-01</td>\n",
       "      <td>-5.550671e-01</td>\n",
       "      <td>-5.338797e-01</td>\n",
       "      <td>-8.328061e-01</td>\n",
       "      <td>-3.529748e-01</td>\n",
       "      <td>-7.707881e-01</td>\n",
       "      <td>-9.367708e-01</td>\n",
       "      <td>-6.221539e-01</td>\n",
       "      <td>...</td>\n",
       "      <td>-1.074683e+00</td>\n",
       "      <td>-1.294909e-01</td>\n",
       "      <td>-6.961367e-01</td>\n",
       "      <td>-4.414527e-01</td>\n",
       "      <td>-1.529784e-01</td>\n",
       "      <td>-4.408272e-01</td>\n",
       "      <td>-8.801417e-01</td>\n",
       "      <td>-4.386556e-01</td>\n",
       "      <td>-2.508036e-01</td>\n",
       "      <td>-2.418189e-01</td>\n",
       "    </tr>\n",
       "    <tr>\n",
       "      <th>50%</th>\n",
       "      <td>-0.535606</td>\n",
       "      <td>-2.989905e-01</td>\n",
       "      <td>-2.088348e-01</td>\n",
       "      <td>-3.531593e-01</td>\n",
       "      <td>-5.168539e-01</td>\n",
       "      <td>-2.348523e-01</td>\n",
       "      <td>-1.134069e-01</td>\n",
       "      <td>-1.559857e-01</td>\n",
       "      <td>-2.337783e-01</td>\n",
       "      <td>-2.867371e-01</td>\n",
       "      <td>...</td>\n",
       "      <td>1.150052e-01</td>\n",
       "      <td>-1.026238e-01</td>\n",
       "      <td>-6.835783e-01</td>\n",
       "      <td>-4.331811e-01</td>\n",
       "      <td>-1.335950e-01</td>\n",
       "      <td>-4.321390e-01</td>\n",
       "      <td>-7.244393e-02</td>\n",
       "      <td>-4.304156e-01</td>\n",
       "      <td>-2.355986e-01</td>\n",
       "      <td>-2.287513e-01</td>\n",
       "    </tr>\n",
       "    <tr>\n",
       "      <th>75%</th>\n",
       "      <td>0.293605</td>\n",
       "      <td>-2.839855e-01</td>\n",
       "      <td>3.383362e-01</td>\n",
       "      <td>1.288286e-01</td>\n",
       "      <td>2.547251e-02</td>\n",
       "      <td>4.677654e-01</td>\n",
       "      <td>2.900729e-01</td>\n",
       "      <td>6.410765e-01</td>\n",
       "      <td>8.937135e-01</td>\n",
       "      <td>3.375072e-01</td>\n",
       "      <td>...</td>\n",
       "      <td>1.415444e-01</td>\n",
       "      <td>-7.939729e-02</td>\n",
       "      <td>9.247281e-01</td>\n",
       "      <td>-4.250537e-01</td>\n",
       "      <td>-1.149044e-01</td>\n",
       "      <td>-4.234181e-01</td>\n",
       "      <td>7.591650e-01</td>\n",
       "      <td>-4.222912e-01</td>\n",
       "      <td>-2.196294e-01</td>\n",
       "      <td>-2.157679e-01</td>\n",
       "    </tr>\n",
       "    <tr>\n",
       "      <th>max</th>\n",
       "      <td>14.905550</td>\n",
       "      <td>1.283911e+01</td>\n",
       "      <td>1.264106e+01</td>\n",
       "      <td>1.063186e+01</td>\n",
       "      <td>8.679907e+00</td>\n",
       "      <td>4.462231e+00</td>\n",
       "      <td>1.102172e+01</td>\n",
       "      <td>3.478178e+00</td>\n",
       "      <td>3.598534e+00</td>\n",
       "      <td>7.731648e+00</td>\n",
       "      <td>...</td>\n",
       "      <td>3.771351e+00</td>\n",
       "      <td>9.600524e+00</td>\n",
       "      <td>4.179710e+00</td>\n",
       "      <td>2.308029e+00</td>\n",
       "      <td>7.460731e+00</td>\n",
       "      <td>2.874488e+00</td>\n",
       "      <td>3.265909e+00</td>\n",
       "      <td>2.322370e+00</td>\n",
       "      <td>7.439834e+00</td>\n",
       "      <td>1.861326e+01</td>\n",
       "    </tr>\n",
       "  </tbody>\n",
       "</table>\n",
       "<p>8 rows × 87 columns</p>\n",
       "</div>"
      ],
      "text/plain": [
       "               D_39          D_41          D_42          D_43          D_44  \\\n",
       "count  10000.000000  1.000000e+04  1.355000e+03  6.913000e+03  9.505000e+03   \n",
       "mean       0.000000  3.410605e-17 -1.310964e-18 -1.315630e-16  5.382333e-17   \n",
       "std        1.000000  1.000000e+00  1.000000e+00  1.000000e+00  1.000000e+00   \n",
       "min       -0.569306 -3.287806e-01 -9.150381e-01 -7.544872e-01 -5.510914e-01   \n",
       "25%       -0.552727 -3.135574e-01 -6.727018e-01 -5.550671e-01 -5.338797e-01   \n",
       "50%       -0.535606 -2.989905e-01 -2.088348e-01 -3.531593e-01 -5.168539e-01   \n",
       "75%        0.293605 -2.839855e-01  3.383362e-01  1.288286e-01  2.547251e-02   \n",
       "max       14.905550  1.283911e+01  1.264106e+01  1.063186e+01  8.679907e+00   \n",
       "\n",
       "               D_45          D_46          D_47          D_48          D_49  \\\n",
       "count  1.000000e+04  7.709000e+03  1.000000e+04  8.697000e+03  1.104000e+03   \n",
       "mean  -2.287948e-16  1.493163e-16 -5.826450e-17 -1.960794e-17 -2.783603e-16   \n",
       "std    1.000000e+00  1.000000e+00  1.000000e+00  1.000000e+00  1.000000e+00   \n",
       "min   -1.058107e+00 -7.442018e+00 -1.850656e+00 -1.207232e+00 -1.002292e+00   \n",
       "25%   -8.328061e-01 -3.529748e-01 -7.707881e-01 -9.367708e-01 -6.221539e-01   \n",
       "50%   -2.348523e-01 -1.134069e-01 -1.559857e-01 -2.337783e-01 -2.867371e-01   \n",
       "75%    4.677654e-01  2.900729e-01  6.410765e-01  8.937135e-01  3.375072e-01   \n",
       "max    4.462231e+00  1.102172e+01  3.478178e+00  3.598534e+00  7.731648e+00   \n",
       "\n",
       "       ...         D_136         D_137         D_138         D_139  \\\n",
       "count  ...  3.720000e+02  3.720000e+02  3.720000e+02  9.847000e+03   \n",
       "mean   ...  3.820122e-17  1.910061e-17  9.550306e-18  3.535756e-17   \n",
       "std    ...  1.000000e+00  1.000000e+00  1.000000e+00  1.000000e+00   \n",
       "min    ... -1.114350e+00 -1.513691e-01 -7.097231e-01 -4.494780e-01   \n",
       "25%    ... -1.074683e+00 -1.294909e-01 -6.961367e-01 -4.414527e-01   \n",
       "50%    ...  1.150052e-01 -1.026238e-01 -6.835783e-01 -4.331811e-01   \n",
       "75%    ...  1.415444e-01 -7.939729e-02  9.247281e-01 -4.250537e-01   \n",
       "max    ...  3.771351e+00  9.600524e+00  4.179710e+00  2.308029e+00   \n",
       "\n",
       "              D_140         D_141         D_142         D_143         D_144  \\\n",
       "count  9.937000e+03  9.847000e+03  1.572000e+03  9.847000e+03  9.937000e+03   \n",
       "mean   8.580570e-18  1.659641e-17 -1.887097e-16  2.597699e-17 -5.309228e-17   \n",
       "std    1.000000e+00  1.000000e+00  1.000000e+00  1.000000e+00  1.000000e+00   \n",
       "min   -1.728309e-01 -4.497942e-01 -1.517661e+00 -4.467063e-01 -2.661521e-01   \n",
       "25%   -1.529784e-01 -4.408272e-01 -8.801417e-01 -4.386556e-01 -2.508036e-01   \n",
       "50%   -1.335950e-01 -4.321390e-01 -7.244393e-02 -4.304156e-01 -2.355986e-01   \n",
       "75%   -1.149044e-01 -4.234181e-01  7.591650e-01 -4.222912e-01 -2.196294e-01   \n",
       "max    7.460731e+00  2.874488e+00  3.265909e+00  2.322370e+00  7.439834e+00   \n",
       "\n",
       "              D_145  \n",
       "count  9.847000e+03  \n",
       "mean   2.092591e-17  \n",
       "std    1.000000e+00  \n",
       "min   -2.548880e-01  \n",
       "25%   -2.418189e-01  \n",
       "50%   -2.287513e-01  \n",
       "75%   -2.157679e-01  \n",
       "max    1.861326e+01  \n",
       "\n",
       "[8 rows x 87 columns]"
      ]
     },
     "execution_count": 17,
     "metadata": {},
     "output_type": "execute_result"
    }
   ],
   "source": [
    "num_d = sample_df_d.drop(cat_cols,axis=1).iloc[:,2:]\n",
    "scaled_d = (num_d - num_d.mean()) / num_d.std()\n",
    "scaled_d.describe()"
   ]
  },
  {
   "cell_type": "code",
   "execution_count": 18,
   "id": "9d4b677f",
   "metadata": {
    "execution": {
     "iopub.execute_input": "2022-06-03T11:56:25.407016Z",
     "iopub.status.busy": "2022-06-03T11:56:25.406615Z",
     "iopub.status.idle": "2022-06-03T11:56:25.601272Z",
     "shell.execute_reply": "2022-06-03T11:56:25.600206Z"
    },
    "papermill": {
     "duration": 0.212852,
     "end_time": "2022-06-03T11:56:25.605244",
     "exception": false,
     "start_time": "2022-06-03T11:56:25.392392",
     "status": "completed"
    },
    "tags": []
   },
   "outputs": [
    {
     "data": {
      "text/html": [
       "<div>\n",
       "<style scoped>\n",
       "    .dataframe tbody tr th:only-of-type {\n",
       "        vertical-align: middle;\n",
       "    }\n",
       "\n",
       "    .dataframe tbody tr th {\n",
       "        vertical-align: top;\n",
       "    }\n",
       "\n",
       "    .dataframe thead th {\n",
       "        text-align: right;\n",
       "    }\n",
       "</style>\n",
       "<table border=\"1\" class=\"dataframe\">\n",
       "  <thead>\n",
       "    <tr style=\"text-align: right;\">\n",
       "      <th></th>\n",
       "      <th>x1</th>\n",
       "      <th>y1</th>\n",
       "    </tr>\n",
       "  </thead>\n",
       "  <tbody>\n",
       "    <tr>\n",
       "      <th>0</th>\n",
       "      <td>2.617068</td>\n",
       "      <td>1.029118</td>\n",
       "    </tr>\n",
       "    <tr>\n",
       "      <th>1</th>\n",
       "      <td>-1.551212</td>\n",
       "      <td>1.605983</td>\n",
       "    </tr>\n",
       "    <tr>\n",
       "      <th>2</th>\n",
       "      <td>-1.756225</td>\n",
       "      <td>1.546724</td>\n",
       "    </tr>\n",
       "    <tr>\n",
       "      <th>3</th>\n",
       "      <td>-1.851090</td>\n",
       "      <td>0.020376</td>\n",
       "    </tr>\n",
       "    <tr>\n",
       "      <th>4</th>\n",
       "      <td>0.953504</td>\n",
       "      <td>-4.954113</td>\n",
       "    </tr>\n",
       "    <tr>\n",
       "      <th>...</th>\n",
       "      <td>...</td>\n",
       "      <td>...</td>\n",
       "    </tr>\n",
       "    <tr>\n",
       "      <th>9995</th>\n",
       "      <td>-1.414764</td>\n",
       "      <td>-0.433030</td>\n",
       "    </tr>\n",
       "    <tr>\n",
       "      <th>9996</th>\n",
       "      <td>4.884826</td>\n",
       "      <td>-0.226393</td>\n",
       "    </tr>\n",
       "    <tr>\n",
       "      <th>9997</th>\n",
       "      <td>2.669549</td>\n",
       "      <td>2.929046</td>\n",
       "    </tr>\n",
       "    <tr>\n",
       "      <th>9998</th>\n",
       "      <td>4.832474</td>\n",
       "      <td>-2.303622</td>\n",
       "    </tr>\n",
       "    <tr>\n",
       "      <th>9999</th>\n",
       "      <td>2.051914</td>\n",
       "      <td>-0.604892</td>\n",
       "    </tr>\n",
       "  </tbody>\n",
       "</table>\n",
       "<p>10000 rows × 2 columns</p>\n",
       "</div>"
      ],
      "text/plain": [
       "            x1        y1\n",
       "0     2.617068  1.029118\n",
       "1    -1.551212  1.605983\n",
       "2    -1.756225  1.546724\n",
       "3    -1.851090  0.020376\n",
       "4     0.953504 -4.954113\n",
       "...        ...       ...\n",
       "9995 -1.414764 -0.433030\n",
       "9996  4.884826 -0.226393\n",
       "9997  2.669549  2.929046\n",
       "9998  4.832474 -2.303622\n",
       "9999  2.051914 -0.604892\n",
       "\n",
       "[10000 rows x 2 columns]"
      ]
     },
     "execution_count": 18,
     "metadata": {},
     "output_type": "execute_result"
    }
   ],
   "source": [
    "pca = PCA(n_components=2)\n",
    "decomposed_scaled_data = pca.fit_transform(scaled_d.fillna(scaled_d.mean().median()))\n",
    "decomposed_scaled_df = pd.DataFrame(data=decomposed_scaled_data, columns=['x1','y1'])\n",
    "decomposed_scaled_df"
   ]
  },
  {
   "cell_type": "code",
   "execution_count": 19,
   "id": "00094388",
   "metadata": {
    "execution": {
     "iopub.execute_input": "2022-06-03T11:56:25.693342Z",
     "iopub.status.busy": "2022-06-03T11:56:25.692952Z",
     "iopub.status.idle": "2022-06-03T11:56:26.226405Z",
     "shell.execute_reply": "2022-06-03T11:56:26.225349Z"
    },
    "papermill": {
     "duration": 0.556878,
     "end_time": "2022-06-03T11:56:26.229104",
     "exception": false,
     "start_time": "2022-06-03T11:56:25.672226",
     "status": "completed"
    },
    "tags": []
   },
   "outputs": [
    {
     "data": {
      "image/png": "[encoded data removed]",
      "text/plain": [
       "<Figure size 432x288 with 1 Axes>"
      ]
     },
     "metadata": {
      "needs_background": "light"
     },
     "output_type": "display_data"
    }
   ],
   "source": [
    "decomposed_scaled_2d = pd.concat([decomposed_scaled_df, \n",
    "                                  sample_df_d['target'].reset_index(drop=True)], axis=1)\n",
    "sns.scatterplot(data=decomposed_scaled_2d, x='x1', y='y1', hue='target') \n",
    "plt.title('decomposed_scaled_2d')\n",
    "\n",
    "plt.grid(alpha=0.4)\n",
    "plt.show()"
   ]
  },
  {
   "cell_type": "markdown",
   "id": "5009b812",
   "metadata": {
    "papermill": {
     "duration": 0.014976,
     "end_time": "2022-06-03T11:56:26.261276",
     "exception": false,
     "start_time": "2022-06-03T11:56:26.246300",
     "status": "completed"
    },
    "tags": []
   },
   "source": [
    "Now it is well expressed as a continuous variable. It can be seen that target-0 and target-1 can be distinguished to some extend only with D type variables.\n",
    "\n",
    "In addition, let's check where the outlier(date) extracted earlier is located."
   ]
  },
  {
   "cell_type": "code",
   "execution_count": 20,
   "id": "990d4c8a",
   "metadata": {
    "execution": {
     "iopub.execute_input": "2022-06-03T11:56:26.293188Z",
     "iopub.status.busy": "2022-06-03T11:56:26.292843Z",
     "iopub.status.idle": "2022-06-03T11:56:26.648630Z",
     "shell.execute_reply": "2022-06-03T11:56:26.647850Z"
    },
    "papermill": {
     "duration": 0.374085,
     "end_time": "2022-06-03T11:56:26.650711",
     "exception": false,
     "start_time": "2022-06-03T11:56:26.276626",
     "status": "completed"
    },
    "tags": []
   },
   "outputs": [
    {
     "data": {
      "image/png": "[encoded data removed]",
      "text/plain": [
       "<Figure size 432x288 with 1 Axes>"
      ]
     },
     "metadata": {
      "needs_background": "light"
     },
     "output_type": "display_data"
    }
   ],
   "source": [
    "decomposed_scaled_2d = pd.concat([decomposed_scaled_df, \n",
    "                                  sample_df_d['target'].reset_index(drop=True), \n",
    "                                  sample_df_d.reset_index()['S_2'].isin(v_idx.index)], axis=1)\n",
    "sns.scatterplot(data=decomposed_scaled_2d, x='x1', y='y1', color='grey', alpha=0.2)\n",
    "sns.scatterplot(data=decomposed_scaled_2d[decomposed_scaled_2d['S_2']==True], x='x1', y='y1', hue='target')\n",
    "plt.xlim((decomposed_scaled_2d['x1'].min(), decomposed_scaled_2d['x1'].max()))\n",
    "plt.ylim((decomposed_scaled_2d['y1'].min(), decomposed_scaled_2d['y1'].max()))\n",
    "plt.title('decomposed_scaled_2d')\n",
    "\n",
    "plt.grid(alpha=0.4)\n",
    "plt.show()"
   ]
  },
  {
   "cell_type": "markdown",
   "id": "ea82a161",
   "metadata": {
    "papermill": {
     "duration": 0.015474,
     "end_time": "2022-06-03T11:56:26.682743",
     "exception": false,
     "start_time": "2022-06-03T11:56:26.667269",
     "status": "completed"
    },
    "tags": []
   },
   "source": [
    "The points where the outliers exist are irregular and are not clustered in a specific location. This means that it is difficult to confirm information about outliers with at leat D-type data.\n",
    "\n",
    "So. Chapter 1 of this tutorial is finished. By analyzing S-type, P-type, etc. in this way, we can determine which type of data best distributes the target category, and through it, we can select the variables we want to focus on little by little. In this tutorial, we only checked type D variables(column), but I hope you will actively check other type variabels in this way and share your insights in the comments.\n",
    "\n",
    "Thanks for joining the tutorial!"
   ]
  }
 ],
 "metadata": {
  "kernelspec": {
   "display_name": "Python 3",
   "language": "python",
   "name": "python3"
  },
  "language_info": {
   "codemirror_mode": {
    "name": "ipython",
    "version": 3
   },
   "file_extension": ".py",
   "mimetype": "text/x-python",
   "name": "python",
   "nbconvert_exporter": "python",
   "pygments_lexer": "ipython3",
   "version": "3.7.12"
  },
  "papermill": {
   "default_parameters": {},
   "duration": 20.514732,
   "end_time": "2022-06-03T11:56:27.521242",
   "environment_variables": {},
   "exception": null,
   "input_path": "__notebook__.ipynb",
   "output_path": "__notebook__.ipynb",
   "parameters": {},
   "start_time": "2022-06-03T11:56:07.006510",
   "version": "2.3.4"
  }
 },
 "nbformat": 4,
 "nbformat_minor": 5
}
