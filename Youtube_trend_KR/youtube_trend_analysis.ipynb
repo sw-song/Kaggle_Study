{
 "cells": [
  {
   "cell_type": "markdown",
   "id": "conservative-cologne",
   "metadata": {},
   "source": [
    "## Trending YouTube Video Statistics\n",
    "#### Daily statistics for trending YouTube videos\n",
    "-----------"
   ]
  },
  {
   "cell_type": "markdown",
   "id": "competitive-missile",
   "metadata": {},
   "source": [
    "### Step 1. Data Load & EDA"
   ]
  },
  {
   "cell_type": "code",
   "execution_count": 1,
   "id": "senior-ecology",
   "metadata": {},
   "outputs": [],
   "source": [
    "import pandas as pd\n",
    "import numpy as np"
   ]
  },
  {
   "cell_type": "code",
   "execution_count": 8,
   "id": "emotional-elephant",
   "metadata": {},
   "outputs": [],
   "source": [
    "df = pd.read_csv('./data/KRvideos.csv', engine='python')\n",
    "# if error occurs like -> \"utf-8\" codec can\"t decode bytes in position 00000-00000: unexpected end of data\n",
    "# add parameter -> engine=\"python\""
   ]
  },
  {
   "cell_type": "code",
   "execution_count": 10,
   "id": "coated-ordinary",
   "metadata": {},
   "outputs": [
    {
     "data": {
      "text/html": [
       "<div>\n",
       "<style scoped>\n",
       "    .dataframe tbody tr th:only-of-type {\n",
       "        vertical-align: middle;\n",
       "    }\n",
       "\n",
       "    .dataframe tbody tr th {\n",
       "        vertical-align: top;\n",
       "    }\n",
       "\n",
       "    .dataframe thead th {\n",
       "        text-align: right;\n",
       "    }\n",
       "</style>\n",
       "<table border=\"1\" class=\"dataframe\">\n",
       "  <thead>\n",
       "    <tr style=\"text-align: right;\">\n",
       "      <th></th>\n",
       "      <th>video_id</th>\n",
       "      <th>trending_date</th>\n",
       "      <th>title</th>\n",
       "      <th>channel_title</th>\n",
       "      <th>category_id</th>\n",
       "      <th>publish_time</th>\n",
       "      <th>tags</th>\n",
       "      <th>views</th>\n",
       "      <th>likes</th>\n",
       "      <th>dislikes</th>\n",
       "      <th>comment_count</th>\n",
       "      <th>thumbnail_link</th>\n",
       "      <th>comments_disabled</th>\n",
       "      <th>ratings_disabled</th>\n",
       "      <th>video_error_or_removed</th>\n",
       "      <th>description</th>\n",
       "    </tr>\n",
       "  </thead>\n",
       "  <tbody>\n",
       "    <tr>\n",
       "      <th>0</th>\n",
       "      <td>RxGQe4EeEpA</td>\n",
       "      <td>17.14.11</td>\n",
       "      <td>좋아 by 민서_윤종신_좋니 답가</td>\n",
       "      <td>라푸마코리아</td>\n",
       "      <td>22</td>\n",
       "      <td>2017-11-13T07:07:36.000Z</td>\n",
       "      <td>라푸마|\"윤종신\"|\"좋니\"|\"좋아\"|\"샬레\"|\"민서\"</td>\n",
       "      <td>156130</td>\n",
       "      <td>1422</td>\n",
       "      <td>40</td>\n",
       "      <td>272</td>\n",
       "      <td>https://i.ytimg.com/vi/RxGQe4EeEpA/default.jpg</td>\n",
       "      <td>False</td>\n",
       "      <td>False</td>\n",
       "      <td>False</td>\n",
       "      <td>윤종신 '좋니'의 답가 '좋아' 최초 공개!\\n그 여자의 이야기를 지금 만나보세요....</td>\n",
       "    </tr>\n",
       "    <tr>\n",
       "      <th>1</th>\n",
       "      <td>hH7wVE8OlQ0</td>\n",
       "      <td>17.14.11</td>\n",
       "      <td>JSA 귀순 북한군 총격 부상</td>\n",
       "      <td>Edward</td>\n",
       "      <td>25</td>\n",
       "      <td>2017-11-13T10:59:16.000Z</td>\n",
       "      <td>JSA|\"귀순\"|\"북한군\"|\"총격\"|\"부상\"|\"JSA 귀순 북한군 총격 부상\"</td>\n",
       "      <td>76533</td>\n",
       "      <td>211</td>\n",
       "      <td>28</td>\n",
       "      <td>113</td>\n",
       "      <td>https://i.ytimg.com/vi/hH7wVE8OlQ0/default.jpg</td>\n",
       "      <td>False</td>\n",
       "      <td>False</td>\n",
       "      <td>False</td>\n",
       "      <td>[채널A단독]北 병사 현재 '의식불명'… 혈압 떨어지는 중 \\n[채널A단독]우리측 ...</td>\n",
       "    </tr>\n",
       "    <tr>\n",
       "      <th>2</th>\n",
       "      <td>9V8bnWUmE9U</td>\n",
       "      <td>17.14.11</td>\n",
       "      <td>나몰라패밀리 운동화 영상 2탄 (빼빼로데이버젼)</td>\n",
       "      <td>나몰라패밀리 핫쇼</td>\n",
       "      <td>22</td>\n",
       "      <td>2017-11-11T07:16:08.000Z</td>\n",
       "      <td>아디다스|\"빼빼로\"|\"핫쇼\"|\"나몰라패밀리\"|\"대학로\"|\"공연\"</td>\n",
       "      <td>421409</td>\n",
       "      <td>5112</td>\n",
       "      <td>166</td>\n",
       "      <td>459</td>\n",
       "      <td>https://i.ytimg.com/vi/9V8bnWUmE9U/default.jpg</td>\n",
       "      <td>False</td>\n",
       "      <td>False</td>\n",
       "      <td>False</td>\n",
       "      <td>퍼가실때 꼭 출처 부탁드려요</td>\n",
       "    </tr>\n",
       "    <tr>\n",
       "      <th>3</th>\n",
       "      <td>0_8py-t5R80</td>\n",
       "      <td>17.14.11</td>\n",
       "      <td>이명박 출국 현장, 놓치면 안되는 장면</td>\n",
       "      <td>미디어몽구</td>\n",
       "      <td>25</td>\n",
       "      <td>2017-11-12T11:19:52.000Z</td>\n",
       "      <td>이명박|\"이명박 출국금지\"|\"이명박 출국현장\"|\"이명박 바레인\"|\"이명박 대통령\"|...</td>\n",
       "      <td>222850</td>\n",
       "      <td>2093</td>\n",
       "      <td>173</td>\n",
       "      <td>1219</td>\n",
       "      <td>https://i.ytimg.com/vi/0_8py-t5R80/default.jpg</td>\n",
       "      <td>False</td>\n",
       "      <td>False</td>\n",
       "      <td>False</td>\n",
       "      <td>다스는 누구겁니까 듣고 난 후 표정</td>\n",
       "    </tr>\n",
       "    <tr>\n",
       "      <th>4</th>\n",
       "      <td>bk55RbxiQdI</td>\n",
       "      <td>17.14.11</td>\n",
       "      <td>김장겸은 물러갔다 MBC 노조 환호와 눈물</td>\n",
       "      <td>NocutV</td>\n",
       "      <td>25</td>\n",
       "      <td>2017-11-13T11:08:59.000Z</td>\n",
       "      <td>nocutV|\"노컷V\"|\"CBS\"|\"mbc\"|\"김장겸\"|\"해임\"|\"허일후\"</td>\n",
       "      <td>84466</td>\n",
       "      <td>1094</td>\n",
       "      <td>109</td>\n",
       "      <td>450</td>\n",
       "      <td>https://i.ytimg.com/vi/bk55RbxiQdI/default.jpg</td>\n",
       "      <td>False</td>\n",
       "      <td>False</td>\n",
       "      <td>False</td>\n",
       "      <td>김장겸 MBC 사장이 결국 해임됐다.\\n\\nMBC 대주주인 방송문화진흥회는 13일 ...</td>\n",
       "    </tr>\n",
       "  </tbody>\n",
       "</table>\n",
       "</div>"
      ],
      "text/plain": [
       "      video_id trending_date                       title channel_title  \\\n",
       "0  RxGQe4EeEpA      17.14.11          좋아 by 민서_윤종신_좋니 답가        라푸마코리아   \n",
       "1  hH7wVE8OlQ0      17.14.11            JSA 귀순 북한군 총격 부상        Edward   \n",
       "2  9V8bnWUmE9U      17.14.11  나몰라패밀리 운동화 영상 2탄 (빼빼로데이버젼)     나몰라패밀리 핫쇼   \n",
       "3  0_8py-t5R80      17.14.11  이명박 출국 현장, 놓치면 안되는 장면         미디어몽구   \n",
       "4  bk55RbxiQdI      17.14.11     김장겸은 물러갔다 MBC 노조 환호와 눈물        NocutV   \n",
       "\n",
       "   category_id              publish_time  \\\n",
       "0           22  2017-11-13T07:07:36.000Z   \n",
       "1           25  2017-11-13T10:59:16.000Z   \n",
       "2           22  2017-11-11T07:16:08.000Z   \n",
       "3           25  2017-11-12T11:19:52.000Z   \n",
       "4           25  2017-11-13T11:08:59.000Z   \n",
       "\n",
       "                                                tags   views  likes  dislikes  \\\n",
       "0                      라푸마|\"윤종신\"|\"좋니\"|\"좋아\"|\"샬레\"|\"민서\"  156130   1422        40   \n",
       "1        JSA|\"귀순\"|\"북한군\"|\"총격\"|\"부상\"|\"JSA 귀순 북한군 총격 부상\"   76533    211        28   \n",
       "2                아디다스|\"빼빼로\"|\"핫쇼\"|\"나몰라패밀리\"|\"대학로\"|\"공연\"  421409   5112       166   \n",
       "3  이명박|\"이명박 출국금지\"|\"이명박 출국현장\"|\"이명박 바레인\"|\"이명박 대통령\"|...  222850   2093       173   \n",
       "4          nocutV|\"노컷V\"|\"CBS\"|\"mbc\"|\"김장겸\"|\"해임\"|\"허일후\"   84466   1094       109   \n",
       "\n",
       "   comment_count                                  thumbnail_link  \\\n",
       "0            272  https://i.ytimg.com/vi/RxGQe4EeEpA/default.jpg   \n",
       "1            113  https://i.ytimg.com/vi/hH7wVE8OlQ0/default.jpg   \n",
       "2            459  https://i.ytimg.com/vi/9V8bnWUmE9U/default.jpg   \n",
       "3           1219  https://i.ytimg.com/vi/0_8py-t5R80/default.jpg   \n",
       "4            450  https://i.ytimg.com/vi/bk55RbxiQdI/default.jpg   \n",
       "\n",
       "   comments_disabled  ratings_disabled  video_error_or_removed  \\\n",
       "0              False             False                   False   \n",
       "1              False             False                   False   \n",
       "2              False             False                   False   \n",
       "3              False             False                   False   \n",
       "4              False             False                   False   \n",
       "\n",
       "                                         description  \n",
       "0  윤종신 '좋니'의 답가 '좋아' 최초 공개!\\n그 여자의 이야기를 지금 만나보세요....  \n",
       "1  [채널A단독]北 병사 현재 '의식불명'… 혈압 떨어지는 중 \\n[채널A단독]우리측 ...  \n",
       "2                                    퍼가실때 꼭 출처 부탁드려요  \n",
       "3                                다스는 누구겁니까 듣고 난 후 표정  \n",
       "4  김장겸 MBC 사장이 결국 해임됐다.\\n\\nMBC 대주주인 방송문화진흥회는 13일 ...  "
      ]
     },
     "execution_count": 10,
     "metadata": {},
     "output_type": "execute_result"
    }
   ],
   "source": [
    "df.head()"
   ]
  },
  {
   "cell_type": "code",
   "execution_count": 11,
   "id": "tracked-howard",
   "metadata": {},
   "outputs": [
    {
     "name": "stdout",
     "output_type": "stream",
     "text": [
      "<class 'pandas.core.frame.DataFrame'>\n",
      "RangeIndex: 34567 entries, 0 to 34566\n",
      "Data columns (total 16 columns):\n",
      " #   Column                  Non-Null Count  Dtype \n",
      "---  ------                  --------------  ----- \n",
      " 0   video_id                34567 non-null  object\n",
      " 1   trending_date           34567 non-null  object\n",
      " 2   title                   34567 non-null  object\n",
      " 3   channel_title           34567 non-null  object\n",
      " 4   category_id             34567 non-null  int64 \n",
      " 5   publish_time            34567 non-null  object\n",
      " 6   tags                    34567 non-null  object\n",
      " 7   views                   34567 non-null  int64 \n",
      " 8   likes                   34567 non-null  int64 \n",
      " 9   dislikes                34567 non-null  int64 \n",
      " 10  comment_count           34567 non-null  int64 \n",
      " 11  thumbnail_link          34567 non-null  object\n",
      " 12  comments_disabled       34567 non-null  bool  \n",
      " 13  ratings_disabled        34567 non-null  bool  \n",
      " 14  video_error_or_removed  34567 non-null  bool  \n",
      " 15  description             31404 non-null  object\n",
      "dtypes: bool(3), int64(5), object(8)\n",
      "memory usage: 3.5+ MB\n"
     ]
    }
   ],
   "source": [
    "df.info()"
   ]
  },
  {
   "cell_type": "code",
   "execution_count": 12,
   "id": "standard-anaheim",
   "metadata": {},
   "outputs": [
    {
     "data": {
      "text/html": [
       "<div>\n",
       "<style scoped>\n",
       "    .dataframe tbody tr th:only-of-type {\n",
       "        vertical-align: middle;\n",
       "    }\n",
       "\n",
       "    .dataframe tbody tr th {\n",
       "        vertical-align: top;\n",
       "    }\n",
       "\n",
       "    .dataframe thead th {\n",
       "        text-align: right;\n",
       "    }\n",
       "</style>\n",
       "<table border=\"1\" class=\"dataframe\">\n",
       "  <thead>\n",
       "    <tr style=\"text-align: right;\">\n",
       "      <th></th>\n",
       "      <th>category_id</th>\n",
       "      <th>views</th>\n",
       "      <th>likes</th>\n",
       "      <th>dislikes</th>\n",
       "      <th>comment_count</th>\n",
       "    </tr>\n",
       "  </thead>\n",
       "  <tbody>\n",
       "    <tr>\n",
       "      <th>count</th>\n",
       "      <td>34567.000000</td>\n",
       "      <td>3.456700e+04</td>\n",
       "      <td>3.456700e+04</td>\n",
       "      <td>3.456700e+04</td>\n",
       "      <td>3.456700e+04</td>\n",
       "    </tr>\n",
       "    <tr>\n",
       "      <th>mean</th>\n",
       "      <td>21.137675</td>\n",
       "      <td>4.249473e+05</td>\n",
       "      <td>1.218642e+04</td>\n",
       "      <td>5.390980e+02</td>\n",
       "      <td>2.025383e+03</td>\n",
       "    </tr>\n",
       "    <tr>\n",
       "      <th>std</th>\n",
       "      <td>6.675455</td>\n",
       "      <td>2.430637e+06</td>\n",
       "      <td>1.170531e+05</td>\n",
       "      <td>1.370852e+04</td>\n",
       "      <td>2.150677e+04</td>\n",
       "    </tr>\n",
       "    <tr>\n",
       "      <th>min</th>\n",
       "      <td>1.000000</td>\n",
       "      <td>2.050000e+03</td>\n",
       "      <td>0.000000e+00</td>\n",
       "      <td>0.000000e+00</td>\n",
       "      <td>0.000000e+00</td>\n",
       "    </tr>\n",
       "    <tr>\n",
       "      <th>25%</th>\n",
       "      <td>22.000000</td>\n",
       "      <td>4.776850e+04</td>\n",
       "      <td>4.120000e+02</td>\n",
       "      <td>2.100000e+01</td>\n",
       "      <td>1.050000e+02</td>\n",
       "    </tr>\n",
       "    <tr>\n",
       "      <th>50%</th>\n",
       "      <td>24.000000</td>\n",
       "      <td>1.114960e+05</td>\n",
       "      <td>1.389000e+03</td>\n",
       "      <td>6.500000e+01</td>\n",
       "      <td>3.450000e+02</td>\n",
       "    </tr>\n",
       "    <tr>\n",
       "      <th>75%</th>\n",
       "      <td>25.000000</td>\n",
       "      <td>2.788665e+05</td>\n",
       "      <td>3.704500e+03</td>\n",
       "      <td>1.750000e+02</td>\n",
       "      <td>9.290000e+02</td>\n",
       "    </tr>\n",
       "    <tr>\n",
       "      <th>max</th>\n",
       "      <td>44.000000</td>\n",
       "      <td>1.138762e+08</td>\n",
       "      <td>5.150839e+06</td>\n",
       "      <td>1.470388e+06</td>\n",
       "      <td>1.142274e+06</td>\n",
       "    </tr>\n",
       "  </tbody>\n",
       "</table>\n",
       "</div>"
      ],
      "text/plain": [
       "        category_id         views         likes      dislikes  comment_count\n",
       "count  34567.000000  3.456700e+04  3.456700e+04  3.456700e+04   3.456700e+04\n",
       "mean      21.137675  4.249473e+05  1.218642e+04  5.390980e+02   2.025383e+03\n",
       "std        6.675455  2.430637e+06  1.170531e+05  1.370852e+04   2.150677e+04\n",
       "min        1.000000  2.050000e+03  0.000000e+00  0.000000e+00   0.000000e+00\n",
       "25%       22.000000  4.776850e+04  4.120000e+02  2.100000e+01   1.050000e+02\n",
       "50%       24.000000  1.114960e+05  1.389000e+03  6.500000e+01   3.450000e+02\n",
       "75%       25.000000  2.788665e+05  3.704500e+03  1.750000e+02   9.290000e+02\n",
       "max       44.000000  1.138762e+08  5.150839e+06  1.470388e+06   1.142274e+06"
      ]
     },
     "execution_count": 12,
     "metadata": {},
     "output_type": "execute_result"
    }
   ],
   "source": [
    "df.describe()"
   ]
  },
  {
   "cell_type": "code",
   "execution_count": 13,
   "id": "technological-catalyst",
   "metadata": {},
   "outputs": [
    {
     "data": {
      "text/html": [
       "<div>\n",
       "<style scoped>\n",
       "    .dataframe tbody tr th:only-of-type {\n",
       "        vertical-align: middle;\n",
       "    }\n",
       "\n",
       "    .dataframe tbody tr th {\n",
       "        vertical-align: top;\n",
       "    }\n",
       "\n",
       "    .dataframe thead th {\n",
       "        text-align: right;\n",
       "    }\n",
       "</style>\n",
       "<table border=\"1\" class=\"dataframe\">\n",
       "  <thead>\n",
       "    <tr style=\"text-align: right;\">\n",
       "      <th></th>\n",
       "      <th>video_id</th>\n",
       "      <th>trending_date</th>\n",
       "      <th>title</th>\n",
       "      <th>channel_title</th>\n",
       "      <th>category_id</th>\n",
       "      <th>publish_time</th>\n",
       "      <th>tags</th>\n",
       "      <th>views</th>\n",
       "      <th>likes</th>\n",
       "      <th>dislikes</th>\n",
       "      <th>comment_count</th>\n",
       "      <th>thumbnail_link</th>\n",
       "      <th>comments_disabled</th>\n",
       "      <th>ratings_disabled</th>\n",
       "      <th>video_error_or_removed</th>\n",
       "      <th>description</th>\n",
       "    </tr>\n",
       "  </thead>\n",
       "  <tbody>\n",
       "    <tr>\n",
       "      <th>34562</th>\n",
       "      <td>pj6YBBrO1sQ</td>\n",
       "      <td>18.14.06</td>\n",
       "      <td>장모님 가게한다고 1억만 달라는 아내 사이다카톡</td>\n",
       "      <td>이슈트래커</td>\n",
       "      <td>24</td>\n",
       "      <td>2018-06-10T23:00:01.000Z</td>\n",
       "      <td>[none]</td>\n",
       "      <td>156439</td>\n",
       "      <td>383</td>\n",
       "      <td>58</td>\n",
       "      <td>308</td>\n",
       "      <td>https://i.ytimg.com/vi/pj6YBBrO1sQ/default.jpg</td>\n",
       "      <td>False</td>\n",
       "      <td>False</td>\n",
       "      <td>False</td>\n",
       "      <td>- 남편을 돈줄로만 본 아내- 좋아요와 구독은 언제나 환영입니다.- 카톡시리즈- 모...</td>\n",
       "    </tr>\n",
       "    <tr>\n",
       "      <th>34563</th>\n",
       "      <td>_Ne9ER-jr20</td>\n",
       "      <td>18.14.06</td>\n",
       "      <td>여러분~ 렌즈가 이렇게 위험합니다!!!ㅜㅜ _[이슈텔러]</td>\n",
       "      <td>이슈텔러 issueTeller</td>\n",
       "      <td>24</td>\n",
       "      <td>2018-06-12T07:00:06.000Z</td>\n",
       "      <td>[none]</td>\n",
       "      <td>130948</td>\n",
       "      <td>3121</td>\n",
       "      <td>55</td>\n",
       "      <td>988</td>\n",
       "      <td>https://i.ytimg.com/vi/_Ne9ER-jr20/default.jpg</td>\n",
       "      <td>False</td>\n",
       "      <td>False</td>\n",
       "      <td>False</td>\n",
       "      <td>안녕하세요~! 이슈텔러 입니다~^^화, 목 오후 4시 / 토요일 오전 9시 재밌고 ...</td>\n",
       "    </tr>\n",
       "    <tr>\n",
       "      <th>34564</th>\n",
       "      <td>xuOQq_fzEjk</td>\n",
       "      <td>18.14.06</td>\n",
       "      <td>2018년 6월 13일 아침 뉴스</td>\n",
       "      <td>News Express</td>\n",
       "      <td>25</td>\n",
       "      <td>2018-06-12T13:17:29.000Z</td>\n",
       "      <td>한국|\"북한\"|\"미국\"|\"중국\"|\"일본\"|\"러시아\"|\"한국뉴스\"|\"뉴스\"|\"국제뉴스...</td>\n",
       "      <td>62555</td>\n",
       "      <td>319</td>\n",
       "      <td>71</td>\n",
       "      <td>105</td>\n",
       "      <td>https://i.ytimg.com/vi/xuOQq_fzEjk/default.jpg</td>\n",
       "      <td>False</td>\n",
       "      <td>False</td>\n",
       "      <td>False</td>\n",
       "      <td>2018년 6월 13일 아침 뉴스등록되지 않은 구독자가 여기에서 내 새 채널을 지원...</td>\n",
       "    </tr>\n",
       "    <tr>\n",
       "      <th>34565</th>\n",
       "      <td>uXvjxeg08eQ</td>\n",
       "      <td>18.14.06</td>\n",
       "      <td>워너원 웃음 참기 영상 워너원 GO X-con.ver</td>\n",
       "      <td>원플</td>\n",
       "      <td>22</td>\n",
       "      <td>2018-06-11T11:57:20.000Z</td>\n",
       "      <td>워너원|\"워너원 고\"|\"워너원 GO\"|\"웃음참기\"|\"워너원 웃음참기\"|\"워너원 레전...</td>\n",
       "      <td>63306</td>\n",
       "      <td>2369</td>\n",
       "      <td>27</td>\n",
       "      <td>571</td>\n",
       "      <td>https://i.ytimg.com/vi/uXvjxeg08eQ/default.jpg</td>\n",
       "      <td>False</td>\n",
       "      <td>False</td>\n",
       "      <td>False</td>\n",
       "      <td>워너원 웃음 참기 영상 항상 좋아해주셔서 감사합니다8ㅅ8이번에는 얼마전에 있었던 원...</td>\n",
       "    </tr>\n",
       "    <tr>\n",
       "      <th>34566</th>\n",
       "      <td>C-bLqIftDY4</td>\n",
       "      <td>18.14.06</td>\n",
       "      <td>[법륜스님의 즉문즉설 제 1398회] 시동생의 아이를 키우게 됐어요</td>\n",
       "      <td>법륜스님의 즉문즉설</td>\n",
       "      <td>29</td>\n",
       "      <td>2018-06-10T20:00:01.000Z</td>\n",
       "      <td>불교|\"즉문즉설\"|\"법륜스님\"|\"정토회\"|\"buddha\"|\"buddhism\"|\"po...</td>\n",
       "      <td>63716</td>\n",
       "      <td>500</td>\n",
       "      <td>58</td>\n",
       "      <td>135</td>\n",
       "      <td>https://i.ytimg.com/vi/C-bLqIftDY4/default.jpg</td>\n",
       "      <td>False</td>\n",
       "      <td>False</td>\n",
       "      <td>False</td>\n",
       "      <td>3월에 시동생이 이혼했습니다 그러면서 제가중2, 7살, 4살 되는 조카들을 데리고 ...</td>\n",
       "    </tr>\n",
       "  </tbody>\n",
       "</table>\n",
       "</div>"
      ],
      "text/plain": [
       "          video_id trending_date                                  title  \\\n",
       "34562  pj6YBBrO1sQ      18.14.06             장모님 가게한다고 1억만 달라는 아내 사이다카톡   \n",
       "34563  _Ne9ER-jr20      18.14.06        여러분~ 렌즈가 이렇게 위험합니다!!!ㅜㅜ _[이슈텔러]   \n",
       "34564  xuOQq_fzEjk      18.14.06                     2018년 6월 13일 아침 뉴스   \n",
       "34565  uXvjxeg08eQ      18.14.06          워너원 웃음 참기 영상 워너원 GO X-con.ver   \n",
       "34566  C-bLqIftDY4      18.14.06  [법륜스님의 즉문즉설 제 1398회] 시동생의 아이를 키우게 됐어요   \n",
       "\n",
       "          channel_title  category_id              publish_time  \\\n",
       "34562             이슈트래커           24  2018-06-10T23:00:01.000Z   \n",
       "34563  이슈텔러 issueTeller           24  2018-06-12T07:00:06.000Z   \n",
       "34564      News Express           25  2018-06-12T13:17:29.000Z   \n",
       "34565                원플           22  2018-06-11T11:57:20.000Z   \n",
       "34566        법륜스님의 즉문즉설           29  2018-06-10T20:00:01.000Z   \n",
       "\n",
       "                                                    tags   views  likes  \\\n",
       "34562                                             [none]  156439    383   \n",
       "34563                                             [none]  130948   3121   \n",
       "34564  한국|\"북한\"|\"미국\"|\"중국\"|\"일본\"|\"러시아\"|\"한국뉴스\"|\"뉴스\"|\"국제뉴스...   62555    319   \n",
       "34565  워너원|\"워너원 고\"|\"워너원 GO\"|\"웃음참기\"|\"워너원 웃음참기\"|\"워너원 레전...   63306   2369   \n",
       "34566  불교|\"즉문즉설\"|\"법륜스님\"|\"정토회\"|\"buddha\"|\"buddhism\"|\"po...   63716    500   \n",
       "\n",
       "       dislikes  comment_count  \\\n",
       "34562        58            308   \n",
       "34563        55            988   \n",
       "34564        71            105   \n",
       "34565        27            571   \n",
       "34566        58            135   \n",
       "\n",
       "                                       thumbnail_link  comments_disabled  \\\n",
       "34562  https://i.ytimg.com/vi/pj6YBBrO1sQ/default.jpg              False   \n",
       "34563  https://i.ytimg.com/vi/_Ne9ER-jr20/default.jpg              False   \n",
       "34564  https://i.ytimg.com/vi/xuOQq_fzEjk/default.jpg              False   \n",
       "34565  https://i.ytimg.com/vi/uXvjxeg08eQ/default.jpg              False   \n",
       "34566  https://i.ytimg.com/vi/C-bLqIftDY4/default.jpg              False   \n",
       "\n",
       "       ratings_disabled  video_error_or_removed  \\\n",
       "34562             False                   False   \n",
       "34563             False                   False   \n",
       "34564             False                   False   \n",
       "34565             False                   False   \n",
       "34566             False                   False   \n",
       "\n",
       "                                             description  \n",
       "34562  - 남편을 돈줄로만 본 아내- 좋아요와 구독은 언제나 환영입니다.- 카톡시리즈- 모...  \n",
       "34563  안녕하세요~! 이슈텔러 입니다~^^화, 목 오후 4시 / 토요일 오전 9시 재밌고 ...  \n",
       "34564  2018년 6월 13일 아침 뉴스등록되지 않은 구독자가 여기에서 내 새 채널을 지원...  \n",
       "34565  워너원 웃음 참기 영상 항상 좋아해주셔서 감사합니다8ㅅ8이번에는 얼마전에 있었던 원...  \n",
       "34566  3월에 시동생이 이혼했습니다 그러면서 제가중2, 7살, 4살 되는 조카들을 데리고 ...  "
      ]
     },
     "execution_count": 13,
     "metadata": {},
     "output_type": "execute_result"
    }
   ],
   "source": [
    "df.tail()"
   ]
  },
  {
   "cell_type": "code",
   "execution_count": 17,
   "id": "color-facing",
   "metadata": {},
   "outputs": [
    {
     "data": {
      "text/html": [
       "<div>\n",
       "<style scoped>\n",
       "    .dataframe tbody tr th:only-of-type {\n",
       "        vertical-align: middle;\n",
       "    }\n",
       "\n",
       "    .dataframe tbody tr th {\n",
       "        vertical-align: top;\n",
       "    }\n",
       "\n",
       "    .dataframe thead th {\n",
       "        text-align: right;\n",
       "    }\n",
       "</style>\n",
       "<table border=\"1\" class=\"dataframe\">\n",
       "  <thead>\n",
       "    <tr style=\"text-align: right;\">\n",
       "      <th></th>\n",
       "      <th>video_id</th>\n",
       "      <th>trending_date</th>\n",
       "      <th>title</th>\n",
       "      <th>channel_title</th>\n",
       "      <th>category_id</th>\n",
       "      <th>publish_time</th>\n",
       "      <th>tags</th>\n",
       "      <th>views</th>\n",
       "      <th>likes</th>\n",
       "      <th>dislikes</th>\n",
       "      <th>comment_count</th>\n",
       "      <th>thumbnail_link</th>\n",
       "      <th>comments_disabled</th>\n",
       "      <th>ratings_disabled</th>\n",
       "      <th>video_error_or_removed</th>\n",
       "      <th>description</th>\n",
       "    </tr>\n",
       "  </thead>\n",
       "  <tbody>\n",
       "    <tr>\n",
       "      <th>30844</th>\n",
       "      <td>7C2z4GqqS5E</td>\n",
       "      <td>18.24.05</td>\n",
       "      <td>BTS (방탄소년단) 'FAKE LOVE' Official MV</td>\n",
       "      <td>ibighit</td>\n",
       "      <td>10</td>\n",
       "      <td>2018-05-18T09:00:02.000Z</td>\n",
       "      <td>BIGHIT|\"빅히트\"|\"방탄소년단\"|\"BTS\"|\"BANGTAN\"|\"방탄\"|\"FAK...</td>\n",
       "      <td>87430865</td>\n",
       "      <td>5150839</td>\n",
       "      <td>172570</td>\n",
       "      <td>1142274</td>\n",
       "      <td>https://i.ytimg.com/vi/7C2z4GqqS5E/default.jpg</td>\n",
       "      <td>False</td>\n",
       "      <td>False</td>\n",
       "      <td>False</td>\n",
       "      <td>BTS (방탄소년단) 'FAKE LOVE' Official MVDirector : ...</td>\n",
       "    </tr>\n",
       "    <tr>\n",
       "      <th>30583</th>\n",
       "      <td>7C2z4GqqS5E</td>\n",
       "      <td>18.23.05</td>\n",
       "      <td>BTS (방탄소년단) 'FAKE LOVE' Official MV</td>\n",
       "      <td>ibighit</td>\n",
       "      <td>10</td>\n",
       "      <td>2018-05-18T09:00:02.000Z</td>\n",
       "      <td>BIGHIT|\"빅히트\"|\"방탄소년단\"|\"BTS\"|\"BANGTAN\"|\"방탄\"|\"FAK...</td>\n",
       "      <td>80738011</td>\n",
       "      <td>5053338</td>\n",
       "      <td>165854</td>\n",
       "      <td>1114800</td>\n",
       "      <td>https://i.ytimg.com/vi/7C2z4GqqS5E/default.jpg</td>\n",
       "      <td>False</td>\n",
       "      <td>False</td>\n",
       "      <td>False</td>\n",
       "      <td>BTS (방탄소년단) 'FAKE LOVE' Official MVDirector : ...</td>\n",
       "    </tr>\n",
       "    <tr>\n",
       "      <th>30352</th>\n",
       "      <td>7C2z4GqqS5E</td>\n",
       "      <td>18.22.05</td>\n",
       "      <td>BTS (방탄소년단) 'FAKE LOVE' Official MV</td>\n",
       "      <td>ibighit</td>\n",
       "      <td>10</td>\n",
       "      <td>2018-05-18T09:00:02.000Z</td>\n",
       "      <td>BIGHIT|\"빅히트\"|\"방탄소년단\"|\"BTS\"|\"BANGTAN\"|\"방탄\"|\"FAK...</td>\n",
       "      <td>73463137</td>\n",
       "      <td>4924056</td>\n",
       "      <td>156026</td>\n",
       "      <td>1084435</td>\n",
       "      <td>https://i.ytimg.com/vi/7C2z4GqqS5E/default.jpg</td>\n",
       "      <td>False</td>\n",
       "      <td>False</td>\n",
       "      <td>False</td>\n",
       "      <td>BTS (방탄소년단) 'FAKE LOVE' Official MVDirector : ...</td>\n",
       "    </tr>\n",
       "    <tr>\n",
       "      <th>30486</th>\n",
       "      <td>7C2z4GqqS5E</td>\n",
       "      <td>18.22.05</td>\n",
       "      <td>BTS (방탄소년단) 'FAKE LOVE' Official MV</td>\n",
       "      <td>ibighit</td>\n",
       "      <td>10</td>\n",
       "      <td>2018-05-18T09:00:02.000Z</td>\n",
       "      <td>BIGHIT|\"빅히트\"|\"방탄소년단\"|\"BTS\"|\"BANGTAN\"|\"방탄\"|\"FAK...</td>\n",
       "      <td>73463137</td>\n",
       "      <td>4924056</td>\n",
       "      <td>156026</td>\n",
       "      <td>1084435</td>\n",
       "      <td>https://i.ytimg.com/vi/7C2z4GqqS5E/default.jpg</td>\n",
       "      <td>False</td>\n",
       "      <td>False</td>\n",
       "      <td>False</td>\n",
       "      <td>BTS (방탄소년단) 'FAKE LOVE' Official MVDirector : ...</td>\n",
       "    </tr>\n",
       "    <tr>\n",
       "      <th>30291</th>\n",
       "      <td>7C2z4GqqS5E</td>\n",
       "      <td>18.21.05</td>\n",
       "      <td>BTS (방탄소년단) 'FAKE LOVE' Official MV</td>\n",
       "      <td>ibighit</td>\n",
       "      <td>10</td>\n",
       "      <td>2018-05-18T09:00:02.000Z</td>\n",
       "      <td>BIGHIT|\"빅히트\"|\"방탄소년단\"|\"BTS\"|\"BANGTAN\"|\"방탄\"|\"FAK...</td>\n",
       "      <td>65396157</td>\n",
       "      <td>4750254</td>\n",
       "      <td>141966</td>\n",
       "      <td>1040912</td>\n",
       "      <td>https://i.ytimg.com/vi/7C2z4GqqS5E/default.jpg</td>\n",
       "      <td>False</td>\n",
       "      <td>False</td>\n",
       "      <td>False</td>\n",
       "      <td>BTS (방탄소년단) 'FAKE LOVE' Official MVDirector : ...</td>\n",
       "    </tr>\n",
       "    <tr>\n",
       "      <th>30171</th>\n",
       "      <td>7C2z4GqqS5E</td>\n",
       "      <td>18.21.05</td>\n",
       "      <td>BTS (방탄소년단) 'FAKE LOVE' Official MV</td>\n",
       "      <td>ibighit</td>\n",
       "      <td>10</td>\n",
       "      <td>2018-05-18T09:00:02.000Z</td>\n",
       "      <td>BIGHIT|\"빅히트\"|\"방탄소년단\"|\"BTS\"|\"BANGTAN\"|\"방탄\"|\"FAK...</td>\n",
       "      <td>65396157</td>\n",
       "      <td>4750254</td>\n",
       "      <td>141966</td>\n",
       "      <td>1040912</td>\n",
       "      <td>https://i.ytimg.com/vi/7C2z4GqqS5E/default.jpg</td>\n",
       "      <td>False</td>\n",
       "      <td>False</td>\n",
       "      <td>False</td>\n",
       "      <td>BTS (방탄소년단) 'FAKE LOVE' Official MVDirector : ...</td>\n",
       "    </tr>\n",
       "    <tr>\n",
       "      <th>30069</th>\n",
       "      <td>7C2z4GqqS5E</td>\n",
       "      <td>18.20.05</td>\n",
       "      <td>BTS (방탄소년단) 'FAKE LOVE' Official MV</td>\n",
       "      <td>ibighit</td>\n",
       "      <td>10</td>\n",
       "      <td>2018-05-18T09:00:02.000Z</td>\n",
       "      <td>BIGHIT|\"빅히트\"|\"방탄소년단\"|\"BTS\"|\"BANGTAN\"|\"방탄\"|\"FAK...</td>\n",
       "      <td>62796390</td>\n",
       "      <td>4470923</td>\n",
       "      <td>119053</td>\n",
       "      <td>905925</td>\n",
       "      <td>https://i.ytimg.com/vi/7C2z4GqqS5E/default.jpg</td>\n",
       "      <td>False</td>\n",
       "      <td>False</td>\n",
       "      <td>False</td>\n",
       "      <td>BTS (방탄소년단) 'FAKE LOVE' Official MVDirector : ...</td>\n",
       "    </tr>\n",
       "    <tr>\n",
       "      <th>29969</th>\n",
       "      <td>7C2z4GqqS5E</td>\n",
       "      <td>18.20.05</td>\n",
       "      <td>BTS (방탄소년단) 'FAKE LOVE' Official MV</td>\n",
       "      <td>ibighit</td>\n",
       "      <td>10</td>\n",
       "      <td>2018-05-18T09:00:02.000Z</td>\n",
       "      <td>BIGHIT|\"빅히트\"|\"방탄소년단\"|\"BTS\"|\"BANGTAN\"|\"방탄\"|\"FAK...</td>\n",
       "      <td>62796390</td>\n",
       "      <td>4470923</td>\n",
       "      <td>119053</td>\n",
       "      <td>905925</td>\n",
       "      <td>https://i.ytimg.com/vi/7C2z4GqqS5E/default.jpg</td>\n",
       "      <td>False</td>\n",
       "      <td>False</td>\n",
       "      <td>False</td>\n",
       "      <td>BTS (방탄소년단) 'FAKE LOVE' Official MVDirector : ...</td>\n",
       "    </tr>\n",
       "    <tr>\n",
       "      <th>4856</th>\n",
       "      <td>FlsCjmMhFmw</td>\n",
       "      <td>17.11.12</td>\n",
       "      <td>YouTube Rewind: The Shape of 2017 | #YouTubeRe...</td>\n",
       "      <td>YouTube Spotlight</td>\n",
       "      <td>24</td>\n",
       "      <td>2017-12-06T17:58:51.000Z</td>\n",
       "      <td>Rewind|\"Rewind 2017\"|\"youtube rewind 2017\"|\"#Y...</td>\n",
       "      <td>113876217</td>\n",
       "      <td>2811223</td>\n",
       "      <td>1470388</td>\n",
       "      <td>787174</td>\n",
       "      <td>https://i.ytimg.com/vi/FlsCjmMhFmw/default.jpg</td>\n",
       "      <td>False</td>\n",
       "      <td>False</td>\n",
       "      <td>False</td>\n",
       "      <td>YouTube Rewind 2017. Celebrating the videos, p...</td>\n",
       "    </tr>\n",
       "    <tr>\n",
       "      <th>4678</th>\n",
       "      <td>FlsCjmMhFmw</td>\n",
       "      <td>17.10.12</td>\n",
       "      <td>YouTube Rewind: The Shape of 2017 | #YouTubeRe...</td>\n",
       "      <td>YouTube Spotlight</td>\n",
       "      <td>24</td>\n",
       "      <td>2017-12-06T17:58:51.000Z</td>\n",
       "      <td>Rewind|\"Rewind 2017\"|\"youtube rewind 2017\"|\"#Y...</td>\n",
       "      <td>100911567</td>\n",
       "      <td>2656686</td>\n",
       "      <td>1353663</td>\n",
       "      <td>682890</td>\n",
       "      <td>https://i.ytimg.com/vi/FlsCjmMhFmw/default.jpg</td>\n",
       "      <td>False</td>\n",
       "      <td>False</td>\n",
       "      <td>False</td>\n",
       "      <td>YouTube Rewind 2017. Celebrating the videos, p...</td>\n",
       "    </tr>\n",
       "  </tbody>\n",
       "</table>\n",
       "</div>"
      ],
      "text/plain": [
       "          video_id trending_date  \\\n",
       "30844  7C2z4GqqS5E      18.24.05   \n",
       "30583  7C2z4GqqS5E      18.23.05   \n",
       "30352  7C2z4GqqS5E      18.22.05   \n",
       "30486  7C2z4GqqS5E      18.22.05   \n",
       "30291  7C2z4GqqS5E      18.21.05   \n",
       "30171  7C2z4GqqS5E      18.21.05   \n",
       "30069  7C2z4GqqS5E      18.20.05   \n",
       "29969  7C2z4GqqS5E      18.20.05   \n",
       "4856   FlsCjmMhFmw      17.11.12   \n",
       "4678   FlsCjmMhFmw      17.10.12   \n",
       "\n",
       "                                                   title      channel_title  \\\n",
       "30844                BTS (방탄소년단) 'FAKE LOVE' Official MV            ibighit   \n",
       "30583                BTS (방탄소년단) 'FAKE LOVE' Official MV            ibighit   \n",
       "30352                BTS (방탄소년단) 'FAKE LOVE' Official MV            ibighit   \n",
       "30486                BTS (방탄소년단) 'FAKE LOVE' Official MV            ibighit   \n",
       "30291                BTS (방탄소년단) 'FAKE LOVE' Official MV            ibighit   \n",
       "30171                BTS (방탄소년단) 'FAKE LOVE' Official MV            ibighit   \n",
       "30069                BTS (방탄소년단) 'FAKE LOVE' Official MV            ibighit   \n",
       "29969                BTS (방탄소년단) 'FAKE LOVE' Official MV            ibighit   \n",
       "4856   YouTube Rewind: The Shape of 2017 | #YouTubeRe...  YouTube Spotlight   \n",
       "4678   YouTube Rewind: The Shape of 2017 | #YouTubeRe...  YouTube Spotlight   \n",
       "\n",
       "       category_id              publish_time  \\\n",
       "30844           10  2018-05-18T09:00:02.000Z   \n",
       "30583           10  2018-05-18T09:00:02.000Z   \n",
       "30352           10  2018-05-18T09:00:02.000Z   \n",
       "30486           10  2018-05-18T09:00:02.000Z   \n",
       "30291           10  2018-05-18T09:00:02.000Z   \n",
       "30171           10  2018-05-18T09:00:02.000Z   \n",
       "30069           10  2018-05-18T09:00:02.000Z   \n",
       "29969           10  2018-05-18T09:00:02.000Z   \n",
       "4856            24  2017-12-06T17:58:51.000Z   \n",
       "4678            24  2017-12-06T17:58:51.000Z   \n",
       "\n",
       "                                                    tags      views    likes  \\\n",
       "30844  BIGHIT|\"빅히트\"|\"방탄소년단\"|\"BTS\"|\"BANGTAN\"|\"방탄\"|\"FAK...   87430865  5150839   \n",
       "30583  BIGHIT|\"빅히트\"|\"방탄소년단\"|\"BTS\"|\"BANGTAN\"|\"방탄\"|\"FAK...   80738011  5053338   \n",
       "30352  BIGHIT|\"빅히트\"|\"방탄소년단\"|\"BTS\"|\"BANGTAN\"|\"방탄\"|\"FAK...   73463137  4924056   \n",
       "30486  BIGHIT|\"빅히트\"|\"방탄소년단\"|\"BTS\"|\"BANGTAN\"|\"방탄\"|\"FAK...   73463137  4924056   \n",
       "30291  BIGHIT|\"빅히트\"|\"방탄소년단\"|\"BTS\"|\"BANGTAN\"|\"방탄\"|\"FAK...   65396157  4750254   \n",
       "30171  BIGHIT|\"빅히트\"|\"방탄소년단\"|\"BTS\"|\"BANGTAN\"|\"방탄\"|\"FAK...   65396157  4750254   \n",
       "30069  BIGHIT|\"빅히트\"|\"방탄소년단\"|\"BTS\"|\"BANGTAN\"|\"방탄\"|\"FAK...   62796390  4470923   \n",
       "29969  BIGHIT|\"빅히트\"|\"방탄소년단\"|\"BTS\"|\"BANGTAN\"|\"방탄\"|\"FAK...   62796390  4470923   \n",
       "4856   Rewind|\"Rewind 2017\"|\"youtube rewind 2017\"|\"#Y...  113876217  2811223   \n",
       "4678   Rewind|\"Rewind 2017\"|\"youtube rewind 2017\"|\"#Y...  100911567  2656686   \n",
       "\n",
       "       dislikes  comment_count  \\\n",
       "30844    172570        1142274   \n",
       "30583    165854        1114800   \n",
       "30352    156026        1084435   \n",
       "30486    156026        1084435   \n",
       "30291    141966        1040912   \n",
       "30171    141966        1040912   \n",
       "30069    119053         905925   \n",
       "29969    119053         905925   \n",
       "4856    1470388         787174   \n",
       "4678    1353663         682890   \n",
       "\n",
       "                                       thumbnail_link  comments_disabled  \\\n",
       "30844  https://i.ytimg.com/vi/7C2z4GqqS5E/default.jpg              False   \n",
       "30583  https://i.ytimg.com/vi/7C2z4GqqS5E/default.jpg              False   \n",
       "30352  https://i.ytimg.com/vi/7C2z4GqqS5E/default.jpg              False   \n",
       "30486  https://i.ytimg.com/vi/7C2z4GqqS5E/default.jpg              False   \n",
       "30291  https://i.ytimg.com/vi/7C2z4GqqS5E/default.jpg              False   \n",
       "30171  https://i.ytimg.com/vi/7C2z4GqqS5E/default.jpg              False   \n",
       "30069  https://i.ytimg.com/vi/7C2z4GqqS5E/default.jpg              False   \n",
       "29969  https://i.ytimg.com/vi/7C2z4GqqS5E/default.jpg              False   \n",
       "4856   https://i.ytimg.com/vi/FlsCjmMhFmw/default.jpg              False   \n",
       "4678   https://i.ytimg.com/vi/FlsCjmMhFmw/default.jpg              False   \n",
       "\n",
       "       ratings_disabled  video_error_or_removed  \\\n",
       "30844             False                   False   \n",
       "30583             False                   False   \n",
       "30352             False                   False   \n",
       "30486             False                   False   \n",
       "30291             False                   False   \n",
       "30171             False                   False   \n",
       "30069             False                   False   \n",
       "29969             False                   False   \n",
       "4856              False                   False   \n",
       "4678              False                   False   \n",
       "\n",
       "                                             description  \n",
       "30844  BTS (방탄소년단) 'FAKE LOVE' Official MVDirector : ...  \n",
       "30583  BTS (방탄소년단) 'FAKE LOVE' Official MVDirector : ...  \n",
       "30352  BTS (방탄소년단) 'FAKE LOVE' Official MVDirector : ...  \n",
       "30486  BTS (방탄소년단) 'FAKE LOVE' Official MVDirector : ...  \n",
       "30291  BTS (방탄소년단) 'FAKE LOVE' Official MVDirector : ...  \n",
       "30171  BTS (방탄소년단) 'FAKE LOVE' Official MVDirector : ...  \n",
       "30069  BTS (방탄소년단) 'FAKE LOVE' Official MVDirector : ...  \n",
       "29969  BTS (방탄소년단) 'FAKE LOVE' Official MVDirector : ...  \n",
       "4856   YouTube Rewind 2017. Celebrating the videos, p...  \n",
       "4678   YouTube Rewind 2017. Celebrating the videos, p...  "
      ]
     },
     "execution_count": 17,
     "metadata": {},
     "output_type": "execute_result"
    }
   ],
   "source": [
    "df.sort_values(by='likes', ascending=False)[:10]"
   ]
  },
  {
   "cell_type": "code",
   "execution_count": 18,
   "id": "hollow-bryan",
   "metadata": {},
   "outputs": [
    {
     "data": {
      "text/plain": [
       "video_id                     0\n",
       "trending_date                0\n",
       "title                        0\n",
       "channel_title                0\n",
       "category_id                  0\n",
       "publish_time                 0\n",
       "tags                         0\n",
       "views                        0\n",
       "likes                        0\n",
       "dislikes                     0\n",
       "comment_count                0\n",
       "thumbnail_link               0\n",
       "comments_disabled            0\n",
       "ratings_disabled             0\n",
       "video_error_or_removed       0\n",
       "description               3163\n",
       "dtype: int64"
      ]
     },
     "execution_count": 18,
     "metadata": {},
     "output_type": "execute_result"
    }
   ],
   "source": [
    "df.isna().sum()"
   ]
  },
  {
   "cell_type": "code",
   "execution_count": 19,
   "id": "extensive-advice",
   "metadata": {},
   "outputs": [
    {
     "data": {
      "text/plain": [
       "0        윤종신 '좋니'의 답가 '좋아' 최초 공개!\\n그 여자의 이야기를 지금 만나보세요....\n",
       "1        [채널A단독]北 병사 현재 '의식불명'… 혈압 떨어지는 중 \\n[채널A단독]우리측 ...\n",
       "2                                          퍼가실때 꼭 출처 부탁드려요\n",
       "3                                      다스는 누구겁니까 듣고 난 후 표정\n",
       "4        김장겸 MBC 사장이 결국 해임됐다.\\n\\nMBC 대주주인 방송문화진흥회는 13일 ...\n",
       "                               ...                        \n",
       "34562    - 남편을 돈줄로만 본 아내- 좋아요와 구독은 언제나 환영입니다.- 카톡시리즈- 모...\n",
       "34563    안녕하세요~! 이슈텔러 입니다~^^화, 목 오후 4시 / 토요일 오전 9시 재밌고 ...\n",
       "34564    2018년 6월 13일 아침 뉴스등록되지 않은 구독자가 여기에서 내 새 채널을 지원...\n",
       "34565    워너원 웃음 참기 영상 항상 좋아해주셔서 감사합니다8ㅅ8이번에는 얼마전에 있었던 원...\n",
       "34566    3월에 시동생이 이혼했습니다 그러면서 제가중2, 7살, 4살 되는 조카들을 데리고 ...\n",
       "Name: description, Length: 34567, dtype: object"
      ]
     },
     "execution_count": 19,
     "metadata": {},
     "output_type": "execute_result"
    }
   ],
   "source": [
    "df['description']"
   ]
  },
  {
   "cell_type": "code",
   "execution_count": 20,
   "id": "floating-completion",
   "metadata": {},
   "outputs": [
    {
     "data": {
      "text/plain": [
       "<AxesSubplot:>"
      ]
     },
     "execution_count": 20,
     "metadata": {},
     "output_type": "execute_result"
    },
    {
     "data": {
      "image/png": "[encoded data removed]",
      "text/plain": [
       "<Figure size 432x288 with 1 Axes>"
      ]
     },
     "metadata": {
      "needs_background": "light"
     },
     "output_type": "display_data"
    }
   ],
   "source": [
    "df.plot();"
   ]
  },
  {
   "cell_type": "code",
   "execution_count": 22,
   "id": "oriental-magic",
   "metadata": {},
   "outputs": [
    {
     "data": {
      "image/png": "[encoded data removed]",
      "text/plain": [
       "<Figure size 432x288 with 1 Axes>"
      ]
     },
     "metadata": {
      "needs_background": "light"
     },
     "output_type": "display_data"
    }
   ],
   "source": [
    "df['views'].plot();"
   ]
  },
  {
   "cell_type": "code",
   "execution_count": 23,
   "id": "moved-curtis",
   "metadata": {},
   "outputs": [
    {
     "data": {
      "text/html": [
       "<div>\n",
       "<style scoped>\n",
       "    .dataframe tbody tr th:only-of-type {\n",
       "        vertical-align: middle;\n",
       "    }\n",
       "\n",
       "    .dataframe tbody tr th {\n",
       "        vertical-align: top;\n",
       "    }\n",
       "\n",
       "    .dataframe thead th {\n",
       "        text-align: right;\n",
       "    }\n",
       "</style>\n",
       "<table border=\"1\" class=\"dataframe\">\n",
       "  <thead>\n",
       "    <tr style=\"text-align: right;\">\n",
       "      <th></th>\n",
       "      <th>category_id</th>\n",
       "      <th>views</th>\n",
       "      <th>likes</th>\n",
       "      <th>dislikes</th>\n",
       "      <th>comment_count</th>\n",
       "      <th>comments_disabled</th>\n",
       "      <th>ratings_disabled</th>\n",
       "      <th>video_error_or_removed</th>\n",
       "    </tr>\n",
       "  </thead>\n",
       "  <tbody>\n",
       "    <tr>\n",
       "      <th>category_id</th>\n",
       "      <td>1.000000</td>\n",
       "      <td>-0.082367</td>\n",
       "      <td>-0.097976</td>\n",
       "      <td>-0.016725</td>\n",
       "      <td>-0.065038</td>\n",
       "      <td>0.026884</td>\n",
       "      <td>0.054086</td>\n",
       "      <td>-0.042891</td>\n",
       "    </tr>\n",
       "    <tr>\n",
       "      <th>views</th>\n",
       "      <td>-0.082367</td>\n",
       "      <td>1.000000</td>\n",
       "      <td>0.860043</td>\n",
       "      <td>0.581443</td>\n",
       "      <td>0.807600</td>\n",
       "      <td>-0.003379</td>\n",
       "      <td>-0.019284</td>\n",
       "      <td>-0.002112</td>\n",
       "    </tr>\n",
       "    <tr>\n",
       "      <th>likes</th>\n",
       "      <td>-0.097976</td>\n",
       "      <td>0.860043</td>\n",
       "      <td>1.000000</td>\n",
       "      <td>0.428036</td>\n",
       "      <td>0.922731</td>\n",
       "      <td>-0.010734</td>\n",
       "      <td>-0.021390</td>\n",
       "      <td>-0.000232</td>\n",
       "    </tr>\n",
       "    <tr>\n",
       "      <th>dislikes</th>\n",
       "      <td>-0.016725</td>\n",
       "      <td>0.581443</td>\n",
       "      <td>0.428036</td>\n",
       "      <td>1.000000</td>\n",
       "      <td>0.555549</td>\n",
       "      <td>-0.002056</td>\n",
       "      <td>-0.008080</td>\n",
       "      <td>-0.000589</td>\n",
       "    </tr>\n",
       "    <tr>\n",
       "      <th>comment_count</th>\n",
       "      <td>-0.065038</td>\n",
       "      <td>0.807600</td>\n",
       "      <td>0.922731</td>\n",
       "      <td>0.555549</td>\n",
       "      <td>1.000000</td>\n",
       "      <td>-0.011536</td>\n",
       "      <td>-0.014295</td>\n",
       "      <td>-0.000879</td>\n",
       "    </tr>\n",
       "    <tr>\n",
       "      <th>comments_disabled</th>\n",
       "      <td>0.026884</td>\n",
       "      <td>-0.003379</td>\n",
       "      <td>-0.010734</td>\n",
       "      <td>-0.002056</td>\n",
       "      <td>-0.011536</td>\n",
       "      <td>1.000000</td>\n",
       "      <td>0.220468</td>\n",
       "      <td>-0.004221</td>\n",
       "    </tr>\n",
       "    <tr>\n",
       "      <th>ratings_disabled</th>\n",
       "      <td>0.054086</td>\n",
       "      <td>-0.019284</td>\n",
       "      <td>-0.021390</td>\n",
       "      <td>-0.008080</td>\n",
       "      <td>-0.014295</td>\n",
       "      <td>0.220468</td>\n",
       "      <td>1.000000</td>\n",
       "      <td>-0.007080</td>\n",
       "    </tr>\n",
       "    <tr>\n",
       "      <th>video_error_or_removed</th>\n",
       "      <td>-0.042891</td>\n",
       "      <td>-0.002112</td>\n",
       "      <td>-0.000232</td>\n",
       "      <td>-0.000589</td>\n",
       "      <td>-0.000879</td>\n",
       "      <td>-0.004221</td>\n",
       "      <td>-0.007080</td>\n",
       "      <td>1.000000</td>\n",
       "    </tr>\n",
       "  </tbody>\n",
       "</table>\n",
       "</div>"
      ],
      "text/plain": [
       "                        category_id     views     likes  dislikes  \\\n",
       "category_id                1.000000 -0.082367 -0.097976 -0.016725   \n",
       "views                     -0.082367  1.000000  0.860043  0.581443   \n",
       "likes                     -0.097976  0.860043  1.000000  0.428036   \n",
       "dislikes                  -0.016725  0.581443  0.428036  1.000000   \n",
       "comment_count             -0.065038  0.807600  0.922731  0.555549   \n",
       "comments_disabled          0.026884 -0.003379 -0.010734 -0.002056   \n",
       "ratings_disabled           0.054086 -0.019284 -0.021390 -0.008080   \n",
       "video_error_or_removed    -0.042891 -0.002112 -0.000232 -0.000589   \n",
       "\n",
       "                        comment_count  comments_disabled  ratings_disabled  \\\n",
       "category_id                 -0.065038           0.026884          0.054086   \n",
       "views                        0.807600          -0.003379         -0.019284   \n",
       "likes                        0.922731          -0.010734         -0.021390   \n",
       "dislikes                     0.555549          -0.002056         -0.008080   \n",
       "comment_count                1.000000          -0.011536         -0.014295   \n",
       "comments_disabled           -0.011536           1.000000          0.220468   \n",
       "ratings_disabled            -0.014295           0.220468          1.000000   \n",
       "video_error_or_removed      -0.000879          -0.004221         -0.007080   \n",
       "\n",
       "                        video_error_or_removed  \n",
       "category_id                          -0.042891  \n",
       "views                                -0.002112  \n",
       "likes                                -0.000232  \n",
       "dislikes                             -0.000589  \n",
       "comment_count                        -0.000879  \n",
       "comments_disabled                    -0.004221  \n",
       "ratings_disabled                     -0.007080  \n",
       "video_error_or_removed                1.000000  "
      ]
     },
     "execution_count": 23,
     "metadata": {},
     "output_type": "execute_result"
    }
   ],
   "source": [
    "df.corr()"
   ]
  },
  {
   "cell_type": "code",
   "execution_count": 30,
   "id": "understanding-sustainability",
   "metadata": {},
   "outputs": [],
   "source": [
    "import matplotlib.pyplot as plt\n",
    "plt.style.use('dark_background');"
   ]
  },
  {
   "cell_type": "code",
   "execution_count": 38,
   "id": "further-cursor",
   "metadata": {},
   "outputs": [
    {
     "data": {
      "text/plain": [
       "0        156130\n",
       "1         76533\n",
       "2        421409\n",
       "3        222850\n",
       "4         84466\n",
       "          ...  \n",
       "34562    156439\n",
       "34563    130948\n",
       "34564     62555\n",
       "34565     63306\n",
       "34566     63716\n",
       "Name: views, Length: 34567, dtype: int64"
      ]
     },
     "execution_count": 38,
     "metadata": {},
     "output_type": "execute_result"
    }
   ],
   "source": [
    "df['views']"
   ]
  },
  {
   "cell_type": "code",
   "execution_count": 39,
   "id": "quantitative-merchant",
   "metadata": {},
   "outputs": [
    {
     "data": {
      "text/plain": [
       "array([156130,  76533, 421409, ...,  62555,  63306,  63716])"
      ]
     },
     "execution_count": 39,
     "metadata": {},
     "output_type": "execute_result"
    }
   ],
   "source": [
    "df['views'].values"
   ]
  },
  {
   "cell_type": "code",
   "execution_count": 44,
   "id": "intended-photography",
   "metadata": {},
   "outputs": [
    {
     "data": {
      "text/plain": [
       "4856     113876217\n",
       "4678     100911567\n",
       "4018      87450245\n",
       "30844     87430865\n",
       "3750      84281319\n",
       "           ...    \n",
       "4806          3268\n",
       "18568         3124\n",
       "17414         2919\n",
       "509           2623\n",
       "1071          2050\n",
       "Name: views, Length: 34567, dtype: int64"
      ]
     },
     "execution_count": 44,
     "metadata": {},
     "output_type": "execute_result"
    }
   ],
   "source": [
    "df['views'].sort_values(ascending=False)"
   ]
  },
  {
   "cell_type": "code",
   "execution_count": 45,
   "id": "north-minute",
   "metadata": {},
   "outputs": [],
   "source": [
    "top500_views = df['views'].sort_values(ascending=False)[:500]"
   ]
  },
  {
   "cell_type": "code",
   "execution_count": 48,
   "id": "southwest-lesbian",
   "metadata": {},
   "outputs": [
    {
     "data": {
      "text/plain": [
       "4856     113876217\n",
       "4678     100911567\n",
       "4018      87450245\n",
       "30844     87430865\n",
       "3750      84281319\n",
       "           ...    \n",
       "13244      3316015\n",
       "13317      3316015\n",
       "19121      3312590\n",
       "8973       3307126\n",
       "1569       3304059\n",
       "Name: views, Length: 500, dtype: int64"
      ]
     },
     "execution_count": 48,
     "metadata": {},
     "output_type": "execute_result"
    }
   ],
   "source": [
    "top500_views"
   ]
  },
  {
   "cell_type": "code",
   "execution_count": 52,
   "id": "residential-brother",
   "metadata": {},
   "outputs": [
    {
     "data": {
      "text/html": [
       "<div>\n",
       "<style scoped>\n",
       "    .dataframe tbody tr th:only-of-type {\n",
       "        vertical-align: middle;\n",
       "    }\n",
       "\n",
       "    .dataframe tbody tr th {\n",
       "        vertical-align: top;\n",
       "    }\n",
       "\n",
       "    .dataframe thead th {\n",
       "        text-align: right;\n",
       "    }\n",
       "</style>\n",
       "<table border=\"1\" class=\"dataframe\">\n",
       "  <thead>\n",
       "    <tr style=\"text-align: right;\">\n",
       "      <th></th>\n",
       "      <th>index</th>\n",
       "      <th>views</th>\n",
       "    </tr>\n",
       "  </thead>\n",
       "  <tbody>\n",
       "    <tr>\n",
       "      <th>0</th>\n",
       "      <td>4856</td>\n",
       "      <td>113876217</td>\n",
       "    </tr>\n",
       "    <tr>\n",
       "      <th>1</th>\n",
       "      <td>4678</td>\n",
       "      <td>100911567</td>\n",
       "    </tr>\n",
       "    <tr>\n",
       "      <th>2</th>\n",
       "      <td>4018</td>\n",
       "      <td>87450245</td>\n",
       "    </tr>\n",
       "    <tr>\n",
       "      <th>3</th>\n",
       "      <td>30844</td>\n",
       "      <td>87430865</td>\n",
       "    </tr>\n",
       "    <tr>\n",
       "      <th>4</th>\n",
       "      <td>3750</td>\n",
       "      <td>84281319</td>\n",
       "    </tr>\n",
       "    <tr>\n",
       "      <th>...</th>\n",
       "      <td>...</td>\n",
       "      <td>...</td>\n",
       "    </tr>\n",
       "    <tr>\n",
       "      <th>495</th>\n",
       "      <td>13244</td>\n",
       "      <td>3316015</td>\n",
       "    </tr>\n",
       "    <tr>\n",
       "      <th>496</th>\n",
       "      <td>13317</td>\n",
       "      <td>3316015</td>\n",
       "    </tr>\n",
       "    <tr>\n",
       "      <th>497</th>\n",
       "      <td>19121</td>\n",
       "      <td>3312590</td>\n",
       "    </tr>\n",
       "    <tr>\n",
       "      <th>498</th>\n",
       "      <td>8973</td>\n",
       "      <td>3307126</td>\n",
       "    </tr>\n",
       "    <tr>\n",
       "      <th>499</th>\n",
       "      <td>1569</td>\n",
       "      <td>3304059</td>\n",
       "    </tr>\n",
       "  </tbody>\n",
       "</table>\n",
       "<p>500 rows × 2 columns</p>\n",
       "</div>"
      ],
      "text/plain": [
       "     index      views\n",
       "0     4856  113876217\n",
       "1     4678  100911567\n",
       "2     4018   87450245\n",
       "3    30844   87430865\n",
       "4     3750   84281319\n",
       "..     ...        ...\n",
       "495  13244    3316015\n",
       "496  13317    3316015\n",
       "497  19121    3312590\n",
       "498   8973    3307126\n",
       "499   1569    3304059\n",
       "\n",
       "[500 rows x 2 columns]"
      ]
     },
     "execution_count": 52,
     "metadata": {},
     "output_type": "execute_result"
    }
   ],
   "source": [
    "top500_views.reset_index()"
   ]
  },
  {
   "cell_type": "code",
   "execution_count": 55,
   "id": "olympic-sudan",
   "metadata": {},
   "outputs": [],
   "source": [
    "top500_views = top500_views.reset_index().copy()"
   ]
  },
  {
   "cell_type": "code",
   "execution_count": 63,
   "id": "touched-mileage",
   "metadata": {},
   "outputs": [],
   "source": [
    "top500_views.drop(['index'], axis=1, inplace=True)"
   ]
  },
  {
   "cell_type": "code",
   "execution_count": 64,
   "id": "reduced-livestock",
   "metadata": {},
   "outputs": [
    {
     "data": {
      "text/html": [
       "<div>\n",
       "<style scoped>\n",
       "    .dataframe tbody tr th:only-of-type {\n",
       "        vertical-align: middle;\n",
       "    }\n",
       "\n",
       "    .dataframe tbody tr th {\n",
       "        vertical-align: top;\n",
       "    }\n",
       "\n",
       "    .dataframe thead th {\n",
       "        text-align: right;\n",
       "    }\n",
       "</style>\n",
       "<table border=\"1\" class=\"dataframe\">\n",
       "  <thead>\n",
       "    <tr style=\"text-align: right;\">\n",
       "      <th></th>\n",
       "      <th>views</th>\n",
       "    </tr>\n",
       "  </thead>\n",
       "  <tbody>\n",
       "    <tr>\n",
       "      <th>0</th>\n",
       "      <td>113876217</td>\n",
       "    </tr>\n",
       "    <tr>\n",
       "      <th>1</th>\n",
       "      <td>100911567</td>\n",
       "    </tr>\n",
       "    <tr>\n",
       "      <th>2</th>\n",
       "      <td>87450245</td>\n",
       "    </tr>\n",
       "    <tr>\n",
       "      <th>3</th>\n",
       "      <td>87430865</td>\n",
       "    </tr>\n",
       "    <tr>\n",
       "      <th>4</th>\n",
       "      <td>84281319</td>\n",
       "    </tr>\n",
       "    <tr>\n",
       "      <th>...</th>\n",
       "      <td>...</td>\n",
       "    </tr>\n",
       "    <tr>\n",
       "      <th>495</th>\n",
       "      <td>3316015</td>\n",
       "    </tr>\n",
       "    <tr>\n",
       "      <th>496</th>\n",
       "      <td>3316015</td>\n",
       "    </tr>\n",
       "    <tr>\n",
       "      <th>497</th>\n",
       "      <td>3312590</td>\n",
       "    </tr>\n",
       "    <tr>\n",
       "      <th>498</th>\n",
       "      <td>3307126</td>\n",
       "    </tr>\n",
       "    <tr>\n",
       "      <th>499</th>\n",
       "      <td>3304059</td>\n",
       "    </tr>\n",
       "  </tbody>\n",
       "</table>\n",
       "<p>500 rows × 1 columns</p>\n",
       "</div>"
      ],
      "text/plain": [
       "         views\n",
       "0    113876217\n",
       "1    100911567\n",
       "2     87450245\n",
       "3     87430865\n",
       "4     84281319\n",
       "..         ...\n",
       "495    3316015\n",
       "496    3316015\n",
       "497    3312590\n",
       "498    3307126\n",
       "499    3304059\n",
       "\n",
       "[500 rows x 1 columns]"
      ]
     },
     "execution_count": 64,
     "metadata": {},
     "output_type": "execute_result"
    }
   ],
   "source": [
    "top500_views"
   ]
  },
  {
   "cell_type": "code",
   "execution_count": 68,
   "id": "designed-patch",
   "metadata": {},
   "outputs": [
    {
     "data": {
      "text/plain": [
       "RangeIndex(start=0, stop=500, step=1)"
      ]
     },
     "execution_count": 68,
     "metadata": {},
     "output_type": "execute_result"
    }
   ],
   "source": [
    "top500_views.index"
   ]
  },
  {
   "cell_type": "code",
   "execution_count": 71,
   "id": "romantic-examination",
   "metadata": {},
   "outputs": [
    {
     "data": {
      "image/png": "[encoded data removed]",
      "text/plain": [
       "<Figure size 1152x432 with 1 Axes>"
      ]
     },
     "metadata": {},
     "output_type": "display_data"
    }
   ],
   "source": [
    "plt.figure(figsize=(16,6))\n",
    "plt.plot(top500_views.index, top500_views.values);"
   ]
  },
  {
   "cell_type": "code",
   "execution_count": 72,
   "id": "quiet-terrace",
   "metadata": {},
   "outputs": [
    {
     "data": {
      "text/plain": [
       "Index(['video_id', 'trending_date', 'title', 'channel_title', 'category_id',\n",
       "       'publish_time', 'tags', 'views', 'likes', 'dislikes', 'comment_count',\n",
       "       'thumbnail_link', 'comments_disabled', 'ratings_disabled',\n",
       "       'video_error_or_removed', 'description'],\n",
       "      dtype='object')"
      ]
     },
     "execution_count": 72,
     "metadata": {},
     "output_type": "execute_result"
    }
   ],
   "source": [
    "df.columns"
   ]
  },
  {
   "cell_type": "code",
   "execution_count": 74,
   "id": "atlantic-testing",
   "metadata": {},
   "outputs": [
    {
     "data": {
      "text/html": [
       "<div>\n",
       "<style scoped>\n",
       "    .dataframe tbody tr th:only-of-type {\n",
       "        vertical-align: middle;\n",
       "    }\n",
       "\n",
       "    .dataframe tbody tr th {\n",
       "        vertical-align: top;\n",
       "    }\n",
       "\n",
       "    .dataframe thead th {\n",
       "        text-align: right;\n",
       "    }\n",
       "</style>\n",
       "<table border=\"1\" class=\"dataframe\">\n",
       "  <thead>\n",
       "    <tr style=\"text-align: right;\">\n",
       "      <th></th>\n",
       "      <th>video_id</th>\n",
       "      <th>trending_date</th>\n",
       "      <th>title</th>\n",
       "      <th>channel_title</th>\n",
       "      <th>category_id</th>\n",
       "      <th>publish_time</th>\n",
       "      <th>tags</th>\n",
       "      <th>views</th>\n",
       "      <th>likes</th>\n",
       "      <th>dislikes</th>\n",
       "      <th>comment_count</th>\n",
       "      <th>thumbnail_link</th>\n",
       "      <th>comments_disabled</th>\n",
       "      <th>ratings_disabled</th>\n",
       "      <th>video_error_or_removed</th>\n",
       "      <th>description</th>\n",
       "    </tr>\n",
       "  </thead>\n",
       "  <tbody>\n",
       "    <tr>\n",
       "      <th>0</th>\n",
       "      <td>RxGQe4EeEpA</td>\n",
       "      <td>17.14.11</td>\n",
       "      <td>좋아 by 민서_윤종신_좋니 답가</td>\n",
       "      <td>라푸마코리아</td>\n",
       "      <td>22</td>\n",
       "      <td>2017-11-13T07:07:36.000Z</td>\n",
       "      <td>라푸마|\"윤종신\"|\"좋니\"|\"좋아\"|\"샬레\"|\"민서\"</td>\n",
       "      <td>156130</td>\n",
       "      <td>1422</td>\n",
       "      <td>40</td>\n",
       "      <td>272</td>\n",
       "      <td>https://i.ytimg.com/vi/RxGQe4EeEpA/default.jpg</td>\n",
       "      <td>False</td>\n",
       "      <td>False</td>\n",
       "      <td>False</td>\n",
       "      <td>윤종신 '좋니'의 답가 '좋아' 최초 공개!\\n그 여자의 이야기를 지금 만나보세요....</td>\n",
       "    </tr>\n",
       "    <tr>\n",
       "      <th>1</th>\n",
       "      <td>hH7wVE8OlQ0</td>\n",
       "      <td>17.14.11</td>\n",
       "      <td>JSA 귀순 북한군 총격 부상</td>\n",
       "      <td>Edward</td>\n",
       "      <td>25</td>\n",
       "      <td>2017-11-13T10:59:16.000Z</td>\n",
       "      <td>JSA|\"귀순\"|\"북한군\"|\"총격\"|\"부상\"|\"JSA 귀순 북한군 총격 부상\"</td>\n",
       "      <td>76533</td>\n",
       "      <td>211</td>\n",
       "      <td>28</td>\n",
       "      <td>113</td>\n",
       "      <td>https://i.ytimg.com/vi/hH7wVE8OlQ0/default.jpg</td>\n",
       "      <td>False</td>\n",
       "      <td>False</td>\n",
       "      <td>False</td>\n",
       "      <td>[채널A단독]北 병사 현재 '의식불명'… 혈압 떨어지는 중 \\n[채널A단독]우리측 ...</td>\n",
       "    </tr>\n",
       "    <tr>\n",
       "      <th>2</th>\n",
       "      <td>9V8bnWUmE9U</td>\n",
       "      <td>17.14.11</td>\n",
       "      <td>나몰라패밀리 운동화 영상 2탄 (빼빼로데이버젼)</td>\n",
       "      <td>나몰라패밀리 핫쇼</td>\n",
       "      <td>22</td>\n",
       "      <td>2017-11-11T07:16:08.000Z</td>\n",
       "      <td>아디다스|\"빼빼로\"|\"핫쇼\"|\"나몰라패밀리\"|\"대학로\"|\"공연\"</td>\n",
       "      <td>421409</td>\n",
       "      <td>5112</td>\n",
       "      <td>166</td>\n",
       "      <td>459</td>\n",
       "      <td>https://i.ytimg.com/vi/9V8bnWUmE9U/default.jpg</td>\n",
       "      <td>False</td>\n",
       "      <td>False</td>\n",
       "      <td>False</td>\n",
       "      <td>퍼가실때 꼭 출처 부탁드려요</td>\n",
       "    </tr>\n",
       "    <tr>\n",
       "      <th>3</th>\n",
       "      <td>0_8py-t5R80</td>\n",
       "      <td>17.14.11</td>\n",
       "      <td>이명박 출국 현장, 놓치면 안되는 장면</td>\n",
       "      <td>미디어몽구</td>\n",
       "      <td>25</td>\n",
       "      <td>2017-11-12T11:19:52.000Z</td>\n",
       "      <td>이명박|\"이명박 출국금지\"|\"이명박 출국현장\"|\"이명박 바레인\"|\"이명박 대통령\"|...</td>\n",
       "      <td>222850</td>\n",
       "      <td>2093</td>\n",
       "      <td>173</td>\n",
       "      <td>1219</td>\n",
       "      <td>https://i.ytimg.com/vi/0_8py-t5R80/default.jpg</td>\n",
       "      <td>False</td>\n",
       "      <td>False</td>\n",
       "      <td>False</td>\n",
       "      <td>다스는 누구겁니까 듣고 난 후 표정</td>\n",
       "    </tr>\n",
       "    <tr>\n",
       "      <th>4</th>\n",
       "      <td>bk55RbxiQdI</td>\n",
       "      <td>17.14.11</td>\n",
       "      <td>김장겸은 물러갔다 MBC 노조 환호와 눈물</td>\n",
       "      <td>NocutV</td>\n",
       "      <td>25</td>\n",
       "      <td>2017-11-13T11:08:59.000Z</td>\n",
       "      <td>nocutV|\"노컷V\"|\"CBS\"|\"mbc\"|\"김장겸\"|\"해임\"|\"허일후\"</td>\n",
       "      <td>84466</td>\n",
       "      <td>1094</td>\n",
       "      <td>109</td>\n",
       "      <td>450</td>\n",
       "      <td>https://i.ytimg.com/vi/bk55RbxiQdI/default.jpg</td>\n",
       "      <td>False</td>\n",
       "      <td>False</td>\n",
       "      <td>False</td>\n",
       "      <td>김장겸 MBC 사장이 결국 해임됐다.\\n\\nMBC 대주주인 방송문화진흥회는 13일 ...</td>\n",
       "    </tr>\n",
       "  </tbody>\n",
       "</table>\n",
       "</div>"
      ],
      "text/plain": [
       "      video_id trending_date                       title channel_title  \\\n",
       "0  RxGQe4EeEpA      17.14.11          좋아 by 민서_윤종신_좋니 답가        라푸마코리아   \n",
       "1  hH7wVE8OlQ0      17.14.11            JSA 귀순 북한군 총격 부상        Edward   \n",
       "2  9V8bnWUmE9U      17.14.11  나몰라패밀리 운동화 영상 2탄 (빼빼로데이버젼)     나몰라패밀리 핫쇼   \n",
       "3  0_8py-t5R80      17.14.11  이명박 출국 현장, 놓치면 안되는 장면         미디어몽구   \n",
       "4  bk55RbxiQdI      17.14.11     김장겸은 물러갔다 MBC 노조 환호와 눈물        NocutV   \n",
       "\n",
       "   category_id              publish_time  \\\n",
       "0           22  2017-11-13T07:07:36.000Z   \n",
       "1           25  2017-11-13T10:59:16.000Z   \n",
       "2           22  2017-11-11T07:16:08.000Z   \n",
       "3           25  2017-11-12T11:19:52.000Z   \n",
       "4           25  2017-11-13T11:08:59.000Z   \n",
       "\n",
       "                                                tags   views  likes  dislikes  \\\n",
       "0                      라푸마|\"윤종신\"|\"좋니\"|\"좋아\"|\"샬레\"|\"민서\"  156130   1422        40   \n",
       "1        JSA|\"귀순\"|\"북한군\"|\"총격\"|\"부상\"|\"JSA 귀순 북한군 총격 부상\"   76533    211        28   \n",
       "2                아디다스|\"빼빼로\"|\"핫쇼\"|\"나몰라패밀리\"|\"대학로\"|\"공연\"  421409   5112       166   \n",
       "3  이명박|\"이명박 출국금지\"|\"이명박 출국현장\"|\"이명박 바레인\"|\"이명박 대통령\"|...  222850   2093       173   \n",
       "4          nocutV|\"노컷V\"|\"CBS\"|\"mbc\"|\"김장겸\"|\"해임\"|\"허일후\"   84466   1094       109   \n",
       "\n",
       "   comment_count                                  thumbnail_link  \\\n",
       "0            272  https://i.ytimg.com/vi/RxGQe4EeEpA/default.jpg   \n",
       "1            113  https://i.ytimg.com/vi/hH7wVE8OlQ0/default.jpg   \n",
       "2            459  https://i.ytimg.com/vi/9V8bnWUmE9U/default.jpg   \n",
       "3           1219  https://i.ytimg.com/vi/0_8py-t5R80/default.jpg   \n",
       "4            450  https://i.ytimg.com/vi/bk55RbxiQdI/default.jpg   \n",
       "\n",
       "   comments_disabled  ratings_disabled  video_error_or_removed  \\\n",
       "0              False             False                   False   \n",
       "1              False             False                   False   \n",
       "2              False             False                   False   \n",
       "3              False             False                   False   \n",
       "4              False             False                   False   \n",
       "\n",
       "                                         description  \n",
       "0  윤종신 '좋니'의 답가 '좋아' 최초 공개!\\n그 여자의 이야기를 지금 만나보세요....  \n",
       "1  [채널A단독]北 병사 현재 '의식불명'… 혈압 떨어지는 중 \\n[채널A단독]우리측 ...  \n",
       "2                                    퍼가실때 꼭 출처 부탁드려요  \n",
       "3                                다스는 누구겁니까 듣고 난 후 표정  \n",
       "4  김장겸 MBC 사장이 결국 해임됐다.\\n\\nMBC 대주주인 방송문화진흥회는 13일 ...  "
      ]
     },
     "execution_count": 74,
     "metadata": {},
     "output_type": "execute_result"
    }
   ],
   "source": [
    "df.head()"
   ]
  },
  {
   "cell_type": "code",
   "execution_count": 75,
   "id": "earlier-salem",
   "metadata": {},
   "outputs": [
    {
     "name": "stdout",
     "output_type": "stream",
     "text": [
      "<class 'pandas.core.frame.DataFrame'>\n",
      "RangeIndex: 34567 entries, 0 to 34566\n",
      "Data columns (total 16 columns):\n",
      " #   Column                  Non-Null Count  Dtype \n",
      "---  ------                  --------------  ----- \n",
      " 0   video_id                34567 non-null  object\n",
      " 1   trending_date           34567 non-null  object\n",
      " 2   title                   34567 non-null  object\n",
      " 3   channel_title           34567 non-null  object\n",
      " 4   category_id             34567 non-null  int64 \n",
      " 5   publish_time            34567 non-null  object\n",
      " 6   tags                    34567 non-null  object\n",
      " 7   views                   34567 non-null  int64 \n",
      " 8   likes                   34567 non-null  int64 \n",
      " 9   dislikes                34567 non-null  int64 \n",
      " 10  comment_count           34567 non-null  int64 \n",
      " 11  thumbnail_link          34567 non-null  object\n",
      " 12  comments_disabled       34567 non-null  bool  \n",
      " 13  ratings_disabled        34567 non-null  bool  \n",
      " 14  video_error_or_removed  34567 non-null  bool  \n",
      " 15  description             31404 non-null  object\n",
      "dtypes: bool(3), int64(5), object(8)\n",
      "memory usage: 3.5+ MB\n"
     ]
    }
   ],
   "source": [
    "df.info()"
   ]
  },
  {
   "cell_type": "code",
   "execution_count": 76,
   "id": "exotic-repository",
   "metadata": {},
   "outputs": [
    {
     "data": {
      "text/html": [
       "<div>\n",
       "<style scoped>\n",
       "    .dataframe tbody tr th:only-of-type {\n",
       "        vertical-align: middle;\n",
       "    }\n",
       "\n",
       "    .dataframe tbody tr th {\n",
       "        vertical-align: top;\n",
       "    }\n",
       "\n",
       "    .dataframe thead th {\n",
       "        text-align: right;\n",
       "    }\n",
       "</style>\n",
       "<table border=\"1\" class=\"dataframe\">\n",
       "  <thead>\n",
       "    <tr style=\"text-align: right;\">\n",
       "      <th></th>\n",
       "      <th>category_id</th>\n",
       "      <th>views</th>\n",
       "      <th>likes</th>\n",
       "      <th>dislikes</th>\n",
       "      <th>comment_count</th>\n",
       "    </tr>\n",
       "  </thead>\n",
       "  <tbody>\n",
       "    <tr>\n",
       "      <th>count</th>\n",
       "      <td>34567.000000</td>\n",
       "      <td>3.456700e+04</td>\n",
       "      <td>3.456700e+04</td>\n",
       "      <td>3.456700e+04</td>\n",
       "      <td>3.456700e+04</td>\n",
       "    </tr>\n",
       "    <tr>\n",
       "      <th>mean</th>\n",
       "      <td>21.137675</td>\n",
       "      <td>4.249473e+05</td>\n",
       "      <td>1.218642e+04</td>\n",
       "      <td>5.390980e+02</td>\n",
       "      <td>2.025383e+03</td>\n",
       "    </tr>\n",
       "    <tr>\n",
       "      <th>std</th>\n",
       "      <td>6.675455</td>\n",
       "      <td>2.430637e+06</td>\n",
       "      <td>1.170531e+05</td>\n",
       "      <td>1.370852e+04</td>\n",
       "      <td>2.150677e+04</td>\n",
       "    </tr>\n",
       "    <tr>\n",
       "      <th>min</th>\n",
       "      <td>1.000000</td>\n",
       "      <td>2.050000e+03</td>\n",
       "      <td>0.000000e+00</td>\n",
       "      <td>0.000000e+00</td>\n",
       "      <td>0.000000e+00</td>\n",
       "    </tr>\n",
       "    <tr>\n",
       "      <th>25%</th>\n",
       "      <td>22.000000</td>\n",
       "      <td>4.776850e+04</td>\n",
       "      <td>4.120000e+02</td>\n",
       "      <td>2.100000e+01</td>\n",
       "      <td>1.050000e+02</td>\n",
       "    </tr>\n",
       "    <tr>\n",
       "      <th>50%</th>\n",
       "      <td>24.000000</td>\n",
       "      <td>1.114960e+05</td>\n",
       "      <td>1.389000e+03</td>\n",
       "      <td>6.500000e+01</td>\n",
       "      <td>3.450000e+02</td>\n",
       "    </tr>\n",
       "    <tr>\n",
       "      <th>75%</th>\n",
       "      <td>25.000000</td>\n",
       "      <td>2.788665e+05</td>\n",
       "      <td>3.704500e+03</td>\n",
       "      <td>1.750000e+02</td>\n",
       "      <td>9.290000e+02</td>\n",
       "    </tr>\n",
       "    <tr>\n",
       "      <th>max</th>\n",
       "      <td>44.000000</td>\n",
       "      <td>1.138762e+08</td>\n",
       "      <td>5.150839e+06</td>\n",
       "      <td>1.470388e+06</td>\n",
       "      <td>1.142274e+06</td>\n",
       "    </tr>\n",
       "  </tbody>\n",
       "</table>\n",
       "</div>"
      ],
      "text/plain": [
       "        category_id         views         likes      dislikes  comment_count\n",
       "count  34567.000000  3.456700e+04  3.456700e+04  3.456700e+04   3.456700e+04\n",
       "mean      21.137675  4.249473e+05  1.218642e+04  5.390980e+02   2.025383e+03\n",
       "std        6.675455  2.430637e+06  1.170531e+05  1.370852e+04   2.150677e+04\n",
       "min        1.000000  2.050000e+03  0.000000e+00  0.000000e+00   0.000000e+00\n",
       "25%       22.000000  4.776850e+04  4.120000e+02  2.100000e+01   1.050000e+02\n",
       "50%       24.000000  1.114960e+05  1.389000e+03  6.500000e+01   3.450000e+02\n",
       "75%       25.000000  2.788665e+05  3.704500e+03  1.750000e+02   9.290000e+02\n",
       "max       44.000000  1.138762e+08  5.150839e+06  1.470388e+06   1.142274e+06"
      ]
     },
     "execution_count": 76,
     "metadata": {},
     "output_type": "execute_result"
    }
   ],
   "source": [
    "df.describe()"
   ]
  },
  {
   "cell_type": "markdown",
   "id": "musical-quick",
   "metadata": {},
   "source": [
    "#### Heatmap"
   ]
  },
  {
   "cell_type": "code",
   "execution_count": 82,
   "id": "aboriginal-lightweight",
   "metadata": {},
   "outputs": [
    {
     "data": {
      "text/plain": [
       "<AxesSubplot:>"
      ]
     },
     "execution_count": 82,
     "metadata": {},
     "output_type": "execute_result"
    },
    {
     "data": {
      "image/png": "[encoded data removed]",
      "text/plain": [
       "<Figure size 432x288 with 2 Axes>"
      ]
     },
     "metadata": {},
     "output_type": "display_data"
    }
   ],
   "source": [
    "import seaborn as sns\n",
    "sns.heatmap(df.corr())"
   ]
  },
  {
   "cell_type": "code",
   "execution_count": 83,
   "id": "hollywood-jones",
   "metadata": {},
   "outputs": [
    {
     "data": {
      "text/plain": [
       "<AxesSubplot:>"
      ]
     },
     "execution_count": 83,
     "metadata": {},
     "output_type": "execute_result"
    },
    {
     "data": {
      "image/png": "[encoded data removed]",
      "text/plain": [
       "<Figure size 432x288 with 2 Axes>"
      ]
     },
     "metadata": {},
     "output_type": "display_data"
    }
   ],
   "source": [
    "sns.heatmap(df[['likes','dislikes']].corr())"
   ]
  },
  {
   "cell_type": "code",
   "execution_count": 84,
   "id": "bright-register",
   "metadata": {},
   "outputs": [
    {
     "data": {
      "text/plain": [
       "<AxesSubplot:>"
      ]
     },
     "execution_count": 84,
     "metadata": {},
     "output_type": "execute_result"
    },
    {
     "data": {
      "image/png": "[encoded data removed]",
      "text/plain": [
       "<Figure size 432x288 with 2 Axes>"
      ]
     },
     "metadata": {},
     "output_type": "display_data"
    }
   ],
   "source": [
    "sns.heatmap(df[['views','likes','dislikes','comment_count']].corr())"
   ]
  },
  {
   "cell_type": "code",
   "execution_count": 85,
   "id": "biblical-update",
   "metadata": {},
   "outputs": [
    {
     "data": {
      "text/plain": [
       "<AxesSubplot:>"
      ]
     },
     "execution_count": 85,
     "metadata": {},
     "output_type": "execute_result"
    },
    {
     "data": {
      "image/png": "[encoded data removed]",
      "text/plain": [
       "<Figure size 432x288 with 2 Axes>"
      ]
     },
     "metadata": {},
     "output_type": "display_data"
    }
   ],
   "source": [
    "sns.heatmap(df[['views','likes','comment_count']].corr())"
   ]
  },
  {
   "cell_type": "code",
   "execution_count": 86,
   "id": "sonic-audit",
   "metadata": {},
   "outputs": [
    {
     "data": {
      "text/plain": [
       "<AxesSubplot:>"
      ]
     },
     "execution_count": 86,
     "metadata": {},
     "output_type": "execute_result"
    },
    {
     "data": {
      "image/png": "[encoded data removed]",
      "text/plain": [
       "<Figure size 432x288 with 2 Axes>"
      ]
     },
     "metadata": {},
     "output_type": "display_data"
    }
   ],
   "source": [
    "sns.heatmap(df[['likes','comment_count']].corr())"
   ]
  },
  {
   "cell_type": "code",
   "execution_count": 87,
   "id": "sporting-surrey",
   "metadata": {},
   "outputs": [
    {
     "data": {
      "text/plain": [
       "<AxesSubplot:>"
      ]
     },
     "execution_count": 87,
     "metadata": {},
     "output_type": "execute_result"
    },
    {
     "data": {
      "image/png": "[encoded data removed]",
      "text/plain": [
       "<Figure size 432x288 with 2 Axes>"
      ]
     },
     "metadata": {},
     "output_type": "display_data"
    }
   ],
   "source": [
    "sns.heatmap(df[['dislikes','comment_count']].corr())"
   ]
  },
  {
   "cell_type": "markdown",
   "id": "sound-traffic",
   "metadata": {},
   "source": [
    "#### Check the Ratio of \"Boolean\" values"
   ]
  },
  {
   "cell_type": "code",
   "execution_count": 93,
   "id": "iraqi-desktop",
   "metadata": {},
   "outputs": [
    {
     "data": {
      "text/plain": [
       "0.01478288541094107"
      ]
     },
     "execution_count": 93,
     "metadata": {},
     "output_type": "execute_result"
    }
   ],
   "source": [
    "(df.comments_disabled == True).sum() / len(df.comments_disabled)"
   ]
  },
  {
   "cell_type": "code",
   "execution_count": 95,
   "id": "sorted-triple",
   "metadata": {},
   "outputs": [
    {
     "data": {
      "text/plain": [
       "0.0405010559203865"
      ]
     },
     "execution_count": 95,
     "metadata": {},
     "output_type": "execute_result"
    }
   ],
   "source": [
    "(df.ratings_disabled == True).sum() / len(df.ratings_disabled)"
   ]
  },
  {
   "cell_type": "code",
   "execution_count": 96,
   "id": "durable-drill",
   "metadata": {},
   "outputs": [
    {
     "data": {
      "text/plain": [
       "0.001186102351954176"
      ]
     },
     "execution_count": 96,
     "metadata": {},
     "output_type": "execute_result"
    }
   ],
   "source": [
    "(df.video_error_or_removed == True).sum() / len(df.video_error_or_removed)"
   ]
  },
  {
   "cell_type": "markdown",
   "id": "purple-hobby",
   "metadata": {},
   "source": [
    "#### Time Series"
   ]
  },
  {
   "cell_type": "code",
   "execution_count": 102,
   "id": "informative-senior",
   "metadata": {},
   "outputs": [
    {
     "data": {
      "text/plain": [
       "0        17.14.11\n",
       "1        17.14.11\n",
       "2        17.14.11\n",
       "3        17.14.11\n",
       "4        17.14.11\n",
       "           ...   \n",
       "34562    18.14.06\n",
       "34563    18.14.06\n",
       "34564    18.14.06\n",
       "34565    18.14.06\n",
       "34566    18.14.06\n",
       "Name: trending_date, Length: 34567, dtype: object"
      ]
     },
     "execution_count": 102,
     "metadata": {},
     "output_type": "execute_result"
    }
   ],
   "source": [
    "df.trending_date"
   ]
  },
  {
   "cell_type": "code",
   "execution_count": 101,
   "id": "roman-football",
   "metadata": {},
   "outputs": [
    {
     "data": {
      "text/plain": [
       "0"
      ]
     },
     "execution_count": 101,
     "metadata": {},
     "output_type": "execute_result"
    }
   ],
   "source": [
    "(df.trending_date.str.contains('.') == False).sum()"
   ]
  }
 ],
 "metadata": {
  "kernelspec": {
   "display_name": "Python 3",
   "language": "python",
   "name": "python3"
  },
  "language_info": {
   "codemirror_mode": {
    "name": "ipython",
    "version": 3
   },
   "file_extension": ".py",
   "mimetype": "text/x-python",
   "name": "python",
   "nbconvert_exporter": "python",
   "pygments_lexer": "ipython3",
   "version": "3.7.7"
  }
 },
 "nbformat": 4,
 "nbformat_minor": 5
}
