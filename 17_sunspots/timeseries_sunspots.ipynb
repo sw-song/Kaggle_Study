{
 "metadata": {
  "language_info": {
   "codemirror_mode": {
    "name": "ipython",
    "version": 3
   },
   "file_extension": ".py",
   "mimetype": "text/x-python",
   "name": "python",
   "nbconvert_exporter": "python",
   "pygments_lexer": "ipython3",
   "version": "3.7.7"
  },
  "orig_nbformat": 2,
  "kernelspec": {
   "name": "python377jvsc74a57bd088212c6b79be9b544bafe6735d74fe8c206b1cc2a4f62e98b323686df1ed5be2",
   "display_name": "Python 3.7.7 64-bit ('dataScience': conda)"
  }
 },
 "nbformat": 4,
 "nbformat_minor": 2,
 "cells": [
  {
   "source": [
    "# Time Series Forcast - sunspots"
   ],
   "cell_type": "markdown",
   "metadata": {}
  },
  {
   "source": [
    "## Step 0. Library Import"
   ],
   "cell_type": "markdown",
   "metadata": {}
  },
  {
   "cell_type": "code",
   "execution_count": 1,
   "metadata": {},
   "outputs": [],
   "source": [
    "import csv\n",
    "import urllib\n",
    "import numpy as np \n",
    "\n",
    "import tensorflow as tf \n",
    "from tensorflow.keras.layers import Dense, LSTM, Lambda, Conv1D\n",
    "from tensorflow.keras.models import Sequential\n",
    "from tensorflow.keras.callbacks import ModelCheckpoint\n",
    "from tensorflow.keras.optimizers import SGD\n",
    "from tensorflow.keras.losses import Huber"
   ]
  },
  {
   "source": [
    "## Step 1. Load Dataset"
   ],
   "cell_type": "markdown",
   "metadata": {}
  },
  {
   "cell_type": "code",
   "execution_count": 2,
   "metadata": {},
   "outputs": [
    {
     "output_type": "execute_result",
     "data": {
      "text/plain": [
       "('./data/sunspots.csv', <http.client.HTTPMessage at 0x7ff59b51da50>)"
      ]
     },
     "metadata": {},
     "execution_count": 2
    }
   ],
   "source": [
    "url = 'https://storage.googleapis.com/download.tensorflow.org/data/Sunspots.csv'\n",
    "data_path = './data/sunspots.csv'\n",
    "\n",
    "urllib.request.urlretrieve(url, data_path)"
   ]
  },
  {
   "cell_type": "code",
   "execution_count": 3,
   "metadata": {},
   "outputs": [],
   "source": [
    "sunspots = []\n",
    "time_step = []\n",
    "\n",
    "with open(data_path) as f:\n",
    "    reader = csv.reader(f, delimiter=',')\n",
    "    next(reader) # first line skip\n",
    "    for row in reader:\n",
    "        sunspots.append(float(row[2]))\n",
    "        time_step.append(int(row[0]))"
   ]
  },
  {
   "cell_type": "code",
   "execution_count": 6,
   "metadata": {},
   "outputs": [
    {
     "output_type": "stream",
     "name": "stdout",
     "text": [
      "sunspot :  96.7\ntime step : 0\n-----------------------\nsunspot :  104.3\ntime step : 1\n-----------------------\nsunspot :  116.7\ntime step : 2\n-----------------------\nsunspot :  92.8\ntime step : 3\n-----------------------\nsunspot :  141.7\ntime step : 4\n-----------------------\nsunspot :  139.2\ntime step : 5\n-----------------------\nsunspot :  158.0\ntime step : 6\n-----------------------\nsunspot :  110.5\ntime step : 7\n-----------------------\nsunspot :  126.5\ntime step : 8\n-----------------------\nsunspot :  125.8\ntime step : 9\n-----------------------\n"
     ]
    }
   ],
   "source": [
    "for i in range(10):\n",
    "    print('sunspot : ', sunspots[i])\n",
    "    print('time step :', time_step[i])\n",
    "    print('-----------------------')"
   ]
  },
  {
   "cell_type": "code",
   "execution_count": 8,
   "metadata": {},
   "outputs": [
    {
     "output_type": "stream",
     "name": "stdout",
     "text": [
      "type of -sunspots- :  <class 'list'>\ntype of -time_step- :  <class 'list'>\n"
     ]
    }
   ],
   "source": [
    "print('type of -sunspots- : ', type(sunspots))\n",
    "print('type of -time_step- : ', type(time_step))"
   ]
  },
  {
   "cell_type": "code",
   "execution_count": 9,
   "metadata": {},
   "outputs": [],
   "source": [
    "sunspots = np.array(sunspots)\n",
    "time_step = np.array(time_step)\n"
   ]
  },
  {
   "cell_type": "code",
   "execution_count": 12,
   "metadata": {},
   "outputs": [
    {
     "output_type": "stream",
     "name": "stdout",
     "text": [
      "type of -sunspots- :  <class 'numpy.ndarray'>\nsize of -sunspots- :  (3235,)\ntype of -time_step- :  <class 'numpy.ndarray'>\nsize of -time_step- :  (3235,)\n"
     ]
    }
   ],
   "source": [
    "print('type of -sunspots- : ', type(sunspots))\n",
    "print('size of -sunspots- : ', sunspots.shape)\n",
    "print('type of -time_step- : ', type(time_step))\n",
    "print('size of -time_step- : ', time_step.shape)"
   ]
  },
  {
   "cell_type": "code",
   "execution_count": null,
   "metadata": {},
   "outputs": [],
   "source": []
  }
 ]
}