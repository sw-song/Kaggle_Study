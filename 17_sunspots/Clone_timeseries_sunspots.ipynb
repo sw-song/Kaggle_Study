{
 "metadata": {
  "language_info": {
   "codemirror_mode": {
    "name": "ipython",
    "version": 3
   },
   "file_extension": ".py",
   "mimetype": "text/x-python",
   "name": "python",
   "nbconvert_exporter": "python",
   "pygments_lexer": "ipython3",
   "version": "3.7.7"
  },
  "orig_nbformat": 2,
  "kernelspec": {
   "name": "python377jvsc74a57bd088212c6b79be9b544bafe6735d74fe8c206b1cc2a4f62e98b323686df1ed5be2",
   "display_name": "Python 3.7.7 64-bit ('dataScience': conda)"
  }
 },
 "nbformat": 4,
 "nbformat_minor": 2,
 "cells": [
  {
   "source": [
    "# Time Series Forcasting Model based on LSTM with 'sunspots' dataset - Clone Project([Time Series-Tensorflow RNN-LSTM Introduction](https://www.kaggle.com/kutaykutlu/time-series-tensorflow-rnn-lstm-introduction))"
   ],
   "cell_type": "markdown",
   "metadata": {}
  },
  {
   "source": [
    "## Step 0. Libraries"
   ],
   "cell_type": "markdown",
   "metadata": {}
  },
  {
   "cell_type": "code",
   "execution_count": 1,
   "metadata": {},
   "outputs": [
    {
     "output_type": "stream",
     "name": "stderr",
     "text": [
      "/Users/swsong/opt/anaconda3/envs/dataScience/lib/python3.7/importlib/_bootstrap.py:219: RuntimeWarning: numpy.ufunc size changed, may indicate binary incompatibility. Expected 192 from C header, got 216 from PyObject\n",
      "  return f(*args, **kwds)\n",
      "2.2.0\n"
     ]
    }
   ],
   "source": [
    "import numpy as np\n",
    "import pandas as pd \n",
    "import matplotlib.pyplot as plt \n",
    "import tensorflow as tf \n",
    "print(tf.__version__)\n",
    "\n",
    "import warnings\n",
    "warnings.filterwarnings('ignore')"
   ]
  },
  {
   "source": [
    "## Step 1. The Functions\n",
    "- Let's built some useful function to use in the next steps "
   ],
   "cell_type": "markdown",
   "metadata": {}
  },
  {
   "cell_type": "code",
   "execution_count": 2,
   "metadata": {},
   "outputs": [],
   "source": [
    "# It is a simple function to plot time x axis values y axis\n",
    "\n",
    "def plot_series(time, series, format='-', start=0, end=None):\n",
    "    plt.plot(time[start:end], series[start:end], format)\n",
    "    plt.xlabel('Time')\n",
    "    plt.ylabel('Value')\n",
    "    plt.grid(True)"
   ]
  },
  {
   "cell_type": "code",
   "execution_count": 3,
   "metadata": {},
   "outputs": [],
   "source": [
    "# Inputs: data series, size of the window, The size of the batches to use when training, The size of the shuffle buffer, which determines how the data will be shuffled.\n",
    "def windowed_dataset(series, window_size, batch_size, shuffle_buffer):\n",
    "    # Expand the dimensions of the series to work with the LSTM's\n",
    "    series = tf.expand_dims(series, axis=-1)\n",
    "    # Create dataset ds from the series\n",
    "    ds = tf.data.Dataset.from_tensor_slices(series)\n",
    "    # Slice the data up into the appropriate windows, shifted by one time set.\n",
    "    # Keep them all the same size by setting drop remainder to true.\n",
    "    ds = ds.window(window_size + 1, shift=1, drop_remainder=True)\n",
    "    # Flatten the data into chunks in the size of our window_size+1\n",
    "    ds = ds.flat_map(lambda w : w.batch(window_size+1))\n",
    "    # Shuffle it with shuffle buffer that speeds things up with large datasets\n",
    "    ds = ds.shuffle(shuffle_buffer)\n",
    "    ds = ds.map(lambda w : (w[:-1], w[1:]))\n",
    "    # Return the dataset that batched into the selected batch size\n",
    "    return ds.batch(batch_size).prefetch(1)\n",
    "    "
   ]
  },
  {
   "cell_type": "code",
   "execution_count": 5,
   "metadata": {},
   "outputs": [],
   "source": [
    "# We can use this function to make some prediction by using the trained mode 1\n",
    "def model_forcast(model, series, window_size):\n",
    "    ds = tf.data.Dataset.from_tensor_slices(series)\n",
    "    ds = ds.window(window_size, shift=1, drop_remainder=True)\n",
    "    ds = ds.flat_map(lambda w : w.batch(window_size))\n",
    "    ds = ds.batch(32).prefetch(1)\n",
    "    forecast = model.prediction(ds)\n",
    "    return forecast"
   ]
  },
  {
   "cell_type": "code",
   "execution_count": null,
   "metadata": {},
   "outputs": [],
   "source": []
  }
 ]
}