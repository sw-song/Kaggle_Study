{
 "metadata": {
  "language_info": {
   "codemirror_mode": {
    "name": "ipython",
    "version": 3
   },
   "file_extension": ".py",
   "mimetype": "text/x-python",
   "name": "python",
   "nbconvert_exporter": "python",
   "pygments_lexer": "ipython3",
   "version": "3.7.7"
  },
  "orig_nbformat": 2,
  "kernelspec": {
   "name": "python377jvsc74a57bd088212c6b79be9b544bafe6735d74fe8c206b1cc2a4f62e98b323686df1ed5be2",
   "display_name": "Python 3.7.7 64-bit ('dataScience': conda)"
  }
 },
 "nbformat": 4,
 "nbformat_minor": 2,
 "cells": [
  {
   "source": [
    "# Horses or Humans Classification"
   ],
   "cell_type": "markdown",
   "metadata": {}
  },
  {
   "source": [
    "---\n",
    "```\n",
    "Step 0. Library Import\n",
    "Step 1. Dataset Load\n",
    "Step 2. Data Preprocessing\n",
    "Step 3. Modeling\n",
    "Step 4. Model Compile\n",
    "Step 5. Model Checkpoint\n",
    "Step 6. Model Fit\n",
    "Step 7. Model Evaluate & Svae\n",
    "Step 8. Reload Model\n",
    "```"
   ],
   "cell_type": "markdown",
   "metadata": {}
  },
  {
   "source": [
    "## Step 0. Library Import"
   ],
   "cell_type": "markdown",
   "metadata": {}
  },
  {
   "cell_type": "code",
   "execution_count": 27,
   "metadata": {},
   "outputs": [],
   "source": [
    "import urllib.request\n",
    "import zipfile\n",
    "import numpy as np\n",
    "from IPython.display import Image\n",
    "\n",
    "import tensorflow as tf \n",
    "from tensorflow.keras.layers import Conv2D, MaxPooling2D, Flatten, Dropout, Dense\n",
    "from tensorflow.keras.models import Sequential\n",
    "from tensorflow.keras.preprocessing.image import ImageDataGenerator\n",
    "from tensorflow.keras.callbacks import ModelCheckpoint"
   ]
  },
  {
   "source": [
    "## Step 1. Dataset Load"
   ],
   "cell_type": "markdown",
   "metadata": {}
  },
  {
   "source": [
    "train_url = \"https://storage.googleapis.com/download.tensorflow.org/data/horse-or-human.zip\"\n",
    "valid_url = \"https://storage.googleapis.com/download.tensorflow.org/data/validation-horse-or-human.zip\""
   ],
   "cell_type": "code",
   "metadata": {},
   "execution_count": 7,
   "outputs": []
  },
  {
   "source": [
    "train_zipfile_path = './data/train_horses_or_humans.zip'\n",
    "valid_zipfile_path = './data/valid_horses_or_hamans.zip'"
   ],
   "cell_type": "code",
   "metadata": {},
   "execution_count": 8,
   "outputs": []
  },
  {
   "cell_type": "code",
   "execution_count": 10,
   "metadata": {},
   "outputs": [],
   "source": [
    "# train set unzip\n",
    "urllib.request.urlretrieve(train_url, train_zipfile_path)\n",
    "zip_ref = zipfile.ZipFile(train_zipfile_path,'r')\n",
    "zip_ref.extractall('./data/train_horses_or_humans/')\n",
    "zip_ref.close()\n",
    "\n",
    "# test set unzip\n",
    "urllib.request.urlretrieve(valid_url, valid_zipfile_path)\n",
    "zip_ref2 = zipfile.ZipFile(valid_zipfile_path,'r')\n",
    "zip_ref2.extractall('./data/valid_horses_or_hamans/')\n",
    "zip_ref2.close()"
   ]
  },
  {
   "source": [
    "## Step 2. Data Preprocessing"
   ],
   "cell_type": "markdown",
   "metadata": {}
  },
  {
   "cell_type": "code",
   "execution_count": 11,
   "metadata": {},
   "outputs": [],
   "source": [
    "train_data_path = './data/train_horses_or_humans/'\n",
    "valid_data_path = './data/valid_horses_or_humans/'"
   ]
  },
  {
   "cell_type": "code",
   "execution_count": 24,
   "metadata": {},
   "outputs": [],
   "source": [
    "train_idg = ImageDataGenerator(\n",
    "    rescale = 1 / 255.0,\n",
    "    rotation_range = 5,\n",
    "    width_shift_range = 0.05,\n",
    "    height_shift_range = 0.05,\n",
    "    zoom_range = 0.1,\n",
    "    horizontal_flip = True,\n",
    "    fill_mode = 'reflect',\n",
    ")"
   ]
  },
  {
   "cell_type": "code",
   "execution_count": 25,
   "metadata": {},
   "outputs": [],
   "source": [
    "valid_idg = ImageDataGenerator(\n",
    "    rescale = 1 / 255.0,\n",
    "    rotation_range = 5,\n",
    "    width_shift_range = 0.05,\n",
    "    height_shift_range = 0.05,\n",
    "    zoom_range = 0.1,\n",
    "    horizontal_flip = True,\n",
    "    fill_mode = 'reflect',\n",
    ")"
   ]
  },
  {
   "cell_type": "code",
   "execution_count": 22,
   "metadata": {},
   "outputs": [
    {
     "output_type": "stream",
     "name": "stdout",
     "text": [
      "Found 1027 images belonging to 2 classes.\n"
     ]
    }
   ],
   "source": [
    "train_gen = train_idg.flow_from_directory(\n",
    "    train_data_path,\n",
    "    target_size=(300,300),\n",
    "    batch_size=64,\n",
    "    class_mode='categorical'\n",
    ")"
   ]
  },
  {
   "cell_type": "code",
   "execution_count": 23,
   "metadata": {},
   "outputs": [
    {
     "output_type": "stream",
     "name": "stdout",
     "text": [
      "Found 1027 images belonging to 2 classes.\n"
     ]
    }
   ],
   "source": [
    "valid_gen = valid_idg.flow_from_directory(\n",
    "    train_data_path,\n",
    "    target_size=(300,300),\n",
    "    batch_size=64,\n",
    "    class_mode='categorical'\n",
    ")"
   ]
  },
  {
   "source": [
    "## Step 3. Modeling"
   ],
   "cell_type": "markdown",
   "metadata": {}
  },
  {
   "cell_type": "code",
   "execution_count": 28,
   "metadata": {},
   "outputs": [],
   "source": [
    "model = Sequential([\n",
    "    Conv2D(16, (3, 3), activation='relu', input_shape=(300, 300, 3)),\n",
    "    MaxPooling2D(2, 2),\n",
    "    Conv2D(32, (3, 3), activation='relu'),\n",
    "    MaxPooling2D(2, 2),\n",
    "    Conv2D(64, (3, 3), activation='relu'),\n",
    "    MaxPooling2D(2, 2),\n",
    "    Conv2D(64, (3, 3), activation='relu'),\n",
    "    MaxPooling2D(2, 2),\n",
    "    Conv2D(128, (3, 3), activation='relu'),\n",
    "    MaxPooling2D(2, 2),\n",
    "    Flatten(),\n",
    "    Dropout(0.5),\n",
    "    Dense(128, activation='relu'),\n",
    "    Dense(32, activation='relu'),\n",
    "    Dense(2, activation='softmax')\n",
    "])"
   ]
  },
  {
   "cell_type": "code",
   "execution_count": 29,
   "metadata": {},
   "outputs": [
    {
     "output_type": "stream",
     "name": "stdout",
     "text": [
      "Model: \"sequential\"\n_________________________________________________________________\nLayer (type)                 Output Shape              Param #   \n=================================================================\nconv2d_1 (Conv2D)            (None, 298, 298, 16)      448       \n_________________________________________________________________\nmax_pooling2d (MaxPooling2D) (None, 149, 149, 16)      0         \n_________________________________________________________________\nconv2d_2 (Conv2D)            (None, 147, 147, 32)      4640      \n_________________________________________________________________\nmax_pooling2d_1 (MaxPooling2 (None, 73, 73, 32)        0         \n_________________________________________________________________\nconv2d_3 (Conv2D)            (None, 71, 71, 64)        18496     \n_________________________________________________________________\nmax_pooling2d_2 (MaxPooling2 (None, 35, 35, 64)        0         \n_________________________________________________________________\nconv2d_4 (Conv2D)            (None, 33, 33, 64)        36928     \n_________________________________________________________________\nmax_pooling2d_3 (MaxPooling2 (None, 16, 16, 64)        0         \n_________________________________________________________________\nconv2d_5 (Conv2D)            (None, 14, 14, 128)       73856     \n_________________________________________________________________\nmax_pooling2d_4 (MaxPooling2 (None, 7, 7, 128)         0         \n_________________________________________________________________\nflatten (Flatten)            (None, 6272)              0         \n_________________________________________________________________\ndropout (Dropout)            (None, 6272)              0         \n_________________________________________________________________\ndense (Dense)                (None, 128)               802944    \n_________________________________________________________________\ndense_1 (Dense)              (None, 32)                4128      \n_________________________________________________________________\ndense_2 (Dense)              (None, 2)                 66        \n=================================================================\nTotal params: 941,506\nTrainable params: 941,506\nNon-trainable params: 0\n_________________________________________________________________\n"
     ]
    }
   ],
   "source": [
    "model.summary()"
   ]
  },
  {
   "source": [
    "## Step 4. Model Compile"
   ],
   "cell_type": "markdown",
   "metadata": {}
  },
  {
   "cell_type": "code",
   "execution_count": 30,
   "metadata": {},
   "outputs": [],
   "source": [
    "model.compile(optimizer='adam', loss='categorical_crossentropy', metrics=['acc'])"
   ]
  },
  {
   "source": [
    "## Step 5. Model Checkpoint"
   ],
   "cell_type": "markdown",
   "metadata": {}
  },
  {
   "cell_type": "code",
   "execution_count": 35,
   "metadata": {},
   "outputs": [],
   "source": [
    "filepath = 'my_checkpoint.ckpt'\n",
    "cp = ModelCheckpoint(\n",
    "    filepath=filepath,\n",
    "    save_weights_only=True,\n",
    "    save_best_only=True,\n",
    "    monitor='val_loss',\n",
    "    verbose=1\n",
    ")"
   ]
  },
  {
   "source": [
    "## Step 6. Model Fit"
   ],
   "cell_type": "markdown",
   "metadata": {}
  },
  {
   "cell_type": "code",
   "execution_count": 36,
   "metadata": {},
   "outputs": [
    {
     "output_type": "stream",
     "name": "stdout",
     "text": [
      "Epoch 1/12\n",
      "17/17 [==============================] - ETA: 0s - loss: 0.1256 - acc: 0.9484\n",
      "Epoch 00001: val_loss improved from inf to 0.09423, saving model to my_checkpoint.ckpt\n",
      "17/17 [==============================] - 56s 3s/step - loss: 0.1256 - acc: 0.9484 - val_loss: 0.0942 - val_acc: 0.9630\n",
      "Epoch 2/12\n",
      "17/17 [==============================] - ETA: 0s - loss: 0.1042 - acc: 0.9601\n",
      "Epoch 00002: val_loss improved from 0.09423 to 0.07853, saving model to my_checkpoint.ckpt\n",
      "17/17 [==============================] - 54s 3s/step - loss: 0.1042 - acc: 0.9601 - val_loss: 0.0785 - val_acc: 0.9786\n",
      "Epoch 3/12\n",
      "17/17 [==============================] - ETA: 0s - loss: 0.0983 - acc: 0.9679\n",
      "Epoch 00003: val_loss improved from 0.07853 to 0.07292, saving model to my_checkpoint.ckpt\n",
      "17/17 [==============================] - 54s 3s/step - loss: 0.0983 - acc: 0.9679 - val_loss: 0.0729 - val_acc: 0.9727\n",
      "Epoch 4/12\n",
      "17/17 [==============================] - ETA: 0s - loss: 0.0890 - acc: 0.9649\n",
      "Epoch 00004: val_loss improved from 0.07292 to 0.05563, saving model to my_checkpoint.ckpt\n",
      "17/17 [==============================] - 55s 3s/step - loss: 0.0890 - acc: 0.9649 - val_loss: 0.0556 - val_acc: 0.9796\n",
      "Epoch 5/12\n",
      "17/17 [==============================] - ETA: 0s - loss: 0.0425 - acc: 0.9815\n",
      "Epoch 00005: val_loss improved from 0.05563 to 0.04113, saving model to my_checkpoint.ckpt\n",
      "17/17 [==============================] - 54s 3s/step - loss: 0.0425 - acc: 0.9815 - val_loss: 0.0411 - val_acc: 0.9883\n",
      "Epoch 6/12\n",
      "17/17 [==============================] - ETA: 0s - loss: 0.0672 - acc: 0.9766\n",
      "Epoch 00006: val_loss did not improve from 0.04113\n",
      "17/17 [==============================] - 54s 3s/step - loss: 0.0672 - acc: 0.9766 - val_loss: 0.0474 - val_acc: 0.9805\n",
      "Epoch 7/12\n",
      "17/17 [==============================] - ETA: 0s - loss: 0.0765 - acc: 0.9708\n",
      "Epoch 00007: val_loss improved from 0.04113 to 0.03949, saving model to my_checkpoint.ckpt\n",
      "17/17 [==============================] - 54s 3s/step - loss: 0.0765 - acc: 0.9708 - val_loss: 0.0395 - val_acc: 0.9864\n",
      "Epoch 8/12\n",
      "17/17 [==============================] - ETA: 0s - loss: 0.0559 - acc: 0.9796\n",
      "Epoch 00008: val_loss did not improve from 0.03949\n",
      "17/17 [==============================] - 54s 3s/step - loss: 0.0559 - acc: 0.9796 - val_loss: 0.0662 - val_acc: 0.9796\n",
      "Epoch 9/12\n",
      "17/17 [==============================] - ETA: 0s - loss: 0.0246 - acc: 0.9912\n",
      "Epoch 00009: val_loss improved from 0.03949 to 0.03935, saving model to my_checkpoint.ckpt\n",
      "17/17 [==============================] - 53s 3s/step - loss: 0.0246 - acc: 0.9912 - val_loss: 0.0394 - val_acc: 0.9854\n",
      "Epoch 10/12\n",
      "17/17 [==============================] - ETA: 0s - loss: 0.0465 - acc: 0.9815\n",
      "Epoch 00010: val_loss improved from 0.03935 to 0.03354, saving model to my_checkpoint.ckpt\n",
      "17/17 [==============================] - 53s 3s/step - loss: 0.0465 - acc: 0.9815 - val_loss: 0.0335 - val_acc: 0.9932\n",
      "Epoch 11/12\n",
      "17/17 [==============================] - ETA: 0s - loss: 0.0565 - acc: 0.9864\n",
      "Epoch 00011: val_loss improved from 0.03354 to 0.01814, saving model to my_checkpoint.ckpt\n",
      "17/17 [==============================] - 54s 3s/step - loss: 0.0565 - acc: 0.9864 - val_loss: 0.0181 - val_acc: 0.9942\n",
      "Epoch 12/12\n",
      "17/17 [==============================] - ETA: 0s - loss: 0.0422 - acc: 0.9864\n",
      "Epoch 00012: val_loss did not improve from 0.01814\n",
      "17/17 [==============================] - 54s 3s/step - loss: 0.0422 - acc: 0.9864 - val_loss: 0.0221 - val_acc: 0.9912\n"
     ]
    },
    {
     "output_type": "execute_result",
     "data": {
      "text/plain": [
       "<tensorflow.python.keras.callbacks.History at 0x7ff9b9ec0490>"
      ]
     },
     "metadata": {},
     "execution_count": 36
    }
   ],
   "source": [
    "model.fit(\n",
    "    train_gen,\n",
    "    validation_data=(valid_gen),\n",
    "    epochs=12,\n",
    "    callbacks=[cp]\n",
    ")"
   ]
  },
  {
   "source": [
    "## Step 7. Model Evaluate & Save"
   ],
   "cell_type": "markdown",
   "metadata": {}
  },
  {
   "cell_type": "code",
   "execution_count": 37,
   "metadata": {},
   "outputs": [
    {
     "output_type": "execute_result",
     "data": {
      "text/plain": [
       "<tensorflow.python.training.tracking.util.CheckpointLoadStatus at 0x7ffa3d0a34d0>"
      ]
     },
     "metadata": {},
     "execution_count": 37
    }
   ],
   "source": [
    "model.load_weights(filepath)"
   ]
  },
  {
   "cell_type": "code",
   "execution_count": 38,
   "metadata": {},
   "outputs": [
    {
     "output_type": "stream",
     "name": "stdout",
     "text": [
      "17/17 [==============================] - 21s 1s/step - loss: 0.0169 - acc: 0.9942\n"
     ]
    },
    {
     "output_type": "execute_result",
     "data": {
      "text/plain": [
       "[0.01685025915503502, 0.9941577315330505]"
      ]
     },
     "metadata": {},
     "execution_count": 38
    }
   ],
   "source": [
    "model.evaluate(valid_gen)"
   ]
  },
  {
   "source": [
    "model.save('./model/hoh_cnn_0181.h5')"
   ],
   "cell_type": "code",
   "metadata": {},
   "execution_count": 40,
   "outputs": []
  },
  {
   "source": [
    "## Step 8. Reload Model"
   ],
   "cell_type": "markdown",
   "metadata": {}
  },
  {
   "cell_type": "code",
   "execution_count": 41,
   "metadata": {},
   "outputs": [],
   "source": [
    "mymodel = tf.keras.models.load_model('./model/hoh_cnn_0181.h5')"
   ]
  },
  {
   "cell_type": "code",
   "execution_count": 42,
   "metadata": {},
   "outputs": [
    {
     "output_type": "stream",
     "name": "stdout",
     "text": [
      "Model: \"sequential\"\n_________________________________________________________________\nLayer (type)                 Output Shape              Param #   \n=================================================================\nconv2d_1 (Conv2D)            (None, 298, 298, 16)      448       \n_________________________________________________________________\nmax_pooling2d (MaxPooling2D) (None, 149, 149, 16)      0         \n_________________________________________________________________\nconv2d_2 (Conv2D)            (None, 147, 147, 32)      4640      \n_________________________________________________________________\nmax_pooling2d_1 (MaxPooling2 (None, 73, 73, 32)        0         \n_________________________________________________________________\nconv2d_3 (Conv2D)            (None, 71, 71, 64)        18496     \n_________________________________________________________________\nmax_pooling2d_2 (MaxPooling2 (None, 35, 35, 64)        0         \n_________________________________________________________________\nconv2d_4 (Conv2D)            (None, 33, 33, 64)        36928     \n_________________________________________________________________\nmax_pooling2d_3 (MaxPooling2 (None, 16, 16, 64)        0         \n_________________________________________________________________\nconv2d_5 (Conv2D)            (None, 14, 14, 128)       73856     \n_________________________________________________________________\nmax_pooling2d_4 (MaxPooling2 (None, 7, 7, 128)         0         \n_________________________________________________________________\nflatten (Flatten)            (None, 6272)              0         \n_________________________________________________________________\ndropout (Dropout)            (None, 6272)              0         \n_________________________________________________________________\ndense (Dense)                (None, 128)               802944    \n_________________________________________________________________\ndense_1 (Dense)              (None, 32)                4128      \n_________________________________________________________________\ndense_2 (Dense)              (None, 2)                 66        \n=================================================================\nTotal params: 941,506\nTrainable params: 941,506\nNon-trainable params: 0\n_________________________________________________________________\n"
     ]
    }
   ],
   "source": [
    "mymodel.summary()"
   ]
  },
  {
   "cell_type": "code",
   "execution_count": null,
   "metadata": {},
   "outputs": [],
   "source": []
  }
 ]
}