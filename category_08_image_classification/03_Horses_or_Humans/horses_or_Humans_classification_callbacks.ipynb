{
 "metadata": {
  "language_info": {
   "codemirror_mode": {
    "name": "ipython",
    "version": 3
   },
   "file_extension": ".py",
   "mimetype": "text/x-python",
   "name": "python",
   "nbconvert_exporter": "python",
   "pygments_lexer": "ipython3",
   "version": "3.7.7"
  },
  "orig_nbformat": 2,
  "kernelspec": {
   "name": "python377jvsc74a57bd088212c6b79be9b544bafe6735d74fe8c206b1cc2a4f62e98b323686df1ed5be2",
   "display_name": "Python 3.7.7 64-bit ('dataScience': conda)"
  },
  "metadata": {
   "interpreter": {
    "hash": "ce796fd7c31851a1c453e369abafc1508a2bb345cb60672b586e380219d0e3c6"
   }
  }
 },
 "nbformat": 4,
 "nbformat_minor": 2,
 "cells": [
  {
   "source": [
    "# CNN Classification Model -  Horses or Humans\n",
    "- learning rate schedule\n",
    "- early stopping callbacks"
   ],
   "cell_type": "markdown",
   "metadata": {}
  },
  {
   "source": [
    "```\n",
    "Step 1. Load libraries and data\n",
    "Step 2. Data Preprocessing(ImageDataGenerator)\n",
    "Step 3. Modeling\n",
    "Step 4. Model Optimizer Setting\n",
    "Step 5. Model Compile\n",
    "Step 6. Callback Function Setting\n",
    "     6-a. ModelCheckpoint\n",
    "     6-b. EarlyStopping\n",
    "Step 7. Model Fit \n",
    "Step 8. Model Evaluate & Save\n",
    "```\n"
   ],
   "cell_type": "markdown",
   "metadata": {}
  },
  {
   "source": [
    "## Step 1. Load libraries and data"
   ],
   "cell_type": "markdown",
   "metadata": {}
  },
  {
   "cell_type": "code",
   "execution_count": 3,
   "metadata": {},
   "outputs": [],
   "source": [
    "import pandas as pd\n",
    "import numpy as np\n",
    "\n",
    "import tensorflow as tf\n",
    "from tensorflow.keras.layers import Conv2D, Flatten, Dense, MaxPooling2D, Dropout\n",
    "from tensorflow.keras.models import Sequential\n",
    "from tensorflow.keras.callbacks import ModelCheckpoint, EarlyStopping\n",
    "from tensorflow.keras.preprocessing.image import ImageDataGenerator"
   ]
  },
  {
   "cell_type": "code",
   "execution_count": 10,
   "metadata": {},
   "outputs": [],
   "source": [
    "train_path = './data/train_horses_or_humans'\n",
    "valid_path = './data/valid_horses_or_humans/'"
   ]
  },
  {
   "source": [
    "## Step 2. Data Preprocessing(ImageDataGenerator)"
   ],
   "cell_type": "markdown",
   "metadata": {}
  },
  {
   "cell_type": "code",
   "execution_count": 8,
   "metadata": {},
   "outputs": [],
   "source": [
    "train_datagen = ImageDataGenerator(\n",
    "    rescale = 1 / 255.0,\n",
    "    rotation_range = 20,\n",
    "    width_shift_range = 0.2,\n",
    "    height_shift_range = 0.2,\n",
    "    shear_range = 0.2,\n",
    "    zoom_range = 0.2,\n",
    "    horizontal_flip = True,\n",
    "    fill_mode = 'nearest'\n",
    ")\n",
    "\n",
    "valid_datagen = ImageDataGenerator(\n",
    "    rescale = 1 / 255.0\n",
    ")"
   ]
  },
  {
   "cell_type": "code",
   "execution_count": 11,
   "metadata": {},
   "outputs": [
    {
     "output_type": "stream",
     "name": "stdout",
     "text": [
      "Found 1027 images belonging to 2 classes.\nFound 256 images belonging to 2 classes.\n"
     ]
    }
   ],
   "source": [
    "train_data = train_datagen.flow_from_directory(\n",
    "    train_path,\n",
    "    target_size=(300,300),\n",
    "    batch_size=64,\n",
    "    class_mode='binary'\n",
    ")\n",
    "\n",
    "valid_data = valid_datagen.flow_from_directory(\n",
    "    valid_path,\n",
    "    target_size=(300,300),\n",
    "    batch_size=64,\n",
    "    class_mode='binary'\n",
    ")"
   ]
  },
  {
   "source": [
    "## Step 3. Modeling"
   ],
   "cell_type": "markdown",
   "metadata": {}
  },
  {
   "cell_type": "code",
   "execution_count": 12,
   "metadata": {},
   "outputs": [],
   "source": [
    "model = Sequential([\n",
    "    Conv2D(32, (3,3), input_shape=(300,300,3), activation='relu'),\n",
    "    MaxPooling2D(2,2),\n",
    "    Conv2D(64, (3,3), activation='relu'),\n",
    "    MaxPooling2D(2,2),\n",
    "    Conv2D(128, (2,2), activation='relu'),\n",
    "    MaxPooling2D(2,2),\n",
    "    Conv2D(256, (2,2), activation='relu'),\n",
    "    MaxPooling2D(2,2),\n",
    "    Flatten(),\n",
    "    Dense(256, activation='relu'),\n",
    "    Dense(1, activation='sigmoid')\n",
    "])"
   ]
  },
  {
   "source": [
    "## Step 4. Model Optimizer Setting"
   ],
   "cell_type": "markdown",
   "metadata": {}
  },
  {
   "cell_type": "code",
   "execution_count": 14,
   "metadata": {},
   "outputs": [],
   "source": [
    "lr_schedule = tf.keras.optimizers.schedules.ExponentialDecay(\n",
    "    initial_learning_rate = 2e-4,\n",
    "    decay_steps = 200,\n",
    "    decay_rate = 0.90\n",
    ")\n",
    "optimizer = tf.keras.optimizers.Adam(learning_rate = lr_schedule)"
   ]
  },
  {
   "source": [
    "## Step 5. Model Compile"
   ],
   "cell_type": "markdown",
   "metadata": {}
  },
  {
   "cell_type": "code",
   "execution_count": 15,
   "metadata": {},
   "outputs": [],
   "source": [
    "model.compile(loss='binary_crossentropy', optimizer=optimizer, metrics=['acc'])"
   ]
  },
  {
   "source": [
    "## Step 6. Callback Function Setting"
   ],
   "cell_type": "markdown",
   "metadata": {}
  },
  {
   "source": [
    "### 6-a. ModelCheckpoint"
   ],
   "cell_type": "markdown",
   "metadata": {}
  },
  {
   "cell_type": "code",
   "execution_count": 16,
   "metadata": {},
   "outputs": [],
   "source": [
    "cp_path = 'my_checkpoint_2.ckpt'\n",
    "cp = ModelCheckpoint(\n",
    "    filepath = cp_path,\n",
    "    save_weights_only=True,\n",
    "    save_best_only=True,\n",
    "    monitor='val_loss',\n",
    "    verbose=1\n",
    ")"
   ]
  },
  {
   "source": [
    "### 6-b. EarlyStopping"
   ],
   "cell_type": "markdown",
   "metadata": {}
  },
  {
   "cell_type": "code",
   "execution_count": 17,
   "metadata": {},
   "outputs": [],
   "source": [
    "early_stopping_callback = EarlyStopping(monitor='val_loss', mode='min',min_delta=0.01, patience=100, restore_best_weights=True)"
   ]
  },
  {
   "source": [
    "## Step 7. Model Fit"
   ],
   "cell_type": "markdown",
   "metadata": {}
  },
  {
   "cell_type": "code",
   "execution_count": 18,
   "metadata": {},
   "outputs": [
    {
     "output_type": "stream",
     "name": "stdout",
     "text": [
      "Epoch 1/30\n",
      "17/17 [==============================] - ETA: 0s - loss: 0.7233 - acc: 0.5414\n",
      "Epoch 00001: val_loss improved from inf to 0.66272, saving model to my_checkpoint_2.ckpt\n",
      "17/17 [==============================] - 48s 3s/step - loss: 0.7233 - acc: 0.5414 - val_loss: 0.6627 - val_acc: 0.5117\n",
      "Epoch 2/30\n",
      "17/17 [==============================] - ETA: 0s - loss: 0.5855 - acc: 0.7225\n",
      "Epoch 00002: val_loss did not improve from 0.66272\n",
      "17/17 [==============================] - 47s 3s/step - loss: 0.5855 - acc: 0.7225 - val_loss: 1.4080 - val_acc: 0.5000\n",
      "Epoch 3/30\n",
      "17/17 [==============================] - ETA: 0s - loss: 0.4819 - acc: 0.7595\n",
      "Epoch 00003: val_loss did not improve from 0.66272\n",
      "17/17 [==============================] - 52s 3s/step - loss: 0.4819 - acc: 0.7595 - val_loss: 1.2843 - val_acc: 0.5859\n",
      "Epoch 4/30\n",
      "17/17 [==============================] - ETA: 0s - loss: 0.4417 - acc: 0.7877\n",
      "Epoch 00004: val_loss did not improve from 0.66272\n",
      "17/17 [==============================] - 48s 3s/step - loss: 0.4417 - acc: 0.7877 - val_loss: 1.5944 - val_acc: 0.6055\n",
      "Epoch 5/30\n",
      "17/17 [==============================] - ETA: 0s - loss: 0.3521 - acc: 0.8345\n",
      "Epoch 00005: val_loss did not improve from 0.66272\n",
      "17/17 [==============================] - 48s 3s/step - loss: 0.3521 - acc: 0.8345 - val_loss: 2.3539 - val_acc: 0.5820\n",
      "Epoch 6/30\n",
      "17/17 [==============================] - ETA: 0s - loss: 0.3375 - acc: 0.8432\n",
      "Epoch 00006: val_loss did not improve from 0.66272\n",
      "17/17 [==============================] - 49s 3s/step - loss: 0.3375 - acc: 0.8432 - val_loss: 2.6464 - val_acc: 0.5508\n",
      "Epoch 7/30\n",
      "17/17 [==============================] - ETA: 0s - loss: 0.3011 - acc: 0.8783\n",
      "Epoch 00007: val_loss did not improve from 0.66272\n",
      "17/17 [==============================] - 46s 3s/step - loss: 0.3011 - acc: 0.8783 - val_loss: 1.7494 - val_acc: 0.6484\n",
      "Epoch 8/30\n",
      "17/17 [==============================] - ETA: 0s - loss: 0.2954 - acc: 0.8773\n",
      "Epoch 00008: val_loss did not improve from 0.66272\n",
      "17/17 [==============================] - 49s 3s/step - loss: 0.2954 - acc: 0.8773 - val_loss: 2.7805 - val_acc: 0.5547\n",
      "Epoch 9/30\n",
      "17/17 [==============================] - ETA: 0s - loss: 0.2210 - acc: 0.9114\n",
      "Epoch 00009: val_loss did not improve from 0.66272\n",
      "17/17 [==============================] - 48s 3s/step - loss: 0.2210 - acc: 0.9114 - val_loss: 3.1614 - val_acc: 0.5625\n",
      "Epoch 10/30\n",
      "17/17 [==============================] - ETA: 0s - loss: 0.2053 - acc: 0.9250\n",
      "Epoch 00010: val_loss did not improve from 0.66272\n",
      "17/17 [==============================] - 48s 3s/step - loss: 0.2053 - acc: 0.9250 - val_loss: 3.2085 - val_acc: 0.5469\n",
      "Epoch 11/30\n",
      "17/17 [==============================] - ETA: 0s - loss: 0.1808 - acc: 0.9309\n",
      "Epoch 00011: val_loss did not improve from 0.66272\n",
      "17/17 [==============================] - 47s 3s/step - loss: 0.1808 - acc: 0.9309 - val_loss: 3.3360 - val_acc: 0.5391\n",
      "Epoch 12/30\n",
      "17/17 [==============================] - ETA: 0s - loss: 0.1932 - acc: 0.9153\n",
      "Epoch 00012: val_loss did not improve from 0.66272\n",
      "17/17 [==============================] - 47s 3s/step - loss: 0.1932 - acc: 0.9153 - val_loss: 2.8241 - val_acc: 0.5742\n",
      "Epoch 13/30\n",
      "17/17 [==============================] - ETA: 0s - loss: 0.1974 - acc: 0.9270\n",
      "Epoch 00013: val_loss did not improve from 0.66272\n",
      "17/17 [==============================] - 47s 3s/step - loss: 0.1974 - acc: 0.9270 - val_loss: 3.1438 - val_acc: 0.5742\n",
      "Epoch 14/30\n",
      "17/17 [==============================] - ETA: 0s - loss: 0.1662 - acc: 0.9348\n",
      "Epoch 00014: val_loss did not improve from 0.66272\n",
      "17/17 [==============================] - 50s 3s/step - loss: 0.1662 - acc: 0.9348 - val_loss: 3.6567 - val_acc: 0.5586\n",
      "Epoch 15/30\n",
      "17/17 [==============================] - ETA: 0s - loss: 0.1488 - acc: 0.9445\n",
      "Epoch 00015: val_loss did not improve from 0.66272\n",
      "17/17 [==============================] - 47s 3s/step - loss: 0.1488 - acc: 0.9445 - val_loss: 4.0730 - val_acc: 0.5508\n",
      "Epoch 16/30\n",
      "17/17 [==============================] - ETA: 0s - loss: 0.1152 - acc: 0.9659\n",
      "Epoch 00016: val_loss did not improve from 0.66272\n",
      "17/17 [==============================] - 48s 3s/step - loss: 0.1152 - acc: 0.9659 - val_loss: 5.0345 - val_acc: 0.5508\n",
      "Epoch 17/30\n",
      "17/17 [==============================] - ETA: 0s - loss: 0.1558 - acc: 0.9426\n",
      "Epoch 00017: val_loss did not improve from 0.66272\n",
      "17/17 [==============================] - 47s 3s/step - loss: 0.1558 - acc: 0.9426 - val_loss: 2.4745 - val_acc: 0.5742\n",
      "Epoch 18/30\n",
      "17/17 [==============================] - ETA: 0s - loss: 0.1454 - acc: 0.9503\n",
      "Epoch 00018: val_loss did not improve from 0.66272\n",
      "17/17 [==============================] - 48s 3s/step - loss: 0.1454 - acc: 0.9503 - val_loss: 4.6725 - val_acc: 0.5430\n",
      "Epoch 19/30\n",
      "17/17 [==============================] - ETA: 0s - loss: 0.2867 - acc: 0.8870\n",
      "Epoch 00019: val_loss did not improve from 0.66272\n",
      "17/17 [==============================] - 51s 3s/step - loss: 0.2867 - acc: 0.8870 - val_loss: 2.9087 - val_acc: 0.5898\n",
      "Epoch 20/30\n",
      "17/17 [==============================] - ETA: 0s - loss: 0.1671 - acc: 0.9377\n",
      "Epoch 00020: val_loss did not improve from 0.66272\n",
      "17/17 [==============================] - 48s 3s/step - loss: 0.1671 - acc: 0.9377 - val_loss: 6.7429 - val_acc: 0.5312\n",
      "Epoch 21/30\n",
      "17/17 [==============================] - ETA: 0s - loss: 0.1414 - acc: 0.9494\n",
      "Epoch 00021: val_loss did not improve from 0.66272\n",
      "17/17 [==============================] - 48s 3s/step - loss: 0.1414 - acc: 0.9494 - val_loss: 4.7356 - val_acc: 0.5508\n",
      "Epoch 22/30\n",
      "17/17 [==============================] - ETA: 0s - loss: 0.1098 - acc: 0.9620\n",
      "Epoch 00022: val_loss did not improve from 0.66272\n",
      "17/17 [==============================] - 48s 3s/step - loss: 0.1098 - acc: 0.9620 - val_loss: 6.4165 - val_acc: 0.5234\n",
      "Epoch 23/30\n",
      "17/17 [==============================] - ETA: 0s - loss: 0.0889 - acc: 0.9747\n",
      "Epoch 00023: val_loss did not improve from 0.66272\n",
      "17/17 [==============================] - 46s 3s/step - loss: 0.0889 - acc: 0.9747 - val_loss: 8.0072 - val_acc: 0.5156\n",
      "Epoch 24/30\n",
      "17/17 [==============================] - ETA: 0s - loss: 0.1012 - acc: 0.9562\n",
      "Epoch 00024: val_loss did not improve from 0.66272\n",
      "17/17 [==============================] - 47s 3s/step - loss: 0.1012 - acc: 0.9562 - val_loss: 7.1643 - val_acc: 0.5156\n",
      "Epoch 25/30\n",
      "17/17 [==============================] - ETA: 0s - loss: 0.0886 - acc: 0.9620\n",
      "Epoch 00025: val_loss did not improve from 0.66272\n",
      "17/17 [==============================] - 48s 3s/step - loss: 0.0886 - acc: 0.9620 - val_loss: 4.9399 - val_acc: 0.5586\n",
      "Epoch 26/30\n",
      "17/17 [==============================] - ETA: 0s - loss: 0.1174 - acc: 0.9533\n",
      "Epoch 00026: val_loss did not improve from 0.66272\n",
      "17/17 [==============================] - 49s 3s/step - loss: 0.1174 - acc: 0.9533 - val_loss: 7.4751 - val_acc: 0.5195\n",
      "Epoch 27/30\n",
      "17/17 [==============================] - ETA: 0s - loss: 0.0810 - acc: 0.9718\n",
      "Epoch 00027: val_loss did not improve from 0.66272\n",
      "17/17 [==============================] - 47s 3s/step - loss: 0.0810 - acc: 0.9718 - val_loss: 6.4259 - val_acc: 0.5352\n",
      "Epoch 28/30\n",
      "17/17 [==============================] - ETA: 0s - loss: 0.0885 - acc: 0.9708\n",
      "Epoch 00028: val_loss did not improve from 0.66272\n",
      "17/17 [==============================] - 47s 3s/step - loss: 0.0885 - acc: 0.9708 - val_loss: 6.9434 - val_acc: 0.5117\n",
      "Epoch 29/30\n",
      "17/17 [==============================] - ETA: 0s - loss: 0.0747 - acc: 0.9786\n",
      "Epoch 00029: val_loss did not improve from 0.66272\n",
      "17/17 [==============================] - 47s 3s/step - loss: 0.0747 - acc: 0.9786 - val_loss: 7.6826 - val_acc: 0.5234\n",
      "Epoch 30/30\n",
      "17/17 [==============================] - ETA: 0s - loss: 0.0746 - acc: 0.9786\n",
      "Epoch 00030: val_loss did not improve from 0.66272\n",
      "17/17 [==============================] - 47s 3s/step - loss: 0.0746 - acc: 0.9786 - val_loss: 7.9705 - val_acc: 0.5117\n"
     ]
    },
    {
     "output_type": "execute_result",
     "data": {
      "text/plain": [
       "<tensorflow.python.keras.callbacks.History at 0x7fb1ffcb5190>"
      ]
     },
     "metadata": {},
     "execution_count": 18
    }
   ],
   "source": [
    "model.fit(\n",
    "    train_data,\n",
    "    validation_data = valid_data,\n",
    "    epochs=30,\n",
    "    callbacks=[cp, early_stopping_callback],\n",
    "    verbose=1\n",
    ")"
   ]
  },
  {
   "source": [
    "## Step 8. Model Evaluate & Save"
   ],
   "cell_type": "markdown",
   "metadata": {}
  },
  {
   "cell_type": "code",
   "execution_count": 19,
   "metadata": {},
   "outputs": [
    {
     "output_type": "stream",
     "name": "stdout",
     "text": [
      "4/4 [==============================] - 2s 424ms/step - loss: 0.6627 - acc: 0.5117\n",
      "[0.6627198457717896, 0.51171875]\n",
      "Model: \"sequential\"\n",
      "_________________________________________________________________\n",
      "Layer (type)                 Output Shape              Param #   \n",
      "=================================================================\n",
      "conv2d (Conv2D)              (None, 298, 298, 32)      896       \n",
      "_________________________________________________________________\n",
      "max_pooling2d (MaxPooling2D) (None, 149, 149, 32)      0         \n",
      "_________________________________________________________________\n",
      "conv2d_1 (Conv2D)            (None, 147, 147, 64)      18496     \n",
      "_________________________________________________________________\n",
      "max_pooling2d_1 (MaxPooling2 (None, 73, 73, 64)        0         \n",
      "_________________________________________________________________\n",
      "conv2d_2 (Conv2D)            (None, 72, 72, 128)       32896     \n",
      "_________________________________________________________________\n",
      "max_pooling2d_2 (MaxPooling2 (None, 36, 36, 128)       0         \n",
      "_________________________________________________________________\n",
      "conv2d_3 (Conv2D)            (None, 35, 35, 256)       131328    \n",
      "_________________________________________________________________\n",
      "max_pooling2d_3 (MaxPooling2 (None, 17, 17, 256)       0         \n",
      "_________________________________________________________________\n",
      "flatten (Flatten)            (None, 73984)             0         \n",
      "_________________________________________________________________\n",
      "dense (Dense)                (None, 256)               18940160  \n",
      "_________________________________________________________________\n",
      "dense_1 (Dense)              (None, 1)                 257       \n",
      "=================================================================\n",
      "Total params: 19,124,033\n",
      "Trainable params: 19,124,033\n",
      "Non-trainable params: 0\n",
      "_________________________________________________________________\n",
      "None\n"
     ]
    }
   ],
   "source": [
    "model.load_weights(cp_path)\n",
    "print(model.evaluate(valid_data))\n",
    "print(model.summary())"
   ]
  },
  {
   "cell_type": "code",
   "execution_count": 20,
   "metadata": {},
   "outputs": [],
   "source": [
    "model.save('./model/cnn_hoh_6627.h5')"
   ]
  },
  {
   "cell_type": "code",
   "execution_count": null,
   "metadata": {},
   "outputs": [],
   "source": []
  }
 ]
}