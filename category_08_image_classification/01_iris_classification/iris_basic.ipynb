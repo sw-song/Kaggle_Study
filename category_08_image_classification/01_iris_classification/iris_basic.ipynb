{
 "cells": [
  {
   "cell_type": "markdown",
   "id": "3b58ab92",
   "metadata": {},
   "source": [
    "# Quick Start - Simple NN Basic Model with iris dataset"
   ]
  },
  {
   "cell_type": "markdown",
   "id": "619b47c2",
   "metadata": {},
   "source": [
    "```\n",
    "Step 0. Library Import\n",
    "Step 1. Dataset Load\n",
    "Step 2. Data Preprocessing\n",
    "Step 3. Modeling\n",
    "Step 4. Model Compile\n",
    "Step 5. Checkpoint\n",
    "Step 6. Model Fit\n",
    "Step 7. Model Evaluate\n",
    "```"
   ]
  },
  {
   "cell_type": "markdown",
   "id": "0c2fa3a7",
   "metadata": {},
   "source": [
    "## Step 0. Library Import"
   ]
  },
  {
   "cell_type": "code",
   "execution_count": 1,
   "id": "e1c9dc98",
   "metadata": {},
   "outputs": [],
   "source": [
    "import numpy as np\n",
    "import tensorflow as tf\n",
    "import tensorflow_datasets as tfds\n",
    "from tensorflow.keras.layers import Dense\n",
    "from tensorflow.keras.models import Sequential\n",
    "from tensorflow.keras.callbacks import ModelCheckpoint"
   ]
  },
  {
   "cell_type": "markdown",
   "id": "c89e2ff7",
   "metadata": {},
   "source": [
    "## Step 1. Dataset Load"
   ]
  },
  {
   "cell_type": "code",
   "execution_count": 2,
   "id": "00343838",
   "metadata": {},
   "outputs": [],
   "source": [
    "train_data = tfds.load('iris', split='train[:85%]') # 85%\n",
    "valid_data = tfds.load('iris', split='train[85%:]') # 15%"
   ]
  },
  {
   "cell_type": "markdown",
   "id": "593d88f9",
   "metadata": {},
   "source": [
    "## Step 2. Data Preprocessing"
   ]
  },
  {
   "cell_type": "code",
   "execution_count": 3,
   "id": "c494c52e",
   "metadata": {},
   "outputs": [],
   "source": [
    "def preprocessing(data):\n",
    "    x = data['features']\n",
    "    y = tf.one_hot(data['label'], 3) # label = 0, 1, 2 => one-hot encoding\n",
    "    return x, y"
   ]
  },
  {
   "cell_type": "code",
   "execution_count": 4,
   "id": "d9ec4eeb",
   "metadata": {},
   "outputs": [],
   "source": [
    "batch_size=10\n",
    "train_data = train_data.map(preprocessing).batch(batch_size)\n",
    "valid_data = valid_data.map(preprocessing).batch(batch_size)"
   ]
  },
  {
   "cell_type": "code",
   "execution_count": 5,
   "id": "2eb4aee0",
   "metadata": {},
   "outputs": [
    {
     "data": {
      "text/plain": [
       "<BatchDataset shapes: ((None, 4), (None, 3)), types: (tf.float32, tf.float32)>"
      ]
     },
     "execution_count": 5,
     "metadata": {},
     "output_type": "execute_result"
    }
   ],
   "source": [
    "train_data"
   ]
  },
  {
   "cell_type": "code",
   "execution_count": 6,
   "id": "1bb1e895",
   "metadata": {},
   "outputs": [
    {
     "data": {
      "text/plain": [
       "<BatchDataset shapes: ((None, 4), (None, 3)), types: (tf.float32, tf.float32)>"
      ]
     },
     "execution_count": 6,
     "metadata": {},
     "output_type": "execute_result"
    }
   ],
   "source": [
    "valid_data"
   ]
  },
  {
   "cell_type": "markdown",
   "id": "40bb1f04",
   "metadata": {},
   "source": [
    "## Step 3. Modeling"
   ]
  },
  {
   "cell_type": "code",
   "execution_count": 7,
   "id": "7f49d067",
   "metadata": {},
   "outputs": [],
   "source": [
    "model = tf.keras.models.Sequential([\n",
    "    Dense(512, activation='relu', input_shape=[4]), # 1-Dim, n(X) = 4\n",
    "    Dense(256, activation='relu'),\n",
    "    Dense(128, activation='relu'),\n",
    "    Dense(64, activation='relu'),\n",
    "    Dense(32, activation='relu'),\n",
    "    Dense(16, activation='relu'),\n",
    "    Dense(8, activation='relu'),\n",
    "    Dense(3, activation='softmax'), # n(output class) = 3\n",
    "])"
   ]
  },
  {
   "cell_type": "code",
   "execution_count": 8,
   "id": "9c78ec0f",
   "metadata": {},
   "outputs": [
    {
     "name": "stdout",
     "output_type": "stream",
     "text": [
      "Model: \"sequential\"\n",
      "_________________________________________________________________\n",
      "Layer (type)                 Output Shape              Param #   \n",
      "=================================================================\n",
      "dense (Dense)                (None, 512)               2560      \n",
      "_________________________________________________________________\n",
      "dense_1 (Dense)              (None, 256)               131328    \n",
      "_________________________________________________________________\n",
      "dense_2 (Dense)              (None, 128)               32896     \n",
      "_________________________________________________________________\n",
      "dense_3 (Dense)              (None, 64)                8256      \n",
      "_________________________________________________________________\n",
      "dense_4 (Dense)              (None, 32)                2080      \n",
      "_________________________________________________________________\n",
      "dense_5 (Dense)              (None, 16)                528       \n",
      "_________________________________________________________________\n",
      "dense_6 (Dense)              (None, 8)                 136       \n",
      "_________________________________________________________________\n",
      "dense_7 (Dense)              (None, 3)                 27        \n",
      "=================================================================\n",
      "Total params: 177,811\n",
      "Trainable params: 177,811\n",
      "Non-trainable params: 0\n",
      "_________________________________________________________________\n"
     ]
    }
   ],
   "source": [
    "model.summary()"
   ]
  },
  {
   "cell_type": "markdown",
   "id": "fe5a8c70",
   "metadata": {},
   "source": [
    "## Step 4. Compile"
   ]
  },
  {
   "cell_type": "code",
   "execution_count": 9,
   "id": "c6a181f6",
   "metadata": {},
   "outputs": [],
   "source": [
    "model.compile(optimizer='adam', loss='categorical_crossentropy', metrics=['acc'])"
   ]
  },
  {
   "cell_type": "markdown",
   "id": "31d17a68",
   "metadata": {},
   "source": [
    "## Step 5. Checkpoint"
   ]
  },
  {
   "cell_type": "code",
   "execution_count": 10,
   "id": "deb465e1",
   "metadata": {},
   "outputs": [],
   "source": [
    "cp_path = 'basic_model.ckpt'\n",
    "cp = ModelCheckpoint(\n",
    "    filepath=cp_path,\n",
    "    save_weights_only=True,\n",
    "    save_best_only=True,\n",
    "    monitor='val_loss',\n",
    "    verbose=1\n",
    ")"
   ]
  },
  {
   "cell_type": "markdown",
   "id": "d7974f5b",
   "metadata": {},
   "source": [
    "## Step 6. Model Fit"
   ]
  },
  {
   "cell_type": "code",
   "execution_count": 11,
   "id": "ac249fc7",
   "metadata": {},
   "outputs": [
    {
     "data": {
      "text/plain": [
       "<tensorflow.python.keras.callbacks.ModelCheckpoint at 0x7f8627b86bd0>"
      ]
     },
     "execution_count": 11,
     "metadata": {},
     "output_type": "execute_result"
    }
   ],
   "source": [
    "cp"
   ]
  },
  {
   "cell_type": "code",
   "execution_count": 12,
   "id": "ee1f7296",
   "metadata": {},
   "outputs": [
    {
     "name": "stdout",
     "output_type": "stream",
     "text": [
      "Epoch 1/16\n",
      " 1/13 [=>............................] - ETA: 0s - loss: 1.1274 - acc: 0.3000\n",
      "Epoch 00001: val_loss improved from inf to 0.83328, saving model to basic_model.ckpt\n",
      "13/13 [==============================] - 0s 19ms/step - loss: 0.9570 - acc: 0.5391 - val_loss: 0.8333 - val_acc: 0.6818\n",
      "Epoch 2/16\n",
      " 1/13 [=>............................] - ETA: 0s - loss: 0.7795 - acc: 0.7000\n",
      "Epoch 00002: val_loss improved from 0.83328 to 0.58920, saving model to basic_model.ckpt\n",
      "13/13 [==============================] - 0s 6ms/step - loss: 0.6384 - acc: 0.6562 - val_loss: 0.5892 - val_acc: 0.6818\n",
      "Epoch 3/16\n",
      " 1/13 [=>............................] - ETA: 0s - loss: 0.5189 - acc: 0.7000\n",
      "Epoch 00003: val_loss improved from 0.58920 to 0.37305, saving model to basic_model.ckpt\n",
      "13/13 [==============================] - 0s 6ms/step - loss: 0.4303 - acc: 0.8516 - val_loss: 0.3730 - val_acc: 0.8182\n",
      "Epoch 4/16\n",
      " 1/13 [=>............................] - ETA: 0s - loss: 0.2819 - acc: 1.0000\n",
      "Epoch 00004: val_loss did not improve from 0.37305\n",
      "13/13 [==============================] - 0s 5ms/step - loss: 0.3315 - acc: 0.8594 - val_loss: 0.4690 - val_acc: 0.7727\n",
      "Epoch 5/16\n",
      " 1/13 [=>............................] - ETA: 0s - loss: 0.4066 - acc: 0.8000\n",
      "Epoch 00005: val_loss did not improve from 0.37305\n",
      "13/13 [==============================] - 0s 5ms/step - loss: 0.2931 - acc: 0.8516 - val_loss: 0.3884 - val_acc: 0.7273\n",
      "Epoch 6/16\n",
      " 1/13 [=>............................] - ETA: 0s - loss: 0.1912 - acc: 0.9000\n",
      "Epoch 00006: val_loss did not improve from 0.37305\n",
      "13/13 [==============================] - 0s 5ms/step - loss: 0.4690 - acc: 0.7500 - val_loss: 0.3861 - val_acc: 0.7727\n",
      "Epoch 7/16\n",
      " 1/13 [=>............................] - ETA: 0s - loss: 0.2235 - acc: 0.9000\n",
      "Epoch 00007: val_loss improved from 0.37305 to 0.28280, saving model to basic_model.ckpt\n",
      "13/13 [==============================] - 0s 6ms/step - loss: 0.3652 - acc: 0.8281 - val_loss: 0.2828 - val_acc: 0.8636\n",
      "Epoch 8/16\n",
      " 1/13 [=>............................] - ETA: 0s - loss: 0.1739 - acc: 1.0000\n",
      "Epoch 00008: val_loss improved from 0.28280 to 0.27902, saving model to basic_model.ckpt\n",
      "13/13 [==============================] - 0s 7ms/step - loss: 0.2519 - acc: 0.9062 - val_loss: 0.2790 - val_acc: 0.8636\n",
      "Epoch 9/16\n",
      " 1/13 [=>............................] - ETA: 0s - loss: 0.1253 - acc: 1.0000\n",
      "Epoch 00009: val_loss improved from 0.27902 to 0.24587, saving model to basic_model.ckpt\n",
      "13/13 [==============================] - 0s 7ms/step - loss: 0.2451 - acc: 0.8906 - val_loss: 0.2459 - val_acc: 0.8636\n",
      "Epoch 10/16\n",
      " 1/13 [=>............................] - ETA: 0s - loss: 0.0950 - acc: 1.0000\n",
      "Epoch 00010: val_loss improved from 0.24587 to 0.18353, saving model to basic_model.ckpt\n",
      "13/13 [==============================] - 0s 6ms/step - loss: 0.2285 - acc: 0.8984 - val_loss: 0.1835 - val_acc: 0.9545\n",
      "Epoch 11/16\n",
      " 1/13 [=>............................] - ETA: 0s - loss: 0.0705 - acc: 1.0000\n",
      "Epoch 00011: val_loss improved from 0.18353 to 0.15306, saving model to basic_model.ckpt\n",
      "13/13 [==============================] - 0s 7ms/step - loss: 0.1969 - acc: 0.9062 - val_loss: 0.1531 - val_acc: 0.9545\n",
      "Epoch 12/16\n",
      " 1/13 [=>............................] - ETA: 0s - loss: 0.0639 - acc: 1.0000\n",
      "Epoch 00012: val_loss improved from 0.15306 to 0.12464, saving model to basic_model.ckpt\n",
      "13/13 [==============================] - 0s 7ms/step - loss: 0.1556 - acc: 0.9453 - val_loss: 0.1246 - val_acc: 1.0000\n",
      "Epoch 13/16\n",
      " 1/13 [=>............................] - ETA: 0s - loss: 0.0468 - acc: 1.0000\n",
      "Epoch 00013: val_loss improved from 0.12464 to 0.12078, saving model to basic_model.ckpt\n",
      "13/13 [==============================] - 0s 8ms/step - loss: 0.1309 - acc: 0.9453 - val_loss: 0.1208 - val_acc: 0.9545\n",
      "Epoch 14/16\n",
      " 1/13 [=>............................] - ETA: 0s - loss: 0.0348 - acc: 1.0000\n",
      "Epoch 00014: val_loss did not improve from 0.12078\n",
      "13/13 [==============================] - 0s 5ms/step - loss: 0.1345 - acc: 0.9453 - val_loss: 0.1250 - val_acc: 0.9545\n",
      "Epoch 15/16\n",
      " 1/13 [=>............................] - ETA: 0s - loss: 0.0259 - acc: 1.0000\n",
      "Epoch 00015: val_loss did not improve from 0.12078\n",
      "13/13 [==============================] - 0s 5ms/step - loss: 0.1576 - acc: 0.9375 - val_loss: 0.1282 - val_acc: 0.9545\n",
      "Epoch 16/16\n",
      " 1/13 [=>............................] - ETA: 0s - loss: 0.0241 - acc: 1.0000\n",
      "Epoch 00016: val_loss improved from 0.12078 to 0.10996, saving model to basic_model.ckpt\n",
      "13/13 [==============================] - 0s 6ms/step - loss: 0.1724 - acc: 0.9297 - val_loss: 0.1100 - val_acc: 1.0000\n"
     ]
    },
    {
     "data": {
      "text/plain": [
       "<tensorflow.python.keras.callbacks.History at 0x7f86261f0e90>"
      ]
     },
     "execution_count": 12,
     "metadata": {},
     "output_type": "execute_result"
    }
   ],
   "source": [
    "model.fit(\n",
    "    train_data, \n",
    "    validation_data=valid_data,\n",
    "    epochs=16,\n",
    "    callbacks=[cp],\n",
    ")"
   ]
  },
  {
   "cell_type": "code",
   "execution_count": 13,
   "id": "4e59a285",
   "metadata": {},
   "outputs": [
    {
     "data": {
      "text/plain": [
       "<tensorflow.python.training.tracking.util.CheckpointLoadStatus at 0x7f862829c250>"
      ]
     },
     "execution_count": 13,
     "metadata": {},
     "output_type": "execute_result"
    }
   ],
   "source": [
    "model.load_weights(cp_path)"
   ]
  },
  {
   "cell_type": "markdown",
   "id": "03b68635",
   "metadata": {},
   "source": [
    "## Step 7. Model Evaluate"
   ]
  },
  {
   "cell_type": "code",
   "execution_count": 17,
   "id": "55c6e2c3",
   "metadata": {},
   "outputs": [
    {
     "name": "stdout",
     "output_type": "stream",
     "text": [
      "3/3 [==============================] - 0s 1ms/step - loss: 0.1100 - acc: 1.0000\n"
     ]
    },
    {
     "data": {
      "text/plain": [
       "[0.10996364802122116, 1.0]"
      ]
     },
     "execution_count": 17,
     "metadata": {},
     "output_type": "execute_result"
    }
   ],
   "source": [
    "model.evaluate(valid_data)"
   ]
  },
  {
   "cell_type": "code",
   "execution_count": null,
   "id": "89e29750",
   "metadata": {},
   "outputs": [],
   "source": []
  }
 ],
 "metadata": {
  "kernelspec": {
   "display_name": "Python 3",
   "language": "python",
   "name": "python3"
  },
  "language_info": {
   "codemirror_mode": {
    "name": "ipython",
    "version": 3
   },
   "file_extension": ".py",
   "mimetype": "text/x-python",
   "name": "python",
   "nbconvert_exporter": "python",
   "pygments_lexer": "ipython3",
   "version": "3.7.7"
  }
 },
 "nbformat": 4,
 "nbformat_minor": 5
}
