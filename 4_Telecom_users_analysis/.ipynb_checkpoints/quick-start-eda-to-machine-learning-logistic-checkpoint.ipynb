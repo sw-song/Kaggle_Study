{
 "cells": [
  {
   "cell_type": "code",
   "execution_count": 1,
   "id": "union-upper",
   "metadata": {
    "_cell_guid": "b1076dfc-b9ad-4769-8c92-a6c4dae69d19",
    "_uuid": "8f2839f25d086af736a60e9eeb907d3b93b6e0e5",
    "execution": {
     "iopub.execute_input": "2021-04-01T18:35:20.248735Z",
     "iopub.status.busy": "2021-04-01T18:35:20.247528Z",
     "iopub.status.idle": "2021-04-01T18:35:20.265485Z",
     "shell.execute_reply": "2021-04-01T18:35:20.264533Z"
    },
    "papermill": {
     "duration": 0.075253,
     "end_time": "2021-04-01T18:35:20.265731",
     "exception": false,
     "start_time": "2021-04-01T18:35:20.190478",
     "status": "completed"
    },
    "tags": []
   },
   "outputs": [
    {
     "name": "stdout",
     "output_type": "stream",
     "text": [
      "/kaggle/input/telecom-users-dataset/telecom_users.csv\n"
     ]
    }
   ],
   "source": [
    "# This Python 3 environment comes with many helpful analytics libraries installed\n",
    "# It is defined by the kaggle/python Docker image: https://github.com/kaggle/docker-python\n",
    "# For example, here's several helpful packages to load\n",
    "\n",
    "import numpy as np # linear algebra\n",
    "import pandas as pd # data processing, CSV file I/O (e.g. pd.read_csv)\n",
    "\n",
    "# Input data files are available in the read-only \"../input/\" directory\n",
    "# For example, running this (by clicking run or pressing Shift+Enter) will list all files under the input directory\n",
    "\n",
    "import os\n",
    "for dirname, _, filenames in os.walk('/kaggle/input'):\n",
    "    for filename in filenames:\n",
    "        print(os.path.join(dirname, filename))\n",
    "\n",
    "# You can write up to 20GB to the current directory (/kaggle/working/) that gets preserved as output when you create a version using \"Save & Run All\" \n",
    "# You can also write temporary files to /kaggle/temp/, but they won't be saved outside of the current session"
   ]
  },
  {
   "cell_type": "markdown",
   "id": "assumed-mambo",
   "metadata": {
    "papermill": {
     "duration": 0.052649,
     "end_time": "2021-04-01T18:35:20.372730",
     "exception": false,
     "start_time": "2021-04-01T18:35:20.320081",
     "status": "completed"
    },
    "tags": []
   },
   "source": [
    "### Intro. Columns Info"
   ]
  },
  {
   "cell_type": "markdown",
   "id": "popular-czech",
   "metadata": {
    "papermill": {
     "duration": 0.053607,
     "end_time": "2021-04-01T18:35:20.479138",
     "exception": false,
     "start_time": "2021-04-01T18:35:20.425531",
     "status": "completed"
    },
    "tags": []
   },
   "source": [
    "* customerID - customer id\n",
    "* gender - client gender (male / female)\n",
    "* SeniorCitizen - is the client retired (1, 0)\n",
    "* Partner - is the client married (Yes, No)\n",
    "* tenure - how many months a person has been a client of the company\n",
    "* PhoneService - is the telephone service connected (Yes, No)\n",
    "* MultipleLines - are multiple phone lines connected (Yes, No, No phone service)\n",
    "* InternetService - client's Internet service provider (DSL, Fiber optic, No)\n",
    "* OnlineSecurity - is the online security service connected (Yes, No, No internet service)\n",
    "* OnlineBackup - is the online backup service activated (Yes, No, No internet service)\n",
    "* DeviceProtection - does the client have equipment insurance (Yes, No, No internet service)\n",
    "* TechSupport - is the technical support service connected (Yes, No, No internet service)\n",
    "* StreamingTV - is the streaming TV service connected (Yes, No, No internet service)\n",
    "* StreamingMovies - is the streaming cinema service activated (Yes, No, No internet service)\n",
    "* Contract - type of customer contract (Month-to-month, One year, Two year)\n",
    "* PaperlessBilling - whether the client uses paperless billing (Yes, No)\n",
    "* PaymentMethod - payment method (Electronic check, Mailed check, Bank transfer (automatic), Credit card (automatic))\n",
    "* MonthlyCharges - current monthly payment\n",
    "* TotalCharges - the total amount that the client paid for the services for the entire time\n",
    "* Churn - whether there was a churn (Yes or No)"
   ]
  },
  {
   "cell_type": "markdown",
   "id": "occupied-speed",
   "metadata": {
    "papermill": {
     "duration": 0.055349,
     "end_time": "2021-04-01T18:35:20.588394",
     "exception": false,
     "start_time": "2021-04-01T18:35:20.533045",
     "status": "completed"
    },
    "tags": []
   },
   "source": [
    "### Step 1. Data Load & EDA"
   ]
  },
  {
   "cell_type": "code",
   "execution_count": 2,
   "id": "external-ireland",
   "metadata": {
    "execution": {
     "iopub.execute_input": "2021-04-01T18:35:20.706894Z",
     "iopub.status.busy": "2021-04-01T18:35:20.706128Z",
     "iopub.status.idle": "2021-04-01T18:35:20.760839Z",
     "shell.execute_reply": "2021-04-01T18:35:20.760099Z"
    },
    "papermill": {
     "duration": 0.115677,
     "end_time": "2021-04-01T18:35:20.760994",
     "exception": false,
     "start_time": "2021-04-01T18:35:20.645317",
     "status": "completed"
    },
    "tags": []
   },
   "outputs": [],
   "source": [
    "df = pd.read_csv('/kaggle/input/telecom-users-dataset/telecom_users.csv')"
   ]
  },
  {
   "cell_type": "code",
   "execution_count": 3,
   "id": "acquired-element",
   "metadata": {
    "execution": {
     "iopub.execute_input": "2021-04-01T18:35:20.901676Z",
     "iopub.status.busy": "2021-04-01T18:35:20.900776Z",
     "iopub.status.idle": "2021-04-01T18:35:20.924727Z",
     "shell.execute_reply": "2021-04-01T18:35:20.925298Z"
    },
    "papermill": {
     "duration": 0.107623,
     "end_time": "2021-04-01T18:35:20.925490",
     "exception": false,
     "start_time": "2021-04-01T18:35:20.817867",
     "status": "completed"
    },
    "tags": []
   },
   "outputs": [
    {
     "name": "stdout",
     "output_type": "stream",
     "text": [
      "<class 'pandas.core.frame.DataFrame'>\n",
      "RangeIndex: 5986 entries, 0 to 5985\n",
      "Data columns (total 22 columns):\n",
      " #   Column            Non-Null Count  Dtype  \n",
      "---  ------            --------------  -----  \n",
      " 0   Unnamed: 0        5986 non-null   int64  \n",
      " 1   customerID        5986 non-null   object \n",
      " 2   gender            5986 non-null   object \n",
      " 3   SeniorCitizen     5986 non-null   int64  \n",
      " 4   Partner           5986 non-null   object \n",
      " 5   Dependents        5986 non-null   object \n",
      " 6   tenure            5986 non-null   int64  \n",
      " 7   PhoneService      5986 non-null   object \n",
      " 8   MultipleLines     5986 non-null   object \n",
      " 9   InternetService   5986 non-null   object \n",
      " 10  OnlineSecurity    5986 non-null   object \n",
      " 11  OnlineBackup      5986 non-null   object \n",
      " 12  DeviceProtection  5986 non-null   object \n",
      " 13  TechSupport       5986 non-null   object \n",
      " 14  StreamingTV       5986 non-null   object \n",
      " 15  StreamingMovies   5986 non-null   object \n",
      " 16  Contract          5986 non-null   object \n",
      " 17  PaperlessBilling  5986 non-null   object \n",
      " 18  PaymentMethod     5986 non-null   object \n",
      " 19  MonthlyCharges    5986 non-null   float64\n",
      " 20  TotalCharges      5986 non-null   object \n",
      " 21  Churn             5986 non-null   object \n",
      "dtypes: float64(1), int64(3), object(18)\n",
      "memory usage: 1.0+ MB\n"
     ]
    }
   ],
   "source": [
    "df.info()"
   ]
  },
  {
   "cell_type": "markdown",
   "id": "imported-palmer",
   "metadata": {
    "papermill": {
     "duration": 0.053462,
     "end_time": "2021-04-01T18:35:21.034337",
     "exception": false,
     "start_time": "2021-04-01T18:35:20.980875",
     "status": "completed"
    },
    "tags": []
   },
   "source": [
    "* length of data - x : y = (5986 * 21) : (5986 x 1, Churn)"
   ]
  },
  {
   "cell_type": "code",
   "execution_count": 4,
   "id": "future-tomato",
   "metadata": {
    "execution": {
     "iopub.execute_input": "2021-04-01T18:35:21.149035Z",
     "iopub.status.busy": "2021-04-01T18:35:21.148390Z",
     "iopub.status.idle": "2021-04-01T18:35:21.154462Z",
     "shell.execute_reply": "2021-04-01T18:35:21.153867Z"
    },
    "papermill": {
     "duration": 0.066244,
     "end_time": "2021-04-01T18:35:21.154611",
     "exception": false,
     "start_time": "2021-04-01T18:35:21.088367",
     "status": "completed"
    },
    "tags": []
   },
   "outputs": [],
   "source": [
    "df.drop(['Unnamed: 0', 'customerID'], axis=1, inplace=True)"
   ]
  },
  {
   "cell_type": "code",
   "execution_count": 5,
   "id": "coupled-saver",
   "metadata": {
    "execution": {
     "iopub.execute_input": "2021-04-01T18:35:21.273258Z",
     "iopub.status.busy": "2021-04-01T18:35:21.272118Z",
     "iopub.status.idle": "2021-04-01T18:35:21.297483Z",
     "shell.execute_reply": "2021-04-01T18:35:21.298003Z"
    },
    "papermill": {
     "duration": 0.087979,
     "end_time": "2021-04-01T18:35:21.298250",
     "exception": false,
     "start_time": "2021-04-01T18:35:21.210271",
     "status": "completed"
    },
    "tags": []
   },
   "outputs": [
    {
     "data": {
      "text/html": [
       "<div>\n",
       "<style scoped>\n",
       "    .dataframe tbody tr th:only-of-type {\n",
       "        vertical-align: middle;\n",
       "    }\n",
       "\n",
       "    .dataframe tbody tr th {\n",
       "        vertical-align: top;\n",
       "    }\n",
       "\n",
       "    .dataframe thead th {\n",
       "        text-align: right;\n",
       "    }\n",
       "</style>\n",
       "<table border=\"1\" class=\"dataframe\">\n",
       "  <thead>\n",
       "    <tr style=\"text-align: right;\">\n",
       "      <th></th>\n",
       "      <th>SeniorCitizen</th>\n",
       "      <th>tenure</th>\n",
       "      <th>MonthlyCharges</th>\n",
       "    </tr>\n",
       "  </thead>\n",
       "  <tbody>\n",
       "    <tr>\n",
       "      <th>count</th>\n",
       "      <td>5986.000000</td>\n",
       "      <td>5986.000000</td>\n",
       "      <td>5986.000000</td>\n",
       "    </tr>\n",
       "    <tr>\n",
       "      <th>mean</th>\n",
       "      <td>0.161377</td>\n",
       "      <td>32.468760</td>\n",
       "      <td>64.802213</td>\n",
       "    </tr>\n",
       "    <tr>\n",
       "      <th>std</th>\n",
       "      <td>0.367909</td>\n",
       "      <td>24.516391</td>\n",
       "      <td>30.114702</td>\n",
       "    </tr>\n",
       "    <tr>\n",
       "      <th>min</th>\n",
       "      <td>0.000000</td>\n",
       "      <td>0.000000</td>\n",
       "      <td>18.250000</td>\n",
       "    </tr>\n",
       "    <tr>\n",
       "      <th>25%</th>\n",
       "      <td>0.000000</td>\n",
       "      <td>9.000000</td>\n",
       "      <td>35.650000</td>\n",
       "    </tr>\n",
       "    <tr>\n",
       "      <th>50%</th>\n",
       "      <td>0.000000</td>\n",
       "      <td>29.000000</td>\n",
       "      <td>70.400000</td>\n",
       "    </tr>\n",
       "    <tr>\n",
       "      <th>75%</th>\n",
       "      <td>0.000000</td>\n",
       "      <td>56.000000</td>\n",
       "      <td>89.900000</td>\n",
       "    </tr>\n",
       "    <tr>\n",
       "      <th>max</th>\n",
       "      <td>1.000000</td>\n",
       "      <td>72.000000</td>\n",
       "      <td>118.750000</td>\n",
       "    </tr>\n",
       "  </tbody>\n",
       "</table>\n",
       "</div>"
      ],
      "text/plain": [
       "       SeniorCitizen       tenure  MonthlyCharges\n",
       "count    5986.000000  5986.000000     5986.000000\n",
       "mean        0.161377    32.468760       64.802213\n",
       "std         0.367909    24.516391       30.114702\n",
       "min         0.000000     0.000000       18.250000\n",
       "25%         0.000000     9.000000       35.650000\n",
       "50%         0.000000    29.000000       70.400000\n",
       "75%         0.000000    56.000000       89.900000\n",
       "max         1.000000    72.000000      118.750000"
      ]
     },
     "execution_count": 5,
     "metadata": {},
     "output_type": "execute_result"
    }
   ],
   "source": [
    "df.describe()"
   ]
  },
  {
   "cell_type": "code",
   "execution_count": 6,
   "id": "sorted-electronics",
   "metadata": {
    "execution": {
     "iopub.execute_input": "2021-04-01T18:35:21.412852Z",
     "iopub.status.busy": "2021-04-01T18:35:21.411805Z",
     "iopub.status.idle": "2021-04-01T18:35:21.418090Z",
     "shell.execute_reply": "2021-04-01T18:35:21.418597Z"
    },
    "papermill": {
     "duration": 0.064728,
     "end_time": "2021-04-01T18:35:21.418768",
     "exception": false,
     "start_time": "2021-04-01T18:35:21.354040",
     "status": "completed"
    },
    "tags": []
   },
   "outputs": [
    {
     "data": {
      "text/plain": [
       "array(['Male', 'Female'], dtype=object)"
      ]
     },
     "execution_count": 6,
     "metadata": {},
     "output_type": "execute_result"
    }
   ],
   "source": [
    "df.gender.unique()"
   ]
  },
  {
   "cell_type": "markdown",
   "id": "exclusive-trader",
   "metadata": {
    "papermill": {
     "duration": 0.055001,
     "end_time": "2021-04-01T18:35:21.528556",
     "exception": false,
     "start_time": "2021-04-01T18:35:21.473555",
     "status": "completed"
    },
    "tags": []
   },
   "source": [
    "### Step 2. Data Preprocessing"
   ]
  },
  {
   "cell_type": "code",
   "execution_count": 7,
   "id": "raising-arnold",
   "metadata": {
    "execution": {
     "iopub.execute_input": "2021-04-01T18:35:21.643170Z",
     "iopub.status.busy": "2021-04-01T18:35:21.642153Z",
     "iopub.status.idle": "2021-04-01T18:35:22.762081Z",
     "shell.execute_reply": "2021-04-01T18:35:22.761513Z"
    },
    "papermill": {
     "duration": 1.178427,
     "end_time": "2021-04-01T18:35:22.762265",
     "exception": false,
     "start_time": "2021-04-01T18:35:21.583838",
     "status": "completed"
    },
    "tags": []
   },
   "outputs": [],
   "source": [
    "from sklearn.preprocessing import LabelEncoder"
   ]
  },
  {
   "cell_type": "code",
   "execution_count": 8,
   "id": "communist-blend",
   "metadata": {
    "execution": {
     "iopub.execute_input": "2021-04-01T18:35:22.883126Z",
     "iopub.status.busy": "2021-04-01T18:35:22.881978Z",
     "iopub.status.idle": "2021-04-01T18:35:22.886853Z",
     "shell.execute_reply": "2021-04-01T18:35:22.886136Z"
    },
    "papermill": {
     "duration": 0.069133,
     "end_time": "2021-04-01T18:35:22.887002",
     "exception": false,
     "start_time": "2021-04-01T18:35:22.817869",
     "status": "completed"
    },
    "tags": []
   },
   "outputs": [
    {
     "name": "stdout",
     "output_type": "stream",
     "text": [
      "[1 0 0 ... 1 1 1]\n"
     ]
    }
   ],
   "source": [
    "le = LabelEncoder()\n",
    "result = le.fit_transform(df['gender'])\n",
    "print(result)"
   ]
  },
  {
   "cell_type": "code",
   "execution_count": 9,
   "id": "imported-microphone",
   "metadata": {
    "execution": {
     "iopub.execute_input": "2021-04-01T18:35:23.011422Z",
     "iopub.status.busy": "2021-04-01T18:35:23.010456Z",
     "iopub.status.idle": "2021-04-01T18:35:23.013976Z",
     "shell.execute_reply": "2021-04-01T18:35:23.014620Z"
    },
    "papermill": {
     "duration": 0.069212,
     "end_time": "2021-04-01T18:35:23.014803",
     "exception": false,
     "start_time": "2021-04-01T18:35:22.945591",
     "status": "completed"
    },
    "tags": []
   },
   "outputs": [
    {
     "name": "stdout",
     "output_type": "stream",
     "text": [
      "0         Male\n",
      "1       Female\n",
      "2       Female\n",
      "3         Male\n",
      "4         Male\n",
      "         ...  \n",
      "5981      Male\n",
      "5982    Female\n",
      "5983      Male\n",
      "5984      Male\n",
      "5985      Male\n",
      "Name: gender, Length: 5986, dtype: object\n",
      "[1 0 0 ... 1 1 1]\n"
     ]
    }
   ],
   "source": [
    "print(df.gender)\n",
    "print(result)"
   ]
  },
  {
   "cell_type": "code",
   "execution_count": 10,
   "id": "academic-allah",
   "metadata": {
    "execution": {
     "iopub.execute_input": "2021-04-01T18:35:23.135142Z",
     "iopub.status.busy": "2021-04-01T18:35:23.134235Z",
     "iopub.status.idle": "2021-04-01T18:35:23.137124Z",
     "shell.execute_reply": "2021-04-01T18:35:23.137652Z"
    },
    "papermill": {
     "duration": 0.066771,
     "end_time": "2021-04-01T18:35:23.137848",
     "exception": false,
     "start_time": "2021-04-01T18:35:23.071077",
     "status": "completed"
    },
    "tags": []
   },
   "outputs": [],
   "source": [
    "df.gender = result"
   ]
  },
  {
   "cell_type": "code",
   "execution_count": 11,
   "id": "knowing-infrastructure",
   "metadata": {
    "execution": {
     "iopub.execute_input": "2021-04-01T18:35:23.287081Z",
     "iopub.status.busy": "2021-04-01T18:35:23.286398Z",
     "iopub.status.idle": "2021-04-01T18:35:23.291448Z",
     "shell.execute_reply": "2021-04-01T18:35:23.290863Z"
    },
    "papermill": {
     "duration": 0.095161,
     "end_time": "2021-04-01T18:35:23.291597",
     "exception": false,
     "start_time": "2021-04-01T18:35:23.196436",
     "status": "completed"
    },
    "tags": []
   },
   "outputs": [
    {
     "data": {
      "text/html": [
       "<div>\n",
       "<style scoped>\n",
       "    .dataframe tbody tr th:only-of-type {\n",
       "        vertical-align: middle;\n",
       "    }\n",
       "\n",
       "    .dataframe tbody tr th {\n",
       "        vertical-align: top;\n",
       "    }\n",
       "\n",
       "    .dataframe thead th {\n",
       "        text-align: right;\n",
       "    }\n",
       "</style>\n",
       "<table border=\"1\" class=\"dataframe\">\n",
       "  <thead>\n",
       "    <tr style=\"text-align: right;\">\n",
       "      <th></th>\n",
       "      <th>gender</th>\n",
       "      <th>SeniorCitizen</th>\n",
       "      <th>Partner</th>\n",
       "      <th>Dependents</th>\n",
       "      <th>tenure</th>\n",
       "      <th>PhoneService</th>\n",
       "      <th>MultipleLines</th>\n",
       "      <th>InternetService</th>\n",
       "      <th>OnlineSecurity</th>\n",
       "      <th>OnlineBackup</th>\n",
       "      <th>DeviceProtection</th>\n",
       "      <th>TechSupport</th>\n",
       "      <th>StreamingTV</th>\n",
       "      <th>StreamingMovies</th>\n",
       "      <th>Contract</th>\n",
       "      <th>PaperlessBilling</th>\n",
       "      <th>PaymentMethod</th>\n",
       "      <th>MonthlyCharges</th>\n",
       "      <th>TotalCharges</th>\n",
       "      <th>Churn</th>\n",
       "    </tr>\n",
       "  </thead>\n",
       "  <tbody>\n",
       "    <tr>\n",
       "      <th>0</th>\n",
       "      <td>1</td>\n",
       "      <td>0</td>\n",
       "      <td>Yes</td>\n",
       "      <td>Yes</td>\n",
       "      <td>72</td>\n",
       "      <td>Yes</td>\n",
       "      <td>Yes</td>\n",
       "      <td>No</td>\n",
       "      <td>No internet service</td>\n",
       "      <td>No internet service</td>\n",
       "      <td>No internet service</td>\n",
       "      <td>No internet service</td>\n",
       "      <td>No internet service</td>\n",
       "      <td>No internet service</td>\n",
       "      <td>Two year</td>\n",
       "      <td>No</td>\n",
       "      <td>Credit card (automatic)</td>\n",
       "      <td>24.10</td>\n",
       "      <td>1734.65</td>\n",
       "      <td>No</td>\n",
       "    </tr>\n",
       "    <tr>\n",
       "      <th>1</th>\n",
       "      <td>0</td>\n",
       "      <td>0</td>\n",
       "      <td>No</td>\n",
       "      <td>No</td>\n",
       "      <td>44</td>\n",
       "      <td>Yes</td>\n",
       "      <td>No</td>\n",
       "      <td>Fiber optic</td>\n",
       "      <td>No</td>\n",
       "      <td>Yes</td>\n",
       "      <td>Yes</td>\n",
       "      <td>No</td>\n",
       "      <td>Yes</td>\n",
       "      <td>No</td>\n",
       "      <td>Month-to-month</td>\n",
       "      <td>Yes</td>\n",
       "      <td>Credit card (automatic)</td>\n",
       "      <td>88.15</td>\n",
       "      <td>3973.2</td>\n",
       "      <td>No</td>\n",
       "    </tr>\n",
       "    <tr>\n",
       "      <th>2</th>\n",
       "      <td>0</td>\n",
       "      <td>1</td>\n",
       "      <td>Yes</td>\n",
       "      <td>No</td>\n",
       "      <td>38</td>\n",
       "      <td>Yes</td>\n",
       "      <td>Yes</td>\n",
       "      <td>Fiber optic</td>\n",
       "      <td>No</td>\n",
       "      <td>No</td>\n",
       "      <td>No</td>\n",
       "      <td>No</td>\n",
       "      <td>No</td>\n",
       "      <td>No</td>\n",
       "      <td>Month-to-month</td>\n",
       "      <td>Yes</td>\n",
       "      <td>Bank transfer (automatic)</td>\n",
       "      <td>74.95</td>\n",
       "      <td>2869.85</td>\n",
       "      <td>Yes</td>\n",
       "    </tr>\n",
       "    <tr>\n",
       "      <th>3</th>\n",
       "      <td>1</td>\n",
       "      <td>0</td>\n",
       "      <td>No</td>\n",
       "      <td>No</td>\n",
       "      <td>4</td>\n",
       "      <td>Yes</td>\n",
       "      <td>No</td>\n",
       "      <td>DSL</td>\n",
       "      <td>No</td>\n",
       "      <td>No</td>\n",
       "      <td>No</td>\n",
       "      <td>No</td>\n",
       "      <td>No</td>\n",
       "      <td>Yes</td>\n",
       "      <td>Month-to-month</td>\n",
       "      <td>Yes</td>\n",
       "      <td>Electronic check</td>\n",
       "      <td>55.90</td>\n",
       "      <td>238.5</td>\n",
       "      <td>No</td>\n",
       "    </tr>\n",
       "    <tr>\n",
       "      <th>4</th>\n",
       "      <td>1</td>\n",
       "      <td>0</td>\n",
       "      <td>No</td>\n",
       "      <td>No</td>\n",
       "      <td>2</td>\n",
       "      <td>Yes</td>\n",
       "      <td>No</td>\n",
       "      <td>DSL</td>\n",
       "      <td>Yes</td>\n",
       "      <td>No</td>\n",
       "      <td>Yes</td>\n",
       "      <td>No</td>\n",
       "      <td>No</td>\n",
       "      <td>No</td>\n",
       "      <td>Month-to-month</td>\n",
       "      <td>No</td>\n",
       "      <td>Electronic check</td>\n",
       "      <td>53.45</td>\n",
       "      <td>119.5</td>\n",
       "      <td>No</td>\n",
       "    </tr>\n",
       "    <tr>\n",
       "      <th>...</th>\n",
       "      <td>...</td>\n",
       "      <td>...</td>\n",
       "      <td>...</td>\n",
       "      <td>...</td>\n",
       "      <td>...</td>\n",
       "      <td>...</td>\n",
       "      <td>...</td>\n",
       "      <td>...</td>\n",
       "      <td>...</td>\n",
       "      <td>...</td>\n",
       "      <td>...</td>\n",
       "      <td>...</td>\n",
       "      <td>...</td>\n",
       "      <td>...</td>\n",
       "      <td>...</td>\n",
       "      <td>...</td>\n",
       "      <td>...</td>\n",
       "      <td>...</td>\n",
       "      <td>...</td>\n",
       "      <td>...</td>\n",
       "    </tr>\n",
       "    <tr>\n",
       "      <th>5981</th>\n",
       "      <td>1</td>\n",
       "      <td>0</td>\n",
       "      <td>Yes</td>\n",
       "      <td>No</td>\n",
       "      <td>1</td>\n",
       "      <td>Yes</td>\n",
       "      <td>No</td>\n",
       "      <td>Fiber optic</td>\n",
       "      <td>Yes</td>\n",
       "      <td>No</td>\n",
       "      <td>No</td>\n",
       "      <td>No</td>\n",
       "      <td>Yes</td>\n",
       "      <td>Yes</td>\n",
       "      <td>Month-to-month</td>\n",
       "      <td>Yes</td>\n",
       "      <td>Electronic check</td>\n",
       "      <td>95.00</td>\n",
       "      <td>95</td>\n",
       "      <td>Yes</td>\n",
       "    </tr>\n",
       "    <tr>\n",
       "      <th>5982</th>\n",
       "      <td>0</td>\n",
       "      <td>0</td>\n",
       "      <td>Yes</td>\n",
       "      <td>Yes</td>\n",
       "      <td>23</td>\n",
       "      <td>Yes</td>\n",
       "      <td>Yes</td>\n",
       "      <td>DSL</td>\n",
       "      <td>Yes</td>\n",
       "      <td>Yes</td>\n",
       "      <td>Yes</td>\n",
       "      <td>Yes</td>\n",
       "      <td>Yes</td>\n",
       "      <td>Yes</td>\n",
       "      <td>Two year</td>\n",
       "      <td>Yes</td>\n",
       "      <td>Credit card (automatic)</td>\n",
       "      <td>91.10</td>\n",
       "      <td>2198.3</td>\n",
       "      <td>No</td>\n",
       "    </tr>\n",
       "    <tr>\n",
       "      <th>5983</th>\n",
       "      <td>1</td>\n",
       "      <td>0</td>\n",
       "      <td>Yes</td>\n",
       "      <td>Yes</td>\n",
       "      <td>12</td>\n",
       "      <td>Yes</td>\n",
       "      <td>No</td>\n",
       "      <td>No</td>\n",
       "      <td>No internet service</td>\n",
       "      <td>No internet service</td>\n",
       "      <td>No internet service</td>\n",
       "      <td>No internet service</td>\n",
       "      <td>No internet service</td>\n",
       "      <td>No internet service</td>\n",
       "      <td>Month-to-month</td>\n",
       "      <td>Yes</td>\n",
       "      <td>Electronic check</td>\n",
       "      <td>21.15</td>\n",
       "      <td>306.05</td>\n",
       "      <td>No</td>\n",
       "    </tr>\n",
       "    <tr>\n",
       "      <th>5984</th>\n",
       "      <td>1</td>\n",
       "      <td>1</td>\n",
       "      <td>No</td>\n",
       "      <td>No</td>\n",
       "      <td>12</td>\n",
       "      <td>Yes</td>\n",
       "      <td>Yes</td>\n",
       "      <td>Fiber optic</td>\n",
       "      <td>No</td>\n",
       "      <td>No</td>\n",
       "      <td>Yes</td>\n",
       "      <td>No</td>\n",
       "      <td>Yes</td>\n",
       "      <td>Yes</td>\n",
       "      <td>Month-to-month</td>\n",
       "      <td>Yes</td>\n",
       "      <td>Electronic check</td>\n",
       "      <td>99.45</td>\n",
       "      <td>1200.15</td>\n",
       "      <td>Yes</td>\n",
       "    </tr>\n",
       "    <tr>\n",
       "      <th>5985</th>\n",
       "      <td>1</td>\n",
       "      <td>0</td>\n",
       "      <td>No</td>\n",
       "      <td>No</td>\n",
       "      <td>26</td>\n",
       "      <td>Yes</td>\n",
       "      <td>No</td>\n",
       "      <td>No</td>\n",
       "      <td>No internet service</td>\n",
       "      <td>No internet service</td>\n",
       "      <td>No internet service</td>\n",
       "      <td>No internet service</td>\n",
       "      <td>No internet service</td>\n",
       "      <td>No internet service</td>\n",
       "      <td>One year</td>\n",
       "      <td>No</td>\n",
       "      <td>Credit card (automatic)</td>\n",
       "      <td>19.80</td>\n",
       "      <td>457.3</td>\n",
       "      <td>No</td>\n",
       "    </tr>\n",
       "  </tbody>\n",
       "</table>\n",
       "<p>5986 rows × 20 columns</p>\n",
       "</div>"
      ],
      "text/plain": [
       "      gender  SeniorCitizen Partner Dependents  tenure PhoneService  \\\n",
       "0          1              0     Yes        Yes      72          Yes   \n",
       "1          0              0      No         No      44          Yes   \n",
       "2          0              1     Yes         No      38          Yes   \n",
       "3          1              0      No         No       4          Yes   \n",
       "4          1              0      No         No       2          Yes   \n",
       "...      ...            ...     ...        ...     ...          ...   \n",
       "5981       1              0     Yes         No       1          Yes   \n",
       "5982       0              0     Yes        Yes      23          Yes   \n",
       "5983       1              0     Yes        Yes      12          Yes   \n",
       "5984       1              1      No         No      12          Yes   \n",
       "5985       1              0      No         No      26          Yes   \n",
       "\n",
       "     MultipleLines InternetService       OnlineSecurity         OnlineBackup  \\\n",
       "0              Yes              No  No internet service  No internet service   \n",
       "1               No     Fiber optic                   No                  Yes   \n",
       "2              Yes     Fiber optic                   No                   No   \n",
       "3               No             DSL                   No                   No   \n",
       "4               No             DSL                  Yes                   No   \n",
       "...            ...             ...                  ...                  ...   \n",
       "5981            No     Fiber optic                  Yes                   No   \n",
       "5982           Yes             DSL                  Yes                  Yes   \n",
       "5983            No              No  No internet service  No internet service   \n",
       "5984           Yes     Fiber optic                   No                   No   \n",
       "5985            No              No  No internet service  No internet service   \n",
       "\n",
       "         DeviceProtection          TechSupport          StreamingTV  \\\n",
       "0     No internet service  No internet service  No internet service   \n",
       "1                     Yes                   No                  Yes   \n",
       "2                      No                   No                   No   \n",
       "3                      No                   No                   No   \n",
       "4                     Yes                   No                   No   \n",
       "...                   ...                  ...                  ...   \n",
       "5981                   No                   No                  Yes   \n",
       "5982                  Yes                  Yes                  Yes   \n",
       "5983  No internet service  No internet service  No internet service   \n",
       "5984                  Yes                   No                  Yes   \n",
       "5985  No internet service  No internet service  No internet service   \n",
       "\n",
       "          StreamingMovies        Contract PaperlessBilling  \\\n",
       "0     No internet service        Two year               No   \n",
       "1                      No  Month-to-month              Yes   \n",
       "2                      No  Month-to-month              Yes   \n",
       "3                     Yes  Month-to-month              Yes   \n",
       "4                      No  Month-to-month               No   \n",
       "...                   ...             ...              ...   \n",
       "5981                  Yes  Month-to-month              Yes   \n",
       "5982                  Yes        Two year              Yes   \n",
       "5983  No internet service  Month-to-month              Yes   \n",
       "5984                  Yes  Month-to-month              Yes   \n",
       "5985  No internet service        One year               No   \n",
       "\n",
       "                  PaymentMethod  MonthlyCharges TotalCharges Churn  \n",
       "0       Credit card (automatic)           24.10      1734.65    No  \n",
       "1       Credit card (automatic)           88.15       3973.2    No  \n",
       "2     Bank transfer (automatic)           74.95      2869.85   Yes  \n",
       "3              Electronic check           55.90        238.5    No  \n",
       "4              Electronic check           53.45        119.5    No  \n",
       "...                         ...             ...          ...   ...  \n",
       "5981           Electronic check           95.00           95   Yes  \n",
       "5982    Credit card (automatic)           91.10       2198.3    No  \n",
       "5983           Electronic check           21.15       306.05    No  \n",
       "5984           Electronic check           99.45      1200.15   Yes  \n",
       "5985    Credit card (automatic)           19.80        457.3    No  \n",
       "\n",
       "[5986 rows x 20 columns]"
      ]
     },
     "execution_count": 11,
     "metadata": {},
     "output_type": "execute_result"
    }
   ],
   "source": [
    "df"
   ]
  },
  {
   "cell_type": "code",
   "execution_count": 12,
   "id": "infinite-industry",
   "metadata": {
    "execution": {
     "iopub.execute_input": "2021-04-01T18:35:23.412123Z",
     "iopub.status.busy": "2021-04-01T18:35:23.411265Z",
     "iopub.status.idle": "2021-04-01T18:35:23.415877Z",
     "shell.execute_reply": "2021-04-01T18:35:23.416464Z"
    },
    "papermill": {
     "duration": 0.067675,
     "end_time": "2021-04-01T18:35:23.416658",
     "exception": false,
     "start_time": "2021-04-01T18:35:23.348983",
     "status": "completed"
    },
    "tags": []
   },
   "outputs": [
    {
     "data": {
      "text/plain": [
       "Index(['gender', 'SeniorCitizen', 'Partner', 'Dependents', 'tenure',\n",
       "       'PhoneService', 'MultipleLines', 'InternetService', 'OnlineSecurity',\n",
       "       'OnlineBackup', 'DeviceProtection', 'TechSupport', 'StreamingTV',\n",
       "       'StreamingMovies', 'Contract', 'PaperlessBilling', 'PaymentMethod',\n",
       "       'MonthlyCharges', 'TotalCharges', 'Churn'],\n",
       "      dtype='object')"
      ]
     },
     "execution_count": 12,
     "metadata": {},
     "output_type": "execute_result"
    }
   ],
   "source": [
    "df.columns"
   ]
  },
  {
   "cell_type": "code",
   "execution_count": 13,
   "id": "boolean-bidder",
   "metadata": {
    "execution": {
     "iopub.execute_input": "2021-04-01T18:35:23.550089Z",
     "iopub.status.busy": "2021-04-01T18:35:23.548842Z",
     "iopub.status.idle": "2021-04-01T18:35:23.564370Z",
     "shell.execute_reply": "2021-04-01T18:35:23.563574Z"
    },
    "papermill": {
     "duration": 0.089845,
     "end_time": "2021-04-01T18:35:23.564560",
     "exception": false,
     "start_time": "2021-04-01T18:35:23.474715",
     "status": "completed"
    },
    "tags": []
   },
   "outputs": [
    {
     "name": "stdout",
     "output_type": "stream",
     "text": [
      "<class 'pandas.core.frame.DataFrame'>\n",
      "RangeIndex: 5986 entries, 0 to 5985\n",
      "Data columns (total 20 columns):\n",
      " #   Column            Non-Null Count  Dtype  \n",
      "---  ------            --------------  -----  \n",
      " 0   gender            5986 non-null   int64  \n",
      " 1   SeniorCitizen     5986 non-null   int64  \n",
      " 2   Partner           5986 non-null   object \n",
      " 3   Dependents        5986 non-null   object \n",
      " 4   tenure            5986 non-null   int64  \n",
      " 5   PhoneService      5986 non-null   object \n",
      " 6   MultipleLines     5986 non-null   object \n",
      " 7   InternetService   5986 non-null   object \n",
      " 8   OnlineSecurity    5986 non-null   object \n",
      " 9   OnlineBackup      5986 non-null   object \n",
      " 10  DeviceProtection  5986 non-null   object \n",
      " 11  TechSupport       5986 non-null   object \n",
      " 12  StreamingTV       5986 non-null   object \n",
      " 13  StreamingMovies   5986 non-null   object \n",
      " 14  Contract          5986 non-null   object \n",
      " 15  PaperlessBilling  5986 non-null   object \n",
      " 16  PaymentMethod     5986 non-null   object \n",
      " 17  MonthlyCharges    5986 non-null   float64\n",
      " 18  TotalCharges      5986 non-null   object \n",
      " 19  Churn             5986 non-null   object \n",
      "dtypes: float64(1), int64(3), object(16)\n",
      "memory usage: 935.4+ KB\n"
     ]
    }
   ],
   "source": [
    "df.info()"
   ]
  },
  {
   "cell_type": "markdown",
   "id": "synthetic-sequence",
   "metadata": {
    "papermill": {
     "duration": 0.05751,
     "end_time": "2021-04-01T18:35:23.680670",
     "exception": false,
     "start_time": "2021-04-01T18:35:23.623160",
     "status": "completed"
    },
    "tags": []
   },
   "source": [
    "#### Check unique values in cate-columns"
   ]
  },
  {
   "cell_type": "code",
   "execution_count": 14,
   "id": "introductory-induction",
   "metadata": {
    "execution": {
     "iopub.execute_input": "2021-04-01T18:35:23.806161Z",
     "iopub.status.busy": "2021-04-01T18:35:23.805350Z",
     "iopub.status.idle": "2021-04-01T18:35:23.809763Z",
     "shell.execute_reply": "2021-04-01T18:35:23.808959Z"
    },
    "papermill": {
     "duration": 0.07023,
     "end_time": "2021-04-01T18:35:23.809919",
     "exception": false,
     "start_time": "2021-04-01T18:35:23.739689",
     "status": "completed"
    },
    "tags": []
   },
   "outputs": [
    {
     "data": {
      "text/plain": [
       "array(['Yes', 'No'], dtype=object)"
      ]
     },
     "execution_count": 14,
     "metadata": {},
     "output_type": "execute_result"
    }
   ],
   "source": [
    "df.Partner.unique()"
   ]
  },
  {
   "cell_type": "code",
   "execution_count": 15,
   "id": "convenient-curve",
   "metadata": {
    "execution": {
     "iopub.execute_input": "2021-04-01T18:35:23.934548Z",
     "iopub.status.busy": "2021-04-01T18:35:23.933728Z",
     "iopub.status.idle": "2021-04-01T18:35:23.937236Z",
     "shell.execute_reply": "2021-04-01T18:35:23.937769Z"
    },
    "papermill": {
     "duration": 0.069683,
     "end_time": "2021-04-01T18:35:23.937947",
     "exception": false,
     "start_time": "2021-04-01T18:35:23.868264",
     "status": "completed"
    },
    "tags": []
   },
   "outputs": [
    {
     "data": {
      "text/plain": [
       "array(['Yes', 'No'], dtype=object)"
      ]
     },
     "execution_count": 15,
     "metadata": {},
     "output_type": "execute_result"
    }
   ],
   "source": [
    "df.Dependents.unique()"
   ]
  },
  {
   "cell_type": "markdown",
   "id": "heavy-newman",
   "metadata": {
    "papermill": {
     "duration": 0.059801,
     "end_time": "2021-04-01T18:35:24.058792",
     "exception": false,
     "start_time": "2021-04-01T18:35:23.998991",
     "status": "completed"
    },
    "tags": []
   },
   "source": [
    "#### Just make the for loop"
   ]
  },
  {
   "cell_type": "code",
   "execution_count": 16,
   "id": "stuffed-chuck",
   "metadata": {
    "execution": {
     "iopub.execute_input": "2021-04-01T18:35:24.180923Z",
     "iopub.status.busy": "2021-04-01T18:35:24.180164Z",
     "iopub.status.idle": "2021-04-01T18:35:24.189983Z",
     "shell.execute_reply": "2021-04-01T18:35:24.189203Z"
    },
    "papermill": {
     "duration": 0.072343,
     "end_time": "2021-04-01T18:35:24.190195",
     "exception": false,
     "start_time": "2021-04-01T18:35:24.117852",
     "status": "completed"
    },
    "tags": []
   },
   "outputs": [
    {
     "name": "stdout",
     "output_type": "stream",
     "text": [
      "gender\n",
      "SeniorCitizen\n",
      "Partner\n",
      "Dependents\n",
      "tenure\n",
      "PhoneService\n",
      "MultipleLines\n",
      "InternetService\n",
      "OnlineSecurity\n",
      "OnlineBackup\n",
      "DeviceProtection\n",
      "TechSupport\n",
      "StreamingTV\n",
      "StreamingMovies\n",
      "Contract\n",
      "PaperlessBilling\n",
      "PaymentMethod\n",
      "MonthlyCharges\n",
      "TotalCharges\n",
      "Churn\n"
     ]
    }
   ],
   "source": [
    "for i in df.columns:\n",
    "    print(i)"
   ]
  },
  {
   "cell_type": "code",
   "execution_count": 17,
   "id": "nutritional-poetry",
   "metadata": {
    "execution": {
     "iopub.execute_input": "2021-04-01T18:35:24.320076Z",
     "iopub.status.busy": "2021-04-01T18:35:24.319059Z",
     "iopub.status.idle": "2021-04-01T18:35:24.341394Z",
     "shell.execute_reply": "2021-04-01T18:35:24.342337Z"
    },
    "papermill": {
     "duration": 0.090429,
     "end_time": "2021-04-01T18:35:24.342631",
     "exception": false,
     "start_time": "2021-04-01T18:35:24.252202",
     "status": "completed"
    },
    "tags": []
   },
   "outputs": [
    {
     "name": "stdout",
     "output_type": "stream",
     "text": [
      "columns name : gender \n",
      "==> unique values : [1 0]\n",
      "columns name : SeniorCitizen \n",
      "==> unique values : [0 1]\n",
      "columns name : Partner \n",
      "==> unique values : ['Yes' 'No']\n",
      "columns name : Dependents \n",
      "==> unique values : ['Yes' 'No']\n",
      "columns name : tenure \n",
      "==> unique values : [72 44 38  4  2 70 33  1 39 55 52 30 60 50 32 51 69 42 14 62  5 63 67 40\n",
      " 65 16 46 11 49 68 10 53 54 15  3 71  8 64 57 20 26 31  7 35  6 13 23  9\n",
      " 45 17 34 58 12 25 28 29 43 19 41 37 27 22 24 18 56 66 59 48 47 61 21  0\n",
      " 36]\n",
      "columns name : PhoneService \n",
      "==> unique values : ['Yes' 'No']\n",
      "columns name : MultipleLines \n",
      "==> unique values : ['Yes' 'No' 'No phone service']\n",
      "columns name : InternetService \n",
      "==> unique values : ['No' 'Fiber optic' 'DSL']\n",
      "columns name : OnlineSecurity \n",
      "==> unique values : ['No internet service' 'No' 'Yes']\n",
      "columns name : OnlineBackup \n",
      "==> unique values : ['No internet service' 'Yes' 'No']\n",
      "columns name : DeviceProtection \n",
      "==> unique values : ['No internet service' 'Yes' 'No']\n",
      "columns name : TechSupport \n",
      "==> unique values : ['No internet service' 'No' 'Yes']\n",
      "columns name : StreamingTV \n",
      "==> unique values : ['No internet service' 'Yes' 'No']\n",
      "columns name : StreamingMovies \n",
      "==> unique values : ['No internet service' 'No' 'Yes']\n",
      "columns name : Contract \n",
      "==> unique values : ['Two year' 'Month-to-month' 'One year']\n",
      "columns name : PaperlessBilling \n",
      "==> unique values : ['No' 'Yes']\n",
      "columns name : PaymentMethod \n",
      "==> unique values : ['Credit card (automatic)' 'Bank transfer (automatic)' 'Electronic check'\n",
      " 'Mailed check']\n",
      "columns name : MonthlyCharges \n",
      "==> unique values : [24.1  88.15 74.95 ... 59.25 35.35 21.15]\n",
      "columns name : TotalCharges \n",
      "==> unique values : ['1734.65' '3973.2' '2869.85' ... '306.05' '1200.15' '457.3']\n",
      "columns name : Churn \n",
      "==> unique values : ['No' 'Yes']\n"
     ]
    }
   ],
   "source": [
    "for i in df.columns:\n",
    "    print('columns name : {} \\n==> unique values :'.format(i),df['{}'.format(i)].unique())"
   ]
  },
  {
   "cell_type": "markdown",
   "id": "rubber-quick",
   "metadata": {
    "papermill": {
     "duration": 0.059804,
     "end_time": "2021-04-01T18:35:24.463525",
     "exception": false,
     "start_time": "2021-04-01T18:35:24.403721",
     "status": "completed"
    },
    "tags": []
   },
   "source": [
    "#### ['Partner', 'Dependents', 'PhoneService', 'MultipleLines', 'PaperlessBilling', 'Churn'] ==> Yes or No"
   ]
  },
  {
   "cell_type": "code",
   "execution_count": 18,
   "id": "portuguese-douglas",
   "metadata": {
    "execution": {
     "iopub.execute_input": "2021-04-01T18:35:24.588760Z",
     "iopub.status.busy": "2021-04-01T18:35:24.588108Z",
     "iopub.status.idle": "2021-04-01T18:35:24.590725Z",
     "shell.execute_reply": "2021-04-01T18:35:24.591210Z"
    },
    "papermill": {
     "duration": 0.06742,
     "end_time": "2021-04-01T18:35:24.591391",
     "exception": false,
     "start_time": "2021-04-01T18:35:24.523971",
     "status": "completed"
    },
    "tags": []
   },
   "outputs": [],
   "source": [
    "YesNoCol = ['Partner', 'Dependents', 'PhoneService', 'MultipleLines', 'PaperlessBilling', 'Churn'] "
   ]
  },
  {
   "cell_type": "code",
   "execution_count": 19,
   "id": "respected-print",
   "metadata": {
    "execution": {
     "iopub.execute_input": "2021-04-01T18:35:24.719844Z",
     "iopub.status.busy": "2021-04-01T18:35:24.719098Z",
     "iopub.status.idle": "2021-04-01T18:35:24.738605Z",
     "shell.execute_reply": "2021-04-01T18:35:24.739132Z"
    },
    "papermill": {
     "duration": 0.087415,
     "end_time": "2021-04-01T18:35:24.739360",
     "exception": false,
     "start_time": "2021-04-01T18:35:24.651945",
     "status": "completed"
    },
    "tags": []
   },
   "outputs": [],
   "source": [
    "for col in YesNoCol:\n",
    "    df[col] = le.fit_transform(df[col])"
   ]
  },
  {
   "cell_type": "code",
   "execution_count": 20,
   "id": "unlike-nudist",
   "metadata": {
    "execution": {
     "iopub.execute_input": "2021-04-01T18:35:24.864464Z",
     "iopub.status.busy": "2021-04-01T18:35:24.863737Z",
     "iopub.status.idle": "2021-04-01T18:35:24.895938Z",
     "shell.execute_reply": "2021-04-01T18:35:24.896492Z"
    },
    "papermill": {
     "duration": 0.096557,
     "end_time": "2021-04-01T18:35:24.896682",
     "exception": false,
     "start_time": "2021-04-01T18:35:24.800125",
     "status": "completed"
    },
    "tags": []
   },
   "outputs": [
    {
     "data": {
      "text/html": [
       "<div>\n",
       "<style scoped>\n",
       "    .dataframe tbody tr th:only-of-type {\n",
       "        vertical-align: middle;\n",
       "    }\n",
       "\n",
       "    .dataframe tbody tr th {\n",
       "        vertical-align: top;\n",
       "    }\n",
       "\n",
       "    .dataframe thead th {\n",
       "        text-align: right;\n",
       "    }\n",
       "</style>\n",
       "<table border=\"1\" class=\"dataframe\">\n",
       "  <thead>\n",
       "    <tr style=\"text-align: right;\">\n",
       "      <th></th>\n",
       "      <th>gender</th>\n",
       "      <th>SeniorCitizen</th>\n",
       "      <th>Partner</th>\n",
       "      <th>Dependents</th>\n",
       "      <th>tenure</th>\n",
       "      <th>PhoneService</th>\n",
       "      <th>MultipleLines</th>\n",
       "      <th>InternetService</th>\n",
       "      <th>OnlineSecurity</th>\n",
       "      <th>OnlineBackup</th>\n",
       "      <th>DeviceProtection</th>\n",
       "      <th>TechSupport</th>\n",
       "      <th>StreamingTV</th>\n",
       "      <th>StreamingMovies</th>\n",
       "      <th>Contract</th>\n",
       "      <th>PaperlessBilling</th>\n",
       "      <th>PaymentMethod</th>\n",
       "      <th>MonthlyCharges</th>\n",
       "      <th>TotalCharges</th>\n",
       "      <th>Churn</th>\n",
       "    </tr>\n",
       "  </thead>\n",
       "  <tbody>\n",
       "    <tr>\n",
       "      <th>0</th>\n",
       "      <td>1</td>\n",
       "      <td>0</td>\n",
       "      <td>1</td>\n",
       "      <td>1</td>\n",
       "      <td>72</td>\n",
       "      <td>1</td>\n",
       "      <td>2</td>\n",
       "      <td>No</td>\n",
       "      <td>No internet service</td>\n",
       "      <td>No internet service</td>\n",
       "      <td>No internet service</td>\n",
       "      <td>No internet service</td>\n",
       "      <td>No internet service</td>\n",
       "      <td>No internet service</td>\n",
       "      <td>Two year</td>\n",
       "      <td>0</td>\n",
       "      <td>Credit card (automatic)</td>\n",
       "      <td>24.10</td>\n",
       "      <td>1734.65</td>\n",
       "      <td>0</td>\n",
       "    </tr>\n",
       "    <tr>\n",
       "      <th>1</th>\n",
       "      <td>0</td>\n",
       "      <td>0</td>\n",
       "      <td>0</td>\n",
       "      <td>0</td>\n",
       "      <td>44</td>\n",
       "      <td>1</td>\n",
       "      <td>0</td>\n",
       "      <td>Fiber optic</td>\n",
       "      <td>No</td>\n",
       "      <td>Yes</td>\n",
       "      <td>Yes</td>\n",
       "      <td>No</td>\n",
       "      <td>Yes</td>\n",
       "      <td>No</td>\n",
       "      <td>Month-to-month</td>\n",
       "      <td>1</td>\n",
       "      <td>Credit card (automatic)</td>\n",
       "      <td>88.15</td>\n",
       "      <td>3973.2</td>\n",
       "      <td>0</td>\n",
       "    </tr>\n",
       "    <tr>\n",
       "      <th>2</th>\n",
       "      <td>0</td>\n",
       "      <td>1</td>\n",
       "      <td>1</td>\n",
       "      <td>0</td>\n",
       "      <td>38</td>\n",
       "      <td>1</td>\n",
       "      <td>2</td>\n",
       "      <td>Fiber optic</td>\n",
       "      <td>No</td>\n",
       "      <td>No</td>\n",
       "      <td>No</td>\n",
       "      <td>No</td>\n",
       "      <td>No</td>\n",
       "      <td>No</td>\n",
       "      <td>Month-to-month</td>\n",
       "      <td>1</td>\n",
       "      <td>Bank transfer (automatic)</td>\n",
       "      <td>74.95</td>\n",
       "      <td>2869.85</td>\n",
       "      <td>1</td>\n",
       "    </tr>\n",
       "    <tr>\n",
       "      <th>3</th>\n",
       "      <td>1</td>\n",
       "      <td>0</td>\n",
       "      <td>0</td>\n",
       "      <td>0</td>\n",
       "      <td>4</td>\n",
       "      <td>1</td>\n",
       "      <td>0</td>\n",
       "      <td>DSL</td>\n",
       "      <td>No</td>\n",
       "      <td>No</td>\n",
       "      <td>No</td>\n",
       "      <td>No</td>\n",
       "      <td>No</td>\n",
       "      <td>Yes</td>\n",
       "      <td>Month-to-month</td>\n",
       "      <td>1</td>\n",
       "      <td>Electronic check</td>\n",
       "      <td>55.90</td>\n",
       "      <td>238.5</td>\n",
       "      <td>0</td>\n",
       "    </tr>\n",
       "    <tr>\n",
       "      <th>4</th>\n",
       "      <td>1</td>\n",
       "      <td>0</td>\n",
       "      <td>0</td>\n",
       "      <td>0</td>\n",
       "      <td>2</td>\n",
       "      <td>1</td>\n",
       "      <td>0</td>\n",
       "      <td>DSL</td>\n",
       "      <td>Yes</td>\n",
       "      <td>No</td>\n",
       "      <td>Yes</td>\n",
       "      <td>No</td>\n",
       "      <td>No</td>\n",
       "      <td>No</td>\n",
       "      <td>Month-to-month</td>\n",
       "      <td>0</td>\n",
       "      <td>Electronic check</td>\n",
       "      <td>53.45</td>\n",
       "      <td>119.5</td>\n",
       "      <td>0</td>\n",
       "    </tr>\n",
       "    <tr>\n",
       "      <th>...</th>\n",
       "      <td>...</td>\n",
       "      <td>...</td>\n",
       "      <td>...</td>\n",
       "      <td>...</td>\n",
       "      <td>...</td>\n",
       "      <td>...</td>\n",
       "      <td>...</td>\n",
       "      <td>...</td>\n",
       "      <td>...</td>\n",
       "      <td>...</td>\n",
       "      <td>...</td>\n",
       "      <td>...</td>\n",
       "      <td>...</td>\n",
       "      <td>...</td>\n",
       "      <td>...</td>\n",
       "      <td>...</td>\n",
       "      <td>...</td>\n",
       "      <td>...</td>\n",
       "      <td>...</td>\n",
       "      <td>...</td>\n",
       "    </tr>\n",
       "    <tr>\n",
       "      <th>5981</th>\n",
       "      <td>1</td>\n",
       "      <td>0</td>\n",
       "      <td>1</td>\n",
       "      <td>0</td>\n",
       "      <td>1</td>\n",
       "      <td>1</td>\n",
       "      <td>0</td>\n",
       "      <td>Fiber optic</td>\n",
       "      <td>Yes</td>\n",
       "      <td>No</td>\n",
       "      <td>No</td>\n",
       "      <td>No</td>\n",
       "      <td>Yes</td>\n",
       "      <td>Yes</td>\n",
       "      <td>Month-to-month</td>\n",
       "      <td>1</td>\n",
       "      <td>Electronic check</td>\n",
       "      <td>95.00</td>\n",
       "      <td>95</td>\n",
       "      <td>1</td>\n",
       "    </tr>\n",
       "    <tr>\n",
       "      <th>5982</th>\n",
       "      <td>0</td>\n",
       "      <td>0</td>\n",
       "      <td>1</td>\n",
       "      <td>1</td>\n",
       "      <td>23</td>\n",
       "      <td>1</td>\n",
       "      <td>2</td>\n",
       "      <td>DSL</td>\n",
       "      <td>Yes</td>\n",
       "      <td>Yes</td>\n",
       "      <td>Yes</td>\n",
       "      <td>Yes</td>\n",
       "      <td>Yes</td>\n",
       "      <td>Yes</td>\n",
       "      <td>Two year</td>\n",
       "      <td>1</td>\n",
       "      <td>Credit card (automatic)</td>\n",
       "      <td>91.10</td>\n",
       "      <td>2198.3</td>\n",
       "      <td>0</td>\n",
       "    </tr>\n",
       "    <tr>\n",
       "      <th>5983</th>\n",
       "      <td>1</td>\n",
       "      <td>0</td>\n",
       "      <td>1</td>\n",
       "      <td>1</td>\n",
       "      <td>12</td>\n",
       "      <td>1</td>\n",
       "      <td>0</td>\n",
       "      <td>No</td>\n",
       "      <td>No internet service</td>\n",
       "      <td>No internet service</td>\n",
       "      <td>No internet service</td>\n",
       "      <td>No internet service</td>\n",
       "      <td>No internet service</td>\n",
       "      <td>No internet service</td>\n",
       "      <td>Month-to-month</td>\n",
       "      <td>1</td>\n",
       "      <td>Electronic check</td>\n",
       "      <td>21.15</td>\n",
       "      <td>306.05</td>\n",
       "      <td>0</td>\n",
       "    </tr>\n",
       "    <tr>\n",
       "      <th>5984</th>\n",
       "      <td>1</td>\n",
       "      <td>1</td>\n",
       "      <td>0</td>\n",
       "      <td>0</td>\n",
       "      <td>12</td>\n",
       "      <td>1</td>\n",
       "      <td>2</td>\n",
       "      <td>Fiber optic</td>\n",
       "      <td>No</td>\n",
       "      <td>No</td>\n",
       "      <td>Yes</td>\n",
       "      <td>No</td>\n",
       "      <td>Yes</td>\n",
       "      <td>Yes</td>\n",
       "      <td>Month-to-month</td>\n",
       "      <td>1</td>\n",
       "      <td>Electronic check</td>\n",
       "      <td>99.45</td>\n",
       "      <td>1200.15</td>\n",
       "      <td>1</td>\n",
       "    </tr>\n",
       "    <tr>\n",
       "      <th>5985</th>\n",
       "      <td>1</td>\n",
       "      <td>0</td>\n",
       "      <td>0</td>\n",
       "      <td>0</td>\n",
       "      <td>26</td>\n",
       "      <td>1</td>\n",
       "      <td>0</td>\n",
       "      <td>No</td>\n",
       "      <td>No internet service</td>\n",
       "      <td>No internet service</td>\n",
       "      <td>No internet service</td>\n",
       "      <td>No internet service</td>\n",
       "      <td>No internet service</td>\n",
       "      <td>No internet service</td>\n",
       "      <td>One year</td>\n",
       "      <td>0</td>\n",
       "      <td>Credit card (automatic)</td>\n",
       "      <td>19.80</td>\n",
       "      <td>457.3</td>\n",
       "      <td>0</td>\n",
       "    </tr>\n",
       "  </tbody>\n",
       "</table>\n",
       "<p>5986 rows × 20 columns</p>\n",
       "</div>"
      ],
      "text/plain": [
       "      gender  SeniorCitizen  Partner  Dependents  tenure  PhoneService  \\\n",
       "0          1              0        1           1      72             1   \n",
       "1          0              0        0           0      44             1   \n",
       "2          0              1        1           0      38             1   \n",
       "3          1              0        0           0       4             1   \n",
       "4          1              0        0           0       2             1   \n",
       "...      ...            ...      ...         ...     ...           ...   \n",
       "5981       1              0        1           0       1             1   \n",
       "5982       0              0        1           1      23             1   \n",
       "5983       1              0        1           1      12             1   \n",
       "5984       1              1        0           0      12             1   \n",
       "5985       1              0        0           0      26             1   \n",
       "\n",
       "      MultipleLines InternetService       OnlineSecurity         OnlineBackup  \\\n",
       "0                 2              No  No internet service  No internet service   \n",
       "1                 0     Fiber optic                   No                  Yes   \n",
       "2                 2     Fiber optic                   No                   No   \n",
       "3                 0             DSL                   No                   No   \n",
       "4                 0             DSL                  Yes                   No   \n",
       "...             ...             ...                  ...                  ...   \n",
       "5981              0     Fiber optic                  Yes                   No   \n",
       "5982              2             DSL                  Yes                  Yes   \n",
       "5983              0              No  No internet service  No internet service   \n",
       "5984              2     Fiber optic                   No                   No   \n",
       "5985              0              No  No internet service  No internet service   \n",
       "\n",
       "         DeviceProtection          TechSupport          StreamingTV  \\\n",
       "0     No internet service  No internet service  No internet service   \n",
       "1                     Yes                   No                  Yes   \n",
       "2                      No                   No                   No   \n",
       "3                      No                   No                   No   \n",
       "4                     Yes                   No                   No   \n",
       "...                   ...                  ...                  ...   \n",
       "5981                   No                   No                  Yes   \n",
       "5982                  Yes                  Yes                  Yes   \n",
       "5983  No internet service  No internet service  No internet service   \n",
       "5984                  Yes                   No                  Yes   \n",
       "5985  No internet service  No internet service  No internet service   \n",
       "\n",
       "          StreamingMovies        Contract  PaperlessBilling  \\\n",
       "0     No internet service        Two year                 0   \n",
       "1                      No  Month-to-month                 1   \n",
       "2                      No  Month-to-month                 1   \n",
       "3                     Yes  Month-to-month                 1   \n",
       "4                      No  Month-to-month                 0   \n",
       "...                   ...             ...               ...   \n",
       "5981                  Yes  Month-to-month                 1   \n",
       "5982                  Yes        Two year                 1   \n",
       "5983  No internet service  Month-to-month                 1   \n",
       "5984                  Yes  Month-to-month                 1   \n",
       "5985  No internet service        One year                 0   \n",
       "\n",
       "                  PaymentMethod  MonthlyCharges TotalCharges  Churn  \n",
       "0       Credit card (automatic)           24.10      1734.65      0  \n",
       "1       Credit card (automatic)           88.15       3973.2      0  \n",
       "2     Bank transfer (automatic)           74.95      2869.85      1  \n",
       "3              Electronic check           55.90        238.5      0  \n",
       "4              Electronic check           53.45        119.5      0  \n",
       "...                         ...             ...          ...    ...  \n",
       "5981           Electronic check           95.00           95      1  \n",
       "5982    Credit card (automatic)           91.10       2198.3      0  \n",
       "5983           Electronic check           21.15       306.05      0  \n",
       "5984           Electronic check           99.45      1200.15      1  \n",
       "5985    Credit card (automatic)           19.80        457.3      0  \n",
       "\n",
       "[5986 rows x 20 columns]"
      ]
     },
     "execution_count": 20,
     "metadata": {},
     "output_type": "execute_result"
    }
   ],
   "source": [
    "df"
   ]
  },
  {
   "cell_type": "markdown",
   "id": "chinese-capture",
   "metadata": {
    "papermill": {
     "duration": 0.061068,
     "end_time": "2021-04-01T18:35:25.019770",
     "exception": false,
     "start_time": "2021-04-01T18:35:24.958702",
     "status": "completed"
    },
    "tags": []
   },
   "source": [
    "#### One more check (Yes No)"
   ]
  },
  {
   "cell_type": "code",
   "execution_count": 21,
   "id": "hired-order",
   "metadata": {
    "execution": {
     "iopub.execute_input": "2021-04-01T18:35:25.144851Z",
     "iopub.status.busy": "2021-04-01T18:35:25.144236Z",
     "iopub.status.idle": "2021-04-01T18:35:25.167992Z",
     "shell.execute_reply": "2021-04-01T18:35:25.167379Z"
    },
    "papermill": {
     "duration": 0.087417,
     "end_time": "2021-04-01T18:35:25.168136",
     "exception": false,
     "start_time": "2021-04-01T18:35:25.080719",
     "status": "completed"
    },
    "tags": []
   },
   "outputs": [
    {
     "name": "stdout",
     "output_type": "stream",
     "text": [
      "columns name : gender \n",
      "==> unique values : [1 0]\n",
      "columns name : SeniorCitizen \n",
      "==> unique values : [0 1]\n",
      "columns name : Partner \n",
      "==> unique values : [1 0]\n",
      "columns name : Dependents \n",
      "==> unique values : [1 0]\n",
      "columns name : tenure \n",
      "==> unique values : [72 44 38  4  2 70 33  1 39 55 52 30 60 50 32 51 69 42 14 62  5 63 67 40\n",
      " 65 16 46 11 49 68 10 53 54 15  3 71  8 64 57 20 26 31  7 35  6 13 23  9\n",
      " 45 17 34 58 12 25 28 29 43 19 41 37 27 22 24 18 56 66 59 48 47 61 21  0\n",
      " 36]\n",
      "columns name : PhoneService \n",
      "==> unique values : [1 0]\n",
      "columns name : MultipleLines \n",
      "==> unique values : [2 0 1]\n",
      "columns name : InternetService \n",
      "==> unique values : ['No' 'Fiber optic' 'DSL']\n",
      "columns name : OnlineSecurity \n",
      "==> unique values : ['No internet service' 'No' 'Yes']\n",
      "columns name : OnlineBackup \n",
      "==> unique values : ['No internet service' 'Yes' 'No']\n",
      "columns name : DeviceProtection \n",
      "==> unique values : ['No internet service' 'Yes' 'No']\n",
      "columns name : TechSupport \n",
      "==> unique values : ['No internet service' 'No' 'Yes']\n",
      "columns name : StreamingTV \n",
      "==> unique values : ['No internet service' 'Yes' 'No']\n",
      "columns name : StreamingMovies \n",
      "==> unique values : ['No internet service' 'No' 'Yes']\n",
      "columns name : Contract \n",
      "==> unique values : ['Two year' 'Month-to-month' 'One year']\n",
      "columns name : PaperlessBilling \n",
      "==> unique values : [0 1]\n",
      "columns name : PaymentMethod \n",
      "==> unique values : ['Credit card (automatic)' 'Bank transfer (automatic)' 'Electronic check'\n",
      " 'Mailed check']\n",
      "columns name : MonthlyCharges \n",
      "==> unique values : [24.1  88.15 74.95 ... 59.25 35.35 21.15]\n",
      "columns name : TotalCharges \n",
      "==> unique values : ['1734.65' '3973.2' '2869.85' ... '306.05' '1200.15' '457.3']\n",
      "columns name : Churn \n",
      "==> unique values : [0 1]\n"
     ]
    }
   ],
   "source": [
    "for i in df.columns:\n",
    "    print('columns name : {} \\n==> unique values :'.format(i),df['{}'.format(i)].unique())"
   ]
  },
  {
   "cell_type": "markdown",
   "id": "vertical-lottery",
   "metadata": {
    "papermill": {
     "duration": 0.06163,
     "end_time": "2021-04-01T18:35:25.292545",
     "exception": false,
     "start_time": "2021-04-01T18:35:25.230915",
     "status": "completed"
    },
    "tags": []
   },
   "source": [
    "#### I want to encoding ['No internet service','Yes','No'] to [1,0] ('No internet service' ==> 'No') but simultaneously save 'No internet service'\n",
    "#### Let's create New Column"
   ]
  },
  {
   "cell_type": "code",
   "execution_count": 22,
   "id": "particular-extraction",
   "metadata": {
    "execution": {
     "iopub.execute_input": "2021-04-01T18:35:25.421270Z",
     "iopub.status.busy": "2021-04-01T18:35:25.420556Z",
     "iopub.status.idle": "2021-04-01T18:35:25.430226Z",
     "shell.execute_reply": "2021-04-01T18:35:25.429636Z"
    },
    "papermill": {
     "duration": 0.074516,
     "end_time": "2021-04-01T18:35:25.430371",
     "exception": false,
     "start_time": "2021-04-01T18:35:25.355855",
     "status": "completed"
    },
    "tags": []
   },
   "outputs": [
    {
     "data": {
      "text/plain": [
       "0        True\n",
       "1       False\n",
       "2       False\n",
       "3       False\n",
       "4       False\n",
       "        ...  \n",
       "5981    False\n",
       "5982    False\n",
       "5983     True\n",
       "5984    False\n",
       "5985     True\n",
       "Name: OnlineSecurity, Length: 5986, dtype: bool"
      ]
     },
     "execution_count": 22,
     "metadata": {},
     "output_type": "execute_result"
    }
   ],
   "source": [
    "df.OnlineSecurity == 'No internet service'"
   ]
  },
  {
   "cell_type": "code",
   "execution_count": 23,
   "id": "unlike-attempt",
   "metadata": {
    "execution": {
     "iopub.execute_input": "2021-04-01T18:35:25.564503Z",
     "iopub.status.busy": "2021-04-01T18:35:25.563729Z",
     "iopub.status.idle": "2021-04-01T18:35:25.566613Z",
     "shell.execute_reply": "2021-04-01T18:35:25.567301Z"
    },
    "papermill": {
     "duration": 0.074775,
     "end_time": "2021-04-01T18:35:25.567481",
     "exception": false,
     "start_time": "2021-04-01T18:35:25.492706",
     "status": "completed"
    },
    "tags": []
   },
   "outputs": [
    {
     "data": {
      "text/plain": [
       "0        True\n",
       "1       False\n",
       "2       False\n",
       "3       False\n",
       "4       False\n",
       "        ...  \n",
       "5981    False\n",
       "5982    False\n",
       "5983     True\n",
       "5984    False\n",
       "5985     True\n",
       "Name: OnlineSecurity, Length: 5986, dtype: bool"
      ]
     },
     "execution_count": 23,
     "metadata": {},
     "output_type": "execute_result"
    }
   ],
   "source": [
    "pd.Series(df.OnlineSecurity == 'No internet service')"
   ]
  },
  {
   "cell_type": "code",
   "execution_count": 24,
   "id": "treated-messenger",
   "metadata": {
    "execution": {
     "iopub.execute_input": "2021-04-01T18:35:25.698494Z",
     "iopub.status.busy": "2021-04-01T18:35:25.697812Z",
     "iopub.status.idle": "2021-04-01T18:35:25.703141Z",
     "shell.execute_reply": "2021-04-01T18:35:25.703799Z"
    },
    "papermill": {
     "duration": 0.072722,
     "end_time": "2021-04-01T18:35:25.704064",
     "exception": false,
     "start_time": "2021-04-01T18:35:25.631342",
     "status": "completed"
    },
    "tags": []
   },
   "outputs": [],
   "source": [
    "temp = pd.Series(df.OnlineSecurity == 'No internet service')"
   ]
  },
  {
   "cell_type": "code",
   "execution_count": 25,
   "id": "needed-following",
   "metadata": {
    "execution": {
     "iopub.execute_input": "2021-04-01T18:35:25.833886Z",
     "iopub.status.busy": "2021-04-01T18:35:25.833115Z",
     "iopub.status.idle": "2021-04-01T18:35:25.839578Z",
     "shell.execute_reply": "2021-04-01T18:35:25.840087Z"
    },
    "papermill": {
     "duration": 0.073004,
     "end_time": "2021-04-01T18:35:25.840282",
     "exception": false,
     "start_time": "2021-04-01T18:35:25.767278",
     "status": "completed"
    },
    "tags": []
   },
   "outputs": [
    {
     "data": {
      "text/plain": [
       "0        True\n",
       "1       False\n",
       "2       False\n",
       "3       False\n",
       "4       False\n",
       "        ...  \n",
       "5981    False\n",
       "5982    False\n",
       "5983     True\n",
       "5984    False\n",
       "5985     True\n",
       "Name: OnlineSecurity, Length: 5986, dtype: bool"
      ]
     },
     "execution_count": 25,
     "metadata": {},
     "output_type": "execute_result"
    }
   ],
   "source": [
    "temp"
   ]
  },
  {
   "cell_type": "code",
   "execution_count": 26,
   "id": "confirmed-contrast",
   "metadata": {
    "execution": {
     "iopub.execute_input": "2021-04-01T18:35:25.972304Z",
     "iopub.status.busy": "2021-04-01T18:35:25.971591Z",
     "iopub.status.idle": "2021-04-01T18:35:25.976759Z",
     "shell.execute_reply": "2021-04-01T18:35:25.977264Z"
    },
    "papermill": {
     "duration": 0.073031,
     "end_time": "2021-04-01T18:35:25.977468",
     "exception": false,
     "start_time": "2021-04-01T18:35:25.904437",
     "status": "completed"
    },
    "tags": []
   },
   "outputs": [],
   "source": [
    "df['InternetService'] = le.fit_transform(temp)\n"
   ]
  },
  {
   "cell_type": "code",
   "execution_count": 27,
   "id": "fewer-burlington",
   "metadata": {
    "execution": {
     "iopub.execute_input": "2021-04-01T18:35:26.112146Z",
     "iopub.status.busy": "2021-04-01T18:35:26.111484Z",
     "iopub.status.idle": "2021-04-01T18:35:26.142912Z",
     "shell.execute_reply": "2021-04-01T18:35:26.143449Z"
    },
    "papermill": {
     "duration": 0.100355,
     "end_time": "2021-04-01T18:35:26.143632",
     "exception": false,
     "start_time": "2021-04-01T18:35:26.043277",
     "status": "completed"
    },
    "tags": []
   },
   "outputs": [
    {
     "data": {
      "text/html": [
       "<div>\n",
       "<style scoped>\n",
       "    .dataframe tbody tr th:only-of-type {\n",
       "        vertical-align: middle;\n",
       "    }\n",
       "\n",
       "    .dataframe tbody tr th {\n",
       "        vertical-align: top;\n",
       "    }\n",
       "\n",
       "    .dataframe thead th {\n",
       "        text-align: right;\n",
       "    }\n",
       "</style>\n",
       "<table border=\"1\" class=\"dataframe\">\n",
       "  <thead>\n",
       "    <tr style=\"text-align: right;\">\n",
       "      <th></th>\n",
       "      <th>gender</th>\n",
       "      <th>SeniorCitizen</th>\n",
       "      <th>Partner</th>\n",
       "      <th>Dependents</th>\n",
       "      <th>tenure</th>\n",
       "      <th>PhoneService</th>\n",
       "      <th>MultipleLines</th>\n",
       "      <th>InternetService</th>\n",
       "      <th>OnlineSecurity</th>\n",
       "      <th>OnlineBackup</th>\n",
       "      <th>DeviceProtection</th>\n",
       "      <th>TechSupport</th>\n",
       "      <th>StreamingTV</th>\n",
       "      <th>StreamingMovies</th>\n",
       "      <th>Contract</th>\n",
       "      <th>PaperlessBilling</th>\n",
       "      <th>PaymentMethod</th>\n",
       "      <th>MonthlyCharges</th>\n",
       "      <th>TotalCharges</th>\n",
       "      <th>Churn</th>\n",
       "    </tr>\n",
       "  </thead>\n",
       "  <tbody>\n",
       "    <tr>\n",
       "      <th>0</th>\n",
       "      <td>1</td>\n",
       "      <td>0</td>\n",
       "      <td>1</td>\n",
       "      <td>1</td>\n",
       "      <td>72</td>\n",
       "      <td>1</td>\n",
       "      <td>2</td>\n",
       "      <td>1</td>\n",
       "      <td>No internet service</td>\n",
       "      <td>No internet service</td>\n",
       "      <td>No internet service</td>\n",
       "      <td>No internet service</td>\n",
       "      <td>No internet service</td>\n",
       "      <td>No internet service</td>\n",
       "      <td>Two year</td>\n",
       "      <td>0</td>\n",
       "      <td>Credit card (automatic)</td>\n",
       "      <td>24.10</td>\n",
       "      <td>1734.65</td>\n",
       "      <td>0</td>\n",
       "    </tr>\n",
       "    <tr>\n",
       "      <th>1</th>\n",
       "      <td>0</td>\n",
       "      <td>0</td>\n",
       "      <td>0</td>\n",
       "      <td>0</td>\n",
       "      <td>44</td>\n",
       "      <td>1</td>\n",
       "      <td>0</td>\n",
       "      <td>0</td>\n",
       "      <td>No</td>\n",
       "      <td>Yes</td>\n",
       "      <td>Yes</td>\n",
       "      <td>No</td>\n",
       "      <td>Yes</td>\n",
       "      <td>No</td>\n",
       "      <td>Month-to-month</td>\n",
       "      <td>1</td>\n",
       "      <td>Credit card (automatic)</td>\n",
       "      <td>88.15</td>\n",
       "      <td>3973.2</td>\n",
       "      <td>0</td>\n",
       "    </tr>\n",
       "    <tr>\n",
       "      <th>2</th>\n",
       "      <td>0</td>\n",
       "      <td>1</td>\n",
       "      <td>1</td>\n",
       "      <td>0</td>\n",
       "      <td>38</td>\n",
       "      <td>1</td>\n",
       "      <td>2</td>\n",
       "      <td>0</td>\n",
       "      <td>No</td>\n",
       "      <td>No</td>\n",
       "      <td>No</td>\n",
       "      <td>No</td>\n",
       "      <td>No</td>\n",
       "      <td>No</td>\n",
       "      <td>Month-to-month</td>\n",
       "      <td>1</td>\n",
       "      <td>Bank transfer (automatic)</td>\n",
       "      <td>74.95</td>\n",
       "      <td>2869.85</td>\n",
       "      <td>1</td>\n",
       "    </tr>\n",
       "    <tr>\n",
       "      <th>3</th>\n",
       "      <td>1</td>\n",
       "      <td>0</td>\n",
       "      <td>0</td>\n",
       "      <td>0</td>\n",
       "      <td>4</td>\n",
       "      <td>1</td>\n",
       "      <td>0</td>\n",
       "      <td>0</td>\n",
       "      <td>No</td>\n",
       "      <td>No</td>\n",
       "      <td>No</td>\n",
       "      <td>No</td>\n",
       "      <td>No</td>\n",
       "      <td>Yes</td>\n",
       "      <td>Month-to-month</td>\n",
       "      <td>1</td>\n",
       "      <td>Electronic check</td>\n",
       "      <td>55.90</td>\n",
       "      <td>238.5</td>\n",
       "      <td>0</td>\n",
       "    </tr>\n",
       "    <tr>\n",
       "      <th>4</th>\n",
       "      <td>1</td>\n",
       "      <td>0</td>\n",
       "      <td>0</td>\n",
       "      <td>0</td>\n",
       "      <td>2</td>\n",
       "      <td>1</td>\n",
       "      <td>0</td>\n",
       "      <td>0</td>\n",
       "      <td>Yes</td>\n",
       "      <td>No</td>\n",
       "      <td>Yes</td>\n",
       "      <td>No</td>\n",
       "      <td>No</td>\n",
       "      <td>No</td>\n",
       "      <td>Month-to-month</td>\n",
       "      <td>0</td>\n",
       "      <td>Electronic check</td>\n",
       "      <td>53.45</td>\n",
       "      <td>119.5</td>\n",
       "      <td>0</td>\n",
       "    </tr>\n",
       "    <tr>\n",
       "      <th>...</th>\n",
       "      <td>...</td>\n",
       "      <td>...</td>\n",
       "      <td>...</td>\n",
       "      <td>...</td>\n",
       "      <td>...</td>\n",
       "      <td>...</td>\n",
       "      <td>...</td>\n",
       "      <td>...</td>\n",
       "      <td>...</td>\n",
       "      <td>...</td>\n",
       "      <td>...</td>\n",
       "      <td>...</td>\n",
       "      <td>...</td>\n",
       "      <td>...</td>\n",
       "      <td>...</td>\n",
       "      <td>...</td>\n",
       "      <td>...</td>\n",
       "      <td>...</td>\n",
       "      <td>...</td>\n",
       "      <td>...</td>\n",
       "    </tr>\n",
       "    <tr>\n",
       "      <th>5981</th>\n",
       "      <td>1</td>\n",
       "      <td>0</td>\n",
       "      <td>1</td>\n",
       "      <td>0</td>\n",
       "      <td>1</td>\n",
       "      <td>1</td>\n",
       "      <td>0</td>\n",
       "      <td>0</td>\n",
       "      <td>Yes</td>\n",
       "      <td>No</td>\n",
       "      <td>No</td>\n",
       "      <td>No</td>\n",
       "      <td>Yes</td>\n",
       "      <td>Yes</td>\n",
       "      <td>Month-to-month</td>\n",
       "      <td>1</td>\n",
       "      <td>Electronic check</td>\n",
       "      <td>95.00</td>\n",
       "      <td>95</td>\n",
       "      <td>1</td>\n",
       "    </tr>\n",
       "    <tr>\n",
       "      <th>5982</th>\n",
       "      <td>0</td>\n",
       "      <td>0</td>\n",
       "      <td>1</td>\n",
       "      <td>1</td>\n",
       "      <td>23</td>\n",
       "      <td>1</td>\n",
       "      <td>2</td>\n",
       "      <td>0</td>\n",
       "      <td>Yes</td>\n",
       "      <td>Yes</td>\n",
       "      <td>Yes</td>\n",
       "      <td>Yes</td>\n",
       "      <td>Yes</td>\n",
       "      <td>Yes</td>\n",
       "      <td>Two year</td>\n",
       "      <td>1</td>\n",
       "      <td>Credit card (automatic)</td>\n",
       "      <td>91.10</td>\n",
       "      <td>2198.3</td>\n",
       "      <td>0</td>\n",
       "    </tr>\n",
       "    <tr>\n",
       "      <th>5983</th>\n",
       "      <td>1</td>\n",
       "      <td>0</td>\n",
       "      <td>1</td>\n",
       "      <td>1</td>\n",
       "      <td>12</td>\n",
       "      <td>1</td>\n",
       "      <td>0</td>\n",
       "      <td>1</td>\n",
       "      <td>No internet service</td>\n",
       "      <td>No internet service</td>\n",
       "      <td>No internet service</td>\n",
       "      <td>No internet service</td>\n",
       "      <td>No internet service</td>\n",
       "      <td>No internet service</td>\n",
       "      <td>Month-to-month</td>\n",
       "      <td>1</td>\n",
       "      <td>Electronic check</td>\n",
       "      <td>21.15</td>\n",
       "      <td>306.05</td>\n",
       "      <td>0</td>\n",
       "    </tr>\n",
       "    <tr>\n",
       "      <th>5984</th>\n",
       "      <td>1</td>\n",
       "      <td>1</td>\n",
       "      <td>0</td>\n",
       "      <td>0</td>\n",
       "      <td>12</td>\n",
       "      <td>1</td>\n",
       "      <td>2</td>\n",
       "      <td>0</td>\n",
       "      <td>No</td>\n",
       "      <td>No</td>\n",
       "      <td>Yes</td>\n",
       "      <td>No</td>\n",
       "      <td>Yes</td>\n",
       "      <td>Yes</td>\n",
       "      <td>Month-to-month</td>\n",
       "      <td>1</td>\n",
       "      <td>Electronic check</td>\n",
       "      <td>99.45</td>\n",
       "      <td>1200.15</td>\n",
       "      <td>1</td>\n",
       "    </tr>\n",
       "    <tr>\n",
       "      <th>5985</th>\n",
       "      <td>1</td>\n",
       "      <td>0</td>\n",
       "      <td>0</td>\n",
       "      <td>0</td>\n",
       "      <td>26</td>\n",
       "      <td>1</td>\n",
       "      <td>0</td>\n",
       "      <td>1</td>\n",
       "      <td>No internet service</td>\n",
       "      <td>No internet service</td>\n",
       "      <td>No internet service</td>\n",
       "      <td>No internet service</td>\n",
       "      <td>No internet service</td>\n",
       "      <td>No internet service</td>\n",
       "      <td>One year</td>\n",
       "      <td>0</td>\n",
       "      <td>Credit card (automatic)</td>\n",
       "      <td>19.80</td>\n",
       "      <td>457.3</td>\n",
       "      <td>0</td>\n",
       "    </tr>\n",
       "  </tbody>\n",
       "</table>\n",
       "<p>5986 rows × 20 columns</p>\n",
       "</div>"
      ],
      "text/plain": [
       "      gender  SeniorCitizen  Partner  Dependents  tenure  PhoneService  \\\n",
       "0          1              0        1           1      72             1   \n",
       "1          0              0        0           0      44             1   \n",
       "2          0              1        1           0      38             1   \n",
       "3          1              0        0           0       4             1   \n",
       "4          1              0        0           0       2             1   \n",
       "...      ...            ...      ...         ...     ...           ...   \n",
       "5981       1              0        1           0       1             1   \n",
       "5982       0              0        1           1      23             1   \n",
       "5983       1              0        1           1      12             1   \n",
       "5984       1              1        0           0      12             1   \n",
       "5985       1              0        0           0      26             1   \n",
       "\n",
       "      MultipleLines  InternetService       OnlineSecurity  \\\n",
       "0                 2                1  No internet service   \n",
       "1                 0                0                   No   \n",
       "2                 2                0                   No   \n",
       "3                 0                0                   No   \n",
       "4                 0                0                  Yes   \n",
       "...             ...              ...                  ...   \n",
       "5981              0                0                  Yes   \n",
       "5982              2                0                  Yes   \n",
       "5983              0                1  No internet service   \n",
       "5984              2                0                   No   \n",
       "5985              0                1  No internet service   \n",
       "\n",
       "             OnlineBackup     DeviceProtection          TechSupport  \\\n",
       "0     No internet service  No internet service  No internet service   \n",
       "1                     Yes                  Yes                   No   \n",
       "2                      No                   No                   No   \n",
       "3                      No                   No                   No   \n",
       "4                      No                  Yes                   No   \n",
       "...                   ...                  ...                  ...   \n",
       "5981                   No                   No                   No   \n",
       "5982                  Yes                  Yes                  Yes   \n",
       "5983  No internet service  No internet service  No internet service   \n",
       "5984                   No                  Yes                   No   \n",
       "5985  No internet service  No internet service  No internet service   \n",
       "\n",
       "              StreamingTV      StreamingMovies        Contract  \\\n",
       "0     No internet service  No internet service        Two year   \n",
       "1                     Yes                   No  Month-to-month   \n",
       "2                      No                   No  Month-to-month   \n",
       "3                      No                  Yes  Month-to-month   \n",
       "4                      No                   No  Month-to-month   \n",
       "...                   ...                  ...             ...   \n",
       "5981                  Yes                  Yes  Month-to-month   \n",
       "5982                  Yes                  Yes        Two year   \n",
       "5983  No internet service  No internet service  Month-to-month   \n",
       "5984                  Yes                  Yes  Month-to-month   \n",
       "5985  No internet service  No internet service        One year   \n",
       "\n",
       "      PaperlessBilling              PaymentMethod  MonthlyCharges  \\\n",
       "0                    0    Credit card (automatic)           24.10   \n",
       "1                    1    Credit card (automatic)           88.15   \n",
       "2                    1  Bank transfer (automatic)           74.95   \n",
       "3                    1           Electronic check           55.90   \n",
       "4                    0           Electronic check           53.45   \n",
       "...                ...                        ...             ...   \n",
       "5981                 1           Electronic check           95.00   \n",
       "5982                 1    Credit card (automatic)           91.10   \n",
       "5983                 1           Electronic check           21.15   \n",
       "5984                 1           Electronic check           99.45   \n",
       "5985                 0    Credit card (automatic)           19.80   \n",
       "\n",
       "     TotalCharges  Churn  \n",
       "0         1734.65      0  \n",
       "1          3973.2      0  \n",
       "2         2869.85      1  \n",
       "3           238.5      0  \n",
       "4           119.5      0  \n",
       "...           ...    ...  \n",
       "5981           95      1  \n",
       "5982       2198.3      0  \n",
       "5983       306.05      0  \n",
       "5984      1200.15      1  \n",
       "5985        457.3      0  \n",
       "\n",
       "[5986 rows x 20 columns]"
      ]
     },
     "execution_count": 27,
     "metadata": {},
     "output_type": "execute_result"
    }
   ],
   "source": [
    "df"
   ]
  },
  {
   "cell_type": "markdown",
   "id": "theoretical-software",
   "metadata": {
    "papermill": {
     "duration": 0.064615,
     "end_time": "2021-04-01T18:35:26.274275",
     "exception": false,
     "start_time": "2021-04-01T18:35:26.209660",
     "status": "completed"
    },
    "tags": []
   },
   "source": [
    "#### Yes!! done, Next, remove 'No Internet service' values"
   ]
  },
  {
   "cell_type": "code",
   "execution_count": 28,
   "id": "bored-installation",
   "metadata": {
    "execution": {
     "iopub.execute_input": "2021-04-01T18:35:26.409797Z",
     "iopub.status.busy": "2021-04-01T18:35:26.409068Z",
     "iopub.status.idle": "2021-04-01T18:35:26.413668Z",
     "shell.execute_reply": "2021-04-01T18:35:26.413057Z"
    },
    "papermill": {
     "duration": 0.074743,
     "end_time": "2021-04-01T18:35:26.413817",
     "exception": false,
     "start_time": "2021-04-01T18:35:26.339074",
     "status": "completed"
    },
    "tags": []
   },
   "outputs": [
    {
     "data": {
      "text/plain": [
       "True"
      ]
     },
     "execution_count": 28,
     "metadata": {},
     "output_type": "execute_result"
    }
   ],
   "source": [
    "'h' in 'heello'"
   ]
  },
  {
   "cell_type": "code",
   "execution_count": 29,
   "id": "academic-tonight",
   "metadata": {
    "execution": {
     "iopub.execute_input": "2021-04-01T18:35:26.552309Z",
     "iopub.status.busy": "2021-04-01T18:35:26.551511Z",
     "iopub.status.idle": "2021-04-01T18:35:26.556366Z",
     "shell.execute_reply": "2021-04-01T18:35:26.555783Z"
    },
    "papermill": {
     "duration": 0.077137,
     "end_time": "2021-04-01T18:35:26.556509",
     "exception": false,
     "start_time": "2021-04-01T18:35:26.479372",
     "status": "completed"
    },
    "tags": []
   },
   "outputs": [
    {
     "data": {
      "text/plain": [
       "5981                    Yes\n",
       "5982                    Yes\n",
       "5983    No internet service\n",
       "5984                     No\n",
       "5985    No internet service\n",
       "Name: OnlineSecurity, dtype: object"
      ]
     },
     "execution_count": 29,
     "metadata": {},
     "output_type": "execute_result"
    }
   ],
   "source": [
    "df['OnlineSecurity'][-5:]"
   ]
  },
  {
   "cell_type": "code",
   "execution_count": 30,
   "id": "clear-convergence",
   "metadata": {
    "execution": {
     "iopub.execute_input": "2021-04-01T18:35:26.695511Z",
     "iopub.status.busy": "2021-04-01T18:35:26.694843Z",
     "iopub.status.idle": "2021-04-01T18:35:26.699167Z",
     "shell.execute_reply": "2021-04-01T18:35:26.699715Z"
    },
    "papermill": {
     "duration": 0.077379,
     "end_time": "2021-04-01T18:35:26.699909",
     "exception": false,
     "start_time": "2021-04-01T18:35:26.622530",
     "status": "completed"
    },
    "tags": []
   },
   "outputs": [
    {
     "data": {
      "text/plain": [
       "[1, 1, 0, 0, 0]"
      ]
     },
     "execution_count": 30,
     "metadata": {},
     "output_type": "execute_result"
    }
   ],
   "source": [
    "[0 if 'No' in x else 1 for x in df['OnlineSecurity']][-5:]"
   ]
  },
  {
   "cell_type": "markdown",
   "id": "greenhouse-niagara",
   "metadata": {
    "papermill": {
     "duration": 0.066152,
     "end_time": "2021-04-01T18:35:26.832612",
     "exception": false,
     "start_time": "2021-04-01T18:35:26.766460",
     "status": "completed"
    },
    "tags": []
   },
   "source": [
    "#### One-Hot Encoding"
   ]
  },
  {
   "cell_type": "code",
   "execution_count": 31,
   "id": "studied-dispatch",
   "metadata": {
    "execution": {
     "iopub.execute_input": "2021-04-01T18:35:27.003621Z",
     "iopub.status.busy": "2021-04-01T18:35:27.002888Z",
     "iopub.status.idle": "2021-04-01T18:35:27.006597Z",
     "shell.execute_reply": "2021-04-01T18:35:27.006016Z"
    },
    "papermill": {
     "duration": 0.107337,
     "end_time": "2021-04-01T18:35:27.006742",
     "exception": false,
     "start_time": "2021-04-01T18:35:26.899405",
     "status": "completed"
    },
    "tags": []
   },
   "outputs": [],
   "source": [
    "temp = ['OnlineSecurity','OnlineBackup','DeviceProtection','TechSupport','StreamingTV','StreamingMovies']\n",
    "for col in temp:\n",
    "    df[col] = [0 if 'No' in x else 1 for x in df[col]]"
   ]
  },
  {
   "cell_type": "code",
   "execution_count": 32,
   "id": "known-spending",
   "metadata": {
    "execution": {
     "iopub.execute_input": "2021-04-01T18:35:27.163722Z",
     "iopub.status.busy": "2021-04-01T18:35:27.159679Z",
     "iopub.status.idle": "2021-04-01T18:35:27.179109Z",
     "shell.execute_reply": "2021-04-01T18:35:27.178391Z"
    },
    "papermill": {
     "duration": 0.105377,
     "end_time": "2021-04-01T18:35:27.179280",
     "exception": false,
     "start_time": "2021-04-01T18:35:27.073903",
     "status": "completed"
    },
    "tags": []
   },
   "outputs": [
    {
     "data": {
      "text/html": [
       "<div>\n",
       "<style scoped>\n",
       "    .dataframe tbody tr th:only-of-type {\n",
       "        vertical-align: middle;\n",
       "    }\n",
       "\n",
       "    .dataframe tbody tr th {\n",
       "        vertical-align: top;\n",
       "    }\n",
       "\n",
       "    .dataframe thead th {\n",
       "        text-align: right;\n",
       "    }\n",
       "</style>\n",
       "<table border=\"1\" class=\"dataframe\">\n",
       "  <thead>\n",
       "    <tr style=\"text-align: right;\">\n",
       "      <th></th>\n",
       "      <th>gender</th>\n",
       "      <th>SeniorCitizen</th>\n",
       "      <th>Partner</th>\n",
       "      <th>Dependents</th>\n",
       "      <th>tenure</th>\n",
       "      <th>PhoneService</th>\n",
       "      <th>MultipleLines</th>\n",
       "      <th>InternetService</th>\n",
       "      <th>OnlineSecurity</th>\n",
       "      <th>OnlineBackup</th>\n",
       "      <th>DeviceProtection</th>\n",
       "      <th>TechSupport</th>\n",
       "      <th>StreamingTV</th>\n",
       "      <th>StreamingMovies</th>\n",
       "      <th>Contract</th>\n",
       "      <th>PaperlessBilling</th>\n",
       "      <th>PaymentMethod</th>\n",
       "      <th>MonthlyCharges</th>\n",
       "      <th>TotalCharges</th>\n",
       "      <th>Churn</th>\n",
       "    </tr>\n",
       "  </thead>\n",
       "  <tbody>\n",
       "    <tr>\n",
       "      <th>0</th>\n",
       "      <td>1</td>\n",
       "      <td>0</td>\n",
       "      <td>1</td>\n",
       "      <td>1</td>\n",
       "      <td>72</td>\n",
       "      <td>1</td>\n",
       "      <td>2</td>\n",
       "      <td>1</td>\n",
       "      <td>0</td>\n",
       "      <td>0</td>\n",
       "      <td>0</td>\n",
       "      <td>0</td>\n",
       "      <td>0</td>\n",
       "      <td>0</td>\n",
       "      <td>Two year</td>\n",
       "      <td>0</td>\n",
       "      <td>Credit card (automatic)</td>\n",
       "      <td>24.10</td>\n",
       "      <td>1734.65</td>\n",
       "      <td>0</td>\n",
       "    </tr>\n",
       "    <tr>\n",
       "      <th>1</th>\n",
       "      <td>0</td>\n",
       "      <td>0</td>\n",
       "      <td>0</td>\n",
       "      <td>0</td>\n",
       "      <td>44</td>\n",
       "      <td>1</td>\n",
       "      <td>0</td>\n",
       "      <td>0</td>\n",
       "      <td>0</td>\n",
       "      <td>1</td>\n",
       "      <td>1</td>\n",
       "      <td>0</td>\n",
       "      <td>1</td>\n",
       "      <td>0</td>\n",
       "      <td>Month-to-month</td>\n",
       "      <td>1</td>\n",
       "      <td>Credit card (automatic)</td>\n",
       "      <td>88.15</td>\n",
       "      <td>3973.2</td>\n",
       "      <td>0</td>\n",
       "    </tr>\n",
       "    <tr>\n",
       "      <th>2</th>\n",
       "      <td>0</td>\n",
       "      <td>1</td>\n",
       "      <td>1</td>\n",
       "      <td>0</td>\n",
       "      <td>38</td>\n",
       "      <td>1</td>\n",
       "      <td>2</td>\n",
       "      <td>0</td>\n",
       "      <td>0</td>\n",
       "      <td>0</td>\n",
       "      <td>0</td>\n",
       "      <td>0</td>\n",
       "      <td>0</td>\n",
       "      <td>0</td>\n",
       "      <td>Month-to-month</td>\n",
       "      <td>1</td>\n",
       "      <td>Bank transfer (automatic)</td>\n",
       "      <td>74.95</td>\n",
       "      <td>2869.85</td>\n",
       "      <td>1</td>\n",
       "    </tr>\n",
       "    <tr>\n",
       "      <th>3</th>\n",
       "      <td>1</td>\n",
       "      <td>0</td>\n",
       "      <td>0</td>\n",
       "      <td>0</td>\n",
       "      <td>4</td>\n",
       "      <td>1</td>\n",
       "      <td>0</td>\n",
       "      <td>0</td>\n",
       "      <td>0</td>\n",
       "      <td>0</td>\n",
       "      <td>0</td>\n",
       "      <td>0</td>\n",
       "      <td>0</td>\n",
       "      <td>1</td>\n",
       "      <td>Month-to-month</td>\n",
       "      <td>1</td>\n",
       "      <td>Electronic check</td>\n",
       "      <td>55.90</td>\n",
       "      <td>238.5</td>\n",
       "      <td>0</td>\n",
       "    </tr>\n",
       "    <tr>\n",
       "      <th>4</th>\n",
       "      <td>1</td>\n",
       "      <td>0</td>\n",
       "      <td>0</td>\n",
       "      <td>0</td>\n",
       "      <td>2</td>\n",
       "      <td>1</td>\n",
       "      <td>0</td>\n",
       "      <td>0</td>\n",
       "      <td>1</td>\n",
       "      <td>0</td>\n",
       "      <td>1</td>\n",
       "      <td>0</td>\n",
       "      <td>0</td>\n",
       "      <td>0</td>\n",
       "      <td>Month-to-month</td>\n",
       "      <td>0</td>\n",
       "      <td>Electronic check</td>\n",
       "      <td>53.45</td>\n",
       "      <td>119.5</td>\n",
       "      <td>0</td>\n",
       "    </tr>\n",
       "    <tr>\n",
       "      <th>...</th>\n",
       "      <td>...</td>\n",
       "      <td>...</td>\n",
       "      <td>...</td>\n",
       "      <td>...</td>\n",
       "      <td>...</td>\n",
       "      <td>...</td>\n",
       "      <td>...</td>\n",
       "      <td>...</td>\n",
       "      <td>...</td>\n",
       "      <td>...</td>\n",
       "      <td>...</td>\n",
       "      <td>...</td>\n",
       "      <td>...</td>\n",
       "      <td>...</td>\n",
       "      <td>...</td>\n",
       "      <td>...</td>\n",
       "      <td>...</td>\n",
       "      <td>...</td>\n",
       "      <td>...</td>\n",
       "      <td>...</td>\n",
       "    </tr>\n",
       "    <tr>\n",
       "      <th>5981</th>\n",
       "      <td>1</td>\n",
       "      <td>0</td>\n",
       "      <td>1</td>\n",
       "      <td>0</td>\n",
       "      <td>1</td>\n",
       "      <td>1</td>\n",
       "      <td>0</td>\n",
       "      <td>0</td>\n",
       "      <td>1</td>\n",
       "      <td>0</td>\n",
       "      <td>0</td>\n",
       "      <td>0</td>\n",
       "      <td>1</td>\n",
       "      <td>1</td>\n",
       "      <td>Month-to-month</td>\n",
       "      <td>1</td>\n",
       "      <td>Electronic check</td>\n",
       "      <td>95.00</td>\n",
       "      <td>95</td>\n",
       "      <td>1</td>\n",
       "    </tr>\n",
       "    <tr>\n",
       "      <th>5982</th>\n",
       "      <td>0</td>\n",
       "      <td>0</td>\n",
       "      <td>1</td>\n",
       "      <td>1</td>\n",
       "      <td>23</td>\n",
       "      <td>1</td>\n",
       "      <td>2</td>\n",
       "      <td>0</td>\n",
       "      <td>1</td>\n",
       "      <td>1</td>\n",
       "      <td>1</td>\n",
       "      <td>1</td>\n",
       "      <td>1</td>\n",
       "      <td>1</td>\n",
       "      <td>Two year</td>\n",
       "      <td>1</td>\n",
       "      <td>Credit card (automatic)</td>\n",
       "      <td>91.10</td>\n",
       "      <td>2198.3</td>\n",
       "      <td>0</td>\n",
       "    </tr>\n",
       "    <tr>\n",
       "      <th>5983</th>\n",
       "      <td>1</td>\n",
       "      <td>0</td>\n",
       "      <td>1</td>\n",
       "      <td>1</td>\n",
       "      <td>12</td>\n",
       "      <td>1</td>\n",
       "      <td>0</td>\n",
       "      <td>1</td>\n",
       "      <td>0</td>\n",
       "      <td>0</td>\n",
       "      <td>0</td>\n",
       "      <td>0</td>\n",
       "      <td>0</td>\n",
       "      <td>0</td>\n",
       "      <td>Month-to-month</td>\n",
       "      <td>1</td>\n",
       "      <td>Electronic check</td>\n",
       "      <td>21.15</td>\n",
       "      <td>306.05</td>\n",
       "      <td>0</td>\n",
       "    </tr>\n",
       "    <tr>\n",
       "      <th>5984</th>\n",
       "      <td>1</td>\n",
       "      <td>1</td>\n",
       "      <td>0</td>\n",
       "      <td>0</td>\n",
       "      <td>12</td>\n",
       "      <td>1</td>\n",
       "      <td>2</td>\n",
       "      <td>0</td>\n",
       "      <td>0</td>\n",
       "      <td>0</td>\n",
       "      <td>1</td>\n",
       "      <td>0</td>\n",
       "      <td>1</td>\n",
       "      <td>1</td>\n",
       "      <td>Month-to-month</td>\n",
       "      <td>1</td>\n",
       "      <td>Electronic check</td>\n",
       "      <td>99.45</td>\n",
       "      <td>1200.15</td>\n",
       "      <td>1</td>\n",
       "    </tr>\n",
       "    <tr>\n",
       "      <th>5985</th>\n",
       "      <td>1</td>\n",
       "      <td>0</td>\n",
       "      <td>0</td>\n",
       "      <td>0</td>\n",
       "      <td>26</td>\n",
       "      <td>1</td>\n",
       "      <td>0</td>\n",
       "      <td>1</td>\n",
       "      <td>0</td>\n",
       "      <td>0</td>\n",
       "      <td>0</td>\n",
       "      <td>0</td>\n",
       "      <td>0</td>\n",
       "      <td>0</td>\n",
       "      <td>One year</td>\n",
       "      <td>0</td>\n",
       "      <td>Credit card (automatic)</td>\n",
       "      <td>19.80</td>\n",
       "      <td>457.3</td>\n",
       "      <td>0</td>\n",
       "    </tr>\n",
       "  </tbody>\n",
       "</table>\n",
       "<p>5986 rows × 20 columns</p>\n",
       "</div>"
      ],
      "text/plain": [
       "      gender  SeniorCitizen  Partner  Dependents  tenure  PhoneService  \\\n",
       "0          1              0        1           1      72             1   \n",
       "1          0              0        0           0      44             1   \n",
       "2          0              1        1           0      38             1   \n",
       "3          1              0        0           0       4             1   \n",
       "4          1              0        0           0       2             1   \n",
       "...      ...            ...      ...         ...     ...           ...   \n",
       "5981       1              0        1           0       1             1   \n",
       "5982       0              0        1           1      23             1   \n",
       "5983       1              0        1           1      12             1   \n",
       "5984       1              1        0           0      12             1   \n",
       "5985       1              0        0           0      26             1   \n",
       "\n",
       "      MultipleLines  InternetService  OnlineSecurity  OnlineBackup  \\\n",
       "0                 2                1               0             0   \n",
       "1                 0                0               0             1   \n",
       "2                 2                0               0             0   \n",
       "3                 0                0               0             0   \n",
       "4                 0                0               1             0   \n",
       "...             ...              ...             ...           ...   \n",
       "5981              0                0               1             0   \n",
       "5982              2                0               1             1   \n",
       "5983              0                1               0             0   \n",
       "5984              2                0               0             0   \n",
       "5985              0                1               0             0   \n",
       "\n",
       "      DeviceProtection  TechSupport  StreamingTV  StreamingMovies  \\\n",
       "0                    0            0            0                0   \n",
       "1                    1            0            1                0   \n",
       "2                    0            0            0                0   \n",
       "3                    0            0            0                1   \n",
       "4                    1            0            0                0   \n",
       "...                ...          ...          ...              ...   \n",
       "5981                 0            0            1                1   \n",
       "5982                 1            1            1                1   \n",
       "5983                 0            0            0                0   \n",
       "5984                 1            0            1                1   \n",
       "5985                 0            0            0                0   \n",
       "\n",
       "            Contract  PaperlessBilling              PaymentMethod  \\\n",
       "0           Two year                 0    Credit card (automatic)   \n",
       "1     Month-to-month                 1    Credit card (automatic)   \n",
       "2     Month-to-month                 1  Bank transfer (automatic)   \n",
       "3     Month-to-month                 1           Electronic check   \n",
       "4     Month-to-month                 0           Electronic check   \n",
       "...              ...               ...                        ...   \n",
       "5981  Month-to-month                 1           Electronic check   \n",
       "5982        Two year                 1    Credit card (automatic)   \n",
       "5983  Month-to-month                 1           Electronic check   \n",
       "5984  Month-to-month                 1           Electronic check   \n",
       "5985        One year                 0    Credit card (automatic)   \n",
       "\n",
       "      MonthlyCharges TotalCharges  Churn  \n",
       "0              24.10      1734.65      0  \n",
       "1              88.15       3973.2      0  \n",
       "2              74.95      2869.85      1  \n",
       "3              55.90        238.5      0  \n",
       "4              53.45        119.5      0  \n",
       "...              ...          ...    ...  \n",
       "5981           95.00           95      1  \n",
       "5982           91.10       2198.3      0  \n",
       "5983           21.15       306.05      0  \n",
       "5984           99.45      1200.15      1  \n",
       "5985           19.80        457.3      0  \n",
       "\n",
       "[5986 rows x 20 columns]"
      ]
     },
     "execution_count": 32,
     "metadata": {},
     "output_type": "execute_result"
    }
   ],
   "source": [
    "df"
   ]
  },
  {
   "cell_type": "code",
   "execution_count": 33,
   "id": "extra-moral",
   "metadata": {
    "execution": {
     "iopub.execute_input": "2021-04-01T18:35:27.329472Z",
     "iopub.status.busy": "2021-04-01T18:35:27.328379Z",
     "iopub.status.idle": "2021-04-01T18:35:27.343149Z",
     "shell.execute_reply": "2021-04-01T18:35:27.343925Z"
    },
    "papermill": {
     "duration": 0.093948,
     "end_time": "2021-04-01T18:35:27.344172",
     "exception": false,
     "start_time": "2021-04-01T18:35:27.250224",
     "status": "completed"
    },
    "tags": []
   },
   "outputs": [
    {
     "name": "stdout",
     "output_type": "stream",
     "text": [
      "<class 'pandas.core.frame.DataFrame'>\n",
      "RangeIndex: 5986 entries, 0 to 5985\n",
      "Data columns (total 20 columns):\n",
      " #   Column            Non-Null Count  Dtype  \n",
      "---  ------            --------------  -----  \n",
      " 0   gender            5986 non-null   int64  \n",
      " 1   SeniorCitizen     5986 non-null   int64  \n",
      " 2   Partner           5986 non-null   int64  \n",
      " 3   Dependents        5986 non-null   int64  \n",
      " 4   tenure            5986 non-null   int64  \n",
      " 5   PhoneService      5986 non-null   int64  \n",
      " 6   MultipleLines     5986 non-null   int64  \n",
      " 7   InternetService   5986 non-null   int64  \n",
      " 8   OnlineSecurity    5986 non-null   int64  \n",
      " 9   OnlineBackup      5986 non-null   int64  \n",
      " 10  DeviceProtection  5986 non-null   int64  \n",
      " 11  TechSupport       5986 non-null   int64  \n",
      " 12  StreamingTV       5986 non-null   int64  \n",
      " 13  StreamingMovies   5986 non-null   int64  \n",
      " 14  Contract          5986 non-null   object \n",
      " 15  PaperlessBilling  5986 non-null   int64  \n",
      " 16  PaymentMethod     5986 non-null   object \n",
      " 17  MonthlyCharges    5986 non-null   float64\n",
      " 18  TotalCharges      5986 non-null   object \n",
      " 19  Churn             5986 non-null   int64  \n",
      "dtypes: float64(1), int64(16), object(3)\n",
      "memory usage: 935.4+ KB\n"
     ]
    }
   ],
   "source": [
    "df.info()"
   ]
  },
  {
   "cell_type": "code",
   "execution_count": 34,
   "id": "together-queens",
   "metadata": {
    "execution": {
     "iopub.execute_input": "2021-04-01T18:35:27.486299Z",
     "iopub.status.busy": "2021-04-01T18:35:27.485624Z",
     "iopub.status.idle": "2021-04-01T18:35:27.574129Z",
     "shell.execute_reply": "2021-04-01T18:35:27.573556Z"
    },
    "papermill": {
     "duration": 0.161754,
     "end_time": "2021-04-01T18:35:27.574372",
     "exception": false,
     "start_time": "2021-04-01T18:35:27.412618",
     "status": "completed"
    },
    "tags": []
   },
   "outputs": [
    {
     "ename": "ValueError",
     "evalue": "could not convert string to float: ",
     "output_type": "error",
     "traceback": [
      "\u001b[0;31m---------------------------------------------------------------------------\u001b[0m",
      "\u001b[0;31mValueError\u001b[0m                                Traceback (most recent call last)",
      "\u001b[0;32m<ipython-input-34-82a54a961449>\u001b[0m in \u001b[0;36m<module>\u001b[0;34m\u001b[0m\n\u001b[0;32m----> 1\u001b[0;31m \u001b[0;34m[\u001b[0m\u001b[0mfloat\u001b[0m\u001b[0;34m(\u001b[0m\u001b[0mx\u001b[0m\u001b[0;34m)\u001b[0m \u001b[0;32mfor\u001b[0m \u001b[0mx\u001b[0m \u001b[0;32min\u001b[0m \u001b[0mdf\u001b[0m\u001b[0;34m.\u001b[0m\u001b[0mTotalCharges\u001b[0m\u001b[0;34m]\u001b[0m\u001b[0;34m\u001b[0m\u001b[0;34m\u001b[0m\u001b[0m\n\u001b[0m",
      "\u001b[0;32m<ipython-input-34-82a54a961449>\u001b[0m in \u001b[0;36m<listcomp>\u001b[0;34m(.0)\u001b[0m\n\u001b[0;32m----> 1\u001b[0;31m \u001b[0;34m[\u001b[0m\u001b[0mfloat\u001b[0m\u001b[0;34m(\u001b[0m\u001b[0mx\u001b[0m\u001b[0;34m)\u001b[0m \u001b[0;32mfor\u001b[0m \u001b[0mx\u001b[0m \u001b[0;32min\u001b[0m \u001b[0mdf\u001b[0m\u001b[0;34m.\u001b[0m\u001b[0mTotalCharges\u001b[0m\u001b[0;34m]\u001b[0m\u001b[0;34m\u001b[0m\u001b[0;34m\u001b[0m\u001b[0m\n\u001b[0m",
      "\u001b[0;31mValueError\u001b[0m: could not convert string to float: "
     ]
    }
   ],
   "source": [
    "[float(x) for x in df.TotalCharges]"
   ]
  },
  {
   "cell_type": "markdown",
   "id": "selected-stomach",
   "metadata": {
    "papermill": {
     "duration": 0.068741,
     "end_time": "2021-04-01T18:35:27.712388",
     "exception": false,
     "start_time": "2021-04-01T18:35:27.643647",
     "status": "completed"
    },
    "tags": []
   },
   "source": [
    "#### Something wrong! check the problem!"
   ]
  },
  {
   "cell_type": "code",
   "execution_count": 35,
   "id": "dramatic-pulse",
   "metadata": {
    "execution": {
     "iopub.execute_input": "2021-04-01T18:35:27.863815Z",
     "iopub.status.busy": "2021-04-01T18:35:27.863083Z",
     "iopub.status.idle": "2021-04-01T18:35:27.868165Z",
     "shell.execute_reply": "2021-04-01T18:35:27.868718Z"
    },
    "papermill": {
     "duration": 0.084146,
     "end_time": "2021-04-01T18:35:27.868893",
     "exception": false,
     "start_time": "2021-04-01T18:35:27.784747",
     "status": "completed"
    },
    "tags": []
   },
   "outputs": [
    {
     "name": "stdout",
     "output_type": "stream",
     "text": [
      "357\n",
      "635\n",
      "2772\n",
      "3087\n",
      "3256\n",
      "4327\n",
      "5376\n",
      "5383\n",
      "5696\n",
      "5952\n"
     ]
    }
   ],
   "source": [
    "count = 0\n",
    "for n in df.TotalCharges:\n",
    "    count += 1\n",
    "    try:\n",
    "        float(n)\n",
    "    except ValueError as e:\n",
    "        print(count)"
   ]
  },
  {
   "cell_type": "code",
   "execution_count": 36,
   "id": "muslim-blink",
   "metadata": {
    "execution": {
     "iopub.execute_input": "2021-04-01T18:35:28.015569Z",
     "iopub.status.busy": "2021-04-01T18:35:28.014441Z",
     "iopub.status.idle": "2021-04-01T18:35:28.019170Z",
     "shell.execute_reply": "2021-04-01T18:35:28.018589Z"
    },
    "papermill": {
     "duration": 0.080895,
     "end_time": "2021-04-01T18:35:28.019354",
     "exception": false,
     "start_time": "2021-04-01T18:35:27.938459",
     "status": "completed"
    },
    "tags": []
   },
   "outputs": [
    {
     "data": {
      "text/plain": [
       "' '"
      ]
     },
     "execution_count": 36,
     "metadata": {},
     "output_type": "execute_result"
    }
   ],
   "source": [
    "df.TotalCharges[356]"
   ]
  },
  {
   "cell_type": "markdown",
   "id": "attended-angel",
   "metadata": {
    "papermill": {
     "duration": 0.070858,
     "end_time": "2021-04-01T18:35:28.163763",
     "exception": false,
     "start_time": "2021-04-01T18:35:28.092905",
     "status": "completed"
    },
    "tags": []
   },
   "source": [
    "#### Find Null Values! Let's convert that to 0"
   ]
  },
  {
   "cell_type": "code",
   "execution_count": 37,
   "id": "specified-priority",
   "metadata": {
    "execution": {
     "iopub.execute_input": "2021-04-01T18:35:28.321126Z",
     "iopub.status.busy": "2021-04-01T18:35:28.320374Z",
     "iopub.status.idle": "2021-04-01T18:35:28.323279Z",
     "shell.execute_reply": "2021-04-01T18:35:28.323821Z"
    },
    "papermill": {
     "duration": 0.088343,
     "end_time": "2021-04-01T18:35:28.323998",
     "exception": false,
     "start_time": "2021-04-01T18:35:28.235655",
     "status": "completed"
    },
    "tags": []
   },
   "outputs": [
    {
     "name": "stderr",
     "output_type": "stream",
     "text": [
      "/opt/conda/lib/python3.7/site-packages/ipykernel_launcher.py:3: SettingWithCopyWarning: \n",
      "A value is trying to be set on a copy of a slice from a DataFrame\n",
      "\n",
      "See the caveats in the documentation: https://pandas.pydata.org/pandas-docs/stable/user_guide/indexing.html#returning-a-view-versus-a-copy\n",
      "  This is separate from the ipykernel package so we can avoid doing imports until\n"
     ]
    }
   ],
   "source": [
    "idx = [357, 635,2772, 3087,3256,4327,5376,5383,5696,5952]\n",
    "for i in idx:\n",
    "    df.TotalCharges[i-1] = 0"
   ]
  },
  {
   "cell_type": "code",
   "execution_count": 38,
   "id": "fifth-toyota",
   "metadata": {
    "execution": {
     "iopub.execute_input": "2021-04-01T18:35:28.473437Z",
     "iopub.status.busy": "2021-04-01T18:35:28.472702Z",
     "iopub.status.idle": "2021-04-01T18:35:28.478948Z",
     "shell.execute_reply": "2021-04-01T18:35:28.478356Z"
    },
    "papermill": {
     "duration": 0.082973,
     "end_time": "2021-04-01T18:35:28.479102",
     "exception": false,
     "start_time": "2021-04-01T18:35:28.396129",
     "status": "completed"
    },
    "tags": []
   },
   "outputs": [
    {
     "data": {
      "text/plain": [
       "0"
      ]
     },
     "execution_count": 38,
     "metadata": {},
     "output_type": "execute_result"
    }
   ],
   "source": [
    "df.TotalCharges[356]"
   ]
  },
  {
   "cell_type": "code",
   "execution_count": 39,
   "id": "employed-steering",
   "metadata": {
    "execution": {
     "iopub.execute_input": "2021-04-01T18:35:28.632523Z",
     "iopub.status.busy": "2021-04-01T18:35:28.631821Z",
     "iopub.status.idle": "2021-04-01T18:35:28.635010Z",
     "shell.execute_reply": "2021-04-01T18:35:28.634491Z"
    },
    "papermill": {
     "duration": 0.084169,
     "end_time": "2021-04-01T18:35:28.635163",
     "exception": false,
     "start_time": "2021-04-01T18:35:28.550994",
     "status": "completed"
    },
    "tags": []
   },
   "outputs": [],
   "source": [
    "df.TotalCharges = [float(x) for x in df.TotalCharges]"
   ]
  },
  {
   "cell_type": "code",
   "execution_count": 40,
   "id": "regulated-midnight",
   "metadata": {
    "execution": {
     "iopub.execute_input": "2021-04-01T18:35:28.780160Z",
     "iopub.status.busy": "2021-04-01T18:35:28.779477Z",
     "iopub.status.idle": "2021-04-01T18:35:28.798101Z",
     "shell.execute_reply": "2021-04-01T18:35:28.798705Z"
    },
    "papermill": {
     "duration": 0.093114,
     "end_time": "2021-04-01T18:35:28.798885",
     "exception": false,
     "start_time": "2021-04-01T18:35:28.705771",
     "status": "completed"
    },
    "tags": []
   },
   "outputs": [
    {
     "name": "stdout",
     "output_type": "stream",
     "text": [
      "<class 'pandas.core.frame.DataFrame'>\n",
      "RangeIndex: 5986 entries, 0 to 5985\n",
      "Data columns (total 20 columns):\n",
      " #   Column            Non-Null Count  Dtype  \n",
      "---  ------            --------------  -----  \n",
      " 0   gender            5986 non-null   int64  \n",
      " 1   SeniorCitizen     5986 non-null   int64  \n",
      " 2   Partner           5986 non-null   int64  \n",
      " 3   Dependents        5986 non-null   int64  \n",
      " 4   tenure            5986 non-null   int64  \n",
      " 5   PhoneService      5986 non-null   int64  \n",
      " 6   MultipleLines     5986 non-null   int64  \n",
      " 7   InternetService   5986 non-null   int64  \n",
      " 8   OnlineSecurity    5986 non-null   int64  \n",
      " 9   OnlineBackup      5986 non-null   int64  \n",
      " 10  DeviceProtection  5986 non-null   int64  \n",
      " 11  TechSupport       5986 non-null   int64  \n",
      " 12  StreamingTV       5986 non-null   int64  \n",
      " 13  StreamingMovies   5986 non-null   int64  \n",
      " 14  Contract          5986 non-null   object \n",
      " 15  PaperlessBilling  5986 non-null   int64  \n",
      " 16  PaymentMethod     5986 non-null   object \n",
      " 17  MonthlyCharges    5986 non-null   float64\n",
      " 18  TotalCharges      5986 non-null   float64\n",
      " 19  Churn             5986 non-null   int64  \n",
      "dtypes: float64(2), int64(16), object(2)\n",
      "memory usage: 935.4+ KB\n"
     ]
    }
   ],
   "source": [
    "df.info()"
   ]
  },
  {
   "cell_type": "markdown",
   "id": "fresh-portuguese",
   "metadata": {
    "papermill": {
     "duration": 0.071405,
     "end_time": "2021-04-01T18:35:28.944781",
     "exception": false,
     "start_time": "2021-04-01T18:35:28.873376",
     "status": "completed"
    },
    "tags": []
   },
   "source": [
    "#### and object columns remained are ['Contract','PaymentMethod']|"
   ]
  },
  {
   "cell_type": "markdown",
   "id": "incomplete-sydney",
   "metadata": {
    "papermill": {
     "duration": 0.07056,
     "end_time": "2021-04-01T18:35:29.086933",
     "exception": false,
     "start_time": "2021-04-01T18:35:29.016373",
     "status": "completed"
    },
    "tags": []
   },
   "source": [
    "### Let's EDA"
   ]
  },
  {
   "cell_type": "code",
   "execution_count": 41,
   "id": "irish-delivery",
   "metadata": {
    "execution": {
     "iopub.execute_input": "2021-04-01T18:35:29.236258Z",
     "iopub.status.busy": "2021-04-01T18:35:29.235329Z",
     "iopub.status.idle": "2021-04-01T18:35:29.242709Z",
     "shell.execute_reply": "2021-04-01T18:35:29.242116Z"
    },
    "papermill": {
     "duration": 0.084733,
     "end_time": "2021-04-01T18:35:29.242867",
     "exception": false,
     "start_time": "2021-04-01T18:35:29.158134",
     "status": "completed"
    },
    "tags": []
   },
   "outputs": [
    {
     "data": {
      "text/plain": [
       "array(['Two year', 'Month-to-month', 'One year'], dtype=object)"
      ]
     },
     "execution_count": 41,
     "metadata": {},
     "output_type": "execute_result"
    }
   ],
   "source": [
    "df.Contract.unique()"
   ]
  },
  {
   "cell_type": "code",
   "execution_count": 42,
   "id": "capital-obligation",
   "metadata": {
    "execution": {
     "iopub.execute_input": "2021-04-01T18:35:29.392654Z",
     "iopub.status.busy": "2021-04-01T18:35:29.391535Z",
     "iopub.status.idle": "2021-04-01T18:35:29.396578Z",
     "shell.execute_reply": "2021-04-01T18:35:29.395891Z"
    },
    "papermill": {
     "duration": 0.082426,
     "end_time": "2021-04-01T18:35:29.396732",
     "exception": false,
     "start_time": "2021-04-01T18:35:29.314306",
     "status": "completed"
    },
    "tags": []
   },
   "outputs": [
    {
     "data": {
      "text/plain": [
       "array(['Credit card (automatic)', 'Bank transfer (automatic)',\n",
       "       'Electronic check', 'Mailed check'], dtype=object)"
      ]
     },
     "execution_count": 42,
     "metadata": {},
     "output_type": "execute_result"
    }
   ],
   "source": [
    "df.PaymentMethod.unique()"
   ]
  },
  {
   "cell_type": "markdown",
   "id": "violent-scanning",
   "metadata": {
    "papermill": {
     "duration": 0.072754,
     "end_time": "2021-04-01T18:35:29.542377",
     "exception": false,
     "start_time": "2021-04-01T18:35:29.469623",
     "status": "completed"
    },
    "tags": []
   },
   "source": [
    "#### I Think that's two columns are features, Let's convert them to dummies"
   ]
  },
  {
   "cell_type": "code",
   "execution_count": 43,
   "id": "aggressive-robin",
   "metadata": {
    "execution": {
     "iopub.execute_input": "2021-04-01T18:35:29.694040Z",
     "iopub.status.busy": "2021-04-01T18:35:29.693364Z",
     "iopub.status.idle": "2021-04-01T18:35:29.707220Z",
     "shell.execute_reply": "2021-04-01T18:35:29.706632Z"
    },
    "papermill": {
     "duration": 0.09255,
     "end_time": "2021-04-01T18:35:29.707377",
     "exception": false,
     "start_time": "2021-04-01T18:35:29.614827",
     "status": "completed"
    },
    "tags": []
   },
   "outputs": [
    {
     "data": {
      "text/html": [
       "<div>\n",
       "<style scoped>\n",
       "    .dataframe tbody tr th:only-of-type {\n",
       "        vertical-align: middle;\n",
       "    }\n",
       "\n",
       "    .dataframe tbody tr th {\n",
       "        vertical-align: top;\n",
       "    }\n",
       "\n",
       "    .dataframe thead th {\n",
       "        text-align: right;\n",
       "    }\n",
       "</style>\n",
       "<table border=\"1\" class=\"dataframe\">\n",
       "  <thead>\n",
       "    <tr style=\"text-align: right;\">\n",
       "      <th></th>\n",
       "      <th>Month-to-month</th>\n",
       "      <th>One year</th>\n",
       "      <th>Two year</th>\n",
       "    </tr>\n",
       "  </thead>\n",
       "  <tbody>\n",
       "    <tr>\n",
       "      <th>0</th>\n",
       "      <td>0</td>\n",
       "      <td>0</td>\n",
       "      <td>1</td>\n",
       "    </tr>\n",
       "    <tr>\n",
       "      <th>1</th>\n",
       "      <td>1</td>\n",
       "      <td>0</td>\n",
       "      <td>0</td>\n",
       "    </tr>\n",
       "    <tr>\n",
       "      <th>2</th>\n",
       "      <td>1</td>\n",
       "      <td>0</td>\n",
       "      <td>0</td>\n",
       "    </tr>\n",
       "    <tr>\n",
       "      <th>3</th>\n",
       "      <td>1</td>\n",
       "      <td>0</td>\n",
       "      <td>0</td>\n",
       "    </tr>\n",
       "    <tr>\n",
       "      <th>4</th>\n",
       "      <td>1</td>\n",
       "      <td>0</td>\n",
       "      <td>0</td>\n",
       "    </tr>\n",
       "    <tr>\n",
       "      <th>...</th>\n",
       "      <td>...</td>\n",
       "      <td>...</td>\n",
       "      <td>...</td>\n",
       "    </tr>\n",
       "    <tr>\n",
       "      <th>5981</th>\n",
       "      <td>1</td>\n",
       "      <td>0</td>\n",
       "      <td>0</td>\n",
       "    </tr>\n",
       "    <tr>\n",
       "      <th>5982</th>\n",
       "      <td>0</td>\n",
       "      <td>0</td>\n",
       "      <td>1</td>\n",
       "    </tr>\n",
       "    <tr>\n",
       "      <th>5983</th>\n",
       "      <td>1</td>\n",
       "      <td>0</td>\n",
       "      <td>0</td>\n",
       "    </tr>\n",
       "    <tr>\n",
       "      <th>5984</th>\n",
       "      <td>1</td>\n",
       "      <td>0</td>\n",
       "      <td>0</td>\n",
       "    </tr>\n",
       "    <tr>\n",
       "      <th>5985</th>\n",
       "      <td>0</td>\n",
       "      <td>1</td>\n",
       "      <td>0</td>\n",
       "    </tr>\n",
       "  </tbody>\n",
       "</table>\n",
       "<p>5986 rows × 3 columns</p>\n",
       "</div>"
      ],
      "text/plain": [
       "      Month-to-month  One year  Two year\n",
       "0                  0         0         1\n",
       "1                  1         0         0\n",
       "2                  1         0         0\n",
       "3                  1         0         0\n",
       "4                  1         0         0\n",
       "...              ...       ...       ...\n",
       "5981               1         0         0\n",
       "5982               0         0         1\n",
       "5983               1         0         0\n",
       "5984               1         0         0\n",
       "5985               0         1         0\n",
       "\n",
       "[5986 rows x 3 columns]"
      ]
     },
     "execution_count": 43,
     "metadata": {},
     "output_type": "execute_result"
    }
   ],
   "source": [
    "pd.get_dummies(df.Contract)"
   ]
  },
  {
   "cell_type": "code",
   "execution_count": 44,
   "id": "casual-kernel",
   "metadata": {
    "execution": {
     "iopub.execute_input": "2021-04-01T18:35:29.866727Z",
     "iopub.status.busy": "2021-04-01T18:35:29.865979Z",
     "iopub.status.idle": "2021-04-01T18:35:29.871233Z",
     "shell.execute_reply": "2021-04-01T18:35:29.870426Z"
    },
    "papermill": {
     "duration": 0.090085,
     "end_time": "2021-04-01T18:35:29.871394",
     "exception": false,
     "start_time": "2021-04-01T18:35:29.781309",
     "status": "completed"
    },
    "tags": []
   },
   "outputs": [],
   "source": [
    "dummy_col1 = pd.get_dummies(df.Contract)"
   ]
  },
  {
   "cell_type": "code",
   "execution_count": 45,
   "id": "outstanding-contact",
   "metadata": {
    "execution": {
     "iopub.execute_input": "2021-04-01T18:35:30.024846Z",
     "iopub.status.busy": "2021-04-01T18:35:30.024150Z",
     "iopub.status.idle": "2021-04-01T18:35:30.039704Z",
     "shell.execute_reply": "2021-04-01T18:35:30.038940Z"
    },
    "papermill": {
     "duration": 0.093375,
     "end_time": "2021-04-01T18:35:30.039861",
     "exception": false,
     "start_time": "2021-04-01T18:35:29.946486",
     "status": "completed"
    },
    "tags": []
   },
   "outputs": [
    {
     "data": {
      "text/html": [
       "<div>\n",
       "<style scoped>\n",
       "    .dataframe tbody tr th:only-of-type {\n",
       "        vertical-align: middle;\n",
       "    }\n",
       "\n",
       "    .dataframe tbody tr th {\n",
       "        vertical-align: top;\n",
       "    }\n",
       "\n",
       "    .dataframe thead th {\n",
       "        text-align: right;\n",
       "    }\n",
       "</style>\n",
       "<table border=\"1\" class=\"dataframe\">\n",
       "  <thead>\n",
       "    <tr style=\"text-align: right;\">\n",
       "      <th></th>\n",
       "      <th>Bank transfer (automatic)</th>\n",
       "      <th>Credit card (automatic)</th>\n",
       "      <th>Electronic check</th>\n",
       "      <th>Mailed check</th>\n",
       "    </tr>\n",
       "  </thead>\n",
       "  <tbody>\n",
       "    <tr>\n",
       "      <th>0</th>\n",
       "      <td>0</td>\n",
       "      <td>1</td>\n",
       "      <td>0</td>\n",
       "      <td>0</td>\n",
       "    </tr>\n",
       "    <tr>\n",
       "      <th>1</th>\n",
       "      <td>0</td>\n",
       "      <td>1</td>\n",
       "      <td>0</td>\n",
       "      <td>0</td>\n",
       "    </tr>\n",
       "    <tr>\n",
       "      <th>2</th>\n",
       "      <td>1</td>\n",
       "      <td>0</td>\n",
       "      <td>0</td>\n",
       "      <td>0</td>\n",
       "    </tr>\n",
       "    <tr>\n",
       "      <th>3</th>\n",
       "      <td>0</td>\n",
       "      <td>0</td>\n",
       "      <td>1</td>\n",
       "      <td>0</td>\n",
       "    </tr>\n",
       "    <tr>\n",
       "      <th>4</th>\n",
       "      <td>0</td>\n",
       "      <td>0</td>\n",
       "      <td>1</td>\n",
       "      <td>0</td>\n",
       "    </tr>\n",
       "    <tr>\n",
       "      <th>...</th>\n",
       "      <td>...</td>\n",
       "      <td>...</td>\n",
       "      <td>...</td>\n",
       "      <td>...</td>\n",
       "    </tr>\n",
       "    <tr>\n",
       "      <th>5981</th>\n",
       "      <td>0</td>\n",
       "      <td>0</td>\n",
       "      <td>1</td>\n",
       "      <td>0</td>\n",
       "    </tr>\n",
       "    <tr>\n",
       "      <th>5982</th>\n",
       "      <td>0</td>\n",
       "      <td>1</td>\n",
       "      <td>0</td>\n",
       "      <td>0</td>\n",
       "    </tr>\n",
       "    <tr>\n",
       "      <th>5983</th>\n",
       "      <td>0</td>\n",
       "      <td>0</td>\n",
       "      <td>1</td>\n",
       "      <td>0</td>\n",
       "    </tr>\n",
       "    <tr>\n",
       "      <th>5984</th>\n",
       "      <td>0</td>\n",
       "      <td>0</td>\n",
       "      <td>1</td>\n",
       "      <td>0</td>\n",
       "    </tr>\n",
       "    <tr>\n",
       "      <th>5985</th>\n",
       "      <td>0</td>\n",
       "      <td>1</td>\n",
       "      <td>0</td>\n",
       "      <td>0</td>\n",
       "    </tr>\n",
       "  </tbody>\n",
       "</table>\n",
       "<p>5986 rows × 4 columns</p>\n",
       "</div>"
      ],
      "text/plain": [
       "      Bank transfer (automatic)  Credit card (automatic)  Electronic check  \\\n",
       "0                             0                        1                 0   \n",
       "1                             0                        1                 0   \n",
       "2                             1                        0                 0   \n",
       "3                             0                        0                 1   \n",
       "4                             0                        0                 1   \n",
       "...                         ...                      ...               ...   \n",
       "5981                          0                        0                 1   \n",
       "5982                          0                        1                 0   \n",
       "5983                          0                        0                 1   \n",
       "5984                          0                        0                 1   \n",
       "5985                          0                        1                 0   \n",
       "\n",
       "      Mailed check  \n",
       "0                0  \n",
       "1                0  \n",
       "2                0  \n",
       "3                0  \n",
       "4                0  \n",
       "...            ...  \n",
       "5981             0  \n",
       "5982             0  \n",
       "5983             0  \n",
       "5984             0  \n",
       "5985             0  \n",
       "\n",
       "[5986 rows x 4 columns]"
      ]
     },
     "execution_count": 45,
     "metadata": {},
     "output_type": "execute_result"
    }
   ],
   "source": [
    "pd.get_dummies(df.PaymentMethod)"
   ]
  },
  {
   "cell_type": "code",
   "execution_count": 46,
   "id": "greatest-telescope",
   "metadata": {
    "execution": {
     "iopub.execute_input": "2021-04-01T18:35:30.193798Z",
     "iopub.status.busy": "2021-04-01T18:35:30.192847Z",
     "iopub.status.idle": "2021-04-01T18:35:30.197249Z",
     "shell.execute_reply": "2021-04-01T18:35:30.197823Z"
    },
    "papermill": {
     "duration": 0.083851,
     "end_time": "2021-04-01T18:35:30.197996",
     "exception": false,
     "start_time": "2021-04-01T18:35:30.114145",
     "status": "completed"
    },
    "tags": []
   },
   "outputs": [],
   "source": [
    "dummy_col2 = pd.get_dummies(df.PaymentMethod)"
   ]
  },
  {
   "cell_type": "code",
   "execution_count": 47,
   "id": "cheap-conspiracy",
   "metadata": {
    "execution": {
     "iopub.execute_input": "2021-04-01T18:35:30.353933Z",
     "iopub.status.busy": "2021-04-01T18:35:30.353228Z",
     "iopub.status.idle": "2021-04-01T18:35:30.386636Z",
     "shell.execute_reply": "2021-04-01T18:35:30.386040Z"
    },
    "papermill": {
     "duration": 0.112172,
     "end_time": "2021-04-01T18:35:30.386783",
     "exception": false,
     "start_time": "2021-04-01T18:35:30.274611",
     "status": "completed"
    },
    "tags": []
   },
   "outputs": [
    {
     "data": {
      "text/html": [
       "<div>\n",
       "<style scoped>\n",
       "    .dataframe tbody tr th:only-of-type {\n",
       "        vertical-align: middle;\n",
       "    }\n",
       "\n",
       "    .dataframe tbody tr th {\n",
       "        vertical-align: top;\n",
       "    }\n",
       "\n",
       "    .dataframe thead th {\n",
       "        text-align: right;\n",
       "    }\n",
       "</style>\n",
       "<table border=\"1\" class=\"dataframe\">\n",
       "  <thead>\n",
       "    <tr style=\"text-align: right;\">\n",
       "      <th></th>\n",
       "      <th>gender</th>\n",
       "      <th>SeniorCitizen</th>\n",
       "      <th>Partner</th>\n",
       "      <th>Dependents</th>\n",
       "      <th>tenure</th>\n",
       "      <th>PhoneService</th>\n",
       "      <th>MultipleLines</th>\n",
       "      <th>InternetService</th>\n",
       "      <th>OnlineSecurity</th>\n",
       "      <th>OnlineBackup</th>\n",
       "      <th>...</th>\n",
       "      <th>MonthlyCharges</th>\n",
       "      <th>TotalCharges</th>\n",
       "      <th>Churn</th>\n",
       "      <th>Month-to-month</th>\n",
       "      <th>One year</th>\n",
       "      <th>Two year</th>\n",
       "      <th>Bank transfer (automatic)</th>\n",
       "      <th>Credit card (automatic)</th>\n",
       "      <th>Electronic check</th>\n",
       "      <th>Mailed check</th>\n",
       "    </tr>\n",
       "  </thead>\n",
       "  <tbody>\n",
       "    <tr>\n",
       "      <th>0</th>\n",
       "      <td>1</td>\n",
       "      <td>0</td>\n",
       "      <td>1</td>\n",
       "      <td>1</td>\n",
       "      <td>72</td>\n",
       "      <td>1</td>\n",
       "      <td>2</td>\n",
       "      <td>1</td>\n",
       "      <td>0</td>\n",
       "      <td>0</td>\n",
       "      <td>...</td>\n",
       "      <td>24.10</td>\n",
       "      <td>1734.65</td>\n",
       "      <td>0</td>\n",
       "      <td>0</td>\n",
       "      <td>0</td>\n",
       "      <td>1</td>\n",
       "      <td>0</td>\n",
       "      <td>1</td>\n",
       "      <td>0</td>\n",
       "      <td>0</td>\n",
       "    </tr>\n",
       "    <tr>\n",
       "      <th>1</th>\n",
       "      <td>0</td>\n",
       "      <td>0</td>\n",
       "      <td>0</td>\n",
       "      <td>0</td>\n",
       "      <td>44</td>\n",
       "      <td>1</td>\n",
       "      <td>0</td>\n",
       "      <td>0</td>\n",
       "      <td>0</td>\n",
       "      <td>1</td>\n",
       "      <td>...</td>\n",
       "      <td>88.15</td>\n",
       "      <td>3973.20</td>\n",
       "      <td>0</td>\n",
       "      <td>1</td>\n",
       "      <td>0</td>\n",
       "      <td>0</td>\n",
       "      <td>0</td>\n",
       "      <td>1</td>\n",
       "      <td>0</td>\n",
       "      <td>0</td>\n",
       "    </tr>\n",
       "    <tr>\n",
       "      <th>2</th>\n",
       "      <td>0</td>\n",
       "      <td>1</td>\n",
       "      <td>1</td>\n",
       "      <td>0</td>\n",
       "      <td>38</td>\n",
       "      <td>1</td>\n",
       "      <td>2</td>\n",
       "      <td>0</td>\n",
       "      <td>0</td>\n",
       "      <td>0</td>\n",
       "      <td>...</td>\n",
       "      <td>74.95</td>\n",
       "      <td>2869.85</td>\n",
       "      <td>1</td>\n",
       "      <td>1</td>\n",
       "      <td>0</td>\n",
       "      <td>0</td>\n",
       "      <td>1</td>\n",
       "      <td>0</td>\n",
       "      <td>0</td>\n",
       "      <td>0</td>\n",
       "    </tr>\n",
       "    <tr>\n",
       "      <th>3</th>\n",
       "      <td>1</td>\n",
       "      <td>0</td>\n",
       "      <td>0</td>\n",
       "      <td>0</td>\n",
       "      <td>4</td>\n",
       "      <td>1</td>\n",
       "      <td>0</td>\n",
       "      <td>0</td>\n",
       "      <td>0</td>\n",
       "      <td>0</td>\n",
       "      <td>...</td>\n",
       "      <td>55.90</td>\n",
       "      <td>238.50</td>\n",
       "      <td>0</td>\n",
       "      <td>1</td>\n",
       "      <td>0</td>\n",
       "      <td>0</td>\n",
       "      <td>0</td>\n",
       "      <td>0</td>\n",
       "      <td>1</td>\n",
       "      <td>0</td>\n",
       "    </tr>\n",
       "    <tr>\n",
       "      <th>4</th>\n",
       "      <td>1</td>\n",
       "      <td>0</td>\n",
       "      <td>0</td>\n",
       "      <td>0</td>\n",
       "      <td>2</td>\n",
       "      <td>1</td>\n",
       "      <td>0</td>\n",
       "      <td>0</td>\n",
       "      <td>1</td>\n",
       "      <td>0</td>\n",
       "      <td>...</td>\n",
       "      <td>53.45</td>\n",
       "      <td>119.50</td>\n",
       "      <td>0</td>\n",
       "      <td>1</td>\n",
       "      <td>0</td>\n",
       "      <td>0</td>\n",
       "      <td>0</td>\n",
       "      <td>0</td>\n",
       "      <td>1</td>\n",
       "      <td>0</td>\n",
       "    </tr>\n",
       "    <tr>\n",
       "      <th>...</th>\n",
       "      <td>...</td>\n",
       "      <td>...</td>\n",
       "      <td>...</td>\n",
       "      <td>...</td>\n",
       "      <td>...</td>\n",
       "      <td>...</td>\n",
       "      <td>...</td>\n",
       "      <td>...</td>\n",
       "      <td>...</td>\n",
       "      <td>...</td>\n",
       "      <td>...</td>\n",
       "      <td>...</td>\n",
       "      <td>...</td>\n",
       "      <td>...</td>\n",
       "      <td>...</td>\n",
       "      <td>...</td>\n",
       "      <td>...</td>\n",
       "      <td>...</td>\n",
       "      <td>...</td>\n",
       "      <td>...</td>\n",
       "      <td>...</td>\n",
       "    </tr>\n",
       "    <tr>\n",
       "      <th>5981</th>\n",
       "      <td>1</td>\n",
       "      <td>0</td>\n",
       "      <td>1</td>\n",
       "      <td>0</td>\n",
       "      <td>1</td>\n",
       "      <td>1</td>\n",
       "      <td>0</td>\n",
       "      <td>0</td>\n",
       "      <td>1</td>\n",
       "      <td>0</td>\n",
       "      <td>...</td>\n",
       "      <td>95.00</td>\n",
       "      <td>95.00</td>\n",
       "      <td>1</td>\n",
       "      <td>1</td>\n",
       "      <td>0</td>\n",
       "      <td>0</td>\n",
       "      <td>0</td>\n",
       "      <td>0</td>\n",
       "      <td>1</td>\n",
       "      <td>0</td>\n",
       "    </tr>\n",
       "    <tr>\n",
       "      <th>5982</th>\n",
       "      <td>0</td>\n",
       "      <td>0</td>\n",
       "      <td>1</td>\n",
       "      <td>1</td>\n",
       "      <td>23</td>\n",
       "      <td>1</td>\n",
       "      <td>2</td>\n",
       "      <td>0</td>\n",
       "      <td>1</td>\n",
       "      <td>1</td>\n",
       "      <td>...</td>\n",
       "      <td>91.10</td>\n",
       "      <td>2198.30</td>\n",
       "      <td>0</td>\n",
       "      <td>0</td>\n",
       "      <td>0</td>\n",
       "      <td>1</td>\n",
       "      <td>0</td>\n",
       "      <td>1</td>\n",
       "      <td>0</td>\n",
       "      <td>0</td>\n",
       "    </tr>\n",
       "    <tr>\n",
       "      <th>5983</th>\n",
       "      <td>1</td>\n",
       "      <td>0</td>\n",
       "      <td>1</td>\n",
       "      <td>1</td>\n",
       "      <td>12</td>\n",
       "      <td>1</td>\n",
       "      <td>0</td>\n",
       "      <td>1</td>\n",
       "      <td>0</td>\n",
       "      <td>0</td>\n",
       "      <td>...</td>\n",
       "      <td>21.15</td>\n",
       "      <td>306.05</td>\n",
       "      <td>0</td>\n",
       "      <td>1</td>\n",
       "      <td>0</td>\n",
       "      <td>0</td>\n",
       "      <td>0</td>\n",
       "      <td>0</td>\n",
       "      <td>1</td>\n",
       "      <td>0</td>\n",
       "    </tr>\n",
       "    <tr>\n",
       "      <th>5984</th>\n",
       "      <td>1</td>\n",
       "      <td>1</td>\n",
       "      <td>0</td>\n",
       "      <td>0</td>\n",
       "      <td>12</td>\n",
       "      <td>1</td>\n",
       "      <td>2</td>\n",
       "      <td>0</td>\n",
       "      <td>0</td>\n",
       "      <td>0</td>\n",
       "      <td>...</td>\n",
       "      <td>99.45</td>\n",
       "      <td>1200.15</td>\n",
       "      <td>1</td>\n",
       "      <td>1</td>\n",
       "      <td>0</td>\n",
       "      <td>0</td>\n",
       "      <td>0</td>\n",
       "      <td>0</td>\n",
       "      <td>1</td>\n",
       "      <td>0</td>\n",
       "    </tr>\n",
       "    <tr>\n",
       "      <th>5985</th>\n",
       "      <td>1</td>\n",
       "      <td>0</td>\n",
       "      <td>0</td>\n",
       "      <td>0</td>\n",
       "      <td>26</td>\n",
       "      <td>1</td>\n",
       "      <td>0</td>\n",
       "      <td>1</td>\n",
       "      <td>0</td>\n",
       "      <td>0</td>\n",
       "      <td>...</td>\n",
       "      <td>19.80</td>\n",
       "      <td>457.30</td>\n",
       "      <td>0</td>\n",
       "      <td>0</td>\n",
       "      <td>1</td>\n",
       "      <td>0</td>\n",
       "      <td>0</td>\n",
       "      <td>1</td>\n",
       "      <td>0</td>\n",
       "      <td>0</td>\n",
       "    </tr>\n",
       "  </tbody>\n",
       "</table>\n",
       "<p>5986 rows × 27 columns</p>\n",
       "</div>"
      ],
      "text/plain": [
       "      gender  SeniorCitizen  Partner  Dependents  tenure  PhoneService  \\\n",
       "0          1              0        1           1      72             1   \n",
       "1          0              0        0           0      44             1   \n",
       "2          0              1        1           0      38             1   \n",
       "3          1              0        0           0       4             1   \n",
       "4          1              0        0           0       2             1   \n",
       "...      ...            ...      ...         ...     ...           ...   \n",
       "5981       1              0        1           0       1             1   \n",
       "5982       0              0        1           1      23             1   \n",
       "5983       1              0        1           1      12             1   \n",
       "5984       1              1        0           0      12             1   \n",
       "5985       1              0        0           0      26             1   \n",
       "\n",
       "      MultipleLines  InternetService  OnlineSecurity  OnlineBackup  ...  \\\n",
       "0                 2                1               0             0  ...   \n",
       "1                 0                0               0             1  ...   \n",
       "2                 2                0               0             0  ...   \n",
       "3                 0                0               0             0  ...   \n",
       "4                 0                0               1             0  ...   \n",
       "...             ...              ...             ...           ...  ...   \n",
       "5981              0                0               1             0  ...   \n",
       "5982              2                0               1             1  ...   \n",
       "5983              0                1               0             0  ...   \n",
       "5984              2                0               0             0  ...   \n",
       "5985              0                1               0             0  ...   \n",
       "\n",
       "      MonthlyCharges  TotalCharges  Churn  Month-to-month One year  Two year  \\\n",
       "0              24.10       1734.65      0               0        0         1   \n",
       "1              88.15       3973.20      0               1        0         0   \n",
       "2              74.95       2869.85      1               1        0         0   \n",
       "3              55.90        238.50      0               1        0         0   \n",
       "4              53.45        119.50      0               1        0         0   \n",
       "...              ...           ...    ...             ...      ...       ...   \n",
       "5981           95.00         95.00      1               1        0         0   \n",
       "5982           91.10       2198.30      0               0        0         1   \n",
       "5983           21.15        306.05      0               1        0         0   \n",
       "5984           99.45       1200.15      1               1        0         0   \n",
       "5985           19.80        457.30      0               0        1         0   \n",
       "\n",
       "     Bank transfer (automatic)  Credit card (automatic)  Electronic check  \\\n",
       "0                            0                        1                 0   \n",
       "1                            0                        1                 0   \n",
       "2                            1                        0                 0   \n",
       "3                            0                        0                 1   \n",
       "4                            0                        0                 1   \n",
       "...                        ...                      ...               ...   \n",
       "5981                         0                        0                 1   \n",
       "5982                         0                        1                 0   \n",
       "5983                         0                        0                 1   \n",
       "5984                         0                        0                 1   \n",
       "5985                         0                        1                 0   \n",
       "\n",
       "      Mailed check  \n",
       "0                0  \n",
       "1                0  \n",
       "2                0  \n",
       "3                0  \n",
       "4                0  \n",
       "...            ...  \n",
       "5981             0  \n",
       "5982             0  \n",
       "5983             0  \n",
       "5984             0  \n",
       "5985             0  \n",
       "\n",
       "[5986 rows x 27 columns]"
      ]
     },
     "execution_count": 47,
     "metadata": {},
     "output_type": "execute_result"
    }
   ],
   "source": [
    "pd.concat([df, dummy_col1, dummy_col2], axis=1)"
   ]
  },
  {
   "cell_type": "code",
   "execution_count": 48,
   "id": "headed-press",
   "metadata": {
    "execution": {
     "iopub.execute_input": "2021-04-01T18:35:30.544589Z",
     "iopub.status.busy": "2021-04-01T18:35:30.543819Z",
     "iopub.status.idle": "2021-04-01T18:35:30.547525Z",
     "shell.execute_reply": "2021-04-01T18:35:30.546799Z"
    },
    "papermill": {
     "duration": 0.086071,
     "end_time": "2021-04-01T18:35:30.547688",
     "exception": false,
     "start_time": "2021-04-01T18:35:30.461617",
     "status": "completed"
    },
    "tags": []
   },
   "outputs": [],
   "source": [
    "df = pd.concat([df, dummy_col1, dummy_col2], axis=1)"
   ]
  },
  {
   "cell_type": "code",
   "execution_count": 49,
   "id": "interesting-waters",
   "metadata": {
    "execution": {
     "iopub.execute_input": "2021-04-01T18:35:30.706853Z",
     "iopub.status.busy": "2021-04-01T18:35:30.706094Z",
     "iopub.status.idle": "2021-04-01T18:35:30.723425Z",
     "shell.execute_reply": "2021-04-01T18:35:30.722795Z"
    },
    "papermill": {
     "duration": 0.09978,
     "end_time": "2021-04-01T18:35:30.723585",
     "exception": false,
     "start_time": "2021-04-01T18:35:30.623805",
     "status": "completed"
    },
    "tags": []
   },
   "outputs": [
    {
     "name": "stdout",
     "output_type": "stream",
     "text": [
      "<class 'pandas.core.frame.DataFrame'>\n",
      "RangeIndex: 5986 entries, 0 to 5985\n",
      "Data columns (total 27 columns):\n",
      " #   Column                     Non-Null Count  Dtype  \n",
      "---  ------                     --------------  -----  \n",
      " 0   gender                     5986 non-null   int64  \n",
      " 1   SeniorCitizen              5986 non-null   int64  \n",
      " 2   Partner                    5986 non-null   int64  \n",
      " 3   Dependents                 5986 non-null   int64  \n",
      " 4   tenure                     5986 non-null   int64  \n",
      " 5   PhoneService               5986 non-null   int64  \n",
      " 6   MultipleLines              5986 non-null   int64  \n",
      " 7   InternetService            5986 non-null   int64  \n",
      " 8   OnlineSecurity             5986 non-null   int64  \n",
      " 9   OnlineBackup               5986 non-null   int64  \n",
      " 10  DeviceProtection           5986 non-null   int64  \n",
      " 11  TechSupport                5986 non-null   int64  \n",
      " 12  StreamingTV                5986 non-null   int64  \n",
      " 13  StreamingMovies            5986 non-null   int64  \n",
      " 14  Contract                   5986 non-null   object \n",
      " 15  PaperlessBilling           5986 non-null   int64  \n",
      " 16  PaymentMethod              5986 non-null   object \n",
      " 17  MonthlyCharges             5986 non-null   float64\n",
      " 18  TotalCharges               5986 non-null   float64\n",
      " 19  Churn                      5986 non-null   int64  \n",
      " 20  Month-to-month             5986 non-null   uint8  \n",
      " 21  One year                   5986 non-null   uint8  \n",
      " 22  Two year                   5986 non-null   uint8  \n",
      " 23  Bank transfer (automatic)  5986 non-null   uint8  \n",
      " 24  Credit card (automatic)    5986 non-null   uint8  \n",
      " 25  Electronic check           5986 non-null   uint8  \n",
      " 26  Mailed check               5986 non-null   uint8  \n",
      "dtypes: float64(2), int64(16), object(2), uint8(7)\n",
      "memory usage: 976.4+ KB\n"
     ]
    }
   ],
   "source": [
    "df.info()"
   ]
  },
  {
   "cell_type": "code",
   "execution_count": 50,
   "id": "improving-character",
   "metadata": {
    "execution": {
     "iopub.execute_input": "2021-04-01T18:35:30.884994Z",
     "iopub.status.busy": "2021-04-01T18:35:30.884124Z",
     "iopub.status.idle": "2021-04-01T18:35:30.901613Z",
     "shell.execute_reply": "2021-04-01T18:35:30.901005Z"
    },
    "papermill": {
     "duration": 0.099582,
     "end_time": "2021-04-01T18:35:30.901805",
     "exception": false,
     "start_time": "2021-04-01T18:35:30.802223",
     "status": "completed"
    },
    "tags": []
   },
   "outputs": [
    {
     "name": "stdout",
     "output_type": "stream",
     "text": [
      "<class 'pandas.core.frame.DataFrame'>\n",
      "RangeIndex: 5986 entries, 0 to 5985\n",
      "Data columns (total 25 columns):\n",
      " #   Column                     Non-Null Count  Dtype  \n",
      "---  ------                     --------------  -----  \n",
      " 0   gender                     5986 non-null   int64  \n",
      " 1   SeniorCitizen              5986 non-null   int64  \n",
      " 2   Partner                    5986 non-null   int64  \n",
      " 3   Dependents                 5986 non-null   int64  \n",
      " 4   tenure                     5986 non-null   int64  \n",
      " 5   PhoneService               5986 non-null   int64  \n",
      " 6   MultipleLines              5986 non-null   int64  \n",
      " 7   InternetService            5986 non-null   int64  \n",
      " 8   OnlineSecurity             5986 non-null   int64  \n",
      " 9   OnlineBackup               5986 non-null   int64  \n",
      " 10  DeviceProtection           5986 non-null   int64  \n",
      " 11  TechSupport                5986 non-null   int64  \n",
      " 12  StreamingTV                5986 non-null   int64  \n",
      " 13  StreamingMovies            5986 non-null   int64  \n",
      " 14  PaperlessBilling           5986 non-null   int64  \n",
      " 15  MonthlyCharges             5986 non-null   float64\n",
      " 16  TotalCharges               5986 non-null   float64\n",
      " 17  Churn                      5986 non-null   int64  \n",
      " 18  Month-to-month             5986 non-null   uint8  \n",
      " 19  One year                   5986 non-null   uint8  \n",
      " 20  Two year                   5986 non-null   uint8  \n",
      " 21  Bank transfer (automatic)  5986 non-null   uint8  \n",
      " 22  Credit card (automatic)    5986 non-null   uint8  \n",
      " 23  Electronic check           5986 non-null   uint8  \n",
      " 24  Mailed check               5986 non-null   uint8  \n",
      "dtypes: float64(2), int64(16), uint8(7)\n",
      "memory usage: 882.8 KB\n"
     ]
    }
   ],
   "source": [
    "df.drop(['Contract','PaymentMethod'], axis=1).info()"
   ]
  },
  {
   "cell_type": "code",
   "execution_count": 51,
   "id": "better-olive",
   "metadata": {
    "execution": {
     "iopub.execute_input": "2021-04-01T18:35:31.064453Z",
     "iopub.status.busy": "2021-04-01T18:35:31.063471Z",
     "iopub.status.idle": "2021-04-01T18:35:31.067654Z",
     "shell.execute_reply": "2021-04-01T18:35:31.067100Z"
    },
    "papermill": {
     "duration": 0.087728,
     "end_time": "2021-04-01T18:35:31.067827",
     "exception": false,
     "start_time": "2021-04-01T18:35:30.980099",
     "status": "completed"
    },
    "tags": []
   },
   "outputs": [],
   "source": [
    "df.drop(['Contract','PaymentMethod'], axis=1,inplace=True)"
   ]
  },
  {
   "cell_type": "code",
   "execution_count": 52,
   "id": "comic-wealth",
   "metadata": {
    "execution": {
     "iopub.execute_input": "2021-04-01T18:35:31.238296Z",
     "iopub.status.busy": "2021-04-01T18:35:31.227197Z",
     "iopub.status.idle": "2021-04-01T18:35:31.256362Z",
     "shell.execute_reply": "2021-04-01T18:35:31.255757Z"
    },
    "papermill": {
     "duration": 0.112303,
     "end_time": "2021-04-01T18:35:31.256522",
     "exception": false,
     "start_time": "2021-04-01T18:35:31.144219",
     "status": "completed"
    },
    "tags": []
   },
   "outputs": [
    {
     "data": {
      "text/html": [
       "<div>\n",
       "<style scoped>\n",
       "    .dataframe tbody tr th:only-of-type {\n",
       "        vertical-align: middle;\n",
       "    }\n",
       "\n",
       "    .dataframe tbody tr th {\n",
       "        vertical-align: top;\n",
       "    }\n",
       "\n",
       "    .dataframe thead th {\n",
       "        text-align: right;\n",
       "    }\n",
       "</style>\n",
       "<table border=\"1\" class=\"dataframe\">\n",
       "  <thead>\n",
       "    <tr style=\"text-align: right;\">\n",
       "      <th></th>\n",
       "      <th>gender</th>\n",
       "      <th>SeniorCitizen</th>\n",
       "      <th>Partner</th>\n",
       "      <th>Dependents</th>\n",
       "      <th>tenure</th>\n",
       "      <th>PhoneService</th>\n",
       "      <th>MultipleLines</th>\n",
       "      <th>InternetService</th>\n",
       "      <th>OnlineSecurity</th>\n",
       "      <th>OnlineBackup</th>\n",
       "      <th>...</th>\n",
       "      <th>MonthlyCharges</th>\n",
       "      <th>TotalCharges</th>\n",
       "      <th>Churn</th>\n",
       "      <th>Month-to-month</th>\n",
       "      <th>One year</th>\n",
       "      <th>Two year</th>\n",
       "      <th>Bank transfer (automatic)</th>\n",
       "      <th>Credit card (automatic)</th>\n",
       "      <th>Electronic check</th>\n",
       "      <th>Mailed check</th>\n",
       "    </tr>\n",
       "  </thead>\n",
       "  <tbody>\n",
       "    <tr>\n",
       "      <th>0</th>\n",
       "      <td>1</td>\n",
       "      <td>0</td>\n",
       "      <td>1</td>\n",
       "      <td>1</td>\n",
       "      <td>72</td>\n",
       "      <td>1</td>\n",
       "      <td>2</td>\n",
       "      <td>1</td>\n",
       "      <td>0</td>\n",
       "      <td>0</td>\n",
       "      <td>...</td>\n",
       "      <td>24.10</td>\n",
       "      <td>1734.65</td>\n",
       "      <td>0</td>\n",
       "      <td>0</td>\n",
       "      <td>0</td>\n",
       "      <td>1</td>\n",
       "      <td>0</td>\n",
       "      <td>1</td>\n",
       "      <td>0</td>\n",
       "      <td>0</td>\n",
       "    </tr>\n",
       "    <tr>\n",
       "      <th>1</th>\n",
       "      <td>0</td>\n",
       "      <td>0</td>\n",
       "      <td>0</td>\n",
       "      <td>0</td>\n",
       "      <td>44</td>\n",
       "      <td>1</td>\n",
       "      <td>0</td>\n",
       "      <td>0</td>\n",
       "      <td>0</td>\n",
       "      <td>1</td>\n",
       "      <td>...</td>\n",
       "      <td>88.15</td>\n",
       "      <td>3973.20</td>\n",
       "      <td>0</td>\n",
       "      <td>1</td>\n",
       "      <td>0</td>\n",
       "      <td>0</td>\n",
       "      <td>0</td>\n",
       "      <td>1</td>\n",
       "      <td>0</td>\n",
       "      <td>0</td>\n",
       "    </tr>\n",
       "    <tr>\n",
       "      <th>2</th>\n",
       "      <td>0</td>\n",
       "      <td>1</td>\n",
       "      <td>1</td>\n",
       "      <td>0</td>\n",
       "      <td>38</td>\n",
       "      <td>1</td>\n",
       "      <td>2</td>\n",
       "      <td>0</td>\n",
       "      <td>0</td>\n",
       "      <td>0</td>\n",
       "      <td>...</td>\n",
       "      <td>74.95</td>\n",
       "      <td>2869.85</td>\n",
       "      <td>1</td>\n",
       "      <td>1</td>\n",
       "      <td>0</td>\n",
       "      <td>0</td>\n",
       "      <td>1</td>\n",
       "      <td>0</td>\n",
       "      <td>0</td>\n",
       "      <td>0</td>\n",
       "    </tr>\n",
       "    <tr>\n",
       "      <th>3</th>\n",
       "      <td>1</td>\n",
       "      <td>0</td>\n",
       "      <td>0</td>\n",
       "      <td>0</td>\n",
       "      <td>4</td>\n",
       "      <td>1</td>\n",
       "      <td>0</td>\n",
       "      <td>0</td>\n",
       "      <td>0</td>\n",
       "      <td>0</td>\n",
       "      <td>...</td>\n",
       "      <td>55.90</td>\n",
       "      <td>238.50</td>\n",
       "      <td>0</td>\n",
       "      <td>1</td>\n",
       "      <td>0</td>\n",
       "      <td>0</td>\n",
       "      <td>0</td>\n",
       "      <td>0</td>\n",
       "      <td>1</td>\n",
       "      <td>0</td>\n",
       "    </tr>\n",
       "    <tr>\n",
       "      <th>4</th>\n",
       "      <td>1</td>\n",
       "      <td>0</td>\n",
       "      <td>0</td>\n",
       "      <td>0</td>\n",
       "      <td>2</td>\n",
       "      <td>1</td>\n",
       "      <td>0</td>\n",
       "      <td>0</td>\n",
       "      <td>1</td>\n",
       "      <td>0</td>\n",
       "      <td>...</td>\n",
       "      <td>53.45</td>\n",
       "      <td>119.50</td>\n",
       "      <td>0</td>\n",
       "      <td>1</td>\n",
       "      <td>0</td>\n",
       "      <td>0</td>\n",
       "      <td>0</td>\n",
       "      <td>0</td>\n",
       "      <td>1</td>\n",
       "      <td>0</td>\n",
       "    </tr>\n",
       "    <tr>\n",
       "      <th>...</th>\n",
       "      <td>...</td>\n",
       "      <td>...</td>\n",
       "      <td>...</td>\n",
       "      <td>...</td>\n",
       "      <td>...</td>\n",
       "      <td>...</td>\n",
       "      <td>...</td>\n",
       "      <td>...</td>\n",
       "      <td>...</td>\n",
       "      <td>...</td>\n",
       "      <td>...</td>\n",
       "      <td>...</td>\n",
       "      <td>...</td>\n",
       "      <td>...</td>\n",
       "      <td>...</td>\n",
       "      <td>...</td>\n",
       "      <td>...</td>\n",
       "      <td>...</td>\n",
       "      <td>...</td>\n",
       "      <td>...</td>\n",
       "      <td>...</td>\n",
       "    </tr>\n",
       "    <tr>\n",
       "      <th>5981</th>\n",
       "      <td>1</td>\n",
       "      <td>0</td>\n",
       "      <td>1</td>\n",
       "      <td>0</td>\n",
       "      <td>1</td>\n",
       "      <td>1</td>\n",
       "      <td>0</td>\n",
       "      <td>0</td>\n",
       "      <td>1</td>\n",
       "      <td>0</td>\n",
       "      <td>...</td>\n",
       "      <td>95.00</td>\n",
       "      <td>95.00</td>\n",
       "      <td>1</td>\n",
       "      <td>1</td>\n",
       "      <td>0</td>\n",
       "      <td>0</td>\n",
       "      <td>0</td>\n",
       "      <td>0</td>\n",
       "      <td>1</td>\n",
       "      <td>0</td>\n",
       "    </tr>\n",
       "    <tr>\n",
       "      <th>5982</th>\n",
       "      <td>0</td>\n",
       "      <td>0</td>\n",
       "      <td>1</td>\n",
       "      <td>1</td>\n",
       "      <td>23</td>\n",
       "      <td>1</td>\n",
       "      <td>2</td>\n",
       "      <td>0</td>\n",
       "      <td>1</td>\n",
       "      <td>1</td>\n",
       "      <td>...</td>\n",
       "      <td>91.10</td>\n",
       "      <td>2198.30</td>\n",
       "      <td>0</td>\n",
       "      <td>0</td>\n",
       "      <td>0</td>\n",
       "      <td>1</td>\n",
       "      <td>0</td>\n",
       "      <td>1</td>\n",
       "      <td>0</td>\n",
       "      <td>0</td>\n",
       "    </tr>\n",
       "    <tr>\n",
       "      <th>5983</th>\n",
       "      <td>1</td>\n",
       "      <td>0</td>\n",
       "      <td>1</td>\n",
       "      <td>1</td>\n",
       "      <td>12</td>\n",
       "      <td>1</td>\n",
       "      <td>0</td>\n",
       "      <td>1</td>\n",
       "      <td>0</td>\n",
       "      <td>0</td>\n",
       "      <td>...</td>\n",
       "      <td>21.15</td>\n",
       "      <td>306.05</td>\n",
       "      <td>0</td>\n",
       "      <td>1</td>\n",
       "      <td>0</td>\n",
       "      <td>0</td>\n",
       "      <td>0</td>\n",
       "      <td>0</td>\n",
       "      <td>1</td>\n",
       "      <td>0</td>\n",
       "    </tr>\n",
       "    <tr>\n",
       "      <th>5984</th>\n",
       "      <td>1</td>\n",
       "      <td>1</td>\n",
       "      <td>0</td>\n",
       "      <td>0</td>\n",
       "      <td>12</td>\n",
       "      <td>1</td>\n",
       "      <td>2</td>\n",
       "      <td>0</td>\n",
       "      <td>0</td>\n",
       "      <td>0</td>\n",
       "      <td>...</td>\n",
       "      <td>99.45</td>\n",
       "      <td>1200.15</td>\n",
       "      <td>1</td>\n",
       "      <td>1</td>\n",
       "      <td>0</td>\n",
       "      <td>0</td>\n",
       "      <td>0</td>\n",
       "      <td>0</td>\n",
       "      <td>1</td>\n",
       "      <td>0</td>\n",
       "    </tr>\n",
       "    <tr>\n",
       "      <th>5985</th>\n",
       "      <td>1</td>\n",
       "      <td>0</td>\n",
       "      <td>0</td>\n",
       "      <td>0</td>\n",
       "      <td>26</td>\n",
       "      <td>1</td>\n",
       "      <td>0</td>\n",
       "      <td>1</td>\n",
       "      <td>0</td>\n",
       "      <td>0</td>\n",
       "      <td>...</td>\n",
       "      <td>19.80</td>\n",
       "      <td>457.30</td>\n",
       "      <td>0</td>\n",
       "      <td>0</td>\n",
       "      <td>1</td>\n",
       "      <td>0</td>\n",
       "      <td>0</td>\n",
       "      <td>1</td>\n",
       "      <td>0</td>\n",
       "      <td>0</td>\n",
       "    </tr>\n",
       "  </tbody>\n",
       "</table>\n",
       "<p>5986 rows × 25 columns</p>\n",
       "</div>"
      ],
      "text/plain": [
       "      gender  SeniorCitizen  Partner  Dependents  tenure  PhoneService  \\\n",
       "0          1              0        1           1      72             1   \n",
       "1          0              0        0           0      44             1   \n",
       "2          0              1        1           0      38             1   \n",
       "3          1              0        0           0       4             1   \n",
       "4          1              0        0           0       2             1   \n",
       "...      ...            ...      ...         ...     ...           ...   \n",
       "5981       1              0        1           0       1             1   \n",
       "5982       0              0        1           1      23             1   \n",
       "5983       1              0        1           1      12             1   \n",
       "5984       1              1        0           0      12             1   \n",
       "5985       1              0        0           0      26             1   \n",
       "\n",
       "      MultipleLines  InternetService  OnlineSecurity  OnlineBackup  ...  \\\n",
       "0                 2                1               0             0  ...   \n",
       "1                 0                0               0             1  ...   \n",
       "2                 2                0               0             0  ...   \n",
       "3                 0                0               0             0  ...   \n",
       "4                 0                0               1             0  ...   \n",
       "...             ...              ...             ...           ...  ...   \n",
       "5981              0                0               1             0  ...   \n",
       "5982              2                0               1             1  ...   \n",
       "5983              0                1               0             0  ...   \n",
       "5984              2                0               0             0  ...   \n",
       "5985              0                1               0             0  ...   \n",
       "\n",
       "      MonthlyCharges  TotalCharges  Churn  Month-to-month  One year  Two year  \\\n",
       "0              24.10       1734.65      0               0         0         1   \n",
       "1              88.15       3973.20      0               1         0         0   \n",
       "2              74.95       2869.85      1               1         0         0   \n",
       "3              55.90        238.50      0               1         0         0   \n",
       "4              53.45        119.50      0               1         0         0   \n",
       "...              ...           ...    ...             ...       ...       ...   \n",
       "5981           95.00         95.00      1               1         0         0   \n",
       "5982           91.10       2198.30      0               0         0         1   \n",
       "5983           21.15        306.05      0               1         0         0   \n",
       "5984           99.45       1200.15      1               1         0         0   \n",
       "5985           19.80        457.30      0               0         1         0   \n",
       "\n",
       "      Bank transfer (automatic)  Credit card (automatic)  Electronic check  \\\n",
       "0                             0                        1                 0   \n",
       "1                             0                        1                 0   \n",
       "2                             1                        0                 0   \n",
       "3                             0                        0                 1   \n",
       "4                             0                        0                 1   \n",
       "...                         ...                      ...               ...   \n",
       "5981                          0                        0                 1   \n",
       "5982                          0                        1                 0   \n",
       "5983                          0                        0                 1   \n",
       "5984                          0                        0                 1   \n",
       "5985                          0                        1                 0   \n",
       "\n",
       "      Mailed check  \n",
       "0                0  \n",
       "1                0  \n",
       "2                0  \n",
       "3                0  \n",
       "4                0  \n",
       "...            ...  \n",
       "5981             0  \n",
       "5982             0  \n",
       "5983             0  \n",
       "5984             0  \n",
       "5985             0  \n",
       "\n",
       "[5986 rows x 25 columns]"
      ]
     },
     "execution_count": 52,
     "metadata": {},
     "output_type": "execute_result"
    }
   ],
   "source": [
    "df"
   ]
  },
  {
   "cell_type": "markdown",
   "id": "confirmed-asset",
   "metadata": {
    "papermill": {
     "duration": 0.078017,
     "end_time": "2021-04-01T18:35:31.411990",
     "exception": false,
     "start_time": "2021-04-01T18:35:31.333973",
     "status": "completed"
    },
    "tags": []
   },
   "source": [
    "#### Preprocessing - All Clear"
   ]
  },
  {
   "cell_type": "markdown",
   "id": "considerable-astronomy",
   "metadata": {
    "papermill": {
     "duration": 0.076437,
     "end_time": "2021-04-01T18:35:31.566497",
     "exception": false,
     "start_time": "2021-04-01T18:35:31.490060",
     "status": "completed"
    },
    "tags": []
   },
   "source": [
    "### Step 3. Dataset Split (Train : Test = 0.8 : 0.2)"
   ]
  },
  {
   "cell_type": "code",
   "execution_count": 53,
   "id": "chinese-giving",
   "metadata": {
    "execution": {
     "iopub.execute_input": "2021-04-01T18:35:31.727158Z",
     "iopub.status.busy": "2021-04-01T18:35:31.726106Z",
     "iopub.status.idle": "2021-04-01T18:35:31.730069Z",
     "shell.execute_reply": "2021-04-01T18:35:31.729312Z"
    },
    "papermill": {
     "duration": 0.08675,
     "end_time": "2021-04-01T18:35:31.730272",
     "exception": false,
     "start_time": "2021-04-01T18:35:31.643522",
     "status": "completed"
    },
    "tags": []
   },
   "outputs": [],
   "source": [
    "point = [0.8, 0.2]"
   ]
  },
  {
   "cell_type": "code",
   "execution_count": 54,
   "id": "sufficient-present",
   "metadata": {
    "execution": {
     "iopub.execute_input": "2021-04-01T18:35:31.892995Z",
     "iopub.status.busy": "2021-04-01T18:35:31.891911Z",
     "iopub.status.idle": "2021-04-01T18:35:31.896613Z",
     "shell.execute_reply": "2021-04-01T18:35:31.895957Z"
    },
    "papermill": {
     "duration": 0.087668,
     "end_time": "2021-04-01T18:35:31.896769",
     "exception": false,
     "start_time": "2021-04-01T18:35:31.809101",
     "status": "completed"
    },
    "tags": []
   },
   "outputs": [
    {
     "data": {
      "text/plain": [
       "array([1359, 2217, 2849, ..., 1331, 3237, 2761])"
      ]
     },
     "execution_count": 54,
     "metadata": {},
     "output_type": "execute_result"
    }
   ],
   "source": [
    "np.random.permutation(len(df))"
   ]
  },
  {
   "cell_type": "code",
   "execution_count": 55,
   "id": "fleet-somerset",
   "metadata": {
    "execution": {
     "iopub.execute_input": "2021-04-01T18:35:32.060779Z",
     "iopub.status.busy": "2021-04-01T18:35:32.060092Z",
     "iopub.status.idle": "2021-04-01T18:35:32.064047Z",
     "shell.execute_reply": "2021-04-01T18:35:32.063410Z"
    },
    "papermill": {
     "duration": 0.088557,
     "end_time": "2021-04-01T18:35:32.064222",
     "exception": false,
     "start_time": "2021-04-01T18:35:31.975665",
     "status": "completed"
    },
    "tags": []
   },
   "outputs": [
    {
     "data": {
      "text/plain": [
       "5985"
      ]
     },
     "execution_count": 55,
     "metadata": {},
     "output_type": "execute_result"
    }
   ],
   "source": [
    "np.random.permutation(len(df)).max()"
   ]
  },
  {
   "cell_type": "code",
   "execution_count": 56,
   "id": "mediterranean-carbon",
   "metadata": {
    "execution": {
     "iopub.execute_input": "2021-04-01T18:35:32.226058Z",
     "iopub.status.busy": "2021-04-01T18:35:32.225305Z",
     "iopub.status.idle": "2021-04-01T18:35:32.231880Z",
     "shell.execute_reply": "2021-04-01T18:35:32.231004Z"
    },
    "papermill": {
     "duration": 0.088482,
     "end_time": "2021-04-01T18:35:32.232055",
     "exception": false,
     "start_time": "2021-04-01T18:35:32.143573",
     "status": "completed"
    },
    "tags": []
   },
   "outputs": [],
   "source": [
    "seed_idx = np.random.permutation(len(df))"
   ]
  },
  {
   "cell_type": "markdown",
   "id": "reverse-possession",
   "metadata": {
    "papermill": {
     "duration": 0.078449,
     "end_time": "2021-04-01T18:35:32.391163",
     "exception": false,
     "start_time": "2021-04-01T18:35:32.312714",
     "status": "completed"
    },
    "tags": []
   },
   "source": [
    "#### Shuffle"
   ]
  },
  {
   "cell_type": "code",
   "execution_count": 57,
   "id": "touched-binding",
   "metadata": {
    "execution": {
     "iopub.execute_input": "2021-04-01T18:35:32.554935Z",
     "iopub.status.busy": "2021-04-01T18:35:32.554238Z",
     "iopub.status.idle": "2021-04-01T18:35:32.582638Z",
     "shell.execute_reply": "2021-04-01T18:35:32.582027Z"
    },
    "papermill": {
     "duration": 0.113808,
     "end_time": "2021-04-01T18:35:32.582822",
     "exception": false,
     "start_time": "2021-04-01T18:35:32.469014",
     "status": "completed"
    },
    "tags": []
   },
   "outputs": [
    {
     "data": {
      "text/html": [
       "<div>\n",
       "<style scoped>\n",
       "    .dataframe tbody tr th:only-of-type {\n",
       "        vertical-align: middle;\n",
       "    }\n",
       "\n",
       "    .dataframe tbody tr th {\n",
       "        vertical-align: top;\n",
       "    }\n",
       "\n",
       "    .dataframe thead th {\n",
       "        text-align: right;\n",
       "    }\n",
       "</style>\n",
       "<table border=\"1\" class=\"dataframe\">\n",
       "  <thead>\n",
       "    <tr style=\"text-align: right;\">\n",
       "      <th></th>\n",
       "      <th>gender</th>\n",
       "      <th>SeniorCitizen</th>\n",
       "      <th>Partner</th>\n",
       "      <th>Dependents</th>\n",
       "      <th>tenure</th>\n",
       "      <th>PhoneService</th>\n",
       "      <th>MultipleLines</th>\n",
       "      <th>InternetService</th>\n",
       "      <th>OnlineSecurity</th>\n",
       "      <th>OnlineBackup</th>\n",
       "      <th>...</th>\n",
       "      <th>MonthlyCharges</th>\n",
       "      <th>TotalCharges</th>\n",
       "      <th>Churn</th>\n",
       "      <th>Month-to-month</th>\n",
       "      <th>One year</th>\n",
       "      <th>Two year</th>\n",
       "      <th>Bank transfer (automatic)</th>\n",
       "      <th>Credit card (automatic)</th>\n",
       "      <th>Electronic check</th>\n",
       "      <th>Mailed check</th>\n",
       "    </tr>\n",
       "  </thead>\n",
       "  <tbody>\n",
       "    <tr>\n",
       "      <th>1270</th>\n",
       "      <td>1</td>\n",
       "      <td>0</td>\n",
       "      <td>1</td>\n",
       "      <td>1</td>\n",
       "      <td>72</td>\n",
       "      <td>1</td>\n",
       "      <td>2</td>\n",
       "      <td>1</td>\n",
       "      <td>0</td>\n",
       "      <td>0</td>\n",
       "      <td>...</td>\n",
       "      <td>24.10</td>\n",
       "      <td>1734.65</td>\n",
       "      <td>0</td>\n",
       "      <td>0</td>\n",
       "      <td>0</td>\n",
       "      <td>1</td>\n",
       "      <td>0</td>\n",
       "      <td>1</td>\n",
       "      <td>0</td>\n",
       "      <td>0</td>\n",
       "    </tr>\n",
       "    <tr>\n",
       "      <th>804</th>\n",
       "      <td>0</td>\n",
       "      <td>0</td>\n",
       "      <td>0</td>\n",
       "      <td>0</td>\n",
       "      <td>44</td>\n",
       "      <td>1</td>\n",
       "      <td>0</td>\n",
       "      <td>0</td>\n",
       "      <td>0</td>\n",
       "      <td>1</td>\n",
       "      <td>...</td>\n",
       "      <td>88.15</td>\n",
       "      <td>3973.20</td>\n",
       "      <td>0</td>\n",
       "      <td>1</td>\n",
       "      <td>0</td>\n",
       "      <td>0</td>\n",
       "      <td>0</td>\n",
       "      <td>1</td>\n",
       "      <td>0</td>\n",
       "      <td>0</td>\n",
       "    </tr>\n",
       "    <tr>\n",
       "      <th>3652</th>\n",
       "      <td>0</td>\n",
       "      <td>1</td>\n",
       "      <td>1</td>\n",
       "      <td>0</td>\n",
       "      <td>38</td>\n",
       "      <td>1</td>\n",
       "      <td>2</td>\n",
       "      <td>0</td>\n",
       "      <td>0</td>\n",
       "      <td>0</td>\n",
       "      <td>...</td>\n",
       "      <td>74.95</td>\n",
       "      <td>2869.85</td>\n",
       "      <td>1</td>\n",
       "      <td>1</td>\n",
       "      <td>0</td>\n",
       "      <td>0</td>\n",
       "      <td>1</td>\n",
       "      <td>0</td>\n",
       "      <td>0</td>\n",
       "      <td>0</td>\n",
       "    </tr>\n",
       "    <tr>\n",
       "      <th>3855</th>\n",
       "      <td>1</td>\n",
       "      <td>0</td>\n",
       "      <td>0</td>\n",
       "      <td>0</td>\n",
       "      <td>4</td>\n",
       "      <td>1</td>\n",
       "      <td>0</td>\n",
       "      <td>0</td>\n",
       "      <td>0</td>\n",
       "      <td>0</td>\n",
       "      <td>...</td>\n",
       "      <td>55.90</td>\n",
       "      <td>238.50</td>\n",
       "      <td>0</td>\n",
       "      <td>1</td>\n",
       "      <td>0</td>\n",
       "      <td>0</td>\n",
       "      <td>0</td>\n",
       "      <td>0</td>\n",
       "      <td>1</td>\n",
       "      <td>0</td>\n",
       "    </tr>\n",
       "    <tr>\n",
       "      <th>3062</th>\n",
       "      <td>1</td>\n",
       "      <td>0</td>\n",
       "      <td>0</td>\n",
       "      <td>0</td>\n",
       "      <td>2</td>\n",
       "      <td>1</td>\n",
       "      <td>0</td>\n",
       "      <td>0</td>\n",
       "      <td>1</td>\n",
       "      <td>0</td>\n",
       "      <td>...</td>\n",
       "      <td>53.45</td>\n",
       "      <td>119.50</td>\n",
       "      <td>0</td>\n",
       "      <td>1</td>\n",
       "      <td>0</td>\n",
       "      <td>0</td>\n",
       "      <td>0</td>\n",
       "      <td>0</td>\n",
       "      <td>1</td>\n",
       "      <td>0</td>\n",
       "    </tr>\n",
       "    <tr>\n",
       "      <th>...</th>\n",
       "      <td>...</td>\n",
       "      <td>...</td>\n",
       "      <td>...</td>\n",
       "      <td>...</td>\n",
       "      <td>...</td>\n",
       "      <td>...</td>\n",
       "      <td>...</td>\n",
       "      <td>...</td>\n",
       "      <td>...</td>\n",
       "      <td>...</td>\n",
       "      <td>...</td>\n",
       "      <td>...</td>\n",
       "      <td>...</td>\n",
       "      <td>...</td>\n",
       "      <td>...</td>\n",
       "      <td>...</td>\n",
       "      <td>...</td>\n",
       "      <td>...</td>\n",
       "      <td>...</td>\n",
       "      <td>...</td>\n",
       "      <td>...</td>\n",
       "    </tr>\n",
       "    <tr>\n",
       "      <th>800</th>\n",
       "      <td>1</td>\n",
       "      <td>0</td>\n",
       "      <td>1</td>\n",
       "      <td>0</td>\n",
       "      <td>1</td>\n",
       "      <td>1</td>\n",
       "      <td>0</td>\n",
       "      <td>0</td>\n",
       "      <td>1</td>\n",
       "      <td>0</td>\n",
       "      <td>...</td>\n",
       "      <td>95.00</td>\n",
       "      <td>95.00</td>\n",
       "      <td>1</td>\n",
       "      <td>1</td>\n",
       "      <td>0</td>\n",
       "      <td>0</td>\n",
       "      <td>0</td>\n",
       "      <td>0</td>\n",
       "      <td>1</td>\n",
       "      <td>0</td>\n",
       "    </tr>\n",
       "    <tr>\n",
       "      <th>2535</th>\n",
       "      <td>0</td>\n",
       "      <td>0</td>\n",
       "      <td>1</td>\n",
       "      <td>1</td>\n",
       "      <td>23</td>\n",
       "      <td>1</td>\n",
       "      <td>2</td>\n",
       "      <td>0</td>\n",
       "      <td>1</td>\n",
       "      <td>1</td>\n",
       "      <td>...</td>\n",
       "      <td>91.10</td>\n",
       "      <td>2198.30</td>\n",
       "      <td>0</td>\n",
       "      <td>0</td>\n",
       "      <td>0</td>\n",
       "      <td>1</td>\n",
       "      <td>0</td>\n",
       "      <td>1</td>\n",
       "      <td>0</td>\n",
       "      <td>0</td>\n",
       "    </tr>\n",
       "    <tr>\n",
       "      <th>5930</th>\n",
       "      <td>1</td>\n",
       "      <td>0</td>\n",
       "      <td>1</td>\n",
       "      <td>1</td>\n",
       "      <td>12</td>\n",
       "      <td>1</td>\n",
       "      <td>0</td>\n",
       "      <td>1</td>\n",
       "      <td>0</td>\n",
       "      <td>0</td>\n",
       "      <td>...</td>\n",
       "      <td>21.15</td>\n",
       "      <td>306.05</td>\n",
       "      <td>0</td>\n",
       "      <td>1</td>\n",
       "      <td>0</td>\n",
       "      <td>0</td>\n",
       "      <td>0</td>\n",
       "      <td>0</td>\n",
       "      <td>1</td>\n",
       "      <td>0</td>\n",
       "    </tr>\n",
       "    <tr>\n",
       "      <th>5738</th>\n",
       "      <td>1</td>\n",
       "      <td>1</td>\n",
       "      <td>0</td>\n",
       "      <td>0</td>\n",
       "      <td>12</td>\n",
       "      <td>1</td>\n",
       "      <td>2</td>\n",
       "      <td>0</td>\n",
       "      <td>0</td>\n",
       "      <td>0</td>\n",
       "      <td>...</td>\n",
       "      <td>99.45</td>\n",
       "      <td>1200.15</td>\n",
       "      <td>1</td>\n",
       "      <td>1</td>\n",
       "      <td>0</td>\n",
       "      <td>0</td>\n",
       "      <td>0</td>\n",
       "      <td>0</td>\n",
       "      <td>1</td>\n",
       "      <td>0</td>\n",
       "    </tr>\n",
       "    <tr>\n",
       "      <th>1977</th>\n",
       "      <td>1</td>\n",
       "      <td>0</td>\n",
       "      <td>0</td>\n",
       "      <td>0</td>\n",
       "      <td>26</td>\n",
       "      <td>1</td>\n",
       "      <td>0</td>\n",
       "      <td>1</td>\n",
       "      <td>0</td>\n",
       "      <td>0</td>\n",
       "      <td>...</td>\n",
       "      <td>19.80</td>\n",
       "      <td>457.30</td>\n",
       "      <td>0</td>\n",
       "      <td>0</td>\n",
       "      <td>1</td>\n",
       "      <td>0</td>\n",
       "      <td>0</td>\n",
       "      <td>1</td>\n",
       "      <td>0</td>\n",
       "      <td>0</td>\n",
       "    </tr>\n",
       "  </tbody>\n",
       "</table>\n",
       "<p>5986 rows × 25 columns</p>\n",
       "</div>"
      ],
      "text/plain": [
       "      gender  SeniorCitizen  Partner  Dependents  tenure  PhoneService  \\\n",
       "1270       1              0        1           1      72             1   \n",
       "804        0              0        0           0      44             1   \n",
       "3652       0              1        1           0      38             1   \n",
       "3855       1              0        0           0       4             1   \n",
       "3062       1              0        0           0       2             1   \n",
       "...      ...            ...      ...         ...     ...           ...   \n",
       "800        1              0        1           0       1             1   \n",
       "2535       0              0        1           1      23             1   \n",
       "5930       1              0        1           1      12             1   \n",
       "5738       1              1        0           0      12             1   \n",
       "1977       1              0        0           0      26             1   \n",
       "\n",
       "      MultipleLines  InternetService  OnlineSecurity  OnlineBackup  ...  \\\n",
       "1270              2                1               0             0  ...   \n",
       "804               0                0               0             1  ...   \n",
       "3652              2                0               0             0  ...   \n",
       "3855              0                0               0             0  ...   \n",
       "3062              0                0               1             0  ...   \n",
       "...             ...              ...             ...           ...  ...   \n",
       "800               0                0               1             0  ...   \n",
       "2535              2                0               1             1  ...   \n",
       "5930              0                1               0             0  ...   \n",
       "5738              2                0               0             0  ...   \n",
       "1977              0                1               0             0  ...   \n",
       "\n",
       "      MonthlyCharges  TotalCharges  Churn  Month-to-month  One year  Two year  \\\n",
       "1270           24.10       1734.65      0               0         0         1   \n",
       "804            88.15       3973.20      0               1         0         0   \n",
       "3652           74.95       2869.85      1               1         0         0   \n",
       "3855           55.90        238.50      0               1         0         0   \n",
       "3062           53.45        119.50      0               1         0         0   \n",
       "...              ...           ...    ...             ...       ...       ...   \n",
       "800            95.00         95.00      1               1         0         0   \n",
       "2535           91.10       2198.30      0               0         0         1   \n",
       "5930           21.15        306.05      0               1         0         0   \n",
       "5738           99.45       1200.15      1               1         0         0   \n",
       "1977           19.80        457.30      0               0         1         0   \n",
       "\n",
       "      Bank transfer (automatic)  Credit card (automatic)  Electronic check  \\\n",
       "1270                          0                        1                 0   \n",
       "804                           0                        1                 0   \n",
       "3652                          1                        0                 0   \n",
       "3855                          0                        0                 1   \n",
       "3062                          0                        0                 1   \n",
       "...                         ...                      ...               ...   \n",
       "800                           0                        0                 1   \n",
       "2535                          0                        1                 0   \n",
       "5930                          0                        0                 1   \n",
       "5738                          0                        0                 1   \n",
       "1977                          0                        1                 0   \n",
       "\n",
       "      Mailed check  \n",
       "1270             0  \n",
       "804              0  \n",
       "3652             0  \n",
       "3855             0  \n",
       "3062             0  \n",
       "...            ...  \n",
       "800              0  \n",
       "2535             0  \n",
       "5930             0  \n",
       "5738             0  \n",
       "1977             0  \n",
       "\n",
       "[5986 rows x 25 columns]"
      ]
     },
     "execution_count": 57,
     "metadata": {},
     "output_type": "execute_result"
    }
   ],
   "source": [
    "# Shuffle Test\n",
    "df.set_index(seed_idx)"
   ]
  },
  {
   "cell_type": "code",
   "execution_count": 58,
   "id": "abroad-salmon",
   "metadata": {
    "execution": {
     "iopub.execute_input": "2021-04-01T18:35:32.753386Z",
     "iopub.status.busy": "2021-04-01T18:35:32.752606Z",
     "iopub.status.idle": "2021-04-01T18:35:32.757372Z",
     "shell.execute_reply": "2021-04-01T18:35:32.757912Z"
    },
    "papermill": {
     "duration": 0.09515,
     "end_time": "2021-04-01T18:35:32.758106",
     "exception": false,
     "start_time": "2021-04-01T18:35:32.662956",
     "status": "completed"
    },
    "tags": []
   },
   "outputs": [
    {
     "name": "stdout",
     "output_type": "stream",
     "text": [
      "train_size :  4789\n",
      "test_size :  1197\n"
     ]
    }
   ],
   "source": [
    "train_size = round(len(df)*point[0])\n",
    "valid_size = round(len(df)*point[1])\n",
    "print('train_size : ', train_size)\n",
    "print('test_size : ', valid_size)"
   ]
  },
  {
   "cell_type": "code",
   "execution_count": 59,
   "id": "occupied-kinase",
   "metadata": {
    "execution": {
     "iopub.execute_input": "2021-04-01T18:35:32.963788Z",
     "iopub.status.busy": "2021-04-01T18:35:32.962923Z",
     "iopub.status.idle": "2021-04-01T18:35:32.967317Z",
     "shell.execute_reply": "2021-04-01T18:35:32.966746Z"
    },
    "papermill": {
     "duration": 0.110894,
     "end_time": "2021-04-01T18:35:32.967460",
     "exception": false,
     "start_time": "2021-04-01T18:35:32.856566",
     "status": "completed"
    },
    "tags": []
   },
   "outputs": [],
   "source": [
    "X = df.set_index(seed_idx).drop('Churn',axis=1)\n",
    "y = df.set_index(seed_idx)['Churn']"
   ]
  },
  {
   "cell_type": "code",
   "execution_count": 60,
   "id": "turned-sacrifice",
   "metadata": {
    "execution": {
     "iopub.execute_input": "2021-04-01T18:35:33.141034Z",
     "iopub.status.busy": "2021-04-01T18:35:33.140137Z",
     "iopub.status.idle": "2021-04-01T18:35:33.142500Z",
     "shell.execute_reply": "2021-04-01T18:35:33.142983Z"
    },
    "papermill": {
     "duration": 0.094835,
     "end_time": "2021-04-01T18:35:33.143165",
     "exception": false,
     "start_time": "2021-04-01T18:35:33.048330",
     "status": "completed"
    },
    "tags": []
   },
   "outputs": [],
   "source": [
    "# split\n",
    "train_x = X[:train_size]\n",
    "train_y = y[:train_size]\n",
    "test_x = X[train_size:]\n",
    "test_y = y[train_size:]"
   ]
  },
  {
   "cell_type": "code",
   "execution_count": 61,
   "id": "obvious-denver",
   "metadata": {
    "execution": {
     "iopub.execute_input": "2021-04-01T18:35:33.314962Z",
     "iopub.status.busy": "2021-04-01T18:35:33.314250Z",
     "iopub.status.idle": "2021-04-01T18:35:33.322454Z",
     "shell.execute_reply": "2021-04-01T18:35:33.321819Z"
    },
    "papermill": {
     "duration": 0.097714,
     "end_time": "2021-04-01T18:35:33.322620",
     "exception": false,
     "start_time": "2021-04-01T18:35:33.224906",
     "status": "completed"
    },
    "tags": []
   },
   "outputs": [
    {
     "name": "stdout",
     "output_type": "stream",
     "text": [
      "4789 4789\n",
      "1197 1197\n"
     ]
    }
   ],
   "source": [
    "print(len(train_x), len(train_y))\n",
    "print(len(test_x), len(test_y))"
   ]
  },
  {
   "cell_type": "markdown",
   "id": "trained-junction",
   "metadata": {
    "papermill": {
     "duration": 0.080527,
     "end_time": "2021-04-01T18:35:33.485617",
     "exception": false,
     "start_time": "2021-04-01T18:35:33.405090",
     "status": "completed"
    },
    "tags": []
   },
   "source": [
    "### Step 4. Modeling : Logistic Regression"
   ]
  },
  {
   "cell_type": "code",
   "execution_count": 62,
   "id": "sorted-richmond",
   "metadata": {
    "execution": {
     "iopub.execute_input": "2021-04-01T18:35:33.652621Z",
     "iopub.status.busy": "2021-04-01T18:35:33.651917Z",
     "iopub.status.idle": "2021-04-01T18:35:33.837958Z",
     "shell.execute_reply": "2021-04-01T18:35:33.838495Z"
    },
    "papermill": {
     "duration": 0.270943,
     "end_time": "2021-04-01T18:35:33.838699",
     "exception": false,
     "start_time": "2021-04-01T18:35:33.567756",
     "status": "completed"
    },
    "tags": []
   },
   "outputs": [],
   "source": [
    "from sklearn.linear_model import LogisticRegression\n",
    "#from sklearn.preprocessing import StandardScaler"
   ]
  },
  {
   "cell_type": "code",
   "execution_count": 63,
   "id": "forbidden-virtue",
   "metadata": {
    "execution": {
     "iopub.execute_input": "2021-04-01T18:35:34.013621Z",
     "iopub.status.busy": "2021-04-01T18:35:34.012935Z",
     "iopub.status.idle": "2021-04-01T18:35:34.018478Z",
     "shell.execute_reply": "2021-04-01T18:35:34.017760Z"
    },
    "papermill": {
     "duration": 0.093514,
     "end_time": "2021-04-01T18:35:34.018629",
     "exception": false,
     "start_time": "2021-04-01T18:35:33.925115",
     "status": "completed"
    },
    "tags": []
   },
   "outputs": [],
   "source": [
    "model = LogisticRegression(max_iter=500)"
   ]
  },
  {
   "cell_type": "markdown",
   "id": "light-gasoline",
   "metadata": {
    "papermill": {
     "duration": 0.082091,
     "end_time": "2021-04-01T18:35:34.183388",
     "exception": false,
     "start_time": "2021-04-01T18:35:34.101297",
     "status": "completed"
    },
    "tags": []
   },
   "source": [
    "#### Model training"
   ]
  },
  {
   "cell_type": "code",
   "execution_count": 64,
   "id": "hearing-porter",
   "metadata": {
    "execution": {
     "iopub.execute_input": "2021-04-01T18:35:34.361336Z",
     "iopub.status.busy": "2021-04-01T18:35:34.360622Z",
     "iopub.status.idle": "2021-04-01T18:35:34.543332Z",
     "shell.execute_reply": "2021-04-01T18:35:34.544404Z"
    },
    "papermill": {
     "duration": 0.275568,
     "end_time": "2021-04-01T18:35:34.544692",
     "exception": false,
     "start_time": "2021-04-01T18:35:34.269124",
     "status": "completed"
    },
    "tags": []
   },
   "outputs": [
    {
     "data": {
      "text/plain": [
       "LogisticRegression(max_iter=500)"
      ]
     },
     "execution_count": 64,
     "metadata": {},
     "output_type": "execute_result"
    }
   ],
   "source": [
    "model.fit(train_x,train_y)"
   ]
  },
  {
   "cell_type": "markdown",
   "id": "warming-commission",
   "metadata": {
    "papermill": {
     "duration": 0.082908,
     "end_time": "2021-04-01T18:35:34.759481",
     "exception": false,
     "start_time": "2021-04-01T18:35:34.676573",
     "status": "completed"
    },
    "tags": []
   },
   "source": [
    "#### Prediction"
   ]
  },
  {
   "cell_type": "code",
   "execution_count": 65,
   "id": "selected-spell",
   "metadata": {
    "execution": {
     "iopub.execute_input": "2021-04-01T18:35:34.931447Z",
     "iopub.status.busy": "2021-04-01T18:35:34.930171Z",
     "iopub.status.idle": "2021-04-01T18:35:34.934872Z",
     "shell.execute_reply": "2021-04-01T18:35:34.935980Z"
    },
    "papermill": {
     "duration": 0.094491,
     "end_time": "2021-04-01T18:35:34.936284",
     "exception": false,
     "start_time": "2021-04-01T18:35:34.841793",
     "status": "completed"
    },
    "tags": []
   },
   "outputs": [],
   "source": [
    "pred = model.predict(test_x)"
   ]
  },
  {
   "cell_type": "markdown",
   "id": "right-stable",
   "metadata": {
    "papermill": {
     "duration": 0.082148,
     "end_time": "2021-04-01T18:35:35.149728",
     "exception": false,
     "start_time": "2021-04-01T18:35:35.067580",
     "status": "completed"
    },
    "tags": []
   },
   "source": [
    "#### Result"
   ]
  },
  {
   "cell_type": "code",
   "execution_count": 66,
   "id": "terminal-mistress",
   "metadata": {
    "execution": {
     "iopub.execute_input": "2021-04-01T18:35:35.320593Z",
     "iopub.status.busy": "2021-04-01T18:35:35.319734Z",
     "iopub.status.idle": "2021-04-01T18:35:35.345840Z",
     "shell.execute_reply": "2021-04-01T18:35:35.346399Z"
    },
    "papermill": {
     "duration": 0.115619,
     "end_time": "2021-04-01T18:35:35.346637",
     "exception": false,
     "start_time": "2021-04-01T18:35:35.231018",
     "status": "completed"
    },
    "tags": []
   },
   "outputs": [
    {
     "name": "stdout",
     "output_type": "stream",
     "text": [
      "[Accuracy]Simple Logistic Regresssion Model :  0.8061821219715957\n"
     ]
    }
   ],
   "source": [
    "print('[Accuracy]Simple Logistic Regresssion Model : ',(pred == test_y).sum() / len(pred))"
   ]
  },
  {
   "cell_type": "code",
   "execution_count": null,
   "id": "adopted-connectivity",
   "metadata": {
    "papermill": {
     "duration": 0.082161,
     "end_time": "2021-04-01T18:35:35.512934",
     "exception": false,
     "start_time": "2021-04-01T18:35:35.430773",
     "status": "completed"
    },
    "tags": []
   },
   "outputs": [],
   "source": []
  }
 ],
 "metadata": {
  "kernelspec": {
   "display_name": "Python 3",
   "language": "python",
   "name": "python3"
  },
  "language_info": {
   "codemirror_mode": {
    "name": "ipython",
    "version": 3
   },
   "file_extension": ".py",
   "mimetype": "text/x-python",
   "name": "python",
   "nbconvert_exporter": "python",
   "pygments_lexer": "ipython3",
   "version": "3.7.9"
  },
  "papermill": {
   "default_parameters": {},
   "duration": 24.110807,
   "end_time": "2021-04-01T18:35:37.257706",
   "environment_variables": {},
   "exception": null,
   "input_path": "__notebook__.ipynb",
   "output_path": "__notebook__.ipynb",
   "parameters": {},
   "start_time": "2021-04-01T18:35:13.146899",
   "version": "2.3.2"
  }
 },
 "nbformat": 4,
 "nbformat_minor": 5
}
