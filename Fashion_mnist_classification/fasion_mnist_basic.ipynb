{
 "cells": [
  {
   "cell_type": "markdown",
   "id": "89ff0cf0",
   "metadata": {},
   "source": [
    "# Quick Start - Simple NN Basic Model with Fasion MNIST"
   ]
  },
  {
   "cell_type": "markdown",
   "id": "dbfa763e",
   "metadata": {},
   "source": [
    "```\n",
    "Step 0. Library Import\n",
    "Step 1. Dataset Load and EDA\n",
    "Step 2. Data Preprocessing\n",
    "Step 3. Modeling\n",
    "Step 4. Model Compile\n",
    "Step 5. Checkpoint\n",
    "Step 6. Model Fit\n",
    "Step 7. Model Evaluate\n",
    "```"
   ]
  },
  {
   "cell_type": "markdown",
   "id": "fb0059a6",
   "metadata": {},
   "source": [
    "## Step 0. Library Import"
   ]
  },
  {
   "cell_type": "code",
   "execution_count": 3,
   "id": "181c43c8",
   "metadata": {},
   "outputs": [],
   "source": [
    "import numpy as np\n",
    "import matplotlib.pyplot as plt\n",
    "import tensorflow as tf"
   ]
  },
  {
   "cell_type": "code",
   "execution_count": 4,
   "id": "a6b2f58e",
   "metadata": {},
   "outputs": [],
   "source": [
    "from tensorflow.keras.layers import Dense, Flatten\n",
    "from tensorflow.keras.models import Sequential\n",
    "from tensorflow.keras.callbacks import ModelCheckpoint"
   ]
  },
  {
   "cell_type": "markdown",
   "id": "9b495882",
   "metadata": {},
   "source": [
    "## Step 1. Dataset Load and EDA"
   ]
  },
  {
   "cell_type": "code",
   "execution_count": 5,
   "id": "4692f4ea",
   "metadata": {},
   "outputs": [],
   "source": [
    "fashion_mnist = tf.keras.datasets.fashion_mnist"
   ]
  },
  {
   "cell_type": "code",
   "execution_count": 8,
   "id": "90885eb8",
   "metadata": {},
   "outputs": [
    {
     "name": "stdout",
     "output_type": "stream",
     "text": [
      "Downloading data from https://storage.googleapis.com/tensorflow/tf-keras-datasets/train-labels-idx1-ubyte.gz\n",
      "32768/29515 [=================================] - 0s 0us/step\n",
      "Downloading data from https://storage.googleapis.com/tensorflow/tf-keras-datasets/train-images-idx3-ubyte.gz\n",
      "26427392/26421880 [==============================] - 4s 0us/step\n",
      "Downloading data from https://storage.googleapis.com/tensorflow/tf-keras-datasets/t10k-labels-idx1-ubyte.gz\n",
      "8192/5148 [===============================================] - 0s 0us/step\n",
      "Downloading data from https://storage.googleapis.com/tensorflow/tf-keras-datasets/t10k-images-idx3-ubyte.gz\n",
      "4423680/4422102 [==============================] - 0s 0us/step\n"
     ]
    }
   ],
   "source": [
    "(x_train, y_train), (x_valid, y_valid) = fashion_mnist.load_data()"
   ]
  },
  {
   "cell_type": "code",
   "execution_count": 10,
   "id": "0e066d9f",
   "metadata": {},
   "outputs": [
    {
     "name": "stdout",
     "output_type": "stream",
     "text": [
      "(60000, 28, 28) (10000, 28, 28)\n"
     ]
    }
   ],
   "source": [
    "print(x_train.shape, x_valid.shape)"
   ]
  },
  {
   "cell_type": "code",
   "execution_count": 11,
   "id": "686b6e87",
   "metadata": {},
   "outputs": [
    {
     "name": "stdout",
     "output_type": "stream",
     "text": [
      "(60000,) (10000,)\n"
     ]
    }
   ],
   "source": [
    "print(y_train.shape, y_valid.shape)"
   ]
  },
  {
   "cell_type": "code",
   "execution_count": 18,
   "id": "1a8dc6e7",
   "metadata": {},
   "outputs": [
    {
     "name": "stdout",
     "output_type": "stream",
     "text": [
      "0 255\n"
     ]
    }
   ],
   "source": [
    "print(x_train.min(), x_train.max())"
   ]
  },
  {
   "cell_type": "code",
   "execution_count": 20,
   "id": "9cfcf83f",
   "metadata": {},
   "outputs": [
    {
     "name": "stdout",
     "output_type": "stream",
     "text": [
      "0 255\n"
     ]
    }
   ],
   "source": [
    "print(x_valid.min(), x_valid.max())"
   ]
  },
  {
   "cell_type": "code",
   "execution_count": 21,
   "id": "a5760e12",
   "metadata": {},
   "outputs": [
    {
     "name": "stdout",
     "output_type": "stream",
     "text": [
      "0 9\n"
     ]
    }
   ],
   "source": [
    "print(y_train.min(), y_train.max())"
   ]
  },
  {
   "cell_type": "code",
   "execution_count": 22,
   "id": "deee9f94",
   "metadata": {},
   "outputs": [
    {
     "name": "stdout",
     "output_type": "stream",
     "text": [
      "0 9\n"
     ]
    }
   ],
   "source": [
    "print(y_valid.min(), y_valid.max())"
   ]
  },
  {
   "cell_type": "markdown",
   "id": "36ba25a9",
   "metadata": {},
   "source": [
    "## Step 2. Data Preprocessing"
   ]
  },
  {
   "cell_type": "markdown",
   "id": "dde4469e",
   "metadata": {},
   "source": [
    "- Data Normalization (0 < x < 1)"
   ]
  },
  {
   "cell_type": "code",
   "execution_count": 23,
   "id": "489e9699",
   "metadata": {},
   "outputs": [],
   "source": [
    "x_train = x_train / 255.\n",
    "x_valid = x_valid / 255."
   ]
  },
  {
   "cell_type": "code",
   "execution_count": 24,
   "id": "d467fdf6",
   "metadata": {},
   "outputs": [
    {
     "name": "stdout",
     "output_type": "stream",
     "text": [
      "0.0 1.0\n"
     ]
    }
   ],
   "source": [
    "print(x_train.min(), x_train.max())"
   ]
  },
  {
   "cell_type": "code",
   "execution_count": 25,
   "id": "41528a9b",
   "metadata": {},
   "outputs": [
    {
     "name": "stdout",
     "output_type": "stream",
     "text": [
      "0.0 1.0\n"
     ]
    }
   ],
   "source": [
    "print(x_valid.min(), x_valid.max())"
   ]
  },
  {
   "cell_type": "markdown",
   "id": "dbe32ea8",
   "metadata": {},
   "source": [
    "## Step 3. Modeling"
   ]
  },
  {
   "cell_type": "code",
   "execution_count": 27,
   "id": "5294f2d9",
   "metadata": {},
   "outputs": [],
   "source": [
    "model = Sequential([\n",
    "    Flatten(input_shape=(28, 28)),\n",
    "    Dense(512, activation='relu'),\n",
    "    Dense(256, activation='relu'),\n",
    "    Dense(128, activation='relu'),\n",
    "    Dense(64, activation='relu'),\n",
    "    Dense(32, activation='relu'),\n",
    "    Dense(16, activation='relu'),\n",
    "    Dense(10, activation='softmax')\n",
    "])"
   ]
  },
  {
   "cell_type": "code",
   "execution_count": 28,
   "id": "c4101ad8",
   "metadata": {},
   "outputs": [
    {
     "name": "stdout",
     "output_type": "stream",
     "text": [
      "Model: \"sequential\"\n",
      "_________________________________________________________________\n",
      "Layer (type)                 Output Shape              Param #   \n",
      "=================================================================\n",
      "flatten (Flatten)            (None, 784)               0         \n",
      "_________________________________________________________________\n",
      "dense (Dense)                (None, 512)               401920    \n",
      "_________________________________________________________________\n",
      "dense_1 (Dense)              (None, 256)               131328    \n",
      "_________________________________________________________________\n",
      "dense_2 (Dense)              (None, 128)               32896     \n",
      "_________________________________________________________________\n",
      "dense_3 (Dense)              (None, 64)                8256      \n",
      "_________________________________________________________________\n",
      "dense_4 (Dense)              (None, 32)                2080      \n",
      "_________________________________________________________________\n",
      "dense_5 (Dense)              (None, 16)                528       \n",
      "_________________________________________________________________\n",
      "dense_6 (Dense)              (None, 10)                170       \n",
      "=================================================================\n",
      "Total params: 577,178\n",
      "Trainable params: 577,178\n",
      "Non-trainable params: 0\n",
      "_________________________________________________________________\n"
     ]
    }
   ],
   "source": [
    "model.summary()"
   ]
  },
  {
   "cell_type": "markdown",
   "id": "8c2d2c90",
   "metadata": {},
   "source": [
    "## Step 4. Model Compile"
   ]
  },
  {
   "cell_type": "code",
   "execution_count": 30,
   "id": "f8f82920",
   "metadata": {},
   "outputs": [],
   "source": [
    "model.compile(optimizer='adam', loss='sparse_categorical_crossentropy', metrics=['acc'])"
   ]
  },
  {
   "cell_type": "markdown",
   "id": "31f7c48a",
   "metadata": {},
   "source": [
    "## Step 5. Checkpoint"
   ]
  },
  {
   "cell_type": "code",
   "execution_count": 31,
   "id": "0d4b80da",
   "metadata": {},
   "outputs": [],
   "source": [
    "cp = ModelCheckpoint(\n",
    "    filepath='base_model.ckpt',\n",
    "    save_weights_only=True,\n",
    "    save_best_only=True,\n",
    "    monitor='val_loss',\n",
    "    verbose=1,\n",
    ")"
   ]
  },
  {
   "cell_type": "markdown",
   "id": "74b7a118",
   "metadata": {},
   "source": [
    "## Step 6. Model Fit"
   ]
  },
  {
   "cell_type": "code",
   "execution_count": 34,
   "id": "a1b6af3f",
   "metadata": {},
   "outputs": [
    {
     "name": "stdout",
     "output_type": "stream",
     "text": [
      "Epoch 1/16\n",
      "1861/1875 [============================>.] - ETA: 0s - loss: 0.2614 - acc: 0.9026\n",
      "Epoch 00001: val_loss improved from 0.35233 to 0.34461, saving model to base_model.ckpt\n",
      "1875/1875 [==============================] - 7s 4ms/step - loss: 0.2615 - acc: 0.9027 - val_loss: 0.3446 - val_acc: 0.8762\n",
      "Epoch 2/16\n",
      "1875/1875 [==============================] - ETA: 0s - loss: 0.2510 - acc: 0.9062\n",
      "Epoch 00002: val_loss improved from 0.34461 to 0.33678, saving model to base_model.ckpt\n",
      "1875/1875 [==============================] - 6s 3ms/step - loss: 0.2510 - acc: 0.9062 - val_loss: 0.3368 - val_acc: 0.8828\n",
      "Epoch 3/16\n",
      "1874/1875 [============================>.] - ETA: 0s - loss: 0.2428 - acc: 0.9104\n",
      "Epoch 00003: val_loss improved from 0.33678 to 0.33558, saving model to base_model.ckpt\n",
      "1875/1875 [==============================] - 6s 3ms/step - loss: 0.2428 - acc: 0.9104 - val_loss: 0.3356 - val_acc: 0.8858\n",
      "Epoch 4/16\n",
      "1874/1875 [============================>.] - ETA: 0s - loss: 0.2329 - acc: 0.9128\n",
      "Epoch 00004: val_loss did not improve from 0.33558\n",
      "1875/1875 [==============================] - 7s 4ms/step - loss: 0.2329 - acc: 0.9128 - val_loss: 0.3459 - val_acc: 0.8804\n",
      "Epoch 5/16\n",
      "1865/1875 [============================>.] - ETA: 0s - loss: 0.2261 - acc: 0.9148\n",
      "Epoch 00005: val_loss did not improve from 0.33558\n",
      "1875/1875 [==============================] - 7s 4ms/step - loss: 0.2263 - acc: 0.9148 - val_loss: 0.3444 - val_acc: 0.8835\n",
      "Epoch 6/16\n",
      "1872/1875 [============================>.] - ETA: 0s - loss: 0.2207 - acc: 0.9183\n",
      "Epoch 00006: val_loss improved from 0.33558 to 0.33187, saving model to base_model.ckpt\n",
      "1875/1875 [==============================] - 7s 4ms/step - loss: 0.2207 - acc: 0.9183 - val_loss: 0.3319 - val_acc: 0.8888\n",
      "Epoch 7/16\n",
      "1874/1875 [============================>.] - ETA: 0s - loss: 0.2135 - acc: 0.9200\n",
      "Epoch 00007: val_loss improved from 0.33187 to 0.33153, saving model to base_model.ckpt\n",
      "1875/1875 [==============================] - 7s 4ms/step - loss: 0.2136 - acc: 0.9200 - val_loss: 0.3315 - val_acc: 0.8920\n",
      "Epoch 8/16\n",
      "1867/1875 [============================>.] - ETA: 0s - loss: 0.2058 - acc: 0.9222\n",
      "Epoch 00008: val_loss did not improve from 0.33153\n",
      "1875/1875 [==============================] - 7s 3ms/step - loss: 0.2056 - acc: 0.9222 - val_loss: 0.3985 - val_acc: 0.8792\n",
      "Epoch 9/16\n",
      "1860/1875 [============================>.] - ETA: 0s - loss: 0.1985 - acc: 0.9252\n",
      "Epoch 00009: val_loss did not improve from 0.33153\n",
      "1875/1875 [==============================] - 7s 3ms/step - loss: 0.1988 - acc: 0.9251 - val_loss: 0.3626 - val_acc: 0.8786\n",
      "Epoch 10/16\n",
      "1875/1875 [==============================] - ETA: 0s - loss: 0.1945 - acc: 0.9266\n",
      "Epoch 00010: val_loss did not improve from 0.33153\n",
      "1875/1875 [==============================] - 7s 4ms/step - loss: 0.1945 - acc: 0.9266 - val_loss: 0.3591 - val_acc: 0.8846\n",
      "Epoch 11/16\n",
      "1864/1875 [============================>.] - ETA: 0s - loss: 0.1904 - acc: 0.9291\n",
      "Epoch 00011: val_loss did not improve from 0.33153\n",
      "1875/1875 [==============================] - 7s 4ms/step - loss: 0.1905 - acc: 0.9291 - val_loss: 0.3628 - val_acc: 0.8870\n",
      "Epoch 12/16\n",
      "1872/1875 [============================>.] - ETA: 0s - loss: 0.1821 - acc: 0.9315\n",
      "Epoch 00012: val_loss did not improve from 0.33153\n",
      "1875/1875 [==============================] - 7s 4ms/step - loss: 0.1820 - acc: 0.9315 - val_loss: 0.3650 - val_acc: 0.8903\n",
      "Epoch 13/16\n",
      "1872/1875 [============================>.] - ETA: 0s - loss: 0.1810 - acc: 0.9322\n",
      "Epoch 00013: val_loss did not improve from 0.33153\n",
      "1875/1875 [==============================] - 8s 4ms/step - loss: 0.1812 - acc: 0.9321 - val_loss: 0.3870 - val_acc: 0.8927\n",
      "Epoch 14/16\n",
      "1873/1875 [============================>.] - ETA: 0s - loss: 0.1755 - acc: 0.9332\n",
      "Epoch 00014: val_loss did not improve from 0.33153\n",
      "1875/1875 [==============================] - 8s 4ms/step - loss: 0.1755 - acc: 0.9331 - val_loss: 0.3756 - val_acc: 0.8897\n",
      "Epoch 15/16\n",
      "1869/1875 [============================>.] - ETA: 0s - loss: 0.1707 - acc: 0.9359\n",
      "Epoch 00015: val_loss did not improve from 0.33153\n",
      "1875/1875 [==============================] - 8s 5ms/step - loss: 0.1712 - acc: 0.9358 - val_loss: 0.4141 - val_acc: 0.8913\n",
      "Epoch 16/16\n",
      "1872/1875 [============================>.] - ETA: 0s - loss: 0.1708 - acc: 0.9366\n",
      "Epoch 00016: val_loss did not improve from 0.33153\n",
      "1875/1875 [==============================] - 8s 4ms/step - loss: 0.1708 - acc: 0.9366 - val_loss: 0.3658 - val_acc: 0.8906\n"
     ]
    },
    {
     "data": {
      "text/plain": [
       "<tensorflow.python.keras.callbacks.History at 0x7fc799f5acd0>"
      ]
     },
     "execution_count": 34,
     "metadata": {},
     "output_type": "execute_result"
    }
   ],
   "source": [
    "model.fit(\n",
    "    x_train, y_train,\n",
    "    validation_data = (x_valid, y_valid),\n",
    "    epochs=16,\n",
    "    callbacks=[cp],\n",
    ")"
   ]
  },
  {
   "cell_type": "code",
   "execution_count": 36,
   "id": "9478ea3e",
   "metadata": {},
   "outputs": [
    {
     "data": {
      "text/plain": [
       "<tensorflow.python.training.tracking.util.CheckpointLoadStatus at 0x7fc789e41b50>"
      ]
     },
     "execution_count": 36,
     "metadata": {},
     "output_type": "execute_result"
    }
   ],
   "source": [
    "model.load_weights('base_model.ckpt')"
   ]
  },
  {
   "cell_type": "markdown",
   "id": "f002e594",
   "metadata": {},
   "source": [
    "## Step 7. Model Evaluate"
   ]
  },
  {
   "cell_type": "code",
   "execution_count": 37,
   "id": "c344ccfe",
   "metadata": {},
   "outputs": [
    {
     "name": "stdout",
     "output_type": "stream",
     "text": [
      "313/313 [==============================] - 0s 1ms/step - loss: 0.3315 - acc: 0.8920\n"
     ]
    },
    {
     "data": {
      "text/plain": [
       "[0.3315334618091583, 0.8920000195503235]"
      ]
     },
     "execution_count": 37,
     "metadata": {},
     "output_type": "execute_result"
    }
   ],
   "source": [
    "model.evaluate(x_valid, y_valid)"
   ]
  }
 ],
 "metadata": {
  "kernelspec": {
   "display_name": "Python 3",
   "language": "python",
   "name": "python3"
  },
  "language_info": {
   "codemirror_mode": {
    "name": "ipython",
    "version": 3
   },
   "file_extension": ".py",
   "mimetype": "text/x-python",
   "name": "python",
   "nbconvert_exporter": "python",
   "pygments_lexer": "ipython3",
   "version": "3.7.7"
  }
 },
 "nbformat": 4,
 "nbformat_minor": 5
}
