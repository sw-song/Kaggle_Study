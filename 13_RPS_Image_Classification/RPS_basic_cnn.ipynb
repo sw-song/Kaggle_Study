{
 "cells": [
  {
   "cell_type": "markdown",
   "id": "0b8480c7",
   "metadata": {},
   "source": [
    "# Quick Start - Simple CNN Model with RPS dataset"
   ]
  },
  {
   "cell_type": "markdown",
   "id": "db347e95",
   "metadata": {},
   "source": [
    "```\n",
    "Step 0. Library Import\n",
    "Step 1. Dataset Load\n",
    "Step 2. Data Generator\n",
    "Step 3. Modeling\n",
    "Step 4. Model Compile\n",
    "Step 5. Save Model Checkpoint\n",
    "Step 6. Model Fit\n",
    "Step 7. Model Evaluate & Save\n",
    "Step 8. Reload Model\n",
    "```"
   ]
  },
  {
   "cell_type": "markdown",
   "id": "a7d7178d",
   "metadata": {},
   "source": [
    "## Step 0. Library Import"
   ]
  },
  {
   "cell_type": "code",
   "execution_count": 1,
   "id": "2923f4c6",
   "metadata": {},
   "outputs": [],
   "source": [
    "import urllib.request\n",
    "import zipfile\n",
    "import numpy as np\n",
    "from IPython.display import Image\n",
    "\n",
    "import tensorflow as tf\n",
    "from tensorflow.keras.layers import Conv2D, MaxPooling2D, Flatten, Dropout, Dense\n",
    "from tensorflow.keras.models import Sequential\n",
    "from tensorflow.keras.preprocessing.image import ImageDataGenerator\n",
    "from tensorflow.keras.callbacks import ModelCheckpoint"
   ]
  },
  {
   "cell_type": "markdown",
   "id": "30a351d3",
   "metadata": {},
   "source": [
    "## Step 1. Dataset Load"
   ]
  },
  {
   "cell_type": "code",
   "execution_count": 2,
   "id": "fa4f2729",
   "metadata": {},
   "outputs": [
    {
     "data": {
      "text/plain": [
       "('rps.zip', <http.client.HTTPMessage at 0x7fc6b1c09fd0>)"
      ]
     },
     "execution_count": 2,
     "metadata": {},
     "output_type": "execute_result"
    }
   ],
   "source": [
    "url = 'https://storage.googleapis.com/download.tensorflow.org/data/rps.zip'\n",
    "urllib.request.urlretrieve(url, './data/rps.zip')"
   ]
  },
  {
   "cell_type": "code",
   "execution_count": 3,
   "id": "c53a2fa6",
   "metadata": {},
   "outputs": [],
   "source": [
    "zip_ref = zipfile.ZipFile('./data/rps.zip', 'r')\n",
    "zip_ref.extractall('./data')\n",
    "zip_ref.close()"
   ]
  },
  {
   "cell_type": "code",
   "execution_count": 4,
   "id": "3f8465dd",
   "metadata": {},
   "outputs": [],
   "source": [
    "data_path = './data/rps'"
   ]
  },
  {
   "cell_type": "markdown",
   "id": "546c4ea7",
   "metadata": {},
   "source": [
    "## Step 2. Data Generator"
   ]
  },
  {
   "cell_type": "code",
   "execution_count": 5,
   "id": "64a45343",
   "metadata": {},
   "outputs": [],
   "source": [
    "idg = ImageDataGenerator(\n",
    "    rescale=1. / 255,\n",
    "    rotation_range=5,\n",
    "    width_shift_range=0.05,\n",
    "    height_shift_range=0.05,\n",
    "    zoom_range=0.05,\n",
    "    horizontal_flip=True,\n",
    "    fill_mode='reflect',\n",
    "    validation_split=0.2\n",
    ")"
   ]
  },
  {
   "cell_type": "code",
   "execution_count": 7,
   "id": "9efe5f05",
   "metadata": {},
   "outputs": [],
   "source": [
    "batch_size = 128\n",
    "target_size = (150, 150)\n",
    "class_mode = 'categorical'"
   ]
  },
  {
   "cell_type": "code",
   "execution_count": 8,
   "id": "bf9810a3",
   "metadata": {},
   "outputs": [
    {
     "name": "stdout",
     "output_type": "stream",
     "text": [
      "Found 2016 images belonging to 3 classes.\n",
      "Found 504 images belonging to 3 classes.\n"
     ]
    }
   ],
   "source": [
    "train_gen = idg.flow_from_directory(\n",
    "    data_path,\n",
    "    batch_size = batch_size,\n",
    "    target_size = target_size,\n",
    "    class_mode = class_mode,\n",
    "    subset = 'training'\n",
    ")\n",
    "\n",
    "valid_gen = idg.flow_from_directory(\n",
    "    data_path,\n",
    "    batch_size = batch_size,\n",
    "    target_size = target_size,\n",
    "    class_mode = class_mode,\n",
    "    subset = 'validation'\n",
    ")"
   ]
  },
  {
   "cell_type": "markdown",
   "id": "d37958d2",
   "metadata": {},
   "source": [
    "## Step 3. Modeling"
   ]
  },
  {
   "cell_type": "code",
   "execution_count": 10,
   "id": "89158c34",
   "metadata": {},
   "outputs": [],
   "source": [
    "model = Sequential([\n",
    "    Conv2D(64, (3,3), activation='relu', input_shape=(150, 150, 3)),\n",
    "    MaxPooling2D(2,2),\n",
    "    Conv2D(64, (3,3), activation='relu'),\n",
    "    MaxPooling2D(2,2),\n",
    "    Conv2D(128, (3,3), activation='relu'),\n",
    "    MaxPooling2D(2,2),\n",
    "    Conv2D(128, (3,3), activation='relu'),\n",
    "    MaxPooling2D(2,2),\n",
    "    Flatten(),\n",
    "    Dropout(0.5),\n",
    "    Dense(512, activation='relu'),\n",
    "    Dense(3, activation='softmax')\n",
    "])"
   ]
  },
  {
   "cell_type": "code",
   "execution_count": 11,
   "id": "307a320b",
   "metadata": {},
   "outputs": [
    {
     "name": "stdout",
     "output_type": "stream",
     "text": [
      "Model: \"sequential\"\n",
      "_________________________________________________________________\n",
      "Layer (type)                 Output Shape              Param #   \n",
      "=================================================================\n",
      "conv2d (Conv2D)              (None, 148, 148, 64)      1792      \n",
      "_________________________________________________________________\n",
      "max_pooling2d (MaxPooling2D) (None, 74, 74, 64)        0         \n",
      "_________________________________________________________________\n",
      "conv2d_1 (Conv2D)            (None, 72, 72, 64)        36928     \n",
      "_________________________________________________________________\n",
      "max_pooling2d_1 (MaxPooling2 (None, 36, 36, 64)        0         \n",
      "_________________________________________________________________\n",
      "conv2d_2 (Conv2D)            (None, 34, 34, 128)       73856     \n",
      "_________________________________________________________________\n",
      "max_pooling2d_2 (MaxPooling2 (None, 17, 17, 128)       0         \n",
      "_________________________________________________________________\n",
      "conv2d_3 (Conv2D)            (None, 15, 15, 128)       147584    \n",
      "_________________________________________________________________\n",
      "max_pooling2d_3 (MaxPooling2 (None, 7, 7, 128)         0         \n",
      "_________________________________________________________________\n",
      "flatten (Flatten)            (None, 6272)              0         \n",
      "_________________________________________________________________\n",
      "dropout (Dropout)            (None, 6272)              0         \n",
      "_________________________________________________________________\n",
      "dense (Dense)                (None, 512)               3211776   \n",
      "_________________________________________________________________\n",
      "dense_1 (Dense)              (None, 3)                 1539      \n",
      "=================================================================\n",
      "Total params: 3,473,475\n",
      "Trainable params: 3,473,475\n",
      "Non-trainable params: 0\n",
      "_________________________________________________________________\n"
     ]
    }
   ],
   "source": [
    "model.summary()"
   ]
  },
  {
   "cell_type": "markdown",
   "id": "09d7dd84",
   "metadata": {},
   "source": [
    "## Step 4. Model Complile"
   ]
  },
  {
   "cell_type": "code",
   "execution_count": 12,
   "id": "9c4e5bc5",
   "metadata": {},
   "outputs": [],
   "source": [
    "model.compile(optimizer='adam', loss='categorical_crossentropy', metrics=['acc'])"
   ]
  },
  {
   "cell_type": "markdown",
   "id": "9a080479",
   "metadata": {},
   "source": [
    "## Step 5. Save Model Checkpoint"
   ]
  },
  {
   "cell_type": "code",
   "execution_count": 13,
   "id": "edf4387f",
   "metadata": {},
   "outputs": [],
   "source": [
    "filepath = 'my_checkpoint.ckpt'\n",
    "cp = ModelCheckpoint(\n",
    "    filepath = filepath,\n",
    "    save_weights_only = True,\n",
    "    save_best_only = True,\n",
    "    monitor = 'val_loss',\n",
    "    verbose=1\n",
    ")"
   ]
  },
  {
   "cell_type": "markdown",
   "id": "4995dde1",
   "metadata": {},
   "source": [
    "## Step 6. Model Fit"
   ]
  },
  {
   "cell_type": "code",
   "execution_count": 14,
   "id": "45c32e1c",
   "metadata": {},
   "outputs": [
    {
     "name": "stdout",
     "output_type": "stream",
     "text": [
      "Epoch 1/12\n",
      "16/16 [==============================] - ETA: 0s - loss: 1.0535 - acc: 0.4449\n",
      "Epoch 00001: val_loss improved from inf to 0.79021, saving model to my_checkpoint.ckpt\n",
      "16/16 [==============================] - 37s 2s/step - loss: 1.0535 - acc: 0.4449 - val_loss: 0.7902 - val_acc: 0.7956\n",
      "Epoch 2/12\n",
      "16/16 [==============================] - ETA: 0s - loss: 0.4099 - acc: 0.8686\n",
      "Epoch 00002: val_loss improved from 0.79021 to 0.56353, saving model to my_checkpoint.ckpt\n",
      "16/16 [==============================] - 36s 2s/step - loss: 0.4099 - acc: 0.8686 - val_loss: 0.5635 - val_acc: 0.6944\n",
      "Epoch 3/12\n",
      "16/16 [==============================] - ETA: 0s - loss: 0.1483 - acc: 0.9435\n",
      "Epoch 00003: val_loss improved from 0.56353 to 0.29365, saving model to my_checkpoint.ckpt\n",
      "16/16 [==============================] - 37s 2s/step - loss: 0.1483 - acc: 0.9435 - val_loss: 0.2936 - val_acc: 0.8591\n",
      "Epoch 4/12\n",
      "16/16 [==============================] - ETA: 0s - loss: 0.0509 - acc: 0.9861\n",
      "Epoch 00004: val_loss did not improve from 0.29365\n",
      "16/16 [==============================] - 37s 2s/step - loss: 0.0509 - acc: 0.9861 - val_loss: 0.6030 - val_acc: 0.7738\n",
      "Epoch 5/12\n",
      "16/16 [==============================] - ETA: 0s - loss: 0.0300 - acc: 0.9881\n",
      "Epoch 00005: val_loss improved from 0.29365 to 0.08189, saving model to my_checkpoint.ckpt\n",
      "16/16 [==============================] - 38s 2s/step - loss: 0.0300 - acc: 0.9881 - val_loss: 0.0819 - val_acc: 0.9782\n",
      "Epoch 6/12\n",
      "16/16 [==============================] - ETA: 0s - loss: 0.0156 - acc: 0.9936\n",
      "Epoch 00006: val_loss did not improve from 0.08189\n",
      "16/16 [==============================] - 38s 2s/step - loss: 0.0156 - acc: 0.9936 - val_loss: 0.1642 - val_acc: 0.9365\n",
      "Epoch 7/12\n",
      "16/16 [==============================] - ETA: 0s - loss: 0.0277 - acc: 0.9921\n",
      "Epoch 00007: val_loss did not improve from 0.08189\n",
      "16/16 [==============================] - 38s 2s/step - loss: 0.0277 - acc: 0.9921 - val_loss: 0.4212 - val_acc: 0.8750\n",
      "Epoch 8/12\n",
      "16/16 [==============================] - ETA: 0s - loss: 0.0240 - acc: 0.9916\n",
      "Epoch 00008: val_loss did not improve from 0.08189\n",
      "16/16 [==============================] - 38s 2s/step - loss: 0.0240 - acc: 0.9916 - val_loss: 0.4998 - val_acc: 0.8373\n",
      "Epoch 9/12\n",
      "16/16 [==============================] - ETA: 0s - loss: 0.0111 - acc: 0.9970\n",
      "Epoch 00009: val_loss did not improve from 0.08189\n",
      "16/16 [==============================] - 37s 2s/step - loss: 0.0111 - acc: 0.9970 - val_loss: 0.2196 - val_acc: 0.9147\n",
      "Epoch 10/12\n",
      "16/16 [==============================] - ETA: 0s - loss: 0.0041 - acc: 0.9990\n",
      "Epoch 00010: val_loss did not improve from 0.08189\n",
      "16/16 [==============================] - 38s 2s/step - loss: 0.0041 - acc: 0.9990 - val_loss: 0.3915 - val_acc: 0.8512\n",
      "Epoch 11/12\n",
      "16/16 [==============================] - ETA: 0s - loss: 0.0038 - acc: 0.9990\n",
      "Epoch 00011: val_loss did not improve from 0.08189\n",
      "16/16 [==============================] - 36s 2s/step - loss: 0.0038 - acc: 0.9990 - val_loss: 0.1777 - val_acc: 0.9365\n",
      "Epoch 12/12\n",
      "16/16 [==============================] - ETA: 0s - loss: 0.0081 - acc: 0.9970\n",
      "Epoch 00012: val_loss did not improve from 0.08189\n",
      "16/16 [==============================] - 34s 2s/step - loss: 0.0081 - acc: 0.9970 - val_loss: 0.2157 - val_acc: 0.9187\n"
     ]
    },
    {
     "data": {
      "text/plain": [
       "<tensorflow.python.keras.callbacks.History at 0x7fc6b1bd5b90>"
      ]
     },
     "execution_count": 14,
     "metadata": {},
     "output_type": "execute_result"
    }
   ],
   "source": [
    "epochs = 12\n",
    "model.fit(\n",
    "    train_gen,\n",
    "    validation_data = (valid_gen),\n",
    "    epochs = epochs,\n",
    "    callbacks=[cp]\n",
    ")"
   ]
  },
  {
   "cell_type": "markdown",
   "id": "d587bd14",
   "metadata": {},
   "source": [
    "## Step 7. Model Evaluate & Save"
   ]
  },
  {
   "cell_type": "code",
   "execution_count": 16,
   "id": "4090914b",
   "metadata": {},
   "outputs": [
    {
     "data": {
      "text/plain": [
       "<tensorflow.python.training.tracking.util.CheckpointLoadStatus at 0x7fc6c7193210>"
      ]
     },
     "execution_count": 16,
     "metadata": {},
     "output_type": "execute_result"
    }
   ],
   "source": [
    "model.load_weights(filepath)"
   ]
  },
  {
   "cell_type": "code",
   "execution_count": 18,
   "id": "1bf4c90f",
   "metadata": {},
   "outputs": [
    {
     "name": "stdout",
     "output_type": "stream",
     "text": [
      "4/4 [==============================] - 3s 692ms/step - loss: 0.0757 - acc: 0.9722\n"
     ]
    },
    {
     "data": {
      "text/plain": [
       "[0.07570143043994904, 0.9722222089767456]"
      ]
     },
     "execution_count": 18,
     "metadata": {},
     "output_type": "execute_result"
    }
   ],
   "source": [
    "model.evaluate(valid_gen)"
   ]
  },
  {
   "cell_type": "code",
   "execution_count": 19,
   "id": "0216b77b",
   "metadata": {},
   "outputs": [],
   "source": [
    "model.save('./model/rps_cnn_0819.h5')"
   ]
  },
  {
   "cell_type": "markdown",
   "id": "e34fe13a",
   "metadata": {},
   "source": [
    "## Step 8. Reload Model"
   ]
  },
  {
   "cell_type": "code",
   "execution_count": 22,
   "id": "af77e4af",
   "metadata": {},
   "outputs": [],
   "source": [
    "mymodel = tf.keras.models.load_model('./model/rps_cnn_0819.h5')"
   ]
  },
  {
   "cell_type": "code",
   "execution_count": 23,
   "id": "1cb46177",
   "metadata": {},
   "outputs": [
    {
     "name": "stdout",
     "output_type": "stream",
     "text": [
      "Model: \"sequential\"\n",
      "_________________________________________________________________\n",
      "Layer (type)                 Output Shape              Param #   \n",
      "=================================================================\n",
      "conv2d (Conv2D)              (None, 148, 148, 64)      1792      \n",
      "_________________________________________________________________\n",
      "max_pooling2d (MaxPooling2D) (None, 74, 74, 64)        0         \n",
      "_________________________________________________________________\n",
      "conv2d_1 (Conv2D)            (None, 72, 72, 64)        36928     \n",
      "_________________________________________________________________\n",
      "max_pooling2d_1 (MaxPooling2 (None, 36, 36, 64)        0         \n",
      "_________________________________________________________________\n",
      "conv2d_2 (Conv2D)            (None, 34, 34, 128)       73856     \n",
      "_________________________________________________________________\n",
      "max_pooling2d_2 (MaxPooling2 (None, 17, 17, 128)       0         \n",
      "_________________________________________________________________\n",
      "conv2d_3 (Conv2D)            (None, 15, 15, 128)       147584    \n",
      "_________________________________________________________________\n",
      "max_pooling2d_3 (MaxPooling2 (None, 7, 7, 128)         0         \n",
      "_________________________________________________________________\n",
      "flatten (Flatten)            (None, 6272)              0         \n",
      "_________________________________________________________________\n",
      "dropout (Dropout)            (None, 6272)              0         \n",
      "_________________________________________________________________\n",
      "dense (Dense)                (None, 512)               3211776   \n",
      "_________________________________________________________________\n",
      "dense_1 (Dense)              (None, 3)                 1539      \n",
      "=================================================================\n",
      "Total params: 3,473,475\n",
      "Trainable params: 3,473,475\n",
      "Non-trainable params: 0\n",
      "_________________________________________________________________\n"
     ]
    }
   ],
   "source": [
    "mymodel.summary()"
   ]
  },
  {
   "cell_type": "code",
   "execution_count": null,
   "id": "425b89bf",
   "metadata": {},
   "outputs": [],
   "source": []
  }
 ],
 "metadata": {
  "kernelspec": {
   "display_name": "Python 3",
   "language": "python",
   "name": "python3"
  },
  "language_info": {
   "codemirror_mode": {
    "name": "ipython",
    "version": 3
   },
   "file_extension": ".py",
   "mimetype": "text/x-python",
   "name": "python",
   "nbconvert_exporter": "python",
   "pygments_lexer": "ipython3",
   "version": "3.7.7"
  }
 },
 "nbformat": 4,
 "nbformat_minor": 5
}