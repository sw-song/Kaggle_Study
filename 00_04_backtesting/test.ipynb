{
 "cells": [
  {
   "cell_type": "markdown",
   "source": [
    "# 가설 검정을 통한 금융 데이터 분석 기초\n",
    "\n",
    "데이터 분석은 가설 검정의 연속이다. 굳이 분석 속도를 늦추며 가설 검정을 하는 이유는 데이터를 바라볼 때 가능한 주관과 직감을 배제하기 위함이며 분석의 방향을 잃지 않도록 단계별로 구체적인 '목적'을 가지기 위함이다. <br><br>\n",
    "가설 검정을 통해 데이터를 분석하는 습관을 기르면 처음에는 속도가 더딜지라도 **결국 정확하고 객관적이며 빠른 속도로 결론에 도달할 수 있다.**<br><br>\n",
    "따라서 본문을 통해 작은 고민도 가설을 세우고 객관적으로 풀어가는 연습을 하고자 한다."
   ],
   "metadata": {}
  },
  {
   "cell_type": "markdown",
   "source": [
    "목차:\n",
    "\n",
    "```\n",
    "Step 1. 카카오 주식을 1999년 11월 11일에 100만원 치 샀다면 오늘 얼마일까?\n",
    "     1-1. 라이브러리 호출 및 데이터 확인\n",
    "     1-2. 가설 검정\n",
    "Step 2. 카카오 주가는 언제나 상승장이었을까?\n",
    "     2-1. 가설 검정\n",
    "```"
   ],
   "metadata": {}
  },
  {
   "cell_type": "markdown",
   "source": [
    "## 1. 카카오 주식을 1999년 11월 11일에 100만원 치 샀다면 오늘 얼마일까?"
   ],
   "metadata": {}
  },
  {
   "cell_type": "markdown",
   "source": [
    "예상컨데 엄청난 돈이 되었을 것이다. 그런데 정확히 얼마가 되었을 지 궁금하지 않은가? 이러한 작은 고민에서도 가설 검정을 시작해볼 수 있다."
   ],
   "metadata": {}
  },
  {
   "cell_type": "markdown",
   "source": [
    "## 1-1. 라이브러리 호출 및 데이터 확인"
   ],
   "metadata": {}
  },
  {
   "cell_type": "markdown",
   "source": [
    "먼저 우리가 사용할 라이브러리를 불러온다.\n",
    "\n",
    "1. 데이터 확보를 위해 금융 데이터를 편하게 가져올 수 있는 `FinanceDataReader`를 사용할 것이고, \n",
    "2. 데이터프레임이라는 파이썬 자료형을 편하게 다루기 위해 `pandas`를 사용한다. \n",
    "3. 마지막으로 시각화를 위해 `matplotlib`과 `seaborn`패키지를 사용하며 \n",
    "4. 주피터노트북에서 종종 나타나는 불필요한 경고를 숨기기 위해 `warnings`패키지도 사용하겠다.(치명적이라면 경고가 아니라 에러가 바로 뜨고 코드가 실행되지 않으니 걱정하지 말자)\n",
    "\n"
   ],
   "metadata": {}
  },
  {
   "cell_type": "code",
   "execution_count": 93,
   "source": [
    "import FinanceDataReader as fdr\n",
    "\n",
    "import pandas as pd\n",
    "import seaborn as sns\n",
    "import matplotlib.pyplot as plt\n",
    "plt.style.use(['classic']) # 테마: 주식 차트 느낌내기\n",
    "\n",
    "import warnings\n",
    "warnings.filterwarnings(action='ignore')"
   ],
   "outputs": [],
   "metadata": {}
  },
  {
   "cell_type": "markdown",
   "source": [
    "다음으로 카카오 종목코드를 인자로 넣어서 카카오 주가 정보를 확보한다."
   ],
   "metadata": {}
  },
  {
   "cell_type": "code",
   "execution_count": 81,
   "source": [
    "stock_kakao = fdr.DataReader('035720')\n",
    "stock_kakao"
   ],
   "outputs": [
    {
     "output_type": "execute_result",
     "data": {
      "text/html": [
       "<div>\n",
       "<style scoped>\n",
       "    .dataframe tbody tr th:only-of-type {\n",
       "        vertical-align: middle;\n",
       "    }\n",
       "\n",
       "    .dataframe tbody tr th {\n",
       "        vertical-align: top;\n",
       "    }\n",
       "\n",
       "    .dataframe thead th {\n",
       "        text-align: right;\n",
       "    }\n",
       "</style>\n",
       "<table border=\"1\" class=\"dataframe\">\n",
       "  <thead>\n",
       "    <tr style=\"text-align: right;\">\n",
       "      <th></th>\n",
       "      <th>Open</th>\n",
       "      <th>High</th>\n",
       "      <th>Low</th>\n",
       "      <th>Close</th>\n",
       "      <th>Volume</th>\n",
       "      <th>Change</th>\n",
       "    </tr>\n",
       "    <tr>\n",
       "      <th>Date</th>\n",
       "      <th></th>\n",
       "      <th></th>\n",
       "      <th></th>\n",
       "      <th></th>\n",
       "      <th></th>\n",
       "      <th></th>\n",
       "    </tr>\n",
       "  </thead>\n",
       "  <tbody>\n",
       "    <tr>\n",
       "      <th>1999-11-11</th>\n",
       "      <td>999</td>\n",
       "      <td>999</td>\n",
       "      <td>999</td>\n",
       "      <td>999</td>\n",
       "      <td>12</td>\n",
       "      <td>NaN</td>\n",
       "    </tr>\n",
       "    <tr>\n",
       "      <th>1999-11-12</th>\n",
       "      <td>1115</td>\n",
       "      <td>1115</td>\n",
       "      <td>1115</td>\n",
       "      <td>1115</td>\n",
       "      <td>140</td>\n",
       "      <td>0.116116</td>\n",
       "    </tr>\n",
       "    <tr>\n",
       "      <th>1999-11-15</th>\n",
       "      <td>1249</td>\n",
       "      <td>1249</td>\n",
       "      <td>1249</td>\n",
       "      <td>1249</td>\n",
       "      <td>405</td>\n",
       "      <td>0.120179</td>\n",
       "    </tr>\n",
       "    <tr>\n",
       "      <th>1999-11-16</th>\n",
       "      <td>1396</td>\n",
       "      <td>1396</td>\n",
       "      <td>1396</td>\n",
       "      <td>1396</td>\n",
       "      <td>214</td>\n",
       "      <td>0.117694</td>\n",
       "    </tr>\n",
       "    <tr>\n",
       "      <th>1999-11-17</th>\n",
       "      <td>1561</td>\n",
       "      <td>1561</td>\n",
       "      <td>1561</td>\n",
       "      <td>1561</td>\n",
       "      <td>191</td>\n",
       "      <td>0.118195</td>\n",
       "    </tr>\n",
       "    <tr>\n",
       "      <th>...</th>\n",
       "      <td>...</td>\n",
       "      <td>...</td>\n",
       "      <td>...</td>\n",
       "      <td>...</td>\n",
       "      <td>...</td>\n",
       "      <td>...</td>\n",
       "    </tr>\n",
       "    <tr>\n",
       "      <th>2021-08-31</th>\n",
       "      <td>152500</td>\n",
       "      <td>155000</td>\n",
       "      <td>151000</td>\n",
       "      <td>155000</td>\n",
       "      <td>3078357</td>\n",
       "      <td>0.023102</td>\n",
       "    </tr>\n",
       "    <tr>\n",
       "      <th>2021-09-01</th>\n",
       "      <td>155000</td>\n",
       "      <td>156000</td>\n",
       "      <td>154000</td>\n",
       "      <td>154000</td>\n",
       "      <td>2011434</td>\n",
       "      <td>-0.006452</td>\n",
       "    </tr>\n",
       "    <tr>\n",
       "      <th>2021-09-02</th>\n",
       "      <td>154500</td>\n",
       "      <td>156000</td>\n",
       "      <td>153500</td>\n",
       "      <td>155000</td>\n",
       "      <td>1649156</td>\n",
       "      <td>0.006494</td>\n",
       "    </tr>\n",
       "    <tr>\n",
       "      <th>2021-09-03</th>\n",
       "      <td>155500</td>\n",
       "      <td>157500</td>\n",
       "      <td>154500</td>\n",
       "      <td>156500</td>\n",
       "      <td>1934669</td>\n",
       "      <td>0.009677</td>\n",
       "    </tr>\n",
       "    <tr>\n",
       "      <th>2021-09-06</th>\n",
       "      <td>156000</td>\n",
       "      <td>156500</td>\n",
       "      <td>152500</td>\n",
       "      <td>155500</td>\n",
       "      <td>1875195</td>\n",
       "      <td>-0.006390</td>\n",
       "    </tr>\n",
       "  </tbody>\n",
       "</table>\n",
       "<p>5388 rows × 6 columns</p>\n",
       "</div>"
      ],
      "text/plain": [
       "              Open    High     Low   Close   Volume    Change\n",
       "Date                                                         \n",
       "1999-11-11     999     999     999     999       12       NaN\n",
       "1999-11-12    1115    1115    1115    1115      140  0.116116\n",
       "1999-11-15    1249    1249    1249    1249      405  0.120179\n",
       "1999-11-16    1396    1396    1396    1396      214  0.117694\n",
       "1999-11-17    1561    1561    1561    1561      191  0.118195\n",
       "...            ...     ...     ...     ...      ...       ...\n",
       "2021-08-31  152500  155000  151000  155000  3078357  0.023102\n",
       "2021-09-01  155000  156000  154000  154000  2011434 -0.006452\n",
       "2021-09-02  154500  156000  153500  155000  1649156  0.006494\n",
       "2021-09-03  155500  157500  154500  156500  1934669  0.009677\n",
       "2021-09-06  156000  156500  152500  155500  1875195 -0.006390\n",
       "\n",
       "[5388 rows x 6 columns]"
      ]
     },
     "metadata": {},
     "execution_count": 81
    }
   ],
   "metadata": {}
  },
  {
   "cell_type": "markdown",
   "source": [
    "## 1-2. 가설 검정"
   ],
   "metadata": {}
  },
  {
   "cell_type": "markdown",
   "source": [
    "카카오 주식을 1999년 11월 11일에 100만원 치 샀다면 오늘 얼마일까?\n",
    "\n",
    "일반적인 수준에서 \"100배 올랐다\" 하면 주식으로 정말 많이 벌었다고 할 수 있다. \n",
    "- 귀무가설) 카카오 주가는 100배 혹은 그 미만으로 올랐다\n",
    "- 연구가설) 카카오 주가는 100배를 초과하여 올랐다\n"
   ],
   "metadata": {}
  },
  {
   "cell_type": "code",
   "execution_count": 82,
   "source": [
    "# 오타 방지를 위해 컬럼명 소문자로 변경\n",
    "stock_kakao.columns = stock_kakao.columns.str.lower()\n",
    "stock_kakao.columns"
   ],
   "outputs": [
    {
     "output_type": "execute_result",
     "data": {
      "text/plain": [
       "Index(['open', 'high', 'low', 'close', 'volume', 'change'], dtype='object')"
      ]
     },
     "metadata": {},
     "execution_count": 82
    }
   ],
   "metadata": {}
  },
  {
   "cell_type": "code",
   "execution_count": 83,
   "source": [
    "# 수익 계산을 위해 첫날 주가로 전체 종가 나누기 \n",
    "stock_kakao['yield'] = stock_kakao['close']/stock_kakao['close'][0]\n",
    "\n",
    "# 첫날 매입한 카카오 주식의 총 가격을 100만원으로 환산\n",
    "stock_kakao['yield'] *= 1000000\n",
    "\n",
    "# 소수점 이하 제거\n",
    "stock_kakao['yield'] = stock_kakao['yield'].astype('int64')\n",
    "stock_kakao['yield']\n",
    "\n",
    "# 보기 쉽게 '천' 단위 구분자 포함된 문자열로 변환\n",
    "# ## ex) 1.000000e+06 --> \"1,000,000.0\"\n",
    "stock_kakao['yield'] = stock_kakao['yield'].apply(lambda x : '{:,}'.format(x))\n",
    "stock_kakao['yield']"
   ],
   "outputs": [
    {
     "output_type": "execute_result",
     "data": {
      "text/plain": [
       "Date\n",
       "1999-11-11      1,000,000\n",
       "1999-11-12      1,116,116\n",
       "1999-11-15      1,250,250\n",
       "1999-11-16      1,397,397\n",
       "1999-11-17      1,562,562\n",
       "                 ...     \n",
       "2021-08-31    155,155,155\n",
       "2021-09-01    154,154,154\n",
       "2021-09-02    155,155,155\n",
       "2021-09-03    156,656,656\n",
       "2021-09-06    155,655,655\n",
       "Name: yield, Length: 5388, dtype: object"
      ]
     },
     "metadata": {},
     "execution_count": 83
    }
   ],
   "metadata": {}
  },
  {
   "cell_type": "markdown",
   "source": [
    "새 천년이 시작하기 직전에 카카오 주식을 100만원치만 사놓고 잊고 지냈다면 지금쯤 1억 5천만원을 벌었다. **150배 넘개 올랐기 때문에 귀무가설을 기각한다.**"
   ],
   "metadata": {}
  },
  {
   "cell_type": "markdown",
   "source": [
    "## 2. 카카오 주가는 언제나 상승장이었을까?"
   ],
   "metadata": {}
  },
  {
   "cell_type": "markdown",
   "source": [
    "주가가 매입 금액 대비 150배가 올랐다면 쉬지 않고 주가가 올랐을 것만 같다.(카카오가 코로나사태 이후 급상승한 것은 알아도 모르는 척 하자 우리는 직감과 경험을 최대한 배제한다.) 이것을 어떻게 데이터로 확인할 수 있을까? "
   ],
   "metadata": {}
  },
  {
   "cell_type": "markdown",
   "source": [
    "## 2-1. 가설 검정(일봉 차트)\n",
    "\n",
    "먼저 단순히 일봉 차트를 그려볼 수 있다. 다시 말하지만 직감적으로 하루 정도는 주가가 빠졌을 것이라 생각할 수 있지만 직감을 완벽히 배제한다. \n",
    "\n",
    "- 귀무가설) 카카오 주가는 하루도 빠짐없이 올랐다.\n",
    "- 연구가설) 카카오 주가는 최소 하루 이상 내렸다."
   ],
   "metadata": {}
  },
  {
   "cell_type": "code",
   "execution_count": 109,
   "source": [
    "# x축은 날짜(Index), y축은 종가(close 컬럼)로 해서 선형 그래프를 그려본다.\n",
    "sns.lineplot(x=stock_kakao.index, y=stock_kakao['close']);"
   ],
   "outputs": [
    {
     "output_type": "display_data",
     "data": {
      "image/png": "[encoded data removed]",
      "text/plain": [
       "<Figure size 640x480 with 1 Axes>"
      ]
     },
     "metadata": {}
    }
   ],
   "metadata": {}
  },
  {
   "cell_type": "markdown",
   "source": [
    "주가의 자잘한 오르내림을 수도 없이 볼 수 있다. **귀무 가설을 기각한다.** 그렇다면 하루 이틀이 아니라 전체 기간의 주가 추세는 어땠을까? 그 전에, 그런 주가 추세를 데이터로 어떻게 볼 수 있을까?"
   ],
   "metadata": {}
  },
  {
   "cell_type": "markdown",
   "source": [
    "## 2-1. 가설 검정(365일 이동평균선)\n",
    "\n",
    "\n",
    "우리에게 익숙한 '이동평균선'을 활용하면 된다. '이동평균선'은 말그대로 n일간 주가 평균의 움직임을 말한다. 여기서 몇 일을 기준으로 할 것인가는 중요하다. 너무 적은 숫자(20일, 30일) 안에서는 등락이 클 것이기 때문에 \"최소 연간 평균치의 움직임은 항상 상승했을 것이다\" 라는 기준으로 이동평균선을 확인해보는 것이 좋다.<br><br>\n",
    "\n",
    "예시에 따라 365일 평균 데이터를 들여다보자.\n",
    "\n",
    "\n",
    "- 귀무가설) 카카오 주가의 365일 이동평균선은 항상 상승했다.\n",
    "- 연구가설) 카카오 주가의 365일 이동평균선은 항상 상승하지 않았다.(내리막이 있었다.)"
   ],
   "metadata": {}
  },
  {
   "cell_type": "code",
   "execution_count": 111,
   "source": [
    "# 300일 이동평균 데이터 확보\n",
    "kakao_moving_avg_365 = stock_kakao['close'].rolling(window=365).mean()\n",
    "\n",
    "# 300일 이동평균 데이터는 지난 300일간 주가를 평균낸 데이터다.\n",
    "# 따라서 가장 앞의 299일치 데이터는 NaN으로 처리된다.\n",
    "# 그래프를 그리기 위해 NaN값을 제거한다.\n",
    "kakao_moving_avg_365 = kakao_moving_avg_365.dropna()\n",
    "\n",
    "# 300일 이평선을 그린다\n",
    "kakao_moving_avg_365.plot();\n"
   ],
   "outputs": [
    {
     "output_type": "display_data",
     "data": {
      "image/png": "[encoded data removed]",
      "text/plain": [
       "<Figure size 640x480 with 1 Axes>"
      ]
     },
     "metadata": {}
    }
   ],
   "metadata": {}
  },
  {
   "cell_type": "markdown",
   "source": [
    "카카오는 안타깝게도 최소 2019년까지(굉장히 최근이다) ~~개잡주~~라 불리며 고통 받았을 것만 같다. 그러나 끝까지 믿어준(코로나로 떡락할때까지도) 우리 주주들에게 \"기다려주셔서 감사합니다\"하고 선물하듯 수직 상승 하고있다.\n",
    "\n",
    "2019년~2020년 초까지 고통받은 고통받은 카카오 주주들을 위로하며 **귀무가설을 기각한다.**"
   ],
   "metadata": {}
  }
 ],
 "metadata": {
  "orig_nbformat": 4,
  "language_info": {
   "name": "python",
   "version": "3.7.7",
   "mimetype": "text/x-python",
   "codemirror_mode": {
    "name": "ipython",
    "version": 3
   },
   "pygments_lexer": "ipython3",
   "nbconvert_exporter": "python",
   "file_extension": ".py"
  },
  "kernelspec": {
   "name": "python3",
   "display_name": "Python 3.7.7 64-bit ('dataScience': conda)"
  },
  "interpreter": {
   "hash": "88212c6b79be9b544bafe6735d74fe8c206b1cc2a4f62e98b323686df1ed5be2"
  }
 },
 "nbformat": 4,
 "nbformat_minor": 2
}