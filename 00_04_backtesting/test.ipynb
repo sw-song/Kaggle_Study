{
 "cells": [
  {
   "cell_type": "markdown",
   "source": [
    "가설 검증을 통한 데이터 분석 기초\n",
    "\n",
    "데이터 분석은 가설 검정의 연속이다. 굳이 분석 속도를 늦추며 가설 검정을 하는 이유는 데이터를 바라볼 때 가능한 주관과 직감을 배제하기 위함이며 분석의 방향을 잃지 않도록 단계별로 구체적인 '목적'을 가지기 위함이다. <br><br>\n",
    "가설 검정을 통해 데이터를 분석하는 습관을 기르면 처음에는 속도가 더딜지라도 **결국 정확하고 객관적이며 빠른 속도로 결론에 도달할 수 있다.**<br><br>\n",
    "따라서 본문을 통해 작은 고민도 가설을 세우고 객관적으로 풀어가는 연습을 하고자 한다."
   ],
   "metadata": {}
  },
  {
   "cell_type": "code",
   "execution_count": 93,
   "source": [
    "import FinanceDataReader as fdr\n",
    "\n",
    "import pandas as pd\n",
    "import seaborn as sns\n",
    "import matplotlib.pyplot as plt\n",
    "plt.style.use(['classic']) # 테마: 주식 차트 느낌내기\n",
    "\n",
    "import warnings\n",
    "warnings.filterwarnings(action='ignore')"
   ],
   "outputs": [],
   "metadata": {}
  },
  {
   "cell_type": "code",
   "execution_count": 81,
   "source": [
    "stock_kakao = fdr.DataReader('035720')\n",
    "stock_kakao"
   ],
   "outputs": [
    {
     "output_type": "execute_result",
     "data": {
      "text/html": [
       "<div>\n",
       "<style scoped>\n",
       "    .dataframe tbody tr th:only-of-type {\n",
       "        vertical-align: middle;\n",
       "    }\n",
       "\n",
       "    .dataframe tbody tr th {\n",
       "        vertical-align: top;\n",
       "    }\n",
       "\n",
       "    .dataframe thead th {\n",
       "        text-align: right;\n",
       "    }\n",
       "</style>\n",
       "<table border=\"1\" class=\"dataframe\">\n",
       "  <thead>\n",
       "    <tr style=\"text-align: right;\">\n",
       "      <th></th>\n",
       "      <th>Open</th>\n",
       "      <th>High</th>\n",
       "      <th>Low</th>\n",
       "      <th>Close</th>\n",
       "      <th>Volume</th>\n",
       "      <th>Change</th>\n",
       "    </tr>\n",
       "    <tr>\n",
       "      <th>Date</th>\n",
       "      <th></th>\n",
       "      <th></th>\n",
       "      <th></th>\n",
       "      <th></th>\n",
       "      <th></th>\n",
       "      <th></th>\n",
       "    </tr>\n",
       "  </thead>\n",
       "  <tbody>\n",
       "    <tr>\n",
       "      <th>1999-11-11</th>\n",
       "      <td>999</td>\n",
       "      <td>999</td>\n",
       "      <td>999</td>\n",
       "      <td>999</td>\n",
       "      <td>12</td>\n",
       "      <td>NaN</td>\n",
       "    </tr>\n",
       "    <tr>\n",
       "      <th>1999-11-12</th>\n",
       "      <td>1115</td>\n",
       "      <td>1115</td>\n",
       "      <td>1115</td>\n",
       "      <td>1115</td>\n",
       "      <td>140</td>\n",
       "      <td>0.116116</td>\n",
       "    </tr>\n",
       "    <tr>\n",
       "      <th>1999-11-15</th>\n",
       "      <td>1249</td>\n",
       "      <td>1249</td>\n",
       "      <td>1249</td>\n",
       "      <td>1249</td>\n",
       "      <td>405</td>\n",
       "      <td>0.120179</td>\n",
       "    </tr>\n",
       "    <tr>\n",
       "      <th>1999-11-16</th>\n",
       "      <td>1396</td>\n",
       "      <td>1396</td>\n",
       "      <td>1396</td>\n",
       "      <td>1396</td>\n",
       "      <td>214</td>\n",
       "      <td>0.117694</td>\n",
       "    </tr>\n",
       "    <tr>\n",
       "      <th>1999-11-17</th>\n",
       "      <td>1561</td>\n",
       "      <td>1561</td>\n",
       "      <td>1561</td>\n",
       "      <td>1561</td>\n",
       "      <td>191</td>\n",
       "      <td>0.118195</td>\n",
       "    </tr>\n",
       "    <tr>\n",
       "      <th>...</th>\n",
       "      <td>...</td>\n",
       "      <td>...</td>\n",
       "      <td>...</td>\n",
       "      <td>...</td>\n",
       "      <td>...</td>\n",
       "      <td>...</td>\n",
       "    </tr>\n",
       "    <tr>\n",
       "      <th>2021-08-31</th>\n",
       "      <td>152500</td>\n",
       "      <td>155000</td>\n",
       "      <td>151000</td>\n",
       "      <td>155000</td>\n",
       "      <td>3078357</td>\n",
       "      <td>0.023102</td>\n",
       "    </tr>\n",
       "    <tr>\n",
       "      <th>2021-09-01</th>\n",
       "      <td>155000</td>\n",
       "      <td>156000</td>\n",
       "      <td>154000</td>\n",
       "      <td>154000</td>\n",
       "      <td>2011434</td>\n",
       "      <td>-0.006452</td>\n",
       "    </tr>\n",
       "    <tr>\n",
       "      <th>2021-09-02</th>\n",
       "      <td>154500</td>\n",
       "      <td>156000</td>\n",
       "      <td>153500</td>\n",
       "      <td>155000</td>\n",
       "      <td>1649156</td>\n",
       "      <td>0.006494</td>\n",
       "    </tr>\n",
       "    <tr>\n",
       "      <th>2021-09-03</th>\n",
       "      <td>155500</td>\n",
       "      <td>157500</td>\n",
       "      <td>154500</td>\n",
       "      <td>156500</td>\n",
       "      <td>1934669</td>\n",
       "      <td>0.009677</td>\n",
       "    </tr>\n",
       "    <tr>\n",
       "      <th>2021-09-06</th>\n",
       "      <td>156000</td>\n",
       "      <td>156500</td>\n",
       "      <td>152500</td>\n",
       "      <td>155500</td>\n",
       "      <td>1875195</td>\n",
       "      <td>-0.006390</td>\n",
       "    </tr>\n",
       "  </tbody>\n",
       "</table>\n",
       "<p>5388 rows × 6 columns</p>\n",
       "</div>"
      ],
      "text/plain": [
       "              Open    High     Low   Close   Volume    Change\n",
       "Date                                                         \n",
       "1999-11-11     999     999     999     999       12       NaN\n",
       "1999-11-12    1115    1115    1115    1115      140  0.116116\n",
       "1999-11-15    1249    1249    1249    1249      405  0.120179\n",
       "1999-11-16    1396    1396    1396    1396      214  0.117694\n",
       "1999-11-17    1561    1561    1561    1561      191  0.118195\n",
       "...            ...     ...     ...     ...      ...       ...\n",
       "2021-08-31  152500  155000  151000  155000  3078357  0.023102\n",
       "2021-09-01  155000  156000  154000  154000  2011434 -0.006452\n",
       "2021-09-02  154500  156000  153500  155000  1649156  0.006494\n",
       "2021-09-03  155500  157500  154500  156500  1934669  0.009677\n",
       "2021-09-06  156000  156500  152500  155500  1875195 -0.006390\n",
       "\n",
       "[5388 rows x 6 columns]"
      ]
     },
     "metadata": {},
     "execution_count": 81
    }
   ],
   "metadata": {}
  },
  {
   "cell_type": "markdown",
   "source": [
    "카카오 주식을 1999년 11월 11일에 100만원 치 샀다면 오늘 얼마일까?\n",
    "\n",
    "일반적인 수준에서 \"100배 올랐다\" 하면 주식으로 정말 많이 벌었다고 할 수 있다. \n",
    "- 귀무가설) 카카오 주가는 100배 혹은 그 미만으로 올랐다\n",
    "- 연구가설) 카카오 주가는 100배를 초과하여 올랐다\n"
   ],
   "metadata": {}
  },
  {
   "cell_type": "code",
   "execution_count": 82,
   "source": [
    "# 오타 방지를 위해 컬럼명 소문자로 변경\n",
    "stock_kakao.columns = stock_kakao.columns.str.lower()\n",
    "stock_kakao.columns"
   ],
   "outputs": [
    {
     "output_type": "execute_result",
     "data": {
      "text/plain": [
       "Index(['open', 'high', 'low', 'close', 'volume', 'change'], dtype='object')"
      ]
     },
     "metadata": {},
     "execution_count": 82
    }
   ],
   "metadata": {}
  },
  {
   "cell_type": "code",
   "execution_count": 83,
   "source": [
    "# 수익 계산을 위해 첫날 주가로 전체 종가 나누기 \n",
    "stock_kakao['yield'] = stock_kakao['close']/stock_kakao['close'][0]\n",
    "\n",
    "# 첫날 매입한 카카오 주식의 총 가격을 100만원으로 환산\n",
    "stock_kakao['yield'] *= 1000000\n",
    "\n",
    "# 소수점 이하 제거\n",
    "stock_kakao['yield'] = stock_kakao['yield'].astype('int64')\n",
    "stock_kakao['yield']\n",
    "\n",
    "# 보기 쉽게 '천' 단위 구분자 포함된 문자열로 변환\n",
    "# ## ex) 1.000000e+06 --> \"1,000,000.0\"\n",
    "stock_kakao['yield'] = stock_kakao['yield'].apply(lambda x : '{:,}'.format(x))\n",
    "stock_kakao['yield']"
   ],
   "outputs": [
    {
     "output_type": "execute_result",
     "data": {
      "text/plain": [
       "Date\n",
       "1999-11-11      1,000,000\n",
       "1999-11-12      1,116,116\n",
       "1999-11-15      1,250,250\n",
       "1999-11-16      1,397,397\n",
       "1999-11-17      1,562,562\n",
       "                 ...     \n",
       "2021-08-31    155,155,155\n",
       "2021-09-01    154,154,154\n",
       "2021-09-02    155,155,155\n",
       "2021-09-03    156,656,656\n",
       "2021-09-06    155,655,655\n",
       "Name: yield, Length: 5388, dtype: object"
      ]
     },
     "metadata": {},
     "execution_count": 83
    }
   ],
   "metadata": {}
  },
  {
   "cell_type": "markdown",
   "source": [
    "새 천년이 시작하기 직전에 카카오 주식을 100만원치만 사놓고 잊고 지냈다면 지금쯤 1억 5천만원을 벌었다. **150배 넘개 올랐기 때문에 귀무가설을 기각한다.**"
   ],
   "metadata": {}
  },
  {
   "cell_type": "markdown",
   "source": [
    "그렇다면 카카오 주가는 항상 시뻘갰을까?\n",
    "\n",
    "- 귀무가설) 카카오 주가는 항상 상승세였다.\n",
    "- 연구가설) 카카오 주가는 항상 상승세가 아니었다.(등락이 있었다.)"
   ],
   "metadata": {}
  },
  {
   "cell_type": "code",
   "execution_count": 90,
   "source": [
    "sns.lineplot(x=stock_kakao.index, y=stock_kakao['close']);"
   ],
   "outputs": [
    {
     "output_type": "display_data",
     "data": {
      "image/png": "[encoded data removed]",
      "text/plain": [
       "<Figure size 640x480 with 1 Axes>"
      ]
     },
     "metadata": {}
    }
   ],
   "metadata": {}
  },
  {
   "cell_type": "markdown",
   "source": [
    "2020년까지는 "
   ],
   "metadata": {}
  },
  {
   "cell_type": "code",
   "execution_count": 61,
   "source": [
    "stock_kakao.index.day"
   ],
   "outputs": [
    {
     "output_type": "execute_result",
     "data": {
      "text/plain": [
       "Int64Index([11, 12, 15, 16, 17, 18, 19, 22, 23, 24,\n",
       "            ...\n",
       "            24, 25, 26, 27, 30, 31,  1,  2,  3,  6],\n",
       "           dtype='int64', name='Date', length=5388)"
      ]
     },
     "metadata": {},
     "execution_count": 61
    }
   ],
   "metadata": {}
  },
  {
   "cell_type": "markdown",
   "source": [],
   "metadata": {}
  }
 ],
 "metadata": {
  "orig_nbformat": 4,
  "language_info": {
   "name": "python",
   "version": "3.7.7",
   "mimetype": "text/x-python",
   "codemirror_mode": {
    "name": "ipython",
    "version": 3
   },
   "pygments_lexer": "ipython3",
   "nbconvert_exporter": "python",
   "file_extension": ".py"
  },
  "kernelspec": {
   "name": "python3",
   "display_name": "Python 3.7.7 64-bit ('dataScience': conda)"
  },
  "interpreter": {
   "hash": "88212c6b79be9b544bafe6735d74fe8c206b1cc2a4f62e98b323686df1ed5be2"
  }
 },
 "nbformat": 4,
 "nbformat_minor": 2
}