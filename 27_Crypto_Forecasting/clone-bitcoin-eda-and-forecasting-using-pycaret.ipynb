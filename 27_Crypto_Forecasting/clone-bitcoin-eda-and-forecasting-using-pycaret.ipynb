{
 "cells": [
  {
   "cell_type": "markdown",
   "id": "2b4705db",
   "metadata": {
    "papermill": {
     "duration": 0.028815,
     "end_time": "2021-12-11T03:35:32.455689",
     "exception": false,
     "start_time": "2021-12-11T03:35:32.426874",
     "status": "completed"
    },
    "tags": []
   },
   "source": [
    "# [clone project] [Bitcoin-EDA and Forcasting using PyCaret](https://www.kaggle.com/pralabhpoudel/bitcoin-eda-and-forcasting-using-pycaret) - pralabh poudel"
   ]
  },
  {
   "cell_type": "markdown",
   "id": "6ade2b0a",
   "metadata": {},
   "source": [
    "Table of contents\n",
    "```\n",
    "1. Importing dataset\n",
    "2. Filtering bitcoin from dataset\n",
    "   2-1. checking for null values\n",
    "   2-2. dropping null values\n",
    "   2-3. changing unix timestamp into date and time\n",
    "3. Explanatory data analysis\n",
    "   3-1. statistics of bitcoin\n",
    "   3-2. some insights about bitcoin\n",
    "   3-3. vwap as per time\n",
    "   3-4. trading volume as per time\n",
    "   3-5. the number of trades that took place as per time\n",
    "   3-6. correlation\n",
    "4. Using pycaret for forcasting close price of bitcoin\n",
    "   4-1. installing pycaret\n",
    "   4-2. setting up the model and comparing between different models\n",
    "   4-3. plotting the best model\n",
    "```"
   ]
  },
  {
   "cell_type": "code",
   "execution_count": 1,
   "id": "66338435",
   "metadata": {
    "_cell_guid": "b1076dfc-b9ad-4769-8c92-a6c4dae69d19",
    "_uuid": "8f2839f25d086af736a60e9eeb907d3b93b6e0e5",
    "execution": {
     "iopub.execute_input": "2021-12-11T03:35:32.522588Z",
     "iopub.status.busy": "2021-12-11T03:35:32.521906Z",
     "iopub.status.idle": "2021-12-11T03:35:32.532708Z",
     "shell.execute_reply": "2021-12-11T03:35:32.533697Z",
     "shell.execute_reply.started": "2021-12-11T02:45:05.462708Z"
    },
    "papermill": {
     "duration": 0.048233,
     "end_time": "2021-12-11T03:35:32.534197",
     "exception": false,
     "start_time": "2021-12-11T03:35:32.485964",
     "status": "completed"
    },
    "tags": []
   },
   "outputs": [
    {
     "name": "stdout",
     "output_type": "stream",
     "text": [
      "/kaggle/input/g-research-crypto-forecasting/example_sample_submission.csv\n",
      "/kaggle/input/g-research-crypto-forecasting/asset_details.csv\n",
      "/kaggle/input/g-research-crypto-forecasting/example_test.csv\n",
      "/kaggle/input/g-research-crypto-forecasting/train.csv\n",
      "/kaggle/input/g-research-crypto-forecasting/supplemental_train.csv\n",
      "/kaggle/input/g-research-crypto-forecasting/gresearch_crypto/competition.cpython-37m-x86_64-linux-gnu.so\n",
      "/kaggle/input/g-research-crypto-forecasting/gresearch_crypto/__init__.py\n"
     ]
    }
   ],
   "source": [
    "# This Python 3 environment comes with many helpful analytics libraries installed\n",
    "# It is defined by the kaggle/python Docker image: https://github.com/kaggle/docker-python\n",
    "# For example, here's several helpful packages to load\n",
    "\n",
    "import numpy as np # linear algebra\n",
    "import pandas as pd # data processing, CSV file I/O (e.g. pd.read_csv)\n",
    "\n",
    "# Input data files are available in the read-only \"../input/\" directory\n",
    "# For example, running this (by clicking run or pressing Shift+Enter) will list all files under the input directory\n",
    "\n",
    "import os\n",
    "for dirname, _, filenames in os.walk('/kaggle/input'):\n",
    "    for filename in filenames:\n",
    "        print(os.path.join(dirname, filename))\n",
    "\n",
    "# You can write up to 20GB to the current directory (/kaggle/working/) that gets preserved as output when you create a version using \"Save & Run All\" \n",
    "# You can also write temporary files to /kaggle/temp/, but they won't be saved outside of the current session"
   ]
  },
  {
   "cell_type": "markdown",
   "id": "ee048365",
   "metadata": {
    "execution": {
     "iopub.execute_input": "2021-12-11T02:46:25.490824Z",
     "iopub.status.busy": "2021-12-11T02:46:25.489928Z",
     "iopub.status.idle": "2021-12-11T02:46:25.496154Z",
     "shell.execute_reply": "2021-12-11T02:46:25.494507Z",
     "shell.execute_reply.started": "2021-12-11T02:46:25.490768Z"
    },
    "papermill": {
     "duration": 0.027464,
     "end_time": "2021-12-11T03:35:32.589877",
     "exception": false,
     "start_time": "2021-12-11T03:35:32.562413",
     "status": "completed"
    },
    "tags": []
   },
   "source": [
    "## 1. Importing Dataset"
   ]
  },
  {
   "cell_type": "code",
   "execution_count": 2,
   "id": "f5985409",
   "metadata": {
    "execution": {
     "iopub.execute_input": "2021-12-11T03:35:32.648775Z",
     "iopub.status.busy": "2021-12-11T03:35:32.648130Z",
     "iopub.status.idle": "2021-12-11T03:35:33.667514Z",
     "shell.execute_reply": "2021-12-11T03:35:33.668000Z",
     "shell.execute_reply.started": "2021-12-11T02:45:05.476742Z"
    },
    "papermill": {
     "duration": 1.050519,
     "end_time": "2021-12-11T03:35:33.668198",
     "exception": false,
     "start_time": "2021-12-11T03:35:32.617679",
     "status": "completed"
    },
    "tags": []
   },
   "outputs": [],
   "source": [
    "import datetime as dt\n",
    "\n",
    "import matplotlib.pyplot as plt\n",
    "import seaborn as sns\n",
    "%matplotlib inline\n",
    "\n",
    "import os"
   ]
  },
  {
   "cell_type": "code",
   "execution_count": 3,
   "id": "d9f6b594",
   "metadata": {
    "execution": {
     "iopub.execute_input": "2021-12-11T03:35:33.728106Z",
     "iopub.status.busy": "2021-12-11T03:35:33.727055Z",
     "iopub.status.idle": "2021-12-11T03:36:32.798875Z",
     "shell.execute_reply": "2021-12-11T03:36:32.799475Z",
     "shell.execute_reply.started": "2021-12-11T02:45:05.493519Z"
    },
    "papermill": {
     "duration": 59.103804,
     "end_time": "2021-12-11T03:36:32.799656",
     "exception": false,
     "start_time": "2021-12-11T03:35:33.695852",
     "status": "completed"
    },
    "tags": []
   },
   "outputs": [
    {
     "data": {
      "text/html": [
       "<div>\n",
       "<style scoped>\n",
       "    .dataframe tbody tr th:only-of-type {\n",
       "        vertical-align: middle;\n",
       "    }\n",
       "\n",
       "    .dataframe tbody tr th {\n",
       "        vertical-align: top;\n",
       "    }\n",
       "\n",
       "    .dataframe thead th {\n",
       "        text-align: right;\n",
       "    }\n",
       "</style>\n",
       "<table border=\"1\" class=\"dataframe\">\n",
       "  <thead>\n",
       "    <tr style=\"text-align: right;\">\n",
       "      <th></th>\n",
       "      <th>timestamp</th>\n",
       "      <th>Asset_ID</th>\n",
       "      <th>Count</th>\n",
       "      <th>Open</th>\n",
       "      <th>High</th>\n",
       "      <th>Low</th>\n",
       "      <th>Close</th>\n",
       "      <th>Volume</th>\n",
       "      <th>VWAP</th>\n",
       "      <th>Target</th>\n",
       "    </tr>\n",
       "  </thead>\n",
       "  <tbody>\n",
       "    <tr>\n",
       "      <th>0</th>\n",
       "      <td>1514764860</td>\n",
       "      <td>2</td>\n",
       "      <td>40.0</td>\n",
       "      <td>2376.580000</td>\n",
       "      <td>2399.5000</td>\n",
       "      <td>2357.1400</td>\n",
       "      <td>2374.590000</td>\n",
       "      <td>19.233005</td>\n",
       "      <td>2373.116392</td>\n",
       "      <td>-0.004218</td>\n",
       "    </tr>\n",
       "    <tr>\n",
       "      <th>1</th>\n",
       "      <td>1514764860</td>\n",
       "      <td>0</td>\n",
       "      <td>5.0</td>\n",
       "      <td>8.530000</td>\n",
       "      <td>8.5300</td>\n",
       "      <td>8.5300</td>\n",
       "      <td>8.530000</td>\n",
       "      <td>78.380000</td>\n",
       "      <td>8.530000</td>\n",
       "      <td>-0.014399</td>\n",
       "    </tr>\n",
       "    <tr>\n",
       "      <th>2</th>\n",
       "      <td>1514764860</td>\n",
       "      <td>1</td>\n",
       "      <td>229.0</td>\n",
       "      <td>13835.194000</td>\n",
       "      <td>14013.8000</td>\n",
       "      <td>13666.1100</td>\n",
       "      <td>13850.176000</td>\n",
       "      <td>31.550062</td>\n",
       "      <td>13827.062093</td>\n",
       "      <td>-0.014643</td>\n",
       "    </tr>\n",
       "    <tr>\n",
       "      <th>3</th>\n",
       "      <td>1514764860</td>\n",
       "      <td>5</td>\n",
       "      <td>32.0</td>\n",
       "      <td>7.659600</td>\n",
       "      <td>7.6596</td>\n",
       "      <td>7.6567</td>\n",
       "      <td>7.657600</td>\n",
       "      <td>6626.713370</td>\n",
       "      <td>7.657713</td>\n",
       "      <td>-0.013922</td>\n",
       "    </tr>\n",
       "    <tr>\n",
       "      <th>4</th>\n",
       "      <td>1514764860</td>\n",
       "      <td>7</td>\n",
       "      <td>5.0</td>\n",
       "      <td>25.920000</td>\n",
       "      <td>25.9200</td>\n",
       "      <td>25.8740</td>\n",
       "      <td>25.877000</td>\n",
       "      <td>121.087310</td>\n",
       "      <td>25.891363</td>\n",
       "      <td>-0.008264</td>\n",
       "    </tr>\n",
       "    <tr>\n",
       "      <th>5</th>\n",
       "      <td>1514764860</td>\n",
       "      <td>6</td>\n",
       "      <td>173.0</td>\n",
       "      <td>738.302500</td>\n",
       "      <td>746.0000</td>\n",
       "      <td>732.5100</td>\n",
       "      <td>738.507500</td>\n",
       "      <td>335.987856</td>\n",
       "      <td>738.839291</td>\n",
       "      <td>-0.004809</td>\n",
       "    </tr>\n",
       "    <tr>\n",
       "      <th>6</th>\n",
       "      <td>1514764860</td>\n",
       "      <td>9</td>\n",
       "      <td>167.0</td>\n",
       "      <td>225.330000</td>\n",
       "      <td>227.7800</td>\n",
       "      <td>222.9800</td>\n",
       "      <td>225.206667</td>\n",
       "      <td>411.896642</td>\n",
       "      <td>225.197944</td>\n",
       "      <td>-0.009791</td>\n",
       "    </tr>\n",
       "    <tr>\n",
       "      <th>7</th>\n",
       "      <td>1514764860</td>\n",
       "      <td>11</td>\n",
       "      <td>7.0</td>\n",
       "      <td>329.090000</td>\n",
       "      <td>329.8800</td>\n",
       "      <td>329.0900</td>\n",
       "      <td>329.460000</td>\n",
       "      <td>6.635710</td>\n",
       "      <td>329.454118</td>\n",
       "      <td>NaN</td>\n",
       "    </tr>\n",
       "    <tr>\n",
       "      <th>8</th>\n",
       "      <td>1514764920</td>\n",
       "      <td>2</td>\n",
       "      <td>53.0</td>\n",
       "      <td>2374.553333</td>\n",
       "      <td>2400.9000</td>\n",
       "      <td>2354.2000</td>\n",
       "      <td>2372.286667</td>\n",
       "      <td>24.050259</td>\n",
       "      <td>2371.434498</td>\n",
       "      <td>-0.004079</td>\n",
       "    </tr>\n",
       "    <tr>\n",
       "      <th>9</th>\n",
       "      <td>1514764920</td>\n",
       "      <td>0</td>\n",
       "      <td>7.0</td>\n",
       "      <td>8.530000</td>\n",
       "      <td>8.5300</td>\n",
       "      <td>8.5145</td>\n",
       "      <td>8.514500</td>\n",
       "      <td>71.390000</td>\n",
       "      <td>8.520215</td>\n",
       "      <td>-0.015875</td>\n",
       "    </tr>\n",
       "  </tbody>\n",
       "</table>\n",
       "</div>"
      ],
      "text/plain": [
       "    timestamp  Asset_ID  Count          Open        High         Low  \\\n",
       "0  1514764860         2   40.0   2376.580000   2399.5000   2357.1400   \n",
       "1  1514764860         0    5.0      8.530000      8.5300      8.5300   \n",
       "2  1514764860         1  229.0  13835.194000  14013.8000  13666.1100   \n",
       "3  1514764860         5   32.0      7.659600      7.6596      7.6567   \n",
       "4  1514764860         7    5.0     25.920000     25.9200     25.8740   \n",
       "5  1514764860         6  173.0    738.302500    746.0000    732.5100   \n",
       "6  1514764860         9  167.0    225.330000    227.7800    222.9800   \n",
       "7  1514764860        11    7.0    329.090000    329.8800    329.0900   \n",
       "8  1514764920         2   53.0   2374.553333   2400.9000   2354.2000   \n",
       "9  1514764920         0    7.0      8.530000      8.5300      8.5145   \n",
       "\n",
       "          Close       Volume          VWAP    Target  \n",
       "0   2374.590000    19.233005   2373.116392 -0.004218  \n",
       "1      8.530000    78.380000      8.530000 -0.014399  \n",
       "2  13850.176000    31.550062  13827.062093 -0.014643  \n",
       "3      7.657600  6626.713370      7.657713 -0.013922  \n",
       "4     25.877000   121.087310     25.891363 -0.008264  \n",
       "5    738.507500   335.987856    738.839291 -0.004809  \n",
       "6    225.206667   411.896642    225.197944 -0.009791  \n",
       "7    329.460000     6.635710    329.454118       NaN  \n",
       "8   2372.286667    24.050259   2371.434498 -0.004079  \n",
       "9      8.514500    71.390000      8.520215 -0.015875  "
      ]
     },
     "execution_count": 3,
     "metadata": {},
     "output_type": "execute_result"
    }
   ],
   "source": [
    "crypto_data = pd.read_csv(\"../input/g-research-crypto-forecasting/train.csv\")\n",
    "crypto_data.head(10)"
   ]
  },
  {
   "cell_type": "markdown",
   "id": "ff7dc895",
   "metadata": {
    "papermill": {
     "duration": 0.029383,
     "end_time": "2021-12-11T03:36:32.858248",
     "exception": false,
     "start_time": "2021-12-11T03:36:32.828865",
     "status": "completed"
    },
    "tags": []
   },
   "source": [
    "## 2. Filtering Bitcoin from the dataset"
   ]
  },
  {
   "cell_type": "code",
   "execution_count": 4,
   "id": "02930372",
   "metadata": {
    "execution": {
     "iopub.execute_input": "2021-12-11T03:36:32.919661Z",
     "iopub.status.busy": "2021-12-11T03:36:32.918991Z",
     "iopub.status.idle": "2021-12-11T03:36:33.414513Z",
     "shell.execute_reply": "2021-12-11T03:36:33.413967Z",
     "shell.execute_reply.started": "2021-12-11T02:48:33.622134Z"
    },
    "papermill": {
     "duration": 0.527836,
     "end_time": "2021-12-11T03:36:33.414668",
     "exception": false,
     "start_time": "2021-12-11T03:36:32.886832",
     "status": "completed"
    },
    "tags": []
   },
   "outputs": [
    {
     "data": {
      "text/html": [
       "<div>\n",
       "<style scoped>\n",
       "    .dataframe tbody tr th:only-of-type {\n",
       "        vertical-align: middle;\n",
       "    }\n",
       "\n",
       "    .dataframe tbody tr th {\n",
       "        vertical-align: top;\n",
       "    }\n",
       "\n",
       "    .dataframe thead th {\n",
       "        text-align: right;\n",
       "    }\n",
       "</style>\n",
       "<table border=\"1\" class=\"dataframe\">\n",
       "  <thead>\n",
       "    <tr style=\"text-align: right;\">\n",
       "      <th></th>\n",
       "      <th>timestamp</th>\n",
       "      <th>Asset_ID</th>\n",
       "      <th>Count</th>\n",
       "      <th>Open</th>\n",
       "      <th>High</th>\n",
       "      <th>Low</th>\n",
       "      <th>Close</th>\n",
       "      <th>Volume</th>\n",
       "      <th>VWAP</th>\n",
       "      <th>Target</th>\n",
       "    </tr>\n",
       "  </thead>\n",
       "  <tbody>\n",
       "    <tr>\n",
       "      <th>2</th>\n",
       "      <td>1514764860</td>\n",
       "      <td>1</td>\n",
       "      <td>229.0</td>\n",
       "      <td>13835.194</td>\n",
       "      <td>14013.8</td>\n",
       "      <td>13666.11</td>\n",
       "      <td>13850.176</td>\n",
       "      <td>31.550062</td>\n",
       "      <td>13827.062093</td>\n",
       "      <td>-0.014643</td>\n",
       "    </tr>\n",
       "    <tr>\n",
       "      <th>10</th>\n",
       "      <td>1514764920</td>\n",
       "      <td>1</td>\n",
       "      <td>235.0</td>\n",
       "      <td>13835.036</td>\n",
       "      <td>14052.3</td>\n",
       "      <td>13680.00</td>\n",
       "      <td>13828.102</td>\n",
       "      <td>31.046432</td>\n",
       "      <td>13840.362591</td>\n",
       "      <td>-0.015037</td>\n",
       "    </tr>\n",
       "    <tr>\n",
       "      <th>18</th>\n",
       "      <td>1514764980</td>\n",
       "      <td>1</td>\n",
       "      <td>528.0</td>\n",
       "      <td>13823.900</td>\n",
       "      <td>14000.4</td>\n",
       "      <td>13601.00</td>\n",
       "      <td>13801.314</td>\n",
       "      <td>55.061820</td>\n",
       "      <td>13806.068014</td>\n",
       "      <td>-0.010309</td>\n",
       "    </tr>\n",
       "    <tr>\n",
       "      <th>26</th>\n",
       "      <td>1514765040</td>\n",
       "      <td>1</td>\n",
       "      <td>435.0</td>\n",
       "      <td>13802.512</td>\n",
       "      <td>13999.0</td>\n",
       "      <td>13576.28</td>\n",
       "      <td>13768.040</td>\n",
       "      <td>38.780529</td>\n",
       "      <td>13783.598101</td>\n",
       "      <td>-0.008999</td>\n",
       "    </tr>\n",
       "    <tr>\n",
       "      <th>34</th>\n",
       "      <td>1514765100</td>\n",
       "      <td>1</td>\n",
       "      <td>742.0</td>\n",
       "      <td>13766.000</td>\n",
       "      <td>13955.9</td>\n",
       "      <td>13554.44</td>\n",
       "      <td>13724.914</td>\n",
       "      <td>108.501637</td>\n",
       "      <td>13735.586842</td>\n",
       "      <td>-0.008079</td>\n",
       "    </tr>\n",
       "  </tbody>\n",
       "</table>\n",
       "</div>"
      ],
      "text/plain": [
       "     timestamp  Asset_ID  Count       Open     High       Low      Close  \\\n",
       "2   1514764860         1  229.0  13835.194  14013.8  13666.11  13850.176   \n",
       "10  1514764920         1  235.0  13835.036  14052.3  13680.00  13828.102   \n",
       "18  1514764980         1  528.0  13823.900  14000.4  13601.00  13801.314   \n",
       "26  1514765040         1  435.0  13802.512  13999.0  13576.28  13768.040   \n",
       "34  1514765100         1  742.0  13766.000  13955.9  13554.44  13724.914   \n",
       "\n",
       "        Volume          VWAP    Target  \n",
       "2    31.550062  13827.062093 -0.014643  \n",
       "10   31.046432  13840.362591 -0.015037  \n",
       "18   55.061820  13806.068014 -0.010309  \n",
       "26   38.780529  13783.598101 -0.008999  \n",
       "34  108.501637  13735.586842 -0.008079  "
      ]
     },
     "execution_count": 4,
     "metadata": {},
     "output_type": "execute_result"
    }
   ],
   "source": [
    "bitcoin = crypto_data.query('Asset_ID==1')\n",
    "bitcoin.head()"
   ]
  },
  {
   "cell_type": "markdown",
   "id": "6909a4ba",
   "metadata": {
    "execution": {
     "iopub.execute_input": "2021-12-11T02:49:11.995385Z",
     "iopub.status.busy": "2021-12-11T02:49:11.994998Z",
     "iopub.status.idle": "2021-12-11T02:49:12.001089Z",
     "shell.execute_reply": "2021-12-11T02:49:12.000350Z",
     "shell.execute_reply.started": "2021-12-11T02:49:11.995342Z"
    },
    "papermill": {
     "duration": 0.02861,
     "end_time": "2021-12-11T03:36:33.472678",
     "exception": false,
     "start_time": "2021-12-11T03:36:33.444068",
     "status": "completed"
    },
    "tags": []
   },
   "source": [
    "### 2-1. Checking for Null Values"
   ]
  },
  {
   "cell_type": "code",
   "execution_count": 5,
   "id": "729aeba9",
   "metadata": {
    "execution": {
     "iopub.execute_input": "2021-12-11T03:36:33.536699Z",
     "iopub.status.busy": "2021-12-11T03:36:33.535346Z",
     "iopub.status.idle": "2021-12-11T03:36:33.582815Z",
     "shell.execute_reply": "2021-12-11T03:36:33.582102Z",
     "shell.execute_reply.started": "2021-12-11T02:49:50.124973Z"
    },
    "papermill": {
     "duration": 0.08114,
     "end_time": "2021-12-11T03:36:33.582966",
     "exception": false,
     "start_time": "2021-12-11T03:36:33.501826",
     "status": "completed"
    },
    "tags": []
   },
   "outputs": [
    {
     "data": {
      "text/plain": [
       "timestamp      0\n",
       "Asset_ID       0\n",
       "Count          0\n",
       "Open           0\n",
       "High           0\n",
       "Low            0\n",
       "Close          0\n",
       "Volume         0\n",
       "VWAP           0\n",
       "Target       304\n",
       "dtype: int64"
      ]
     },
     "execution_count": 5,
     "metadata": {},
     "output_type": "execute_result"
    }
   ],
   "source": [
    "#Checking columns with missing data\n",
    "bitcoin.isnull().sum()"
   ]
  },
  {
   "cell_type": "markdown",
   "id": "6c9a2fbc",
   "metadata": {
    "execution": {
     "iopub.execute_input": "2021-12-11T02:50:04.950578Z",
     "iopub.status.busy": "2021-12-11T02:50:04.949742Z",
     "iopub.status.idle": "2021-12-11T02:50:04.954120Z",
     "shell.execute_reply": "2021-12-11T02:50:04.953416Z",
     "shell.execute_reply.started": "2021-12-11T02:50:04.950517Z"
    },
    "papermill": {
     "duration": 0.030463,
     "end_time": "2021-12-11T03:36:33.643131",
     "exception": false,
     "start_time": "2021-12-11T03:36:33.612668",
     "status": "completed"
    },
    "tags": []
   },
   "source": [
    "### 2-2.Dropping Null Values"
   ]
  },
  {
   "cell_type": "code",
   "execution_count": 6,
   "id": "eac68dde",
   "metadata": {
    "execution": {
     "iopub.execute_input": "2021-12-11T03:36:33.710657Z",
     "iopub.status.busy": "2021-12-11T03:36:33.709262Z",
     "iopub.status.idle": "2021-12-11T03:36:33.908880Z",
     "shell.execute_reply": "2021-12-11T03:36:33.908275Z",
     "shell.execute_reply.started": "2021-12-11T02:50:58.317288Z"
    },
    "papermill": {
     "duration": 0.236474,
     "end_time": "2021-12-11T03:36:33.909046",
     "exception": false,
     "start_time": "2021-12-11T03:36:33.672572",
     "status": "completed"
    },
    "tags": []
   },
   "outputs": [],
   "source": [
    "#Dropping Null Values and asset id as it is irrelevent\n",
    "bitcoin = bitcoin.dropna()\n",
    "bitcoin = bitcoin.drop(columns=['Asset_ID'])"
   ]
  },
  {
   "cell_type": "markdown",
   "id": "27108c15",
   "metadata": {
    "papermill": {
     "duration": 0.030856,
     "end_time": "2021-12-11T03:36:33.969209",
     "exception": false,
     "start_time": "2021-12-11T03:36:33.938353",
     "status": "completed"
    },
    "tags": []
   },
   "source": [
    "### 2-3. Changing Unix timestamp into Date and Time"
   ]
  },
  {
   "cell_type": "code",
   "execution_count": 7,
   "id": "04f4adbd",
   "metadata": {
    "execution": {
     "iopub.execute_input": "2021-12-11T03:36:34.035984Z",
     "iopub.status.busy": "2021-12-11T03:36:34.034805Z",
     "iopub.status.idle": "2021-12-11T03:36:34.080507Z",
     "shell.execute_reply": "2021-12-11T03:36:34.079838Z",
     "shell.execute_reply.started": "2021-12-11T02:53:07.563831Z"
    },
    "papermill": {
     "duration": 0.081579,
     "end_time": "2021-12-11T03:36:34.080657",
     "exception": false,
     "start_time": "2021-12-11T03:36:33.999078",
     "status": "completed"
    },
    "tags": []
   },
   "outputs": [
    {
     "data": {
      "text/html": [
       "<div>\n",
       "<style scoped>\n",
       "    .dataframe tbody tr th:only-of-type {\n",
       "        vertical-align: middle;\n",
       "    }\n",
       "\n",
       "    .dataframe tbody tr th {\n",
       "        vertical-align: top;\n",
       "    }\n",
       "\n",
       "    .dataframe thead th {\n",
       "        text-align: right;\n",
       "    }\n",
       "</style>\n",
       "<table border=\"1\" class=\"dataframe\">\n",
       "  <thead>\n",
       "    <tr style=\"text-align: right;\">\n",
       "      <th></th>\n",
       "      <th>timestamp</th>\n",
       "      <th>Count</th>\n",
       "      <th>Open</th>\n",
       "      <th>High</th>\n",
       "      <th>Low</th>\n",
       "      <th>Close</th>\n",
       "      <th>Volume</th>\n",
       "      <th>VWAP</th>\n",
       "      <th>Target</th>\n",
       "    </tr>\n",
       "  </thead>\n",
       "  <tbody>\n",
       "    <tr>\n",
       "      <th>2</th>\n",
       "      <td>2018-01-01 00:01:00</td>\n",
       "      <td>229.0</td>\n",
       "      <td>13835.194</td>\n",
       "      <td>14013.8</td>\n",
       "      <td>13666.11</td>\n",
       "      <td>13850.176</td>\n",
       "      <td>31.550062</td>\n",
       "      <td>13827.062093</td>\n",
       "      <td>-0.014643</td>\n",
       "    </tr>\n",
       "    <tr>\n",
       "      <th>10</th>\n",
       "      <td>2018-01-01 00:02:00</td>\n",
       "      <td>235.0</td>\n",
       "      <td>13835.036</td>\n",
       "      <td>14052.3</td>\n",
       "      <td>13680.00</td>\n",
       "      <td>13828.102</td>\n",
       "      <td>31.046432</td>\n",
       "      <td>13840.362591</td>\n",
       "      <td>-0.015037</td>\n",
       "    </tr>\n",
       "    <tr>\n",
       "      <th>18</th>\n",
       "      <td>2018-01-01 00:03:00</td>\n",
       "      <td>528.0</td>\n",
       "      <td>13823.900</td>\n",
       "      <td>14000.4</td>\n",
       "      <td>13601.00</td>\n",
       "      <td>13801.314</td>\n",
       "      <td>55.061820</td>\n",
       "      <td>13806.068014</td>\n",
       "      <td>-0.010309</td>\n",
       "    </tr>\n",
       "    <tr>\n",
       "      <th>26</th>\n",
       "      <td>2018-01-01 00:04:00</td>\n",
       "      <td>435.0</td>\n",
       "      <td>13802.512</td>\n",
       "      <td>13999.0</td>\n",
       "      <td>13576.28</td>\n",
       "      <td>13768.040</td>\n",
       "      <td>38.780529</td>\n",
       "      <td>13783.598101</td>\n",
       "      <td>-0.008999</td>\n",
       "    </tr>\n",
       "    <tr>\n",
       "      <th>34</th>\n",
       "      <td>2018-01-01 00:05:00</td>\n",
       "      <td>742.0</td>\n",
       "      <td>13766.000</td>\n",
       "      <td>13955.9</td>\n",
       "      <td>13554.44</td>\n",
       "      <td>13724.914</td>\n",
       "      <td>108.501637</td>\n",
       "      <td>13735.586842</td>\n",
       "      <td>-0.008079</td>\n",
       "    </tr>\n",
       "  </tbody>\n",
       "</table>\n",
       "</div>"
      ],
      "text/plain": [
       "             timestamp  Count       Open     High       Low      Close  \\\n",
       "2  2018-01-01 00:01:00  229.0  13835.194  14013.8  13666.11  13850.176   \n",
       "10 2018-01-01 00:02:00  235.0  13835.036  14052.3  13680.00  13828.102   \n",
       "18 2018-01-01 00:03:00  528.0  13823.900  14000.4  13601.00  13801.314   \n",
       "26 2018-01-01 00:04:00  435.0  13802.512  13999.0  13576.28  13768.040   \n",
       "34 2018-01-01 00:05:00  742.0  13766.000  13955.9  13554.44  13724.914   \n",
       "\n",
       "        Volume          VWAP    Target  \n",
       "2    31.550062  13827.062093 -0.014643  \n",
       "10   31.046432  13840.362591 -0.015037  \n",
       "18   55.061820  13806.068014 -0.010309  \n",
       "26   38.780529  13783.598101 -0.008999  \n",
       "34  108.501637  13735.586842 -0.008079  "
      ]
     },
     "execution_count": 7,
     "metadata": {},
     "output_type": "execute_result"
    }
   ],
   "source": [
    "#Changing timestamp into date (단위는 '초'(s)까지)\n",
    "bitcoin['timestamp'] = pd.to_datetime(bitcoin['timestamp'], unit='s')\n",
    "bitcoin.head()"
   ]
  },
  {
   "cell_type": "markdown",
   "id": "c9815063",
   "metadata": {
    "papermill": {
     "duration": 0.029341,
     "end_time": "2021-12-11T03:36:34.139635",
     "exception": false,
     "start_time": "2021-12-11T03:36:34.110294",
     "status": "completed"
    },
    "tags": []
   },
   "source": [
    "## 3. Explanatory Data Analysis"
   ]
  },
  {
   "cell_type": "markdown",
   "id": "3818297e",
   "metadata": {
    "papermill": {
     "duration": 0.029119,
     "end_time": "2021-12-11T03:36:34.198461",
     "exception": false,
     "start_time": "2021-12-11T03:36:34.169342",
     "status": "completed"
    },
    "tags": []
   },
   "source": [
    "### 3-1. Statistics of Bitcoin"
   ]
  },
  {
   "cell_type": "code",
   "execution_count": 8,
   "id": "bcaa6765",
   "metadata": {
    "execution": {
     "iopub.execute_input": "2021-12-11T03:36:34.309703Z",
     "iopub.status.busy": "2021-12-11T03:36:34.308453Z",
     "iopub.status.idle": "2021-12-11T03:36:34.724462Z",
     "shell.execute_reply": "2021-12-11T03:36:34.723953Z",
     "shell.execute_reply.started": "2021-12-11T02:53:55.403605Z"
    },
    "papermill": {
     "duration": 0.496484,
     "end_time": "2021-12-11T03:36:34.724607",
     "exception": false,
     "start_time": "2021-12-11T03:36:34.228123",
     "status": "completed"
    },
    "tags": []
   },
   "outputs": [
    {
     "data": {
      "text/html": [
       "<div>\n",
       "<style scoped>\n",
       "    .dataframe tbody tr th:only-of-type {\n",
       "        vertical-align: middle;\n",
       "    }\n",
       "\n",
       "    .dataframe tbody tr th {\n",
       "        vertical-align: top;\n",
       "    }\n",
       "\n",
       "    .dataframe thead th {\n",
       "        text-align: right;\n",
       "    }\n",
       "</style>\n",
       "<table border=\"1\" class=\"dataframe\">\n",
       "  <thead>\n",
       "    <tr style=\"text-align: right;\">\n",
       "      <th></th>\n",
       "      <th>count</th>\n",
       "      <th>mean</th>\n",
       "      <th>std</th>\n",
       "      <th>min</th>\n",
       "      <th>25%</th>\n",
       "      <th>50%</th>\n",
       "      <th>75%</th>\n",
       "      <th>max</th>\n",
       "    </tr>\n",
       "  </thead>\n",
       "  <tbody>\n",
       "    <tr>\n",
       "      <th>Count</th>\n",
       "      <td>1955978.0</td>\n",
       "      <td>1082.519805</td>\n",
       "      <td>1601.885017</td>\n",
       "      <td>1.000000</td>\n",
       "      <td>299.000000</td>\n",
       "      <td>563.000000</td>\n",
       "      <td>1260.000000</td>\n",
       "      <td>87478.000000</td>\n",
       "    </tr>\n",
       "    <tr>\n",
       "      <th>Open</th>\n",
       "      <td>1955978.0</td>\n",
       "      <td>15611.972286</td>\n",
       "      <td>15122.086345</td>\n",
       "      <td>3149.657143</td>\n",
       "      <td>6847.823750</td>\n",
       "      <td>9206.418401</td>\n",
       "      <td>13469.559524</td>\n",
       "      <td>64805.943750</td>\n",
       "    </tr>\n",
       "    <tr>\n",
       "      <th>High</th>\n",
       "      <td>1955978.0</td>\n",
       "      <td>15652.668498</td>\n",
       "      <td>15132.708981</td>\n",
       "      <td>3176.910000</td>\n",
       "      <td>6865.000000</td>\n",
       "      <td>9222.810000</td>\n",
       "      <td>13522.287500</td>\n",
       "      <td>64900.000000</td>\n",
       "    </tr>\n",
       "    <tr>\n",
       "      <th>Low</th>\n",
       "      <td>1955978.0</td>\n",
       "      <td>15578.890342</td>\n",
       "      <td>15106.943722</td>\n",
       "      <td>3120.000000</td>\n",
       "      <td>6835.160000</td>\n",
       "      <td>9191.630000</td>\n",
       "      <td>13401.000000</td>\n",
       "      <td>64670.530000</td>\n",
       "    </tr>\n",
       "    <tr>\n",
       "      <th>Close</th>\n",
       "      <td>1955978.0</td>\n",
       "      <td>15611.972500</td>\n",
       "      <td>15122.113935</td>\n",
       "      <td>3151.545000</td>\n",
       "      <td>6847.718857</td>\n",
       "      <td>9206.437857</td>\n",
       "      <td>13469.756071</td>\n",
       "      <td>64808.537275</td>\n",
       "    </tr>\n",
       "    <tr>\n",
       "      <th>Volume</th>\n",
       "      <td>1955978.0</td>\n",
       "      <td>92.861773</td>\n",
       "      <td>155.413616</td>\n",
       "      <td>0.000100</td>\n",
       "      <td>30.213282</td>\n",
       "      <td>52.810735</td>\n",
       "      <td>97.686907</td>\n",
       "      <td>10404.995365</td>\n",
       "    </tr>\n",
       "    <tr>\n",
       "      <th>VWAP</th>\n",
       "      <td>1955978.0</td>\n",
       "      <td>15611.851834</td>\n",
       "      <td>15121.966590</td>\n",
       "      <td>3152.325875</td>\n",
       "      <td>6847.830820</td>\n",
       "      <td>9206.370125</td>\n",
       "      <td>13469.534537</td>\n",
       "      <td>64799.822215</td>\n",
       "    </tr>\n",
       "    <tr>\n",
       "      <th>Target</th>\n",
       "      <td>1955978.0</td>\n",
       "      <td>-0.000002</td>\n",
       "      <td>0.002014</td>\n",
       "      <td>-0.072556</td>\n",
       "      <td>-0.000816</td>\n",
       "      <td>-0.000019</td>\n",
       "      <td>0.000772</td>\n",
       "      <td>0.092789</td>\n",
       "    </tr>\n",
       "  </tbody>\n",
       "</table>\n",
       "</div>"
      ],
      "text/plain": [
       "            count          mean           std          min          25%  \\\n",
       "Count   1955978.0   1082.519805   1601.885017     1.000000   299.000000   \n",
       "Open    1955978.0  15611.972286  15122.086345  3149.657143  6847.823750   \n",
       "High    1955978.0  15652.668498  15132.708981  3176.910000  6865.000000   \n",
       "Low     1955978.0  15578.890342  15106.943722  3120.000000  6835.160000   \n",
       "Close   1955978.0  15611.972500  15122.113935  3151.545000  6847.718857   \n",
       "Volume  1955978.0     92.861773    155.413616     0.000100    30.213282   \n",
       "VWAP    1955978.0  15611.851834  15121.966590  3152.325875  6847.830820   \n",
       "Target  1955978.0     -0.000002      0.002014    -0.072556    -0.000816   \n",
       "\n",
       "                50%           75%           max  \n",
       "Count    563.000000   1260.000000  87478.000000  \n",
       "Open    9206.418401  13469.559524  64805.943750  \n",
       "High    9222.810000  13522.287500  64900.000000  \n",
       "Low     9191.630000  13401.000000  64670.530000  \n",
       "Close   9206.437857  13469.756071  64808.537275  \n",
       "Volume    52.810735     97.686907  10404.995365  \n",
       "VWAP    9206.370125  13469.534537  64799.822215  \n",
       "Target    -0.000019      0.000772      0.092789  "
      ]
     },
     "execution_count": 8,
     "metadata": {},
     "output_type": "execute_result"
    }
   ],
   "source": [
    "bitcoin.describe().T"
   ]
  },
  {
   "cell_type": "markdown",
   "id": "01bb7feb",
   "metadata": {
    "execution": {
     "iopub.execute_input": "2021-12-11T02:54:45.861644Z",
     "iopub.status.busy": "2021-12-11T02:54:45.861229Z",
     "iopub.status.idle": "2021-12-11T02:54:45.867894Z",
     "shell.execute_reply": "2021-12-11T02:54:45.866563Z",
     "shell.execute_reply.started": "2021-12-11T02:54:45.861600Z"
    },
    "papermill": {
     "duration": 0.030457,
     "end_time": "2021-12-11T03:36:34.785649",
     "exception": false,
     "start_time": "2021-12-11T03:36:34.755192",
     "status": "completed"
    },
    "tags": []
   },
   "source": [
    "### 3-2. Some Insights about Bitcoin"
   ]
  },
  {
   "cell_type": "code",
   "execution_count": 9,
   "id": "728c6255",
   "metadata": {
    "execution": {
     "iopub.execute_input": "2021-12-11T03:36:35.667141Z",
     "iopub.status.busy": "2021-12-11T03:36:35.666484Z",
     "iopub.status.idle": "2021-12-11T03:36:35.671006Z",
     "shell.execute_reply": "2021-12-11T03:36:35.669993Z",
     "shell.execute_reply.started": "2021-12-11T02:57:47.084051Z"
    },
    "papermill": {
     "duration": 0.855222,
     "end_time": "2021-12-11T03:36:35.671256",
     "exception": false,
     "start_time": "2021-12-11T03:36:34.816034",
     "status": "completed"
    },
    "tags": []
   },
   "outputs": [
    {
     "name": "stdout",
     "output_type": "stream",
     "text": [
      "The Highest Price in All Time Trades :  64900.0\n",
      "The Highest Number of Bitcoin units traded during the minute :  10404.995365107006\n",
      "The Highest Number of trades that took place :  87478.0\n"
     ]
    }
   ],
   "source": [
    "print(\"The Highest Price in All Time Trades : \", max(bitcoin['High']))\n",
    "print(\"The Highest Number of Bitcoin units traded during the minute : \", max(bitcoin['Volume']))\n",
    "print(\"The Highest Number of trades that took place : \", max(bitcoin['Count']))"
   ]
  },
  {
   "cell_type": "markdown",
   "id": "6cd3ffa3",
   "metadata": {
    "papermill": {
     "duration": 0.030615,
     "end_time": "2021-12-11T03:36:35.733905",
     "exception": false,
     "start_time": "2021-12-11T03:36:35.703290",
     "status": "completed"
    },
    "tags": []
   },
   "source": [
    "### 3-3. VWAP(Volume Weighted Averaged Price, 거래량 가중 평균가) as per Time"
   ]
  },
  {
   "cell_type": "code",
   "execution_count": 10,
   "id": "65446587",
   "metadata": {
    "execution": {
     "iopub.execute_input": "2021-12-11T03:36:35.807152Z",
     "iopub.status.busy": "2021-12-11T03:36:35.806149Z",
     "iopub.status.idle": "2021-12-11T03:36:36.692875Z",
     "shell.execute_reply": "2021-12-11T03:36:36.693390Z",
     "shell.execute_reply.started": "2021-12-11T03:00:03.719577Z"
    },
    "papermill": {
     "duration": 0.927449,
     "end_time": "2021-12-11T03:36:36.693568",
     "exception": false,
     "start_time": "2021-12-11T03:36:35.766119",
     "status": "completed"
    },
    "tags": []
   },
   "outputs": [
    {
     "data": {
      "image/png": "[encoded data removed]",
      "text/plain": [
       "<Figure size 1152x576 with 1 Axes>"
      ]
     },
     "metadata": {
      "needs_background": "light"
     },
     "output_type": "display_data"
    }
   ],
   "source": [
    "#Plotting VWAP values of Bitcoin\n",
    "plt.figure(figsize=(16,8))\n",
    "plt.fill_between(bitcoin['timestamp'], bitcoin['VWAP'])\n",
    "plt.show()"
   ]
  },
  {
   "cell_type": "code",
   "execution_count": 11,
   "id": "c6974048",
   "metadata": {
    "execution": {
     "iopub.execute_input": "2021-12-11T03:36:36.765121Z",
     "iopub.status.busy": "2021-12-11T03:36:36.764338Z",
     "iopub.status.idle": "2021-12-11T03:36:37.323268Z",
     "shell.execute_reply": "2021-12-11T03:36:37.322711Z",
     "shell.execute_reply.started": "2021-12-11T03:00:55.071880Z"
    },
    "papermill": {
     "duration": 0.597406,
     "end_time": "2021-12-11T03:36:37.323460",
     "exception": false,
     "start_time": "2021-12-11T03:36:36.726054",
     "status": "completed"
    },
    "tags": []
   },
   "outputs": [
    {
     "data": {
      "image/png": "[encoded data removed]",
      "text/plain": [
       "<Figure size 1152x576 with 1 Axes>"
      ]
     },
     "metadata": {
      "needs_background": "light"
     },
     "output_type": "display_data"
    }
   ],
   "source": [
    "# same graph(not fill)\n",
    "plt.figure(figsize=(16,8))\n",
    "plt.plot(bitcoin['timestamp'], bitcoin['VWAP'])\n",
    "plt.show()"
   ]
  },
  {
   "cell_type": "markdown",
   "id": "b2fefa5c",
   "metadata": {
    "papermill": {
     "duration": 0.043342,
     "end_time": "2021-12-11T03:36:37.401613",
     "exception": false,
     "start_time": "2021-12-11T03:36:37.358271",
     "status": "completed"
    },
    "tags": []
   },
   "source": [
    "### 3-4. Trading Volume as per Time"
   ]
  },
  {
   "cell_type": "code",
   "execution_count": 12,
   "id": "29ca1fb0",
   "metadata": {
    "execution": {
     "iopub.execute_input": "2021-12-11T03:36:37.518852Z",
     "iopub.status.busy": "2021-12-11T03:36:37.518070Z",
     "iopub.status.idle": "2021-12-11T03:36:38.348989Z",
     "shell.execute_reply": "2021-12-11T03:36:38.349472Z",
     "shell.execute_reply.started": "2021-12-11T03:02:07.986754Z"
    },
    "papermill": {
     "duration": 0.900437,
     "end_time": "2021-12-11T03:36:38.349657",
     "exception": false,
     "start_time": "2021-12-11T03:36:37.449220",
     "status": "completed"
    },
    "tags": []
   },
   "outputs": [
    {
     "data": {
      "text/plain": [
       "[<matplotlib.lines.Line2D at 0x7fd407f8ff10>]"
      ]
     },
     "execution_count": 12,
     "metadata": {},
     "output_type": "execute_result"
    },
    {
     "data": {
      "image/png": "[encoded data removed]",
      "text/plain": [
       "<Figure size 1152x576 with 1 Axes>"
      ]
     },
     "metadata": {
      "needs_background": "light"
     },
     "output_type": "display_data"
    }
   ],
   "source": [
    "#Ploting Trading Volume of Bitocin\n",
    "plt.figure(figsize=(16,8))\n",
    "plt.plot(bitcoin['timestamp'], bitcoin['Volume'])"
   ]
  },
  {
   "cell_type": "markdown",
   "id": "cb043b5d",
   "metadata": {
    "papermill": {
     "duration": 0.034925,
     "end_time": "2021-12-11T03:36:38.420358",
     "exception": false,
     "start_time": "2021-12-11T03:36:38.385433",
     "status": "completed"
    },
    "tags": []
   },
   "source": [
    "### 3-5. The Number of Trades that took place as per Time"
   ]
  },
  {
   "cell_type": "code",
   "execution_count": 13,
   "id": "8c223cce",
   "metadata": {
    "execution": {
     "iopub.execute_input": "2021-12-11T03:36:38.493654Z",
     "iopub.status.busy": "2021-12-11T03:36:38.492996Z",
     "iopub.status.idle": "2021-12-11T03:36:39.300514Z",
     "shell.execute_reply": "2021-12-11T03:36:39.300968Z",
     "shell.execute_reply.started": "2021-12-11T03:04:20.033001Z"
    },
    "papermill": {
     "duration": 0.845735,
     "end_time": "2021-12-11T03:36:39.301160",
     "exception": false,
     "start_time": "2021-12-11T03:36:38.455425",
     "status": "completed"
    },
    "tags": []
   },
   "outputs": [
    {
     "data": {
      "text/plain": [
       "[<matplotlib.lines.Line2D at 0x7fd407f10fd0>]"
      ]
     },
     "execution_count": 13,
     "metadata": {},
     "output_type": "execute_result"
    },
    {
     "data": {
      "image/png": "[encoded data removed]",
      "text/plain": [
       "<Figure size 1152x576 with 1 Axes>"
      ]
     },
     "metadata": {
      "needs_background": "light"
     },
     "output_type": "display_data"
    }
   ],
   "source": [
    "#Plotting The number of trades that took place this minutes\n",
    "plt.figure(figsize=(16,8))\n",
    "plt.plot(bitcoin['timestamp'], bitcoin['Count'])"
   ]
  },
  {
   "cell_type": "markdown",
   "id": "165b634b",
   "metadata": {
    "papermill": {
     "duration": 0.038635,
     "end_time": "2021-12-11T03:36:39.376675",
     "exception": false,
     "start_time": "2021-12-11T03:36:39.338040",
     "status": "completed"
    },
    "tags": []
   },
   "source": [
    "### 3-6. Correlation"
   ]
  },
  {
   "cell_type": "code",
   "execution_count": 14,
   "id": "c8c50e2d",
   "metadata": {
    "execution": {
     "iopub.execute_input": "2021-12-11T03:36:39.453731Z",
     "iopub.status.busy": "2021-12-11T03:36:39.453090Z",
     "iopub.status.idle": "2021-12-11T03:36:40.516694Z",
     "shell.execute_reply": "2021-12-11T03:36:40.517214Z",
     "shell.execute_reply.started": "2021-12-11T03:05:19.603235Z"
    },
    "papermill": {
     "duration": 1.103581,
     "end_time": "2021-12-11T03:36:40.517417",
     "exception": false,
     "start_time": "2021-12-11T03:36:39.413836",
     "status": "completed"
    },
    "tags": []
   },
   "outputs": [
    {
     "data": {
      "text/plain": [
       "<AxesSubplot:>"
      ]
     },
     "execution_count": 14,
     "metadata": {},
     "output_type": "execute_result"
    },
    {
     "data": {
      "image/png": "[encoded data removed]",
      "text/plain": [
       "<Figure size 864x864 with 2 Axes>"
      ]
     },
     "metadata": {
      "needs_background": "light"
     },
     "output_type": "display_data"
    }
   ],
   "source": [
    "#Calculating Correlation\n",
    "corr=bitcoin.corr()\n",
    "\n",
    "#Plotting Correlation\n",
    "plt.figure(figsize=(12,12))\n",
    "sns.heatmap(corr, annot=True, cmap='GnBu')"
   ]
  },
  {
   "cell_type": "markdown",
   "id": "657126db",
   "metadata": {
    "papermill": {
     "duration": 0.03846,
     "end_time": "2021-12-11T03:36:40.595190",
     "exception": false,
     "start_time": "2021-12-11T03:36:40.556730",
     "status": "completed"
    },
    "tags": []
   },
   "source": [
    "## 4. Using PyCaret for Forcasting Close price of Bitcoin"
   ]
  },
  {
   "cell_type": "code",
   "execution_count": 15,
   "id": "408ef899",
   "metadata": {
    "execution": {
     "iopub.execute_input": "2021-12-11T03:36:40.675587Z",
     "iopub.status.busy": "2021-12-11T03:36:40.674852Z",
     "iopub.status.idle": "2021-12-11T03:36:40.713869Z",
     "shell.execute_reply": "2021-12-11T03:36:40.713319Z",
     "shell.execute_reply.started": "2021-12-11T03:10:04.460493Z"
    },
    "papermill": {
     "duration": 0.080138,
     "end_time": "2021-12-11T03:36:40.714010",
     "exception": false,
     "start_time": "2021-12-11T03:36:40.633872",
     "status": "completed"
    },
    "tags": []
   },
   "outputs": [
    {
     "data": {
      "text/html": [
       "<div>\n",
       "<style scoped>\n",
       "    .dataframe tbody tr th:only-of-type {\n",
       "        vertical-align: middle;\n",
       "    }\n",
       "\n",
       "    .dataframe tbody tr th {\n",
       "        vertical-align: top;\n",
       "    }\n",
       "\n",
       "    .dataframe thead th {\n",
       "        text-align: right;\n",
       "    }\n",
       "</style>\n",
       "<table border=\"1\" class=\"dataframe\">\n",
       "  <thead>\n",
       "    <tr style=\"text-align: right;\">\n",
       "      <th></th>\n",
       "      <th>Close</th>\n",
       "    </tr>\n",
       "    <tr>\n",
       "      <th>timestamp</th>\n",
       "      <th></th>\n",
       "    </tr>\n",
       "  </thead>\n",
       "  <tbody>\n",
       "    <tr>\n",
       "      <th>2018-01-01 00:01:00</th>\n",
       "      <td>13850.176</td>\n",
       "    </tr>\n",
       "    <tr>\n",
       "      <th>2018-01-01 00:02:00</th>\n",
       "      <td>13828.102</td>\n",
       "    </tr>\n",
       "    <tr>\n",
       "      <th>2018-01-01 00:03:00</th>\n",
       "      <td>13801.314</td>\n",
       "    </tr>\n",
       "    <tr>\n",
       "      <th>2018-01-01 00:04:00</th>\n",
       "      <td>13768.040</td>\n",
       "    </tr>\n",
       "    <tr>\n",
       "      <th>2018-01-01 00:05:00</th>\n",
       "      <td>13724.914</td>\n",
       "    </tr>\n",
       "  </tbody>\n",
       "</table>\n",
       "</div>"
      ],
      "text/plain": [
       "                         Close\n",
       "timestamp                     \n",
       "2018-01-01 00:01:00  13850.176\n",
       "2018-01-01 00:02:00  13828.102\n",
       "2018-01-01 00:03:00  13801.314\n",
       "2018-01-01 00:04:00  13768.040\n",
       "2018-01-01 00:05:00  13724.914"
      ]
     },
     "execution_count": 15,
     "metadata": {},
     "output_type": "execute_result"
    }
   ],
   "source": [
    "#creating new data for forcasting with time stamp and closing price\n",
    "close_price = bitcoin[['timestamp', 'Close']].copy()\n",
    "close_price = close_price.set_index('timestamp')\n",
    "close_price.head()"
   ]
  },
  {
   "cell_type": "code",
   "execution_count": 16,
   "id": "66fbd6fa",
   "metadata": {
    "execution": {
     "iopub.execute_input": "2021-12-11T03:36:40.796425Z",
     "iopub.status.busy": "2021-12-11T03:36:40.795777Z",
     "iopub.status.idle": "2021-12-11T03:36:41.082806Z",
     "shell.execute_reply": "2021-12-11T03:36:41.083308Z",
     "shell.execute_reply.started": "2021-12-11T03:13:57.234556Z"
    },
    "papermill": {
     "duration": 0.330223,
     "end_time": "2021-12-11T03:36:41.083519",
     "exception": false,
     "start_time": "2021-12-11T03:36:40.753296",
     "status": "completed"
    },
    "tags": []
   },
   "outputs": [
    {
     "data": {
      "text/html": [
       "<div>\n",
       "<style scoped>\n",
       "    .dataframe tbody tr th:only-of-type {\n",
       "        vertical-align: middle;\n",
       "    }\n",
       "\n",
       "    .dataframe tbody tr th {\n",
       "        vertical-align: top;\n",
       "    }\n",
       "\n",
       "    .dataframe thead th {\n",
       "        text-align: right;\n",
       "    }\n",
       "</style>\n",
       "<table border=\"1\" class=\"dataframe\">\n",
       "  <thead>\n",
       "    <tr style=\"text-align: right;\">\n",
       "      <th></th>\n",
       "      <th>Close</th>\n",
       "    </tr>\n",
       "    <tr>\n",
       "      <th>timestamp</th>\n",
       "      <th></th>\n",
       "    </tr>\n",
       "  </thead>\n",
       "  <tbody>\n",
       "    <tr>\n",
       "      <th>2018-01-01 00:01:00</th>\n",
       "      <td>13850.176</td>\n",
       "    </tr>\n",
       "    <tr>\n",
       "      <th>2018-01-02 00:01:00</th>\n",
       "      <td>13463.278</td>\n",
       "    </tr>\n",
       "    <tr>\n",
       "      <th>2018-01-03 00:01:00</th>\n",
       "      <td>14747.028</td>\n",
       "    </tr>\n",
       "    <tr>\n",
       "      <th>2018-01-04 00:01:00</th>\n",
       "      <td>15117.668</td>\n",
       "    </tr>\n",
       "    <tr>\n",
       "      <th>2018-01-05 00:01:00</th>\n",
       "      <td>15161.100</td>\n",
       "    </tr>\n",
       "  </tbody>\n",
       "</table>\n",
       "</div>"
      ],
      "text/plain": [
       "                         Close\n",
       "timestamp                     \n",
       "2018-01-01 00:01:00  13850.176\n",
       "2018-01-02 00:01:00  13463.278\n",
       "2018-01-03 00:01:00  14747.028\n",
       "2018-01-04 00:01:00  15117.668\n",
       "2018-01-05 00:01:00  15161.100"
      ]
     },
     "execution_count": 16,
     "metadata": {},
     "output_type": "execute_result"
    }
   ],
   "source": [
    "close_price = close_price.asfreq('D')\n",
    "close_price.head()"
   ]
  },
  {
   "cell_type": "code",
   "execution_count": 17,
   "id": "b9c64960",
   "metadata": {
    "execution": {
     "iopub.execute_input": "2021-12-11T03:36:41.166185Z",
     "iopub.status.busy": "2021-12-11T03:36:41.165511Z",
     "iopub.status.idle": "2021-12-11T03:36:41.625936Z",
     "shell.execute_reply": "2021-12-11T03:36:41.625426Z",
     "shell.execute_reply.started": "2021-12-11T03:14:13.293504Z"
    },
    "papermill": {
     "duration": 0.502835,
     "end_time": "2021-12-11T03:36:41.626082",
     "exception": false,
     "start_time": "2021-12-11T03:36:41.123247",
     "status": "completed"
    },
    "tags": []
   },
   "outputs": [
    {
     "data": {
      "text/plain": [
       "<AxesSubplot:xlabel='timestamp'>"
      ]
     },
     "execution_count": 17,
     "metadata": {},
     "output_type": "execute_result"
    },
    {
     "data": {
      "image/png": "[encoded data removed]",
      "text/plain": [
       "<Figure size 432x288 with 1 Axes>"
      ]
     },
     "metadata": {
      "needs_background": "light"
     },
     "output_type": "display_data"
    }
   ],
   "source": [
    "#Plotting  the chart\n",
    "close_price.plot()"
   ]
  },
  {
   "cell_type": "markdown",
   "id": "2ee3da41",
   "metadata": {
    "execution": {
     "iopub.execute_input": "2021-12-11T03:14:40.192672Z",
     "iopub.status.busy": "2021-12-11T03:14:40.192394Z",
     "iopub.status.idle": "2021-12-11T03:14:40.197535Z",
     "shell.execute_reply": "2021-12-11T03:14:40.196593Z",
     "shell.execute_reply.started": "2021-12-11T03:14:40.192642Z"
    },
    "papermill": {
     "duration": 0.040787,
     "end_time": "2021-12-11T03:36:41.708800",
     "exception": false,
     "start_time": "2021-12-11T03:36:41.668013",
     "status": "completed"
    },
    "tags": []
   },
   "source": [
    "### 4-1. Installing Pycaret"
   ]
  },
  {
   "cell_type": "code",
   "execution_count": 18,
   "id": "c689df5f",
   "metadata": {
    "execution": {
     "iopub.execute_input": "2021-12-11T03:36:41.798387Z",
     "iopub.status.busy": "2021-12-11T03:36:41.797348Z",
     "iopub.status.idle": "2021-12-11T03:37:38.712267Z",
     "shell.execute_reply": "2021-12-11T03:37:38.711697Z",
     "shell.execute_reply.started": "2021-12-11T03:14:54.554696Z"
    },
    "papermill": {
     "duration": 56.962374,
     "end_time": "2021-12-11T03:37:38.712442",
     "exception": false,
     "start_time": "2021-12-11T03:36:41.750068",
     "status": "completed"
    },
    "tags": []
   },
   "outputs": [
    {
     "name": "stdout",
     "output_type": "stream",
     "text": [
      "Collecting pycaret-ts-alpha\r\n",
      "  Downloading pycaret_ts_alpha-3.0.0.dev1638407153-py3-none-any.whl (488 kB)\r\n",
      "     |████████████████████████████████| 488 kB 882 kB/s            \r\n",
      "\u001b[?25hCollecting mlflow\r\n",
      "  Downloading mlflow-1.22.0-py3-none-any.whl (15.5 MB)\r\n",
      "     |████████████████████████████████| 15.5 MB 26.1 MB/s            \r\n",
      "\u001b[?25hRequirement already satisfied: cufflinks>=0.17.0 in /opt/conda/lib/python3.7/site-packages (from pycaret-ts-alpha) (0.17.3)\r\n",
      "Collecting scikit-learn~=0.24.2\r\n",
      "  Downloading scikit_learn-0.24.2-cp37-cp37m-manylinux2010_x86_64.whl (22.3 MB)\r\n",
      "     |████████████████████████████████| 22.3 MB 36.3 MB/s            \r\n",
      "\u001b[?25hRequirement already satisfied: pyLDAvis in /opt/conda/lib/python3.7/site-packages (from pycaret-ts-alpha) (3.2.2)\r\n",
      "Requirement already satisfied: umap-learn in /opt/conda/lib/python3.7/site-packages (from pycaret-ts-alpha) (0.5.2)\r\n",
      "Requirement already satisfied: mlxtend>=0.17.0 in /opt/conda/lib/python3.7/site-packages (from pycaret-ts-alpha) (0.19.0)\r\n",
      "Requirement already satisfied: yellowbrick>=1.0.1 in /opt/conda/lib/python3.7/site-packages (from pycaret-ts-alpha) (1.3.post1)\r\n",
      "Requirement already satisfied: plotly>=5.0.0 in /opt/conda/lib/python3.7/site-packages (from pycaret-ts-alpha) (5.4.0)\r\n",
      "Collecting pyod\r\n",
      "  Downloading pyod-0.9.5.tar.gz (113 kB)\r\n",
      "     |████████████████████████████████| 113 kB 71.3 MB/s            \r\n",
      "\u001b[?25h  Preparing metadata (setup.py) ... \u001b[?25l-\b \bdone\r\n",
      "\u001b[?25hRequirement already satisfied: Boruta in /opt/conda/lib/python3.7/site-packages (from pycaret-ts-alpha) (0.3)\r\n",
      "Requirement already satisfied: lightgbm>=2.3.1 in /opt/conda/lib/python3.7/site-packages (from pycaret-ts-alpha) (3.3.1)\r\n",
      "Requirement already satisfied: seaborn in /opt/conda/lib/python3.7/site-packages (from pycaret-ts-alpha) (0.11.2)\r\n",
      "Requirement already satisfied: numba in /opt/conda/lib/python3.7/site-packages (from pycaret-ts-alpha) (0.54.1)\r\n",
      "Collecting imbalanced-learn==0.7.0\r\n",
      "  Downloading imbalanced_learn-0.7.0-py3-none-any.whl (167 kB)\r\n",
      "     |████████████████████████████████| 167 kB 64.6 MB/s            \r\n",
      "\u001b[?25hRequirement already satisfied: nltk in /opt/conda/lib/python3.7/site-packages (from pycaret-ts-alpha) (3.2.4)\r\n",
      "Requirement already satisfied: statsmodels~=0.12.1 in /opt/conda/lib/python3.7/site-packages (from pycaret-ts-alpha) (0.12.2)\r\n",
      "Collecting pmdarima>=1.8.0\r\n",
      "  Downloading pmdarima-1.8.4-cp37-cp37m-manylinux_2_17_x86_64.manylinux2014_x86_64.manylinux_2_24_x86_64.whl (1.4 MB)\r\n",
      "     |████████████████████████████████| 1.4 MB 57.9 MB/s            \r\n",
      "\u001b[?25hRequirement already satisfied: IPython in /opt/conda/lib/python3.7/site-packages (from pycaret-ts-alpha) (7.29.0)\r\n",
      "Requirement already satisfied: numpy==1.19.5 in /opt/conda/lib/python3.7/site-packages (from pycaret-ts-alpha) (1.19.5)\r\n",
      "Requirement already satisfied: textblob in /opt/conda/lib/python3.7/site-packages (from pycaret-ts-alpha) (0.17.1)\r\n",
      "Requirement already satisfied: pandas-profiling>=2.8.0 in /opt/conda/lib/python3.7/site-packages (from pycaret-ts-alpha) (3.0.0)\r\n",
      "Requirement already satisfied: scikit-plot in /opt/conda/lib/python3.7/site-packages (from pycaret-ts-alpha) (0.3.7)\r\n",
      "Collecting tbats>=1.1.0\r\n",
      "  Downloading tbats-1.1.0-py3-none-any.whl (43 kB)\r\n",
      "     |████████████████████████████████| 43 kB 1.4 MB/s             \r\n",
      "\u001b[?25hRequirement already satisfied: ipywidgets in /opt/conda/lib/python3.7/site-packages (from pycaret-ts-alpha) (7.6.5)\r\n",
      "Requirement already satisfied: pandas in /opt/conda/lib/python3.7/site-packages (from pycaret-ts-alpha) (1.3.4)\r\n",
      "Collecting sktime>=0.8.0\r\n",
      "  Downloading sktime-0.9.0-cp37-cp37m-manylinux_2_17_x86_64.manylinux2014_x86_64.whl (6.2 MB)\r\n",
      "     |████████████████████████████████| 6.2 MB 56.4 MB/s            \r\n",
      "\u001b[?25hRequirement already satisfied: wordcloud in /opt/conda/lib/python3.7/site-packages (from pycaret-ts-alpha) (1.8.1)\r\n",
      "Collecting pyyaml<6.0.0\r\n",
      "  Downloading PyYAML-5.4.1-cp37-cp37m-manylinux1_x86_64.whl (636 kB)\r\n",
      "     |████████████████████████████████| 636 kB 59.8 MB/s            \r\n",
      "\u001b[?25hCollecting gensim<4.0.0\r\n",
      "  Downloading gensim-3.8.3-cp37-cp37m-manylinux1_x86_64.whl (24.2 MB)\r\n",
      "     |████████████████████████████████| 24.2 MB 44.2 MB/s            \r\n",
      "\u001b[?25hRequirement already satisfied: joblib in /opt/conda/lib/python3.7/site-packages (from pycaret-ts-alpha) (1.1.0)\r\n",
      "Collecting scipy<=1.5.4\r\n",
      "  Downloading scipy-1.5.4-cp37-cp37m-manylinux1_x86_64.whl (25.9 MB)\r\n",
      "     |████████████████████████████████| 25.9 MB 48.6 MB/s            \r\n",
      "\u001b[?25hCollecting spacy<2.4.0\r\n",
      "  Downloading spacy-2.3.7-cp37-cp37m-manylinux_2_17_x86_64.manylinux2014_x86_64.whl (10.4 MB)\r\n",
      "     |████████████████████████████████| 10.4 MB 37.5 MB/s            \r\n",
      "\u001b[?25hRequirement already satisfied: matplotlib in /opt/conda/lib/python3.7/site-packages (from pycaret-ts-alpha) (3.5.0)\r\n",
      "Requirement already satisfied: kmodes>=0.10.1 in /opt/conda/lib/python3.7/site-packages (from pycaret-ts-alpha) (0.11.1)\r\n",
      "Requirement already satisfied: colorlover>=0.2.1 in /opt/conda/lib/python3.7/site-packages (from cufflinks>=0.17.0->pycaret-ts-alpha) (0.3.0)\r\n",
      "Requirement already satisfied: six>=1.9.0 in /opt/conda/lib/python3.7/site-packages (from cufflinks>=0.17.0->pycaret-ts-alpha) (1.16.0)\r\n",
      "Requirement already satisfied: setuptools>=34.4.1 in /opt/conda/lib/python3.7/site-packages (from cufflinks>=0.17.0->pycaret-ts-alpha) (59.1.1)\r\n",
      "Requirement already satisfied: smart-open>=1.8.1 in /opt/conda/lib/python3.7/site-packages (from gensim<4.0.0->pycaret-ts-alpha) (5.2.1)\r\n",
      "Requirement already satisfied: pexpect>4.3 in /opt/conda/lib/python3.7/site-packages (from IPython->pycaret-ts-alpha) (4.8.0)\r\n",
      "Requirement already satisfied: jedi>=0.16 in /opt/conda/lib/python3.7/site-packages (from IPython->pycaret-ts-alpha) (0.18.1)\r\n",
      "Requirement already satisfied: backcall in /opt/conda/lib/python3.7/site-packages (from IPython->pycaret-ts-alpha) (0.2.0)\r\n",
      "Requirement already satisfied: traitlets>=4.2 in /opt/conda/lib/python3.7/site-packages (from IPython->pycaret-ts-alpha) (5.1.1)\r\n",
      "Requirement already satisfied: pygments in /opt/conda/lib/python3.7/site-packages (from IPython->pycaret-ts-alpha) (2.10.0)\r\n",
      "Requirement already satisfied: decorator in /opt/conda/lib/python3.7/site-packages (from IPython->pycaret-ts-alpha) (5.1.0)\r\n",
      "Requirement already satisfied: prompt-toolkit!=3.0.0,!=3.0.1,<3.1.0,>=2.0.0 in /opt/conda/lib/python3.7/site-packages (from IPython->pycaret-ts-alpha) (3.0.22)\r\n",
      "Requirement already satisfied: matplotlib-inline in /opt/conda/lib/python3.7/site-packages (from IPython->pycaret-ts-alpha) (0.1.3)\r\n",
      "Requirement already satisfied: pickleshare in /opt/conda/lib/python3.7/site-packages (from IPython->pycaret-ts-alpha) (0.7.5)\r\n",
      "Requirement already satisfied: widgetsnbextension~=3.5.0 in /opt/conda/lib/python3.7/site-packages (from ipywidgets->pycaret-ts-alpha) (3.5.2)\r\n",
      "Requirement already satisfied: nbformat>=4.2.0 in /opt/conda/lib/python3.7/site-packages (from ipywidgets->pycaret-ts-alpha) (5.1.3)\r\n",
      "Requirement already satisfied: jupyterlab-widgets>=1.0.0 in /opt/conda/lib/python3.7/site-packages (from ipywidgets->pycaret-ts-alpha) (1.0.2)\r\n",
      "Requirement already satisfied: ipython-genutils~=0.2.0 in /opt/conda/lib/python3.7/site-packages (from ipywidgets->pycaret-ts-alpha) (0.2.0)\r\n",
      "Requirement already satisfied: ipykernel>=4.5.1 in /opt/conda/lib/python3.7/site-packages (from ipywidgets->pycaret-ts-alpha) (6.5.0)\r\n",
      "Requirement already satisfied: wheel in /opt/conda/lib/python3.7/site-packages (from lightgbm>=2.3.1->pycaret-ts-alpha) (0.37.0)\r\n",
      "Requirement already satisfied: pyparsing>=2.2.1 in /opt/conda/lib/python3.7/site-packages (from matplotlib->pycaret-ts-alpha) (3.0.6)\r\n",
      "Requirement already satisfied: setuptools-scm>=4 in /opt/conda/lib/python3.7/site-packages (from matplotlib->pycaret-ts-alpha) (6.3.2)\r\n",
      "Requirement already satisfied: pillow>=6.2.0 in /opt/conda/lib/python3.7/site-packages (from matplotlib->pycaret-ts-alpha) (8.2.0)\r\n",
      "Requirement already satisfied: python-dateutil>=2.7 in /opt/conda/lib/python3.7/site-packages (from matplotlib->pycaret-ts-alpha) (2.8.0)\r\n",
      "Requirement already satisfied: fonttools>=4.22.0 in /opt/conda/lib/python3.7/site-packages (from matplotlib->pycaret-ts-alpha) (4.28.2)\r\n",
      "Requirement already satisfied: packaging>=20.0 in /opt/conda/lib/python3.7/site-packages (from matplotlib->pycaret-ts-alpha) (21.0)\r\n",
      "Requirement already satisfied: kiwisolver>=1.0.1 in /opt/conda/lib/python3.7/site-packages (from matplotlib->pycaret-ts-alpha) (1.3.2)\r\n",
      "Requirement already satisfied: cycler>=0.10 in /opt/conda/lib/python3.7/site-packages (from matplotlib->pycaret-ts-alpha) (0.11.0)\r\n",
      "Requirement already satisfied: pytz>=2017.3 in /opt/conda/lib/python3.7/site-packages (from pandas->pycaret-ts-alpha) (2021.3)\r\n",
      "Requirement already satisfied: tangled-up-in-unicode==0.1.0 in /opt/conda/lib/python3.7/site-packages (from pandas-profiling>=2.8.0->pycaret-ts-alpha) (0.1.0)\r\n",
      "Requirement already satisfied: tqdm>=4.48.2 in /opt/conda/lib/python3.7/site-packages (from pandas-profiling>=2.8.0->pycaret-ts-alpha) (4.62.3)\r\n",
      "Requirement already satisfied: htmlmin>=0.1.12 in /opt/conda/lib/python3.7/site-packages (from pandas-profiling>=2.8.0->pycaret-ts-alpha) (0.1.12)\r\n",
      "Requirement already satisfied: visions[type_image_path]==0.7.1 in /opt/conda/lib/python3.7/site-packages (from pandas-profiling>=2.8.0->pycaret-ts-alpha) (0.7.1)\r\n",
      "Requirement already satisfied: requests>=2.24.0 in /opt/conda/lib/python3.7/site-packages (from pandas-profiling>=2.8.0->pycaret-ts-alpha) (2.25.1)\r\n",
      "Requirement already satisfied: pydantic>=1.8.1 in /opt/conda/lib/python3.7/site-packages (from pandas-profiling>=2.8.0->pycaret-ts-alpha) (1.8.2)\r\n",
      "Requirement already satisfied: phik>=0.11.1 in /opt/conda/lib/python3.7/site-packages (from pandas-profiling>=2.8.0->pycaret-ts-alpha) (0.12.0)\r\n",
      "Requirement already satisfied: missingno>=0.4.2 in /opt/conda/lib/python3.7/site-packages (from pandas-profiling>=2.8.0->pycaret-ts-alpha) (0.4.2)\r\n",
      "Requirement already satisfied: jinja2>=2.11.1 in /opt/conda/lib/python3.7/site-packages (from pandas-profiling>=2.8.0->pycaret-ts-alpha) (3.0.3)\r\n",
      "Requirement already satisfied: networkx>=2.4 in /opt/conda/lib/python3.7/site-packages (from visions[type_image_path]==0.7.1->pandas-profiling>=2.8.0->pycaret-ts-alpha) (2.6.3)\r\n",
      "Requirement already satisfied: bottleneck in /opt/conda/lib/python3.7/site-packages (from visions[type_image_path]==0.7.1->pandas-profiling>=2.8.0->pycaret-ts-alpha) (1.3.2)\r\n",
      "Requirement already satisfied: attrs>=19.3.0 in /opt/conda/lib/python3.7/site-packages (from visions[type_image_path]==0.7.1->pandas-profiling>=2.8.0->pycaret-ts-alpha) (21.2.0)\r\n",
      "Requirement already satisfied: multimethod==1.4 in /opt/conda/lib/python3.7/site-packages (from visions[type_image_path]==0.7.1->pandas-profiling>=2.8.0->pycaret-ts-alpha) (1.4)\r\n",
      "Requirement already satisfied: imagehash in /opt/conda/lib/python3.7/site-packages (from visions[type_image_path]==0.7.1->pandas-profiling>=2.8.0->pycaret-ts-alpha) (4.2.1)\r\n",
      "Requirement already satisfied: tenacity>=6.2.0 in /opt/conda/lib/python3.7/site-packages (from plotly>=5.0.0->pycaret-ts-alpha) (8.0.1)\r\n",
      "Requirement already satisfied: urllib3 in /opt/conda/lib/python3.7/site-packages (from pmdarima>=1.8.0->pycaret-ts-alpha) (1.26.7)\r\n",
      "Requirement already satisfied: Cython!=0.29.18,>=0.29 in /opt/conda/lib/python3.7/site-packages (from pmdarima>=1.8.0->pycaret-ts-alpha) (0.29.24)\r\n",
      "Requirement already satisfied: threadpoolctl>=2.0.0 in /opt/conda/lib/python3.7/site-packages (from scikit-learn~=0.24.2->pycaret-ts-alpha) (3.0.0)\r\n",
      "Collecting sktime>=0.8.0\r\n",
      "  Downloading sktime-0.8.1-cp37-cp37m-manylinux_2_17_x86_64.manylinux2014_x86_64.whl (6.1 MB)\r\n",
      "     |████████████████████████████████| 6.1 MB 38.6 MB/s            \r\n",
      "\u001b[?25hCollecting statsmodels~=0.12.1\r\n",
      "  Downloading statsmodels-0.12.1-cp37-cp37m-manylinux1_x86_64.whl (9.5 MB)\r\n",
      "     |████████████████████████████████| 9.5 MB 58.3 MB/s            \r\n",
      "\u001b[?25hRequirement already satisfied: llvmlite<0.38,>=0.37.0rc1 in /opt/conda/lib/python3.7/site-packages (from numba->pycaret-ts-alpha) (0.37.0)\r\n",
      "Requirement already satisfied: preshed<3.1.0,>=3.0.2 in /opt/conda/lib/python3.7/site-packages (from spacy<2.4.0->pycaret-ts-alpha) (3.0.6)\r\n",
      "Collecting catalogue<1.1.0,>=0.0.7\r\n",
      "  Downloading catalogue-1.0.0-py2.py3-none-any.whl (7.7 kB)\r\n",
      "Requirement already satisfied: murmurhash<1.1.0,>=0.28.0 in /opt/conda/lib/python3.7/site-packages (from spacy<2.4.0->pycaret-ts-alpha) (1.0.6)\r\n",
      "Requirement already satisfied: wasabi<1.1.0,>=0.4.0 in /opt/conda/lib/python3.7/site-packages (from spacy<2.4.0->pycaret-ts-alpha) (0.8.2)\r\n",
      "Requirement already satisfied: blis<0.8.0,>=0.4.0 in /opt/conda/lib/python3.7/site-packages (from spacy<2.4.0->pycaret-ts-alpha) (0.7.5)\r\n",
      "Requirement already satisfied: cymem<2.1.0,>=2.0.2 in /opt/conda/lib/python3.7/site-packages (from spacy<2.4.0->pycaret-ts-alpha) (2.0.6)\r\n",
      "Collecting srsly<1.1.0,>=1.0.2\r\n",
      "  Downloading srsly-1.0.5-cp37-cp37m-manylinux2014_x86_64.whl (184 kB)\r\n",
      "     |████████████████████████████████| 184 kB 58.4 MB/s            \r\n",
      "\u001b[?25hCollecting plac<1.2.0,>=0.9.6\r\n",
      "  Downloading plac-1.1.3-py2.py3-none-any.whl (20 kB)\r\n",
      "Collecting thinc<7.5.0,>=7.4.1\r\n",
      "  Downloading thinc-7.4.5-cp37-cp37m-manylinux2014_x86_64.whl (1.0 MB)\r\n",
      "     |████████████████████████████████| 1.0 MB 56.4 MB/s            \r\n",
      "\u001b[?25hRequirement already satisfied: patsy>=0.5 in /opt/conda/lib/python3.7/site-packages (from statsmodels~=0.12.1->pycaret-ts-alpha) (0.5.2)\r\n",
      "Collecting querystring-parser\r\n",
      "  Downloading querystring_parser-1.2.4-py2.py3-none-any.whl (7.9 kB)\r\n",
      "Requirement already satisfied: importlib-metadata!=4.7.0,>=3.7.0 in /opt/conda/lib/python3.7/site-packages (from mlflow->pycaret-ts-alpha) (4.8.2)\r\n",
      "Collecting alembic<=1.4.1\r\n",
      "  Downloading alembic-1.4.1.tar.gz (1.1 MB)\r\n",
      "     |████████████████████████████████| 1.1 MB 59.5 MB/s            \r\n",
      "\u001b[?25h  Preparing metadata (setup.py) ... \u001b[?25l-\b \bdone\r\n",
      "\u001b[?25hRequirement already satisfied: protobuf>=3.7.0 in /opt/conda/lib/python3.7/site-packages (from mlflow->pycaret-ts-alpha) (3.19.1)\r\n",
      "Requirement already satisfied: sqlalchemy in /opt/conda/lib/python3.7/site-packages (from mlflow->pycaret-ts-alpha) (1.4.27)\r\n",
      "Collecting gunicorn\r\n",
      "  Downloading gunicorn-20.1.0-py3-none-any.whl (79 kB)\r\n",
      "     |████████████████████████████████| 79 kB 6.5 MB/s             \r\n",
      "\u001b[?25hRequirement already satisfied: Flask in /opt/conda/lib/python3.7/site-packages (from mlflow->pycaret-ts-alpha) (2.0.2)\r\n",
      "Requirement already satisfied: entrypoints in /opt/conda/lib/python3.7/site-packages (from mlflow->pycaret-ts-alpha) (0.3)\r\n",
      "Collecting databricks-cli>=0.8.7\r\n",
      "  Downloading databricks-cli-0.16.2.tar.gz (58 kB)\r\n",
      "     |████████████████████████████████| 58 kB 4.0 MB/s             \r\n",
      "\u001b[?25h  Preparing metadata (setup.py) ... \u001b[?25l-\b \bdone\r\n",
      "\u001b[?25hRequirement already satisfied: cloudpickle in /opt/conda/lib/python3.7/site-packages (from mlflow->pycaret-ts-alpha) (2.0.0)\r\n",
      "Requirement already satisfied: docker>=4.0.0 in /opt/conda/lib/python3.7/site-packages (from mlflow->pycaret-ts-alpha) (5.0.3)\r\n",
      "Collecting prometheus-flask-exporter\r\n",
      "  Downloading prometheus_flask_exporter-0.18.6-py3-none-any.whl (17 kB)\r\n",
      "Requirement already satisfied: click>=7.0 in /opt/conda/lib/python3.7/site-packages (from mlflow->pycaret-ts-alpha) (8.0.3)\r\n",
      "Requirement already satisfied: gitpython>=2.1.0 in /opt/conda/lib/python3.7/site-packages (from mlflow->pycaret-ts-alpha) (3.1.24)\r\n",
      "Requirement already satisfied: sqlparse>=0.3.1 in /opt/conda/lib/python3.7/site-packages (from mlflow->pycaret-ts-alpha) (0.4.2)\r\n",
      "Requirement already satisfied: future in /opt/conda/lib/python3.7/site-packages (from pyLDAvis->pycaret-ts-alpha) (0.18.2)\r\n",
      "Requirement already satisfied: funcy in /opt/conda/lib/python3.7/site-packages (from pyLDAvis->pycaret-ts-alpha) (1.16)\r\n",
      "Requirement already satisfied: numexpr in /opt/conda/lib/python3.7/site-packages (from pyLDAvis->pycaret-ts-alpha) (2.7.3)\r\n",
      "Requirement already satisfied: pynndescent>=0.5 in /opt/conda/lib/python3.7/site-packages (from umap-learn->pycaret-ts-alpha) (0.5.5)\r\n",
      "Requirement already satisfied: Mako in /opt/conda/lib/python3.7/site-packages (from alembic<=1.4.1->mlflow->pycaret-ts-alpha) (1.1.6)\r\n",
      "Collecting python-editor>=0.3\r\n",
      "  Downloading python_editor-1.0.4-py3-none-any.whl (4.9 kB)\r\n",
      "Requirement already satisfied: tabulate>=0.7.7 in /opt/conda/lib/python3.7/site-packages (from databricks-cli>=0.8.7->mlflow->pycaret-ts-alpha) (0.8.9)\r\n",
      "Requirement already satisfied: websocket-client>=0.32.0 in /opt/conda/lib/python3.7/site-packages (from docker>=4.0.0->mlflow->pycaret-ts-alpha) (1.2.1)\r\n",
      "Requirement already satisfied: typing-extensions>=3.7.4.3 in /opt/conda/lib/python3.7/site-packages (from gitpython>=2.1.0->mlflow->pycaret-ts-alpha) (3.10.0.2)\r\n",
      "Requirement already satisfied: gitdb<5,>=4.0.1 in /opt/conda/lib/python3.7/site-packages (from gitpython>=2.1.0->mlflow->pycaret-ts-alpha) (4.0.9)\r\n",
      "Requirement already satisfied: zipp>=0.5 in /opt/conda/lib/python3.7/site-packages (from importlib-metadata!=4.7.0,>=3.7.0->mlflow->pycaret-ts-alpha) (3.6.0)\r\n",
      "Requirement already satisfied: debugpy<2.0,>=1.0.0 in /opt/conda/lib/python3.7/site-packages (from ipykernel>=4.5.1->ipywidgets->pycaret-ts-alpha) (1.5.1)\r\n",
      "Requirement already satisfied: tornado<7.0,>=4.2 in /opt/conda/lib/python3.7/site-packages (from ipykernel>=4.5.1->ipywidgets->pycaret-ts-alpha) (6.1)\r\n",
      "Requirement already satisfied: argcomplete>=1.12.3 in /opt/conda/lib/python3.7/site-packages (from ipykernel>=4.5.1->ipywidgets->pycaret-ts-alpha) (1.12.3)\r\n",
      "Requirement already satisfied: jupyter-client<8.0 in /opt/conda/lib/python3.7/site-packages (from ipykernel>=4.5.1->ipywidgets->pycaret-ts-alpha) (7.0.6)\r\n",
      "Requirement already satisfied: parso<0.9.0,>=0.8.0 in /opt/conda/lib/python3.7/site-packages (from jedi>=0.16->IPython->pycaret-ts-alpha) (0.8.2)\r\n",
      "Requirement already satisfied: MarkupSafe>=2.0 in /opt/conda/lib/python3.7/site-packages (from jinja2>=2.11.1->pandas-profiling>=2.8.0->pycaret-ts-alpha) (2.0.1)\r\n",
      "Requirement already satisfied: jsonschema!=2.5.0,>=2.4 in /opt/conda/lib/python3.7/site-packages (from nbformat>=4.2.0->ipywidgets->pycaret-ts-alpha) (3.2.0)\r\n",
      "Requirement already satisfied: jupyter-core in /opt/conda/lib/python3.7/site-packages (from nbformat>=4.2.0->ipywidgets->pycaret-ts-alpha) (4.9.1)\r\n",
      "Requirement already satisfied: ptyprocess>=0.5 in /opt/conda/lib/python3.7/site-packages (from pexpect>4.3->IPython->pycaret-ts-alpha) (0.7.0)\r\n",
      "Requirement already satisfied: wcwidth in /opt/conda/lib/python3.7/site-packages (from prompt-toolkit!=3.0.0,!=3.0.1,<3.1.0,>=2.0.0->IPython->pycaret-ts-alpha) (0.2.5)\r\n",
      "Requirement already satisfied: idna<3,>=2.5 in /opt/conda/lib/python3.7/site-packages (from requests>=2.24.0->pandas-profiling>=2.8.0->pycaret-ts-alpha) (2.10)\r\n",
      "Requirement already satisfied: certifi>=2017.4.17 in /opt/conda/lib/python3.7/site-packages (from requests>=2.24.0->pandas-profiling>=2.8.0->pycaret-ts-alpha) (2021.10.8)\r\n",
      "Requirement already satisfied: chardet<5,>=3.0.2 in /opt/conda/lib/python3.7/site-packages (from requests>=2.24.0->pandas-profiling>=2.8.0->pycaret-ts-alpha) (4.0.0)\r\n",
      "Requirement already satisfied: tomli>=1.0.0 in /opt/conda/lib/python3.7/site-packages (from setuptools-scm>=4->matplotlib->pycaret-ts-alpha) (1.2.2)\r\n",
      "Requirement already satisfied: greenlet!=0.4.17 in /opt/conda/lib/python3.7/site-packages (from sqlalchemy->mlflow->pycaret-ts-alpha) (1.1.2)\r\n",
      "Requirement already satisfied: notebook>=4.4.1 in /opt/conda/lib/python3.7/site-packages (from widgetsnbextension~=3.5.0->ipywidgets->pycaret-ts-alpha) (6.4.6)\r\n",
      "Requirement already satisfied: Werkzeug>=2.0 in /opt/conda/lib/python3.7/site-packages (from Flask->mlflow->pycaret-ts-alpha) (2.0.2)\r\n",
      "Requirement already satisfied: itsdangerous>=2.0 in /opt/conda/lib/python3.7/site-packages (from Flask->mlflow->pycaret-ts-alpha) (2.0.1)\r\n",
      "Requirement already satisfied: prometheus-client in /opt/conda/lib/python3.7/site-packages (from prometheus-flask-exporter->mlflow->pycaret-ts-alpha) (0.12.0)\r\n",
      "Requirement already satisfied: smmap<6,>=3.0.1 in /opt/conda/lib/python3.7/site-packages (from gitdb<5,>=4.0.1->gitpython>=2.1.0->mlflow->pycaret-ts-alpha) (3.0.5)\r\n",
      "Requirement already satisfied: pyrsistent>=0.14.0 in /opt/conda/lib/python3.7/site-packages (from jsonschema!=2.5.0,>=2.4->nbformat>=4.2.0->ipywidgets->pycaret-ts-alpha) (0.18.0)\r\n",
      "Requirement already satisfied: pyzmq>=13 in /opt/conda/lib/python3.7/site-packages (from jupyter-client<8.0->ipykernel>=4.5.1->ipywidgets->pycaret-ts-alpha) (22.3.0)\r\n",
      "Requirement already satisfied: nest-asyncio>=1.5 in /opt/conda/lib/python3.7/site-packages (from jupyter-client<8.0->ipykernel>=4.5.1->ipywidgets->pycaret-ts-alpha) (1.5.1)\r\n",
      "Requirement already satisfied: nbconvert in /opt/conda/lib/python3.7/site-packages (from notebook>=4.4.1->widgetsnbextension~=3.5.0->ipywidgets->pycaret-ts-alpha) (6.3.0)\r\n",
      "Requirement already satisfied: argon2-cffi in /opt/conda/lib/python3.7/site-packages (from notebook>=4.4.1->widgetsnbextension~=3.5.0->ipywidgets->pycaret-ts-alpha) (21.1.0)\r\n",
      "Requirement already satisfied: Send2Trash>=1.8.0 in /opt/conda/lib/python3.7/site-packages (from notebook>=4.4.1->widgetsnbextension~=3.5.0->ipywidgets->pycaret-ts-alpha) (1.8.0)\r\n",
      "Requirement already satisfied: terminado>=0.8.3 in /opt/conda/lib/python3.7/site-packages (from notebook>=4.4.1->widgetsnbextension~=3.5.0->ipywidgets->pycaret-ts-alpha) (0.12.1)\r\n",
      "Requirement already satisfied: PyWavelets in /opt/conda/lib/python3.7/site-packages (from imagehash->visions[type_image_path]==0.7.1->pandas-profiling>=2.8.0->pycaret-ts-alpha) (1.2.0)\r\n",
      "Requirement already satisfied: cffi>=1.0.0 in /opt/conda/lib/python3.7/site-packages (from argon2-cffi->notebook>=4.4.1->widgetsnbextension~=3.5.0->ipywidgets->pycaret-ts-alpha) (1.15.0)\r\n",
      "Requirement already satisfied: mistune<2,>=0.8.1 in /opt/conda/lib/python3.7/site-packages (from nbconvert->notebook>=4.4.1->widgetsnbextension~=3.5.0->ipywidgets->pycaret-ts-alpha) (0.8.4)\r\n",
      "Requirement already satisfied: testpath in /opt/conda/lib/python3.7/site-packages (from nbconvert->notebook>=4.4.1->widgetsnbextension~=3.5.0->ipywidgets->pycaret-ts-alpha) (0.5.0)\r\n",
      "Requirement already satisfied: jupyterlab-pygments in /opt/conda/lib/python3.7/site-packages (from nbconvert->notebook>=4.4.1->widgetsnbextension~=3.5.0->ipywidgets->pycaret-ts-alpha) (0.1.2)\r\n",
      "Requirement already satisfied: defusedxml in /opt/conda/lib/python3.7/site-packages (from nbconvert->notebook>=4.4.1->widgetsnbextension~=3.5.0->ipywidgets->pycaret-ts-alpha) (0.7.1)\r\n",
      "Requirement already satisfied: pandocfilters>=1.4.1 in /opt/conda/lib/python3.7/site-packages (from nbconvert->notebook>=4.4.1->widgetsnbextension~=3.5.0->ipywidgets->pycaret-ts-alpha) (1.5.0)\r\n",
      "Requirement already satisfied: nbclient<0.6.0,>=0.5.0 in /opt/conda/lib/python3.7/site-packages (from nbconvert->notebook>=4.4.1->widgetsnbextension~=3.5.0->ipywidgets->pycaret-ts-alpha) (0.5.8)\r\n",
      "Requirement already satisfied: bleach in /opt/conda/lib/python3.7/site-packages (from nbconvert->notebook>=4.4.1->widgetsnbextension~=3.5.0->ipywidgets->pycaret-ts-alpha) (4.1.0)\r\n",
      "Requirement already satisfied: pycparser in /opt/conda/lib/python3.7/site-packages (from cffi>=1.0.0->argon2-cffi->notebook>=4.4.1->widgetsnbextension~=3.5.0->ipywidgets->pycaret-ts-alpha) (2.21)\r\n",
      "Requirement already satisfied: webencodings in /opt/conda/lib/python3.7/site-packages (from bleach->nbconvert->notebook>=4.4.1->widgetsnbextension~=3.5.0->ipywidgets->pycaret-ts-alpha) (0.5.1)\r\n",
      "Building wheels for collected packages: pyod, alembic, databricks-cli\r\n",
      "  Building wheel for pyod (setup.py) ... \u001b[?25l-\b \b\\\b \bdone\r\n",
      "\u001b[?25h  Created wheel for pyod: filename=pyod-0.9.5-py3-none-any.whl size=132699 sha256=c428dbc5f01d50be77e77def7f7a76f7da640a46b93d3d76dd2067ea90245c1a\r\n",
      "  Stored in directory: /root/.cache/pip/wheels/3d/bb/b7/62b60fb451b33b0df1ab8006697fba7a6a49709a629055cf77\r\n",
      "  Building wheel for alembic (setup.py) ... \u001b[?25l-\b \b\\\b \b|\b \bdone\r\n",
      "\u001b[?25h  Created wheel for alembic: filename=alembic-1.4.1-py2.py3-none-any.whl size=158172 sha256=6ace038dfcd0bef49a774294ad972d023c18a91a999c4d027769dee71648e139\r\n",
      "  Stored in directory: /root/.cache/pip/wheels/be/5d/0a/9e13f53f4f5dfb67cd8d245bb7cdffe12f135846f491a283e3\r\n",
      "  Building wheel for databricks-cli (setup.py) ... \u001b[?25l-\b \b\\\b \b|\b \bdone\r\n",
      "\u001b[?25h  Created wheel for databricks-cli: filename=databricks_cli-0.16.2-py3-none-any.whl size=106811 sha256=51d280c606774c2949c9217c3f4050d8745499aa410d2453a1c0caeef5bcea6e\r\n",
      "  Stored in directory: /root/.cache/pip/wheels/f4/5c/ed/e1ce20a53095f63b27b4964abbad03e59cf3472822addf7d29\r\n",
      "Successfully built pyod alembic databricks-cli\r\n",
      "Installing collected packages: scipy, statsmodels, srsly, scikit-learn, python-editor, plac, catalogue, thinc, querystring-parser, pyyaml, prometheus-flask-exporter, pmdarima, gunicorn, databricks-cli, alembic, tbats, spacy, sktime, pyod, mlflow, imbalanced-learn, gensim, pycaret-ts-alpha\r\n",
      "  Attempting uninstall: scipy\r\n",
      "    Found existing installation: scipy 1.7.2\r\n",
      "    Uninstalling scipy-1.7.2:\r\n",
      "      Successfully uninstalled scipy-1.7.2\r\n",
      "  Attempting uninstall: statsmodels\r\n",
      "    Found existing installation: statsmodels 0.12.2\r\n",
      "    Uninstalling statsmodels-0.12.2:\r\n",
      "      Successfully uninstalled statsmodels-0.12.2\r\n",
      "  Attempting uninstall: srsly\r\n",
      "    Found existing installation: srsly 2.4.2\r\n",
      "    Uninstalling srsly-2.4.2:\r\n",
      "      Successfully uninstalled srsly-2.4.2\r\n",
      "  Attempting uninstall: scikit-learn\r\n",
      "    Found existing installation: scikit-learn 0.23.2\r\n",
      "    Uninstalling scikit-learn-0.23.2:\r\n",
      "      Successfully uninstalled scikit-learn-0.23.2\r\n",
      "  Attempting uninstall: catalogue\r\n",
      "    Found existing installation: catalogue 2.0.6\r\n",
      "    Uninstalling catalogue-2.0.6:\r\n",
      "      Successfully uninstalled catalogue-2.0.6\r\n",
      "  Attempting uninstall: thinc\r\n",
      "    Found existing installation: thinc 8.0.13\r\n",
      "    Uninstalling thinc-8.0.13:\r\n",
      "      Successfully uninstalled thinc-8.0.13\r\n",
      "  Attempting uninstall: pyyaml\r\n",
      "    Found existing installation: PyYAML 6.0\r\n",
      "    Uninstalling PyYAML-6.0:\r\n",
      "      Successfully uninstalled PyYAML-6.0\r\n",
      "  Attempting uninstall: alembic\r\n",
      "    Found existing installation: alembic 1.7.5\r\n",
      "    Uninstalling alembic-1.7.5:\r\n",
      "      Successfully uninstalled alembic-1.7.5\r\n",
      "  Attempting uninstall: spacy\r\n",
      "    Found existing installation: spacy 3.1.4\r\n",
      "    Uninstalling spacy-3.1.4:\r\n",
      "      Successfully uninstalled spacy-3.1.4\r\n",
      "  Attempting uninstall: imbalanced-learn\r\n",
      "    Found existing installation: imbalanced-learn 0.8.1\r\n",
      "    Uninstalling imbalanced-learn-0.8.1:\r\n",
      "      Successfully uninstalled imbalanced-learn-0.8.1\r\n",
      "  Attempting uninstall: gensim\r\n",
      "    Found existing installation: gensim 4.0.1\r\n",
      "    Uninstalling gensim-4.0.1:\r\n",
      "      Successfully uninstalled gensim-4.0.1\r\n",
      "\u001b[31mERROR: pip's dependency resolver does not currently take into account all the packages that are installed. This behaviour is the source of the following dependency conflicts.\r\n",
      "scattertext 0.1.5 requires gensim>=4.0.0, but you have gensim 3.8.3 which is incompatible.\r\n",
      "pdpbox 0.2.1 requires matplotlib==3.1.1, but you have matplotlib 3.5.0 which is incompatible.\r\n",
      "hypertools 0.7.0 requires scikit-learn!=0.22,<0.24,>=0.19.1, but you have scikit-learn 0.24.2 which is incompatible.\r\n",
      "en-core-web-sm 3.1.0 requires spacy<3.2.0,>=3.1.0, but you have spacy 2.3.7 which is incompatible.\r\n",
      "en-core-web-lg 3.1.0 requires spacy<3.2.0,>=3.1.0, but you have spacy 2.3.7 which is incompatible.\u001b[0m\r\n",
      "Successfully installed alembic-1.4.1 catalogue-1.0.0 databricks-cli-0.16.2 gensim-3.8.3 gunicorn-20.1.0 imbalanced-learn-0.7.0 mlflow-1.22.0 plac-1.1.3 pmdarima-1.8.4 prometheus-flask-exporter-0.18.6 pycaret-ts-alpha-3.0.0.dev1638407153 pyod-0.9.5 python-editor-1.0.4 pyyaml-5.4.1 querystring-parser-1.2.4 scikit-learn-0.24.2 scipy-1.5.4 sktime-0.8.1 spacy-2.3.7 srsly-1.0.5 statsmodels-0.12.1 tbats-1.1.0 thinc-7.4.5\r\n",
      "\u001b[33mWARNING: Running pip as the 'root' user can result in broken permissions and conflicting behaviour with the system package manager. It is recommended to use a virtual environment instead: https://pip.pypa.io/warnings/venv\u001b[0m\r\n"
     ]
    }
   ],
   "source": [
    "!pip install pycaret-ts-alpha -U"
   ]
  },
  {
   "cell_type": "markdown",
   "id": "bed418e7",
   "metadata": {
    "papermill": {
     "duration": 0.141597,
     "end_time": "2021-12-11T03:37:38.995786",
     "exception": false,
     "start_time": "2021-12-11T03:37:38.854189",
     "status": "completed"
    },
    "tags": []
   },
   "source": [
    "### 4-2. Setting up the model and comparing between different models"
   ]
  },
  {
   "cell_type": "code",
   "execution_count": 19,
   "id": "821d9499",
   "metadata": {
    "execution": {
     "iopub.execute_input": "2021-12-11T03:37:39.279583Z",
     "iopub.status.busy": "2021-12-11T03:37:39.278901Z",
     "iopub.status.idle": "2021-12-11T03:37:42.397308Z",
     "shell.execute_reply": "2021-12-11T03:37:42.396695Z",
     "shell.execute_reply.started": "2021-12-11T03:17:22.222997Z"
    },
    "papermill": {
     "duration": 3.261429,
     "end_time": "2021-12-11T03:37:42.397535",
     "exception": false,
     "start_time": "2021-12-11T03:37:39.136106",
     "status": "completed"
    },
    "tags": []
   },
   "outputs": [
    {
     "data": {
      "text/html": [
       "<style type='text/css'>\n",
       ".datatable table.frame { margin-bottom: 0; }\n",
       ".datatable table.frame thead { border-bottom: none; }\n",
       ".datatable table.frame tr.coltypes td {  color: #FFFFFF;  line-height: 6px;  padding: 0 0.5em;}\n",
       ".datatable .bool    { background: #DDDD99; }\n",
       ".datatable .object  { background: #565656; }\n",
       ".datatable .int     { background: #5D9E5D; }\n",
       ".datatable .float   { background: #4040CC; }\n",
       ".datatable .str     { background: #CC4040; }\n",
       ".datatable .time    { background: #40CC40; }\n",
       ".datatable .row_index {  background: var(--jp-border-color3);  border-right: 1px solid var(--jp-border-color0);  color: var(--jp-ui-font-color3);  font-size: 9px;}\n",
       ".datatable .frame tbody td { text-align: left; }\n",
       ".datatable .frame tr.coltypes .row_index {  background: var(--jp-border-color0);}\n",
       ".datatable th:nth-child(2) { padding-left: 12px; }\n",
       ".datatable .hellipsis {  color: var(--jp-cell-editor-border-color);}\n",
       ".datatable .vellipsis {  background: var(--jp-layout-color0);  color: var(--jp-cell-editor-border-color);}\n",
       ".datatable .na {  color: var(--jp-cell-editor-border-color);  font-size: 80%;}\n",
       ".datatable .sp {  opacity: 0.25;}\n",
       ".datatable .footer { font-size: 9px; }\n",
       ".datatable .frame_dimensions {  background: var(--jp-border-color3);  border-top: 1px solid var(--jp-border-color0);  color: var(--jp-ui-font-color3);  display: inline-block;  opacity: 0.6;  padding: 1px 10px 1px 5px;}\n",
       ".datatable .frame thead tr.colnames {  background-image: url('data:image/png;base64,iVBORw0KGgoAAAANSUhEUgAAABwAAAA4CAYAAADuMJi0AAAGR0lEQVR42rVZ21IbRxBtCbQrkIR2dQVjsLmDLBsET3nTQ8ouYRkQVf6e/E9+Im958qMfkgoXAaKSSj6C9Jnd2R2NeiRSRaZqitVOT5+Z6dNnWoKGlN94JFp8Ipofkb/7SOXjGyp8wF+z35K3f0uUp/GW4XfLQ8v2gefj3ZCCzojoNfue+43o1Q3l3xB/yA3JO7jnF2pCLnI+pNyx/qw7L+SQ7T2N9p2f8c60QcfcK6KGXsAd+ZvA4LlZYuSSAoOhMs5vwJkEGDlbPMaJoA+FcQ0IH38QLWkbAFLkOOhoMF5tU6/eBRhNjro0ZgKiPRAt3FLhCO/vqdgmNTm32LkmKpvBmQY4q5uAaAgbwDBG2BVv3bfI8KKAMWj2kfw9+pkZREIbEql4ST1x7hgHIANkbJ//MF8mAH/ilTCJ2tIi4ASr1IC3VNqXHKOxjy34mgoImnOQtx1g81fkqTiMOBVGcTogNhiT5iBHET8R8C+iApJUmgim3SQAXhsLQz7ee2G8gOAQNtJckBEplADiAxtX+G9NmhDl0qJKnTvyWlAMPYZnvIviGXRg6/Dh824DBXhP/tbfREXJEIvQ+aaPGjG7pvw6r3xdx+9hqb4dgZaP2XmdHO2K/B0c1+oUph6k8kShBryl/Ft0DYgjTlOieOACHFFpVyUl72T9V3cM1jUoYvxIC2vpCSys/ck70mDYuYvdvKjlMdKAUThneWVU1aAsyjv6PURDiwNsHGBZzY+JtAAgE2TFxdRHJdyIp/f+zqu09M5cDP2F08Ukkpj4YNSdX950HY2pNCCUK/Hhx5ZMBfjNSEzdsIihVzzAMdn9dz4eDYhnyQb9SSCiAryiJcQk82LiTbJ4x2FZJaUenpKnzP95WyDf4Y+QN9EFHHSeDLGdBjjKNQ5vKHf4XMA7KrY0y0GEObBOO/8e1ywuQExOHXktuQyJALEBpcEqhwtHqgiDuCK5b6i0p2MQpcckIIoh+6hYgTZtO8xlMi6O4tKCF/kOGHEg/W0UUpHW0ZoGNZ1ExZWcn7EErgwt4uj50E/sFBjXXIayWvh7WryjasxarZKssXon0zxvvkc32Q0bqbBCuZiKt9dWFysfQefeL29JYFaeztX6tePaZdz5mYx8+6Zq3Mk0wXECQxlhdzgS2wjBHju3j1RIgKyOMdNUE8X0+RAdbSapS11MRCv1SzUXmO6wGZe2SQYrv2MvCSWEv2VODE6DN7bz8ufypgQKW7uQskFTQHULLKyaEyrnlZbgOGLrV5qrn9U79jjm2HJmgkaVN98AfBub91lGPLZBqdroN5LYgjSu4zYZDDHXZOIPC691HqrWI1900I8qLzgKP4ft8DxEWigprPfrO+KcXno9gZz4jjGewWdUcpGCj0qVFuGPYbl2VturndZ2qRvlL8acDO6lF/DY/VjsFesiUK+ypJ+r/ep+cJkSQxEK4PG4WozgA75TYrDDqStE69K8/mzGEM+JXTeqvmedEElMmwCMm2SLd6bNNF9su02zEtoW6nAQtpMj5Gd7fKa//wqonF7UdtHFsVn+6hf1o7AfriPH7M6EeIUEF5zKVxXbYo7kS/OEtOqDYZKPoBsETIixn0uYrasThmzDkhdKPkz2EnaX0HdQbIgr59vAdGYDqjHrxkjS7WOxkTD8sqEqhiwcJETgBYigrBqF08KyDaje9SZ/I1A7MzaTzMGDEulPtZUkuKcyIRAjxEJPVrnVlb/9wkfij31D/pQt1IN+iL8bGJcstBIO7Y5VI/cwDqURbXhMuJxBqD0KLoK3esWFs0Jz5i5ZvJUAfFJMFb9XmGIOnzGpijpcWYCaMqXSQWp8EnCABepQ0Elyi4wfKfsw78ikIqif1pe1AGPlLmojl1SKxHHXp1L+Ut7AmDQHvhI5xHGi4EooO2BR7k78PEkJOdL7cAxQUZ/Tyclu9gnfwGgOmm2lNHGNmZXsq4Pqgc1EG1ATrvKl8s4R9ywwnqulGUnaRLVhxy8v3ieUwy2hbooT68uscW++DCDH0WSzuoyN2D4LUJ/tLECbcSKznwMIFs0ChF4mRTCnQbIIfk4SHJo6A9BMuTnXTs3Ku/KxsgZWqzuSe+Os8cEUfnMBY6UF5gi3SUbd5K7vDjq5WW0UENJlRsWn4sy21Er/E/AvPQSFHy1p4fgAAAAASUVORK5CYII=');  background-repeat: repeat-x;  background-size: 14px;  height: 28px;}\n",
       "</style>\n"
      ],
      "text/plain": [
       "<IPython.core.display.HTML object>"
      ]
     },
     "metadata": {},
     "output_type": "display_data"
    }
   ],
   "source": [
    "#Setting up for comparing the best model to use with the data.\n",
    "from pycaret.time_series import *"
   ]
  },
  {
   "cell_type": "code",
   "execution_count": 20,
   "id": "e80f74bb",
   "metadata": {
    "execution": {
     "iopub.execute_input": "2021-12-11T03:37:42.685009Z",
     "iopub.status.busy": "2021-12-11T03:37:42.684312Z",
     "iopub.status.idle": "2021-12-11T03:37:43.726845Z",
     "shell.execute_reply": "2021-12-11T03:37:43.727397Z",
     "shell.execute_reply.started": "2021-12-11T03:17:45.512049Z"
    },
    "papermill": {
     "duration": 1.191783,
     "end_time": "2021-12-11T03:37:43.727590",
     "exception": false,
     "start_time": "2021-12-11T03:37:42.535807",
     "status": "completed"
    },
    "tags": []
   },
   "outputs": [
    {
     "data": {
      "text/html": [
       "<style type=\"text/css\">\n",
       "#T_efcf3_row9_col1, #T_efcf3_row11_col1, #T_efcf3_row13_col1 {\n",
       "  background-color: lightgreen;\n",
       "}\n",
       "</style>\n",
       "<table id=\"T_efcf3_\">\n",
       "  <thead>\n",
       "    <tr>\n",
       "      <th class=\"blank level0\" >&nbsp;</th>\n",
       "      <th class=\"col_heading level0 col0\" >Description</th>\n",
       "      <th class=\"col_heading level0 col1\" >Value</th>\n",
       "    </tr>\n",
       "  </thead>\n",
       "  <tbody>\n",
       "    <tr>\n",
       "      <th id=\"T_efcf3_level0_row0\" class=\"row_heading level0 row0\" >0</th>\n",
       "      <td id=\"T_efcf3_row0_col0\" class=\"data row0 col0\" >session_id</td>\n",
       "      <td id=\"T_efcf3_row0_col1\" class=\"data row0 col1\" >2115</td>\n",
       "    </tr>\n",
       "    <tr>\n",
       "      <th id=\"T_efcf3_level0_row1\" class=\"row_heading level0 row1\" >1</th>\n",
       "      <td id=\"T_efcf3_row1_col0\" class=\"data row1 col0\" >Original Data</td>\n",
       "      <td id=\"T_efcf3_row1_col1\" class=\"data row1 col1\" >(1359, 1)</td>\n",
       "    </tr>\n",
       "    <tr>\n",
       "      <th id=\"T_efcf3_level0_row2\" class=\"row_heading level0 row2\" >2</th>\n",
       "      <td id=\"T_efcf3_row2_col0\" class=\"data row2 col0\" >Missing Values</td>\n",
       "      <td id=\"T_efcf3_row2_col1\" class=\"data row2 col1\" >False</td>\n",
       "    </tr>\n",
       "    <tr>\n",
       "      <th id=\"T_efcf3_level0_row3\" class=\"row_heading level0 row3\" >3</th>\n",
       "      <td id=\"T_efcf3_row3_col0\" class=\"data row3 col0\" >Transformed Train Set</td>\n",
       "      <td id=\"T_efcf3_row3_col1\" class=\"data row3 col1\" >(1347,)</td>\n",
       "    </tr>\n",
       "    <tr>\n",
       "      <th id=\"T_efcf3_level0_row4\" class=\"row_heading level0 row4\" >4</th>\n",
       "      <td id=\"T_efcf3_row4_col0\" class=\"data row4 col0\" >Transformed Test Set</td>\n",
       "      <td id=\"T_efcf3_row4_col1\" class=\"data row4 col1\" >(12,)</td>\n",
       "    </tr>\n",
       "    <tr>\n",
       "      <th id=\"T_efcf3_level0_row5\" class=\"row_heading level0 row5\" >5</th>\n",
       "      <td id=\"T_efcf3_row5_col0\" class=\"data row5 col0\" >Fold Generator</td>\n",
       "      <td id=\"T_efcf3_row5_col1\" class=\"data row5 col1\" >ExpandingWindowSplitter</td>\n",
       "    </tr>\n",
       "    <tr>\n",
       "      <th id=\"T_efcf3_level0_row6\" class=\"row_heading level0 row6\" >6</th>\n",
       "      <td id=\"T_efcf3_row6_col0\" class=\"data row6 col0\" >Fold Number</td>\n",
       "      <td id=\"T_efcf3_row6_col1\" class=\"data row6 col1\" >3</td>\n",
       "    </tr>\n",
       "    <tr>\n",
       "      <th id=\"T_efcf3_level0_row7\" class=\"row_heading level0 row7\" >7</th>\n",
       "      <td id=\"T_efcf3_row7_col0\" class=\"data row7 col0\" >Enforce Prediction Interval</td>\n",
       "      <td id=\"T_efcf3_row7_col1\" class=\"data row7 col1\" >False</td>\n",
       "    </tr>\n",
       "    <tr>\n",
       "      <th id=\"T_efcf3_level0_row8\" class=\"row_heading level0 row8\" >8</th>\n",
       "      <td id=\"T_efcf3_row8_col0\" class=\"data row8 col0\" >Seasonal Period Tested</td>\n",
       "      <td id=\"T_efcf3_row8_col1\" class=\"data row8 col1\" >7</td>\n",
       "    </tr>\n",
       "    <tr>\n",
       "      <th id=\"T_efcf3_level0_row9\" class=\"row_heading level0 row9\" >9</th>\n",
       "      <td id=\"T_efcf3_row9_col0\" class=\"data row9 col0\" >Seasonality Detected</td>\n",
       "      <td id=\"T_efcf3_row9_col1\" class=\"data row9 col1\" >True</td>\n",
       "    </tr>\n",
       "    <tr>\n",
       "      <th id=\"T_efcf3_level0_row10\" class=\"row_heading level0 row10\" >10</th>\n",
       "      <td id=\"T_efcf3_row10_col0\" class=\"data row10 col0\" >Seasonality Used in Models</td>\n",
       "      <td id=\"T_efcf3_row10_col1\" class=\"data row10 col1\" >7</td>\n",
       "    </tr>\n",
       "    <tr>\n",
       "      <th id=\"T_efcf3_level0_row11\" class=\"row_heading level0 row11\" >11</th>\n",
       "      <td id=\"T_efcf3_row11_col0\" class=\"data row11 col0\" >Target Strictly Positive</td>\n",
       "      <td id=\"T_efcf3_row11_col1\" class=\"data row11 col1\" >True</td>\n",
       "    </tr>\n",
       "    <tr>\n",
       "      <th id=\"T_efcf3_level0_row12\" class=\"row_heading level0 row12\" >12</th>\n",
       "      <td id=\"T_efcf3_row12_col0\" class=\"data row12 col0\" >Target White Noise</td>\n",
       "      <td id=\"T_efcf3_row12_col1\" class=\"data row12 col1\" >No</td>\n",
       "    </tr>\n",
       "    <tr>\n",
       "      <th id=\"T_efcf3_level0_row13\" class=\"row_heading level0 row13\" >13</th>\n",
       "      <td id=\"T_efcf3_row13_col0\" class=\"data row13 col0\" >Recommended d</td>\n",
       "      <td id=\"T_efcf3_row13_col1\" class=\"data row13 col1\" >1</td>\n",
       "    </tr>\n",
       "    <tr>\n",
       "      <th id=\"T_efcf3_level0_row14\" class=\"row_heading level0 row14\" >14</th>\n",
       "      <td id=\"T_efcf3_row14_col0\" class=\"data row14 col0\" >Recommended Seasonal D</td>\n",
       "      <td id=\"T_efcf3_row14_col1\" class=\"data row14 col1\" >0</td>\n",
       "    </tr>\n",
       "    <tr>\n",
       "      <th id=\"T_efcf3_level0_row15\" class=\"row_heading level0 row15\" >15</th>\n",
       "      <td id=\"T_efcf3_row15_col0\" class=\"data row15 col0\" >CPU Jobs</td>\n",
       "      <td id=\"T_efcf3_row15_col1\" class=\"data row15 col1\" >-1</td>\n",
       "    </tr>\n",
       "    <tr>\n",
       "      <th id=\"T_efcf3_level0_row16\" class=\"row_heading level0 row16\" >16</th>\n",
       "      <td id=\"T_efcf3_row16_col0\" class=\"data row16 col0\" >Use GPU</td>\n",
       "      <td id=\"T_efcf3_row16_col1\" class=\"data row16 col1\" >False</td>\n",
       "    </tr>\n",
       "    <tr>\n",
       "      <th id=\"T_efcf3_level0_row17\" class=\"row_heading level0 row17\" >17</th>\n",
       "      <td id=\"T_efcf3_row17_col0\" class=\"data row17 col0\" >Log Experiment</td>\n",
       "      <td id=\"T_efcf3_row17_col1\" class=\"data row17 col1\" >False</td>\n",
       "    </tr>\n",
       "    <tr>\n",
       "      <th id=\"T_efcf3_level0_row18\" class=\"row_heading level0 row18\" >18</th>\n",
       "      <td id=\"T_efcf3_row18_col0\" class=\"data row18 col0\" >Experiment Name</td>\n",
       "      <td id=\"T_efcf3_row18_col1\" class=\"data row18 col1\" >ts-default-name</td>\n",
       "    </tr>\n",
       "    <tr>\n",
       "      <th id=\"T_efcf3_level0_row19\" class=\"row_heading level0 row19\" >19</th>\n",
       "      <td id=\"T_efcf3_row19_col0\" class=\"data row19 col0\" >USI</td>\n",
       "      <td id=\"T_efcf3_row19_col1\" class=\"data row19 col1\" >626c</td>\n",
       "    </tr>\n",
       "    <tr>\n",
       "      <th id=\"T_efcf3_level0_row20\" class=\"row_heading level0 row20\" >20</th>\n",
       "      <td id=\"T_efcf3_row20_col0\" class=\"data row20 col0\" >Imputation Type</td>\n",
       "      <td id=\"T_efcf3_row20_col1\" class=\"data row20 col1\" >simple</td>\n",
       "    </tr>\n",
       "  </tbody>\n",
       "</table>\n"
      ],
      "text/plain": [
       "<pandas.io.formats.style.Styler at 0x7fd3a53e5cd0>"
      ]
     },
     "metadata": {},
     "output_type": "display_data"
    }
   ],
   "source": [
    "exp_name = setup(data=close_price, fh=12)\n"
   ]
  },
  {
   "cell_type": "code",
   "execution_count": 21,
   "id": "36ce3090",
   "metadata": {
    "execution": {
     "iopub.execute_input": "2021-12-11T03:37:44.017674Z",
     "iopub.status.busy": "2021-12-11T03:37:44.016938Z",
     "iopub.status.idle": "2021-12-11T03:40:33.366171Z",
     "shell.execute_reply": "2021-12-11T03:40:33.365621Z",
     "shell.execute_reply.started": "2021-12-11T03:18:45.030569Z"
    },
    "papermill": {
     "duration": 169.499215,
     "end_time": "2021-12-11T03:40:33.366328",
     "exception": false,
     "start_time": "2021-12-11T03:37:43.867113",
     "status": "completed"
    },
    "tags": []
   },
   "outputs": [
    {
     "data": {
      "text/html": [
       "<style type=\"text/css\">\n",
       "#T_97100_ th {\n",
       "  text-align: left;\n",
       "}\n",
       "#T_97100_row0_col0, #T_97100_row1_col0, #T_97100_row1_col1, #T_97100_row1_col2, #T_97100_row1_col3, #T_97100_row1_col4, #T_97100_row1_col5, #T_97100_row1_col6, #T_97100_row2_col0, #T_97100_row2_col1, #T_97100_row2_col2, #T_97100_row2_col3, #T_97100_row2_col4, #T_97100_row2_col5, #T_97100_row2_col6, #T_97100_row3_col0, #T_97100_row3_col1, #T_97100_row3_col2, #T_97100_row3_col3, #T_97100_row3_col4, #T_97100_row3_col5, #T_97100_row3_col6, #T_97100_row4_col0, #T_97100_row4_col1, #T_97100_row4_col2, #T_97100_row4_col3, #T_97100_row4_col4, #T_97100_row4_col5, #T_97100_row4_col6, #T_97100_row5_col0, #T_97100_row5_col1, #T_97100_row5_col2, #T_97100_row5_col3, #T_97100_row5_col4, #T_97100_row5_col5, #T_97100_row5_col6, #T_97100_row6_col0, #T_97100_row6_col1, #T_97100_row6_col2, #T_97100_row6_col3, #T_97100_row6_col4, #T_97100_row6_col5, #T_97100_row6_col6, #T_97100_row7_col0, #T_97100_row7_col1, #T_97100_row7_col2, #T_97100_row7_col3, #T_97100_row7_col4, #T_97100_row7_col5, #T_97100_row7_col6, #T_97100_row8_col0, #T_97100_row8_col1, #T_97100_row8_col2, #T_97100_row8_col3, #T_97100_row8_col4, #T_97100_row8_col5, #T_97100_row8_col6, #T_97100_row9_col0, #T_97100_row9_col1, #T_97100_row9_col2, #T_97100_row9_col3, #T_97100_row9_col4, #T_97100_row9_col5, #T_97100_row9_col6, #T_97100_row10_col0, #T_97100_row10_col1, #T_97100_row10_col2, #T_97100_row10_col3, #T_97100_row10_col4, #T_97100_row10_col5, #T_97100_row10_col6, #T_97100_row11_col0, #T_97100_row11_col1, #T_97100_row11_col2, #T_97100_row11_col3, #T_97100_row11_col4, #T_97100_row11_col5, #T_97100_row11_col6, #T_97100_row12_col0, #T_97100_row12_col1, #T_97100_row12_col2, #T_97100_row12_col3, #T_97100_row12_col4, #T_97100_row12_col5, #T_97100_row12_col6, #T_97100_row13_col0, #T_97100_row13_col1, #T_97100_row13_col2, #T_97100_row13_col3, #T_97100_row13_col4, #T_97100_row13_col5, #T_97100_row13_col6, #T_97100_row14_col0, #T_97100_row14_col1, #T_97100_row14_col2, #T_97100_row14_col3, #T_97100_row14_col4, #T_97100_row14_col5, #T_97100_row14_col6, #T_97100_row15_col0, #T_97100_row15_col1, #T_97100_row15_col2, #T_97100_row15_col3, #T_97100_row15_col4, #T_97100_row15_col5, #T_97100_row15_col6, #T_97100_row16_col0, #T_97100_row16_col1, #T_97100_row16_col2, #T_97100_row16_col3, #T_97100_row16_col4, #T_97100_row16_col5, #T_97100_row16_col6, #T_97100_row17_col0, #T_97100_row17_col1, #T_97100_row17_col2, #T_97100_row17_col3, #T_97100_row17_col4, #T_97100_row17_col5, #T_97100_row17_col6, #T_97100_row18_col0, #T_97100_row18_col1, #T_97100_row18_col2, #T_97100_row18_col3, #T_97100_row18_col4, #T_97100_row18_col5, #T_97100_row18_col6, #T_97100_row19_col0, #T_97100_row19_col1, #T_97100_row19_col2, #T_97100_row19_col3, #T_97100_row19_col4, #T_97100_row19_col5, #T_97100_row19_col6, #T_97100_row20_col0, #T_97100_row20_col1, #T_97100_row20_col2, #T_97100_row20_col3, #T_97100_row20_col4, #T_97100_row20_col5, #T_97100_row20_col6, #T_97100_row21_col0, #T_97100_row21_col1, #T_97100_row21_col2, #T_97100_row21_col3, #T_97100_row21_col4, #T_97100_row21_col5, #T_97100_row21_col6, #T_97100_row22_col0, #T_97100_row22_col1, #T_97100_row22_col2, #T_97100_row22_col3, #T_97100_row22_col4, #T_97100_row22_col5, #T_97100_row22_col6, #T_97100_row23_col0, #T_97100_row23_col1, #T_97100_row23_col2, #T_97100_row23_col3, #T_97100_row23_col4, #T_97100_row23_col5, #T_97100_row23_col6, #T_97100_row24_col0, #T_97100_row24_col1, #T_97100_row24_col2, #T_97100_row24_col3, #T_97100_row24_col4, #T_97100_row24_col5, #T_97100_row24_col6, #T_97100_row25_col0, #T_97100_row25_col1, #T_97100_row25_col2, #T_97100_row25_col3, #T_97100_row25_col4, #T_97100_row25_col5, #T_97100_row25_col6, #T_97100_row26_col0, #T_97100_row26_col1, #T_97100_row26_col2, #T_97100_row26_col3, #T_97100_row26_col4, #T_97100_row26_col5, #T_97100_row26_col6, #T_97100_row27_col0, #T_97100_row27_col1, #T_97100_row27_col2, #T_97100_row27_col3, #T_97100_row27_col4, #T_97100_row27_col5, #T_97100_row27_col6 {\n",
       "  text-align: left;\n",
       "}\n",
       "#T_97100_row0_col1, #T_97100_row0_col2, #T_97100_row0_col3, #T_97100_row0_col4, #T_97100_row0_col5, #T_97100_row0_col6 {\n",
       "  text-align: left;\n",
       "  background-color: yellow;\n",
       "}\n",
       "#T_97100_row0_col7, #T_97100_row1_col7, #T_97100_row3_col7, #T_97100_row4_col7, #T_97100_row5_col7, #T_97100_row6_col7, #T_97100_row7_col7, #T_97100_row8_col7, #T_97100_row9_col7, #T_97100_row10_col7, #T_97100_row11_col7, #T_97100_row12_col7, #T_97100_row13_col7, #T_97100_row14_col7, #T_97100_row15_col7, #T_97100_row16_col7, #T_97100_row17_col7, #T_97100_row18_col7, #T_97100_row19_col7, #T_97100_row20_col7, #T_97100_row21_col7, #T_97100_row22_col7, #T_97100_row23_col7, #T_97100_row24_col7, #T_97100_row25_col7, #T_97100_row27_col7 {\n",
       "  text-align: left;\n",
       "  background-color: lightgrey;\n",
       "}\n",
       "#T_97100_row2_col7, #T_97100_row26_col7 {\n",
       "  text-align: left;\n",
       "  background-color: yellow;\n",
       "  background-color: lightgrey;\n",
       "}\n",
       "</style>\n",
       "<table id=\"T_97100_\">\n",
       "  <thead>\n",
       "    <tr>\n",
       "      <th class=\"blank level0\" >&nbsp;</th>\n",
       "      <th class=\"col_heading level0 col0\" >Model</th>\n",
       "      <th class=\"col_heading level0 col1\" >MAE</th>\n",
       "      <th class=\"col_heading level0 col2\" >RMSE</th>\n",
       "      <th class=\"col_heading level0 col3\" >MAPE</th>\n",
       "      <th class=\"col_heading level0 col4\" >SMAPE</th>\n",
       "      <th class=\"col_heading level0 col5\" >MASE</th>\n",
       "      <th class=\"col_heading level0 col6\" >R2</th>\n",
       "      <th class=\"col_heading level0 col7\" >TT (Sec)</th>\n",
       "    </tr>\n",
       "  </thead>\n",
       "  <tbody>\n",
       "    <tr>\n",
       "      <th id=\"T_97100_level0_row0\" class=\"row_heading level0 row0\" >arima</th>\n",
       "      <td id=\"T_97100_row0_col0\" class=\"data row0 col0\" >ARIMA</td>\n",
       "      <td id=\"T_97100_row0_col1\" class=\"data row0 col1\" >1859.5460</td>\n",
       "      <td id=\"T_97100_row0_col2\" class=\"data row0 col2\" >2197.6936</td>\n",
       "      <td id=\"T_97100_row0_col3\" class=\"data row0 col3\" >0.0402</td>\n",
       "      <td id=\"T_97100_row0_col4\" class=\"data row0 col4\" >0.0411</td>\n",
       "      <td id=\"T_97100_row0_col5\" class=\"data row0 col5\" >1.4520</td>\n",
       "      <td id=\"T_97100_row0_col6\" class=\"data row0 col6\" >-0.0670</td>\n",
       "      <td id=\"T_97100_row0_col7\" class=\"data row0 col7\" >0.1967</td>\n",
       "    </tr>\n",
       "    <tr>\n",
       "      <th id=\"T_97100_level0_row1\" class=\"row_heading level0 row1\" >exp_smooth</th>\n",
       "      <td id=\"T_97100_row1_col0\" class=\"data row1 col0\" >Exponential Smoothing</td>\n",
       "      <td id=\"T_97100_row1_col1\" class=\"data row1 col1\" >2401.2824</td>\n",
       "      <td id=\"T_97100_row1_col2\" class=\"data row1 col2\" >2850.7019</td>\n",
       "      <td id=\"T_97100_row1_col3\" class=\"data row1 col3\" >0.0517</td>\n",
       "      <td id=\"T_97100_row1_col4\" class=\"data row1 col4\" >0.0535</td>\n",
       "      <td id=\"T_97100_row1_col5\" class=\"data row1 col5\" >1.8760</td>\n",
       "      <td id=\"T_97100_row1_col6\" class=\"data row1 col6\" >-0.7868</td>\n",
       "      <td id=\"T_97100_row1_col7\" class=\"data row1 col7\" >0.1733</td>\n",
       "    </tr>\n",
       "    <tr>\n",
       "      <th id=\"T_97100_level0_row2\" class=\"row_heading level0 row2\" >snaive</th>\n",
       "      <td id=\"T_97100_row2_col0\" class=\"data row2 col0\" >Seasonal Naive Forecaster</td>\n",
       "      <td id=\"T_97100_row2_col1\" class=\"data row2 col1\" >2426.8326</td>\n",
       "      <td id=\"T_97100_row2_col2\" class=\"data row2 col2\" >2900.5242</td>\n",
       "      <td id=\"T_97100_row2_col3\" class=\"data row2 col3\" >0.0518</td>\n",
       "      <td id=\"T_97100_row2_col4\" class=\"data row2 col4\" >0.0539</td>\n",
       "      <td id=\"T_97100_row2_col5\" class=\"data row2 col5\" >1.8944</td>\n",
       "      <td id=\"T_97100_row2_col6\" class=\"data row2 col6\" >-0.9670</td>\n",
       "      <td id=\"T_97100_row2_col7\" class=\"data row2 col7\" >0.0100</td>\n",
       "    </tr>\n",
       "    <tr>\n",
       "      <th id=\"T_97100_level0_row3\" class=\"row_heading level0 row3\" >xgboost_cds_dt</th>\n",
       "      <td id=\"T_97100_row3_col0\" class=\"data row3 col0\" >Extreme Gradient Boosting w/ Cond. Deseasonalize & Detrending</td>\n",
       "      <td id=\"T_97100_row3_col1\" class=\"data row3 col1\" >2676.4094</td>\n",
       "      <td id=\"T_97100_row3_col2\" class=\"data row3 col2\" >3084.8725</td>\n",
       "      <td id=\"T_97100_row3_col3\" class=\"data row3 col3\" >0.0566</td>\n",
       "      <td id=\"T_97100_row3_col4\" class=\"data row3 col4\" >0.0589</td>\n",
       "      <td id=\"T_97100_row3_col5\" class=\"data row3 col5\" >2.0864</td>\n",
       "      <td id=\"T_97100_row3_col6\" class=\"data row3 col6\" >-1.3008</td>\n",
       "      <td id=\"T_97100_row3_col7\" class=\"data row3 col7\" >27.7700</td>\n",
       "    </tr>\n",
       "    <tr>\n",
       "      <th id=\"T_97100_level0_row4\" class=\"row_heading level0 row4\" >ets</th>\n",
       "      <td id=\"T_97100_row4_col0\" class=\"data row4 col0\" >ETS</td>\n",
       "      <td id=\"T_97100_row4_col1\" class=\"data row4 col1\" >2628.4413</td>\n",
       "      <td id=\"T_97100_row4_col2\" class=\"data row4 col2\" >3034.6073</td>\n",
       "      <td id=\"T_97100_row4_col3\" class=\"data row4 col3\" >0.0563</td>\n",
       "      <td id=\"T_97100_row4_col4\" class=\"data row4 col4\" >0.0590</td>\n",
       "      <td id=\"T_97100_row4_col5\" class=\"data row4 col5\" >2.0537</td>\n",
       "      <td id=\"T_97100_row4_col6\" class=\"data row4 col6\" >-1.0398</td>\n",
       "      <td id=\"T_97100_row4_col7\" class=\"data row4 col7\" >0.1233</td>\n",
       "    </tr>\n",
       "    <tr>\n",
       "      <th id=\"T_97100_level0_row5\" class=\"row_heading level0 row5\" >theta</th>\n",
       "      <td id=\"T_97100_row5_col0\" class=\"data row5 col0\" >Theta Forecaster</td>\n",
       "      <td id=\"T_97100_row5_col1\" class=\"data row5 col1\" >2757.2573</td>\n",
       "      <td id=\"T_97100_row5_col2\" class=\"data row5 col2\" >3201.2002</td>\n",
       "      <td id=\"T_97100_row5_col3\" class=\"data row5 col3\" >0.0589</td>\n",
       "      <td id=\"T_97100_row5_col4\" class=\"data row5 col4\" >0.0619</td>\n",
       "      <td id=\"T_97100_row5_col5\" class=\"data row5 col5\" >2.1538</td>\n",
       "      <td id=\"T_97100_row5_col6\" class=\"data row5 col6\" >-1.2763</td>\n",
       "      <td id=\"T_97100_row5_col7\" class=\"data row5 col7\" >0.0200</td>\n",
       "    </tr>\n",
       "    <tr>\n",
       "      <th id=\"T_97100_level0_row6\" class=\"row_heading level0 row6\" >naive</th>\n",
       "      <td id=\"T_97100_row6_col0\" class=\"data row6 col0\" >Naive Forecaster</td>\n",
       "      <td id=\"T_97100_row6_col1\" class=\"data row6 col1\" >2896.9598</td>\n",
       "      <td id=\"T_97100_row6_col2\" class=\"data row6 col2\" >3370.0565</td>\n",
       "      <td id=\"T_97100_row6_col3\" class=\"data row6 col3\" >0.0618</td>\n",
       "      <td id=\"T_97100_row6_col4\" class=\"data row6 col4\" >0.0650</td>\n",
       "      <td id=\"T_97100_row6_col5\" class=\"data row6 col5\" >2.2622</td>\n",
       "      <td id=\"T_97100_row6_col6\" class=\"data row6 col6\" >-1.5576</td>\n",
       "      <td id=\"T_97100_row6_col7\" class=\"data row6 col7\" >2.2867</td>\n",
       "    </tr>\n",
       "    <tr>\n",
       "      <th id=\"T_97100_level0_row7\" class=\"row_heading level0 row7\" >huber_cds_dt</th>\n",
       "      <td id=\"T_97100_row7_col0\" class=\"data row7 col0\" >Huber w/ Cond. Deseasonalize & Detrending</td>\n",
       "      <td id=\"T_97100_row7_col1\" class=\"data row7 col1\" >2893.1367</td>\n",
       "      <td id=\"T_97100_row7_col2\" class=\"data row7 col2\" >3360.3734</td>\n",
       "      <td id=\"T_97100_row7_col3\" class=\"data row7 col3\" >0.0618</td>\n",
       "      <td id=\"T_97100_row7_col4\" class=\"data row7 col4\" >0.0651</td>\n",
       "      <td id=\"T_97100_row7_col5\" class=\"data row7 col5\" >2.2599</td>\n",
       "      <td id=\"T_97100_row7_col6\" class=\"data row7 col6\" >-1.5327</td>\n",
       "      <td id=\"T_97100_row7_col7\" class=\"data row7 col7\" >0.0500</td>\n",
       "    </tr>\n",
       "    <tr>\n",
       "      <th id=\"T_97100_level0_row8\" class=\"row_heading level0 row8\" >gbr_cds_dt</th>\n",
       "      <td id=\"T_97100_row8_col0\" class=\"data row8 col0\" >Gradient Boosting w/ Cond. Deseasonalize & Detrending</td>\n",
       "      <td id=\"T_97100_row8_col1\" class=\"data row8 col1\" >3068.5553</td>\n",
       "      <td id=\"T_97100_row8_col2\" class=\"data row8 col2\" >3615.9565</td>\n",
       "      <td id=\"T_97100_row8_col3\" class=\"data row8 col3\" >0.0649</td>\n",
       "      <td id=\"T_97100_row8_col4\" class=\"data row8 col4\" >0.0682</td>\n",
       "      <td id=\"T_97100_row8_col5\" class=\"data row8 col5\" >2.3935</td>\n",
       "      <td id=\"T_97100_row8_col6\" class=\"data row8 col6\" >-2.0341</td>\n",
       "      <td id=\"T_97100_row8_col7\" class=\"data row8 col7\" >1.7133</td>\n",
       "    </tr>\n",
       "    <tr>\n",
       "      <th id=\"T_97100_level0_row9\" class=\"row_heading level0 row9\" >omp_cds_dt</th>\n",
       "      <td id=\"T_97100_row9_col0\" class=\"data row9 col0\" >Orthogonal Matching Pursuit w/ Cond. Deseasonalize & Detrending</td>\n",
       "      <td id=\"T_97100_row9_col1\" class=\"data row9 col1\" >3042.9884</td>\n",
       "      <td id=\"T_97100_row9_col2\" class=\"data row9 col2\" >3535.8744</td>\n",
       "      <td id=\"T_97100_row9_col3\" class=\"data row9 col3\" >0.0648</td>\n",
       "      <td id=\"T_97100_row9_col4\" class=\"data row9 col4\" >0.0683</td>\n",
       "      <td id=\"T_97100_row9_col5\" class=\"data row9 col5\" >2.3757</td>\n",
       "      <td id=\"T_97100_row9_col6\" class=\"data row9 col6\" >-1.8229</td>\n",
       "      <td id=\"T_97100_row9_col7\" class=\"data row9 col7\" >0.0300</td>\n",
       "    </tr>\n",
       "    <tr>\n",
       "      <th id=\"T_97100_level0_row10\" class=\"row_heading level0 row10\" >auto_arima</th>\n",
       "      <td id=\"T_97100_row10_col0\" class=\"data row10 col0\" >Auto ARIMA</td>\n",
       "      <td id=\"T_97100_row10_col1\" class=\"data row10 col1\" >3046.0302</td>\n",
       "      <td id=\"T_97100_row10_col2\" class=\"data row10 col2\" >3552.8601</td>\n",
       "      <td id=\"T_97100_row10_col3\" class=\"data row10 col3\" >0.0652</td>\n",
       "      <td id=\"T_97100_row10_col4\" class=\"data row10 col4\" >0.0685</td>\n",
       "      <td id=\"T_97100_row10_col5\" class=\"data row10 col5\" >2.3787</td>\n",
       "      <td id=\"T_97100_row10_col6\" class=\"data row10 col6\" >-1.8127</td>\n",
       "      <td id=\"T_97100_row10_col7\" class=\"data row10 col7\" >14.5600</td>\n",
       "    </tr>\n",
       "    <tr>\n",
       "      <th id=\"T_97100_level0_row11\" class=\"row_heading level0 row11\" >rf_cds_dt</th>\n",
       "      <td id=\"T_97100_row11_col0\" class=\"data row11 col0\" >Random Forest w/ Cond. Deseasonalize & Detrending</td>\n",
       "      <td id=\"T_97100_row11_col1\" class=\"data row11 col1\" >3083.1174</td>\n",
       "      <td id=\"T_97100_row11_col2\" class=\"data row11 col2\" >3572.6231</td>\n",
       "      <td id=\"T_97100_row11_col3\" class=\"data row11 col3\" >0.0654</td>\n",
       "      <td id=\"T_97100_row11_col4\" class=\"data row11 col4\" >0.0688</td>\n",
       "      <td id=\"T_97100_row11_col5\" class=\"data row11 col5\" >2.4057</td>\n",
       "      <td id=\"T_97100_row11_col6\" class=\"data row11 col6\" >-1.9204</td>\n",
       "      <td id=\"T_97100_row11_col7\" class=\"data row11 col7\" >0.7367</td>\n",
       "    </tr>\n",
       "    <tr>\n",
       "      <th id=\"T_97100_level0_row12\" class=\"row_heading level0 row12\" >ada_cds_dt</th>\n",
       "      <td id=\"T_97100_row12_col0\" class=\"data row12 col0\" >AdaBoost w/ Cond. Deseasonalize & Detrending</td>\n",
       "      <td id=\"T_97100_row12_col1\" class=\"data row12 col1\" >3126.6398</td>\n",
       "      <td id=\"T_97100_row12_col2\" class=\"data row12 col2\" >3658.3248</td>\n",
       "      <td id=\"T_97100_row12_col3\" class=\"data row12 col3\" >0.0663</td>\n",
       "      <td id=\"T_97100_row12_col4\" class=\"data row12 col4\" >0.0698</td>\n",
       "      <td id=\"T_97100_row12_col5\" class=\"data row12 col5\" >2.4398</td>\n",
       "      <td id=\"T_97100_row12_col6\" class=\"data row12 col6\" >-2.0294</td>\n",
       "      <td id=\"T_97100_row12_col7\" class=\"data row12 col7\" >0.0933</td>\n",
       "    </tr>\n",
       "    <tr>\n",
       "      <th id=\"T_97100_level0_row13\" class=\"row_heading level0 row13\" >llar_cds_dt</th>\n",
       "      <td id=\"T_97100_row13_col0\" class=\"data row13 col0\" >Lasso Least Angular Regressor w/ Cond. Deseasonalize & Detrending</td>\n",
       "      <td id=\"T_97100_row13_col1\" class=\"data row13 col1\" >3151.9735</td>\n",
       "      <td id=\"T_97100_row13_col2\" class=\"data row13 col2\" >3659.9922</td>\n",
       "      <td id=\"T_97100_row13_col3\" class=\"data row13 col3\" >0.0670</td>\n",
       "      <td id=\"T_97100_row13_col4\" class=\"data row13 col4\" >0.0707</td>\n",
       "      <td id=\"T_97100_row13_col5\" class=\"data row13 col5\" >2.4603</td>\n",
       "      <td id=\"T_97100_row13_col6\" class=\"data row13 col6\" >-2.0242</td>\n",
       "      <td id=\"T_97100_row13_col7\" class=\"data row13 col7\" >0.0300</td>\n",
       "    </tr>\n",
       "    <tr>\n",
       "      <th id=\"T_97100_level0_row14\" class=\"row_heading level0 row14\" >knn_cds_dt</th>\n",
       "      <td id=\"T_97100_row14_col0\" class=\"data row14 col0\" >K Neighbors w/ Cond. Deseasonalize & Detrending</td>\n",
       "      <td id=\"T_97100_row14_col1\" class=\"data row14 col1\" >3218.1916</td>\n",
       "      <td id=\"T_97100_row14_col2\" class=\"data row14 col2\" >3724.3137</td>\n",
       "      <td id=\"T_97100_row14_col3\" class=\"data row14 col3\" >0.0677</td>\n",
       "      <td id=\"T_97100_row14_col4\" class=\"data row14 col4\" >0.0709</td>\n",
       "      <td id=\"T_97100_row14_col5\" class=\"data row14 col5\" >2.5063</td>\n",
       "      <td id=\"T_97100_row14_col6\" class=\"data row14 col6\" >-2.4893</td>\n",
       "      <td id=\"T_97100_row14_col7\" class=\"data row14 col7\" >0.4367</td>\n",
       "    </tr>\n",
       "    <tr>\n",
       "      <th id=\"T_97100_level0_row15\" class=\"row_heading level0 row15\" >en_cds_dt</th>\n",
       "      <td id=\"T_97100_row15_col0\" class=\"data row15 col0\" >Elastic Net w/ Cond. Deseasonalize & Detrending</td>\n",
       "      <td id=\"T_97100_row15_col1\" class=\"data row15 col1\" >3155.8295</td>\n",
       "      <td id=\"T_97100_row15_col2\" class=\"data row15 col2\" >3642.8105</td>\n",
       "      <td id=\"T_97100_row15_col3\" class=\"data row15 col3\" >0.0673</td>\n",
       "      <td id=\"T_97100_row15_col4\" class=\"data row15 col4\" >0.0711</td>\n",
       "      <td id=\"T_97100_row15_col5\" class=\"data row15 col5\" >2.4640</td>\n",
       "      <td id=\"T_97100_row15_col6\" class=\"data row15 col6\" >-2.0217</td>\n",
       "      <td id=\"T_97100_row15_col7\" class=\"data row15 col7\" >0.0367</td>\n",
       "    </tr>\n",
       "    <tr>\n",
       "      <th id=\"T_97100_level0_row16\" class=\"row_heading level0 row16\" >lasso_cds_dt</th>\n",
       "      <td id=\"T_97100_row16_col0\" class=\"data row16 col0\" >Lasso w/ Cond. Deseasonalize & Detrending</td>\n",
       "      <td id=\"T_97100_row16_col1\" class=\"data row16 col1\" >3155.8293</td>\n",
       "      <td id=\"T_97100_row16_col2\" class=\"data row16 col2\" >3642.8106</td>\n",
       "      <td id=\"T_97100_row16_col3\" class=\"data row16 col3\" >0.0673</td>\n",
       "      <td id=\"T_97100_row16_col4\" class=\"data row16 col4\" >0.0711</td>\n",
       "      <td id=\"T_97100_row16_col5\" class=\"data row16 col5\" >2.4640</td>\n",
       "      <td id=\"T_97100_row16_col6\" class=\"data row16 col6\" >-2.0217</td>\n",
       "      <td id=\"T_97100_row16_col7\" class=\"data row16 col7\" >0.0333</td>\n",
       "    </tr>\n",
       "    <tr>\n",
       "      <th id=\"T_97100_level0_row17\" class=\"row_heading level0 row17\" >br_cds_dt</th>\n",
       "      <td id=\"T_97100_row17_col0\" class=\"data row17 col0\" >Bayesian Ridge w/ Cond. Deseasonalize & Detrending</td>\n",
       "      <td id=\"T_97100_row17_col1\" class=\"data row17 col1\" >3156.5829</td>\n",
       "      <td id=\"T_97100_row17_col2\" class=\"data row17 col2\" >3643.0942</td>\n",
       "      <td id=\"T_97100_row17_col3\" class=\"data row17 col3\" >0.0673</td>\n",
       "      <td id=\"T_97100_row17_col4\" class=\"data row17 col4\" >0.0711</td>\n",
       "      <td id=\"T_97100_row17_col5\" class=\"data row17 col5\" >2.4646</td>\n",
       "      <td id=\"T_97100_row17_col6\" class=\"data row17 col6\" >-2.0175</td>\n",
       "      <td id=\"T_97100_row17_col7\" class=\"data row17 col7\" >0.0300</td>\n",
       "    </tr>\n",
       "    <tr>\n",
       "      <th id=\"T_97100_level0_row18\" class=\"row_heading level0 row18\" >lr_cds_dt</th>\n",
       "      <td id=\"T_97100_row18_col0\" class=\"data row18 col0\" >Linear w/ Cond. Deseasonalize & Detrending</td>\n",
       "      <td id=\"T_97100_row18_col1\" class=\"data row18 col1\" >3162.4563</td>\n",
       "      <td id=\"T_97100_row18_col2\" class=\"data row18 col2\" >3648.4104</td>\n",
       "      <td id=\"T_97100_row18_col3\" class=\"data row18 col3\" >0.0674</td>\n",
       "      <td id=\"T_97100_row18_col4\" class=\"data row18 col4\" >0.0712</td>\n",
       "      <td id=\"T_97100_row18_col5\" class=\"data row18 col5\" >2.4692</td>\n",
       "      <td id=\"T_97100_row18_col6\" class=\"data row18 col6\" >-2.0276</td>\n",
       "      <td id=\"T_97100_row18_col7\" class=\"data row18 col7\" >0.0333</td>\n",
       "    </tr>\n",
       "    <tr>\n",
       "      <th id=\"T_97100_level0_row19\" class=\"row_heading level0 row19\" >ridge_cds_dt</th>\n",
       "      <td id=\"T_97100_row19_col0\" class=\"data row19 col0\" >Ridge w/ Cond. Deseasonalize & Detrending</td>\n",
       "      <td id=\"T_97100_row19_col1\" class=\"data row19 col1\" >3162.4563</td>\n",
       "      <td id=\"T_97100_row19_col2\" class=\"data row19 col2\" >3648.4104</td>\n",
       "      <td id=\"T_97100_row19_col3\" class=\"data row19 col3\" >0.0674</td>\n",
       "      <td id=\"T_97100_row19_col4\" class=\"data row19 col4\" >0.0712</td>\n",
       "      <td id=\"T_97100_row19_col5\" class=\"data row19 col5\" >2.4692</td>\n",
       "      <td id=\"T_97100_row19_col6\" class=\"data row19 col6\" >-2.0276</td>\n",
       "      <td id=\"T_97100_row19_col7\" class=\"data row19 col7\" >0.0300</td>\n",
       "    </tr>\n",
       "    <tr>\n",
       "      <th id=\"T_97100_level0_row20\" class=\"row_heading level0 row20\" >lar_cds_dt</th>\n",
       "      <td id=\"T_97100_row20_col0\" class=\"data row20 col0\" >Least Angular Regressor w/ Cond. Deseasonalize & Detrending</td>\n",
       "      <td id=\"T_97100_row20_col1\" class=\"data row20 col1\" >3162.4563</td>\n",
       "      <td id=\"T_97100_row20_col2\" class=\"data row20 col2\" >3648.4104</td>\n",
       "      <td id=\"T_97100_row20_col3\" class=\"data row20 col3\" >0.0674</td>\n",
       "      <td id=\"T_97100_row20_col4\" class=\"data row20 col4\" >0.0712</td>\n",
       "      <td id=\"T_97100_row20_col5\" class=\"data row20 col5\" >2.4692</td>\n",
       "      <td id=\"T_97100_row20_col6\" class=\"data row20 col6\" >-2.0276</td>\n",
       "      <td id=\"T_97100_row20_col7\" class=\"data row20 col7\" >0.0300</td>\n",
       "    </tr>\n",
       "    <tr>\n",
       "      <th id=\"T_97100_level0_row21\" class=\"row_heading level0 row21\" >et_cds_dt</th>\n",
       "      <td id=\"T_97100_row21_col0\" class=\"data row21 col0\" >Extra Trees w/ Cond. Deseasonalize & Detrending</td>\n",
       "      <td id=\"T_97100_row21_col1\" class=\"data row21 col1\" >3188.7906</td>\n",
       "      <td id=\"T_97100_row21_col2\" class=\"data row21 col2\" >3713.5208</td>\n",
       "      <td id=\"T_97100_row21_col3\" class=\"data row21 col3\" >0.0678</td>\n",
       "      <td id=\"T_97100_row21_col4\" class=\"data row21 col4\" >0.0717</td>\n",
       "      <td id=\"T_97100_row21_col5\" class=\"data row21 col5\" >2.4898</td>\n",
       "      <td id=\"T_97100_row21_col6\" class=\"data row21 col6\" >-2.0765</td>\n",
       "      <td id=\"T_97100_row21_col7\" class=\"data row21 col7\" >0.6067</td>\n",
       "    </tr>\n",
       "    <tr>\n",
       "      <th id=\"T_97100_level0_row22\" class=\"row_heading level0 row22\" >catboost_cds_dt</th>\n",
       "      <td id=\"T_97100_row22_col0\" class=\"data row22 col0\" >CatBoost Regressor w/ Cond. Deseasonalize & Detrending</td>\n",
       "      <td id=\"T_97100_row22_col1\" class=\"data row22 col1\" >3383.4938</td>\n",
       "      <td id=\"T_97100_row22_col2\" class=\"data row22 col2\" >3877.9594</td>\n",
       "      <td id=\"T_97100_row22_col3\" class=\"data row22 col3\" >0.0718</td>\n",
       "      <td id=\"T_97100_row22_col4\" class=\"data row22 col4\" >0.0760</td>\n",
       "      <td id=\"T_97100_row22_col5\" class=\"data row22 col5\" >2.6403</td>\n",
       "      <td id=\"T_97100_row22_col6\" class=\"data row22 col6\" >-2.3692</td>\n",
       "      <td id=\"T_97100_row22_col7\" class=\"data row22 col7\" >1.7033</td>\n",
       "    </tr>\n",
       "    <tr>\n",
       "      <th id=\"T_97100_level0_row23\" class=\"row_heading level0 row23\" >lightgbm_cds_dt</th>\n",
       "      <td id=\"T_97100_row23_col0\" class=\"data row23 col0\" >Light Gradient Boosting w/ Cond. Deseasonalize & Detrending</td>\n",
       "      <td id=\"T_97100_row23_col1\" class=\"data row23 col1\" >3555.8909</td>\n",
       "      <td id=\"T_97100_row23_col2\" class=\"data row23 col2\" >3991.5304</td>\n",
       "      <td id=\"T_97100_row23_col3\" class=\"data row23 col3\" >0.0748</td>\n",
       "      <td id=\"T_97100_row23_col4\" class=\"data row23 col4\" >0.0788</td>\n",
       "      <td id=\"T_97100_row23_col5\" class=\"data row23 col5\" >2.7675</td>\n",
       "      <td id=\"T_97100_row23_col6\" class=\"data row23 col6\" >-3.5078</td>\n",
       "      <td id=\"T_97100_row23_col7\" class=\"data row23 col7\" >1.4533</td>\n",
       "    </tr>\n",
       "    <tr>\n",
       "      <th id=\"T_97100_level0_row24\" class=\"row_heading level0 row24\" >dt_cds_dt</th>\n",
       "      <td id=\"T_97100_row24_col0\" class=\"data row24 col0\" >Decision Tree w/ Cond. Deseasonalize & Detrending</td>\n",
       "      <td id=\"T_97100_row24_col1\" class=\"data row24 col1\" >3926.0128</td>\n",
       "      <td id=\"T_97100_row24_col2\" class=\"data row24 col2\" >4515.8602</td>\n",
       "      <td id=\"T_97100_row24_col3\" class=\"data row24 col3\" >0.0833</td>\n",
       "      <td id=\"T_97100_row24_col4\" class=\"data row24 col4\" >0.0886</td>\n",
       "      <td id=\"T_97100_row24_col5\" class=\"data row24 col5\" >3.0624</td>\n",
       "      <td id=\"T_97100_row24_col6\" class=\"data row24 col6\" >-3.6874</td>\n",
       "      <td id=\"T_97100_row24_col7\" class=\"data row24 col7\" >0.0333</td>\n",
       "    </tr>\n",
       "    <tr>\n",
       "      <th id=\"T_97100_level0_row25\" class=\"row_heading level0 row25\" >par_cds_dt</th>\n",
       "      <td id=\"T_97100_row25_col0\" class=\"data row25 col0\" >Passive Aggressive w/ Cond. Deseasonalize & Detrending</td>\n",
       "      <td id=\"T_97100_row25_col1\" class=\"data row25 col1\" >13146.2175</td>\n",
       "      <td id=\"T_97100_row25_col2\" class=\"data row25 col2\" >17399.6645</td>\n",
       "      <td id=\"T_97100_row25_col3\" class=\"data row25 col3\" >0.2689</td>\n",
       "      <td id=\"T_97100_row25_col4\" class=\"data row25 col4\" >0.3452</td>\n",
       "      <td id=\"T_97100_row25_col5\" class=\"data row25 col5\" >10.1667</td>\n",
       "      <td id=\"T_97100_row25_col6\" class=\"data row25 col6\" >-195.1927</td>\n",
       "      <td id=\"T_97100_row25_col7\" class=\"data row25 col7\" >0.0333</td>\n",
       "    </tr>\n",
       "    <tr>\n",
       "      <th id=\"T_97100_level0_row26\" class=\"row_heading level0 row26\" >polytrend</th>\n",
       "      <td id=\"T_97100_row26_col0\" class=\"data row26 col0\" >Polynomial Trend Forecaster</td>\n",
       "      <td id=\"T_97100_row26_col1\" class=\"data row26 col1\" >14926.3591</td>\n",
       "      <td id=\"T_97100_row26_col2\" class=\"data row26 col2\" >15080.7503</td>\n",
       "      <td id=\"T_97100_row26_col3\" class=\"data row26 col3\" >0.3162</td>\n",
       "      <td id=\"T_97100_row26_col4\" class=\"data row26 col4\" >0.3768</td>\n",
       "      <td id=\"T_97100_row26_col5\" class=\"data row26 col5\" >11.5988</td>\n",
       "      <td id=\"T_97100_row26_col6\" class=\"data row26 col6\" >-66.6928</td>\n",
       "      <td id=\"T_97100_row26_col7\" class=\"data row26 col7\" >0.0100</td>\n",
       "    </tr>\n",
       "    <tr>\n",
       "      <th id=\"T_97100_level0_row27\" class=\"row_heading level0 row27\" >grand_means</th>\n",
       "      <td id=\"T_97100_row27_col0\" class=\"data row27 col0\" >Grand Means Forecaster</td>\n",
       "      <td id=\"T_97100_row27_col1\" class=\"data row27 col1\" >32098.6662</td>\n",
       "      <td id=\"T_97100_row27_col2\" class=\"data row27 col2\" >32172.4513</td>\n",
       "      <td id=\"T_97100_row27_col3\" class=\"data row27 col3\" >0.6840</td>\n",
       "      <td id=\"T_97100_row27_col4\" class=\"data row27 col4\" >1.0401</td>\n",
       "      <td id=\"T_97100_row27_col5\" class=\"data row27 col5\" >24.9523</td>\n",
       "      <td id=\"T_97100_row27_col6\" class=\"data row27 col6\" >-297.6669</td>\n",
       "      <td id=\"T_97100_row27_col7\" class=\"data row27 col7\" >1.4033</td>\n",
       "    </tr>\n",
       "  </tbody>\n",
       "</table>\n"
      ],
      "text/plain": [
       "<pandas.io.formats.style.Styler at 0x7fd3a5329410>"
      ]
     },
     "metadata": {},
     "output_type": "display_data"
    }
   ],
   "source": [
    "best_model = compare_models() # Note that we provided seasonal_period manually for annual data"
   ]
  },
  {
   "cell_type": "markdown",
   "id": "74ecec3d",
   "metadata": {
    "papermill": {
     "duration": 0.13923,
     "end_time": "2021-12-11T03:40:33.645225",
     "exception": false,
     "start_time": "2021-12-11T03:40:33.505995",
     "status": "completed"
    },
    "tags": []
   },
   "source": [
    "### 4-3. Plotting the best model"
   ]
  },
  {
   "cell_type": "code",
   "execution_count": 22,
   "id": "b447e5fc",
   "metadata": {
    "execution": {
     "iopub.execute_input": "2021-12-11T03:40:33.935131Z",
     "iopub.status.busy": "2021-12-11T03:40:33.934479Z",
     "iopub.status.idle": "2021-12-11T03:40:35.183981Z",
     "shell.execute_reply": "2021-12-11T03:40:35.184496Z",
     "shell.execute_reply.started": "2021-12-11T03:22:21.889072Z"
    },
    "papermill": {
     "duration": 1.397751,
     "end_time": "2021-12-11T03:40:35.184668",
     "exception": false,
     "start_time": "2021-12-11T03:40:33.786917",
     "status": "completed"
    },
    "tags": []
   },
   "outputs": [
    {
     "data": {
      "text/html": [
       "        <script type=\"text/javascript\">\n",
       "        window.PlotlyConfig = {MathJaxConfig: 'local'};\n",
       "        if (window.MathJax) {MathJax.Hub.Config({SVG: {font: \"STIX-Web\"}});}\n",
       "        if (typeof require !== 'undefined') {\n",
       "        require.undef(\"plotly\");\n",
       "        requirejs.config({\n",
       "            paths: {\n",
       "                'plotly': ['https://cdn.plot.ly/plotly-2.6.3.min']\n",
       "            }\n",
       "        });\n",
       "        require(['plotly'], function(Plotly) {\n",
       "            window._Plotly = Plotly;\n",
       "        });\n",
       "        }\n",
       "        </script>\n",
       "        "
      ]
     },
     "metadata": {},
     "output_type": "display_data"
    },
    {
     "data": {
      "text/html": [
       "<div>                            <div id=\"753a6cd1-00cf-435e-a8ee-eae5c3f9eadb\" class=\"plotly-graph-div\" style=\"height:525px; width:100%;\"></div>            <script type=\"text/javascript\">                require([\"plotly\"], function(Plotly) {                    window.PLOTLYENV=window.PLOTLYENV || {};                                    if (document.getElementById(\"753a6cd1-00cf-435e-a8ee-eae5c3f9eadb\")) {                    Plotly.newPlot(                        \"753a6cd1-00cf-435e-a8ee-eae5c3f9eadb\",                        [{\"line\":{\"color\":\"#1f77b4\"},\"marker\":{\"size\":5},\"mode\":\"lines+markers\",\"name\":\"Forecast | ARIMA\",\"showlegend\":true,\"x\":[\"2018-01-01T00:00:00\",\"2018-01-02T00:00:00\",\"2018-01-03T00:00:00\",\"2018-01-04T00:00:00\",\"2018-01-05T00:00:00\",\"2018-01-06T00:00:00\",\"2018-01-07T00:00:00\",\"2018-01-08T00:00:00\",\"2018-01-09T00:00:00\",\"2018-01-10T00:00:00\",\"2018-01-11T00:00:00\",\"2018-01-12T00:00:00\",\"2018-01-13T00:00:00\",\"2018-01-14T00:00:00\",\"2018-01-15T00:00:00\",\"2018-01-16T00:00:00\",\"2018-01-17T00:00:00\",\"2018-01-18T00:00:00\",\"2018-01-19T00:00:00\",\"2018-01-20T00:00:00\",\"2018-01-21T00:00:00\",\"2018-01-22T00:00:00\",\"2018-01-23T00:00:00\",\"2018-01-24T00:00:00\",\"2018-01-25T00:00:00\",\"2018-01-26T00:00:00\",\"2018-01-27T00:00:00\",\"2018-01-28T00:00:00\",\"2018-01-29T00:00:00\",\"2018-01-30T00:00:00\",\"2018-01-31T00:00:00\",\"2018-02-01T00:00:00\",\"2018-02-02T00:00:00\",\"2018-02-03T00:00:00\",\"2018-02-04T00:00:00\",\"2018-02-05T00:00:00\",\"2018-02-06T00:00:00\",\"2018-02-07T00:00:00\",\"2018-02-08T00:00:00\",\"2018-02-09T00:00:00\",\"2018-02-10T00:00:00\",\"2018-02-11T00:00:00\",\"2018-02-12T00:00:00\",\"2018-02-13T00:00:00\",\"2018-02-14T00:00:00\",\"2018-02-15T00:00:00\",\"2018-02-16T00:00:00\",\"2018-02-17T00:00:00\",\"2018-02-18T00:00:00\",\"2018-02-19T00:00:00\",\"2018-02-20T00:00:00\",\"2018-02-21T00:00:00\",\"2018-02-22T00:00:00\",\"2018-02-23T00:00:00\",\"2018-02-24T00:00:00\",\"2018-02-25T00:00:00\",\"2018-02-26T00:00:00\",\"2018-02-27T00:00:00\",\"2018-02-28T00:00:00\",\"2018-03-01T00:00:00\",\"2018-03-02T00:00:00\",\"2018-03-03T00:00:00\",\"2018-03-04T00:00:00\",\"2018-03-05T00:00:00\",\"2018-03-06T00:00:00\",\"2018-03-07T00:00:00\",\"2018-03-08T00:00:00\",\"2018-03-09T00:00:00\",\"2018-03-10T00:00:00\",\"2018-03-11T00:00:00\",\"2018-03-12T00:00:00\",\"2018-03-13T00:00:00\",\"2018-03-14T00:00:00\",\"2018-03-15T00:00:00\",\"2018-03-16T00:00:00\",\"2018-03-17T00:00:00\",\"2018-03-18T00:00:00\",\"2018-03-19T00:00:00\",\"2018-03-20T00:00:00\",\"2018-03-21T00:00:00\",\"2018-03-22T00:00:00\",\"2018-03-23T00:00:00\",\"2018-03-24T00:00:00\",\"2018-03-25T00:00:00\",\"2018-03-26T00:00:00\",\"2018-03-27T00:00:00\",\"2018-03-28T00:00:00\",\"2018-03-29T00:00:00\",\"2018-03-30T00:00:00\",\"2018-03-31T00:00:00\",\"2018-04-01T00:00:00\",\"2018-04-02T00:00:00\",\"2018-04-03T00:00:00\",\"2018-04-04T00:00:00\",\"2018-04-05T00:00:00\",\"2018-04-06T00:00:00\",\"2018-04-07T00:00:00\",\"2018-04-08T00:00:00\",\"2018-04-09T00:00:00\",\"2018-04-10T00:00:00\",\"2018-04-11T00:00:00\",\"2018-04-12T00:00:00\",\"2018-04-13T00:00:00\",\"2018-04-14T00:00:00\",\"2018-04-15T00:00:00\",\"2018-04-16T00:00:00\",\"2018-04-17T00:00:00\",\"2018-04-18T00:00:00\",\"2018-04-19T00:00:00\",\"2018-04-20T00:00:00\",\"2018-04-21T00:00:00\",\"2018-04-22T00:00:00\",\"2018-04-23T00:00:00\",\"2018-04-24T00:00:00\",\"2018-04-25T00:00:00\",\"2018-04-26T00:00:00\",\"2018-04-27T00:00:00\",\"2018-04-28T00:00:00\",\"2018-04-29T00:00:00\",\"2018-04-30T00:00:00\",\"2018-05-01T00:00:00\",\"2018-05-02T00:00:00\",\"2018-05-03T00:00:00\",\"2018-05-04T00:00:00\",\"2018-05-05T00:00:00\",\"2018-05-06T00:00:00\",\"2018-05-07T00:00:00\",\"2018-05-08T00:00:00\",\"2018-05-09T00:00:00\",\"2018-05-10T00:00:00\",\"2018-05-11T00:00:00\",\"2018-05-12T00:00:00\",\"2018-05-13T00:00:00\",\"2018-05-14T00:00:00\",\"2018-05-15T00:00:00\",\"2018-05-16T00:00:00\",\"2018-05-17T00:00:00\",\"2018-05-18T00:00:00\",\"2018-05-19T00:00:00\",\"2018-05-20T00:00:00\",\"2018-05-21T00:00:00\",\"2018-05-22T00:00:00\",\"2018-05-23T00:00:00\",\"2018-05-24T00:00:00\",\"2018-05-25T00:00:00\",\"2018-05-26T00:00:00\",\"2018-05-27T00:00:00\",\"2018-05-28T00:00:00\",\"2018-05-29T00:00:00\",\"2018-05-30T00:00:00\",\"2018-05-31T00:00:00\",\"2018-06-01T00:00:00\",\"2018-06-02T00:00:00\",\"2018-06-03T00:00:00\",\"2018-06-04T00:00:00\",\"2018-06-05T00:00:00\",\"2018-06-06T00:00:00\",\"2018-06-07T00:00:00\",\"2018-06-08T00:00:00\",\"2018-06-09T00:00:00\",\"2018-06-10T00:00:00\",\"2018-06-11T00:00:00\",\"2018-06-12T00:00:00\",\"2018-06-13T00:00:00\",\"2018-06-14T00:00:00\",\"2018-06-15T00:00:00\",\"2018-06-16T00:00:00\",\"2018-06-17T00:00:00\",\"2018-06-18T00:00:00\",\"2018-06-19T00:00:00\",\"2018-06-20T00:00:00\",\"2018-06-21T00:00:00\",\"2018-06-22T00:00:00\",\"2018-06-23T00:00:00\",\"2018-06-24T00:00:00\",\"2018-06-25T00:00:00\",\"2018-06-26T00:00:00\",\"2018-06-27T00:00:00\",\"2018-06-28T00:00:00\",\"2018-06-29T00:00:00\",\"2018-06-30T00:00:00\",\"2018-07-01T00:00:00\",\"2018-07-02T00:00:00\",\"2018-07-03T00:00:00\",\"2018-07-04T00:00:00\",\"2018-07-05T00:00:00\",\"2018-07-06T00:00:00\",\"2018-07-07T00:00:00\",\"2018-07-08T00:00:00\",\"2018-07-09T00:00:00\",\"2018-07-10T00:00:00\",\"2018-07-11T00:00:00\",\"2018-07-12T00:00:00\",\"2018-07-13T00:00:00\",\"2018-07-14T00:00:00\",\"2018-07-15T00:00:00\",\"2018-07-16T00:00:00\",\"2018-07-17T00:00:00\",\"2018-07-18T00:00:00\",\"2018-07-19T00:00:00\",\"2018-07-20T00:00:00\",\"2018-07-21T00:00:00\",\"2018-07-22T00:00:00\",\"2018-07-23T00:00:00\",\"2018-07-24T00:00:00\",\"2018-07-25T00:00:00\",\"2018-07-26T00:00:00\",\"2018-07-27T00:00:00\",\"2018-07-28T00:00:00\",\"2018-07-29T00:00:00\",\"2018-07-30T00:00:00\",\"2018-07-31T00:00:00\",\"2018-08-01T00:00:00\",\"2018-08-02T00:00:00\",\"2018-08-03T00:00:00\",\"2018-08-04T00:00:00\",\"2018-08-05T00:00:00\",\"2018-08-06T00:00:00\",\"2018-08-07T00:00:00\",\"2018-08-08T00:00:00\",\"2018-08-09T00:00:00\",\"2018-08-10T00:00:00\",\"2018-08-11T00:00:00\",\"2018-08-12T00:00:00\",\"2018-08-13T00:00:00\",\"2018-08-14T00:00:00\",\"2018-08-15T00:00:00\",\"2018-08-16T00:00:00\",\"2018-08-17T00:00:00\",\"2018-08-18T00:00:00\",\"2018-08-19T00:00:00\",\"2018-08-20T00:00:00\",\"2018-08-21T00:00:00\",\"2018-08-22T00:00:00\",\"2018-08-23T00:00:00\",\"2018-08-24T00:00:00\",\"2018-08-25T00:00:00\",\"2018-08-26T00:00:00\",\"2018-08-27T00:00:00\",\"2018-08-28T00:00:00\",\"2018-08-29T00:00:00\",\"2018-08-30T00:00:00\",\"2018-08-31T00:00:00\",\"2018-09-01T00:00:00\",\"2018-09-02T00:00:00\",\"2018-09-03T00:00:00\",\"2018-09-04T00:00:00\",\"2018-09-05T00:00:00\",\"2018-09-06T00:00:00\",\"2018-09-07T00:00:00\",\"2018-09-08T00:00:00\",\"2018-09-09T00:00:00\",\"2018-09-10T00:00:00\",\"2018-09-11T00:00:00\",\"2018-09-12T00:00:00\",\"2018-09-13T00:00:00\",\"2018-09-14T00:00:00\",\"2018-09-15T00:00:00\",\"2018-09-16T00:00:00\",\"2018-09-17T00:00:00\",\"2018-09-18T00:00:00\",\"2018-09-19T00:00:00\",\"2018-09-20T00:00:00\",\"2018-09-21T00:00:00\",\"2018-09-22T00:00:00\",\"2018-09-23T00:00:00\",\"2018-09-24T00:00:00\",\"2018-09-25T00:00:00\",\"2018-09-26T00:00:00\",\"2018-09-27T00:00:00\",\"2018-09-28T00:00:00\",\"2018-09-29T00:00:00\",\"2018-09-30T00:00:00\",\"2018-10-01T00:00:00\",\"2018-10-02T00:00:00\",\"2018-10-03T00:00:00\",\"2018-10-04T00:00:00\",\"2018-10-05T00:00:00\",\"2018-10-06T00:00:00\",\"2018-10-07T00:00:00\",\"2018-10-08T00:00:00\",\"2018-10-09T00:00:00\",\"2018-10-10T00:00:00\",\"2018-10-11T00:00:00\",\"2018-10-12T00:00:00\",\"2018-10-13T00:00:00\",\"2018-10-14T00:00:00\",\"2018-10-15T00:00:00\",\"2018-10-16T00:00:00\",\"2018-10-17T00:00:00\",\"2018-10-18T00:00:00\",\"2018-10-19T00:00:00\",\"2018-10-20T00:00:00\",\"2018-10-21T00:00:00\",\"2018-10-22T00:00:00\",\"2018-10-23T00:00:00\",\"2018-10-24T00:00:00\",\"2018-10-25T00:00:00\",\"2018-10-26T00:00:00\",\"2018-10-27T00:00:00\",\"2018-10-28T00:00:00\",\"2018-10-29T00:00:00\",\"2018-10-30T00:00:00\",\"2018-10-31T00:00:00\",\"2018-11-01T00:00:00\",\"2018-11-02T00:00:00\",\"2018-11-03T00:00:00\",\"2018-11-04T00:00:00\",\"2018-11-05T00:00:00\",\"2018-11-06T00:00:00\",\"2018-11-07T00:00:00\",\"2018-11-08T00:00:00\",\"2018-11-09T00:00:00\",\"2018-11-10T00:00:00\",\"2018-11-11T00:00:00\",\"2018-11-12T00:00:00\",\"2018-11-13T00:00:00\",\"2018-11-14T00:00:00\",\"2018-11-15T00:00:00\",\"2018-11-16T00:00:00\",\"2018-11-17T00:00:00\",\"2018-11-18T00:00:00\",\"2018-11-19T00:00:00\",\"2018-11-20T00:00:00\",\"2018-11-21T00:00:00\",\"2018-11-22T00:00:00\",\"2018-11-23T00:00:00\",\"2018-11-24T00:00:00\",\"2018-11-25T00:00:00\",\"2018-11-26T00:00:00\",\"2018-11-27T00:00:00\",\"2018-11-28T00:00:00\",\"2018-11-29T00:00:00\",\"2018-11-30T00:00:00\",\"2018-12-01T00:00:00\",\"2018-12-02T00:00:00\",\"2018-12-03T00:00:00\",\"2018-12-04T00:00:00\",\"2018-12-05T00:00:00\",\"2018-12-06T00:00:00\",\"2018-12-07T00:00:00\",\"2018-12-08T00:00:00\",\"2018-12-09T00:00:00\",\"2018-12-10T00:00:00\",\"2018-12-11T00:00:00\",\"2018-12-12T00:00:00\",\"2018-12-13T00:00:00\",\"2018-12-14T00:00:00\",\"2018-12-15T00:00:00\",\"2018-12-16T00:00:00\",\"2018-12-17T00:00:00\",\"2018-12-18T00:00:00\",\"2018-12-19T00:00:00\",\"2018-12-20T00:00:00\",\"2018-12-21T00:00:00\",\"2018-12-22T00:00:00\",\"2018-12-23T00:00:00\",\"2018-12-24T00:00:00\",\"2018-12-25T00:00:00\",\"2018-12-26T00:00:00\",\"2018-12-27T00:00:00\",\"2018-12-28T00:00:00\",\"2018-12-29T00:00:00\",\"2018-12-30T00:00:00\",\"2018-12-31T00:00:00\",\"2019-01-01T00:00:00\",\"2019-01-02T00:00:00\",\"2019-01-03T00:00:00\",\"2019-01-04T00:00:00\",\"2019-01-05T00:00:00\",\"2019-01-06T00:00:00\",\"2019-01-07T00:00:00\",\"2019-01-08T00:00:00\",\"2019-01-09T00:00:00\",\"2019-01-10T00:00:00\",\"2019-01-11T00:00:00\",\"2019-01-12T00:00:00\",\"2019-01-13T00:00:00\",\"2019-01-14T00:00:00\",\"2019-01-15T00:00:00\",\"2019-01-16T00:00:00\",\"2019-01-17T00:00:00\",\"2019-01-18T00:00:00\",\"2019-01-19T00:00:00\",\"2019-01-20T00:00:00\",\"2019-01-21T00:00:00\",\"2019-01-22T00:00:00\",\"2019-01-23T00:00:00\",\"2019-01-24T00:00:00\",\"2019-01-25T00:00:00\",\"2019-01-26T00:00:00\",\"2019-01-27T00:00:00\",\"2019-01-28T00:00:00\",\"2019-01-29T00:00:00\",\"2019-01-30T00:00:00\",\"2019-01-31T00:00:00\",\"2019-02-01T00:00:00\",\"2019-02-02T00:00:00\",\"2019-02-03T00:00:00\",\"2019-02-04T00:00:00\",\"2019-02-05T00:00:00\",\"2019-02-06T00:00:00\",\"2019-02-07T00:00:00\",\"2019-02-08T00:00:00\",\"2019-02-09T00:00:00\",\"2019-02-10T00:00:00\",\"2019-02-11T00:00:00\",\"2019-02-12T00:00:00\",\"2019-02-13T00:00:00\",\"2019-02-14T00:00:00\",\"2019-02-15T00:00:00\",\"2019-02-16T00:00:00\",\"2019-02-17T00:00:00\",\"2019-02-18T00:00:00\",\"2019-02-19T00:00:00\",\"2019-02-20T00:00:00\",\"2019-02-21T00:00:00\",\"2019-02-22T00:00:00\",\"2019-02-23T00:00:00\",\"2019-02-24T00:00:00\",\"2019-02-25T00:00:00\",\"2019-02-26T00:00:00\",\"2019-02-27T00:00:00\",\"2019-02-28T00:00:00\",\"2019-03-01T00:00:00\",\"2019-03-02T00:00:00\",\"2019-03-03T00:00:00\",\"2019-03-04T00:00:00\",\"2019-03-05T00:00:00\",\"2019-03-06T00:00:00\",\"2019-03-07T00:00:00\",\"2019-03-08T00:00:00\",\"2019-03-09T00:00:00\",\"2019-03-10T00:00:00\",\"2019-03-11T00:00:00\",\"2019-03-12T00:00:00\",\"2019-03-13T00:00:00\",\"2019-03-14T00:00:00\",\"2019-03-15T00:00:00\",\"2019-03-16T00:00:00\",\"2019-03-17T00:00:00\",\"2019-03-18T00:00:00\",\"2019-03-19T00:00:00\",\"2019-03-20T00:00:00\",\"2019-03-21T00:00:00\",\"2019-03-22T00:00:00\",\"2019-03-23T00:00:00\",\"2019-03-24T00:00:00\",\"2019-03-25T00:00:00\",\"2019-03-26T00:00:00\",\"2019-03-27T00:00:00\",\"2019-03-28T00:00:00\",\"2019-03-29T00:00:00\",\"2019-03-30T00:00:00\",\"2019-03-31T00:00:00\",\"2019-04-01T00:00:00\",\"2019-04-02T00:00:00\",\"2019-04-03T00:00:00\",\"2019-04-04T00:00:00\",\"2019-04-05T00:00:00\",\"2019-04-06T00:00:00\",\"2019-04-07T00:00:00\",\"2019-04-08T00:00:00\",\"2019-04-09T00:00:00\",\"2019-04-10T00:00:00\",\"2019-04-11T00:00:00\",\"2019-04-12T00:00:00\",\"2019-04-13T00:00:00\",\"2019-04-14T00:00:00\",\"2019-04-15T00:00:00\",\"2019-04-16T00:00:00\",\"2019-04-17T00:00:00\",\"2019-04-18T00:00:00\",\"2019-04-19T00:00:00\",\"2019-04-20T00:00:00\",\"2019-04-21T00:00:00\",\"2019-04-22T00:00:00\",\"2019-04-23T00:00:00\",\"2019-04-24T00:00:00\",\"2019-04-25T00:00:00\",\"2019-04-26T00:00:00\",\"2019-04-27T00:00:00\",\"2019-04-28T00:00:00\",\"2019-04-29T00:00:00\",\"2019-04-30T00:00:00\",\"2019-05-01T00:00:00\",\"2019-05-02T00:00:00\",\"2019-05-03T00:00:00\",\"2019-05-04T00:00:00\",\"2019-05-05T00:00:00\",\"2019-05-06T00:00:00\",\"2019-05-07T00:00:00\",\"2019-05-08T00:00:00\",\"2019-05-09T00:00:00\",\"2019-05-10T00:00:00\",\"2019-05-11T00:00:00\",\"2019-05-12T00:00:00\",\"2019-05-13T00:00:00\",\"2019-05-14T00:00:00\",\"2019-05-15T00:00:00\",\"2019-05-16T00:00:00\",\"2019-05-17T00:00:00\",\"2019-05-18T00:00:00\",\"2019-05-19T00:00:00\",\"2019-05-20T00:00:00\",\"2019-05-21T00:00:00\",\"2019-05-22T00:00:00\",\"2019-05-23T00:00:00\",\"2019-05-24T00:00:00\",\"2019-05-25T00:00:00\",\"2019-05-26T00:00:00\",\"2019-05-27T00:00:00\",\"2019-05-28T00:00:00\",\"2019-05-29T00:00:00\",\"2019-05-30T00:00:00\",\"2019-05-31T00:00:00\",\"2019-06-01T00:00:00\",\"2019-06-02T00:00:00\",\"2019-06-03T00:00:00\",\"2019-06-04T00:00:00\",\"2019-06-05T00:00:00\",\"2019-06-06T00:00:00\",\"2019-06-07T00:00:00\",\"2019-06-08T00:00:00\",\"2019-06-09T00:00:00\",\"2019-06-10T00:00:00\",\"2019-06-11T00:00:00\",\"2019-06-12T00:00:00\",\"2019-06-13T00:00:00\",\"2019-06-14T00:00:00\",\"2019-06-15T00:00:00\",\"2019-06-16T00:00:00\",\"2019-06-17T00:00:00\",\"2019-06-18T00:00:00\",\"2019-06-19T00:00:00\",\"2019-06-20T00:00:00\",\"2019-06-21T00:00:00\",\"2019-06-22T00:00:00\",\"2019-06-23T00:00:00\",\"2019-06-24T00:00:00\",\"2019-06-25T00:00:00\",\"2019-06-26T00:00:00\",\"2019-06-27T00:00:00\",\"2019-06-28T00:00:00\",\"2019-06-29T00:00:00\",\"2019-06-30T00:00:00\",\"2019-07-01T00:00:00\",\"2019-07-02T00:00:00\",\"2019-07-03T00:00:00\",\"2019-07-04T00:00:00\",\"2019-07-05T00:00:00\",\"2019-07-06T00:00:00\",\"2019-07-07T00:00:00\",\"2019-07-08T00:00:00\",\"2019-07-09T00:00:00\",\"2019-07-10T00:00:00\",\"2019-07-11T00:00:00\",\"2019-07-12T00:00:00\",\"2019-07-13T00:00:00\",\"2019-07-14T00:00:00\",\"2019-07-15T00:00:00\",\"2019-07-16T00:00:00\",\"2019-07-17T00:00:00\",\"2019-07-18T00:00:00\",\"2019-07-19T00:00:00\",\"2019-07-20T00:00:00\",\"2019-07-21T00:00:00\",\"2019-07-22T00:00:00\",\"2019-07-23T00:00:00\",\"2019-07-24T00:00:00\",\"2019-07-25T00:00:00\",\"2019-07-26T00:00:00\",\"2019-07-27T00:00:00\",\"2019-07-28T00:00:00\",\"2019-07-29T00:00:00\",\"2019-07-30T00:00:00\",\"2019-07-31T00:00:00\",\"2019-08-01T00:00:00\",\"2019-08-02T00:00:00\",\"2019-08-03T00:00:00\",\"2019-08-04T00:00:00\",\"2019-08-05T00:00:00\",\"2019-08-06T00:00:00\",\"2019-08-07T00:00:00\",\"2019-08-08T00:00:00\",\"2019-08-09T00:00:00\",\"2019-08-10T00:00:00\",\"2019-08-11T00:00:00\",\"2019-08-12T00:00:00\",\"2019-08-13T00:00:00\",\"2019-08-14T00:00:00\",\"2019-08-15T00:00:00\",\"2019-08-16T00:00:00\",\"2019-08-17T00:00:00\",\"2019-08-18T00:00:00\",\"2019-08-19T00:00:00\",\"2019-08-20T00:00:00\",\"2019-08-21T00:00:00\",\"2019-08-22T00:00:00\",\"2019-08-23T00:00:00\",\"2019-08-24T00:00:00\",\"2019-08-25T00:00:00\",\"2019-08-26T00:00:00\",\"2019-08-27T00:00:00\",\"2019-08-28T00:00:00\",\"2019-08-29T00:00:00\",\"2019-08-30T00:00:00\",\"2019-08-31T00:00:00\",\"2019-09-01T00:00:00\",\"2019-09-02T00:00:00\",\"2019-09-03T00:00:00\",\"2019-09-04T00:00:00\",\"2019-09-05T00:00:00\",\"2019-09-06T00:00:00\",\"2019-09-07T00:00:00\",\"2019-09-08T00:00:00\",\"2019-09-09T00:00:00\",\"2019-09-10T00:00:00\",\"2019-09-11T00:00:00\",\"2019-09-12T00:00:00\",\"2019-09-13T00:00:00\",\"2019-09-14T00:00:00\",\"2019-09-15T00:00:00\",\"2019-09-16T00:00:00\",\"2019-09-17T00:00:00\",\"2019-09-18T00:00:00\",\"2019-09-19T00:00:00\",\"2019-09-20T00:00:00\",\"2019-09-21T00:00:00\",\"2019-09-22T00:00:00\",\"2019-09-23T00:00:00\",\"2019-09-24T00:00:00\",\"2019-09-25T00:00:00\",\"2019-09-26T00:00:00\",\"2019-09-27T00:00:00\",\"2019-09-28T00:00:00\",\"2019-09-29T00:00:00\",\"2019-09-30T00:00:00\",\"2019-10-01T00:00:00\",\"2019-10-02T00:00:00\",\"2019-10-03T00:00:00\",\"2019-10-04T00:00:00\",\"2019-10-05T00:00:00\",\"2019-10-06T00:00:00\",\"2019-10-07T00:00:00\",\"2019-10-08T00:00:00\",\"2019-10-09T00:00:00\",\"2019-10-10T00:00:00\",\"2019-10-11T00:00:00\",\"2019-10-12T00:00:00\",\"2019-10-13T00:00:00\",\"2019-10-14T00:00:00\",\"2019-10-15T00:00:00\",\"2019-10-16T00:00:00\",\"2019-10-17T00:00:00\",\"2019-10-18T00:00:00\",\"2019-10-19T00:00:00\",\"2019-10-20T00:00:00\",\"2019-10-21T00:00:00\",\"2019-10-22T00:00:00\",\"2019-10-23T00:00:00\",\"2019-10-24T00:00:00\",\"2019-10-25T00:00:00\",\"2019-10-26T00:00:00\",\"2019-10-27T00:00:00\",\"2019-10-28T00:00:00\",\"2019-10-29T00:00:00\",\"2019-10-30T00:00:00\",\"2019-10-31T00:00:00\",\"2019-11-01T00:00:00\",\"2019-11-02T00:00:00\",\"2019-11-03T00:00:00\",\"2019-11-04T00:00:00\",\"2019-11-05T00:00:00\",\"2019-11-06T00:00:00\",\"2019-11-07T00:00:00\",\"2019-11-08T00:00:00\",\"2019-11-09T00:00:00\",\"2019-11-10T00:00:00\",\"2019-11-11T00:00:00\",\"2019-11-12T00:00:00\",\"2019-11-13T00:00:00\",\"2019-11-14T00:00:00\",\"2019-11-15T00:00:00\",\"2019-11-16T00:00:00\",\"2019-11-17T00:00:00\",\"2019-11-18T00:00:00\",\"2019-11-19T00:00:00\",\"2019-11-20T00:00:00\",\"2019-11-21T00:00:00\",\"2019-11-22T00:00:00\",\"2019-11-23T00:00:00\",\"2019-11-24T00:00:00\",\"2019-11-25T00:00:00\",\"2019-11-26T00:00:00\",\"2019-11-27T00:00:00\",\"2019-11-28T00:00:00\",\"2019-11-29T00:00:00\",\"2019-11-30T00:00:00\",\"2019-12-01T00:00:00\",\"2019-12-02T00:00:00\",\"2019-12-03T00:00:00\",\"2019-12-04T00:00:00\",\"2019-12-05T00:00:00\",\"2019-12-06T00:00:00\",\"2019-12-07T00:00:00\",\"2019-12-08T00:00:00\",\"2019-12-09T00:00:00\",\"2019-12-10T00:00:00\",\"2019-12-11T00:00:00\",\"2019-12-12T00:00:00\",\"2019-12-13T00:00:00\",\"2019-12-14T00:00:00\",\"2019-12-15T00:00:00\",\"2019-12-16T00:00:00\",\"2019-12-17T00:00:00\",\"2019-12-18T00:00:00\",\"2019-12-19T00:00:00\",\"2019-12-20T00:00:00\",\"2019-12-21T00:00:00\",\"2019-12-22T00:00:00\",\"2019-12-23T00:00:00\",\"2019-12-24T00:00:00\",\"2019-12-25T00:00:00\",\"2019-12-26T00:00:00\",\"2019-12-27T00:00:00\",\"2019-12-28T00:00:00\",\"2019-12-29T00:00:00\",\"2019-12-30T00:00:00\",\"2019-12-31T00:00:00\",\"2020-01-01T00:00:00\",\"2020-01-02T00:00:00\",\"2020-01-03T00:00:00\",\"2020-01-04T00:00:00\",\"2020-01-05T00:00:00\",\"2020-01-06T00:00:00\",\"2020-01-07T00:00:00\",\"2020-01-08T00:00:00\",\"2020-01-09T00:00:00\",\"2020-01-10T00:00:00\",\"2020-01-11T00:00:00\",\"2020-01-12T00:00:00\",\"2020-01-13T00:00:00\",\"2020-01-14T00:00:00\",\"2020-01-15T00:00:00\",\"2020-01-16T00:00:00\",\"2020-01-17T00:00:00\",\"2020-01-18T00:00:00\",\"2020-01-19T00:00:00\",\"2020-01-20T00:00:00\",\"2020-01-21T00:00:00\",\"2020-01-22T00:00:00\",\"2020-01-23T00:00:00\",\"2020-01-24T00:00:00\",\"2020-01-25T00:00:00\",\"2020-01-26T00:00:00\",\"2020-01-27T00:00:00\",\"2020-01-28T00:00:00\",\"2020-01-29T00:00:00\",\"2020-01-30T00:00:00\",\"2020-01-31T00:00:00\",\"2020-02-01T00:00:00\",\"2020-02-02T00:00:00\",\"2020-02-03T00:00:00\",\"2020-02-04T00:00:00\",\"2020-02-05T00:00:00\",\"2020-02-06T00:00:00\",\"2020-02-07T00:00:00\",\"2020-02-08T00:00:00\",\"2020-02-09T00:00:00\",\"2020-02-10T00:00:00\",\"2020-02-11T00:00:00\",\"2020-02-12T00:00:00\",\"2020-02-13T00:00:00\",\"2020-02-14T00:00:00\",\"2020-02-15T00:00:00\",\"2020-02-16T00:00:00\",\"2020-02-17T00:00:00\",\"2020-02-18T00:00:00\",\"2020-02-19T00:00:00\",\"2020-02-20T00:00:00\",\"2020-02-21T00:00:00\",\"2020-02-22T00:00:00\",\"2020-02-23T00:00:00\",\"2020-02-24T00:00:00\",\"2020-02-25T00:00:00\",\"2020-02-26T00:00:00\",\"2020-02-27T00:00:00\",\"2020-02-28T00:00:00\",\"2020-02-29T00:00:00\",\"2020-03-01T00:00:00\",\"2020-03-02T00:00:00\",\"2020-03-03T00:00:00\",\"2020-03-04T00:00:00\",\"2020-03-05T00:00:00\",\"2020-03-06T00:00:00\",\"2020-03-07T00:00:00\",\"2020-03-08T00:00:00\",\"2020-03-09T00:00:00\",\"2020-03-10T00:00:00\",\"2020-03-11T00:00:00\",\"2020-03-12T00:00:00\",\"2020-03-13T00:00:00\",\"2020-03-14T00:00:00\",\"2020-03-15T00:00:00\",\"2020-03-16T00:00:00\",\"2020-03-17T00:00:00\",\"2020-03-18T00:00:00\",\"2020-03-19T00:00:00\",\"2020-03-20T00:00:00\",\"2020-03-21T00:00:00\",\"2020-03-22T00:00:00\",\"2020-03-23T00:00:00\",\"2020-03-24T00:00:00\",\"2020-03-25T00:00:00\",\"2020-03-26T00:00:00\",\"2020-03-27T00:00:00\",\"2020-03-28T00:00:00\",\"2020-03-29T00:00:00\",\"2020-03-30T00:00:00\",\"2020-03-31T00:00:00\",\"2020-04-01T00:00:00\",\"2020-04-02T00:00:00\",\"2020-04-03T00:00:00\",\"2020-04-04T00:00:00\",\"2020-04-05T00:00:00\",\"2020-04-06T00:00:00\",\"2020-04-07T00:00:00\",\"2020-04-08T00:00:00\",\"2020-04-09T00:00:00\",\"2020-04-10T00:00:00\",\"2020-04-11T00:00:00\",\"2020-04-12T00:00:00\",\"2020-04-13T00:00:00\",\"2020-04-14T00:00:00\",\"2020-04-15T00:00:00\",\"2020-04-16T00:00:00\",\"2020-04-17T00:00:00\",\"2020-04-18T00:00:00\",\"2020-04-19T00:00:00\",\"2020-04-20T00:00:00\",\"2020-04-21T00:00:00\",\"2020-04-22T00:00:00\",\"2020-04-23T00:00:00\",\"2020-04-24T00:00:00\",\"2020-04-25T00:00:00\",\"2020-04-26T00:00:00\",\"2020-04-27T00:00:00\",\"2020-04-28T00:00:00\",\"2020-04-29T00:00:00\",\"2020-04-30T00:00:00\",\"2020-05-01T00:00:00\",\"2020-05-02T00:00:00\",\"2020-05-03T00:00:00\",\"2020-05-04T00:00:00\",\"2020-05-05T00:00:00\",\"2020-05-06T00:00:00\",\"2020-05-07T00:00:00\",\"2020-05-08T00:00:00\",\"2020-05-09T00:00:00\",\"2020-05-10T00:00:00\",\"2020-05-11T00:00:00\",\"2020-05-12T00:00:00\",\"2020-05-13T00:00:00\",\"2020-05-14T00:00:00\",\"2020-05-15T00:00:00\",\"2020-05-16T00:00:00\",\"2020-05-17T00:00:00\",\"2020-05-18T00:00:00\",\"2020-05-19T00:00:00\",\"2020-05-20T00:00:00\",\"2020-05-21T00:00:00\",\"2020-05-22T00:00:00\",\"2020-05-23T00:00:00\",\"2020-05-24T00:00:00\",\"2020-05-25T00:00:00\",\"2020-05-26T00:00:00\",\"2020-05-27T00:00:00\",\"2020-05-28T00:00:00\",\"2020-05-29T00:00:00\",\"2020-05-30T00:00:00\",\"2020-05-31T00:00:00\",\"2020-06-01T00:00:00\",\"2020-06-02T00:00:00\",\"2020-06-03T00:00:00\",\"2020-06-04T00:00:00\",\"2020-06-05T00:00:00\",\"2020-06-06T00:00:00\",\"2020-06-07T00:00:00\",\"2020-06-08T00:00:00\",\"2020-06-09T00:00:00\",\"2020-06-10T00:00:00\",\"2020-06-11T00:00:00\",\"2020-06-12T00:00:00\",\"2020-06-13T00:00:00\",\"2020-06-14T00:00:00\",\"2020-06-15T00:00:00\",\"2020-06-16T00:00:00\",\"2020-06-17T00:00:00\",\"2020-06-18T00:00:00\",\"2020-06-19T00:00:00\",\"2020-06-20T00:00:00\",\"2020-06-21T00:00:00\",\"2020-06-22T00:00:00\",\"2020-06-23T00:00:00\",\"2020-06-24T00:00:00\",\"2020-06-25T00:00:00\",\"2020-06-26T00:00:00\",\"2020-06-27T00:00:00\",\"2020-06-28T00:00:00\",\"2020-06-29T00:00:00\",\"2020-06-30T00:00:00\",\"2020-07-01T00:00:00\",\"2020-07-02T00:00:00\",\"2020-07-03T00:00:00\",\"2020-07-04T00:00:00\",\"2020-07-05T00:00:00\",\"2020-07-06T00:00:00\",\"2020-07-07T00:00:00\",\"2020-07-08T00:00:00\",\"2020-07-09T00:00:00\",\"2020-07-10T00:00:00\",\"2020-07-11T00:00:00\",\"2020-07-12T00:00:00\",\"2020-07-13T00:00:00\",\"2020-07-14T00:00:00\",\"2020-07-15T00:00:00\",\"2020-07-16T00:00:00\",\"2020-07-17T00:00:00\",\"2020-07-18T00:00:00\",\"2020-07-19T00:00:00\",\"2020-07-20T00:00:00\",\"2020-07-21T00:00:00\",\"2020-07-22T00:00:00\",\"2020-07-23T00:00:00\",\"2020-07-24T00:00:00\",\"2020-07-25T00:00:00\",\"2020-07-26T00:00:00\",\"2020-07-27T00:00:00\",\"2020-07-28T00:00:00\",\"2020-07-29T00:00:00\",\"2020-07-30T00:00:00\",\"2020-07-31T00:00:00\",\"2020-08-01T00:00:00\",\"2020-08-02T00:00:00\",\"2020-08-03T00:00:00\",\"2020-08-04T00:00:00\",\"2020-08-05T00:00:00\",\"2020-08-06T00:00:00\",\"2020-08-07T00:00:00\",\"2020-08-08T00:00:00\",\"2020-08-09T00:00:00\",\"2020-08-10T00:00:00\",\"2020-08-11T00:00:00\",\"2020-08-12T00:00:00\",\"2020-08-13T00:00:00\",\"2020-08-14T00:00:00\",\"2020-08-15T00:00:00\",\"2020-08-16T00:00:00\",\"2020-08-17T00:00:00\",\"2020-08-18T00:00:00\",\"2020-08-19T00:00:00\",\"2020-08-20T00:00:00\",\"2020-08-21T00:00:00\",\"2020-08-22T00:00:00\",\"2020-08-23T00:00:00\",\"2020-08-24T00:00:00\",\"2020-08-25T00:00:00\",\"2020-08-26T00:00:00\",\"2020-08-27T00:00:00\",\"2020-08-28T00:00:00\",\"2020-08-29T00:00:00\",\"2020-08-30T00:00:00\",\"2020-08-31T00:00:00\",\"2020-09-01T00:00:00\",\"2020-09-02T00:00:00\",\"2020-09-03T00:00:00\",\"2020-09-04T00:00:00\",\"2020-09-05T00:00:00\",\"2020-09-06T00:00:00\",\"2020-09-07T00:00:00\",\"2020-09-08T00:00:00\",\"2020-09-09T00:00:00\",\"2020-09-10T00:00:00\",\"2020-09-11T00:00:00\",\"2020-09-12T00:00:00\",\"2020-09-13T00:00:00\",\"2020-09-14T00:00:00\",\"2020-09-15T00:00:00\",\"2020-09-16T00:00:00\",\"2020-09-17T00:00:00\",\"2020-09-18T00:00:00\",\"2020-09-19T00:00:00\",\"2020-09-20T00:00:00\",\"2020-09-21T00:00:00\",\"2020-09-22T00:00:00\",\"2020-09-23T00:00:00\",\"2020-09-24T00:00:00\",\"2020-09-25T00:00:00\",\"2020-09-26T00:00:00\",\"2020-09-27T00:00:00\",\"2020-09-28T00:00:00\",\"2020-09-29T00:00:00\",\"2020-09-30T00:00:00\",\"2020-10-01T00:00:00\",\"2020-10-02T00:00:00\",\"2020-10-03T00:00:00\",\"2020-10-04T00:00:00\",\"2020-10-05T00:00:00\",\"2020-10-06T00:00:00\",\"2020-10-07T00:00:00\",\"2020-10-08T00:00:00\",\"2020-10-09T00:00:00\",\"2020-10-10T00:00:00\",\"2020-10-11T00:00:00\",\"2020-10-12T00:00:00\",\"2020-10-13T00:00:00\",\"2020-10-14T00:00:00\",\"2020-10-15T00:00:00\",\"2020-10-16T00:00:00\",\"2020-10-17T00:00:00\",\"2020-10-18T00:00:00\",\"2020-10-19T00:00:00\",\"2020-10-20T00:00:00\",\"2020-10-21T00:00:00\",\"2020-10-22T00:00:00\",\"2020-10-23T00:00:00\",\"2020-10-24T00:00:00\",\"2020-10-25T00:00:00\",\"2020-10-26T00:00:00\",\"2020-10-27T00:00:00\",\"2020-10-28T00:00:00\",\"2020-10-29T00:00:00\",\"2020-10-30T00:00:00\",\"2020-10-31T00:00:00\",\"2020-11-01T00:00:00\",\"2020-11-02T00:00:00\",\"2020-11-03T00:00:00\",\"2020-11-04T00:00:00\",\"2020-11-05T00:00:00\",\"2020-11-06T00:00:00\",\"2020-11-07T00:00:00\",\"2020-11-08T00:00:00\",\"2020-11-09T00:00:00\",\"2020-11-10T00:00:00\",\"2020-11-11T00:00:00\",\"2020-11-12T00:00:00\",\"2020-11-13T00:00:00\",\"2020-11-14T00:00:00\",\"2020-11-15T00:00:00\",\"2020-11-16T00:00:00\",\"2020-11-17T00:00:00\",\"2020-11-18T00:00:00\",\"2020-11-19T00:00:00\",\"2020-11-20T00:00:00\",\"2020-11-21T00:00:00\",\"2020-11-22T00:00:00\",\"2020-11-23T00:00:00\",\"2020-11-24T00:00:00\",\"2020-11-25T00:00:00\",\"2020-11-26T00:00:00\",\"2020-11-27T00:00:00\",\"2020-11-28T00:00:00\",\"2020-11-29T00:00:00\",\"2020-11-30T00:00:00\",\"2020-12-01T00:00:00\",\"2020-12-02T00:00:00\",\"2020-12-03T00:00:00\",\"2020-12-04T00:00:00\",\"2020-12-05T00:00:00\",\"2020-12-06T00:00:00\",\"2020-12-07T00:00:00\",\"2020-12-08T00:00:00\",\"2020-12-09T00:00:00\",\"2020-12-10T00:00:00\",\"2020-12-11T00:00:00\",\"2020-12-12T00:00:00\",\"2020-12-13T00:00:00\",\"2020-12-14T00:00:00\",\"2020-12-15T00:00:00\",\"2020-12-16T00:00:00\",\"2020-12-17T00:00:00\",\"2020-12-18T00:00:00\",\"2020-12-19T00:00:00\",\"2020-12-20T00:00:00\",\"2020-12-21T00:00:00\",\"2020-12-22T00:00:00\",\"2020-12-23T00:00:00\",\"2020-12-24T00:00:00\",\"2020-12-25T00:00:00\",\"2020-12-26T00:00:00\",\"2020-12-27T00:00:00\",\"2020-12-28T00:00:00\",\"2020-12-29T00:00:00\",\"2020-12-30T00:00:00\",\"2020-12-31T00:00:00\",\"2021-01-01T00:00:00\",\"2021-01-02T00:00:00\",\"2021-01-03T00:00:00\",\"2021-01-04T00:00:00\",\"2021-01-05T00:00:00\",\"2021-01-06T00:00:00\",\"2021-01-07T00:00:00\",\"2021-01-08T00:00:00\",\"2021-01-09T00:00:00\",\"2021-01-10T00:00:00\",\"2021-01-11T00:00:00\",\"2021-01-12T00:00:00\",\"2021-01-13T00:00:00\",\"2021-01-14T00:00:00\",\"2021-01-15T00:00:00\",\"2021-01-16T00:00:00\",\"2021-01-17T00:00:00\",\"2021-01-18T00:00:00\",\"2021-01-19T00:00:00\",\"2021-01-20T00:00:00\",\"2021-01-21T00:00:00\",\"2021-01-22T00:00:00\",\"2021-01-23T00:00:00\",\"2021-01-24T00:00:00\",\"2021-01-25T00:00:00\",\"2021-01-26T00:00:00\",\"2021-01-27T00:00:00\",\"2021-01-28T00:00:00\",\"2021-01-29T00:00:00\",\"2021-01-30T00:00:00\",\"2021-01-31T00:00:00\",\"2021-02-01T00:00:00\",\"2021-02-02T00:00:00\",\"2021-02-03T00:00:00\",\"2021-02-04T00:00:00\",\"2021-02-05T00:00:00\",\"2021-02-06T00:00:00\",\"2021-02-07T00:00:00\",\"2021-02-08T00:00:00\",\"2021-02-09T00:00:00\",\"2021-02-10T00:00:00\",\"2021-02-11T00:00:00\",\"2021-02-12T00:00:00\",\"2021-02-13T00:00:00\",\"2021-02-14T00:00:00\",\"2021-02-15T00:00:00\",\"2021-02-16T00:00:00\",\"2021-02-17T00:00:00\",\"2021-02-18T00:00:00\",\"2021-02-19T00:00:00\",\"2021-02-20T00:00:00\",\"2021-02-21T00:00:00\",\"2021-02-22T00:00:00\",\"2021-02-23T00:00:00\",\"2021-02-24T00:00:00\",\"2021-02-25T00:00:00\",\"2021-02-26T00:00:00\",\"2021-02-27T00:00:00\",\"2021-02-28T00:00:00\",\"2021-03-01T00:00:00\",\"2021-03-02T00:00:00\",\"2021-03-03T00:00:00\",\"2021-03-04T00:00:00\",\"2021-03-05T00:00:00\",\"2021-03-06T00:00:00\",\"2021-03-07T00:00:00\",\"2021-03-08T00:00:00\",\"2021-03-09T00:00:00\",\"2021-03-10T00:00:00\",\"2021-03-11T00:00:00\",\"2021-03-12T00:00:00\",\"2021-03-13T00:00:00\",\"2021-03-14T00:00:00\",\"2021-03-15T00:00:00\",\"2021-03-16T00:00:00\",\"2021-03-17T00:00:00\",\"2021-03-18T00:00:00\",\"2021-03-19T00:00:00\",\"2021-03-20T00:00:00\",\"2021-03-21T00:00:00\",\"2021-03-22T00:00:00\",\"2021-03-23T00:00:00\",\"2021-03-24T00:00:00\",\"2021-03-25T00:00:00\",\"2021-03-26T00:00:00\",\"2021-03-27T00:00:00\",\"2021-03-28T00:00:00\",\"2021-03-29T00:00:00\",\"2021-03-30T00:00:00\",\"2021-03-31T00:00:00\",\"2021-04-01T00:00:00\",\"2021-04-02T00:00:00\",\"2021-04-03T00:00:00\",\"2021-04-04T00:00:00\",\"2021-04-05T00:00:00\",\"2021-04-06T00:00:00\",\"2021-04-07T00:00:00\",\"2021-04-08T00:00:00\",\"2021-04-09T00:00:00\",\"2021-04-10T00:00:00\",\"2021-04-11T00:00:00\",\"2021-04-12T00:00:00\",\"2021-04-13T00:00:00\",\"2021-04-14T00:00:00\",\"2021-04-15T00:00:00\",\"2021-04-16T00:00:00\",\"2021-04-17T00:00:00\",\"2021-04-18T00:00:00\",\"2021-04-19T00:00:00\",\"2021-04-20T00:00:00\",\"2021-04-21T00:00:00\",\"2021-04-22T00:00:00\",\"2021-04-23T00:00:00\",\"2021-04-24T00:00:00\",\"2021-04-25T00:00:00\",\"2021-04-26T00:00:00\",\"2021-04-27T00:00:00\",\"2021-04-28T00:00:00\",\"2021-04-29T00:00:00\",\"2021-04-30T00:00:00\",\"2021-05-01T00:00:00\",\"2021-05-02T00:00:00\",\"2021-05-03T00:00:00\",\"2021-05-04T00:00:00\",\"2021-05-05T00:00:00\",\"2021-05-06T00:00:00\",\"2021-05-07T00:00:00\",\"2021-05-08T00:00:00\",\"2021-05-09T00:00:00\",\"2021-05-10T00:00:00\",\"2021-05-11T00:00:00\",\"2021-05-12T00:00:00\",\"2021-05-13T00:00:00\",\"2021-05-14T00:00:00\",\"2021-05-15T00:00:00\",\"2021-05-16T00:00:00\",\"2021-05-17T00:00:00\",\"2021-05-18T00:00:00\",\"2021-05-19T00:00:00\",\"2021-05-20T00:00:00\",\"2021-05-21T00:00:00\",\"2021-05-22T00:00:00\",\"2021-05-23T00:00:00\",\"2021-05-24T00:00:00\",\"2021-05-25T00:00:00\",\"2021-05-26T00:00:00\",\"2021-05-27T00:00:00\",\"2021-05-28T00:00:00\",\"2021-05-29T00:00:00\",\"2021-05-30T00:00:00\",\"2021-05-31T00:00:00\",\"2021-06-01T00:00:00\",\"2021-06-02T00:00:00\",\"2021-06-03T00:00:00\",\"2021-06-04T00:00:00\",\"2021-06-05T00:00:00\",\"2021-06-06T00:00:00\",\"2021-06-07T00:00:00\",\"2021-06-08T00:00:00\",\"2021-06-09T00:00:00\",\"2021-06-10T00:00:00\",\"2021-06-11T00:00:00\",\"2021-06-12T00:00:00\",\"2021-06-13T00:00:00\",\"2021-06-14T00:00:00\",\"2021-06-15T00:00:00\",\"2021-06-16T00:00:00\",\"2021-06-17T00:00:00\",\"2021-06-18T00:00:00\",\"2021-06-19T00:00:00\",\"2021-06-20T00:00:00\",\"2021-06-21T00:00:00\",\"2021-06-22T00:00:00\",\"2021-06-23T00:00:00\",\"2021-06-24T00:00:00\",\"2021-06-25T00:00:00\",\"2021-06-26T00:00:00\",\"2021-06-27T00:00:00\",\"2021-06-28T00:00:00\",\"2021-06-29T00:00:00\",\"2021-06-30T00:00:00\",\"2021-07-01T00:00:00\",\"2021-07-02T00:00:00\",\"2021-07-03T00:00:00\",\"2021-07-04T00:00:00\",\"2021-07-05T00:00:00\",\"2021-07-06T00:00:00\",\"2021-07-07T00:00:00\",\"2021-07-08T00:00:00\",\"2021-07-09T00:00:00\",\"2021-07-10T00:00:00\",\"2021-07-11T00:00:00\",\"2021-07-12T00:00:00\",\"2021-07-13T00:00:00\",\"2021-07-14T00:00:00\",\"2021-07-15T00:00:00\",\"2021-07-16T00:00:00\",\"2021-07-17T00:00:00\",\"2021-07-18T00:00:00\",\"2021-07-19T00:00:00\",\"2021-07-20T00:00:00\",\"2021-07-21T00:00:00\",\"2021-07-22T00:00:00\",\"2021-07-23T00:00:00\",\"2021-07-24T00:00:00\",\"2021-07-25T00:00:00\",\"2021-07-26T00:00:00\",\"2021-07-27T00:00:00\",\"2021-07-28T00:00:00\",\"2021-07-29T00:00:00\",\"2021-07-30T00:00:00\",\"2021-07-31T00:00:00\",\"2021-08-01T00:00:00\",\"2021-08-02T00:00:00\",\"2021-08-03T00:00:00\",\"2021-08-04T00:00:00\",\"2021-08-05T00:00:00\",\"2021-08-06T00:00:00\",\"2021-08-07T00:00:00\",\"2021-08-08T00:00:00\",\"2021-08-09T00:00:00\",\"2021-08-10T00:00:00\",\"2021-08-11T00:00:00\",\"2021-08-12T00:00:00\",\"2021-08-13T00:00:00\",\"2021-08-14T00:00:00\",\"2021-08-15T00:00:00\",\"2021-08-16T00:00:00\",\"2021-08-17T00:00:00\",\"2021-08-18T00:00:00\",\"2021-08-19T00:00:00\",\"2021-08-20T00:00:00\",\"2021-08-21T00:00:00\",\"2021-08-22T00:00:00\",\"2021-08-23T00:00:00\",\"2021-08-24T00:00:00\",\"2021-08-25T00:00:00\",\"2021-08-26T00:00:00\",\"2021-08-27T00:00:00\",\"2021-08-28T00:00:00\",\"2021-08-29T00:00:00\",\"2021-08-30T00:00:00\",\"2021-08-31T00:00:00\",\"2021-09-01T00:00:00\",\"2021-09-02T00:00:00\",\"2021-09-03T00:00:00\",\"2021-09-04T00:00:00\",\"2021-09-05T00:00:00\",\"2021-09-06T00:00:00\",\"2021-09-07T00:00:00\",\"2021-09-08T00:00:00\"],\"y\":[131.758,9801.9237,10325.6029,11160.0092,11592.8845,11734.7074,12768.3386,27013.3614,15394.3351,16016.8562,14902.1678,15046.8641,15303.4744,14570.3209,13727.1882,12842.9978,13307.9366,12301.3913,9956.9008,12105.7009,12313.3902,12385.8518,11823.0435,8998.0968,10742.2244,11380.7865,11601.2843,12435.1455,10398.66,11014.6209,11217.6808,10694.8065,10165.8777,9439.3371,9574.2238,9829.5372,8299.7606,6569.5308,8224.7528,7026.1491,8139.8081,8991.2677,7692.0311,6964.9544,9286.9525,8351.7677,9768.8564,10183.3909,9803.1471,10264.7924,10824.9856,10451.3092,11598.935,10914.992,9935.6434,11051.2421,9230.6661,10516.6452,10451.7728,10001.1598,9687.1751,11101.5176,10463.8192,11128.9366,11951.0725,11430.4756,10474.3467,10582.5017,9745.6143,9989.1119,9284.7499,9730.8149,8858.7062,8607.8454,7937.6355,8456.4172,7952.3305,8777.3673,8112.5119,8801.099,7979.4532,8911.6605,8629.4712,8399.4022,8961.5477,8662.9809,8594.5119,7966.8682,7919.77,7606.5844,6794.9569,7189.1671,6794.7259,6916.2717,7636.6325,6126.3425,6615.3651,6790.8989,6771.7395,7286.8149,7146.5916,6345.1203,6935.7791,7613.7307,7965.9124,8015.276,7909.1604,7934.8648,7844.0624,8984.7644,8176.0631,8895.1335,9090.0032,8442.3492,8632.0741,9665.2078,8861.5251,9725.7018,8928.2752,9172.0475,9500.364,9912.1254,8377.9025,9636.47,9238.5962,10033.1285,9848.0891,9436.1194,9214.7255,9337.1117,9791.142,9117.0838,8799.9878,8534.3981,8594.008,8614.5883,8738.8795,8210.4152,7657.0162,8351.9942,8479.6596,8560.127,8254.674,7984.0566,7394.2064,7859.8143,7571.2967,7801.9588,7438.1912,6951.4048,7104.513,7458.914,7396.9605,7413.7341,7630.1107,7441.1706,7807.8786,7519.9548,7760.7661,7706.4882,7734.643,7600.7394,6709.0249,7124.6771,6775.7184,6563.7963,6767.7885,6461.653,5951.0622,6641.0269,6435.0697,6481.0276,7047.1011,6472.7138,6237.8494,6205.2057,6469.9545,6377.6861,6222.3161,6217.9097,5375.1124,6309.8874,6351.1942,6452.1972,6389.9597,6525.4931,6282.4681,6761.012,6759.1957,6683.1025,6929.5155,6565.1834,6435.8986,6371.3395,6378.8105,6465.7877,6294.8852,6381.0696,6380.2771,7238.0724,7098.7347,7267.7004,7205.461,7324.721,7610.2832,8175.7642,8307.5036,8160.8043,7744.0372,8141.1771,8115.858,8438.0582,8794.8776,7644.4028,7475.1811,7874.5496,7596.1868,7216.4478,7183.5059,6737.851,6769.3415,6431.3228,6607.3382,5987.5725,6396.0884,6373.035,6151.9642,5881.8296,6564.2528,5976.3453,6597.1508,6467.7814,6408.9291,6252.2741,6499.2456,6400.8616,6775.6285,6521.4965,6793.8443,6447.2643,7037.594,6871.0044,7126.7199,7087.6612,7022.6133,7104.0494,7432.6494,7398.7295,7290.1517,6708.7219,6642.4653,6697.0932,6476.1073,6406.804,6595.9613,5814.1092,6209.6106,6431.4303,6268.6397,6556.4764,6552.0844,6240.9116,6390.1529,6565.1325,6510.9614,6777.5384,6698.1278,6430.192,6623.7006,6496.8305,6594.4948,6940.1185,6624.9343,6609.8365,6516.9165,6472.3549,6548.1303,6731.0371,6544.1268,6598.8176,6627.3772,6601.4157,6563.4968,6605.338,6686.3197,6286.237,6282.6729,6370.8174,6374.6901,6604.4208,6594.2719,6212.6461,6561.9116,6486.6673,6473.3873,6816.2562,6555.4941,6529.8238,6445.9081,6443.1482,6545.355,6461.1347,6496.4275,6312.9585,6377.9801,6361.957,6414.029,6406.7651,6416.1805,6312.2932,6446.16,6515.0699,6563.7856,6470.8532,6375.6348,6491.9073,6433.6273,6461.2132,6456.2127,5792.1598,5732.7975,5745.3814,5767.1914,5714.6812,5095.9178,4191.6646,4722.0457,4499.0293,4578.3032,4185.3957,3554.1592,3594.4296,4101.3155,4051.699,4338.7191,3588.1853,4300.6348,3897.9895,3933.3439,4351.0244,3865.2534,3357.3266,3687.4732,3527.6202,3393.2032,3581.6044,3281.2601,3272.2536,3252.0986,3279.5453,3412.4788,3165.6756,3465.4349,3755.6218,3502.2541,3895.9496,3782.5675,3905.6926,4167.6218,4155.7893,3779.344,4198.2258,3497.1004,4052.0905,3772.1552,3966.9206,3519.4247,3890.8752,3701.3361,4078.0477,3718.0641,3905.7323,3918.2453,4115.9381,4057.6762,3892.0571,3709.466,3656.091,3917.5433,3583.7275,3728.8225,3673.3473,3310.1674,3679.3058,3632.9007,3595.4275,3714.6713,3494.6759,3641.4005,3627.0705,3592.6331,3666.1396,3475.3308,3557.836,3527.0587,3445.2562,3508.6656,3473.6264,3499.8085,3504.8811,3384.2182,3429.2129,3506.996,3410.061,3443.469,3678.3274,3592.6012,3649.7016,3634.6083,3548.1918,3594.2084,3837.6812,3624.5775,3662.6259,3627.0164,3881.723,3869.3699,3909.5066,3905.9642,3937.0172,4115.9675,4003.7989,3885.0442,3909.5793,3829.3921,3894.9774,4037.5109,3530.7585,3905.7103,3738.8922,3885.9135,3886.8478,3894.8342,3881.758,3917.6863,3840.6827,4014.6139,3913.9584,3892.308,3884.0208,4015.8705,4010.9852,3945.8127,3993.7854,4002.6007,4054.9062,4042.4909,4081.1967,4001.4354,3998.4245,4003.0103,4002.6466,3994.5021,4053.5573,4118.1995,4107.5038,4051.5862,4140.985,4857.5258,4822.0918,4874.4478,4900.8615,4912.4199,5065.4706,5852.7469,5207.7033,5252.4913,5140.535,5112.1984,5212.664,5269.8222,4995.9368,5367.6597,4969.0723,5293.1462,5258.481,5386.7624,5150.6624,5519.3424,5510.837,5472.4019,5218.072,5310.6935,5275.8465,5384.8035,5423.6118,5296.0296,5181.4907,5530.9086,5712.6456,5770.3283,5698.3374,5810.6148,5793.4345,5981.5464,6384.1279,6386.4479,6962.4901,6761.0615,7484.6539,7896.317,8013.4779,7807.9359,8089.2899,7021.1639,8815.405,8189.8312,8124.6496,7447.1948,7405.5301,7791.2735,8822.7316,8484.5379,8616.9466,8280.4445,8740.368,8362.344,8543.8795,9144.7292,8817.6767,8094.3244,7826.7116,7572.4492,8178.4158,8091.3332,8242.8445,7112.0437,7711.5646,7960.7879,8156.3043,8359.7786,8535.0803,8394.6422,9198.8801,9028.1739,9162.6526,9225.2928,9788.5507,10097.7104,10558.6892,10881.6128,10561.8735,11521.3678,12607.3919,11540.1708,12526.2355,11868.4888,11087.8993,11391.4466,12282.1643,10410.9324,12303.3527,10864.3371,10176.8091,11157.9498,12380.4153,13347.2908,11166.3747,11210.6615,11799.7889,11721.2646,11241.7839,11378.1807,9514.4603,9335.4251,11291.6002,10378.7505,9651.9181,11255.0507,9027.538,9992.3132,10735.8954,9916.3983,10150.522,9596.9339,9419.238,9194.0284,9543.924,10200.2534,10289.7145,10074.3462,10694.3399,10729.0505,11496.6589,11688.7031,12024.2563,11911.0215,11988.0489,11390.3903,12285.502,11127.4474,11557.9364,10477.8564,10466.0515,10018.134,10678.867,10383.6402,10523.034,10078.6361,10324.8807,10217.6618,10283.766,10262.9359,10851.3937,10330.2454,9650.3373,9738.8999,9938.7309,9480.5544,9724.4118,10062.8305,10196.7396,10114.2524,10236.6947,10495.1075,10234.5029,10529.1004,10948.2855,10560.8377,10149.1462,10273.4219,10215.3937,10547.1104,10302.9601,10252.6232,10085.3121,10282.0504,10432.0334,10259.6733,10223.4552,10032.3903,10073.051,9720.5302,8827.571,8863.6598,8350.3582,8363.8772,8591.7403,8037.4801,7438.2086,8235.2818,8080.4285,8347.2582,8215.4594,8022.6293,8155.3747,8280.9301,8306.9394,8426.8773,8459.6506,8284.4363,8004.1103,8580.8239,8328.9727,8600.4704,8103.0146,7863.7551,8063.3358,8007.3808,8354.518,8049.0934,7896.4978,7654.8602,7444.4685,8612.4787,9341.6068,9349.0109,8889.6472,8669.1033,8876.2867,10167.5081,9750.1798,9640.2506,8951.7258,9594.4926,9100.137,9302.8395,9341.9263,8929.3686,8795.2027,9293.2885,8761.8273,8945.7956,8770.9129,8315.1015,8572.4204,8817.6037,8278.2498,8398.4911,8220.3089,8084.4912,7651.5315,7522.3349,7552.5987,6881.2061,7280.4334,7298.2567,7187.2691,7133.6291,7741.1291,7125.2663,7572.5683,7329.9523,7680.1709,7149.4885,7737.8737,7419.2175,7397.7076,7424.453,7336.7991,7144.0937,7476.8789,7425.1694,7269.6314,7177.0488,7026.0115,6875.7562,6787.263,7271.0791,7239.9471,7027.9725,7208.0801,7277.8433,7008.5666,7871.2921,7081.8088,7248.7453,7211.2764,7727.6491,7187.474,7189.9021,7149.8367,7210.7671,7070.6054,7404.0418,7448.4625,7202.4422,7680.467,8046.1349,7679.7178,8082.7562,8091.1519,7886.7498,8503.3812,8476.4371,8524.3537,8514.1288,8961.7381,8584.8632,8981.1239,8578.8136,9211.0636,8843.3403,8618.3937,8615.0692,8554.5078,8253.4616,8587.4229,8987.527,9247.5712,8920.1948,9367.629,9116.8578,9540.9167,9507.2105,9738.0487,9112.3358,9807.2115,9599.7709,9772.1964,9776.1989,10030.3829,9671.5673,10555.8982,10374.0956,10218.5825,10394.3111,10196.6197,9666.3082,10148.4924,10291.2693,9633.7643,9851.1263,9349.471,9734.5948,9745.7736,10194.7277,8873.7969,8945.7886,9028.2536,8880.8295,9053.6814,8483.6483,8711.4338,8340.1207,8814.2273,8960.9062,8935.0897,8807.0823,8578.0087,7990.662,8042.9932,8395.3954,5776.7596,5902.4252,5018.6916,5627.3706,5464.6682,5882.1669,2912.3675,6615.1181,5725.1887,6134.5106,5495.3988,6644.2578,6578.9414,7322.8135,6671.5094,6249.1019,5912.5647,6650.1166,6592.9764,6537.4031,6774.7026,6321.5844,6673.5331,6433.8041,7157.0599,7224.9988,7408.1187,7322.0825,7166.7751,7035.7044,6804.9928,7436.2529,6846.5495,7042.6955,6641.3185,6761.9696,7052.1009,7220.1541,7085.2442,6827.6217,6569.6231,7650.454,7395.9128,7658.9223,7364.4522,7371.5936,7643.2827,7933.8194,8879.6998,8492.424,8622.1043,8966.5112,8781.4366,8735.1705,9838.4223,8950.0021,9905.9037,9833.3555,9417.697,8796.7803,8766.6075,8923.8926,10213.2893,9677.9108,9200.2025,8622.7032,9365.2032,9779.1092,10163.5973,9986.4219,8684.937,9243.6279,9567.6751,8882.2,9108.5037,8735.8756,8820.1788,9652.8417,9395.7471,9152.2013,9529.4279,9940.0411,9771.4637,10016.2377,9615.928,9840.6211,9443.7594,10469.6292,9246.3059,9910.4261,10012.544,9151.5723,9586.0734,9622.8385,9496.8601,9455.9461,9712.1758,8917.6185,9591.7737,9355.5427,9262.696,9415.9837,9777.0906,9563.4161,9245.6885,9213.0492,9256.9039,8997.1771,9596.2375,9216.1994,8881.9745,9218.2293,9041.7328,8941.1573,9255.0553,9180.8506,9263.685,9371.3067,9275.5602,9199.8679,9367.0913,9187.7433,9555.0414,9198.8583,9454.181,9059.5114,9238.3535,9137.1192,9286.4059,9172.7245,9219.3177,9333.8004,9434.1794,9568.9825,9525.8059,9678.7492,9781.8328,11046.4423,10854.2213,10927.4639,10844.3809,11256.6679,11722.3409,12066.1536,11074.9392,11311.9083,11721.3089,11927.9059,11989.6552,11042.8015,11802.9925,11768.7238,11935.0517,11606.7738,11652.7974,11971.5838,11780.5871,12115.0151,11768.9038,12065.537,12018.1711,11844.4651,11668.6064,11799.774,12110.8228,11525.4584,11237.337,11619.8972,11123.038,11697.0142,11497.1607,11823.5365,11267.2951,11987.6053,11298.0357,10621.9842,10592.2191,10617.7282,10481.4662,10882.3224,9897.8487,9276.9842,10602.8918,10112.4283,10513.2128,10479.6398,10388.5641,10803.5533,10975.6959,10906.865,10916.3584,10881.8937,11190.3303,10588.5689,10743.9726,10380.1098,10794.126,10883.795,10646.1698,10401.9051,10770.2719,10523.4307,11233.0541,10598.1757,10657.7307,10721.5878,10527.0359,10969.6612,10610.9467,10517.7085,10873.4266,10956.8134,11328.7462,11410.9191,11232.9063,11387.5473,11578.4682,11552.3506,11549.2127,11436.7937,11684.1401,11631.4287,11844.0282,12703.2361,12574.261,12723.3325,13009.8868,13038.6393,13019.6405,14290.535,13349.1153,13357.8215,13664.8174,13580.9493,13715.6785,14061.3547,13640.6264,14196.3492,15396.4786,15441.5935,14692.9973,15016.602,15508.4385,15255.3428,16926.623,16211.0144,15443.9486,16596.1315,15688.5656,16510.8596,17677.1045,18117.9237,17601.5336,18067.8643,18121.5368,18842.2535,19044.6591,19069.2976,18589.1518,18161.7018,17420.3826,17703.4699,18163.2025,20254.0083,18369.6854,17699.6066,19045.0705,19008.7132,19422.5166,20652.1024,18351.1544,18975.9646,18794.5539,17744.2633,18699.9576,19149.8242,18992.6909,18442.8984,19490.7293,20686.5809,21863.5013,23111.7425,23256.53,22882.4218,22392.4102,25065.8306,24306.2644,24002.8329,25131.6593,25713.7604,25237.9644,27364.9268,26224.3726,28526.3684,29201.1866,30340.3953,31080.6262,32529.0092,31763.3781,34459.7203,35762.5054,37997.4407,41737.411,39723.3158,36465.7395,36846.6395,36751.8311,40073.9475,40398.6637,37275.2686,34382.1343,33603.7398,35177.3794,39229.3809,37309.4767,29946.8403,32331.9486,32655.9946,33838.816,31572.1573,32854.4537,26434.9757,35237.643,33483.3735,34052.6459,32615.3653,33786.067,33175.3255,39515.9178,37615.2947,37184.8781,37160.5447,38341.5458,46487.1514,47032.8277,43231.7304,47470.8974,46634.7119,45857.1449,54914.825,47593.8781,47360.2457,54220.4706,50378.3447,54638.1528,55852.6592,55121.1836,54397.7353,52103.5813,49723.2542,52044.3963,47508.6958,49133.5669,43874.2499,45557.2934,49321.9064,47028.6361,47467.0817,47979.3063,48152.6433,54399.46,50778.9444,55767.7317,52960.9374,57014.7881,55904.7527,61047.7048,59211.2918,57408.1896,57683.7635,60704.4723,56672.3356,61791.1953,56496.6184,53942.3163,56147.0939,56938.3788,51715.1191,52836.9433,55808.6148,55702.9446,52898.6292,57239.9935,55853.7105,57011.4093,61479.4444,59038.9999,56505.8275,59523.1268,60254.6628,58250.0365,56395.1841,58518.2047,55964.659,60958.9845,61007.7377,58515.76,60740.9018,64328.6929,62456.7526,62669.7777,60611.2852,56559.8847,60220.6282,57394.3507,55433.1843,51879.4844,51613.4398,47948.038,49763.6798,55126.2802,52798.7919,52621.9256,52649.6784,55503.0972,55622.5933,60254.4471,57673.7536,53216.9218,55600.2417,60008.5309,57521.9427,57703.7758,58493.0899,52155.9623,60425.6229,48377.6586,51570.4087,52779.6011,48305.6758,46192.9562,46295.8617,36178.2513,40601.9271,42591.259,36677.068,38401.0433,34132.4911,38552.5478,33303.833,42694.7164,35376.8876,35630.7012,33128.1107,38836.6864,37118.2068,37941.8384,36893.9422,36679.4103,35263.8936,36375.6228,37577.8155,34045.3535,34725.9347,39067.4599,34422.0742,36115.9004,35840.2146,36552.8121,39235.6674,42778.9942,37374.4478,38685.1761,34229.9984,39020.4748,37641.7348,32465.358,32230.0517,34184.1,32875.8462,31926.4032,32841.302,30821.6426,35077.8821,36544.9724,35697.5988,30514.6771,34182.2877,36775.216,34802.351,35333.2485,33597.7793,32573.198,33370.1811,34636.3963,34177.6434,33037.2517,33620.3607,32702.1737,31997.3627,32959.7656,31577.2256,32498.8683,30977.0557,30911.8806,30434.6981,31180.6971,31832.5432,33323.9326,34008.2305,33903.3476,35237.0055,40044.6908,39076.1642,39942.2615,41381.1497,41263.8199,41159.0616,40958.7143,39145.3374,39618.0503,42896.4509,41903.4731,42627.2439,42395.2254,44237.983,45753.9298,45729.8984,45838.1545,48638.8226,46139.8834,48918.789,45296.1403,44902.9835,43846.8919,49670.5963,48463.3968,48514.6651,47763.8448,47815.1273,47326.49,50282.5308,49440.3135,48641.7082,49450.5334,49104.0175,45713.1943,48417.3852,46801.6949,51087.0665,49685.2479,49677.3424,49395.5468,51847.3484],\"type\":\"scatter\"},{\"marker\":{\"color\":\"#3f3f3f\",\"size\":5},\"mode\":\"lines+markers\",\"name\":\"Original\",\"showlegend\":true,\"x\":[\"2018-01-01T00:00:00\",\"2018-01-02T00:00:00\",\"2018-01-03T00:00:00\",\"2018-01-04T00:00:00\",\"2018-01-05T00:00:00\",\"2018-01-06T00:00:00\",\"2018-01-07T00:00:00\",\"2018-01-08T00:00:00\",\"2018-01-09T00:00:00\",\"2018-01-10T00:00:00\",\"2018-01-11T00:00:00\",\"2018-01-12T00:00:00\",\"2018-01-13T00:00:00\",\"2018-01-14T00:00:00\",\"2018-01-15T00:00:00\",\"2018-01-16T00:00:00\",\"2018-01-17T00:00:00\",\"2018-01-18T00:00:00\",\"2018-01-19T00:00:00\",\"2018-01-20T00:00:00\",\"2018-01-21T00:00:00\",\"2018-01-22T00:00:00\",\"2018-01-23T00:00:00\",\"2018-01-24T00:00:00\",\"2018-01-25T00:00:00\",\"2018-01-26T00:00:00\",\"2018-01-27T00:00:00\",\"2018-01-28T00:00:00\",\"2018-01-29T00:00:00\",\"2018-01-30T00:00:00\",\"2018-01-31T00:00:00\",\"2018-02-01T00:00:00\",\"2018-02-02T00:00:00\",\"2018-02-03T00:00:00\",\"2018-02-04T00:00:00\",\"2018-02-05T00:00:00\",\"2018-02-06T00:00:00\",\"2018-02-07T00:00:00\",\"2018-02-08T00:00:00\",\"2018-02-09T00:00:00\",\"2018-02-10T00:00:00\",\"2018-02-11T00:00:00\",\"2018-02-12T00:00:00\",\"2018-02-13T00:00:00\",\"2018-02-14T00:00:00\",\"2018-02-15T00:00:00\",\"2018-02-16T00:00:00\",\"2018-02-17T00:00:00\",\"2018-02-18T00:00:00\",\"2018-02-19T00:00:00\",\"2018-02-20T00:00:00\",\"2018-02-21T00:00:00\",\"2018-02-22T00:00:00\",\"2018-02-23T00:00:00\",\"2018-02-24T00:00:00\",\"2018-02-25T00:00:00\",\"2018-02-26T00:00:00\",\"2018-02-27T00:00:00\",\"2018-02-28T00:00:00\",\"2018-03-01T00:00:00\",\"2018-03-02T00:00:00\",\"2018-03-03T00:00:00\",\"2018-03-04T00:00:00\",\"2018-03-05T00:00:00\",\"2018-03-06T00:00:00\",\"2018-03-07T00:00:00\",\"2018-03-08T00:00:00\",\"2018-03-09T00:00:00\",\"2018-03-10T00:00:00\",\"2018-03-11T00:00:00\",\"2018-03-12T00:00:00\",\"2018-03-13T00:00:00\",\"2018-03-14T00:00:00\",\"2018-03-15T00:00:00\",\"2018-03-16T00:00:00\",\"2018-03-17T00:00:00\",\"2018-03-18T00:00:00\",\"2018-03-19T00:00:00\",\"2018-03-20T00:00:00\",\"2018-03-21T00:00:00\",\"2018-03-22T00:00:00\",\"2018-03-23T00:00:00\",\"2018-03-24T00:00:00\",\"2018-03-25T00:00:00\",\"2018-03-26T00:00:00\",\"2018-03-27T00:00:00\",\"2018-03-28T00:00:00\",\"2018-03-29T00:00:00\",\"2018-03-30T00:00:00\",\"2018-03-31T00:00:00\",\"2018-04-01T00:00:00\",\"2018-04-02T00:00:00\",\"2018-04-03T00:00:00\",\"2018-04-04T00:00:00\",\"2018-04-05T00:00:00\",\"2018-04-06T00:00:00\",\"2018-04-07T00:00:00\",\"2018-04-08T00:00:00\",\"2018-04-09T00:00:00\",\"2018-04-10T00:00:00\",\"2018-04-11T00:00:00\",\"2018-04-12T00:00:00\",\"2018-04-13T00:00:00\",\"2018-04-14T00:00:00\",\"2018-04-15T00:00:00\",\"2018-04-16T00:00:00\",\"2018-04-17T00:00:00\",\"2018-04-18T00:00:00\",\"2018-04-19T00:00:00\",\"2018-04-20T00:00:00\",\"2018-04-21T00:00:00\",\"2018-04-22T00:00:00\",\"2018-04-23T00:00:00\",\"2018-04-24T00:00:00\",\"2018-04-25T00:00:00\",\"2018-04-26T00:00:00\",\"2018-04-27T00:00:00\",\"2018-04-28T00:00:00\",\"2018-04-29T00:00:00\",\"2018-04-30T00:00:00\",\"2018-05-01T00:00:00\",\"2018-05-02T00:00:00\",\"2018-05-03T00:00:00\",\"2018-05-04T00:00:00\",\"2018-05-05T00:00:00\",\"2018-05-06T00:00:00\",\"2018-05-07T00:00:00\",\"2018-05-08T00:00:00\",\"2018-05-09T00:00:00\",\"2018-05-10T00:00:00\",\"2018-05-11T00:00:00\",\"2018-05-12T00:00:00\",\"2018-05-13T00:00:00\",\"2018-05-14T00:00:00\",\"2018-05-15T00:00:00\",\"2018-05-16T00:00:00\",\"2018-05-17T00:00:00\",\"2018-05-18T00:00:00\",\"2018-05-19T00:00:00\",\"2018-05-20T00:00:00\",\"2018-05-21T00:00:00\",\"2018-05-22T00:00:00\",\"2018-05-23T00:00:00\",\"2018-05-24T00:00:00\",\"2018-05-25T00:00:00\",\"2018-05-26T00:00:00\",\"2018-05-27T00:00:00\",\"2018-05-28T00:00:00\",\"2018-05-29T00:00:00\",\"2018-05-30T00:00:00\",\"2018-05-31T00:00:00\",\"2018-06-01T00:00:00\",\"2018-06-02T00:00:00\",\"2018-06-03T00:00:00\",\"2018-06-04T00:00:00\",\"2018-06-05T00:00:00\",\"2018-06-06T00:00:00\",\"2018-06-07T00:00:00\",\"2018-06-08T00:00:00\",\"2018-06-09T00:00:00\",\"2018-06-10T00:00:00\",\"2018-06-11T00:00:00\",\"2018-06-12T00:00:00\",\"2018-06-13T00:00:00\",\"2018-06-14T00:00:00\",\"2018-06-15T00:00:00\",\"2018-06-16T00:00:00\",\"2018-06-17T00:00:00\",\"2018-06-18T00:00:00\",\"2018-06-19T00:00:00\",\"2018-06-20T00:00:00\",\"2018-06-21T00:00:00\",\"2018-06-22T00:00:00\",\"2018-06-23T00:00:00\",\"2018-06-24T00:00:00\",\"2018-06-25T00:00:00\",\"2018-06-26T00:00:00\",\"2018-06-27T00:00:00\",\"2018-06-28T00:00:00\",\"2018-06-29T00:00:00\",\"2018-06-30T00:00:00\",\"2018-07-01T00:00:00\",\"2018-07-02T00:00:00\",\"2018-07-03T00:00:00\",\"2018-07-04T00:00:00\",\"2018-07-05T00:00:00\",\"2018-07-06T00:00:00\",\"2018-07-07T00:00:00\",\"2018-07-08T00:00:00\",\"2018-07-09T00:00:00\",\"2018-07-10T00:00:00\",\"2018-07-11T00:00:00\",\"2018-07-12T00:00:00\",\"2018-07-13T00:00:00\",\"2018-07-14T00:00:00\",\"2018-07-15T00:00:00\",\"2018-07-16T00:00:00\",\"2018-07-17T00:00:00\",\"2018-07-18T00:00:00\",\"2018-07-19T00:00:00\",\"2018-07-20T00:00:00\",\"2018-07-21T00:00:00\",\"2018-07-22T00:00:00\",\"2018-07-23T00:00:00\",\"2018-07-24T00:00:00\",\"2018-07-25T00:00:00\",\"2018-07-26T00:00:00\",\"2018-07-27T00:00:00\",\"2018-07-28T00:00:00\",\"2018-07-29T00:00:00\",\"2018-07-30T00:00:00\",\"2018-07-31T00:00:00\",\"2018-08-01T00:00:00\",\"2018-08-02T00:00:00\",\"2018-08-03T00:00:00\",\"2018-08-04T00:00:00\",\"2018-08-05T00:00:00\",\"2018-08-06T00:00:00\",\"2018-08-07T00:00:00\",\"2018-08-08T00:00:00\",\"2018-08-09T00:00:00\",\"2018-08-10T00:00:00\",\"2018-08-11T00:00:00\",\"2018-08-12T00:00:00\",\"2018-08-13T00:00:00\",\"2018-08-14T00:00:00\",\"2018-08-15T00:00:00\",\"2018-08-16T00:00:00\",\"2018-08-17T00:00:00\",\"2018-08-18T00:00:00\",\"2018-08-19T00:00:00\",\"2018-08-20T00:00:00\",\"2018-08-21T00:00:00\",\"2018-08-22T00:00:00\",\"2018-08-23T00:00:00\",\"2018-08-24T00:00:00\",\"2018-08-25T00:00:00\",\"2018-08-26T00:00:00\",\"2018-08-27T00:00:00\",\"2018-08-28T00:00:00\",\"2018-08-29T00:00:00\",\"2018-08-30T00:00:00\",\"2018-08-31T00:00:00\",\"2018-09-01T00:00:00\",\"2018-09-02T00:00:00\",\"2018-09-03T00:00:00\",\"2018-09-04T00:00:00\",\"2018-09-05T00:00:00\",\"2018-09-06T00:00:00\",\"2018-09-07T00:00:00\",\"2018-09-08T00:00:00\",\"2018-09-09T00:00:00\",\"2018-09-10T00:00:00\",\"2018-09-11T00:00:00\",\"2018-09-12T00:00:00\",\"2018-09-13T00:00:00\",\"2018-09-14T00:00:00\",\"2018-09-15T00:00:00\",\"2018-09-16T00:00:00\",\"2018-09-17T00:00:00\",\"2018-09-18T00:00:00\",\"2018-09-19T00:00:00\",\"2018-09-20T00:00:00\",\"2018-09-21T00:00:00\",\"2018-09-22T00:00:00\",\"2018-09-23T00:00:00\",\"2018-09-24T00:00:00\",\"2018-09-25T00:00:00\",\"2018-09-26T00:00:00\",\"2018-09-27T00:00:00\",\"2018-09-28T00:00:00\",\"2018-09-29T00:00:00\",\"2018-09-30T00:00:00\",\"2018-10-01T00:00:00\",\"2018-10-02T00:00:00\",\"2018-10-03T00:00:00\",\"2018-10-04T00:00:00\",\"2018-10-05T00:00:00\",\"2018-10-06T00:00:00\",\"2018-10-07T00:00:00\",\"2018-10-08T00:00:00\",\"2018-10-09T00:00:00\",\"2018-10-10T00:00:00\",\"2018-10-11T00:00:00\",\"2018-10-12T00:00:00\",\"2018-10-13T00:00:00\",\"2018-10-14T00:00:00\",\"2018-10-15T00:00:00\",\"2018-10-16T00:00:00\",\"2018-10-17T00:00:00\",\"2018-10-18T00:00:00\",\"2018-10-19T00:00:00\",\"2018-10-20T00:00:00\",\"2018-10-21T00:00:00\",\"2018-10-22T00:00:00\",\"2018-10-23T00:00:00\",\"2018-10-24T00:00:00\",\"2018-10-25T00:00:00\",\"2018-10-26T00:00:00\",\"2018-10-27T00:00:00\",\"2018-10-28T00:00:00\",\"2018-10-29T00:00:00\",\"2018-10-30T00:00:00\",\"2018-10-31T00:00:00\",\"2018-11-01T00:00:00\",\"2018-11-02T00:00:00\",\"2018-11-03T00:00:00\",\"2018-11-04T00:00:00\",\"2018-11-05T00:00:00\",\"2018-11-06T00:00:00\",\"2018-11-07T00:00:00\",\"2018-11-08T00:00:00\",\"2018-11-09T00:00:00\",\"2018-11-10T00:00:00\",\"2018-11-11T00:00:00\",\"2018-11-12T00:00:00\",\"2018-11-13T00:00:00\",\"2018-11-14T00:00:00\",\"2018-11-15T00:00:00\",\"2018-11-16T00:00:00\",\"2018-11-17T00:00:00\",\"2018-11-18T00:00:00\",\"2018-11-19T00:00:00\",\"2018-11-20T00:00:00\",\"2018-11-21T00:00:00\",\"2018-11-22T00:00:00\",\"2018-11-23T00:00:00\",\"2018-11-24T00:00:00\",\"2018-11-25T00:00:00\",\"2018-11-26T00:00:00\",\"2018-11-27T00:00:00\",\"2018-11-28T00:00:00\",\"2018-11-29T00:00:00\",\"2018-11-30T00:00:00\",\"2018-12-01T00:00:00\",\"2018-12-02T00:00:00\",\"2018-12-03T00:00:00\",\"2018-12-04T00:00:00\",\"2018-12-05T00:00:00\",\"2018-12-06T00:00:00\",\"2018-12-07T00:00:00\",\"2018-12-08T00:00:00\",\"2018-12-09T00:00:00\",\"2018-12-10T00:00:00\",\"2018-12-11T00:00:00\",\"2018-12-12T00:00:00\",\"2018-12-13T00:00:00\",\"2018-12-14T00:00:00\",\"2018-12-15T00:00:00\",\"2018-12-16T00:00:00\",\"2018-12-17T00:00:00\",\"2018-12-18T00:00:00\",\"2018-12-19T00:00:00\",\"2018-12-20T00:00:00\",\"2018-12-21T00:00:00\",\"2018-12-22T00:00:00\",\"2018-12-23T00:00:00\",\"2018-12-24T00:00:00\",\"2018-12-25T00:00:00\",\"2018-12-26T00:00:00\",\"2018-12-27T00:00:00\",\"2018-12-28T00:00:00\",\"2018-12-29T00:00:00\",\"2018-12-30T00:00:00\",\"2018-12-31T00:00:00\",\"2019-01-01T00:00:00\",\"2019-01-02T00:00:00\",\"2019-01-03T00:00:00\",\"2019-01-04T00:00:00\",\"2019-01-05T00:00:00\",\"2019-01-06T00:00:00\",\"2019-01-07T00:00:00\",\"2019-01-08T00:00:00\",\"2019-01-09T00:00:00\",\"2019-01-10T00:00:00\",\"2019-01-11T00:00:00\",\"2019-01-12T00:00:00\",\"2019-01-13T00:00:00\",\"2019-01-14T00:00:00\",\"2019-01-15T00:00:00\",\"2019-01-16T00:00:00\",\"2019-01-17T00:00:00\",\"2019-01-18T00:00:00\",\"2019-01-19T00:00:00\",\"2019-01-20T00:00:00\",\"2019-01-21T00:00:00\",\"2019-01-22T00:00:00\",\"2019-01-23T00:00:00\",\"2019-01-24T00:00:00\",\"2019-01-25T00:00:00\",\"2019-01-26T00:00:00\",\"2019-01-27T00:00:00\",\"2019-01-28T00:00:00\",\"2019-01-29T00:00:00\",\"2019-01-30T00:00:00\",\"2019-01-31T00:00:00\",\"2019-02-01T00:00:00\",\"2019-02-02T00:00:00\",\"2019-02-03T00:00:00\",\"2019-02-04T00:00:00\",\"2019-02-05T00:00:00\",\"2019-02-06T00:00:00\",\"2019-02-07T00:00:00\",\"2019-02-08T00:00:00\",\"2019-02-09T00:00:00\",\"2019-02-10T00:00:00\",\"2019-02-11T00:00:00\",\"2019-02-12T00:00:00\",\"2019-02-13T00:00:00\",\"2019-02-14T00:00:00\",\"2019-02-15T00:00:00\",\"2019-02-16T00:00:00\",\"2019-02-17T00:00:00\",\"2019-02-18T00:00:00\",\"2019-02-19T00:00:00\",\"2019-02-20T00:00:00\",\"2019-02-21T00:00:00\",\"2019-02-22T00:00:00\",\"2019-02-23T00:00:00\",\"2019-02-24T00:00:00\",\"2019-02-25T00:00:00\",\"2019-02-26T00:00:00\",\"2019-02-27T00:00:00\",\"2019-02-28T00:00:00\",\"2019-03-01T00:00:00\",\"2019-03-02T00:00:00\",\"2019-03-03T00:00:00\",\"2019-03-04T00:00:00\",\"2019-03-05T00:00:00\",\"2019-03-06T00:00:00\",\"2019-03-07T00:00:00\",\"2019-03-08T00:00:00\",\"2019-03-09T00:00:00\",\"2019-03-10T00:00:00\",\"2019-03-11T00:00:00\",\"2019-03-12T00:00:00\",\"2019-03-13T00:00:00\",\"2019-03-14T00:00:00\",\"2019-03-15T00:00:00\",\"2019-03-16T00:00:00\",\"2019-03-17T00:00:00\",\"2019-03-18T00:00:00\",\"2019-03-19T00:00:00\",\"2019-03-20T00:00:00\",\"2019-03-21T00:00:00\",\"2019-03-22T00:00:00\",\"2019-03-23T00:00:00\",\"2019-03-24T00:00:00\",\"2019-03-25T00:00:00\",\"2019-03-26T00:00:00\",\"2019-03-27T00:00:00\",\"2019-03-28T00:00:00\",\"2019-03-29T00:00:00\",\"2019-03-30T00:00:00\",\"2019-03-31T00:00:00\",\"2019-04-01T00:00:00\",\"2019-04-02T00:00:00\",\"2019-04-03T00:00:00\",\"2019-04-04T00:00:00\",\"2019-04-05T00:00:00\",\"2019-04-06T00:00:00\",\"2019-04-07T00:00:00\",\"2019-04-08T00:00:00\",\"2019-04-09T00:00:00\",\"2019-04-10T00:00:00\",\"2019-04-11T00:00:00\",\"2019-04-12T00:00:00\",\"2019-04-13T00:00:00\",\"2019-04-14T00:00:00\",\"2019-04-15T00:00:00\",\"2019-04-16T00:00:00\",\"2019-04-17T00:00:00\",\"2019-04-18T00:00:00\",\"2019-04-19T00:00:00\",\"2019-04-20T00:00:00\",\"2019-04-21T00:00:00\",\"2019-04-22T00:00:00\",\"2019-04-23T00:00:00\",\"2019-04-24T00:00:00\",\"2019-04-25T00:00:00\",\"2019-04-26T00:00:00\",\"2019-04-27T00:00:00\",\"2019-04-28T00:00:00\",\"2019-04-29T00:00:00\",\"2019-04-30T00:00:00\",\"2019-05-01T00:00:00\",\"2019-05-02T00:00:00\",\"2019-05-03T00:00:00\",\"2019-05-04T00:00:00\",\"2019-05-05T00:00:00\",\"2019-05-06T00:00:00\",\"2019-05-07T00:00:00\",\"2019-05-08T00:00:00\",\"2019-05-09T00:00:00\",\"2019-05-10T00:00:00\",\"2019-05-11T00:00:00\",\"2019-05-12T00:00:00\",\"2019-05-13T00:00:00\",\"2019-05-14T00:00:00\",\"2019-05-15T00:00:00\",\"2019-05-16T00:00:00\",\"2019-05-17T00:00:00\",\"2019-05-18T00:00:00\",\"2019-05-19T00:00:00\",\"2019-05-20T00:00:00\",\"2019-05-21T00:00:00\",\"2019-05-22T00:00:00\",\"2019-05-23T00:00:00\",\"2019-05-24T00:00:00\",\"2019-05-25T00:00:00\",\"2019-05-26T00:00:00\",\"2019-05-27T00:00:00\",\"2019-05-28T00:00:00\",\"2019-05-29T00:00:00\",\"2019-05-30T00:00:00\",\"2019-05-31T00:00:00\",\"2019-06-01T00:00:00\",\"2019-06-02T00:00:00\",\"2019-06-03T00:00:00\",\"2019-06-04T00:00:00\",\"2019-06-05T00:00:00\",\"2019-06-06T00:00:00\",\"2019-06-07T00:00:00\",\"2019-06-08T00:00:00\",\"2019-06-09T00:00:00\",\"2019-06-10T00:00:00\",\"2019-06-11T00:00:00\",\"2019-06-12T00:00:00\",\"2019-06-13T00:00:00\",\"2019-06-14T00:00:00\",\"2019-06-15T00:00:00\",\"2019-06-16T00:00:00\",\"2019-06-17T00:00:00\",\"2019-06-18T00:00:00\",\"2019-06-19T00:00:00\",\"2019-06-20T00:00:00\",\"2019-06-21T00:00:00\",\"2019-06-22T00:00:00\",\"2019-06-23T00:00:00\",\"2019-06-24T00:00:00\",\"2019-06-25T00:00:00\",\"2019-06-26T00:00:00\",\"2019-06-27T00:00:00\",\"2019-06-28T00:00:00\",\"2019-06-29T00:00:00\",\"2019-06-30T00:00:00\",\"2019-07-01T00:00:00\",\"2019-07-02T00:00:00\",\"2019-07-03T00:00:00\",\"2019-07-04T00:00:00\",\"2019-07-05T00:00:00\",\"2019-07-06T00:00:00\",\"2019-07-07T00:00:00\",\"2019-07-08T00:00:00\",\"2019-07-09T00:00:00\",\"2019-07-10T00:00:00\",\"2019-07-11T00:00:00\",\"2019-07-12T00:00:00\",\"2019-07-13T00:00:00\",\"2019-07-14T00:00:00\",\"2019-07-15T00:00:00\",\"2019-07-16T00:00:00\",\"2019-07-17T00:00:00\",\"2019-07-18T00:00:00\",\"2019-07-19T00:00:00\",\"2019-07-20T00:00:00\",\"2019-07-21T00:00:00\",\"2019-07-22T00:00:00\",\"2019-07-23T00:00:00\",\"2019-07-24T00:00:00\",\"2019-07-25T00:00:00\",\"2019-07-26T00:00:00\",\"2019-07-27T00:00:00\",\"2019-07-28T00:00:00\",\"2019-07-29T00:00:00\",\"2019-07-30T00:00:00\",\"2019-07-31T00:00:00\",\"2019-08-01T00:00:00\",\"2019-08-02T00:00:00\",\"2019-08-03T00:00:00\",\"2019-08-04T00:00:00\",\"2019-08-05T00:00:00\",\"2019-08-06T00:00:00\",\"2019-08-07T00:00:00\",\"2019-08-08T00:00:00\",\"2019-08-09T00:00:00\",\"2019-08-10T00:00:00\",\"2019-08-11T00:00:00\",\"2019-08-12T00:00:00\",\"2019-08-13T00:00:00\",\"2019-08-14T00:00:00\",\"2019-08-15T00:00:00\",\"2019-08-16T00:00:00\",\"2019-08-17T00:00:00\",\"2019-08-18T00:00:00\",\"2019-08-19T00:00:00\",\"2019-08-20T00:00:00\",\"2019-08-21T00:00:00\",\"2019-08-22T00:00:00\",\"2019-08-23T00:00:00\",\"2019-08-24T00:00:00\",\"2019-08-25T00:00:00\",\"2019-08-26T00:00:00\",\"2019-08-27T00:00:00\",\"2019-08-28T00:00:00\",\"2019-08-29T00:00:00\",\"2019-08-30T00:00:00\",\"2019-08-31T00:00:00\",\"2019-09-01T00:00:00\",\"2019-09-02T00:00:00\",\"2019-09-03T00:00:00\",\"2019-09-04T00:00:00\",\"2019-09-05T00:00:00\",\"2019-09-06T00:00:00\",\"2019-09-07T00:00:00\",\"2019-09-08T00:00:00\",\"2019-09-09T00:00:00\",\"2019-09-10T00:00:00\",\"2019-09-11T00:00:00\",\"2019-09-12T00:00:00\",\"2019-09-13T00:00:00\",\"2019-09-14T00:00:00\",\"2019-09-15T00:00:00\",\"2019-09-16T00:00:00\",\"2019-09-17T00:00:00\",\"2019-09-18T00:00:00\",\"2019-09-19T00:00:00\",\"2019-09-20T00:00:00\",\"2019-09-21T00:00:00\",\"2019-09-22T00:00:00\",\"2019-09-23T00:00:00\",\"2019-09-24T00:00:00\",\"2019-09-25T00:00:00\",\"2019-09-26T00:00:00\",\"2019-09-27T00:00:00\",\"2019-09-28T00:00:00\",\"2019-09-29T00:00:00\",\"2019-09-30T00:00:00\",\"2019-10-01T00:00:00\",\"2019-10-02T00:00:00\",\"2019-10-03T00:00:00\",\"2019-10-04T00:00:00\",\"2019-10-05T00:00:00\",\"2019-10-06T00:00:00\",\"2019-10-07T00:00:00\",\"2019-10-08T00:00:00\",\"2019-10-09T00:00:00\",\"2019-10-10T00:00:00\",\"2019-10-11T00:00:00\",\"2019-10-12T00:00:00\",\"2019-10-13T00:00:00\",\"2019-10-14T00:00:00\",\"2019-10-15T00:00:00\",\"2019-10-16T00:00:00\",\"2019-10-17T00:00:00\",\"2019-10-18T00:00:00\",\"2019-10-19T00:00:00\",\"2019-10-20T00:00:00\",\"2019-10-21T00:00:00\",\"2019-10-22T00:00:00\",\"2019-10-23T00:00:00\",\"2019-10-24T00:00:00\",\"2019-10-25T00:00:00\",\"2019-10-26T00:00:00\",\"2019-10-27T00:00:00\",\"2019-10-28T00:00:00\",\"2019-10-29T00:00:00\",\"2019-10-30T00:00:00\",\"2019-10-31T00:00:00\",\"2019-11-01T00:00:00\",\"2019-11-02T00:00:00\",\"2019-11-03T00:00:00\",\"2019-11-04T00:00:00\",\"2019-11-05T00:00:00\",\"2019-11-06T00:00:00\",\"2019-11-07T00:00:00\",\"2019-11-08T00:00:00\",\"2019-11-09T00:00:00\",\"2019-11-10T00:00:00\",\"2019-11-11T00:00:00\",\"2019-11-12T00:00:00\",\"2019-11-13T00:00:00\",\"2019-11-14T00:00:00\",\"2019-11-15T00:00:00\",\"2019-11-16T00:00:00\",\"2019-11-17T00:00:00\",\"2019-11-18T00:00:00\",\"2019-11-19T00:00:00\",\"2019-11-20T00:00:00\",\"2019-11-21T00:00:00\",\"2019-11-22T00:00:00\",\"2019-11-23T00:00:00\",\"2019-11-24T00:00:00\",\"2019-11-25T00:00:00\",\"2019-11-26T00:00:00\",\"2019-11-27T00:00:00\",\"2019-11-28T00:00:00\",\"2019-11-29T00:00:00\",\"2019-11-30T00:00:00\",\"2019-12-01T00:00:00\",\"2019-12-02T00:00:00\",\"2019-12-03T00:00:00\",\"2019-12-04T00:00:00\",\"2019-12-05T00:00:00\",\"2019-12-06T00:00:00\",\"2019-12-07T00:00:00\",\"2019-12-08T00:00:00\",\"2019-12-09T00:00:00\",\"2019-12-10T00:00:00\",\"2019-12-11T00:00:00\",\"2019-12-12T00:00:00\",\"2019-12-13T00:00:00\",\"2019-12-14T00:00:00\",\"2019-12-15T00:00:00\",\"2019-12-16T00:00:00\",\"2019-12-17T00:00:00\",\"2019-12-18T00:00:00\",\"2019-12-19T00:00:00\",\"2019-12-20T00:00:00\",\"2019-12-21T00:00:00\",\"2019-12-22T00:00:00\",\"2019-12-23T00:00:00\",\"2019-12-24T00:00:00\",\"2019-12-25T00:00:00\",\"2019-12-26T00:00:00\",\"2019-12-27T00:00:00\",\"2019-12-28T00:00:00\",\"2019-12-29T00:00:00\",\"2019-12-30T00:00:00\",\"2019-12-31T00:00:00\",\"2020-01-01T00:00:00\",\"2020-01-02T00:00:00\",\"2020-01-03T00:00:00\",\"2020-01-04T00:00:00\",\"2020-01-05T00:00:00\",\"2020-01-06T00:00:00\",\"2020-01-07T00:00:00\",\"2020-01-08T00:00:00\",\"2020-01-09T00:00:00\",\"2020-01-10T00:00:00\",\"2020-01-11T00:00:00\",\"2020-01-12T00:00:00\",\"2020-01-13T00:00:00\",\"2020-01-14T00:00:00\",\"2020-01-15T00:00:00\",\"2020-01-16T00:00:00\",\"2020-01-17T00:00:00\",\"2020-01-18T00:00:00\",\"2020-01-19T00:00:00\",\"2020-01-20T00:00:00\",\"2020-01-21T00:00:00\",\"2020-01-22T00:00:00\",\"2020-01-23T00:00:00\",\"2020-01-24T00:00:00\",\"2020-01-25T00:00:00\",\"2020-01-26T00:00:00\",\"2020-01-27T00:00:00\",\"2020-01-28T00:00:00\",\"2020-01-29T00:00:00\",\"2020-01-30T00:00:00\",\"2020-01-31T00:00:00\",\"2020-02-01T00:00:00\",\"2020-02-02T00:00:00\",\"2020-02-03T00:00:00\",\"2020-02-04T00:00:00\",\"2020-02-05T00:00:00\",\"2020-02-06T00:00:00\",\"2020-02-07T00:00:00\",\"2020-02-08T00:00:00\",\"2020-02-09T00:00:00\",\"2020-02-10T00:00:00\",\"2020-02-11T00:00:00\",\"2020-02-12T00:00:00\",\"2020-02-13T00:00:00\",\"2020-02-14T00:00:00\",\"2020-02-15T00:00:00\",\"2020-02-16T00:00:00\",\"2020-02-17T00:00:00\",\"2020-02-18T00:00:00\",\"2020-02-19T00:00:00\",\"2020-02-20T00:00:00\",\"2020-02-21T00:00:00\",\"2020-02-22T00:00:00\",\"2020-02-23T00:00:00\",\"2020-02-24T00:00:00\",\"2020-02-25T00:00:00\",\"2020-02-26T00:00:00\",\"2020-02-27T00:00:00\",\"2020-02-28T00:00:00\",\"2020-02-29T00:00:00\",\"2020-03-01T00:00:00\",\"2020-03-02T00:00:00\",\"2020-03-03T00:00:00\",\"2020-03-04T00:00:00\",\"2020-03-05T00:00:00\",\"2020-03-06T00:00:00\",\"2020-03-07T00:00:00\",\"2020-03-08T00:00:00\",\"2020-03-09T00:00:00\",\"2020-03-10T00:00:00\",\"2020-03-11T00:00:00\",\"2020-03-12T00:00:00\",\"2020-03-13T00:00:00\",\"2020-03-14T00:00:00\",\"2020-03-15T00:00:00\",\"2020-03-16T00:00:00\",\"2020-03-17T00:00:00\",\"2020-03-18T00:00:00\",\"2020-03-19T00:00:00\",\"2020-03-20T00:00:00\",\"2020-03-21T00:00:00\",\"2020-03-22T00:00:00\",\"2020-03-23T00:00:00\",\"2020-03-24T00:00:00\",\"2020-03-25T00:00:00\",\"2020-03-26T00:00:00\",\"2020-03-27T00:00:00\",\"2020-03-28T00:00:00\",\"2020-03-29T00:00:00\",\"2020-03-30T00:00:00\",\"2020-03-31T00:00:00\",\"2020-04-01T00:00:00\",\"2020-04-02T00:00:00\",\"2020-04-03T00:00:00\",\"2020-04-04T00:00:00\",\"2020-04-05T00:00:00\",\"2020-04-06T00:00:00\",\"2020-04-07T00:00:00\",\"2020-04-08T00:00:00\",\"2020-04-09T00:00:00\",\"2020-04-10T00:00:00\",\"2020-04-11T00:00:00\",\"2020-04-12T00:00:00\",\"2020-04-13T00:00:00\",\"2020-04-14T00:00:00\",\"2020-04-15T00:00:00\",\"2020-04-16T00:00:00\",\"2020-04-17T00:00:00\",\"2020-04-18T00:00:00\",\"2020-04-19T00:00:00\",\"2020-04-20T00:00:00\",\"2020-04-21T00:00:00\",\"2020-04-22T00:00:00\",\"2020-04-23T00:00:00\",\"2020-04-24T00:00:00\",\"2020-04-25T00:00:00\",\"2020-04-26T00:00:00\",\"2020-04-27T00:00:00\",\"2020-04-28T00:00:00\",\"2020-04-29T00:00:00\",\"2020-04-30T00:00:00\",\"2020-05-01T00:00:00\",\"2020-05-02T00:00:00\",\"2020-05-03T00:00:00\",\"2020-05-04T00:00:00\",\"2020-05-05T00:00:00\",\"2020-05-06T00:00:00\",\"2020-05-07T00:00:00\",\"2020-05-08T00:00:00\",\"2020-05-09T00:00:00\",\"2020-05-10T00:00:00\",\"2020-05-11T00:00:00\",\"2020-05-12T00:00:00\",\"2020-05-13T00:00:00\",\"2020-05-14T00:00:00\",\"2020-05-15T00:00:00\",\"2020-05-16T00:00:00\",\"2020-05-17T00:00:00\",\"2020-05-18T00:00:00\",\"2020-05-19T00:00:00\",\"2020-05-20T00:00:00\",\"2020-05-21T00:00:00\",\"2020-05-22T00:00:00\",\"2020-05-23T00:00:00\",\"2020-05-24T00:00:00\",\"2020-05-25T00:00:00\",\"2020-05-26T00:00:00\",\"2020-05-27T00:00:00\",\"2020-05-28T00:00:00\",\"2020-05-29T00:00:00\",\"2020-05-30T00:00:00\",\"2020-05-31T00:00:00\",\"2020-06-01T00:00:00\",\"2020-06-02T00:00:00\",\"2020-06-03T00:00:00\",\"2020-06-04T00:00:00\",\"2020-06-05T00:00:00\",\"2020-06-06T00:00:00\",\"2020-06-07T00:00:00\",\"2020-06-08T00:00:00\",\"2020-06-09T00:00:00\",\"2020-06-10T00:00:00\",\"2020-06-11T00:00:00\",\"2020-06-12T00:00:00\",\"2020-06-13T00:00:00\",\"2020-06-14T00:00:00\",\"2020-06-15T00:00:00\",\"2020-06-16T00:00:00\",\"2020-06-17T00:00:00\",\"2020-06-18T00:00:00\",\"2020-06-19T00:00:00\",\"2020-06-20T00:00:00\",\"2020-06-21T00:00:00\",\"2020-06-22T00:00:00\",\"2020-06-23T00:00:00\",\"2020-06-24T00:00:00\",\"2020-06-25T00:00:00\",\"2020-06-26T00:00:00\",\"2020-06-27T00:00:00\",\"2020-06-28T00:00:00\",\"2020-06-29T00:00:00\",\"2020-06-30T00:00:00\",\"2020-07-01T00:00:00\",\"2020-07-02T00:00:00\",\"2020-07-03T00:00:00\",\"2020-07-04T00:00:00\",\"2020-07-05T00:00:00\",\"2020-07-06T00:00:00\",\"2020-07-07T00:00:00\",\"2020-07-08T00:00:00\",\"2020-07-09T00:00:00\",\"2020-07-10T00:00:00\",\"2020-07-11T00:00:00\",\"2020-07-12T00:00:00\",\"2020-07-13T00:00:00\",\"2020-07-14T00:00:00\",\"2020-07-15T00:00:00\",\"2020-07-16T00:00:00\",\"2020-07-17T00:00:00\",\"2020-07-18T00:00:00\",\"2020-07-19T00:00:00\",\"2020-07-20T00:00:00\",\"2020-07-21T00:00:00\",\"2020-07-22T00:00:00\",\"2020-07-23T00:00:00\",\"2020-07-24T00:00:00\",\"2020-07-25T00:00:00\",\"2020-07-26T00:00:00\",\"2020-07-27T00:00:00\",\"2020-07-28T00:00:00\",\"2020-07-29T00:00:00\",\"2020-07-30T00:00:00\",\"2020-07-31T00:00:00\",\"2020-08-01T00:00:00\",\"2020-08-02T00:00:00\",\"2020-08-03T00:00:00\",\"2020-08-04T00:00:00\",\"2020-08-05T00:00:00\",\"2020-08-06T00:00:00\",\"2020-08-07T00:00:00\",\"2020-08-08T00:00:00\",\"2020-08-09T00:00:00\",\"2020-08-10T00:00:00\",\"2020-08-11T00:00:00\",\"2020-08-12T00:00:00\",\"2020-08-13T00:00:00\",\"2020-08-14T00:00:00\",\"2020-08-15T00:00:00\",\"2020-08-16T00:00:00\",\"2020-08-17T00:00:00\",\"2020-08-18T00:00:00\",\"2020-08-19T00:00:00\",\"2020-08-20T00:00:00\",\"2020-08-21T00:00:00\",\"2020-08-22T00:00:00\",\"2020-08-23T00:00:00\",\"2020-08-24T00:00:00\",\"2020-08-25T00:00:00\",\"2020-08-26T00:00:00\",\"2020-08-27T00:00:00\",\"2020-08-28T00:00:00\",\"2020-08-29T00:00:00\",\"2020-08-30T00:00:00\",\"2020-08-31T00:00:00\",\"2020-09-01T00:00:00\",\"2020-09-02T00:00:00\",\"2020-09-03T00:00:00\",\"2020-09-04T00:00:00\",\"2020-09-05T00:00:00\",\"2020-09-06T00:00:00\",\"2020-09-07T00:00:00\",\"2020-09-08T00:00:00\",\"2020-09-09T00:00:00\",\"2020-09-10T00:00:00\",\"2020-09-11T00:00:00\",\"2020-09-12T00:00:00\",\"2020-09-13T00:00:00\",\"2020-09-14T00:00:00\",\"2020-09-15T00:00:00\",\"2020-09-16T00:00:00\",\"2020-09-17T00:00:00\",\"2020-09-18T00:00:00\",\"2020-09-19T00:00:00\",\"2020-09-20T00:00:00\",\"2020-09-21T00:00:00\",\"2020-09-22T00:00:00\",\"2020-09-23T00:00:00\",\"2020-09-24T00:00:00\",\"2020-09-25T00:00:00\",\"2020-09-26T00:00:00\",\"2020-09-27T00:00:00\",\"2020-09-28T00:00:00\",\"2020-09-29T00:00:00\",\"2020-09-30T00:00:00\",\"2020-10-01T00:00:00\",\"2020-10-02T00:00:00\",\"2020-10-03T00:00:00\",\"2020-10-04T00:00:00\",\"2020-10-05T00:00:00\",\"2020-10-06T00:00:00\",\"2020-10-07T00:00:00\",\"2020-10-08T00:00:00\",\"2020-10-09T00:00:00\",\"2020-10-10T00:00:00\",\"2020-10-11T00:00:00\",\"2020-10-12T00:00:00\",\"2020-10-13T00:00:00\",\"2020-10-14T00:00:00\",\"2020-10-15T00:00:00\",\"2020-10-16T00:00:00\",\"2020-10-17T00:00:00\",\"2020-10-18T00:00:00\",\"2020-10-19T00:00:00\",\"2020-10-20T00:00:00\",\"2020-10-21T00:00:00\",\"2020-10-22T00:00:00\",\"2020-10-23T00:00:00\",\"2020-10-24T00:00:00\",\"2020-10-25T00:00:00\",\"2020-10-26T00:00:00\",\"2020-10-27T00:00:00\",\"2020-10-28T00:00:00\",\"2020-10-29T00:00:00\",\"2020-10-30T00:00:00\",\"2020-10-31T00:00:00\",\"2020-11-01T00:00:00\",\"2020-11-02T00:00:00\",\"2020-11-03T00:00:00\",\"2020-11-04T00:00:00\",\"2020-11-05T00:00:00\",\"2020-11-06T00:00:00\",\"2020-11-07T00:00:00\",\"2020-11-08T00:00:00\",\"2020-11-09T00:00:00\",\"2020-11-10T00:00:00\",\"2020-11-11T00:00:00\",\"2020-11-12T00:00:00\",\"2020-11-13T00:00:00\",\"2020-11-14T00:00:00\",\"2020-11-15T00:00:00\",\"2020-11-16T00:00:00\",\"2020-11-17T00:00:00\",\"2020-11-18T00:00:00\",\"2020-11-19T00:00:00\",\"2020-11-20T00:00:00\",\"2020-11-21T00:00:00\",\"2020-11-22T00:00:00\",\"2020-11-23T00:00:00\",\"2020-11-24T00:00:00\",\"2020-11-25T00:00:00\",\"2020-11-26T00:00:00\",\"2020-11-27T00:00:00\",\"2020-11-28T00:00:00\",\"2020-11-29T00:00:00\",\"2020-11-30T00:00:00\",\"2020-12-01T00:00:00\",\"2020-12-02T00:00:00\",\"2020-12-03T00:00:00\",\"2020-12-04T00:00:00\",\"2020-12-05T00:00:00\",\"2020-12-06T00:00:00\",\"2020-12-07T00:00:00\",\"2020-12-08T00:00:00\",\"2020-12-09T00:00:00\",\"2020-12-10T00:00:00\",\"2020-12-11T00:00:00\",\"2020-12-12T00:00:00\",\"2020-12-13T00:00:00\",\"2020-12-14T00:00:00\",\"2020-12-15T00:00:00\",\"2020-12-16T00:00:00\",\"2020-12-17T00:00:00\",\"2020-12-18T00:00:00\",\"2020-12-19T00:00:00\",\"2020-12-20T00:00:00\",\"2020-12-21T00:00:00\",\"2020-12-22T00:00:00\",\"2020-12-23T00:00:00\",\"2020-12-24T00:00:00\",\"2020-12-25T00:00:00\",\"2020-12-26T00:00:00\",\"2020-12-27T00:00:00\",\"2020-12-28T00:00:00\",\"2020-12-29T00:00:00\",\"2020-12-30T00:00:00\",\"2020-12-31T00:00:00\",\"2021-01-01T00:00:00\",\"2021-01-02T00:00:00\",\"2021-01-03T00:00:00\",\"2021-01-04T00:00:00\",\"2021-01-05T00:00:00\",\"2021-01-06T00:00:00\",\"2021-01-07T00:00:00\",\"2021-01-08T00:00:00\",\"2021-01-09T00:00:00\",\"2021-01-10T00:00:00\",\"2021-01-11T00:00:00\",\"2021-01-12T00:00:00\",\"2021-01-13T00:00:00\",\"2021-01-14T00:00:00\",\"2021-01-15T00:00:00\",\"2021-01-16T00:00:00\",\"2021-01-17T00:00:00\",\"2021-01-18T00:00:00\",\"2021-01-19T00:00:00\",\"2021-01-20T00:00:00\",\"2021-01-21T00:00:00\",\"2021-01-22T00:00:00\",\"2021-01-23T00:00:00\",\"2021-01-24T00:00:00\",\"2021-01-25T00:00:00\",\"2021-01-26T00:00:00\",\"2021-01-27T00:00:00\",\"2021-01-28T00:00:00\",\"2021-01-29T00:00:00\",\"2021-01-30T00:00:00\",\"2021-01-31T00:00:00\",\"2021-02-01T00:00:00\",\"2021-02-02T00:00:00\",\"2021-02-03T00:00:00\",\"2021-02-04T00:00:00\",\"2021-02-05T00:00:00\",\"2021-02-06T00:00:00\",\"2021-02-07T00:00:00\",\"2021-02-08T00:00:00\",\"2021-02-09T00:00:00\",\"2021-02-10T00:00:00\",\"2021-02-11T00:00:00\",\"2021-02-12T00:00:00\",\"2021-02-13T00:00:00\",\"2021-02-14T00:00:00\",\"2021-02-15T00:00:00\",\"2021-02-16T00:00:00\",\"2021-02-17T00:00:00\",\"2021-02-18T00:00:00\",\"2021-02-19T00:00:00\",\"2021-02-20T00:00:00\",\"2021-02-21T00:00:00\",\"2021-02-22T00:00:00\",\"2021-02-23T00:00:00\",\"2021-02-24T00:00:00\",\"2021-02-25T00:00:00\",\"2021-02-26T00:00:00\",\"2021-02-27T00:00:00\",\"2021-02-28T00:00:00\",\"2021-03-01T00:00:00\",\"2021-03-02T00:00:00\",\"2021-03-03T00:00:00\",\"2021-03-04T00:00:00\",\"2021-03-05T00:00:00\",\"2021-03-06T00:00:00\",\"2021-03-07T00:00:00\",\"2021-03-08T00:00:00\",\"2021-03-09T00:00:00\",\"2021-03-10T00:00:00\",\"2021-03-11T00:00:00\",\"2021-03-12T00:00:00\",\"2021-03-13T00:00:00\",\"2021-03-14T00:00:00\",\"2021-03-15T00:00:00\",\"2021-03-16T00:00:00\",\"2021-03-17T00:00:00\",\"2021-03-18T00:00:00\",\"2021-03-19T00:00:00\",\"2021-03-20T00:00:00\",\"2021-03-21T00:00:00\",\"2021-03-22T00:00:00\",\"2021-03-23T00:00:00\",\"2021-03-24T00:00:00\",\"2021-03-25T00:00:00\",\"2021-03-26T00:00:00\",\"2021-03-27T00:00:00\",\"2021-03-28T00:00:00\",\"2021-03-29T00:00:00\",\"2021-03-30T00:00:00\",\"2021-03-31T00:00:00\",\"2021-04-01T00:00:00\",\"2021-04-02T00:00:00\",\"2021-04-03T00:00:00\",\"2021-04-04T00:00:00\",\"2021-04-05T00:00:00\",\"2021-04-06T00:00:00\",\"2021-04-07T00:00:00\",\"2021-04-08T00:00:00\",\"2021-04-09T00:00:00\",\"2021-04-10T00:00:00\",\"2021-04-11T00:00:00\",\"2021-04-12T00:00:00\",\"2021-04-13T00:00:00\",\"2021-04-14T00:00:00\",\"2021-04-15T00:00:00\",\"2021-04-16T00:00:00\",\"2021-04-17T00:00:00\",\"2021-04-18T00:00:00\",\"2021-04-19T00:00:00\",\"2021-04-20T00:00:00\",\"2021-04-21T00:00:00\",\"2021-04-22T00:00:00\",\"2021-04-23T00:00:00\",\"2021-04-24T00:00:00\",\"2021-04-25T00:00:00\",\"2021-04-26T00:00:00\",\"2021-04-27T00:00:00\",\"2021-04-28T00:00:00\",\"2021-04-29T00:00:00\",\"2021-04-30T00:00:00\",\"2021-05-01T00:00:00\",\"2021-05-02T00:00:00\",\"2021-05-03T00:00:00\",\"2021-05-04T00:00:00\",\"2021-05-05T00:00:00\",\"2021-05-06T00:00:00\",\"2021-05-07T00:00:00\",\"2021-05-08T00:00:00\",\"2021-05-09T00:00:00\",\"2021-05-10T00:00:00\",\"2021-05-11T00:00:00\",\"2021-05-12T00:00:00\",\"2021-05-13T00:00:00\",\"2021-05-14T00:00:00\",\"2021-05-15T00:00:00\",\"2021-05-16T00:00:00\",\"2021-05-17T00:00:00\",\"2021-05-18T00:00:00\",\"2021-05-19T00:00:00\",\"2021-05-20T00:00:00\",\"2021-05-21T00:00:00\",\"2021-05-22T00:00:00\",\"2021-05-23T00:00:00\",\"2021-05-24T00:00:00\",\"2021-05-25T00:00:00\",\"2021-05-26T00:00:00\",\"2021-05-27T00:00:00\",\"2021-05-28T00:00:00\",\"2021-05-29T00:00:00\",\"2021-05-30T00:00:00\",\"2021-05-31T00:00:00\",\"2021-06-01T00:00:00\",\"2021-06-02T00:00:00\",\"2021-06-03T00:00:00\",\"2021-06-04T00:00:00\",\"2021-06-05T00:00:00\",\"2021-06-06T00:00:00\",\"2021-06-07T00:00:00\",\"2021-06-08T00:00:00\",\"2021-06-09T00:00:00\",\"2021-06-10T00:00:00\",\"2021-06-11T00:00:00\",\"2021-06-12T00:00:00\",\"2021-06-13T00:00:00\",\"2021-06-14T00:00:00\",\"2021-06-15T00:00:00\",\"2021-06-16T00:00:00\",\"2021-06-17T00:00:00\",\"2021-06-18T00:00:00\",\"2021-06-19T00:00:00\",\"2021-06-20T00:00:00\",\"2021-06-21T00:00:00\",\"2021-06-22T00:00:00\",\"2021-06-23T00:00:00\",\"2021-06-24T00:00:00\",\"2021-06-25T00:00:00\",\"2021-06-26T00:00:00\",\"2021-06-27T00:00:00\",\"2021-06-28T00:00:00\",\"2021-06-29T00:00:00\",\"2021-06-30T00:00:00\",\"2021-07-01T00:00:00\",\"2021-07-02T00:00:00\",\"2021-07-03T00:00:00\",\"2021-07-04T00:00:00\",\"2021-07-05T00:00:00\",\"2021-07-06T00:00:00\",\"2021-07-07T00:00:00\",\"2021-07-08T00:00:00\",\"2021-07-09T00:00:00\",\"2021-07-10T00:00:00\",\"2021-07-11T00:00:00\",\"2021-07-12T00:00:00\",\"2021-07-13T00:00:00\",\"2021-07-14T00:00:00\",\"2021-07-15T00:00:00\",\"2021-07-16T00:00:00\",\"2021-07-17T00:00:00\",\"2021-07-18T00:00:00\",\"2021-07-19T00:00:00\",\"2021-07-20T00:00:00\",\"2021-07-21T00:00:00\",\"2021-07-22T00:00:00\",\"2021-07-23T00:00:00\",\"2021-07-24T00:00:00\",\"2021-07-25T00:00:00\",\"2021-07-26T00:00:00\",\"2021-07-27T00:00:00\",\"2021-07-28T00:00:00\",\"2021-07-29T00:00:00\",\"2021-07-30T00:00:00\",\"2021-07-31T00:00:00\",\"2021-08-01T00:00:00\",\"2021-08-02T00:00:00\",\"2021-08-03T00:00:00\",\"2021-08-04T00:00:00\",\"2021-08-05T00:00:00\",\"2021-08-06T00:00:00\",\"2021-08-07T00:00:00\",\"2021-08-08T00:00:00\",\"2021-08-09T00:00:00\",\"2021-08-10T00:00:00\",\"2021-08-11T00:00:00\",\"2021-08-12T00:00:00\",\"2021-08-13T00:00:00\",\"2021-08-14T00:00:00\",\"2021-08-15T00:00:00\",\"2021-08-16T00:00:00\",\"2021-08-17T00:00:00\",\"2021-08-18T00:00:00\",\"2021-08-19T00:00:00\",\"2021-08-20T00:00:00\",\"2021-08-21T00:00:00\",\"2021-08-22T00:00:00\",\"2021-08-23T00:00:00\",\"2021-08-24T00:00:00\",\"2021-08-25T00:00:00\",\"2021-08-26T00:00:00\",\"2021-08-27T00:00:00\",\"2021-08-28T00:00:00\",\"2021-08-29T00:00:00\",\"2021-08-30T00:00:00\",\"2021-08-31T00:00:00\",\"2021-09-01T00:00:00\",\"2021-09-02T00:00:00\",\"2021-09-03T00:00:00\",\"2021-09-04T00:00:00\",\"2021-09-05T00:00:00\",\"2021-09-06T00:00:00\",\"2021-09-07T00:00:00\",\"2021-09-08T00:00:00\",\"2021-09-09T00:00:00\",\"2021-09-10T00:00:00\",\"2021-09-11T00:00:00\",\"2021-09-12T00:00:00\",\"2021-09-13T00:00:00\",\"2021-09-14T00:00:00\",\"2021-09-15T00:00:00\",\"2021-09-16T00:00:00\",\"2021-09-17T00:00:00\",\"2021-09-18T00:00:00\",\"2021-09-19T00:00:00\",\"2021-09-20T00:00:00\"],\"y\":[13850.176,13463.278,14747.028,15117.668,15161.1,16922.252,17124.579999999998,16133.041999999998,14955.628,14463.63,14955.334,13200.048,13842.808,14222.558333333334,13581.576666666666,13548.205000000002,11265.011666666664,11052.306666666664,11097.53,11534.586666666668,12767.276666666668,11493.339999999998,10812.288333333332,10868.538333333332,11365.185,11151.506666666668,11111.753333333336,11432.796666666669,11709.471666666665,11203.935,10041.321666666669,10161.078333333331,9126.328333333331,8864.020000000002,9159.525,8211.695,7027.5583333333325,7700.633019791668,7624.498333333332,8234.752499999999,8637.101999999999,8512.491444562,8111.088333333332,8898.281666666664,8544.340000000002,9432.796666666669,10057.618333333334,10154.351666666667,11061.53759377,10388.75,11152.35,11108.251666666663,10432.046666666669,9770.385,10116.2810989,9651.256666666666,9602.986666666666,10341.750641233331,10567.353333333334,10306.804999999997,10922.498333333331,11061.958333333336,11449.806666666664,11501.21,11347.873333333337,10741.891666666668,9874.568333333336,9323.013333333332,9289.898333333333,8774.210000000001,9542.213333333331,9070.715,9201.73,8192.551666666666,8300.803333333331,8281.558333333334,7834.0549999999985,8370.895,8565.988333333333,8921.203333333333,8897.085,8690.980000000001,8931.683333333334,8514.433333333332,8461.089999999998,8149.658333333334,7783.343333333332,7949.321666666668,7081.028333333333,6850.243333333333,6968.054999999999,6815.471666666667,7087.29,7383.753333333332,6782.208333333332,6774.463333333332,6612.686666666667,6890.010000000001,7028.246666666666,6777.995,6835.441379171666,6949.303333333332,7945.4749999999985,7873.193333333334,8044.266666666666,8354.821666666669,8066.621666666668,7879.386666666666,8166.038333333334,8281.801428571429,8864.664285714285,8897.432857142858,8778.25142857143,8940.716666666665,9645.92,8833.350719508571,9285.43166666667,8875.775,9342.464,9421.562,9233.21,9075.658,9227.264,9693.431666666664,9675.72,9826.626,9638.383333333331,9373.706666666669,9181.221666666666,9318.317142857142,8999.805714285714,8422.585714285715,8481.021425645,8680.471666666666,8670.52,8462.727142857144,8348.818571428572,8058.785714285716,8242.56833333333,8215.183360301668,8522.732,8396.025145263333,8000.882857142858,7528.535000000002,7575.431428571428,7447.023333333333,7327.7185714285715,7351.855,7115.585249047143,7468.191666666667,7363.473333333333,7489.818000000001,7524.095,7634.618333333333,7715.33857142857,7495.92757888,7629.507142857144,7661.636666666666,7682.111666666668,7617.915,7471.8499999999985,6748.814285714286,6866.628333333334,6544.607142857143,6298.9000000000015,6640.001666666666,6384.4366666666665,6492.355,6453.339999999998,6709.9114285714295,6736.583333333332,6759.835714285714,6719.777142857142,6054.406666666668,6169.941999999999,6140.703333333334,6255.07857142857,6068.202857142856,6134.078333333333,5881.901428571428,6195.952857142856,6395.827142857143,6350.6016666666665,6613.985045427144,6510.387142857142,6587.2040000000015,6531.681999999999,6604.607142857143,6767.578333333334,6702.064285714286,6653.733333333334,6303.7356601,6369.748333333334,6235.9742857142855,6218.046666666666,6255.0233333333335,6350.325714285714,6719.478571428573,7316.077142857143,7375.438333333333,7465.1,7328.557142857142,7394.175714285715,7389.543333333335,7721.494285714287,8404.622857142856,8181.40857142857,7936.0549999999985,8195.854285714286,8236.74142857143,8220.451666666666,8162.2916857300015,7736.8566666666675,7604.659999999999,7526.165,7404.292857142856,7010.667142857144,7024.526223000002,6942.192857142856,6712.450000000002,6269.98615935857,6547.623333333332,6155.395,6233.591666666667,6318.321428571428,6246.355714285715,6222.636861777143,6264.105,6307.802813051429,6564.277142857143,6386.512857142858,6486.919999999999,6256.0257142857145,6477.991428571429,6349.597142857144,6534.716666666667,6699.891428571429,6727.686666666667,6689.788571428572,6899.282857142856,7075.585,7031.590000000001,6972.543217902858,7026.721666666667,7197.183999999998,7301.679812508571,7259.848333333332,7358.94,6690.422857142857,6487.392857142857,6403.088333333332,6184.428883199998,6256.08142857143,6321.925714285714,6285.522637900001,6332.565,6495.5142857142855,6478.002479451429,6517.796666666666,6505.48,6242.83,6328.608333333334,6390.033333333333,6509.155409652856,6762.768333333333,6722.349999999999,6703.714,6569.858333333334,6430.5250000000015,6466.296666666666,6695.419999999999,6620.543333333334,6584.355,6614.658571428573,6594.105,6502.597142857144,6483.115714285714,6578.3,6612.071666666668,6573.798333333332,6597.636666666667,6641.1500000000015,6622.954999999999,6586.4940000000015,6162.994285714286,6238.261666666666,6276.868,6253.315,6593.22983125,6606.491666666666,6620.092,6524.164000000001,6463.3200000000015,6514.208000000001,6494.1866666666665,6506.498886948,6472.811666666667,6500.7730393540005,6474.286,6474.795000000001,6448.931428571428,6456.384,6289.628333333334,6300.2475,6340.718776583332,6375.876666666668,6398.622000000001,6375.105,6457.718333333332,6438.3083333333325,6482.926666666666,6539.606666666668,6436.468850612858,6373.493333333335,6390.216666666667,6426.36,6386.587218856667,6357.465,5743.556666666667,5644.73857142857,5576.814244280001,5576.401666666668,5597.317142857143,4852.613333333333,4476.376342705,4614.691666666667,4330.457142857143,4357.8,3862.651428571429,4019.22,3772.461428571428,3836.86,4255.667142857143,4281.883333333334,4003.9066666666663,4173.327965551428,4143.53,3862.0483333333336,3925.1,3731.813333333334,3483.118333333334,3397.292857142857,3411.23,3557.251666666666,3425.628571428572,3360.6900000000005,3453.957142857143,3283.772857142857,3214.098333333333,3212.388333333334,3220.7092066900004,3525.0916666666667,3695.575714285714,3689.395,4073.181428571429,3870.0,4005.5414285714287,3963.1083333333336,4049.526666666666,3777.35,3813.126666666667,3601.6083333333336,3899.888571428572,3751.49,3838.588571428572,3715.408333333333,3844.538333333333,3906.5916666666662,3788.84,3834.165,3806.0,4055.323333333333,4014.111666666666,3999.401666666666,4004.228333333333,3613.9971428571416,3629.182857142857,3615.518333333333,3515.0260000000007,3664.865246768333,3578.0628455983333,3615.23,3648.158333333333,3624.201853466666,3685.8783333333336,3548.808333333334,3539.412,3583.588333333333,3564.256850941667,3584.655,3574.8416666666667,3572.272,3545.07261013,3446.0673143333333,3415.558,3447.6475,3437.8874643300005,3462.44763188,3498.46,3445.3683333333333,3436.630000000001,3460.748571428572,3388.618150365714,3389.436,3651.7216666666654,3648.718571428571,3674.3388630716654,3618.721666666667,3625.760890422,3607.666700464,3585.9933333333333,3597.098333333333,3608.953333333333,3658.493333333334,3898.96882981,3912.8716666666655,3968.67296821,3929.488333333333,3963.545,4130.113333333334,3758.058333333333,3839.938333333334,3816.461666666666,3823.243333333333,3821.752,3827.074342093333,3832.608571428572,3810.928333333333,3721.44,3865.623333333333,3875.305,3876.9985714285713,3860.071666666666,3934.478333333333,3927.724,3873.8,3886.072374605,3867.845714285714,3879.868333333333,3931.616,4008.257142857143,3988.055,3976.811666666666,4021.413333333333,4051.34591781,3986.66,3993.055,3998.491666666667,3988.131666666666,3929.0483333333336,3937.43,4034.9593246833338,4033.23,4110.406666666667,4115.442,4108.866706598333,4146.641428571428,4895.067117671429,4952.301666666666,4920.898571428572,5023.633687416667,5050.348333333333,5181.588333333334,5265.81,5174.644285714286,5322.967142857145,5034.895,5071.815,5061.737972657144,5160.62292359,5026.398571428572,5202.3133333333335,5218.51237562375,5273.739999999999,5281.2642857142855,5306.331428571429,5283.421428571428,5379.652857142857,5526.032857142856,5430.255714285714,5172.43,5260.717142857143,5271.513333333333,5263.817142857143,5231.443749999999,5339.8,5415.326000000001,5469.688750000001,5762.339999999998,5851.298333333332,5796.238333333334,5768.552857142857,5766.07625,6001.5028571428575,6187.29,6376.362857142856,7219.82,6957.045714285715,7797.394285714286,8005.612857142858,8158.995,7873.01,7390.074285714285,7270.712857142857,8148.34142857143,7991.870000000001,7938.79,7624.159999999999,7865.725714285714,7986.6557142857155,8051.201428571429,8711.576403357143,8776.861428571428,8697.632857142857,8644.05515337875,8289.108571428571,8549.902857142857,8543.284571504286,8734.61,8029.8287500000015,7694.715714285713,7761.5085714285715,7819.224285714285,7983.821428571429,7929.604285714287,7611.6124901971425,8024.21,7907.197142857142,8138.734285714286,8242.928571428572,8681.92142857143,8839.974285714285,8990.198571428571,9338.604285714286,9105.555524242856,9287.41375,9540.17,10159.815,10689.382857142857,10809.14253875,11053.9075,11750.5425,12928.593749999998,11164.658571428572,12330.057142857144,11930.09625,10824.018571428573,10598.837142857144,10951.9575,12001.732857142855,11106.97063825,11030.15285714286,11130.57875,11466.69,12280.832857142856,12534.844285714284,12046.9898150475,11297.01125,11804.448654631433,11409.167142857144,10198.718333333332,10872.25,9481.378571428571,9676.101428571428,10658.125714285712,10546.797142857144,10729.691428571428,10630.604285714286,10303.910000000002,9833.655714285716,9743.315,9878.705714285714,9828.623289791429,9468.15,9547.194285714286,9513.457142857142,9569.516666666668,10101.971428571427,10404.19,10527.584285714283,10813.829842335716,10974.705126857143,11791.642857142857,11440.732857142855,12013.04,12032.3625,11905.631117459998,11285.03,11539.364332542857,11391.339999999998,10870.882857142857,10128.82625,10285.54625,10365.2625,10230.521428571428,10308.871428571429,10949.715714285714,10785.117142857143,10150.08953557143,10083.32375,10403.155714285716,10149.84232616,10165.562857142855,10380.142857142857,10161.888571428572,9712.56,9502.329999999998,9577.242857142855,9596.672857142856,9760.445714285715,10396.046089234283,10616.36,10564.749642857145,10573.89857142857,10314.022857142858,10489.857142857143,10394.899999999998,10303.905714285716,10093.733403,10179.76,10430.222857142857,10356.708571428571,10354.17857142857,10307.828333333331,10268.075714285716,10190.262160714285,10156.1625,10288.45259721125,10174.663351845713,9999.123306994285,10048.909212337145,9680.737142857144,8576.134999999998,8427.024285714286,8081.687142857142,8193.922857142858,8231.278571428571,8058.59142857143,8294.555,8321.139887845715,8399.757500000003,8239.241428571428,8149.248571428572,8162.522857142856,7866.435714285712,8220.72107976875,8184.411428571429,8598.318955809998,8584.572857142857,8269.237142857142,8301.354285714286,8271.185714285715,8367.785714285717,8161.221477999998,7996.841666666666,8074.046666666666,7958.917917906668,7960.206666666666,8229.561779096666,8207.971666666666,8015.495714285716,7469.931428571428,7433.2471428571425,8712.96375,9263.922857142858,9567.94125,9227.28,9423.374285714284,9169.360033764284,9146.43,9268.534285714286,9324.60851151857,9212.747142857144,9406.094285714284,9314.854339631427,9330.58957899,9208.41,8770.252857142856,8799.66142857143,9052.122857142856,8719.174285714285,8829.061249999999,8781.788571428571,8638.50285758,8472.818333333335,8493.525714285715,8499.224285714286,8178.654627714286,8132.035895306667,8093.691428571428,7630.871428571429,7285.972857142857,7336.04857142857,6922.329339011251,7134.780089000001,7155.311351800001,7537.59142857143,7422.978571428571,7744.494912308571,7552.902857142856,7419.954285714286,7317.805714285714,7300.006666666667,7184.865,7389.300638342856,7558.90857142857,7500.544285714284,7521.691730752856,7336.03,7225.50142857143,7263.805,7203.65,7257.084285714286,7062.7528571428575,7125.294678075,6892.138571428573,6630.021249999999,7318.656120150001,7157.4,7189.741428571429,7135.962857142857,7560.652499999998,7318.937142857144,7264.949668097142,7202.522857142858,7202.178571428572,7254.018571428571,7309.849540571428,7377.722857142857,7203.45375,7176.2,7187.028571428572,6957.141428571428,7340.8657142857155,7368.65857142857,7350.75142857143,7780.555714285714,8177.521428571429,8025.125,7818.328425828572,8178.862857142856,7983.69625,8189.145714285716,8112.155,8748.6,8831.210000000001,8728.51375,8871.811249999999,8904.764285714287,8721.285897785714,8639.28,8737.34,8673.796666666667,8395.81,8427.308571428572,8319.70637994,8633.52737929375,8912.622923352856,9397.54,9274.95,9494.225,9354.561428571427,9378.75142857143,9318.61,9293.947668521429,9177.368571428571,9623.37125,9761.617142857143,9799.172857142858,9900.048571428571,10173.275,9859.012857142856,10266.46625,10329.842857142856,10237.27,10364.314285714288,9902.195714285715,9917.129643032498,9692.21,10194.58857142857,9582.574285714283,9597.978571428572,9677.755714285717,9658.208571428571,9955.404285714289,9666.614285714286,9321.465,8777.102499999999,8795.72015978875,8722.617142857142,8554.41375,8515.376250000001,8911.544371741249,8773.279999999999,8773.46625,9054.83875,9151.962857142858,8877.393750000001,8090.863749999998,7950.1425,7874.21875,7959.322857142856,4993.935,5569.55,5178.771428571429,5288.168571428571,5043.70125,5365.1637500000015,5444.9937500000015,6218.17625,6197.043750000002,6164.8328571428565,5802.4225,6547.12875,6695.065,6739.85375,6759.65,6272.0275,6270.748571428572,5899.785000000002,6399.317142857143,6427.268062886251,6732.0875000000015,6793.13451721375,6727.804618532857,6883.419999999999,6779.923750000001,7327.262500000002,7209.7185714285715,7338.69625,7292.172857142857,6884.1025,6887.6285714285705,6884.462499999999,6867.322499999998,6830.079999999999,6534.821250000001,7120.39773716375,7054.97125,7263.1943652671425,7119.231428571429,6838.6214285714295,6845.924407714288,7142.755,7502.24,7502.312046071428,7530.5999999999985,7730.65125,7766.12155518,7765.9000000000015,8763.78125,8660.1821018925,8781.47125,8982.34,8918.724285714285,8899.147142857142,9024.89875,9084.506434763747,9978.707791115,9773.12,9553.1125,8770.58,8564.591250000001,8807.11875,9339.192570491248,9839.12071278,9325.445000000003,9350.56,9701.97,9700.868571428571,9766.953590475,9489.532857142856,9047.615,9171.842857142858,9164.245,8697.468750000002,8887.912857142857,8840.175,9191.865000000002,9596.899382552858,9422.8475,9682.12732090625,9438.654285714289,10177.06875,9507.337955781428,9667.432656357145,9801.97,9586.56875,9662.468571428572,9762.655714285716,9839.23625,9772.080711707142,9893.4171407025,9256.15857142857,9469.474285714285,9469.551428571427,9327.574285714289,9435.527142857143,9529.64,9462.921794685712,9376.608571428573,9307.411840505714,9366.225714285716,9278.4475,9705.598571428573,9624.021428571428,9280.641428571427,9238.03357717,9150.9527378575,9004.197659582858,9121.941428571428,9192.274813674285,9121.642857142857,9231.202857142858,9081.696342025714,9049.824285714289,9137.576666666666,9082.521428571428,9336.327730285711,9263.378571428571,9437.21,9235.315215426665,9298.452857142856,9237.61,9318.237142857142,9233.430061915711,9257.905714285716,9201.27,9137.702857142856,9152.551428571427,9173.792857142857,9219.9,9161.535,9390.587142857144,9529.953199476666,9609.794736545711,9547.63,9696.596709434289,9935.7198044075,11115.39,10948.021428571428,11079.498314734286,11134.331428571428,11386.972857142857,11806.785714285714,11046.619938664287,11241.361428571428,11200.111428571428,11755.482787434285,11755.268571428573,11579.8359850175,11776.45857142857,11692.302200135717,11895.39,11389.028571428573,11552.191428571428,11816.73375,11787.351129285713,11856.243361971428,11929.1075,12323.778512571427,11976.984285714285,11767.252857142856,11859.252857142856,11537.264285714287,11675.859789238571,11648.751428571428,11758.205714285712,11317.694285714284,11455.33493896,11338.272643574288,11536.792857142857,11468.867142857143,11701.093943295711,11672.190174857142,11928.2750607425,11381.468540557142,10218.8335365875,10462.975714285714,10147.9136518,10251.79100114286,10395.965022134284,10128.807665946666,10229.701531865716,10360.344736134286,10394.79,10434.688045751427,10326.064285714285,10680.748356612856,10789.1,10939.6075,10946.781425911666,10944.877142857144,11073.434285714287,10909.52047857,10415.24625,10529.451428571429,10236.375,10740.7925,10692.396485828573,10732.829808719998,10867.80875,10677.391261395,10846.871740285716,10799.124285714284,10602.387142857144,10576.851466285714,10532.256826,10662.292980751428,10798.427142857145,10596.138571428572,10672.126792172858,10931.18818340143,11058.657677903331,11303.25656,11368.78064412857,11533.93714285714,11425.679999999997,11420.204518857145,11495.64857142857,11326.942446825717,11358.80582936,11522.59,11754.15285714286,11906.61,12838.14412429,12961.08767625,12932.506884571429,13111.145,13032.464285714286,13059.047142857142,13617.21833333333,13276.27899418286,13443.800150538573,13568.674285714284,13741.11073,13791.72179832,13564.261428571428,14027.042857142858,14150.20857142857,15603.2247695675,15575.88282195,14792.846488965715,15502.27,15309.545714285716,15322.4970113075,15706.602857142856,16336.77875,16328.53,16074.82379355,15929.63589306286,16704.50142857143,17652.52,17810.245,17832.925,18685.49878537625,18669.53527189857,18459.611031405715,18343.077142857142,19131.9875,18688.571428571428,17180.950219738752,17166.34285714286,17739.787142857145,18218.804285714286,19658.71962105,18724.989003125,19282.87625,19401.255,18657.614285714284,19153.09384257143,19380.656676355,19186.028795498565,18332.30625,18531.7875,18283.558571428573,18090.11625,18851.36571428572,19123.75428571429,19292.4825,19452.983624571432,21378.9,22768.97461896,23157.7434305225,23766.4425,23389.85625,22780.88,23835.04125,23191.007142857143,23753.53857142857,24764.13285714286,26518.967142857146,26301.60125,26975.18625,27435.745000000006,28871.285,29032.3875,29306.98571428572,32206.65142857143,32915.57625000001,32123.22,34091.1,36891.55073339143,39396.28625,40675.49,40319.71571428572,38081.40714285714,35391.775714285715,33898.29952925,37675.95,39039.57125,37010.01375000001,35871.37857142857,35918.002499999995,36895.18625000001,35729.70375,35581.81571428572,30569.605,32752.772857142845,31945.802857142862,32238.27177147714,31898.97125,32443.31074063375,30612.99875,33514.56857142857,34565.21571428572,34089.171428571426,33068.97714285714,33478.508571428574,35480.87571428572,37762.00285714286,37135.25375,38240.45,38954.98285714286,38857.10026125143,46611.03,46538.621428571416,45024.73428571429,48144.72714285714,47396.0,47297.95285714285,48758.73714285715,47846.85428571429,49305.02285714285,52262.678571428565,51684.43428571429,56145.63428571428,55753.15571428571,57429.62142857142,53909.56,49089.05594833999,49892.27571428572,46755.5375,46263.41000000001,45809.24875000001,45406.39000000001,49661.485714285714,48381.402857142864,50193.01,48168.79564546,48832.00714285715,49066.70256478285,51044.99714285714,52502.045714285705,55020.36291758,55896.375714285714,57925.75714285715,56981.30857142858,60999.43285714286,59040.31000000001,55330.99142857143,57131.468571428566,59192.63857142857,57530.61,57902.11875,57932.62250000001,57354.35142857144,54128.38428571429,54410.68142857144,52214.30875,51449.30142857144,55337.05125,55932.56142857143,55858.38571428572,57485.137023225,58735.91700385714,58838.188571428575,58766.92714285715,59025.11571428571,56680.8325,58269.0924632,59275.07428571429,58007.004139714285,55976.94714285714,58135.14000000001,58143.15,59870.905,60314.77375,59857.54285714285,63676.67142857143,63355.735714285714,63266.40000000001,61463.51166666668,60199.63,56346.577142857146,55699.99285714285,56523.92142682,53965.16428571429,51782.68875,51172.74,50133.2,49223.80125000001,54003.315008528574,55103.73142857144,54942.73135765428,53522.64428571429,57566.82714285714,57757.357142857145,56671.42714285715,57050.08,53014.72,57400.79,56416.00142857143,57259.621054711424,58965.79428571429,58370.82023995714,55997.651216668586,56605.222857142864,47764.98387449,49588.640747248566,49838.107142857145,46906.89507628125,46623.295,43646.78468531858,42727.22625,36995.37625,40899.08680147002,37582.32571428572,37051.22125,35222.952052643755,38630.08794993714,38288.13,39116.33515182,38236.667142857135,35858.29571428571,34521.02285714286,35444.183750000004,37205.652857142864,36858.22714285715,37485.31120159715,39192.56857142857,36720.65456584286,35608.820000000014,35863.35156985857,33817.02857142857,33533.56,37309.97857142857,36418.795,37301.120120098574,35555.39714285714,39108.288571428566,40608.28142857144,40046.14571428571,38426.72385612287,38047.707142857136,35690.810000000005,35424.65142857143,35535.944285714286,31519.494140107134,32612.10386369,33781.92083048125,34656.58397622857,31482.802857142862,32177.37571428572,34675.88285714285,34441.63285714285,35889.640484094285,35000.718571428566,33473.402857142864,33853.96428571428,34661.42,35081.368571428575,33750.689999999995,34186.62875,33898.73857142857,32869.26567933428,33798.28571428572,33555.23142857143,34202.672857142854,33047.94,32730.342857142863,32830.59428571429,31841.031428571438,31407.76714285713,31492.5275,31701.11571428572,30848.15984223572,29840.225714285712,32015.385714285712,32323.1,33571.49658209,34224.98,35327.90857142857,37274.38571428572,39413.70285714285,40063.084285714285,39913.750000000015,42101.11811653856,41295.75142857143,39946.375714285714,39095.724285714285,38290.75094141857,39683.805714285714,40838.82857142858,42801.90285714285,44475.035714285725,43865.25142857143,46180.02999999999,45521.97714285714,45505.44249999999,44442.982832485,47754.05428571429,47168.65428571428,47113.74571428573,45884.27428571428,44775.96,44767.038571428566,46708.49571428571,49276.19,48817.72714285715,49335.058234048585,49491.91428571428,47810.0875,49014.1266885325,46878.9475,49039.99285714285,48930.01857142856,48845.555714285714,46959.26285714285,47070.90571428571,48896.00714285714,49300.514285714286,49917.12672549125,49898.67875,51732.43327457144,52643.86,46760.94142857144,46037.32857142858,46438.1237810675,44955.33625,45125.428571428565,46044.92142857142,44934.62285714286,47166.777142857136,48135.6,47749.89625000001,47350.22142857144,48271.05625,47313.35142857144],\"type\":\"scatter\"}],                        {\"title\":{\"text\":\"Actual vs. 'In-Sample' Forecast | Close\"},\"xaxis\":{\"title\":{\"text\":\"Time\"}},\"yaxis\":{\"title\":{\"text\":\"Values\"}},\"template\":{\"data\":{\"barpolar\":[{\"marker\":{\"line\":{\"color\":\"rgb(237,237,237)\",\"width\":0.5},\"pattern\":{\"fillmode\":\"overlay\",\"size\":10,\"solidity\":0.2}},\"type\":\"barpolar\"}],\"bar\":[{\"error_x\":{\"color\":\"rgb(51,51,51)\"},\"error_y\":{\"color\":\"rgb(51,51,51)\"},\"marker\":{\"line\":{\"color\":\"rgb(237,237,237)\",\"width\":0.5},\"pattern\":{\"fillmode\":\"overlay\",\"size\":10,\"solidity\":0.2}},\"type\":\"bar\"}],\"carpet\":[{\"aaxis\":{\"endlinecolor\":\"rgb(51,51,51)\",\"gridcolor\":\"white\",\"linecolor\":\"white\",\"minorgridcolor\":\"white\",\"startlinecolor\":\"rgb(51,51,51)\"},\"baxis\":{\"endlinecolor\":\"rgb(51,51,51)\",\"gridcolor\":\"white\",\"linecolor\":\"white\",\"minorgridcolor\":\"white\",\"startlinecolor\":\"rgb(51,51,51)\"},\"type\":\"carpet\"}],\"choropleth\":[{\"colorbar\":{\"outlinewidth\":0,\"tickcolor\":\"rgb(237,237,237)\",\"ticklen\":6,\"ticks\":\"inside\"},\"type\":\"choropleth\"}],\"contourcarpet\":[{\"colorbar\":{\"outlinewidth\":0,\"tickcolor\":\"rgb(237,237,237)\",\"ticklen\":6,\"ticks\":\"inside\"},\"type\":\"contourcarpet\"}],\"contour\":[{\"colorbar\":{\"outlinewidth\":0,\"tickcolor\":\"rgb(237,237,237)\",\"ticklen\":6,\"ticks\":\"inside\"},\"colorscale\":[[0,\"rgb(20,44,66)\"],[1,\"rgb(90,179,244)\"]],\"type\":\"contour\"}],\"heatmapgl\":[{\"colorbar\":{\"outlinewidth\":0,\"tickcolor\":\"rgb(237,237,237)\",\"ticklen\":6,\"ticks\":\"inside\"},\"colorscale\":[[0,\"rgb(20,44,66)\"],[1,\"rgb(90,179,244)\"]],\"type\":\"heatmapgl\"}],\"heatmap\":[{\"colorbar\":{\"outlinewidth\":0,\"tickcolor\":\"rgb(237,237,237)\",\"ticklen\":6,\"ticks\":\"inside\"},\"colorscale\":[[0,\"rgb(20,44,66)\"],[1,\"rgb(90,179,244)\"]],\"type\":\"heatmap\"}],\"histogram2dcontour\":[{\"colorbar\":{\"outlinewidth\":0,\"tickcolor\":\"rgb(237,237,237)\",\"ticklen\":6,\"ticks\":\"inside\"},\"colorscale\":[[0,\"rgb(20,44,66)\"],[1,\"rgb(90,179,244)\"]],\"type\":\"histogram2dcontour\"}],\"histogram2d\":[{\"colorbar\":{\"outlinewidth\":0,\"tickcolor\":\"rgb(237,237,237)\",\"ticklen\":6,\"ticks\":\"inside\"},\"colorscale\":[[0,\"rgb(20,44,66)\"],[1,\"rgb(90,179,244)\"]],\"type\":\"histogram2d\"}],\"histogram\":[{\"marker\":{\"pattern\":{\"fillmode\":\"overlay\",\"size\":10,\"solidity\":0.2}},\"type\":\"histogram\"}],\"mesh3d\":[{\"colorbar\":{\"outlinewidth\":0,\"tickcolor\":\"rgb(237,237,237)\",\"ticklen\":6,\"ticks\":\"inside\"},\"type\":\"mesh3d\"}],\"parcoords\":[{\"line\":{\"colorbar\":{\"outlinewidth\":0,\"tickcolor\":\"rgb(237,237,237)\",\"ticklen\":6,\"ticks\":\"inside\"}},\"type\":\"parcoords\"}],\"pie\":[{\"automargin\":true,\"type\":\"pie\"}],\"scatter3d\":[{\"line\":{\"colorbar\":{\"outlinewidth\":0,\"tickcolor\":\"rgb(237,237,237)\",\"ticklen\":6,\"ticks\":\"inside\"}},\"marker\":{\"colorbar\":{\"outlinewidth\":0,\"tickcolor\":\"rgb(237,237,237)\",\"ticklen\":6,\"ticks\":\"inside\"}},\"type\":\"scatter3d\"}],\"scattercarpet\":[{\"marker\":{\"colorbar\":{\"outlinewidth\":0,\"tickcolor\":\"rgb(237,237,237)\",\"ticklen\":6,\"ticks\":\"inside\"}},\"type\":\"scattercarpet\"}],\"scattergeo\":[{\"marker\":{\"colorbar\":{\"outlinewidth\":0,\"tickcolor\":\"rgb(237,237,237)\",\"ticklen\":6,\"ticks\":\"inside\"}},\"type\":\"scattergeo\"}],\"scattergl\":[{\"marker\":{\"colorbar\":{\"outlinewidth\":0,\"tickcolor\":\"rgb(237,237,237)\",\"ticklen\":6,\"ticks\":\"inside\"}},\"type\":\"scattergl\"}],\"scattermapbox\":[{\"marker\":{\"colorbar\":{\"outlinewidth\":0,\"tickcolor\":\"rgb(237,237,237)\",\"ticklen\":6,\"ticks\":\"inside\"}},\"type\":\"scattermapbox\"}],\"scatterpolargl\":[{\"marker\":{\"colorbar\":{\"outlinewidth\":0,\"tickcolor\":\"rgb(237,237,237)\",\"ticklen\":6,\"ticks\":\"inside\"}},\"type\":\"scatterpolargl\"}],\"scatterpolar\":[{\"marker\":{\"colorbar\":{\"outlinewidth\":0,\"tickcolor\":\"rgb(237,237,237)\",\"ticklen\":6,\"ticks\":\"inside\"}},\"type\":\"scatterpolar\"}],\"scatter\":[{\"marker\":{\"colorbar\":{\"outlinewidth\":0,\"tickcolor\":\"rgb(237,237,237)\",\"ticklen\":6,\"ticks\":\"inside\"}},\"type\":\"scatter\"}],\"scatterternary\":[{\"marker\":{\"colorbar\":{\"outlinewidth\":0,\"tickcolor\":\"rgb(237,237,237)\",\"ticklen\":6,\"ticks\":\"inside\"}},\"type\":\"scatterternary\"}],\"surface\":[{\"colorbar\":{\"outlinewidth\":0,\"tickcolor\":\"rgb(237,237,237)\",\"ticklen\":6,\"ticks\":\"inside\"},\"colorscale\":[[0,\"rgb(20,44,66)\"],[1,\"rgb(90,179,244)\"]],\"type\":\"surface\"}],\"table\":[{\"cells\":{\"fill\":{\"color\":\"rgb(237,237,237)\"},\"line\":{\"color\":\"white\"}},\"header\":{\"fill\":{\"color\":\"rgb(217,217,217)\"},\"line\":{\"color\":\"white\"}},\"type\":\"table\"}]},\"layout\":{\"annotationdefaults\":{\"arrowhead\":0,\"arrowwidth\":1},\"autotypenumbers\":\"strict\",\"coloraxis\":{\"colorbar\":{\"outlinewidth\":0,\"tickcolor\":\"rgb(237,237,237)\",\"ticklen\":6,\"ticks\":\"inside\"}},\"colorscale\":{\"sequential\":[[0,\"rgb(20,44,66)\"],[1,\"rgb(90,179,244)\"]],\"sequentialminus\":[[0,\"rgb(20,44,66)\"],[1,\"rgb(90,179,244)\"]]},\"colorway\":[\"#F8766D\",\"#A3A500\",\"#00BF7D\",\"#00B0F6\",\"#E76BF3\"],\"font\":{\"color\":\"rgb(51,51,51)\"},\"geo\":{\"bgcolor\":\"white\",\"lakecolor\":\"white\",\"landcolor\":\"rgb(237,237,237)\",\"showlakes\":true,\"showland\":true,\"subunitcolor\":\"white\"},\"hoverlabel\":{\"align\":\"left\"},\"hovermode\":\"closest\",\"paper_bgcolor\":\"white\",\"plot_bgcolor\":\"rgb(237,237,237)\",\"polar\":{\"angularaxis\":{\"gridcolor\":\"white\",\"linecolor\":\"white\",\"showgrid\":true,\"tickcolor\":\"rgb(51,51,51)\",\"ticks\":\"outside\"},\"bgcolor\":\"rgb(237,237,237)\",\"radialaxis\":{\"gridcolor\":\"white\",\"linecolor\":\"white\",\"showgrid\":true,\"tickcolor\":\"rgb(51,51,51)\",\"ticks\":\"outside\"}},\"scene\":{\"xaxis\":{\"backgroundcolor\":\"rgb(237,237,237)\",\"gridcolor\":\"white\",\"gridwidth\":2,\"linecolor\":\"white\",\"showbackground\":true,\"showgrid\":true,\"tickcolor\":\"rgb(51,51,51)\",\"ticks\":\"outside\",\"zerolinecolor\":\"white\"},\"yaxis\":{\"backgroundcolor\":\"rgb(237,237,237)\",\"gridcolor\":\"white\",\"gridwidth\":2,\"linecolor\":\"white\",\"showbackground\":true,\"showgrid\":true,\"tickcolor\":\"rgb(51,51,51)\",\"ticks\":\"outside\",\"zerolinecolor\":\"white\"},\"zaxis\":{\"backgroundcolor\":\"rgb(237,237,237)\",\"gridcolor\":\"white\",\"gridwidth\":2,\"linecolor\":\"white\",\"showbackground\":true,\"showgrid\":true,\"tickcolor\":\"rgb(51,51,51)\",\"ticks\":\"outside\",\"zerolinecolor\":\"white\"}},\"shapedefaults\":{\"fillcolor\":\"black\",\"line\":{\"width\":0},\"opacity\":0.3},\"ternary\":{\"aaxis\":{\"gridcolor\":\"white\",\"linecolor\":\"white\",\"showgrid\":true,\"tickcolor\":\"rgb(51,51,51)\",\"ticks\":\"outside\"},\"baxis\":{\"gridcolor\":\"white\",\"linecolor\":\"white\",\"showgrid\":true,\"tickcolor\":\"rgb(51,51,51)\",\"ticks\":\"outside\"},\"bgcolor\":\"rgb(237,237,237)\",\"caxis\":{\"gridcolor\":\"white\",\"linecolor\":\"white\",\"showgrid\":true,\"tickcolor\":\"rgb(51,51,51)\",\"ticks\":\"outside\"}},\"xaxis\":{\"automargin\":true,\"gridcolor\":\"white\",\"linecolor\":\"white\",\"showgrid\":true,\"tickcolor\":\"rgb(51,51,51)\",\"ticks\":\"outside\",\"title\":{\"standoff\":15},\"zerolinecolor\":\"white\"},\"yaxis\":{\"automargin\":true,\"gridcolor\":\"white\",\"linecolor\":\"white\",\"showgrid\":true,\"tickcolor\":\"rgb(51,51,51)\",\"ticks\":\"outside\",\"title\":{\"standoff\":15},\"zerolinecolor\":\"white\"}}},\"showlegend\":true},                        {\"responsive\": true}                    ).then(function(){\n",
       "                            \n",
       "var gd = document.getElementById('753a6cd1-00cf-435e-a8ee-eae5c3f9eadb');\n",
       "var x = new MutationObserver(function (mutations, observer) {{\n",
       "        var display = window.getComputedStyle(gd).display;\n",
       "        if (!display || display === 'none') {{\n",
       "            console.log([gd, 'removed!']);\n",
       "            Plotly.purge(gd);\n",
       "            observer.disconnect();\n",
       "        }}\n",
       "}});\n",
       "\n",
       "// Listen for the removal of the full notebook cells\n",
       "var notebookContainer = gd.closest('#notebook-container');\n",
       "if (notebookContainer) {{\n",
       "    x.observe(notebookContainer, {childList: true});\n",
       "}}\n",
       "\n",
       "// Listen for the clearing of the current output cell\n",
       "var outputEl = gd.closest('.output');\n",
       "if (outputEl) {{\n",
       "    x.observe(outputEl, {childList: true});\n",
       "}}\n",
       "\n",
       "                        })                };                });            </script>        </div>"
      ]
     },
     "metadata": {},
     "output_type": "display_data"
    }
   ],
   "source": [
    "plot_model(best_model, plot='insample')"
   ]
  },
  {
   "cell_type": "code",
   "execution_count": 23,
   "id": "9ac30733",
   "metadata": {
    "execution": {
     "iopub.execute_input": "2021-12-11T03:40:35.475864Z",
     "iopub.status.busy": "2021-12-11T03:40:35.475140Z",
     "iopub.status.idle": "2021-12-11T03:40:35.774114Z",
     "shell.execute_reply": "2021-12-11T03:40:35.774670Z",
     "shell.execute_reply.started": "2021-12-11T03:24:25.826836Z"
    },
    "papermill": {
     "duration": 0.4451,
     "end_time": "2021-12-11T03:40:35.774848",
     "exception": false,
     "start_time": "2021-12-11T03:40:35.329748",
     "status": "completed"
    },
    "tags": []
   },
   "outputs": [
    {
     "data": {
      "text/html": [
       "<div>                            <div id=\"032db9a5-e425-44c1-bb73-5a18a06fe624\" class=\"plotly-graph-div\" style=\"height:525px; width:100%;\"></div>            <script type=\"text/javascript\">                require([\"plotly\"], function(Plotly) {                    window.PLOTLYENV=window.PLOTLYENV || {};                                    if (document.getElementById(\"032db9a5-e425-44c1-bb73-5a18a06fe624\")) {                    Plotly.newPlot(                        \"032db9a5-e425-44c1-bb73-5a18a06fe624\",                        [{\"line\":{\"color\":\"#1f77b4\"},\"marker\":{\"size\":5},\"mode\":\"lines+markers\",\"name\":\"Forecast | ARIMA\",\"showlegend\":true,\"x\":[\"2021-09-09T00:00:00\",\"2021-09-10T00:00:00\",\"2021-09-11T00:00:00\",\"2021-09-12T00:00:00\",\"2021-09-13T00:00:00\",\"2021-09-14T00:00:00\",\"2021-09-15T00:00:00\",\"2021-09-16T00:00:00\",\"2021-09-17T00:00:00\",\"2021-09-18T00:00:00\",\"2021-09-19T00:00:00\",\"2021-09-20T00:00:00\",\"2021-09-21T00:00:00\",\"2021-09-22T00:00:00\",\"2021-09-23T00:00:00\",\"2021-09-24T00:00:00\",\"2021-09-25T00:00:00\",\"2021-09-26T00:00:00\",\"2021-09-27T00:00:00\",\"2021-09-28T00:00:00\",\"2021-09-29T00:00:00\",\"2021-09-30T00:00:00\",\"2021-10-01T00:00:00\",\"2021-10-02T00:00:00\",\"2021-10-03T00:00:00\",\"2021-10-04T00:00:00\",\"2021-10-05T00:00:00\",\"2021-10-06T00:00:00\",\"2021-10-07T00:00:00\",\"2021-10-08T00:00:00\",\"2021-10-09T00:00:00\",\"2021-10-10T00:00:00\",\"2021-10-11T00:00:00\",\"2021-10-12T00:00:00\",\"2021-10-13T00:00:00\",\"2021-10-14T00:00:00\",\"2021-10-15T00:00:00\",\"2021-10-16T00:00:00\",\"2021-10-17T00:00:00\",\"2021-10-18T00:00:00\",\"2021-10-19T00:00:00\",\"2021-10-20T00:00:00\",\"2021-10-21T00:00:00\",\"2021-10-22T00:00:00\",\"2021-10-23T00:00:00\",\"2021-10-24T00:00:00\",\"2021-10-25T00:00:00\",\"2021-10-26T00:00:00\",\"2021-10-27T00:00:00\",\"2021-10-28T00:00:00\",\"2021-10-29T00:00:00\",\"2021-10-30T00:00:00\",\"2021-10-31T00:00:00\",\"2021-11-01T00:00:00\",\"2021-11-02T00:00:00\",\"2021-11-03T00:00:00\",\"2021-11-04T00:00:00\",\"2021-11-05T00:00:00\",\"2021-11-06T00:00:00\",\"2021-11-07T00:00:00\",\"2021-11-08T00:00:00\",\"2021-11-09T00:00:00\",\"2021-11-10T00:00:00\",\"2021-11-11T00:00:00\",\"2021-11-12T00:00:00\",\"2021-11-13T00:00:00\",\"2021-11-14T00:00:00\",\"2021-11-15T00:00:00\",\"2021-11-16T00:00:00\",\"2021-11-17T00:00:00\",\"2021-11-18T00:00:00\",\"2021-11-19T00:00:00\",\"2021-11-20T00:00:00\",\"2021-11-21T00:00:00\",\"2021-11-22T00:00:00\",\"2021-11-23T00:00:00\",\"2021-11-24T00:00:00\",\"2021-11-25T00:00:00\",\"2021-11-26T00:00:00\",\"2021-11-27T00:00:00\",\"2021-11-28T00:00:00\",\"2021-11-29T00:00:00\",\"2021-11-30T00:00:00\",\"2021-12-01T00:00:00\",\"2021-12-02T00:00:00\",\"2021-12-03T00:00:00\",\"2021-12-04T00:00:00\",\"2021-12-05T00:00:00\",\"2021-12-06T00:00:00\",\"2021-12-07T00:00:00\",\"2021-12-08T00:00:00\",\"2021-12-09T00:00:00\",\"2021-12-10T00:00:00\",\"2021-12-11T00:00:00\",\"2021-12-12T00:00:00\",\"2021-12-13T00:00:00\",\"2021-12-14T00:00:00\",\"2021-12-15T00:00:00\",\"2021-12-16T00:00:00\",\"2021-12-17T00:00:00\"],\"y\":[48658.2856,49123.2203,49790.3775,49814.2078,51683.3261,52624.3329,46766.1567,48684.1966,49166.4424,49848.0794,49884.0215,51763.2706,52712.7514,46861.6633,48785.632,49272.837,49958.6222,49998.0339,51880.1853,52832.0937,46983.0362,48908.7034,49397.329,50084.3026,50124.7083,52007.6911,52960.295,47111.8191,49037.9729,49527.0055,50214.3195,50255.01,52138.231,53091.0341,47242.7249,49169.0181,49658.1673,50345.5788,50386.3508,52269.6401,53222.5002,47374.2387,49300.5719,49789.7545,50477.1939,50517.9893,52401.2981,53354.1747,47505.9268,49432.2714,49921.4636,50608.911,50649.7132,52533.0275,53485.9087,47637.6649,49564.0127,50053.2076,50740.6574,50781.4614,52664.7774,53617.6599,47769.4172,49695.7659,50184.9617,50872.412,50913.2166,52796.5331,53749.416,47901.1736,49827.5226,50316.7185,51004.1691,51044.9739,52928.2905,53881.1735,48032.9311,49959.2803,50448.4763,51135.9269,51176.7317,53060.0483,54012.9314,48164.689,50091.0382,50580.2342,51267.6849,51308.4897,53191.8063,54144.6894,48296.447,50222.7962,50711.9922,51399.4429,51440.2477,53323.5643,54276.4474,48428.2051,50354.5542,50843.7503],\"type\":\"scatter\"},{\"line\":{\"width\":0},\"marker\":{\"color\":\"#68BBE3\"},\"mode\":\"lines\",\"name\":\"Lower Interval\",\"showlegend\":false,\"x\":[\"2021-09-09T00:00:00\",\"2021-09-10T00:00:00\",\"2021-09-11T00:00:00\",\"2021-09-12T00:00:00\",\"2021-09-13T00:00:00\",\"2021-09-14T00:00:00\",\"2021-09-15T00:00:00\",\"2021-09-16T00:00:00\",\"2021-09-17T00:00:00\",\"2021-09-18T00:00:00\",\"2021-09-19T00:00:00\",\"2021-09-20T00:00:00\",\"2021-09-21T00:00:00\",\"2021-09-22T00:00:00\",\"2021-09-23T00:00:00\",\"2021-09-24T00:00:00\",\"2021-09-25T00:00:00\",\"2021-09-26T00:00:00\",\"2021-09-27T00:00:00\",\"2021-09-28T00:00:00\",\"2021-09-29T00:00:00\",\"2021-09-30T00:00:00\",\"2021-10-01T00:00:00\",\"2021-10-02T00:00:00\",\"2021-10-03T00:00:00\",\"2021-10-04T00:00:00\",\"2021-10-05T00:00:00\",\"2021-10-06T00:00:00\",\"2021-10-07T00:00:00\",\"2021-10-08T00:00:00\",\"2021-10-09T00:00:00\",\"2021-10-10T00:00:00\",\"2021-10-11T00:00:00\",\"2021-10-12T00:00:00\",\"2021-10-13T00:00:00\",\"2021-10-14T00:00:00\",\"2021-10-15T00:00:00\",\"2021-10-16T00:00:00\",\"2021-10-17T00:00:00\",\"2021-10-18T00:00:00\",\"2021-10-19T00:00:00\",\"2021-10-20T00:00:00\",\"2021-10-21T00:00:00\",\"2021-10-22T00:00:00\",\"2021-10-23T00:00:00\",\"2021-10-24T00:00:00\",\"2021-10-25T00:00:00\",\"2021-10-26T00:00:00\",\"2021-10-27T00:00:00\",\"2021-10-28T00:00:00\",\"2021-10-29T00:00:00\",\"2021-10-30T00:00:00\",\"2021-10-31T00:00:00\",\"2021-11-01T00:00:00\",\"2021-11-02T00:00:00\",\"2021-11-03T00:00:00\",\"2021-11-04T00:00:00\",\"2021-11-05T00:00:00\",\"2021-11-06T00:00:00\",\"2021-11-07T00:00:00\",\"2021-11-08T00:00:00\",\"2021-11-09T00:00:00\",\"2021-11-10T00:00:00\",\"2021-11-11T00:00:00\",\"2021-11-12T00:00:00\",\"2021-11-13T00:00:00\",\"2021-11-14T00:00:00\",\"2021-11-15T00:00:00\",\"2021-11-16T00:00:00\",\"2021-11-17T00:00:00\",\"2021-11-18T00:00:00\",\"2021-11-19T00:00:00\",\"2021-11-20T00:00:00\",\"2021-11-21T00:00:00\",\"2021-11-22T00:00:00\",\"2021-11-23T00:00:00\",\"2021-11-24T00:00:00\",\"2021-11-25T00:00:00\",\"2021-11-26T00:00:00\",\"2021-11-27T00:00:00\",\"2021-11-28T00:00:00\",\"2021-11-29T00:00:00\",\"2021-11-30T00:00:00\",\"2021-12-01T00:00:00\",\"2021-12-02T00:00:00\",\"2021-12-03T00:00:00\",\"2021-12-04T00:00:00\",\"2021-12-05T00:00:00\",\"2021-12-06T00:00:00\",\"2021-12-07T00:00:00\",\"2021-12-08T00:00:00\",\"2021-12-09T00:00:00\",\"2021-12-10T00:00:00\",\"2021-12-11T00:00:00\",\"2021-12-12T00:00:00\",\"2021-12-13T00:00:00\",\"2021-12-14T00:00:00\",\"2021-12-15T00:00:00\",\"2021-12-16T00:00:00\",\"2021-12-17T00:00:00\"],\"y\":[46171.8203,45881.5978,46111.4459,45857.9494,47544.0684,48361.7081,42419.299,43287.2207,43142.6299,43421.9527,43190.7775,44889.3064,45715.1205,39778.7923,40927.7464,40915.3341,41268.6234,41082.7736,42810.6463,43656.1554,37733.383,39032.6387,39105.6388,39511.5291,39359.6373,41110.096,41970.9293,36058.6989,37450.5552,37579.9644,38021.9724,37893.9281,39660.45,40532.2491,34627.5745,36081.9176,36250.74,36718.5105,36607.6917,38385.9043,39265.7176,33366.5752,34866.0857,35063.9948,35551.0232,35453.1858,37240.2535,38126.1563,32231.2249,33765.1396,33985.5122,34487.5444,34399.8782,36193.91,37084.6134,31193.0065,32754.1919,32992.5467,33506.6662,33427.2286,35226.9103,36121.5156,30232.6141,31816.0856,32069.2446,32593.3635,32520.7552,34325.1362,35222.9916,29336.346,30938.4677,31204.0873,31736.6546,31669.8311,33478.1994,34378.8159,28494.0883,30112.115,30388.4099,30928.2374,30866.3953,32678.2022,33581.2021,27698.1312,29329.9306,29615.5047,30161.6587,30104.1649,31918.9767,32824.0611,26942.4399,28586.3173,28880.0542,29431.7855,29378.1303,31195.5976,32102.5252,26222.1867,27876.7685,28177.7592],\"type\":\"scatter\"},{\"fill\":\"tonexty\",\"fillcolor\":\"rgba(104,187,227,0.5)\",\"line\":{\"width\":0},\"marker\":{\"color\":\"#68BBE3\"},\"mode\":\"lines\",\"name\":\"Prediction Interval | ARIMA\",\"showlegend\":true,\"x\":[\"2021-09-09T00:00:00\",\"2021-09-10T00:00:00\",\"2021-09-11T00:00:00\",\"2021-09-12T00:00:00\",\"2021-09-13T00:00:00\",\"2021-09-14T00:00:00\",\"2021-09-15T00:00:00\",\"2021-09-16T00:00:00\",\"2021-09-17T00:00:00\",\"2021-09-18T00:00:00\",\"2021-09-19T00:00:00\",\"2021-09-20T00:00:00\",\"2021-09-21T00:00:00\",\"2021-09-22T00:00:00\",\"2021-09-23T00:00:00\",\"2021-09-24T00:00:00\",\"2021-09-25T00:00:00\",\"2021-09-26T00:00:00\",\"2021-09-27T00:00:00\",\"2021-09-28T00:00:00\",\"2021-09-29T00:00:00\",\"2021-09-30T00:00:00\",\"2021-10-01T00:00:00\",\"2021-10-02T00:00:00\",\"2021-10-03T00:00:00\",\"2021-10-04T00:00:00\",\"2021-10-05T00:00:00\",\"2021-10-06T00:00:00\",\"2021-10-07T00:00:00\",\"2021-10-08T00:00:00\",\"2021-10-09T00:00:00\",\"2021-10-10T00:00:00\",\"2021-10-11T00:00:00\",\"2021-10-12T00:00:00\",\"2021-10-13T00:00:00\",\"2021-10-14T00:00:00\",\"2021-10-15T00:00:00\",\"2021-10-16T00:00:00\",\"2021-10-17T00:00:00\",\"2021-10-18T00:00:00\",\"2021-10-19T00:00:00\",\"2021-10-20T00:00:00\",\"2021-10-21T00:00:00\",\"2021-10-22T00:00:00\",\"2021-10-23T00:00:00\",\"2021-10-24T00:00:00\",\"2021-10-25T00:00:00\",\"2021-10-26T00:00:00\",\"2021-10-27T00:00:00\",\"2021-10-28T00:00:00\",\"2021-10-29T00:00:00\",\"2021-10-30T00:00:00\",\"2021-10-31T00:00:00\",\"2021-11-01T00:00:00\",\"2021-11-02T00:00:00\",\"2021-11-03T00:00:00\",\"2021-11-04T00:00:00\",\"2021-11-05T00:00:00\",\"2021-11-06T00:00:00\",\"2021-11-07T00:00:00\",\"2021-11-08T00:00:00\",\"2021-11-09T00:00:00\",\"2021-11-10T00:00:00\",\"2021-11-11T00:00:00\",\"2021-11-12T00:00:00\",\"2021-11-13T00:00:00\",\"2021-11-14T00:00:00\",\"2021-11-15T00:00:00\",\"2021-11-16T00:00:00\",\"2021-11-17T00:00:00\",\"2021-11-18T00:00:00\",\"2021-11-19T00:00:00\",\"2021-11-20T00:00:00\",\"2021-11-21T00:00:00\",\"2021-11-22T00:00:00\",\"2021-11-23T00:00:00\",\"2021-11-24T00:00:00\",\"2021-11-25T00:00:00\",\"2021-11-26T00:00:00\",\"2021-11-27T00:00:00\",\"2021-11-28T00:00:00\",\"2021-11-29T00:00:00\",\"2021-11-30T00:00:00\",\"2021-12-01T00:00:00\",\"2021-12-02T00:00:00\",\"2021-12-03T00:00:00\",\"2021-12-04T00:00:00\",\"2021-12-05T00:00:00\",\"2021-12-06T00:00:00\",\"2021-12-07T00:00:00\",\"2021-12-08T00:00:00\",\"2021-12-09T00:00:00\",\"2021-12-10T00:00:00\",\"2021-12-11T00:00:00\",\"2021-12-12T00:00:00\",\"2021-12-13T00:00:00\",\"2021-12-14T00:00:00\",\"2021-12-15T00:00:00\",\"2021-12-16T00:00:00\",\"2021-12-17T00:00:00\"],\"y\":[51144.7508,52364.8428,53469.3091,53770.4662,55822.5838,56886.9578,51113.0144,54081.1726,55190.2548,56274.2061,56577.2654,58637.2348,59710.3824,53944.5343,56643.5177,57630.3399,58648.621,58913.2942,60949.7244,62008.0321,56232.6893,58784.7681,59689.0193,60657.076,60889.7793,62905.2862,63949.6607,58164.9393,60625.3906,61474.0466,62406.6666,62616.0919,64616.012,65649.8191,59857.8753,62256.1185,63065.5945,63972.6471,64165.0099,66153.3759,67179.2829,61381.9023,63735.0581,64515.5142,65403.3646,65582.7929,67562.3428,68582.193,62780.6288,65099.4032,65857.415,66730.2776,66899.5481,68872.1451,69887.2041,64082.3232,66373.8334,67113.8685,67974.6485,68135.6941,70102.6445,71113.8043,65306.2202,67575.4463,68300.6787,69151.4606,69305.678,71267.93,72275.8404,66466.0011,68716.5775,69429.3498,70271.6837,70420.1167,72378.3815,73383.531,67571.7739,69806.4455,70508.5426,71343.6164,71487.068,73441.8944,74444.6606,68631.2469,70852.1458,71544.9638,72373.711,72512.8144,74464.6359,75465.3176,69650.4542,71859.2751,72543.9302,73367.1003,73502.365,75451.5311,76450.3696,70634.2235,72832.34,73509.7413],\"type\":\"scatter\"},{\"marker\":{\"color\":\"#3f3f3f\",\"size\":5},\"mode\":\"lines+markers\",\"name\":\"Original\",\"showlegend\":true,\"x\":[\"2018-01-01T00:00:00\",\"2018-01-02T00:00:00\",\"2018-01-03T00:00:00\",\"2018-01-04T00:00:00\",\"2018-01-05T00:00:00\",\"2018-01-06T00:00:00\",\"2018-01-07T00:00:00\",\"2018-01-08T00:00:00\",\"2018-01-09T00:00:00\",\"2018-01-10T00:00:00\",\"2018-01-11T00:00:00\",\"2018-01-12T00:00:00\",\"2018-01-13T00:00:00\",\"2018-01-14T00:00:00\",\"2018-01-15T00:00:00\",\"2018-01-16T00:00:00\",\"2018-01-17T00:00:00\",\"2018-01-18T00:00:00\",\"2018-01-19T00:00:00\",\"2018-01-20T00:00:00\",\"2018-01-21T00:00:00\",\"2018-01-22T00:00:00\",\"2018-01-23T00:00:00\",\"2018-01-24T00:00:00\",\"2018-01-25T00:00:00\",\"2018-01-26T00:00:00\",\"2018-01-27T00:00:00\",\"2018-01-28T00:00:00\",\"2018-01-29T00:00:00\",\"2018-01-30T00:00:00\",\"2018-01-31T00:00:00\",\"2018-02-01T00:00:00\",\"2018-02-02T00:00:00\",\"2018-02-03T00:00:00\",\"2018-02-04T00:00:00\",\"2018-02-05T00:00:00\",\"2018-02-06T00:00:00\",\"2018-02-07T00:00:00\",\"2018-02-08T00:00:00\",\"2018-02-09T00:00:00\",\"2018-02-10T00:00:00\",\"2018-02-11T00:00:00\",\"2018-02-12T00:00:00\",\"2018-02-13T00:00:00\",\"2018-02-14T00:00:00\",\"2018-02-15T00:00:00\",\"2018-02-16T00:00:00\",\"2018-02-17T00:00:00\",\"2018-02-18T00:00:00\",\"2018-02-19T00:00:00\",\"2018-02-20T00:00:00\",\"2018-02-21T00:00:00\",\"2018-02-22T00:00:00\",\"2018-02-23T00:00:00\",\"2018-02-24T00:00:00\",\"2018-02-25T00:00:00\",\"2018-02-26T00:00:00\",\"2018-02-27T00:00:00\",\"2018-02-28T00:00:00\",\"2018-03-01T00:00:00\",\"2018-03-02T00:00:00\",\"2018-03-03T00:00:00\",\"2018-03-04T00:00:00\",\"2018-03-05T00:00:00\",\"2018-03-06T00:00:00\",\"2018-03-07T00:00:00\",\"2018-03-08T00:00:00\",\"2018-03-09T00:00:00\",\"2018-03-10T00:00:00\",\"2018-03-11T00:00:00\",\"2018-03-12T00:00:00\",\"2018-03-13T00:00:00\",\"2018-03-14T00:00:00\",\"2018-03-15T00:00:00\",\"2018-03-16T00:00:00\",\"2018-03-17T00:00:00\",\"2018-03-18T00:00:00\",\"2018-03-19T00:00:00\",\"2018-03-20T00:00:00\",\"2018-03-21T00:00:00\",\"2018-03-22T00:00:00\",\"2018-03-23T00:00:00\",\"2018-03-24T00:00:00\",\"2018-03-25T00:00:00\",\"2018-03-26T00:00:00\",\"2018-03-27T00:00:00\",\"2018-03-28T00:00:00\",\"2018-03-29T00:00:00\",\"2018-03-30T00:00:00\",\"2018-03-31T00:00:00\",\"2018-04-01T00:00:00\",\"2018-04-02T00:00:00\",\"2018-04-03T00:00:00\",\"2018-04-04T00:00:00\",\"2018-04-05T00:00:00\",\"2018-04-06T00:00:00\",\"2018-04-07T00:00:00\",\"2018-04-08T00:00:00\",\"2018-04-09T00:00:00\",\"2018-04-10T00:00:00\",\"2018-04-11T00:00:00\",\"2018-04-12T00:00:00\",\"2018-04-13T00:00:00\",\"2018-04-14T00:00:00\",\"2018-04-15T00:00:00\",\"2018-04-16T00:00:00\",\"2018-04-17T00:00:00\",\"2018-04-18T00:00:00\",\"2018-04-19T00:00:00\",\"2018-04-20T00:00:00\",\"2018-04-21T00:00:00\",\"2018-04-22T00:00:00\",\"2018-04-23T00:00:00\",\"2018-04-24T00:00:00\",\"2018-04-25T00:00:00\",\"2018-04-26T00:00:00\",\"2018-04-27T00:00:00\",\"2018-04-28T00:00:00\",\"2018-04-29T00:00:00\",\"2018-04-30T00:00:00\",\"2018-05-01T00:00:00\",\"2018-05-02T00:00:00\",\"2018-05-03T00:00:00\",\"2018-05-04T00:00:00\",\"2018-05-05T00:00:00\",\"2018-05-06T00:00:00\",\"2018-05-07T00:00:00\",\"2018-05-08T00:00:00\",\"2018-05-09T00:00:00\",\"2018-05-10T00:00:00\",\"2018-05-11T00:00:00\",\"2018-05-12T00:00:00\",\"2018-05-13T00:00:00\",\"2018-05-14T00:00:00\",\"2018-05-15T00:00:00\",\"2018-05-16T00:00:00\",\"2018-05-17T00:00:00\",\"2018-05-18T00:00:00\",\"2018-05-19T00:00:00\",\"2018-05-20T00:00:00\",\"2018-05-21T00:00:00\",\"2018-05-22T00:00:00\",\"2018-05-23T00:00:00\",\"2018-05-24T00:00:00\",\"2018-05-25T00:00:00\",\"2018-05-26T00:00:00\",\"2018-05-27T00:00:00\",\"2018-05-28T00:00:00\",\"2018-05-29T00:00:00\",\"2018-05-30T00:00:00\",\"2018-05-31T00:00:00\",\"2018-06-01T00:00:00\",\"2018-06-02T00:00:00\",\"2018-06-03T00:00:00\",\"2018-06-04T00:00:00\",\"2018-06-05T00:00:00\",\"2018-06-06T00:00:00\",\"2018-06-07T00:00:00\",\"2018-06-08T00:00:00\",\"2018-06-09T00:00:00\",\"2018-06-10T00:00:00\",\"2018-06-11T00:00:00\",\"2018-06-12T00:00:00\",\"2018-06-13T00:00:00\",\"2018-06-14T00:00:00\",\"2018-06-15T00:00:00\",\"2018-06-16T00:00:00\",\"2018-06-17T00:00:00\",\"2018-06-18T00:00:00\",\"2018-06-19T00:00:00\",\"2018-06-20T00:00:00\",\"2018-06-21T00:00:00\",\"2018-06-22T00:00:00\",\"2018-06-23T00:00:00\",\"2018-06-24T00:00:00\",\"2018-06-25T00:00:00\",\"2018-06-26T00:00:00\",\"2018-06-27T00:00:00\",\"2018-06-28T00:00:00\",\"2018-06-29T00:00:00\",\"2018-06-30T00:00:00\",\"2018-07-01T00:00:00\",\"2018-07-02T00:00:00\",\"2018-07-03T00:00:00\",\"2018-07-04T00:00:00\",\"2018-07-05T00:00:00\",\"2018-07-06T00:00:00\",\"2018-07-07T00:00:00\",\"2018-07-08T00:00:00\",\"2018-07-09T00:00:00\",\"2018-07-10T00:00:00\",\"2018-07-11T00:00:00\",\"2018-07-12T00:00:00\",\"2018-07-13T00:00:00\",\"2018-07-14T00:00:00\",\"2018-07-15T00:00:00\",\"2018-07-16T00:00:00\",\"2018-07-17T00:00:00\",\"2018-07-18T00:00:00\",\"2018-07-19T00:00:00\",\"2018-07-20T00:00:00\",\"2018-07-21T00:00:00\",\"2018-07-22T00:00:00\",\"2018-07-23T00:00:00\",\"2018-07-24T00:00:00\",\"2018-07-25T00:00:00\",\"2018-07-26T00:00:00\",\"2018-07-27T00:00:00\",\"2018-07-28T00:00:00\",\"2018-07-29T00:00:00\",\"2018-07-30T00:00:00\",\"2018-07-31T00:00:00\",\"2018-08-01T00:00:00\",\"2018-08-02T00:00:00\",\"2018-08-03T00:00:00\",\"2018-08-04T00:00:00\",\"2018-08-05T00:00:00\",\"2018-08-06T00:00:00\",\"2018-08-07T00:00:00\",\"2018-08-08T00:00:00\",\"2018-08-09T00:00:00\",\"2018-08-10T00:00:00\",\"2018-08-11T00:00:00\",\"2018-08-12T00:00:00\",\"2018-08-13T00:00:00\",\"2018-08-14T00:00:00\",\"2018-08-15T00:00:00\",\"2018-08-16T00:00:00\",\"2018-08-17T00:00:00\",\"2018-08-18T00:00:00\",\"2018-08-19T00:00:00\",\"2018-08-20T00:00:00\",\"2018-08-21T00:00:00\",\"2018-08-22T00:00:00\",\"2018-08-23T00:00:00\",\"2018-08-24T00:00:00\",\"2018-08-25T00:00:00\",\"2018-08-26T00:00:00\",\"2018-08-27T00:00:00\",\"2018-08-28T00:00:00\",\"2018-08-29T00:00:00\",\"2018-08-30T00:00:00\",\"2018-08-31T00:00:00\",\"2018-09-01T00:00:00\",\"2018-09-02T00:00:00\",\"2018-09-03T00:00:00\",\"2018-09-04T00:00:00\",\"2018-09-05T00:00:00\",\"2018-09-06T00:00:00\",\"2018-09-07T00:00:00\",\"2018-09-08T00:00:00\",\"2018-09-09T00:00:00\",\"2018-09-10T00:00:00\",\"2018-09-11T00:00:00\",\"2018-09-12T00:00:00\",\"2018-09-13T00:00:00\",\"2018-09-14T00:00:00\",\"2018-09-15T00:00:00\",\"2018-09-16T00:00:00\",\"2018-09-17T00:00:00\",\"2018-09-18T00:00:00\",\"2018-09-19T00:00:00\",\"2018-09-20T00:00:00\",\"2018-09-21T00:00:00\",\"2018-09-22T00:00:00\",\"2018-09-23T00:00:00\",\"2018-09-24T00:00:00\",\"2018-09-25T00:00:00\",\"2018-09-26T00:00:00\",\"2018-09-27T00:00:00\",\"2018-09-28T00:00:00\",\"2018-09-29T00:00:00\",\"2018-09-30T00:00:00\",\"2018-10-01T00:00:00\",\"2018-10-02T00:00:00\",\"2018-10-03T00:00:00\",\"2018-10-04T00:00:00\",\"2018-10-05T00:00:00\",\"2018-10-06T00:00:00\",\"2018-10-07T00:00:00\",\"2018-10-08T00:00:00\",\"2018-10-09T00:00:00\",\"2018-10-10T00:00:00\",\"2018-10-11T00:00:00\",\"2018-10-12T00:00:00\",\"2018-10-13T00:00:00\",\"2018-10-14T00:00:00\",\"2018-10-15T00:00:00\",\"2018-10-16T00:00:00\",\"2018-10-17T00:00:00\",\"2018-10-18T00:00:00\",\"2018-10-19T00:00:00\",\"2018-10-20T00:00:00\",\"2018-10-21T00:00:00\",\"2018-10-22T00:00:00\",\"2018-10-23T00:00:00\",\"2018-10-24T00:00:00\",\"2018-10-25T00:00:00\",\"2018-10-26T00:00:00\",\"2018-10-27T00:00:00\",\"2018-10-28T00:00:00\",\"2018-10-29T00:00:00\",\"2018-10-30T00:00:00\",\"2018-10-31T00:00:00\",\"2018-11-01T00:00:00\",\"2018-11-02T00:00:00\",\"2018-11-03T00:00:00\",\"2018-11-04T00:00:00\",\"2018-11-05T00:00:00\",\"2018-11-06T00:00:00\",\"2018-11-07T00:00:00\",\"2018-11-08T00:00:00\",\"2018-11-09T00:00:00\",\"2018-11-10T00:00:00\",\"2018-11-11T00:00:00\",\"2018-11-12T00:00:00\",\"2018-11-13T00:00:00\",\"2018-11-14T00:00:00\",\"2018-11-15T00:00:00\",\"2018-11-16T00:00:00\",\"2018-11-17T00:00:00\",\"2018-11-18T00:00:00\",\"2018-11-19T00:00:00\",\"2018-11-20T00:00:00\",\"2018-11-21T00:00:00\",\"2018-11-22T00:00:00\",\"2018-11-23T00:00:00\",\"2018-11-24T00:00:00\",\"2018-11-25T00:00:00\",\"2018-11-26T00:00:00\",\"2018-11-27T00:00:00\",\"2018-11-28T00:00:00\",\"2018-11-29T00:00:00\",\"2018-11-30T00:00:00\",\"2018-12-01T00:00:00\",\"2018-12-02T00:00:00\",\"2018-12-03T00:00:00\",\"2018-12-04T00:00:00\",\"2018-12-05T00:00:00\",\"2018-12-06T00:00:00\",\"2018-12-07T00:00:00\",\"2018-12-08T00:00:00\",\"2018-12-09T00:00:00\",\"2018-12-10T00:00:00\",\"2018-12-11T00:00:00\",\"2018-12-12T00:00:00\",\"2018-12-13T00:00:00\",\"2018-12-14T00:00:00\",\"2018-12-15T00:00:00\",\"2018-12-16T00:00:00\",\"2018-12-17T00:00:00\",\"2018-12-18T00:00:00\",\"2018-12-19T00:00:00\",\"2018-12-20T00:00:00\",\"2018-12-21T00:00:00\",\"2018-12-22T00:00:00\",\"2018-12-23T00:00:00\",\"2018-12-24T00:00:00\",\"2018-12-25T00:00:00\",\"2018-12-26T00:00:00\",\"2018-12-27T00:00:00\",\"2018-12-28T00:00:00\",\"2018-12-29T00:00:00\",\"2018-12-30T00:00:00\",\"2018-12-31T00:00:00\",\"2019-01-01T00:00:00\",\"2019-01-02T00:00:00\",\"2019-01-03T00:00:00\",\"2019-01-04T00:00:00\",\"2019-01-05T00:00:00\",\"2019-01-06T00:00:00\",\"2019-01-07T00:00:00\",\"2019-01-08T00:00:00\",\"2019-01-09T00:00:00\",\"2019-01-10T00:00:00\",\"2019-01-11T00:00:00\",\"2019-01-12T00:00:00\",\"2019-01-13T00:00:00\",\"2019-01-14T00:00:00\",\"2019-01-15T00:00:00\",\"2019-01-16T00:00:00\",\"2019-01-17T00:00:00\",\"2019-01-18T00:00:00\",\"2019-01-19T00:00:00\",\"2019-01-20T00:00:00\",\"2019-01-21T00:00:00\",\"2019-01-22T00:00:00\",\"2019-01-23T00:00:00\",\"2019-01-24T00:00:00\",\"2019-01-25T00:00:00\",\"2019-01-26T00:00:00\",\"2019-01-27T00:00:00\",\"2019-01-28T00:00:00\",\"2019-01-29T00:00:00\",\"2019-01-30T00:00:00\",\"2019-01-31T00:00:00\",\"2019-02-01T00:00:00\",\"2019-02-02T00:00:00\",\"2019-02-03T00:00:00\",\"2019-02-04T00:00:00\",\"2019-02-05T00:00:00\",\"2019-02-06T00:00:00\",\"2019-02-07T00:00:00\",\"2019-02-08T00:00:00\",\"2019-02-09T00:00:00\",\"2019-02-10T00:00:00\",\"2019-02-11T00:00:00\",\"2019-02-12T00:00:00\",\"2019-02-13T00:00:00\",\"2019-02-14T00:00:00\",\"2019-02-15T00:00:00\",\"2019-02-16T00:00:00\",\"2019-02-17T00:00:00\",\"2019-02-18T00:00:00\",\"2019-02-19T00:00:00\",\"2019-02-20T00:00:00\",\"2019-02-21T00:00:00\",\"2019-02-22T00:00:00\",\"2019-02-23T00:00:00\",\"2019-02-24T00:00:00\",\"2019-02-25T00:00:00\",\"2019-02-26T00:00:00\",\"2019-02-27T00:00:00\",\"2019-02-28T00:00:00\",\"2019-03-01T00:00:00\",\"2019-03-02T00:00:00\",\"2019-03-03T00:00:00\",\"2019-03-04T00:00:00\",\"2019-03-05T00:00:00\",\"2019-03-06T00:00:00\",\"2019-03-07T00:00:00\",\"2019-03-08T00:00:00\",\"2019-03-09T00:00:00\",\"2019-03-10T00:00:00\",\"2019-03-11T00:00:00\",\"2019-03-12T00:00:00\",\"2019-03-13T00:00:00\",\"2019-03-14T00:00:00\",\"2019-03-15T00:00:00\",\"2019-03-16T00:00:00\",\"2019-03-17T00:00:00\",\"2019-03-18T00:00:00\",\"2019-03-19T00:00:00\",\"2019-03-20T00:00:00\",\"2019-03-21T00:00:00\",\"2019-03-22T00:00:00\",\"2019-03-23T00:00:00\",\"2019-03-24T00:00:00\",\"2019-03-25T00:00:00\",\"2019-03-26T00:00:00\",\"2019-03-27T00:00:00\",\"2019-03-28T00:00:00\",\"2019-03-29T00:00:00\",\"2019-03-30T00:00:00\",\"2019-03-31T00:00:00\",\"2019-04-01T00:00:00\",\"2019-04-02T00:00:00\",\"2019-04-03T00:00:00\",\"2019-04-04T00:00:00\",\"2019-04-05T00:00:00\",\"2019-04-06T00:00:00\",\"2019-04-07T00:00:00\",\"2019-04-08T00:00:00\",\"2019-04-09T00:00:00\",\"2019-04-10T00:00:00\",\"2019-04-11T00:00:00\",\"2019-04-12T00:00:00\",\"2019-04-13T00:00:00\",\"2019-04-14T00:00:00\",\"2019-04-15T00:00:00\",\"2019-04-16T00:00:00\",\"2019-04-17T00:00:00\",\"2019-04-18T00:00:00\",\"2019-04-19T00:00:00\",\"2019-04-20T00:00:00\",\"2019-04-21T00:00:00\",\"2019-04-22T00:00:00\",\"2019-04-23T00:00:00\",\"2019-04-24T00:00:00\",\"2019-04-25T00:00:00\",\"2019-04-26T00:00:00\",\"2019-04-27T00:00:00\",\"2019-04-28T00:00:00\",\"2019-04-29T00:00:00\",\"2019-04-30T00:00:00\",\"2019-05-01T00:00:00\",\"2019-05-02T00:00:00\",\"2019-05-03T00:00:00\",\"2019-05-04T00:00:00\",\"2019-05-05T00:00:00\",\"2019-05-06T00:00:00\",\"2019-05-07T00:00:00\",\"2019-05-08T00:00:00\",\"2019-05-09T00:00:00\",\"2019-05-10T00:00:00\",\"2019-05-11T00:00:00\",\"2019-05-12T00:00:00\",\"2019-05-13T00:00:00\",\"2019-05-14T00:00:00\",\"2019-05-15T00:00:00\",\"2019-05-16T00:00:00\",\"2019-05-17T00:00:00\",\"2019-05-18T00:00:00\",\"2019-05-19T00:00:00\",\"2019-05-20T00:00:00\",\"2019-05-21T00:00:00\",\"2019-05-22T00:00:00\",\"2019-05-23T00:00:00\",\"2019-05-24T00:00:00\",\"2019-05-25T00:00:00\",\"2019-05-26T00:00:00\",\"2019-05-27T00:00:00\",\"2019-05-28T00:00:00\",\"2019-05-29T00:00:00\",\"2019-05-30T00:00:00\",\"2019-05-31T00:00:00\",\"2019-06-01T00:00:00\",\"2019-06-02T00:00:00\",\"2019-06-03T00:00:00\",\"2019-06-04T00:00:00\",\"2019-06-05T00:00:00\",\"2019-06-06T00:00:00\",\"2019-06-07T00:00:00\",\"2019-06-08T00:00:00\",\"2019-06-09T00:00:00\",\"2019-06-10T00:00:00\",\"2019-06-11T00:00:00\",\"2019-06-12T00:00:00\",\"2019-06-13T00:00:00\",\"2019-06-14T00:00:00\",\"2019-06-15T00:00:00\",\"2019-06-16T00:00:00\",\"2019-06-17T00:00:00\",\"2019-06-18T00:00:00\",\"2019-06-19T00:00:00\",\"2019-06-20T00:00:00\",\"2019-06-21T00:00:00\",\"2019-06-22T00:00:00\",\"2019-06-23T00:00:00\",\"2019-06-24T00:00:00\",\"2019-06-25T00:00:00\",\"2019-06-26T00:00:00\",\"2019-06-27T00:00:00\",\"2019-06-28T00:00:00\",\"2019-06-29T00:00:00\",\"2019-06-30T00:00:00\",\"2019-07-01T00:00:00\",\"2019-07-02T00:00:00\",\"2019-07-03T00:00:00\",\"2019-07-04T00:00:00\",\"2019-07-05T00:00:00\",\"2019-07-06T00:00:00\",\"2019-07-07T00:00:00\",\"2019-07-08T00:00:00\",\"2019-07-09T00:00:00\",\"2019-07-10T00:00:00\",\"2019-07-11T00:00:00\",\"2019-07-12T00:00:00\",\"2019-07-13T00:00:00\",\"2019-07-14T00:00:00\",\"2019-07-15T00:00:00\",\"2019-07-16T00:00:00\",\"2019-07-17T00:00:00\",\"2019-07-18T00:00:00\",\"2019-07-19T00:00:00\",\"2019-07-20T00:00:00\",\"2019-07-21T00:00:00\",\"2019-07-22T00:00:00\",\"2019-07-23T00:00:00\",\"2019-07-24T00:00:00\",\"2019-07-25T00:00:00\",\"2019-07-26T00:00:00\",\"2019-07-27T00:00:00\",\"2019-07-28T00:00:00\",\"2019-07-29T00:00:00\",\"2019-07-30T00:00:00\",\"2019-07-31T00:00:00\",\"2019-08-01T00:00:00\",\"2019-08-02T00:00:00\",\"2019-08-03T00:00:00\",\"2019-08-04T00:00:00\",\"2019-08-05T00:00:00\",\"2019-08-06T00:00:00\",\"2019-08-07T00:00:00\",\"2019-08-08T00:00:00\",\"2019-08-09T00:00:00\",\"2019-08-10T00:00:00\",\"2019-08-11T00:00:00\",\"2019-08-12T00:00:00\",\"2019-08-13T00:00:00\",\"2019-08-14T00:00:00\",\"2019-08-15T00:00:00\",\"2019-08-16T00:00:00\",\"2019-08-17T00:00:00\",\"2019-08-18T00:00:00\",\"2019-08-19T00:00:00\",\"2019-08-20T00:00:00\",\"2019-08-21T00:00:00\",\"2019-08-22T00:00:00\",\"2019-08-23T00:00:00\",\"2019-08-24T00:00:00\",\"2019-08-25T00:00:00\",\"2019-08-26T00:00:00\",\"2019-08-27T00:00:00\",\"2019-08-28T00:00:00\",\"2019-08-29T00:00:00\",\"2019-08-30T00:00:00\",\"2019-08-31T00:00:00\",\"2019-09-01T00:00:00\",\"2019-09-02T00:00:00\",\"2019-09-03T00:00:00\",\"2019-09-04T00:00:00\",\"2019-09-05T00:00:00\",\"2019-09-06T00:00:00\",\"2019-09-07T00:00:00\",\"2019-09-08T00:00:00\",\"2019-09-09T00:00:00\",\"2019-09-10T00:00:00\",\"2019-09-11T00:00:00\",\"2019-09-12T00:00:00\",\"2019-09-13T00:00:00\",\"2019-09-14T00:00:00\",\"2019-09-15T00:00:00\",\"2019-09-16T00:00:00\",\"2019-09-17T00:00:00\",\"2019-09-18T00:00:00\",\"2019-09-19T00:00:00\",\"2019-09-20T00:00:00\",\"2019-09-21T00:00:00\",\"2019-09-22T00:00:00\",\"2019-09-23T00:00:00\",\"2019-09-24T00:00:00\",\"2019-09-25T00:00:00\",\"2019-09-26T00:00:00\",\"2019-09-27T00:00:00\",\"2019-09-28T00:00:00\",\"2019-09-29T00:00:00\",\"2019-09-30T00:00:00\",\"2019-10-01T00:00:00\",\"2019-10-02T00:00:00\",\"2019-10-03T00:00:00\",\"2019-10-04T00:00:00\",\"2019-10-05T00:00:00\",\"2019-10-06T00:00:00\",\"2019-10-07T00:00:00\",\"2019-10-08T00:00:00\",\"2019-10-09T00:00:00\",\"2019-10-10T00:00:00\",\"2019-10-11T00:00:00\",\"2019-10-12T00:00:00\",\"2019-10-13T00:00:00\",\"2019-10-14T00:00:00\",\"2019-10-15T00:00:00\",\"2019-10-16T00:00:00\",\"2019-10-17T00:00:00\",\"2019-10-18T00:00:00\",\"2019-10-19T00:00:00\",\"2019-10-20T00:00:00\",\"2019-10-21T00:00:00\",\"2019-10-22T00:00:00\",\"2019-10-23T00:00:00\",\"2019-10-24T00:00:00\",\"2019-10-25T00:00:00\",\"2019-10-26T00:00:00\",\"2019-10-27T00:00:00\",\"2019-10-28T00:00:00\",\"2019-10-29T00:00:00\",\"2019-10-30T00:00:00\",\"2019-10-31T00:00:00\",\"2019-11-01T00:00:00\",\"2019-11-02T00:00:00\",\"2019-11-03T00:00:00\",\"2019-11-04T00:00:00\",\"2019-11-05T00:00:00\",\"2019-11-06T00:00:00\",\"2019-11-07T00:00:00\",\"2019-11-08T00:00:00\",\"2019-11-09T00:00:00\",\"2019-11-10T00:00:00\",\"2019-11-11T00:00:00\",\"2019-11-12T00:00:00\",\"2019-11-13T00:00:00\",\"2019-11-14T00:00:00\",\"2019-11-15T00:00:00\",\"2019-11-16T00:00:00\",\"2019-11-17T00:00:00\",\"2019-11-18T00:00:00\",\"2019-11-19T00:00:00\",\"2019-11-20T00:00:00\",\"2019-11-21T00:00:00\",\"2019-11-22T00:00:00\",\"2019-11-23T00:00:00\",\"2019-11-24T00:00:00\",\"2019-11-25T00:00:00\",\"2019-11-26T00:00:00\",\"2019-11-27T00:00:00\",\"2019-11-28T00:00:00\",\"2019-11-29T00:00:00\",\"2019-11-30T00:00:00\",\"2019-12-01T00:00:00\",\"2019-12-02T00:00:00\",\"2019-12-03T00:00:00\",\"2019-12-04T00:00:00\",\"2019-12-05T00:00:00\",\"2019-12-06T00:00:00\",\"2019-12-07T00:00:00\",\"2019-12-08T00:00:00\",\"2019-12-09T00:00:00\",\"2019-12-10T00:00:00\",\"2019-12-11T00:00:00\",\"2019-12-12T00:00:00\",\"2019-12-13T00:00:00\",\"2019-12-14T00:00:00\",\"2019-12-15T00:00:00\",\"2019-12-16T00:00:00\",\"2019-12-17T00:00:00\",\"2019-12-18T00:00:00\",\"2019-12-19T00:00:00\",\"2019-12-20T00:00:00\",\"2019-12-21T00:00:00\",\"2019-12-22T00:00:00\",\"2019-12-23T00:00:00\",\"2019-12-24T00:00:00\",\"2019-12-25T00:00:00\",\"2019-12-26T00:00:00\",\"2019-12-27T00:00:00\",\"2019-12-28T00:00:00\",\"2019-12-29T00:00:00\",\"2019-12-30T00:00:00\",\"2019-12-31T00:00:00\",\"2020-01-01T00:00:00\",\"2020-01-02T00:00:00\",\"2020-01-03T00:00:00\",\"2020-01-04T00:00:00\",\"2020-01-05T00:00:00\",\"2020-01-06T00:00:00\",\"2020-01-07T00:00:00\",\"2020-01-08T00:00:00\",\"2020-01-09T00:00:00\",\"2020-01-10T00:00:00\",\"2020-01-11T00:00:00\",\"2020-01-12T00:00:00\",\"2020-01-13T00:00:00\",\"2020-01-14T00:00:00\",\"2020-01-15T00:00:00\",\"2020-01-16T00:00:00\",\"2020-01-17T00:00:00\",\"2020-01-18T00:00:00\",\"2020-01-19T00:00:00\",\"2020-01-20T00:00:00\",\"2020-01-21T00:00:00\",\"2020-01-22T00:00:00\",\"2020-01-23T00:00:00\",\"2020-01-24T00:00:00\",\"2020-01-25T00:00:00\",\"2020-01-26T00:00:00\",\"2020-01-27T00:00:00\",\"2020-01-28T00:00:00\",\"2020-01-29T00:00:00\",\"2020-01-30T00:00:00\",\"2020-01-31T00:00:00\",\"2020-02-01T00:00:00\",\"2020-02-02T00:00:00\",\"2020-02-03T00:00:00\",\"2020-02-04T00:00:00\",\"2020-02-05T00:00:00\",\"2020-02-06T00:00:00\",\"2020-02-07T00:00:00\",\"2020-02-08T00:00:00\",\"2020-02-09T00:00:00\",\"2020-02-10T00:00:00\",\"2020-02-11T00:00:00\",\"2020-02-12T00:00:00\",\"2020-02-13T00:00:00\",\"2020-02-14T00:00:00\",\"2020-02-15T00:00:00\",\"2020-02-16T00:00:00\",\"2020-02-17T00:00:00\",\"2020-02-18T00:00:00\",\"2020-02-19T00:00:00\",\"2020-02-20T00:00:00\",\"2020-02-21T00:00:00\",\"2020-02-22T00:00:00\",\"2020-02-23T00:00:00\",\"2020-02-24T00:00:00\",\"2020-02-25T00:00:00\",\"2020-02-26T00:00:00\",\"2020-02-27T00:00:00\",\"2020-02-28T00:00:00\",\"2020-02-29T00:00:00\",\"2020-03-01T00:00:00\",\"2020-03-02T00:00:00\",\"2020-03-03T00:00:00\",\"2020-03-04T00:00:00\",\"2020-03-05T00:00:00\",\"2020-03-06T00:00:00\",\"2020-03-07T00:00:00\",\"2020-03-08T00:00:00\",\"2020-03-09T00:00:00\",\"2020-03-10T00:00:00\",\"2020-03-11T00:00:00\",\"2020-03-12T00:00:00\",\"2020-03-13T00:00:00\",\"2020-03-14T00:00:00\",\"2020-03-15T00:00:00\",\"2020-03-16T00:00:00\",\"2020-03-17T00:00:00\",\"2020-03-18T00:00:00\",\"2020-03-19T00:00:00\",\"2020-03-20T00:00:00\",\"2020-03-21T00:00:00\",\"2020-03-22T00:00:00\",\"2020-03-23T00:00:00\",\"2020-03-24T00:00:00\",\"2020-03-25T00:00:00\",\"2020-03-26T00:00:00\",\"2020-03-27T00:00:00\",\"2020-03-28T00:00:00\",\"2020-03-29T00:00:00\",\"2020-03-30T00:00:00\",\"2020-03-31T00:00:00\",\"2020-04-01T00:00:00\",\"2020-04-02T00:00:00\",\"2020-04-03T00:00:00\",\"2020-04-04T00:00:00\",\"2020-04-05T00:00:00\",\"2020-04-06T00:00:00\",\"2020-04-07T00:00:00\",\"2020-04-08T00:00:00\",\"2020-04-09T00:00:00\",\"2020-04-10T00:00:00\",\"2020-04-11T00:00:00\",\"2020-04-12T00:00:00\",\"2020-04-13T00:00:00\",\"2020-04-14T00:00:00\",\"2020-04-15T00:00:00\",\"2020-04-16T00:00:00\",\"2020-04-17T00:00:00\",\"2020-04-18T00:00:00\",\"2020-04-19T00:00:00\",\"2020-04-20T00:00:00\",\"2020-04-21T00:00:00\",\"2020-04-22T00:00:00\",\"2020-04-23T00:00:00\",\"2020-04-24T00:00:00\",\"2020-04-25T00:00:00\",\"2020-04-26T00:00:00\",\"2020-04-27T00:00:00\",\"2020-04-28T00:00:00\",\"2020-04-29T00:00:00\",\"2020-04-30T00:00:00\",\"2020-05-01T00:00:00\",\"2020-05-02T00:00:00\",\"2020-05-03T00:00:00\",\"2020-05-04T00:00:00\",\"2020-05-05T00:00:00\",\"2020-05-06T00:00:00\",\"2020-05-07T00:00:00\",\"2020-05-08T00:00:00\",\"2020-05-09T00:00:00\",\"2020-05-10T00:00:00\",\"2020-05-11T00:00:00\",\"2020-05-12T00:00:00\",\"2020-05-13T00:00:00\",\"2020-05-14T00:00:00\",\"2020-05-15T00:00:00\",\"2020-05-16T00:00:00\",\"2020-05-17T00:00:00\",\"2020-05-18T00:00:00\",\"2020-05-19T00:00:00\",\"2020-05-20T00:00:00\",\"2020-05-21T00:00:00\",\"2020-05-22T00:00:00\",\"2020-05-23T00:00:00\",\"2020-05-24T00:00:00\",\"2020-05-25T00:00:00\",\"2020-05-26T00:00:00\",\"2020-05-27T00:00:00\",\"2020-05-28T00:00:00\",\"2020-05-29T00:00:00\",\"2020-05-30T00:00:00\",\"2020-05-31T00:00:00\",\"2020-06-01T00:00:00\",\"2020-06-02T00:00:00\",\"2020-06-03T00:00:00\",\"2020-06-04T00:00:00\",\"2020-06-05T00:00:00\",\"2020-06-06T00:00:00\",\"2020-06-07T00:00:00\",\"2020-06-08T00:00:00\",\"2020-06-09T00:00:00\",\"2020-06-10T00:00:00\",\"2020-06-11T00:00:00\",\"2020-06-12T00:00:00\",\"2020-06-13T00:00:00\",\"2020-06-14T00:00:00\",\"2020-06-15T00:00:00\",\"2020-06-16T00:00:00\",\"2020-06-17T00:00:00\",\"2020-06-18T00:00:00\",\"2020-06-19T00:00:00\",\"2020-06-20T00:00:00\",\"2020-06-21T00:00:00\",\"2020-06-22T00:00:00\",\"2020-06-23T00:00:00\",\"2020-06-24T00:00:00\",\"2020-06-25T00:00:00\",\"2020-06-26T00:00:00\",\"2020-06-27T00:00:00\",\"2020-06-28T00:00:00\",\"2020-06-29T00:00:00\",\"2020-06-30T00:00:00\",\"2020-07-01T00:00:00\",\"2020-07-02T00:00:00\",\"2020-07-03T00:00:00\",\"2020-07-04T00:00:00\",\"2020-07-05T00:00:00\",\"2020-07-06T00:00:00\",\"2020-07-07T00:00:00\",\"2020-07-08T00:00:00\",\"2020-07-09T00:00:00\",\"2020-07-10T00:00:00\",\"2020-07-11T00:00:00\",\"2020-07-12T00:00:00\",\"2020-07-13T00:00:00\",\"2020-07-14T00:00:00\",\"2020-07-15T00:00:00\",\"2020-07-16T00:00:00\",\"2020-07-17T00:00:00\",\"2020-07-18T00:00:00\",\"2020-07-19T00:00:00\",\"2020-07-20T00:00:00\",\"2020-07-21T00:00:00\",\"2020-07-22T00:00:00\",\"2020-07-23T00:00:00\",\"2020-07-24T00:00:00\",\"2020-07-25T00:00:00\",\"2020-07-26T00:00:00\",\"2020-07-27T00:00:00\",\"2020-07-28T00:00:00\",\"2020-07-29T00:00:00\",\"2020-07-30T00:00:00\",\"2020-07-31T00:00:00\",\"2020-08-01T00:00:00\",\"2020-08-02T00:00:00\",\"2020-08-03T00:00:00\",\"2020-08-04T00:00:00\",\"2020-08-05T00:00:00\",\"2020-08-06T00:00:00\",\"2020-08-07T00:00:00\",\"2020-08-08T00:00:00\",\"2020-08-09T00:00:00\",\"2020-08-10T00:00:00\",\"2020-08-11T00:00:00\",\"2020-08-12T00:00:00\",\"2020-08-13T00:00:00\",\"2020-08-14T00:00:00\",\"2020-08-15T00:00:00\",\"2020-08-16T00:00:00\",\"2020-08-17T00:00:00\",\"2020-08-18T00:00:00\",\"2020-08-19T00:00:00\",\"2020-08-20T00:00:00\",\"2020-08-21T00:00:00\",\"2020-08-22T00:00:00\",\"2020-08-23T00:00:00\",\"2020-08-24T00:00:00\",\"2020-08-25T00:00:00\",\"2020-08-26T00:00:00\",\"2020-08-27T00:00:00\",\"2020-08-28T00:00:00\",\"2020-08-29T00:00:00\",\"2020-08-30T00:00:00\",\"2020-08-31T00:00:00\",\"2020-09-01T00:00:00\",\"2020-09-02T00:00:00\",\"2020-09-03T00:00:00\",\"2020-09-04T00:00:00\",\"2020-09-05T00:00:00\",\"2020-09-06T00:00:00\",\"2020-09-07T00:00:00\",\"2020-09-08T00:00:00\",\"2020-09-09T00:00:00\",\"2020-09-10T00:00:00\",\"2020-09-11T00:00:00\",\"2020-09-12T00:00:00\",\"2020-09-13T00:00:00\",\"2020-09-14T00:00:00\",\"2020-09-15T00:00:00\",\"2020-09-16T00:00:00\",\"2020-09-17T00:00:00\",\"2020-09-18T00:00:00\",\"2020-09-19T00:00:00\",\"2020-09-20T00:00:00\",\"2020-09-21T00:00:00\",\"2020-09-22T00:00:00\",\"2020-09-23T00:00:00\",\"2020-09-24T00:00:00\",\"2020-09-25T00:00:00\",\"2020-09-26T00:00:00\",\"2020-09-27T00:00:00\",\"2020-09-28T00:00:00\",\"2020-09-29T00:00:00\",\"2020-09-30T00:00:00\",\"2020-10-01T00:00:00\",\"2020-10-02T00:00:00\",\"2020-10-03T00:00:00\",\"2020-10-04T00:00:00\",\"2020-10-05T00:00:00\",\"2020-10-06T00:00:00\",\"2020-10-07T00:00:00\",\"2020-10-08T00:00:00\",\"2020-10-09T00:00:00\",\"2020-10-10T00:00:00\",\"2020-10-11T00:00:00\",\"2020-10-12T00:00:00\",\"2020-10-13T00:00:00\",\"2020-10-14T00:00:00\",\"2020-10-15T00:00:00\",\"2020-10-16T00:00:00\",\"2020-10-17T00:00:00\",\"2020-10-18T00:00:00\",\"2020-10-19T00:00:00\",\"2020-10-20T00:00:00\",\"2020-10-21T00:00:00\",\"2020-10-22T00:00:00\",\"2020-10-23T00:00:00\",\"2020-10-24T00:00:00\",\"2020-10-25T00:00:00\",\"2020-10-26T00:00:00\",\"2020-10-27T00:00:00\",\"2020-10-28T00:00:00\",\"2020-10-29T00:00:00\",\"2020-10-30T00:00:00\",\"2020-10-31T00:00:00\",\"2020-11-01T00:00:00\",\"2020-11-02T00:00:00\",\"2020-11-03T00:00:00\",\"2020-11-04T00:00:00\",\"2020-11-05T00:00:00\",\"2020-11-06T00:00:00\",\"2020-11-07T00:00:00\",\"2020-11-08T00:00:00\",\"2020-11-09T00:00:00\",\"2020-11-10T00:00:00\",\"2020-11-11T00:00:00\",\"2020-11-12T00:00:00\",\"2020-11-13T00:00:00\",\"2020-11-14T00:00:00\",\"2020-11-15T00:00:00\",\"2020-11-16T00:00:00\",\"2020-11-17T00:00:00\",\"2020-11-18T00:00:00\",\"2020-11-19T00:00:00\",\"2020-11-20T00:00:00\",\"2020-11-21T00:00:00\",\"2020-11-22T00:00:00\",\"2020-11-23T00:00:00\",\"2020-11-24T00:00:00\",\"2020-11-25T00:00:00\",\"2020-11-26T00:00:00\",\"2020-11-27T00:00:00\",\"2020-11-28T00:00:00\",\"2020-11-29T00:00:00\",\"2020-11-30T00:00:00\",\"2020-12-01T00:00:00\",\"2020-12-02T00:00:00\",\"2020-12-03T00:00:00\",\"2020-12-04T00:00:00\",\"2020-12-05T00:00:00\",\"2020-12-06T00:00:00\",\"2020-12-07T00:00:00\",\"2020-12-08T00:00:00\",\"2020-12-09T00:00:00\",\"2020-12-10T00:00:00\",\"2020-12-11T00:00:00\",\"2020-12-12T00:00:00\",\"2020-12-13T00:00:00\",\"2020-12-14T00:00:00\",\"2020-12-15T00:00:00\",\"2020-12-16T00:00:00\",\"2020-12-17T00:00:00\",\"2020-12-18T00:00:00\",\"2020-12-19T00:00:00\",\"2020-12-20T00:00:00\",\"2020-12-21T00:00:00\",\"2020-12-22T00:00:00\",\"2020-12-23T00:00:00\",\"2020-12-24T00:00:00\",\"2020-12-25T00:00:00\",\"2020-12-26T00:00:00\",\"2020-12-27T00:00:00\",\"2020-12-28T00:00:00\",\"2020-12-29T00:00:00\",\"2020-12-30T00:00:00\",\"2020-12-31T00:00:00\",\"2021-01-01T00:00:00\",\"2021-01-02T00:00:00\",\"2021-01-03T00:00:00\",\"2021-01-04T00:00:00\",\"2021-01-05T00:00:00\",\"2021-01-06T00:00:00\",\"2021-01-07T00:00:00\",\"2021-01-08T00:00:00\",\"2021-01-09T00:00:00\",\"2021-01-10T00:00:00\",\"2021-01-11T00:00:00\",\"2021-01-12T00:00:00\",\"2021-01-13T00:00:00\",\"2021-01-14T00:00:00\",\"2021-01-15T00:00:00\",\"2021-01-16T00:00:00\",\"2021-01-17T00:00:00\",\"2021-01-18T00:00:00\",\"2021-01-19T00:00:00\",\"2021-01-20T00:00:00\",\"2021-01-21T00:00:00\",\"2021-01-22T00:00:00\",\"2021-01-23T00:00:00\",\"2021-01-24T00:00:00\",\"2021-01-25T00:00:00\",\"2021-01-26T00:00:00\",\"2021-01-27T00:00:00\",\"2021-01-28T00:00:00\",\"2021-01-29T00:00:00\",\"2021-01-30T00:00:00\",\"2021-01-31T00:00:00\",\"2021-02-01T00:00:00\",\"2021-02-02T00:00:00\",\"2021-02-03T00:00:00\",\"2021-02-04T00:00:00\",\"2021-02-05T00:00:00\",\"2021-02-06T00:00:00\",\"2021-02-07T00:00:00\",\"2021-02-08T00:00:00\",\"2021-02-09T00:00:00\",\"2021-02-10T00:00:00\",\"2021-02-11T00:00:00\",\"2021-02-12T00:00:00\",\"2021-02-13T00:00:00\",\"2021-02-14T00:00:00\",\"2021-02-15T00:00:00\",\"2021-02-16T00:00:00\",\"2021-02-17T00:00:00\",\"2021-02-18T00:00:00\",\"2021-02-19T00:00:00\",\"2021-02-20T00:00:00\",\"2021-02-21T00:00:00\",\"2021-02-22T00:00:00\",\"2021-02-23T00:00:00\",\"2021-02-24T00:00:00\",\"2021-02-25T00:00:00\",\"2021-02-26T00:00:00\",\"2021-02-27T00:00:00\",\"2021-02-28T00:00:00\",\"2021-03-01T00:00:00\",\"2021-03-02T00:00:00\",\"2021-03-03T00:00:00\",\"2021-03-04T00:00:00\",\"2021-03-05T00:00:00\",\"2021-03-06T00:00:00\",\"2021-03-07T00:00:00\",\"2021-03-08T00:00:00\",\"2021-03-09T00:00:00\",\"2021-03-10T00:00:00\",\"2021-03-11T00:00:00\",\"2021-03-12T00:00:00\",\"2021-03-13T00:00:00\",\"2021-03-14T00:00:00\",\"2021-03-15T00:00:00\",\"2021-03-16T00:00:00\",\"2021-03-17T00:00:00\",\"2021-03-18T00:00:00\",\"2021-03-19T00:00:00\",\"2021-03-20T00:00:00\",\"2021-03-21T00:00:00\",\"2021-03-22T00:00:00\",\"2021-03-23T00:00:00\",\"2021-03-24T00:00:00\",\"2021-03-25T00:00:00\",\"2021-03-26T00:00:00\",\"2021-03-27T00:00:00\",\"2021-03-28T00:00:00\",\"2021-03-29T00:00:00\",\"2021-03-30T00:00:00\",\"2021-03-31T00:00:00\",\"2021-04-01T00:00:00\",\"2021-04-02T00:00:00\",\"2021-04-03T00:00:00\",\"2021-04-04T00:00:00\",\"2021-04-05T00:00:00\",\"2021-04-06T00:00:00\",\"2021-04-07T00:00:00\",\"2021-04-08T00:00:00\",\"2021-04-09T00:00:00\",\"2021-04-10T00:00:00\",\"2021-04-11T00:00:00\",\"2021-04-12T00:00:00\",\"2021-04-13T00:00:00\",\"2021-04-14T00:00:00\",\"2021-04-15T00:00:00\",\"2021-04-16T00:00:00\",\"2021-04-17T00:00:00\",\"2021-04-18T00:00:00\",\"2021-04-19T00:00:00\",\"2021-04-20T00:00:00\",\"2021-04-21T00:00:00\",\"2021-04-22T00:00:00\",\"2021-04-23T00:00:00\",\"2021-04-24T00:00:00\",\"2021-04-25T00:00:00\",\"2021-04-26T00:00:00\",\"2021-04-27T00:00:00\",\"2021-04-28T00:00:00\",\"2021-04-29T00:00:00\",\"2021-04-30T00:00:00\",\"2021-05-01T00:00:00\",\"2021-05-02T00:00:00\",\"2021-05-03T00:00:00\",\"2021-05-04T00:00:00\",\"2021-05-05T00:00:00\",\"2021-05-06T00:00:00\",\"2021-05-07T00:00:00\",\"2021-05-08T00:00:00\",\"2021-05-09T00:00:00\",\"2021-05-10T00:00:00\",\"2021-05-11T00:00:00\",\"2021-05-12T00:00:00\",\"2021-05-13T00:00:00\",\"2021-05-14T00:00:00\",\"2021-05-15T00:00:00\",\"2021-05-16T00:00:00\",\"2021-05-17T00:00:00\",\"2021-05-18T00:00:00\",\"2021-05-19T00:00:00\",\"2021-05-20T00:00:00\",\"2021-05-21T00:00:00\",\"2021-05-22T00:00:00\",\"2021-05-23T00:00:00\",\"2021-05-24T00:00:00\",\"2021-05-25T00:00:00\",\"2021-05-26T00:00:00\",\"2021-05-27T00:00:00\",\"2021-05-28T00:00:00\",\"2021-05-29T00:00:00\",\"2021-05-30T00:00:00\",\"2021-05-31T00:00:00\",\"2021-06-01T00:00:00\",\"2021-06-02T00:00:00\",\"2021-06-03T00:00:00\",\"2021-06-04T00:00:00\",\"2021-06-05T00:00:00\",\"2021-06-06T00:00:00\",\"2021-06-07T00:00:00\",\"2021-06-08T00:00:00\",\"2021-06-09T00:00:00\",\"2021-06-10T00:00:00\",\"2021-06-11T00:00:00\",\"2021-06-12T00:00:00\",\"2021-06-13T00:00:00\",\"2021-06-14T00:00:00\",\"2021-06-15T00:00:00\",\"2021-06-16T00:00:00\",\"2021-06-17T00:00:00\",\"2021-06-18T00:00:00\",\"2021-06-19T00:00:00\",\"2021-06-20T00:00:00\",\"2021-06-21T00:00:00\",\"2021-06-22T00:00:00\",\"2021-06-23T00:00:00\",\"2021-06-24T00:00:00\",\"2021-06-25T00:00:00\",\"2021-06-26T00:00:00\",\"2021-06-27T00:00:00\",\"2021-06-28T00:00:00\",\"2021-06-29T00:00:00\",\"2021-06-30T00:00:00\",\"2021-07-01T00:00:00\",\"2021-07-02T00:00:00\",\"2021-07-03T00:00:00\",\"2021-07-04T00:00:00\",\"2021-07-05T00:00:00\",\"2021-07-06T00:00:00\",\"2021-07-07T00:00:00\",\"2021-07-08T00:00:00\",\"2021-07-09T00:00:00\",\"2021-07-10T00:00:00\",\"2021-07-11T00:00:00\",\"2021-07-12T00:00:00\",\"2021-07-13T00:00:00\",\"2021-07-14T00:00:00\",\"2021-07-15T00:00:00\",\"2021-07-16T00:00:00\",\"2021-07-17T00:00:00\",\"2021-07-18T00:00:00\",\"2021-07-19T00:00:00\",\"2021-07-20T00:00:00\",\"2021-07-21T00:00:00\",\"2021-07-22T00:00:00\",\"2021-07-23T00:00:00\",\"2021-07-24T00:00:00\",\"2021-07-25T00:00:00\",\"2021-07-26T00:00:00\",\"2021-07-27T00:00:00\",\"2021-07-28T00:00:00\",\"2021-07-29T00:00:00\",\"2021-07-30T00:00:00\",\"2021-07-31T00:00:00\",\"2021-08-01T00:00:00\",\"2021-08-02T00:00:00\",\"2021-08-03T00:00:00\",\"2021-08-04T00:00:00\",\"2021-08-05T00:00:00\",\"2021-08-06T00:00:00\",\"2021-08-07T00:00:00\",\"2021-08-08T00:00:00\",\"2021-08-09T00:00:00\",\"2021-08-10T00:00:00\",\"2021-08-11T00:00:00\",\"2021-08-12T00:00:00\",\"2021-08-13T00:00:00\",\"2021-08-14T00:00:00\",\"2021-08-15T00:00:00\",\"2021-08-16T00:00:00\",\"2021-08-17T00:00:00\",\"2021-08-18T00:00:00\",\"2021-08-19T00:00:00\",\"2021-08-20T00:00:00\",\"2021-08-21T00:00:00\",\"2021-08-22T00:00:00\",\"2021-08-23T00:00:00\",\"2021-08-24T00:00:00\",\"2021-08-25T00:00:00\",\"2021-08-26T00:00:00\",\"2021-08-27T00:00:00\",\"2021-08-28T00:00:00\",\"2021-08-29T00:00:00\",\"2021-08-30T00:00:00\",\"2021-08-31T00:00:00\",\"2021-09-01T00:00:00\",\"2021-09-02T00:00:00\",\"2021-09-03T00:00:00\",\"2021-09-04T00:00:00\",\"2021-09-05T00:00:00\",\"2021-09-06T00:00:00\",\"2021-09-07T00:00:00\",\"2021-09-08T00:00:00\",\"2021-09-09T00:00:00\",\"2021-09-10T00:00:00\",\"2021-09-11T00:00:00\",\"2021-09-12T00:00:00\",\"2021-09-13T00:00:00\",\"2021-09-14T00:00:00\",\"2021-09-15T00:00:00\",\"2021-09-16T00:00:00\",\"2021-09-17T00:00:00\",\"2021-09-18T00:00:00\",\"2021-09-19T00:00:00\",\"2021-09-20T00:00:00\"],\"y\":[13850.176,13463.278,14747.028,15117.668,15161.1,16922.252,17124.579999999998,16133.041999999998,14955.628,14463.63,14955.334,13200.048,13842.808,14222.558333333334,13581.576666666666,13548.205000000002,11265.011666666664,11052.306666666664,11097.53,11534.586666666668,12767.276666666668,11493.339999999998,10812.288333333332,10868.538333333332,11365.185,11151.506666666668,11111.753333333336,11432.796666666669,11709.471666666665,11203.935,10041.321666666669,10161.078333333331,9126.328333333331,8864.020000000002,9159.525,8211.695,7027.5583333333325,7700.633019791668,7624.498333333332,8234.752499999999,8637.101999999999,8512.491444562,8111.088333333332,8898.281666666664,8544.340000000002,9432.796666666669,10057.618333333334,10154.351666666667,11061.53759377,10388.75,11152.35,11108.251666666663,10432.046666666669,9770.385,10116.2810989,9651.256666666666,9602.986666666666,10341.750641233331,10567.353333333334,10306.804999999997,10922.498333333331,11061.958333333336,11449.806666666664,11501.21,11347.873333333337,10741.891666666668,9874.568333333336,9323.013333333332,9289.898333333333,8774.210000000001,9542.213333333331,9070.715,9201.73,8192.551666666666,8300.803333333331,8281.558333333334,7834.0549999999985,8370.895,8565.988333333333,8921.203333333333,8897.085,8690.980000000001,8931.683333333334,8514.433333333332,8461.089999999998,8149.658333333334,7783.343333333332,7949.321666666668,7081.028333333333,6850.243333333333,6968.054999999999,6815.471666666667,7087.29,7383.753333333332,6782.208333333332,6774.463333333332,6612.686666666667,6890.010000000001,7028.246666666666,6777.995,6835.441379171666,6949.303333333332,7945.4749999999985,7873.193333333334,8044.266666666666,8354.821666666669,8066.621666666668,7879.386666666666,8166.038333333334,8281.801428571429,8864.664285714285,8897.432857142858,8778.25142857143,8940.716666666665,9645.92,8833.350719508571,9285.43166666667,8875.775,9342.464,9421.562,9233.21,9075.658,9227.264,9693.431666666664,9675.72,9826.626,9638.383333333331,9373.706666666669,9181.221666666666,9318.317142857142,8999.805714285714,8422.585714285715,8481.021425645,8680.471666666666,8670.52,8462.727142857144,8348.818571428572,8058.785714285716,8242.56833333333,8215.183360301668,8522.732,8396.025145263333,8000.882857142858,7528.535000000002,7575.431428571428,7447.023333333333,7327.7185714285715,7351.855,7115.585249047143,7468.191666666667,7363.473333333333,7489.818000000001,7524.095,7634.618333333333,7715.33857142857,7495.92757888,7629.507142857144,7661.636666666666,7682.111666666668,7617.915,7471.8499999999985,6748.814285714286,6866.628333333334,6544.607142857143,6298.9000000000015,6640.001666666666,6384.4366666666665,6492.355,6453.339999999998,6709.9114285714295,6736.583333333332,6759.835714285714,6719.777142857142,6054.406666666668,6169.941999999999,6140.703333333334,6255.07857142857,6068.202857142856,6134.078333333333,5881.901428571428,6195.952857142856,6395.827142857143,6350.6016666666665,6613.985045427144,6510.387142857142,6587.2040000000015,6531.681999999999,6604.607142857143,6767.578333333334,6702.064285714286,6653.733333333334,6303.7356601,6369.748333333334,6235.9742857142855,6218.046666666666,6255.0233333333335,6350.325714285714,6719.478571428573,7316.077142857143,7375.438333333333,7465.1,7328.557142857142,7394.175714285715,7389.543333333335,7721.494285714287,8404.622857142856,8181.40857142857,7936.0549999999985,8195.854285714286,8236.74142857143,8220.451666666666,8162.2916857300015,7736.8566666666675,7604.659999999999,7526.165,7404.292857142856,7010.667142857144,7024.526223000002,6942.192857142856,6712.450000000002,6269.98615935857,6547.623333333332,6155.395,6233.591666666667,6318.321428571428,6246.355714285715,6222.636861777143,6264.105,6307.802813051429,6564.277142857143,6386.512857142858,6486.919999999999,6256.0257142857145,6477.991428571429,6349.597142857144,6534.716666666667,6699.891428571429,6727.686666666667,6689.788571428572,6899.282857142856,7075.585,7031.590000000001,6972.543217902858,7026.721666666667,7197.183999999998,7301.679812508571,7259.848333333332,7358.94,6690.422857142857,6487.392857142857,6403.088333333332,6184.428883199998,6256.08142857143,6321.925714285714,6285.522637900001,6332.565,6495.5142857142855,6478.002479451429,6517.796666666666,6505.48,6242.83,6328.608333333334,6390.033333333333,6509.155409652856,6762.768333333333,6722.349999999999,6703.714,6569.858333333334,6430.5250000000015,6466.296666666666,6695.419999999999,6620.543333333334,6584.355,6614.658571428573,6594.105,6502.597142857144,6483.115714285714,6578.3,6612.071666666668,6573.798333333332,6597.636666666667,6641.1500000000015,6622.954999999999,6586.4940000000015,6162.994285714286,6238.261666666666,6276.868,6253.315,6593.22983125,6606.491666666666,6620.092,6524.164000000001,6463.3200000000015,6514.208000000001,6494.1866666666665,6506.498886948,6472.811666666667,6500.7730393540005,6474.286,6474.795000000001,6448.931428571428,6456.384,6289.628333333334,6300.2475,6340.718776583332,6375.876666666668,6398.622000000001,6375.105,6457.718333333332,6438.3083333333325,6482.926666666666,6539.606666666668,6436.468850612858,6373.493333333335,6390.216666666667,6426.36,6386.587218856667,6357.465,5743.556666666667,5644.73857142857,5576.814244280001,5576.401666666668,5597.317142857143,4852.613333333333,4476.376342705,4614.691666666667,4330.457142857143,4357.8,3862.651428571429,4019.22,3772.461428571428,3836.86,4255.667142857143,4281.883333333334,4003.9066666666663,4173.327965551428,4143.53,3862.0483333333336,3925.1,3731.813333333334,3483.118333333334,3397.292857142857,3411.23,3557.251666666666,3425.628571428572,3360.6900000000005,3453.957142857143,3283.772857142857,3214.098333333333,3212.388333333334,3220.7092066900004,3525.0916666666667,3695.575714285714,3689.395,4073.181428571429,3870.0,4005.5414285714287,3963.1083333333336,4049.526666666666,3777.35,3813.126666666667,3601.6083333333336,3899.888571428572,3751.49,3838.588571428572,3715.408333333333,3844.538333333333,3906.5916666666662,3788.84,3834.165,3806.0,4055.323333333333,4014.111666666666,3999.401666666666,4004.228333333333,3613.9971428571416,3629.182857142857,3615.518333333333,3515.0260000000007,3664.865246768333,3578.0628455983333,3615.23,3648.158333333333,3624.201853466666,3685.8783333333336,3548.808333333334,3539.412,3583.588333333333,3564.256850941667,3584.655,3574.8416666666667,3572.272,3545.07261013,3446.0673143333333,3415.558,3447.6475,3437.8874643300005,3462.44763188,3498.46,3445.3683333333333,3436.630000000001,3460.748571428572,3388.618150365714,3389.436,3651.7216666666654,3648.718571428571,3674.3388630716654,3618.721666666667,3625.760890422,3607.666700464,3585.9933333333333,3597.098333333333,3608.953333333333,3658.493333333334,3898.96882981,3912.8716666666655,3968.67296821,3929.488333333333,3963.545,4130.113333333334,3758.058333333333,3839.938333333334,3816.461666666666,3823.243333333333,3821.752,3827.074342093333,3832.608571428572,3810.928333333333,3721.44,3865.623333333333,3875.305,3876.9985714285713,3860.071666666666,3934.478333333333,3927.724,3873.8,3886.072374605,3867.845714285714,3879.868333333333,3931.616,4008.257142857143,3988.055,3976.811666666666,4021.413333333333,4051.34591781,3986.66,3993.055,3998.491666666667,3988.131666666666,3929.0483333333336,3937.43,4034.9593246833338,4033.23,4110.406666666667,4115.442,4108.866706598333,4146.641428571428,4895.067117671429,4952.301666666666,4920.898571428572,5023.633687416667,5050.348333333333,5181.588333333334,5265.81,5174.644285714286,5322.967142857145,5034.895,5071.815,5061.737972657144,5160.62292359,5026.398571428572,5202.3133333333335,5218.51237562375,5273.739999999999,5281.2642857142855,5306.331428571429,5283.421428571428,5379.652857142857,5526.032857142856,5430.255714285714,5172.43,5260.717142857143,5271.513333333333,5263.817142857143,5231.443749999999,5339.8,5415.326000000001,5469.688750000001,5762.339999999998,5851.298333333332,5796.238333333334,5768.552857142857,5766.07625,6001.5028571428575,6187.29,6376.362857142856,7219.82,6957.045714285715,7797.394285714286,8005.612857142858,8158.995,7873.01,7390.074285714285,7270.712857142857,8148.34142857143,7991.870000000001,7938.79,7624.159999999999,7865.725714285714,7986.6557142857155,8051.201428571429,8711.576403357143,8776.861428571428,8697.632857142857,8644.05515337875,8289.108571428571,8549.902857142857,8543.284571504286,8734.61,8029.8287500000015,7694.715714285713,7761.5085714285715,7819.224285714285,7983.821428571429,7929.604285714287,7611.6124901971425,8024.21,7907.197142857142,8138.734285714286,8242.928571428572,8681.92142857143,8839.974285714285,8990.198571428571,9338.604285714286,9105.555524242856,9287.41375,9540.17,10159.815,10689.382857142857,10809.14253875,11053.9075,11750.5425,12928.593749999998,11164.658571428572,12330.057142857144,11930.09625,10824.018571428573,10598.837142857144,10951.9575,12001.732857142855,11106.97063825,11030.15285714286,11130.57875,11466.69,12280.832857142856,12534.844285714284,12046.9898150475,11297.01125,11804.448654631433,11409.167142857144,10198.718333333332,10872.25,9481.378571428571,9676.101428571428,10658.125714285712,10546.797142857144,10729.691428571428,10630.604285714286,10303.910000000002,9833.655714285716,9743.315,9878.705714285714,9828.623289791429,9468.15,9547.194285714286,9513.457142857142,9569.516666666668,10101.971428571427,10404.19,10527.584285714283,10813.829842335716,10974.705126857143,11791.642857142857,11440.732857142855,12013.04,12032.3625,11905.631117459998,11285.03,11539.364332542857,11391.339999999998,10870.882857142857,10128.82625,10285.54625,10365.2625,10230.521428571428,10308.871428571429,10949.715714285714,10785.117142857143,10150.08953557143,10083.32375,10403.155714285716,10149.84232616,10165.562857142855,10380.142857142857,10161.888571428572,9712.56,9502.329999999998,9577.242857142855,9596.672857142856,9760.445714285715,10396.046089234283,10616.36,10564.749642857145,10573.89857142857,10314.022857142858,10489.857142857143,10394.899999999998,10303.905714285716,10093.733403,10179.76,10430.222857142857,10356.708571428571,10354.17857142857,10307.828333333331,10268.075714285716,10190.262160714285,10156.1625,10288.45259721125,10174.663351845713,9999.123306994285,10048.909212337145,9680.737142857144,8576.134999999998,8427.024285714286,8081.687142857142,8193.922857142858,8231.278571428571,8058.59142857143,8294.555,8321.139887845715,8399.757500000003,8239.241428571428,8149.248571428572,8162.522857142856,7866.435714285712,8220.72107976875,8184.411428571429,8598.318955809998,8584.572857142857,8269.237142857142,8301.354285714286,8271.185714285715,8367.785714285717,8161.221477999998,7996.841666666666,8074.046666666666,7958.917917906668,7960.206666666666,8229.561779096666,8207.971666666666,8015.495714285716,7469.931428571428,7433.2471428571425,8712.96375,9263.922857142858,9567.94125,9227.28,9423.374285714284,9169.360033764284,9146.43,9268.534285714286,9324.60851151857,9212.747142857144,9406.094285714284,9314.854339631427,9330.58957899,9208.41,8770.252857142856,8799.66142857143,9052.122857142856,8719.174285714285,8829.061249999999,8781.788571428571,8638.50285758,8472.818333333335,8493.525714285715,8499.224285714286,8178.654627714286,8132.035895306667,8093.691428571428,7630.871428571429,7285.972857142857,7336.04857142857,6922.329339011251,7134.780089000001,7155.311351800001,7537.59142857143,7422.978571428571,7744.494912308571,7552.902857142856,7419.954285714286,7317.805714285714,7300.006666666667,7184.865,7389.300638342856,7558.90857142857,7500.544285714284,7521.691730752856,7336.03,7225.50142857143,7263.805,7203.65,7257.084285714286,7062.7528571428575,7125.294678075,6892.138571428573,6630.021249999999,7318.656120150001,7157.4,7189.741428571429,7135.962857142857,7560.652499999998,7318.937142857144,7264.949668097142,7202.522857142858,7202.178571428572,7254.018571428571,7309.849540571428,7377.722857142857,7203.45375,7176.2,7187.028571428572,6957.141428571428,7340.8657142857155,7368.65857142857,7350.75142857143,7780.555714285714,8177.521428571429,8025.125,7818.328425828572,8178.862857142856,7983.69625,8189.145714285716,8112.155,8748.6,8831.210000000001,8728.51375,8871.811249999999,8904.764285714287,8721.285897785714,8639.28,8737.34,8673.796666666667,8395.81,8427.308571428572,8319.70637994,8633.52737929375,8912.622923352856,9397.54,9274.95,9494.225,9354.561428571427,9378.75142857143,9318.61,9293.947668521429,9177.368571428571,9623.37125,9761.617142857143,9799.172857142858,9900.048571428571,10173.275,9859.012857142856,10266.46625,10329.842857142856,10237.27,10364.314285714288,9902.195714285715,9917.129643032498,9692.21,10194.58857142857,9582.574285714283,9597.978571428572,9677.755714285717,9658.208571428571,9955.404285714289,9666.614285714286,9321.465,8777.102499999999,8795.72015978875,8722.617142857142,8554.41375,8515.376250000001,8911.544371741249,8773.279999999999,8773.46625,9054.83875,9151.962857142858,8877.393750000001,8090.863749999998,7950.1425,7874.21875,7959.322857142856,4993.935,5569.55,5178.771428571429,5288.168571428571,5043.70125,5365.1637500000015,5444.9937500000015,6218.17625,6197.043750000002,6164.8328571428565,5802.4225,6547.12875,6695.065,6739.85375,6759.65,6272.0275,6270.748571428572,5899.785000000002,6399.317142857143,6427.268062886251,6732.0875000000015,6793.13451721375,6727.804618532857,6883.419999999999,6779.923750000001,7327.262500000002,7209.7185714285715,7338.69625,7292.172857142857,6884.1025,6887.6285714285705,6884.462499999999,6867.322499999998,6830.079999999999,6534.821250000001,7120.39773716375,7054.97125,7263.1943652671425,7119.231428571429,6838.6214285714295,6845.924407714288,7142.755,7502.24,7502.312046071428,7530.5999999999985,7730.65125,7766.12155518,7765.9000000000015,8763.78125,8660.1821018925,8781.47125,8982.34,8918.724285714285,8899.147142857142,9024.89875,9084.506434763747,9978.707791115,9773.12,9553.1125,8770.58,8564.591250000001,8807.11875,9339.192570491248,9839.12071278,9325.445000000003,9350.56,9701.97,9700.868571428571,9766.953590475,9489.532857142856,9047.615,9171.842857142858,9164.245,8697.468750000002,8887.912857142857,8840.175,9191.865000000002,9596.899382552858,9422.8475,9682.12732090625,9438.654285714289,10177.06875,9507.337955781428,9667.432656357145,9801.97,9586.56875,9662.468571428572,9762.655714285716,9839.23625,9772.080711707142,9893.4171407025,9256.15857142857,9469.474285714285,9469.551428571427,9327.574285714289,9435.527142857143,9529.64,9462.921794685712,9376.608571428573,9307.411840505714,9366.225714285716,9278.4475,9705.598571428573,9624.021428571428,9280.641428571427,9238.03357717,9150.9527378575,9004.197659582858,9121.941428571428,9192.274813674285,9121.642857142857,9231.202857142858,9081.696342025714,9049.824285714289,9137.576666666666,9082.521428571428,9336.327730285711,9263.378571428571,9437.21,9235.315215426665,9298.452857142856,9237.61,9318.237142857142,9233.430061915711,9257.905714285716,9201.27,9137.702857142856,9152.551428571427,9173.792857142857,9219.9,9161.535,9390.587142857144,9529.953199476666,9609.794736545711,9547.63,9696.596709434289,9935.7198044075,11115.39,10948.021428571428,11079.498314734286,11134.331428571428,11386.972857142857,11806.785714285714,11046.619938664287,11241.361428571428,11200.111428571428,11755.482787434285,11755.268571428573,11579.8359850175,11776.45857142857,11692.302200135717,11895.39,11389.028571428573,11552.191428571428,11816.73375,11787.351129285713,11856.243361971428,11929.1075,12323.778512571427,11976.984285714285,11767.252857142856,11859.252857142856,11537.264285714287,11675.859789238571,11648.751428571428,11758.205714285712,11317.694285714284,11455.33493896,11338.272643574288,11536.792857142857,11468.867142857143,11701.093943295711,11672.190174857142,11928.2750607425,11381.468540557142,10218.8335365875,10462.975714285714,10147.9136518,10251.79100114286,10395.965022134284,10128.807665946666,10229.701531865716,10360.344736134286,10394.79,10434.688045751427,10326.064285714285,10680.748356612856,10789.1,10939.6075,10946.781425911666,10944.877142857144,11073.434285714287,10909.52047857,10415.24625,10529.451428571429,10236.375,10740.7925,10692.396485828573,10732.829808719998,10867.80875,10677.391261395,10846.871740285716,10799.124285714284,10602.387142857144,10576.851466285714,10532.256826,10662.292980751428,10798.427142857145,10596.138571428572,10672.126792172858,10931.18818340143,11058.657677903331,11303.25656,11368.78064412857,11533.93714285714,11425.679999999997,11420.204518857145,11495.64857142857,11326.942446825717,11358.80582936,11522.59,11754.15285714286,11906.61,12838.14412429,12961.08767625,12932.506884571429,13111.145,13032.464285714286,13059.047142857142,13617.21833333333,13276.27899418286,13443.800150538573,13568.674285714284,13741.11073,13791.72179832,13564.261428571428,14027.042857142858,14150.20857142857,15603.2247695675,15575.88282195,14792.846488965715,15502.27,15309.545714285716,15322.4970113075,15706.602857142856,16336.77875,16328.53,16074.82379355,15929.63589306286,16704.50142857143,17652.52,17810.245,17832.925,18685.49878537625,18669.53527189857,18459.611031405715,18343.077142857142,19131.9875,18688.571428571428,17180.950219738752,17166.34285714286,17739.787142857145,18218.804285714286,19658.71962105,18724.989003125,19282.87625,19401.255,18657.614285714284,19153.09384257143,19380.656676355,19186.028795498565,18332.30625,18531.7875,18283.558571428573,18090.11625,18851.36571428572,19123.75428571429,19292.4825,19452.983624571432,21378.9,22768.97461896,23157.7434305225,23766.4425,23389.85625,22780.88,23835.04125,23191.007142857143,23753.53857142857,24764.13285714286,26518.967142857146,26301.60125,26975.18625,27435.745000000006,28871.285,29032.3875,29306.98571428572,32206.65142857143,32915.57625000001,32123.22,34091.1,36891.55073339143,39396.28625,40675.49,40319.71571428572,38081.40714285714,35391.775714285715,33898.29952925,37675.95,39039.57125,37010.01375000001,35871.37857142857,35918.002499999995,36895.18625000001,35729.70375,35581.81571428572,30569.605,32752.772857142845,31945.802857142862,32238.27177147714,31898.97125,32443.31074063375,30612.99875,33514.56857142857,34565.21571428572,34089.171428571426,33068.97714285714,33478.508571428574,35480.87571428572,37762.00285714286,37135.25375,38240.45,38954.98285714286,38857.10026125143,46611.03,46538.621428571416,45024.73428571429,48144.72714285714,47396.0,47297.95285714285,48758.73714285715,47846.85428571429,49305.02285714285,52262.678571428565,51684.43428571429,56145.63428571428,55753.15571428571,57429.62142857142,53909.56,49089.05594833999,49892.27571428572,46755.5375,46263.41000000001,45809.24875000001,45406.39000000001,49661.485714285714,48381.402857142864,50193.01,48168.79564546,48832.00714285715,49066.70256478285,51044.99714285714,52502.045714285705,55020.36291758,55896.375714285714,57925.75714285715,56981.30857142858,60999.43285714286,59040.31000000001,55330.99142857143,57131.468571428566,59192.63857142857,57530.61,57902.11875,57932.62250000001,57354.35142857144,54128.38428571429,54410.68142857144,52214.30875,51449.30142857144,55337.05125,55932.56142857143,55858.38571428572,57485.137023225,58735.91700385714,58838.188571428575,58766.92714285715,59025.11571428571,56680.8325,58269.0924632,59275.07428571429,58007.004139714285,55976.94714285714,58135.14000000001,58143.15,59870.905,60314.77375,59857.54285714285,63676.67142857143,63355.735714285714,63266.40000000001,61463.51166666668,60199.63,56346.577142857146,55699.99285714285,56523.92142682,53965.16428571429,51782.68875,51172.74,50133.2,49223.80125000001,54003.315008528574,55103.73142857144,54942.73135765428,53522.64428571429,57566.82714285714,57757.357142857145,56671.42714285715,57050.08,53014.72,57400.79,56416.00142857143,57259.621054711424,58965.79428571429,58370.82023995714,55997.651216668586,56605.222857142864,47764.98387449,49588.640747248566,49838.107142857145,46906.89507628125,46623.295,43646.78468531858,42727.22625,36995.37625,40899.08680147002,37582.32571428572,37051.22125,35222.952052643755,38630.08794993714,38288.13,39116.33515182,38236.667142857135,35858.29571428571,34521.02285714286,35444.183750000004,37205.652857142864,36858.22714285715,37485.31120159715,39192.56857142857,36720.65456584286,35608.820000000014,35863.35156985857,33817.02857142857,33533.56,37309.97857142857,36418.795,37301.120120098574,35555.39714285714,39108.288571428566,40608.28142857144,40046.14571428571,38426.72385612287,38047.707142857136,35690.810000000005,35424.65142857143,35535.944285714286,31519.494140107134,32612.10386369,33781.92083048125,34656.58397622857,31482.802857142862,32177.37571428572,34675.88285714285,34441.63285714285,35889.640484094285,35000.718571428566,33473.402857142864,33853.96428571428,34661.42,35081.368571428575,33750.689999999995,34186.62875,33898.73857142857,32869.26567933428,33798.28571428572,33555.23142857143,34202.672857142854,33047.94,32730.342857142863,32830.59428571429,31841.031428571438,31407.76714285713,31492.5275,31701.11571428572,30848.15984223572,29840.225714285712,32015.385714285712,32323.1,33571.49658209,34224.98,35327.90857142857,37274.38571428572,39413.70285714285,40063.084285714285,39913.750000000015,42101.11811653856,41295.75142857143,39946.375714285714,39095.724285714285,38290.75094141857,39683.805714285714,40838.82857142858,42801.90285714285,44475.035714285725,43865.25142857143,46180.02999999999,45521.97714285714,45505.44249999999,44442.982832485,47754.05428571429,47168.65428571428,47113.74571428573,45884.27428571428,44775.96,44767.038571428566,46708.49571428571,49276.19,48817.72714285715,49335.058234048585,49491.91428571428,47810.0875,49014.1266885325,46878.9475,49039.99285714285,48930.01857142856,48845.555714285714,46959.26285714285,47070.90571428571,48896.00714285714,49300.514285714286,49917.12672549125,49898.67875,51732.43327457144,52643.86,46760.94142857144,46037.32857142858,46438.1237810675,44955.33625,45125.428571428565,46044.92142857142,44934.62285714286,47166.777142857136,48135.6,47749.89625000001,47350.22142857144,48271.05625,47313.35142857144],\"type\":\"scatter\"}],                        {\"title\":{\"text\":\"Actual vs. 'Out-of-Sample' Forecast | Close\"},\"xaxis\":{\"title\":{\"text\":\"Time\"}},\"yaxis\":{\"title\":{\"text\":\"Values\"}},\"template\":{\"data\":{\"barpolar\":[{\"marker\":{\"line\":{\"color\":\"rgb(237,237,237)\",\"width\":0.5},\"pattern\":{\"fillmode\":\"overlay\",\"size\":10,\"solidity\":0.2}},\"type\":\"barpolar\"}],\"bar\":[{\"error_x\":{\"color\":\"rgb(51,51,51)\"},\"error_y\":{\"color\":\"rgb(51,51,51)\"},\"marker\":{\"line\":{\"color\":\"rgb(237,237,237)\",\"width\":0.5},\"pattern\":{\"fillmode\":\"overlay\",\"size\":10,\"solidity\":0.2}},\"type\":\"bar\"}],\"carpet\":[{\"aaxis\":{\"endlinecolor\":\"rgb(51,51,51)\",\"gridcolor\":\"white\",\"linecolor\":\"white\",\"minorgridcolor\":\"white\",\"startlinecolor\":\"rgb(51,51,51)\"},\"baxis\":{\"endlinecolor\":\"rgb(51,51,51)\",\"gridcolor\":\"white\",\"linecolor\":\"white\",\"minorgridcolor\":\"white\",\"startlinecolor\":\"rgb(51,51,51)\"},\"type\":\"carpet\"}],\"choropleth\":[{\"colorbar\":{\"outlinewidth\":0,\"tickcolor\":\"rgb(237,237,237)\",\"ticklen\":6,\"ticks\":\"inside\"},\"type\":\"choropleth\"}],\"contourcarpet\":[{\"colorbar\":{\"outlinewidth\":0,\"tickcolor\":\"rgb(237,237,237)\",\"ticklen\":6,\"ticks\":\"inside\"},\"type\":\"contourcarpet\"}],\"contour\":[{\"colorbar\":{\"outlinewidth\":0,\"tickcolor\":\"rgb(237,237,237)\",\"ticklen\":6,\"ticks\":\"inside\"},\"colorscale\":[[0,\"rgb(20,44,66)\"],[1,\"rgb(90,179,244)\"]],\"type\":\"contour\"}],\"heatmapgl\":[{\"colorbar\":{\"outlinewidth\":0,\"tickcolor\":\"rgb(237,237,237)\",\"ticklen\":6,\"ticks\":\"inside\"},\"colorscale\":[[0,\"rgb(20,44,66)\"],[1,\"rgb(90,179,244)\"]],\"type\":\"heatmapgl\"}],\"heatmap\":[{\"colorbar\":{\"outlinewidth\":0,\"tickcolor\":\"rgb(237,237,237)\",\"ticklen\":6,\"ticks\":\"inside\"},\"colorscale\":[[0,\"rgb(20,44,66)\"],[1,\"rgb(90,179,244)\"]],\"type\":\"heatmap\"}],\"histogram2dcontour\":[{\"colorbar\":{\"outlinewidth\":0,\"tickcolor\":\"rgb(237,237,237)\",\"ticklen\":6,\"ticks\":\"inside\"},\"colorscale\":[[0,\"rgb(20,44,66)\"],[1,\"rgb(90,179,244)\"]],\"type\":\"histogram2dcontour\"}],\"histogram2d\":[{\"colorbar\":{\"outlinewidth\":0,\"tickcolor\":\"rgb(237,237,237)\",\"ticklen\":6,\"ticks\":\"inside\"},\"colorscale\":[[0,\"rgb(20,44,66)\"],[1,\"rgb(90,179,244)\"]],\"type\":\"histogram2d\"}],\"histogram\":[{\"marker\":{\"pattern\":{\"fillmode\":\"overlay\",\"size\":10,\"solidity\":0.2}},\"type\":\"histogram\"}],\"mesh3d\":[{\"colorbar\":{\"outlinewidth\":0,\"tickcolor\":\"rgb(237,237,237)\",\"ticklen\":6,\"ticks\":\"inside\"},\"type\":\"mesh3d\"}],\"parcoords\":[{\"line\":{\"colorbar\":{\"outlinewidth\":0,\"tickcolor\":\"rgb(237,237,237)\",\"ticklen\":6,\"ticks\":\"inside\"}},\"type\":\"parcoords\"}],\"pie\":[{\"automargin\":true,\"type\":\"pie\"}],\"scatter3d\":[{\"line\":{\"colorbar\":{\"outlinewidth\":0,\"tickcolor\":\"rgb(237,237,237)\",\"ticklen\":6,\"ticks\":\"inside\"}},\"marker\":{\"colorbar\":{\"outlinewidth\":0,\"tickcolor\":\"rgb(237,237,237)\",\"ticklen\":6,\"ticks\":\"inside\"}},\"type\":\"scatter3d\"}],\"scattercarpet\":[{\"marker\":{\"colorbar\":{\"outlinewidth\":0,\"tickcolor\":\"rgb(237,237,237)\",\"ticklen\":6,\"ticks\":\"inside\"}},\"type\":\"scattercarpet\"}],\"scattergeo\":[{\"marker\":{\"colorbar\":{\"outlinewidth\":0,\"tickcolor\":\"rgb(237,237,237)\",\"ticklen\":6,\"ticks\":\"inside\"}},\"type\":\"scattergeo\"}],\"scattergl\":[{\"marker\":{\"colorbar\":{\"outlinewidth\":0,\"tickcolor\":\"rgb(237,237,237)\",\"ticklen\":6,\"ticks\":\"inside\"}},\"type\":\"scattergl\"}],\"scattermapbox\":[{\"marker\":{\"colorbar\":{\"outlinewidth\":0,\"tickcolor\":\"rgb(237,237,237)\",\"ticklen\":6,\"ticks\":\"inside\"}},\"type\":\"scattermapbox\"}],\"scatterpolargl\":[{\"marker\":{\"colorbar\":{\"outlinewidth\":0,\"tickcolor\":\"rgb(237,237,237)\",\"ticklen\":6,\"ticks\":\"inside\"}},\"type\":\"scatterpolargl\"}],\"scatterpolar\":[{\"marker\":{\"colorbar\":{\"outlinewidth\":0,\"tickcolor\":\"rgb(237,237,237)\",\"ticklen\":6,\"ticks\":\"inside\"}},\"type\":\"scatterpolar\"}],\"scatter\":[{\"marker\":{\"colorbar\":{\"outlinewidth\":0,\"tickcolor\":\"rgb(237,237,237)\",\"ticklen\":6,\"ticks\":\"inside\"}},\"type\":\"scatter\"}],\"scatterternary\":[{\"marker\":{\"colorbar\":{\"outlinewidth\":0,\"tickcolor\":\"rgb(237,237,237)\",\"ticklen\":6,\"ticks\":\"inside\"}},\"type\":\"scatterternary\"}],\"surface\":[{\"colorbar\":{\"outlinewidth\":0,\"tickcolor\":\"rgb(237,237,237)\",\"ticklen\":6,\"ticks\":\"inside\"},\"colorscale\":[[0,\"rgb(20,44,66)\"],[1,\"rgb(90,179,244)\"]],\"type\":\"surface\"}],\"table\":[{\"cells\":{\"fill\":{\"color\":\"rgb(237,237,237)\"},\"line\":{\"color\":\"white\"}},\"header\":{\"fill\":{\"color\":\"rgb(217,217,217)\"},\"line\":{\"color\":\"white\"}},\"type\":\"table\"}]},\"layout\":{\"annotationdefaults\":{\"arrowhead\":0,\"arrowwidth\":1},\"autotypenumbers\":\"strict\",\"coloraxis\":{\"colorbar\":{\"outlinewidth\":0,\"tickcolor\":\"rgb(237,237,237)\",\"ticklen\":6,\"ticks\":\"inside\"}},\"colorscale\":{\"sequential\":[[0,\"rgb(20,44,66)\"],[1,\"rgb(90,179,244)\"]],\"sequentialminus\":[[0,\"rgb(20,44,66)\"],[1,\"rgb(90,179,244)\"]]},\"colorway\":[\"#F8766D\",\"#A3A500\",\"#00BF7D\",\"#00B0F6\",\"#E76BF3\"],\"font\":{\"color\":\"rgb(51,51,51)\"},\"geo\":{\"bgcolor\":\"white\",\"lakecolor\":\"white\",\"landcolor\":\"rgb(237,237,237)\",\"showlakes\":true,\"showland\":true,\"subunitcolor\":\"white\"},\"hoverlabel\":{\"align\":\"left\"},\"hovermode\":\"closest\",\"paper_bgcolor\":\"white\",\"plot_bgcolor\":\"rgb(237,237,237)\",\"polar\":{\"angularaxis\":{\"gridcolor\":\"white\",\"linecolor\":\"white\",\"showgrid\":true,\"tickcolor\":\"rgb(51,51,51)\",\"ticks\":\"outside\"},\"bgcolor\":\"rgb(237,237,237)\",\"radialaxis\":{\"gridcolor\":\"white\",\"linecolor\":\"white\",\"showgrid\":true,\"tickcolor\":\"rgb(51,51,51)\",\"ticks\":\"outside\"}},\"scene\":{\"xaxis\":{\"backgroundcolor\":\"rgb(237,237,237)\",\"gridcolor\":\"white\",\"gridwidth\":2,\"linecolor\":\"white\",\"showbackground\":true,\"showgrid\":true,\"tickcolor\":\"rgb(51,51,51)\",\"ticks\":\"outside\",\"zerolinecolor\":\"white\"},\"yaxis\":{\"backgroundcolor\":\"rgb(237,237,237)\",\"gridcolor\":\"white\",\"gridwidth\":2,\"linecolor\":\"white\",\"showbackground\":true,\"showgrid\":true,\"tickcolor\":\"rgb(51,51,51)\",\"ticks\":\"outside\",\"zerolinecolor\":\"white\"},\"zaxis\":{\"backgroundcolor\":\"rgb(237,237,237)\",\"gridcolor\":\"white\",\"gridwidth\":2,\"linecolor\":\"white\",\"showbackground\":true,\"showgrid\":true,\"tickcolor\":\"rgb(51,51,51)\",\"ticks\":\"outside\",\"zerolinecolor\":\"white\"}},\"shapedefaults\":{\"fillcolor\":\"black\",\"line\":{\"width\":0},\"opacity\":0.3},\"ternary\":{\"aaxis\":{\"gridcolor\":\"white\",\"linecolor\":\"white\",\"showgrid\":true,\"tickcolor\":\"rgb(51,51,51)\",\"ticks\":\"outside\"},\"baxis\":{\"gridcolor\":\"white\",\"linecolor\":\"white\",\"showgrid\":true,\"tickcolor\":\"rgb(51,51,51)\",\"ticks\":\"outside\"},\"bgcolor\":\"rgb(237,237,237)\",\"caxis\":{\"gridcolor\":\"white\",\"linecolor\":\"white\",\"showgrid\":true,\"tickcolor\":\"rgb(51,51,51)\",\"ticks\":\"outside\"}},\"xaxis\":{\"automargin\":true,\"gridcolor\":\"white\",\"linecolor\":\"white\",\"showgrid\":true,\"tickcolor\":\"rgb(51,51,51)\",\"ticks\":\"outside\",\"title\":{\"standoff\":15},\"zerolinecolor\":\"white\"},\"yaxis\":{\"automargin\":true,\"gridcolor\":\"white\",\"linecolor\":\"white\",\"showgrid\":true,\"tickcolor\":\"rgb(51,51,51)\",\"ticks\":\"outside\",\"title\":{\"standoff\":15},\"zerolinecolor\":\"white\"}}},\"showlegend\":true},                        {\"responsive\": true}                    ).then(function(){\n",
       "                            \n",
       "var gd = document.getElementById('032db9a5-e425-44c1-bb73-5a18a06fe624');\n",
       "var x = new MutationObserver(function (mutations, observer) {{\n",
       "        var display = window.getComputedStyle(gd).display;\n",
       "        if (!display || display === 'none') {{\n",
       "            console.log([gd, 'removed!']);\n",
       "            Plotly.purge(gd);\n",
       "            observer.disconnect();\n",
       "        }}\n",
       "}});\n",
       "\n",
       "// Listen for the removal of the full notebook cells\n",
       "var notebookContainer = gd.closest('#notebook-container');\n",
       "if (notebookContainer) {{\n",
       "    x.observe(notebookContainer, {childList: true});\n",
       "}}\n",
       "\n",
       "// Listen for the clearing of the current output cell\n",
       "var outputEl = gd.closest('.output');\n",
       "if (outputEl) {{\n",
       "    x.observe(outputEl, {childList: true});\n",
       "}}\n",
       "\n",
       "                        })                };                });            </script>        </div>"
      ]
     },
     "metadata": {},
     "output_type": "display_data"
    }
   ],
   "source": [
    "plot_model(best_model, plot='forecast', data_kwargs={'fh':100})"
   ]
  }
 ],
 "metadata": {
  "kernelspec": {
   "display_name": "Python 3",
   "language": "python",
   "name": "python3"
  },
  "language_info": {
   "codemirror_mode": {
    "name": "ipython",
    "version": 3
   },
   "file_extension": ".py",
   "mimetype": "text/x-python",
   "name": "python",
   "nbconvert_exporter": "python",
   "pygments_lexer": "ipython3",
   "version": "3.7.12"
  },
  "papermill": {
   "default_parameters": {},
   "duration": 314.864956,
   "end_time": "2021-12-11T03:40:37.137449",
   "environment_variables": {},
   "exception": null,
   "input_path": "__notebook__.ipynb",
   "output_path": "__notebook__.ipynb",
   "parameters": {},
   "start_time": "2021-12-11T03:35:22.272493",
   "version": "2.3.3"
  },
  "widgets": {
   "application/vnd.jupyter.widget-state+json": {
    "state": {
     "1564ce6a1df94549abeec0bbacaa84e4": {
      "model_module": "@jupyter-widgets/controls",
      "model_module_version": "1.5.0",
      "model_name": "IntProgressModel",
      "state": {
       "_dom_classes": [],
       "_model_module": "@jupyter-widgets/controls",
       "_model_module_version": "1.5.0",
       "_model_name": "IntProgressModel",
       "_view_count": null,
       "_view_module": "@jupyter-widgets/controls",
       "_view_module_version": "1.5.0",
       "_view_name": "ProgressView",
       "bar_style": "",
       "description": "Processing: ",
       "description_tooltip": null,
       "layout": "IPY_MODEL_52b5af52a50346c78acca67ae3ec6f47",
       "max": 3,
       "min": 0,
       "orientation": "horizontal",
       "style": "IPY_MODEL_99a809db43e74a2db3f62e0ea25b5cc3",
       "value": 3
      }
     },
     "52b5af52a50346c78acca67ae3ec6f47": {
      "model_module": "@jupyter-widgets/base",
      "model_module_version": "1.2.0",
      "model_name": "LayoutModel",
      "state": {
       "_model_module": "@jupyter-widgets/base",
       "_model_module_version": "1.2.0",
       "_model_name": "LayoutModel",
       "_view_count": null,
       "_view_module": "@jupyter-widgets/base",
       "_view_module_version": "1.2.0",
       "_view_name": "LayoutView",
       "align_content": null,
       "align_items": null,
       "align_self": null,
       "border": null,
       "bottom": null,
       "display": null,
       "flex": null,
       "flex_flow": null,
       "grid_area": null,
       "grid_auto_columns": null,
       "grid_auto_flow": null,
       "grid_auto_rows": null,
       "grid_column": null,
       "grid_gap": null,
       "grid_row": null,
       "grid_template_areas": null,
       "grid_template_columns": null,
       "grid_template_rows": null,
       "height": null,
       "justify_content": null,
       "justify_items": null,
       "left": null,
       "margin": null,
       "max_height": null,
       "max_width": null,
       "min_height": null,
       "min_width": null,
       "object_fit": null,
       "object_position": null,
       "order": null,
       "overflow": null,
       "overflow_x": null,
       "overflow_y": null,
       "padding": null,
       "right": null,
       "top": null,
       "visibility": null,
       "width": null
      }
     },
     "99a809db43e74a2db3f62e0ea25b5cc3": {
      "model_module": "@jupyter-widgets/controls",
      "model_module_version": "1.5.0",
      "model_name": "ProgressStyleModel",
      "state": {
       "_model_module": "@jupyter-widgets/controls",
       "_model_module_version": "1.5.0",
       "_model_name": "ProgressStyleModel",
       "_view_count": null,
       "_view_module": "@jupyter-widgets/base",
       "_view_module_version": "1.2.0",
       "_view_name": "StyleView",
       "bar_color": null,
       "description_width": ""
      }
     },
     "d20f01710125457986cdb3c6f71d748b": {
      "model_module": "@jupyter-widgets/base",
      "model_module_version": "1.2.0",
      "model_name": "LayoutModel",
      "state": {
       "_model_module": "@jupyter-widgets/base",
       "_model_module_version": "1.2.0",
       "_model_name": "LayoutModel",
       "_view_count": null,
       "_view_module": "@jupyter-widgets/base",
       "_view_module_version": "1.2.0",
       "_view_name": "LayoutView",
       "align_content": null,
       "align_items": null,
       "align_self": null,
       "border": null,
       "bottom": null,
       "display": null,
       "flex": null,
       "flex_flow": null,
       "grid_area": null,
       "grid_auto_columns": null,
       "grid_auto_flow": null,
       "grid_auto_rows": null,
       "grid_column": null,
       "grid_gap": null,
       "grid_row": null,
       "grid_template_areas": null,
       "grid_template_columns": null,
       "grid_template_rows": null,
       "height": null,
       "justify_content": null,
       "justify_items": null,
       "left": null,
       "margin": null,
       "max_height": null,
       "max_width": null,
       "min_height": null,
       "min_width": null,
       "object_fit": null,
       "object_position": null,
       "order": null,
       "overflow": null,
       "overflow_x": null,
       "overflow_y": null,
       "padding": null,
       "right": null,
       "top": null,
       "visibility": null,
       "width": null
      }
     },
     "e1b3b49a022240559cf062a0fa15a730": {
      "model_module": "@jupyter-widgets/controls",
      "model_module_version": "1.5.0",
      "model_name": "ProgressStyleModel",
      "state": {
       "_model_module": "@jupyter-widgets/controls",
       "_model_module_version": "1.5.0",
       "_model_name": "ProgressStyleModel",
       "_view_count": null,
       "_view_module": "@jupyter-widgets/base",
       "_view_module_version": "1.2.0",
       "_view_name": "StyleView",
       "bar_color": null,
       "description_width": ""
      }
     },
     "f8ea406ad5cd42f18d1dd7bf9698585a": {
      "model_module": "@jupyter-widgets/controls",
      "model_module_version": "1.5.0",
      "model_name": "IntProgressModel",
      "state": {
       "_dom_classes": [],
       "_model_module": "@jupyter-widgets/controls",
       "_model_module_version": "1.5.0",
       "_model_name": "IntProgressModel",
       "_view_count": null,
       "_view_module": "@jupyter-widgets/controls",
       "_view_module_version": "1.5.0",
       "_view_name": "ProgressView",
       "bar_style": "",
       "description": "Processing: ",
       "description_tooltip": null,
       "layout": "IPY_MODEL_d20f01710125457986cdb3c6f71d748b",
       "max": 149,
       "min": 0,
       "orientation": "horizontal",
       "style": "IPY_MODEL_e1b3b49a022240559cf062a0fa15a730",
       "value": 144
      }
     }
    },
    "version_major": 2,
    "version_minor": 0
   }
  }
 },
 "nbformat": 4,
 "nbformat_minor": 5
}
