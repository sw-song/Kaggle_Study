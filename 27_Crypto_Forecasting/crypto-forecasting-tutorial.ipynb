{
 "cells": [
  {
   "cell_type": "markdown",
   "id": "2aa810b4",
   "metadata": {
    "papermill": {
     "duration": 0.089015,
     "end_time": "2021-12-13T09:52:18.334245",
     "exception": false,
     "start_time": "2021-12-13T09:52:18.245230",
     "status": "completed"
    },
    "tags": []
   },
   "source": [
    "# [원문] [Crypto forecasting tutorial - carlos stein n brito](https://www.kaggle.com/cstein06/tutorial-to-the-g-research-crypto-competition)\n",
    "\n",
    "This kernel is the Korean translation of [Crypto forecasting tutorial - carlos stein n brito](https://www.kaggle.com/cstein06/tutorial-to-the-g-research-crypto-competition). Please refer to the link for the original text.\n",
    "\n",
    "본 커널은 [Crypto forecasting tutorial - carlos stein n brito](https://www.kaggle.com/cstein06/tutorial-to-the-g-research-crypto-competition)의 한국어 번역본입니다. 원문을 보고 싶으시면 링크를 참고해주세요.\n",
    "\n",
    "---\n",
    "*원문을 번역하면서 부가 설명 및 설명을 위한 코드를 추가했습니다. 따라서 원문에는 없는 주석이나 내용이 포함되어 있을 수 있으니 참고 부탁드립니다.*"
   ]
  },
  {
   "cell_type": "markdown",
   "id": "fe065b70",
   "metadata": {
    "papermill": {
     "duration": 0.087672,
     "end_time": "2021-12-13T09:52:18.509664",
     "exception": false,
     "start_time": "2021-12-13T09:52:18.421992",
     "status": "completed"
    },
    "tags": []
   },
   "source": [
    "> Table of Contents\n",
    "```\n",
    "1. G-Research Crypto forecasting competition\n",
    "   1-1. The Cryptocurrency Market(암호화폐 시장)\n",
    "   1-2. Forecasting returns(수익 예측)\n",
    "2. Dataset description(데이터셋 소개)\n",
    "   2-1. Load the training set(학습 데이터 불러오기)\n",
    "   2-2. Data features\n",
    "   2-3. Candlestick charts(캔들 차트)\n",
    "3. Preprocessing(전처리)\n",
    "   3-1. Dealing with missing data(결측치 처리)\n",
    "   3-2. Data visualization\n",
    "   3-3. Log returns(로그 변환된 수익)\n",
    "   3-4. Correlation between assets\n",
    "4. Building your prediction model(예측 모델 구현)\n",
    "   4-1. Prediction targets and evaluation\n",
    "   4-2. Feature design\n",
    "   4-3. Preparing the data for building predictive models\n",
    "   4-4. Baseline model: Linear Regression(선형 회귀)\n",
    "```"
   ]
  },
  {
   "cell_type": "markdown",
   "id": "a19d4f59",
   "metadata": {
    "papermill": {
     "duration": 0.086148,
     "end_time": "2021-12-13T09:52:18.684475",
     "exception": false,
     "start_time": "2021-12-13T09:52:18.598327",
     "status": "completed"
    },
    "tags": []
   },
   "source": [
    "## 1. G-Research Crypto forecasting competition"
   ]
  },
  {
   "cell_type": "markdown",
   "id": "ac71e411",
   "metadata": {
    "papermill": {
     "duration": 0.085936,
     "end_time": "2021-12-13T09:52:18.857923",
     "exception": false,
     "start_time": "2021-12-13T09:52:18.771987",
     "status": "completed"
    },
    "tags": []
   },
   "source": [
    "[G-Research Crypto forecasting competition](https://www.kaggleusercontent.com/kf/78721864/eyJhbGciOiJkaXIiLCJlbmMiOiJBMTI4Q0JDLUhTMjU2In0..pLhgGXU4kw56ttAxAdOh2Q.Z3kMdL5jKOuvGqGPIDp272XUHrIC7OVW0MTjTi4IzYqJJqrPWJRInG6aKvMZJ_oDJ2N_ioNiR3OmnHU0MIoD99M-2TlPIkXtwVIqn6aXlKNoRQoLnUiHd583xLYosT1tcI2ThBsxigVMZQZf8iP4PgZz_ZRKHivlKpd63JtK_fmoLvPOGPrPgABA3Sq13_vxpM2htnVOc218zkrSV7189xeUl3r4PR-lG5r1Nqriyuht54us243c9Rwlh7yM0_Am29sq4NXkRoJbGSiHWC5VQnUzx1cqsJPhLG0t0P-AVbwZS2JixR29mqZ09bNGvIpSaEtDOn6Q7eXW7aIwzdJdq-O_FWEiUsd-lOFS_FfpIVShloTLL-zzWs-cc_IolYlrdVTI7JgED9IwvdcUxdySA6Neqzj55-jVwoYsla9gaT5tN_htxLgNkrBBL6Smo4yGrXfL59aEdWMxekTIhryN35d4Ayf7_L1_LOqyMoUskSC_HA8MSRnrJfBwg_bs8B8qB0dTOhFBe_CYbSohDV2hzlup3oPzjl5nb14sJArRjuScsgDr7w1cdpgRwQAJeVNl4Rnm_WxTvEWEhHwelvt5pbVv7zwaWxo2eKSYu2VGKDgF6nVyURq_kuBHk-ZfKyAKCnW_h8FtfoGir2VNIbFh9yzyCsLSKu1uUmXsHGf6JWT6dxT49DEm_thqtPBMIvKN.ew0nR2D55NdrgO0l-z3S3Q/link)에서 참가자들은 주요 암호화폐들에 대한 수익 예측에 도전합니다. 그리고 저희는 여러분의 원활한 참여를 돕기 위해 이번 예측 대회의 주요 사항들을 커버하는 튜토리얼 Notebook을 작성하기로 했습니다."
   ]
  },
  {
   "cell_type": "markdown",
   "id": "49ccf937",
   "metadata": {
    "papermill": {
     "duration": 0.08707,
     "end_time": "2021-12-13T09:52:19.031937",
     "exception": false,
     "start_time": "2021-12-13T09:52:18.944867",
     "status": "completed"
    },
    "tags": []
   },
   "source": [
    "### 1-1. The Cryptocurrency Market(암호화폐 시장)"
   ]
  },
  {
   "cell_type": "markdown",
   "id": "28a5cd2e",
   "metadata": {
    "papermill": {
     "duration": 0.086406,
     "end_time": "2021-12-13T09:52:19.206162",
     "exception": false,
     "start_time": "2021-12-13T09:52:19.119756",
     "status": "completed"
    },
    "tags": []
   },
   "source": [
    "먼저, 암호화폐 세계에 대해 빠르게 소개하겠습니다. 암호화폐는 굉장히 인기가 많고 격한 시장으로, 투자자들에게 엄청난 수익(또는 그 반대)을 가져다 주기도 합니다. 많은 분들이 아실 비트코인이나 이더리움을 포함해 지금까지 수 천개의 암호화폐들이 만들어졌습니다.\n",
    "\n",
    "CryptoCompare에 따르면(2021년 7월 25일 기준) 암호화폐는 지난 한 해 동안 매일 평균 거래량이 410억 달러로, 거래소에서 광범위하게 거래되었습니다.\n",
    "\n",
    "암호 화폐들 간에 주요한 특징이 있다면, 가격 변동이 서로 연결되어 있다는 점입니다. 예를 들어 비트코인은 암호 화폐 시장의 가격 변동을 주로 이끌어왔지만, 다른 수 많은 코인도 이 추세와 함께 움직여왔습니다. 모든 코인이 서로 유기적으로 시장에 영향을 주고 있는 것입니다."
   ]
  },
  {
   "cell_type": "markdown",
   "id": "125f3efd",
   "metadata": {
    "papermill": {
     "duration": 0.08664,
     "end_time": "2021-12-13T09:52:19.381863",
     "exception": false,
     "start_time": "2021-12-13T09:52:19.295223",
     "status": "completed"
    },
    "tags": []
   },
   "source": [
    "### 1-2. Forecasting returns(수익 예측)"
   ]
  },
  {
   "cell_type": "markdown",
   "id": "2f6c7231",
   "metadata": {
    "papermill": {
     "duration": 0.086358,
     "end_time": "2021-12-13T09:52:19.556173",
     "exception": false,
     "start_time": "2021-12-13T09:52:19.469815",
     "status": "completed"
    },
    "tags": []
   },
   "source": [
    "금융 모델링의 가장 근본적인 목적은 가까운 미래에 가격이 어떻게 변할지 예측하기 위함입니다. 학습 데이터로 주어진, 과거부터 현재까지의 시계열 가격 데이터를 사용하여 가격이 상승할지 하락할지, 그리고 자산 수익률이 얼마나 될지 예측하고자 합니다.\n",
    "\n",
    "이번 대회에서 캐글러들은 머신러닝 모델을 만들고 14개 대표 암호화폐들의 수익을 '분'에서 '시간' 단위로 예측하게 됩니다. 여러분은 수백만 행의 분당 암호화폐 거래 데이터에 접근할 수 있으며 이를 통해 14개 자산 모두에 대한 예측 모델을 동시에 설계할 수 있습니다. 경쟁이 종료된 후 3개월의 평가 기간 동안 수집된 실제 시장 데이터와 여러분의 예측이 얼마나 상관관계가 있는지에 따라 평가가 진행될 것입니다.\n",
    "\n",
    "암호화폐 수익 예측은 여전히 풀리지 않은 문제입니다. 과한 변동성, 시계열 데이터의 비정상성, 시장과 밈 조작, 매우 빠르게 변화하는 시황과 자산간의 관계를 고려할 때 이는 매우 어려운 예측 작업입니다. 그러나 이렇게 어려운 문제인만큼 상당히 매력적인 머신러닝 영역이기도 합니다."
   ]
  },
  {
   "cell_type": "markdown",
   "id": "2aa45aa8",
   "metadata": {
    "_cell_guid": "b1076dfc-b9ad-4769-8c92-a6c4dae69d19",
    "_uuid": "8f2839f25d086af736a60e9eeb907d3b93b6e0e5",
    "execution": {
     "iopub.execute_input": "2021-12-12T03:03:46.41777Z",
     "iopub.status.busy": "2021-12-12T03:03:46.417318Z",
     "iopub.status.idle": "2021-12-12T03:03:46.454343Z",
     "shell.execute_reply": "2021-12-12T03:03:46.453144Z",
     "shell.execute_reply.started": "2021-12-12T03:03:46.417687Z"
    },
    "papermill": {
     "duration": 0.090838,
     "end_time": "2021-12-13T09:52:19.737904",
     "exception": false,
     "start_time": "2021-12-13T09:52:19.647066",
     "status": "completed"
    },
    "tags": []
   },
   "source": [
    "## 2. Dataset description(데이터셋 소개)"
   ]
  },
  {
   "cell_type": "markdown",
   "id": "9e426fe0",
   "metadata": {
    "papermill": {
     "duration": 0.088558,
     "end_time": "2021-12-13T09:52:19.913893",
     "exception": false,
     "start_time": "2021-12-13T09:52:19.825335",
     "status": "completed"
    },
    "tags": []
   },
   "source": [
    "이제, 데이터를 살펴볼 것입니다. 먼저 대회 데이터셋을 불러와서 기본적인 요소들을 살펴보겠습니다."
   ]
  },
  {
   "cell_type": "markdown",
   "id": "e682ff89",
   "metadata": {
    "papermill": {
     "duration": 0.092659,
     "end_time": "2021-12-13T09:52:20.093984",
     "exception": false,
     "start_time": "2021-12-13T09:52:20.001325",
     "status": "completed"
    },
    "tags": []
   },
   "source": [
    "### 2-1. Load the training set(학습 데이터 불러오기)"
   ]
  },
  {
   "cell_type": "code",
   "execution_count": 1,
   "id": "66a71598",
   "metadata": {
    "execution": {
     "iopub.execute_input": "2021-12-13T09:52:20.274949Z",
     "iopub.status.busy": "2021-12-13T09:52:20.273785Z",
     "iopub.status.idle": "2021-12-13T09:52:20.282817Z",
     "shell.execute_reply": "2021-12-13T09:52:20.283352Z",
     "shell.execute_reply.started": "2021-12-13T08:41:59.484005Z"
    },
    "papermill": {
     "duration": 0.099526,
     "end_time": "2021-12-13T09:52:20.283660",
     "exception": false,
     "start_time": "2021-12-13T09:52:20.184134",
     "status": "completed"
    },
    "tags": []
   },
   "outputs": [],
   "source": [
    "import pandas as pd\n",
    "import numpy as np\n",
    "from datetime import datetime"
   ]
  },
  {
   "cell_type": "code",
   "execution_count": 2,
   "id": "047d1a4f",
   "metadata": {
    "execution": {
     "iopub.execute_input": "2021-12-13T09:52:20.463111Z",
     "iopub.status.busy": "2021-12-13T09:52:20.462294Z",
     "iopub.status.idle": "2021-12-13T09:52:21.235254Z",
     "shell.execute_reply": "2021-12-13T09:52:21.234666Z",
     "shell.execute_reply.started": "2021-12-13T08:41:59.490669Z"
    },
    "papermill": {
     "duration": 0.864511,
     "end_time": "2021-12-13T09:52:21.235412",
     "exception": false,
     "start_time": "2021-12-13T09:52:20.370901",
     "status": "completed"
    },
    "tags": []
   },
   "outputs": [
    {
     "name": "stdout",
     "output_type": "stream",
     "text": [
      "asset_details.csv\t       example_test.csv  supplemental_train.csv\r\n",
      "example_sample_submission.csv  gresearch_crypto  train.csv\r\n"
     ]
    }
   ],
   "source": [
    "data_folder = \"../input/g-research-crypto-forecasting/\"\n",
    "\n",
    "# !는 쉘 명령어의 시작을 의미합니다. 쉘 명령에서는 $기호로 변수를 사용할 수 있습니다.\n",
    "!ls $data_folder"
   ]
  },
  {
   "cell_type": "code",
   "execution_count": 3,
   "id": "09c029df",
   "metadata": {
    "execution": {
     "iopub.execute_input": "2021-12-13T09:52:21.419998Z",
     "iopub.status.busy": "2021-12-13T09:52:21.419292Z",
     "iopub.status.idle": "2021-12-13T09:53:24.477746Z",
     "shell.execute_reply": "2021-12-13T09:53:24.477059Z",
     "shell.execute_reply.started": "2021-12-13T08:42:00.285945Z"
    },
    "papermill": {
     "duration": 63.152081,
     "end_time": "2021-12-13T09:53:24.477903",
     "exception": false,
     "start_time": "2021-12-13T09:52:21.325822",
     "status": "completed"
    },
    "tags": []
   },
   "outputs": [],
   "source": [
    "# pandas 라이브러리를 사용해 csv파일을 읽어옵니다.\n",
    "# 읽어온 데이터는 데이터프레임으로 변환되어 crypto_df에 저장됩니다.\n",
    "crypto_df = pd.read_csv(data_folder + 'train.csv')"
   ]
  },
  {
   "cell_type": "code",
   "execution_count": 4,
   "id": "e0290a84",
   "metadata": {
    "execution": {
     "iopub.execute_input": "2021-12-13T09:53:24.662753Z",
     "iopub.status.busy": "2021-12-13T09:53:24.661680Z",
     "iopub.status.idle": "2021-12-13T09:53:24.687322Z",
     "shell.execute_reply": "2021-12-13T09:53:24.688103Z",
     "shell.execute_reply.started": "2021-12-13T08:43:05.122464Z"
    },
    "papermill": {
     "duration": 0.123392,
     "end_time": "2021-12-13T09:53:24.688341",
     "exception": false,
     "start_time": "2021-12-13T09:53:24.564949",
     "status": "completed"
    },
    "tags": []
   },
   "outputs": [
    {
     "data": {
      "text/html": [
       "<div>\n",
       "<style scoped>\n",
       "    .dataframe tbody tr th:only-of-type {\n",
       "        vertical-align: middle;\n",
       "    }\n",
       "\n",
       "    .dataframe tbody tr th {\n",
       "        vertical-align: top;\n",
       "    }\n",
       "\n",
       "    .dataframe thead th {\n",
       "        text-align: right;\n",
       "    }\n",
       "</style>\n",
       "<table border=\"1\" class=\"dataframe\">\n",
       "  <thead>\n",
       "    <tr style=\"text-align: right;\">\n",
       "      <th></th>\n",
       "      <th>timestamp</th>\n",
       "      <th>Asset_ID</th>\n",
       "      <th>Count</th>\n",
       "      <th>Open</th>\n",
       "      <th>High</th>\n",
       "      <th>Low</th>\n",
       "      <th>Close</th>\n",
       "      <th>Volume</th>\n",
       "      <th>VWAP</th>\n",
       "      <th>Target</th>\n",
       "    </tr>\n",
       "  </thead>\n",
       "  <tbody>\n",
       "    <tr>\n",
       "      <th>0</th>\n",
       "      <td>1514764860</td>\n",
       "      <td>2</td>\n",
       "      <td>40.0</td>\n",
       "      <td>2376.580000</td>\n",
       "      <td>2399.5000</td>\n",
       "      <td>2357.1400</td>\n",
       "      <td>2374.590000</td>\n",
       "      <td>19.233005</td>\n",
       "      <td>2373.116392</td>\n",
       "      <td>-0.004218</td>\n",
       "    </tr>\n",
       "    <tr>\n",
       "      <th>1</th>\n",
       "      <td>1514764860</td>\n",
       "      <td>0</td>\n",
       "      <td>5.0</td>\n",
       "      <td>8.530000</td>\n",
       "      <td>8.5300</td>\n",
       "      <td>8.5300</td>\n",
       "      <td>8.530000</td>\n",
       "      <td>78.380000</td>\n",
       "      <td>8.530000</td>\n",
       "      <td>-0.014399</td>\n",
       "    </tr>\n",
       "    <tr>\n",
       "      <th>2</th>\n",
       "      <td>1514764860</td>\n",
       "      <td>1</td>\n",
       "      <td>229.0</td>\n",
       "      <td>13835.194000</td>\n",
       "      <td>14013.8000</td>\n",
       "      <td>13666.1100</td>\n",
       "      <td>13850.176000</td>\n",
       "      <td>31.550062</td>\n",
       "      <td>13827.062093</td>\n",
       "      <td>-0.014643</td>\n",
       "    </tr>\n",
       "    <tr>\n",
       "      <th>3</th>\n",
       "      <td>1514764860</td>\n",
       "      <td>5</td>\n",
       "      <td>32.0</td>\n",
       "      <td>7.659600</td>\n",
       "      <td>7.6596</td>\n",
       "      <td>7.6567</td>\n",
       "      <td>7.657600</td>\n",
       "      <td>6626.713370</td>\n",
       "      <td>7.657713</td>\n",
       "      <td>-0.013922</td>\n",
       "    </tr>\n",
       "    <tr>\n",
       "      <th>4</th>\n",
       "      <td>1514764860</td>\n",
       "      <td>7</td>\n",
       "      <td>5.0</td>\n",
       "      <td>25.920000</td>\n",
       "      <td>25.9200</td>\n",
       "      <td>25.8740</td>\n",
       "      <td>25.877000</td>\n",
       "      <td>121.087310</td>\n",
       "      <td>25.891363</td>\n",
       "      <td>-0.008264</td>\n",
       "    </tr>\n",
       "    <tr>\n",
       "      <th>5</th>\n",
       "      <td>1514764860</td>\n",
       "      <td>6</td>\n",
       "      <td>173.0</td>\n",
       "      <td>738.302500</td>\n",
       "      <td>746.0000</td>\n",
       "      <td>732.5100</td>\n",
       "      <td>738.507500</td>\n",
       "      <td>335.987856</td>\n",
       "      <td>738.839291</td>\n",
       "      <td>-0.004809</td>\n",
       "    </tr>\n",
       "    <tr>\n",
       "      <th>6</th>\n",
       "      <td>1514764860</td>\n",
       "      <td>9</td>\n",
       "      <td>167.0</td>\n",
       "      <td>225.330000</td>\n",
       "      <td>227.7800</td>\n",
       "      <td>222.9800</td>\n",
       "      <td>225.206667</td>\n",
       "      <td>411.896642</td>\n",
       "      <td>225.197944</td>\n",
       "      <td>-0.009791</td>\n",
       "    </tr>\n",
       "    <tr>\n",
       "      <th>7</th>\n",
       "      <td>1514764860</td>\n",
       "      <td>11</td>\n",
       "      <td>7.0</td>\n",
       "      <td>329.090000</td>\n",
       "      <td>329.8800</td>\n",
       "      <td>329.0900</td>\n",
       "      <td>329.460000</td>\n",
       "      <td>6.635710</td>\n",
       "      <td>329.454118</td>\n",
       "      <td>NaN</td>\n",
       "    </tr>\n",
       "    <tr>\n",
       "      <th>8</th>\n",
       "      <td>1514764920</td>\n",
       "      <td>2</td>\n",
       "      <td>53.0</td>\n",
       "      <td>2374.553333</td>\n",
       "      <td>2400.9000</td>\n",
       "      <td>2354.2000</td>\n",
       "      <td>2372.286667</td>\n",
       "      <td>24.050259</td>\n",
       "      <td>2371.434498</td>\n",
       "      <td>-0.004079</td>\n",
       "    </tr>\n",
       "    <tr>\n",
       "      <th>9</th>\n",
       "      <td>1514764920</td>\n",
       "      <td>0</td>\n",
       "      <td>7.0</td>\n",
       "      <td>8.530000</td>\n",
       "      <td>8.5300</td>\n",
       "      <td>8.5145</td>\n",
       "      <td>8.514500</td>\n",
       "      <td>71.390000</td>\n",
       "      <td>8.520215</td>\n",
       "      <td>-0.015875</td>\n",
       "    </tr>\n",
       "  </tbody>\n",
       "</table>\n",
       "</div>"
      ],
      "text/plain": [
       "    timestamp  Asset_ID  Count          Open        High         Low  \\\n",
       "0  1514764860         2   40.0   2376.580000   2399.5000   2357.1400   \n",
       "1  1514764860         0    5.0      8.530000      8.5300      8.5300   \n",
       "2  1514764860         1  229.0  13835.194000  14013.8000  13666.1100   \n",
       "3  1514764860         5   32.0      7.659600      7.6596      7.6567   \n",
       "4  1514764860         7    5.0     25.920000     25.9200     25.8740   \n",
       "5  1514764860         6  173.0    738.302500    746.0000    732.5100   \n",
       "6  1514764860         9  167.0    225.330000    227.7800    222.9800   \n",
       "7  1514764860        11    7.0    329.090000    329.8800    329.0900   \n",
       "8  1514764920         2   53.0   2374.553333   2400.9000   2354.2000   \n",
       "9  1514764920         0    7.0      8.530000      8.5300      8.5145   \n",
       "\n",
       "          Close       Volume          VWAP    Target  \n",
       "0   2374.590000    19.233005   2373.116392 -0.004218  \n",
       "1      8.530000    78.380000      8.530000 -0.014399  \n",
       "2  13850.176000    31.550062  13827.062093 -0.014643  \n",
       "3      7.657600  6626.713370      7.657713 -0.013922  \n",
       "4     25.877000   121.087310     25.891363 -0.008264  \n",
       "5    738.507500   335.987856    738.839291 -0.004809  \n",
       "6    225.206667   411.896642    225.197944 -0.009791  \n",
       "7    329.460000     6.635710    329.454118       NaN  \n",
       "8   2372.286667    24.050259   2371.434498 -0.004079  \n",
       "9      8.514500    71.390000      8.520215 -0.015875  "
      ]
     },
     "execution_count": 4,
     "metadata": {},
     "output_type": "execute_result"
    }
   ],
   "source": [
    "# 데이터프레임에서 가장 상단 10개만 살펴봅니다.\n",
    "crypto_df.head(10)"
   ]
  },
  {
   "cell_type": "markdown",
   "id": "68acb959",
   "metadata": {
    "papermill": {
     "duration": 0.087472,
     "end_time": "2021-12-13T09:53:24.870924",
     "exception": false,
     "start_time": "2021-12-13T09:53:24.783452",
     "status": "completed"
    },
    "tags": []
   },
   "source": [
    "데이터 세트의 각 행(row)에 유닉스 시간 타임스탬프 기준, 각 거래 데이터를 살펴볼 수 있습니다. 아래에서 더 자세히 살펴보겠습니다."
   ]
  },
  {
   "cell_type": "markdown",
   "id": "852dc7fe",
   "metadata": {
    "papermill": {
     "duration": 0.086971,
     "end_time": "2021-12-13T09:53:25.045695",
     "exception": false,
     "start_time": "2021-12-13T09:53:24.958724",
     "status": "completed"
    },
    "tags": []
   },
   "source": [
    "### 2-2. Data features"
   ]
  },
  {
   "cell_type": "markdown",
   "id": "ebc42634",
   "metadata": {
    "papermill": {
     "duration": 0.087319,
     "end_time": "2021-12-13T09:53:25.222191",
     "exception": false,
     "start_time": "2021-12-13T09:53:25.134872",
     "status": "completed"
    },
    "tags": []
   },
   "source": [
    "데이터셋에는 서로 다른 특성(여기서는 컬럼)이 있고, 이 특성들이 각 자산에 대한 정보를 보여주고 있습니다.\n",
    "- **timestamp** : 모든 타임스탬프는 초 단위 Unix 타임스탬프(1970-01-01 00:00:00.000 UTC 이후 경과된 '초')로 반환됩니다. 이 데이터 세트의 타임스탬프는 60의 배수로 표현되어 있습니다. 즉, '분' 단위 데이터를 나타냅니다.\n",
    "- **Asset_ID** : Asset ID는 각 암호화폐와 매핑되어 있습니다(예를 들어 Asset_ID 1은 비트코인). `asset_details.csv` 파일에서 매핑 정보를 상세히 볼 수 있습니다.\n",
    "- **Count** : 각 타임스탬프별 거래 수를 의미합니다(분 단위 총 거래 수).\n",
    "- **Open** : USD(달러) 단위 시가.\n",
    "- **High** : 매 분마다 도달한 USD(달러) 단위 고가.\n",
    "- **Low** : 매 분마다 도달한 USD(달러) 단위 저가.\n",
    "- **Close** : USD(달러) 단위 종가.\n",
    "- **Volume** : 매수, 매도 수량.\n",
    "- **VWAP** : VWAP는 거래량 가중 평균 가격(Volume Weighted Average Price)을 의미합니다. 즉, 시간 간격 동안 자산의 평균 가격으로, 거래량으로 가중된 수치를 보여줍니다.\n",
    "- **Target** : 15분 단위의 log변환된 잔여이익(residual returns)을 보여줍니다. *(여기서 잔여이익이란 수수료 등을 제외하고 얻은 순이익을 뜻합니다.)*\n",
    "\n",
    "처음 2개 컬럼(timestamp, Asset_ID)은 각 행마다 시간과 자산 인덱스를 표시하고 있습니다. 중간 6개 컬럼(Count, Open, High, Low, Close, Volume)은 분 단위 자산의 거래 정보를 담고 있습니다. 마지막 컬럼(Target)은 우리가 예측할 타겟 정보입니다."
   ]
  },
  {
   "cell_type": "markdown",
   "id": "87c6a285",
   "metadata": {
    "papermill": {
     "duration": 0.091752,
     "end_time": "2021-12-13T09:53:25.401634",
     "exception": false,
     "start_time": "2021-12-13T09:53:25.309882",
     "status": "completed"
    },
    "tags": []
   },
   "source": [
    "다음으로 데이터셋에 포함된 모든 암호화폐 자산 목록을 매핑된 ID와 함께 평가 지표에서 상대적 중요성을 평가하는 데 사용된 각 자산의 가중치를 확인하겠습니다.\n",
    "\n"
   ]
  },
  {
   "cell_type": "code",
   "execution_count": 5,
   "id": "35ec5037",
   "metadata": {
    "execution": {
     "iopub.execute_input": "2021-12-13T09:53:25.585773Z",
     "iopub.status.busy": "2021-12-13T09:53:25.585004Z",
     "iopub.status.idle": "2021-12-13T09:53:25.600932Z",
     "shell.execute_reply": "2021-12-13T09:53:25.601547Z",
     "shell.execute_reply.started": "2021-12-13T08:43:05.158074Z"
    },
    "papermill": {
     "duration": 0.109444,
     "end_time": "2021-12-13T09:53:25.601763",
     "exception": false,
     "start_time": "2021-12-13T09:53:25.492319",
     "status": "completed"
    },
    "tags": []
   },
   "outputs": [
    {
     "data": {
      "text/html": [
       "<div>\n",
       "<style scoped>\n",
       "    .dataframe tbody tr th:only-of-type {\n",
       "        vertical-align: middle;\n",
       "    }\n",
       "\n",
       "    .dataframe tbody tr th {\n",
       "        vertical-align: top;\n",
       "    }\n",
       "\n",
       "    .dataframe thead th {\n",
       "        text-align: right;\n",
       "    }\n",
       "</style>\n",
       "<table border=\"1\" class=\"dataframe\">\n",
       "  <thead>\n",
       "    <tr style=\"text-align: right;\">\n",
       "      <th></th>\n",
       "      <th>Asset_ID</th>\n",
       "      <th>Weight</th>\n",
       "      <th>Asset_Name</th>\n",
       "    </tr>\n",
       "  </thead>\n",
       "  <tbody>\n",
       "    <tr>\n",
       "      <th>0</th>\n",
       "      <td>2</td>\n",
       "      <td>2.397895</td>\n",
       "      <td>Bitcoin Cash</td>\n",
       "    </tr>\n",
       "    <tr>\n",
       "      <th>1</th>\n",
       "      <td>0</td>\n",
       "      <td>4.304065</td>\n",
       "      <td>Binance Coin</td>\n",
       "    </tr>\n",
       "    <tr>\n",
       "      <th>2</th>\n",
       "      <td>1</td>\n",
       "      <td>6.779922</td>\n",
       "      <td>Bitcoin</td>\n",
       "    </tr>\n",
       "    <tr>\n",
       "      <th>3</th>\n",
       "      <td>5</td>\n",
       "      <td>1.386294</td>\n",
       "      <td>EOS.IO</td>\n",
       "    </tr>\n",
       "    <tr>\n",
       "      <th>4</th>\n",
       "      <td>7</td>\n",
       "      <td>2.079442</td>\n",
       "      <td>Ethereum Classic</td>\n",
       "    </tr>\n",
       "    <tr>\n",
       "      <th>5</th>\n",
       "      <td>6</td>\n",
       "      <td>5.894403</td>\n",
       "      <td>Ethereum</td>\n",
       "    </tr>\n",
       "    <tr>\n",
       "      <th>6</th>\n",
       "      <td>9</td>\n",
       "      <td>2.397895</td>\n",
       "      <td>Litecoin</td>\n",
       "    </tr>\n",
       "    <tr>\n",
       "      <th>7</th>\n",
       "      <td>11</td>\n",
       "      <td>1.609438</td>\n",
       "      <td>Monero</td>\n",
       "    </tr>\n",
       "    <tr>\n",
       "      <th>8</th>\n",
       "      <td>13</td>\n",
       "      <td>1.791759</td>\n",
       "      <td>TRON</td>\n",
       "    </tr>\n",
       "    <tr>\n",
       "      <th>9</th>\n",
       "      <td>12</td>\n",
       "      <td>2.079442</td>\n",
       "      <td>Stellar</td>\n",
       "    </tr>\n",
       "    <tr>\n",
       "      <th>10</th>\n",
       "      <td>3</td>\n",
       "      <td>4.406719</td>\n",
       "      <td>Cardano</td>\n",
       "    </tr>\n",
       "    <tr>\n",
       "      <th>11</th>\n",
       "      <td>8</td>\n",
       "      <td>1.098612</td>\n",
       "      <td>IOTA</td>\n",
       "    </tr>\n",
       "    <tr>\n",
       "      <th>12</th>\n",
       "      <td>10</td>\n",
       "      <td>1.098612</td>\n",
       "      <td>Maker</td>\n",
       "    </tr>\n",
       "    <tr>\n",
       "      <th>13</th>\n",
       "      <td>4</td>\n",
       "      <td>3.555348</td>\n",
       "      <td>Dogecoin</td>\n",
       "    </tr>\n",
       "  </tbody>\n",
       "</table>\n",
       "</div>"
      ],
      "text/plain": [
       "    Asset_ID    Weight        Asset_Name\n",
       "0          2  2.397895      Bitcoin Cash\n",
       "1          0  4.304065      Binance Coin\n",
       "2          1  6.779922           Bitcoin\n",
       "3          5  1.386294            EOS.IO\n",
       "4          7  2.079442  Ethereum Classic\n",
       "5          6  5.894403          Ethereum\n",
       "6          9  2.397895          Litecoin\n",
       "7         11  1.609438            Monero\n",
       "8         13  1.791759              TRON\n",
       "9         12  2.079442           Stellar\n",
       "10         3  4.406719           Cardano\n",
       "11         8  1.098612              IOTA\n",
       "12        10  1.098612             Maker\n",
       "13         4  3.555348          Dogecoin"
      ]
     },
     "execution_count": 5,
     "metadata": {},
     "output_type": "execute_result"
    }
   ],
   "source": [
    "asset_details = pd.read_csv(data_folder + 'asset_details.csv')\n",
    "asset_details"
   ]
  },
  {
   "cell_type": "markdown",
   "id": "f160bd85",
   "metadata": {
    "papermill": {
     "duration": 0.088422,
     "end_time": "2021-12-13T09:53:25.780443",
     "exception": false,
     "start_time": "2021-12-13T09:53:25.692021",
     "status": "completed"
    },
    "tags": []
   },
   "source": [
    "보기 쉽게 Asset_ID 순으로 정렬해주겠습니다."
   ]
  },
  {
   "cell_type": "code",
   "execution_count": 6,
   "id": "1669b38e",
   "metadata": {
    "execution": {
     "iopub.execute_input": "2021-12-13T09:53:25.975877Z",
     "iopub.status.busy": "2021-12-13T09:53:25.975170Z",
     "iopub.status.idle": "2021-12-13T09:53:25.977897Z",
     "shell.execute_reply": "2021-12-13T09:53:25.978373Z",
     "shell.execute_reply.started": "2021-12-13T08:43:05.180455Z"
    },
    "papermill": {
     "duration": 0.10734,
     "end_time": "2021-12-13T09:53:25.978535",
     "exception": false,
     "start_time": "2021-12-13T09:53:25.871195",
     "status": "completed"
    },
    "tags": []
   },
   "outputs": [
    {
     "data": {
      "text/html": [
       "<div>\n",
       "<style scoped>\n",
       "    .dataframe tbody tr th:only-of-type {\n",
       "        vertical-align: middle;\n",
       "    }\n",
       "\n",
       "    .dataframe tbody tr th {\n",
       "        vertical-align: top;\n",
       "    }\n",
       "\n",
       "    .dataframe thead th {\n",
       "        text-align: right;\n",
       "    }\n",
       "</style>\n",
       "<table border=\"1\" class=\"dataframe\">\n",
       "  <thead>\n",
       "    <tr style=\"text-align: right;\">\n",
       "      <th></th>\n",
       "      <th>Asset_ID</th>\n",
       "      <th>Weight</th>\n",
       "      <th>Asset_Name</th>\n",
       "    </tr>\n",
       "  </thead>\n",
       "  <tbody>\n",
       "    <tr>\n",
       "      <th>0</th>\n",
       "      <td>0</td>\n",
       "      <td>4.304065</td>\n",
       "      <td>Binance Coin</td>\n",
       "    </tr>\n",
       "    <tr>\n",
       "      <th>1</th>\n",
       "      <td>1</td>\n",
       "      <td>6.779922</td>\n",
       "      <td>Bitcoin</td>\n",
       "    </tr>\n",
       "    <tr>\n",
       "      <th>2</th>\n",
       "      <td>2</td>\n",
       "      <td>2.397895</td>\n",
       "      <td>Bitcoin Cash</td>\n",
       "    </tr>\n",
       "    <tr>\n",
       "      <th>3</th>\n",
       "      <td>3</td>\n",
       "      <td>4.406719</td>\n",
       "      <td>Cardano</td>\n",
       "    </tr>\n",
       "    <tr>\n",
       "      <th>4</th>\n",
       "      <td>4</td>\n",
       "      <td>3.555348</td>\n",
       "      <td>Dogecoin</td>\n",
       "    </tr>\n",
       "    <tr>\n",
       "      <th>5</th>\n",
       "      <td>5</td>\n",
       "      <td>1.386294</td>\n",
       "      <td>EOS.IO</td>\n",
       "    </tr>\n",
       "    <tr>\n",
       "      <th>6</th>\n",
       "      <td>6</td>\n",
       "      <td>5.894403</td>\n",
       "      <td>Ethereum</td>\n",
       "    </tr>\n",
       "    <tr>\n",
       "      <th>7</th>\n",
       "      <td>7</td>\n",
       "      <td>2.079442</td>\n",
       "      <td>Ethereum Classic</td>\n",
       "    </tr>\n",
       "    <tr>\n",
       "      <th>8</th>\n",
       "      <td>8</td>\n",
       "      <td>1.098612</td>\n",
       "      <td>IOTA</td>\n",
       "    </tr>\n",
       "    <tr>\n",
       "      <th>9</th>\n",
       "      <td>9</td>\n",
       "      <td>2.397895</td>\n",
       "      <td>Litecoin</td>\n",
       "    </tr>\n",
       "    <tr>\n",
       "      <th>10</th>\n",
       "      <td>10</td>\n",
       "      <td>1.098612</td>\n",
       "      <td>Maker</td>\n",
       "    </tr>\n",
       "    <tr>\n",
       "      <th>11</th>\n",
       "      <td>11</td>\n",
       "      <td>1.609438</td>\n",
       "      <td>Monero</td>\n",
       "    </tr>\n",
       "    <tr>\n",
       "      <th>12</th>\n",
       "      <td>12</td>\n",
       "      <td>2.079442</td>\n",
       "      <td>Stellar</td>\n",
       "    </tr>\n",
       "    <tr>\n",
       "      <th>13</th>\n",
       "      <td>13</td>\n",
       "      <td>1.791759</td>\n",
       "      <td>TRON</td>\n",
       "    </tr>\n",
       "  </tbody>\n",
       "</table>\n",
       "</div>"
      ],
      "text/plain": [
       "    Asset_ID    Weight        Asset_Name\n",
       "0          0  4.304065      Binance Coin\n",
       "1          1  6.779922           Bitcoin\n",
       "2          2  2.397895      Bitcoin Cash\n",
       "3          3  4.406719           Cardano\n",
       "4          4  3.555348          Dogecoin\n",
       "5          5  1.386294            EOS.IO\n",
       "6          6  5.894403          Ethereum\n",
       "7          7  2.079442  Ethereum Classic\n",
       "8          8  1.098612              IOTA\n",
       "9          9  2.397895          Litecoin\n",
       "10        10  1.098612             Maker\n",
       "11        11  1.609438            Monero\n",
       "12        12  2.079442           Stellar\n",
       "13        13  1.791759              TRON"
      ]
     },
     "execution_count": 6,
     "metadata": {},
     "output_type": "execute_result"
    }
   ],
   "source": [
    "# ignore_index를 True로 주지 않으면 현재의 인덱스가 컬럼으로 들어오게 됩니다.\n",
    "# 인덱스는 0부터 새롭게 만들고 기존 인덱스는 버릴 것이니 True 옵션을 주겠습니다.\n",
    "asset_details = asset_details.sort_values('Asset_ID', ignore_index=True)\n",
    "asset_details"
   ]
  },
  {
   "cell_type": "markdown",
   "id": "d17e7c5f",
   "metadata": {
    "execution": {
     "iopub.execute_input": "2021-12-12T07:17:28.146358Z",
     "iopub.status.busy": "2021-12-12T07:17:28.145699Z",
     "iopub.status.idle": "2021-12-12T07:17:28.151502Z",
     "shell.execute_reply": "2021-12-12T07:17:28.150609Z",
     "shell.execute_reply.started": "2021-12-12T07:17:28.14632Z"
    },
    "papermill": {
     "duration": 0.088507,
     "end_time": "2021-12-13T09:53:26.155862",
     "exception": false,
     "start_time": "2021-12-13T09:53:26.067355",
     "status": "completed"
    },
    "tags": []
   },
   "source": [
    "새롭게 정렬된 인덱스가 생겼으니 기존 인덱스 컬럼은 삭제합니다."
   ]
  },
  {
   "cell_type": "markdown",
   "id": "e2c9e695",
   "metadata": {
    "papermill": {
     "duration": 0.088596,
     "end_time": "2021-12-13T09:53:26.332933",
     "exception": false,
     "start_time": "2021-12-13T09:53:26.244337",
     "status": "completed"
    },
    "tags": []
   },
   "source": [
    "### 2-3. Candlestick charts(캔들 차트)"
   ]
  },
  {
   "cell_type": "markdown",
   "id": "34172fc2",
   "metadata": {
    "papermill": {
     "duration": 0.088221,
     "end_time": "2021-12-13T09:53:26.511118",
     "exception": false,
     "start_time": "2021-12-13T09:53:26.422897",
     "status": "completed"
    },
    "tags": []
   },
   "source": [
    "일반적으로 거래 데이터는 시가, 고가, 저가, 종가가 합쳐진 형태로 보여지게 되고 트레이더는 이러한 데이터를 보고 기술적 분석을 할 수 있습니다. 우리도 파이썬을 사용해 캔들 바 형태로 차트를 그릴 수 있습니다. \n",
    "\n",
    "캔들의 길이는 하루 간 시가와 종가를 나타내고, 캔들이 붉은색이면 종가가 시가보다 낮다는 것을 의미합니다. 즉, 장이 시작할 때보다 마감했을 때 가격이 떨어졌다는 것입니다. 초록색이면 그 반대입니다. 이들은 강세 및 약세 촛대라고도합니다. 막대 위와 아래의 심지(막대를 벗어난 선 부분)는 해당 일자 거래의 높은 가격과 낮은 가격을 보여줍니다. 즉, 장 중에 시가와 종가 간격을 벗어난 부분입니다.\n",
    "\n",
    "파이썬 plotly 라이브러리를 사용하여 비트코인 가격의 각각 조각(캔들)을 시각화할 수 있습니다. 시각화 하단에는 그래프를 확대하는 데 사용할 수 있는 범위 슬라이더가 표시됩니다."
   ]
  },
  {
   "cell_type": "markdown",
   "id": "4389f114",
   "metadata": {
    "papermill": {
     "duration": 0.088963,
     "end_time": "2021-12-13T09:53:26.688126",
     "exception": false,
     "start_time": "2021-12-13T09:53:26.599163",
     "status": "completed"
    },
    "tags": []
   },
   "source": [
    "시각화 전에 잠시 데이터프레임에서 일부를 추출하는 방법을 배워보겠습니다. pandas는 기본적으로 2가지 방법을 제공합니다. \n",
    "\n",
    "1. 먼저 데이터프레임을 직접 조작하는 방식입니다."
   ]
  },
  {
   "cell_type": "code",
   "execution_count": 7,
   "id": "a06275b8",
   "metadata": {
    "execution": {
     "iopub.execute_input": "2021-12-13T09:53:26.878460Z",
     "iopub.status.busy": "2021-12-13T09:53:26.877212Z",
     "iopub.status.idle": "2021-12-13T09:53:27.203259Z",
     "shell.execute_reply": "2021-12-13T09:53:27.202724Z",
     "shell.execute_reply.started": "2021-12-13T08:43:05.204538Z"
    },
    "papermill": {
     "duration": 0.426393,
     "end_time": "2021-12-13T09:53:27.203397",
     "exception": false,
     "start_time": "2021-12-13T09:53:26.777004",
     "status": "completed"
    },
    "tags": []
   },
   "outputs": [
    {
     "data": {
      "text/html": [
       "<div>\n",
       "<style scoped>\n",
       "    .dataframe tbody tr th:only-of-type {\n",
       "        vertical-align: middle;\n",
       "    }\n",
       "\n",
       "    .dataframe tbody tr th {\n",
       "        vertical-align: top;\n",
       "    }\n",
       "\n",
       "    .dataframe thead th {\n",
       "        text-align: right;\n",
       "    }\n",
       "</style>\n",
       "<table border=\"1\" class=\"dataframe\">\n",
       "  <thead>\n",
       "    <tr style=\"text-align: right;\">\n",
       "      <th></th>\n",
       "      <th>timestamp</th>\n",
       "      <th>Asset_ID</th>\n",
       "      <th>Count</th>\n",
       "      <th>Open</th>\n",
       "      <th>High</th>\n",
       "      <th>Low</th>\n",
       "      <th>Close</th>\n",
       "      <th>Volume</th>\n",
       "      <th>VWAP</th>\n",
       "      <th>Target</th>\n",
       "    </tr>\n",
       "  </thead>\n",
       "  <tbody>\n",
       "    <tr>\n",
       "      <th>2</th>\n",
       "      <td>1514764860</td>\n",
       "      <td>1</td>\n",
       "      <td>229.0</td>\n",
       "      <td>13835.194</td>\n",
       "      <td>14013.8</td>\n",
       "      <td>13666.11</td>\n",
       "      <td>13850.176</td>\n",
       "      <td>31.550062</td>\n",
       "      <td>13827.062093</td>\n",
       "      <td>-0.014643</td>\n",
       "    </tr>\n",
       "    <tr>\n",
       "      <th>10</th>\n",
       "      <td>1514764920</td>\n",
       "      <td>1</td>\n",
       "      <td>235.0</td>\n",
       "      <td>13835.036</td>\n",
       "      <td>14052.3</td>\n",
       "      <td>13680.00</td>\n",
       "      <td>13828.102</td>\n",
       "      <td>31.046432</td>\n",
       "      <td>13840.362591</td>\n",
       "      <td>-0.015037</td>\n",
       "    </tr>\n",
       "    <tr>\n",
       "      <th>18</th>\n",
       "      <td>1514764980</td>\n",
       "      <td>1</td>\n",
       "      <td>528.0</td>\n",
       "      <td>13823.900</td>\n",
       "      <td>14000.4</td>\n",
       "      <td>13601.00</td>\n",
       "      <td>13801.314</td>\n",
       "      <td>55.061820</td>\n",
       "      <td>13806.068014</td>\n",
       "      <td>-0.010309</td>\n",
       "    </tr>\n",
       "    <tr>\n",
       "      <th>26</th>\n",
       "      <td>1514765040</td>\n",
       "      <td>1</td>\n",
       "      <td>435.0</td>\n",
       "      <td>13802.512</td>\n",
       "      <td>13999.0</td>\n",
       "      <td>13576.28</td>\n",
       "      <td>13768.040</td>\n",
       "      <td>38.780529</td>\n",
       "      <td>13783.598101</td>\n",
       "      <td>-0.008999</td>\n",
       "    </tr>\n",
       "    <tr>\n",
       "      <th>34</th>\n",
       "      <td>1514765100</td>\n",
       "      <td>1</td>\n",
       "      <td>742.0</td>\n",
       "      <td>13766.000</td>\n",
       "      <td>13955.9</td>\n",
       "      <td>13554.44</td>\n",
       "      <td>13724.914</td>\n",
       "      <td>108.501637</td>\n",
       "      <td>13735.586842</td>\n",
       "      <td>-0.008079</td>\n",
       "    </tr>\n",
       "  </tbody>\n",
       "</table>\n",
       "</div>"
      ],
      "text/plain": [
       "     timestamp  Asset_ID  Count       Open     High       Low      Close  \\\n",
       "2   1514764860         1  229.0  13835.194  14013.8  13666.11  13850.176   \n",
       "10  1514764920         1  235.0  13835.036  14052.3  13680.00  13828.102   \n",
       "18  1514764980         1  528.0  13823.900  14000.4  13601.00  13801.314   \n",
       "26  1514765040         1  435.0  13802.512  13999.0  13576.28  13768.040   \n",
       "34  1514765100         1  742.0  13766.000  13955.9  13554.44  13724.914   \n",
       "\n",
       "        Volume          VWAP    Target  \n",
       "2    31.550062  13827.062093 -0.014643  \n",
       "10   31.046432  13840.362591 -0.015037  \n",
       "18   55.061820  13806.068014 -0.010309  \n",
       "26   38.780529  13783.598101 -0.008999  \n",
       "34  108.501637  13735.586842 -0.008079  "
      ]
     },
     "execution_count": 7,
     "metadata": {},
     "output_type": "execute_result"
    }
   ],
   "source": [
    "# 예시를 위해 상위 5개 항목만 추출합니다.\n",
    "crypto_df[crypto_df[\"Asset_ID\"]==1].head(5)"
   ]
  },
  {
   "cell_type": "markdown",
   "id": "da53d002",
   "metadata": {
    "papermill": {
     "duration": 0.088974,
     "end_time": "2021-12-13T09:53:27.383256",
     "exception": false,
     "start_time": "2021-12-13T09:53:27.294282",
     "status": "completed"
    },
    "tags": []
   },
   "source": [
    "2. 다른 방식으로는, 좀 더 직관적인 query문법을 사용할 수 있습니다."
   ]
  },
  {
   "cell_type": "code",
   "execution_count": 8,
   "id": "f0a3147e",
   "metadata": {
    "execution": {
     "iopub.execute_input": "2021-12-13T09:53:27.566021Z",
     "iopub.status.busy": "2021-12-13T09:53:27.565310Z",
     "iopub.status.idle": "2021-12-13T09:53:27.994547Z",
     "shell.execute_reply": "2021-12-13T09:53:27.993895Z",
     "shell.execute_reply.started": "2021-12-13T08:43:05.562065Z"
    },
    "papermill": {
     "duration": 0.522784,
     "end_time": "2021-12-13T09:53:27.994724",
     "exception": false,
     "start_time": "2021-12-13T09:53:27.471940",
     "status": "completed"
    },
    "tags": []
   },
   "outputs": [
    {
     "data": {
      "text/html": [
       "<div>\n",
       "<style scoped>\n",
       "    .dataframe tbody tr th:only-of-type {\n",
       "        vertical-align: middle;\n",
       "    }\n",
       "\n",
       "    .dataframe tbody tr th {\n",
       "        vertical-align: top;\n",
       "    }\n",
       "\n",
       "    .dataframe thead th {\n",
       "        text-align: right;\n",
       "    }\n",
       "</style>\n",
       "<table border=\"1\" class=\"dataframe\">\n",
       "  <thead>\n",
       "    <tr style=\"text-align: right;\">\n",
       "      <th></th>\n",
       "      <th>timestamp</th>\n",
       "      <th>Asset_ID</th>\n",
       "      <th>Count</th>\n",
       "      <th>Open</th>\n",
       "      <th>High</th>\n",
       "      <th>Low</th>\n",
       "      <th>Close</th>\n",
       "      <th>Volume</th>\n",
       "      <th>VWAP</th>\n",
       "      <th>Target</th>\n",
       "    </tr>\n",
       "  </thead>\n",
       "  <tbody>\n",
       "    <tr>\n",
       "      <th>2</th>\n",
       "      <td>1514764860</td>\n",
       "      <td>1</td>\n",
       "      <td>229.0</td>\n",
       "      <td>13835.194</td>\n",
       "      <td>14013.8</td>\n",
       "      <td>13666.11</td>\n",
       "      <td>13850.176</td>\n",
       "      <td>31.550062</td>\n",
       "      <td>13827.062093</td>\n",
       "      <td>-0.014643</td>\n",
       "    </tr>\n",
       "    <tr>\n",
       "      <th>10</th>\n",
       "      <td>1514764920</td>\n",
       "      <td>1</td>\n",
       "      <td>235.0</td>\n",
       "      <td>13835.036</td>\n",
       "      <td>14052.3</td>\n",
       "      <td>13680.00</td>\n",
       "      <td>13828.102</td>\n",
       "      <td>31.046432</td>\n",
       "      <td>13840.362591</td>\n",
       "      <td>-0.015037</td>\n",
       "    </tr>\n",
       "    <tr>\n",
       "      <th>18</th>\n",
       "      <td>1514764980</td>\n",
       "      <td>1</td>\n",
       "      <td>528.0</td>\n",
       "      <td>13823.900</td>\n",
       "      <td>14000.4</td>\n",
       "      <td>13601.00</td>\n",
       "      <td>13801.314</td>\n",
       "      <td>55.061820</td>\n",
       "      <td>13806.068014</td>\n",
       "      <td>-0.010309</td>\n",
       "    </tr>\n",
       "    <tr>\n",
       "      <th>26</th>\n",
       "      <td>1514765040</td>\n",
       "      <td>1</td>\n",
       "      <td>435.0</td>\n",
       "      <td>13802.512</td>\n",
       "      <td>13999.0</td>\n",
       "      <td>13576.28</td>\n",
       "      <td>13768.040</td>\n",
       "      <td>38.780529</td>\n",
       "      <td>13783.598101</td>\n",
       "      <td>-0.008999</td>\n",
       "    </tr>\n",
       "    <tr>\n",
       "      <th>34</th>\n",
       "      <td>1514765100</td>\n",
       "      <td>1</td>\n",
       "      <td>742.0</td>\n",
       "      <td>13766.000</td>\n",
       "      <td>13955.9</td>\n",
       "      <td>13554.44</td>\n",
       "      <td>13724.914</td>\n",
       "      <td>108.501637</td>\n",
       "      <td>13735.586842</td>\n",
       "      <td>-0.008079</td>\n",
       "    </tr>\n",
       "  </tbody>\n",
       "</table>\n",
       "</div>"
      ],
      "text/plain": [
       "     timestamp  Asset_ID  Count       Open     High       Low      Close  \\\n",
       "2   1514764860         1  229.0  13835.194  14013.8  13666.11  13850.176   \n",
       "10  1514764920         1  235.0  13835.036  14052.3  13680.00  13828.102   \n",
       "18  1514764980         1  528.0  13823.900  14000.4  13601.00  13801.314   \n",
       "26  1514765040         1  435.0  13802.512  13999.0  13576.28  13768.040   \n",
       "34  1514765100         1  742.0  13766.000  13955.9  13554.44  13724.914   \n",
       "\n",
       "        Volume          VWAP    Target  \n",
       "2    31.550062  13827.062093 -0.014643  \n",
       "10   31.046432  13840.362591 -0.015037  \n",
       "18   55.061820  13806.068014 -0.010309  \n",
       "26   38.780529  13783.598101 -0.008999  \n",
       "34  108.501637  13735.586842 -0.008079  "
      ]
     },
     "execution_count": 8,
     "metadata": {},
     "output_type": "execute_result"
    }
   ],
   "source": [
    "# 예시를 위해 상위 5개 항목만 추출합니다.\n",
    "crypto_df.query(\"Asset_ID==1\").head(5)"
   ]
  },
  {
   "cell_type": "markdown",
   "id": "6bd8b466",
   "metadata": {
    "papermill": {
     "duration": 0.089023,
     "end_time": "2021-12-13T09:53:28.176971",
     "exception": false,
     "start_time": "2021-12-13T09:53:28.087948",
     "status": "completed"
    },
    "tags": []
   },
   "source": [
    "정확히 같은 결과를 반환하니 익숙한 방식으로 사용하면 되겠습니다. 여기서는 가독성을 위해 query 문법을 주로 사용하겠습니다. \n",
    "\n",
    "이제 본격적으로 캔들차트를 그려보겠습니다."
   ]
  },
  {
   "cell_type": "code",
   "execution_count": 9,
   "id": "ad5860a5",
   "metadata": {
    "execution": {
     "iopub.execute_input": "2021-12-13T09:53:28.360342Z",
     "iopub.status.busy": "2021-12-13T09:53:28.357990Z",
     "iopub.status.idle": "2021-12-13T09:53:28.830764Z",
     "shell.execute_reply": "2021-12-13T09:53:28.831266Z",
     "shell.execute_reply.started": "2021-12-13T08:43:06.134567Z"
    },
    "papermill": {
     "duration": 0.565274,
     "end_time": "2021-12-13T09:53:28.831441",
     "exception": false,
     "start_time": "2021-12-13T09:53:28.266167",
     "status": "completed"
    },
    "tags": []
   },
   "outputs": [
    {
     "data": {
      "text/html": [
       "<div>\n",
       "<style scoped>\n",
       "    .dataframe tbody tr th:only-of-type {\n",
       "        vertical-align: middle;\n",
       "    }\n",
       "\n",
       "    .dataframe tbody tr th {\n",
       "        vertical-align: top;\n",
       "    }\n",
       "\n",
       "    .dataframe thead th {\n",
       "        text-align: right;\n",
       "    }\n",
       "</style>\n",
       "<table border=\"1\" class=\"dataframe\">\n",
       "  <thead>\n",
       "    <tr style=\"text-align: right;\">\n",
       "      <th></th>\n",
       "      <th>Asset_ID</th>\n",
       "      <th>Count</th>\n",
       "      <th>Open</th>\n",
       "      <th>High</th>\n",
       "      <th>Low</th>\n",
       "      <th>Close</th>\n",
       "      <th>Volume</th>\n",
       "      <th>VWAP</th>\n",
       "      <th>Target</th>\n",
       "    </tr>\n",
       "    <tr>\n",
       "      <th>timestamp</th>\n",
       "      <th></th>\n",
       "      <th></th>\n",
       "      <th></th>\n",
       "      <th></th>\n",
       "      <th></th>\n",
       "      <th></th>\n",
       "      <th></th>\n",
       "      <th></th>\n",
       "      <th></th>\n",
       "    </tr>\n",
       "  </thead>\n",
       "  <tbody>\n",
       "    <tr>\n",
       "      <th>1632182160</th>\n",
       "      <td>1</td>\n",
       "      <td>1940.0</td>\n",
       "      <td>42983.780000</td>\n",
       "      <td>43001.850849</td>\n",
       "      <td>42878.26</td>\n",
       "      <td>42899.012857</td>\n",
       "      <td>56.850913</td>\n",
       "      <td>42935.489499</td>\n",
       "      <td>NaN</td>\n",
       "    </tr>\n",
       "    <tr>\n",
       "      <th>1632182220</th>\n",
       "      <td>1</td>\n",
       "      <td>2026.0</td>\n",
       "      <td>42904.197143</td>\n",
       "      <td>42932.000000</td>\n",
       "      <td>42840.16</td>\n",
       "      <td>42860.005714</td>\n",
       "      <td>80.993326</td>\n",
       "      <td>42879.576084</td>\n",
       "      <td>NaN</td>\n",
       "    </tr>\n",
       "    <tr>\n",
       "      <th>1632182280</th>\n",
       "      <td>1</td>\n",
       "      <td>1986.0</td>\n",
       "      <td>42859.385714</td>\n",
       "      <td>42887.500000</td>\n",
       "      <td>42797.20</td>\n",
       "      <td>42827.020000</td>\n",
       "      <td>65.677734</td>\n",
       "      <td>42844.090693</td>\n",
       "      <td>NaN</td>\n",
       "    </tr>\n",
       "    <tr>\n",
       "      <th>1632182340</th>\n",
       "      <td>1</td>\n",
       "      <td>4047.0</td>\n",
       "      <td>42839.012802</td>\n",
       "      <td>43042.160000</td>\n",
       "      <td>42818.10</td>\n",
       "      <td>43017.277143</td>\n",
       "      <td>138.335477</td>\n",
       "      <td>42935.761938</td>\n",
       "      <td>NaN</td>\n",
       "    </tr>\n",
       "    <tr>\n",
       "      <th>1632182400</th>\n",
       "      <td>1</td>\n",
       "      <td>2698.0</td>\n",
       "      <td>43009.961250</td>\n",
       "      <td>43048.510000</td>\n",
       "      <td>42961.64</td>\n",
       "      <td>43002.505000</td>\n",
       "      <td>128.206820</td>\n",
       "      <td>43011.414052</td>\n",
       "      <td>NaN</td>\n",
       "    </tr>\n",
       "  </tbody>\n",
       "</table>\n",
       "</div>"
      ],
      "text/plain": [
       "            Asset_ID   Count          Open          High       Low  \\\n",
       "timestamp                                                            \n",
       "1632182160         1  1940.0  42983.780000  43001.850849  42878.26   \n",
       "1632182220         1  2026.0  42904.197143  42932.000000  42840.16   \n",
       "1632182280         1  1986.0  42859.385714  42887.500000  42797.20   \n",
       "1632182340         1  4047.0  42839.012802  43042.160000  42818.10   \n",
       "1632182400         1  2698.0  43009.961250  43048.510000  42961.64   \n",
       "\n",
       "                   Close      Volume          VWAP  Target  \n",
       "timestamp                                                   \n",
       "1632182160  42899.012857   56.850913  42935.489499     NaN  \n",
       "1632182220  42860.005714   80.993326  42879.576084     NaN  \n",
       "1632182280  42827.020000   65.677734  42844.090693     NaN  \n",
       "1632182340  43017.277143  138.335477  42935.761938     NaN  \n",
       "1632182400  43002.505000  128.206820  43011.414052     NaN  "
      ]
     },
     "execution_count": 9,
     "metadata": {},
     "output_type": "execute_result"
    }
   ],
   "source": [
    "# 여기서는 비트코인(Asset_ID == 1) 시세를 캔들 차트로 그려봅니다.\n",
    "# set_index 함수를 연결해 timestamp 컬럼을 인덱스로 사용하겠습니다.\n",
    "btc = crypto_df.query(\"Asset_ID==1\").set_index(\"timestamp\")\n",
    "\n",
    "# 추출한 비트코인 시세 중 최근 200일치만 btc_mini 변수에 담습니다.\n",
    "btc_mini = btc.iloc[-200:]\n",
    "# tail 함수를 사용하면 최근 5개 항목만 살펴볼 수 있습니다.\n",
    "btc_mini.tail(5)"
   ]
  },
  {
   "cell_type": "markdown",
   "id": "c4ea7b12",
   "metadata": {
    "papermill": {
     "duration": 0.089272,
     "end_time": "2021-12-13T09:53:29.010835",
     "exception": false,
     "start_time": "2021-12-13T09:53:28.921563",
     "status": "completed"
    },
    "tags": []
   },
   "source": [
    "일반적으로 시계열 데이터는 이렇게 시간축(여기서는 `timestamp` 컬럼)을 인덱스로 놓고 분석하게 됩니다."
   ]
  },
  {
   "cell_type": "code",
   "execution_count": 10,
   "id": "71a1053d",
   "metadata": {
    "execution": {
     "iopub.execute_input": "2021-12-13T09:53:29.196378Z",
     "iopub.status.busy": "2021-12-13T09:53:29.195464Z",
     "iopub.status.idle": "2021-12-13T09:53:29.322312Z",
     "shell.execute_reply": "2021-12-13T09:53:29.322801Z",
     "shell.execute_reply.started": "2021-12-13T08:43:06.626478Z"
    },
    "papermill": {
     "duration": 0.222568,
     "end_time": "2021-12-13T09:53:29.322994",
     "exception": false,
     "start_time": "2021-12-13T09:53:29.100426",
     "status": "completed"
    },
    "tags": []
   },
   "outputs": [
    {
     "data": {
      "text/html": [
       "        <script type=\"text/javascript\">\n",
       "        window.PlotlyConfig = {MathJaxConfig: 'local'};\n",
       "        if (window.MathJax) {MathJax.Hub.Config({SVG: {font: \"STIX-Web\"}});}\n",
       "        if (typeof require !== 'undefined') {\n",
       "        require.undef(\"plotly\");\n",
       "        requirejs.config({\n",
       "            paths: {\n",
       "                'plotly': ['https://cdn.plot.ly/plotly-2.6.3.min']\n",
       "            }\n",
       "        });\n",
       "        require(['plotly'], function(Plotly) {\n",
       "            window._Plotly = Plotly;\n",
       "        });\n",
       "        }\n",
       "        </script>\n",
       "        "
      ]
     },
     "metadata": {},
     "output_type": "display_data"
    },
    {
     "data": {
      "text/html": [
       "<div>                            <div id=\"eb35c6e3-edf4-45bf-8473-444e00894d3b\" class=\"plotly-graph-div\" style=\"height:525px; width:100%;\"></div>            <script type=\"text/javascript\">                require([\"plotly\"], function(Plotly) {                    window.PLOTLYENV=window.PLOTLYENV || {};                                    if (document.getElementById(\"eb35c6e3-edf4-45bf-8473-444e00894d3b\")) {                    Plotly.newPlot(                        \"eb35c6e3-edf4-45bf-8473-444e00894d3b\",                        [{\"close\":[43447.00375,43440.0,43360.72375,43427.24285714286,43375.04,43391.2775,43328.33142857143,43333.292857142864,43272.20571428572,43302.26142857143,43237.22857142857,43293.438571428575,43335.397142857146,43329.36,43315.57857142857,43358.98,43401.56125,43496.01714285714,43543.944285714286,43735.24749999998,43635.8,43565.93714285714,43445.9742505125,43582.882500000014,43509.89375,43583.13375,43620.45625000002,43683.955,43688.792857142864,43748.37285714286,43733.61857142858,43770.91142857143,43725.21247342,43699.93519433285,43681.41125,43663.37142857142,43674.12714285714,43735.2968762825,43761.40857142857,43804.98142857143,43748.64871729857,43754.64400535857,43761.9313146925,43745.054649555714,43749.41395637714,43704.05428571429,43754.37857142858,43752.16000000002,43752.56428571429,43742.16285714285,43722.25010413143,43698.399835418575,43678.80153424286,43688.29428571429,43673.78428571428,43674.93714285714,43696.93209772,43696.218571428566,43688.90142857142,43680.15714285715,43699.02571428572,43731.86428571429,43747.49428571429,43762.66571428572,43851.00774273375,43796.60571428571,43767.107142857145,43685.150000000016,43691.55,43724.642857142855,43737.69285714287,43651.975714285705,43596.42285714286,43623.89428571428,43635.89571428572,43561.85142857144,43536.07792585572,43480.374285714286,43514.82,43608.34571428572,43568.90142857143,43554.05285714286,43631.01714285714,43631.90714285714,43537.49,43597.75303396001,43648.514285714286,43697.334285714285,43707.43,43726.24681658715,43765.792857142864,43715.65571428572,43715.125714285714,43710.31428571429,43731.00625,43770.145714285725,43814.85571428571,43816.27125000001,43806.570000000014,43806.79142857143,43770.66857142857,43799.1,43833.474285714285,43811.704285714295,43843.44,43832.01571428571,43786.38571428572,43769.188571428575,43774.467142857146,43796.19,43797.20571428572,43798.15714285714,43804.61142857144,43831.59142857143,43871.69625,43897.16857142858,43901.38285714285,43883.25895342144,43862.52,43894.77857142857,43866.73499999999,43845.84857142857,43823.298571428575,43752.76714285714,43703.374285714286,43669.07857142857,43642.77285714285,43615.38,43504.42428571429,43367.88571428572,43316.7225,43295.04428571429,43250.16571428572,43075.9025,43232.90125,43259.1575,43293.7075,43305.09857142857,43327.79,43356.28068103,43344.55857142858,43484.61375,43580.82375,43470.794999999984,43198.788571428566,43213.69,43269.54714285715,43239.26125,43114.23614144125,43067.63,43060.81,42991.2775,42989.62375,43219.33125,43140.19135458125,43198.24000000001,43110.797500000015,43157.72298172143,43099.1575,43051.08285714287,42966.91285714286,43009.43142857143,42880.67875,42822.040000000015,42699.178750000014,42778.885,42779.71,42700.44625,42659.58241635572,42600.39625,42624.279999999984,42577.0,42679.60625,42678.21816655625,42762.514285714286,42825.295,42736.6525,42769.39571428571,42637.115,42703.63625,42781.97057111125,42755.5925,42717.23428571428,42657.20249999999,42678.72142857143,42778.29125,42790.17571428571,42731.73142857143,42898.565,42939.64571428572,42927.167142857135,42979.83375,42960.60142857144,42985.48285714286,42985.21482412572,42899.01285714287,42860.00571428572,42827.02,43017.277142857136,43002.505],\"high\":[43588.68,43495.95402838,43455.2184781,43454.99,43467.0,43405.0,43407.7,43350.0,43344.99,43315.99,43317.0,43318.8,43353.43,43363.82,43341.56,43372.8,43436.99,43512.7,43581.88,43750.27,43749.6,43636.4,43587.1,43609.1,43617.0,43611.11,43634.01,43715.6675949,43707.74,43763.7,43766.35,43798.21,43780.0,43726.0,43731.0,43702.91,43684.24,43773.35,43784.1,43818.17,43810.0,43766.0,43790.0,43774.0,43760.01,43763.66,43773.4,43768.62,43776.0,43768.53,43750.0,43746.7,43708.0,43701.5,43701.5,43689.0,43716.49468404,43709.0,43703.62,43723.37,43708.47,43754.58,43757.98,43776.38,43882.75,43913.83,43813.0,43788.8,43704.19,43738.0,43746.19,43747.0,43672.0,43639.5,43651.0,43647.45,43582.0,43550.99,43524.0,43618.15,43652.3,43587.51,43654.6,43682.6,43646.0,43614.93123772,43660.09,43708.05,43744.4,43776.1,43785.75,43779.05,43756.0,43782.7,43777.2,43782.74,43830.0,43835.6,43835.5,43833.6,43867.04,43805.3,43861.08,43848.1,43860.78,43866.41,43840.14,43808.31,43800.0,43812.4,43818.6,43818.4,43821.1,43840.7,43910.99,43912.1,43940.0,43912.0,43908.5,43906.71,43906.73,43874.98,43851.4,43843.87,43782.1,43721.3,43699.8,43679.99,43633.3,43560.02,43417.91,43354.59,43359.44,43259.3,43281.0,43301.61947119,43320.02,43348.22,43366.0,43391.85,43376.0,43546.61,43640.0,43627.0,43455.0,43276.57,43366.0,43288.47,43287.5,43133.15,43099.98,43072.2,43069.67,43289.9,43350.5,43229.1,43247.5,43193.54,43172.9,43122.0,43082.02,43029.49,43015.0,42897.0,42884.85,42836.33,42811.0,42852.0,42719.98,42779.1,42703.01,42650.0,42705.0,42802.54,42862.0,42877.82,42846.0,42833.9,42841.99,42736.9,42819.38,42827.1,42811.3,42752.0,42715.99,42810.26,42828.0,42827.7,42937.31,42966.98,42971.95,43014.98,43005.65,43008.85,43006.54,43001.85084871,42932.0,42887.5,43042.16,43048.51],\"low\":[43427.28,43414.33,43327.29,43348.06,43351.15,43280.0,43284.12,43283.74,43240.01,43261.26,43217.6,43207.55,43268.05,43278.42,43272.19,43287.88,43350.2,43387.95,43487.66,43527.56,43600.0,43538.26,43426.2,43431.57,43436.46,43476.65,43525.5,43585.4,43647.65,43676.9,43702.98,43709.75,43706.19,43683.73,43669.67,43638.92,43631.17,43662.11,43729.9,43730.0,43732.41,43725.22,43739.3,43722.3,43717.71,43686.54,43695.18,43733.8,43729.06,43730.17,43705.92,43691.2,43665.84,43657.79,43663.42,43658.2,43663.48,43669.1,43669.1,43659.05,43669.2,43677.4,43718.9,43742.1,43754.67,43790.01,43750.89,43672.6,43669.13,43683.08,43689.3,43641.65,43584.69,43583.4,43608.15,43522.0,43504.1,43464.86,43462.56,43499.99,43548.51,43538.67,43534.0,43616.54,43521.92,43514.09,43593.43,43644.1,43682.67,43688.1,43712.74,43701.41,43700.0,43665.29,43678.37,43718.44,43758.4,43763.01,43772.0,43772.75,43741.3,43760.3,43788.96,43788.53,43780.41,43816.96,43762.7,43742.7,43750.0,43759.23,43766.7,43757.17,43782.18,43795.58,43823.74,43842.5,43875.72,43866.3,43847.0,43835.66,43850.16,43832.56,43813.11,43746.0,43687.0,43650.01,43627.29,43600.0,43499.99,43350.4,43295.74,43278.42,43221.04,43003.84,43067.0,43172.38,43172.0,43220.67,43261.3,43333.51,43283.1,43335.64,43441.56,43428.8,43172.9,43133.08,43209.9,43218.81,43062.9,43050.9,43019.49,42930.14,42967.33,42969.79,43106.01,43026.47,43092.88,43064.36,43058.56,43007.67,42898.8,42900.0,42801.0,42795.45,42659.29112887,42660.05,42651.4,42672.8,42640.0,42575.0,42579.4,42515.09,42548.09,42626.61,42660.7,42743.68,42688.55,42731.17,42600.0,42607.5,42690.84,42690.75,42694.37,42636.76,42630.17,42662.27,42742.36,42713.48,42713.48,42852.07,42899.1,42907.18,42929.74,42953.1,42958.06,42878.26,42840.16,42797.2,42818.1,42961.64],\"open\":[43558.39375,43449.81857142858,43427.0823097625,43362.572857142855,43419.8325,43368.71625,43393.847142857136,43329.654285714285,43335.71432474571,43275.938571428575,43301.834285714285,43232.93714285714,43297.98428571429,43336.64,43333.63142857143,43314.74000000001,43364.94875,43408.08714285715,43504.69050787143,43563.5475,43734.17517274572,43622.09142833857,43556.59375,43455.175,43574.825,43520.28,43576.7775,43622.23555296,43692.88857142858,43693.87714285714,43746.07428571429,43732.60428571428,43769.21714285714,43713.06428571429,43696.00375,43671.81428571429,43658.32428571429,43678.86,43747.11558816286,43763.66857142857,43801.88285714287,43743.70142857143,43760.135,43757.962857142855,43746.89571428572,43752.36571428572,43706.63459625,43754.938571428575,43751.42502128715,43747.71428571428,43741.16142857143,43718.720000000016,43697.06571428572,43678.72571428572,43687.59428571429,43674.66142857143,43674.23,43699.485714285714,43693.75714285714,43686.042857142864,43680.84285714286,43703.04380334572,43737.424990827145,43748.792857142864,43764.222193155,43867.28649138286,43796.17000235,43764.80711541429,43683.29195864715,43694.014285714286,43724.80857142858,43734.218571428566,43648.50714285714,43595.79378934143,43622.90857142857,43635.26571428571,43561.49245584857,43540.261460078575,43481.81571428572,43514.376468365714,43617.79142857143,43571.87298438429,43552.88571428572,43628.438571428575,43627.27428571428,43537.74857142858,43605.25142857143,43650.830000000016,43700.829614364295,43709.82420531143,43729.398571428566,43758.39428571429,43711.38000000001,43711.45285714285,43709.3575,43745.652857142864,43771.43571428571,43811.9775,43826.62833333333,43809.957142857136,43813.72,43780.97162221715,43805.69142857142,43832.400000000016,43801.23428571429,43846.09142857143,43828.874285714286,43786.38571428572,43771.014285714286,43774.80714285715,43798.41857142857,43794.84032981571,43807.66285714285,43807.34428571429,43836.9875,43872.08714285714,43900.88857142856,43901.008571428574,43890.30857142857,43858.474285714285,43893.88166666668,43866.00571428572,43843.235714285714,43821.555714285714,43752.37,43704.62857142857,43671.72,43644.06142857143,43610.07408044428,43504.71428571428,43365.91375,43313.70812588,43296.055714285714,43239.0175,43092.85375,43251.94250000001,43264.50125,43307.44571428571,43296.88375,43341.862857142856,43353.12,43365.74875000001,43477.0875,43588.102500000015,43447.60285714286,43205.55625,43234.95285714286,43267.83,43229.50125,43106.66925542,43064.47714285714,43054.81000000001,43002.9225,42998.535,43227.1275,43122.16,43192.76624999999,43106.25997366144,43159.91625,43085.22049047715,43049.56714285714,42972.15714285714,42979.09125000001,42873.23000000002,42815.11375,42707.930000000015,42766.4325,42775.73125,42694.57285714285,42675.71750000001,42599.647142857146,42620.29375,42577.715,42683.24375,42673.72571428572,42768.39625000001,42819.91125,42750.58285714287,42760.10875,42632.465,42718.815,42772.92125,42762.29,42703.80250000001,42655.528483642855,42688.935,42790.287142857145,42792.855714285724,42745.15375,42896.17428571428,42937.78428571428,42933.25490686,42974.10869267286,42971.347142857136,42982.91571428572,42983.779999999984,42904.19714285714,42859.38571428572,42839.01280218857,43009.96125],\"x\":[1632170460,1632170520,1632170580,1632170640,1632170700,1632170760,1632170820,1632170880,1632170940,1632171000,1632171060,1632171120,1632171180,1632171240,1632171300,1632171360,1632171420,1632171480,1632171540,1632171600,1632171660,1632171720,1632171780,1632171840,1632171900,1632171960,1632172020,1632172080,1632172140,1632172200,1632172260,1632172320,1632172380,1632172440,1632172500,1632172560,1632172620,1632172680,1632172740,1632172800,1632172860,1632172920,1632172980,1632173040,1632173100,1632173160,1632173220,1632173280,1632173340,1632173400,1632173460,1632173520,1632173580,1632173640,1632173700,1632173760,1632173820,1632173880,1632173940,1632174000,1632174060,1632174120,1632174180,1632174240,1632174300,1632174360,1632174420,1632174480,1632174540,1632174600,1632174660,1632174720,1632174780,1632174840,1632174900,1632174960,1632175020,1632175080,1632175140,1632175200,1632175260,1632175320,1632175380,1632175440,1632175500,1632175560,1632175620,1632175680,1632175740,1632175800,1632175860,1632175920,1632175980,1632176040,1632176100,1632176160,1632176220,1632176280,1632176340,1632176400,1632176460,1632176520,1632176580,1632176640,1632176700,1632176760,1632176820,1632176880,1632176940,1632177000,1632177060,1632177120,1632177180,1632177240,1632177300,1632177360,1632177420,1632177480,1632177540,1632177600,1632177660,1632177720,1632177780,1632177840,1632177900,1632177960,1632178020,1632178080,1632178140,1632178200,1632178260,1632178320,1632178380,1632178440,1632178500,1632178560,1632178620,1632178680,1632178740,1632178800,1632178860,1632178920,1632178980,1632179040,1632179100,1632179160,1632179220,1632179280,1632179340,1632179400,1632179460,1632179520,1632179580,1632179640,1632179700,1632179760,1632179820,1632179880,1632179940,1632180000,1632180060,1632180120,1632180180,1632180240,1632180300,1632180360,1632180420,1632180480,1632180540,1632180600,1632180660,1632180720,1632180780,1632180840,1632180900,1632180960,1632181020,1632181080,1632181140,1632181200,1632181260,1632181320,1632181380,1632181440,1632181500,1632181560,1632181620,1632181680,1632181740,1632181800,1632181860,1632181920,1632181980,1632182040,1632182100,1632182160,1632182220,1632182280,1632182340,1632182400],\"type\":\"candlestick\"}],                        {\"template\":{\"data\":{\"bar\":[{\"error_x\":{\"color\":\"#2a3f5f\"},\"error_y\":{\"color\":\"#2a3f5f\"},\"marker\":{\"line\":{\"color\":\"#E5ECF6\",\"width\":0.5},\"pattern\":{\"fillmode\":\"overlay\",\"size\":10,\"solidity\":0.2}},\"type\":\"bar\"}],\"barpolar\":[{\"marker\":{\"line\":{\"color\":\"#E5ECF6\",\"width\":0.5},\"pattern\":{\"fillmode\":\"overlay\",\"size\":10,\"solidity\":0.2}},\"type\":\"barpolar\"}],\"carpet\":[{\"aaxis\":{\"endlinecolor\":\"#2a3f5f\",\"gridcolor\":\"white\",\"linecolor\":\"white\",\"minorgridcolor\":\"white\",\"startlinecolor\":\"#2a3f5f\"},\"baxis\":{\"endlinecolor\":\"#2a3f5f\",\"gridcolor\":\"white\",\"linecolor\":\"white\",\"minorgridcolor\":\"white\",\"startlinecolor\":\"#2a3f5f\"},\"type\":\"carpet\"}],\"choropleth\":[{\"colorbar\":{\"outlinewidth\":0,\"ticks\":\"\"},\"type\":\"choropleth\"}],\"contour\":[{\"colorbar\":{\"outlinewidth\":0,\"ticks\":\"\"},\"colorscale\":[[0.0,\"#0d0887\"],[0.1111111111111111,\"#46039f\"],[0.2222222222222222,\"#7201a8\"],[0.3333333333333333,\"#9c179e\"],[0.4444444444444444,\"#bd3786\"],[0.5555555555555556,\"#d8576b\"],[0.6666666666666666,\"#ed7953\"],[0.7777777777777778,\"#fb9f3a\"],[0.8888888888888888,\"#fdca26\"],[1.0,\"#f0f921\"]],\"type\":\"contour\"}],\"contourcarpet\":[{\"colorbar\":{\"outlinewidth\":0,\"ticks\":\"\"},\"type\":\"contourcarpet\"}],\"heatmap\":[{\"colorbar\":{\"outlinewidth\":0,\"ticks\":\"\"},\"colorscale\":[[0.0,\"#0d0887\"],[0.1111111111111111,\"#46039f\"],[0.2222222222222222,\"#7201a8\"],[0.3333333333333333,\"#9c179e\"],[0.4444444444444444,\"#bd3786\"],[0.5555555555555556,\"#d8576b\"],[0.6666666666666666,\"#ed7953\"],[0.7777777777777778,\"#fb9f3a\"],[0.8888888888888888,\"#fdca26\"],[1.0,\"#f0f921\"]],\"type\":\"heatmap\"}],\"heatmapgl\":[{\"colorbar\":{\"outlinewidth\":0,\"ticks\":\"\"},\"colorscale\":[[0.0,\"#0d0887\"],[0.1111111111111111,\"#46039f\"],[0.2222222222222222,\"#7201a8\"],[0.3333333333333333,\"#9c179e\"],[0.4444444444444444,\"#bd3786\"],[0.5555555555555556,\"#d8576b\"],[0.6666666666666666,\"#ed7953\"],[0.7777777777777778,\"#fb9f3a\"],[0.8888888888888888,\"#fdca26\"],[1.0,\"#f0f921\"]],\"type\":\"heatmapgl\"}],\"histogram\":[{\"marker\":{\"pattern\":{\"fillmode\":\"overlay\",\"size\":10,\"solidity\":0.2}},\"type\":\"histogram\"}],\"histogram2d\":[{\"colorbar\":{\"outlinewidth\":0,\"ticks\":\"\"},\"colorscale\":[[0.0,\"#0d0887\"],[0.1111111111111111,\"#46039f\"],[0.2222222222222222,\"#7201a8\"],[0.3333333333333333,\"#9c179e\"],[0.4444444444444444,\"#bd3786\"],[0.5555555555555556,\"#d8576b\"],[0.6666666666666666,\"#ed7953\"],[0.7777777777777778,\"#fb9f3a\"],[0.8888888888888888,\"#fdca26\"],[1.0,\"#f0f921\"]],\"type\":\"histogram2d\"}],\"histogram2dcontour\":[{\"colorbar\":{\"outlinewidth\":0,\"ticks\":\"\"},\"colorscale\":[[0.0,\"#0d0887\"],[0.1111111111111111,\"#46039f\"],[0.2222222222222222,\"#7201a8\"],[0.3333333333333333,\"#9c179e\"],[0.4444444444444444,\"#bd3786\"],[0.5555555555555556,\"#d8576b\"],[0.6666666666666666,\"#ed7953\"],[0.7777777777777778,\"#fb9f3a\"],[0.8888888888888888,\"#fdca26\"],[1.0,\"#f0f921\"]],\"type\":\"histogram2dcontour\"}],\"mesh3d\":[{\"colorbar\":{\"outlinewidth\":0,\"ticks\":\"\"},\"type\":\"mesh3d\"}],\"parcoords\":[{\"line\":{\"colorbar\":{\"outlinewidth\":0,\"ticks\":\"\"}},\"type\":\"parcoords\"}],\"pie\":[{\"automargin\":true,\"type\":\"pie\"}],\"scatter\":[{\"marker\":{\"colorbar\":{\"outlinewidth\":0,\"ticks\":\"\"}},\"type\":\"scatter\"}],\"scatter3d\":[{\"line\":{\"colorbar\":{\"outlinewidth\":0,\"ticks\":\"\"}},\"marker\":{\"colorbar\":{\"outlinewidth\":0,\"ticks\":\"\"}},\"type\":\"scatter3d\"}],\"scattercarpet\":[{\"marker\":{\"colorbar\":{\"outlinewidth\":0,\"ticks\":\"\"}},\"type\":\"scattercarpet\"}],\"scattergeo\":[{\"marker\":{\"colorbar\":{\"outlinewidth\":0,\"ticks\":\"\"}},\"type\":\"scattergeo\"}],\"scattergl\":[{\"marker\":{\"colorbar\":{\"outlinewidth\":0,\"ticks\":\"\"}},\"type\":\"scattergl\"}],\"scattermapbox\":[{\"marker\":{\"colorbar\":{\"outlinewidth\":0,\"ticks\":\"\"}},\"type\":\"scattermapbox\"}],\"scatterpolar\":[{\"marker\":{\"colorbar\":{\"outlinewidth\":0,\"ticks\":\"\"}},\"type\":\"scatterpolar\"}],\"scatterpolargl\":[{\"marker\":{\"colorbar\":{\"outlinewidth\":0,\"ticks\":\"\"}},\"type\":\"scatterpolargl\"}],\"scatterternary\":[{\"marker\":{\"colorbar\":{\"outlinewidth\":0,\"ticks\":\"\"}},\"type\":\"scatterternary\"}],\"surface\":[{\"colorbar\":{\"outlinewidth\":0,\"ticks\":\"\"},\"colorscale\":[[0.0,\"#0d0887\"],[0.1111111111111111,\"#46039f\"],[0.2222222222222222,\"#7201a8\"],[0.3333333333333333,\"#9c179e\"],[0.4444444444444444,\"#bd3786\"],[0.5555555555555556,\"#d8576b\"],[0.6666666666666666,\"#ed7953\"],[0.7777777777777778,\"#fb9f3a\"],[0.8888888888888888,\"#fdca26\"],[1.0,\"#f0f921\"]],\"type\":\"surface\"}],\"table\":[{\"cells\":{\"fill\":{\"color\":\"#EBF0F8\"},\"line\":{\"color\":\"white\"}},\"header\":{\"fill\":{\"color\":\"#C8D4E3\"},\"line\":{\"color\":\"white\"}},\"type\":\"table\"}]},\"layout\":{\"annotationdefaults\":{\"arrowcolor\":\"#2a3f5f\",\"arrowhead\":0,\"arrowwidth\":1},\"autotypenumbers\":\"strict\",\"coloraxis\":{\"colorbar\":{\"outlinewidth\":0,\"ticks\":\"\"}},\"colorscale\":{\"diverging\":[[0,\"#8e0152\"],[0.1,\"#c51b7d\"],[0.2,\"#de77ae\"],[0.3,\"#f1b6da\"],[0.4,\"#fde0ef\"],[0.5,\"#f7f7f7\"],[0.6,\"#e6f5d0\"],[0.7,\"#b8e186\"],[0.8,\"#7fbc41\"],[0.9,\"#4d9221\"],[1,\"#276419\"]],\"sequential\":[[0.0,\"#0d0887\"],[0.1111111111111111,\"#46039f\"],[0.2222222222222222,\"#7201a8\"],[0.3333333333333333,\"#9c179e\"],[0.4444444444444444,\"#bd3786\"],[0.5555555555555556,\"#d8576b\"],[0.6666666666666666,\"#ed7953\"],[0.7777777777777778,\"#fb9f3a\"],[0.8888888888888888,\"#fdca26\"],[1.0,\"#f0f921\"]],\"sequentialminus\":[[0.0,\"#0d0887\"],[0.1111111111111111,\"#46039f\"],[0.2222222222222222,\"#7201a8\"],[0.3333333333333333,\"#9c179e\"],[0.4444444444444444,\"#bd3786\"],[0.5555555555555556,\"#d8576b\"],[0.6666666666666666,\"#ed7953\"],[0.7777777777777778,\"#fb9f3a\"],[0.8888888888888888,\"#fdca26\"],[1.0,\"#f0f921\"]]},\"colorway\":[\"#636efa\",\"#EF553B\",\"#00cc96\",\"#ab63fa\",\"#FFA15A\",\"#19d3f3\",\"#FF6692\",\"#B6E880\",\"#FF97FF\",\"#FECB52\"],\"font\":{\"color\":\"#2a3f5f\"},\"geo\":{\"bgcolor\":\"white\",\"lakecolor\":\"white\",\"landcolor\":\"#E5ECF6\",\"showlakes\":true,\"showland\":true,\"subunitcolor\":\"white\"},\"hoverlabel\":{\"align\":\"left\"},\"hovermode\":\"closest\",\"mapbox\":{\"style\":\"light\"},\"paper_bgcolor\":\"white\",\"plot_bgcolor\":\"#E5ECF6\",\"polar\":{\"angularaxis\":{\"gridcolor\":\"white\",\"linecolor\":\"white\",\"ticks\":\"\"},\"bgcolor\":\"#E5ECF6\",\"radialaxis\":{\"gridcolor\":\"white\",\"linecolor\":\"white\",\"ticks\":\"\"}},\"scene\":{\"xaxis\":{\"backgroundcolor\":\"#E5ECF6\",\"gridcolor\":\"white\",\"gridwidth\":2,\"linecolor\":\"white\",\"showbackground\":true,\"ticks\":\"\",\"zerolinecolor\":\"white\"},\"yaxis\":{\"backgroundcolor\":\"#E5ECF6\",\"gridcolor\":\"white\",\"gridwidth\":2,\"linecolor\":\"white\",\"showbackground\":true,\"ticks\":\"\",\"zerolinecolor\":\"white\"},\"zaxis\":{\"backgroundcolor\":\"#E5ECF6\",\"gridcolor\":\"white\",\"gridwidth\":2,\"linecolor\":\"white\",\"showbackground\":true,\"ticks\":\"\",\"zerolinecolor\":\"white\"}},\"shapedefaults\":{\"line\":{\"color\":\"#2a3f5f\"}},\"ternary\":{\"aaxis\":{\"gridcolor\":\"white\",\"linecolor\":\"white\",\"ticks\":\"\"},\"baxis\":{\"gridcolor\":\"white\",\"linecolor\":\"white\",\"ticks\":\"\"},\"bgcolor\":\"#E5ECF6\",\"caxis\":{\"gridcolor\":\"white\",\"linecolor\":\"white\",\"ticks\":\"\"}},\"title\":{\"x\":0.05},\"xaxis\":{\"automargin\":true,\"gridcolor\":\"white\",\"linecolor\":\"white\",\"ticks\":\"\",\"title\":{\"standoff\":15},\"zerolinecolor\":\"white\",\"zerolinewidth\":2},\"yaxis\":{\"automargin\":true,\"gridcolor\":\"white\",\"linecolor\":\"white\",\"ticks\":\"\",\"title\":{\"standoff\":15},\"zerolinecolor\":\"white\",\"zerolinewidth\":2}}}},                        {\"responsive\": true}                    ).then(function(){\n",
       "                            \n",
       "var gd = document.getElementById('eb35c6e3-edf4-45bf-8473-444e00894d3b');\n",
       "var x = new MutationObserver(function (mutations, observer) {{\n",
       "        var display = window.getComputedStyle(gd).display;\n",
       "        if (!display || display === 'none') {{\n",
       "            console.log([gd, 'removed!']);\n",
       "            Plotly.purge(gd);\n",
       "            observer.disconnect();\n",
       "        }}\n",
       "}});\n",
       "\n",
       "// Listen for the removal of the full notebook cells\n",
       "var notebookContainer = gd.closest('#notebook-container');\n",
       "if (notebookContainer) {{\n",
       "    x.observe(notebookContainer, {childList: true});\n",
       "}}\n",
       "\n",
       "// Listen for the clearing of the current output cell\n",
       "var outputEl = gd.closest('.output');\n",
       "if (outputEl) {{\n",
       "    x.observe(outputEl, {childList: true});\n",
       "}}\n",
       "\n",
       "                        })                };                });            </script>        </div>"
      ]
     },
     "metadata": {},
     "output_type": "display_data"
    }
   ],
   "source": [
    "import plotly.graph_objects as go\n",
    "\n",
    "# index(timestamp)를 x축으로 놓고 시가/고가/저가/종가 데이터를 입력해줍니다.\n",
    "fig = go.Figure(\n",
    "    data=[go.Candlestick(\n",
    "            x=btc_mini.index,\n",
    "            open=btc_mini['Open'],\n",
    "            high=btc_mini['High'],\n",
    "            low=btc_mini['Low'],\n",
    "            close=btc_mini['Close']\n",
    "        )]\n",
    "    )\n",
    "\n",
    "fig.show()"
   ]
  },
  {
   "cell_type": "markdown",
   "id": "0fdf8b4a",
   "metadata": {
    "papermill": {
     "duration": 0.093218,
     "end_time": "2021-12-13T09:53:29.511969",
     "exception": false,
     "start_time": "2021-12-13T09:53:29.418751",
     "status": "completed"
    },
    "tags": []
   },
   "source": [
    "## 3. Preprocessing(전처리)"
   ]
  },
  {
   "cell_type": "markdown",
   "id": "02646713",
   "metadata": {
    "papermill": {
     "duration": 0.094868,
     "end_time": "2021-12-13T09:53:29.700522",
     "exception": false,
     "start_time": "2021-12-13T09:53:29.605654",
     "status": "completed"
    },
    "tags": []
   },
   "source": [
    "### 3-1. Dealing with missing data(결측치 처리)"
   ]
  },
  {
   "cell_type": "markdown",
   "id": "9a30098a",
   "metadata": {
    "papermill": {
     "duration": 0.091204,
     "end_time": "2021-12-13T09:53:29.883982",
     "exception": false,
     "start_time": "2021-12-13T09:53:29.792778",
     "status": "completed"
    },
    "tags": []
   },
   "source": [
    "머신러닝 전처리 작업에서 결측치 처리는 매우 중요한 부분입니다. 데이터가 시계열 형태라면 꼭 머신러닝을 위해서가 아니더라도 반드시 결측치 처리를 해줘야 하는데, 시간 간격마다 온전하게 정보가 채워져있어야 정상적인 분석이 가능하기 때문입니다.\n",
    "\n",
    "이번에는 이더리움 가격 데이터를 가지고 결측치를 다뤄보도록 하겠습니다."
   ]
  },
  {
   "cell_type": "code",
   "execution_count": 11,
   "id": "d063eaaa",
   "metadata": {
    "execution": {
     "iopub.execute_input": "2021-12-13T09:53:30.073653Z",
     "iopub.status.busy": "2021-12-13T09:53:30.072251Z",
     "iopub.status.idle": "2021-12-13T09:53:30.592715Z",
     "shell.execute_reply": "2021-12-13T09:53:30.591990Z",
     "shell.execute_reply.started": "2021-12-13T08:43:06.786452Z"
    },
    "papermill": {
     "duration": 0.615688,
     "end_time": "2021-12-13T09:53:30.592866",
     "exception": false,
     "start_time": "2021-12-13T09:53:29.977178",
     "status": "completed"
    },
    "tags": []
   },
   "outputs": [
    {
     "name": "stdout",
     "output_type": "stream",
     "text": [
      "<class 'pandas.core.frame.DataFrame'>\n",
      "Int64Index: 1956200 entries, 1514764860 to 1632182400\n",
      "Data columns (total 9 columns):\n",
      " #   Column    Non-Null Count    Dtype  \n",
      "---  ------    --------------    -----  \n",
      " 0   Asset_ID  1956200 non-null  int64  \n",
      " 1   Count     1956200 non-null  float64\n",
      " 2   Open      1956200 non-null  float64\n",
      " 3   High      1956200 non-null  float64\n",
      " 4   Low       1956200 non-null  float64\n",
      " 5   Close     1956200 non-null  float64\n",
      " 6   Volume    1956200 non-null  float64\n",
      " 7   VWAP      1956200 non-null  float64\n",
      " 8   Target    1955860 non-null  float64\n",
      "dtypes: float64(8), int64(1)\n",
      "memory usage: 149.2 MB\n"
     ]
    }
   ],
   "source": [
    "# 이더리움의 Asset_ID는 6번입니다.\n",
    "eth = crypto_df.query(\"Asset_ID==6\").set_index(\"timestamp\")\n",
    "\n",
    "# 결측치 여부를 확인하기 위해 show_counts 옵션을 True로 지정하겠습니다.\n",
    "# 해당 옵션을 지정해줌으로써 아래 출력되는 값 중 Non-Null Count 부분이 보여지게 됩니다.\n",
    "eth.info(show_counts=True)"
   ]
  },
  {
   "cell_type": "markdown",
   "id": "22d1bab2",
   "metadata": {
    "papermill": {
     "duration": 0.092461,
     "end_time": "2021-12-13T09:53:30.782917",
     "exception": false,
     "start_time": "2021-12-13T09:53:30.690456",
     "status": "completed"
    },
    "tags": []
   },
   "source": [
    "`Target` 컬럼을 자세히 보면 다른 컬럼들보다 숫자가 적다는 것을 알 수 있습니다. 하지만 보기 어려우니 결측치를 확인할 때에는 결측치 수만 따로 한번 더 확인해주는 것이 좋습니다."
   ]
  },
  {
   "cell_type": "code",
   "execution_count": 12,
   "id": "03e9a760",
   "metadata": {
    "execution": {
     "iopub.execute_input": "2021-12-13T09:53:30.973433Z",
     "iopub.status.busy": "2021-12-13T09:53:30.972761Z",
     "iopub.status.idle": "2021-12-13T09:53:31.010148Z",
     "shell.execute_reply": "2021-12-13T09:53:31.010758Z",
     "shell.execute_reply.started": "2021-12-13T08:43:07.375516Z"
    },
    "papermill": {
     "duration": 0.134185,
     "end_time": "2021-12-13T09:53:31.010928",
     "exception": false,
     "start_time": "2021-12-13T09:53:30.876743",
     "status": "completed"
    },
    "tags": []
   },
   "outputs": [
    {
     "data": {
      "text/plain": [
       "Asset_ID      0\n",
       "Count         0\n",
       "Open          0\n",
       "High          0\n",
       "Low           0\n",
       "Close         0\n",
       "Volume        0\n",
       "VWAP          0\n",
       "Target      340\n",
       "dtype: int64"
      ]
     },
     "execution_count": 12,
     "metadata": {},
     "output_type": "execute_result"
    }
   ],
   "source": [
    "eth.isna().sum()"
   ]
  },
  {
   "cell_type": "markdown",
   "id": "702c0a01",
   "metadata": {
    "execution": {
     "iopub.execute_input": "2021-12-12T08:50:40.669379Z",
     "iopub.status.busy": "2021-12-12T08:50:40.669122Z",
     "iopub.status.idle": "2021-12-12T08:50:40.712116Z",
     "shell.execute_reply": "2021-12-12T08:50:40.711154Z",
     "shell.execute_reply.started": "2021-12-12T08:50:40.669351Z"
    },
    "papermill": {
     "duration": 0.094587,
     "end_time": "2021-12-13T09:53:31.199561",
     "exception": false,
     "start_time": "2021-12-13T09:53:31.104974",
     "status": "completed"
    },
    "tags": []
   },
   "source": [
    "시계열 데이터의 경우 특정 시간대가 빠져있는 것도 주의해야 합니다. 비트코인과 이더리움의 시간 범위를 비교하여 차이가 있는지 확인해보겠습니다.\n",
    "\n",
    "그 전에, 유닉스 시간 표현은 사람이 인지하기 어려우니 년-월-일-시간으로 표시해볼텐데 아래와 같이 astype 함수를 사용하면 되겠습니다."
   ]
  },
  {
   "cell_type": "code",
   "execution_count": 13,
   "id": "3d10dda0",
   "metadata": {
    "execution": {
     "iopub.execute_input": "2021-12-13T09:53:31.388957Z",
     "iopub.status.busy": "2021-12-13T09:53:31.388311Z",
     "iopub.status.idle": "2021-12-13T09:53:31.393990Z",
     "shell.execute_reply": "2021-12-13T09:53:31.393489Z",
     "shell.execute_reply.started": "2021-12-13T08:43:07.419315Z"
    },
    "papermill": {
     "duration": 0.102933,
     "end_time": "2021-12-13T09:53:31.394294",
     "exception": false,
     "start_time": "2021-12-13T09:53:31.291361",
     "status": "completed"
    },
    "tags": []
   },
   "outputs": [
    {
     "data": {
      "text/plain": [
       "numpy.datetime64('2018-01-01T00:01:00')"
      ]
     },
     "execution_count": 13,
     "metadata": {},
     "output_type": "execute_result"
    }
   ],
   "source": [
    "btc.index[0].astype('datetime64[s]')"
   ]
  },
  {
   "cell_type": "markdown",
   "id": "875e0678",
   "metadata": {
    "papermill": {
     "duration": 0.091875,
     "end_time": "2021-12-13T09:53:31.579594",
     "exception": false,
     "start_time": "2021-12-13T09:53:31.487719",
     "status": "completed"
    },
    "tags": []
   },
   "source": [
    "이 방식으로 비트코인 가격이 기록된 시간 범위, 이더리움 가격이 기록된 시간 범위를 동시에 확인하겠습니다."
   ]
  },
  {
   "cell_type": "code",
   "execution_count": 14,
   "id": "960b5fa0",
   "metadata": {
    "execution": {
     "iopub.execute_input": "2021-12-13T09:53:31.770224Z",
     "iopub.status.busy": "2021-12-13T09:53:31.769503Z",
     "iopub.status.idle": "2021-12-13T09:53:31.778105Z",
     "shell.execute_reply": "2021-12-13T09:53:31.778578Z",
     "shell.execute_reply.started": "2021-12-13T08:43:07.432529Z"
    },
    "papermill": {
     "duration": 0.1066,
     "end_time": "2021-12-13T09:53:31.778793",
     "exception": false,
     "start_time": "2021-12-13T09:53:31.672193",
     "status": "completed"
    },
    "tags": []
   },
   "outputs": [
    {
     "name": "stdout",
     "output_type": "stream",
     "text": [
      "BTC : \n",
      " 2018-01-01T00:01:00 ~ 2021-09-21T00:00:00\n",
      "ETH : \n",
      " 2018-01-01T00:01:00 ~ 2021-09-21T00:00:00\n",
      ">>Data intervals match.\n"
     ]
    }
   ],
   "source": [
    "beg_btc = btc.index[0].astype('datetime64[s]')\n",
    "end_btc = btc.index[-1].astype('datetime64[s]')\n",
    "\n",
    "beg_eth = eth.index[0].astype('datetime64[s]')\n",
    "end_eth = eth.index[-1].astype('datetime64[s]')\n",
    "\n",
    "print('BTC : \\n', f'{beg_btc} ~ {end_btc}')\n",
    "print('ETH : \\n', f'{beg_eth} ~ {end_eth}')\n",
    "\n",
    "if (beg_btc == beg_eth) and (end_btc == end_eth):\n",
    "    print(\">>Data intervals match.\")"
   ]
  },
  {
   "cell_type": "markdown",
   "id": "9898d7cb",
   "metadata": {
    "papermill": {
     "duration": 0.096677,
     "end_time": "2021-12-13T09:53:31.970316",
     "exception": false,
     "start_time": "2021-12-13T09:53:31.873639",
     "status": "completed"
    },
    "tags": []
   },
   "source": [
    "우선 시간 범위(시작~끝)는 괜찮은 것 같습니다. 다음으로 timestamp는 60초 단위로 기록되어야 하는데, 그렇지 않은 데이터 행이 있는지 여부를 파악해보겠습니다.\n",
    "\n",
    "아래와 같이 2번째 데이터부터 마지막 데이터, 그리고 1번째 데이터부터 마지막 바로 앞 데이터를 빼면 각 데이터가 몇 초 단위로 기록되어 있는지 확인할 수 있습니다.\n",
    "\n",
    "즉 `2번째 데이터 - 1번째 데이터`, `3번째 데이터 - 2번째 데이터`와 같은 식입니다."
   ]
  },
  {
   "cell_type": "code",
   "execution_count": 15,
   "id": "59f02d9f",
   "metadata": {
    "execution": {
     "iopub.execute_input": "2021-12-13T09:53:32.160308Z",
     "iopub.status.busy": "2021-12-13T09:53:32.159629Z",
     "iopub.status.idle": "2021-12-13T09:53:32.174311Z",
     "shell.execute_reply": "2021-12-13T09:53:32.174892Z",
     "shell.execute_reply.started": "2021-12-13T08:43:07.444295Z"
    },
    "papermill": {
     "duration": 0.111366,
     "end_time": "2021-12-13T09:53:32.175271",
     "exception": false,
     "start_time": "2021-12-13T09:53:32.063905",
     "status": "completed"
    },
    "tags": []
   },
   "outputs": [
    {
     "data": {
      "text/plain": [
       "Int64Index([60, 60, 60, 60, 60, 60, 60, 60, 60, 60,\n",
       "            ...\n",
       "            60, 60, 60, 60, 60, 60, 60, 60, 60, 60],\n",
       "           dtype='int64', name='timestamp', length=1956199)"
      ]
     },
     "execution_count": 15,
     "metadata": {},
     "output_type": "execute_result"
    }
   ],
   "source": [
    "eth.index[1:] - eth.index[:-1]"
   ]
  },
  {
   "cell_type": "markdown",
   "id": "63dd6096",
   "metadata": {
    "papermill": {
     "duration": 0.095466,
     "end_time": "2021-12-13T09:53:32.369183",
     "exception": false,
     "start_time": "2021-12-13T09:53:32.273717",
     "status": "completed"
    },
    "tags": []
   },
   "source": [
    "이제 이를 확장할 수 있습니다. 두 데이터의 차이가 60초인 경우를 포함한 모든 경우의 수를 아래 코드로 카운트해볼 수 있습니다."
   ]
  },
  {
   "cell_type": "code",
   "execution_count": 16,
   "id": "e6404e7f",
   "metadata": {
    "execution": {
     "iopub.execute_input": "2021-12-13T09:53:32.566037Z",
     "iopub.status.busy": "2021-12-13T09:53:32.565358Z",
     "iopub.status.idle": "2021-12-13T09:53:32.590108Z",
     "shell.execute_reply": "2021-12-13T09:53:32.590655Z",
     "shell.execute_reply.started": "2021-12-13T08:43:07.465092Z"
    },
    "papermill": {
     "duration": 0.124301,
     "end_time": "2021-12-13T09:53:32.590835",
     "exception": false,
     "start_time": "2021-12-13T09:53:32.466534",
     "status": "completed"
    },
    "tags": []
   },
   "outputs": [
    {
     "data": {
      "text/plain": [
       "60      1956043\n",
       "120         100\n",
       "180          23\n",
       "300           5\n",
       "540           4\n",
       "240           3\n",
       "360           2\n",
       "480           2\n",
       "600           2\n",
       "2220          1\n",
       "420           1\n",
       "780           1\n",
       "900           1\n",
       "1380          1\n",
       "2580          1\n",
       "1320          1\n",
       "1980          1\n",
       "1020          1\n",
       "1860          1\n",
       "7200          1\n",
       "960           1\n",
       "4740          1\n",
       "3120          1\n",
       "1080          1\n",
       "Name: timestamp, dtype: int64"
      ]
     },
     "execution_count": 16,
     "metadata": {},
     "output_type": "execute_result"
    }
   ],
   "source": [
    "# value_counts() 함수는 pandas Series 타입 데이터에서 unique한 값을 카운트해줍니다.\n",
    "(eth.index[1:] - eth.index[:-1]).value_counts()"
   ]
  },
  {
   "cell_type": "markdown",
   "id": "f77ea8b9",
   "metadata": {
    "papermill": {
     "duration": 0.095817,
     "end_time": "2021-12-13T09:53:32.787276",
     "exception": false,
     "start_time": "2021-12-13T09:53:32.691459",
     "status": "completed"
    },
    "tags": []
   },
   "source": [
    "시계열 데이터를 분석할 때에는 반드시 데이터의 시간 간격이 일정해야 하기 때문에 시간 간격이 일정하지 않은 부분을 1분 간격으로 채워줄 것입니다. 인덱스를 기존 인덱스의 시작과 끝을 동일하게 하되, 중간 간격을 1분(60초) 간격으로 맞춰줍니다.\n",
    "\n",
    "아래와 같이 range 함수를 사용하면 처음과 끝을 지정하고 '60' 간격으로 숫자 배열을 만들어낼 수 있습니다. 여기서는 10개만 간단히 보여주기 위해 count로 반복문을 제어합니다."
   ]
  },
  {
   "cell_type": "code",
   "execution_count": 17,
   "id": "a7075e7f",
   "metadata": {
    "execution": {
     "iopub.execute_input": "2021-12-13T09:53:32.983721Z",
     "iopub.status.busy": "2021-12-13T09:53:32.983005Z",
     "iopub.status.idle": "2021-12-13T09:53:32.990219Z",
     "shell.execute_reply": "2021-12-13T09:53:32.990699Z",
     "shell.execute_reply.started": "2021-12-13T08:43:07.496282Z"
    },
    "papermill": {
     "duration": 0.10807,
     "end_time": "2021-12-13T09:53:32.990879",
     "exception": false,
     "start_time": "2021-12-13T09:53:32.882809",
     "status": "completed"
    },
    "tags": []
   },
   "outputs": [
    {
     "name": "stdout",
     "output_type": "stream",
     "text": [
      "1514764860\n",
      "1514764920\n",
      "1514764980\n",
      "1514765040\n",
      "1514765100\n",
      "1514765160\n",
      "1514765220\n",
      "1514765280\n",
      "1514765340\n",
      "1514765400\n"
     ]
    }
   ],
   "source": [
    "count = 0\n",
    "for i in range(eth.index[0], eth.index[-1]+60, 60):\n",
    "    print(i)\n",
    "    count += 1\n",
    "    if count == 10:\n",
    "        break"
   ]
  },
  {
   "cell_type": "markdown",
   "id": "eefc93c8",
   "metadata": {
    "execution": {
     "iopub.execute_input": "2021-12-12T11:38:56.263027Z",
     "iopub.status.busy": "2021-12-12T11:38:56.262723Z",
     "iopub.status.idle": "2021-12-12T11:38:56.271672Z",
     "shell.execute_reply": "2021-12-12T11:38:56.271046Z",
     "shell.execute_reply.started": "2021-12-12T11:38:56.262994Z"
    },
    "papermill": {
     "duration": 0.093549,
     "end_time": "2021-12-13T09:53:33.184430",
     "exception": false,
     "start_time": "2021-12-13T09:53:33.090881",
     "status": "completed"
    },
    "tags": []
   },
   "source": [
    "그런데, 이렇게 60 간격으로 모든 인덱스를 다시 맞춰주면, 기존에 없는 인덱스에 해당하는 값들은 모두 비워져있을 것입니다. reindex()함수에서 method 옵션을 `pad`로 주면 forward filling, 즉 앞쪽의 데이터를 사용해 빈 값을 채워주는 방식으로 null이 생기지 않도록 합니다."
   ]
  },
  {
   "cell_type": "code",
   "execution_count": 18,
   "id": "1bf26358",
   "metadata": {
    "execution": {
     "iopub.execute_input": "2021-12-13T09:53:33.380952Z",
     "iopub.status.busy": "2021-12-13T09:53:33.380194Z",
     "iopub.status.idle": "2021-12-13T09:53:33.814254Z",
     "shell.execute_reply": "2021-12-13T09:53:33.813705Z",
     "shell.execute_reply.started": "2021-12-13T08:43:07.507989Z"
    },
    "papermill": {
     "duration": 0.535836,
     "end_time": "2021-12-13T09:53:33.814405",
     "exception": false,
     "start_time": "2021-12-13T09:53:33.278569",
     "status": "completed"
    },
    "tags": []
   },
   "outputs": [
    {
     "data": {
      "text/plain": [
       "60    1956959\n",
       "Name: timestamp, dtype: int64"
      ]
     },
     "execution_count": 18,
     "metadata": {},
     "output_type": "execute_result"
    }
   ],
   "source": [
    "eth_fill_range = range(eth.index[0], eth.index[-1]+60, 60)\n",
    "eth = eth.reindex(eth_fill_range, method='pad')\n",
    "\n",
    "# 60 간격의 데이터만 남아있는지 앞에서 진행했던 방법으로 다시 확인합니다.\n",
    "(eth.index[1:] - eth.index[:-1]).value_counts()"
   ]
  },
  {
   "cell_type": "markdown",
   "id": "12a72d79",
   "metadata": {
    "papermill": {
     "duration": 0.097663,
     "end_time": "2021-12-13T09:53:34.008905",
     "exception": false,
     "start_time": "2021-12-13T09:53:33.911242",
     "status": "completed"
    },
    "tags": []
   },
   "source": [
    "마찬가지로 비트코인 가격 데이터도 비어있는 시간 간격을 확인하고, 채워주겠습니다."
   ]
  },
  {
   "cell_type": "code",
   "execution_count": 19,
   "id": "77e9262f",
   "metadata": {
    "execution": {
     "iopub.execute_input": "2021-12-13T09:53:34.208391Z",
     "iopub.status.busy": "2021-12-13T09:53:34.207664Z",
     "iopub.status.idle": "2021-12-13T09:53:34.230193Z",
     "shell.execute_reply": "2021-12-13T09:53:34.229575Z",
     "shell.execute_reply.started": "2021-12-13T08:43:08.085276Z"
    },
    "papermill": {
     "duration": 0.123009,
     "end_time": "2021-12-13T09:53:34.230339",
     "exception": false,
     "start_time": "2021-12-13T09:53:34.107330",
     "status": "completed"
    },
    "tags": []
   },
   "outputs": [
    {
     "data": {
      "text/plain": [
       "60      1956136\n",
       "120          78\n",
       "180          12\n",
       "240          11\n",
       "420           9\n",
       "360           4\n",
       "600           4\n",
       "480           3\n",
       "720           3\n",
       "840           3\n",
       "300           3\n",
       "540           2\n",
       "1620          2\n",
       "1800          2\n",
       "1080          2\n",
       "2220          1\n",
       "660           1\n",
       "1560          1\n",
       "1020          1\n",
       "1200          1\n",
       "2400          1\n",
       "1440          1\n",
       "Name: timestamp, dtype: int64"
      ]
     },
     "execution_count": 19,
     "metadata": {},
     "output_type": "execute_result"
    }
   ],
   "source": [
    "# 우선 비어있는 부분을 확인해줍니다.\n",
    "(btc.index[1:] - btc.index[:-1]).value_counts()"
   ]
  },
  {
   "cell_type": "code",
   "execution_count": 20,
   "id": "8c175cad",
   "metadata": {
    "execution": {
     "iopub.execute_input": "2021-12-13T09:53:34.430086Z",
     "iopub.status.busy": "2021-12-13T09:53:34.429382Z",
     "iopub.status.idle": "2021-12-13T09:53:34.800289Z",
     "shell.execute_reply": "2021-12-13T09:53:34.800824Z",
     "shell.execute_reply.started": "2021-12-13T08:43:08.116443Z"
    },
    "papermill": {
     "duration": 0.471211,
     "end_time": "2021-12-13T09:53:34.801001",
     "exception": false,
     "start_time": "2021-12-13T09:53:34.329790",
     "status": "completed"
    },
    "tags": []
   },
   "outputs": [
    {
     "data": {
      "text/plain": [
       "60    1956959\n",
       "Name: timestamp, dtype: int64"
      ]
     },
     "execution_count": 20,
     "metadata": {},
     "output_type": "execute_result"
    }
   ],
   "source": [
    "# 이더리움과 같은 방식으로 비트코인도 비어있는 구간을 채워줍니다.\n",
    "btc_fill_range = range(btc.index[0], btc.index[-1]+60, 60)\n",
    "btc = btc.reindex(btc_fill_range, method='pad')\n",
    "\n",
    "# 정상적으로 1분 간격 시계열 데이터가 구성되었는지 다시 확인합니다.\n",
    "(btc.index[1:] - btc.index[:-1]).value_counts()\n"
   ]
  },
  {
   "cell_type": "markdown",
   "id": "f5796eb7",
   "metadata": {
    "papermill": {
     "duration": 0.094638,
     "end_time": "2021-12-13T09:53:34.993578",
     "exception": false,
     "start_time": "2021-12-13T09:53:34.898940",
     "status": "completed"
    },
    "tags": []
   },
   "source": [
    "### 3-2. Data visualization"
   ]
  },
  {
   "cell_type": "markdown",
   "id": "10aaba7b",
   "metadata": {
    "papermill": {
     "duration": 0.097771,
     "end_time": "2021-12-13T09:53:35.189589",
     "exception": false,
     "start_time": "2021-12-13T09:53:35.091818",
     "status": "completed"
    },
    "tags": []
   },
   "source": [
    "비트코인, 이더리움 가격 데이터의 시간 축을 동일하게 구성하는데 성공했습니다. 이번에는 이렇게 만든 데이터로 두 암호화폐의 종가를 시각화해보겠습니다."
   ]
  },
  {
   "cell_type": "code",
   "execution_count": 21,
   "id": "3d911d5a",
   "metadata": {
    "execution": {
     "iopub.execute_input": "2021-12-13T09:53:35.387113Z",
     "iopub.status.busy": "2021-12-13T09:53:35.386337Z",
     "iopub.status.idle": "2021-12-13T09:53:38.391352Z",
     "shell.execute_reply": "2021-12-13T09:53:38.390851Z",
     "shell.execute_reply.started": "2021-12-13T08:43:08.612185Z"
    },
    "papermill": {
     "duration": 3.105784,
     "end_time": "2021-12-13T09:53:38.391496",
     "exception": false,
     "start_time": "2021-12-13T09:53:35.285712",
     "status": "completed"
    },
    "tags": []
   },
   "outputs": [
    {
     "data": {
      "image/png": "[encoded data removed]",
      "text/plain": [
       "<Figure size 1080x288 with 2 Axes>"
      ]
     },
     "metadata": {
      "needs_background": "light"
     },
     "output_type": "display_data"
    }
   ],
   "source": [
    "import matplotlib.pyplot as plt\n",
    "\n",
    "# 시각화 공간을 15 x 4 크기로 만든다.\n",
    "f = plt.figure(figsize=(15,4))\n",
    "\n",
    "# 전체 시각화 공간을 1행 2열로 분할하고 그 중 1번째 공간을 변수 'ax1'에 할당하겠습니다.\n",
    "ax1 = f.add_subplot(121)\n",
    "# 공간 할당된 ax1에 비트코인 종가 그래프를 그립니다.\n",
    "plt.plot(btc['Close'], label='BTC', color='green')\n",
    "plt.legend()\n",
    "plt.xlabel('Time')\n",
    "plt.ylabel('Bitcoin')\n",
    "\n",
    "# 앞에서 전체 시각화 공간을 1행 2열로 분할했었습니다. 그 중 2번째 공간을 변수 'ax2'에 할당하겠습니다.\n",
    "ax2 = f.add_subplot(122)\n",
    "# 공간 할당된 ax2에 비트코인 종가 그래프를 그립니다.\n",
    "plt.plot(eth['Close'], label='ETH', color='blue')\n",
    "plt.legend()\n",
    "plt.xlabel('Time')\n",
    "plt.ylabel('Ethereum')\n",
    "\n",
    "# 두 그래프 사이 간격을 좁혀줍니다.\n",
    "plt.tight_layout()\n",
    "# 그래프를 출력합니다.\n",
    "plt.show()"
   ]
  },
  {
   "cell_type": "markdown",
   "id": "78894a2c",
   "metadata": {
    "papermill": {
     "duration": 0.098035,
     "end_time": "2021-12-13T09:53:38.591581",
     "exception": false,
     "start_time": "2021-12-13T09:53:38.493546",
     "status": "completed"
    },
    "tags": []
   },
   "source": [
    "두 그래프는 시계열상 차이가 꽤 있습니다. 우리는 두 그래프의 최근 상관관계를 자세히 살펴볼 것입니다.\n",
    "\n",
    "먼저, 유닉스 타임스탬프를 쉽게 다루려면 우리의 '시간 표현'을 유닉스 타임스탬프로 변환하는 방식을 배워야 합니다. 간단하게 datetime.strptime() 함수를 사용하여 문자열로 제공한 시간 표현을 파이썬의 datetime 타입으로 변환할 수 있습니다."
   ]
  },
  {
   "cell_type": "code",
   "execution_count": 22,
   "id": "4c869a5c",
   "metadata": {
    "execution": {
     "iopub.execute_input": "2021-12-13T09:53:38.792826Z",
     "iopub.status.busy": "2021-12-13T09:53:38.792052Z",
     "iopub.status.idle": "2021-12-13T09:53:38.797763Z",
     "shell.execute_reply": "2021-12-13T09:53:38.798221Z",
     "shell.execute_reply.started": "2021-12-13T08:43:11.600313Z"
    },
    "papermill": {
     "duration": 0.106931,
     "end_time": "2021-12-13T09:53:38.798392",
     "exception": false,
     "start_time": "2021-12-13T09:53:38.691461",
     "status": "completed"
    },
    "tags": []
   },
   "outputs": [
    {
     "data": {
      "text/plain": [
       "datetime.datetime(2021, 6, 1, 0, 0)"
      ]
     },
     "execution_count": 22,
     "metadata": {},
     "output_type": "execute_result"
    }
   ],
   "source": [
    "datetime.strptime('01/06/2021', \"%d/%m/%Y\")"
   ]
  },
  {
   "cell_type": "markdown",
   "id": "0f143c89",
   "metadata": {
    "papermill": {
     "duration": 0.097012,
     "end_time": "2021-12-13T09:53:38.995715",
     "exception": false,
     "start_time": "2021-12-13T09:53:38.898703",
     "status": "completed"
    },
    "tags": []
   },
   "source": [
    "이렇게 datetime 타입으로 변환해주면 깔끔하게 정리된 형태로 아래와 같이 출력할 수 있습니다."
   ]
  },
  {
   "cell_type": "code",
   "execution_count": 23,
   "id": "84c7b3bb",
   "metadata": {
    "execution": {
     "iopub.execute_input": "2021-12-13T09:53:39.197539Z",
     "iopub.status.busy": "2021-12-13T09:53:39.196494Z",
     "iopub.status.idle": "2021-12-13T09:53:39.202058Z",
     "shell.execute_reply": "2021-12-13T09:53:39.202550Z",
     "shell.execute_reply.started": "2021-12-13T08:43:11.613558Z"
    },
    "papermill": {
     "duration": 0.107805,
     "end_time": "2021-12-13T09:53:39.202768",
     "exception": false,
     "start_time": "2021-12-13T09:53:39.094963",
     "status": "completed"
    },
    "tags": []
   },
   "outputs": [
    {
     "name": "stdout",
     "output_type": "stream",
     "text": [
      "2021-06-01 00:00:00\n"
     ]
    }
   ],
   "source": [
    "print(datetime.strptime('01/06/2021', \"%d/%m/%Y\"))"
   ]
  },
  {
   "cell_type": "markdown",
   "id": "801036c4",
   "metadata": {
    "papermill": {
     "duration": 0.0968,
     "end_time": "2021-12-13T09:53:39.398316",
     "exception": false,
     "start_time": "2021-12-13T09:53:39.301516",
     "status": "completed"
    },
    "tags": []
   },
   "source": [
    "이 함수는 2번째 인자의 의미를 잘 이해하면 사용하기 쉽습니다. 자세히 보면 2번째 인자는 1번째 인자, 즉 우리가 전달한 문자열이 어떤 형태로 날짜를 표시하고 있는지 format을 정의하고 있습니다. 그러니까 format만 정확히 지정해준다면 원하는 형태로 편하게 문자열을 던져줄 수 있습니다. "
   ]
  },
  {
   "cell_type": "code",
   "execution_count": 24,
   "id": "ab000c69",
   "metadata": {
    "execution": {
     "iopub.execute_input": "2021-12-13T09:53:39.598020Z",
     "iopub.status.busy": "2021-12-13T09:53:39.597040Z",
     "iopub.status.idle": "2021-12-13T09:53:39.604545Z",
     "shell.execute_reply": "2021-12-13T09:53:39.605147Z",
     "shell.execute_reply.started": "2021-12-13T08:43:11.623697Z"
    },
    "papermill": {
     "duration": 0.110062,
     "end_time": "2021-12-13T09:53:39.605313",
     "exception": false,
     "start_time": "2021-12-13T09:53:39.495251",
     "status": "completed"
    },
    "tags": []
   },
   "outputs": [
    {
     "name": "stdout",
     "output_type": "stream",
     "text": [
      "2021-06-01 00:00:00\n",
      "2021-06-01 00:00:00\n",
      "2021-06-01 00:00:00\n"
     ]
    }
   ],
   "source": [
    "print(datetime.strptime('01..06..2021', '%d..%m..%Y'))\n",
    "print(datetime.strptime('01..//06..//2021', '%d..//%m..//%Y'))\n",
    "print(datetime.strptime('01<<06<<2021', '%d<<%m<<%Y'))"
   ]
  },
  {
   "cell_type": "markdown",
   "id": "fe2b69a3",
   "metadata": {
    "papermill": {
     "duration": 0.104305,
     "end_time": "2021-12-13T09:53:39.813131",
     "exception": false,
     "start_time": "2021-12-13T09:53:39.708826",
     "status": "completed"
    },
    "tags": []
   },
   "source": [
    "극단적으로 이상한 형태로 문자열을 넣어줘도 format 형식에 따라 잘 출력된 것을 볼 수 있습니다. format을 이해했다면 아래와 같이 일/월/연 순서를 지키지 않아도 괜찮다는 것을 알 수 있습니다."
   ]
  },
  {
   "cell_type": "code",
   "execution_count": 25,
   "id": "e592b3b4",
   "metadata": {
    "execution": {
     "iopub.execute_input": "2021-12-13T09:53:40.015877Z",
     "iopub.status.busy": "2021-12-13T09:53:40.014844Z",
     "iopub.status.idle": "2021-12-13T09:53:40.024841Z",
     "shell.execute_reply": "2021-12-13T09:53:40.023889Z",
     "shell.execute_reply.started": "2021-12-13T08:43:11.638764Z"
    },
    "papermill": {
     "duration": 0.110964,
     "end_time": "2021-12-13T09:53:40.025019",
     "exception": false,
     "start_time": "2021-12-13T09:53:39.914055",
     "status": "completed"
    },
    "tags": []
   },
   "outputs": [
    {
     "name": "stdout",
     "output_type": "stream",
     "text": [
      "2021-06-01 00:00:00\n",
      "2021-06-01 00:00:00\n",
      "2021-06-01 00:00:00\n"
     ]
    }
   ],
   "source": [
    "print(datetime.strptime('06..01..2021', '%m..%d..%Y'))\n",
    "print(datetime.strptime('2021..//06..//01', '%Y..//%m..//%d'))\n",
    "print(datetime.strptime('2021<<01<<06', '%Y<<%d<<%m'))"
   ]
  },
  {
   "cell_type": "markdown",
   "id": "f42e9167",
   "metadata": {
    "papermill": {
     "duration": 0.103652,
     "end_time": "2021-12-13T09:53:40.229723",
     "exception": false,
     "start_time": "2021-12-13T09:53:40.126071",
     "status": "completed"
    },
    "tags": []
   },
   "source": [
    "더 나아가서 datetime 타입은 timetuple() 함수를 사용할 수 있습니다. 이 함수를 사용하면 각 시간 단위를 마치 튜플처럼 나열할 수 있습니다."
   ]
  },
  {
   "cell_type": "code",
   "execution_count": 26,
   "id": "42727b6f",
   "metadata": {
    "execution": {
     "iopub.execute_input": "2021-12-13T09:53:40.435082Z",
     "iopub.status.busy": "2021-12-13T09:53:40.434211Z",
     "iopub.status.idle": "2021-12-13T09:53:40.437408Z",
     "shell.execute_reply": "2021-12-13T09:53:40.437916Z",
     "shell.execute_reply.started": "2021-12-13T08:43:11.651605Z"
    },
    "papermill": {
     "duration": 0.109432,
     "end_time": "2021-12-13T09:53:40.438085",
     "exception": false,
     "start_time": "2021-12-13T09:53:40.328653",
     "status": "completed"
    },
    "tags": []
   },
   "outputs": [
    {
     "data": {
      "text/plain": [
       "time.struct_time(tm_year=2021, tm_mon=6, tm_mday=1, tm_hour=0, tm_min=0, tm_sec=0, tm_wday=1, tm_yday=152, tm_isdst=-1)"
      ]
     },
     "execution_count": 26,
     "metadata": {},
     "output_type": "execute_result"
    }
   ],
   "source": [
    "time_sample = datetime.strptime('01/06/2021', \"%d/%m/%Y\")\n",
    "time_sample.timetuple()"
   ]
  },
  {
   "cell_type": "markdown",
   "id": "82deab61",
   "metadata": {
    "execution": {
     "iopub.execute_input": "2021-12-12T12:26:08.628617Z",
     "iopub.status.busy": "2021-12-12T12:26:08.628155Z",
     "iopub.status.idle": "2021-12-12T12:26:08.643158Z",
     "shell.execute_reply": "2021-12-12T12:26:08.642392Z",
     "shell.execute_reply.started": "2021-12-12T12:26:08.628576Z"
    },
    "papermill": {
     "duration": 0.098007,
     "end_time": "2021-12-13T09:53:40.638622",
     "exception": false,
     "start_time": "2021-12-13T09:53:40.540615",
     "status": "completed"
    },
    "tags": []
   },
   "source": [
    "마침내 이렇게 분할된 시간 정보를 time 라이브러리를 사용해 유닉스 시간으로 변경해줄 수 있습니다."
   ]
  },
  {
   "cell_type": "code",
   "execution_count": 27,
   "id": "b261865c",
   "metadata": {
    "execution": {
     "iopub.execute_input": "2021-12-13T09:53:40.840173Z",
     "iopub.status.busy": "2021-12-13T09:53:40.839120Z",
     "iopub.status.idle": "2021-12-13T09:53:40.844680Z",
     "shell.execute_reply": "2021-12-13T09:53:40.845135Z",
     "shell.execute_reply.started": "2021-12-13T08:43:11.668886Z"
    },
    "papermill": {
     "duration": 0.108211,
     "end_time": "2021-12-13T09:53:40.845310",
     "exception": false,
     "start_time": "2021-12-13T09:53:40.737099",
     "status": "completed"
    },
    "tags": []
   },
   "outputs": [
    {
     "data": {
      "text/plain": [
       "1622505600.0"
      ]
     },
     "execution_count": 27,
     "metadata": {},
     "output_type": "execute_result"
    }
   ],
   "source": [
    "import time\n",
    "\n",
    "time.mktime(time_sample.timetuple())"
   ]
  },
  {
   "cell_type": "markdown",
   "id": "c51a007b",
   "metadata": {
    "papermill": {
     "duration": 0.099188,
     "end_time": "2021-12-13T09:53:41.043690",
     "exception": false,
     "start_time": "2021-12-13T09:53:40.944502",
     "status": "completed"
    },
    "tags": []
   },
   "source": [
    "이렇게 얻은 유닉스 시간은 우리의 시계열 데이터를 구간 분할하는 데에 사용할 수 있습니다. 즉, 지금부터 우리의 입맛대로 인덱싱이 가능해졌다는 뜻입니다.\n",
    "\n",
    "2021년 6월 1일 하루간의 시계열 데이터만 추출해서 시각화해보겠습니다."
   ]
  },
  {
   "cell_type": "code",
   "execution_count": 28,
   "id": "add4127a",
   "metadata": {
    "execution": {
     "iopub.execute_input": "2021-12-13T09:53:41.243650Z",
     "iopub.status.busy": "2021-12-13T09:53:41.242559Z",
     "iopub.status.idle": "2021-12-13T09:53:41.247103Z",
     "shell.execute_reply": "2021-12-13T09:53:41.247561Z",
     "shell.execute_reply.started": "2021-12-13T08:43:11.683690Z"
    },
    "papermill": {
     "duration": 0.106257,
     "end_time": "2021-12-13T09:53:41.247773",
     "exception": false,
     "start_time": "2021-12-13T09:53:41.141516",
     "status": "completed"
    },
    "tags": []
   },
   "outputs": [],
   "source": [
    "# 문자열을 유닉스 시간으로 변환하는 코드를 람다 함수로 만들겠습니다.\n",
    "# 문자열 포멧은 %d/%m/%Y 로 지정했습니다.\n",
    "totimestamp = lambda s : np.int32(time.mktime(datetime.strptime(s, \"%d/%m/%Y\").timetuple()))"
   ]
  },
  {
   "cell_type": "code",
   "execution_count": 29,
   "id": "39494fbf",
   "metadata": {
    "execution": {
     "iopub.execute_input": "2021-12-13T09:53:41.451032Z",
     "iopub.status.busy": "2021-12-13T09:53:41.450051Z",
     "iopub.status.idle": "2021-12-13T09:53:41.454639Z",
     "shell.execute_reply": "2021-12-13T09:53:41.455126Z",
     "shell.execute_reply.started": "2021-12-13T08:43:11.694106Z"
    },
    "papermill": {
     "duration": 0.106471,
     "end_time": "2021-12-13T09:53:41.455347",
     "exception": false,
     "start_time": "2021-12-13T09:53:41.348876",
     "status": "completed"
    },
    "tags": []
   },
   "outputs": [],
   "source": [
    "btc_mini_2021 = btc.loc[totimestamp('01/06/2021'):totimestamp('01/07/2021')]\n",
    "eth_mini_2021 = eth.loc[totimestamp('01/06/2021'):totimestamp('01/07/2021')]"
   ]
  },
  {
   "cell_type": "code",
   "execution_count": 30,
   "id": "4002b1d1",
   "metadata": {
    "execution": {
     "iopub.execute_input": "2021-12-13T09:53:41.656628Z",
     "iopub.status.busy": "2021-12-13T09:53:41.655595Z",
     "iopub.status.idle": "2021-12-13T09:53:42.132310Z",
     "shell.execute_reply": "2021-12-13T09:53:42.132839Z",
     "shell.execute_reply.started": "2021-12-13T08:43:11.709135Z"
    },
    "papermill": {
     "duration": 0.579294,
     "end_time": "2021-12-13T09:53:42.133012",
     "exception": false,
     "start_time": "2021-12-13T09:53:41.553718",
     "status": "completed"
    },
    "tags": []
   },
   "outputs": [
    {
     "data": {
      "image/png": "[encoded data removed]",
      "text/plain": [
       "<Figure size 504x576 with 2 Axes>"
      ]
     },
     "metadata": {
      "needs_background": "light"
     },
     "output_type": "display_data"
    }
   ],
   "source": [
    "# 7x8 크기의 시각화 공간을 할당받습니다.\n",
    "f = plt.figure(figsize=(7,8))\n",
    "\n",
    "# 2행 1열로 시각화 공간을 나누고 그 중 1번째 공간을 ax1 변수로 제어합니다.\n",
    "ax1 = f.add_subplot(211)\n",
    "# ax1 공간에 2021년 6월 1일 비트코인 가격 차트를 그립니다.\n",
    "plt.plot(btc_mini_2021['Close'], label='btc', color='green')\n",
    "plt.legend() # label을 표시합니다\n",
    "plt.xlabel('Time')\n",
    "plt.ylabel('Bitcoin Close')\n",
    "\n",
    "# 앞에서 2행 1열로 시각화 공간을 나눴습니다. 그 중 2번째 공간을 ax2 변수로 제어합니다.\n",
    "ax2 = f.add_subplot(212)\n",
    "plt.plot(eth_mini_2021['Close'], label='eth', color='blue')\n",
    "plt.legend()\n",
    "plt.xlabel('Time')\n",
    "plt.ylabel('Ethereum Close')\n",
    "\n",
    "plt.tight_layout() # 두 그래프 사이 간격을 좁힙니다.\n",
    "plt.show()"
   ]
  },
  {
   "cell_type": "markdown",
   "id": "bda77b8c",
   "metadata": {
    "papermill": {
     "duration": 0.10327,
     "end_time": "2021-12-13T09:53:42.338151",
     "exception": false,
     "start_time": "2021-12-13T09:53:42.234881",
     "status": "completed"
    },
    "tags": []
   },
   "source": [
    "짧은 간격으로 그려보니 시각적으로 상승 하락 추세가 유사한 지점들이 보입니다. 좀 더 자세히 확인하기 위해 우리는 수익을 계산해볼 수도 있습니다."
   ]
  },
  {
   "cell_type": "markdown",
   "id": "4568cb61",
   "metadata": {
    "papermill": {
     "duration": 0.101382,
     "end_time": "2021-12-13T09:53:42.539997",
     "exception": false,
     "start_time": "2021-12-13T09:53:42.438615",
     "status": "completed"
    },
    "tags": []
   },
   "source": [
    "### 3-3. Log returns(로그 변환된 수익)"
   ]
  },
  {
   "cell_type": "markdown",
   "id": "16e23613",
   "metadata": {
    "papermill": {
     "duration": 0.106066,
     "end_time": "2021-12-13T09:53:42.746676",
     "exception": false,
     "start_time": "2021-12-13T09:53:42.640610",
     "status": "completed"
    },
    "tags": []
   },
   "source": [
    "자산에 대한 가격 변동을 분석하기 위해 우리는 가격의 차이를 계산할 수도 있습니다. 그러나 서로 다른 자산(ex 비트코인과 이더리움)은 각각 다른 가격대에서 움직이기 때문에 정확히 비교하기 어렵습니다. 우리는 `수익률`이라고도 하는 `가격의 백분율 변화`를 대신 계산하여 이 문제를 해결할 수 있습니다. 우리가 투자했을 때 백분율로 표시되는 그것입니다.\n",
    "\n",
    "일반 수익률은 금융에서 널리 사용되지만 `로그 수익률`은 시간에 따라 누적되기 때문에 시계열의 수학적 모델링에서 선호합니다. 또한 일반 수익률은 -100% 아래로 떨어질 수 없지만 로그 수익률은 그 제한이 없습니다.\n",
    "\n",
    "로그 수익을 계산하기 위해 단순히 두 개의 연속된 가격 사이 비율을 로그를 취할 수 있습니다. 첫 번째 행은 이전 값을 알 수 없으므로 빈 반환값을 가지므로 해당 데이터 포인트는 제거할 것입니다."
   ]
  },
  {
   "cell_type": "code",
   "execution_count": 31,
   "id": "240ec81e",
   "metadata": {
    "execution": {
     "iopub.execute_input": "2021-12-13T09:53:42.956159Z",
     "iopub.status.busy": "2021-12-13T09:53:42.955044Z",
     "iopub.status.idle": "2021-12-13T09:53:42.957682Z",
     "shell.execute_reply": "2021-12-13T09:53:42.957088Z",
     "shell.execute_reply.started": "2021-12-13T08:43:12.195699Z"
    },
    "papermill": {
     "duration": 0.107464,
     "end_time": "2021-12-13T09:53:42.957827",
     "exception": false,
     "start_time": "2021-12-13T09:53:42.850363",
     "status": "completed"
    },
    "tags": []
   },
   "outputs": [],
   "source": [
    "# 로그 변환 처리를 위해 함수를 만들어줍니다.\n",
    "def log_return(series, periods=1):\n",
    "    return np.log(series).diff(periods=periods)"
   ]
  },
  {
   "cell_type": "markdown",
   "id": "320e0f47",
   "metadata": {
    "papermill": {
     "duration": 0.109231,
     "end_time": "2021-12-13T09:53:43.168496",
     "exception": false,
     "start_time": "2021-12-13T09:53:43.059265",
     "status": "completed"
    },
    "tags": []
   },
   "source": [
    "다음으로 두 자산에 대한 로그 수익률을 시각화하겠습니다. 이 시각화를 통해 로그 수익률이 기존 가격 시계열 그래프에 비해 drift가 적고, white noise 에 가깝게 그려지는 것을 볼 수 있습니다. (*white noise란 자기상관성이 없는 시계열 데이터를 말하며 drift는 y절편 혹은 편향을 의미합니다. 특정 추세나 방향이 없이 잔차 `e` 만 걸러낸 형태로 볼 수도 있습니다.*)"
   ]
  },
  {
   "cell_type": "code",
   "execution_count": 32,
   "id": "3fe4b506",
   "metadata": {
    "execution": {
     "iopub.execute_input": "2021-12-13T09:53:43.378261Z",
     "iopub.status.busy": "2021-12-13T09:53:43.377236Z",
     "iopub.status.idle": "2021-12-13T09:53:44.166914Z",
     "shell.execute_reply": "2021-12-13T09:53:44.166226Z",
     "shell.execute_reply.started": "2021-12-13T08:43:12.201775Z"
    },
    "papermill": {
     "duration": 0.89558,
     "end_time": "2021-12-13T09:53:44.167057",
     "exception": false,
     "start_time": "2021-12-13T09:53:43.271477",
     "status": "completed"
    },
    "tags": []
   },
   "outputs": [],
   "source": [
    "import scipy.stats as stats\n",
    "\n",
    "# log return btc --> lret_btc 로 표현했습니다.\n",
    "# log_return 함수는 우리가 위에서 미리 만들어둔 함수로, 내부적으로 diff 함수를 사용하기 때문에 첫번째 row는 버립니다.\n",
    "# 첫번째 row(행)를 버리는 이유는 해당 데이터 포인터는 null이 들어가 있기 때문입니다.(이전 데이터가 없으므로 null이 채워짐)\n",
    "lret_btc = log_return(btc_mini_2021['Close'])[1:]\n",
    "lret_eth = log_return(eth_mini_2021['Close'])[1:]"
   ]
  },
  {
   "cell_type": "code",
   "execution_count": 33,
   "id": "ca90eb4a",
   "metadata": {
    "execution": {
     "iopub.execute_input": "2021-12-13T09:53:44.389416Z",
     "iopub.status.busy": "2021-12-13T09:53:44.388738Z",
     "iopub.status.idle": "2021-12-13T09:53:44.628345Z",
     "shell.execute_reply": "2021-12-13T09:53:44.627767Z",
     "shell.execute_reply.started": "2021-12-13T08:43:12.219800Z"
    },
    "papermill": {
     "duration": 0.360625,
     "end_time": "2021-12-13T09:53:44.628490",
     "exception": false,
     "start_time": "2021-12-13T09:53:44.267865",
     "status": "completed"
    },
    "tags": []
   },
   "outputs": [
    {
     "data": {
      "image/png": "[encoded data removed]",
      "text/plain": [
       "<Figure size 576x288 with 1 Axes>"
      ]
     },
     "metadata": {
      "needs_background": "light"
     },
     "output_type": "display_data"
    }
   ],
   "source": [
    "# lret_btc(Series 타입)의 이름은 'Close'인 상태입니다. 이름을 변경해줍니다.\n",
    "lret_btc.rename('lret_btc', inplace=True)\n",
    "# lret_eth(Series 타입)의 이름도 'Close'인 상태입니다. 이름을 변경해줍니다.\n",
    "lret_eth.rename('lret_eth', inplace=True)\n",
    "\n",
    "# 8x4 크기로 시각화 합니다.\n",
    "plt.figure(figsize=(8,4))\n",
    "# 한 공간에 2개 그래프를 겹쳐 그립니다.\n",
    "plt.plot(lret_btc)\n",
    "plt.plot(lret_eth)\n",
    "plt.show()"
   ]
  },
  {
   "cell_type": "markdown",
   "id": "2d1bca2c",
   "metadata": {
    "papermill": {
     "duration": 0.115898,
     "end_time": "2021-12-13T09:53:44.872211",
     "exception": false,
     "start_time": "2021-12-13T09:53:44.756313",
     "status": "completed"
    },
    "tags": []
   },
   "source": [
    "### 3-4. Correlation between assets"
   ]
  },
  {
   "cell_type": "markdown",
   "id": "f9fdc7e4",
   "metadata": {
    "papermill": {
     "duration": 0.108884,
     "end_time": "2021-12-13T09:53:45.088428",
     "exception": false,
     "start_time": "2021-12-13T09:53:44.979544",
     "status": "completed"
    },
    "tags": []
   },
   "source": [
    "우리는 암호화폐 자산 수익이 약간의 상관 관계를 보여준다는 가설을 세웠습니다. 지금부터 비트코인과 이더리움 간의 기간에 따른 상관관계를 시각화를 통해 확인해보겠습니다."
   ]
  },
  {
   "cell_type": "code",
   "execution_count": 34,
   "id": "99b0a240",
   "metadata": {
    "execution": {
     "iopub.execute_input": "2021-12-13T09:53:45.299413Z",
     "iopub.status.busy": "2021-12-13T09:53:45.298338Z",
     "iopub.status.idle": "2021-12-13T09:53:45.358010Z",
     "shell.execute_reply": "2021-12-13T09:53:45.358467Z",
     "shell.execute_reply.started": "2021-12-13T08:43:12.479638Z"
    },
    "papermill": {
     "duration": 0.16836,
     "end_time": "2021-12-13T09:53:45.358679",
     "exception": false,
     "start_time": "2021-12-13T09:53:45.190319",
     "status": "completed"
    },
    "tags": []
   },
   "outputs": [
    {
     "data": {
      "text/html": [
       "<div>\n",
       "<style scoped>\n",
       "    .dataframe tbody tr th:only-of-type {\n",
       "        vertical-align: middle;\n",
       "    }\n",
       "\n",
       "    .dataframe tbody tr th {\n",
       "        vertical-align: top;\n",
       "    }\n",
       "\n",
       "    .dataframe thead th {\n",
       "        text-align: right;\n",
       "    }\n",
       "</style>\n",
       "<table border=\"1\" class=\"dataframe\">\n",
       "  <thead>\n",
       "    <tr style=\"text-align: right;\">\n",
       "      <th></th>\n",
       "      <th>lret_btc</th>\n",
       "      <th>lret_eth</th>\n",
       "    </tr>\n",
       "    <tr>\n",
       "      <th>timestamp</th>\n",
       "      <th></th>\n",
       "      <th></th>\n",
       "    </tr>\n",
       "  </thead>\n",
       "  <tbody>\n",
       "    <tr>\n",
       "      <th>1514764920</th>\n",
       "      <td>-0.001595</td>\n",
       "      <td>-0.000335</td>\n",
       "    </tr>\n",
       "    <tr>\n",
       "      <th>1514764980</th>\n",
       "      <td>-0.001939</td>\n",
       "      <td>-0.001027</td>\n",
       "    </tr>\n",
       "    <tr>\n",
       "      <th>1514765040</th>\n",
       "      <td>-0.002414</td>\n",
       "      <td>-0.000543</td>\n",
       "    </tr>\n",
       "    <tr>\n",
       "      <th>1514765100</th>\n",
       "      <td>-0.003137</td>\n",
       "      <td>-0.001898</td>\n",
       "    </tr>\n",
       "    <tr>\n",
       "      <th>1514765160</th>\n",
       "      <td>-0.000569</td>\n",
       "      <td>-0.000687</td>\n",
       "    </tr>\n",
       "    <tr>\n",
       "      <th>...</th>\n",
       "      <td>...</td>\n",
       "      <td>...</td>\n",
       "    </tr>\n",
       "    <tr>\n",
       "      <th>1632182160</th>\n",
       "      <td>-0.002007</td>\n",
       "      <td>-0.003137</td>\n",
       "    </tr>\n",
       "    <tr>\n",
       "      <th>1632182220</th>\n",
       "      <td>-0.000910</td>\n",
       "      <td>-0.001305</td>\n",
       "    </tr>\n",
       "    <tr>\n",
       "      <th>1632182280</th>\n",
       "      <td>-0.000770</td>\n",
       "      <td>-0.001165</td>\n",
       "    </tr>\n",
       "    <tr>\n",
       "      <th>1632182340</th>\n",
       "      <td>0.004433</td>\n",
       "      <td>0.006670</td>\n",
       "    </tr>\n",
       "    <tr>\n",
       "      <th>1632182400</th>\n",
       "      <td>-0.000343</td>\n",
       "      <td>-0.001542</td>\n",
       "    </tr>\n",
       "  </tbody>\n",
       "</table>\n",
       "<p>1956959 rows × 2 columns</p>\n",
       "</div>"
      ],
      "text/plain": [
       "            lret_btc  lret_eth\n",
       "timestamp                     \n",
       "1514764920 -0.001595 -0.000335\n",
       "1514764980 -0.001939 -0.001027\n",
       "1514765040 -0.002414 -0.000543\n",
       "1514765100 -0.003137 -0.001898\n",
       "1514765160 -0.000569 -0.000687\n",
       "...              ...       ...\n",
       "1632182160 -0.002007 -0.003137\n",
       "1632182220 -0.000910 -0.001305\n",
       "1632182280 -0.000770 -0.001165\n",
       "1632182340  0.004433  0.006670\n",
       "1632182400 -0.000343 -0.001542\n",
       "\n",
       "[1956959 rows x 2 columns]"
      ]
     },
     "execution_count": 34,
     "metadata": {},
     "output_type": "execute_result"
    }
   ],
   "source": [
    "# 앞에서 했던 것과 같은 방식으로 로그 수익을 구해줄 것입니다.\n",
    "# 단, 이번에는 하루가 아닌 전체 기간을 처리해줍니다.\n",
    "lret_btc_long = log_return(btc['Close'])[1:]\n",
    "lret_eth_long = log_return(eth['Close'])[1:]\n",
    "\n",
    "# 시리즈 데이터 이름을 Close에서 각 데이터에 맞게 바꿔줍니다.\n",
    "lret_btc_long.rename('lret_btc', inplace=True)\n",
    "lret_eth_long.rename('lret_eth', inplace=True)\n",
    "\n",
    "# 두 데이터를 병합합니다. \n",
    "two_assets = pd.concat([lret_btc_long, lret_eth_long], axis=1)\n",
    "two_assets"
   ]
  },
  {
   "cell_type": "markdown",
   "id": "0074b089",
   "metadata": {
    "papermill": {
     "duration": 0.101955,
     "end_time": "2021-12-13T09:53:45.562845",
     "exception": false,
     "start_time": "2021-12-13T09:53:45.460890",
     "status": "completed"
    },
    "tags": []
   },
   "source": [
    "corr()함수를 사용하면 상관관계를 수치로 확인할 수 있습니다."
   ]
  },
  {
   "cell_type": "code",
   "execution_count": 35,
   "id": "715dab64",
   "metadata": {
    "execution": {
     "iopub.execute_input": "2021-12-13T09:53:45.776318Z",
     "iopub.status.busy": "2021-12-13T09:53:45.775637Z",
     "iopub.status.idle": "2021-12-13T09:53:45.834706Z",
     "shell.execute_reply": "2021-12-13T09:53:45.835238Z",
     "shell.execute_reply.started": "2021-12-13T08:43:12.542829Z"
    },
    "papermill": {
     "duration": 0.168108,
     "end_time": "2021-12-13T09:53:45.835415",
     "exception": false,
     "start_time": "2021-12-13T09:53:45.667307",
     "status": "completed"
    },
    "tags": []
   },
   "outputs": [
    {
     "data": {
      "text/html": [
       "<div>\n",
       "<style scoped>\n",
       "    .dataframe tbody tr th:only-of-type {\n",
       "        vertical-align: middle;\n",
       "    }\n",
       "\n",
       "    .dataframe tbody tr th {\n",
       "        vertical-align: top;\n",
       "    }\n",
       "\n",
       "    .dataframe thead th {\n",
       "        text-align: right;\n",
       "    }\n",
       "</style>\n",
       "<table border=\"1\" class=\"dataframe\">\n",
       "  <thead>\n",
       "    <tr style=\"text-align: right;\">\n",
       "      <th></th>\n",
       "      <th>lret_btc</th>\n",
       "      <th>lret_eth</th>\n",
       "    </tr>\n",
       "  </thead>\n",
       "  <tbody>\n",
       "    <tr>\n",
       "      <th>lret_btc</th>\n",
       "      <td>1.000000</td>\n",
       "      <td>0.568814</td>\n",
       "    </tr>\n",
       "    <tr>\n",
       "      <th>lret_eth</th>\n",
       "      <td>0.568814</td>\n",
       "      <td>1.000000</td>\n",
       "    </tr>\n",
       "  </tbody>\n",
       "</table>\n",
       "</div>"
      ],
      "text/plain": [
       "          lret_btc  lret_eth\n",
       "lret_btc  1.000000  0.568814\n",
       "lret_eth  0.568814  1.000000"
      ]
     },
     "execution_count": 35,
     "metadata": {},
     "output_type": "execute_result"
    }
   ],
   "source": [
    "two_assets.corr()"
   ]
  },
  {
   "cell_type": "markdown",
   "id": "b649e329",
   "metadata": {
    "papermill": {
     "duration": 0.105283,
     "end_time": "2021-12-13T09:53:46.047387",
     "exception": false,
     "start_time": "2021-12-13T09:53:45.942104",
     "status": "completed"
    },
    "tags": []
   },
   "source": [
    "그러나 우리는 기간에 따라 상관관계가 어떻게 변하는지 확인해보고 싶습니다. 이럴 때는 groupby()함수로 시계열 구간을 나눠준 다음 corr()함수를 사용하면 되겠습니다."
   ]
  },
  {
   "cell_type": "code",
   "execution_count": 36,
   "id": "1e6e4766",
   "metadata": {
    "execution": {
     "iopub.execute_input": "2021-12-13T09:53:46.259535Z",
     "iopub.status.busy": "2021-12-13T09:53:46.258877Z",
     "iopub.status.idle": "2021-12-13T09:53:46.496972Z",
     "shell.execute_reply": "2021-12-13T09:53:46.496396Z",
     "shell.execute_reply.started": "2021-12-13T08:43:12.604445Z"
    },
    "papermill": {
     "duration": 0.346503,
     "end_time": "2021-12-13T09:53:46.497119",
     "exception": false,
     "start_time": "2021-12-13T09:53:46.150616",
     "status": "completed"
    },
    "tags": []
   },
   "outputs": [
    {
     "data": {
      "text/html": [
       "<div>\n",
       "<style scoped>\n",
       "    .dataframe tbody tr th:only-of-type {\n",
       "        vertical-align: middle;\n",
       "    }\n",
       "\n",
       "    .dataframe tbody tr th {\n",
       "        vertical-align: top;\n",
       "    }\n",
       "\n",
       "    .dataframe thead th {\n",
       "        text-align: right;\n",
       "    }\n",
       "</style>\n",
       "<table border=\"1\" class=\"dataframe\">\n",
       "  <thead>\n",
       "    <tr style=\"text-align: right;\">\n",
       "      <th></th>\n",
       "      <th></th>\n",
       "      <th>lret_btc</th>\n",
       "      <th>lret_eth</th>\n",
       "    </tr>\n",
       "    <tr>\n",
       "      <th>timestamp</th>\n",
       "      <th></th>\n",
       "      <th></th>\n",
       "      <th></th>\n",
       "    </tr>\n",
       "  </thead>\n",
       "  <tbody>\n",
       "    <tr>\n",
       "      <th rowspan=\"2\" valign=\"top\">2524</th>\n",
       "      <th>lret_btc</th>\n",
       "      <td>1.000000</td>\n",
       "      <td>0.212106</td>\n",
       "    </tr>\n",
       "    <tr>\n",
       "      <th>lret_eth</th>\n",
       "      <td>0.212106</td>\n",
       "      <td>1.000000</td>\n",
       "    </tr>\n",
       "    <tr>\n",
       "      <th rowspan=\"2\" valign=\"top\">2525</th>\n",
       "      <th>lret_btc</th>\n",
       "      <td>1.000000</td>\n",
       "      <td>0.369729</td>\n",
       "    </tr>\n",
       "    <tr>\n",
       "      <th>lret_eth</th>\n",
       "      <td>0.369729</td>\n",
       "      <td>1.000000</td>\n",
       "    </tr>\n",
       "    <tr>\n",
       "      <th>2526</th>\n",
       "      <th>lret_btc</th>\n",
       "      <td>1.000000</td>\n",
       "      <td>0.766609</td>\n",
       "    </tr>\n",
       "    <tr>\n",
       "      <th>...</th>\n",
       "      <th>...</th>\n",
       "      <td>...</td>\n",
       "      <td>...</td>\n",
       "    </tr>\n",
       "    <tr>\n",
       "      <th>2718</th>\n",
       "      <th>lret_eth</th>\n",
       "      <td>0.893232</td>\n",
       "      <td>1.000000</td>\n",
       "    </tr>\n",
       "    <tr>\n",
       "      <th rowspan=\"2\" valign=\"top\">2719</th>\n",
       "      <th>lret_btc</th>\n",
       "      <td>1.000000</td>\n",
       "      <td>0.847503</td>\n",
       "    </tr>\n",
       "    <tr>\n",
       "      <th>lret_eth</th>\n",
       "      <td>0.847503</td>\n",
       "      <td>1.000000</td>\n",
       "    </tr>\n",
       "    <tr>\n",
       "      <th rowspan=\"2\" valign=\"top\">2720</th>\n",
       "      <th>lret_btc</th>\n",
       "      <td>1.000000</td>\n",
       "      <td>0.871091</td>\n",
       "    </tr>\n",
       "    <tr>\n",
       "      <th>lret_eth</th>\n",
       "      <td>0.871091</td>\n",
       "      <td>1.000000</td>\n",
       "    </tr>\n",
       "  </tbody>\n",
       "</table>\n",
       "<p>394 rows × 2 columns</p>\n",
       "</div>"
      ],
      "text/plain": [
       "                    lret_btc  lret_eth\n",
       "timestamp                             \n",
       "2524      lret_btc  1.000000  0.212106\n",
       "          lret_eth  0.212106  1.000000\n",
       "2525      lret_btc  1.000000  0.369729\n",
       "          lret_eth  0.369729  1.000000\n",
       "2526      lret_btc  1.000000  0.766609\n",
       "...                      ...       ...\n",
       "2718      lret_eth  0.893232  1.000000\n",
       "2719      lret_btc  1.000000  0.847503\n",
       "          lret_eth  0.847503  1.000000\n",
       "2720      lret_btc  1.000000  0.871091\n",
       "          lret_eth  0.871091  1.000000\n",
       "\n",
       "[394 rows x 2 columns]"
      ]
     },
     "execution_count": 36,
     "metadata": {},
     "output_type": "execute_result"
    }
   ],
   "source": [
    "# 타임스탬프는 60초 간격입니다. \n",
    "# 60의 배수(여기서는 600,000)로 나눈 나머지로 묶게 되면 시간순으로 구획별 상관도를 확인할 수 있습니다.\n",
    "# ex. 유닉스 시간이 60만보다 작은 1번째 구간, 60만보다 크고 120만보다 작은 2번째 구간 ...\n",
    "two_assets.groupby(two_assets.index//(60*10000)).corr()"
   ]
  },
  {
   "cell_type": "markdown",
   "id": "f10b4953",
   "metadata": {
    "papermill": {
     "duration": 0.10233,
     "end_time": "2021-12-13T09:53:46.706143",
     "exception": false,
     "start_time": "2021-12-13T09:53:46.603813",
     "status": "completed"
    },
    "tags": []
   },
   "source": [
    "그래프로 표현하기 위해서는 시간에 따른 lret_btc와 lret_eth의 상관데이터가 필요합니다. 위 표에서 상관데이터가 교차로 중복해서 표현되어 있기 때문에(btc대eth, btc대btc, eth대btc, eth대eth) 그 중 btc대eth 혹은 eth대btc 하나만 가져오면 되겠습니다. 인덱싱은 아래와 같이 할 수 있습니다."
   ]
  },
  {
   "cell_type": "code",
   "execution_count": 37,
   "id": "123ce1dc",
   "metadata": {
    "execution": {
     "iopub.execute_input": "2021-12-13T09:53:46.918808Z",
     "iopub.status.busy": "2021-12-13T09:53:46.918007Z",
     "iopub.status.idle": "2021-12-13T09:53:47.144166Z",
     "shell.execute_reply": "2021-12-13T09:53:47.144682Z",
     "shell.execute_reply.started": "2021-12-13T08:43:12.847685Z"
    },
    "papermill": {
     "duration": 0.334426,
     "end_time": "2021-12-13T09:53:47.144855",
     "exception": false,
     "start_time": "2021-12-13T09:53:46.810429",
     "status": "completed"
    },
    "tags": []
   },
   "outputs": [
    {
     "data": {
      "text/plain": [
       "timestamp\n",
       "2524    0.212106\n",
       "2525    0.369729\n",
       "2526    0.766609\n",
       "2527    0.811680\n",
       "2528    0.743049\n",
       "          ...   \n",
       "2716    0.845120\n",
       "2717    0.789271\n",
       "2718    0.893232\n",
       "2719    0.847503\n",
       "2720    0.871091\n",
       "Name: lret_btc, Length: 197, dtype: float64"
      ]
     },
     "execution_count": 37,
     "metadata": {},
     "output_type": "execute_result"
    }
   ],
   "source": [
    "# lret_btc 열을 인덱싱하면 lret_btc와 lret_btc, lret_btc와 lret_eth 데이터가 추출됩니다.\n",
    "# 그 중 lret_eth 데이터만 한번 더 인덱싱하는 코드입니다.\n",
    "two_assets.groupby(two_assets.index//(60*10000)).corr().loc[:,\"lret_btc\"].loc[:,\"lret_eth\"]"
   ]
  },
  {
   "cell_type": "markdown",
   "id": "5dc87afc",
   "metadata": {
    "papermill": {
     "duration": 0.1028,
     "end_time": "2021-12-13T09:53:47.355661",
     "exception": false,
     "start_time": "2021-12-13T09:53:47.252861",
     "status": "completed"
    },
    "tags": []
   },
   "source": [
    "이제 시간에 따른 두 자산(비트코인, 이더리움)의 상관도를 그래프로 그려보겠습니다."
   ]
  },
  {
   "cell_type": "code",
   "execution_count": 38,
   "id": "5153d55b",
   "metadata": {
    "execution": {
     "iopub.execute_input": "2021-12-13T09:53:47.570560Z",
     "iopub.status.busy": "2021-12-13T09:53:47.569880Z",
     "iopub.status.idle": "2021-12-13T09:53:47.973252Z",
     "shell.execute_reply": "2021-12-13T09:53:47.972694Z",
     "shell.execute_reply.started": "2021-12-13T08:43:13.076650Z"
    },
    "papermill": {
     "duration": 0.514097,
     "end_time": "2021-12-13T09:53:47.973392",
     "exception": false,
     "start_time": "2021-12-13T09:53:47.459295",
     "status": "completed"
    },
    "tags": []
   },
   "outputs": [
    {
     "data": {
      "image/png": "[encoded data removed]",
      "text/plain": [
       "<Figure size 432x288 with 1 Axes>"
      ]
     },
     "metadata": {
      "needs_background": "light"
     },
     "output_type": "display_data"
    }
   ],
   "source": [
    "corr_time = two_assets.groupby(two_assets.index//(10000*60)).corr().loc[:,\"lret_btc\"].loc[:,\"lret_eth\"]\n",
    "\n",
    "corr_time.plot()\n",
    "plt.xticks([])\n",
    "plt.ylabel(\"Correlation\")\n",
    "plt.title(\"Correlation between BTC and ETH over time\")\n",
    "plt.show()"
   ]
  },
  {
   "cell_type": "markdown",
   "id": "b6953c5b",
   "metadata": {
    "papermill": {
     "duration": 0.105382,
     "end_time": "2021-12-13T09:53:48.186154",
     "exception": false,
     "start_time": "2021-12-13T09:53:48.080772",
     "status": "completed"
    },
    "tags": []
   },
   "source": [
    "위 그래프에서 상관관계가 크고, 또 가변적이라는 사실에 주목할 것입니다. 시간이 지남에 따라 상관관계가 역동적으로 변화하는 모습을 보여주고 있습니다. 따라서 이 시계열 문제, 즉 \"`비정상성` 시계열 데이터에서 어떻게 예측을 수행할 것인가\"가 본 대회의 핵심이 되겠습니다.(*`정상성`은 평균, 분산 및 자기상관과 같은 시계열 속성들이 시간이 지남에 따라 변하지 않는 것을 가정합니다. 반면에, `비정상성`은 시간이 지남에 따라 통계적 속성에 지속적인 변화가 있는 경우를 말합니다. 많은 유용한 분석 도구, 통계 테스트 및 모델이 `정상성`에 의존하기 때문에 `정상성`은 시계열 분석에서 매우 중요한 요소입니다.*)\n",
    "\n",
    "이번에는 상관 행렬을 시각화하여 자산 간의 상관 관계를 확인해보겠습니다. 일부 자산 쌍에서 상관 관계가 높게 나온다면 주의 깊게 살펴볼 필요가 있습니다. 여기서는 2021년 1월 1일 ~ 2021년 1월 4일까지의 데이터만 가지고 확인합니다."
   ]
  },
  {
   "cell_type": "code",
   "execution_count": 39,
   "id": "ee47cd78",
   "metadata": {
    "execution": {
     "iopub.execute_input": "2021-12-13T09:53:48.405220Z",
     "iopub.status.busy": "2021-12-13T09:53:48.404505Z",
     "iopub.status.idle": "2021-12-13T09:53:54.946371Z",
     "shell.execute_reply": "2021-12-13T09:53:54.945626Z",
     "shell.execute_reply.started": "2021-12-13T08:43:13.474647Z"
    },
    "papermill": {
     "duration": 6.653499,
     "end_time": "2021-12-13T09:53:54.946521",
     "exception": false,
     "start_time": "2021-12-13T09:53:48.293022",
     "status": "completed"
    },
    "tags": []
   },
   "outputs": [],
   "source": [
    "# 빈 데이터프레임을 초기화합니다.\n",
    "all_assets_2021 = pd.DataFrame([])\n",
    "\n",
    "for asset_id, asset_name in zip(asset_details['Asset_ID'], asset_details['Asset_Name']):\n",
    "    # 하나의 암호화폐 정보를 timestamp를 인덱스로 하여 추출합니다.\n",
    "    asset = crypto_df.query(f\"Asset_ID=={asset_id}\").set_index(\"timestamp\")\n",
    "    \n",
    "    # 기간은 2021년 1월 1일~4일까지만 가져옵니다.\n",
    "    asset = asset.loc[totimestamp('01/01/2021'):totimestamp('01/05/2021')]\n",
    "    \n",
    "    # 60일 간격으로 데이터를 맞춰주고, 빈 값은 바로 직전 값으로 채워줍니다.\n",
    "    asset_range = range(asset.index[0], asset.index[-1]+60, 60)\n",
    "    asset = asset.reindex(asset_range, method='pad')\n",
    "    \n",
    "    # 빈 값이 있을 수 있습니다. 오류가 나지 않도록 0으로 채워주고 로그 수익률로 변환합니다.\n",
    "    # 변환 후 첫번째 값은 NaN일 것이므로 제거합니다.(diff 계산이므로)\n",
    "    lret = log_return(asset['Close'].fillna(0))[1:]\n",
    "    \n",
    "    # pandas를 사용해 outer join 방식으로 데이터를 병합합니다.(outer join은 양쪽 데이터를 누락없이 모두 표시하는 방식입니다.)\n",
    "    # 추가된 열의 컬럼명에 asset_name, 즉 암호화폐 이름을 붙여줍니다.\n",
    "    all_assets_2021 = all_assets_2021.join(lret, rsuffix=asset_name, how='outer')"
   ]
  },
  {
   "cell_type": "code",
   "execution_count": 40,
   "id": "a1ae76f2",
   "metadata": {
    "execution": {
     "iopub.execute_input": "2021-12-13T09:53:55.164716Z",
     "iopub.status.busy": "2021-12-13T09:53:55.164013Z",
     "iopub.status.idle": "2021-12-13T09:53:55.305809Z",
     "shell.execute_reply": "2021-12-13T09:53:55.306400Z",
     "shell.execute_reply.started": "2021-12-13T08:43:20.978415Z"
    },
    "papermill": {
     "duration": 0.252434,
     "end_time": "2021-12-13T09:53:55.306577",
     "exception": false,
     "start_time": "2021-12-13T09:53:55.054143",
     "status": "completed"
    },
    "tags": []
   },
   "outputs": [
    {
     "data": {
      "text/html": [
       "<div>\n",
       "<style scoped>\n",
       "    .dataframe tbody tr th:only-of-type {\n",
       "        vertical-align: middle;\n",
       "    }\n",
       "\n",
       "    .dataframe tbody tr th {\n",
       "        vertical-align: top;\n",
       "    }\n",
       "\n",
       "    .dataframe thead th {\n",
       "        text-align: right;\n",
       "    }\n",
       "</style>\n",
       "<table border=\"1\" class=\"dataframe\">\n",
       "  <thead>\n",
       "    <tr style=\"text-align: right;\">\n",
       "      <th></th>\n",
       "      <th>Close</th>\n",
       "      <th>CloseBitcoin</th>\n",
       "      <th>CloseBitcoin Cash</th>\n",
       "      <th>CloseCardano</th>\n",
       "      <th>CloseDogecoin</th>\n",
       "      <th>CloseEOS.IO</th>\n",
       "      <th>CloseEthereum</th>\n",
       "      <th>CloseEthereum Classic</th>\n",
       "      <th>CloseIOTA</th>\n",
       "      <th>CloseLitecoin</th>\n",
       "      <th>CloseMaker</th>\n",
       "      <th>CloseMonero</th>\n",
       "      <th>CloseStellar</th>\n",
       "      <th>CloseTRON</th>\n",
       "    </tr>\n",
       "  </thead>\n",
       "  <tbody>\n",
       "    <tr>\n",
       "      <th>Close</th>\n",
       "      <td>1.000000</td>\n",
       "      <td>0.552438</td>\n",
       "      <td>0.528535</td>\n",
       "      <td>0.503102</td>\n",
       "      <td>0.218515</td>\n",
       "      <td>0.520331</td>\n",
       "      <td>0.555004</td>\n",
       "      <td>0.217757</td>\n",
       "      <td>0.395007</td>\n",
       "      <td>0.550942</td>\n",
       "      <td>0.392032</td>\n",
       "      <td>0.459854</td>\n",
       "      <td>0.436564</td>\n",
       "      <td>0.443682</td>\n",
       "    </tr>\n",
       "    <tr>\n",
       "      <th>CloseBitcoin</th>\n",
       "      <td>0.552438</td>\n",
       "      <td>1.000000</td>\n",
       "      <td>0.668397</td>\n",
       "      <td>0.577373</td>\n",
       "      <td>0.295093</td>\n",
       "      <td>0.590395</td>\n",
       "      <td>0.808571</td>\n",
       "      <td>0.244929</td>\n",
       "      <td>0.439920</td>\n",
       "      <td>0.732416</td>\n",
       "      <td>0.455475</td>\n",
       "      <td>0.555275</td>\n",
       "      <td>0.517695</td>\n",
       "      <td>0.498138</td>\n",
       "    </tr>\n",
       "    <tr>\n",
       "      <th>CloseBitcoin Cash</th>\n",
       "      <td>0.528535</td>\n",
       "      <td>0.668397</td>\n",
       "      <td>1.000000</td>\n",
       "      <td>0.554523</td>\n",
       "      <td>0.264605</td>\n",
       "      <td>0.687284</td>\n",
       "      <td>0.694308</td>\n",
       "      <td>0.280523</td>\n",
       "      <td>0.430126</td>\n",
       "      <td>0.739045</td>\n",
       "      <td>0.441942</td>\n",
       "      <td>0.536247</td>\n",
       "      <td>0.513843</td>\n",
       "      <td>0.533490</td>\n",
       "    </tr>\n",
       "    <tr>\n",
       "      <th>CloseCardano</th>\n",
       "      <td>0.503102</td>\n",
       "      <td>0.577373</td>\n",
       "      <td>0.554523</td>\n",
       "      <td>1.000000</td>\n",
       "      <td>0.234248</td>\n",
       "      <td>0.536683</td>\n",
       "      <td>0.601954</td>\n",
       "      <td>0.221725</td>\n",
       "      <td>0.410619</td>\n",
       "      <td>0.584526</td>\n",
       "      <td>0.410004</td>\n",
       "      <td>0.483596</td>\n",
       "      <td>0.545413</td>\n",
       "      <td>0.464596</td>\n",
       "    </tr>\n",
       "    <tr>\n",
       "      <th>CloseDogecoin</th>\n",
       "      <td>0.218515</td>\n",
       "      <td>0.295093</td>\n",
       "      <td>0.264605</td>\n",
       "      <td>0.234248</td>\n",
       "      <td>1.000000</td>\n",
       "      <td>0.248993</td>\n",
       "      <td>0.282657</td>\n",
       "      <td>0.108567</td>\n",
       "      <td>0.179939</td>\n",
       "      <td>0.273803</td>\n",
       "      <td>0.188695</td>\n",
       "      <td>0.214233</td>\n",
       "      <td>0.211031</td>\n",
       "      <td>0.217022</td>\n",
       "    </tr>\n",
       "    <tr>\n",
       "      <th>CloseEOS.IO</th>\n",
       "      <td>0.520331</td>\n",
       "      <td>0.590395</td>\n",
       "      <td>0.687284</td>\n",
       "      <td>0.536683</td>\n",
       "      <td>0.248993</td>\n",
       "      <td>1.000000</td>\n",
       "      <td>0.619467</td>\n",
       "      <td>0.272892</td>\n",
       "      <td>0.423243</td>\n",
       "      <td>0.655300</td>\n",
       "      <td>0.415298</td>\n",
       "      <td>0.510208</td>\n",
       "      <td>0.519521</td>\n",
       "      <td>0.561618</td>\n",
       "    </tr>\n",
       "    <tr>\n",
       "      <th>CloseEthereum</th>\n",
       "      <td>0.555004</td>\n",
       "      <td>0.808571</td>\n",
       "      <td>0.694308</td>\n",
       "      <td>0.601954</td>\n",
       "      <td>0.282657</td>\n",
       "      <td>0.619467</td>\n",
       "      <td>1.000000</td>\n",
       "      <td>0.261277</td>\n",
       "      <td>0.453711</td>\n",
       "      <td>0.754474</td>\n",
       "      <td>0.493190</td>\n",
       "      <td>0.556682</td>\n",
       "      <td>0.536905</td>\n",
       "      <td>0.517412</td>\n",
       "    </tr>\n",
       "    <tr>\n",
       "      <th>CloseEthereum Classic</th>\n",
       "      <td>0.217757</td>\n",
       "      <td>0.244929</td>\n",
       "      <td>0.280523</td>\n",
       "      <td>0.221725</td>\n",
       "      <td>0.108567</td>\n",
       "      <td>0.272892</td>\n",
       "      <td>0.261277</td>\n",
       "      <td>1.000000</td>\n",
       "      <td>0.183346</td>\n",
       "      <td>0.271644</td>\n",
       "      <td>0.184502</td>\n",
       "      <td>0.220836</td>\n",
       "      <td>0.209983</td>\n",
       "      <td>0.222593</td>\n",
       "    </tr>\n",
       "    <tr>\n",
       "      <th>CloseIOTA</th>\n",
       "      <td>0.395007</td>\n",
       "      <td>0.439920</td>\n",
       "      <td>0.430126</td>\n",
       "      <td>0.410619</td>\n",
       "      <td>0.179939</td>\n",
       "      <td>0.423243</td>\n",
       "      <td>0.453711</td>\n",
       "      <td>0.183346</td>\n",
       "      <td>1.000000</td>\n",
       "      <td>0.438804</td>\n",
       "      <td>0.328212</td>\n",
       "      <td>0.382971</td>\n",
       "      <td>0.380862</td>\n",
       "      <td>0.373290</td>\n",
       "    </tr>\n",
       "    <tr>\n",
       "      <th>CloseLitecoin</th>\n",
       "      <td>0.550942</td>\n",
       "      <td>0.732416</td>\n",
       "      <td>0.739045</td>\n",
       "      <td>0.584526</td>\n",
       "      <td>0.273803</td>\n",
       "      <td>0.655300</td>\n",
       "      <td>0.754474</td>\n",
       "      <td>0.271644</td>\n",
       "      <td>0.438804</td>\n",
       "      <td>1.000000</td>\n",
       "      <td>0.452517</td>\n",
       "      <td>0.548028</td>\n",
       "      <td>0.526598</td>\n",
       "      <td>0.531681</td>\n",
       "    </tr>\n",
       "    <tr>\n",
       "      <th>CloseMaker</th>\n",
       "      <td>0.392032</td>\n",
       "      <td>0.455475</td>\n",
       "      <td>0.441942</td>\n",
       "      <td>0.410004</td>\n",
       "      <td>0.188695</td>\n",
       "      <td>0.415298</td>\n",
       "      <td>0.493190</td>\n",
       "      <td>0.184502</td>\n",
       "      <td>0.328212</td>\n",
       "      <td>0.452517</td>\n",
       "      <td>1.000000</td>\n",
       "      <td>0.396857</td>\n",
       "      <td>0.378826</td>\n",
       "      <td>0.371186</td>\n",
       "    </tr>\n",
       "    <tr>\n",
       "      <th>CloseMonero</th>\n",
       "      <td>0.459854</td>\n",
       "      <td>0.555275</td>\n",
       "      <td>0.536247</td>\n",
       "      <td>0.483596</td>\n",
       "      <td>0.214233</td>\n",
       "      <td>0.510208</td>\n",
       "      <td>0.556682</td>\n",
       "      <td>0.220836</td>\n",
       "      <td>0.382971</td>\n",
       "      <td>0.548028</td>\n",
       "      <td>0.396857</td>\n",
       "      <td>1.000000</td>\n",
       "      <td>0.443294</td>\n",
       "      <td>0.433135</td>\n",
       "    </tr>\n",
       "    <tr>\n",
       "      <th>CloseStellar</th>\n",
       "      <td>0.436564</td>\n",
       "      <td>0.517695</td>\n",
       "      <td>0.513843</td>\n",
       "      <td>0.545413</td>\n",
       "      <td>0.211031</td>\n",
       "      <td>0.519521</td>\n",
       "      <td>0.536905</td>\n",
       "      <td>0.209983</td>\n",
       "      <td>0.380862</td>\n",
       "      <td>0.526598</td>\n",
       "      <td>0.378826</td>\n",
       "      <td>0.443294</td>\n",
       "      <td>1.000000</td>\n",
       "      <td>0.432952</td>\n",
       "    </tr>\n",
       "    <tr>\n",
       "      <th>CloseTRON</th>\n",
       "      <td>0.443682</td>\n",
       "      <td>0.498138</td>\n",
       "      <td>0.533490</td>\n",
       "      <td>0.464596</td>\n",
       "      <td>0.217022</td>\n",
       "      <td>0.561618</td>\n",
       "      <td>0.517412</td>\n",
       "      <td>0.222593</td>\n",
       "      <td>0.373290</td>\n",
       "      <td>0.531681</td>\n",
       "      <td>0.371186</td>\n",
       "      <td>0.433135</td>\n",
       "      <td>0.432952</td>\n",
       "      <td>1.000000</td>\n",
       "    </tr>\n",
       "  </tbody>\n",
       "</table>\n",
       "</div>"
      ],
      "text/plain": [
       "                          Close  CloseBitcoin  CloseBitcoin Cash  \\\n",
       "Close                  1.000000      0.552438           0.528535   \n",
       "CloseBitcoin           0.552438      1.000000           0.668397   \n",
       "CloseBitcoin Cash      0.528535      0.668397           1.000000   \n",
       "CloseCardano           0.503102      0.577373           0.554523   \n",
       "CloseDogecoin          0.218515      0.295093           0.264605   \n",
       "CloseEOS.IO            0.520331      0.590395           0.687284   \n",
       "CloseEthereum          0.555004      0.808571           0.694308   \n",
       "CloseEthereum Classic  0.217757      0.244929           0.280523   \n",
       "CloseIOTA              0.395007      0.439920           0.430126   \n",
       "CloseLitecoin          0.550942      0.732416           0.739045   \n",
       "CloseMaker             0.392032      0.455475           0.441942   \n",
       "CloseMonero            0.459854      0.555275           0.536247   \n",
       "CloseStellar           0.436564      0.517695           0.513843   \n",
       "CloseTRON              0.443682      0.498138           0.533490   \n",
       "\n",
       "                       CloseCardano  CloseDogecoin  CloseEOS.IO  \\\n",
       "Close                      0.503102       0.218515     0.520331   \n",
       "CloseBitcoin               0.577373       0.295093     0.590395   \n",
       "CloseBitcoin Cash          0.554523       0.264605     0.687284   \n",
       "CloseCardano               1.000000       0.234248     0.536683   \n",
       "CloseDogecoin              0.234248       1.000000     0.248993   \n",
       "CloseEOS.IO                0.536683       0.248993     1.000000   \n",
       "CloseEthereum              0.601954       0.282657     0.619467   \n",
       "CloseEthereum Classic      0.221725       0.108567     0.272892   \n",
       "CloseIOTA                  0.410619       0.179939     0.423243   \n",
       "CloseLitecoin              0.584526       0.273803     0.655300   \n",
       "CloseMaker                 0.410004       0.188695     0.415298   \n",
       "CloseMonero                0.483596       0.214233     0.510208   \n",
       "CloseStellar               0.545413       0.211031     0.519521   \n",
       "CloseTRON                  0.464596       0.217022     0.561618   \n",
       "\n",
       "                       CloseEthereum  CloseEthereum Classic  CloseIOTA  \\\n",
       "Close                       0.555004               0.217757   0.395007   \n",
       "CloseBitcoin                0.808571               0.244929   0.439920   \n",
       "CloseBitcoin Cash           0.694308               0.280523   0.430126   \n",
       "CloseCardano                0.601954               0.221725   0.410619   \n",
       "CloseDogecoin               0.282657               0.108567   0.179939   \n",
       "CloseEOS.IO                 0.619467               0.272892   0.423243   \n",
       "CloseEthereum               1.000000               0.261277   0.453711   \n",
       "CloseEthereum Classic       0.261277               1.000000   0.183346   \n",
       "CloseIOTA                   0.453711               0.183346   1.000000   \n",
       "CloseLitecoin               0.754474               0.271644   0.438804   \n",
       "CloseMaker                  0.493190               0.184502   0.328212   \n",
       "CloseMonero                 0.556682               0.220836   0.382971   \n",
       "CloseStellar                0.536905               0.209983   0.380862   \n",
       "CloseTRON                   0.517412               0.222593   0.373290   \n",
       "\n",
       "                       CloseLitecoin  CloseMaker  CloseMonero  CloseStellar  \\\n",
       "Close                       0.550942    0.392032     0.459854      0.436564   \n",
       "CloseBitcoin                0.732416    0.455475     0.555275      0.517695   \n",
       "CloseBitcoin Cash           0.739045    0.441942     0.536247      0.513843   \n",
       "CloseCardano                0.584526    0.410004     0.483596      0.545413   \n",
       "CloseDogecoin               0.273803    0.188695     0.214233      0.211031   \n",
       "CloseEOS.IO                 0.655300    0.415298     0.510208      0.519521   \n",
       "CloseEthereum               0.754474    0.493190     0.556682      0.536905   \n",
       "CloseEthereum Classic       0.271644    0.184502     0.220836      0.209983   \n",
       "CloseIOTA                   0.438804    0.328212     0.382971      0.380862   \n",
       "CloseLitecoin               1.000000    0.452517     0.548028      0.526598   \n",
       "CloseMaker                  0.452517    1.000000     0.396857      0.378826   \n",
       "CloseMonero                 0.548028    0.396857     1.000000      0.443294   \n",
       "CloseStellar                0.526598    0.378826     0.443294      1.000000   \n",
       "CloseTRON                   0.531681    0.371186     0.433135      0.432952   \n",
       "\n",
       "                       CloseTRON  \n",
       "Close                   0.443682  \n",
       "CloseBitcoin            0.498138  \n",
       "CloseBitcoin Cash       0.533490  \n",
       "CloseCardano            0.464596  \n",
       "CloseDogecoin           0.217022  \n",
       "CloseEOS.IO             0.561618  \n",
       "CloseEthereum           0.517412  \n",
       "CloseEthereum Classic   0.222593  \n",
       "CloseIOTA               0.373290  \n",
       "CloseLitecoin           0.531681  \n",
       "CloseMaker              0.371186  \n",
       "CloseMonero             0.433135  \n",
       "CloseStellar            0.432952  \n",
       "CloseTRON               1.000000  "
      ]
     },
     "execution_count": 40,
     "metadata": {},
     "output_type": "execute_result"
    }
   ],
   "source": [
    "# 병합한 데이터를 살펴보겠습니다.\n",
    "all_assets_2021.corr()"
   ]
  },
  {
   "cell_type": "markdown",
   "id": "3c508508",
   "metadata": {
    "papermill": {
     "duration": 0.106785,
     "end_time": "2021-12-13T09:53:55.525911",
     "exception": false,
     "start_time": "2021-12-13T09:53:55.419126",
     "status": "completed"
    },
    "tags": []
   },
   "source": [
    "위에서 join 함수의 동작과 옵션을 처음 봤더라도 만들어진 표 결과를 보면 이해할 수 있습니다. rsuffix 옵션을 통해 모든 열의 기존 컬럼 명인 `Close` 뒤에 이어서 asset_name이 붙었고, 순차적으로 각 열이 반복문을 통해 생성되며 오른쪽에 연결되었습니다."
   ]
  },
  {
   "cell_type": "code",
   "execution_count": 41,
   "id": "2d995457",
   "metadata": {
    "execution": {
     "iopub.execute_input": "2021-12-13T09:53:55.776219Z",
     "iopub.status.busy": "2021-12-13T09:53:55.774279Z",
     "iopub.status.idle": "2021-12-13T09:53:56.222916Z",
     "shell.execute_reply": "2021-12-13T09:53:56.222274Z",
     "shell.execute_reply.started": "2021-12-13T08:43:21.124160Z"
    },
    "papermill": {
     "duration": 0.587196,
     "end_time": "2021-12-13T09:53:56.223057",
     "exception": false,
     "start_time": "2021-12-13T09:53:55.635861",
     "status": "completed"
    },
    "tags": []
   },
   "outputs": [
    {
     "data": {
      "image/png": "[encoded data removed]",
      "text/plain": [
       "<Figure size 432x288 with 2 Axes>"
      ]
     },
     "metadata": {
      "needs_background": "light"
     },
     "output_type": "display_data"
    }
   ],
   "source": [
    "plt.imshow(all_assets_2021.corr())\n",
    "\n",
    "# 위 표에서 asset 이름들 앞에 Close라는 단어가 모두 붙어있습니다. 표로 그릴 때는 기존의 Asset_Name만 잘 표시되게 아래와 같이 코드를 작성합니다.\n",
    "plt.yticks(asset_details['Asset_ID'].values, asset_details['Asset_Name'].values)\n",
    "\n",
    "# x축은 rotation 옵션을 주어서 글자가 겹치지 않게 90도로 틀어줍니다.\n",
    "plt.xticks(asset_details['Asset_ID'].values, asset_details['Asset_Name'].values, rotation='vertical')\n",
    "\n",
    "# 색상의 의미를 수치로 알려준 colorbar를 우측에 표시합니다.\n",
    "plt.colorbar()\n",
    "plt.show()"
   ]
  },
  {
   "cell_type": "markdown",
   "id": "667a1989",
   "metadata": {
    "papermill": {
     "duration": 0.110469,
     "end_time": "2021-12-13T09:53:56.446908",
     "exception": false,
     "start_time": "2021-12-13T09:53:56.336439",
     "status": "completed"
    },
    "tags": []
   },
   "source": [
    "본 튜토리얼에서의 통계분석은 여기까지 간단하게만 진행했습니다. 본 데이터가 `비정상성`을 띄는 점을 고려하여 자기 상관, 시계열 분해 및 정상성 테스트를 포함하여 데이터 세트를 더 잘 파악하기 위해 추가 통계 분석을 수행할 것을 권장합니다."
   ]
  },
  {
   "cell_type": "markdown",
   "id": "731f4ac6",
   "metadata": {
    "papermill": {
     "duration": 0.107079,
     "end_time": "2021-12-13T09:53:56.663505",
     "exception": false,
     "start_time": "2021-12-13T09:53:56.556426",
     "status": "completed"
    },
    "tags": []
   },
   "source": [
    "## 4. Building your prediction model(예측 모델 구현)"
   ]
  },
  {
   "cell_type": "markdown",
   "id": "07c27351",
   "metadata": {
    "papermill": {
     "duration": 0.109792,
     "end_time": "2021-12-13T09:53:56.887500",
     "exception": false,
     "start_time": "2021-12-13T09:53:56.777708",
     "status": "completed"
    },
    "tags": []
   },
   "source": [
    "### 4-1. Prediction targets and evaluation"
   ]
  },
  {
   "cell_type": "markdown",
   "id": "18c27aaa",
   "metadata": {
    "papermill": {
     "duration": 0.107186,
     "end_time": "2021-12-13T09:53:57.102567",
     "exception": false,
     "start_time": "2021-12-13T09:53:56.995381",
     "status": "completed"
    },
    "tags": []
   },
   "source": [
    "이번 예측 대회의 목표는 각각 암호화폐 자산 $a$에 대하여 가까운 미래의 가격 $P^a$에서의 수익을 예측하는 것입니다. 데이터셋의 각 행에서 보면 우리가 예측해야 하는 부분은 `Target`입니다.\n",
    "\n",
    "`Target`은 15분 단위의 로그 수익 ($R^a$)로 계산됩니다.\n",
    "\n",
    "$$R^a(t) = log (P^a(t+16)\\ /\\ P^a(t+1))$$\n",
    " \n",
    "각 암호화폐 자산 수익은 서로 상관관계가 높으며 이러한 특징은 전체 암호화폐 시장에 크게 영향을 줍니다. 따라서 여러분의 개별 자산에 대한 수익률 예측 능력을 평가하기 위해 `target`을 생성할 때 개별 자산 수익률에서 시장 신호를 제거하는 방식으로 linear residualization을 수행합니다. 더 자세히는, 만약 𝑀(𝑡)가 가중평균된 시장 수익이라면 `target`은 다음과 같이 계산됩니다.\n",
    "\n",
    "$$M(t) = \\frac{\\sum_a w^a R^a(t)}{\\sum_a w^a}  \\\\\n",
    "\\beta^a = \\frac{\\langle M \\cdot R^a \\rangle}{\\langle M^2 \\rangle} \\\\\n",
    "\\text{Target}^a(t) = R^a(t) - \\beta^a M(t)$$\n",
    "\n",
    "위 식에서 괄호  $\\langle .\\rangle$ 는 3750분 단위의 이동평균을 의미하며 평가 지표에 동일한 가중치($w^a$)를 사용했습니다.\n",
    "\n",
    "미래 가격의 누락된 값으로 인해 일부 행에서 null 값이 발생할 수 있습니다. null이 있는 행은 점수를 매기기 위해 무시될 것입니다.\n",
    "\n",
    "이번 대회에서 여러분이 제출한 예측 결과는 자산 세부 정보 파일(`asset_details.csv`)의 가중치 열(`Weight`)에 의해 주어진 가중치와 함께 가중치가 적용된 피어슨 상관 계수로 평가됩니다.\n",
    "\n",
    "본 튜토리얼에서는 문제를 조금 단순화하겠습니다. 가중치를 고려하지 않은 상관 관계를 사용하고, BTC와 ETH의 두 가지 자산만 고려합니다."
   ]
  },
  {
   "cell_type": "markdown",
   "id": "07586abf",
   "metadata": {
    "papermill": {
     "duration": 0.109148,
     "end_time": "2021-12-13T09:53:57.323062",
     "exception": false,
     "start_time": "2021-12-13T09:53:57.213914",
     "status": "completed"
    },
    "tags": []
   },
   "source": [
    "### 4-2. Feature design"
   ]
  },
  {
   "cell_type": "markdown",
   "id": "febe3074",
   "metadata": {
    "execution": {
     "iopub.execute_input": "2021-12-13T04:04:54.022098Z",
     "iopub.status.busy": "2021-12-13T04:04:54.018076Z",
     "iopub.status.idle": "2021-12-13T04:04:54.038888Z",
     "shell.execute_reply": "2021-12-13T04:04:54.037064Z",
     "shell.execute_reply.started": "2021-12-13T04:04:54.021932Z"
    },
    "papermill": {
     "duration": 0.107795,
     "end_time": "2021-12-13T09:53:57.541795",
     "exception": false,
     "start_time": "2021-12-13T09:53:57.434000",
     "status": "completed"
    },
    "tags": []
   },
   "source": [
    "먼저 모델에 입력할 몇 가지 관련 Feature들을 설계하겠습니다."
   ]
  },
  {
   "cell_type": "code",
   "execution_count": 42,
   "id": "86a3b8d0",
   "metadata": {
    "execution": {
     "iopub.execute_input": "2021-12-13T09:53:57.767869Z",
     "iopub.status.busy": "2021-12-13T09:53:57.767138Z",
     "iopub.status.idle": "2021-12-13T09:53:58.006533Z",
     "shell.execute_reply": "2021-12-13T09:53:58.005926Z",
     "shell.execute_reply.started": "2021-12-13T08:43:21.798886Z"
    },
    "papermill": {
     "duration": 0.356062,
     "end_time": "2021-12-13T09:53:58.006696",
     "exception": false,
     "start_time": "2021-12-13T09:53:57.650634",
     "status": "completed"
    },
    "tags": []
   },
   "outputs": [],
   "source": [
    "# 거래데이터로부터 모델에 넣어줄 입력 피처들을 선정합니다.\n",
    "# 입력 피처는 4개입니다 : 5분 단위 로그 수익률, 1분 단위 로그 수익률의 절대값, 캔들 윗꼬리와 아랫꼬리\n",
    "\n",
    "# 먼저 윗꼬리, 아랫꼬리 피처를 생성해줄 함수를 만들겠습니다.\n",
    "# 윗꼬리는 고가에서 몸통 윗부분까지입니다. 따라서 시가와 종가 중 큰 값과 고가를 비교해주면 됩니다.\n",
    "upper_shadow = lambda asset: asset['High'] - np.maximum(asset['Close'], asset['Open'])\n",
    "# 아랫꼬리는 몸통 아랫부분부터 저가까지입니다. 따라서 시가와 종가 중 낮은 값과 저가를 비교해주면 됩니다.\n",
    "lower_shadow = lambda asset: np.minimum(asset['Close'], asset['Open']) - asset['Low']\n",
    "\n",
    "# 비트코인 : 선정한 4개 입력 피처를 데이터프레임으로 묶어줍니다.\n",
    "X_btc = pd.concat([\n",
    "    log_return(btc['VWAP'], periods=5),\n",
    "    log_return(btc['VWAP'], periods=1).abs(),\n",
    "    upper_shadow(btc),\n",
    "    lower_shadow(btc)\n",
    "], axis=1)\n",
    "\n",
    "# 이더리움 : 동일합니다.\n",
    "X_eth = pd.concat([\n",
    "    log_return(eth['VWAP'], periods=5),\n",
    "    log_return(eth['VWAP'], periods=1).abs(),\n",
    "    upper_shadow(eth),\n",
    "    lower_shadow(eth)\n",
    "], axis=1)\n",
    "\n",
    "# 마지막으로 비트코인과 이더리움 각각에 대해 예측할 y값을 변수에 담아주겠습니다.\n",
    "y_btc = btc['Target']\n",
    "y_eth = eth['Target']"
   ]
  },
  {
   "cell_type": "markdown",
   "id": "c146025f",
   "metadata": {
    "papermill": {
     "duration": 0.113813,
     "end_time": "2021-12-13T09:53:58.232260",
     "exception": false,
     "start_time": "2021-12-13T09:53:58.118447",
     "status": "completed"
    },
    "tags": []
   },
   "source": [
    "위 코드를 실행하면 아래와 같이 데이터셋이 구성됩니다."
   ]
  },
  {
   "cell_type": "code",
   "execution_count": 43,
   "id": "dadc8ab9",
   "metadata": {
    "execution": {
     "iopub.execute_input": "2021-12-13T09:53:58.466406Z",
     "iopub.status.busy": "2021-12-13T09:53:58.465498Z",
     "iopub.status.idle": "2021-12-13T09:53:58.468651Z",
     "shell.execute_reply": "2021-12-13T09:53:58.469135Z",
     "shell.execute_reply.started": "2021-12-13T08:43:22.069033Z"
    },
    "papermill": {
     "duration": 0.126169,
     "end_time": "2021-12-13T09:53:58.469305",
     "exception": false,
     "start_time": "2021-12-13T09:53:58.343136",
     "status": "completed"
    },
    "tags": []
   },
   "outputs": [
    {
     "data": {
      "text/html": [
       "<div>\n",
       "<style scoped>\n",
       "    .dataframe tbody tr th:only-of-type {\n",
       "        vertical-align: middle;\n",
       "    }\n",
       "\n",
       "    .dataframe tbody tr th {\n",
       "        vertical-align: top;\n",
       "    }\n",
       "\n",
       "    .dataframe thead th {\n",
       "        text-align: right;\n",
       "    }\n",
       "</style>\n",
       "<table border=\"1\" class=\"dataframe\">\n",
       "  <thead>\n",
       "    <tr style=\"text-align: right;\">\n",
       "      <th></th>\n",
       "      <th>VWAP</th>\n",
       "      <th>VWAP</th>\n",
       "      <th>0</th>\n",
       "      <th>1</th>\n",
       "    </tr>\n",
       "    <tr>\n",
       "      <th>timestamp</th>\n",
       "      <th></th>\n",
       "      <th></th>\n",
       "      <th></th>\n",
       "      <th></th>\n",
       "    </tr>\n",
       "  </thead>\n",
       "  <tbody>\n",
       "    <tr>\n",
       "      <th>1514764860</th>\n",
       "      <td>NaN</td>\n",
       "      <td>NaN</td>\n",
       "      <td>163.624000</td>\n",
       "      <td>169.084000</td>\n",
       "    </tr>\n",
       "    <tr>\n",
       "      <th>1514764920</th>\n",
       "      <td>NaN</td>\n",
       "      <td>0.000961</td>\n",
       "      <td>217.264000</td>\n",
       "      <td>148.102000</td>\n",
       "    </tr>\n",
       "    <tr>\n",
       "      <th>1514764980</th>\n",
       "      <td>NaN</td>\n",
       "      <td>0.002481</td>\n",
       "      <td>176.500000</td>\n",
       "      <td>200.314000</td>\n",
       "    </tr>\n",
       "    <tr>\n",
       "      <th>1514765040</th>\n",
       "      <td>NaN</td>\n",
       "      <td>0.001629</td>\n",
       "      <td>196.488000</td>\n",
       "      <td>191.760000</td>\n",
       "    </tr>\n",
       "    <tr>\n",
       "      <th>1514765100</th>\n",
       "      <td>NaN</td>\n",
       "      <td>0.003489</td>\n",
       "      <td>189.900000</td>\n",
       "      <td>170.474000</td>\n",
       "    </tr>\n",
       "    <tr>\n",
       "      <th>...</th>\n",
       "      <td>...</td>\n",
       "      <td>...</td>\n",
       "      <td>...</td>\n",
       "      <td>...</td>\n",
       "    </tr>\n",
       "    <tr>\n",
       "      <th>1632182160</th>\n",
       "      <td>0.000074</td>\n",
       "      <td>0.001123</td>\n",
       "      <td>18.070849</td>\n",
       "      <td>20.752857</td>\n",
       "    </tr>\n",
       "    <tr>\n",
       "      <th>1632182220</th>\n",
       "      <td>-0.001954</td>\n",
       "      <td>0.001303</td>\n",
       "      <td>27.802857</td>\n",
       "      <td>19.845714</td>\n",
       "    </tr>\n",
       "    <tr>\n",
       "      <th>1632182280</th>\n",
       "      <td>-0.002773</td>\n",
       "      <td>0.000828</td>\n",
       "      <td>28.114286</td>\n",
       "      <td>29.820000</td>\n",
       "    </tr>\n",
       "    <tr>\n",
       "      <th>1632182340</th>\n",
       "      <td>-0.001061</td>\n",
       "      <td>0.002137</td>\n",
       "      <td>24.882857</td>\n",
       "      <td>20.912802</td>\n",
       "    </tr>\n",
       "    <tr>\n",
       "      <th>1632182400</th>\n",
       "      <td>0.000643</td>\n",
       "      <td>0.001760</td>\n",
       "      <td>38.548750</td>\n",
       "      <td>40.865000</td>\n",
       "    </tr>\n",
       "  </tbody>\n",
       "</table>\n",
       "<p>1956960 rows × 4 columns</p>\n",
       "</div>"
      ],
      "text/plain": [
       "                VWAP      VWAP           0           1\n",
       "timestamp                                             \n",
       "1514764860       NaN       NaN  163.624000  169.084000\n",
       "1514764920       NaN  0.000961  217.264000  148.102000\n",
       "1514764980       NaN  0.002481  176.500000  200.314000\n",
       "1514765040       NaN  0.001629  196.488000  191.760000\n",
       "1514765100       NaN  0.003489  189.900000  170.474000\n",
       "...              ...       ...         ...         ...\n",
       "1632182160  0.000074  0.001123   18.070849   20.752857\n",
       "1632182220 -0.001954  0.001303   27.802857   19.845714\n",
       "1632182280 -0.002773  0.000828   28.114286   29.820000\n",
       "1632182340 -0.001061  0.002137   24.882857   20.912802\n",
       "1632182400  0.000643  0.001760   38.548750   40.865000\n",
       "\n",
       "[1956960 rows x 4 columns]"
      ]
     },
     "execution_count": 43,
     "metadata": {},
     "output_type": "execute_result"
    }
   ],
   "source": [
    "X_btc"
   ]
  },
  {
   "cell_type": "code",
   "execution_count": 44,
   "id": "c14d0897",
   "metadata": {
    "execution": {
     "iopub.execute_input": "2021-12-13T09:53:58.696500Z",
     "iopub.status.busy": "2021-12-13T09:53:58.695453Z",
     "iopub.status.idle": "2021-12-13T09:53:58.700104Z",
     "shell.execute_reply": "2021-12-13T09:53:58.699301Z",
     "shell.execute_reply.started": "2021-12-13T08:43:22.092781Z"
    },
    "papermill": {
     "duration": 0.121398,
     "end_time": "2021-12-13T09:53:58.700270",
     "exception": false,
     "start_time": "2021-12-13T09:53:58.578872",
     "status": "completed"
    },
    "tags": []
   },
   "outputs": [
    {
     "data": {
      "text/plain": [
       "timestamp\n",
       "1514764860   -0.014643\n",
       "1514764920   -0.015037\n",
       "1514764980   -0.010309\n",
       "1514765040   -0.008999\n",
       "1514765100   -0.008079\n",
       "                ...   \n",
       "1632182160         NaN\n",
       "1632182220         NaN\n",
       "1632182280         NaN\n",
       "1632182340         NaN\n",
       "1632182400         NaN\n",
       "Name: Target, Length: 1956960, dtype: float64"
      ]
     },
     "execution_count": 44,
     "metadata": {},
     "output_type": "execute_result"
    }
   ],
   "source": [
    "y_btc"
   ]
  },
  {
   "cell_type": "markdown",
   "id": "e4a53606",
   "metadata": {
    "papermill": {
     "duration": 0.111774,
     "end_time": "2021-12-13T09:53:58.927138",
     "exception": false,
     "start_time": "2021-12-13T09:53:58.815364",
     "status": "completed"
    },
    "tags": []
   },
   "source": [
    "비트코인의 경우, 우리는 X_btc 데이터로 y_btc를 예측하게 됩니다. 이더리움도 마찬가지입니다."
   ]
  },
  {
   "cell_type": "markdown",
   "id": "b08d27b0",
   "metadata": {
    "papermill": {
     "duration": 0.110876,
     "end_time": "2021-12-13T09:53:59.151405",
     "exception": false,
     "start_time": "2021-12-13T09:53:59.040529",
     "status": "completed"
    },
    "tags": []
   },
   "source": [
    "## 4-3. Preparing the data for building predictive models"
   ]
  },
  {
   "cell_type": "markdown",
   "id": "1af0d6ff",
   "metadata": {
    "papermill": {
     "duration": 0.10851,
     "end_time": "2021-12-13T09:53:59.372026",
     "exception": false,
     "start_time": "2021-12-13T09:53:59.263516",
     "status": "completed"
    },
    "tags": []
   },
   "source": [
    "우리는 지도학습 방식의 선형 회귀 모델을 학습시킬 것이므로 우선 학습 데이터와 평가 데이터를 나눠줘야합니다. X와 y의 크기를 고려해 두 개의 데이터셋으로 분리해보겠습니다."
   ]
  },
  {
   "cell_type": "code",
   "execution_count": 45,
   "id": "77463a8c",
   "metadata": {
    "execution": {
     "iopub.execute_input": "2021-12-13T09:53:59.600742Z",
     "iopub.status.busy": "2021-12-13T09:53:59.599655Z",
     "iopub.status.idle": "2021-12-13T09:53:59.609687Z",
     "shell.execute_reply": "2021-12-13T09:53:59.610237Z",
     "shell.execute_reply.started": "2021-12-13T08:43:22.106478Z"
    },
    "papermill": {
     "duration": 0.128911,
     "end_time": "2021-12-13T09:53:59.610575",
     "exception": false,
     "start_time": "2021-12-13T09:53:59.481664",
     "status": "completed"
    },
    "tags": []
   },
   "outputs": [],
   "source": [
    "# 먼저 분리할 지점, 즉 시간 범위를 지정해줍니다.\n",
    "# 여기서는 50:50으로 나눠줍니다. 학습데이터는 5월, 평가데이터는 6월로 지정합니다.\n",
    "train_window = [totimestamp(\"01/05/2021\"), totimestamp(\"30/05/2021\")]\n",
    "test_window = [totimestamp(\"01/06/2021\"), totimestamp(\"30/06/2021\")]\n",
    "\n",
    "# 이제 지정한 시간 범위대로 비트코인, 이더리움 각각 학습/평가 데이터를 생성해줍니다.\n",
    "# 단, 여기서 우리의 목표는 아주 단순한 회귀 모델을 만드는 것이므로 window size는 1로 합니다.\n",
    "# (시계열 데이터에 window size는 매우 중요합니다. window size란 몇 개의 연결된 x 데이터(행)로 y값을 예측할 것인가에 대한 정보입니다.)\n",
    "X_btc_train = X_btc.loc[train_window[0]:train_window[1]].fillna(0).to_numpy() # 빈 값은 0으로 채워주고 numpy 배열로 변환해줍니다.\n",
    "y_btc_train = y_btc.loc[train_window[0]:train_window[1]].fillna(0).to_numpy()\n",
    "\n",
    "X_eth_train = X_eth.loc[train_window[0]:train_window[1]].fillna(0).to_numpy()\n",
    "y_eth_train = y_eth.loc[train_window[0]:train_window[1]].fillna(0).to_numpy()\n",
    "\n",
    "X_btc_test = X_btc.loc[test_window[0]:test_window[1]].fillna(0).to_numpy()\n",
    "y_btc_test = y_btc.loc[test_window[0]:test_window[1]].fillna(0).to_numpy()\n",
    "\n",
    "X_eth_test = X_eth.loc[test_window[0]:test_window[1]].fillna(0).to_numpy()\n",
    "y_eth_test = y_eth.loc[test_window[0]:test_window[1]].fillna(0).to_numpy()"
   ]
  },
  {
   "cell_type": "markdown",
   "id": "84170e25",
   "metadata": {
    "papermill": {
     "duration": 0.109468,
     "end_time": "2021-12-13T09:53:59.828989",
     "exception": false,
     "start_time": "2021-12-13T09:53:59.719521",
     "status": "completed"
    },
    "tags": []
   },
   "source": [
    "넘파이 배열로 변환했기 때문에 데이터를 출력해보면 이제 데이터프레임 형태는 볼 수 없습니다. 모델에 입력값으로 전달할 준비가 된 것입니다."
   ]
  },
  {
   "cell_type": "code",
   "execution_count": 46,
   "id": "0b164e39",
   "metadata": {
    "execution": {
     "iopub.execute_input": "2021-12-13T09:54:00.053285Z",
     "iopub.status.busy": "2021-12-13T09:54:00.052239Z",
     "iopub.status.idle": "2021-12-13T09:54:00.058616Z",
     "shell.execute_reply": "2021-12-13T09:54:00.059127Z",
     "shell.execute_reply.started": "2021-12-13T08:43:22.124486Z"
    },
    "papermill": {
     "duration": 0.121067,
     "end_time": "2021-12-13T09:54:00.059296",
     "exception": false,
     "start_time": "2021-12-13T09:53:59.938229",
     "status": "completed"
    },
    "tags": []
   },
   "outputs": [
    {
     "data": {
      "text/plain": [
       "array([[-1.25829487e-03,  0.00000000e+00,  9.64191300e+01,\n",
       "         1.02667143e+02],\n",
       "       [-4.69126682e-03,  3.86464440e-03,  7.44908399e+01,\n",
       "         2.16827143e+02],\n",
       "       [-1.98087404e-03,  2.79785749e-03,  7.03285714e+01,\n",
       "         1.02646857e+02],\n",
       "       ...,\n",
       "       [ 1.96121367e-03,  7.95635864e-04,  4.34575000e+01,\n",
       "         3.92462591e+01],\n",
       "       [ 1.36687096e-03,  5.34966848e-05,  3.18833144e+01,\n",
       "         5.60314286e+01],\n",
       "       [ 3.36943458e-04,  2.35015523e-04,  3.40014286e+01,\n",
       "         7.35428571e+01]])"
      ]
     },
     "execution_count": 46,
     "metadata": {},
     "output_type": "execute_result"
    }
   ],
   "source": [
    "X_btc_train"
   ]
  },
  {
   "cell_type": "markdown",
   "id": "8b66ad03",
   "metadata": {
    "papermill": {
     "duration": 0.110622,
     "end_time": "2021-12-13T09:54:00.284015",
     "exception": false,
     "start_time": "2021-12-13T09:54:00.173393",
     "status": "completed"
    },
    "tags": []
   },
   "source": [
    "데이터 크기도 살펴보겠습니다. 입력 피처는 4개, 예측할 타겟은 1개이며 50:50으로 잘 분리되었습니다."
   ]
  },
  {
   "cell_type": "code",
   "execution_count": 47,
   "id": "209ff0b4",
   "metadata": {
    "execution": {
     "iopub.execute_input": "2021-12-13T09:54:00.513218Z",
     "iopub.status.busy": "2021-12-13T09:54:00.512353Z",
     "iopub.status.idle": "2021-12-13T09:54:00.516044Z",
     "shell.execute_reply": "2021-12-13T09:54:00.516536Z",
     "shell.execute_reply.started": "2021-12-13T08:43:22.138967Z"
    },
    "papermill": {
     "duration": 0.122845,
     "end_time": "2021-12-13T09:54:00.516736",
     "exception": false,
     "start_time": "2021-12-13T09:54:00.393891",
     "status": "completed"
    },
    "tags": []
   },
   "outputs": [
    {
     "name": "stdout",
     "output_type": "stream",
     "text": [
      "(41761, 4) (41761, 4)\n",
      "(41761, 4) (41761, 4)\n",
      "(41761,) (41761,)\n",
      "(41761,) (41761,)\n"
     ]
    }
   ],
   "source": [
    "print(X_btc_train.shape, X_btc_test.shape)\n",
    "print(X_eth_train.shape, X_eth_test.shape)\n",
    "\n",
    "print(y_btc_train.shape, y_btc_test.shape)\n",
    "print(y_eth_train.shape, y_eth_test.shape)"
   ]
  },
  {
   "cell_type": "markdown",
   "id": "562d6bda",
   "metadata": {
    "papermill": {
     "duration": 0.112157,
     "end_time": "2021-12-13T09:54:00.741023",
     "exception": false,
     "start_time": "2021-12-13T09:54:00.628866",
     "status": "completed"
    },
    "tags": []
   },
   "source": [
    "이제 입력 데이터를 표준화(Standardization)할 것입니다. \n",
    "\n",
    "표준화는 데이터 스케일링 방식 중 하나로 동일한 척도(scale)에 서로 다른 변수를 함께 배치하기 위해 사용합니다. 회귀 분석에서는 독립 변수를 표준화하는 것이 매우 중요합니다. 표준화(혹은 정규화 방식을 사용할 수도 있습니다.)를 수행하지 않고 모델을 학습시킨다면 제대로된 결과가 나오지 않거나 잘못된 결과를 얻을 수 있습니다."
   ]
  },
  {
   "cell_type": "code",
   "execution_count": 48,
   "id": "2c81ab1b",
   "metadata": {
    "execution": {
     "iopub.execute_input": "2021-12-13T09:54:00.969086Z",
     "iopub.status.busy": "2021-12-13T09:54:00.968006Z",
     "iopub.status.idle": "2021-12-13T09:54:01.107086Z",
     "shell.execute_reply": "2021-12-13T09:54:01.106356Z",
     "shell.execute_reply.started": "2021-12-13T08:43:22.154759Z"
    },
    "papermill": {
     "duration": 0.254178,
     "end_time": "2021-12-13T09:54:01.107250",
     "exception": false,
     "start_time": "2021-12-13T09:54:00.853072",
     "status": "completed"
    },
    "tags": []
   },
   "outputs": [],
   "source": [
    "from sklearn.preprocessing import StandardScaler\n",
    "\n",
    "# 스케일링 인스턴스를 생성합니다.\n",
    "scaler = StandardScaler()\n",
    "\n",
    "# train 데이터에는 fit, trainsform 과정을 모두 수행해주고, test 데이터에는 transform만 적용합니다.\n",
    "# - fit은 스케일링을 위해 평균, 데이터 범위 등을 찾는 과정입니다.\n",
    "# - transform은 fit으로 찾은 통계정보를 가지고 실제 스케일링(정규화)을 수행하는 부분입니다.\n",
    "# - 만약, test 데이터에 fit을 적용하게 되면 이전에 train 데이터에서 찾은 통계정보가 test 데이터 기준으로 리셋되버립니다.\n",
    "X_btc_train_scaled = scaler.fit_transform(X_btc_train)\n",
    "X_btc_test_scaled = scaler.transform(X_btc_test)\n",
    "\n",
    "X_eth_train_scaled = scaler.fit_transform(X_eth_train)\n",
    "X_eth_test_scaled = scaler.transform(X_eth_train)"
   ]
  },
  {
   "cell_type": "markdown",
   "id": "ee993336",
   "metadata": {
    "papermill": {
     "duration": 0.110888,
     "end_time": "2021-12-13T09:54:01.327693",
     "exception": false,
     "start_time": "2021-12-13T09:54:01.216805",
     "status": "completed"
    },
    "tags": []
   },
   "source": [
    "### 4-4. Baseline model: Linear Regression(선형 회귀)"
   ]
  },
  {
   "cell_type": "markdown",
   "id": "071685be",
   "metadata": {
    "papermill": {
     "duration": 0.109682,
     "end_time": "2021-12-13T09:54:01.548941",
     "exception": false,
     "start_time": "2021-12-13T09:54:01.439259",
     "status": "completed"
    },
    "tags": []
   },
   "source": [
    "우리는 앞서 설계한 피처들로 선형 회귀 모형을 만들어볼 것입니다. 그 전에 염두해야 할 것은 일반적으로 선형 회귀 모형이 시계열 분석에는 잘 활용되지 않는다는 점입니다. 회귀 모형은 주로 특정 시점에서 관측된 자료, 즉 횡단면 자료 분석을 위해 활용됩니다. 여기서는 튜토리얼 목적이므로 가장 단순한 회귀 모형을 사용합니다.\n",
    "\n",
    "두 개의 선형 회귀 모형을 비교해볼 것입니다. 하나는 각 자산을 독립적으로 학습하는 모형, 다른 하나는 모든 자산을 동시에 모델링하는 다중 입력 모형입니다."
   ]
  },
  {
   "cell_type": "code",
   "execution_count": 49,
   "id": "f74c1b17",
   "metadata": {
    "execution": {
     "iopub.execute_input": "2021-12-13T09:54:01.776225Z",
     "iopub.status.busy": "2021-12-13T09:54:01.775335Z",
     "iopub.status.idle": "2021-12-13T09:54:02.058680Z",
     "shell.execute_reply": "2021-12-13T09:54:02.060255Z",
     "shell.execute_reply.started": "2021-12-13T08:43:22.178611Z"
    },
    "papermill": {
     "duration": 0.400535,
     "end_time": "2021-12-13T09:54:02.060568",
     "exception": false,
     "start_time": "2021-12-13T09:54:01.660033",
     "status": "completed"
    },
    "tags": []
   },
   "outputs": [
    {
     "name": "stdout",
     "output_type": "stream",
     "text": [
      "[ 3.99725659e-05 -3.55222618e-04 -4.20519813e-04 ...  2.54616439e-05\n",
      "  5.43563589e-06 -3.09767883e-05]\n"
     ]
    }
   ],
   "source": [
    "from sklearn.linear_model import LinearRegression\n",
    "\n",
    "# 먼저, 하나의 자산만 예측하는 모형입니다.\n",
    "# 비트코인, 이더리움 각각에 대해 예측 모형을 만들어보겠습니다.\n",
    "\n",
    "# 1. 회귀 모형 인스턴스를 생성합니다.\n",
    "lr = LinearRegression()\n",
    "# 2. X(입력)과 y(출력)을 쌍으로 학습시킵니다.(지도학습)\n",
    "lr.fit(X_btc_train_scaled, y_btc_train)\n",
    "# 3. 학습시킨 회귀 모형으로 새로운 데이터(test셋)를 받아 예측합니다.\n",
    "y_pred_lr_btc = lr.predict(X_btc_test_scaled)\n",
    "\n",
    "# 예측 결과를 출력해보겠습니다.\n",
    "print(y_pred_lr_btc)"
   ]
  },
  {
   "cell_type": "code",
   "execution_count": 50,
   "id": "3aa00ed9",
   "metadata": {
    "execution": {
     "iopub.execute_input": "2021-12-13T09:54:02.339255Z",
     "iopub.status.busy": "2021-12-13T09:54:02.338548Z",
     "iopub.status.idle": "2021-12-13T09:54:02.348374Z",
     "shell.execute_reply": "2021-12-13T09:54:02.349430Z",
     "shell.execute_reply.started": "2021-12-13T08:44:14.714820Z"
    },
    "papermill": {
     "duration": 0.126372,
     "end_time": "2021-12-13T09:54:02.349732",
     "exception": false,
     "start_time": "2021-12-13T09:54:02.223360",
     "status": "completed"
    },
    "tags": []
   },
   "outputs": [
    {
     "name": "stdout",
     "output_type": "stream",
     "text": [
      "[6.93201503e-05 5.12309687e-07 2.48939606e-05 ... 6.59544220e-05\n",
      " 2.48855722e-05 2.74144832e-05]\n"
     ]
    }
   ],
   "source": [
    "# 동일하게 이더리움 수익 예측도 진행합니다.\n",
    "\n",
    "lr.fit(X_eth_train_scaled, y_eth_train)\n",
    "y_pred_lr_eth = lr.predict(X_eth_test_scaled)\n",
    "\n",
    "# 예측 결과를 출력해보겠습니다.\n",
    "print(y_pred_lr_eth)"
   ]
  },
  {
   "cell_type": "markdown",
   "id": "cd1edd85",
   "metadata": {
    "papermill": {
     "duration": 0.109901,
     "end_time": "2021-12-13T09:54:02.623458",
     "exception": false,
     "start_time": "2021-12-13T09:54:02.513557",
     "status": "completed"
    },
    "tags": []
   },
   "source": [
    "이렇게 예측한 결과는 실제값, 즉 y_btc_test, y_eth_test와 비교해서 모델 정확도를 평가하게 됩니다. 우선 평가 전에 비트코인, 이더리움 수익을 동시에 예측하는 `Multi Output Regressor`도 만들겠습니다.\n",
    "\n",
    "이 모델을 학습시키기 위해서는 데이터셋을 합치는 작업이 필요합니다."
   ]
  },
  {
   "cell_type": "code",
   "execution_count": 51,
   "id": "53bd6046",
   "metadata": {
    "execution": {
     "iopub.execute_input": "2021-12-13T09:54:02.849409Z",
     "iopub.status.busy": "2021-12-13T09:54:02.848760Z",
     "iopub.status.idle": "2021-12-13T09:54:02.851916Z",
     "shell.execute_reply": "2021-12-13T09:54:02.852450Z",
     "shell.execute_reply.started": "2021-12-13T09:03:27.186880Z"
    },
    "papermill": {
     "duration": 0.118508,
     "end_time": "2021-12-13T09:54:02.852635",
     "exception": false,
     "start_time": "2021-12-13T09:54:02.734127",
     "status": "completed"
    },
    "tags": []
   },
   "outputs": [
    {
     "name": "stdout",
     "output_type": "stream",
     "text": [
      "(41761, 4) (41761, 4)\n"
     ]
    }
   ],
   "source": [
    "# 기존에 비트코인, 이더리움 각각에 대한 피처 구성\n",
    "print(X_btc_train_scaled.shape, X_eth_train_scaled.shape)"
   ]
  },
  {
   "cell_type": "markdown",
   "id": "ce48ddde",
   "metadata": {
    "papermill": {
     "duration": 0.110838,
     "end_time": "2021-12-13T09:54:03.074615",
     "exception": false,
     "start_time": "2021-12-13T09:54:02.963777",
     "status": "completed"
    },
    "tags": []
   },
   "source": [
    "비트코인, 이더리움 두 자산은 각각 4개의 피처에 대해 41761개 정보를 가지고 있습니다. 가로 방향으로 두 데이터를 병합하여 8개 피처를 가진 통합 데이터 X를 구성하겠습니다."
   ]
  },
  {
   "cell_type": "code",
   "execution_count": 52,
   "id": "39d42f16",
   "metadata": {
    "execution": {
     "iopub.execute_input": "2021-12-13T09:54:03.298802Z",
     "iopub.status.busy": "2021-12-13T09:54:03.298129Z",
     "iopub.status.idle": "2021-12-13T09:54:03.304332Z",
     "shell.execute_reply": "2021-12-13T09:54:03.304923Z",
     "shell.execute_reply.started": "2021-12-13T09:02:45.766652Z"
    },
    "papermill": {
     "duration": 0.119983,
     "end_time": "2021-12-13T09:54:03.305111",
     "exception": false,
     "start_time": "2021-12-13T09:54:03.185128",
     "status": "completed"
    },
    "tags": []
   },
   "outputs": [
    {
     "data": {
      "text/plain": [
       "(41761, 8)"
      ]
     },
     "execution_count": 52,
     "metadata": {},
     "output_type": "execute_result"
    }
   ],
   "source": [
    "np.concatenate((X_btc_train_scaled, X_eth_train_scaled), axis=1).shape"
   ]
  },
  {
   "cell_type": "markdown",
   "id": "3ff94a72",
   "metadata": {
    "papermill": {
     "duration": 0.111064,
     "end_time": "2021-12-13T09:54:03.528881",
     "exception": false,
     "start_time": "2021-12-13T09:54:03.417817",
     "status": "completed"
    },
    "tags": []
   },
   "source": [
    "다음으로, y값 역시 2개 output으로 구성해줘야합니다. 단, y값은 데이터프레임이 아닌 1차원 배열이기 때문에 `axis=1` 옵션을 적용할 수 없습니다. 아래 두 데이터(X, y)의 구성을 보면 X와 달리 y는 행, 열이 없다는 것을 알 수 있습니다. 따라서 axis, 즉 축이 존재하지 않습니다."
   ]
  },
  {
   "cell_type": "code",
   "execution_count": 53,
   "id": "cbfbfa7e",
   "metadata": {
    "execution": {
     "iopub.execute_input": "2021-12-13T09:54:03.756162Z",
     "iopub.status.busy": "2021-12-13T09:54:03.755423Z",
     "iopub.status.idle": "2021-12-13T09:54:03.761382Z",
     "shell.execute_reply": "2021-12-13T09:54:03.760873Z",
     "shell.execute_reply.started": "2021-12-13T09:05:49.193293Z"
    },
    "papermill": {
     "duration": 0.119398,
     "end_time": "2021-12-13T09:54:03.761525",
     "exception": false,
     "start_time": "2021-12-13T09:54:03.642127",
     "status": "completed"
    },
    "tags": []
   },
   "outputs": [
    {
     "data": {
      "text/plain": [
       "array([[-0.26709947, -0.77390908,  0.20138837,  0.39365161],\n",
       "       [-1.03323927,  2.06432564, -0.01678808,  1.69933346],\n",
       "       [-0.42835819,  1.28086633, -0.05820074,  0.3934196 ],\n",
       "       ...,\n",
       "       [ 0.4514015 , -0.18958589, -0.3255556 , -0.33171188],\n",
       "       [ 0.31876144, -0.73462056, -0.44071345, -0.13973491],\n",
       "       [ 0.08891148, -0.60131126, -0.41963918,  0.0605485 ]])"
      ]
     },
     "execution_count": 53,
     "metadata": {},
     "output_type": "execute_result"
    }
   ],
   "source": [
    "X_btc_train_scaled"
   ]
  },
  {
   "cell_type": "code",
   "execution_count": 54,
   "id": "6c667d0b",
   "metadata": {
    "execution": {
     "iopub.execute_input": "2021-12-13T09:54:03.997535Z",
     "iopub.status.busy": "2021-12-13T09:54:03.996862Z",
     "iopub.status.idle": "2021-12-13T09:54:04.001708Z",
     "shell.execute_reply": "2021-12-13T09:54:04.002309Z",
     "shell.execute_reply.started": "2021-12-13T09:05:43.691161Z"
    },
    "papermill": {
     "duration": 0.120016,
     "end_time": "2021-12-13T09:54:04.002480",
     "exception": false,
     "start_time": "2021-12-13T09:54:03.882464",
     "status": "completed"
    },
    "tags": []
   },
   "outputs": [
    {
     "data": {
      "text/plain": [
       "array([0.00306574, 0.00415549, 0.00444132, ..., 0.00194192, 0.002041  ,\n",
       "       0.00101983])"
      ]
     },
     "execution_count": 54,
     "metadata": {},
     "output_type": "execute_result"
    }
   ],
   "source": [
    "y_btc_train"
   ]
  },
  {
   "cell_type": "markdown",
   "id": "8ef76ef7",
   "metadata": {
    "papermill": {
     "duration": 0.110779,
     "end_time": "2021-12-13T09:54:04.227126",
     "exception": false,
     "start_time": "2021-12-13T09:54:04.116347",
     "status": "completed"
    },
    "tags": []
   },
   "source": [
    "그렇기 때문에 여기서는 데이터 병합을 위해 다른 방식을 사용합니다. numpy의 column_stack 함수는 2개 넘파이 배열을 마치 컬럼 2개를 가로로 이어붙인 것처럼 데이터셋을 재구성해줍니다."
   ]
  },
  {
   "cell_type": "code",
   "execution_count": 55,
   "id": "5c674e5a",
   "metadata": {
    "execution": {
     "iopub.execute_input": "2021-12-13T09:54:04.456466Z",
     "iopub.status.busy": "2021-12-13T09:54:04.455799Z",
     "iopub.status.idle": "2021-12-13T09:54:04.461153Z",
     "shell.execute_reply": "2021-12-13T09:54:04.461707Z",
     "shell.execute_reply.started": "2021-12-13T09:10:10.837541Z"
    },
    "papermill": {
     "duration": 0.120331,
     "end_time": "2021-12-13T09:54:04.461876",
     "exception": false,
     "start_time": "2021-12-13T09:54:04.341545",
     "status": "completed"
    },
    "tags": []
   },
   "outputs": [
    {
     "data": {
      "text/plain": [
       "array([[ 0.00306574, -0.0025832 ],\n",
       "       [ 0.00415549, -0.00108809],\n",
       "       [ 0.00444132, -0.00196447],\n",
       "       ...,\n",
       "       [ 0.00194192,  0.0019096 ],\n",
       "       [ 0.002041  ,  0.00018122],\n",
       "       [ 0.00101983,  0.00073888]])"
      ]
     },
     "execution_count": 55,
     "metadata": {},
     "output_type": "execute_result"
    }
   ],
   "source": [
    "np.column_stack((y_btc_train, y_eth_train))"
   ]
  },
  {
   "cell_type": "code",
   "execution_count": 56,
   "id": "161f9331",
   "metadata": {
    "execution": {
     "iopub.execute_input": "2021-12-13T09:54:04.696877Z",
     "iopub.status.busy": "2021-12-13T09:54:04.696033Z",
     "iopub.status.idle": "2021-12-13T09:54:04.699742Z",
     "shell.execute_reply": "2021-12-13T09:54:04.700255Z",
     "shell.execute_reply.started": "2021-12-13T09:10:45.116089Z"
    },
    "papermill": {
     "duration": 0.125758,
     "end_time": "2021-12-13T09:54:04.700427",
     "exception": false,
     "start_time": "2021-12-13T09:54:04.574669",
     "status": "completed"
    },
    "tags": []
   },
   "outputs": [
    {
     "name": "stdout",
     "output_type": "stream",
     "text": [
      "(41761,)\n",
      "(41761,)\n",
      "(41761, 2)\n"
     ]
    }
   ],
   "source": [
    "print(y_btc_train.shape)\n",
    "print(y_eth_train.shape)\n",
    "print(np.column_stack((y_btc_train, y_eth_train)).shape)"
   ]
  },
  {
   "cell_type": "markdown",
   "id": "18e345d7",
   "metadata": {
    "papermill": {
     "duration": 0.113859,
     "end_time": "2021-12-13T09:54:04.926392",
     "exception": false,
     "start_time": "2021-12-13T09:54:04.812533",
     "status": "completed"
    },
    "tags": []
   },
   "source": [
    "위 방식을 사용해 본격적으로 데이터셋을 구성하고 `MultiOutputRegressor`를 학습시키겠습니다."
   ]
  },
  {
   "cell_type": "code",
   "execution_count": 57,
   "id": "38bdad37",
   "metadata": {
    "execution": {
     "iopub.execute_input": "2021-12-13T09:54:05.163014Z",
     "iopub.status.busy": "2021-12-13T09:54:05.162319Z",
     "iopub.status.idle": "2021-12-13T09:54:05.192676Z",
     "shell.execute_reply": "2021-12-13T09:54:05.193546Z",
     "shell.execute_reply.started": "2021-12-13T09:18:56.176215Z"
    },
    "papermill": {
     "duration": 0.150026,
     "end_time": "2021-12-13T09:54:05.193878",
     "exception": false,
     "start_time": "2021-12-13T09:54:05.043852",
     "status": "completed"
    },
    "tags": []
   },
   "outputs": [],
   "source": [
    "from sklearn.multioutput import MultiOutputRegressor\n",
    "\n",
    "# 2차원 행렬 병합 방식입니다. axis=1은 컬럼 기준(가로) 병합을 의미합니다. 기본값은 열(세로) 병합입니다.\n",
    "X_both_train = np.concatenate((X_btc_train_scaled, X_eth_train_scaled), axis=1)\n",
    "X_both_test = np.concatenate((X_btc_test_scaled, X_eth_test_scaled), axis=1)\n",
    "\n",
    "# 1차원 벡터 병합 방식입니다. axis 옵션 없이 기본값으로 컬럼 기준 병합을 수행합니다.\n",
    "y_both_train = np.column_stack((y_btc_train, y_eth_train))\n",
    "y_both_test = np.column_stack((y_btc_test, y_eth_test))\n",
    "\n",
    "# MultiOutputRegressor는 내부적으로 어떤 회귀모형을 사용할 것인지 입력받습니다.\n",
    "# 여기서는 선형회귀를 사용합니다.\n",
    "mlr = MultiOutputRegressor(LinearRegression())\n",
    "mlr.fit(X_both_train, y_both_train)\n",
    "y_pred_mlr_both = mlr.predict(X_both_test)"
   ]
  },
  {
   "cell_type": "code",
   "execution_count": 58,
   "id": "66afc296",
   "metadata": {
    "execution": {
     "iopub.execute_input": "2021-12-13T09:54:05.482624Z",
     "iopub.status.busy": "2021-12-13T09:54:05.481961Z",
     "iopub.status.idle": "2021-12-13T09:54:05.485751Z",
     "shell.execute_reply": "2021-12-13T09:54:05.485215Z",
     "shell.execute_reply.started": "2021-12-13T09:18:57.143592Z"
    },
    "papermill": {
     "duration": 0.124555,
     "end_time": "2021-12-13T09:54:05.485895",
     "exception": false,
     "start_time": "2021-12-13T09:54:05.361340",
     "status": "completed"
    },
    "tags": []
   },
   "outputs": [
    {
     "data": {
      "text/plain": [
       "array([[-5.65032954e-05, -2.49664839e-05],\n",
       "       [-3.82119184e-04, -9.30576399e-05],\n",
       "       [-2.35028274e-04,  2.89037115e-04],\n",
       "       ...,\n",
       "       [-5.33463746e-05,  1.27324212e-04],\n",
       "       [-2.31585278e-04,  1.34103503e-04],\n",
       "       [-2.03453917e-04,  2.39642853e-04]])"
      ]
     },
     "execution_count": 58,
     "metadata": {},
     "output_type": "execute_result"
    }
   ],
   "source": [
    "y_pred_mlr_both"
   ]
  },
  {
   "cell_type": "code",
   "execution_count": 59,
   "id": "94b8c35a",
   "metadata": {
    "execution": {
     "iopub.execute_input": "2021-12-13T09:54:05.717566Z",
     "iopub.status.busy": "2021-12-13T09:54:05.716911Z",
     "iopub.status.idle": "2021-12-13T09:54:05.721628Z",
     "shell.execute_reply": "2021-12-13T09:54:05.722338Z",
     "shell.execute_reply.started": "2021-12-13T09:18:59.861437Z"
    },
    "papermill": {
     "duration": 0.122649,
     "end_time": "2021-12-13T09:54:05.722561",
     "exception": false,
     "start_time": "2021-12-13T09:54:05.599912",
     "status": "completed"
    },
    "tags": []
   },
   "outputs": [
    {
     "name": "stdout",
     "output_type": "stream",
     "text": [
      "(41761, 2)\n"
     ]
    }
   ],
   "source": [
    "print(y_pred_mlr_both.shape)"
   ]
  },
  {
   "cell_type": "markdown",
   "id": "946f4139",
   "metadata": {
    "papermill": {
     "duration": 0.115939,
     "end_time": "2021-12-13T09:54:05.955507",
     "exception": false,
     "start_time": "2021-12-13T09:54:05.839568",
     "status": "completed"
    },
    "tags": []
   },
   "source": [
    "2개 자산(비트코인, 이더리움) 예측을 동시에 수행한 것을 볼 수 있습니다."
   ]
  },
  {
   "cell_type": "markdown",
   "id": "04b8ff97",
   "metadata": {
    "execution": {
     "iopub.execute_input": "2021-12-13T09:16:42.157264Z",
     "iopub.status.busy": "2021-12-13T09:16:42.156959Z",
     "iopub.status.idle": "2021-12-13T09:16:42.165058Z",
     "shell.execute_reply": "2021-12-13T09:16:42.163802Z",
     "shell.execute_reply.started": "2021-12-13T09:16:42.157233Z"
    },
    "papermill": {
     "duration": 0.113169,
     "end_time": "2021-12-13T09:54:06.183417",
     "exception": false,
     "start_time": "2021-12-13T09:54:06.070248",
     "status": "completed"
    },
    "tags": []
   },
   "source": [
    "### 4-5. Evaluation baselines(모델 평가)"
   ]
  },
  {
   "cell_type": "markdown",
   "id": "310a0534",
   "metadata": {
    "execution": {
     "iopub.execute_input": "2021-12-13T08:56:54.061500Z",
     "iopub.status.busy": "2021-12-13T08:56:54.061228Z",
     "iopub.status.idle": "2021-12-13T08:56:54.068590Z",
     "shell.execute_reply": "2021-12-13T08:56:54.067995Z",
     "shell.execute_reply.started": "2021-12-13T08:56:54.061472Z"
    },
    "papermill": {
     "duration": 0.117975,
     "end_time": "2021-12-13T09:54:06.417164",
     "exception": false,
     "start_time": "2021-12-13T09:54:06.299189",
     "status": "completed"
    },
    "tags": []
   },
   "source": [
    "실제 대회에서는 가중 상관도를 평가지표로 사용하지만 여기서는 상관관계만으로 성능을 확인해볼 것입니다. \n",
    "\n",
    "회귀분석에서 상관관계는 피어슨 상관계수로 간단히 확인할 수 있습니다. numpy의 corrcoef()함수를 통해 비트코인 수익 예측 회귀선의 상관계수를 출력해보겠습니다."
   ]
  },
  {
   "cell_type": "code",
   "execution_count": 60,
   "id": "d2b815ae",
   "metadata": {
    "execution": {
     "iopub.execute_input": "2021-12-13T09:54:06.654294Z",
     "iopub.status.busy": "2021-12-13T09:54:06.653458Z",
     "iopub.status.idle": "2021-12-13T09:54:06.661673Z",
     "shell.execute_reply": "2021-12-13T09:54:06.662183Z",
     "shell.execute_reply.started": "2021-12-13T09:24:50.280520Z"
    },
    "papermill": {
     "duration": 0.132066,
     "end_time": "2021-12-13T09:54:06.662387",
     "exception": false,
     "start_time": "2021-12-13T09:54:06.530321",
     "status": "completed"
    },
    "tags": []
   },
   "outputs": [
    {
     "data": {
      "text/plain": [
       "array([[ 1.        , -0.00983528],\n",
       "       [-0.00983528,  1.        ]])"
      ]
     },
     "execution_count": 60,
     "metadata": {},
     "output_type": "execute_result"
    }
   ],
   "source": [
    "np.corrcoef(y_pred_lr_btc, y_btc_test)"
   ]
  },
  {
   "cell_type": "markdown",
   "id": "90999694",
   "metadata": {
    "execution": {
     "iopub.execute_input": "2021-12-13T09:26:53.900234Z",
     "iopub.status.busy": "2021-12-13T09:26:53.899935Z",
     "iopub.status.idle": "2021-12-13T09:26:53.905641Z",
     "shell.execute_reply": "2021-12-13T09:26:53.904754Z",
     "shell.execute_reply.started": "2021-12-13T09:26:53.900204Z"
    },
    "papermill": {
     "duration": 0.114161,
     "end_time": "2021-12-13T09:54:06.923936",
     "exception": false,
     "start_time": "2021-12-13T09:54:06.809775",
     "status": "completed"
    },
    "tags": []
   },
   "source": [
    "피어슨 상관계수는 -1에서 1 사이의 값으로 표현되며, 1에 가까울 수록 상관관계가 높다는 것을 의미합니다. 위 행렬에서 (0,0)은 예측값과 예측값의 상관계수, (1,1)은 실제값과 실제값의 상관계수입니다. 예측한 비트코인 수익과 실제 수익의 상관계수는 (1,0) 혹은 (0,1)에서 확인할 수 있고 그 값이 높지 않다는 것을 알 수 있습니다.\n",
    "\n",
    "이제, 이 방식을 사용해 두 모델(단일예측, 다중예측) 모두 평가해보겠습니다."
   ]
  },
  {
   "cell_type": "code",
   "execution_count": 61,
   "id": "a4b2f634",
   "metadata": {
    "execution": {
     "iopub.execute_input": "2021-12-13T09:54:07.170531Z",
     "iopub.status.busy": "2021-12-13T09:54:07.169856Z",
     "iopub.status.idle": "2021-12-13T09:54:07.177263Z",
     "shell.execute_reply": "2021-12-13T09:54:07.178239Z",
     "shell.execute_reply.started": "2021-12-13T09:33:11.550990Z"
    },
    "papermill": {
     "duration": 0.131615,
     "end_time": "2021-12-13T09:54:07.178587",
     "exception": false,
     "start_time": "2021-12-13T09:54:07.046972",
     "status": "completed"
    },
    "tags": []
   },
   "outputs": [
    {
     "name": "stdout",
     "output_type": "stream",
     "text": [
      "Test score for LR baseline: BTC -0.010 , ETH 0.002\n",
      "Test score for multiple output LR baseline: BTC -0.011 , ETH 0.010\n"
     ]
    }
   ],
   "source": [
    "print('Test score for LR baseline: BTC', f\"{np.corrcoef(y_pred_lr_btc, y_btc_test)[0,1]:.3f}\", \n",
    "                                ', ETH', f\"{np.corrcoef(y_pred_lr_eth, y_eth_test)[0,1]:.3f}\")\n",
    "print('Test score for multiple output LR baseline: BTC', f\"{np.corrcoef(y_pred_mlr_both[:,0], y_btc_test)[0,1]:.3f}\", \n",
    "                                                ', ETH', f\"{np.corrcoef(y_pred_mlr_both[:,1], y_eth_test)[0,1]:.3f}\")"
   ]
  },
  {
   "cell_type": "markdown",
   "id": "bc731f4b",
   "metadata": {
    "papermill": {
     "duration": 0.119554,
     "end_time": "2021-12-13T09:54:07.418825",
     "exception": false,
     "start_time": "2021-12-13T09:54:07.299271",
     "status": "completed"
    },
    "tags": []
   },
   "source": [
    "사실, 비정상성을 띄는 시계열이기도 하고 학습이나 평가 지표를 세팅하는 데에 크게 노력을 기울이지 않았기 때문에 두 모델의 성능에 큰 차이가 있어보이지는 않습니다. 그럼에도 불구하고 이더리움 수익 예측에서 조금 더 나은 성능을 보여줬기 때문에 모델을 만든다면 여러 자산을 한번에 예측하는 것이 더 효과적이겠습니다."
   ]
  },
  {
   "cell_type": "markdown",
   "id": "e32f2324",
   "metadata": {
    "papermill": {
     "duration": 0.121587,
     "end_time": "2021-12-13T09:54:07.654216",
     "exception": false,
     "start_time": "2021-12-13T09:54:07.532629",
     "status": "completed"
    },
    "tags": []
   },
   "source": [
    "### 4-6. Submission(제출)"
   ]
  },
  {
   "cell_type": "markdown",
   "id": "696d23e0",
   "metadata": {
    "papermill": {
     "duration": 0.115662,
     "end_time": "2021-12-13T09:54:07.887561",
     "exception": false,
     "start_time": "2021-12-13T09:54:07.771899",
     "status": "completed"
    },
    "tags": []
   },
   "source": [
    "본 대회는 Code Competition입니다. 따라서 참가자는 작성한 notebook을 제출해야 하며 제출할 Notebook은 제공된 파이썬 시계열 API를 사용해야합니다. API 및 제출 관련해서는 아래 문서를 참고해주세요.\n",
    "- [Code Competition Detailed API instructions](https://www.kaggle.com/sohier/detailed-api-introduction)\n",
    "- [Basic Submission Template](https://www.kaggle.com/sohier/basic-submission-template)"
   ]
  }
 ],
 "metadata": {
  "kernelspec": {
   "display_name": "Python 3",
   "language": "python",
   "name": "python3"
  },
  "language_info": {
   "codemirror_mode": {
    "name": "ipython",
    "version": 3
   },
   "file_extension": ".py",
   "mimetype": "text/x-python",
   "name": "python",
   "nbconvert_exporter": "python",
   "pygments_lexer": "ipython3",
   "version": "3.7.12"
  },
  "papermill": {
   "default_parameters": {},
   "duration": 120.928078,
   "end_time": "2021-12-13T09:54:08.719388",
   "environment_variables": {},
   "exception": null,
   "input_path": "__notebook__.ipynb",
   "output_path": "__notebook__.ipynb",
   "parameters": {},
   "start_time": "2021-12-13T09:52:07.791310",
   "version": "2.3.3"
  }
 },
 "nbformat": 4,
 "nbformat_minor": 5
}
